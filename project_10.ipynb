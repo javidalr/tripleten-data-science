{
 "cells": [
  {
   "cell_type": "markdown",
   "metadata": {},
   "source": [
    "Hola **Javier**!\n",
    "\n",
    "Soy **Patricio Requena** 👋. Es un placer ser el revisor de tu proyecto el día de hoy!\n",
    "\n",
    "Revisaré tu proyecto detenidamente con el objetivo de ayudarte a mejorar y perfeccionar tus habilidades. Durante mi revisión, identificaré áreas donde puedas hacer mejoras en tu código, señalando específicamente qué y cómo podrías ajustar para optimizar el rendimiento y la claridad de tu proyecto. Además, es importante para mí destacar los aspectos que has manejado excepcionalmente bien. Reconocer tus fortalezas te ayudará a entender qué técnicas y métodos están funcionando a tu favor y cómo puedes aplicarlos en futuras tareas. \n",
    "\n",
    "_**Recuerda que al final de este notebook encontrarás un comentario general de mi parte**_, empecemos!\n",
    "\n",
    "Encontrarás mis comentarios dentro de cajas verdes, amarillas o rojas, ⚠️ **por favor, no muevas, modifiques o borres mis comentarios** ⚠️:\n",
    "\n",
    "\n",
    "<div class=\"alert alert-block alert-success\">\n",
    "<b>Comentario del revisor</b> <a class=“tocSkip”></a>\n",
    "Si todo está perfecto.\n",
    "</div>\n",
    "\n",
    "<div class=\"alert alert-block alert-warning\">\n",
    "<b>Comentario del revisor</b> <a class=“tocSkip”></a>\n",
    "Si tu código está bien pero se puede mejorar o hay algún detalle que le hace falta.\n",
    "</div>\n",
    "\n",
    "<div class=\"alert alert-block alert-danger\">\n",
    "<b>Comentario del revisor</b> <a class=“tocSkip”></a>\n",
    "Si de pronto hace falta algo o existe algún problema con tu código o conclusiones.\n",
    "</div>\n",
    "\n",
    "Puedes responderme de esta forma:\n",
    "<div class=\"alert alert-block alert-info\">\n",
    "<b>Respuesta del estudiante</b> <a class=“tocSkip”></a>\n",
    "</div>"
   ]
  },
  {
   "cell_type": "markdown",
   "metadata": {},
   "source": [
    "<h1><center><strong><u>OilyGiant: Modelo de mejores ubicaciones de nuevos pozos de petroleo</u></strong></center></h1>"
   ]
  },
  {
   "cell_type": "markdown",
   "metadata": {
    "toc": true
   },
   "source": [
    "<h1>Table of Contents<span class=\"tocSkip\"></span></h1>\n",
    "<div class=\"toc\"><ul class=\"toc-item\"><li><span><a href=\"#Descripcion-del-Proyecto\" data-toc-modified-id=\"Descripcion-del-Proyecto-1\"><span class=\"toc-item-num\">1&nbsp;&nbsp;</span><strong>Descripcion del Proyecto</strong></a></span><ul class=\"toc-item\"><li><span><a href=\"#Problema-de-Negocio\" data-toc-modified-id=\"Problema-de-Negocio-1.1\"><span class=\"toc-item-num\">1.1&nbsp;&nbsp;</span>Problema de Negocio</a></span></li><li><span><a href=\"#Objetivos\" data-toc-modified-id=\"Objetivos-1.2\"><span class=\"toc-item-num\">1.2&nbsp;&nbsp;</span>Objetivos</a></span></li><li><span><a href=\"#Propuesta-del-proyecto\" data-toc-modified-id=\"Propuesta-del-proyecto-1.3\"><span class=\"toc-item-num\">1.3&nbsp;&nbsp;</span>Propuesta del proyecto</a></span></li></ul></li><li><span><a href=\"#Informacion-preliminar\" data-toc-modified-id=\"Informacion-preliminar-2\"><span class=\"toc-item-num\">2&nbsp;&nbsp;</span>Informacion preliminar</a></span><ul class=\"toc-item\"><li><span><a href=\"#Descripcion-de-los-datos\" data-toc-modified-id=\"Descripcion-de-los-datos-2.1\"><span class=\"toc-item-num\">2.1&nbsp;&nbsp;</span>Descripcion de los datos</a></span></li><li><span><a href=\"#Ambiente-y-librerias\" data-toc-modified-id=\"Ambiente-y-librerias-2.2\"><span class=\"toc-item-num\">2.2&nbsp;&nbsp;</span>Ambiente y librerias</a></span></li><li><span><a href=\"#Carga-y-lectura-de-datos\" data-toc-modified-id=\"Carga-y-lectura-de-datos-2.3\"><span class=\"toc-item-num\">2.3&nbsp;&nbsp;</span>Carga y lectura de datos</a></span></li><li><span><a href=\"#Inspeccion-de-carga-de-datos\" data-toc-modified-id=\"Inspeccion-de-carga-de-datos-2.4\"><span class=\"toc-item-num\">2.4&nbsp;&nbsp;</span>Inspeccion de carga de datos</a></span></li><li><span><a href=\"#Resumen-general-de-los-datasets\" data-toc-modified-id=\"Resumen-general-de-los-datasets-2.5\"><span class=\"toc-item-num\">2.5&nbsp;&nbsp;</span>Resumen general de los datasets</a></span></li><li><span><a href=\"#Descripcion-estadistica-de-los-datasets\" data-toc-modified-id=\"Descripcion-estadistica-de-los-datasets-2.6\"><span class=\"toc-item-num\">2.6&nbsp;&nbsp;</span>Descripcion estadistica de los datasets</a></span></li></ul></li><li><span><a href=\"#Procesamiento-de-datos\" data-toc-modified-id=\"Procesamiento-de-datos-3\"><span class=\"toc-item-num\">3&nbsp;&nbsp;</span>Procesamiento de datos</a></span><ul class=\"toc-item\"><li><span><a href=\"#Valores-ausentes\" data-toc-modified-id=\"Valores-ausentes-3.1\"><span class=\"toc-item-num\">3.1&nbsp;&nbsp;</span>Valores ausentes</a></span></li><li><span><a href=\"#Valores-duplicados\" data-toc-modified-id=\"Valores-duplicados-3.2\"><span class=\"toc-item-num\">3.2&nbsp;&nbsp;</span>Valores duplicados</a></span></li><li><span><a href=\"#Eliminacion-de-variables-irrelevantes\" data-toc-modified-id=\"Eliminacion-de-variables-irrelevantes-3.3\"><span class=\"toc-item-num\">3.3&nbsp;&nbsp;</span>Eliminacion de variables irrelevantes</a></span></li></ul></li><li><span><a href=\"#Analisis-Exploratorio-de-datos\" data-toc-modified-id=\"Analisis-Exploratorio-de-datos-4\"><span class=\"toc-item-num\">4&nbsp;&nbsp;</span>Analisis Exploratorio de datos</a></span><ul class=\"toc-item\"><li><span><a href=\"#Distribucion-de-las-variables-(features)\" data-toc-modified-id=\"Distribucion-de-las-variables-(features)-4.1\"><span class=\"toc-item-num\">4.1&nbsp;&nbsp;</span>Distribucion de las variables (features)</a></span></li><li><span><a href=\"#Distribucion-de-la-variable-objetivo-(target)\" data-toc-modified-id=\"Distribucion-de-la-variable-objetivo-(target)-4.2\"><span class=\"toc-item-num\">4.2&nbsp;&nbsp;</span>Distribucion de la variable objetivo (target)</a></span></li><li><span><a href=\"#Matriz-de-Correlaciones\" data-toc-modified-id=\"Matriz-de-Correlaciones-4.3\"><span class=\"toc-item-num\">4.3&nbsp;&nbsp;</span>Matriz de Correlaciones</a></span></li></ul></li><li><span><a href=\"#Particion-de-los-datos\" data-toc-modified-id=\"Particion-de-los-datos-5\"><span class=\"toc-item-num\">5&nbsp;&nbsp;</span>Particion de los datos</a></span><ul class=\"toc-item\"><li><span><a href=\"#Conjuntos-de-entrenamiento-y-validacion\" data-toc-modified-id=\"Conjuntos-de-entrenamiento-y-validacion-5.1\"><span class=\"toc-item-num\">5.1&nbsp;&nbsp;</span>Conjuntos de entrenamiento y validacion</a></span></li><li><span><a href=\"#Estandarizacion-de-datos\" data-toc-modified-id=\"Estandarizacion-de-datos-5.2\"><span class=\"toc-item-num\">5.2&nbsp;&nbsp;</span>Estandarizacion de datos</a></span></li></ul></li><li><span><a href=\"#Desarrollo-del-Modelo\" data-toc-modified-id=\"Desarrollo-del-Modelo-6\"><span class=\"toc-item-num\">6&nbsp;&nbsp;</span>Desarrollo del Modelo</a></span><ul class=\"toc-item\"><li><span><a href=\"#Regresion-Lineal-(LinearRegression)\" data-toc-modified-id=\"Regresion-Lineal-(LinearRegression)-6.1\"><span class=\"toc-item-num\">6.1&nbsp;&nbsp;</span>Regresion Lineal (LinearRegression)</a></span></li><li><span><a href=\"#Validacion-cruzada\" data-toc-modified-id=\"Validacion-cruzada-6.2\"><span class=\"toc-item-num\">6.2&nbsp;&nbsp;</span>Validacion cruzada</a></span></li></ul></li><li><span><a href=\"#Ganancias-y-riesgos\" data-toc-modified-id=\"Ganancias-y-riesgos-7\"><span class=\"toc-item-num\">7&nbsp;&nbsp;</span>Ganancias y riesgos</a></span></li><li><span><a href=\"#Conclusion-general\" data-toc-modified-id=\"Conclusion-general-8\"><span class=\"toc-item-num\">8&nbsp;&nbsp;</span>Conclusion general</a></span></li></ul></div>"
   ]
  },
  {
   "cell_type": "markdown",
   "metadata": {},
   "source": [
    "## **Descripcion del Proyecto**"
   ]
  },
  {
   "cell_type": "markdown",
   "metadata": {},
   "source": [
    "### Problema de Negocio"
   ]
  },
  {
   "cell_type": "markdown",
   "metadata": {},
   "source": [
    "OilyGiant compania dedicada a la extraccion de petroleo, la cual esta buscando expandir su alcance hacia una nueva locacion, para lo cual, se realizara un modelo de aprendizaje automatico enfoncado en el rendimiento del negocio, el cual evaluara la explotacion y apertura de 200 nuevos pozos \n",
    "\n",
    "Se obtienen datos de muestras de 3 zonas, con sus caracteristicas y rendimiento en volumen de barriles de petroleo, con el fin de encontrar los mejores pozos en cada region, aplicando diferentes para optimizar los datos y mejorar el rendimiento del modelo, mitigando las predicciones erronea."
   ]
  },
  {
   "cell_type": "markdown",
   "metadata": {},
   "source": [
    "### Objetivos"
   ]
  },
  {
   "cell_type": "markdown",
   "metadata": {},
   "source": [
    "El objetivo del proyecto es encontrar una zona, con caracteristicas que entreguen el mayor margen de beneficio para la compania "
   ]
  },
  {
   "cell_type": "markdown",
   "metadata": {},
   "source": [
    "### Propuesta del proyecto"
   ]
  },
  {
   "cell_type": "markdown",
   "metadata": {},
   "source": [
    "Este proyecto se constituye de las siguientes etapas, para dar una respuesta del problema.\n",
    "<br>\n",
    "<ol>\n",
    "    <li>Procesamiento de datos</li>\n",
    "    <li>Analisis exploratorio de datos</li>\n",
    "    <li>Particion de los datos</li>\n",
    "    <li>Estandarizacion de los datos</li>\n",
    "    <li>Entrenamiento de modelos y prueba de modelos para cada locacion</li>\n",
    "    <li>Desarrollo del modelo evaluado con RMSE y aplicando validacion cruzada</li>\n",
    "    <li>Calculo ganancias y riesgos aplicando Bootstrapping</li>\n",
    "</ol>"
   ]
  },
  {
   "cell_type": "markdown",
   "metadata": {},
   "source": [
    "## Informacion preliminar"
   ]
  },
  {
   "cell_type": "markdown",
   "metadata": {},
   "source": [
    "### Descripcion de los datos"
   ]
  },
  {
   "cell_type": "markdown",
   "metadata": {},
   "source": [
    "La informacion del proyecto, esta disponible en los siguientes conjuntos de datos, donde cada uno representa una region de pozos petroleros.\n",
    "\n",
    "`geo_data_0.csv`<br>\n",
    "`geo_data_1.csv`<br>\n",
    "`geo_data_2.csv`\n",
    "\n",
    "Los cuales se componen de caracteristicas, que representan la informacion que tiene la empresa de la produccion de sus pozos de petroleo, no son datos especificos(datos ficticios), pero interpretan significativamente la situacion de cada registro.\n",
    "\n",
    "**Características(features)**\n",
    "\n",
    "- `id` — identificador único de pozo de petróleo\n",
    "- `f0`, `f1`, `f2` — características de los pozos\n",
    "\n",
    "\n",
    "**Objetivo(target)**\n",
    "\n",
    "- `product` — volumen de reservas en el pozo de petróleo (miles de barriles)."
   ]
  },
  {
   "cell_type": "markdown",
   "metadata": {},
   "source": [
    "<div class=\"alert alert-block alert-success\">\n",
    "<b>Comentario del revisor (1ra Iteracion)</b> <a class=“tocSkip”></a>\n",
    "\n",
    "Excelente presentación inicial! Te invito a continuar con esta práctica de redactar una sección introductoria en tu notebook para que así sea más claro el por que y cómo del proyecto\n",
    "</div>"
   ]
  },
  {
   "cell_type": "markdown",
   "metadata": {},
   "source": [
    "### Ambiente y librerias"
   ]
  },
  {
   "cell_type": "code",
   "execution_count": 31,
   "metadata": {},
   "outputs": [
    {
     "name": "stdout",
     "output_type": "stream",
     "text": [
      "Python 3.10.8\r\n"
     ]
    }
   ],
   "source": [
    "# Ambiente en Python\n",
    "\n",
    "!python --version"
   ]
  },
  {
   "cell_type": "code",
   "execution_count": 32,
   "metadata": {},
   "outputs": [],
   "source": [
    "# Importando librerias\n",
    "\n",
    "# Manipulacion y procesamiento de datos \n",
    "import pandas as pd\n",
    "import numpy as np\n",
    "from sklearn.model_selection import train_test_split, cross_val_score\n",
    "from sklearn.preprocessing import StandardScaler\n",
    "\n",
    "# Visualizacion\n",
    "import matplotlib.pyplot as plt\n",
    "import seaborn as sns\n",
    "\n",
    "# Modelos ML\n",
    "from sklearn.linear_model import LinearRegression\n",
    "\n",
    "# Evaluacion de modelos ML\n",
    "from sklearn.metrics import mean_squared_error\n",
    "\n",
    "# Elimina mensajes de advertencia\n",
    "import warnings\n",
    "warnings.filterwarnings('ignore')\n",
    "\n",
    "# Declarando variable de reproducibilidad\n",
    "seed = np.random.RandomState(200)"
   ]
  },
  {
   "cell_type": "markdown",
   "metadata": {},
   "source": [
    "<div class=\"alert alert-block alert-info\">\n",
    "<b>Comentario del revisor (1ra Iteracion)</b> <a class=“tocSkip”></a>\n",
    "\n",
    "Una buena práctica para cuando tengas que importar varias librerías es seguir el siguiente órden en las mismas:\n",
    "\n",
    "- Primero todas las librerías que vienen ya con python cómo `datetime`, `os`, `json`, etc.\n",
    "- Luego de las librerías de Python si las de terceros cómo `pandas`, `scipy`, `numpy`, etc.\n",
    "- Por último, en el caso de que armes tu propio módulo en tu proyecto esto debería ir en tercer lugar, y recuerda siempre ordenar cada tipo por orden alfabético\n",
    "    \n",
    "Para cada sección se deben ordenar en orden alfabético\n",
    "</div>"
   ]
  },
  {
   "cell_type": "markdown",
   "metadata": {},
   "source": [
    "### Carga y lectura de datos"
   ]
  },
  {
   "cell_type": "code",
   "execution_count": 33,
   "metadata": {},
   "outputs": [],
   "source": [
    "# Declarando diccionario para almacenar los datasets\n",
    "\n",
    "data = {}"
   ]
  },
  {
   "cell_type": "code",
   "execution_count": 34,
   "metadata": {},
   "outputs": [],
   "source": [
    "# Listas con el nombre de las keys y los datasets\n",
    "\n",
    "locations = ['Location 0', 'Location 1', 'Location 2']\n",
    "datasets = ['geo_data_0.csv', 'geo_data_1.csv', 'geo_data_2.csv']"
   ]
  },
  {
   "cell_type": "code",
   "execution_count": 35,
   "metadata": {},
   "outputs": [],
   "source": [
    "# Bucle For carga y almacena los datasets en diccionario\n",
    "\n",
    "for i, location in enumerate(locations, start=0):\n",
    "    try:\n",
    "        data[location] = pd.read_csv(f'{datasets[i]}')\n",
    "    except:\n",
    "        data[location] = pd.read_csv(f'/datasets/{datasets[i]}')"
   ]
  },
  {
   "cell_type": "markdown",
   "metadata": {},
   "source": [
    "### Inspeccion de carga de datos"
   ]
  },
  {
   "cell_type": "code",
   "execution_count": 36,
   "metadata": {},
   "outputs": [
    {
     "name": "stdout",
     "output_type": "stream",
     "text": [
      "\n",
      "Location 0\n"
     ]
    },
    {
     "data": {
      "text/html": [
       "<div>\n",
       "<style scoped>\n",
       "    .dataframe tbody tr th:only-of-type {\n",
       "        vertical-align: middle;\n",
       "    }\n",
       "\n",
       "    .dataframe tbody tr th {\n",
       "        vertical-align: top;\n",
       "    }\n",
       "\n",
       "    .dataframe thead th {\n",
       "        text-align: right;\n",
       "    }\n",
       "</style>\n",
       "<table border=\"1\" class=\"dataframe\">\n",
       "  <thead>\n",
       "    <tr style=\"text-align: right;\">\n",
       "      <th></th>\n",
       "      <th>id</th>\n",
       "      <th>f0</th>\n",
       "      <th>f1</th>\n",
       "      <th>f2</th>\n",
       "      <th>product</th>\n",
       "    </tr>\n",
       "  </thead>\n",
       "  <tbody>\n",
       "    <tr>\n",
       "      <th>0</th>\n",
       "      <td>txEyH</td>\n",
       "      <td>0.705745</td>\n",
       "      <td>-0.497823</td>\n",
       "      <td>1.221170</td>\n",
       "      <td>105.280062</td>\n",
       "    </tr>\n",
       "    <tr>\n",
       "      <th>1</th>\n",
       "      <td>2acmU</td>\n",
       "      <td>1.334711</td>\n",
       "      <td>-0.340164</td>\n",
       "      <td>4.365080</td>\n",
       "      <td>73.037750</td>\n",
       "    </tr>\n",
       "    <tr>\n",
       "      <th>2</th>\n",
       "      <td>409Wp</td>\n",
       "      <td>1.022732</td>\n",
       "      <td>0.151990</td>\n",
       "      <td>1.419926</td>\n",
       "      <td>85.265647</td>\n",
       "    </tr>\n",
       "    <tr>\n",
       "      <th>3</th>\n",
       "      <td>iJLyR</td>\n",
       "      <td>-0.032172</td>\n",
       "      <td>0.139033</td>\n",
       "      <td>2.978566</td>\n",
       "      <td>168.620776</td>\n",
       "    </tr>\n",
       "    <tr>\n",
       "      <th>4</th>\n",
       "      <td>Xdl7t</td>\n",
       "      <td>1.988431</td>\n",
       "      <td>0.155413</td>\n",
       "      <td>4.751769</td>\n",
       "      <td>154.036647</td>\n",
       "    </tr>\n",
       "  </tbody>\n",
       "</table>\n",
       "</div>"
      ],
      "text/plain": [
       "      id        f0        f1        f2     product\n",
       "0  txEyH  0.705745 -0.497823  1.221170  105.280062\n",
       "1  2acmU  1.334711 -0.340164  4.365080   73.037750\n",
       "2  409Wp  1.022732  0.151990  1.419926   85.265647\n",
       "3  iJLyR -0.032172  0.139033  2.978566  168.620776\n",
       "4  Xdl7t  1.988431  0.155413  4.751769  154.036647"
      ]
     },
     "metadata": {},
     "output_type": "display_data"
    },
    {
     "name": "stdout",
     "output_type": "stream",
     "text": [
      "Shape: (100000, 5) \n",
      "\n",
      "**************************************************\n",
      "\n",
      "Location 1\n"
     ]
    },
    {
     "data": {
      "text/html": [
       "<div>\n",
       "<style scoped>\n",
       "    .dataframe tbody tr th:only-of-type {\n",
       "        vertical-align: middle;\n",
       "    }\n",
       "\n",
       "    .dataframe tbody tr th {\n",
       "        vertical-align: top;\n",
       "    }\n",
       "\n",
       "    .dataframe thead th {\n",
       "        text-align: right;\n",
       "    }\n",
       "</style>\n",
       "<table border=\"1\" class=\"dataframe\">\n",
       "  <thead>\n",
       "    <tr style=\"text-align: right;\">\n",
       "      <th></th>\n",
       "      <th>id</th>\n",
       "      <th>f0</th>\n",
       "      <th>f1</th>\n",
       "      <th>f2</th>\n",
       "      <th>product</th>\n",
       "    </tr>\n",
       "  </thead>\n",
       "  <tbody>\n",
       "    <tr>\n",
       "      <th>0</th>\n",
       "      <td>kBEdx</td>\n",
       "      <td>-15.001348</td>\n",
       "      <td>-8.276000</td>\n",
       "      <td>-0.005876</td>\n",
       "      <td>3.179103</td>\n",
       "    </tr>\n",
       "    <tr>\n",
       "      <th>1</th>\n",
       "      <td>62mP7</td>\n",
       "      <td>14.272088</td>\n",
       "      <td>-3.475083</td>\n",
       "      <td>0.999183</td>\n",
       "      <td>26.953261</td>\n",
       "    </tr>\n",
       "    <tr>\n",
       "      <th>2</th>\n",
       "      <td>vyE1P</td>\n",
       "      <td>6.263187</td>\n",
       "      <td>-5.948386</td>\n",
       "      <td>5.001160</td>\n",
       "      <td>134.766305</td>\n",
       "    </tr>\n",
       "    <tr>\n",
       "      <th>3</th>\n",
       "      <td>KcrkZ</td>\n",
       "      <td>-13.081196</td>\n",
       "      <td>-11.506057</td>\n",
       "      <td>4.999415</td>\n",
       "      <td>137.945408</td>\n",
       "    </tr>\n",
       "    <tr>\n",
       "      <th>4</th>\n",
       "      <td>AHL4O</td>\n",
       "      <td>12.702195</td>\n",
       "      <td>-8.147433</td>\n",
       "      <td>5.004363</td>\n",
       "      <td>134.766305</td>\n",
       "    </tr>\n",
       "  </tbody>\n",
       "</table>\n",
       "</div>"
      ],
      "text/plain": [
       "      id         f0         f1        f2     product\n",
       "0  kBEdx -15.001348  -8.276000 -0.005876    3.179103\n",
       "1  62mP7  14.272088  -3.475083  0.999183   26.953261\n",
       "2  vyE1P   6.263187  -5.948386  5.001160  134.766305\n",
       "3  KcrkZ -13.081196 -11.506057  4.999415  137.945408\n",
       "4  AHL4O  12.702195  -8.147433  5.004363  134.766305"
      ]
     },
     "metadata": {},
     "output_type": "display_data"
    },
    {
     "name": "stdout",
     "output_type": "stream",
     "text": [
      "Shape: (100000, 5) \n",
      "\n",
      "**************************************************\n",
      "\n",
      "Location 2\n"
     ]
    },
    {
     "data": {
      "text/html": [
       "<div>\n",
       "<style scoped>\n",
       "    .dataframe tbody tr th:only-of-type {\n",
       "        vertical-align: middle;\n",
       "    }\n",
       "\n",
       "    .dataframe tbody tr th {\n",
       "        vertical-align: top;\n",
       "    }\n",
       "\n",
       "    .dataframe thead th {\n",
       "        text-align: right;\n",
       "    }\n",
       "</style>\n",
       "<table border=\"1\" class=\"dataframe\">\n",
       "  <thead>\n",
       "    <tr style=\"text-align: right;\">\n",
       "      <th></th>\n",
       "      <th>id</th>\n",
       "      <th>f0</th>\n",
       "      <th>f1</th>\n",
       "      <th>f2</th>\n",
       "      <th>product</th>\n",
       "    </tr>\n",
       "  </thead>\n",
       "  <tbody>\n",
       "    <tr>\n",
       "      <th>0</th>\n",
       "      <td>fwXo0</td>\n",
       "      <td>-1.146987</td>\n",
       "      <td>0.963328</td>\n",
       "      <td>-0.828965</td>\n",
       "      <td>27.758673</td>\n",
       "    </tr>\n",
       "    <tr>\n",
       "      <th>1</th>\n",
       "      <td>WJtFt</td>\n",
       "      <td>0.262778</td>\n",
       "      <td>0.269839</td>\n",
       "      <td>-2.530187</td>\n",
       "      <td>56.069697</td>\n",
       "    </tr>\n",
       "    <tr>\n",
       "      <th>2</th>\n",
       "      <td>ovLUW</td>\n",
       "      <td>0.194587</td>\n",
       "      <td>0.289035</td>\n",
       "      <td>-5.586433</td>\n",
       "      <td>62.871910</td>\n",
       "    </tr>\n",
       "    <tr>\n",
       "      <th>3</th>\n",
       "      <td>q6cA6</td>\n",
       "      <td>2.236060</td>\n",
       "      <td>-0.553760</td>\n",
       "      <td>0.930038</td>\n",
       "      <td>114.572842</td>\n",
       "    </tr>\n",
       "    <tr>\n",
       "      <th>4</th>\n",
       "      <td>WPMUX</td>\n",
       "      <td>-0.515993</td>\n",
       "      <td>1.716266</td>\n",
       "      <td>5.899011</td>\n",
       "      <td>149.600746</td>\n",
       "    </tr>\n",
       "  </tbody>\n",
       "</table>\n",
       "</div>"
      ],
      "text/plain": [
       "      id        f0        f1        f2     product\n",
       "0  fwXo0 -1.146987  0.963328 -0.828965   27.758673\n",
       "1  WJtFt  0.262778  0.269839 -2.530187   56.069697\n",
       "2  ovLUW  0.194587  0.289035 -5.586433   62.871910\n",
       "3  q6cA6  2.236060 -0.553760  0.930038  114.572842\n",
       "4  WPMUX -0.515993  1.716266  5.899011  149.600746"
      ]
     },
     "metadata": {},
     "output_type": "display_data"
    },
    {
     "name": "stdout",
     "output_type": "stream",
     "text": [
      "Shape: (100000, 5) \n",
      "\n",
      "**************************************************\n"
     ]
    }
   ],
   "source": [
    "# Muestra de carga de datos por localidad\n",
    "\n",
    "for location in locations:\n",
    "    print()\n",
    "    print(location)\n",
    "    display(data[location].head())\n",
    "    print('Shape:', data[location].shape, '\\n')\n",
    "    print('*' * 50)"
   ]
  },
  {
   "cell_type": "markdown",
   "metadata": {},
   "source": [
    "### Resumen general de los datasets"
   ]
  },
  {
   "cell_type": "code",
   "execution_count": 37,
   "metadata": {},
   "outputs": [
    {
     "name": "stdout",
     "output_type": "stream",
     "text": [
      "\n",
      "Location 0\n",
      "\n",
      "<class 'pandas.core.frame.DataFrame'>\n",
      "RangeIndex: 100000 entries, 0 to 99999\n",
      "Data columns (total 5 columns):\n",
      " #   Column   Non-Null Count   Dtype  \n",
      "---  ------   --------------   -----  \n",
      " 0   id       100000 non-null  object \n",
      " 1   f0       100000 non-null  float64\n",
      " 2   f1       100000 non-null  float64\n",
      " 3   f2       100000 non-null  float64\n",
      " 4   product  100000 non-null  float64\n",
      "dtypes: float64(4), object(1)\n",
      "memory usage: 3.8+ MB\n",
      "None\n",
      "\n",
      " **************************************************\n",
      "\n",
      "Location 1\n",
      "\n",
      "<class 'pandas.core.frame.DataFrame'>\n",
      "RangeIndex: 100000 entries, 0 to 99999\n",
      "Data columns (total 5 columns):\n",
      " #   Column   Non-Null Count   Dtype  \n",
      "---  ------   --------------   -----  \n",
      " 0   id       100000 non-null  object \n",
      " 1   f0       100000 non-null  float64\n",
      " 2   f1       100000 non-null  float64\n",
      " 3   f2       100000 non-null  float64\n",
      " 4   product  100000 non-null  float64\n",
      "dtypes: float64(4), object(1)\n",
      "memory usage: 3.8+ MB\n",
      "None\n",
      "\n",
      " **************************************************\n",
      "\n",
      "Location 2\n",
      "\n",
      "<class 'pandas.core.frame.DataFrame'>\n",
      "RangeIndex: 100000 entries, 0 to 99999\n",
      "Data columns (total 5 columns):\n",
      " #   Column   Non-Null Count   Dtype  \n",
      "---  ------   --------------   -----  \n",
      " 0   id       100000 non-null  object \n",
      " 1   f0       100000 non-null  float64\n",
      " 2   f1       100000 non-null  float64\n",
      " 3   f2       100000 non-null  float64\n",
      " 4   product  100000 non-null  float64\n",
      "dtypes: float64(4), object(1)\n",
      "memory usage: 3.8+ MB\n",
      "None\n",
      "\n",
      " **************************************************\n"
     ]
    }
   ],
   "source": [
    "# Resumen general por localidad\n",
    "\n",
    "for location in locations:\n",
    "    print()\n",
    "    print(location)\n",
    "    print()\n",
    "    print(data[location].info())    \n",
    "    print('\\n', '*' * 50)"
   ]
  },
  {
   "cell_type": "markdown",
   "metadata": {},
   "source": [
    "### Descripcion estadistica de los datasets"
   ]
  },
  {
   "cell_type": "code",
   "execution_count": 38,
   "metadata": {},
   "outputs": [
    {
     "name": "stdout",
     "output_type": "stream",
     "text": [
      "\n",
      "Location 0\n"
     ]
    },
    {
     "data": {
      "text/html": [
       "<div>\n",
       "<style scoped>\n",
       "    .dataframe tbody tr th:only-of-type {\n",
       "        vertical-align: middle;\n",
       "    }\n",
       "\n",
       "    .dataframe tbody tr th {\n",
       "        vertical-align: top;\n",
       "    }\n",
       "\n",
       "    .dataframe thead th {\n",
       "        text-align: right;\n",
       "    }\n",
       "</style>\n",
       "<table border=\"1\" class=\"dataframe\">\n",
       "  <thead>\n",
       "    <tr style=\"text-align: right;\">\n",
       "      <th></th>\n",
       "      <th>f0</th>\n",
       "      <th>f1</th>\n",
       "      <th>f2</th>\n",
       "      <th>product</th>\n",
       "    </tr>\n",
       "  </thead>\n",
       "  <tbody>\n",
       "    <tr>\n",
       "      <th>count</th>\n",
       "      <td>100000.000000</td>\n",
       "      <td>100000.000000</td>\n",
       "      <td>100000.000000</td>\n",
       "      <td>100000.000000</td>\n",
       "    </tr>\n",
       "    <tr>\n",
       "      <th>mean</th>\n",
       "      <td>0.500419</td>\n",
       "      <td>0.250143</td>\n",
       "      <td>2.502647</td>\n",
       "      <td>92.500000</td>\n",
       "    </tr>\n",
       "    <tr>\n",
       "      <th>std</th>\n",
       "      <td>0.871832</td>\n",
       "      <td>0.504433</td>\n",
       "      <td>3.248248</td>\n",
       "      <td>44.288691</td>\n",
       "    </tr>\n",
       "    <tr>\n",
       "      <th>min</th>\n",
       "      <td>-1.408605</td>\n",
       "      <td>-0.848218</td>\n",
       "      <td>-12.088328</td>\n",
       "      <td>0.000000</td>\n",
       "    </tr>\n",
       "    <tr>\n",
       "      <th>25%</th>\n",
       "      <td>-0.072580</td>\n",
       "      <td>-0.200881</td>\n",
       "      <td>0.287748</td>\n",
       "      <td>56.497507</td>\n",
       "    </tr>\n",
       "    <tr>\n",
       "      <th>50%</th>\n",
       "      <td>0.502360</td>\n",
       "      <td>0.250252</td>\n",
       "      <td>2.515969</td>\n",
       "      <td>91.849972</td>\n",
       "    </tr>\n",
       "    <tr>\n",
       "      <th>75%</th>\n",
       "      <td>1.073581</td>\n",
       "      <td>0.700646</td>\n",
       "      <td>4.715088</td>\n",
       "      <td>128.564089</td>\n",
       "    </tr>\n",
       "    <tr>\n",
       "      <th>max</th>\n",
       "      <td>2.362331</td>\n",
       "      <td>1.343769</td>\n",
       "      <td>16.003790</td>\n",
       "      <td>185.364347</td>\n",
       "    </tr>\n",
       "  </tbody>\n",
       "</table>\n",
       "</div>"
      ],
      "text/plain": [
       "                  f0             f1             f2        product\n",
       "count  100000.000000  100000.000000  100000.000000  100000.000000\n",
       "mean        0.500419       0.250143       2.502647      92.500000\n",
       "std         0.871832       0.504433       3.248248      44.288691\n",
       "min        -1.408605      -0.848218     -12.088328       0.000000\n",
       "25%        -0.072580      -0.200881       0.287748      56.497507\n",
       "50%         0.502360       0.250252       2.515969      91.849972\n",
       "75%         1.073581       0.700646       4.715088     128.564089\n",
       "max         2.362331       1.343769      16.003790     185.364347"
      ]
     },
     "metadata": {},
     "output_type": "display_data"
    },
    {
     "name": "stdout",
     "output_type": "stream",
     "text": [
      "************************************************************\n",
      "\n",
      "Location 1\n"
     ]
    },
    {
     "data": {
      "text/html": [
       "<div>\n",
       "<style scoped>\n",
       "    .dataframe tbody tr th:only-of-type {\n",
       "        vertical-align: middle;\n",
       "    }\n",
       "\n",
       "    .dataframe tbody tr th {\n",
       "        vertical-align: top;\n",
       "    }\n",
       "\n",
       "    .dataframe thead th {\n",
       "        text-align: right;\n",
       "    }\n",
       "</style>\n",
       "<table border=\"1\" class=\"dataframe\">\n",
       "  <thead>\n",
       "    <tr style=\"text-align: right;\">\n",
       "      <th></th>\n",
       "      <th>f0</th>\n",
       "      <th>f1</th>\n",
       "      <th>f2</th>\n",
       "      <th>product</th>\n",
       "    </tr>\n",
       "  </thead>\n",
       "  <tbody>\n",
       "    <tr>\n",
       "      <th>count</th>\n",
       "      <td>100000.000000</td>\n",
       "      <td>100000.000000</td>\n",
       "      <td>100000.000000</td>\n",
       "      <td>100000.000000</td>\n",
       "    </tr>\n",
       "    <tr>\n",
       "      <th>mean</th>\n",
       "      <td>1.141296</td>\n",
       "      <td>-4.796579</td>\n",
       "      <td>2.494541</td>\n",
       "      <td>68.825000</td>\n",
       "    </tr>\n",
       "    <tr>\n",
       "      <th>std</th>\n",
       "      <td>8.965932</td>\n",
       "      <td>5.119872</td>\n",
       "      <td>1.703572</td>\n",
       "      <td>45.944423</td>\n",
       "    </tr>\n",
       "    <tr>\n",
       "      <th>min</th>\n",
       "      <td>-31.609576</td>\n",
       "      <td>-26.358598</td>\n",
       "      <td>-0.018144</td>\n",
       "      <td>0.000000</td>\n",
       "    </tr>\n",
       "    <tr>\n",
       "      <th>25%</th>\n",
       "      <td>-6.298551</td>\n",
       "      <td>-8.267985</td>\n",
       "      <td>1.000021</td>\n",
       "      <td>26.953261</td>\n",
       "    </tr>\n",
       "    <tr>\n",
       "      <th>50%</th>\n",
       "      <td>1.153055</td>\n",
       "      <td>-4.813172</td>\n",
       "      <td>2.011479</td>\n",
       "      <td>57.085625</td>\n",
       "    </tr>\n",
       "    <tr>\n",
       "      <th>75%</th>\n",
       "      <td>8.621015</td>\n",
       "      <td>-1.332816</td>\n",
       "      <td>3.999904</td>\n",
       "      <td>107.813044</td>\n",
       "    </tr>\n",
       "    <tr>\n",
       "      <th>max</th>\n",
       "      <td>29.421755</td>\n",
       "      <td>18.734063</td>\n",
       "      <td>5.019721</td>\n",
       "      <td>137.945408</td>\n",
       "    </tr>\n",
       "  </tbody>\n",
       "</table>\n",
       "</div>"
      ],
      "text/plain": [
       "                  f0             f1             f2        product\n",
       "count  100000.000000  100000.000000  100000.000000  100000.000000\n",
       "mean        1.141296      -4.796579       2.494541      68.825000\n",
       "std         8.965932       5.119872       1.703572      45.944423\n",
       "min       -31.609576     -26.358598      -0.018144       0.000000\n",
       "25%        -6.298551      -8.267985       1.000021      26.953261\n",
       "50%         1.153055      -4.813172       2.011479      57.085625\n",
       "75%         8.621015      -1.332816       3.999904     107.813044\n",
       "max        29.421755      18.734063       5.019721     137.945408"
      ]
     },
     "metadata": {},
     "output_type": "display_data"
    },
    {
     "name": "stdout",
     "output_type": "stream",
     "text": [
      "************************************************************\n",
      "\n",
      "Location 2\n"
     ]
    },
    {
     "data": {
      "text/html": [
       "<div>\n",
       "<style scoped>\n",
       "    .dataframe tbody tr th:only-of-type {\n",
       "        vertical-align: middle;\n",
       "    }\n",
       "\n",
       "    .dataframe tbody tr th {\n",
       "        vertical-align: top;\n",
       "    }\n",
       "\n",
       "    .dataframe thead th {\n",
       "        text-align: right;\n",
       "    }\n",
       "</style>\n",
       "<table border=\"1\" class=\"dataframe\">\n",
       "  <thead>\n",
       "    <tr style=\"text-align: right;\">\n",
       "      <th></th>\n",
       "      <th>f0</th>\n",
       "      <th>f1</th>\n",
       "      <th>f2</th>\n",
       "      <th>product</th>\n",
       "    </tr>\n",
       "  </thead>\n",
       "  <tbody>\n",
       "    <tr>\n",
       "      <th>count</th>\n",
       "      <td>100000.000000</td>\n",
       "      <td>100000.000000</td>\n",
       "      <td>100000.000000</td>\n",
       "      <td>100000.000000</td>\n",
       "    </tr>\n",
       "    <tr>\n",
       "      <th>mean</th>\n",
       "      <td>0.002023</td>\n",
       "      <td>-0.002081</td>\n",
       "      <td>2.495128</td>\n",
       "      <td>95.000000</td>\n",
       "    </tr>\n",
       "    <tr>\n",
       "      <th>std</th>\n",
       "      <td>1.732045</td>\n",
       "      <td>1.730417</td>\n",
       "      <td>3.473445</td>\n",
       "      <td>44.749921</td>\n",
       "    </tr>\n",
       "    <tr>\n",
       "      <th>min</th>\n",
       "      <td>-8.760004</td>\n",
       "      <td>-7.084020</td>\n",
       "      <td>-11.970335</td>\n",
       "      <td>0.000000</td>\n",
       "    </tr>\n",
       "    <tr>\n",
       "      <th>25%</th>\n",
       "      <td>-1.162288</td>\n",
       "      <td>-1.174820</td>\n",
       "      <td>0.130359</td>\n",
       "      <td>59.450441</td>\n",
       "    </tr>\n",
       "    <tr>\n",
       "      <th>50%</th>\n",
       "      <td>0.009424</td>\n",
       "      <td>-0.009482</td>\n",
       "      <td>2.484236</td>\n",
       "      <td>94.925613</td>\n",
       "    </tr>\n",
       "    <tr>\n",
       "      <th>75%</th>\n",
       "      <td>1.158535</td>\n",
       "      <td>1.163678</td>\n",
       "      <td>4.858794</td>\n",
       "      <td>130.595027</td>\n",
       "    </tr>\n",
       "    <tr>\n",
       "      <th>max</th>\n",
       "      <td>7.238262</td>\n",
       "      <td>7.844801</td>\n",
       "      <td>16.739402</td>\n",
       "      <td>190.029838</td>\n",
       "    </tr>\n",
       "  </tbody>\n",
       "</table>\n",
       "</div>"
      ],
      "text/plain": [
       "                  f0             f1             f2        product\n",
       "count  100000.000000  100000.000000  100000.000000  100000.000000\n",
       "mean        0.002023      -0.002081       2.495128      95.000000\n",
       "std         1.732045       1.730417       3.473445      44.749921\n",
       "min        -8.760004      -7.084020     -11.970335       0.000000\n",
       "25%        -1.162288      -1.174820       0.130359      59.450441\n",
       "50%         0.009424      -0.009482       2.484236      94.925613\n",
       "75%         1.158535       1.163678       4.858794     130.595027\n",
       "max         7.238262       7.844801      16.739402     190.029838"
      ]
     },
     "metadata": {},
     "output_type": "display_data"
    },
    {
     "name": "stdout",
     "output_type": "stream",
     "text": [
      "************************************************************\n"
     ]
    }
   ],
   "source": [
    "# Resumen estadistico por localidad\n",
    "\n",
    "for location in locations:\n",
    "    print()\n",
    "    print(location)\n",
    "    display(data[location].describe())\n",
    "    print('*' * 60)"
   ]
  },
  {
   "cell_type": "markdown",
   "metadata": {},
   "source": [
    "En los tres conjuntos de datos, las medias y las medianas de las tres características f0, f1 y f2 son casi iguales, lo que indica que las distribuciones podrían ser normales. No hay anomalías ni valores atípicos evidentes en las tres columnas de producto."
   ]
  },
  {
   "cell_type": "markdown",
   "metadata": {},
   "source": [
    "<div class=\"alert alert-block alert-success\">\n",
    "<b>Comentario del revisor (1ra Iteracion)</b> <a class=“tocSkip”></a>\n",
    "\n",
    "Buen trabajo con la revisión inicial de tus datos! Siempre es importante entender con lo que se trabajará\n",
    "</div>"
   ]
  },
  {
   "cell_type": "markdown",
   "metadata": {},
   "source": [
    "## Procesamiento de datos"
   ]
  },
  {
   "cell_type": "markdown",
   "metadata": {},
   "source": [
    "En este capitulo se aplciara el procesamiento de datos donde se verificara en cada conjunto de datos la presencia de calores ausentes, valores duplicados y por ultimo se eliminara la columna `id` de los datasets ya que es una variable irrelevante para el analisis."
   ]
  },
  {
   "cell_type": "markdown",
   "metadata": {},
   "source": [
    "### Valores ausentes"
   ]
  },
  {
   "cell_type": "code",
   "execution_count": 39,
   "metadata": {},
   "outputs": [
    {
     "name": "stdout",
     "output_type": "stream",
     "text": [
      "\n",
      "Location 0\n",
      "Numero de valores ausentes: \n",
      "id         0\n",
      "f0         0\n",
      "f1         0\n",
      "f2         0\n",
      "product    0\n",
      "dtype: int64\n",
      "\n",
      " **************************************************\n",
      "\n",
      "Location 1\n",
      "Numero de valores ausentes: \n",
      "id         0\n",
      "f0         0\n",
      "f1         0\n",
      "f2         0\n",
      "product    0\n",
      "dtype: int64\n",
      "\n",
      " **************************************************\n",
      "\n",
      "Location 2\n",
      "Numero de valores ausentes: \n",
      "id         0\n",
      "f0         0\n",
      "f1         0\n",
      "f2         0\n",
      "product    0\n",
      "dtype: int64\n",
      "\n",
      " **************************************************\n"
     ]
    }
   ],
   "source": [
    "# Verificando valores unicos en los conjuntos de datos\n",
    "\n",
    "for location in locations:\n",
    "    print()\n",
    "    print(location)\n",
    "    print('Numero de valores ausentes: ')\n",
    "    print(data[location].isna().sum())  \n",
    "    print('\\n', '*' * 50)"
   ]
  },
  {
   "cell_type": "markdown",
   "metadata": {},
   "source": [
    "### Valores duplicados"
   ]
  },
  {
   "cell_type": "code",
   "execution_count": 40,
   "metadata": {},
   "outputs": [
    {
     "name": "stdout",
     "output_type": "stream",
     "text": [
      "\n",
      "Location 0\n",
      "Numero de duplicados:  0\n",
      "\n",
      " **************************************************\n",
      "\n",
      "Location 1\n",
      "Numero de duplicados:  0\n",
      "\n",
      " **************************************************\n",
      "\n",
      "Location 2\n",
      "Numero de duplicados:  0\n",
      "\n",
      " **************************************************\n"
     ]
    }
   ],
   "source": [
    "# Verificando valores duplicados en los conjuntos de datos\n",
    "\n",
    "for location in locations:\n",
    "    print()\n",
    "    print(location)\n",
    "    print('Numero de duplicados: ', data[location].duplicated().sum())  \n",
    "    print('\\n','*' * 50)"
   ]
  },
  {
   "cell_type": "markdown",
   "metadata": {},
   "source": [
    "### Eliminacion de variables irrelevantes"
   ]
  },
  {
   "cell_type": "code",
   "execution_count": 41,
   "metadata": {},
   "outputs": [
    {
     "name": "stdout",
     "output_type": "stream",
     "text": [
      "\n",
      "******************** Location 0 ********************\n"
     ]
    },
    {
     "data": {
      "text/html": [
       "<div>\n",
       "<style scoped>\n",
       "    .dataframe tbody tr th:only-of-type {\n",
       "        vertical-align: middle;\n",
       "    }\n",
       "\n",
       "    .dataframe tbody tr th {\n",
       "        vertical-align: top;\n",
       "    }\n",
       "\n",
       "    .dataframe thead th {\n",
       "        text-align: right;\n",
       "    }\n",
       "</style>\n",
       "<table border=\"1\" class=\"dataframe\">\n",
       "  <thead>\n",
       "    <tr style=\"text-align: right;\">\n",
       "      <th></th>\n",
       "      <th>f0</th>\n",
       "      <th>f1</th>\n",
       "      <th>f2</th>\n",
       "      <th>product</th>\n",
       "    </tr>\n",
       "  </thead>\n",
       "  <tbody>\n",
       "    <tr>\n",
       "      <th>0</th>\n",
       "      <td>0.705745</td>\n",
       "      <td>-0.497823</td>\n",
       "      <td>1.221170</td>\n",
       "      <td>105.280062</td>\n",
       "    </tr>\n",
       "    <tr>\n",
       "      <th>1</th>\n",
       "      <td>1.334711</td>\n",
       "      <td>-0.340164</td>\n",
       "      <td>4.365080</td>\n",
       "      <td>73.037750</td>\n",
       "    </tr>\n",
       "    <tr>\n",
       "      <th>2</th>\n",
       "      <td>1.022732</td>\n",
       "      <td>0.151990</td>\n",
       "      <td>1.419926</td>\n",
       "      <td>85.265647</td>\n",
       "    </tr>\n",
       "    <tr>\n",
       "      <th>3</th>\n",
       "      <td>-0.032172</td>\n",
       "      <td>0.139033</td>\n",
       "      <td>2.978566</td>\n",
       "      <td>168.620776</td>\n",
       "    </tr>\n",
       "    <tr>\n",
       "      <th>4</th>\n",
       "      <td>1.988431</td>\n",
       "      <td>0.155413</td>\n",
       "      <td>4.751769</td>\n",
       "      <td>154.036647</td>\n",
       "    </tr>\n",
       "    <tr>\n",
       "      <th>...</th>\n",
       "      <td>...</td>\n",
       "      <td>...</td>\n",
       "      <td>...</td>\n",
       "      <td>...</td>\n",
       "    </tr>\n",
       "    <tr>\n",
       "      <th>99995</th>\n",
       "      <td>0.971957</td>\n",
       "      <td>0.370953</td>\n",
       "      <td>6.075346</td>\n",
       "      <td>110.744026</td>\n",
       "    </tr>\n",
       "    <tr>\n",
       "      <th>99996</th>\n",
       "      <td>1.392429</td>\n",
       "      <td>-0.382606</td>\n",
       "      <td>1.273912</td>\n",
       "      <td>122.346843</td>\n",
       "    </tr>\n",
       "    <tr>\n",
       "      <th>99997</th>\n",
       "      <td>1.029585</td>\n",
       "      <td>0.018787</td>\n",
       "      <td>-1.348308</td>\n",
       "      <td>64.375443</td>\n",
       "    </tr>\n",
       "    <tr>\n",
       "      <th>99998</th>\n",
       "      <td>0.998163</td>\n",
       "      <td>-0.528582</td>\n",
       "      <td>1.583869</td>\n",
       "      <td>74.040764</td>\n",
       "    </tr>\n",
       "    <tr>\n",
       "      <th>99999</th>\n",
       "      <td>1.764754</td>\n",
       "      <td>-0.266417</td>\n",
       "      <td>5.722849</td>\n",
       "      <td>149.633246</td>\n",
       "    </tr>\n",
       "  </tbody>\n",
       "</table>\n",
       "<p>100000 rows × 4 columns</p>\n",
       "</div>"
      ],
      "text/plain": [
       "             f0        f1        f2     product\n",
       "0      0.705745 -0.497823  1.221170  105.280062\n",
       "1      1.334711 -0.340164  4.365080   73.037750\n",
       "2      1.022732  0.151990  1.419926   85.265647\n",
       "3     -0.032172  0.139033  2.978566  168.620776\n",
       "4      1.988431  0.155413  4.751769  154.036647\n",
       "...         ...       ...       ...         ...\n",
       "99995  0.971957  0.370953  6.075346  110.744026\n",
       "99996  1.392429 -0.382606  1.273912  122.346843\n",
       "99997  1.029585  0.018787 -1.348308   64.375443\n",
       "99998  0.998163 -0.528582  1.583869   74.040764\n",
       "99999  1.764754 -0.266417  5.722849  149.633246\n",
       "\n",
       "[100000 rows x 4 columns]"
      ]
     },
     "metadata": {},
     "output_type": "display_data"
    },
    {
     "name": "stdout",
     "output_type": "stream",
     "text": [
      "\n",
      "******************** Location 1 ********************\n"
     ]
    },
    {
     "data": {
      "text/html": [
       "<div>\n",
       "<style scoped>\n",
       "    .dataframe tbody tr th:only-of-type {\n",
       "        vertical-align: middle;\n",
       "    }\n",
       "\n",
       "    .dataframe tbody tr th {\n",
       "        vertical-align: top;\n",
       "    }\n",
       "\n",
       "    .dataframe thead th {\n",
       "        text-align: right;\n",
       "    }\n",
       "</style>\n",
       "<table border=\"1\" class=\"dataframe\">\n",
       "  <thead>\n",
       "    <tr style=\"text-align: right;\">\n",
       "      <th></th>\n",
       "      <th>f0</th>\n",
       "      <th>f1</th>\n",
       "      <th>f2</th>\n",
       "      <th>product</th>\n",
       "    </tr>\n",
       "  </thead>\n",
       "  <tbody>\n",
       "    <tr>\n",
       "      <th>0</th>\n",
       "      <td>-15.001348</td>\n",
       "      <td>-8.276000</td>\n",
       "      <td>-0.005876</td>\n",
       "      <td>3.179103</td>\n",
       "    </tr>\n",
       "    <tr>\n",
       "      <th>1</th>\n",
       "      <td>14.272088</td>\n",
       "      <td>-3.475083</td>\n",
       "      <td>0.999183</td>\n",
       "      <td>26.953261</td>\n",
       "    </tr>\n",
       "    <tr>\n",
       "      <th>2</th>\n",
       "      <td>6.263187</td>\n",
       "      <td>-5.948386</td>\n",
       "      <td>5.001160</td>\n",
       "      <td>134.766305</td>\n",
       "    </tr>\n",
       "    <tr>\n",
       "      <th>3</th>\n",
       "      <td>-13.081196</td>\n",
       "      <td>-11.506057</td>\n",
       "      <td>4.999415</td>\n",
       "      <td>137.945408</td>\n",
       "    </tr>\n",
       "    <tr>\n",
       "      <th>4</th>\n",
       "      <td>12.702195</td>\n",
       "      <td>-8.147433</td>\n",
       "      <td>5.004363</td>\n",
       "      <td>134.766305</td>\n",
       "    </tr>\n",
       "    <tr>\n",
       "      <th>...</th>\n",
       "      <td>...</td>\n",
       "      <td>...</td>\n",
       "      <td>...</td>\n",
       "      <td>...</td>\n",
       "    </tr>\n",
       "    <tr>\n",
       "      <th>99995</th>\n",
       "      <td>9.535637</td>\n",
       "      <td>-6.878139</td>\n",
       "      <td>1.998296</td>\n",
       "      <td>53.906522</td>\n",
       "    </tr>\n",
       "    <tr>\n",
       "      <th>99996</th>\n",
       "      <td>-10.160631</td>\n",
       "      <td>-12.558096</td>\n",
       "      <td>5.005581</td>\n",
       "      <td>137.945408</td>\n",
       "    </tr>\n",
       "    <tr>\n",
       "      <th>99997</th>\n",
       "      <td>-7.378891</td>\n",
       "      <td>-3.084104</td>\n",
       "      <td>4.998651</td>\n",
       "      <td>137.945408</td>\n",
       "    </tr>\n",
       "    <tr>\n",
       "      <th>99998</th>\n",
       "      <td>0.665714</td>\n",
       "      <td>-6.152593</td>\n",
       "      <td>1.000146</td>\n",
       "      <td>30.132364</td>\n",
       "    </tr>\n",
       "    <tr>\n",
       "      <th>99999</th>\n",
       "      <td>-3.426139</td>\n",
       "      <td>-7.794274</td>\n",
       "      <td>-0.003299</td>\n",
       "      <td>3.179103</td>\n",
       "    </tr>\n",
       "  </tbody>\n",
       "</table>\n",
       "<p>100000 rows × 4 columns</p>\n",
       "</div>"
      ],
      "text/plain": [
       "              f0         f1        f2     product\n",
       "0     -15.001348  -8.276000 -0.005876    3.179103\n",
       "1      14.272088  -3.475083  0.999183   26.953261\n",
       "2       6.263187  -5.948386  5.001160  134.766305\n",
       "3     -13.081196 -11.506057  4.999415  137.945408\n",
       "4      12.702195  -8.147433  5.004363  134.766305\n",
       "...          ...        ...       ...         ...\n",
       "99995   9.535637  -6.878139  1.998296   53.906522\n",
       "99996 -10.160631 -12.558096  5.005581  137.945408\n",
       "99997  -7.378891  -3.084104  4.998651  137.945408\n",
       "99998   0.665714  -6.152593  1.000146   30.132364\n",
       "99999  -3.426139  -7.794274 -0.003299    3.179103\n",
       "\n",
       "[100000 rows x 4 columns]"
      ]
     },
     "metadata": {},
     "output_type": "display_data"
    },
    {
     "name": "stdout",
     "output_type": "stream",
     "text": [
      "\n",
      "******************** Location 2 ********************\n"
     ]
    },
    {
     "data": {
      "text/html": [
       "<div>\n",
       "<style scoped>\n",
       "    .dataframe tbody tr th:only-of-type {\n",
       "        vertical-align: middle;\n",
       "    }\n",
       "\n",
       "    .dataframe tbody tr th {\n",
       "        vertical-align: top;\n",
       "    }\n",
       "\n",
       "    .dataframe thead th {\n",
       "        text-align: right;\n",
       "    }\n",
       "</style>\n",
       "<table border=\"1\" class=\"dataframe\">\n",
       "  <thead>\n",
       "    <tr style=\"text-align: right;\">\n",
       "      <th></th>\n",
       "      <th>f0</th>\n",
       "      <th>f1</th>\n",
       "      <th>f2</th>\n",
       "      <th>product</th>\n",
       "    </tr>\n",
       "  </thead>\n",
       "  <tbody>\n",
       "    <tr>\n",
       "      <th>0</th>\n",
       "      <td>-1.146987</td>\n",
       "      <td>0.963328</td>\n",
       "      <td>-0.828965</td>\n",
       "      <td>27.758673</td>\n",
       "    </tr>\n",
       "    <tr>\n",
       "      <th>1</th>\n",
       "      <td>0.262778</td>\n",
       "      <td>0.269839</td>\n",
       "      <td>-2.530187</td>\n",
       "      <td>56.069697</td>\n",
       "    </tr>\n",
       "    <tr>\n",
       "      <th>2</th>\n",
       "      <td>0.194587</td>\n",
       "      <td>0.289035</td>\n",
       "      <td>-5.586433</td>\n",
       "      <td>62.871910</td>\n",
       "    </tr>\n",
       "    <tr>\n",
       "      <th>3</th>\n",
       "      <td>2.236060</td>\n",
       "      <td>-0.553760</td>\n",
       "      <td>0.930038</td>\n",
       "      <td>114.572842</td>\n",
       "    </tr>\n",
       "    <tr>\n",
       "      <th>4</th>\n",
       "      <td>-0.515993</td>\n",
       "      <td>1.716266</td>\n",
       "      <td>5.899011</td>\n",
       "      <td>149.600746</td>\n",
       "    </tr>\n",
       "    <tr>\n",
       "      <th>...</th>\n",
       "      <td>...</td>\n",
       "      <td>...</td>\n",
       "      <td>...</td>\n",
       "      <td>...</td>\n",
       "    </tr>\n",
       "    <tr>\n",
       "      <th>99995</th>\n",
       "      <td>-1.777037</td>\n",
       "      <td>1.125220</td>\n",
       "      <td>6.263374</td>\n",
       "      <td>172.327046</td>\n",
       "    </tr>\n",
       "    <tr>\n",
       "      <th>99996</th>\n",
       "      <td>-1.261523</td>\n",
       "      <td>-0.894828</td>\n",
       "      <td>2.524545</td>\n",
       "      <td>138.748846</td>\n",
       "    </tr>\n",
       "    <tr>\n",
       "      <th>99997</th>\n",
       "      <td>-1.199934</td>\n",
       "      <td>-2.957637</td>\n",
       "      <td>5.219411</td>\n",
       "      <td>157.080080</td>\n",
       "    </tr>\n",
       "    <tr>\n",
       "      <th>99998</th>\n",
       "      <td>-2.419896</td>\n",
       "      <td>2.417221</td>\n",
       "      <td>-5.548444</td>\n",
       "      <td>51.795253</td>\n",
       "    </tr>\n",
       "    <tr>\n",
       "      <th>99999</th>\n",
       "      <td>-2.551421</td>\n",
       "      <td>-2.025625</td>\n",
       "      <td>6.090891</td>\n",
       "      <td>102.775767</td>\n",
       "    </tr>\n",
       "  </tbody>\n",
       "</table>\n",
       "<p>100000 rows × 4 columns</p>\n",
       "</div>"
      ],
      "text/plain": [
       "             f0        f1        f2     product\n",
       "0     -1.146987  0.963328 -0.828965   27.758673\n",
       "1      0.262778  0.269839 -2.530187   56.069697\n",
       "2      0.194587  0.289035 -5.586433   62.871910\n",
       "3      2.236060 -0.553760  0.930038  114.572842\n",
       "4     -0.515993  1.716266  5.899011  149.600746\n",
       "...         ...       ...       ...         ...\n",
       "99995 -1.777037  1.125220  6.263374  172.327046\n",
       "99996 -1.261523 -0.894828  2.524545  138.748846\n",
       "99997 -1.199934 -2.957637  5.219411  157.080080\n",
       "99998 -2.419896  2.417221 -5.548444   51.795253\n",
       "99999 -2.551421 -2.025625  6.090891  102.775767\n",
       "\n",
       "[100000 rows x 4 columns]"
      ]
     },
     "metadata": {},
     "output_type": "display_data"
    }
   ],
   "source": [
    "# Bucle for para eliminar variable 'id' por laocalidad\n",
    "\n",
    "for location in locations:\n",
    "    print()\n",
    "    print('*' * 20,f'{location}','*' * 20)\n",
    "    data[location].drop('id', axis=1, inplace=True)\n",
    "    display(data[location])   "
   ]
  },
  {
   "cell_type": "markdown",
   "metadata": {},
   "source": [
    "## Analisis Exploratorio de datos"
   ]
  },
  {
   "cell_type": "markdown",
   "metadata": {},
   "source": [
    "### Distribucion de las variables (features)"
   ]
  },
  {
   "cell_type": "code",
   "execution_count": 42,
   "metadata": {},
   "outputs": [
    {
     "data": {
      "image/png": "[encoded data removed]",
      "text/plain": [
       "<Figure size 900x300 with 3 Axes>"
      ]
     },
     "metadata": {},
     "output_type": "display_data"
    },
    {
     "data": {
      "image/png": "[encoded data removed]",
      "text/plain": [
       "<Figure size 900x300 with 3 Axes>"
      ]
     },
     "metadata": {},
     "output_type": "display_data"
    },
    {
     "data": {
      "image/png": "[encoded data removed]",
      "text/plain": [
       "<Figure size 900x300 with 3 Axes>"
      ]
     },
     "metadata": {},
     "output_type": "display_data"
    }
   ],
   "source": [
    "# Bucle for para crear histograma de cada variable caracteristica de los datasets por localidad\n",
    "\n",
    "features = ['f0', 'f1', 'f2']\n",
    "for location in locations:\n",
    "    sns.set_style('whitegrid')\n",
    "    fig, axs = plt.subplots(1, 3, figsize=(9,3))\n",
    "    plt.suptitle(f'Distribucion de las variables ({location})', fontsize=14, fontweight='bold')\n",
    "    for i, feature in enumerate(features):\n",
    "        sns.histplot(x=data[location][feature], color='skyblue', ax=axs[i])\n",
    "        axs[i].set_title(feature, fontsize=12, fontweight='bold')\n",
    "        axs[i].set_xlabel(feature, fontweight='bold')\n",
    "        axs[i].set_ylabel('Barriles de petroleo (miles|)', fontweight='bold')\n",
    "    plt.tight_layout()\n",
    "    plt.show()"
   ]
  },
  {
   "cell_type": "markdown",
   "metadata": {
    "scrolled": true
   },
   "source": [
    "### Distribucion de la variable objetivo (target)"
   ]
  },
  {
   "cell_type": "code",
   "execution_count": 43,
   "metadata": {},
   "outputs": [
    {
     "data": {
      "image/png": "[encoded data removed]",
      "text/plain": [
       "<Figure size 800x300 with 3 Axes>"
      ]
     },
     "metadata": {},
     "output_type": "display_data"
    }
   ],
   "source": [
    "# Bucle for para crear histograma de la variable objetivo por localidad\n",
    "\n",
    "sns.set_style('whitegrid')\n",
    "fig, axs = plt.subplots(1, 3, sharey=True, figsize=(8,3))\n",
    "plt.suptitle('Distribucion de Volumen de Reserva por zona', fontsize=14, fontweight='bold')\n",
    "for i, location in enumerate(locations):\n",
    "    sns.histplot(x=data[location]['product'], bins=30, color='skyblue', ax=axs[i])\n",
    "    axs[i].set_title(location, fontsize=12, fontweight='bold')\n",
    "    axs[i].set_xlabel('')\n",
    "    mean_volume = data[location]['product'].mean()\n",
    "    axs[i].text(0.5, 0.85, f'Volumen promedio\\n{mean_volume:.2f} mil barriles', fontweight='bold',transform=axs[i].transAxes, ha='center')\n",
    "fig.text(0.5, -0.03, 'Volumen de Reserva (Mil Barriles))', fontweight='bold', ha='center')\n",
    "axs[0].set_ylabel('Pozos de petroleo', fontweight='bold')\n",
    "plt.tight_layout()\n",
    "plt.show()"
   ]
  },
  {
   "cell_type": "markdown",
   "metadata": {},
   "source": [
    "Los volumenes de reservas promedio son bastante mas altos en `Location 0` y `Location 2`, que en `Location 1`, por lo que estas localidades tiene una gran oportunidad de ser elegidas por la empresa para desarrollar el proyecto.\n",
    "\n",
    "Sin embargo, se puede observas que en `Location1` existen mas de 15000 pozos con un volumen de reserva mayor a 140 mil barriles, por loque esta localidad tambien tiene potencial para desarrollar el proyecto."
   ]
  },
  {
   "cell_type": "markdown",
   "metadata": {},
   "source": [
    "### Matriz de Correlaciones"
   ]
  },
  {
   "cell_type": "code",
   "execution_count": 44,
   "metadata": {},
   "outputs": [
    {
     "data": {
      "image/png": "[encoded data removed]",
      "text/plain": [
       "<Figure size 900x300 with 3 Axes>"
      ]
     },
     "metadata": {},
     "output_type": "display_data"
    }
   ],
   "source": [
    "# Bucle for para obtener matriz de correlaciones por localidad\n",
    "\n",
    "sns.set_style('white')\n",
    "fig, axs = plt.subplots(1, 3, figsize = (9,3))\n",
    "plt.suptitle('Correlacion de variables numericas por zona', fontsize = 14, fontweight = 'bold')\n",
    "for i, location in enumerate(locations):\n",
    "    sns.heatmap(data[location].corr(), annot = True, fmt = '.2f',cmap = sns.diverging_palette(180, 0, s = 90, as_cmap = True),square=True, cbar=False, ax=axs[i])\n",
    "    axs[i].set_title(location, fontsize = 12, fontweight = 'bold')    \n",
    "    tick_labels = axs[i].get_yticklabels()\n",
    "    axs[i].set_yticklabels(tick_labels, rotation = 0)\n",
    "plt.tight_layout()\n",
    "plt.show()"
   ]
  },
  {
   "cell_type": "markdown",
   "metadata": {},
   "source": [
    "Para todas las localidades la caracteristica `f2` es la mas importante a considerar en el modelo a desarrollar de aprendizaje automatico, para predecir el producto. Por otra parte, las caracteristicas `f0` y `f1` no tiene un relacion casi nula con la variable a predecir, por lo que no generan un impacto considerable en los resultados del modelo."
   ]
  },
  {
   "cell_type": "markdown",
   "metadata": {},
   "source": [
    "## Particion de los datos"
   ]
  },
  {
   "cell_type": "markdown",
   "metadata": {},
   "source": [
    "Para generar el modelo, se necesita determinar en los conjuntos de entrenamiento y de validacion las variables caracteristicas y las variales objetivos, estas ultimas corresponden a la columna `producto`, ya que el objetivo del proyecto es predecir los volumenes de reserva de petroleo, para la explotacion de 200 nuevos pozos.\n",
    "\n",
    "Por ultimo, en este capitulo se aplicara la una tecnica de estandarizacion de datos, con el fin de mitigar la volatilidad de las variables, lo que implica una disminucion en la volatilidad de aprendizaje del modelo."
   ]
  },
  {
   "cell_type": "markdown",
   "metadata": {},
   "source": [
    "<div class=\"alert alert-block alert-success\">\n",
    "<b>Comentario del revisor (1ra Iteracion)</b> <a class=“tocSkip”></a>\n",
    "\n",
    "Excelente, el EDA es un paso importante antes de entrenar modelos de ML\n",
    "</div>"
   ]
  },
  {
   "cell_type": "markdown",
   "metadata": {},
   "source": [
    "### Conjuntos de entrenamiento y validacion "
   ]
  },
  {
   "cell_type": "code",
   "execution_count": 45,
   "metadata": {},
   "outputs": [],
   "source": [
    "# Funcion para dividir dataset en variables de caracteristicas y objetivo\n",
    "\n",
    "def split_train_data(data):\n",
    "    features = data.drop('product', axis = 1)\n",
    "    target = data['product']\n",
    "    return train_test_split(features, target, test_size=0.25, random_state = seed)"
   ]
  },
  {
   "cell_type": "code",
   "execution_count": 46,
   "metadata": {},
   "outputs": [],
   "source": [
    "# Generacion de datasets dividios en caracteristicas, objetivos, entrenamiento, validacion y localidad\n",
    "\n",
    "split_data = {}\n",
    "for location in locations:\n",
    "    split_data[location] = {}\n",
    "    split_data[location]['features_train'], split_data[location]['features_valid'], split_data[location]['target_train'], split_data[location]['target_valid'] = split_train_data(data[location])"
   ]
  },
  {
   "cell_type": "code",
   "execution_count": 47,
   "metadata": {},
   "outputs": [
    {
     "name": "stdout",
     "output_type": "stream",
     "text": [
      "\n",
      "******************** Location 0 ********************\n",
      "features_train\n",
      "(75000, 3)\n",
      "\n",
      "features_valid\n",
      "(25000, 3)\n",
      "\n",
      "target_train\n",
      "(75000,)\n",
      "\n",
      "target_valid\n",
      "(25000,)\n",
      "\n",
      "\n",
      "******************** Location 1 ********************\n",
      "features_train\n",
      "(75000, 3)\n",
      "\n",
      "features_valid\n",
      "(25000, 3)\n",
      "\n",
      "target_train\n",
      "(75000,)\n",
      "\n",
      "target_valid\n",
      "(25000,)\n",
      "\n",
      "\n",
      "******************** Location 2 ********************\n",
      "features_train\n",
      "(75000, 3)\n",
      "\n",
      "features_valid\n",
      "(25000, 3)\n",
      "\n",
      "target_train\n",
      "(75000,)\n",
      "\n",
      "target_valid\n",
      "(25000,)\n",
      "\n"
     ]
    }
   ],
   "source": [
    "# Muestra de datasets por localidad\n",
    "\n",
    "for location, dataset in split_data.items():\n",
    "    print()\n",
    "    print('*' * 20 ,f'{location}', '*' * 20)\n",
    "    for split, data in dataset.items():\n",
    "        print(split)\n",
    "        print(data.shape)\n",
    "        print()"
   ]
  },
  {
   "cell_type": "markdown",
   "metadata": {},
   "source": [
    "### Estandarizacion de datos"
   ]
  },
  {
   "cell_type": "code",
   "execution_count": 48,
   "metadata": {},
   "outputs": [],
   "source": [
    "# Funcion para estandarizar los datos\n",
    "\n",
    "def standard_scaler_data(data):\n",
    "    scaler = StandardScaler()\n",
    "    features_traint_scaler = scaler.fit_transform(data[location]['features_train'])\n",
    "    features_valid_scaler = scaler.transform(data[location]['features_valid'])\n",
    "    return features_traint_scaler, features_valid_scaler"
   ]
  },
  {
   "cell_type": "code",
   "execution_count": 49,
   "metadata": {},
   "outputs": [],
   "source": [
    "# Implementacion de estandarizacion de datos\n",
    "\n",
    "scaler_data = {}\n",
    "for location in locations:\n",
    "    scaler_data[location] = {}\n",
    "    scaler_data[location]['features_train'], scaler_data[location]['features_valid'] = standard_scaler_data(split_data)\n",
    "    scaler_data[location]['target_train'], scaler_data[location]['target_valid'] = split_data[location]['target_train'], split_data[location]['target_valid']"
   ]
  },
  {
   "cell_type": "markdown",
   "metadata": {},
   "source": [
    "## Desarrollo del Modelo"
   ]
  },
  {
   "cell_type": "markdown",
   "metadata": {},
   "source": [
    "Luego de procesar los datos y realizar el analisis exploratorio, es posible continuar con el estudio del proyecto, y poder comenzar con el modelo de aprendizaje, el cual se empleara con la Regresion Lineal\n",
    "\n",
    "Para determinar la localidad mas adecuada para llevar a cabo la inversion, es necesario obtener metricas como el RMSE de cada zona, ya que su valor indica la dispersion lo que implica en que tan preciso es el modelo, por lo que se empleara la tecnica de validacion cruzada, asi asegurar que el modelo funcione con datos no observados, esto ayuda a tener medidas mas confiables sobre la performance del modelo, evita el sobreajuste y que tenga buenas predicciones con datos no revisados."
   ]
  },
  {
   "cell_type": "markdown",
   "metadata": {},
   "source": [
    "### Regresion Lineal (LinearRegression)"
   ]
  },
  {
   "cell_type": "code",
   "execution_count": 50,
   "metadata": {},
   "outputs": [],
   "source": [
    "# Funcion de modelo de Regresion Lineal para el proyecto\n",
    "\n",
    "def model_evaluation(features_train, features_valid, target_train, target_valid):\n",
    "    lr_model = LinearRegression()\n",
    "    lr_model.fit(features_train,target_train)\n",
    "    predictions = lr_model.predict(features_valid)\n",
    "    mean_predict = np.mean(predictions)\n",
    "    rmse = mean_squared_error(target_valid, predictions, squared = False)\n",
    "    return predictions, mean_predict, rmse"
   ]
  },
  {
   "cell_type": "code",
   "execution_count": 51,
   "metadata": {},
   "outputs": [],
   "source": [
    "# Almacenando las variables predecidas por localidad\n",
    "\n",
    "predictions_locations = {}\n",
    "mean_predict_locations = {}\n",
    "rmse_locations = {}\n",
    "for location in locations:\n",
    "    predictions_locations[location], mean_predict_locations[location], rmse_locations[location] = model_evaluation(scaler_data[location]['features_train'], scaler_data[location]['features_valid'], scaler_data[location]['target_train'], scaler_data[location]['target_valid'])"
   ]
  },
  {
   "cell_type": "markdown",
   "metadata": {},
   "source": [
    "### Validacion cruzada"
   ]
  },
  {
   "cell_type": "code",
   "execution_count": 52,
   "metadata": {},
   "outputs": [],
   "source": [
    "# Funcion para aplicar validacion cruzada\n",
    "\n",
    "def cross_validation(model, features_train, target_train):\n",
    "    cv_score = cross_val_score(model, features_train, target_train, cv = 5, scoring = 'neg_mean_squared_error')\n",
    "    rmse_score = np.sqrt(-cv_score)\n",
    "    return rmse_score"
   ]
  },
  {
   "cell_type": "code",
   "execution_count": 53,
   "metadata": {},
   "outputs": [],
   "source": [
    "# Aplicacion de validacion cruzada al modelo\n",
    "\n",
    "model = LinearRegression()\n",
    "rmse_scores = {}\n",
    "for location in locations:\n",
    "    rmse_scores[location] = cross_validation(model, scaler_data[location]['features_train'], scaler_data[location]['target_train']).mean()"
   ]
  },
  {
   "cell_type": "code",
   "execution_count": 54,
   "metadata": {},
   "outputs": [
    {
     "name": "stdout",
     "output_type": "stream",
     "text": [
      "Location 0: \n",
      "Volumen promedio de reservas de barriles predecidos: 92.4240 \n",
      "RMSE: 37.7213 \n",
      "\n",
      "Location 1: \n",
      "Volumen promedio de reservas de barriles predecidos: 68.9070 \n",
      "RMSE: 0.8924 \n",
      "\n",
      "Location 2: \n",
      "Volumen promedio de reservas de barriles predecidos: 94.9893 \n",
      "RMSE: 39.9807 \n",
      "\n"
     ]
    }
   ],
   "source": [
    "# Muestra de resultados predecidos por el modelo\n",
    "\n",
    "for location in locations:\n",
    "    print(f'{location}: \\nVolumen promedio de reservas de barriles predecidos: {mean_predict_locations[location]:.4f} \\nRMSE: {rmse_locations[location]:.4f} \\n')"
   ]
  },
  {
   "cell_type": "markdown",
   "metadata": {},
   "source": [
    "El volumen promedio de reservas de barriles predecidos, apunta a la cantidad promedio de produccion de los pozos en una zona especifica. Esto se calcula considerando todas las predicciones de reservas de petroleo en el connjunto de validacion, para obtener la media.\n",
    "\n",
    "Los resultados predichos, indican que la `Location 2` produce la mayor cantidad de volumen de reservas pero muy de cerca esta la zona `Location 0`, la diferencia entre ambas, es que la localidad \"0\" presenta mas concentracion en sus datos, lo que implica menos volatilidad en los calculos, teninedo un RMSE mas bajo que favorece a la region para implementar la mayoria de pozos.\n",
    "\n",
    "Por ultimo estos valores no concuerdan con la inversion planteada, por lo que se requiere comproban si el volumen medio de reservas, es suficiente para cubrir la inversion. A tener en consideracion, que la inversion es de 100.000.000 de dolares, por 200 pozos petroliferos, por lo que la media de cada pozo debe ser de 50.000 dolares, en unidades(valor 4.500 dolares),  para evitar perdidas, esto quiere decir que se necesitan 111.11 unidades producidas por pozo"
   ]
  },
  {
   "cell_type": "markdown",
   "metadata": {},
   "source": [
    "<div class=\"alert alert-block alert-warning\">\n",
    "<b>Comentario del revisor (1ra Iteracion)</b> <a class=“tocSkip”></a>\n",
    "\n",
    "Buen trabajo con los entrenamientos! Si bien los otros modelos pueden presentar volúmenes mucho mayores que las predicciones de la región 1 estas tienen un error de predicción más alto lo cual al momento de llevarlo a la vida real no resultará cómo en las predicciones, recuerda siempre tomar en cuenta la métrica de error de tu modelo para considerar cual es mejor y así ver en base a sus predicciones\n",
    "</div>"
   ]
  },
  {
   "cell_type": "code",
   "execution_count": 55,
   "metadata": {},
   "outputs": [
    {
     "name": "stdout",
     "output_type": "stream",
     "text": [
      "Location 0: Unidades predecidas (92.4240), cubren las unidades requeridas (111.1) por el proyecto? => No\n",
      "Location 1: Unidades predecidas (68.9070), cubren las unidades requeridas (111.1) por el proyecto? => No\n",
      "Location 2: Unidades predecidas (94.9893), cubren las unidades requeridas (111.1) por el proyecto? => No\n"
     ]
    }
   ],
   "source": [
    "# Declaracion de variables del negocio, y muestra si las reservas promedio son suficientes para cubrir la inversion \n",
    "\n",
    "budget = 100000000\n",
    "wells = 200\n",
    "price_unit = 4500\n",
    "required_units = budget/(wells*price_unit)\n",
    "\n",
    "for location in locations:\n",
    "    print(f'{location}: Unidades predecidas ({mean_predict_locations[location]:.4f}), cubren las unidades requeridas ({required_units:.1f}) por el proyecto? => {\"Si\" if mean_predict_locations[location] >= required_units else \"No\"}')"
   ]
  },
  {
   "cell_type": "markdown",
   "metadata": {},
   "source": [
    "Ninguna localidad satisface el el nivel minimo de unidades, para cubrir la inversion del proyecto, se puede sugeriri no realizar la inversion hasta obtener mas informacion, desarrollo de mejores condiciones o explorar otras localidades mas productivas. Por otra parte, si es necesario continuar con el negocio se deben preferir los pozos con la prediccion de reservas mas alta, seguido por un estudio integro de riesgos para disminuir las perdidas.\n",
    "\n",
    "Por ultimo, el calculo de beneficios, se seleccionaran 200 pozos con los valores de prediccion mas altos, para estimar la ganancia recibida."
   ]
  },
  {
   "cell_type": "code",
   "execution_count": 56,
   "metadata": {},
   "outputs": [],
   "source": [
    "# Almacenar variables de resultados para los datos de validadcion \n",
    "\n",
    "results_valid = {}\n",
    "for location in locations:\n",
    "    results_valid[location] = {}\n",
    "    results_valid[location]['features_valid'], results_valid[location]['target_valid'], results_valid[location]['predictions'] = split_data[location]['features_valid'], split_data[location]['target_valid'], predictions_locations[location] "
   ]
  },
  {
   "cell_type": "markdown",
   "metadata": {},
   "source": [
    "## Ganancias y riesgos"
   ]
  },
  {
   "cell_type": "markdown",
   "metadata": {},
   "source": [
    "En este capitulo, se seleccionaran los mejores 200 pozos para cada localidad, para ello se utilizaran los valores de prediccion mas altos, con el fin de obtener la ganancia generada por cada zona, por ello se desarrollaran datasets, que contienen datos del conjunto de validacion original y datos predichos para contrastar con los valores reales de produccion."
   ]
  },
  {
   "cell_type": "code",
   "execution_count": 57,
   "metadata": {},
   "outputs": [],
   "source": [
    "# Generando datasets de produccion por localidad\n",
    "\n",
    "production_locations = {}\n",
    "for location in locations:\n",
    "    production_locations[location] = pd.DataFrame({\n",
    "        'id' : range(1, len(results_valid[location]['predictions']) + 1),\n",
    "        'product_prediction' : results_valid[location]['predictions'],\n",
    "        'actual_production' : results_valid[location]['target_valid']})"
   ]
  },
  {
   "cell_type": "code",
   "execution_count": 58,
   "metadata": {},
   "outputs": [],
   "source": [
    "# Funcion de de ganancias potenciales de los mejores pozos por localidad\n",
    "\n",
    "def profit_sample(df_predict):\n",
    "    best_wells = df_predict.sort_values(by='product_prediction', ascending=False).head(200)\n",
    "    total_volume = best_wells['actual_production'].sum()\n",
    "    total_income = total_volume * price_unit\n",
    "    potential_profit = total_income - budget\n",
    "    return potential_profit"
   ]
  },
  {
   "cell_type": "markdown",
   "metadata": {},
   "source": [
    "Con las predicciones almacenadas, se aplica la la tecnica de bootstrapping con 1000 muestras para hallar la distribucion de los beneficios. Por otra parte calculara las ganancias promedios, el intervalo de confianza (95%) y por ultimo el riesgo de perdidas. "
   ]
  },
  {
   "cell_type": "code",
   "execution_count": 59,
   "metadata": {},
   "outputs": [],
   "source": [
    "# Funcion para aplicartecnica de bootstrapping\n",
    "\n",
    "mean_profit, lower_limit, upper_limit, risk = {},{},{},{}\n",
    "def bootstrap_results(df_profit, n_sample = 1000, sample_size = 500):\n",
    "    profits = []\n",
    "    for _ in range(n_sample):\n",
    "        sample = df_profit.sample(n = sample_size, replace = True, random_state = seed)\n",
    "        potential_profit = profit_sample(sample)\n",
    "        profits.append(potential_profit)\n",
    "    profits = np.array(profits)\n",
    "    mean_profit[location] = np.mean(profits)\n",
    "    lower_limit[location] = np.percentile(profits, 2.5)\n",
    "    upper_limit[location] = np.percentile(profits, 97.5)\n",
    "    risk[location] = np.mean(profits < 0)\n",
    "    return mean_profit, lower_limit, upper_limit, risk"
   ]
  },
  {
   "cell_type": "code",
   "execution_count": 60,
   "metadata": {},
   "outputs": [
    {
     "name": "stdout",
     "output_type": "stream",
     "text": [
      "Resultados de bootstrapping\n",
      "Location 0:\n",
      " Media de ganancias: $4,599,756.8527\n",
      " Intervalo de confianza (2.5 - 97.5): $-14,902.2013 - $9,441,613.3190\n",
      " Riesgo: 2.70%\n",
      "\n",
      "Location 1:\n",
      " Media de ganancias: $4,439,808.2615\n",
      " Intervalo de confianza (2.5 - 97.5): $403,421.6190 - $8,500,953.5475\n",
      " Riesgo: 1.60%\n",
      "\n",
      "Location 2:\n",
      " Media de ganancias: $4,101,362.9097\n",
      " Intervalo de confianza (2.5 - 97.5): $-1,100,592.4771 - $9,306,739.2524\n",
      " Riesgo: 5.70%\n",
      "\n"
     ]
    }
   ],
   "source": [
    "# Muestra de resultados\n",
    "\n",
    "print('Resultados de bootstrapping')\n",
    "for location in locations:\n",
    "    bootstrap_results(production_locations[location])\n",
    "    print(f'{location}:\\n Media de ganancias: ${mean_profit[location]:,.4f}\\n Intervalo de confianza (2.5 - 97.5): ${lower_limit[location]:,.4f} - ${upper_limit[location]:,.4f}\\n Riesgo: {risk[location]*100:.2f}%\\n')"
   ]
  },
  {
   "cell_type": "markdown",
   "metadata": {},
   "source": [
    "<div class=\"alert alert-block alert-success\">\n",
    "<b>Comentario del revisor (1ra Iteracion)</b> <a class=“tocSkip”></a>\n",
    "\n",
    "Muy bien realizados los cálculos utilizando la funciones definidas!\n",
    "</div>"
   ]
  },
  {
   "cell_type": "markdown",
   "metadata": {},
   "source": [
    "## Conclusion general"
   ]
  },
  {
   "cell_type": "markdown",
   "metadata": {},
   "source": [
    "Analizando las variables y resultados finales del estudio, en el cual se aplicaron tecncias de estandarizacion de datos, validacion cruzada y bootstrapping, se puede sugerir que la mejor region para desarrollar el proyecto es `Location 1`, ya que es la region con mayor media de ganancias($4,504,562.0198), por otra parte es la zona con menor variabilidad en las estimaciones de las ganancias, ya que la diferencia de su intervalo de confianza es mas estrecha, por ultimo el porcentaje riesgo del 0.80% evidencia que es la zona con mas confianza para llevar a cabo el negocio.\n",
    "\n",
    "Siguiendo con el analisis, las zonas de `Location 0` y de `Location 2`, si bien tienen una media de ganancias cercana a `Location 1`, estas localizaciones tienen un intervalo de confianza mas holgado, lo que permite mayor variabilidad en la estimacion de ganancias, generando una mayor inseguridad de llevar acabo el proyecto en esas localidades, lo que concuerda con el alto porcentaje de riesgo (3.90% y 6.40% respectivamente) de ambas zonas."
   ]
  },
  {
   "cell_type": "markdown",
   "metadata": {},
   "source": [
    "<div class=\"alert alert-block alert-warning\">\n",
    "<b>Comentario del revisor (1ra Iteracion)</b> <a class=“tocSkip”></a>\n",
    "\n",
    "Buen trabajo Javier! Analizaste correctamente los resultados, cuando se hace este tipo de aplicaciones con modelos predictivos siempre hay que tener en cuenta la métrica de error ya que si tenemos un modelo que puede mostrar más beneficio pero su métrica de error es alta quiere decir que cuando sea aplicado puede que no se acerque a ese beneficio.\n",
    "    \n",
    "Saludos!\n",
    "</div>"
   ]
  }
 ],
 "metadata": {
  "ExecuteTimeLog": [
   {
    "duration": 329,
    "start_time": "2024-10-20T04:59:56.485Z"
   },
   {
    "duration": 2637,
    "start_time": "2024-10-20T04:59:58.768Z"
   },
   {
    "duration": 297,
    "start_time": "2024-10-20T05:00:03.814Z"
   },
   {
    "duration": 10,
    "start_time": "2024-10-20T05:00:06.656Z"
   },
   {
    "duration": 12,
    "start_time": "2024-10-20T05:00:08.945Z"
   },
   {
    "duration": 26,
    "start_time": "2024-10-20T05:00:09.890Z"
   },
   {
    "duration": 7,
    "start_time": "2024-10-20T05:00:12.139Z"
   },
   {
    "duration": 12,
    "start_time": "2024-10-20T05:00:12.786Z"
   },
   {
    "duration": 26,
    "start_time": "2024-10-20T05:00:13.181Z"
   },
   {
    "duration": 7,
    "start_time": "2024-10-20T05:00:14.443Z"
   },
   {
    "duration": 11,
    "start_time": "2024-10-20T05:00:15.004Z"
   },
   {
    "duration": 24,
    "start_time": "2024-10-20T05:00:15.660Z"
   },
   {
    "duration": 158,
    "start_time": "2024-10-20T11:36:54.448Z"
   },
   {
    "duration": 329,
    "start_time": "2024-10-20T11:37:08.951Z"
   },
   {
    "duration": 2939,
    "start_time": "2024-10-20T11:37:09.927Z"
   },
   {
    "duration": 0,
    "start_time": "2024-10-20T11:37:12.868Z"
   },
   {
    "duration": 16,
    "start_time": "2024-10-20T11:37:20.890Z"
   },
   {
    "duration": 15,
    "start_time": "2024-10-20T11:37:41.641Z"
   },
   {
    "duration": 15,
    "start_time": "2024-10-20T11:37:44.703Z"
   },
   {
    "duration": 3,
    "start_time": "2024-10-20T11:37:59.879Z"
   },
   {
    "duration": 298,
    "start_time": "2024-10-20T11:38:02.660Z"
   },
   {
    "duration": 10,
    "start_time": "2024-10-20T11:38:05.299Z"
   },
   {
    "duration": 13,
    "start_time": "2024-10-20T11:38:05.603Z"
   },
   {
    "duration": 25,
    "start_time": "2024-10-20T11:38:06.162Z"
   },
   {
    "duration": 8,
    "start_time": "2024-10-20T11:38:06.953Z"
   },
   {
    "duration": 11,
    "start_time": "2024-10-20T11:38:07.190Z"
   },
   {
    "duration": 24,
    "start_time": "2024-10-20T11:38:07.402Z"
   },
   {
    "duration": 7,
    "start_time": "2024-10-20T11:38:07.767Z"
   },
   {
    "duration": 11,
    "start_time": "2024-10-20T11:38:07.939Z"
   },
   {
    "duration": 26,
    "start_time": "2024-10-20T11:38:08.354Z"
   },
   {
    "duration": 9,
    "start_time": "2024-10-20T11:38:10.118Z"
   },
   {
    "duration": 15,
    "start_time": "2024-10-20T11:38:21.888Z"
   },
   {
    "duration": 8,
    "start_time": "2024-10-20T11:38:30.107Z"
   },
   {
    "duration": 8,
    "start_time": "2024-10-20T11:38:35.105Z"
   },
   {
    "duration": 8,
    "start_time": "2024-10-20T11:38:38.003Z"
   },
   {
    "duration": 35,
    "start_time": "2024-10-20T11:39:02.568Z"
   },
   {
    "duration": 40,
    "start_time": "2024-10-20T11:39:10.481Z"
   },
   {
    "duration": 33,
    "start_time": "2024-10-20T11:39:15.261Z"
   },
   {
    "duration": 10,
    "start_time": "2024-10-20T11:59:31.762Z"
   },
   {
    "duration": 9,
    "start_time": "2024-10-20T11:59:34.039Z"
   },
   {
    "duration": 5,
    "start_time": "2024-10-20T11:59:41.659Z"
   },
   {
    "duration": 17,
    "start_time": "2024-10-20T11:59:44.423Z"
   },
   {
    "duration": 14,
    "start_time": "2024-10-20T12:00:13.419Z"
   },
   {
    "duration": 111,
    "start_time": "2024-10-20T12:00:31.193Z"
   },
   {
    "duration": 329,
    "start_time": "2024-10-22T18:10:26.787Z"
   },
   {
    "duration": 2684,
    "start_time": "2024-10-22T18:10:27.120Z"
   },
   {
    "duration": 293,
    "start_time": "2024-10-22T18:10:29.806Z"
   },
   {
    "duration": 11,
    "start_time": "2024-10-22T18:10:30.102Z"
   },
   {
    "duration": 12,
    "start_time": "2024-10-22T18:10:30.114Z"
   },
   {
    "duration": 25,
    "start_time": "2024-10-22T18:10:30.128Z"
   },
   {
    "duration": 7,
    "start_time": "2024-10-22T18:10:30.170Z"
   },
   {
    "duration": 10,
    "start_time": "2024-10-22T18:10:30.179Z"
   },
   {
    "duration": 24,
    "start_time": "2024-10-22T18:10:30.190Z"
   },
   {
    "duration": 7,
    "start_time": "2024-10-22T18:10:30.217Z"
   },
   {
    "duration": 9,
    "start_time": "2024-10-22T18:10:30.226Z"
   },
   {
    "duration": 25,
    "start_time": "2024-10-22T18:10:30.269Z"
   },
   {
    "duration": 9,
    "start_time": "2024-10-22T18:10:30.295Z"
   },
   {
    "duration": 18,
    "start_time": "2024-10-22T18:10:30.306Z"
   },
   {
    "duration": 14,
    "start_time": "2024-10-22T18:10:30.326Z"
   },
   {
    "duration": 151,
    "start_time": "2024-10-22T18:10:30.342Z"
   },
   {
    "duration": 530,
    "start_time": "2024-10-22T18:10:32.686Z"
   },
   {
    "duration": 2235,
    "start_time": "2024-10-22T18:10:49.819Z"
   },
   {
    "duration": 204,
    "start_time": "2024-10-22T18:12:41.856Z"
   },
   {
    "duration": 186,
    "start_time": "2024-10-22T18:12:49.166Z"
   },
   {
    "duration": 239,
    "start_time": "2024-10-22T18:12:55.762Z"
   },
   {
    "duration": 314,
    "start_time": "2024-10-22T18:13:02.950Z"
   },
   {
    "duration": 195,
    "start_time": "2024-10-22T18:22:14.787Z"
   },
   {
    "duration": 185,
    "start_time": "2024-10-22T18:22:29.495Z"
   },
   {
    "duration": 164,
    "start_time": "2024-10-22T18:22:33.839Z"
   },
   {
    "duration": 167,
    "start_time": "2024-10-22T18:22:45.037Z"
   },
   {
    "duration": 196,
    "start_time": "2024-10-22T18:22:48.286Z"
   },
   {
    "duration": 158,
    "start_time": "2024-10-22T18:25:57.576Z"
   },
   {
    "duration": 333,
    "start_time": "2024-10-22T18:26:04.657Z"
   },
   {
    "duration": 1016,
    "start_time": "2024-10-22T18:26:04.993Z"
   },
   {
    "duration": 317,
    "start_time": "2024-10-22T18:26:06.011Z"
   },
   {
    "duration": 12,
    "start_time": "2024-10-22T18:26:06.330Z"
   },
   {
    "duration": 14,
    "start_time": "2024-10-22T18:26:06.345Z"
   },
   {
    "duration": 34,
    "start_time": "2024-10-22T18:26:06.360Z"
   },
   {
    "duration": 6,
    "start_time": "2024-10-22T18:26:06.396Z"
   },
   {
    "duration": 10,
    "start_time": "2024-10-22T18:26:06.404Z"
   },
   {
    "duration": 23,
    "start_time": "2024-10-22T18:26:06.416Z"
   },
   {
    "duration": 6,
    "start_time": "2024-10-22T18:26:06.470Z"
   },
   {
    "duration": 11,
    "start_time": "2024-10-22T18:26:06.478Z"
   },
   {
    "duration": 24,
    "start_time": "2024-10-22T18:26:06.490Z"
   },
   {
    "duration": 9,
    "start_time": "2024-10-22T18:26:06.516Z"
   },
   {
    "duration": 49,
    "start_time": "2024-10-22T18:26:06.527Z"
   },
   {
    "duration": 15,
    "start_time": "2024-10-22T18:26:06.578Z"
   },
   {
    "duration": 130,
    "start_time": "2024-10-22T18:26:06.595Z"
   },
   {
    "duration": 31132,
    "start_time": "2024-10-22T18:26:06.728Z"
   },
   {
    "duration": 3494,
    "start_time": "2024-10-22T18:26:37.862Z"
   },
   {
    "duration": 2977,
    "start_time": "2024-10-22T18:26:48.469Z"
   },
   {
    "duration": 3194,
    "start_time": "2024-10-22T18:27:09.865Z"
   },
   {
    "duration": 3273,
    "start_time": "2024-10-22T18:27:23.755Z"
   },
   {
    "duration": 91,
    "start_time": "2024-10-22T18:27:41.543Z"
   },
   {
    "duration": 3331,
    "start_time": "2024-10-22T18:39:02.277Z"
   },
   {
    "duration": 2317,
    "start_time": "2024-10-22T18:39:08.153Z"
   },
   {
    "duration": 35,
    "start_time": "2024-10-22T18:39:23.567Z"
   },
   {
    "duration": 93,
    "start_time": "2024-10-22T18:40:51.700Z"
   },
   {
    "duration": 2,
    "start_time": "2024-10-22T18:41:28.238Z"
   },
   {
    "duration": 4,
    "start_time": "2024-10-22T18:43:40.011Z"
   },
   {
    "duration": 201,
    "start_time": "2024-11-11T19:37:51.222Z"
   },
   {
    "duration": 365,
    "start_time": "2024-11-11T19:38:02.042Z"
   },
   {
    "duration": 3552,
    "start_time": "2024-11-11T19:38:02.418Z"
   },
   {
    "duration": 413,
    "start_time": "2024-11-11T19:38:05.972Z"
   },
   {
    "duration": 11,
    "start_time": "2024-11-11T19:38:06.388Z"
   },
   {
    "duration": 20,
    "start_time": "2024-11-11T19:38:06.403Z"
   },
   {
    "duration": 33,
    "start_time": "2024-11-11T19:38:06.426Z"
   },
   {
    "duration": 8,
    "start_time": "2024-11-11T19:38:06.461Z"
   },
   {
    "duration": 13,
    "start_time": "2024-11-11T19:38:06.470Z"
   },
   {
    "duration": 42,
    "start_time": "2024-11-11T19:38:06.486Z"
   },
   {
    "duration": 7,
    "start_time": "2024-11-11T19:38:06.530Z"
   },
   {
    "duration": 23,
    "start_time": "2024-11-11T19:38:06.539Z"
   },
   {
    "duration": 28,
    "start_time": "2024-11-11T19:38:06.564Z"
   },
   {
    "duration": 26,
    "start_time": "2024-11-11T19:38:06.594Z"
   },
   {
    "duration": 25,
    "start_time": "2024-11-11T19:38:06.623Z"
   },
   {
    "duration": 15,
    "start_time": "2024-11-11T19:38:06.650Z"
   },
   {
    "duration": 173,
    "start_time": "2024-11-11T19:38:06.667Z"
   },
   {
    "duration": 16,
    "start_time": "2024-11-11T19:38:06.841Z"
   },
   {
    "duration": 5,
    "start_time": "2024-11-11T19:38:06.859Z"
   },
   {
    "duration": 0,
    "start_time": "2024-11-11T19:38:06.867Z"
   },
   {
    "duration": 0,
    "start_time": "2024-11-11T19:38:06.868Z"
   },
   {
    "duration": 0,
    "start_time": "2024-11-11T19:38:06.869Z"
   },
   {
    "duration": 181,
    "start_time": "2024-11-11T19:38:12.976Z"
   },
   {
    "duration": 4,
    "start_time": "2024-11-11T19:38:14.493Z"
   },
   {
    "duration": 507,
    "start_time": "2024-11-11T19:38:53.849Z"
   },
   {
    "duration": 123,
    "start_time": "2024-11-11T19:38:59.577Z"
   },
   {
    "duration": 170,
    "start_time": "2024-11-11T19:40:44.789Z"
   },
   {
    "duration": 622,
    "start_time": "2024-11-11T19:42:17.492Z"
   },
   {
    "duration": 1055,
    "start_time": "2024-11-11T19:50:30.133Z"
   },
   {
    "duration": 585,
    "start_time": "2024-11-11T19:51:03.873Z"
   },
   {
    "duration": 15,
    "start_time": "2024-11-11T19:53:22.162Z"
   },
   {
    "duration": 403,
    "start_time": "2024-11-11T19:53:29.147Z"
   },
   {
    "duration": 351,
    "start_time": "2024-11-11T19:54:46.884Z"
   },
   {
    "duration": 329,
    "start_time": "2024-11-11T19:54:51.623Z"
   },
   {
    "duration": 12,
    "start_time": "2024-11-11T20:09:49.294Z"
   },
   {
    "duration": 12,
    "start_time": "2024-11-11T20:10:20.267Z"
   },
   {
    "duration": 14,
    "start_time": "2024-11-11T20:10:21.406Z"
   },
   {
    "duration": 28,
    "start_time": "2024-11-11T20:54:43.318Z"
   },
   {
    "duration": 174,
    "start_time": "2024-11-11T21:06:25.088Z"
   },
   {
    "duration": 13,
    "start_time": "2024-11-11T21:06:38.369Z"
   },
   {
    "duration": 54,
    "start_time": "2024-11-11T21:06:44.921Z"
   },
   {
    "duration": 1148,
    "start_time": "2024-11-11T21:06:57.390Z"
   },
   {
    "duration": 1007,
    "start_time": "2024-11-11T21:07:12.509Z"
   },
   {
    "duration": 130,
    "start_time": "2024-11-11T21:07:37.357Z"
   },
   {
    "duration": 60,
    "start_time": "2024-11-11T21:07:42.918Z"
   },
   {
    "duration": 577,
    "start_time": "2024-11-11T21:07:47.778Z"
   },
   {
    "duration": 414,
    "start_time": "2024-11-11T21:08:46.135Z"
   },
   {
    "duration": 3,
    "start_time": "2024-11-11T21:09:15.730Z"
   },
   {
    "duration": 55,
    "start_time": "2024-11-11T21:09:23.431Z"
   },
   {
    "duration": 3,
    "start_time": "2024-11-11T21:09:43.113Z"
   },
   {
    "duration": 98,
    "start_time": "2024-11-11T21:09:46.405Z"
   },
   {
    "duration": 508,
    "start_time": "2024-11-11T21:09:56.959Z"
   },
   {
    "duration": 570,
    "start_time": "2024-11-11T21:19:02.315Z"
   },
   {
    "duration": 18,
    "start_time": "2024-11-11T21:19:10.263Z"
   },
   {
    "duration": 18,
    "start_time": "2024-11-11T21:19:22.332Z"
   },
   {
    "duration": 20,
    "start_time": "2024-11-11T22:53:21.124Z"
   },
   {
    "duration": 20,
    "start_time": "2024-11-11T22:53:26.704Z"
   },
   {
    "duration": 7,
    "start_time": "2024-11-11T22:53:27.445Z"
   },
   {
    "duration": 76,
    "start_time": "2024-11-11T22:53:28.580Z"
   },
   {
    "duration": 15,
    "start_time": "2024-11-11T22:53:29.550Z"
   },
   {
    "duration": 17,
    "start_time": "2024-11-11T22:53:30.284Z"
   },
   {
    "duration": 93,
    "start_time": "2024-11-11T22:53:30.986Z"
   },
   {
    "duration": 332,
    "start_time": "2024-11-13T01:31:56.079Z"
   },
   {
    "duration": 2741,
    "start_time": "2024-11-13T01:31:56.414Z"
   },
   {
    "duration": 312,
    "start_time": "2024-11-13T01:31:59.157Z"
   },
   {
    "duration": 11,
    "start_time": "2024-11-13T01:31:59.472Z"
   },
   {
    "duration": 12,
    "start_time": "2024-11-13T01:31:59.485Z"
   },
   {
    "duration": 37,
    "start_time": "2024-11-13T01:31:59.499Z"
   },
   {
    "duration": 7,
    "start_time": "2024-11-13T01:31:59.537Z"
   },
   {
    "duration": 11,
    "start_time": "2024-11-13T01:31:59.546Z"
   },
   {
    "duration": 25,
    "start_time": "2024-11-13T01:31:59.558Z"
   },
   {
    "duration": 40,
    "start_time": "2024-11-13T01:31:59.584Z"
   },
   {
    "duration": 12,
    "start_time": "2024-11-13T01:31:59.625Z"
   },
   {
    "duration": 8,
    "start_time": "2024-11-13T01:32:53.701Z"
   },
   {
    "duration": 285,
    "start_time": "2024-11-13T01:32:55.963Z"
   },
   {
    "duration": 10,
    "start_time": "2024-11-13T01:33:16.198Z"
   },
   {
    "duration": 13,
    "start_time": "2024-11-13T01:33:17.660Z"
   },
   {
    "duration": 5,
    "start_time": "2024-11-13T01:33:35.888Z"
   },
   {
    "duration": 11,
    "start_time": "2024-11-13T01:33:38.729Z"
   },
   {
    "duration": 4,
    "start_time": "2024-11-13T01:33:51.698Z"
   },
   {
    "duration": 13,
    "start_time": "2024-11-13T01:37:05.892Z"
   },
   {
    "duration": 8,
    "start_time": "2024-11-13T01:37:39.051Z"
   },
   {
    "duration": 11,
    "start_time": "2024-11-13T01:37:51.663Z"
   },
   {
    "duration": 9,
    "start_time": "2024-11-13T01:38:02.512Z"
   },
   {
    "duration": 35,
    "start_time": "2024-11-13T01:38:22.395Z"
   },
   {
    "duration": 30,
    "start_time": "2024-11-13T01:38:22.845Z"
   },
   {
    "duration": 34,
    "start_time": "2024-11-13T01:38:23.300Z"
   },
   {
    "duration": 11,
    "start_time": "2024-11-13T01:39:12.547Z"
   },
   {
    "duration": 11,
    "start_time": "2024-11-13T01:39:12.925Z"
   },
   {
    "duration": 11,
    "start_time": "2024-11-13T01:39:13.516Z"
   },
   {
    "duration": 4225,
    "start_time": "2024-11-13T01:48:17.551Z"
   },
   {
    "duration": 4567,
    "start_time": "2024-11-13T01:49:06.031Z"
   },
   {
    "duration": 4882,
    "start_time": "2024-11-13T01:49:16.344Z"
   },
   {
    "duration": 5344,
    "start_time": "2024-11-13T01:50:26.758Z"
   },
   {
    "duration": 205,
    "start_time": "2024-11-13T01:51:05.875Z"
   },
   {
    "duration": 195,
    "start_time": "2024-11-13T01:51:29.735Z"
   },
   {
    "duration": 4961,
    "start_time": "2024-11-13T01:51:33.665Z"
   },
   {
    "duration": 4824,
    "start_time": "2024-11-13T01:54:41.087Z"
   },
   {
    "duration": 4802,
    "start_time": "2024-11-13T01:54:53.179Z"
   },
   {
    "duration": 5723,
    "start_time": "2024-11-13T01:55:11.312Z"
   },
   {
    "duration": 4337,
    "start_time": "2024-11-13T01:55:31.764Z"
   },
   {
    "duration": 4,
    "start_time": "2024-11-13T02:01:34.945Z"
   },
   {
    "duration": 1310,
    "start_time": "2024-11-13T02:01:47.272Z"
   },
   {
    "duration": 0,
    "start_time": "2024-11-13T02:14:45.805Z"
   },
   {
    "duration": 0,
    "start_time": "2024-11-13T02:14:45.806Z"
   },
   {
    "duration": 3,
    "start_time": "2024-11-13T02:14:49.380Z"
   },
   {
    "duration": 371,
    "start_time": "2024-11-13T02:14:51.609Z"
   },
   {
    "duration": 645,
    "start_time": "2024-11-13T02:15:34.310Z"
   },
   {
    "duration": 3,
    "start_time": "2024-11-13T02:17:16.887Z"
   },
   {
    "duration": 4,
    "start_time": "2024-11-13T02:17:33.626Z"
   },
   {
    "duration": 610,
    "start_time": "2024-11-13T02:17:37.099Z"
   },
   {
    "duration": 579,
    "start_time": "2024-11-13T02:17:53.969Z"
   },
   {
    "duration": 613,
    "start_time": "2024-11-13T02:17:54.766Z"
   },
   {
    "duration": 337,
    "start_time": "2024-11-13T02:18:59.489Z"
   },
   {
    "duration": 1051,
    "start_time": "2024-11-13T02:18:59.828Z"
   },
   {
    "duration": 231,
    "start_time": "2024-11-13T02:19:00.880Z"
   },
   {
    "duration": 14,
    "start_time": "2024-11-13T02:19:01.113Z"
   },
   {
    "duration": 11,
    "start_time": "2024-11-13T02:19:01.129Z"
   },
   {
    "duration": 25,
    "start_time": "2024-11-13T02:19:01.141Z"
   },
   {
    "duration": 7,
    "start_time": "2024-11-13T02:19:01.167Z"
   },
   {
    "duration": 12,
    "start_time": "2024-11-13T02:19:01.176Z"
   },
   {
    "duration": 55,
    "start_time": "2024-11-13T02:19:01.189Z"
   },
   {
    "duration": 7,
    "start_time": "2024-11-13T02:19:01.247Z"
   },
   {
    "duration": 12,
    "start_time": "2024-11-13T02:19:01.256Z"
   },
   {
    "duration": 24,
    "start_time": "2024-11-13T02:19:01.269Z"
   },
   {
    "duration": 36,
    "start_time": "2024-11-13T02:19:01.295Z"
   },
   {
    "duration": 8,
    "start_time": "2024-11-13T02:19:01.333Z"
   },
   {
    "duration": 7,
    "start_time": "2024-11-13T02:19:01.343Z"
   },
   {
    "duration": 32,
    "start_time": "2024-11-13T02:19:01.352Z"
   },
   {
    "duration": 54,
    "start_time": "2024-11-13T02:19:01.386Z"
   },
   {
    "duration": 32,
    "start_time": "2024-11-13T02:19:01.442Z"
   },
   {
    "duration": 2,
    "start_time": "2024-11-13T02:19:01.476Z"
   },
   {
    "duration": 4,
    "start_time": "2024-11-13T02:19:01.480Z"
   },
   {
    "duration": 636,
    "start_time": "2024-11-13T02:19:01.485Z"
   },
   {
    "duration": 594,
    "start_time": "2024-11-13T02:19:02.122Z"
   },
   {
    "duration": 853,
    "start_time": "2024-11-13T02:19:02.718Z"
   },
   {
    "duration": 11,
    "start_time": "2024-11-13T02:19:03.625Z"
   },
   {
    "duration": 14,
    "start_time": "2024-11-13T02:19:03.638Z"
   },
   {
    "duration": 10,
    "start_time": "2024-11-13T02:19:03.654Z"
   },
   {
    "duration": 2,
    "start_time": "2024-11-13T02:19:03.666Z"
   },
   {
    "duration": 4,
    "start_time": "2024-11-13T02:19:03.724Z"
   },
   {
    "duration": 383,
    "start_time": "2024-11-13T02:19:03.730Z"
   },
   {
    "duration": 0,
    "start_time": "2024-11-13T02:19:04.115Z"
   },
   {
    "duration": 0,
    "start_time": "2024-11-13T02:19:04.116Z"
   },
   {
    "duration": 0,
    "start_time": "2024-11-13T02:19:04.117Z"
   },
   {
    "duration": 0,
    "start_time": "2024-11-13T02:19:04.124Z"
   },
   {
    "duration": 0,
    "start_time": "2024-11-13T02:19:04.125Z"
   },
   {
    "duration": 13,
    "start_time": "2024-11-13T02:20:40.234Z"
   },
   {
    "duration": 4,
    "start_time": "2024-11-13T02:20:44.181Z"
   },
   {
    "duration": 836,
    "start_time": "2024-11-13T02:20:45.036Z"
   },
   {
    "duration": 4,
    "start_time": "2024-11-13T02:20:54.192Z"
   },
   {
    "duration": 301,
    "start_time": "2024-11-13T02:20:55.696Z"
   },
   {
    "duration": 3,
    "start_time": "2024-11-13T02:21:14.408Z"
   },
   {
    "duration": 289,
    "start_time": "2024-11-13T02:21:15.907Z"
   },
   {
    "duration": 4,
    "start_time": "2024-11-13T02:21:20.488Z"
   },
   {
    "duration": 288,
    "start_time": "2024-11-13T02:21:20.852Z"
   },
   {
    "duration": 6,
    "start_time": "2024-11-13T02:22:29.041Z"
   },
   {
    "duration": 294,
    "start_time": "2024-11-13T02:22:31.409Z"
   },
   {
    "duration": 4,
    "start_time": "2024-11-13T02:22:43.513Z"
   },
   {
    "duration": 398,
    "start_time": "2024-11-13T02:22:44.994Z"
   },
   {
    "duration": 4,
    "start_time": "2024-11-13T02:22:54.141Z"
   },
   {
    "duration": 558,
    "start_time": "2024-11-13T02:22:54.973Z"
   },
   {
    "duration": 3,
    "start_time": "2024-11-13T02:23:10.036Z"
   },
   {
    "duration": 433,
    "start_time": "2024-11-13T02:23:11.962Z"
   },
   {
    "duration": 272,
    "start_time": "2024-11-13T02:24:41.119Z"
   },
   {
    "duration": 272,
    "start_time": "2024-11-13T02:24:41.764Z"
   },
   {
    "duration": 16,
    "start_time": "2024-11-13T02:34:22.517Z"
   },
   {
    "duration": 2,
    "start_time": "2024-11-13T02:45:06.743Z"
   },
   {
    "duration": 17,
    "start_time": "2024-11-13T02:48:23.813Z"
   },
   {
    "duration": 25,
    "start_time": "2024-11-13T02:48:41.180Z"
   },
   {
    "duration": 24,
    "start_time": "2024-11-13T02:50:38.862Z"
   },
   {
    "duration": 25,
    "start_time": "2024-11-13T02:50:50.242Z"
   },
   {
    "duration": 20,
    "start_time": "2024-11-13T02:50:58.512Z"
   },
   {
    "duration": 15,
    "start_time": "2024-11-13T02:51:15.951Z"
   },
   {
    "duration": 16,
    "start_time": "2024-11-13T02:51:31.412Z"
   },
   {
    "duration": 17,
    "start_time": "2024-11-13T02:52:10.639Z"
   },
   {
    "duration": 5,
    "start_time": "2024-11-13T02:52:22.350Z"
   },
   {
    "duration": 28,
    "start_time": "2024-11-13T02:52:25.680Z"
   },
   {
    "duration": 3,
    "start_time": "2024-11-13T02:52:26.314Z"
   },
   {
    "duration": 3,
    "start_time": "2024-11-13T02:52:26.783Z"
   },
   {
    "duration": 41,
    "start_time": "2024-11-13T03:14:14.523Z"
   },
   {
    "duration": 3,
    "start_time": "2024-11-13T03:14:16.821Z"
   },
   {
    "duration": 15,
    "start_time": "2024-11-13T03:14:19.013Z"
   },
   {
    "duration": 4,
    "start_time": "2024-11-13T03:47:06.360Z"
   },
   {
    "duration": 15,
    "start_time": "2024-11-13T03:47:07.072Z"
   },
   {
    "duration": 359,
    "start_time": "2024-11-13T03:47:20.119Z"
   },
   {
    "duration": 4,
    "start_time": "2024-11-13T03:47:20.481Z"
   },
   {
    "duration": 202,
    "start_time": "2024-11-13T03:47:20.487Z"
   },
   {
    "duration": 7,
    "start_time": "2024-11-13T03:47:20.692Z"
   },
   {
    "duration": 22,
    "start_time": "2024-11-13T03:47:20.701Z"
   },
   {
    "duration": 26,
    "start_time": "2024-11-13T03:47:20.725Z"
   },
   {
    "duration": 7,
    "start_time": "2024-11-13T03:47:20.752Z"
   },
   {
    "duration": 11,
    "start_time": "2024-11-13T03:47:20.761Z"
   },
   {
    "duration": 24,
    "start_time": "2024-11-13T03:47:20.774Z"
   },
   {
    "duration": 30,
    "start_time": "2024-11-13T03:47:20.800Z"
   },
   {
    "duration": 13,
    "start_time": "2024-11-13T03:47:20.832Z"
   },
   {
    "duration": 26,
    "start_time": "2024-11-13T03:47:20.847Z"
   },
   {
    "duration": 8,
    "start_time": "2024-11-13T03:47:20.875Z"
   },
   {
    "duration": 40,
    "start_time": "2024-11-13T03:47:20.884Z"
   },
   {
    "duration": 7,
    "start_time": "2024-11-13T03:47:20.926Z"
   },
   {
    "duration": 29,
    "start_time": "2024-11-13T03:47:20.935Z"
   },
   {
    "duration": 28,
    "start_time": "2024-11-13T03:47:20.966Z"
   },
   {
    "duration": 54,
    "start_time": "2024-11-13T03:47:20.996Z"
   },
   {
    "duration": 13,
    "start_time": "2024-11-13T03:47:21.053Z"
   },
   {
    "duration": 3,
    "start_time": "2024-11-13T03:47:21.067Z"
   },
   {
    "duration": 615,
    "start_time": "2024-11-13T03:47:21.072Z"
   },
   {
    "duration": 605,
    "start_time": "2024-11-13T03:47:21.689Z"
   },
   {
    "duration": 785,
    "start_time": "2024-11-13T03:47:22.296Z"
   },
   {
    "duration": 5,
    "start_time": "2024-11-13T03:47:23.083Z"
   },
   {
    "duration": 263,
    "start_time": "2024-11-13T03:47:23.090Z"
   },
   {
    "duration": 277,
    "start_time": "2024-11-13T03:47:23.355Z"
   },
   {
    "duration": 278,
    "start_time": "2024-11-13T03:47:23.634Z"
   },
   {
    "duration": 19,
    "start_time": "2024-11-13T03:47:23.915Z"
   },
   {
    "duration": 9,
    "start_time": "2024-11-13T03:47:23.936Z"
   },
   {
    "duration": 10,
    "start_time": "2024-11-13T03:47:23.946Z"
   },
   {
    "duration": 5,
    "start_time": "2024-11-13T03:47:23.957Z"
   },
   {
    "duration": 19,
    "start_time": "2024-11-13T03:47:23.964Z"
   },
   {
    "duration": 2,
    "start_time": "2024-11-13T03:47:23.985Z"
   },
   {
    "duration": 36,
    "start_time": "2024-11-13T03:47:23.989Z"
   },
   {
    "duration": 4,
    "start_time": "2024-11-13T03:47:28.093Z"
   },
   {
    "duration": 35,
    "start_time": "2024-11-13T03:47:28.512Z"
   },
   {
    "duration": 16,
    "start_time": "2024-11-13T03:47:29.272Z"
   },
   {
    "duration": 16,
    "start_time": "2024-11-13T03:47:29.779Z"
   },
   {
    "duration": 8,
    "start_time": "2024-11-13T14:11:27.375Z"
   },
   {
    "duration": 160,
    "start_time": "2024-11-13T14:11:39.263Z"
   },
   {
    "duration": 340,
    "start_time": "2024-11-13T14:11:51.838Z"
   },
   {
    "duration": 2711,
    "start_time": "2024-11-13T14:11:52.180Z"
   },
   {
    "duration": 293,
    "start_time": "2024-11-13T14:11:54.893Z"
   },
   {
    "duration": 12,
    "start_time": "2024-11-13T14:11:55.189Z"
   },
   {
    "duration": 11,
    "start_time": "2024-11-13T14:11:55.202Z"
   },
   {
    "duration": 33,
    "start_time": "2024-11-13T14:11:55.216Z"
   },
   {
    "duration": 7,
    "start_time": "2024-11-13T14:11:55.251Z"
   },
   {
    "duration": 11,
    "start_time": "2024-11-13T14:11:55.260Z"
   },
   {
    "duration": 24,
    "start_time": "2024-11-13T14:11:55.272Z"
   },
   {
    "duration": 7,
    "start_time": "2024-11-13T14:11:55.299Z"
   },
   {
    "duration": 43,
    "start_time": "2024-11-13T14:11:55.308Z"
   },
   {
    "duration": 25,
    "start_time": "2024-11-13T14:11:55.353Z"
   },
   {
    "duration": 8,
    "start_time": "2024-11-13T14:11:55.380Z"
   },
   {
    "duration": 8,
    "start_time": "2024-11-13T14:11:55.389Z"
   },
   {
    "duration": 8,
    "start_time": "2024-11-13T14:11:55.399Z"
   },
   {
    "duration": 69,
    "start_time": "2024-11-13T14:11:55.409Z"
   },
   {
    "duration": 33,
    "start_time": "2024-11-13T14:11:55.481Z"
   },
   {
    "duration": 55,
    "start_time": "2024-11-13T14:11:55.515Z"
   },
   {
    "duration": 13,
    "start_time": "2024-11-13T14:11:55.572Z"
   },
   {
    "duration": 3,
    "start_time": "2024-11-13T14:11:55.587Z"
   },
   {
    "duration": 635,
    "start_time": "2024-11-13T14:11:55.593Z"
   },
   {
    "duration": 651,
    "start_time": "2024-11-13T14:11:56.230Z"
   },
   {
    "duration": 621,
    "start_time": "2024-11-13T14:11:56.883Z"
   },
   {
    "duration": 4,
    "start_time": "2024-11-13T14:11:57.506Z"
   },
   {
    "duration": 261,
    "start_time": "2024-11-13T14:11:57.512Z"
   },
   {
    "duration": 355,
    "start_time": "2024-11-13T14:11:57.776Z"
   },
   {
    "duration": 270,
    "start_time": "2024-11-13T14:11:58.132Z"
   },
   {
    "duration": 10,
    "start_time": "2024-11-13T14:11:58.406Z"
   },
   {
    "duration": 24,
    "start_time": "2024-11-13T14:11:58.418Z"
   },
   {
    "duration": 10,
    "start_time": "2024-11-13T14:11:58.444Z"
   },
   {
    "duration": 5,
    "start_time": "2024-11-13T14:11:58.456Z"
   },
   {
    "duration": 20,
    "start_time": "2024-11-13T14:11:58.463Z"
   },
   {
    "duration": 3,
    "start_time": "2024-11-13T14:11:58.485Z"
   },
   {
    "duration": 5,
    "start_time": "2024-11-13T14:11:58.489Z"
   },
   {
    "duration": 4,
    "start_time": "2024-11-13T14:45:49.037Z"
   },
   {
    "duration": 94,
    "start_time": "2024-11-13T14:45:51.865Z"
   },
   {
    "duration": 13,
    "start_time": "2024-11-13T15:32:46.698Z"
   },
   {
    "duration": 4,
    "start_time": "2024-11-13T15:34:47.927Z"
   },
   {
    "duration": 23,
    "start_time": "2024-11-13T15:34:50.245Z"
   },
   {
    "duration": 157,
    "start_time": "2024-11-13T21:42:56.042Z"
   },
   {
    "duration": 336,
    "start_time": "2024-11-13T21:43:02.421Z"
   },
   {
    "duration": 2818,
    "start_time": "2024-11-13T21:43:02.761Z"
   },
   {
    "duration": 304,
    "start_time": "2024-11-13T21:43:05.581Z"
   },
   {
    "duration": 11,
    "start_time": "2024-11-13T21:43:05.887Z"
   },
   {
    "duration": 11,
    "start_time": "2024-11-13T21:43:05.901Z"
   },
   {
    "duration": 42,
    "start_time": "2024-11-13T21:43:05.914Z"
   },
   {
    "duration": 8,
    "start_time": "2024-11-13T21:43:05.958Z"
   },
   {
    "duration": 11,
    "start_time": "2024-11-13T21:43:05.968Z"
   },
   {
    "duration": 23,
    "start_time": "2024-11-13T21:43:05.981Z"
   },
   {
    "duration": 7,
    "start_time": "2024-11-13T21:43:06.007Z"
   },
   {
    "duration": 11,
    "start_time": "2024-11-13T21:43:06.043Z"
   },
   {
    "duration": 25,
    "start_time": "2024-11-13T21:43:06.055Z"
   },
   {
    "duration": 8,
    "start_time": "2024-11-13T21:43:06.082Z"
   },
   {
    "duration": 7,
    "start_time": "2024-11-13T21:43:06.092Z"
   },
   {
    "duration": 7,
    "start_time": "2024-11-13T21:43:06.101Z"
   },
   {
    "duration": 30,
    "start_time": "2024-11-13T21:43:21.927Z"
   },
   {
    "duration": 32,
    "start_time": "2024-11-13T21:43:23.639Z"
   },
   {
    "duration": 30,
    "start_time": "2024-11-13T21:43:24.339Z"
   },
   {
    "duration": 32,
    "start_time": "2024-11-13T21:43:24.769Z"
   },
   {
    "duration": 197,
    "start_time": "2024-11-13T21:48:43.164Z"
   },
   {
    "duration": 721,
    "start_time": "2024-11-13T21:48:59.083Z"
   },
   {
    "duration": 572,
    "start_time": "2024-11-13T21:49:10.358Z"
   },
   {
    "duration": 8,
    "start_time": "2024-11-13T21:49:35.319Z"
   },
   {
    "duration": 31,
    "start_time": "2024-11-13T21:49:36.436Z"
   },
   {
    "duration": 27,
    "start_time": "2024-11-13T21:49:36.793Z"
   },
   {
    "duration": 30,
    "start_time": "2024-11-13T21:49:37.174Z"
   },
   {
    "duration": 14,
    "start_time": "2024-11-13T21:49:38.736Z"
   },
   {
    "duration": 17,
    "start_time": "2024-11-13T21:49:55.175Z"
   },
   {
    "duration": 13,
    "start_time": "2024-11-13T21:50:21.758Z"
   },
   {
    "duration": 3,
    "start_time": "2024-11-13T21:50:24.861Z"
   },
   {
    "duration": 741,
    "start_time": "2024-11-13T21:50:25.304Z"
   },
   {
    "duration": 6,
    "start_time": "2024-11-13T21:59:37.545Z"
   },
   {
    "duration": 3,
    "start_time": "2024-11-13T21:59:48.469Z"
   },
   {
    "duration": 3,
    "start_time": "2024-11-13T22:23:40.661Z"
   },
   {
    "duration": 514,
    "start_time": "2024-11-13T22:23:41.293Z"
   },
   {
    "duration": 4,
    "start_time": "2024-11-13T22:24:20.809Z"
   },
   {
    "duration": 843,
    "start_time": "2024-11-13T22:24:21.572Z"
   },
   {
    "duration": 3,
    "start_time": "2024-11-13T22:25:08.775Z"
   },
   {
    "duration": 494,
    "start_time": "2024-11-13T22:25:11.548Z"
   },
   {
    "duration": 3,
    "start_time": "2024-11-13T22:25:19.985Z"
   },
   {
    "duration": 590,
    "start_time": "2024-11-13T22:25:22.033Z"
   },
   {
    "duration": 5,
    "start_time": "2024-11-13T22:25:27.909Z"
   },
   {
    "duration": 5,
    "start_time": "2024-11-13T22:25:32.709Z"
   },
   {
    "duration": 4,
    "start_time": "2024-11-13T22:25:35.817Z"
   },
   {
    "duration": 3,
    "start_time": "2024-11-13T22:25:41.586Z"
   },
   {
    "duration": 577,
    "start_time": "2024-11-13T22:25:41.841Z"
   },
   {
    "duration": 161,
    "start_time": "2024-11-14T01:56:31.825Z"
   },
   {
    "duration": 15,
    "start_time": "2024-11-14T01:57:49.460Z"
   },
   {
    "duration": 336,
    "start_time": "2024-11-14T01:57:55.473Z"
   },
   {
    "duration": 2734,
    "start_time": "2024-11-14T01:57:55.812Z"
   },
   {
    "duration": 289,
    "start_time": "2024-11-14T01:57:58.547Z"
   },
   {
    "duration": 12,
    "start_time": "2024-11-14T01:57:58.837Z"
   },
   {
    "duration": 19,
    "start_time": "2024-11-14T01:57:58.851Z"
   },
   {
    "duration": 24,
    "start_time": "2024-11-14T01:57:58.871Z"
   },
   {
    "duration": 7,
    "start_time": "2024-11-14T01:57:58.896Z"
   },
   {
    "duration": 10,
    "start_time": "2024-11-14T01:57:58.904Z"
   },
   {
    "duration": 25,
    "start_time": "2024-11-14T01:57:58.916Z"
   },
   {
    "duration": 31,
    "start_time": "2024-11-14T01:57:58.943Z"
   },
   {
    "duration": 10,
    "start_time": "2024-11-14T01:57:58.976Z"
   },
   {
    "duration": 24,
    "start_time": "2024-11-14T01:57:58.987Z"
   },
   {
    "duration": 7,
    "start_time": "2024-11-14T01:57:59.013Z"
   },
   {
    "duration": 7,
    "start_time": "2024-11-14T01:57:59.022Z"
   },
   {
    "duration": 39,
    "start_time": "2024-11-14T01:57:59.031Z"
   },
   {
    "duration": 31,
    "start_time": "2024-11-14T01:57:59.072Z"
   },
   {
    "duration": 28,
    "start_time": "2024-11-14T01:57:59.105Z"
   },
   {
    "duration": 54,
    "start_time": "2024-11-14T01:57:59.135Z"
   },
   {
    "duration": 13,
    "start_time": "2024-11-14T01:57:59.191Z"
   },
   {
    "duration": 379,
    "start_time": "2024-11-14T01:58:02.473Z"
   },
   {
    "duration": 749,
    "start_time": "2024-11-14T01:58:33.705Z"
   },
   {
    "duration": 269,
    "start_time": "2024-11-14T02:01:20.774Z"
   },
   {
    "duration": 348,
    "start_time": "2024-11-14T02:01:50.195Z"
   },
   {
    "duration": 3,
    "start_time": "2024-11-14T02:02:55.986Z"
   },
   {
    "duration": 635,
    "start_time": "2024-11-14T02:02:57.347Z"
   },
   {
    "duration": 3,
    "start_time": "2024-11-14T02:03:40.665Z"
   },
   {
    "duration": 527,
    "start_time": "2024-11-14T02:03:42.599Z"
   },
   {
    "duration": 13,
    "start_time": "2024-11-14T02:03:45.083Z"
   },
   {
    "duration": 521,
    "start_time": "2024-11-14T02:03:51.477Z"
   },
   {
    "duration": 662,
    "start_time": "2024-11-14T02:03:56.688Z"
   },
   {
    "duration": 2,
    "start_time": "2024-11-14T02:19:42.317Z"
   },
   {
    "duration": 3,
    "start_time": "2024-11-14T02:19:43.209Z"
   },
   {
    "duration": 5,
    "start_time": "2024-11-14T02:19:44.055Z"
   },
   {
    "duration": 217,
    "start_time": "2024-11-14T02:20:00.178Z"
   },
   {
    "duration": 17,
    "start_time": "2024-11-14T02:28:15.424Z"
   },
   {
    "duration": 18,
    "start_time": "2024-11-14T02:29:05.082Z"
   },
   {
    "duration": 18,
    "start_time": "2024-11-14T02:29:30.832Z"
   },
   {
    "duration": 18,
    "start_time": "2024-11-14T02:29:51.879Z"
   },
   {
    "duration": 19,
    "start_time": "2024-11-14T02:30:09.969Z"
   },
   {
    "duration": 20,
    "start_time": "2024-11-14T02:30:17.929Z"
   },
   {
    "duration": 18,
    "start_time": "2024-11-14T02:30:30.744Z"
   },
   {
    "duration": 18,
    "start_time": "2024-11-14T02:30:54.510Z"
   },
   {
    "duration": 17,
    "start_time": "2024-11-14T02:30:58.415Z"
   },
   {
    "duration": 101,
    "start_time": "2024-11-14T02:32:00.550Z"
   },
   {
    "duration": 25,
    "start_time": "2024-11-14T02:35:46.582Z"
   },
   {
    "duration": 25,
    "start_time": "2024-11-14T02:35:53.520Z"
   },
   {
    "duration": 24,
    "start_time": "2024-11-14T02:35:58.244Z"
   },
   {
    "duration": 76,
    "start_time": "2024-11-14T02:38:23.540Z"
   },
   {
    "duration": 13,
    "start_time": "2024-11-14T02:39:28.822Z"
   },
   {
    "duration": 14,
    "start_time": "2024-11-14T02:39:38.273Z"
   },
   {
    "duration": 77,
    "start_time": "2024-11-14T02:39:42.924Z"
   },
   {
    "duration": 77,
    "start_time": "2024-11-14T02:39:52.580Z"
   },
   {
    "duration": 15,
    "start_time": "2024-11-14T02:41:10.164Z"
   },
   {
    "duration": 16,
    "start_time": "2024-11-14T02:41:42.863Z"
   },
   {
    "duration": 75,
    "start_time": "2024-11-14T02:41:52.028Z"
   },
   {
    "duration": 3,
    "start_time": "2024-11-14T02:42:07.721Z"
   },
   {
    "duration": 76,
    "start_time": "2024-11-14T02:42:14.992Z"
   },
   {
    "duration": 76,
    "start_time": "2024-11-14T02:42:31.883Z"
   },
   {
    "duration": 75,
    "start_time": "2024-11-14T02:42:35.847Z"
   },
   {
    "duration": 78,
    "start_time": "2024-11-14T02:42:45.573Z"
   },
   {
    "duration": 5,
    "start_time": "2024-11-14T02:42:54.917Z"
   },
   {
    "duration": 89,
    "start_time": "2024-11-14T02:43:26.355Z"
   },
   {
    "duration": 19,
    "start_time": "2024-11-14T02:44:22.327Z"
   },
   {
    "duration": 2417,
    "start_time": "2024-11-14T02:44:50.997Z"
   },
   {
    "duration": 2394,
    "start_time": "2024-11-14T02:45:28.216Z"
   },
   {
    "duration": 2533,
    "start_time": "2024-11-14T02:45:46.761Z"
   },
   {
    "duration": 2502,
    "start_time": "2024-11-14T02:46:26.295Z"
   },
   {
    "duration": 2344,
    "start_time": "2024-11-14T02:46:42.853Z"
   },
   {
    "duration": 2529,
    "start_time": "2024-11-14T02:47:11.164Z"
   },
   {
    "duration": 2420,
    "start_time": "2024-11-14T02:48:56.574Z"
   },
   {
    "duration": 481,
    "start_time": "2024-11-14T03:11:03.412Z"
   },
   {
    "duration": 636,
    "start_time": "2024-11-14T03:43:52.190Z"
   },
   {
    "duration": 660,
    "start_time": "2024-11-14T03:44:56.851Z"
   },
   {
    "duration": 460,
    "start_time": "2024-11-14T03:45:11.931Z"
   },
   {
    "duration": 777,
    "start_time": "2024-11-14T03:45:16.058Z"
   },
   {
    "duration": 4,
    "start_time": "2024-11-14T03:59:20.231Z"
   },
   {
    "duration": 344,
    "start_time": "2024-11-16T19:05:08.043Z"
   },
   {
    "duration": 2839,
    "start_time": "2024-11-16T19:05:08.390Z"
   },
   {
    "duration": 3,
    "start_time": "2024-11-16T19:05:11.231Z"
   },
   {
    "duration": 3,
    "start_time": "2024-11-16T19:05:11.235Z"
   },
   {
    "duration": 330,
    "start_time": "2024-11-16T19:05:11.241Z"
   },
   {
    "duration": 24,
    "start_time": "2024-11-16T19:05:11.572Z"
   },
   {
    "duration": 34,
    "start_time": "2024-11-16T19:05:11.609Z"
   },
   {
    "duration": 91,
    "start_time": "2024-11-16T19:05:11.646Z"
   },
   {
    "duration": 15,
    "start_time": "2024-11-16T19:05:11.739Z"
   },
   {
    "duration": 108,
    "start_time": "2024-11-16T19:05:11.756Z"
   },
   {
    "duration": 2405,
    "start_time": "2024-11-16T19:05:14.239Z"
   },
   {
    "duration": 579,
    "start_time": "2024-11-16T19:05:28.956Z"
   },
   {
    "duration": 673,
    "start_time": "2024-11-16T19:12:15.888Z"
   },
   {
    "duration": 658,
    "start_time": "2024-11-16T19:12:23.994Z"
   },
   {
    "duration": 619,
    "start_time": "2024-11-16T19:12:31.346Z"
   },
   {
    "duration": 646,
    "start_time": "2024-11-16T19:12:36.664Z"
   },
   {
    "duration": 728,
    "start_time": "2024-11-16T19:12:41.146Z"
   },
   {
    "duration": 637,
    "start_time": "2024-11-16T19:12:50.286Z"
   },
   {
    "duration": 8,
    "start_time": "2024-11-16T19:12:59.188Z"
   },
   {
    "duration": 588,
    "start_time": "2024-11-16T19:13:02.470Z"
   },
   {
    "duration": 663,
    "start_time": "2024-11-16T19:13:20.900Z"
   },
   {
    "duration": 615,
    "start_time": "2024-11-16T19:13:28.068Z"
   },
   {
    "duration": 695,
    "start_time": "2024-11-16T19:13:34.269Z"
   },
   {
    "duration": 623,
    "start_time": "2024-11-16T19:13:41.325Z"
   },
   {
    "duration": 630,
    "start_time": "2024-11-16T19:15:42.324Z"
   },
   {
    "duration": 603,
    "start_time": "2024-11-16T19:15:49.660Z"
   },
   {
    "duration": 652,
    "start_time": "2024-11-16T19:15:56.183Z"
   },
   {
    "duration": 612,
    "start_time": "2024-11-16T19:16:07.459Z"
   },
   {
    "duration": 750,
    "start_time": "2024-11-16T19:16:14.713Z"
   },
   {
    "duration": 663,
    "start_time": "2024-11-16T19:16:23.489Z"
   },
   {
    "duration": 5,
    "start_time": "2024-11-16T19:28:02.956Z"
   },
   {
    "duration": 3,
    "start_time": "2024-11-16T19:28:04.729Z"
   },
   {
    "duration": 4,
    "start_time": "2024-11-16T20:01:48.367Z"
   },
   {
    "duration": 5,
    "start_time": "2024-11-26T01:27:56.807Z"
   },
   {
    "duration": 3,
    "start_time": "2024-11-26T01:27:57.450Z"
   },
   {
    "duration": 162,
    "start_time": "2024-11-26T01:27:58.514Z"
   },
   {
    "duration": 337,
    "start_time": "2024-11-26T01:28:11.666Z"
   },
   {
    "duration": 2705,
    "start_time": "2024-11-26T01:28:15.683Z"
   },
   {
    "duration": 2,
    "start_time": "2024-11-26T01:28:21.892Z"
   },
   {
    "duration": 2,
    "start_time": "2024-11-26T01:28:23.428Z"
   },
   {
    "duration": 655,
    "start_time": "2024-11-26T01:28:25.526Z"
   },
   {
    "duration": 117,
    "start_time": "2024-11-26T01:28:32.226Z"
   },
   {
    "duration": 320,
    "start_time": "2024-11-26T01:28:51.735Z"
   },
   {
    "duration": 22,
    "start_time": "2024-11-26T01:29:07.554Z"
   },
   {
    "duration": 25,
    "start_time": "2024-11-26T01:29:22.059Z"
   },
   {
    "duration": 72,
    "start_time": "2024-11-26T01:29:37.166Z"
   },
   {
    "duration": 14,
    "start_time": "2024-11-26T01:31:11.842Z"
   },
   {
    "duration": 85,
    "start_time": "2024-11-26T01:31:51.276Z"
   },
   {
    "duration": 2374,
    "start_time": "2024-11-26T01:32:14.058Z"
   },
   {
    "duration": 607,
    "start_time": "2024-11-26T01:32:58.515Z"
   },
   {
    "duration": 29,
    "start_time": "2024-11-26T01:35:08.742Z"
   },
   {
    "duration": 860,
    "start_time": "2024-11-26T01:37:45.529Z"
   },
   {
    "duration": 719,
    "start_time": "2024-11-26T01:37:57.574Z"
   },
   {
    "duration": 3,
    "start_time": "2024-11-26T01:38:39.645Z"
   },
   {
    "duration": 51,
    "start_time": "2024-11-26T01:38:40.561Z"
   },
   {
    "duration": 3,
    "start_time": "2024-11-26T01:38:41.322Z"
   },
   {
    "duration": 2,
    "start_time": "2024-11-26T01:40:04.348Z"
   },
   {
    "duration": 4,
    "start_time": "2024-11-26T01:41:10.602Z"
   },
   {
    "duration": 19,
    "start_time": "2024-11-26T01:41:18.347Z"
   },
   {
    "duration": 3,
    "start_time": "2024-11-26T01:43:11.513Z"
   },
   {
    "duration": 16,
    "start_time": "2024-11-26T01:44:53.671Z"
   },
   {
    "duration": 2,
    "start_time": "2024-11-26T01:44:56.121Z"
   },
   {
    "duration": 21,
    "start_time": "2024-11-26T01:44:58.706Z"
   },
   {
    "duration": 7,
    "start_time": "2024-11-26T01:45:47.306Z"
   },
   {
    "duration": 616,
    "start_time": "2024-11-26T01:45:55.816Z"
   },
   {
    "duration": 334,
    "start_time": "2024-11-26T12:25:23.316Z"
   },
   {
    "duration": 2674,
    "start_time": "2024-11-26T12:25:23.652Z"
   },
   {
    "duration": 2,
    "start_time": "2024-11-26T12:25:26.331Z"
   },
   {
    "duration": 2,
    "start_time": "2024-11-26T12:25:26.335Z"
   },
   {
    "duration": 300,
    "start_time": "2024-11-26T12:25:26.338Z"
   },
   {
    "duration": 20,
    "start_time": "2024-11-26T12:25:26.639Z"
   },
   {
    "duration": 25,
    "start_time": "2024-11-26T12:25:26.661Z"
   },
   {
    "duration": 87,
    "start_time": "2024-11-26T12:25:26.688Z"
   },
   {
    "duration": 15,
    "start_time": "2024-11-26T12:25:26.777Z"
   },
   {
    "duration": 113,
    "start_time": "2024-11-26T12:25:26.795Z"
   },
   {
    "duration": 42,
    "start_time": "2024-11-26T12:25:26.910Z"
   },
   {
    "duration": 2433,
    "start_time": "2024-11-26T12:25:26.953Z"
   },
   {
    "duration": 481,
    "start_time": "2024-11-26T12:25:29.388Z"
   },
   {
    "duration": 611,
    "start_time": "2024-11-26T12:25:29.872Z"
   },
   {
    "duration": 2,
    "start_time": "2024-11-26T12:25:30.485Z"
   },
   {
    "duration": 24,
    "start_time": "2024-11-26T12:25:30.489Z"
   },
   {
    "duration": 16,
    "start_time": "2024-11-26T12:25:30.515Z"
   },
   {
    "duration": 2,
    "start_time": "2024-11-26T12:25:30.533Z"
   },
   {
    "duration": 15,
    "start_time": "2024-11-26T12:25:30.537Z"
   },
   {
    "duration": 3,
    "start_time": "2024-11-26T12:25:30.554Z"
   },
   {
    "duration": 15,
    "start_time": "2024-11-26T12:25:30.559Z"
   },
   {
    "duration": 57,
    "start_time": "2024-11-26T12:25:30.575Z"
   },
   {
    "duration": 509,
    "start_time": "2024-11-26T12:25:30.634Z"
   },
   {
    "duration": 3,
    "start_time": "2024-11-26T12:25:31.144Z"
   },
   {
    "duration": 673,
    "start_time": "2024-11-26T12:33:12.387Z"
   },
   {
    "duration": 352,
    "start_time": "2024-11-26T12:33:37.534Z"
   },
   {
    "duration": 15,
    "start_time": "2024-11-26T12:33:54.305Z"
   },
   {
    "duration": 13,
    "start_time": "2024-11-26T12:34:01.470Z"
   },
   {
    "duration": 4,
    "start_time": "2024-11-26T12:34:09.602Z"
   },
   {
    "duration": 4,
    "start_time": "2024-11-26T12:34:29.446Z"
   },
   {
    "duration": 337,
    "start_time": "2024-11-26T12:47:33.755Z"
   },
   {
    "duration": 329,
    "start_time": "2024-11-26T13:04:40.995Z"
   },
   {
    "duration": 954,
    "start_time": "2024-11-26T13:04:41.326Z"
   },
   {
    "duration": 3,
    "start_time": "2024-11-26T13:04:42.282Z"
   },
   {
    "duration": 3,
    "start_time": "2024-11-26T13:04:42.286Z"
   },
   {
    "duration": 237,
    "start_time": "2024-11-26T13:04:42.291Z"
   },
   {
    "duration": 21,
    "start_time": "2024-11-26T13:04:42.529Z"
   },
   {
    "duration": 25,
    "start_time": "2024-11-26T13:04:42.552Z"
   },
   {
    "duration": 94,
    "start_time": "2024-11-26T13:04:42.579Z"
   },
   {
    "duration": 15,
    "start_time": "2024-11-26T13:04:42.675Z"
   },
   {
    "duration": 100,
    "start_time": "2024-11-26T13:04:42.692Z"
   },
   {
    "duration": 48,
    "start_time": "2024-11-26T13:04:42.794Z"
   },
   {
    "duration": 2329,
    "start_time": "2024-11-26T13:04:42.844Z"
   },
   {
    "duration": 474,
    "start_time": "2024-11-26T13:04:45.175Z"
   },
   {
    "duration": 636,
    "start_time": "2024-11-26T13:04:45.653Z"
   },
   {
    "duration": 3,
    "start_time": "2024-11-26T13:04:46.291Z"
   },
   {
    "duration": 37,
    "start_time": "2024-11-26T13:04:46.296Z"
   },
   {
    "duration": 6,
    "start_time": "2024-11-26T13:04:46.335Z"
   },
   {
    "duration": 3,
    "start_time": "2024-11-26T13:04:46.343Z"
   },
   {
    "duration": 16,
    "start_time": "2024-11-26T13:04:46.348Z"
   },
   {
    "duration": 3,
    "start_time": "2024-11-26T13:04:46.366Z"
   },
   {
    "duration": 61,
    "start_time": "2024-11-26T13:04:46.371Z"
   },
   {
    "duration": 4,
    "start_time": "2024-11-26T13:04:46.434Z"
   },
   {
    "duration": 603,
    "start_time": "2024-11-26T13:04:46.439Z"
   },
   {
    "duration": 2,
    "start_time": "2024-11-26T13:04:47.044Z"
   },
   {
    "duration": 338,
    "start_time": "2024-11-27T18:22:46.414Z"
   },
   {
    "duration": 2834,
    "start_time": "2024-11-27T18:22:46.755Z"
   },
   {
    "duration": 2,
    "start_time": "2024-11-27T18:22:49.592Z"
   },
   {
    "duration": 12,
    "start_time": "2024-11-27T18:22:49.596Z"
   },
   {
    "duration": 318,
    "start_time": "2024-11-27T18:22:49.612Z"
   },
   {
    "duration": 22,
    "start_time": "2024-11-27T18:22:49.933Z"
   },
   {
    "duration": 26,
    "start_time": "2024-11-27T18:22:49.957Z"
   },
   {
    "duration": 84,
    "start_time": "2024-11-27T18:22:49.985Z"
   },
   {
    "duration": 14,
    "start_time": "2024-11-27T18:22:50.071Z"
   },
   {
    "duration": 103,
    "start_time": "2024-11-27T18:22:50.086Z"
   },
   {
    "duration": 43,
    "start_time": "2024-11-27T18:22:50.190Z"
   },
   {
    "duration": 2406,
    "start_time": "2024-11-27T18:22:50.234Z"
   },
   {
    "duration": 500,
    "start_time": "2024-11-27T18:22:52.642Z"
   },
   {
    "duration": 626,
    "start_time": "2024-11-27T18:22:53.145Z"
   },
   {
    "duration": 3,
    "start_time": "2024-11-27T18:22:53.773Z"
   },
   {
    "duration": 37,
    "start_time": "2024-11-27T18:22:53.778Z"
   },
   {
    "duration": 4,
    "start_time": "2024-11-27T18:22:53.816Z"
   },
   {
    "duration": 3,
    "start_time": "2024-11-27T18:22:53.821Z"
   },
   {
    "duration": 16,
    "start_time": "2024-11-27T18:22:53.826Z"
   },
   {
    "duration": 3,
    "start_time": "2024-11-27T18:22:53.844Z"
   },
   {
    "duration": 60,
    "start_time": "2024-11-27T18:22:53.849Z"
   },
   {
    "duration": 3,
    "start_time": "2024-11-27T18:22:53.911Z"
   },
   {
    "duration": 405,
    "start_time": "2024-11-27T18:22:53.915Z"
   },
   {
    "duration": 4,
    "start_time": "2024-11-27T18:22:54.321Z"
   },
   {
    "duration": 83,
    "start_time": "2024-11-27T18:22:54.326Z"
   },
   {
    "duration": 0,
    "start_time": "2024-11-27T18:22:54.410Z"
   },
   {
    "duration": 0,
    "start_time": "2024-11-27T18:22:54.411Z"
   },
   {
    "duration": 0,
    "start_time": "2024-11-27T18:22:54.412Z"
   },
   {
    "duration": 0,
    "start_time": "2024-11-27T18:22:54.413Z"
   },
   {
    "duration": 0,
    "start_time": "2024-11-27T18:22:54.414Z"
   },
   {
    "duration": 0,
    "start_time": "2024-11-27T18:22:54.416Z"
   },
   {
    "duration": 0,
    "start_time": "2024-11-27T18:22:54.418Z"
   },
   {
    "duration": 0,
    "start_time": "2024-11-27T18:22:54.419Z"
   },
   {
    "duration": 0,
    "start_time": "2024-11-27T18:22:54.420Z"
   },
   {
    "duration": 4,
    "start_time": "2024-11-27T18:23:23.289Z"
   },
   {
    "duration": 4,
    "start_time": "2024-11-27T18:25:25.854Z"
   },
   {
    "duration": 5,
    "start_time": "2024-11-27T18:25:36.932Z"
   },
   {
    "duration": 3,
    "start_time": "2024-11-27T18:27:02.994Z"
   },
   {
    "duration": 3,
    "start_time": "2024-11-27T18:27:13.135Z"
   },
   {
    "duration": 5,
    "start_time": "2024-11-27T18:27:15.715Z"
   },
   {
    "duration": 3,
    "start_time": "2024-11-27T18:27:18.553Z"
   },
   {
    "duration": 3,
    "start_time": "2024-11-27T18:27:19.266Z"
   },
   {
    "duration": 1559,
    "start_time": "2024-11-27T18:27:20.034Z"
   },
   {
    "duration": 11,
    "start_time": "2024-11-27T18:27:22.606Z"
   },
   {
    "duration": 4,
    "start_time": "2024-11-27T18:27:25.628Z"
   },
   {
    "duration": 5,
    "start_time": "2024-11-27T18:27:26.980Z"
   },
   {
    "duration": 4,
    "start_time": "2024-11-27T18:27:28.258Z"
   },
   {
    "duration": 4,
    "start_time": "2024-11-27T18:38:31.098Z"
   },
   {
    "duration": 1550,
    "start_time": "2024-11-27T18:38:33.452Z"
   },
   {
    "duration": 4,
    "start_time": "2024-11-27T18:38:47.224Z"
   },
   {
    "duration": 4,
    "start_time": "2024-11-27T18:38:52.697Z"
   },
   {
    "duration": 4,
    "start_time": "2024-11-27T18:39:00.034Z"
   },
   {
    "duration": 335,
    "start_time": "2024-11-27T18:57:50.018Z"
   },
   {
    "duration": 976,
    "start_time": "2024-11-27T18:57:50.355Z"
   },
   {
    "duration": 3,
    "start_time": "2024-11-27T18:57:51.332Z"
   },
   {
    "duration": 3,
    "start_time": "2024-11-27T18:57:51.336Z"
   },
   {
    "duration": 253,
    "start_time": "2024-11-27T18:57:51.342Z"
   },
   {
    "duration": 21,
    "start_time": "2024-11-27T18:57:51.596Z"
   },
   {
    "duration": 26,
    "start_time": "2024-11-27T18:57:51.619Z"
   },
   {
    "duration": 87,
    "start_time": "2024-11-27T18:57:51.646Z"
   },
   {
    "duration": 15,
    "start_time": "2024-11-27T18:57:51.735Z"
   },
   {
    "duration": 108,
    "start_time": "2024-11-27T18:57:51.751Z"
   },
   {
    "duration": 30,
    "start_time": "2024-11-27T18:57:51.862Z"
   },
   {
    "duration": 2329,
    "start_time": "2024-11-27T18:57:51.909Z"
   },
   {
    "duration": 497,
    "start_time": "2024-11-27T18:57:54.241Z"
   },
   {
    "duration": 611,
    "start_time": "2024-11-27T18:57:54.742Z"
   },
   {
    "duration": 3,
    "start_time": "2024-11-27T18:57:55.354Z"
   },
   {
    "duration": 26,
    "start_time": "2024-11-27T18:57:55.359Z"
   },
   {
    "duration": 22,
    "start_time": "2024-11-27T18:57:55.387Z"
   },
   {
    "duration": 4,
    "start_time": "2024-11-27T18:57:55.411Z"
   },
   {
    "duration": 16,
    "start_time": "2024-11-27T18:57:55.416Z"
   },
   {
    "duration": 3,
    "start_time": "2024-11-27T18:57:55.434Z"
   },
   {
    "duration": 16,
    "start_time": "2024-11-27T18:57:55.438Z"
   },
   {
    "duration": 3,
    "start_time": "2024-11-27T18:57:55.508Z"
   },
   {
    "duration": 605,
    "start_time": "2024-11-27T18:57:55.513Z"
   },
   {
    "duration": 3,
    "start_time": "2024-11-27T18:57:56.120Z"
   },
   {
    "duration": 4,
    "start_time": "2024-11-27T18:57:56.124Z"
   },
   {
    "duration": 3,
    "start_time": "2024-11-27T18:57:56.129Z"
   },
   {
    "duration": 4,
    "start_time": "2024-11-27T18:57:56.210Z"
   },
   {
    "duration": 3,
    "start_time": "2024-11-27T18:57:56.217Z"
   },
   {
    "duration": 4,
    "start_time": "2024-11-27T18:57:56.221Z"
   },
   {
    "duration": 1630,
    "start_time": "2024-11-27T18:57:56.227Z"
   },
   {
    "duration": 4,
    "start_time": "2024-11-27T18:57:57.858Z"
   },
   {
    "duration": 3,
    "start_time": "2024-11-27T18:57:57.864Z"
   },
   {
    "duration": 4,
    "start_time": "2024-11-27T18:57:57.869Z"
   },
   {
    "duration": 3,
    "start_time": "2024-11-27T18:57:57.874Z"
   },
   {
    "duration": 337,
    "start_time": "2024-11-27T18:58:55.700Z"
   },
   {
    "duration": 1004,
    "start_time": "2024-11-27T18:58:56.039Z"
   },
   {
    "duration": 3,
    "start_time": "2024-11-27T18:58:57.044Z"
   },
   {
    "duration": 3,
    "start_time": "2024-11-27T18:58:57.048Z"
   },
   {
    "duration": 248,
    "start_time": "2024-11-27T18:58:57.054Z"
   },
   {
    "duration": 30,
    "start_time": "2024-11-27T18:58:57.304Z"
   },
   {
    "duration": 28,
    "start_time": "2024-11-27T18:58:57.336Z"
   },
   {
    "duration": 95,
    "start_time": "2024-11-27T18:58:57.365Z"
   },
   {
    "duration": 14,
    "start_time": "2024-11-27T18:58:57.463Z"
   },
   {
    "duration": 104,
    "start_time": "2024-11-27T18:58:57.479Z"
   },
   {
    "duration": 45,
    "start_time": "2024-11-27T18:58:57.585Z"
   },
   {
    "duration": 2321,
    "start_time": "2024-11-27T18:58:57.631Z"
   },
   {
    "duration": 496,
    "start_time": "2024-11-27T18:58:59.954Z"
   },
   {
    "duration": 606,
    "start_time": "2024-11-27T18:59:00.455Z"
   },
   {
    "duration": 4,
    "start_time": "2024-11-27T18:59:01.063Z"
   },
   {
    "duration": 40,
    "start_time": "2024-11-27T18:59:01.069Z"
   },
   {
    "duration": 4,
    "start_time": "2024-11-27T18:59:01.111Z"
   },
   {
    "duration": 3,
    "start_time": "2024-11-27T18:59:01.117Z"
   },
   {
    "duration": 16,
    "start_time": "2024-11-27T18:59:01.122Z"
   },
   {
    "duration": 2,
    "start_time": "2024-11-27T18:59:01.140Z"
   },
   {
    "duration": 13,
    "start_time": "2024-11-27T18:59:01.144Z"
   },
   {
    "duration": 2,
    "start_time": "2024-11-27T18:59:01.159Z"
   },
   {
    "duration": 609,
    "start_time": "2024-11-27T18:59:01.209Z"
   },
   {
    "duration": 3,
    "start_time": "2024-11-27T18:59:01.820Z"
   },
   {
    "duration": 81,
    "start_time": "2024-11-27T18:59:01.830Z"
   },
   {
    "duration": 3,
    "start_time": "2024-11-27T18:59:01.915Z"
   },
   {
    "duration": 4,
    "start_time": "2024-11-27T18:59:01.920Z"
   },
   {
    "duration": 3,
    "start_time": "2024-11-27T18:59:01.926Z"
   },
   {
    "duration": 4,
    "start_time": "2024-11-27T18:59:01.931Z"
   },
   {
    "duration": 1559,
    "start_time": "2024-11-27T18:59:01.937Z"
   },
   {
    "duration": 11,
    "start_time": "2024-11-27T18:59:03.498Z"
   },
   {
    "duration": 5,
    "start_time": "2024-11-27T18:59:03.510Z"
   },
   {
    "duration": 3,
    "start_time": "2024-11-27T18:59:03.517Z"
   },
   {
    "duration": 343,
    "start_time": "2024-11-27T19:00:32.905Z"
   },
   {
    "duration": 987,
    "start_time": "2024-11-27T19:00:33.250Z"
   },
   {
    "duration": 2,
    "start_time": "2024-11-27T19:00:34.239Z"
   },
   {
    "duration": 3,
    "start_time": "2024-11-27T19:00:34.243Z"
   },
   {
    "duration": 230,
    "start_time": "2024-11-27T19:00:34.247Z"
   },
   {
    "duration": 21,
    "start_time": "2024-11-27T19:00:34.479Z"
   },
   {
    "duration": 26,
    "start_time": "2024-11-27T19:00:34.509Z"
   },
   {
    "duration": 89,
    "start_time": "2024-11-27T19:00:34.536Z"
   },
   {
    "duration": 15,
    "start_time": "2024-11-27T19:00:34.627Z"
   },
   {
    "duration": 103,
    "start_time": "2024-11-27T19:00:34.645Z"
   },
   {
    "duration": 31,
    "start_time": "2024-11-27T19:00:34.750Z"
   },
   {
    "duration": 2682,
    "start_time": "2024-11-27T19:00:34.793Z"
   },
   {
    "duration": 573,
    "start_time": "2024-11-27T19:00:37.478Z"
   },
   {
    "duration": 629,
    "start_time": "2024-11-27T19:00:38.053Z"
   },
   {
    "duration": 3,
    "start_time": "2024-11-27T19:00:38.683Z"
   },
   {
    "duration": 30,
    "start_time": "2024-11-27T19:00:38.688Z"
   },
   {
    "duration": 3,
    "start_time": "2024-11-27T19:00:38.720Z"
   },
   {
    "duration": 2,
    "start_time": "2024-11-27T19:00:38.725Z"
   },
   {
    "duration": 16,
    "start_time": "2024-11-27T19:00:38.729Z"
   },
   {
    "duration": 4,
    "start_time": "2024-11-27T19:00:38.747Z"
   },
   {
    "duration": 60,
    "start_time": "2024-11-27T19:00:38.752Z"
   },
   {
    "duration": 3,
    "start_time": "2024-11-27T19:00:38.814Z"
   },
   {
    "duration": 602,
    "start_time": "2024-11-27T19:00:38.819Z"
   },
   {
    "duration": 3,
    "start_time": "2024-11-27T19:00:39.423Z"
   },
   {
    "duration": 3,
    "start_time": "2024-11-27T19:00:39.428Z"
   },
   {
    "duration": 76,
    "start_time": "2024-11-27T19:00:39.433Z"
   },
   {
    "duration": 4,
    "start_time": "2024-11-27T19:00:39.511Z"
   },
   {
    "duration": 3,
    "start_time": "2024-11-27T19:00:39.519Z"
   },
   {
    "duration": 4,
    "start_time": "2024-11-27T19:00:39.524Z"
   },
   {
    "duration": 1632,
    "start_time": "2024-11-27T19:00:39.529Z"
   },
   {
    "duration": 6,
    "start_time": "2024-11-27T19:00:41.163Z"
   },
   {
    "duration": 4,
    "start_time": "2024-11-27T19:00:41.170Z"
   },
   {
    "duration": 4,
    "start_time": "2024-11-27T19:00:41.177Z"
   },
   {
    "duration": 355,
    "start_time": "2024-11-28T21:45:49.597Z"
   },
   {
    "duration": 2816,
    "start_time": "2024-11-28T21:45:49.955Z"
   },
   {
    "duration": 2,
    "start_time": "2024-11-28T21:45:52.773Z"
   },
   {
    "duration": 2,
    "start_time": "2024-11-28T21:45:52.777Z"
   },
   {
    "duration": 303,
    "start_time": "2024-11-28T21:45:52.783Z"
   },
   {
    "duration": 22,
    "start_time": "2024-11-28T21:45:53.088Z"
   },
   {
    "duration": 29,
    "start_time": "2024-11-28T21:45:53.114Z"
   },
   {
    "duration": 91,
    "start_time": "2024-11-28T21:45:53.145Z"
   },
   {
    "duration": 14,
    "start_time": "2024-11-28T21:45:53.238Z"
   },
   {
    "duration": 100,
    "start_time": "2024-11-28T21:45:53.254Z"
   },
   {
    "duration": 31,
    "start_time": "2024-11-28T21:45:53.355Z"
   },
   {
    "duration": 2509,
    "start_time": "2024-11-28T21:45:53.405Z"
   },
   {
    "duration": 499,
    "start_time": "2024-11-28T21:45:55.916Z"
   },
   {
    "duration": 634,
    "start_time": "2024-11-28T21:45:56.421Z"
   },
   {
    "duration": 3,
    "start_time": "2024-11-28T21:45:57.057Z"
   },
   {
    "duration": 25,
    "start_time": "2024-11-28T21:45:57.061Z"
   },
   {
    "duration": 20,
    "start_time": "2024-11-28T21:45:57.088Z"
   },
   {
    "duration": 3,
    "start_time": "2024-11-28T21:45:57.110Z"
   },
   {
    "duration": 17,
    "start_time": "2024-11-28T21:45:57.115Z"
   },
   {
    "duration": 4,
    "start_time": "2024-11-28T21:45:57.134Z"
   },
   {
    "duration": 68,
    "start_time": "2024-11-28T21:45:57.140Z"
   },
   {
    "duration": 13,
    "start_time": "2024-11-28T21:45:57.212Z"
   },
   {
    "duration": 499,
    "start_time": "2024-11-28T21:45:57.227Z"
   },
   {
    "duration": 78,
    "start_time": "2024-11-28T21:45:57.728Z"
   },
   {
    "duration": 3,
    "start_time": "2024-11-28T21:45:57.809Z"
   },
   {
    "duration": 3,
    "start_time": "2024-11-28T21:45:57.814Z"
   },
   {
    "duration": 7,
    "start_time": "2024-11-28T21:45:57.819Z"
   },
   {
    "duration": 4,
    "start_time": "2024-11-28T21:45:57.828Z"
   },
   {
    "duration": 72,
    "start_time": "2024-11-28T21:45:57.833Z"
   },
   {
    "duration": 1531,
    "start_time": "2024-11-28T21:45:57.907Z"
   },
   {
    "duration": 3,
    "start_time": "2024-11-28T21:45:59.440Z"
   },
   {
    "duration": 354,
    "start_time": "2024-11-29T03:02:57.248Z"
   },
   {
    "duration": 3198,
    "start_time": "2024-11-29T03:02:57.604Z"
   },
   {
    "duration": 2,
    "start_time": "2024-11-29T03:03:00.804Z"
   },
   {
    "duration": 3,
    "start_time": "2024-11-29T03:03:00.809Z"
   },
   {
    "duration": 374,
    "start_time": "2024-11-29T03:03:00.825Z"
   },
   {
    "duration": 51,
    "start_time": "2024-11-29T03:03:01.200Z"
   },
   {
    "duration": 26,
    "start_time": "2024-11-29T03:03:01.253Z"
   },
   {
    "duration": 97,
    "start_time": "2024-11-29T03:03:01.281Z"
   },
   {
    "duration": 15,
    "start_time": "2024-11-29T03:03:01.380Z"
   },
   {
    "duration": 113,
    "start_time": "2024-11-29T03:03:01.398Z"
   },
   {
    "duration": 50,
    "start_time": "2024-11-29T03:03:01.513Z"
   },
   {
    "duration": 2892,
    "start_time": "2024-11-29T03:03:01.565Z"
   },
   {
    "duration": 548,
    "start_time": "2024-11-29T03:03:04.459Z"
   },
   {
    "duration": 703,
    "start_time": "2024-11-29T03:03:05.009Z"
   },
   {
    "duration": 2,
    "start_time": "2024-11-29T03:03:05.714Z"
   },
   {
    "duration": 36,
    "start_time": "2024-11-29T03:03:05.732Z"
   },
   {
    "duration": 3,
    "start_time": "2024-11-29T03:03:05.770Z"
   },
   {
    "duration": 3,
    "start_time": "2024-11-29T03:03:05.775Z"
   },
   {
    "duration": 18,
    "start_time": "2024-11-29T03:03:05.780Z"
   },
   {
    "duration": 3,
    "start_time": "2024-11-29T03:03:05.800Z"
   },
   {
    "duration": 116,
    "start_time": "2024-11-29T03:03:05.823Z"
   },
   {
    "duration": 5,
    "start_time": "2024-11-29T03:03:05.943Z"
   },
   {
    "duration": 599,
    "start_time": "2024-11-29T03:03:05.952Z"
   },
   {
    "duration": 6,
    "start_time": "2024-11-29T03:03:06.553Z"
   },
   {
    "duration": 10,
    "start_time": "2024-11-29T03:03:06.561Z"
   },
   {
    "duration": 14,
    "start_time": "2024-11-29T03:03:06.629Z"
   },
   {
    "duration": 7,
    "start_time": "2024-11-29T03:03:06.653Z"
   },
   {
    "duration": 4,
    "start_time": "2024-11-29T03:03:06.664Z"
   },
   {
    "duration": 4,
    "start_time": "2024-11-29T03:03:06.670Z"
   },
   {
    "duration": 1783,
    "start_time": "2024-11-29T03:03:06.676Z"
   },
   {
    "duration": 3,
    "start_time": "2024-11-29T03:03:08.461Z"
   },
   {
    "duration": 355,
    "start_time": "2024-11-29T03:06:41.257Z"
   },
   {
    "duration": 1088,
    "start_time": "2024-11-29T03:06:41.614Z"
   },
   {
    "duration": 3,
    "start_time": "2024-11-29T03:06:42.704Z"
   },
   {
    "duration": 3,
    "start_time": "2024-11-29T03:06:42.709Z"
   },
   {
    "duration": 257,
    "start_time": "2024-11-29T03:06:42.724Z"
   },
   {
    "duration": 23,
    "start_time": "2024-11-29T03:06:42.982Z"
   },
   {
    "duration": 42,
    "start_time": "2024-11-29T03:06:43.007Z"
   },
   {
    "duration": 93,
    "start_time": "2024-11-29T03:06:43.050Z"
   },
   {
    "duration": 20,
    "start_time": "2024-11-29T03:06:43.144Z"
   },
   {
    "duration": 114,
    "start_time": "2024-11-29T03:06:43.167Z"
   },
   {
    "duration": 44,
    "start_time": "2024-11-29T03:06:43.283Z"
   },
   {
    "duration": 2598,
    "start_time": "2024-11-29T03:06:43.329Z"
   },
   {
    "duration": 549,
    "start_time": "2024-11-29T03:06:45.930Z"
   },
   {
    "duration": 686,
    "start_time": "2024-11-29T03:06:46.481Z"
   },
   {
    "duration": 3,
    "start_time": "2024-11-29T03:06:47.169Z"
   },
   {
    "duration": 25,
    "start_time": "2024-11-29T03:06:47.174Z"
   },
   {
    "duration": 3,
    "start_time": "2024-11-29T03:06:47.201Z"
   },
   {
    "duration": 11,
    "start_time": "2024-11-29T03:06:47.228Z"
   },
   {
    "duration": 25,
    "start_time": "2024-11-29T03:06:47.241Z"
   },
   {
    "duration": 4,
    "start_time": "2024-11-29T03:06:47.268Z"
   },
   {
    "duration": 60,
    "start_time": "2024-11-29T03:06:47.273Z"
   },
   {
    "duration": 8,
    "start_time": "2024-11-29T03:06:47.344Z"
   },
   {
    "duration": 673,
    "start_time": "2024-11-29T03:06:47.354Z"
   },
   {
    "duration": 10,
    "start_time": "2024-11-29T03:06:48.029Z"
   },
   {
    "duration": 13,
    "start_time": "2024-11-29T03:06:48.041Z"
   },
   {
    "duration": 8,
    "start_time": "2024-11-29T03:06:48.056Z"
   },
   {
    "duration": 14,
    "start_time": "2024-11-29T03:06:48.124Z"
   },
   {
    "duration": 4,
    "start_time": "2024-11-29T03:06:48.143Z"
   },
   {
    "duration": 14,
    "start_time": "2024-11-29T03:06:48.149Z"
   },
   {
    "duration": 1746,
    "start_time": "2024-11-29T03:06:48.165Z"
   },
   {
    "duration": 4,
    "start_time": "2024-11-29T03:06:49.912Z"
   },
   {
    "duration": 345,
    "start_time": "2024-11-29T16:39:31.542Z"
   },
   {
    "duration": 2757,
    "start_time": "2024-11-29T16:39:31.890Z"
   },
   {
    "duration": 3,
    "start_time": "2024-11-29T16:39:34.648Z"
   },
   {
    "duration": 3,
    "start_time": "2024-11-29T16:39:34.653Z"
   },
   {
    "duration": 290,
    "start_time": "2024-11-29T16:39:34.658Z"
   },
   {
    "duration": 21,
    "start_time": "2024-11-29T16:39:34.950Z"
   },
   {
    "duration": 36,
    "start_time": "2024-11-29T16:39:34.973Z"
   },
   {
    "duration": 87,
    "start_time": "2024-11-29T16:39:35.010Z"
   },
   {
    "duration": 15,
    "start_time": "2024-11-29T16:39:35.099Z"
   },
   {
    "duration": 101,
    "start_time": "2024-11-29T16:39:35.117Z"
   },
   {
    "duration": 30,
    "start_time": "2024-11-29T16:39:35.220Z"
   },
   {
    "duration": 2389,
    "start_time": "2024-11-29T16:39:35.252Z"
   },
   {
    "duration": 513,
    "start_time": "2024-11-29T16:39:37.642Z"
   },
   {
    "duration": 680,
    "start_time": "2024-11-29T16:39:38.157Z"
   },
   {
    "duration": 4,
    "start_time": "2024-11-29T16:39:38.838Z"
   },
   {
    "duration": 24,
    "start_time": "2024-11-29T16:39:38.844Z"
   },
   {
    "duration": 4,
    "start_time": "2024-11-29T16:39:38.869Z"
   },
   {
    "duration": 3,
    "start_time": "2024-11-29T16:39:38.887Z"
   },
   {
    "duration": 16,
    "start_time": "2024-11-29T16:39:38.891Z"
   },
   {
    "duration": 4,
    "start_time": "2024-11-29T16:39:38.909Z"
   },
   {
    "duration": 83,
    "start_time": "2024-11-29T16:39:38.915Z"
   },
   {
    "duration": 4,
    "start_time": "2024-11-29T16:39:39.000Z"
   },
   {
    "duration": 498,
    "start_time": "2024-11-29T16:39:39.006Z"
   },
   {
    "duration": 4,
    "start_time": "2024-11-29T16:39:39.506Z"
   },
   {
    "duration": 77,
    "start_time": "2024-11-29T16:39:39.511Z"
   },
   {
    "duration": 4,
    "start_time": "2024-11-29T16:39:39.591Z"
   },
   {
    "duration": 6,
    "start_time": "2024-11-29T16:39:39.598Z"
   },
   {
    "duration": 3,
    "start_time": "2024-11-29T16:39:39.607Z"
   },
   {
    "duration": 4,
    "start_time": "2024-11-29T16:39:39.611Z"
   },
   {
    "duration": 1657,
    "start_time": "2024-11-29T16:39:39.617Z"
   },
   {
    "duration": 3,
    "start_time": "2024-11-29T16:39:41.276Z"
   },
   {
    "duration": 1615,
    "start_time": "2024-11-29T16:40:03.277Z"
   },
   {
    "duration": 1545,
    "start_time": "2024-11-29T16:40:15.955Z"
   },
   {
    "duration": 4,
    "start_time": "2024-11-29T16:41:05.333Z"
   },
   {
    "duration": 6,
    "start_time": "2024-11-29T16:41:24.435Z"
   },
   {
    "duration": 3,
    "start_time": "2024-11-29T16:41:32.202Z"
   },
   {
    "duration": 7,
    "start_time": "2024-11-29T19:41:25.895Z"
   },
   {
    "duration": 160,
    "start_time": "2024-11-29T19:41:28.470Z"
   },
   {
    "duration": 328,
    "start_time": "2024-11-29T19:41:40.522Z"
   },
   {
    "duration": 2626,
    "start_time": "2024-11-29T19:41:40.853Z"
   },
   {
    "duration": 3,
    "start_time": "2024-11-29T19:41:43.480Z"
   },
   {
    "duration": 3,
    "start_time": "2024-11-29T19:41:43.485Z"
   },
   {
    "duration": 297,
    "start_time": "2024-11-29T19:41:43.489Z"
   },
   {
    "duration": 20,
    "start_time": "2024-11-29T19:41:43.789Z"
   },
   {
    "duration": 25,
    "start_time": "2024-11-29T19:41:43.811Z"
   },
   {
    "duration": 91,
    "start_time": "2024-11-29T19:41:43.838Z"
   },
   {
    "duration": 17,
    "start_time": "2024-11-29T19:41:43.931Z"
   },
   {
    "duration": 84,
    "start_time": "2024-11-29T19:41:43.969Z"
   },
   {
    "duration": 41,
    "start_time": "2024-11-29T19:41:44.054Z"
   },
   {
    "duration": 2448,
    "start_time": "2024-11-29T19:41:44.097Z"
   },
   {
    "duration": 527,
    "start_time": "2024-11-29T19:41:46.547Z"
   },
   {
    "duration": 647,
    "start_time": "2024-11-29T19:41:47.075Z"
   },
   {
    "duration": 3,
    "start_time": "2024-11-29T19:41:47.723Z"
   },
   {
    "duration": 25,
    "start_time": "2024-11-29T19:41:47.728Z"
   },
   {
    "duration": 17,
    "start_time": "2024-11-29T19:41:47.754Z"
   },
   {
    "duration": 3,
    "start_time": "2024-11-29T19:41:47.773Z"
   },
   {
    "duration": 17,
    "start_time": "2024-11-29T19:41:47.778Z"
   },
   {
    "duration": 3,
    "start_time": "2024-11-29T19:41:47.797Z"
   },
   {
    "duration": 170,
    "start_time": "2024-11-29T19:41:47.801Z"
   },
   {
    "duration": 3,
    "start_time": "2024-11-29T19:41:47.975Z"
   },
   {
    "duration": 503,
    "start_time": "2024-11-29T19:41:47.979Z"
   },
   {
    "duration": 6,
    "start_time": "2024-11-29T19:41:48.484Z"
   },
   {
    "duration": 78,
    "start_time": "2024-11-29T19:41:48.495Z"
   },
   {
    "duration": 5,
    "start_time": "2024-11-29T19:41:48.577Z"
   },
   {
    "duration": 4,
    "start_time": "2024-11-29T19:41:48.584Z"
   },
   {
    "duration": 3,
    "start_time": "2024-11-29T19:41:48.592Z"
   },
   {
    "duration": 4,
    "start_time": "2024-11-29T19:41:48.597Z"
   },
   {
    "duration": 1620,
    "start_time": "2024-11-29T19:41:48.603Z"
   },
   {
    "duration": 4,
    "start_time": "2024-11-29T19:41:50.225Z"
   },
   {
    "duration": 1605,
    "start_time": "2024-11-29T19:42:35.787Z"
   },
   {
    "duration": 1781,
    "start_time": "2024-11-29T19:42:40.940Z"
   },
   {
    "duration": 4,
    "start_time": "2024-11-29T19:42:46.302Z"
   },
   {
    "duration": 1571,
    "start_time": "2024-11-29T19:42:51.191Z"
   },
   {
    "duration": 4,
    "start_time": "2024-11-29T19:43:00.910Z"
   },
   {
    "duration": 1556,
    "start_time": "2024-11-29T19:43:04.355Z"
   },
   {
    "duration": 3,
    "start_time": "2024-11-29T20:56:14.431Z"
   },
   {
    "duration": 3,
    "start_time": "2024-11-29T21:06:15.936Z"
   },
   {
    "duration": 3,
    "start_time": "2024-11-29T21:09:33.423Z"
   },
   {
    "duration": 560,
    "start_time": "2024-11-29T21:11:00.321Z"
   },
   {
    "duration": 353,
    "start_time": "2024-11-29T21:11:24.018Z"
   },
   {
    "duration": 5,
    "start_time": "2024-11-29T21:11:24.375Z"
   },
   {
    "duration": 2,
    "start_time": "2024-11-29T21:11:24.382Z"
   },
   {
    "duration": 3,
    "start_time": "2024-11-29T21:11:24.386Z"
   },
   {
    "duration": 232,
    "start_time": "2024-11-29T21:11:24.392Z"
   },
   {
    "duration": 20,
    "start_time": "2024-11-29T21:11:24.626Z"
   },
   {
    "duration": 42,
    "start_time": "2024-11-29T21:11:24.647Z"
   },
   {
    "duration": 87,
    "start_time": "2024-11-29T21:11:24.690Z"
   },
   {
    "duration": 16,
    "start_time": "2024-11-29T21:11:24.779Z"
   },
   {
    "duration": 87,
    "start_time": "2024-11-29T21:11:24.796Z"
   },
   {
    "duration": 26,
    "start_time": "2024-11-29T21:11:24.884Z"
   },
   {
    "duration": 2514,
    "start_time": "2024-11-29T21:11:24.912Z"
   },
   {
    "duration": 496,
    "start_time": "2024-11-29T21:11:27.428Z"
   },
   {
    "duration": 601,
    "start_time": "2024-11-29T21:11:27.927Z"
   },
   {
    "duration": 3,
    "start_time": "2024-11-29T21:11:33.772Z"
   },
   {
    "duration": 23,
    "start_time": "2024-11-29T21:11:35.810Z"
   },
   {
    "duration": 17,
    "start_time": "2024-11-29T21:12:45.139Z"
   },
   {
    "duration": 327,
    "start_time": "2024-11-30T02:27:56.539Z"
   },
   {
    "duration": 2608,
    "start_time": "2024-11-30T02:27:56.868Z"
   },
   {
    "duration": 3,
    "start_time": "2024-11-30T02:27:59.478Z"
   },
   {
    "duration": 3,
    "start_time": "2024-11-30T02:27:59.482Z"
   },
   {
    "duration": 307,
    "start_time": "2024-11-30T02:27:59.488Z"
   },
   {
    "duration": 21,
    "start_time": "2024-11-30T02:27:59.796Z"
   },
   {
    "duration": 24,
    "start_time": "2024-11-30T02:27:59.819Z"
   },
   {
    "duration": 83,
    "start_time": "2024-11-30T02:27:59.845Z"
   },
   {
    "duration": 15,
    "start_time": "2024-11-30T02:27:59.929Z"
   },
   {
    "duration": 102,
    "start_time": "2024-11-30T02:27:59.946Z"
   },
   {
    "duration": 30,
    "start_time": "2024-11-30T02:28:00.049Z"
   },
   {
    "duration": 2462,
    "start_time": "2024-11-30T02:28:00.080Z"
   },
   {
    "duration": 477,
    "start_time": "2024-11-30T02:28:02.544Z"
   },
   {
    "duration": 632,
    "start_time": "2024-11-30T02:28:03.024Z"
   },
   {
    "duration": 3,
    "start_time": "2024-11-30T02:28:03.658Z"
   },
   {
    "duration": 23,
    "start_time": "2024-11-30T02:28:03.663Z"
   },
   {
    "duration": 4,
    "start_time": "2024-11-30T02:28:03.688Z"
   },
   {
    "duration": 17,
    "start_time": "2024-11-30T02:28:03.694Z"
   },
   {
    "duration": 16,
    "start_time": "2024-11-30T02:28:03.713Z"
   },
   {
    "duration": 3,
    "start_time": "2024-11-30T02:28:03.730Z"
   },
   {
    "duration": 81,
    "start_time": "2024-11-30T02:28:03.735Z"
   },
   {
    "duration": 4,
    "start_time": "2024-11-30T02:28:03.818Z"
   },
   {
    "duration": 499,
    "start_time": "2024-11-30T02:28:03.824Z"
   },
   {
    "duration": 4,
    "start_time": "2024-11-30T02:28:04.325Z"
   },
   {
    "duration": 81,
    "start_time": "2024-11-30T02:28:04.331Z"
   },
   {
    "duration": 4,
    "start_time": "2024-11-30T02:28:04.414Z"
   },
   {
    "duration": 6,
    "start_time": "2024-11-30T02:28:04.420Z"
   },
   {
    "duration": 3,
    "start_time": "2024-11-30T02:28:04.428Z"
   },
   {
    "duration": 4,
    "start_time": "2024-11-30T02:28:04.432Z"
   },
   {
    "duration": 1633,
    "start_time": "2024-11-30T02:28:04.437Z"
   },
   {
    "duration": 332,
    "start_time": "2024-11-30T02:31:23.326Z"
   },
   {
    "duration": 993,
    "start_time": "2024-11-30T02:31:23.660Z"
   },
   {
    "duration": 3,
    "start_time": "2024-11-30T02:31:24.655Z"
   },
   {
    "duration": 3,
    "start_time": "2024-11-30T02:31:24.659Z"
   },
   {
    "duration": 250,
    "start_time": "2024-11-30T02:31:24.666Z"
   },
   {
    "duration": 21,
    "start_time": "2024-11-30T02:31:24.918Z"
   },
   {
    "duration": 26,
    "start_time": "2024-11-30T02:31:24.942Z"
   },
   {
    "duration": 98,
    "start_time": "2024-11-30T02:31:24.970Z"
   },
   {
    "duration": 17,
    "start_time": "2024-11-30T02:31:25.070Z"
   },
   {
    "duration": 102,
    "start_time": "2024-11-30T02:31:25.089Z"
   },
   {
    "duration": 45,
    "start_time": "2024-11-30T02:31:25.193Z"
   },
   {
    "duration": 2308,
    "start_time": "2024-11-30T02:31:25.240Z"
   },
   {
    "duration": 487,
    "start_time": "2024-11-30T02:31:27.550Z"
   },
   {
    "duration": 625,
    "start_time": "2024-11-30T02:31:28.040Z"
   },
   {
    "duration": 3,
    "start_time": "2024-11-30T02:31:28.667Z"
   },
   {
    "duration": 25,
    "start_time": "2024-11-30T02:31:28.672Z"
   },
   {
    "duration": 14,
    "start_time": "2024-11-30T02:31:28.698Z"
   },
   {
    "duration": 3,
    "start_time": "2024-11-30T02:31:28.714Z"
   },
   {
    "duration": 17,
    "start_time": "2024-11-30T02:31:28.719Z"
   },
   {
    "duration": 3,
    "start_time": "2024-11-30T02:31:28.737Z"
   },
   {
    "duration": 70,
    "start_time": "2024-11-30T02:31:28.742Z"
   },
   {
    "duration": 3,
    "start_time": "2024-11-30T02:31:28.814Z"
   },
   {
    "duration": 605,
    "start_time": "2024-11-30T02:31:28.820Z"
   },
   {
    "duration": 4,
    "start_time": "2024-11-30T02:31:29.427Z"
   },
   {
    "duration": 79,
    "start_time": "2024-11-30T02:31:29.433Z"
   },
   {
    "duration": 4,
    "start_time": "2024-11-30T02:31:29.517Z"
   },
   {
    "duration": 4,
    "start_time": "2024-11-30T02:31:29.525Z"
   },
   {
    "duration": 3,
    "start_time": "2024-11-30T02:31:29.531Z"
   },
   {
    "duration": 4,
    "start_time": "2024-11-30T02:31:29.536Z"
   },
   {
    "duration": 1617,
    "start_time": "2024-11-30T02:31:29.541Z"
   },
   {
    "duration": 333,
    "start_time": "2024-11-30T02:40:47.556Z"
   },
   {
    "duration": 935,
    "start_time": "2024-11-30T02:40:47.891Z"
   },
   {
    "duration": 3,
    "start_time": "2024-11-30T02:40:48.827Z"
   },
   {
    "duration": 2,
    "start_time": "2024-11-30T02:40:48.832Z"
   },
   {
    "duration": 222,
    "start_time": "2024-11-30T02:40:48.838Z"
   },
   {
    "duration": 21,
    "start_time": "2024-11-30T02:40:49.062Z"
   },
   {
    "duration": 44,
    "start_time": "2024-11-30T02:40:49.085Z"
   },
   {
    "duration": 67,
    "start_time": "2024-11-30T02:40:49.131Z"
   },
   {
    "duration": 14,
    "start_time": "2024-11-30T02:40:49.212Z"
   },
   {
    "duration": 96,
    "start_time": "2024-11-30T02:40:49.230Z"
   },
   {
    "duration": 31,
    "start_time": "2024-11-30T02:40:49.328Z"
   },
   {
    "duration": 2270,
    "start_time": "2024-11-30T02:40:49.360Z"
   },
   {
    "duration": 477,
    "start_time": "2024-11-30T02:40:51.633Z"
   },
   {
    "duration": 647,
    "start_time": "2024-11-30T02:40:52.112Z"
   },
   {
    "duration": 3,
    "start_time": "2024-11-30T02:40:52.761Z"
   },
   {
    "duration": 24,
    "start_time": "2024-11-30T02:40:52.765Z"
   },
   {
    "duration": 4,
    "start_time": "2024-11-30T02:40:52.791Z"
   },
   {
    "duration": 3,
    "start_time": "2024-11-30T02:40:52.812Z"
   },
   {
    "duration": 16,
    "start_time": "2024-11-30T02:40:52.817Z"
   },
   {
    "duration": 3,
    "start_time": "2024-11-30T02:40:52.834Z"
   },
   {
    "duration": 17,
    "start_time": "2024-11-30T02:40:52.839Z"
   },
   {
    "duration": 55,
    "start_time": "2024-11-30T02:40:52.857Z"
   },
   {
    "duration": 616,
    "start_time": "2024-11-30T02:40:52.913Z"
   },
   {
    "duration": 3,
    "start_time": "2024-11-30T02:40:53.531Z"
   },
   {
    "duration": 79,
    "start_time": "2024-11-30T02:40:53.535Z"
   },
   {
    "duration": 7,
    "start_time": "2024-11-30T02:40:53.620Z"
   },
   {
    "duration": 5,
    "start_time": "2024-11-30T02:40:53.628Z"
   },
   {
    "duration": 3,
    "start_time": "2024-11-30T02:40:53.636Z"
   },
   {
    "duration": 72,
    "start_time": "2024-11-30T02:40:53.640Z"
   },
   {
    "duration": 1593,
    "start_time": "2024-11-30T02:40:53.713Z"
   },
   {
    "duration": 1557,
    "start_time": "2024-11-30T02:41:00.302Z"
   },
   {
    "duration": 1605,
    "start_time": "2024-11-30T02:41:13.577Z"
   },
   {
    "duration": 1565,
    "start_time": "2024-11-30T02:41:52.160Z"
   },
   {
    "duration": 1552,
    "start_time": "2024-11-30T02:41:57.906Z"
   },
   {
    "duration": 334,
    "start_time": "2024-11-30T19:05:09.122Z"
   },
   {
    "duration": 985,
    "start_time": "2024-11-30T19:05:09.460Z"
   },
   {
    "duration": 2,
    "start_time": "2024-11-30T19:05:10.446Z"
   },
   {
    "duration": 3,
    "start_time": "2024-11-30T19:05:10.450Z"
   },
   {
    "duration": 286,
    "start_time": "2024-11-30T19:05:10.456Z"
   },
   {
    "duration": 21,
    "start_time": "2024-11-30T19:05:10.744Z"
   },
   {
    "duration": 25,
    "start_time": "2024-11-30T19:05:10.767Z"
   },
   {
    "duration": 83,
    "start_time": "2024-11-30T19:05:10.794Z"
   },
   {
    "duration": 13,
    "start_time": "2024-11-30T19:05:10.879Z"
   },
   {
    "duration": 104,
    "start_time": "2024-11-30T19:05:10.894Z"
   },
   {
    "duration": 42,
    "start_time": "2024-11-30T19:05:11.000Z"
   },
   {
    "duration": 2327,
    "start_time": "2024-11-30T19:05:11.044Z"
   },
   {
    "duration": 552,
    "start_time": "2024-11-30T19:05:13.372Z"
   },
   {
    "duration": 659,
    "start_time": "2024-11-30T19:05:13.927Z"
   },
   {
    "duration": 3,
    "start_time": "2024-11-30T19:05:14.588Z"
   },
   {
    "duration": 33,
    "start_time": "2024-11-30T19:05:14.595Z"
   },
   {
    "duration": 5,
    "start_time": "2024-11-30T19:05:14.630Z"
   },
   {
    "duration": 3,
    "start_time": "2024-11-30T19:05:14.636Z"
   },
   {
    "duration": 16,
    "start_time": "2024-11-30T19:05:14.640Z"
   },
   {
    "duration": 3,
    "start_time": "2024-11-30T19:05:14.658Z"
   },
   {
    "duration": 63,
    "start_time": "2024-11-30T19:05:14.662Z"
   },
   {
    "duration": 3,
    "start_time": "2024-11-30T19:05:14.727Z"
   },
   {
    "duration": 604,
    "start_time": "2024-11-30T19:05:14.732Z"
   },
   {
    "duration": 3,
    "start_time": "2024-11-30T19:05:15.338Z"
   },
   {
    "duration": 4,
    "start_time": "2024-11-30T19:05:15.343Z"
   },
   {
    "duration": 82,
    "start_time": "2024-11-30T19:05:15.348Z"
   },
   {
    "duration": 5,
    "start_time": "2024-11-30T19:05:15.432Z"
   },
   {
    "duration": 2,
    "start_time": "2024-11-30T19:05:15.439Z"
   },
   {
    "duration": 4,
    "start_time": "2024-11-30T19:05:15.442Z"
   },
   {
    "duration": 1639,
    "start_time": "2024-11-30T19:05:15.448Z"
   },
   {
    "duration": 337,
    "start_time": "2024-11-30T19:06:12.963Z"
   },
   {
    "duration": 4,
    "start_time": "2024-11-30T19:06:13.303Z"
   },
   {
    "duration": 3,
    "start_time": "2024-11-30T19:06:13.308Z"
   },
   {
    "duration": 3,
    "start_time": "2024-11-30T19:06:13.314Z"
   },
   {
    "duration": 219,
    "start_time": "2024-11-30T19:06:13.318Z"
   },
   {
    "duration": 19,
    "start_time": "2024-11-30T19:06:13.538Z"
   },
   {
    "duration": 26,
    "start_time": "2024-11-30T19:06:13.559Z"
   },
   {
    "duration": 92,
    "start_time": "2024-11-30T19:06:13.587Z"
   },
   {
    "duration": 16,
    "start_time": "2024-11-30T19:06:13.681Z"
   },
   {
    "duration": 123,
    "start_time": "2024-11-30T19:06:13.700Z"
   },
   {
    "duration": 28,
    "start_time": "2024-11-30T19:06:13.825Z"
   },
   {
    "duration": 2292,
    "start_time": "2024-11-30T19:06:13.855Z"
   },
   {
    "duration": 484,
    "start_time": "2024-11-30T19:06:16.149Z"
   },
   {
    "duration": 648,
    "start_time": "2024-11-30T19:06:16.635Z"
   },
   {
    "duration": 3,
    "start_time": "2024-11-30T19:06:17.285Z"
   },
   {
    "duration": 23,
    "start_time": "2024-11-30T19:06:17.289Z"
   },
   {
    "duration": 4,
    "start_time": "2024-11-30T19:06:17.324Z"
   },
   {
    "duration": 3,
    "start_time": "2024-11-30T19:06:17.330Z"
   },
   {
    "duration": 17,
    "start_time": "2024-11-30T19:06:17.335Z"
   },
   {
    "duration": 3,
    "start_time": "2024-11-30T19:06:17.354Z"
   },
   {
    "duration": 75,
    "start_time": "2024-11-30T19:06:17.359Z"
   },
   {
    "duration": 6,
    "start_time": "2024-11-30T19:06:17.437Z"
   },
   {
    "duration": 390,
    "start_time": "2024-11-30T19:06:17.446Z"
   },
   {
    "duration": 4,
    "start_time": "2024-11-30T19:06:17.839Z"
   },
   {
    "duration": 80,
    "start_time": "2024-11-30T19:06:17.844Z"
   },
   {
    "duration": 5,
    "start_time": "2024-11-30T19:06:17.928Z"
   },
   {
    "duration": 11,
    "start_time": "2024-11-30T19:06:17.936Z"
   },
   {
    "duration": 6,
    "start_time": "2024-11-30T19:06:17.952Z"
   },
   {
    "duration": 12,
    "start_time": "2024-11-30T19:06:17.959Z"
   },
   {
    "duration": 1636,
    "start_time": "2024-11-30T19:06:17.973Z"
   }
  ],
  "kernelspec": {
   "display_name": "Python 3 (ipykernel)",
   "language": "python",
   "name": "python3"
  },
  "language_info": {
   "codemirror_mode": {
    "name": "ipython",
    "version": 3
   },
   "file_extension": ".py",
   "mimetype": "text/x-python",
   "name": "python",
   "nbconvert_exporter": "python",
   "pygments_lexer": "ipython3",
   "version": "3.9.19"
  },
  "toc": {
   "base_numbering": 1,
   "nav_menu": {},
   "number_sections": true,
   "sideBar": true,
   "skip_h1_title": true,
   "title_cell": "Table of Contents",
   "title_sidebar": "Contents",
   "toc_cell": true,
   "toc_position": {
    "height": "calc(100% - 180px)",
    "left": "10px",
    "top": "150px",
    "width": "209px"
   },
   "toc_section_display": true,
   "toc_window_display": false
  }
 },
 "nbformat": 4,
 "nbformat_minor": 2
}
