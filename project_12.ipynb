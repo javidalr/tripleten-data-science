{
 "cells": [
  {
   "cell_type": "markdown",
   "metadata": {},
   "source": [
    "# Hola &#x1F600;,\n",
    "\n",
    "Soy **Hesus Garcia** – **\"Soy el único Hesus que conoces (y probablemente conocerás) 🌟\"** – Sí, como \"Jesús\", pero con una H que me hace único. Puede sonar raro, pero créeme, ¡no lo olvidarás! Como tu revisor en Triple-Ten, estoy aquí para guiarte y ayudarte a mejorar tu código. Si algo necesita un ajuste, no hay de qué preocuparse; ¡aquí estoy para hacer que tu trabajo brille con todo su potencial! ✨\n",
    "\n",
    "Cada vez que encuentre un detalle importante en tu código, te lo señalaré para que puedas corregirlo y así te prepares para un ambiente de trabajo real, donde el líder de tu equipo actuaría de manera similar. Si en algún momento no logras solucionar el problema, te daré más detalles para ayudarte en nuestra próxima oportunidad de revisión.\n",
    "\n",
    "Es importante que cuando encuentres un comentario, **no los muevas, no los modifiques, ni los borres**.\n",
    "\n",
    "---\n",
    "\n",
    "### Formato de Comentarios\n",
    "\n",
    "Revisaré cuidadosamente cada implementación en tu notebook para asegurar que cumpla con los requisitos y te daré comentarios de acuerdo al siguiente formato:\n",
    "\n",
    "<div class=\"alert alert-block alert-success\">\n",
    "\n",
    "<b>Comentario del revisor</b> <a class=\"tocSkip\"></a><br>\n",
    "\n",
    "   \n",
    "\n",
    "<b>Éxito</b> - ¡Excelente trabajo! Esta parte está bien implementada y contribuye significativamente al análisis de datos o al proyecto. Continúa aplicando estas buenas prácticas en futuras secciones.\n",
    "\n",
    "   \n",
    "\n",
    "</div>\n",
    "\n",
    "<div class=\"alert alert-block alert-warning\">\n",
    "\n",
    "<b>Comentario del revisor</b> <a class=\"tocSkip\"></a><br>\n",
    "\n",
    "   \n",
    "\n",
    "<b>Atención</b> ⚠️ - Este código está correcto, pero se puede optimizar. Considera implementar mejoras para que sea más eficiente y fácil de leer. Esto fortalecerá la calidad de tu proyecto.\n",
    "\n",
    "   \n",
    "\n",
    "</div>\n",
    "\n",
    "<div class=\"alert alert-block alert-danger\">\n",
    "\n",
    "<b>Comentario del revisor</b> <a class=\"tocSkip\"></a><br>\n",
    "\n",
    "   \n",
    "\n",
    "<b>A resolver</b> ❗ - Aquí hay un problema o error en el código que es necesario corregir para aprobar esta sección. Por favor, revisa y corrige este punto, ya que es fundamental para la validez del análisis y la precisión de los resultados.\n",
    "\n",
    "   \n",
    "\n",
    "</div>\n",
    "\n",
    "habilidades.\n",
    "\n",
    "Estos temas adicionales no son obligatorios en esta etapa, pero pueden serte útiles para profundizar en el futuro.\n",
    "\n",
    "---\n",
    "\n",
    "Esta estructura en viñetas facilita la lectura y comprensión de cada parte del comentario final.\n",
    "\n",
    "También puedes responderme de la siguiente manera si tienes alguna duda o quieres aclarar algo específico:\n",
    "\n",
    "<div class=\"alert alert-block alert-info\">\n",
    "\n",
    "<b>Respuesta del estudiante</b> <a class=\"tocSkip\"></a>\n",
    "\n",
    "   \n",
    "\n",
    "Aquí puedes escribir tu respuesta o pregunta sobre el comentario.\n",
    "\n",
    "   \n",
    "\n",
    "</div>\n",
    "\n",
    "**¡Empecemos!** &#x1F680;"
   ]
  },
  {
   "cell_type": "markdown",
   "metadata": {},
   "source": [
    "<h1><center>App Rusty Bargain: Nuevos clientes</center></h1>"
   ]
  },
  {
   "cell_type": "markdown",
   "metadata": {
    "toc": true
   },
   "source": [
    "<h1>Table of Contents<span class=\"tocSkip\"></span></h1>\n",
    "<div class=\"toc\"><ul class=\"toc-item\"><li><ul class=\"toc-item\"><li><span><a href=\"#Formato-de-Comentarios\" data-toc-modified-id=\"Formato-de-Comentarios-0.1\"><span class=\"toc-item-num\">0.1&nbsp;&nbsp;</span>Formato de Comentarios</a></span></li></ul></li><li><span><a href=\"#Descripcion-del-proyecto\" data-toc-modified-id=\"Descripcion-del-proyecto-1\"><span class=\"toc-item-num\">1&nbsp;&nbsp;</span>Descripcion del proyecto</a></span><ul class=\"toc-item\"><li><span><a href=\"#Problema-de-negocio\" data-toc-modified-id=\"Problema-de-negocio-1.1\"><span class=\"toc-item-num\">1.1&nbsp;&nbsp;</span>Problema de negocio</a></span></li><li><span><a href=\"#Objetivos\" data-toc-modified-id=\"Objetivos-1.2\"><span class=\"toc-item-num\">1.2&nbsp;&nbsp;</span>Objetivos</a></span></li><li><span><a href=\"#Propuesta-del-proyecto\" data-toc-modified-id=\"Propuesta-del-proyecto-1.3\"><span class=\"toc-item-num\">1.3&nbsp;&nbsp;</span>Propuesta del proyecto</a></span></li></ul></li><li><span><a href=\"#Preparación-de-datos\" data-toc-modified-id=\"Preparación-de-datos-2\"><span class=\"toc-item-num\">2&nbsp;&nbsp;</span>Preparación de datos</a></span><ul class=\"toc-item\"><li><span><a href=\"#Descripcion-de-los-datos\" data-toc-modified-id=\"Descripcion-de-los-datos-2.1\"><span class=\"toc-item-num\">2.1&nbsp;&nbsp;</span>Descripcion de los datos</a></span></li><li><span><a href=\"#Ambiente-y-librerias\" data-toc-modified-id=\"Ambiente-y-librerias-2.2\"><span class=\"toc-item-num\">2.2&nbsp;&nbsp;</span>Ambiente y librerias</a></span></li><li><span><a href=\"#Funciones\" data-toc-modified-id=\"Funciones-2.3\"><span class=\"toc-item-num\">2.3&nbsp;&nbsp;</span>Funciones</a></span></li><li><span><a href=\"#Carga-y-lectura-de-datos\" data-toc-modified-id=\"Carga-y-lectura-de-datos-2.4\"><span class=\"toc-item-num\">2.4&nbsp;&nbsp;</span>Carga y lectura de datos</a></span></li><li><span><a href=\"#Informacion-preliminar\" data-toc-modified-id=\"Informacion-preliminar-2.5\"><span class=\"toc-item-num\">2.5&nbsp;&nbsp;</span>Informacion preliminar</a></span></li><li><span><a href=\"#Pre-procesamiento-de-datos\" data-toc-modified-id=\"Pre-procesamiento-de-datos-2.6\"><span class=\"toc-item-num\">2.6&nbsp;&nbsp;</span>Pre-procesamiento de datos</a></span><ul class=\"toc-item\"><li><span><a href=\"#Cambio-de-formato-a-nombre-de-columnas\" data-toc-modified-id=\"Cambio-de-formato-a-nombre-de-columnas-2.6.1\"><span class=\"toc-item-num\">2.6.1&nbsp;&nbsp;</span>Cambio de formato a nombre de columnas</a></span></li><li><span><a href=\"#Eliminacion-de-variables-innecesarias\" data-toc-modified-id=\"Eliminacion-de-variables-innecesarias-2.6.2\"><span class=\"toc-item-num\">2.6.2&nbsp;&nbsp;</span>Eliminacion de variables innecesarias</a></span></li><li><span><a href=\"#Revisando-la-distribucion-de-la-variable-objetivo-precio-(price)\" data-toc-modified-id=\"Revisando-la-distribucion-de-la-variable-objetivo-precio-(price)-2.6.3\"><span class=\"toc-item-num\">2.6.3&nbsp;&nbsp;</span>Revisando la distribucion de la variable objetivo precio (price)</a></span></li><li><span><a href=\"#Revisando-la-distribucion-de-la-variable-Año-de-Matricula-(registration_year)\" data-toc-modified-id=\"Revisando-la-distribucion-de-la-variable-Año-de-Matricula-(registration_year)-2.6.4\"><span class=\"toc-item-num\">2.6.4&nbsp;&nbsp;</span>Revisando la distribucion de la variable Año de Matricula (registration_year)</a></span></li><li><span><a href=\"#Procesamiento-de-valores-ceros\" data-toc-modified-id=\"Procesamiento-de-valores-ceros-2.6.5\"><span class=\"toc-item-num\">2.6.5&nbsp;&nbsp;</span>Procesamiento de valores ceros</a></span><ul class=\"toc-item\"><li><span><a href=\"#Columna-'price'\" data-toc-modified-id=\"Columna-'price'-2.6.5.1\"><span class=\"toc-item-num\">2.6.5.1&nbsp;&nbsp;</span>Columna 'price'</a></span></li><li><span><a href=\"#Columna-'power'\" data-toc-modified-id=\"Columna-'power'-2.6.5.2\"><span class=\"toc-item-num\">2.6.5.2&nbsp;&nbsp;</span>Columna 'power'</a></span></li></ul></li><li><span><a href=\"#Valores-duplicados\" data-toc-modified-id=\"Valores-duplicados-2.6.6\"><span class=\"toc-item-num\">2.6.6&nbsp;&nbsp;</span>Valores duplicados</a></span></li><li><span><a href=\"#Valores-ausentes\" data-toc-modified-id=\"Valores-ausentes-2.6.7\"><span class=\"toc-item-num\">2.6.7&nbsp;&nbsp;</span>Valores ausentes</a></span></li><li><span><a href=\"#Reduccion-de-tamaño-del-dataset\" data-toc-modified-id=\"Reduccion-de-tamaño-del-dataset-2.6.8\"><span class=\"toc-item-num\">2.6.8&nbsp;&nbsp;</span>Reduccion de tamaño del dataset</a></span></li></ul></li><li><span><a href=\"#Preparacion-de-los-datasets\" data-toc-modified-id=\"Preparacion-de-los-datasets-2.7\"><span class=\"toc-item-num\">2.7&nbsp;&nbsp;</span>Preparacion de los datasets</a></span><ul class=\"toc-item\"><li><span><a href=\"#Dataset-data_new\" data-toc-modified-id=\"Dataset-data_new-2.7.1\"><span class=\"toc-item-num\">2.7.1&nbsp;&nbsp;</span>Dataset <code>data_new</code></a></span></li><li><span><a href=\"#Particion-de-los-datos\" data-toc-modified-id=\"Particion-de-los-datos-2.7.2\"><span class=\"toc-item-num\">2.7.2&nbsp;&nbsp;</span>Particion de los datos</a></span></li><li><span><a href=\"#Escalado-de-caracteristicas\" data-toc-modified-id=\"Escalado-de-caracteristicas-2.7.3\"><span class=\"toc-item-num\">2.7.3&nbsp;&nbsp;</span>Escalado de caracteristicas</a></span></li></ul></li></ul></li><li><span><a href=\"#Entrenamiento-del-modelo\" data-toc-modified-id=\"Entrenamiento-del-modelo-3\"><span class=\"toc-item-num\">3&nbsp;&nbsp;</span>Entrenamiento del modelo</a></span><ul class=\"toc-item\"><li><span><a href=\"#Linear-Regression-(Modelo-Referencial)\" data-toc-modified-id=\"Linear-Regression-(Modelo-Referencial)-3.1\"><span class=\"toc-item-num\">3.1&nbsp;&nbsp;</span>Linear Regression (Modelo Referencial)</a></span></li><li><span><a href=\"#Decision-Tree-Regressor\" data-toc-modified-id=\"Decision-Tree-Regressor-3.2\"><span class=\"toc-item-num\">3.2&nbsp;&nbsp;</span>Decision Tree Regressor</a></span></li><li><span><a href=\"#Random-Forest-Regressor\" data-toc-modified-id=\"Random-Forest-Regressor-3.3\"><span class=\"toc-item-num\">3.3&nbsp;&nbsp;</span>Random Forest Regressor</a></span></li><li><span><a href=\"#XGBoost-Regressor\" data-toc-modified-id=\"XGBoost-Regressor-3.4\"><span class=\"toc-item-num\">3.4&nbsp;&nbsp;</span>XGBoost Regressor</a></span><ul class=\"toc-item\"><li><span><a href=\"#Uso-de-parametros-con-valores-definidos\" data-toc-modified-id=\"Uso-de-parametros-con-valores-definidos-3.4.1\"><span class=\"toc-item-num\">3.4.1&nbsp;&nbsp;</span>Uso de parametros con valores definidos</a></span></li><li><span><a href=\"#Uso-de-parametros-con-valores-aleatorios\" data-toc-modified-id=\"Uso-de-parametros-con-valores-aleatorios-3.4.2\"><span class=\"toc-item-num\">3.4.2&nbsp;&nbsp;</span>Uso de parametros con valores aleatorios</a></span></li><li><span><a href=\"#Prueba-con-el-conjunto-de-prueba\" data-toc-modified-id=\"Prueba-con-el-conjunto-de-prueba-3.4.3\"><span class=\"toc-item-num\">3.4.3&nbsp;&nbsp;</span>Prueba con el conjunto de prueba</a></span></li></ul></li><li><span><a href=\"#LightGBM-Regressor\" data-toc-modified-id=\"LightGBM-Regressor-3.5\"><span class=\"toc-item-num\">3.5&nbsp;&nbsp;</span>LightGBM Regressor</a></span><ul class=\"toc-item\"><li><span><a href=\"#Uso-de-parametros-con-valores-definidos\" data-toc-modified-id=\"Uso-de-parametros-con-valores-definidos-3.5.1\"><span class=\"toc-item-num\">3.5.1&nbsp;&nbsp;</span>Uso de parametros con valores definidos</a></span></li><li><span><a href=\"#Uso-de-parametros-con-valores-aleatorios\" data-toc-modified-id=\"Uso-de-parametros-con-valores-aleatorios-3.5.2\"><span class=\"toc-item-num\">3.5.2&nbsp;&nbsp;</span>Uso de parametros con valores aleatorios</a></span></li><li><span><a href=\"#Prueba-con-el-conjunto-de-prueba\" data-toc-modified-id=\"Prueba-con-el-conjunto-de-prueba-3.5.3\"><span class=\"toc-item-num\">3.5.3&nbsp;&nbsp;</span>Prueba con el conjunto de prueba</a></span></li></ul></li><li><span><a href=\"#CatBoost-Regressor\" data-toc-modified-id=\"CatBoost-Regressor-3.6\"><span class=\"toc-item-num\">3.6&nbsp;&nbsp;</span>CatBoost Regressor</a></span><ul class=\"toc-item\"><li><span><a href=\"#Uso-de-parametros-con-valores-definidos\" data-toc-modified-id=\"Uso-de-parametros-con-valores-definidos-3.6.1\"><span class=\"toc-item-num\">3.6.1&nbsp;&nbsp;</span>Uso de parametros con valores definidos</a></span></li><li><span><a href=\"#Uso-de-parametros-con-valores-aleatorios\" data-toc-modified-id=\"Uso-de-parametros-con-valores-aleatorios-3.6.2\"><span class=\"toc-item-num\">3.6.2&nbsp;&nbsp;</span>Uso de parametros con valores aleatorios</a></span></li><li><span><a href=\"#Prueba-con-el-conjunto-de-prueba\" data-toc-modified-id=\"Prueba-con-el-conjunto-de-prueba-3.6.3\"><span class=\"toc-item-num\">3.6.3&nbsp;&nbsp;</span>Prueba con el conjunto de prueba</a></span></li></ul></li></ul></li><li><span><a href=\"#Análisis-del-modelo\" data-toc-modified-id=\"Análisis-del-modelo-4\"><span class=\"toc-item-num\">4&nbsp;&nbsp;</span>Análisis del modelo</a></span><ul class=\"toc-item\"><li><ul class=\"toc-item\"><li><span><a href=\"#Puntos-Positivos:\" data-toc-modified-id=\"Puntos-Positivos:-4.0.1\"><span class=\"toc-item-num\">4.0.1&nbsp;&nbsp;</span>Puntos Positivos:</a></span></li><li><span><a href=\"#Áreas-de-Mejora:\" data-toc-modified-id=\"Áreas-de-Mejora:-4.0.2\"><span class=\"toc-item-num\">4.0.2&nbsp;&nbsp;</span>Áreas de Mejora:</a></span></li></ul></li></ul></li></ul></div>"
   ]
  },
  {
   "cell_type": "markdown",
   "metadata": {},
   "source": [
    "## Descripcion del proyecto"
   ]
  },
  {
   "cell_type": "markdown",
   "metadata": {},
   "source": [
    "### Problema de negocio\n",
    "\n",
    "El servicio de venta de autos usados Rusty Bargain esta desarrollando una aplicacion para atraer nuevos clientes. Gracias a esa app, puedes averiguar rapidamente el valor de mercado de tu coche. Tienes acceso al historial: especificaciones tecnicas, versiones de equipamiento y precios. Tienes que crear un modelo que determine el valor de mercado.\n",
    "\n",
    "A Rusty Bargain le interesa:\n",
    "\n",
    "- Calidad de la prediccion\n",
    "\n",
    "- Velocidad de la prediccion\n",
    "\n",
    "- Tiempo requerido para el entrenamiento\n",
    "\n",
    "\n",
    "### Objetivos\n",
    "\n",
    "- Entrenar diferentes modelos, modificando sus hiperparametros.\n",
    "\n",
    "\n",
    "- Implementar la potenciacion del gradiente y comparar varios metodos.\n",
    "\n",
    "\n",
    "- Analizar tiempo de entrenamiento, velocidad y calidad de prediccion de los modelos.\n",
    "\n",
    "\n",
    "\n",
    "### Propuesta del proyecto\n",
    "\n",
    "El proyecto se compondrá de las siguientes etapas\n",
    "\n",
    "**1. Carga y Lectura de datos**\n",
    "  - Carga del dataset desde el archivo `car_data.csv`\n",
    "  - Explorar conjunto de datos para comprender sus variables y estructura.\n",
    "  - Verificar la existencia de valores ausentes, duplicados, los tipos de datos y estadisticas basicas.\n",
    "  \n",
    "**2. Preparacion de los datos**\n",
    "  - Tratamiento de valores ausentes y valores duplicados.\n",
    "  - Reduccion del tamaño del dataset, para mayor eficiencia en la ejecucion de los modelos.\n",
    "  - Particion de los datos en conjuntos de entrenamiento y prueba.\n",
    "  - Diversas tecnicas y escalado de datos para optimizarla prediccion de los modelos.\n",
    "  \n",
    "**3. Entrenamiento de los modelos**\n",
    "  - Entrenar y probar diferentes modelos como Linear Regression, Decision Tree Regressor, Random Forest Regressor, XGBoost Regressor, LightGBM Regressor y CatBoost Regressor.\n",
    "  - Implementacion de varios metodos de potenciacion del gradiente con modelos como XGBoost Regressor, LightGBM Regressor y CatBoost Regressor. \n",
    "  - Pruebas con diferentes hiperparametros, valores definidos y aleatorios, analisis de tiempo de respuestas, calidad y velocidad en las predicciones.\n",
    "  \n",
    "**4. Analisis del modelo**\n",
    "  - Resumen general del desempeño de los modelos.\n",
    "  - Analizar y seleccionar el modelo mas optimo para las condiciones que solicita el cliente"
   ]
  },
  {
   "cell_type": "markdown",
   "metadata": {},
   "source": [
    "## Preparación de datos"
   ]
  },
  {
   "cell_type": "markdown",
   "metadata": {},
   "source": [
    "### Descripcion de los datos"
   ]
  },
  {
   "cell_type": "markdown",
   "metadata": {},
   "source": [
    "El dataset está almacenado en la ruta de archivo `/datasets/car_data.csv`\n",
    "\n",
    "**Características (Features)**\n",
    "\n",
    "- `DateCrawled` — fecha en la que se descargó el perfil de la base de datos\n",
    "- `VehicleType` — tipo de carrocería del vehículo\n",
    "- `RegistrationYear` — año de matriculación del vehículo\n",
    "- `Gearbox` — tipo de caja de cambios\n",
    "- `Power` — potencia (CV)\n",
    "- `Model` — modelo del vehículo\n",
    "- `Mileage` — kilometraje (medido en km de acuerdo con las especificidades regionales del conjunto de datos)\n",
    "- `RegistrationMonth` — mes de matriculación del vehículo\n",
    "- `FuelType` — tipo de combustible\n",
    "- `Brand` — marca del vehículo\n",
    "- `NotRepaired` — vehículo con o sin reparación\n",
    "- `DateCreated` — fecha de creación del perfil\n",
    "- `NumberOfPictures` — número de fotos del vehículo\n",
    "- `PostalCode` — código postal del propietario del perfil (usuario)\n",
    "- `LastSeen` — fecha de la última vez que el usuario estuvo activo\n",
    "\n",
    "**Objetivo (Target)**\n",
    "\n",
    "- `Price` — precio (en euros)"
   ]
  },
  {
   "cell_type": "markdown",
   "metadata": {},
   "source": [
    "### Ambiente y librerias"
   ]
  },
  {
   "cell_type": "code",
   "execution_count": 10,
   "metadata": {},
   "outputs": [],
   "source": [
    "# Importando librerias\n",
    "\n",
    "import pandas as pd\n",
    "import numpy as np\n",
    "import matplotlib.pyplot as plt\n",
    "import seaborn as sns\n",
    "import re\n",
    "\n",
    "from scipy.stats import randint as sp_randInt\n",
    "from scipy.stats import uniform as sp_randFloat\n",
    "from sklearn.ensemble import RandomForestRegressor\n",
    "from sklearn.linear_model import LinearRegression\n",
    "from sklearn.metrics import make_scorer, mean_squared_error\n",
    "from sklearn.model_selection import train_test_split, RandomizedSearchCV, cross_val_score, KFold, GridSearchCV\n",
    "from sklearn.linear_model import LinearRegression\n",
    "from sklearn.pipeline import Pipeline\n",
    "from sklearn.preprocessing import StandardScaler, OneHotEncoder\n",
    "from sklearn.tree import DecisionTreeRegressor\n",
    "\n",
    "from catboost import CatBoostRegressor, Pool\n",
    "from lightgbm import LGBMRegressor\n",
    "from xgboost import XGBRegressor\n",
    "\n",
    "import warnings\n",
    "warnings.filterwarnings('ignore')\n",
    "\n",
    "\n",
    "# Semilla de aleatoriedad\n",
    "seed = 200"
   ]
  },
  {
   "cell_type": "markdown",
   "metadata": {},
   "source": [
    "### Funciones"
   ]
  },
  {
   "cell_type": "code",
   "execution_count": 11,
   "metadata": {},
   "outputs": [],
   "source": [
    "# 1.Modifica formato nombre de columnas (snake_case)\n",
    "\n",
    "def camel_to_snake(string):\n",
    "    string = re.sub('(.)([A-Z][a-z]+)', r'\\1_\\2', string)\n",
    "    string = re.sub('(.)([0-9]+)', r'\\1_\\2', string)\n",
    "    return re.sub('([a-z0-9])([A-Z])', r'\\1_\\2', string).lower()\n",
    "\n",
    "\n",
    "# 2.Contexto general del conjunto de datos\n",
    "\n",
    "def informacion_datos(data):\n",
    "    print('1. Tabla de datos')\n",
    "    display(data.sample(10))\n",
    "    print('='*100)\n",
    "    print()\n",
    "\n",
    "    print('2. Registros y variables')\n",
    "    print()\n",
    "    print('Registros: ', data.shape[0])\n",
    "    print()\n",
    "    print('Variables: ', data.shape[1])\n",
    "    print('='*100)\n",
    "    print()\n",
    "\n",
    "    print('3. Resumen general del dataset')\n",
    "    print(data.info())\n",
    "    print('='*100)\n",
    "    print()\n",
    "\n",
    "    print('4. Resumen estadistico del dataset')\n",
    "    print()\n",
    "    print(data.describe())\n",
    "    print('='*100)\n",
    "    print()\n",
    "\n",
    "    print('5. Valores duplicados por variable')\n",
    "    print()\n",
    "    print(data.duplicated().sum())\n",
    "    print('='*100)\n",
    "    print()\n",
    "\n",
    "    print('6. Valores ausentes por variable')\n",
    "    print()\n",
    "    print(data.isna().sum())\n",
    "    print('='*100)\n",
    "    print()\n",
    "\n",
    "    \n",
    "# 3.Agrupacion de Precios\n",
    "\n",
    "def grupo_precio(price):\n",
    "    if price <= 500:\n",
    "        return 'cheap'\n",
    "    elif 500 < price <= 2000:\n",
    "        return 'medium'\n",
    "    elif 2000 < price <= 10000:\n",
    "        return 'expensive'\n",
    "    else:\n",
    "        return 'very expensive'\n",
    "\n",
    "    \n",
    "# 4.Reemplazo de valores ceros con mediana\n",
    "\n",
    "def reemplazo_valores_ceros_por_mediana(data, columna_a, columna_b, columna_c):\n",
    "    \"\"\"\n",
    "    Reemplaza los valores ceros de una columna_a), por el valor medio de la columna_b, \n",
    "    agrupado por el valor unico de la columna_c \n",
    "    \n",
    "    Args:\n",
    "    data (pandas.DataFrame): Dataframe que contiene los registros.\n",
    "    column_a (str): Nombre de la columna con valores ceros.\n",
    "    column_b (str): Nombre de la columna para calcular la mediana.\n",
    "    column_c (str): Nombre de la la columna que agrupa los datos.\n",
    "    \n",
    "    return:\n",
    "    pandas.DataFrame: Dataframe con los valores corregidos\n",
    "    \"\"\"\n",
    "    \n",
    "    # Agrupa el dataset por la columna_c, y calcula la mediana de los datos en la columna_b\n",
    "    median_values = data.groupby(columna_c)[columna_b].median()\n",
    "\n",
    "    # Reemplaza los valores ceros de la columna_a, con el valor medio representativo.\n",
    "    data[columna_a] = data.apply(lambda x: median_values[x[columna_c]] if x[columna_a] == 0 else x[columna_a], axis=1)\n",
    "\n",
    "    return data\n",
    "\n",
    "\n",
    "# 5. Cambia tipos de datos numericos\n",
    "\n",
    "def tipo_dato_numerico_mas_pequeno(data):\n",
    "    \"\"\"\n",
    "    Cambia el tipo de datos numerico en el dataset para adoptar un tipo de dato mas pequeño.\n",
    "    \n",
    "    :Params:\n",
    "    data (pandas.DataFrame): Conjunto de datos a reducir de tamaño.\n",
    "    \n",
    "    :return: \n",
    "    pandas.DataFrame: Conjunto de datos reducido de tamaño.\n",
    "    \"\"\"\n",
    "    \n",
    "    # Lista de columnas numericas\n",
    "    numeric_cols = data.select_dtypes(include = np.number).columns.tolist()\n",
    "    \n",
    "    # Calculo de memoria inicial\n",
    "    start_mem = data.memory_usage().sum() / 1024**2\n",
    "    print('Memoria usada por el DataFrame       = {:.2f} MB'.format(start_mem))\n",
    "    \n",
    "    # Cambia tipo de datos en cada columna\n",
    "    for col in numeric_cols:\n",
    "        col_min = data[col].min()\n",
    "        col_max = data[col].max()\n",
    "        if col_min >= 0:\n",
    "            if col_max < 256:\n",
    "                data[col] = data[col].astype(np.uint8)\n",
    "            elif col_max < 65536:\n",
    "                data[col] = data[col].astype(np.uint16)\n",
    "            elif col_max < 4294967296:\n",
    "                data[col] = data[col].astype(np.uint32)\n",
    "            else:\n",
    "                data[col] = data[col].astype(np.uint64)\n",
    "        else:\n",
    "            if col_min >= np.iinfo(np.int8).min and col_max <= np.iinfo(np.int8).max:\n",
    "                data[col] = data[col].astype(np.int8)\n",
    "            elif col_min >= np.iinfo(np.int16).min and col_max <= np.iinfo(np.int16).max:\n",
    "                data[col] = data[col].astype(np.int16)\n",
    "            elif col_min >= np.iinfo(np.int32).min and col_max <= np.iinfo(np.int32).max:\n",
    "                data[col] = data[col].astype(np.int32)\n",
    "            else:\n",
    "                data[col] = data[col].astype(np.int64)\n",
    "                \n",
    "    end_mem = data.memory_usage().sum() / 1024**2\n",
    "    print('Memoria usada luego de la optimizacion = {:.2f} MB'.format(end_mem))\n",
    "    print('Disminuyo en {:.1f}%'.format(100 * (start_mem - end_mem) / start_mem))\n",
    "    \n",
    "    return data        \n",
    "\n",
    "\n",
    "# 6.Calcula el RMSE \n",
    "\n",
    "def rmse(y_true, y_pred):\n",
    "    \"\"\"\n",
    "    Funcion que calcula el error cuadratico medio (RMSE).\n",
    "    \n",
    "    :Params:\n",
    "        y_true: Matriz con valores reales\n",
    "        y_pred: Matriz con valores predichos\n",
    "    \n",
    "    :return: \n",
    "        Valor del RMSE\n",
    "    \"\"\"\n",
    "        \n",
    "    return np.sqrt(np.mean((y_true - y_pred) ** 2))"
   ]
  },
  {
   "cell_type": "markdown",
   "metadata": {},
   "source": [
    "### Carga y lectura de datos"
   ]
  },
  {
   "cell_type": "code",
   "execution_count": 12,
   "metadata": {},
   "outputs": [],
   "source": [
    "# Carga de datos\n",
    "\n",
    "try:\n",
    "    data = pd.read_csv('/datasets/car_data.csv')\n",
    "except:\n",
    "    data = pd.read_csv('car_data.csv')"
   ]
  },
  {
   "cell_type": "code",
   "execution_count": 13,
   "metadata": {},
   "outputs": [
    {
     "data": {
      "text/html": [
       "<div>\n",
       "<style scoped>\n",
       "    .dataframe tbody tr th:only-of-type {\n",
       "        vertical-align: middle;\n",
       "    }\n",
       "\n",
       "    .dataframe tbody tr th {\n",
       "        vertical-align: top;\n",
       "    }\n",
       "\n",
       "    .dataframe thead th {\n",
       "        text-align: right;\n",
       "    }\n",
       "</style>\n",
       "<table border=\"1\" class=\"dataframe\">\n",
       "  <thead>\n",
       "    <tr style=\"text-align: right;\">\n",
       "      <th></th>\n",
       "      <th>DateCrawled</th>\n",
       "      <th>Price</th>\n",
       "      <th>VehicleType</th>\n",
       "      <th>RegistrationYear</th>\n",
       "      <th>Gearbox</th>\n",
       "      <th>Power</th>\n",
       "      <th>Model</th>\n",
       "      <th>Mileage</th>\n",
       "      <th>RegistrationMonth</th>\n",
       "      <th>FuelType</th>\n",
       "      <th>Brand</th>\n",
       "      <th>NotRepaired</th>\n",
       "      <th>DateCreated</th>\n",
       "      <th>NumberOfPictures</th>\n",
       "      <th>PostalCode</th>\n",
       "      <th>LastSeen</th>\n",
       "    </tr>\n",
       "  </thead>\n",
       "  <tbody>\n",
       "    <tr>\n",
       "      <th>0</th>\n",
       "      <td>24/03/2016 11:52</td>\n",
       "      <td>480</td>\n",
       "      <td>NaN</td>\n",
       "      <td>1993</td>\n",
       "      <td>manual</td>\n",
       "      <td>0</td>\n",
       "      <td>golf</td>\n",
       "      <td>150000</td>\n",
       "      <td>0</td>\n",
       "      <td>petrol</td>\n",
       "      <td>volkswagen</td>\n",
       "      <td>NaN</td>\n",
       "      <td>24/03/2016 00:00</td>\n",
       "      <td>0</td>\n",
       "      <td>70435</td>\n",
       "      <td>07/04/2016 03:16</td>\n",
       "    </tr>\n",
       "    <tr>\n",
       "      <th>1</th>\n",
       "      <td>24/03/2016 10:58</td>\n",
       "      <td>18300</td>\n",
       "      <td>coupe</td>\n",
       "      <td>2011</td>\n",
       "      <td>manual</td>\n",
       "      <td>190</td>\n",
       "      <td>NaN</td>\n",
       "      <td>125000</td>\n",
       "      <td>5</td>\n",
       "      <td>gasoline</td>\n",
       "      <td>audi</td>\n",
       "      <td>yes</td>\n",
       "      <td>24/03/2016 00:00</td>\n",
       "      <td>0</td>\n",
       "      <td>66954</td>\n",
       "      <td>07/04/2016 01:46</td>\n",
       "    </tr>\n",
       "    <tr>\n",
       "      <th>2</th>\n",
       "      <td>14/03/2016 12:52</td>\n",
       "      <td>9800</td>\n",
       "      <td>suv</td>\n",
       "      <td>2004</td>\n",
       "      <td>auto</td>\n",
       "      <td>163</td>\n",
       "      <td>grand</td>\n",
       "      <td>125000</td>\n",
       "      <td>8</td>\n",
       "      <td>gasoline</td>\n",
       "      <td>jeep</td>\n",
       "      <td>NaN</td>\n",
       "      <td>14/03/2016 00:00</td>\n",
       "      <td>0</td>\n",
       "      <td>90480</td>\n",
       "      <td>05/04/2016 12:47</td>\n",
       "    </tr>\n",
       "    <tr>\n",
       "      <th>3</th>\n",
       "      <td>17/03/2016 16:54</td>\n",
       "      <td>1500</td>\n",
       "      <td>small</td>\n",
       "      <td>2001</td>\n",
       "      <td>manual</td>\n",
       "      <td>75</td>\n",
       "      <td>golf</td>\n",
       "      <td>150000</td>\n",
       "      <td>6</td>\n",
       "      <td>petrol</td>\n",
       "      <td>volkswagen</td>\n",
       "      <td>no</td>\n",
       "      <td>17/03/2016 00:00</td>\n",
       "      <td>0</td>\n",
       "      <td>91074</td>\n",
       "      <td>17/03/2016 17:40</td>\n",
       "    </tr>\n",
       "    <tr>\n",
       "      <th>4</th>\n",
       "      <td>31/03/2016 17:25</td>\n",
       "      <td>3600</td>\n",
       "      <td>small</td>\n",
       "      <td>2008</td>\n",
       "      <td>manual</td>\n",
       "      <td>69</td>\n",
       "      <td>fabia</td>\n",
       "      <td>90000</td>\n",
       "      <td>7</td>\n",
       "      <td>gasoline</td>\n",
       "      <td>skoda</td>\n",
       "      <td>no</td>\n",
       "      <td>31/03/2016 00:00</td>\n",
       "      <td>0</td>\n",
       "      <td>60437</td>\n",
       "      <td>06/04/2016 10:17</td>\n",
       "    </tr>\n",
       "    <tr>\n",
       "      <th>...</th>\n",
       "      <td>...</td>\n",
       "      <td>...</td>\n",
       "      <td>...</td>\n",
       "      <td>...</td>\n",
       "      <td>...</td>\n",
       "      <td>...</td>\n",
       "      <td>...</td>\n",
       "      <td>...</td>\n",
       "      <td>...</td>\n",
       "      <td>...</td>\n",
       "      <td>...</td>\n",
       "      <td>...</td>\n",
       "      <td>...</td>\n",
       "      <td>...</td>\n",
       "      <td>...</td>\n",
       "      <td>...</td>\n",
       "    </tr>\n",
       "    <tr>\n",
       "      <th>354364</th>\n",
       "      <td>21/03/2016 09:50</td>\n",
       "      <td>0</td>\n",
       "      <td>NaN</td>\n",
       "      <td>2005</td>\n",
       "      <td>manual</td>\n",
       "      <td>0</td>\n",
       "      <td>colt</td>\n",
       "      <td>150000</td>\n",
       "      <td>7</td>\n",
       "      <td>petrol</td>\n",
       "      <td>mitsubishi</td>\n",
       "      <td>yes</td>\n",
       "      <td>21/03/2016 00:00</td>\n",
       "      <td>0</td>\n",
       "      <td>2694</td>\n",
       "      <td>21/03/2016 10:42</td>\n",
       "    </tr>\n",
       "    <tr>\n",
       "      <th>354365</th>\n",
       "      <td>14/03/2016 17:48</td>\n",
       "      <td>2200</td>\n",
       "      <td>NaN</td>\n",
       "      <td>2005</td>\n",
       "      <td>NaN</td>\n",
       "      <td>0</td>\n",
       "      <td>NaN</td>\n",
       "      <td>20000</td>\n",
       "      <td>1</td>\n",
       "      <td>NaN</td>\n",
       "      <td>sonstige_autos</td>\n",
       "      <td>NaN</td>\n",
       "      <td>14/03/2016 00:00</td>\n",
       "      <td>0</td>\n",
       "      <td>39576</td>\n",
       "      <td>06/04/2016 00:46</td>\n",
       "    </tr>\n",
       "    <tr>\n",
       "      <th>354366</th>\n",
       "      <td>05/03/2016 19:56</td>\n",
       "      <td>1199</td>\n",
       "      <td>convertible</td>\n",
       "      <td>2000</td>\n",
       "      <td>auto</td>\n",
       "      <td>101</td>\n",
       "      <td>fortwo</td>\n",
       "      <td>125000</td>\n",
       "      <td>3</td>\n",
       "      <td>petrol</td>\n",
       "      <td>smart</td>\n",
       "      <td>no</td>\n",
       "      <td>05/03/2016 00:00</td>\n",
       "      <td>0</td>\n",
       "      <td>26135</td>\n",
       "      <td>11/03/2016 18:17</td>\n",
       "    </tr>\n",
       "    <tr>\n",
       "      <th>354367</th>\n",
       "      <td>19/03/2016 18:57</td>\n",
       "      <td>9200</td>\n",
       "      <td>bus</td>\n",
       "      <td>1996</td>\n",
       "      <td>manual</td>\n",
       "      <td>102</td>\n",
       "      <td>transporter</td>\n",
       "      <td>150000</td>\n",
       "      <td>3</td>\n",
       "      <td>gasoline</td>\n",
       "      <td>volkswagen</td>\n",
       "      <td>no</td>\n",
       "      <td>19/03/2016 00:00</td>\n",
       "      <td>0</td>\n",
       "      <td>87439</td>\n",
       "      <td>07/04/2016 07:15</td>\n",
       "    </tr>\n",
       "    <tr>\n",
       "      <th>354368</th>\n",
       "      <td>20/03/2016 19:41</td>\n",
       "      <td>3400</td>\n",
       "      <td>wagon</td>\n",
       "      <td>2002</td>\n",
       "      <td>manual</td>\n",
       "      <td>100</td>\n",
       "      <td>golf</td>\n",
       "      <td>150000</td>\n",
       "      <td>6</td>\n",
       "      <td>gasoline</td>\n",
       "      <td>volkswagen</td>\n",
       "      <td>NaN</td>\n",
       "      <td>20/03/2016 00:00</td>\n",
       "      <td>0</td>\n",
       "      <td>40764</td>\n",
       "      <td>24/03/2016 12:45</td>\n",
       "    </tr>\n",
       "  </tbody>\n",
       "</table>\n",
       "<p>354369 rows × 16 columns</p>\n",
       "</div>"
      ],
      "text/plain": [
       "             DateCrawled  Price  VehicleType  RegistrationYear Gearbox  Power  \\\n",
       "0       24/03/2016 11:52    480          NaN              1993  manual      0   \n",
       "1       24/03/2016 10:58  18300        coupe              2011  manual    190   \n",
       "2       14/03/2016 12:52   9800          suv              2004    auto    163   \n",
       "3       17/03/2016 16:54   1500        small              2001  manual     75   \n",
       "4       31/03/2016 17:25   3600        small              2008  manual     69   \n",
       "...                  ...    ...          ...               ...     ...    ...   \n",
       "354364  21/03/2016 09:50      0          NaN              2005  manual      0   \n",
       "354365  14/03/2016 17:48   2200          NaN              2005     NaN      0   \n",
       "354366  05/03/2016 19:56   1199  convertible              2000    auto    101   \n",
       "354367  19/03/2016 18:57   9200          bus              1996  manual    102   \n",
       "354368  20/03/2016 19:41   3400        wagon              2002  manual    100   \n",
       "\n",
       "              Model  Mileage  RegistrationMonth  FuelType           Brand  \\\n",
       "0              golf   150000                  0    petrol      volkswagen   \n",
       "1               NaN   125000                  5  gasoline            audi   \n",
       "2             grand   125000                  8  gasoline            jeep   \n",
       "3              golf   150000                  6    petrol      volkswagen   \n",
       "4             fabia    90000                  7  gasoline           skoda   \n",
       "...             ...      ...                ...       ...             ...   \n",
       "354364         colt   150000                  7    petrol      mitsubishi   \n",
       "354365          NaN    20000                  1       NaN  sonstige_autos   \n",
       "354366       fortwo   125000                  3    petrol           smart   \n",
       "354367  transporter   150000                  3  gasoline      volkswagen   \n",
       "354368         golf   150000                  6  gasoline      volkswagen   \n",
       "\n",
       "       NotRepaired       DateCreated  NumberOfPictures  PostalCode  \\\n",
       "0              NaN  24/03/2016 00:00                 0       70435   \n",
       "1              yes  24/03/2016 00:00                 0       66954   \n",
       "2              NaN  14/03/2016 00:00                 0       90480   \n",
       "3               no  17/03/2016 00:00                 0       91074   \n",
       "4               no  31/03/2016 00:00                 0       60437   \n",
       "...            ...               ...               ...         ...   \n",
       "354364         yes  21/03/2016 00:00                 0        2694   \n",
       "354365         NaN  14/03/2016 00:00                 0       39576   \n",
       "354366          no  05/03/2016 00:00                 0       26135   \n",
       "354367          no  19/03/2016 00:00                 0       87439   \n",
       "354368         NaN  20/03/2016 00:00                 0       40764   \n",
       "\n",
       "                LastSeen  \n",
       "0       07/04/2016 03:16  \n",
       "1       07/04/2016 01:46  \n",
       "2       05/04/2016 12:47  \n",
       "3       17/03/2016 17:40  \n",
       "4       06/04/2016 10:17  \n",
       "...                  ...  \n",
       "354364  21/03/2016 10:42  \n",
       "354365  06/04/2016 00:46  \n",
       "354366  11/03/2016 18:17  \n",
       "354367  07/04/2016 07:15  \n",
       "354368  24/03/2016 12:45  \n",
       "\n",
       "[354369 rows x 16 columns]"
      ]
     },
     "metadata": {},
     "output_type": "display_data"
    }
   ],
   "source": [
    "display(data)"
   ]
  },
  {
   "cell_type": "markdown",
   "metadata": {},
   "source": [
    "### Informacion preliminar"
   ]
  },
  {
   "cell_type": "code",
   "execution_count": 14,
   "metadata": {},
   "outputs": [
    {
     "name": "stdout",
     "output_type": "stream",
     "text": [
      "1. Tabla de datos\n"
     ]
    },
    {
     "data": {
      "text/html": [
       "<div>\n",
       "<style scoped>\n",
       "    .dataframe tbody tr th:only-of-type {\n",
       "        vertical-align: middle;\n",
       "    }\n",
       "\n",
       "    .dataframe tbody tr th {\n",
       "        vertical-align: top;\n",
       "    }\n",
       "\n",
       "    .dataframe thead th {\n",
       "        text-align: right;\n",
       "    }\n",
       "</style>\n",
       "<table border=\"1\" class=\"dataframe\">\n",
       "  <thead>\n",
       "    <tr style=\"text-align: right;\">\n",
       "      <th></th>\n",
       "      <th>DateCrawled</th>\n",
       "      <th>Price</th>\n",
       "      <th>VehicleType</th>\n",
       "      <th>RegistrationYear</th>\n",
       "      <th>Gearbox</th>\n",
       "      <th>Power</th>\n",
       "      <th>Model</th>\n",
       "      <th>Mileage</th>\n",
       "      <th>RegistrationMonth</th>\n",
       "      <th>FuelType</th>\n",
       "      <th>Brand</th>\n",
       "      <th>NotRepaired</th>\n",
       "      <th>DateCreated</th>\n",
       "      <th>NumberOfPictures</th>\n",
       "      <th>PostalCode</th>\n",
       "      <th>LastSeen</th>\n",
       "    </tr>\n",
       "  </thead>\n",
       "  <tbody>\n",
       "    <tr>\n",
       "      <th>320286</th>\n",
       "      <td>22/03/2016 23:44</td>\n",
       "      <td>0</td>\n",
       "      <td>sedan</td>\n",
       "      <td>2002</td>\n",
       "      <td>manual</td>\n",
       "      <td>220</td>\n",
       "      <td>other</td>\n",
       "      <td>150000</td>\n",
       "      <td>7</td>\n",
       "      <td>gasoline</td>\n",
       "      <td>alfa_romeo</td>\n",
       "      <td>no</td>\n",
       "      <td>22/03/2016 00:00</td>\n",
       "      <td>0</td>\n",
       "      <td>59581</td>\n",
       "      <td>24/03/2016 08:47</td>\n",
       "    </tr>\n",
       "    <tr>\n",
       "      <th>79887</th>\n",
       "      <td>04/04/2016 17:41</td>\n",
       "      <td>4090</td>\n",
       "      <td>sedan</td>\n",
       "      <td>2005</td>\n",
       "      <td>manual</td>\n",
       "      <td>82</td>\n",
       "      <td>a_klasse</td>\n",
       "      <td>150000</td>\n",
       "      <td>11</td>\n",
       "      <td>gasoline</td>\n",
       "      <td>mercedes_benz</td>\n",
       "      <td>no</td>\n",
       "      <td>04/04/2016 00:00</td>\n",
       "      <td>0</td>\n",
       "      <td>47259</td>\n",
       "      <td>04/04/2016 17:41</td>\n",
       "    </tr>\n",
       "    <tr>\n",
       "      <th>75257</th>\n",
       "      <td>28/03/2016 15:40</td>\n",
       "      <td>2400</td>\n",
       "      <td>suv</td>\n",
       "      <td>2006</td>\n",
       "      <td>auto</td>\n",
       "      <td>140</td>\n",
       "      <td>sorento</td>\n",
       "      <td>150000</td>\n",
       "      <td>3</td>\n",
       "      <td>gasoline</td>\n",
       "      <td>kia</td>\n",
       "      <td>NaN</td>\n",
       "      <td>28/03/2016 00:00</td>\n",
       "      <td>0</td>\n",
       "      <td>79807</td>\n",
       "      <td>28/03/2016 15:40</td>\n",
       "    </tr>\n",
       "    <tr>\n",
       "      <th>189907</th>\n",
       "      <td>29/03/2016 14:50</td>\n",
       "      <td>850</td>\n",
       "      <td>NaN</td>\n",
       "      <td>2017</td>\n",
       "      <td>manual</td>\n",
       "      <td>0</td>\n",
       "      <td>toledo</td>\n",
       "      <td>150000</td>\n",
       "      <td>2</td>\n",
       "      <td>petrol</td>\n",
       "      <td>seat</td>\n",
       "      <td>no</td>\n",
       "      <td>29/03/2016 00:00</td>\n",
       "      <td>0</td>\n",
       "      <td>48429</td>\n",
       "      <td>31/03/2016 07:45</td>\n",
       "    </tr>\n",
       "    <tr>\n",
       "      <th>262810</th>\n",
       "      <td>20/03/2016 20:46</td>\n",
       "      <td>3400</td>\n",
       "      <td>other</td>\n",
       "      <td>2004</td>\n",
       "      <td>manual</td>\n",
       "      <td>105</td>\n",
       "      <td>golf</td>\n",
       "      <td>150000</td>\n",
       "      <td>1</td>\n",
       "      <td>gasoline</td>\n",
       "      <td>volkswagen</td>\n",
       "      <td>no</td>\n",
       "      <td>20/03/2016 00:00</td>\n",
       "      <td>0</td>\n",
       "      <td>38126</td>\n",
       "      <td>07/04/2016 05:17</td>\n",
       "    </tr>\n",
       "    <tr>\n",
       "      <th>254887</th>\n",
       "      <td>02/04/2016 17:52</td>\n",
       "      <td>3100</td>\n",
       "      <td>convertible</td>\n",
       "      <td>1998</td>\n",
       "      <td>manual</td>\n",
       "      <td>136</td>\n",
       "      <td>slk</td>\n",
       "      <td>150000</td>\n",
       "      <td>4</td>\n",
       "      <td>petrol</td>\n",
       "      <td>mercedes_benz</td>\n",
       "      <td>no</td>\n",
       "      <td>02/04/2016 00:00</td>\n",
       "      <td>0</td>\n",
       "      <td>27570</td>\n",
       "      <td>06/04/2016 17:17</td>\n",
       "    </tr>\n",
       "    <tr>\n",
       "      <th>322590</th>\n",
       "      <td>12/03/2016 07:02</td>\n",
       "      <td>4900</td>\n",
       "      <td>wagon</td>\n",
       "      <td>2007</td>\n",
       "      <td>manual</td>\n",
       "      <td>116</td>\n",
       "      <td>a4</td>\n",
       "      <td>150000</td>\n",
       "      <td>3</td>\n",
       "      <td>gasoline</td>\n",
       "      <td>audi</td>\n",
       "      <td>no</td>\n",
       "      <td>12/03/2016 00:00</td>\n",
       "      <td>0</td>\n",
       "      <td>26607</td>\n",
       "      <td>12/03/2016 09:41</td>\n",
       "    </tr>\n",
       "    <tr>\n",
       "      <th>120182</th>\n",
       "      <td>04/04/2016 16:37</td>\n",
       "      <td>1650</td>\n",
       "      <td>small</td>\n",
       "      <td>1999</td>\n",
       "      <td>manual</td>\n",
       "      <td>75</td>\n",
       "      <td>golf</td>\n",
       "      <td>150000</td>\n",
       "      <td>3</td>\n",
       "      <td>petrol</td>\n",
       "      <td>volkswagen</td>\n",
       "      <td>no</td>\n",
       "      <td>04/04/2016 00:00</td>\n",
       "      <td>0</td>\n",
       "      <td>59069</td>\n",
       "      <td>06/04/2016 18:16</td>\n",
       "    </tr>\n",
       "    <tr>\n",
       "      <th>162628</th>\n",
       "      <td>02/04/2016 08:51</td>\n",
       "      <td>10500</td>\n",
       "      <td>coupe</td>\n",
       "      <td>2007</td>\n",
       "      <td>manual</td>\n",
       "      <td>338</td>\n",
       "      <td>astra</td>\n",
       "      <td>150000</td>\n",
       "      <td>2</td>\n",
       "      <td>NaN</td>\n",
       "      <td>opel</td>\n",
       "      <td>no</td>\n",
       "      <td>02/04/2016 00:00</td>\n",
       "      <td>0</td>\n",
       "      <td>47506</td>\n",
       "      <td>07/04/2016 12:15</td>\n",
       "    </tr>\n",
       "    <tr>\n",
       "      <th>262267</th>\n",
       "      <td>15/03/2016 16:39</td>\n",
       "      <td>1800</td>\n",
       "      <td>wagon</td>\n",
       "      <td>2002</td>\n",
       "      <td>manual</td>\n",
       "      <td>109</td>\n",
       "      <td>3_reihe</td>\n",
       "      <td>150000</td>\n",
       "      <td>0</td>\n",
       "      <td>petrol</td>\n",
       "      <td>peugeot</td>\n",
       "      <td>NaN</td>\n",
       "      <td>15/03/2016 00:00</td>\n",
       "      <td>0</td>\n",
       "      <td>58675</td>\n",
       "      <td>15/03/2016 16:39</td>\n",
       "    </tr>\n",
       "  </tbody>\n",
       "</table>\n",
       "</div>"
      ],
      "text/plain": [
       "             DateCrawled  Price  VehicleType  RegistrationYear Gearbox  Power  \\\n",
       "320286  22/03/2016 23:44      0        sedan              2002  manual    220   \n",
       "79887   04/04/2016 17:41   4090        sedan              2005  manual     82   \n",
       "75257   28/03/2016 15:40   2400          suv              2006    auto    140   \n",
       "189907  29/03/2016 14:50    850          NaN              2017  manual      0   \n",
       "262810  20/03/2016 20:46   3400        other              2004  manual    105   \n",
       "254887  02/04/2016 17:52   3100  convertible              1998  manual    136   \n",
       "322590  12/03/2016 07:02   4900        wagon              2007  manual    116   \n",
       "120182  04/04/2016 16:37   1650        small              1999  manual     75   \n",
       "162628  02/04/2016 08:51  10500        coupe              2007  manual    338   \n",
       "262267  15/03/2016 16:39   1800        wagon              2002  manual    109   \n",
       "\n",
       "           Model  Mileage  RegistrationMonth  FuelType          Brand  \\\n",
       "320286     other   150000                  7  gasoline     alfa_romeo   \n",
       "79887   a_klasse   150000                 11  gasoline  mercedes_benz   \n",
       "75257    sorento   150000                  3  gasoline            kia   \n",
       "189907    toledo   150000                  2    petrol           seat   \n",
       "262810      golf   150000                  1  gasoline     volkswagen   \n",
       "254887       slk   150000                  4    petrol  mercedes_benz   \n",
       "322590        a4   150000                  3  gasoline           audi   \n",
       "120182      golf   150000                  3    petrol     volkswagen   \n",
       "162628     astra   150000                  2       NaN           opel   \n",
       "262267   3_reihe   150000                  0    petrol        peugeot   \n",
       "\n",
       "       NotRepaired       DateCreated  NumberOfPictures  PostalCode  \\\n",
       "320286          no  22/03/2016 00:00                 0       59581   \n",
       "79887           no  04/04/2016 00:00                 0       47259   \n",
       "75257          NaN  28/03/2016 00:00                 0       79807   \n",
       "189907          no  29/03/2016 00:00                 0       48429   \n",
       "262810          no  20/03/2016 00:00                 0       38126   \n",
       "254887          no  02/04/2016 00:00                 0       27570   \n",
       "322590          no  12/03/2016 00:00                 0       26607   \n",
       "120182          no  04/04/2016 00:00                 0       59069   \n",
       "162628          no  02/04/2016 00:00                 0       47506   \n",
       "262267         NaN  15/03/2016 00:00                 0       58675   \n",
       "\n",
       "                LastSeen  \n",
       "320286  24/03/2016 08:47  \n",
       "79887   04/04/2016 17:41  \n",
       "75257   28/03/2016 15:40  \n",
       "189907  31/03/2016 07:45  \n",
       "262810  07/04/2016 05:17  \n",
       "254887  06/04/2016 17:17  \n",
       "322590  12/03/2016 09:41  \n",
       "120182  06/04/2016 18:16  \n",
       "162628  07/04/2016 12:15  \n",
       "262267  15/03/2016 16:39  "
      ]
     },
     "metadata": {},
     "output_type": "display_data"
    },
    {
     "name": "stdout",
     "output_type": "stream",
     "text": [
      "====================================================================================================\n",
      "\n",
      "2. Registros y variables\n",
      "\n",
      "Registros:  354369\n",
      "\n",
      "Variables:  16\n",
      "====================================================================================================\n",
      "\n",
      "3. Resumen general del dataset\n",
      "<class 'pandas.core.frame.DataFrame'>\n",
      "RangeIndex: 354369 entries, 0 to 354368\n",
      "Data columns (total 16 columns):\n",
      " #   Column             Non-Null Count   Dtype \n",
      "---  ------             --------------   ----- \n",
      " 0   DateCrawled        354369 non-null  object\n",
      " 1   Price              354369 non-null  int64 \n",
      " 2   VehicleType        316879 non-null  object\n",
      " 3   RegistrationYear   354369 non-null  int64 \n",
      " 4   Gearbox            334536 non-null  object\n",
      " 5   Power              354369 non-null  int64 \n",
      " 6   Model              334664 non-null  object\n",
      " 7   Mileage            354369 non-null  int64 \n",
      " 8   RegistrationMonth  354369 non-null  int64 \n",
      " 9   FuelType           321474 non-null  object\n",
      " 10  Brand              354369 non-null  object\n",
      " 11  NotRepaired        283215 non-null  object\n",
      " 12  DateCreated        354369 non-null  object\n",
      " 13  NumberOfPictures   354369 non-null  int64 \n",
      " 14  PostalCode         354369 non-null  int64 \n",
      " 15  LastSeen           354369 non-null  object\n",
      "dtypes: int64(7), object(9)\n",
      "memory usage: 43.3+ MB\n",
      "None\n",
      "====================================================================================================\n",
      "\n",
      "4. Resumen estadistico del dataset\n",
      "\n",
      "               Price  RegistrationYear          Power        Mileage  \\\n",
      "count  354369.000000     354369.000000  354369.000000  354369.000000   \n",
      "mean     4416.656776       2004.234448     110.094337  128211.172535   \n",
      "std      4514.158514         90.227958     189.850405   37905.341530   \n",
      "min         0.000000       1000.000000       0.000000    5000.000000   \n",
      "25%      1050.000000       1999.000000      69.000000  125000.000000   \n",
      "50%      2700.000000       2003.000000     105.000000  150000.000000   \n",
      "75%      6400.000000       2008.000000     143.000000  150000.000000   \n",
      "max     20000.000000       9999.000000   20000.000000  150000.000000   \n",
      "\n",
      "       RegistrationMonth  NumberOfPictures     PostalCode  \n",
      "count      354369.000000          354369.0  354369.000000  \n",
      "mean            5.714645               0.0   50508.689087  \n",
      "std             3.726421               0.0   25783.096248  \n",
      "min             0.000000               0.0    1067.000000  \n",
      "25%             3.000000               0.0   30165.000000  \n",
      "50%             6.000000               0.0   49413.000000  \n",
      "75%             9.000000               0.0   71083.000000  \n",
      "max            12.000000               0.0   99998.000000  \n",
      "====================================================================================================\n",
      "\n",
      "5. Valores duplicados por variable\n",
      "\n",
      "262\n",
      "====================================================================================================\n",
      "\n",
      "6. Valores ausentes por variable\n",
      "\n",
      "DateCrawled              0\n",
      "Price                    0\n",
      "VehicleType          37490\n",
      "RegistrationYear         0\n",
      "Gearbox              19833\n",
      "Power                    0\n",
      "Model                19705\n",
      "Mileage                  0\n",
      "RegistrationMonth        0\n",
      "FuelType             32895\n",
      "Brand                    0\n",
      "NotRepaired          71154\n",
      "DateCreated              0\n",
      "NumberOfPictures         0\n",
      "PostalCode               0\n",
      "LastSeen                 0\n",
      "dtype: int64\n",
      "====================================================================================================\n",
      "\n"
     ]
    }
   ],
   "source": [
    "# Revisando el conjunto de datos\n",
    "\n",
    "informacion_datos(data)"
   ]
  },
  {
   "cell_type": "code",
   "execution_count": 15,
   "metadata": {},
   "outputs": [
    {
     "name": "stdout",
     "output_type": "stream",
     "text": [
      "Variable VehicleType: 8\n",
      "Variable Gearbox: 2\n",
      "Variable Model: 250\n",
      "Variable FuelType: 7\n",
      "Variable Brand: 40\n",
      "Variable NotRepaired: 2\n"
     ]
    }
   ],
   "source": [
    "# Verificando valores unicos en las variables categoricas\n",
    "\n",
    "variables_categoricas = [\n",
    "    'VehicleType',\n",
    "    'Gearbox',\n",
    "    'Model',\n",
    "    'FuelType',\n",
    "    'Brand',\n",
    "    'NotRepaired'\n",
    "]\n",
    "\n",
    "for variable in variables_categoricas:\n",
    "    print(f'Variable {variable}: {len(data[variable].value_counts())}')"
   ]
  },
  {
   "cell_type": "code",
   "execution_count": 16,
   "metadata": {},
   "outputs": [
    {
     "name": "stdout",
     "output_type": "stream",
     "text": [
      "Model\n"
     ]
    },
    {
     "data": {
      "text/plain": [
       "array(['golf', nan, 'grand', 'fabia', '3er', '2_reihe', 'other', 'c_max',\n",
       "       '3_reihe', 'passat', 'navara', 'ka', 'polo', 'twingo', 'a_klasse',\n",
       "       'scirocco', '5er', 'meriva', 'arosa', 'c4', 'civic', 'transporter',\n",
       "       'punto', 'e_klasse', 'clio', 'kadett', 'kangoo', 'corsa', 'one',\n",
       "       'fortwo', '1er', 'b_klasse', 'signum', 'astra', 'a8', 'jetta',\n",
       "       'fiesta', 'c_klasse', 'micra', 'vito', 'sprinter', '156', 'escort',\n",
       "       'forester', 'xc_reihe', 'scenic', 'a4', 'a1', 'insignia', 'combo',\n",
       "       'focus', 'tt', 'a6', 'jazz', 'omega', 'slk', '7er', '80', '147',\n",
       "       '100', 'z_reihe', 'sportage', 'sorento', 'v40', 'ibiza', 'mustang',\n",
       "       'eos', 'touran', 'getz', 'a3', 'almera', 'megane', 'lupo', 'r19',\n",
       "       'zafira', 'caddy', 'mondeo', 'cordoba', 'colt', 'impreza',\n",
       "       'vectra', 'berlingo', 'tiguan', 'i_reihe', 'espace', 'sharan',\n",
       "       '6_reihe', 'panda', 'up', 'seicento', 'ceed', '5_reihe', 'yeti',\n",
       "       'octavia', 'mii', 'rx_reihe', '6er', 'modus', 'fox', 'matiz',\n",
       "       'beetle', 'c1', 'rio', 'touareg', 'logan', 'spider', 'cuore',\n",
       "       's_max', 'a2', 'galaxy', 'c3', 'viano', 's_klasse', '1_reihe',\n",
       "       'avensis', 'roomster', 'sl', 'kaefer', 'santa', 'cooper', 'leon',\n",
       "       '4_reihe', 'a5', '500', 'laguna', 'ptcruiser', 'clk', 'primera',\n",
       "       'x_reihe', 'exeo', '159', 'transit', 'juke', 'qashqai', 'carisma',\n",
       "       'accord', 'corolla', 'lanos', 'phaeton', 'verso', 'swift', 'rav',\n",
       "       'picanto', 'boxster', 'kalos', 'superb', 'stilo', 'alhambra',\n",
       "       'mx_reihe', 'roadster', 'ypsilon', 'cayenne', 'galant', 'justy',\n",
       "       '90', 'sirion', 'crossfire', 'agila', 'duster', 'cr_reihe', 'v50',\n",
       "       'c_reihe', 'v_klasse', 'm_klasse', 'yaris', 'c5', 'aygo', 'cc',\n",
       "       'carnival', 'fusion', '911', 'bora', 'forfour', 'm_reihe', 'cl',\n",
       "       'tigra', '300c', 'spark', 'v70', 'kuga', 'x_type', 'ducato',\n",
       "       's_type', 'x_trail', 'toledo', 'altea', 'voyager', 'calibra',\n",
       "       'bravo', 'antara', 'tucson', 'citigo', 'jimny', 'wrangler',\n",
       "       'lybra', 'q7', 'lancer', 'captiva', 'c2', 'discovery',\n",
       "       'freelander', 'sandero', 'note', '900', 'cherokee', 'clubman',\n",
       "       'samara', 'defender', '601', 'cx_reihe', 'legacy', 'pajero',\n",
       "       'auris', 'niva', 's60', 'nubira', 'vivaro', 'g_klasse', 'lodgy',\n",
       "       '850', 'range_rover', 'q3', 'serie_2', 'glk', 'charade', 'croma',\n",
       "       'outlander', 'doblo', 'musa', 'move', '9000', 'v60', '145', 'aveo',\n",
       "       '200', 'b_max', 'range_rover_sport', 'terios', 'rangerover', 'q5',\n",
       "       'range_rover_evoque', 'materia', 'delta', 'gl', 'kalina', 'amarok',\n",
       "       'elefantino', 'i3', 'kappa', 'serie_3', 'serie_1'], dtype=object)"
      ]
     },
     "metadata": {},
     "output_type": "display_data"
    },
    {
     "name": "stdout",
     "output_type": "stream",
     "text": [
      "====================================================================================================\n",
      "Brand\n"
     ]
    },
    {
     "data": {
      "text/plain": [
       "array(['volkswagen', 'audi', 'jeep', 'skoda', 'bmw', 'peugeot', 'ford',\n",
       "       'mazda', 'nissan', 'renault', 'mercedes_benz', 'opel', 'seat',\n",
       "       'citroen', 'honda', 'fiat', 'mini', 'smart', 'hyundai',\n",
       "       'sonstige_autos', 'alfa_romeo', 'subaru', 'volvo', 'mitsubishi',\n",
       "       'kia', 'suzuki', 'lancia', 'toyota', 'chevrolet', 'dacia',\n",
       "       'daihatsu', 'trabant', 'saab', 'chrysler', 'jaguar', 'daewoo',\n",
       "       'porsche', 'rover', 'land_rover', 'lada'], dtype=object)"
      ]
     },
     "metadata": {},
     "output_type": "display_data"
    }
   ],
   "source": [
    "# Verificando las variables \n",
    "\n",
    "print('Model')\n",
    "display(data['Model'].unique())\n",
    "print('='*100)\n",
    "print('Brand')\n",
    "display(data['Brand'].unique())"
   ]
  },
  {
   "cell_type": "markdown",
   "metadata": {},
   "source": [
    "**Hallazgos**\n",
    "\n",
    "- El conjunto de datos con tiene 16 variables (columnas) y 354.369 observaciones (filas).\n",
    "\n",
    "\n",
    "- Existen 5 variables con valores ausentes, los cuales deben abordarse.\n",
    "\n",
    "\n",
    "- Nombres de columnas con formato camelCase, evaluar combio formato a snake_case.\n",
    "\n",
    "\n",
    "- El dataset, ocupa un espacio en memoria de 43.3 MB, el cual debe reducirse para mejorar la eficiencia en el proceso de aprendizaje del modelo.\n",
    "\n",
    "\n",
    "- Variables de fechas como `DateCrawled`, `DateCreated` y `LastSeen` no contienen informacion relevante para el modelo y el objetivo del proyecto, por lo que seran eliminadas.\n",
    "\n",
    "\n",
    "- En la variable `Price` se observa una significativa diferencia entre su media y su mediana, lo que indica la presencia de valores atipicos (outliers) que se deben procesar.\n",
    "\n",
    "\n",
    "- Algunas variables como `Price`, `Power` y `RegistrationMonth` tienen como valor minimo el `0`, lo cual, se debe explicar la situacion.\n",
    "\n",
    "\n",
    "- En `RegistrationYear` el valor maximo es de `9999`, se asume un error de ingreso, el cual se debe corregir.\n",
    "\n",
    "\n",
    "- En la columna `NumberOfPictures` contiene solo el valor `0`, por lo que es irrelevante y se tiene que eliminar.\n",
    "\n",
    "\n",
    "- Las variables categoricas `Model` y `Brand` tienen grandes cantidades de valores unicos, lo que implica que la tecnica OneHotEncoding(OHE) agregaria una gran catidad de nuevas columnas al dataset, por lo que se debe considerar manejar esta situacion con metodos alternativos.\n",
    "\n",
    "\n",
    "- Hay 262 registros duplicados, los que se eliminaran ya que componen el 0.074% del total de datos.\n",
    "\n",
    "\n",
    "- Mas del 10% de las observaciones en la columna `VehicleType`, y mas 20% de las filas en la columna `NotRepaired` tienen valores ausentes, se evaluara en el desarrollo del proyecto los metodos de imputacion para estos datos.\n"
   ]
  },
  {
   "cell_type": "markdown",
   "metadata": {},
   "source": [
    "</div> <div class=\"alert alert-block alert-success\">\n",
    "\n",
    "<b>Comentario del revisor</b> <a class=\"tocSkip\"></a><br>\n",
    "\n",
    "<b>Éxito</b> - Tu análisis preliminar es muy detallado y bien fundamentado. Has demostrado una excelente capacidad para estructurar el preprocesamiento y diagnóstico de los datos. ¡Sigue así y continúa con el análisis exploratorio y la preparación del modelo!\n",
    "</div> "
   ]
  },
  {
   "cell_type": "markdown",
   "metadata": {},
   "source": [
    "### Pre-procesamiento de datos\n",
    "\n",
    "Se procesaran cada uno de los problemas que tiene el conjunto de datos."
   ]
  },
  {
   "cell_type": "markdown",
   "metadata": {},
   "source": [
    "#### Cambio de formato a nombre de columnas "
   ]
  },
  {
   "cell_type": "code",
   "execution_count": 17,
   "metadata": {},
   "outputs": [],
   "source": [
    "# Cambiando nombre de columnas a snake_case\n",
    "\n",
    "new_cols = []\n",
    "for string in data.columns:\n",
    "    new_cols.append(camel_to_snake(string))\n",
    "\n",
    "data.columns = new_cols"
   ]
  },
  {
   "cell_type": "markdown",
   "metadata": {},
   "source": [
    "#### Eliminacion de variables innecesarias\n",
    "\n",
    "Se considera que algunas variables son innecesarias para el proceso de Machine Learning, como `date_crawled`, `registration_month`, `date_created`, `number_of_pictures`, `last_seen` y `postal_code`. Se asume que estas variables no tiene una correlacion solida con la variable objetivo(`price`), por lo que pueden entorpecer el proceso de aprendizaje del modelo."
   ]
  },
  {
   "cell_type": "code",
   "execution_count": 18,
   "metadata": {},
   "outputs": [
    {
     "data": {
      "text/html": [
       "<div>\n",
       "<style scoped>\n",
       "    .dataframe tbody tr th:only-of-type {\n",
       "        vertical-align: middle;\n",
       "    }\n",
       "\n",
       "    .dataframe tbody tr th {\n",
       "        vertical-align: top;\n",
       "    }\n",
       "\n",
       "    .dataframe thead th {\n",
       "        text-align: right;\n",
       "    }\n",
       "</style>\n",
       "<table border=\"1\" class=\"dataframe\">\n",
       "  <thead>\n",
       "    <tr style=\"text-align: right;\">\n",
       "      <th></th>\n",
       "      <th>price</th>\n",
       "      <th>vehicle_type</th>\n",
       "      <th>registration_year</th>\n",
       "      <th>gearbox</th>\n",
       "      <th>power</th>\n",
       "      <th>model</th>\n",
       "      <th>mileage</th>\n",
       "      <th>fuel_type</th>\n",
       "      <th>brand</th>\n",
       "      <th>not_repaired</th>\n",
       "    </tr>\n",
       "  </thead>\n",
       "  <tbody>\n",
       "    <tr>\n",
       "      <th>9244</th>\n",
       "      <td>2400</td>\n",
       "      <td>wagon</td>\n",
       "      <td>1998</td>\n",
       "      <td>auto</td>\n",
       "      <td>170</td>\n",
       "      <td>5er</td>\n",
       "      <td>150000</td>\n",
       "      <td>petrol</td>\n",
       "      <td>bmw</td>\n",
       "      <td>NaN</td>\n",
       "    </tr>\n",
       "    <tr>\n",
       "      <th>116471</th>\n",
       "      <td>1350</td>\n",
       "      <td>convertible</td>\n",
       "      <td>2001</td>\n",
       "      <td>NaN</td>\n",
       "      <td>54</td>\n",
       "      <td>fortwo</td>\n",
       "      <td>125000</td>\n",
       "      <td>petrol</td>\n",
       "      <td>smart</td>\n",
       "      <td>no</td>\n",
       "    </tr>\n",
       "    <tr>\n",
       "      <th>151582</th>\n",
       "      <td>17800</td>\n",
       "      <td>convertible</td>\n",
       "      <td>2013</td>\n",
       "      <td>manual</td>\n",
       "      <td>0</td>\n",
       "      <td>golf</td>\n",
       "      <td>10000</td>\n",
       "      <td>petrol</td>\n",
       "      <td>volkswagen</td>\n",
       "      <td>NaN</td>\n",
       "    </tr>\n",
       "    <tr>\n",
       "      <th>179353</th>\n",
       "      <td>4900</td>\n",
       "      <td>convertible</td>\n",
       "      <td>2006</td>\n",
       "      <td>manual</td>\n",
       "      <td>109</td>\n",
       "      <td>2_reihe</td>\n",
       "      <td>100000</td>\n",
       "      <td>petrol</td>\n",
       "      <td>peugeot</td>\n",
       "      <td>no</td>\n",
       "    </tr>\n",
       "    <tr>\n",
       "      <th>172678</th>\n",
       "      <td>700</td>\n",
       "      <td>sedan</td>\n",
       "      <td>1999</td>\n",
       "      <td>manual</td>\n",
       "      <td>105</td>\n",
       "      <td>3er</td>\n",
       "      <td>150000</td>\n",
       "      <td>petrol</td>\n",
       "      <td>bmw</td>\n",
       "      <td>yes</td>\n",
       "    </tr>\n",
       "    <tr>\n",
       "      <th>321088</th>\n",
       "      <td>380</td>\n",
       "      <td>small</td>\n",
       "      <td>1999</td>\n",
       "      <td>manual</td>\n",
       "      <td>90</td>\n",
       "      <td>corsa</td>\n",
       "      <td>150000</td>\n",
       "      <td>petrol</td>\n",
       "      <td>opel</td>\n",
       "      <td>no</td>\n",
       "    </tr>\n",
       "    <tr>\n",
       "      <th>18994</th>\n",
       "      <td>18199</td>\n",
       "      <td>convertible</td>\n",
       "      <td>2010</td>\n",
       "      <td>auto</td>\n",
       "      <td>213</td>\n",
       "      <td>mustang</td>\n",
       "      <td>125000</td>\n",
       "      <td>lpg</td>\n",
       "      <td>ford</td>\n",
       "      <td>no</td>\n",
       "    </tr>\n",
       "    <tr>\n",
       "      <th>204633</th>\n",
       "      <td>5600</td>\n",
       "      <td>bus</td>\n",
       "      <td>2006</td>\n",
       "      <td>auto</td>\n",
       "      <td>136</td>\n",
       "      <td>b_klasse</td>\n",
       "      <td>150000</td>\n",
       "      <td>petrol</td>\n",
       "      <td>mercedes_benz</td>\n",
       "      <td>no</td>\n",
       "    </tr>\n",
       "    <tr>\n",
       "      <th>315277</th>\n",
       "      <td>7950</td>\n",
       "      <td>convertible</td>\n",
       "      <td>2005</td>\n",
       "      <td>manual</td>\n",
       "      <td>150</td>\n",
       "      <td>tt</td>\n",
       "      <td>150000</td>\n",
       "      <td>petrol</td>\n",
       "      <td>audi</td>\n",
       "      <td>no</td>\n",
       "    </tr>\n",
       "    <tr>\n",
       "      <th>241149</th>\n",
       "      <td>6900</td>\n",
       "      <td>sedan</td>\n",
       "      <td>2011</td>\n",
       "      <td>auto</td>\n",
       "      <td>160</td>\n",
       "      <td>octavia</td>\n",
       "      <td>90000</td>\n",
       "      <td>petrol</td>\n",
       "      <td>skoda</td>\n",
       "      <td>yes</td>\n",
       "    </tr>\n",
       "  </tbody>\n",
       "</table>\n",
       "</div>"
      ],
      "text/plain": [
       "        price vehicle_type  registration_year gearbox  power     model  \\\n",
       "9244     2400        wagon               1998    auto    170       5er   \n",
       "116471   1350  convertible               2001     NaN     54    fortwo   \n",
       "151582  17800  convertible               2013  manual      0      golf   \n",
       "179353   4900  convertible               2006  manual    109   2_reihe   \n",
       "172678    700        sedan               1999  manual    105       3er   \n",
       "321088    380        small               1999  manual     90     corsa   \n",
       "18994   18199  convertible               2010    auto    213   mustang   \n",
       "204633   5600          bus               2006    auto    136  b_klasse   \n",
       "315277   7950  convertible               2005  manual    150        tt   \n",
       "241149   6900        sedan               2011    auto    160   octavia   \n",
       "\n",
       "        mileage fuel_type          brand not_repaired  \n",
       "9244     150000    petrol            bmw          NaN  \n",
       "116471   125000    petrol          smart           no  \n",
       "151582    10000    petrol     volkswagen          NaN  \n",
       "179353   100000    petrol        peugeot           no  \n",
       "172678   150000    petrol            bmw          yes  \n",
       "321088   150000    petrol           opel           no  \n",
       "18994    125000       lpg           ford           no  \n",
       "204633   150000    petrol  mercedes_benz           no  \n",
       "315277   150000    petrol           audi           no  \n",
       "241149    90000    petrol          skoda          yes  "
      ]
     },
     "metadata": {},
     "output_type": "display_data"
    }
   ],
   "source": [
    "# Eliminando las columnas innecesarias y verificando el resultado\n",
    "\n",
    "data = data.drop(['date_crawled', 'registration_month', 'date_created', 'number_of_pictures', 'last_seen', 'postal_code'], axis = 1)\n",
    "display(data.sample(10))"
   ]
  },
  {
   "cell_type": "markdown",
   "metadata": {},
   "source": [
    "#### Revisando la distribucion de la variable objetivo precio (price)"
   ]
  },
  {
   "cell_type": "code",
   "execution_count": 19,
   "metadata": {},
   "outputs": [
    {
     "data": {
      "image/png": "[encoded data removed]",
      "text/plain": [
       "<Figure size 2000x400 with 1 Axes>"
      ]
     },
     "metadata": {},
     "output_type": "display_data"
    }
   ],
   "source": [
    "# Elaborando grafico boxplot\n",
    "\n",
    "plt.figure(figsize=(20, 4))\n",
    "\n",
    "plt.title('Distribucion del precio')\n",
    "sns.boxplot(x = data['price'])\n",
    "\n",
    "plt.show()"
   ]
  },
  {
   "cell_type": "markdown",
   "metadata": {},
   "source": [
    "Todos los valores atipicos (outliers), se encuentran por sobre del bigote superior. la cantidad de valores atipicos es posible de calcular, revisando la cantidad de puntos de datos que se visibilizan sobre el bigote superior."
   ]
  },
  {
   "cell_type": "code",
   "execution_count": 20,
   "metadata": {},
   "outputs": [
    {
     "data": {
      "text/plain": [
       "14425.0"
      ]
     },
     "execution_count": 20,
     "metadata": {},
     "output_type": "execute_result"
    }
   ],
   "source": [
    "# Calculando los valores sobre el bigote superior\n",
    "\n",
    "valor_bigote = data['price'].quantile(0.75) + (1.5 * (data['price'].quantile(0.75) - data['price'].quantile(0.25)))\n",
    "valor_bigote"
   ]
  },
  {
   "cell_type": "code",
   "execution_count": 21,
   "metadata": {},
   "outputs": [
    {
     "name": "stdout",
     "output_type": "stream",
     "text": [
      "5.36 %\n"
     ]
    }
   ],
   "source": [
    "# Calculo porcentaje de valores atipicos (outliers)\n",
    "\n",
    "print(round(len(data[data['price'] > 14425]) / len(data['price']) * 100, 2), '%')"
   ]
  },
  {
   "cell_type": "markdown",
   "metadata": {},
   "source": [
    "Los valores atipicos componen el 5.36% del conjunto de datos, lo cual es una cifra bastante pequena, por ello se eliminan estos valores."
   ]
  },
  {
   "cell_type": "code",
   "execution_count": 22,
   "metadata": {},
   "outputs": [
    {
     "data": {
      "text/plain": [
       "(335390, 10)"
      ]
     },
     "execution_count": 22,
     "metadata": {},
     "output_type": "execute_result"
    }
   ],
   "source": [
    "# Actualizando dataset sin valores atipicos de la variable precio\n",
    "\n",
    "data = data[data['price'] < 14425].reset_index(drop = True)\n",
    "data.shape"
   ]
  },
  {
   "cell_type": "markdown",
   "metadata": {},
   "source": [
    "#### Revisando la distribucion de la variable Año de Matricula (registration_year)"
   ]
  },
  {
   "cell_type": "code",
   "execution_count": 23,
   "metadata": {},
   "outputs": [
    {
     "name": "stdout",
     "output_type": "stream",
     "text": [
      "[1000, 1001, 1039, 1111, 1200, 1234, 1253, 1255, 1300, 1400, 1500, 1600, 1602, 1688, 1800, 1910, 1915, 1919, 1920, 1923, 1925, 1928, 1929, 1930, 1931, 1932, 1933, 1934, 1935, 1936, 1937, 1938, 1940, 1941, 1942, 1943, 1944, 1945, 1946, 1948, 1949, 1950, 1951, 1952, 1953, 1954, 1955, 1956, 1957, 1958, 1959, 1960, 1961, 1962, 1963, 1964, 1965, 1966, 1967, 1968, 1969, 1970, 1971, 1972, 1973, 1974, 1975, 1976, 1977, 1978, 1979, 1980, 1981, 1982, 1983, 1984, 1985, 1986, 1987, 1988, 1989, 1990, 1991, 1992, 1993, 1994, 1995, 1996, 1997, 1998, 1999, 2000, 2001, 2002, 2003, 2004, 2005, 2006, 2007, 2008, 2009, 2010, 2011, 2012, 2013, 2014, 2015, 2016, 2017, 2018, 2019, 2066, 2200, 2222, 2290, 2500, 2800, 2900, 3000, 3200, 3500, 3700, 3800, 4000, 4100, 4500, 4800, 5000, 5300, 5555, 5600, 5900, 5911, 6000, 6500, 7000, 7100, 7500, 7800, 8000, 8200, 8455, 8500, 8888, 9000, 9229, 9450, 9996, 9999]\n"
     ]
    }
   ],
   "source": [
    "# Revision de valores unicos en la columna de ano de registro de matricula\n",
    "\n",
    "print(sorted(data['registration_year'].unique()))"
   ]
  },
  {
   "cell_type": "code",
   "execution_count": 24,
   "metadata": {},
   "outputs": [
    {
     "data": {
      "text/plain": [
       "registration_year\n",
       "1000    36\n",
       "1001     1\n",
       "1039     1\n",
       "1111     3\n",
       "1200     1\n",
       "        ..\n",
       "9000     3\n",
       "9229     1\n",
       "9450     1\n",
       "9996     1\n",
       "9999    24\n",
       "Name: registration_year, Length: 149, dtype: int64"
      ]
     },
     "execution_count": 24,
     "metadata": {},
     "output_type": "execute_result"
    }
   ],
   "source": [
    "# Revision de la distribucion\n",
    "\n",
    "data.groupby(by = 'registration_year')['registration_year'].count()"
   ]
  },
  {
   "cell_type": "code",
   "execution_count": 25,
   "metadata": {},
   "outputs": [
    {
     "data": {
      "image/png": "[encoded data removed]",
      "text/plain": [
       "<Figure size 2000x400 with 1 Axes>"
      ]
     },
     "metadata": {},
     "output_type": "display_data"
    }
   ],
   "source": [
    "# Elaborando grafico boxplot\n",
    "\n",
    "plt.figure(figsize=(20, 4))\n",
    "\n",
    "plt.title('Distribucion del Ano de Matricula')\n",
    "sns.boxplot(x = data['registration_year'])\n",
    "\n",
    "plt.show()"
   ]
  },
  {
   "cell_type": "markdown",
   "metadata": {},
   "source": [
    "Esta variable tiene valores muy aleatorios y sin sentido. El diagrama muestra que los datos se concentran en los anos 2000, por ello, para la seguridad del proyecto solo se analizaran los datos entre los anos 1900 y 2024."
   ]
  },
  {
   "cell_type": "code",
   "execution_count": 26,
   "metadata": {},
   "outputs": [
    {
     "data": {
      "text/plain": [
       "(335225, 10)"
      ]
     },
     "execution_count": 26,
     "metadata": {},
     "output_type": "execute_result"
    }
   ],
   "source": [
    "# Seleccionando los datos entre los anos 1900 y 2025\n",
    "\n",
    "data = data[(1900 <= data['registration_year']) & (data['registration_year'] <= 2025)].reset_index(drop = True)\n",
    "data.shape"
   ]
  },
  {
   "cell_type": "markdown",
   "metadata": {},
   "source": [
    "#### Procesamiento de valores ceros\n",
    "\n",
    "##### Columna 'price'"
   ]
  },
  {
   "cell_type": "code",
   "execution_count": 27,
   "metadata": {},
   "outputs": [
    {
     "name": "stdout",
     "output_type": "stream",
     "text": [
      "[0, 1, 2, 3, 4, 5, 7, 8, 9, 10, 11, 12, 13, 14, 15, 16, 17, 18, 19, 20, 21, 24, 25, 26, 27, 29, 30, 32, 33, 35, 38, 39, 40, 45, 47, 49, 50, 55, 58, 59, 60, 65, 66, 69, 70, 74, 75, 77, 79, 80, 85, 88, 89, 90, 95, 98, 99, 100, 101, 105, 106, 108, 110, 111, 112, 115, 117, 119, 120, 121, 122, 123, 125, 126, 127, 128, 129, 130, 132, 133, 135, 139, 140, 142, 145, 149, 150, 155, 156, 157, 158, 159, 160, 162, 165, 166, 169, 170, 173, 175, 177, 179, 180, 181, 185, 188, 189, 190, 192, 193, 195, 196, 198, 199, 200, 202, 205, 209, 210, 211, 215, 217, 219, 220, 222, 224, 225, 229, 230, 233, 235, 236, 238, 240, 243, 245, 248, 249, 250, 251, 252, 253, 255, 259, 260, 261, 263, 265, 266, 269, 270, 272, 273, 274, 275, 277, 278, 279, 280, 281, 284, 285, 288, 289, 290, 293, 295, 298, 299, 300, 301, 305, 308, 309, 310, 315, 316, 319, 320, 321, 323, 325, 329, 330, 331, 332, 333, 335, 338, 339, 340, 341, 344, 345, 348, 349, 350, 355, 356, 359, 360, 365, 366, 368, 369, 370, 373, 375, 377, 378, 379, 380, 384, 385, 388, 389, 390, 393, 395, 397, 398, 399, 400, 408, 410, 414, 415, 418, 419, 420, 422, 424, 425, 429, 430, 433, 435, 439, 440, 444, 445, 449, 450, 455, 456, 458, 459, 460, 465, 466, 467, 469, 470, 475, 477, 479, 480, 485, 487, 489, 490, 495, 498, 499, 500, 501, 505, 510, 514, 515, 517, 519, 520, 522, 523, 525, 530, 531, 533, 535, 536, 540, 543, 544, 545, 548, 549, 550, 554, 555, 559, 560, 565, 566, 569, 570, 574, 575, 576, 577, 578, 579, 580, 585, 586, 588, 589, 590, 593, 595, 597, 598, 599, 600, 601, 605, 606, 610, 615, 619, 620, 622, 623, 624, 625, 628, 629, 630, 632, 633, 634, 635, 639, 640, 644, 645, 647, 648, 649, 650, 655, 656, 658, 659, 660, 665, 666, 667, 669, 670, 675, 679, 680, 685, 686, 688, 689, 690, 691, 695, 696, 698, 699, 700, 701, 706, 709, 710, 715, 717, 719, 720, 722, 725, 728, 729, 730, 732, 735, 739, 740, 744, 745, 747, 749, 750, 755, 759, 760, 765, 766, 768, 769, 770, 775, 776, 777, 780, 785, 788, 789, 790, 793, 795, 797, 798, 799, 800, 801, 804, 810, 816, 820, 822, 823, 825, 828, 829, 830, 833, 834, 835, 836, 837, 839, 840, 844, 845, 846, 849, 850, 851, 855, 859, 860, 865, 866, 868, 869, 870, 873, 875, 877, 879, 880, 885, 887, 888, 889, 890, 895, 897, 898, 899, 900, 901, 907, 909, 910, 915, 919, 920, 923, 925, 929, 930, 934, 935, 940, 943, 944, 945, 948, 949, 950, 951, 955, 958, 959, 960, 965, 966, 968, 969, 970, 975, 976, 979, 980, 982, 985, 987, 988, 989, 990, 991, 993, 995, 996, 997, 998, 999, 1000, 1001, 1003, 1009, 1010, 1020, 1025, 1026, 1030, 1031, 1033, 1035, 1039, 1040, 1042, 1045, 1047, 1049, 1050, 1052, 1055, 1059, 1060, 1070, 1075, 1080, 1085, 1089, 1090, 1095, 1098, 1099, 1100, 1101, 1110, 1111, 1112, 1113, 1119, 1120, 1125, 1129, 1130, 1135, 1140, 1144, 1145, 1149, 1150, 1155, 1159, 1160, 1165, 1169, 1170, 1175, 1179, 1180, 1185, 1187, 1189, 1190, 1192, 1193, 1195, 1198, 1199, 1200, 1201, 1208, 1209, 1210, 1211, 1212, 1220, 1221, 1222, 1224, 1225, 1230, 1231, 1233, 1234, 1240, 1247, 1249, 1250, 1252, 1253, 1255, 1259, 1260, 1262, 1265, 1269, 1270, 1275, 1277, 1280, 1285, 1288, 1289, 1290, 1294, 1295, 1296, 1297, 1298, 1299, 1300, 1301, 1310, 1311, 1320, 1321, 1323, 1325, 1329, 1330, 1333, 1335, 1340, 1344, 1345, 1347, 1348, 1349, 1350, 1355, 1357, 1358, 1359, 1360, 1361, 1365, 1366, 1368, 1370, 1375, 1378, 1379, 1380, 1385, 1388, 1389, 1390, 1391, 1395, 1396, 1397, 1398, 1399, 1400, 1401, 1402, 1410, 1411, 1414, 1416, 1420, 1425, 1429, 1430, 1432, 1433, 1440, 1441, 1444, 1445, 1448, 1449, 1450, 1453, 1455, 1459, 1460, 1465, 1466, 1469, 1470, 1475, 1479, 1480, 1483, 1485, 1488, 1489, 1490, 1494, 1495, 1496, 1497, 1498, 1499, 1500, 1506, 1510, 1515, 1517, 1520, 1525, 1529, 1530, 1540, 1544, 1545, 1549, 1550, 1551, 1555, 1558, 1559, 1560, 1565, 1566, 1570, 1575, 1577, 1579, 1580, 1585, 1587, 1588, 1589, 1590, 1595, 1596, 1598, 1599, 1600, 1605, 1620, 1622, 1625, 1629, 1630, 1631, 1633, 1635, 1640, 1642, 1645, 1648, 1649, 1650, 1652, 1654, 1655, 1656, 1659, 1660, 1666, 1669, 1670, 1675, 1679, 1680, 1685, 1687, 1688, 1689, 1690, 1693, 1695, 1697, 1698, 1699, 1700, 1710, 1720, 1722, 1725, 1730, 1733, 1735, 1740, 1745, 1749, 1750, 1755, 1759, 1760, 1765, 1770, 1775, 1777, 1779, 1780, 1789, 1790, 1795, 1797, 1798, 1799, 1800, 1801, 1802, 1810, 1811, 1820, 1823, 1829, 1830, 1840, 1845, 1849, 1850, 1855, 1856, 1857, 1858, 1860, 1870, 1875, 1877, 1878, 1879, 1880, 1881, 1885, 1887, 1888, 1890, 1894, 1895, 1896, 1897, 1898, 1899, 1900, 1904, 1906, 1910, 1920, 1925, 1929, 1930, 1933, 1935, 1940, 1945, 1947, 1948, 1949, 1950, 1954, 1955, 1956, 1958, 1959, 1960, 1965, 1966, 1970, 1975, 1980, 1981, 1982, 1984, 1985, 1986, 1987, 1989, 1990, 1991, 1994, 1995, 1996, 1997, 1998, 1999, 2000, 2001, 2002, 2004, 2005, 2010, 2025, 2030, 2033, 2035, 2036, 2049, 2050, 2055, 2070, 2075, 2080, 2085, 2090, 2091, 2095, 2098, 2099, 2100, 2101, 2105, 2110, 2111, 2120, 2125, 2128, 2130, 2134, 2140, 2148, 2149, 2150, 2151, 2155, 2165, 2170, 2175, 2179, 2180, 2189, 2190, 2194, 2195, 2198, 2199, 2200, 2201, 2210, 2211, 2215, 2220, 2221, 2222, 2224, 2225, 2229, 2230, 2233, 2235, 2238, 2240, 2241, 2243, 2245, 2249, 2250, 2255, 2259, 2260, 2262, 2265, 2270, 2275, 2276, 2278, 2279, 2280, 2285, 2288, 2289, 2290, 2295, 2298, 2299, 2300, 2301, 2305, 2314, 2320, 2321, 2322, 2323, 2325, 2329, 2330, 2333, 2335, 2340, 2344, 2345, 2349, 2350, 2351, 2353, 2355, 2359, 2360, 2365, 2366, 2370, 2375, 2377, 2379, 2380, 2384, 2385, 2388, 2389, 2390, 2395, 2398, 2399, 2400, 2405, 2410, 2420, 2421, 2424, 2425, 2430, 2432, 2440, 2444, 2448, 2449, 2450, 2455, 2459, 2460, 2465, 2470, 2475, 2479, 2480, 2488, 2489, 2490, 2495, 2496, 2498, 2499, 2500, 2501, 2510, 2511, 2512, 2520, 2525, 2530, 2540, 2544, 2549, 2550, 2555, 2560, 2565, 2569, 2570, 2575, 2579, 2580, 2589, 2590, 2595, 2598, 2599, 2600, 2601, 2610, 2620, 2625, 2629, 2630, 2633, 2640, 2645, 2649, 2650, 2651, 2655, 2657, 2660, 2666, 2670, 2671, 2675, 2677, 2679, 2680, 2683, 2689, 2690, 2691, 2695, 2698, 2699, 2700, 2701, 2717, 2720, 2723, 2725, 2727, 2730, 2740, 2744, 2745, 2749, 2750, 2754, 2759, 2760, 2765, 2766, 2770, 2775, 2777, 2780, 2785, 2788, 2789, 2790, 2792, 2795, 2796, 2798, 2799, 2800, 2810, 2820, 2825, 2828, 2833, 2840, 2845, 2846, 2849, 2850, 2855, 2860, 2869, 2870, 2874, 2875, 2877, 2879, 2880, 2885, 2888, 2889, 2890, 2895, 2897, 2898, 2899, 2900, 2901, 2910, 2911, 2920, 2925, 2930, 2940, 2944, 2945, 2946, 2947, 2949, 2950, 2955, 2960, 2962, 2965, 2968, 2970, 2975, 2977, 2980, 2982, 2985, 2986, 2988, 2989, 2990, 2992, 2993, 2995, 2996, 2997, 2998, 2999, 3000, 3001, 3003, 3009, 3010, 3012, 3015, 3020, 3021, 3030, 3038, 3040, 3049, 3050, 3051, 3055, 3060, 3070, 3075, 3080, 3087, 3089, 3090, 3099, 3100, 3111, 3112, 3119, 3120, 3122, 3125, 3129, 3130, 3131, 3140, 3149, 3150, 3151, 3160, 3165, 3170, 3178, 3180, 3190, 3195, 3198, 3199, 3200, 3210, 3211, 3219, 3220, 3222, 3225, 3230, 3240, 3245, 3249, 3250, 3255, 3256, 3259, 3260, 3266, 3270, 3275, 3279, 3280, 3285, 3290, 3295, 3298, 3299, 3300, 3310, 3318, 3320, 3321, 3325, 3330, 3333, 3339, 3340, 3349, 3350, 3360, 3370, 3378, 3380, 3385, 3390, 3393, 3395, 3398, 3399, 3400, 3410, 3420, 3425, 3431, 3440, 3444, 3445, 3448, 3449, 3450, 3452, 3455, 3456, 3458, 3460, 3470, 3475, 3480, 3485, 3488, 3489, 3490, 3494, 3495, 3496, 3498, 3499, 3500, 3501, 3509, 3510, 3512, 3520, 3522, 3525, 3529, 3530, 3535, 3540, 3544, 3545, 3549, 3550, 3555, 3560, 3561, 3566, 3570, 3575, 3579, 3580, 3585, 3589, 3590, 3591, 3595, 3598, 3599, 3600, 3620, 3622, 3630, 3633, 3640, 3649, 3650, 3651, 3655, 3660, 3666, 3670, 3673, 3675, 3680, 3690, 3695, 3699, 3700, 3710, 3715, 3720, 3725, 3730, 3740, 3745, 3749, 3750, 3755, 3757, 3759, 3760, 3765, 3768, 3770, 3774, 3775, 3777, 3779, 3780, 3785, 3787, 3789, 3790, 3795, 3798, 3799, 3800, 3801, 3805, 3810, 3830, 3838, 3840, 3845, 3849, 3850, 3855, 3859, 3860, 3867, 3869, 3870, 3875, 3876, 3879, 3880, 3884, 3885, 3888, 3889, 3890, 3895, 3896, 3898, 3899, 3900, 3901, 3902, 3905, 3910, 3920, 3925, 3933, 3940, 3941, 3944, 3945, 3948, 3949, 3950, 3952, 3955, 3957, 3960, 3965, 3969, 3970, 3975, 3977, 3980, 3985, 3987, 3988, 3989, 3990, 3991, 3993, 3995, 3996, 3997, 3998, 3999, 4000, 4001, 4002, 4004, 4005, 4012, 4030, 4033, 4040, 4044, 4049, 4050, 4088, 4090, 4095, 4099, 4100, 4101, 4110, 4111, 4123, 4124, 4125, 4130, 4140, 4145, 4149, 4150, 4155, 4158, 4159, 4160, 4165, 4170, 4175, 4179, 4180, 4190, 4195, 4198, 4199, 4200, 4201, 4205, 4210, 4220, 4222, 4225, 4230, 4239, 4240, 4242, 4249, 4250, 4255, 4260, 4270, 4275, 4278, 4279, 4280, 4285, 4286, 4290, 4295, 4298, 4299, 4300, 4301, 4317, 4320, 4321, 4330, 4333, 4335, 4339, 4340, 4349, 4350, 4355, 4359, 4360, 4370, 4375, 4378, 4380, 4390, 4395, 4398, 4399, 4400, 4411, 4415, 4420, 4430, 4440, 4444, 4445, 4449, 4450, 4455, 4460, 4470, 4475, 4477, 4480, 4484, 4485, 4487, 4488, 4489, 4490, 4495, 4497, 4498, 4499, 4500, 4510, 4516, 4525, 4529, 4530, 4532, 4538, 4545, 4548, 4549, 4550, 4555, 4559, 4560, 4565, 4567, 4570, 4580, 4590, 4595, 4598, 4599, 4600, 4620, 4622, 4630, 4635, 4640, 4645, 4646, 4649, 4650, 4652, 4655, 4660, 4666, 4670, 4675, 4680, 4684, 4688, 4689, 4690, 4698, 4699, 4700, 4710, 4720, 4725, 4730, 4737, 4740, 4747, 4749, 4750, 4751, 4755, 4758, 4759, 4760, 4766, 4770, 4775, 4777, 4780, 4782, 4785, 4786, 4790, 4792, 4795, 4797, 4798, 4799, 4800, 4816, 4820, 4824, 4825, 4829, 4830, 4835, 4840, 4849, 4850, 4855, 4860, 4870, 4872, 4877, 4880, 4885, 4887, 4888, 4889, 4890, 4895, 4898, 4899, 4900, 4901, 4909, 4911, 4919, 4920, 4925, 4930, 4938, 4940, 4949, 4950, 4955, 4960, 4970, 4975, 4977, 4980, 4985, 4988, 4989, 4990, 4994, 4995, 4997, 4998, 4999, 5000, 5001, 5002, 5003, 5005, 5006, 5007, 5008, 5012, 5015, 5020, 5022, 5030, 5049, 5050, 5090, 5099, 5100, 5111, 5120, 5123, 5125, 5129, 5130, 5140, 5145, 5149, 5150, 5151, 5160, 5175, 5180, 5185, 5189, 5190, 5195, 5198, 5199, 5200, 5210, 5211, 5220, 5222, 5225, 5234, 5235, 5240, 5246, 5247, 5248, 5249, 5250, 5255, 5275, 5277, 5280, 5285, 5289, 5290, 5298, 5299, 5300, 5318, 5320, 5333, 5340, 5349, 5350, 5359, 5370, 5372, 5375, 5377, 5380, 5385, 5390, 5395, 5398, 5399, 5400, 5401, 5409, 5411, 5425, 5430, 5432, 5440, 5444, 5445, 5449, 5450, 5454, 5455, 5459, 5470, 5475, 5480, 5485, 5488, 5489, 5490, 5495, 5497, 5498, 5499, 5500, 5520, 5530, 5540, 5542, 5544, 5549, 5550, 5554, 5555, 5558, 5560, 5569, 5570, 5575, 5580, 5581, 5585, 5590, 5595, 5599, 5600, 5606, 5620, 5625, 5630, 5634, 5648, 5649, 5650, 5655, 5660, 5666, 5680, 5685, 5686, 5688, 5689, 5690, 5695, 5697, 5699, 5700, 5708, 5723, 5740, 5748, 5749, 5750, 5755, 5760, 5765, 5770, 5775, 5777, 5780, 5790, 5795, 5799, 5800, 5803, 5822, 5827, 5830, 5840, 5844, 5849, 5850, 5855, 5860, 5865, 5870, 5875, 5876, 5879, 5880, 5885, 5888, 5889, 5890, 5895, 5896, 5898, 5899, 5900, 5911, 5913, 5920, 5924, 5925, 5940, 5949, 5950, 5955, 5959, 5960, 5970, 5975, 5980, 5988, 5990, 5994, 5995, 5996, 5997, 5998, 5999, 6000, 6001, 6010, 6039, 6050, 6066, 6089, 6090, 6099, 6100, 6101, 6106, 6111, 6120, 6124, 6125, 6130, 6140, 6144, 6149, 6150, 6155, 6165, 6170, 6180, 6190, 6192, 6195, 6198, 6199, 6200, 6202, 6208, 6220, 6222, 6225, 6229, 6230, 6235, 6240, 6249, 6250, 6252, 6255, 6275, 6279, 6280, 6289, 6290, 6295, 6298, 6299, 6300, 6303, 6310, 6322, 6330, 6333, 6340, 6344, 6349, 6350, 6365, 6370, 6375, 6380, 6385, 6389, 6390, 6395, 6398, 6399, 6400, 6410, 6434, 6435, 6440, 6444, 6447, 6449, 6450, 6453, 6455, 6460, 6470, 6475, 6479, 6480, 6489, 6490, 6495, 6498, 6499, 6500, 6501, 6510, 6523, 6530, 6537, 6540, 6543, 6545, 6550, 6555, 6560, 6570, 6575, 6578, 6580, 6583, 6588, 6589, 6590, 6595, 6598, 6599, 6600, 6609, 6620, 6639, 6640, 6649, 6650, 6657, 6660, 6665, 6666, 6667, 6680, 6687, 6690, 6695, 6699, 6700, 6720, 6725, 6730, 6740, 6745, 6749, 6750, 6755, 6759, 6770, 6777, 6780, 6783, 6785, 6788, 6789, 6790, 6792, 6795, 6798, 6799, 6800, 6801, 6820, 6830, 6840, 6845, 6849, 6850, 6855, 6860, 6866, 6868, 6870, 6872, 6875, 6879, 6880, 6888, 6889, 6890, 6895, 6897, 6899, 6900, 6911, 6913, 6916, 6920, 6930, 6940, 6944, 6949, 6950, 6951, 6959, 6960, 6966, 6969, 6970, 6973, 6975, 6977, 6979, 6980, 6985, 6988, 6989, 6990, 6995, 6996, 6998, 6999, 7000, 7001, 7007, 7016, 7040, 7049, 7050, 7052, 7070, 7085, 7090, 7099, 7100, 7111, 7115, 7118, 7130, 7139, 7140, 7149, 7150, 7170, 7180, 7185, 7188, 7190, 7198, 7199, 7200, 7217, 7220, 7222, 7230, 7234, 7240, 7249, 7250, 7255, 7260, 7270, 7280, 7285, 7290, 7291, 7295, 7298, 7299, 7300, 7328, 7330, 7333, 7340, 7349, 7350, 7359, 7360, 7370, 7373, 7379, 7380, 7385, 7390, 7395, 7396, 7399, 7400, 7420, 7428, 7430, 7435, 7440, 7444, 7446, 7449, 7450, 7455, 7460, 7470, 7480, 7485, 7489, 7490, 7491, 7495, 7497, 7498, 7499, 7500, 7522, 7530, 7539, 7540, 7545, 7549, 7550, 7555, 7560, 7563, 7570, 7588, 7590, 7591, 7595, 7596, 7598, 7599, 7600, 7603, 7640, 7645, 7649, 7650, 7654, 7655, 7657, 7660, 7666, 7675, 7680, 7685, 7688, 7689, 7690, 7695, 7699, 7700, 7740, 7745, 7749, 7750, 7760, 7770, 7775, 7777, 7780, 7787, 7789, 7790, 7795, 7799, 7800, 7820, 7825, 7830, 7839, 7840, 7844, 7845, 7849, 7850, 7855, 7856, 7859, 7860, 7869, 7875, 7877, 7880, 7885, 7888, 7890, 7893, 7895, 7898, 7899, 7900, 7924, 7930, 7940, 7949, 7950, 7960, 7970, 7980, 7985, 7988, 7989, 7990, 7994, 7995, 7996, 7997, 7998, 7999, 8000, 8008, 8035, 8050, 8069, 8080, 8090, 8098, 8099, 8100, 8111, 8115, 8125, 8129, 8146, 8150, 8155, 8159, 8180, 8181, 8188, 8189, 8190, 8198, 8199, 8200, 8211, 8219, 8222, 8225, 8230, 8240, 8245, 8248, 8249, 8250, 8255, 8258, 8265, 8270, 8275, 8280, 8282, 8285, 8288, 8290, 8295, 8299, 8300, 8320, 8321, 8330, 8333, 8335, 8340, 8345, 8349, 8350, 8360, 8370, 8380, 8390, 8395, 8399, 8400, 8419, 8420, 8425, 8431, 8444, 8446, 8447, 8449, 8450, 8460, 8469, 8470, 8480, 8484, 8485, 8488, 8490, 8494, 8495, 8498, 8499, 8500, 8510, 8519, 8520, 8549, 8550, 8555, 8560, 8570, 8579, 8580, 8590, 8595, 8599, 8600, 8620, 8630, 8640, 8645, 8650, 8655, 8663, 8665, 8666, 8670, 8675, 8680, 8690, 8695, 8698, 8699, 8700, 8720, 8730, 8749, 8750, 8751, 8755, 8760, 8764, 8765, 8770, 8777, 8780, 8785, 8788, 8790, 8795, 8798, 8799, 8800, 8801, 8833, 8840, 8849, 8850, 8854, 8870, 8875, 8880, 8885, 8886, 8887, 8888, 8889, 8890, 8891, 8895, 8897, 8898, 8899, 8900, 8904, 8911, 8925, 8930, 8940, 8944, 8945, 8949, 8950, 8955, 8960, 8970, 8974, 8975, 8979, 8980, 8987, 8989, 8990, 8995, 8998, 8999, 9000, 9001, 9049, 9050, 9090, 9099, 9100, 9110, 9111, 9120, 9125, 9130, 9149, 9150, 9170, 9190, 9195, 9198, 9199, 9200, 9203, 9221, 9222, 9240, 9245, 9249, 9250, 9270, 9275, 9280, 9289, 9290, 9298, 9299, 9300, 9307, 9320, 9325, 9333, 9349, 9350, 9370, 9375, 9379, 9380, 9385, 9390, 9395, 9398, 9399, 9400, 9410, 9420, 9428, 9440, 9444, 9445, 9449, 9450, 9455, 9460, 9469, 9470, 9475, 9480, 9488, 9490, 9495, 9498, 9499, 9500, 9520, 9525, 9529, 9530, 9540, 9549, 9550, 9555, 9560, 9570, 9577, 9580, 9590, 9599, 9600, 9649, 9650, 9654, 9655, 9660, 9666, 9667, 9675, 9680, 9681, 9690, 9695, 9699, 9700, 9720, 9725, 9734, 9740, 9745, 9749, 9750, 9760, 9769, 9773, 9777, 9780, 9788, 9789, 9790, 9793, 9799, 9800, 9840, 9845, 9849, 9850, 9860, 9870, 9875, 9876, 9877, 9880, 9885, 9888, 9890, 9895, 9899, 9900, 9911, 9920, 9925, 9939, 9945, 9948, 9949, 9950, 9951, 9959, 9964, 9968, 9970, 9975, 9980, 9985, 9987, 9988, 9989, 9990, 9991, 9993, 9994, 9995, 9996, 9997, 9998, 9999, 10000, 10001, 10009, 10050, 10080, 10089, 10090, 10099, 10100, 10111, 10150, 10175, 10180, 10190, 10198, 10199, 10200, 10220, 10222, 10230, 10240, 10249, 10250, 10260, 10280, 10288, 10290, 10295, 10299, 10300, 10310, 10317, 10328, 10333, 10340, 10344, 10349, 10350, 10370, 10375, 10379, 10380, 10389, 10390, 10398, 10399, 10400, 10420, 10422, 10430, 10444, 10449, 10450, 10466, 10470, 10472, 10475, 10480, 10488, 10490, 10495, 10498, 10499, 10500, 10529, 10540, 10550, 10555, 10556, 10560, 10570, 10590, 10599, 10600, 10625, 10650, 10655, 10666, 10670, 10680, 10690, 10695, 10699, 10700, 10725, 10730, 10749, 10750, 10755, 10760, 10777, 10780, 10789, 10790, 10791, 10795, 10799, 10800, 10830, 10849, 10850, 10860, 10870, 10875, 10879, 10880, 10888, 10890, 10891, 10895, 10898, 10899, 10900, 10910, 10920, 10930, 10939, 10940, 10945, 10949, 10950, 10960, 10970, 10975, 10980, 10985, 10986, 10987, 10988, 10989, 10990, 10995, 10997, 10998, 10999, 11000, 11050, 11080, 11090, 11099, 11100, 11111, 11140, 11148, 11149, 11150, 11180, 11190, 11195, 11199, 11200, 11205, 11220, 11222, 11230, 11235, 11240, 11247, 11250, 11270, 11290, 11295, 11299, 11300, 11320, 11325, 11330, 11333, 11349, 11350, 11360, 11379, 11380, 11389, 11390, 11399, 11400, 11410, 11430, 11432, 11444, 11448, 11449, 11450, 11454, 11470, 11475, 11479, 11480, 11488, 11489, 11490, 11495, 11498, 11499, 11500, 11533, 11540, 11546, 11549, 11550, 11552, 11555, 11580, 11590, 11599, 11600, 11625, 11649, 11650, 11654, 11660, 11666, 11670, 11680, 11685, 11687, 11690, 11693, 11697, 11699, 11700, 11720, 11722, 11725, 11733, 11738, 11749, 11750, 11756, 11760, 11770, 11777, 11780, 11784, 11790, 11798, 11799, 11800, 11820, 11825, 11840, 11845, 11849, 11850, 11878, 11880, 11888, 11889, 11890, 11897, 11899, 11900, 11909, 11919, 11920, 11923, 11928, 11930, 11935, 11940, 11950, 11955, 11960, 11968, 11970, 11975, 11979, 11980, 11981, 11982, 11985, 11987, 11988, 11989, 11990, 11995, 11998, 11999, 12000, 12050, 12059, 12090, 12099, 12100, 12120, 12125, 12145, 12150, 12180, 12190, 12195, 12199, 12200, 12220, 12222, 12225, 12249, 12250, 12255, 12270, 12280, 12290, 12295, 12298, 12299, 12300, 12318, 12320, 12330, 12333, 12340, 12345, 12349, 12350, 12355, 12360, 12368, 12370, 12380, 12390, 12395, 12399, 12400, 12430, 12440, 12444, 12449, 12450, 12465, 12469, 12470, 12475, 12480, 12488, 12489, 12490, 12495, 12498, 12499, 12500, 12501, 12523, 12525, 12540, 12549, 12550, 12555, 12560, 12567, 12580, 12590, 12599, 12600, 12647, 12650, 12660, 12667, 12680, 12685, 12690, 12696, 12699, 12700, 12735, 12740, 12749, 12750, 12770, 12777, 12780, 12789, 12790, 12799, 12800, 12808, 12821, 12830, 12850, 12860, 12870, 12877, 12880, 12887, 12888, 12889, 12890, 12898, 12899, 12900, 12920, 12932, 12944, 12949, 12950, 12955, 12968, 12970, 12973, 12978, 12980, 12985, 12986, 12987, 12988, 12989, 12990, 12991, 12995, 12996, 12997, 12998, 12999, 13000, 13049, 13050, 13090, 13099, 13100, 13131, 13150, 13180, 13190, 13199, 13200, 13220, 13222, 13225, 13230, 13240, 13249, 13250, 13275, 13280, 13290, 13298, 13299, 13300, 13321, 13330, 13333, 13349, 13350, 13362, 13380, 13383, 13384, 13387, 13390, 13399, 13400, 13423, 13440, 13444, 13449, 13450, 13456, 13470, 13475, 13480, 13485, 13488, 13489, 13490, 13493, 13495, 13498, 13499, 13500, 13520, 13530, 13548, 13550, 13555, 13560, 13590, 13599, 13600, 13620, 13650, 13666, 13680, 13690, 13699, 13700, 13730, 13749, 13750, 13755, 13777, 13780, 13790, 13798, 13799, 13800, 13830, 13849, 13850, 13870, 13875, 13879, 13880, 13885, 13888, 13890, 13899, 13900, 13911, 13930, 13940, 13949, 13950, 13955, 13960, 13970, 13975, 13978, 13980, 13985, 13986, 13988, 13989, 13990, 13995, 13998, 13999, 14000, 14001, 14010, 14050, 14099, 14100, 14111, 14114, 14140, 14150, 14180, 14190, 14199, 14200, 14220, 14222, 14227, 14230, 14240, 14249, 14250, 14260, 14270, 14275, 14280, 14290, 14295, 14299, 14300, 14320, 14321, 14333, 14335, 14337, 14341, 14349, 14350, 14386, 14390, 14398, 14399, 14400]\n"
     ]
    }
   ],
   "source": [
    "# Verificando valores 0 en la columna 'price'\n",
    "\n",
    "print(sorted(data['price'].unique()))"
   ]
  },
  {
   "cell_type": "code",
   "execution_count": 28,
   "metadata": {},
   "outputs": [
    {
     "data": {
      "text/plain": [
       "price\n",
       "0     10740\n",
       "1      1181\n",
       "2        12\n",
       "3         8\n",
       "4         1\n",
       "5        26\n",
       "7         3\n",
       "8         9\n",
       "9         8\n",
       "10       84\n",
       "11        5\n",
       "12        8\n",
       "13        7\n",
       "14        5\n",
       "15       27\n",
       "16        2\n",
       "17        5\n",
       "18        3\n",
       "19        3\n",
       "20       50\n",
       "Name: price, dtype: int64"
      ]
     },
     "execution_count": 28,
     "metadata": {},
     "output_type": "execute_result"
    }
   ],
   "source": [
    "data.groupby(by = 'price')['price'].count().head(20)"
   ]
  },
  {
   "cell_type": "markdown",
   "metadata": {},
   "source": [
    "Considerando que hay otros valores pequenos igual de absurdos que el 0, por lo que eliminar los valores ceros tambien implicaria eliminar estos valores.\n",
    "\n",
    "Para esto es ncesario responder la pregunta, Cual es un precio justo para un auto?, no existe una cifra exacta, pero no deberia ser inferior a 100, por ello, se descartaran todos los datos con un precio inferior a 100."
   ]
  },
  {
   "cell_type": "code",
   "execution_count": 29,
   "metadata": {},
   "outputs": [
    {
     "data": {
      "text/plain": [
       "(321967, 10)"
      ]
     },
     "execution_count": 29,
     "metadata": {},
     "output_type": "execute_result"
    }
   ],
   "source": [
    "# Desechando los datos de la columna 'price' menores a 100\n",
    "\n",
    "data = data[data['price'] > 99].reset_index(drop=True)\n",
    "data.shape"
   ]
  },
  {
   "cell_type": "markdown",
   "metadata": {},
   "source": [
    "</div> <div class=\"alert alert-block alert-success\">\n",
    "\n",
    "<b>Comentario del revisor</b> <a class=\"tocSkip\"></a><br>\n",
    "\n",
    "<b>Éxito</b> - ¡Tu preprocesamiento es muy completo y bien estructurado! Has tomado decisiones informadas para limpiar y mejorar la calidad del dataset antes de modelarlo. Con algunas visualizaciones adicionales y métricas sobre los datos eliminados, tu proceso podría ser aún más sólido.\n",
    "</div> "
   ]
  },
  {
   "cell_type": "markdown",
   "metadata": {},
   "source": [
    "##### Columna 'power'"
   ]
  },
  {
   "cell_type": "code",
   "execution_count": 30,
   "metadata": {},
   "outputs": [
    {
     "name": "stdout",
     "output_type": "stream",
     "text": [
      "[0, 1, 2, 3, 4, 5, 6, 7, 8, 9, 10, 11, 12, 13, 14, 15, 16, 17, 18, 19, 20, 21, 22, 23, 24, 25, 26, 27, 28, 29, 30, 31, 32, 33, 34, 35, 36, 37, 38, 39, 40, 41, 42, 43, 44, 45, 46, 47, 48, 49, 50, 51, 52, 53, 54, 55, 56, 57, 58, 59, 60, 61, 62, 63, 64, 65, 66, 67, 68, 69, 70, 71, 72, 73, 74, 75, 76, 77, 78, 79, 80, 81, 82, 83, 84, 85, 86, 87, 88, 89, 90, 91, 92, 93, 94, 95, 96, 97, 98, 99, 100, 101, 102, 103, 104, 105, 106, 107, 108, 109, 110, 111, 112, 113, 114, 115, 116, 117, 118, 119, 120, 121, 122, 123, 124, 125, 126, 127, 128, 129, 130, 131, 132, 133, 134, 135, 136, 137, 138, 139, 140, 141, 142, 143, 144, 145, 146, 147, 148, 149, 150, 151, 152, 153, 154, 155, 156, 157, 158, 159, 160, 161, 162, 163, 164, 165, 166, 167, 168, 169, 170, 171, 172, 173, 174, 175, 176, 177, 178, 179, 180, 181, 182, 183, 184, 185, 186, 187, 188, 189, 190, 191, 192, 193, 194, 195, 196, 197, 198, 199, 200, 201, 202, 203, 204, 205, 206, 207, 208, 209, 210, 211, 212, 213, 214, 215, 216, 217, 218, 219, 220, 221, 222, 223, 224, 225, 226, 227, 228, 229, 230, 231, 232, 233, 234, 235, 236, 237, 238, 239, 240, 241, 242, 243, 244, 245, 246, 247, 248, 249, 250, 251, 252, 253, 254, 255, 256, 257, 258, 259, 260, 261, 262, 264, 265, 266, 267, 268, 269, 270, 271, 272, 273, 274, 275, 276, 277, 278, 279, 280, 281, 282, 283, 284, 285, 286, 287, 288, 289, 290, 292, 293, 294, 295, 296, 297, 298, 299, 300, 301, 303, 304, 305, 306, 307, 308, 309, 310, 311, 313, 314, 315, 316, 318, 320, 321, 322, 323, 324, 325, 326, 328, 329, 330, 331, 333, 334, 335, 336, 338, 339, 340, 341, 343, 344, 345, 346, 347, 348, 349, 350, 353, 354, 355, 356, 357, 358, 360, 362, 363, 364, 365, 367, 370, 374, 376, 379, 380, 381, 382, 385, 386, 387, 388, 390, 392, 394, 396, 398, 399, 400, 401, 405, 408, 411, 420, 430, 431, 435, 442, 445, 449, 450, 454, 459, 475, 476, 500, 504, 505, 507, 515, 520, 521, 540, 541, 544, 550, 551, 553, 572, 580, 584, 585, 599, 600, 601, 602, 603, 604, 606, 607, 610, 612, 620, 645, 650, 651, 671, 678, 682, 685, 696, 700, 702, 703, 732, 743, 750, 754, 771, 776, 800, 805, 808, 850, 851, 871, 900, 901, 902, 903, 907, 909, 923, 950, 952, 953, 998, 999, 1000, 1001, 1002, 1003, 1004, 1005, 1011, 1012, 1016, 1017, 1021, 1024, 1054, 1055, 1056, 1062, 1079, 1082, 1090, 1100, 1103, 1105, 1115, 1120, 1149, 1151, 1158, 1160, 1162, 1164, 1199, 1200, 1202, 1221, 1223, 1230, 1239, 1240, 1241, 1250, 1252, 1256, 1275, 1299, 1300, 1312, 1317, 1324, 1339, 1351, 1360, 1362, 1363, 1367, 1390, 1394, 1398, 1399, 1400, 1401, 1403, 1405, 1416, 1432, 1433, 1436, 1500, 1501, 1502, 1503, 1506, 1521, 1548, 1595, 1596, 1597, 1598, 1600, 1625, 1631, 1653, 1659, 1689, 1700, 1701, 1703, 1704, 1707, 1753, 1771, 1779, 1780, 1781, 1783, 1793, 1796, 1799, 1800, 1801, 1870, 1895, 1896, 1900, 1920, 1922, 1933, 1937, 1968, 1986, 1988, 1992, 1993, 1995, 1998, 1999, 2000, 2004, 2005, 2007, 2009, 2016, 2017, 2018, 2172, 2331, 2340, 2389, 2402, 2461, 2598, 2729, 2789, 2792, 2799, 3199, 3454, 3500, 3750, 4400, 4507, 4700, 5411, 5420, 5575, 5809, 5815, 5867, 6006, 6010, 6011, 6012, 6018, 6045, 6062, 6226, 6512, 6920, 7508, 7511, 7512, 7515, 7518, 7529, 7544, 8259, 8404, 8500, 9000, 9007, 9010, 9011, 9012, 9013, 10000, 10110, 10311, 10520, 10522, 10710, 10910, 10912, 11011, 11025, 11111, 11509, 11530, 11635, 12012, 12510, 12512, 12684, 13616, 14009, 15001, 15017, 15020, 15033, 16011, 16051, 16311, 16312, 17011, 17019, 17410, 17700, 17932, 19208, 19211, 19312, 20000]\n"
     ]
    }
   ],
   "source": [
    "#Verificando loos valores de la columna 'power'\n",
    "\n",
    "print(sorted(data['power'].unique()))"
   ]
  },
  {
   "cell_type": "code",
   "execution_count": 31,
   "metadata": {},
   "outputs": [
    {
     "data": {
      "text/plain": [
       "power\n",
       "0     34403\n",
       "1        24\n",
       "2         8\n",
       "3         8\n",
       "4        30\n",
       "5        98\n",
       "6        11\n",
       "7        10\n",
       "8         7\n",
       "9         5\n",
       "10       12\n",
       "11       28\n",
       "12       16\n",
       "13        7\n",
       "14       20\n",
       "15       16\n",
       "16       10\n",
       "17        8\n",
       "18       46\n",
       "19       13\n",
       "Name: power, dtype: int64"
      ]
     },
     "execution_count": 31,
     "metadata": {},
     "output_type": "execute_result"
    }
   ],
   "source": [
    "# Revisando distribucion en los 20 valores mas pequenos\n",
    "\n",
    "data.groupby(by='power')['power'].count().head(20)"
   ]
  },
  {
   "cell_type": "raw",
   "metadata": {},
   "source": [
    "# Revisando los precios de los autos con potencia cero\n",
    "\n",
    "data.query('power == 0')['price'].sample(10)"
   ]
  },
  {
   "cell_type": "markdown",
   "metadata": {},
   "source": [
    "Situacion similar a la columna 'precio', ya que no tiene sentido que un automovil no tenga potencia, sobre todo los mas recientes, que no tienen menos de 50.\n",
    "\n",
    "Por otra parte, es posible que el conjunto de datos incluya uinformacion de autos autos antiguos, por lo que no se descartaran las filas con datos bajos de potencia.\n",
    "\n",
    "Finalmente, los datos con potencia igual a cero, representan mas del 10%. Realizando una pequena examinacion a los datos mas a fondo, algunos de estos modelo tienen precios altos y fueron matriculados hace poco tiempo relativamente, esto da cuenta de la aleatoriedad de los datos. Por ello, se consideraran valores faltantes y se imputaran estos datos mediante la informacion de otras columnas con  las cuales tengan fuerte correlacion, para ello se comprobaran las correlaciones entre columnas."
   ]
  },
  {
   "cell_type": "code",
   "execution_count": 33,
   "metadata": {},
   "outputs": [
    {
     "data": {
      "text/html": [
       "<div>\n",
       "<style scoped>\n",
       "    .dataframe tbody tr th:only-of-type {\n",
       "        vertical-align: middle;\n",
       "    }\n",
       "\n",
       "    .dataframe tbody tr th {\n",
       "        vertical-align: top;\n",
       "    }\n",
       "\n",
       "    .dataframe thead th {\n",
       "        text-align: right;\n",
       "    }\n",
       "</style>\n",
       "<table border=\"1\" class=\"dataframe\">\n",
       "  <thead>\n",
       "    <tr style=\"text-align: right;\">\n",
       "      <th></th>\n",
       "      <th>price</th>\n",
       "      <th>registration_year</th>\n",
       "      <th>power</th>\n",
       "      <th>mileage</th>\n",
       "    </tr>\n",
       "  </thead>\n",
       "  <tbody>\n",
       "    <tr>\n",
       "      <th>price</th>\n",
       "      <td>1.000000</td>\n",
       "      <td>0.369010</td>\n",
       "      <td>0.138608</td>\n",
       "      <td>-0.299724</td>\n",
       "    </tr>\n",
       "    <tr>\n",
       "      <th>registration_year</th>\n",
       "      <td>0.369010</td>\n",
       "      <td>1.000000</td>\n",
       "      <td>0.021138</td>\n",
       "      <td>-0.159125</td>\n",
       "    </tr>\n",
       "    <tr>\n",
       "      <th>power</th>\n",
       "      <td>0.138608</td>\n",
       "      <td>0.021138</td>\n",
       "      <td>1.000000</td>\n",
       "      <td>0.031455</td>\n",
       "    </tr>\n",
       "    <tr>\n",
       "      <th>mileage</th>\n",
       "      <td>-0.299724</td>\n",
       "      <td>-0.159125</td>\n",
       "      <td>0.031455</td>\n",
       "      <td>1.000000</td>\n",
       "    </tr>\n",
       "  </tbody>\n",
       "</table>\n",
       "</div>"
      ],
      "text/plain": [
       "                      price  registration_year     power   mileage\n",
       "price              1.000000           0.369010  0.138608 -0.299724\n",
       "registration_year  0.369010           1.000000  0.021138 -0.159125\n",
       "power              0.138608           0.021138  1.000000  0.031455\n",
       "mileage           -0.299724          -0.159125  0.031455  1.000000"
      ]
     },
     "execution_count": 33,
     "metadata": {},
     "output_type": "execute_result"
    }
   ],
   "source": [
    "# Revisando la correlacion de los datos\n",
    "\n",
    "data.corr()"
   ]
  },
  {
   "cell_type": "markdown",
   "metadata": {},
   "source": [
    "La columna `price` es la que tiene mayor correlacion con la columna `power`, por ello, se usaran los datos de la columna `price` para agrupar los datos de la columna `power`, calcular la mediana de cada grupo y posteriormente, reemplazar este valor por los valores ceros de la columna `power`"
   ]
  },
  {
   "cell_type": "code",
   "execution_count": 34,
   "metadata": {},
   "outputs": [
    {
     "data": {
      "text/html": [
       "<div>\n",
       "<style scoped>\n",
       "    .dataframe tbody tr th:only-of-type {\n",
       "        vertical-align: middle;\n",
       "    }\n",
       "\n",
       "    .dataframe tbody tr th {\n",
       "        vertical-align: top;\n",
       "    }\n",
       "\n",
       "    .dataframe thead th {\n",
       "        text-align: right;\n",
       "    }\n",
       "</style>\n",
       "<table border=\"1\" class=\"dataframe\">\n",
       "  <thead>\n",
       "    <tr style=\"text-align: right;\">\n",
       "      <th></th>\n",
       "      <th>price</th>\n",
       "      <th>vehicle_type</th>\n",
       "      <th>registration_year</th>\n",
       "      <th>gearbox</th>\n",
       "      <th>power</th>\n",
       "      <th>model</th>\n",
       "      <th>mileage</th>\n",
       "      <th>fuel_type</th>\n",
       "      <th>brand</th>\n",
       "      <th>not_repaired</th>\n",
       "      <th>price_group</th>\n",
       "    </tr>\n",
       "  </thead>\n",
       "  <tbody>\n",
       "    <tr>\n",
       "      <th>0</th>\n",
       "      <td>480</td>\n",
       "      <td>NaN</td>\n",
       "      <td>1993</td>\n",
       "      <td>manual</td>\n",
       "      <td>0</td>\n",
       "      <td>golf</td>\n",
       "      <td>150000</td>\n",
       "      <td>petrol</td>\n",
       "      <td>volkswagen</td>\n",
       "      <td>NaN</td>\n",
       "      <td>cheap</td>\n",
       "    </tr>\n",
       "    <tr>\n",
       "      <th>1</th>\n",
       "      <td>9800</td>\n",
       "      <td>suv</td>\n",
       "      <td>2004</td>\n",
       "      <td>auto</td>\n",
       "      <td>163</td>\n",
       "      <td>grand</td>\n",
       "      <td>125000</td>\n",
       "      <td>gasoline</td>\n",
       "      <td>jeep</td>\n",
       "      <td>NaN</td>\n",
       "      <td>expensive</td>\n",
       "    </tr>\n",
       "    <tr>\n",
       "      <th>2</th>\n",
       "      <td>1500</td>\n",
       "      <td>small</td>\n",
       "      <td>2001</td>\n",
       "      <td>manual</td>\n",
       "      <td>75</td>\n",
       "      <td>golf</td>\n",
       "      <td>150000</td>\n",
       "      <td>petrol</td>\n",
       "      <td>volkswagen</td>\n",
       "      <td>no</td>\n",
       "      <td>medium</td>\n",
       "    </tr>\n",
       "    <tr>\n",
       "      <th>3</th>\n",
       "      <td>3600</td>\n",
       "      <td>small</td>\n",
       "      <td>2008</td>\n",
       "      <td>manual</td>\n",
       "      <td>69</td>\n",
       "      <td>fabia</td>\n",
       "      <td>90000</td>\n",
       "      <td>gasoline</td>\n",
       "      <td>skoda</td>\n",
       "      <td>no</td>\n",
       "      <td>expensive</td>\n",
       "    </tr>\n",
       "    <tr>\n",
       "      <th>4</th>\n",
       "      <td>650</td>\n",
       "      <td>sedan</td>\n",
       "      <td>1995</td>\n",
       "      <td>manual</td>\n",
       "      <td>102</td>\n",
       "      <td>3er</td>\n",
       "      <td>150000</td>\n",
       "      <td>petrol</td>\n",
       "      <td>bmw</td>\n",
       "      <td>yes</td>\n",
       "      <td>medium</td>\n",
       "    </tr>\n",
       "  </tbody>\n",
       "</table>\n",
       "</div>"
      ],
      "text/plain": [
       "   price vehicle_type  registration_year gearbox  power  model  mileage  \\\n",
       "0    480          NaN               1993  manual      0   golf   150000   \n",
       "1   9800          suv               2004    auto    163  grand   125000   \n",
       "2   1500        small               2001  manual     75   golf   150000   \n",
       "3   3600        small               2008  manual     69  fabia    90000   \n",
       "4    650        sedan               1995  manual    102    3er   150000   \n",
       "\n",
       "  fuel_type       brand not_repaired price_group  \n",
       "0    petrol  volkswagen          NaN       cheap  \n",
       "1  gasoline        jeep          NaN   expensive  \n",
       "2    petrol  volkswagen           no      medium  \n",
       "3  gasoline       skoda           no   expensive  \n",
       "4    petrol         bmw          yes      medium  "
      ]
     },
     "metadata": {},
     "output_type": "display_data"
    }
   ],
   "source": [
    "# Creacion de nueva columna basada en la funcion de agrupacion de precios\n",
    "\n",
    "data['price_group'] = data['price'].apply(grupo_precio)\n",
    "display(data.head())"
   ]
  },
  {
   "cell_type": "code",
   "execution_count": 35,
   "metadata": {},
   "outputs": [
    {
     "data": {
      "text/plain": [
       "price_group\n",
       "cheap              60\n",
       "medium             75\n",
       "expensive         116\n",
       "very expensive    150\n",
       "Name: power, dtype: int64"
      ]
     },
     "execution_count": 35,
     "metadata": {},
     "output_type": "execute_result"
    }
   ],
   "source": [
    "# Revisando la mediana de cada grupo en la columna 'power', basado en la columna 'price_group'\n",
    "\n",
    "data.groupby(by = 'price_group')['power'].median().sort_values()"
   ]
  },
  {
   "cell_type": "markdown",
   "metadata": {},
   "source": [
    "Se observa, que la potencia media de los autos aumenta al tener una clase de precios mas alta, lo que concuerda con lo visto en la matriz de correlaciones. \n",
    "\n",
    "Es posible sustituir los valores ceros de la columna `power`  con los valores medios obtenidos de la columna `power`, segun la agrupacion de precios."
   ]
  },
  {
   "cell_type": "code",
   "execution_count": 36,
   "metadata": {},
   "outputs": [],
   "source": [
    "# Reemplazando valores ceros en la columna 'power', por la mediana, aplicando funcion\n",
    "\n",
    "data = reemplazo_valores_ceros_por_mediana(data, 'power', 'power', 'price_group')"
   ]
  },
  {
   "cell_type": "code",
   "execution_count": 37,
   "metadata": {},
   "outputs": [
    {
     "data": {
      "text/html": [
       "<div>\n",
       "<style scoped>\n",
       "    .dataframe tbody tr th:only-of-type {\n",
       "        vertical-align: middle;\n",
       "    }\n",
       "\n",
       "    .dataframe tbody tr th {\n",
       "        vertical-align: top;\n",
       "    }\n",
       "\n",
       "    .dataframe thead th {\n",
       "        text-align: right;\n",
       "    }\n",
       "</style>\n",
       "<table border=\"1\" class=\"dataframe\">\n",
       "  <thead>\n",
       "    <tr style=\"text-align: right;\">\n",
       "      <th></th>\n",
       "      <th>price</th>\n",
       "      <th>vehicle_type</th>\n",
       "      <th>registration_year</th>\n",
       "      <th>gearbox</th>\n",
       "      <th>power</th>\n",
       "      <th>model</th>\n",
       "      <th>mileage</th>\n",
       "      <th>fuel_type</th>\n",
       "      <th>brand</th>\n",
       "      <th>not_repaired</th>\n",
       "      <th>price_group</th>\n",
       "    </tr>\n",
       "  </thead>\n",
       "  <tbody>\n",
       "  </tbody>\n",
       "</table>\n",
       "</div>"
      ],
      "text/plain": [
       "Empty DataFrame\n",
       "Columns: [price, vehicle_type, registration_year, gearbox, power, model, mileage, fuel_type, brand, not_repaired, price_group]\n",
       "Index: []"
      ]
     },
     "execution_count": 37,
     "metadata": {},
     "output_type": "execute_result"
    }
   ],
   "source": [
    "# Revisando valores ceros en la variable 'power'\n",
    "\n",
    "data.query('power == 0')"
   ]
  },
  {
   "cell_type": "markdown",
   "metadata": {},
   "source": [
    "#### Valores duplicados\n",
    "\n",
    "Hay solo 262 registros duplicados, los cuales se puede eliminar."
   ]
  },
  {
   "cell_type": "code",
   "execution_count": 38,
   "metadata": {},
   "outputs": [
    {
     "data": {
      "text/plain": [
       "0"
      ]
     },
     "execution_count": 38,
     "metadata": {},
     "output_type": "execute_result"
    }
   ],
   "source": [
    "# Eliminacion observaciones de duplicadas\n",
    "\n",
    "data = data.drop_duplicates().reset_index(drop=True)\n",
    "data.duplicated().sum()"
   ]
  },
  {
   "cell_type": "markdown",
   "metadata": {},
   "source": [
    "#### Valores ausentes\n",
    "\n",
    "Como se reviso anteriormente, hay una cantidad significativa de valores faltantes en el set de datos."
   ]
  },
  {
   "cell_type": "code",
   "execution_count": 39,
   "metadata": {},
   "outputs": [
    {
     "data": {
      "text/plain": [
       "price                    0\n",
       "vehicle_type         29775\n",
       "registration_year        0\n",
       "gearbox              14073\n",
       "power                    0\n",
       "model                15589\n",
       "mileage                  0\n",
       "fuel_type            26357\n",
       "brand                    0\n",
       "not_repaired         57232\n",
       "price_group              0\n",
       "dtype: int64"
      ]
     },
     "execution_count": 39,
     "metadata": {},
     "output_type": "execute_result"
    }
   ],
   "source": [
    "# Verificando el total de valores ausentes\n",
    "\n",
    "data.isna().sum()"
   ]
  },
  {
   "cell_type": "code",
   "execution_count": 40,
   "metadata": {},
   "outputs": [
    {
     "data": {
      "text/plain": [
       "price                 int64\n",
       "vehicle_type         object\n",
       "registration_year     int64\n",
       "gearbox              object\n",
       "power                 int64\n",
       "model                object\n",
       "mileage               int64\n",
       "fuel_type            object\n",
       "brand                object\n",
       "not_repaired         object\n",
       "price_group          object\n",
       "dtype: object"
      ]
     },
     "execution_count": 40,
     "metadata": {},
     "output_type": "execute_result"
    }
   ],
   "source": [
    "# Comprobando los tipos de datos de las variables del dataset\n",
    "\n",
    "data.dtypes"
   ]
  },
  {
   "cell_type": "markdown",
   "metadata": {},
   "source": [
    "Todos los valores faltantes se encuentran en variable categoricas, por lo que seran reemplazados por el valor 'unknown' (desconocido)"
   ]
  },
  {
   "cell_type": "code",
   "execution_count": 41,
   "metadata": {},
   "outputs": [
    {
     "data": {
      "text/plain": [
       "price                0\n",
       "vehicle_type         0\n",
       "registration_year    0\n",
       "gearbox              0\n",
       "power                0\n",
       "model                0\n",
       "mileage              0\n",
       "fuel_type            0\n",
       "brand                0\n",
       "not_repaired         0\n",
       "price_group          0\n",
       "dtype: int64"
      ]
     },
     "execution_count": 41,
     "metadata": {},
     "output_type": "execute_result"
    }
   ],
   "source": [
    "# Sustitucion de valores ausentes y verificacion del proceso\n",
    "\n",
    "data.fillna(value = 'unknown', inplace = True)\n",
    "data.isna().sum()"
   ]
  },
  {
   "cell_type": "markdown",
   "metadata": {},
   "source": [
    "Se han sustituidos todos los valores nulos."
   ]
  },
  {
   "cell_type": "markdown",
   "metadata": {},
   "source": [
    "</div> <div class=\"alert alert-block alert-success\">\n",
    "\n",
    "<b>Comentario del revisor</b> <a class=\"tocSkip\"></a><br>\n",
    "\n",
    "<b>Éxito</b> - ¡Gran manejo del preprocesamiento! Has demostrado un buen criterio para imputar valores, eliminar duplicados y manejar datos faltantes sin perder información valiosa. Con pequeñas mejoras en la visualización y justificación de algunas decisiones, este paso del análisis sería aún más robusto. \n",
    "</div> "
   ]
  },
  {
   "cell_type": "markdown",
   "metadata": {},
   "source": [
    "#### Reduccion de tamaño del dataset\n",
    "\n",
    "El set de datos es relativamente pequeño, pero se puede mejorar su eficiencia reduciendo su tamaño, cambiando los tipos de datos."
   ]
  },
  {
   "cell_type": "code",
   "execution_count": 42,
   "metadata": {},
   "outputs": [
    {
     "name": "stdout",
     "output_type": "stream",
     "text": [
      "Memoria usada por el DataFrame       = 23.48 MB\n",
      "Memoria usada luego de la optimizacion = 17.61 MB\n",
      "Disminuyo en 25.0%\n"
     ]
    },
    {
     "data": {
      "text/plain": [
       "price                uint16\n",
       "vehicle_type         object\n",
       "registration_year    uint16\n",
       "gearbox              object\n",
       "power                uint16\n",
       "model                object\n",
       "mileage              uint32\n",
       "fuel_type            object\n",
       "brand                object\n",
       "not_repaired         object\n",
       "price_group          object\n",
       "dtype: object"
      ]
     },
     "execution_count": 42,
     "metadata": {},
     "output_type": "execute_result"
    }
   ],
   "source": [
    "# Implementando la optmizacion del dataset a traves de una funcion\n",
    "\n",
    "data = tipo_dato_numerico_mas_pequeno(data)\n",
    "data.dtypes"
   ]
  },
  {
   "cell_type": "markdown",
   "metadata": {},
   "source": [
    "De esta forma concluye el procesamiento de datos, y se prepara el dataset para la seccion de modelado."
   ]
  },
  {
   "cell_type": "markdown",
   "metadata": {},
   "source": [
    "### Preparacion de los datasets\n",
    "\n",
    "Se entrenaran y compraran resultados de varios modelos, algunos manejan variables categoricas y otros no, por ello, se elaboraran dos conjuntos de datos y asi cubrir las necesidades de los respectivos modelos.\n",
    "\n",
    "- `data`: Conjuntos de datos principal, con variables categoricas sin modificacion, por ello se utilizara con modelos que soporten este tipo de variables.\n",
    "\n",
    "\n",
    "- `data_new`: Conjunto de datos creado para los modelos que no pueden manejar variables categoricas, para ellos, esta columnas se procesaran mediante la tecnica OHE.\n",
    "\n",
    "\n",
    "#### Dataset `data_new`\n",
    "\n",
    "El desarrollo del nuevo conjunto de datos, constara de las siguientes etapas.\n",
    "\n",
    "\n",
    "- Eliminar las variables `model` y `brand` ya que contienen demasiados valores unicos.\n",
    "\n",
    "\n",
    "- Eliminar la variable `price_group` ya que su objetivo era solo procesar los valores ausentes.\n",
    "\n",
    "\n",
    "- Crear variable `data_new`, a la cual se le asigne el dataframe `data` sin las variables anteriormente mencionadas.\n",
    "\n",
    "\n",
    "- Las variables categoricas del dataset se asumen nominales, por lo cual, no es posible utilizar OrdinalEncoder, por ello, se usara la funcion de Pandas `get_dummies` y asi realizar la tecnica OHE."
   ]
  },
  {
   "cell_type": "code",
   "execution_count": 43,
   "metadata": {},
   "outputs": [
    {
     "data": {
      "text/html": [
       "<div>\n",
       "<style scoped>\n",
       "    .dataframe tbody tr th:only-of-type {\n",
       "        vertical-align: middle;\n",
       "    }\n",
       "\n",
       "    .dataframe tbody tr th {\n",
       "        vertical-align: top;\n",
       "    }\n",
       "\n",
       "    .dataframe thead th {\n",
       "        text-align: right;\n",
       "    }\n",
       "</style>\n",
       "<table border=\"1\" class=\"dataframe\">\n",
       "  <thead>\n",
       "    <tr style=\"text-align: right;\">\n",
       "      <th></th>\n",
       "      <th>price</th>\n",
       "      <th>vehicle_type</th>\n",
       "      <th>registration_year</th>\n",
       "      <th>gearbox</th>\n",
       "      <th>power</th>\n",
       "      <th>mileage</th>\n",
       "      <th>fuel_type</th>\n",
       "      <th>not_repaired</th>\n",
       "    </tr>\n",
       "  </thead>\n",
       "  <tbody>\n",
       "    <tr>\n",
       "      <th>0</th>\n",
       "      <td>480</td>\n",
       "      <td>unknown</td>\n",
       "      <td>1993</td>\n",
       "      <td>manual</td>\n",
       "      <td>60</td>\n",
       "      <td>150000</td>\n",
       "      <td>petrol</td>\n",
       "      <td>unknown</td>\n",
       "    </tr>\n",
       "    <tr>\n",
       "      <th>1</th>\n",
       "      <td>9800</td>\n",
       "      <td>suv</td>\n",
       "      <td>2004</td>\n",
       "      <td>auto</td>\n",
       "      <td>163</td>\n",
       "      <td>125000</td>\n",
       "      <td>gasoline</td>\n",
       "      <td>unknown</td>\n",
       "    </tr>\n",
       "    <tr>\n",
       "      <th>2</th>\n",
       "      <td>1500</td>\n",
       "      <td>small</td>\n",
       "      <td>2001</td>\n",
       "      <td>manual</td>\n",
       "      <td>75</td>\n",
       "      <td>150000</td>\n",
       "      <td>petrol</td>\n",
       "      <td>no</td>\n",
       "    </tr>\n",
       "    <tr>\n",
       "      <th>3</th>\n",
       "      <td>3600</td>\n",
       "      <td>small</td>\n",
       "      <td>2008</td>\n",
       "      <td>manual</td>\n",
       "      <td>69</td>\n",
       "      <td>90000</td>\n",
       "      <td>gasoline</td>\n",
       "      <td>no</td>\n",
       "    </tr>\n",
       "    <tr>\n",
       "      <th>4</th>\n",
       "      <td>650</td>\n",
       "      <td>sedan</td>\n",
       "      <td>1995</td>\n",
       "      <td>manual</td>\n",
       "      <td>102</td>\n",
       "      <td>150000</td>\n",
       "      <td>petrol</td>\n",
       "      <td>yes</td>\n",
       "    </tr>\n",
       "  </tbody>\n",
       "</table>\n",
       "</div>"
      ],
      "text/plain": [
       "   price vehicle_type  registration_year gearbox  power  mileage fuel_type  \\\n",
       "0    480      unknown               1993  manual     60   150000    petrol   \n",
       "1   9800          suv               2004    auto    163   125000  gasoline   \n",
       "2   1500        small               2001  manual     75   150000    petrol   \n",
       "3   3600        small               2008  manual     69    90000  gasoline   \n",
       "4    650        sedan               1995  manual    102   150000    petrol   \n",
       "\n",
       "  not_repaired  \n",
       "0      unknown  \n",
       "1      unknown  \n",
       "2           no  \n",
       "3           no  \n",
       "4          yes  "
      ]
     },
     "execution_count": 43,
     "metadata": {},
     "output_type": "execute_result"
    }
   ],
   "source": [
    "# Creando dataset 'data_new'\n",
    "\n",
    "data_new = data.copy().drop(['model', 'brand', 'price_group'], axis = 1)\n",
    "data_new.head()"
   ]
  },
  {
   "cell_type": "code",
   "execution_count": 44,
   "metadata": {},
   "outputs": [
    {
     "name": "stdout",
     "output_type": "stream",
     "text": [
      "(279741, 23)\n",
      "\n",
      "Index(['price', 'registration_year', 'power', 'mileage',\n",
      "       'vehicle_type_convertible', 'vehicle_type_coupe', 'vehicle_type_other',\n",
      "       'vehicle_type_sedan', 'vehicle_type_small', 'vehicle_type_suv',\n",
      "       'vehicle_type_unknown', 'vehicle_type_wagon', 'gearbox_manual',\n",
      "       'gearbox_unknown', 'fuel_type_electric', 'fuel_type_gasoline',\n",
      "       'fuel_type_hybrid', 'fuel_type_lpg', 'fuel_type_other',\n",
      "       'fuel_type_petrol', 'fuel_type_unknown', 'not_repaired_unknown',\n",
      "       'not_repaired_yes'],\n",
      "      dtype='object')\n"
     ]
    }
   ],
   "source": [
    "# Aplicando tecnica OHE y revisando estructura del dataset 'data_new'\n",
    "\n",
    "data_new = pd.get_dummies(data_new, drop_first = True)\n",
    "print(data_new.shape)\n",
    "print()\n",
    "print(data_new.columns)"
   ]
  },
  {
   "cell_type": "markdown",
   "metadata": {},
   "source": [
    "#### Particion de los datos"
   ]
  },
  {
   "cell_type": "code",
   "execution_count": 45,
   "metadata": {},
   "outputs": [],
   "source": [
    "# Dataset principal 'data'\n",
    "\n",
    "features = data.drop('price', axis = 1)\n",
    "target = data['price']\n",
    "features_train, features_test, target_train, target_test = train_test_split(features , target, test_size = 0.2, random_state = seed)"
   ]
  },
  {
   "cell_type": "code",
   "execution_count": 46,
   "metadata": {},
   "outputs": [],
   "source": [
    "# Dataset modificado 'data_new' \n",
    "\n",
    "features_new = data_new.drop('price', axis = 1)\n",
    "target_new = data_new['price']\n",
    "features_new_train, features_new_test, target_new_train, target_new_test = train_test_split(features_new, target_new, test_size = 0.2, random_state = seed)"
   ]
  },
  {
   "cell_type": "code",
   "execution_count": 47,
   "metadata": {},
   "outputs": [
    {
     "name": "stdout",
     "output_type": "stream",
     "text": [
      "1. Dataset principal\n",
      "(223792, 10)\n",
      "(55949, 10)\n",
      "(223792,)\n",
      "(55949,)\n",
      "\n",
      "2. Dataset modificado\n",
      "(223792, 22)\n",
      "(55949, 22)\n",
      "(223792,)\n",
      "(55949,)\n"
     ]
    }
   ],
   "source": [
    "# Estructura de los datasets particionados\n",
    "\n",
    "print('1. Dataset principal')\n",
    "print(features_train.shape)\n",
    "print(features_test.shape)\n",
    "print(target_train.shape)\n",
    "print(target_test.shape)\n",
    "print()\n",
    "print('2. Dataset modificado')\n",
    "print(features_new_train.shape)\n",
    "print(features_new_test.shape)\n",
    "print(target_new_train.shape)\n",
    "print(target_new_test.shape)"
   ]
  },
  {
   "cell_type": "markdown",
   "metadata": {},
   "source": [
    "#### Escalado de caracteristicas\n",
    "\n",
    "Con el proposito que las variables numericas de todos los conjuntos se procesen de forma igualitaria, sin influencia de valores variables, se aplicara un escalado a los datos, esto evita que los modelos mal interpreten variables con valores altos, como mas importantes que otras con valores mas bajos."
   ]
  },
  {
   "cell_type": "code",
   "execution_count": 48,
   "metadata": {},
   "outputs": [],
   "source": [
    "# Realizando escalado de caracteristicas\n",
    "\n",
    "numeric = features_train.select_dtypes(include = ['uint16','uint32']).columns\n",
    "scaler = StandardScaler()\n",
    "features_train[numeric] = scaler.fit_transform(features_train[numeric])\n",
    "features_test[numeric] = scaler.transform(features_test[numeric])\n",
    "features_new_train[numeric] = scaler.transform(features_new_train[numeric])\n",
    "features_new_test[numeric] = scaler.transform(features_new_test[numeric])"
   ]
  },
  {
   "cell_type": "markdown",
   "metadata": {},
   "source": [
    "## Entrenamiento del modelo\n",
    "\n",
    "Los principales intereses de la empresa Rusty Bargain son la calidad y la velocidad de la prediccion, ademas del tiempo en el entrenamiento del modelo, por ello, la evaluacion del modelo sera en funcion de estos tres aspectos.\n",
    "\n",
    "\n",
    "Para la evaluacion de desempeño del modelo, se aplicara la metrica del error cuadratico medio (RMSE), la cual se aplicara mediante una funcion previamente definida.\n",
    "\n",
    "Como no se tiene un conjunto de datos para relaizar una validacion independiente, se empleara la tecnica de validacion cruzada para validar el modelo.\n",
    "\n",
    "Por ulitmo, se solicita que el modelo de regresion lineal se utilice como referencia, el cual servira como comprobacion de validez para modelos mas complejos, con la intencion de que estos modelos mas sofisticados entreguen mejores resultados que le modelo de regresion lineal, y por consiguiente un mejores valores del RMSE."
   ]
  },
  {
   "cell_type": "markdown",
   "metadata": {},
   "source": [
    "### Linear Regression (Modelo Referencial)"
   ]
  },
  {
   "cell_type": "code",
   "execution_count": 49,
   "metadata": {},
   "outputs": [
    {
     "name": "stdout",
     "output_type": "stream",
     "text": [
      "CPU times: user 591 ms, sys: 573 ms, total: 1.16 s\n",
      "Wall time: 1.11 s\n"
     ]
    },
    {
     "data": {
      "text/plain": [
       "2604.760782195703"
      ]
     },
     "execution_count": 49,
     "metadata": {},
     "output_type": "execute_result"
    }
   ],
   "source": [
    "%%time\n",
    "\n",
    "# Creacion de calificador para modelo referencial\n",
    "rmse_scorer = make_scorer(rmse)\n",
    "\n",
    "# Calculo de puntuacion para modelo de regresion lineal\n",
    "lr = LinearRegression() \n",
    "lr_score = cross_val_score(lr, features_new_train, target_new_train, scoring = rmse_scorer, cv = 5)\n",
    "lr_score.mean()"
   ]
  },
  {
   "cell_type": "code",
   "execution_count": 50,
   "metadata": {},
   "outputs": [
    {
     "name": "stdout",
     "output_type": "stream",
     "text": [
      "CPU times: user 97.7 ms, sys: 143 ms, total: 241 ms\n",
      "Wall time: 284 ms\n"
     ]
    },
    {
     "data": {
      "text/plain": [
       "2597.496408788691"
      ]
     },
     "execution_count": 50,
     "metadata": {},
     "output_type": "execute_result"
    }
   ],
   "source": [
    "%%time\n",
    "\n",
    "# Prueba con el conjunto de datos de prueba \n",
    "\n",
    "lr = LinearRegression().fit(features_new_train, target_new_train)\n",
    "lr_pred = lr.predict(features_new_test)\n",
    "lr_rmse = rmse(target_new_test, lr_pred)\n",
    "lr_rmse"
   ]
  },
  {
   "cell_type": "markdown",
   "metadata": {},
   "source": [
    "Se obtuvieron 2 valores de RMSE como puntos de referencia, 2604.76 para los datos de entrenamiento y 2597.50 para los datos de prueba, y agregar que los tiempos de ambos porcesos son relativamente cortos."
   ]
  },
  {
   "cell_type": "markdown",
   "metadata": {},
   "source": [
    "### Decision Tree Regressor\n",
    "\n",
    "El primer modelo a testear, con el proposito de mejorar la puntuacion ya obtenida por la regresion lineal, para ello, se estableceran los hiperparametros del modelo, especificamente la profundidad del maxima del arbol. "
   ]
  },
  {
   "cell_type": "code",
   "execution_count": 51,
   "metadata": {},
   "outputs": [
    {
     "name": "stdout",
     "output_type": "stream",
     "text": [
      "CPU times: user 2.45 s, sys: 46 ms, total: 2.5 s\n",
      "Wall time: 2.56 s\n"
     ]
    },
    {
     "data": {
      "text/plain": [
       "1835.445017249367"
      ]
     },
     "execution_count": 51,
     "metadata": {},
     "output_type": "execute_result"
    }
   ],
   "source": [
    "%%time\n",
    "\n",
    "# Entrenamiento sin modificar los hiperparametros\n",
    "\n",
    "dtr = DecisionTreeRegressor(random_state = seed)\n",
    "scores = cross_val_score(dtr, features_new_train, target_new_train, scoring = rmse_scorer, cv = 5).mean()\n",
    "scores"
   ]
  },
  {
   "cell_type": "code",
   "execution_count": 52,
   "metadata": {},
   "outputs": [
    {
     "name": "stdout",
     "output_type": "stream",
     "text": [
      "Best n_estimators: 13\n",
      "Best score: 1681.6945655858647\n",
      "CPU times: user 17.8 s, sys: 0 ns, total: 17.8 s\n",
      "Wall time: 17.8 s\n"
     ]
    }
   ],
   "source": [
    "%%time\n",
    "\n",
    "# Entrenamiento con ajuste de hiperparametros\n",
    "\n",
    "# Creacion de lista para guardar puntuciones \n",
    "depth_scores = []\n",
    "\n",
    "# Desempeño con validacion cruzada para cada nivel de profundidad del arbol del 1 al 15\n",
    "for depth in range(1, 16):\n",
    "    dtr = DecisionTreeRegressor(max_depth = depth, random_state = seed)\n",
    "    scores = cross_val_score(dtr, features_new_train, target_new_train, scoring = rmse_scorer, cv = 5)\n",
    "    depth_scores.append(scores.mean())\n",
    "\n",
    "# Verificando la mejor profundidad con la mejor puntuacion \n",
    "best_depth_score_index = np.argmin(depth_scores)\n",
    "best_depth_score = best_depth_score_index + 1\n",
    "best_score = depth_scores[best_depth_score_index]\n",
    "\n",
    "print(\"Best n_estimators:\", best_depth_score)\n",
    "print(\"Best score:\", best_score)"
   ]
  },
  {
   "cell_type": "markdown",
   "metadata": {},
   "source": [
    "El mejor puntaje es de 1681.69, con una profundidad de arbol de 13, este resultado es superior al modelo referencial o al modelo sin ajuste de hiperparametros"
   ]
  },
  {
   "cell_type": "code",
   "execution_count": 53,
   "metadata": {},
   "outputs": [
    {
     "name": "stdout",
     "output_type": "stream",
     "text": [
      "CPU times: user 420 ms, sys: 0 ns, total: 420 ms\n",
      "Wall time: 426 ms\n"
     ]
    },
    {
     "data": {
      "text/plain": [
       "1667.4833391153227"
      ]
     },
     "execution_count": 53,
     "metadata": {},
     "output_type": "execute_result"
    }
   ],
   "source": [
    "%%time\n",
    "\n",
    "# Prueba el conjunto de datos de prueba \n",
    "\n",
    "dtr = DecisionTreeRegressor(max_depth = 13, random_state = seed).fit(features_new_train, target_new_train)\n",
    "dtr_pred = dtr.predict(features_new_test)\n",
    "dtr_rmse = rmse(target_new_test, dtr_pred)\n",
    "dtr_rmse"
   ]
  },
  {
   "cell_type": "markdown",
   "metadata": {},
   "source": [
    "Se obtiene una puntuacion de 1667.48, con un pequeno tiempo de prueba."
   ]
  },
  {
   "cell_type": "markdown",
   "metadata": {},
   "source": [
    "### Random Forest Regressor\n",
    "\n",
    "Para este modelo, se hara un primer entrenamiento, sin ajuste de hiperparametros, para luego, en el segundo entrenamiento se configurara hiperparametros como la cantidad de arboles, manteniendo una profundidad de 13, ya que tiene el mejor desempeño segun el modelo anterior."
   ]
  },
  {
   "cell_type": "code",
   "execution_count": null,
   "metadata": {},
   "outputs": [],
   "source": [
    "%%time\n",
    "\n",
    "# Entrenamiento sin ajuste de hiperparametros\n",
    "rf = RandomForestRegressor(random_state = seed)\n",
    "rf_score = cross_val_score(rf, features_new_train, target_new_train, scoring = rmse_scorer, cv = 5).mean()\n",
    "rf_score"
   ]
  },
  {
   "cell_type": "markdown",
   "metadata": {},
   "source": [
    "Este modelo aun sin ajuste de hiperparametros, tiene un mejor desempeño que el modelo anterior, pero el tiempo de ejecucion es mucho mayor, algo que el cliente no le gusta.\n",
    "\n",
    "Ahora, se ajustan los hiperparametros del modelo."
   ]
  },
  {
   "cell_type": "code",
   "execution_count": null,
   "metadata": {},
   "outputs": [],
   "source": [
    "%%time\n",
    "\n",
    "# Entrenamiento con ajuste de hiperparametros\n",
    "\n",
    "best_rmse = np.inf\n",
    "best_n_estimators = None\n",
    "estimator_scores = []\n",
    "\n",
    "# Bucle for para encontrar el mejor n_estimators\n",
    "for n_estimators in range(10, 101, 20):\n",
    "    # Inicializacion del modelo\n",
    "    rfr = RandomForestRegressor(n_estimators = n_estimators, max_depth = 13, random_state = seed)\n",
    "\n",
    "    # Calculo de la validacion cruzada con RMSE como metrica\n",
    "    scores = cross_val_score(rfr, features_new_train, target_new_train, scoring = rmse_scorer, cv = 5)\n",
    "    estimator_scores.append(scores.mean())\n",
    "    \n",
    "    # Calculo mejor promedio de puntuciones de RMSE y mejor numero de n_estimators\n",
    "    avg_rmse = np.mean(scores)\n",
    "    if avg_rmse < best_rmse:\n",
    "        best_rmse = avg_rmse\n",
    "        best_n_estimators = n_estimators\n",
    "    \n",
    "    # Impresion de resultados para cada n_estimators\n",
    "    print(\"n_estimators:\", n_estimators, \"score:\", scores.mean())\n",
    "\n",
    "best_n_estimators_index = np.argmin(estimator_scores)\n",
    "best_score = estimator_scores[best_n_estimators_index]\n",
    "\n",
    "# Muestra el mejor numero de n_estimators y la mejor puntuacion obtenida de RMSE\n",
    "print('Best n_estimators:', best_n_estimators)\n",
    "print(\"Best score:\", best_score)"
   ]
  },
  {
   "cell_type": "markdown",
   "metadata": {},
   "source": [
    "La puntuacion continua mejorando significativamente, al aumentar el numero de arboles o de n_estimators. Por ello, la primera hipotesis es esta, que la puntuacion sigue mejorando al aumentar el numero de arboles, por lo tanto, para probar este supuesto, se evaluara el rendimiento del modelo con datos de prueba en tres circunstancias de `n_estimators` de 50, 100 y 500."
   ]
  },
  {
   "cell_type": "code",
   "execution_count": null,
   "metadata": {},
   "outputs": [],
   "source": [
    "%%time\n",
    "\n",
    "# Prueba conjunto datos de prueba, n_estimators = 50 \n",
    "rfr = RandomForestRegressor(n_estimators = 50, max_depth = 13, random_state = seed).fit(features_new_train, target_new_train)\n",
    "rfr_pred = rfr.predict(features_new_test)\n",
    "rfr_rmse = rmse(target_new_test, rfr_pred)\n",
    "rfr_rmse"
   ]
  },
  {
   "cell_type": "code",
   "execution_count": null,
   "metadata": {},
   "outputs": [],
   "source": [
    "%%time\n",
    "\n",
    "# Prueba conjunto datos de prueba, n_estimators = 100\n",
    "rfr = RandomForestRegressor(n_estimators = 100, max_depth = 13, random_state = seed).fit(features_new_train, target_new_train)\n",
    "rfr_pred = rfr.predict(features_new_test)\n",
    "rfr_rmse = rmse(target_new_test, rfr_pred)\n",
    "rfr_rmse"
   ]
  },
  {
   "cell_type": "code",
   "execution_count": null,
   "metadata": {},
   "outputs": [],
   "source": [
    "%%time\n",
    "\n",
    "# Prueba conjunto datos de prueba, n_estimators = 500\n",
    "rfr = RandomForestRegressor(n_estimators = 500, max_depth = 13, random_state = seed).fit(features_new_train, target_new_train)\n",
    "rfr_pred = rfr.predict(features_new_test)\n",
    "rfr_rmse = rmse(target_new_test, rfr_pred)\n",
    "rfr_rmse"
   ]
  },
  {
   "cell_type": "markdown",
   "metadata": {},
   "source": [
    "Mientras aumenta la cantidad de arboles, al puntuacion del error disminuye, lo que tambien es notorio, es que el tiempo del proceso aumenta considerablemente, y como se menciona anteriormente, esto al cliente no le gusta.\n",
    "\n",
    "Se observa que la disminucion del puntaje de error es cada vez mas insignificante, contra el elevado aumento de arboles. Para el cliente Rusty Bargain, el tiempo de respuesta es un aspecto importante a considerar en el desarrollo del modelo, por ello, se analiza que la cantidad de 50 arboles (n_estimators = 50), es la mas adecuada, ya que su error es un ligeramente mas alto comparado con el modelo de 500 arboles, funciona significativamente mejor que los modelos anteriores y con un tiempo de respuesta optimo para el cliente. "
   ]
  },
  {
   "cell_type": "markdown",
   "metadata": {},
   "source": [
    "### XGBoost Regressor"
   ]
  },
  {
   "cell_type": "markdown",
   "metadata": {},
   "source": [
    "El modelo a utilizar es de Machine Learning con aumento de gradiente. Primero, igual que en los modelos previos, se ejecuta el modelo sin ajustes de hiperparametros, para luego modificarlos con tecnicas de validacion cruzada empleando RandomizedSearchCV."
   ]
  },
  {
   "cell_type": "code",
   "execution_count": null,
   "metadata": {},
   "outputs": [],
   "source": [
    "%%time\n",
    "\n",
    "# Entrenamiento sin ajuste de hiperparametros\n",
    "xgbr = XGBRegressor()\n",
    "xgbr_scores = cross_val_score(xgbr, features_new_train, target_new_train, scoring = rmse_scorer, cv = 5).mean()\n",
    "xgbr_scores"
   ]
  },
  {
   "cell_type": "markdown",
   "metadata": {},
   "source": [
    "Se ha logrado una puntuacion mejor que la alcanzada con el modelo de Random Forest Regressor con 500 arboles y sin ajuste de hiperparametros.\n",
    "\n",
    "Ahora, se procede con el ajuste de hiperparametros, por lo que es necesario asegurarse de usar la funcion de perrdida y buscar la puntuacion mas pequeña, para ello se necesita agregar el parametro `greater_is_better = False` a la funcion `make_scorer`, con esto el mejor parametro seleccionado no entregara la puntuacion mas alta, sino la mas baja.\n",
    "\n",
    "Se realizaran varias alteraciones a las pruebas.\n",
    "\n",
    "#### Uso de parametros con valores definidos"
   ]
  },
  {
   "cell_type": "code",
   "execution_count": null,
   "metadata": {},
   "outputs": [],
   "source": [
    "%%time\n",
    "\n",
    "# Entrenamiento con ajuste de hiperparametros\n",
    "\n",
    "# Definir el modelo XGBoost Regressor\n",
    "xgb_model = XGBRegressor()\n",
    "\n",
    "# Definir hiperparametros\n",
    "param_distributions = {'max_depth': [5, 10],\n",
    "                       'n_estimators': [25, 50],\n",
    "                       'subsample': [0.5, 1]}\n",
    "\n",
    "# Creacion de calificador, con parametro 'greater_is_better'\n",
    "scorer = make_scorer(rmse, greater_is_better = False)\n",
    "\n",
    "# Definir un objeto RandomizedSearchCV\n",
    "random_search = RandomizedSearchCV(xgb_model, param_distributions = param_distributions,\n",
    "                                   scoring = scorer, n_iter = 10, cv = 5, n_jobs = -1)\n",
    "\n",
    "# Ajustar modelos con datos\n",
    "random_search.fit(features_new_train, target_new_train)\n",
    "\n",
    "# Mostrar los mejores parametros y el RMSE\n",
    "print(\"Best Estimator:\", random_search.best_estimator_)\n",
    "print(\"Best Parameters:\", random_search.best_params_)\n",
    "print(\"Best RMSE:\", -1 * random_search.best_score_)"
   ]
  },
  {
   "cell_type": "markdown",
   "metadata": {},
   "source": [
    "#### Uso de parametros con valores aleatorios"
   ]
  },
  {
   "cell_type": "code",
   "execution_count": null,
   "metadata": {},
   "outputs": [],
   "source": [
    "%%time\n",
    "\n",
    "# Entrenamiento con ajuste de hiperparametros\n",
    "\n",
    "# Definir el modelo XGBoost Regressor\n",
    "xgb_model = XGBRegressor()\n",
    "\n",
    "# Definir hiperparametros\n",
    "param_distributions = {'max_depth': sp_randInt(5, 10),\n",
    "                       'n_estimators': sp_randInt(50,100),\n",
    "                       'learning_rate': sp_randFloat(),\n",
    "                       'subsample': sp_randFloat()}\n",
    "\n",
    "# Creacion de calificador, con parametro 'greater_is_better'\n",
    "scorer = make_scorer(rmse, greater_is_better = False)\n",
    "\n",
    "# Definir un objeto RandomizedSearchCV\n",
    "random_search = RandomizedSearchCV(xgb_model, param_distributions = param_distributions,\n",
    "                                   scoring = scorer, n_iter = 10, cv = 5, n_jobs = -1)\n",
    "\n",
    "# Ajustar modelos con datos\n",
    "random_search.fit(features_new_train, target_new_train)\n",
    "\n",
    "# Mostrar los mejores parametros y el RMSE\n",
    "print(\"Best Estimator:\", random_search.best_estimator_)\n",
    "print(\"Best Parameters:\", random_search.best_params_)\n",
    "print(\"Best RMSE:\", -1 * random_search.best_score_)"
   ]
  },
  {
   "cell_type": "markdown",
   "metadata": {},
   "source": [
    "**Hallazgos**\n",
    "\n",
    "- El ajuste de hiperparametros resulta en una puntuacion de error mas baja, pero el tiempo de entrenamiento del modelo aumenta significativamente.\n",
    "\n",
    "\n",
    "- El `RMSE` obtenido al entrenar con numeros de parametros definidos, bien elegidos, es mejor que al usar numeros aleatorios.\n",
    "\n",
    "\n",
    "- Por lo tanto, proporcionar hiperparametros aleatorios para que la maquina los analice no necesariamente produce mejores resultados en comparacion con elegir parametros informados desde el principio. De hecho, puede aumentar significativamente el tiempo de entrenamiento del modelo.\n",
    "\n",
    "#### Prueba con el conjunto de prueba\n",
    "\n",
    "Se utilizaran todos los hiperparametros obtenidos del entrenamiento con las mejores puntuaciones en el modelo `XGBoost Regressor` para evaluar el conjunto de datos de test."
   ]
  },
  {
   "cell_type": "code",
   "execution_count": null,
   "metadata": {},
   "outputs": [],
   "source": [
    "%%time\n",
    "\n",
    "# Prueba con el conjunto de prueba\n",
    "xgbr = XGBRegressor(base_score=0.5, booster='gbtree', colsample_bylevel=1,\n",
    "             colsample_bynode=1, colsample_bytree=1, enable_categorical=False,\n",
    "             gamma=0, gpu_id=-1, importance_type=None,\n",
    "             interaction_constraints='', learning_rate=0.300000012,\n",
    "             max_delta_step=0, max_depth=10, min_child_weight=1, \n",
    "             monotone_constraints='()', n_estimators=50, n_jobs=4,\n",
    "             num_parallel_tree=1, predictor='auto', random_state=0, reg_alpha=0,\n",
    "             reg_lambda=1, scale_pos_weight=1, subsample=1, tree_method='exact',\n",
    "             validate_parameters=1, verbosity=None).fit(features_new_train, target_new_train)\n",
    "xgbr_pred = xgbr.predict(features_new_test)\n",
    "xgbr_rmse = rmse(target_new_test, xgbr_pred)\n",
    "xgbr_rmse"
   ]
  },
  {
   "cell_type": "markdown",
   "metadata": {},
   "source": [
    "La puntuacion obtenida es cada vez menor, y el tiempo de respuesta del modelo tambien es relativamente corto."
   ]
  },
  {
   "cell_type": "markdown",
   "metadata": {},
   "source": [
    "### LightGBM Regressor"
   ]
  },
  {
   "cell_type": "markdown",
   "metadata": {},
   "source": [
    "Se reitera el mismo proceso para este modelo."
   ]
  },
  {
   "cell_type": "code",
   "execution_count": null,
   "metadata": {},
   "outputs": [],
   "source": [
    "%%time\n",
    "\n",
    "# Entrenamiento sin ajuste de hiperparametros\n",
    "lgbm = LGBMRegressor()\n",
    "lgbm_scores = cross_val_score(lgbm, features_new_train, target_new_train, scoring = rmse_scorer, cv = 5).mean()\n",
    "lgbm_scores"
   ]
  },
  {
   "cell_type": "markdown",
   "metadata": {},
   "source": [
    "El tiempo de ejecucion del modelo es mucho mas rapido que el modelo `XGBoost Regressor` sin ajuste de hiperparametros, pero la puntuación de error no es mejor. El resultado de la prueba sin ajuste de hiperparametros en el `XGBoost Regressor` es 1553.69, pero el tiempo de ejecución es mucho mayor.\n",
    "\n",
    "Ahora, se hara el entrenamiento del modelo con ajuste de hiperparametros."
   ]
  },
  {
   "cell_type": "markdown",
   "metadata": {},
   "source": [
    "#### Uso de parametros con valores definidos"
   ]
  },
  {
   "cell_type": "code",
   "execution_count": null,
   "metadata": {},
   "outputs": [],
   "source": [
    "%%time\n",
    "\n",
    "# Entrenamiento con ajuste de hiperparametros\n",
    "\n",
    "# Definir el modelo LightGBM Regressor\n",
    "lgbm_model = LGBMRegressor()\n",
    "\n",
    "# Definir hiperparametros\n",
    "param_distributions = {'max_depth': [5, 10],\n",
    "                       'n_estimators': [25, 50],\n",
    "                       'subsample': [0.5, 1]}\n",
    "\n",
    "# Creacion de calificador, con parametro 'greater_is_better'\n",
    "scorer = make_scorer(rmse, greater_is_better = False)\n",
    "\n",
    "# Definir un objeto RandomizedSearchCV\n",
    "random_search = RandomizedSearchCV(lgbm_model, param_distributions = param_distributions,\n",
    "                                   scoring = scorer, n_iter = 10, cv = 5, n_jobs = -1)\n",
    "\n",
    "# Ajustar modelos con datos\n",
    "random_search.fit(features_new_train, target_new_train)\n",
    "\n",
    "# Mostrar los mejores parametros y el RMSE\n",
    "print(\"Best Estimator:\", random_search.best_estimator_)\n",
    "print(\"Best Parameters:\", random_search.best_params_)\n",
    "print(\"Best RMSE:\", -1 * random_search.best_score_)"
   ]
  },
  {
   "cell_type": "markdown",
   "metadata": {},
   "source": [
    "#### Uso de parametros con valores aleatorios"
   ]
  },
  {
   "cell_type": "code",
   "execution_count": null,
   "metadata": {},
   "outputs": [],
   "source": [
    "%%time\n",
    "\n",
    "# Entrenamiento con ajuste de hiperparametros\n",
    "\n",
    "# Definir el modelo LightGBM Regressor\n",
    "lgbm_model = LGBMRegressor()\n",
    "\n",
    "# Definir hiperparametros\n",
    "param_distributions = {'max_depth': sp_randInt(5, 10),\n",
    "                       'n_estimators': sp_randInt(50,100),\n",
    "                       'learning_rate': sp_randFloat(),\n",
    "                       'subsample': sp_randFloat()}\n",
    "\n",
    "# Creacion de calificador, con parametro 'greater_is_better'\n",
    "scorer = make_scorer(rmse, greater_is_better = False)\n",
    "\n",
    "# Definir un objeto RandomizedSearchCV\n",
    "random_search = RandomizedSearchCV(lgbm_model, param_distributions = param_distributions,\n",
    "                                   scoring = scorer, n_iter = 10, cv = 5, n_jobs = -1)\n",
    "\n",
    "# Ajustar modelos con datos\n",
    "random_search.fit(features_new_train, target_new_train)\n",
    "\n",
    "# Mostrar los mejores parametros y el RMSE\n",
    "print(\"Best Estimator:\", random_search.best_estimator_)\n",
    "print(\"Best Parameters:\", random_search.best_params_)\n",
    "print(\"Best RMSE:\", -1 * random_search.best_score_)"
   ]
  },
  {
   "cell_type": "markdown",
   "metadata": {},
   "source": [
    "**Hallazgos**\n",
    "\n",
    "- Tanto el modelo `XGBoost Regressor` como el modelo `LightGBM Regressor`, fueron entrenados con el mismo tratamiento.\n",
    "\n",
    "\n",
    "- El modelo `XGBoost Regressor` tiene una mejor puntuacion de error, en comparacion con el modelo `LightGBM Regressor`.\n",
    "\n",
    "\n",
    "- Sin embargo, el tiempo de entrenamiento y el proceso de seleccion de hiperparametros para el modelo `XGBoost Regressor` son mucho mas largos, que para el modelo `LightGBM Regressor`.\n",
    "\n",
    "\n",
    "- En el proceso de seleccion de hiperparametros del `LightGBM Regressor`, los resultados son mejores cuando los valores de los parametros se asignan aleatoriamente, a diferencia del `XGBoost Regressor`.\n",
    "\n",
    "\n",
    "- A pesar de tener una mejor puntuacion de error, el `LightGBM Regressor` supera al `XGBoost Regressor` en terminos de tiempo de ejecucion. Esto indica que podemos permitirnos probar mas combinaciones de hiperparametros en el `LightGBM Regressor` sin consumir demasiado tiempo. Es posible que la puntuacion de error del `LightGBM Regressor` pueda mejorarse significativamente explorando mas combinaciones de hiperparametros."
   ]
  },
  {
   "cell_type": "markdown",
   "metadata": {},
   "source": [
    "#### Prueba con el conjunto de prueba"
   ]
  },
  {
   "cell_type": "code",
   "execution_count": null,
   "metadata": {},
   "outputs": [],
   "source": [
    "%%time\n",
    "\n",
    "# Prueba con el conjunto de prueba\n",
    "lgbmr = LGBMRegressor(learning_rate=0.33082012267946914, max_depth=7, n_estimators=91,\n",
    "              subsample=0.7630499399086512).fit(features_new_train, target_new_train)\n",
    "lgbmr_pred = lgbmr.predict(features_new_test)\n",
    "lgbmr_rmse = rmse(target_new_test, lgbmr_pred)\n",
    "lgbmr_rmse"
   ]
  },
  {
   "cell_type": "markdown",
   "metadata": {},
   "source": [
    "**Hallazgos**\n",
    "\n",
    "- El modelo `LightGBM Regressor` demuestra un tiempo de respuesta excepcionalmente rapido, comparado con el `XGBoost Regressor`.\n",
    "\n",
    "\n",
    "- La puntuación de error obtenida por el `LightGBM Regressor` es significativamente mejor que la de los modelos base (`Linear Regression`), `Decision Tree Regressor` y `Random Forest Regressor`.\n",
    "\n",
    "\n",
    "- Sin embargo, la puntuacion de error del `LightGBM Regressor` sigue siendo ligeramente inferior a la del modelo `XGBoost Regressor`, que sigue siendo el modelo con mejor rendimiento en esta comparacion. A pesar de esto, la combinacion del `LightGBM Regressor` de un tiempo de ejecucion mas rapido y una baja puntuación de error lo convierte en un candidato prometedor para su implementación practica, especialmente cuando las predicciones en tiempo real y la velocidad son consideraciones clave."
   ]
  },
  {
   "cell_type": "markdown",
   "metadata": {},
   "source": [
    "### CatBoost Regressor"
   ]
  },
  {
   "cell_type": "markdown",
   "metadata": {},
   "source": [
    "Ahora es el momento de proceder con el ultimo modelo con potenciacion del gradiente, `CatBoost Regressor`. A diferencia de los dos modelos anteriores, este puede manejar caracteristicas categoricas sin la necesidad de especificar explicitamente la variable `cat_features`.\n",
    "\n",
    "Conjuntos de datos:\n",
    "\n",
    "- `features_train`\n",
    "\n",
    "- `features_test`\n",
    "\n",
    "- `target_train`\n",
    "\n",
    "- `target_test`\n",
    "\n",
    "Caracteristicas Categoricas:\n",
    "\n",
    "- `vehicle_type`\n",
    "\n",
    "- `gearbox`\n",
    "\n",
    "- `model`\n",
    "\n",
    "- `fuel_type`\n",
    "\n",
    "- `brand`\n",
    "\n",
    "- `not_repaired`\n",
    "\n",
    "- `price_group`"
   ]
  },
  {
   "cell_type": "code",
   "execution_count": null,
   "metadata": {},
   "outputs": [],
   "source": [
    "%%time\n",
    "\n",
    "# Entrenamiento sin ajuste de hiperparametros\n",
    "cat_features = ['vehicle_type', 'gearbox', 'model', 'fuel_type', 'brand', 'not_repaired', 'price_group']\n",
    "cat_model = CatBoostRegressor(cat_features = cat_features, verbose = 100)\n",
    "cat_scores = cross_val_score(cat_model, features_train, target_train, scoring = rmse_scorer, cv = 5).mean()\n",
    "cat_scores"
   ]
  },
  {
   "cell_type": "markdown",
   "metadata": {},
   "source": [
    "**Hallazgos**\n",
    "\n",
    "- El modelo `CatBoost Regressor` logra puntuaciones significativamente mejoradas, incluso sin ajuste de hiperparametros, superando a los modelos anteriores.\n",
    "\n",
    "\n",
    "- Sin embargo, el tiempo de entrenamiento del modelo `CatBoost Regressor` es considerablemente más largo que el de otros modelos sin ajuste de hiperparametros.\n",
    "\n",
    "\n",
    "- A pesar del mayor tiempo de entrenamiento, el modelo `CatBoost Regressor` demuestra un rendimiento excepcional en terminos de puntuacion de error, lo que lo convierte en una eleccion convincente cuando la precision de las predicciones es la maxima prioridad y se puede tolerar un tiempo de entrenamiento mas prolongado.\n",
    "\n",
    "\n",
    "Ahora entrenaremos el modelo con ajuste de hiperparametros."
   ]
  },
  {
   "cell_type": "markdown",
   "metadata": {},
   "source": [
    "#### Uso de parametros con valores definidos"
   ]
  },
  {
   "cell_type": "code",
   "execution_count": null,
   "metadata": {},
   "outputs": [],
   "source": [
    "%%time\n",
    "\n",
    "# Entrenamiento cion ajuste de hiperparametros\n",
    "# Definir el modelo CatBoost Regressor\n",
    "cbr_model = CatBoostRegressor(verbose=500)\n",
    "\n",
    "# Definir hiperparametros\n",
    "param_distributions = {'max_depth': [5, 10],\n",
    "                       'n_estimators': [25, 50],\n",
    "                       'subsample': [0.5, 1]}\n",
    "\n",
    "# Lista de caracteristicas categoricas\n",
    "cat_feat = ['vehicle_type', 'gearbox', 'model', 'fuel_type', 'brand', 'not_repaired', 'price_group']\n",
    "\n",
    "# Creacion de calificador, con parametro 'greater_is_better'\n",
    "scorer = make_scorer(rmse, greater_is_better = False)\n",
    "\n",
    "# Definir un objeto RandomizedSearchCV\n",
    "random_search = RandomizedSearchCV(cbr_model, param_distributions = param_distributions,\n",
    "                                   scoring = scorer, n_iter = 10, cv = 5, n_jobs = -1)\n",
    "\n",
    "# Ajustar modelo con datos\n",
    "random_search.fit(features_train, target_train, cat_features = cat_feat)\n",
    "\n",
    "# Mostrar los mejores parametros y el RMSE\n",
    "print(\"Best Estimator:\", random_search.best_estimator_)\n",
    "print(\"Best Parameters:\", random_search.best_params_)\n",
    "print(\"Best RMSE:\", -1 * random_search.best_score_)"
   ]
  },
  {
   "cell_type": "markdown",
   "metadata": {},
   "source": [
    "#### Uso de parametros con valores aleatorios"
   ]
  },
  {
   "cell_type": "code",
   "execution_count": null,
   "metadata": {},
   "outputs": [],
   "source": [
    "%%time\n",
    "\n",
    "# Entrenamiento cion ajuste de hiperparametros\n",
    "# Definir el modelo CatBoost Regressor\n",
    "cbr_model = CatBoostRegressor(verbose = 500)\n",
    "\n",
    "# Definir hiperparametros\n",
    "param_distributions = {'max_depth'    : sp_randInt(5, 10),\n",
    "                       'n_estimators' : sp_randInt(50, 100),\n",
    "                       'learning_rate': sp_randFloat(),\n",
    "                       'subsample'    : sp_randFloat()}\n",
    "\n",
    "# Lista de caracteristicas categoricas\n",
    "cat_feat = ['vehicle_type', 'gearbox', 'model', 'fuel_type', 'brand', 'not_repaired', 'price_group']\n",
    "\n",
    "# Creacion de calificador, con parametro 'greater_is_better'\n",
    "scorer = make_scorer(rmse, greater_is_better = False)\n",
    "\n",
    "# Definir un objeto RandomizedSearchCV\n",
    "random_search = RandomizedSearchCV(cbr_model, param_distributions = param_distributions,\n",
    "                                   scoring = scorer, n_iter = 10, cv = 5, n_jobs = -1)\n",
    "\n",
    "# Ajustar modelo con datos\n",
    "random_search.fit(features_train, target_train, cat_features = cat_feat)\n",
    "\n",
    "# Mostrar los mejores parametros y el RMSE\n",
    "print(\"Best Estimator:\", random_search.best_estimator_)\n",
    "print(\"Best Parameters:\", random_search.best_params_)\n",
    "print(\"Best RMSE:\", -1 * random_search.best_score_)"
   ]
  },
  {
   "cell_type": "markdown",
   "metadata": {},
   "source": [
    "#### Prueba con el conjunto de prueba"
   ]
  },
  {
   "cell_type": "code",
   "execution_count": null,
   "metadata": {},
   "outputs": [],
   "source": [
    "%%time\n",
    "\n",
    "# Prueba con el conjunto de prueba sin ajuste de hiperparametros\n",
    "cat_features = ['vehicle_type', 'gearbox', 'model', 'fuel_type', 'brand', 'not_repaired', 'price_group']\n",
    "cbr = CatBoostRegressor(subsample=1, n_estimators=50,max_depth=10).fit(features_train, target_train, cat_features = cat_features, verbose = 10)\n",
    "\n",
    "cbr_pred = cbr.predict(features_test)\n",
    "cbr_rmse = rmse(target_test, cbr_pred)\n",
    "cbr_rmse"
   ]
  },
  {
   "cell_type": "markdown",
   "metadata": {},
   "source": [
    "El modelo sin ajuste de hiperparámetros obtuvo una puntuacion ligeramente mejor, pero el tiempo de prueba fue significativamente mas largo.\n",
    "\n",
    "`CatBoost Regressor` no es tan rapido como `LightGBM Regressor`, que puede generar resultados en menos de 5 segundos. Sin embargo, `CatBoost Regressor` logra la puntuacion de error mas baja entre todos los modelos probados. Ademas, su proceso de entrenamiento es mas rapido que el de `XGBoost Regressor`, lo que lo convierte en una alternativa favorable considerando el equilibrio entre velocidad y precision."
   ]
  },
  {
   "cell_type": "code",
   "execution_count": null,
   "metadata": {},
   "outputs": [],
   "source": []
  },
  {
   "cell_type": "markdown",
   "metadata": {},
   "source": [
    "<div class=\"alert alert-block alert-success\">\n",
    "\n",
    "<b>Comentario del revisor</b> <a class=\"tocSkip\"></a><br>\n",
    "\n",
    "<b>Éxito</b> - ¡Tu análisis de entrenamiento de modelos es excepcionalmente detallado y bien estructurado! Se nota que has pensado cada paso con mucha precisión y has realizado una comparación exhaustiva de los distintos enfoques de modelado.  \n",
    "\n",
    "📌 **Lo que hiciste bien:**  \n",
    "✅ **Definición clara de criterios de evaluación:** Desde el inicio, estableces criterios fundamentales como la precisión (RMSE), la velocidad de predicción y el tiempo de entrenamiento, alineándolos con las necesidades del cliente. Esto demuestra una comprensión aplicada de la selección de modelos en escenarios reales.  \n",
    "\n",
    "✅ **Uso adecuado de validación cruzada:** Al no contar con un conjunto de validación independiente, empleaste `cross_val_score`, lo cual es una excelente práctica para asegurar que los resultados sean más robustos y evitar el sobreajuste.  \n",
    "\n",
    "✅ **Elección lógica del modelo referencial:** Utilizar la regresión lineal como punto de referencia es una gran decisión, ya que permite medir la mejora de los modelos más complejos en términos de reducción del RMSE. Además, la justificación sobre la necesidad de modelos más avanzados está bien argumentada.  \n",
    "\n",
    "✅ **Optimización de hiperparámetros bien ejecutada:** Me gustó mucho cómo realizaste la búsqueda de la mejor profundidad para `DecisionTreeRegressor`, el ajuste progresivo de `RandomForestRegressor` y el uso de `RandomizedSearchCV` en `XGBoost` y `CatBoost`. En cada caso, explicas claramente el impacto de los hiperparámetros en el rendimiento del modelo, lo que demuestra un entendimiento profundo de cómo optimizar modelos complejos.  \n",
    "\n",
    "✅ **Análisis crítico del trade-off entre precisión y tiempo:** Algo que destaca en tu trabajo es que no solo te enfocas en minimizar el RMSE, sino que consideras el impacto en el tiempo de entrenamiento y predicción. Esto es clave para modelos en producción, y la forma en que justificaste la elección de `CatBoost Regressor` como la mejor opción es un gran acierto.  \n",
    "\n",
    "📌 **Pequeñas oportunidades de mejora:**  \n",
    "\n",
    "⚠️ **Evaluación con conjuntos de prueba:** Aunque los modelos se comparan bien con validación cruzada, podrías reforzar los análisis visualizando distribuciones de errores o residuales en los conjuntos de prueba. Esto podría ayudar a entender mejor las diferencias entre los modelos.  \n",
    "\n",
    "En general, ¡es un trabajo excelente! 🚀 Se nota el esfuerzo y la atención al detalle en cada paso del proceso. Sigue así, que tienes un gran nivel de análisis y argumentación en machine learning. 💪😃  \n",
    "\n",
    "</div>"
   ]
  },
  {
   "cell_type": "markdown",
   "metadata": {},
   "source": [
    "## Análisis del modelo"
   ]
  },
  {
   "cell_type": "markdown",
   "metadata": {},
   "source": [
    "Se han modelado varios tipos de algoritmos de aprendizaje automatico. Basandose en los resultados, `CatBoost Regressor` con el ajuste de hiperparametros obtuvo la puntuacion de `RMSE` mas baja y un tiempo de entrenamiento razonable, lo que lo convierte en la mejor alternativa para las necesidades de Rusty Bargain.\n",
    "\n",
    "A continuacion, se presenta un resumen de los resultados, incluyendo el tiempo de entrenamiento de los modelos sin ajuste de hiperparametros, el tiempo con datos de prueba, ambos medidos con wall time, y el `RMSE`:"
   ]
  },
  {
   "cell_type": "code",
   "execution_count": null,
   "metadata": {},
   "outputs": [],
   "source": [
    "# Creando resumen del desempeño de los modelos\n",
    "\n",
    "summary = pd.DataFrame(data = {'Modelo' : ['Linear Regression', 'Decision Tree Regressor', 'Random Forest Regressor', 'XGBoost Regressor', 'LightGBM Regressor', 'CatBoost Regressor'],\n",
    "                               'Tiempo_Entrenamiento' : ['1.08 s', '2.49 s', '2 min 30 s', '2 min 4 s', '10 s', '14 min 26 s'],\n",
    "                               'Tiempo_Prueba' : ['200 ms', '431 ms', '13.9 s', '30 s', '2.1 s', '7.87 s'],\n",
    "                               'RMSE' : [2597.50, 1667.48, 1581.63, 1524.90, 1572.89, 976.15]}).set_index('Modelo')\n",
    "display(summary)"
   ]
  },
  {
   "cell_type": "markdown",
   "metadata": {},
   "source": [
    "**Conclusion**\n",
    "\n",
    "En resumen, el analisis de varios modelos de aprendizaje automatico para la prediccion de precios de autos usados revela los siguientes hallazgos:\n",
    "\n",
    "- Modelos simples como `Linear Regression` y `Decision Tree Regressor` tienen tiempos de entrenamiento y prueba rapidos, pero generan puntuaciones de error muy elevadas.\n",
    "\n",
    "\n",
    "- Modelos mas complejos, como `Random Forest Regressor`, entrega puntuaciones de error mas bajas, pero con tiempos de entrenamiento significativamente mas prolongados.\n",
    "\n",
    "\n",
    "- Los modelos que tienen potenciacion del gradiente, superan en general a los modelos tradicionales, en terminos de precision en las predicciones.\n",
    "\n",
    "\n",
    "- Entre los modelos que tienen potenciacion del gradiente, `LightGBM Regressor` se destaca por su rapidez en el entrenamiento y prueba. Sin embargo, su puntuacion de error es ligeramente mayor en comparacion con los otros modelos.\n",
    "\n",
    "\n",
    "- `CatBoost Regressor` muestra el mejor rendimiento general con la puntuacion de error mas baja. Aunque su tiempo de entrenamiento es mas largo, su precision excepcional en las predicciones lo convierte en la opcion ideal para las necesidades del cliente.\n",
    "\n",
    "Teniendo en cuenta las prioridades de Rusty Bargain en cuanto a calidad de prediccion, velocidad de prediccion y tiempo de entrenamiento del modelo, `CatBoost Regressor` es la opcion mas adecuada para determinar con precision el valor de mercado de los autos usados y atraer nuevos compradores a su plataforma."
   ]
  },
  {
   "cell_type": "markdown",
   "metadata": {},
   "source": [
    "# Comentario General del Revisor\n",
    "\n",
    "<div class=\"alert alert-block alert-success\">\n",
    "\n",
    "<b>Comentario del revisor</b> <a class=\"tocSkip\"></a>\n",
    "\n",
    "¡Felicidades! Tu proyecto está **muy bien estructurado** y demuestra un sólido entendimiento de la reducción de datos, la preparación de conjuntos de datos y la evaluación de modelos de machine learning. A continuación, destaco los puntos positivos y algunas áreas de mejora para futuros proyectos.\n",
    "\n",
    "#### Puntos Positivos:\n",
    "\n",
    "✅ **Reducción eficiente del dataset:** Se implementa correctamente la optimización de los tipos de datos para mejorar la eficiencia del procesamiento.\n",
    "\n",
    "✅ **Preparación de los datasets:** Excelente enfoque al manejar tanto variables categóricas como numéricas, asegurando compatibilidad con distintos modelos.\n",
    "\n",
    "✅ **Evaluación completa de modelos:** Se ha realizado un análisis exhaustivo de distintos modelos, comparando métricas de desempeño y tiempos de ejecución de manera clara y organizada.\n",
    "\n",
    "✅ **Técnicas avanzadas de modelado:** La aplicación de RandomizedSearchCV para la optimización de hiperparámetros es un buen ejemplo de buenas prácticas en machine learning.\n",
    "\n",
    "✅ **Análisis final bien estructurado:** La comparación de modelos está respaldada por datos claros, lo que facilita la toma de decisiones.\n",
    "\n",
    "#### Áreas de Mejora:\n",
    "\n",
    "\n",
    "⚠️ **Manejo de características categóricas en CatBoost:**  \n",
    "Si bien `CatBoost Regressor` maneja variables categóricas de manera nativa, podrías analizar si hay algún impacto en el rendimiento al preprocesarlas antes de pasarlas al modelo.\n",
    "\n",
    "⚠️ **Optimización de la búsqueda de hiperparámetros:**  \n",
    "El uso de `RandomizedSearchCV` es una excelente elección, pero en algunos casos `Bayesian Optimization` puede ser más eficiente. Podrías investigar herramientas como `Optuna` o `Hyperopt` para futuras optimizaciones.\n",
    "\n",
    "⚠️ **Documentación del código:**  \n",
    "Tu código es muy claro, pero podrías agregar comentarios en algunas partes clave para facilitar la comprensión de los pasos específicos.\n",
    "\n",
    "---\n",
    "\n",
    "En general, ¡has hecho un trabajo excelente! 🚀 Sigue explorando técnicas de optimización y sigue perfeccionando la eficiencia de tus modelos. ¡Muy bien hecho! 💪😃\n",
    "\n",
    "</div>"
   ]
  },
  {
   "cell_type": "markdown",
   "metadata": {},
   "source": [
    "# Lista de control"
   ]
  },
  {
   "cell_type": "markdown",
   "metadata": {},
   "source": [
    "Escribe 'x' para verificar. Luego presiona Shift+Enter"
   ]
  },
  {
   "cell_type": "markdown",
   "metadata": {},
   "source": [
    "- [x]  Jupyter Notebook está abierto\n",
    "- [ ]  El código no tiene errores- [ ]  Las celdas con el código han sido colocadas en orden de ejecución- [ ]  Los datos han sido descargados y preparados- [ ]  Los modelos han sido entrenados\n",
    "- [ ]  Se realizó el análisis de velocidad y calidad de los modelos"
   ]
  }
 ],
 "metadata": {
  "ExecuteTimeLog": [
   {
    "duration": 3,
    "start_time": "2025-02-24T21:04:04.005Z"
   },
   {
    "duration": 2,
    "start_time": "2025-02-25T13:49:40.499Z"
   },
   {
    "duration": 2550,
    "start_time": "2025-02-25T14:09:33.757Z"
   },
   {
    "duration": 175,
    "start_time": "2025-02-25T14:09:46.072Z"
   },
   {
    "duration": 435,
    "start_time": "2025-02-25T14:12:29.555Z"
   },
   {
    "duration": 401,
    "start_time": "2025-02-25T14:17:22.234Z"
   },
   {
    "duration": 21,
    "start_time": "2025-02-25T14:17:33.811Z"
   },
   {
    "duration": 17,
    "start_time": "2025-02-25T14:20:29.018Z"
   },
   {
    "duration": 4,
    "start_time": "2025-02-25T14:26:03.586Z"
   },
   {
    "duration": 4,
    "start_time": "2025-02-25T14:26:22.292Z"
   },
   {
    "duration": 25,
    "start_time": "2025-02-25T14:48:50.267Z"
   },
   {
    "duration": 5,
    "start_time": "2025-02-25T16:17:40.674Z"
   },
   {
    "duration": 3,
    "start_time": "2025-02-25T16:18:05.274Z"
   },
   {
    "duration": 3,
    "start_time": "2025-02-25T16:18:08.464Z"
   },
   {
    "duration": 17,
    "start_time": "2025-02-25T16:18:11.951Z"
   },
   {
    "duration": 6,
    "start_time": "2025-02-25T17:52:23.915Z"
   },
   {
    "duration": 198,
    "start_time": "2025-02-25T17:52:37.187Z"
   },
   {
    "duration": 6,
    "start_time": "2025-02-25T17:53:50.132Z"
   },
   {
    "duration": 12,
    "start_time": "2025-02-25T17:54:03.406Z"
   },
   {
    "duration": 166,
    "start_time": "2025-02-25T17:54:11.180Z"
   },
   {
    "duration": 5,
    "start_time": "2025-02-25T17:54:36.295Z"
   },
   {
    "duration": 178,
    "start_time": "2025-02-25T17:54:46.958Z"
   },
   {
    "duration": 5,
    "start_time": "2025-02-25T17:55:00.398Z"
   },
   {
    "duration": 168,
    "start_time": "2025-02-25T17:55:03.713Z"
   },
   {
    "duration": 5,
    "start_time": "2025-02-25T17:55:14.584Z"
   },
   {
    "duration": 168,
    "start_time": "2025-02-25T17:55:18.568Z"
   },
   {
    "duration": 5,
    "start_time": "2025-02-25T17:55:40.655Z"
   },
   {
    "duration": 175,
    "start_time": "2025-02-25T17:55:45.087Z"
   },
   {
    "duration": 5,
    "start_time": "2025-02-25T17:56:17.373Z"
   },
   {
    "duration": 164,
    "start_time": "2025-02-25T17:56:21.030Z"
   },
   {
    "duration": 5,
    "start_time": "2025-02-25T17:57:56.212Z"
   },
   {
    "duration": 166,
    "start_time": "2025-02-25T17:58:00.023Z"
   },
   {
    "duration": 5,
    "start_time": "2025-02-25T17:58:20.855Z"
   },
   {
    "duration": 5,
    "start_time": "2025-02-25T18:02:06.432Z"
   },
   {
    "duration": 444,
    "start_time": "2025-02-25T18:02:09.878Z"
   },
   {
    "duration": 17,
    "start_time": "2025-02-25T18:02:26.982Z"
   },
   {
    "duration": 428,
    "start_time": "2025-02-25T18:02:32.368Z"
   },
   {
    "duration": 5,
    "start_time": "2025-02-25T18:03:06.031Z"
   },
   {
    "duration": 434,
    "start_time": "2025-02-25T18:03:09.367Z"
   },
   {
    "duration": 6,
    "start_time": "2025-02-25T18:03:24.610Z"
   },
   {
    "duration": 432,
    "start_time": "2025-02-25T18:03:28.219Z"
   },
   {
    "duration": 5,
    "start_time": "2025-02-25T18:04:01.020Z"
   },
   {
    "duration": 423,
    "start_time": "2025-02-25T18:04:05.489Z"
   },
   {
    "duration": 9,
    "start_time": "2025-02-25T18:04:51.799Z"
   },
   {
    "duration": 430,
    "start_time": "2025-02-25T18:04:55.055Z"
   },
   {
    "duration": 5,
    "start_time": "2025-02-25T18:08:34.231Z"
   },
   {
    "duration": 422,
    "start_time": "2025-02-25T18:08:39.233Z"
   },
   {
    "duration": 5,
    "start_time": "2025-02-25T18:08:50.621Z"
   },
   {
    "duration": 443,
    "start_time": "2025-02-25T18:08:54.563Z"
   },
   {
    "duration": 6,
    "start_time": "2025-02-25T18:09:07.190Z"
   },
   {
    "duration": 363,
    "start_time": "2025-02-25T18:09:08.892Z"
   },
   {
    "duration": 441,
    "start_time": "2025-02-25T18:09:09.575Z"
   },
   {
    "duration": 168,
    "start_time": "2025-02-25T19:11:24.481Z"
   },
   {
    "duration": 2842,
    "start_time": "2025-02-25T19:11:35.305Z"
   },
   {
    "duration": 5,
    "start_time": "2025-02-25T19:11:38.149Z"
   },
   {
    "duration": 469,
    "start_time": "2025-02-25T19:11:38.155Z"
   },
   {
    "duration": 457,
    "start_time": "2025-02-25T19:11:38.626Z"
   },
   {
    "duration": 3,
    "start_time": "2025-02-25T19:11:39.086Z"
   },
   {
    "duration": 18,
    "start_time": "2025-02-25T19:11:43.018Z"
   },
   {
    "duration": 500,
    "start_time": "2025-02-25T19:16:51.847Z"
   },
   {
    "duration": 130,
    "start_time": "2025-02-25T19:17:10.628Z"
   },
   {
    "duration": 129,
    "start_time": "2025-02-25T19:19:03.169Z"
   },
   {
    "duration": 129,
    "start_time": "2025-02-25T19:19:16.532Z"
   },
   {
    "duration": 3,
    "start_time": "2025-02-25T19:33:57.357Z"
   },
   {
    "duration": 138,
    "start_time": "2025-02-25T19:34:15.286Z"
   },
   {
    "duration": 131,
    "start_time": "2025-02-25T19:34:52.908Z"
   },
   {
    "duration": 35,
    "start_time": "2025-02-25T19:38:43.003Z"
   },
   {
    "duration": 18,
    "start_time": "2025-02-25T20:58:00.111Z"
   },
   {
    "duration": 28,
    "start_time": "2025-02-25T21:17:32.192Z"
   },
   {
    "duration": 371,
    "start_time": "2025-02-25T21:17:49.517Z"
   },
   {
    "duration": 5,
    "start_time": "2025-02-25T21:18:09.178Z"
   },
   {
    "duration": 7,
    "start_time": "2025-02-25T21:18:09.185Z"
   },
   {
    "duration": 429,
    "start_time": "2025-02-25T21:18:09.194Z"
   },
   {
    "duration": 18,
    "start_time": "2025-02-25T21:18:09.626Z"
   },
   {
    "duration": 483,
    "start_time": "2025-02-25T21:18:09.646Z"
   },
   {
    "duration": 47,
    "start_time": "2025-02-25T21:18:10.131Z"
   },
   {
    "duration": 0,
    "start_time": "2025-02-25T21:18:10.180Z"
   },
   {
    "duration": 1,
    "start_time": "2025-02-25T21:18:10.180Z"
   },
   {
    "duration": 4,
    "start_time": "2025-02-25T21:18:23.669Z"
   },
   {
    "duration": 5,
    "start_time": "2025-02-25T21:18:23.675Z"
   },
   {
    "duration": 385,
    "start_time": "2025-02-25T21:18:23.681Z"
   },
   {
    "duration": 17,
    "start_time": "2025-02-25T21:18:24.068Z"
   },
   {
    "duration": 476,
    "start_time": "2025-02-25T21:18:24.087Z"
   },
   {
    "duration": 48,
    "start_time": "2025-02-25T21:18:24.564Z"
   },
   {
    "duration": 0,
    "start_time": "2025-02-25T21:18:24.614Z"
   },
   {
    "duration": 0,
    "start_time": "2025-02-25T21:18:24.615Z"
   },
   {
    "duration": 44,
    "start_time": "2025-02-25T21:19:05.840Z"
   },
   {
    "duration": 367,
    "start_time": "2025-02-25T21:19:26.777Z"
   },
   {
    "duration": 18,
    "start_time": "2025-02-25T21:19:27.362Z"
   },
   {
    "duration": 450,
    "start_time": "2025-02-25T21:19:29.925Z"
   },
   {
    "duration": 55,
    "start_time": "2025-02-25T21:19:33.904Z"
   },
   {
    "duration": 126,
    "start_time": "2025-02-25T21:19:56.462Z"
   },
   {
    "duration": 54,
    "start_time": "2025-02-25T21:19:59.898Z"
   },
   {
    "duration": 33,
    "start_time": "2025-02-25T21:20:12.848Z"
   },
   {
    "duration": 4,
    "start_time": "2025-02-25T21:20:23.109Z"
   },
   {
    "duration": 5,
    "start_time": "2025-02-25T21:20:23.115Z"
   },
   {
    "duration": 383,
    "start_time": "2025-02-25T21:20:23.122Z"
   },
   {
    "duration": 23,
    "start_time": "2025-02-25T21:20:23.508Z"
   },
   {
    "duration": 454,
    "start_time": "2025-02-25T21:20:23.533Z"
   },
   {
    "duration": 137,
    "start_time": "2025-02-25T21:20:23.988Z"
   },
   {
    "duration": 41,
    "start_time": "2025-02-25T21:20:24.127Z"
   },
   {
    "duration": 3,
    "start_time": "2025-02-25T21:20:24.169Z"
   },
   {
    "duration": 27,
    "start_time": "2025-02-25T21:20:26.572Z"
   },
   {
    "duration": 37,
    "start_time": "2025-02-25T21:24:33.750Z"
   },
   {
    "duration": 4,
    "start_time": "2025-02-25T21:24:40.503Z"
   },
   {
    "duration": 5,
    "start_time": "2025-02-25T21:24:40.510Z"
   },
   {
    "duration": 378,
    "start_time": "2025-02-25T21:24:40.517Z"
   },
   {
    "duration": 22,
    "start_time": "2025-02-25T21:24:40.897Z"
   },
   {
    "duration": 480,
    "start_time": "2025-02-25T21:24:40.921Z"
   },
   {
    "duration": 139,
    "start_time": "2025-02-25T21:24:41.402Z"
   },
   {
    "duration": 35,
    "start_time": "2025-02-25T21:24:41.543Z"
   },
   {
    "duration": 3,
    "start_time": "2025-02-25T21:24:41.581Z"
   },
   {
    "duration": 35,
    "start_time": "2025-02-25T21:24:56.590Z"
   },
   {
    "duration": 160,
    "start_time": "2025-02-25T21:27:27.218Z"
   },
   {
    "duration": 159,
    "start_time": "2025-02-25T21:27:44.130Z"
   },
   {
    "duration": 157,
    "start_time": "2025-02-25T21:28:02.509Z"
   },
   {
    "duration": 14,
    "start_time": "2025-02-25T21:42:17.621Z"
   },
   {
    "duration": 335,
    "start_time": "2025-02-25T21:45:07.270Z"
   },
   {
    "duration": 5,
    "start_time": "2025-02-25T21:45:14.633Z"
   },
   {
    "duration": 88,
    "start_time": "2025-02-25T21:45:35.705Z"
   },
   {
    "duration": 3,
    "start_time": "2025-02-25T21:45:47.080Z"
   },
   {
    "duration": 8,
    "start_time": "2025-02-25T21:47:19.148Z"
   },
   {
    "duration": 8,
    "start_time": "2025-02-25T21:47:46.036Z"
   },
   {
    "duration": 8,
    "start_time": "2025-02-25T21:47:58.396Z"
   },
   {
    "duration": 8,
    "start_time": "2025-02-25T21:48:03.996Z"
   },
   {
    "duration": 36,
    "start_time": "2025-02-25T21:52:49.320Z"
   },
   {
    "duration": 4,
    "start_time": "2025-02-25T21:59:00.641Z"
   },
   {
    "duration": 179,
    "start_time": "2025-02-25T22:00:23.531Z"
   },
   {
    "duration": 78,
    "start_time": "2025-02-25T22:00:44.880Z"
   },
   {
    "duration": 7,
    "start_time": "2025-02-25T22:00:54.788Z"
   },
   {
    "duration": 7,
    "start_time": "2025-02-25T22:01:13.096Z"
   },
   {
    "duration": 255,
    "start_time": "2025-02-25T22:02:12.646Z"
   },
   {
    "duration": 8,
    "start_time": "2025-02-25T22:02:29.055Z"
   },
   {
    "duration": 126,
    "start_time": "2025-02-25T22:03:22.353Z"
   },
   {
    "duration": 24,
    "start_time": "2025-02-25T22:11:38.175Z"
   },
   {
    "duration": 2,
    "start_time": "2025-02-25T22:17:08.266Z"
   },
   {
    "duration": 3,
    "start_time": "2025-02-25T22:17:25.602Z"
   },
   {
    "duration": 6,
    "start_time": "2025-02-25T22:17:54.214Z"
   },
   {
    "duration": 9,
    "start_time": "2025-02-25T22:22:10.193Z"
   },
   {
    "duration": 164,
    "start_time": "2025-02-26T15:38:12.618Z"
   },
   {
    "duration": 2829,
    "start_time": "2025-02-26T15:38:21.395Z"
   },
   {
    "duration": 5,
    "start_time": "2025-02-26T15:38:24.226Z"
   },
   {
    "duration": 474,
    "start_time": "2025-02-26T15:38:24.233Z"
   },
   {
    "duration": 20,
    "start_time": "2025-02-26T15:38:24.709Z"
   },
   {
    "duration": 480,
    "start_time": "2025-02-26T15:38:24.731Z"
   },
   {
    "duration": 134,
    "start_time": "2025-02-26T15:38:25.213Z"
   },
   {
    "duration": 44,
    "start_time": "2025-02-26T15:38:25.348Z"
   },
   {
    "duration": 4,
    "start_time": "2025-02-26T15:38:25.395Z"
   },
   {
    "duration": 40,
    "start_time": "2025-02-26T15:38:25.401Z"
   },
   {
    "duration": 187,
    "start_time": "2025-02-26T15:38:25.443Z"
   },
   {
    "duration": 15,
    "start_time": "2025-02-26T15:38:25.631Z"
   },
   {
    "duration": 9,
    "start_time": "2025-02-26T15:38:25.648Z"
   },
   {
    "duration": 39,
    "start_time": "2025-02-26T15:38:25.671Z"
   },
   {
    "duration": 4,
    "start_time": "2025-02-26T15:38:25.713Z"
   },
   {
    "duration": 8,
    "start_time": "2025-02-26T15:38:25.719Z"
   },
   {
    "duration": 143,
    "start_time": "2025-02-26T15:38:25.729Z"
   },
   {
    "duration": 33,
    "start_time": "2025-02-26T15:38:25.874Z"
   },
   {
    "duration": 6,
    "start_time": "2025-02-26T15:38:25.909Z"
   },
   {
    "duration": 10,
    "start_time": "2025-02-26T15:38:29.629Z"
   },
   {
    "duration": 10,
    "start_time": "2025-02-26T15:38:55.391Z"
   },
   {
    "duration": 9,
    "start_time": "2025-02-26T15:39:27.629Z"
   },
   {
    "duration": 9,
    "start_time": "2025-02-26T15:44:39.727Z"
   },
   {
    "duration": 4,
    "start_time": "2025-02-26T15:45:32.242Z"
   },
   {
    "duration": 10,
    "start_time": "2025-02-26T15:45:44.917Z"
   },
   {
    "duration": 8,
    "start_time": "2025-02-26T15:45:57.913Z"
   },
   {
    "duration": 9,
    "start_time": "2025-02-26T15:46:08.250Z"
   },
   {
    "duration": 9,
    "start_time": "2025-02-26T15:46:28.894Z"
   },
   {
    "duration": 25,
    "start_time": "2025-02-26T15:53:02.963Z"
   },
   {
    "duration": 5,
    "start_time": "2025-02-26T15:56:39.469Z"
   },
   {
    "duration": 8,
    "start_time": "2025-02-26T16:02:18.939Z"
   },
   {
    "duration": 90,
    "start_time": "2025-02-26T16:04:11.015Z"
   },
   {
    "duration": 16,
    "start_time": "2025-02-26T16:04:18.588Z"
   },
   {
    "duration": 11,
    "start_time": "2025-02-26T16:04:31.908Z"
   },
   {
    "duration": 11,
    "start_time": "2025-02-26T16:04:53.995Z"
   },
   {
    "duration": 12,
    "start_time": "2025-02-26T16:05:02.572Z"
   },
   {
    "duration": 11,
    "start_time": "2025-02-26T16:05:10.286Z"
   },
   {
    "duration": 19,
    "start_time": "2025-02-26T16:19:09.291Z"
   },
   {
    "duration": 2779,
    "start_time": "2025-02-26T20:49:16.976Z"
   },
   {
    "duration": 9,
    "start_time": "2025-02-26T20:49:19.757Z"
   },
   {
    "duration": 0,
    "start_time": "2025-02-26T20:49:19.769Z"
   },
   {
    "duration": 0,
    "start_time": "2025-02-26T20:49:19.770Z"
   },
   {
    "duration": 0,
    "start_time": "2025-02-26T20:49:19.772Z"
   },
   {
    "duration": 0,
    "start_time": "2025-02-26T20:49:19.773Z"
   },
   {
    "duration": 0,
    "start_time": "2025-02-26T20:49:19.775Z"
   },
   {
    "duration": 0,
    "start_time": "2025-02-26T20:49:19.776Z"
   },
   {
    "duration": 0,
    "start_time": "2025-02-26T20:49:19.778Z"
   },
   {
    "duration": 0,
    "start_time": "2025-02-26T20:49:19.779Z"
   },
   {
    "duration": 0,
    "start_time": "2025-02-26T20:49:19.780Z"
   },
   {
    "duration": 0,
    "start_time": "2025-02-26T20:49:19.781Z"
   },
   {
    "duration": 0,
    "start_time": "2025-02-26T20:49:19.782Z"
   },
   {
    "duration": 0,
    "start_time": "2025-02-26T20:49:19.783Z"
   },
   {
    "duration": 0,
    "start_time": "2025-02-26T20:49:19.814Z"
   },
   {
    "duration": 0,
    "start_time": "2025-02-26T20:49:19.816Z"
   },
   {
    "duration": 0,
    "start_time": "2025-02-26T20:49:19.817Z"
   },
   {
    "duration": 0,
    "start_time": "2025-02-26T20:49:19.818Z"
   },
   {
    "duration": 0,
    "start_time": "2025-02-26T20:49:19.820Z"
   },
   {
    "duration": 0,
    "start_time": "2025-02-26T20:49:19.822Z"
   },
   {
    "duration": 0,
    "start_time": "2025-02-26T20:49:19.824Z"
   },
   {
    "duration": 0,
    "start_time": "2025-02-26T20:49:19.825Z"
   },
   {
    "duration": 0,
    "start_time": "2025-02-26T20:49:19.827Z"
   },
   {
    "duration": 0,
    "start_time": "2025-02-26T20:49:19.828Z"
   },
   {
    "duration": 4,
    "start_time": "2025-02-26T20:50:25.571Z"
   },
   {
    "duration": 5,
    "start_time": "2025-02-26T20:50:25.579Z"
   },
   {
    "duration": 442,
    "start_time": "2025-02-26T20:50:25.586Z"
   },
   {
    "duration": 19,
    "start_time": "2025-02-26T20:50:26.030Z"
   },
   {
    "duration": 465,
    "start_time": "2025-02-26T20:50:26.051Z"
   },
   {
    "duration": 133,
    "start_time": "2025-02-26T20:50:26.519Z"
   },
   {
    "duration": 33,
    "start_time": "2025-02-26T20:50:26.653Z"
   },
   {
    "duration": 4,
    "start_time": "2025-02-26T20:50:26.687Z"
   },
   {
    "duration": 54,
    "start_time": "2025-02-26T20:50:26.692Z"
   },
   {
    "duration": 224,
    "start_time": "2025-02-26T20:50:26.748Z"
   },
   {
    "duration": 14,
    "start_time": "2025-02-26T20:50:26.973Z"
   },
   {
    "duration": 22,
    "start_time": "2025-02-26T20:50:26.990Z"
   },
   {
    "duration": 39,
    "start_time": "2025-02-26T20:50:27.013Z"
   },
   {
    "duration": 4,
    "start_time": "2025-02-26T20:50:27.054Z"
   },
   {
    "duration": 7,
    "start_time": "2025-02-26T20:50:27.060Z"
   },
   {
    "duration": 141,
    "start_time": "2025-02-26T20:50:27.070Z"
   },
   {
    "duration": 31,
    "start_time": "2025-02-26T20:50:27.213Z"
   },
   {
    "duration": 8,
    "start_time": "2025-02-26T20:50:27.245Z"
   },
   {
    "duration": 10,
    "start_time": "2025-02-26T20:50:27.255Z"
   },
   {
    "duration": 49,
    "start_time": "2025-02-26T20:50:27.267Z"
   },
   {
    "duration": 6,
    "start_time": "2025-02-26T20:50:27.318Z"
   },
   {
    "duration": 7,
    "start_time": "2025-02-26T20:50:27.325Z"
   },
   {
    "duration": 10,
    "start_time": "2025-02-26T20:50:27.334Z"
   },
   {
    "duration": 20,
    "start_time": "2025-02-26T20:50:27.346Z"
   },
   {
    "duration": 59,
    "start_time": "2025-02-26T20:50:36.371Z"
   },
   {
    "duration": 54,
    "start_time": "2025-02-26T20:50:49.340Z"
   },
   {
    "duration": 26,
    "start_time": "2025-02-26T21:02:00.730Z"
   },
   {
    "duration": 4,
    "start_time": "2025-02-26T21:02:11.758Z"
   },
   {
    "duration": 6,
    "start_time": "2025-02-26T21:02:11.764Z"
   },
   {
    "duration": 372,
    "start_time": "2025-02-26T21:02:11.772Z"
   },
   {
    "duration": 18,
    "start_time": "2025-02-26T21:02:12.146Z"
   },
   {
    "duration": 436,
    "start_time": "2025-02-26T21:02:12.167Z"
   },
   {
    "duration": 137,
    "start_time": "2025-02-26T21:02:12.605Z"
   },
   {
    "duration": 35,
    "start_time": "2025-02-26T21:02:12.744Z"
   },
   {
    "duration": 3,
    "start_time": "2025-02-26T21:02:12.781Z"
   },
   {
    "duration": 53,
    "start_time": "2025-02-26T21:02:12.786Z"
   },
   {
    "duration": 161,
    "start_time": "2025-02-26T21:02:12.840Z"
   },
   {
    "duration": 21,
    "start_time": "2025-02-26T21:02:13.003Z"
   },
   {
    "duration": 8,
    "start_time": "2025-02-26T21:02:13.025Z"
   },
   {
    "duration": 36,
    "start_time": "2025-02-26T21:02:13.035Z"
   },
   {
    "duration": 4,
    "start_time": "2025-02-26T21:02:13.075Z"
   },
   {
    "duration": 31,
    "start_time": "2025-02-26T21:02:13.081Z"
   },
   {
    "duration": 125,
    "start_time": "2025-02-26T21:02:13.113Z"
   },
   {
    "duration": 26,
    "start_time": "2025-02-26T21:02:13.239Z"
   },
   {
    "duration": 7,
    "start_time": "2025-02-26T21:02:13.267Z"
   },
   {
    "duration": 9,
    "start_time": "2025-02-26T21:02:13.275Z"
   },
   {
    "duration": 49,
    "start_time": "2025-02-26T21:02:13.286Z"
   },
   {
    "duration": 6,
    "start_time": "2025-02-26T21:02:13.337Z"
   },
   {
    "duration": 7,
    "start_time": "2025-02-26T21:02:13.344Z"
   },
   {
    "duration": 10,
    "start_time": "2025-02-26T21:02:13.352Z"
   },
   {
    "duration": 49,
    "start_time": "2025-02-26T21:02:13.364Z"
   },
   {
    "duration": 53,
    "start_time": "2025-02-26T21:02:13.414Z"
   },
   {
    "duration": 26,
    "start_time": "2025-02-26T21:02:22.419Z"
   },
   {
    "duration": 181,
    "start_time": "2025-02-26T21:03:46.060Z"
   },
   {
    "duration": 26,
    "start_time": "2025-02-26T21:03:53.444Z"
   },
   {
    "duration": 6,
    "start_time": "2025-02-26T21:26:09.611Z"
   },
   {
    "duration": 7,
    "start_time": "2025-02-26T21:27:02.117Z"
   },
   {
    "duration": 2159,
    "start_time": "2025-02-26T21:28:42.294Z"
   },
   {
    "duration": 17,
    "start_time": "2025-02-26T21:29:41.302Z"
   },
   {
    "duration": 3,
    "start_time": "2025-02-26T21:30:17.554Z"
   },
   {
    "duration": 7,
    "start_time": "2025-02-26T21:30:17.559Z"
   },
   {
    "duration": 379,
    "start_time": "2025-02-26T21:30:17.568Z"
   },
   {
    "duration": 18,
    "start_time": "2025-02-26T21:30:17.950Z"
   },
   {
    "duration": 452,
    "start_time": "2025-02-26T21:30:17.970Z"
   },
   {
    "duration": 135,
    "start_time": "2025-02-26T21:30:18.424Z"
   },
   {
    "duration": 32,
    "start_time": "2025-02-26T21:30:18.561Z"
   },
   {
    "duration": 3,
    "start_time": "2025-02-26T21:30:18.611Z"
   },
   {
    "duration": 34,
    "start_time": "2025-02-26T21:30:18.616Z"
   },
   {
    "duration": 167,
    "start_time": "2025-02-26T21:30:18.654Z"
   },
   {
    "duration": 14,
    "start_time": "2025-02-26T21:30:18.823Z"
   },
   {
    "duration": 7,
    "start_time": "2025-02-26T21:30:18.839Z"
   },
   {
    "duration": 38,
    "start_time": "2025-02-26T21:30:18.848Z"
   },
   {
    "duration": 5,
    "start_time": "2025-02-26T21:30:18.911Z"
   },
   {
    "duration": 8,
    "start_time": "2025-02-26T21:30:18.917Z"
   },
   {
    "duration": 138,
    "start_time": "2025-02-26T21:30:18.927Z"
   },
   {
    "duration": 28,
    "start_time": "2025-02-26T21:30:19.067Z"
   },
   {
    "duration": 16,
    "start_time": "2025-02-26T21:30:19.098Z"
   },
   {
    "duration": 8,
    "start_time": "2025-02-26T21:30:19.116Z"
   },
   {
    "duration": 30,
    "start_time": "2025-02-26T21:30:19.126Z"
   },
   {
    "duration": 6,
    "start_time": "2025-02-26T21:30:19.157Z"
   },
   {
    "duration": 9,
    "start_time": "2025-02-26T21:30:19.165Z"
   },
   {
    "duration": 42,
    "start_time": "2025-02-26T21:30:19.176Z"
   },
   {
    "duration": 19,
    "start_time": "2025-02-26T21:30:19.220Z"
   },
   {
    "duration": 71,
    "start_time": "2025-02-26T21:30:19.241Z"
   },
   {
    "duration": 26,
    "start_time": "2025-02-26T21:30:19.314Z"
   },
   {
    "duration": 2163,
    "start_time": "2025-02-26T21:30:19.342Z"
   },
   {
    "duration": 9,
    "start_time": "2025-02-26T21:30:24.807Z"
   },
   {
    "duration": 372,
    "start_time": "2025-02-26T21:35:24.544Z"
   },
   {
    "duration": 8,
    "start_time": "2025-02-26T21:35:33.234Z"
   },
   {
    "duration": 332,
    "start_time": "2025-02-26T21:39:30.829Z"
   },
   {
    "duration": 201,
    "start_time": "2025-02-26T21:39:59.301Z"
   },
   {
    "duration": 116,
    "start_time": "2025-02-26T21:40:13.094Z"
   },
   {
    "duration": 15,
    "start_time": "2025-02-26T21:40:35.980Z"
   },
   {
    "duration": 118,
    "start_time": "2025-02-26T21:40:58.431Z"
   },
   {
    "duration": 116,
    "start_time": "2025-02-26T21:41:24.443Z"
   },
   {
    "duration": 18,
    "start_time": "2025-02-26T21:41:43.503Z"
   },
   {
    "duration": 17,
    "start_time": "2025-02-26T21:42:11.432Z"
   },
   {
    "duration": 17,
    "start_time": "2025-02-26T21:42:19.580Z"
   },
   {
    "duration": 9,
    "start_time": "2025-02-26T21:42:35.750Z"
   },
   {
    "duration": 16,
    "start_time": "2025-02-26T21:43:05.764Z"
   },
   {
    "duration": 21,
    "start_time": "2025-02-26T21:43:31.794Z"
   },
   {
    "duration": 59,
    "start_time": "2025-02-26T21:44:02.369Z"
   },
   {
    "duration": 64,
    "start_time": "2025-02-26T21:44:13.274Z"
   },
   {
    "duration": 9,
    "start_time": "2025-02-26T21:44:24.529Z"
   },
   {
    "duration": 3,
    "start_time": "2025-02-26T21:44:47.989Z"
   },
   {
    "duration": 7,
    "start_time": "2025-02-26T21:44:47.994Z"
   },
   {
    "duration": 382,
    "start_time": "2025-02-26T21:44:48.003Z"
   },
   {
    "duration": 25,
    "start_time": "2025-02-26T21:44:48.387Z"
   },
   {
    "duration": 438,
    "start_time": "2025-02-26T21:44:48.414Z"
   },
   {
    "duration": 129,
    "start_time": "2025-02-26T21:44:48.854Z"
   },
   {
    "duration": 40,
    "start_time": "2025-02-26T21:44:48.985Z"
   },
   {
    "duration": 3,
    "start_time": "2025-02-26T21:44:49.027Z"
   },
   {
    "duration": 33,
    "start_time": "2025-02-26T21:44:49.031Z"
   },
   {
    "duration": 170,
    "start_time": "2025-02-26T21:44:49.066Z"
   },
   {
    "duration": 15,
    "start_time": "2025-02-26T21:44:49.239Z"
   },
   {
    "duration": 8,
    "start_time": "2025-02-26T21:44:49.255Z"
   },
   {
    "duration": 51,
    "start_time": "2025-02-26T21:44:49.264Z"
   },
   {
    "duration": 4,
    "start_time": "2025-02-26T21:44:49.317Z"
   },
   {
    "duration": 8,
    "start_time": "2025-02-26T21:44:49.323Z"
   },
   {
    "duration": 137,
    "start_time": "2025-02-26T21:44:49.332Z"
   },
   {
    "duration": 42,
    "start_time": "2025-02-26T21:44:49.471Z"
   },
   {
    "duration": 6,
    "start_time": "2025-02-26T21:44:49.514Z"
   },
   {
    "duration": 9,
    "start_time": "2025-02-26T21:44:49.522Z"
   },
   {
    "duration": 24,
    "start_time": "2025-02-26T21:44:49.533Z"
   },
   {
    "duration": 5,
    "start_time": "2025-02-26T21:44:49.558Z"
   },
   {
    "duration": 7,
    "start_time": "2025-02-26T21:44:49.565Z"
   },
   {
    "duration": 42,
    "start_time": "2025-02-26T21:44:49.574Z"
   },
   {
    "duration": 19,
    "start_time": "2025-02-26T21:44:49.618Z"
   },
   {
    "duration": 73,
    "start_time": "2025-02-26T21:44:49.638Z"
   },
   {
    "duration": 26,
    "start_time": "2025-02-26T21:44:49.712Z"
   },
   {
    "duration": 2122,
    "start_time": "2025-02-26T21:44:49.741Z"
   },
   {
    "duration": 11,
    "start_time": "2025-02-26T21:44:51.865Z"
   },
   {
    "duration": 229,
    "start_time": "2025-02-26T21:47:47.376Z"
   },
   {
    "duration": 57,
    "start_time": "2025-02-26T21:52:13.919Z"
   },
   {
    "duration": 159,
    "start_time": "2025-02-27T01:54:09.217Z"
   },
   {
    "duration": 2862,
    "start_time": "2025-02-27T01:54:19.810Z"
   },
   {
    "duration": 8,
    "start_time": "2025-02-27T01:54:22.674Z"
   },
   {
    "duration": 467,
    "start_time": "2025-02-27T01:54:22.684Z"
   },
   {
    "duration": 21,
    "start_time": "2025-02-27T01:54:23.154Z"
   },
   {
    "duration": 483,
    "start_time": "2025-02-27T01:54:23.176Z"
   },
   {
    "duration": 136,
    "start_time": "2025-02-27T01:54:23.662Z"
   },
   {
    "duration": 38,
    "start_time": "2025-02-27T01:54:23.800Z"
   },
   {
    "duration": 3,
    "start_time": "2025-02-27T01:54:23.839Z"
   },
   {
    "duration": 37,
    "start_time": "2025-02-27T01:54:23.844Z"
   },
   {
    "duration": 174,
    "start_time": "2025-02-27T01:54:23.905Z"
   },
   {
    "duration": 24,
    "start_time": "2025-02-27T01:54:24.081Z"
   },
   {
    "duration": 9,
    "start_time": "2025-02-27T01:54:24.107Z"
   },
   {
    "duration": 42,
    "start_time": "2025-02-27T01:54:24.118Z"
   },
   {
    "duration": 4,
    "start_time": "2025-02-27T01:54:24.161Z"
   },
   {
    "duration": 8,
    "start_time": "2025-02-27T01:54:24.167Z"
   },
   {
    "duration": 144,
    "start_time": "2025-02-27T01:54:24.177Z"
   },
   {
    "duration": 35,
    "start_time": "2025-02-27T01:54:24.323Z"
   },
   {
    "duration": 7,
    "start_time": "2025-02-27T01:54:24.360Z"
   },
   {
    "duration": 10,
    "start_time": "2025-02-27T01:54:24.369Z"
   },
   {
    "duration": 48,
    "start_time": "2025-02-27T01:54:24.380Z"
   },
   {
    "duration": 4,
    "start_time": "2025-02-27T01:54:24.430Z"
   },
   {
    "duration": 9,
    "start_time": "2025-02-27T01:54:24.435Z"
   },
   {
    "duration": 11,
    "start_time": "2025-02-27T01:54:24.445Z"
   },
   {
    "duration": 48,
    "start_time": "2025-02-27T01:54:24.458Z"
   },
   {
    "duration": 56,
    "start_time": "2025-02-27T01:54:24.508Z"
   },
   {
    "duration": 43,
    "start_time": "2025-02-27T01:54:24.566Z"
   },
   {
    "duration": 2083,
    "start_time": "2025-02-27T01:54:24.610Z"
   },
   {
    "duration": 12,
    "start_time": "2025-02-27T01:54:26.696Z"
   },
   {
    "duration": 234,
    "start_time": "2025-02-27T01:54:26.710Z"
   },
   {
    "duration": 63,
    "start_time": "2025-02-27T01:54:26.945Z"
   },
   {
    "duration": 4,
    "start_time": "2025-02-27T01:54:50.532Z"
   },
   {
    "duration": 7,
    "start_time": "2025-02-27T01:54:50.540Z"
   },
   {
    "duration": 367,
    "start_time": "2025-02-27T01:54:50.549Z"
   },
   {
    "duration": 17,
    "start_time": "2025-02-27T01:54:50.919Z"
   },
   {
    "duration": 444,
    "start_time": "2025-02-27T01:54:50.937Z"
   },
   {
    "duration": 137,
    "start_time": "2025-02-27T01:54:51.384Z"
   },
   {
    "duration": 33,
    "start_time": "2025-02-27T01:54:51.523Z"
   },
   {
    "duration": 3,
    "start_time": "2025-02-27T01:54:51.558Z"
   },
   {
    "duration": 67,
    "start_time": "2025-02-27T01:54:51.563Z"
   },
   {
    "duration": 168,
    "start_time": "2025-02-27T01:54:51.632Z"
   },
   {
    "duration": 14,
    "start_time": "2025-02-27T01:54:51.805Z"
   },
   {
    "duration": 8,
    "start_time": "2025-02-27T01:54:51.822Z"
   },
   {
    "duration": 39,
    "start_time": "2025-02-27T01:54:51.832Z"
   },
   {
    "duration": 5,
    "start_time": "2025-02-27T01:54:51.873Z"
   },
   {
    "duration": 8,
    "start_time": "2025-02-27T01:54:51.907Z"
   },
   {
    "duration": 128,
    "start_time": "2025-02-27T01:54:51.916Z"
   },
   {
    "duration": 33,
    "start_time": "2025-02-27T01:54:52.046Z"
   },
   {
    "duration": 6,
    "start_time": "2025-02-27T01:54:52.081Z"
   },
   {
    "duration": 21,
    "start_time": "2025-02-27T01:54:52.088Z"
   },
   {
    "duration": 27,
    "start_time": "2025-02-27T01:54:52.111Z"
   },
   {
    "duration": 5,
    "start_time": "2025-02-27T01:54:52.139Z"
   },
   {
    "duration": 8,
    "start_time": "2025-02-27T01:54:52.148Z"
   },
   {
    "duration": 11,
    "start_time": "2025-02-27T01:54:52.158Z"
   },
   {
    "duration": 53,
    "start_time": "2025-02-27T01:54:52.170Z"
   },
   {
    "duration": 55,
    "start_time": "2025-02-27T01:54:52.225Z"
   },
   {
    "duration": 44,
    "start_time": "2025-02-27T01:54:52.282Z"
   },
   {
    "duration": 2166,
    "start_time": "2025-02-27T01:54:52.328Z"
   },
   {
    "duration": 17,
    "start_time": "2025-02-27T01:54:54.495Z"
   },
   {
    "duration": 252,
    "start_time": "2025-02-27T01:54:54.514Z"
   },
   {
    "duration": 59,
    "start_time": "2025-02-27T01:54:54.767Z"
   },
   {
    "duration": 5,
    "start_time": "2025-02-27T01:54:59.066Z"
   },
   {
    "duration": 61,
    "start_time": "2025-02-27T01:57:27.651Z"
   },
   {
    "duration": 116,
    "start_time": "2025-02-27T01:59:53.417Z"
   },
   {
    "duration": 12,
    "start_time": "2025-02-27T02:40:07.272Z"
   },
   {
    "duration": 12,
    "start_time": "2025-02-27T02:40:42.839Z"
   },
   {
    "duration": 11,
    "start_time": "2025-02-27T02:40:45.657Z"
   },
   {
    "duration": 99,
    "start_time": "2025-02-27T02:44:06.164Z"
   },
   {
    "duration": 10,
    "start_time": "2025-02-27T02:44:15.830Z"
   },
   {
    "duration": 29,
    "start_time": "2025-02-27T02:44:20.501Z"
   },
   {
    "duration": 13,
    "start_time": "2025-02-27T02:54:21.094Z"
   },
   {
    "duration": 14,
    "start_time": "2025-02-27T02:54:34.189Z"
   },
   {
    "duration": 158,
    "start_time": "2025-02-27T14:06:37.625Z"
   },
   {
    "duration": 2747,
    "start_time": "2025-02-27T14:06:49.660Z"
   },
   {
    "duration": 14,
    "start_time": "2025-02-27T14:06:52.409Z"
   },
   {
    "duration": 461,
    "start_time": "2025-02-27T14:06:52.425Z"
   },
   {
    "duration": 33,
    "start_time": "2025-02-27T14:06:52.889Z"
   },
   {
    "duration": 473,
    "start_time": "2025-02-27T14:06:52.923Z"
   },
   {
    "duration": 137,
    "start_time": "2025-02-27T14:06:53.398Z"
   },
   {
    "duration": 32,
    "start_time": "2025-02-27T14:06:53.537Z"
   },
   {
    "duration": 3,
    "start_time": "2025-02-27T14:06:53.571Z"
   },
   {
    "duration": 58,
    "start_time": "2025-02-27T14:06:53.576Z"
   },
   {
    "duration": 173,
    "start_time": "2025-02-27T14:06:53.637Z"
   },
   {
    "duration": 14,
    "start_time": "2025-02-27T14:06:53.812Z"
   },
   {
    "duration": 9,
    "start_time": "2025-02-27T14:06:53.828Z"
   },
   {
    "duration": 40,
    "start_time": "2025-02-27T14:06:53.838Z"
   },
   {
    "duration": 27,
    "start_time": "2025-02-27T14:06:53.880Z"
   },
   {
    "duration": 7,
    "start_time": "2025-02-27T14:06:53.909Z"
   },
   {
    "duration": 134,
    "start_time": "2025-02-27T14:06:53.918Z"
   },
   {
    "duration": 35,
    "start_time": "2025-02-27T14:06:54.053Z"
   },
   {
    "duration": 15,
    "start_time": "2025-02-27T14:06:54.090Z"
   },
   {
    "duration": 9,
    "start_time": "2025-02-27T14:06:54.107Z"
   },
   {
    "duration": 26,
    "start_time": "2025-02-27T14:06:54.117Z"
   },
   {
    "duration": 5,
    "start_time": "2025-02-27T14:06:54.147Z"
   },
   {
    "duration": 9,
    "start_time": "2025-02-27T14:06:54.155Z"
   },
   {
    "duration": 46,
    "start_time": "2025-02-27T14:06:54.165Z"
   },
   {
    "duration": 20,
    "start_time": "2025-02-27T14:06:54.213Z"
   },
   {
    "duration": 54,
    "start_time": "2025-02-27T14:06:54.235Z"
   },
   {
    "duration": 30,
    "start_time": "2025-02-27T14:06:54.304Z"
   },
   {
    "duration": 2078,
    "start_time": "2025-02-27T14:06:54.336Z"
   },
   {
    "duration": 8,
    "start_time": "2025-02-27T14:06:56.419Z"
   },
   {
    "duration": 241,
    "start_time": "2025-02-27T14:06:56.429Z"
   },
   {
    "duration": 60,
    "start_time": "2025-02-27T14:06:56.672Z"
   },
   {
    "duration": 5,
    "start_time": "2025-02-27T14:06:56.735Z"
   },
   {
    "duration": 120,
    "start_time": "2025-02-27T14:06:56.742Z"
   },
   {
    "duration": 24,
    "start_time": "2025-02-27T14:06:56.864Z"
   },
   {
    "duration": 19,
    "start_time": "2025-02-27T14:06:56.904Z"
   },
   {
    "duration": 19,
    "start_time": "2025-02-27T14:07:27.158Z"
   },
   {
    "duration": 69,
    "start_time": "2025-02-27T14:12:26.687Z"
   },
   {
    "duration": 10,
    "start_time": "2025-02-27T14:13:04.278Z"
   },
   {
    "duration": 9,
    "start_time": "2025-02-27T14:13:12.350Z"
   },
   {
    "duration": 4,
    "start_time": "2025-02-27T14:13:28.420Z"
   },
   {
    "duration": 11,
    "start_time": "2025-02-27T14:13:28.426Z"
   },
   {
    "duration": 383,
    "start_time": "2025-02-27T14:13:28.439Z"
   },
   {
    "duration": 18,
    "start_time": "2025-02-27T14:13:28.824Z"
   },
   {
    "duration": 434,
    "start_time": "2025-02-27T14:13:28.844Z"
   },
   {
    "duration": 136,
    "start_time": "2025-02-27T14:13:29.280Z"
   },
   {
    "duration": 32,
    "start_time": "2025-02-27T14:13:29.417Z"
   },
   {
    "duration": 3,
    "start_time": "2025-02-27T14:13:29.450Z"
   },
   {
    "duration": 57,
    "start_time": "2025-02-27T14:13:29.455Z"
   },
   {
    "duration": 161,
    "start_time": "2025-02-27T14:13:29.516Z"
   },
   {
    "duration": 14,
    "start_time": "2025-02-27T14:13:29.679Z"
   },
   {
    "duration": 16,
    "start_time": "2025-02-27T14:13:29.695Z"
   },
   {
    "duration": 40,
    "start_time": "2025-02-27T14:13:29.713Z"
   },
   {
    "duration": 5,
    "start_time": "2025-02-27T14:13:29.755Z"
   },
   {
    "duration": 7,
    "start_time": "2025-02-27T14:13:29.762Z"
   },
   {
    "duration": 149,
    "start_time": "2025-02-27T14:13:29.771Z"
   },
   {
    "duration": 28,
    "start_time": "2025-02-27T14:13:29.922Z"
   },
   {
    "duration": 7,
    "start_time": "2025-02-27T14:13:29.952Z"
   },
   {
    "duration": 8,
    "start_time": "2025-02-27T14:13:29.960Z"
   },
   {
    "duration": 49,
    "start_time": "2025-02-27T14:13:29.969Z"
   },
   {
    "duration": 5,
    "start_time": "2025-02-27T14:13:30.021Z"
   },
   {
    "duration": 7,
    "start_time": "2025-02-27T14:13:30.028Z"
   },
   {
    "duration": 11,
    "start_time": "2025-02-27T14:13:30.037Z"
   },
   {
    "duration": 19,
    "start_time": "2025-02-27T14:13:30.049Z"
   },
   {
    "duration": 85,
    "start_time": "2025-02-27T14:13:30.070Z"
   },
   {
    "duration": 26,
    "start_time": "2025-02-27T14:13:30.156Z"
   },
   {
    "duration": 2140,
    "start_time": "2025-02-27T14:13:30.183Z"
   },
   {
    "duration": 9,
    "start_time": "2025-02-27T14:13:32.327Z"
   },
   {
    "duration": 257,
    "start_time": "2025-02-27T14:13:32.337Z"
   },
   {
    "duration": 67,
    "start_time": "2025-02-27T14:13:32.596Z"
   },
   {
    "duration": 4,
    "start_time": "2025-02-27T14:13:32.665Z"
   },
   {
    "duration": 122,
    "start_time": "2025-02-27T14:13:32.671Z"
   },
   {
    "duration": 33,
    "start_time": "2025-02-27T14:13:32.795Z"
   },
   {
    "duration": 21,
    "start_time": "2025-02-27T14:13:32.830Z"
   },
   {
    "duration": 90,
    "start_time": "2025-02-27T14:13:32.852Z"
   },
   {
    "duration": 5,
    "start_time": "2025-02-27T14:35:15.343Z"
   },
   {
    "duration": 6,
    "start_time": "2025-02-27T14:35:25.940Z"
   },
   {
    "duration": 248,
    "start_time": "2025-02-27T14:59:55.441Z"
   },
   {
    "duration": 362,
    "start_time": "2025-02-27T15:01:06.721Z"
   },
   {
    "duration": 4,
    "start_time": "2025-02-27T15:01:20.901Z"
   },
   {
    "duration": 12,
    "start_time": "2025-02-27T15:01:20.906Z"
   },
   {
    "duration": 388,
    "start_time": "2025-02-27T15:01:20.919Z"
   },
   {
    "duration": 20,
    "start_time": "2025-02-27T15:01:21.310Z"
   },
   {
    "duration": 444,
    "start_time": "2025-02-27T15:01:21.332Z"
   },
   {
    "duration": 134,
    "start_time": "2025-02-27T15:01:21.778Z"
   },
   {
    "duration": 32,
    "start_time": "2025-02-27T15:01:21.914Z"
   },
   {
    "duration": 3,
    "start_time": "2025-02-27T15:01:21.947Z"
   },
   {
    "duration": 52,
    "start_time": "2025-02-27T15:01:21.952Z"
   },
   {
    "duration": 164,
    "start_time": "2025-02-27T15:01:22.009Z"
   },
   {
    "duration": 14,
    "start_time": "2025-02-27T15:01:22.175Z"
   },
   {
    "duration": 20,
    "start_time": "2025-02-27T15:01:22.191Z"
   },
   {
    "duration": 39,
    "start_time": "2025-02-27T15:01:22.213Z"
   },
   {
    "duration": 5,
    "start_time": "2025-02-27T15:01:22.253Z"
   },
   {
    "duration": 8,
    "start_time": "2025-02-27T15:01:22.260Z"
   },
   {
    "duration": 146,
    "start_time": "2025-02-27T15:01:22.270Z"
   },
   {
    "duration": 33,
    "start_time": "2025-02-27T15:01:22.418Z"
   },
   {
    "duration": 6,
    "start_time": "2025-02-27T15:01:22.453Z"
   },
   {
    "duration": 8,
    "start_time": "2025-02-27T15:01:22.461Z"
   },
   {
    "duration": 51,
    "start_time": "2025-02-27T15:01:22.470Z"
   },
   {
    "duration": 5,
    "start_time": "2025-02-27T15:01:22.524Z"
   },
   {
    "duration": 9,
    "start_time": "2025-02-27T15:01:22.531Z"
   },
   {
    "duration": 10,
    "start_time": "2025-02-27T15:01:22.542Z"
   },
   {
    "duration": 20,
    "start_time": "2025-02-27T15:01:22.554Z"
   },
   {
    "duration": 83,
    "start_time": "2025-02-27T15:01:22.575Z"
   },
   {
    "duration": 25,
    "start_time": "2025-02-27T15:01:22.660Z"
   },
   {
    "duration": 2137,
    "start_time": "2025-02-27T15:01:22.686Z"
   },
   {
    "duration": 8,
    "start_time": "2025-02-27T15:01:24.828Z"
   },
   {
    "duration": 242,
    "start_time": "2025-02-27T15:01:24.838Z"
   },
   {
    "duration": 58,
    "start_time": "2025-02-27T15:01:25.082Z"
   },
   {
    "duration": 4,
    "start_time": "2025-02-27T15:01:25.142Z"
   },
   {
    "duration": 123,
    "start_time": "2025-02-27T15:01:25.148Z"
   },
   {
    "duration": 33,
    "start_time": "2025-02-27T15:01:25.273Z"
   },
   {
    "duration": 18,
    "start_time": "2025-02-27T15:01:25.308Z"
   },
   {
    "duration": 81,
    "start_time": "2025-02-27T15:01:25.328Z"
   },
   {
    "duration": 228,
    "start_time": "2025-02-27T15:01:30.872Z"
   },
   {
    "duration": 65,
    "start_time": "2025-02-27T15:01:42.687Z"
   },
   {
    "duration": 1044,
    "start_time": "2025-02-27T15:02:07.705Z"
   },
   {
    "duration": 12,
    "start_time": "2025-02-27T15:02:08.751Z"
   },
   {
    "duration": 416,
    "start_time": "2025-02-27T15:02:08.764Z"
   },
   {
    "duration": 29,
    "start_time": "2025-02-27T15:02:09.182Z"
   },
   {
    "duration": 499,
    "start_time": "2025-02-27T15:02:09.214Z"
   },
   {
    "duration": 136,
    "start_time": "2025-02-27T15:02:09.714Z"
   },
   {
    "duration": 33,
    "start_time": "2025-02-27T15:02:09.852Z"
   },
   {
    "duration": 22,
    "start_time": "2025-02-27T15:02:09.887Z"
   },
   {
    "duration": 40,
    "start_time": "2025-02-27T15:02:09.910Z"
   },
   {
    "duration": 177,
    "start_time": "2025-02-27T15:02:09.951Z"
   },
   {
    "duration": 15,
    "start_time": "2025-02-27T15:02:10.130Z"
   },
   {
    "duration": 11,
    "start_time": "2025-02-27T15:02:10.146Z"
   },
   {
    "duration": 61,
    "start_time": "2025-02-27T15:02:10.158Z"
   },
   {
    "duration": 5,
    "start_time": "2025-02-27T15:02:10.223Z"
   },
   {
    "duration": 8,
    "start_time": "2025-02-27T15:02:10.229Z"
   },
   {
    "duration": 139,
    "start_time": "2025-02-27T15:02:10.239Z"
   },
   {
    "duration": 45,
    "start_time": "2025-02-27T15:02:10.380Z"
   },
   {
    "duration": 7,
    "start_time": "2025-02-27T15:02:10.426Z"
   },
   {
    "duration": 8,
    "start_time": "2025-02-27T15:02:10.435Z"
   },
   {
    "duration": 25,
    "start_time": "2025-02-27T15:02:10.445Z"
   },
   {
    "duration": 5,
    "start_time": "2025-02-27T15:02:10.472Z"
   },
   {
    "duration": 33,
    "start_time": "2025-02-27T15:02:10.478Z"
   },
   {
    "duration": 11,
    "start_time": "2025-02-27T15:02:10.512Z"
   },
   {
    "duration": 20,
    "start_time": "2025-02-27T15:02:10.525Z"
   },
   {
    "duration": 80,
    "start_time": "2025-02-27T15:02:10.547Z"
   },
   {
    "duration": 27,
    "start_time": "2025-02-27T15:02:10.629Z"
   },
   {
    "duration": 2133,
    "start_time": "2025-02-27T15:02:10.658Z"
   },
   {
    "duration": 19,
    "start_time": "2025-02-27T15:02:12.793Z"
   },
   {
    "duration": 251,
    "start_time": "2025-02-27T15:02:12.814Z"
   },
   {
    "duration": 62,
    "start_time": "2025-02-27T15:02:13.067Z"
   },
   {
    "duration": 4,
    "start_time": "2025-02-27T15:02:13.131Z"
   },
   {
    "duration": 120,
    "start_time": "2025-02-27T15:02:13.137Z"
   },
   {
    "duration": 24,
    "start_time": "2025-02-27T15:02:13.259Z"
   },
   {
    "duration": 35,
    "start_time": "2025-02-27T15:02:13.285Z"
   },
   {
    "duration": 66,
    "start_time": "2025-02-27T15:02:13.322Z"
   },
   {
    "duration": 19,
    "start_time": "2025-02-27T15:03:00.694Z"
   },
   {
    "duration": 18,
    "start_time": "2025-02-27T15:03:53.198Z"
   },
   {
    "duration": 13,
    "start_time": "2025-02-27T15:04:34.620Z"
   },
   {
    "duration": 19,
    "start_time": "2025-02-27T15:05:02.351Z"
   },
   {
    "duration": 19,
    "start_time": "2025-02-27T15:05:10.145Z"
   },
   {
    "duration": 18,
    "start_time": "2025-02-27T15:05:17.484Z"
   },
   {
    "duration": 4,
    "start_time": "2025-02-27T15:06:35.722Z"
   },
   {
    "duration": 13,
    "start_time": "2025-02-27T15:06:35.728Z"
   },
   {
    "duration": 403,
    "start_time": "2025-02-27T15:06:35.742Z"
   },
   {
    "duration": 17,
    "start_time": "2025-02-27T15:06:36.147Z"
   },
   {
    "duration": 459,
    "start_time": "2025-02-27T15:06:36.166Z"
   },
   {
    "duration": 138,
    "start_time": "2025-02-27T15:06:36.627Z"
   },
   {
    "duration": 39,
    "start_time": "2025-02-27T15:06:36.767Z"
   },
   {
    "duration": 3,
    "start_time": "2025-02-27T15:06:36.808Z"
   },
   {
    "duration": 36,
    "start_time": "2025-02-27T15:06:36.813Z"
   },
   {
    "duration": 166,
    "start_time": "2025-02-27T15:06:36.850Z"
   },
   {
    "duration": 14,
    "start_time": "2025-02-27T15:06:37.020Z"
   },
   {
    "duration": 8,
    "start_time": "2025-02-27T15:06:37.035Z"
   },
   {
    "duration": 61,
    "start_time": "2025-02-27T15:06:37.045Z"
   },
   {
    "duration": 4,
    "start_time": "2025-02-27T15:06:37.107Z"
   },
   {
    "duration": 7,
    "start_time": "2025-02-27T15:06:37.113Z"
   },
   {
    "duration": 137,
    "start_time": "2025-02-27T15:06:37.122Z"
   },
   {
    "duration": 27,
    "start_time": "2025-02-27T15:06:37.260Z"
   },
   {
    "duration": 20,
    "start_time": "2025-02-27T15:06:37.288Z"
   },
   {
    "duration": 9,
    "start_time": "2025-02-27T15:06:37.309Z"
   },
   {
    "duration": 24,
    "start_time": "2025-02-27T15:06:37.320Z"
   },
   {
    "duration": 4,
    "start_time": "2025-02-27T15:06:37.346Z"
   },
   {
    "duration": 8,
    "start_time": "2025-02-27T15:06:37.352Z"
   },
   {
    "duration": 10,
    "start_time": "2025-02-27T15:06:37.361Z"
   },
   {
    "duration": 19,
    "start_time": "2025-02-27T15:06:37.406Z"
   },
   {
    "duration": 53,
    "start_time": "2025-02-27T15:06:37.427Z"
   },
   {
    "duration": 44,
    "start_time": "2025-02-27T15:06:37.482Z"
   },
   {
    "duration": 2138,
    "start_time": "2025-02-27T15:06:37.528Z"
   },
   {
    "duration": 10,
    "start_time": "2025-02-27T15:06:39.668Z"
   },
   {
    "duration": 243,
    "start_time": "2025-02-27T15:06:39.683Z"
   },
   {
    "duration": 56,
    "start_time": "2025-02-27T15:06:39.928Z"
   },
   {
    "duration": 5,
    "start_time": "2025-02-27T15:06:39.985Z"
   },
   {
    "duration": 115,
    "start_time": "2025-02-27T15:06:40.006Z"
   },
   {
    "duration": 28,
    "start_time": "2025-02-27T15:06:40.123Z"
   },
   {
    "duration": 21,
    "start_time": "2025-02-27T15:06:40.154Z"
   },
   {
    "duration": 87,
    "start_time": "2025-02-27T15:06:40.177Z"
   },
   {
    "duration": 230,
    "start_time": "2025-02-27T15:06:40.265Z"
   },
   {
    "duration": 26,
    "start_time": "2025-02-27T15:06:40.497Z"
   },
   {
    "duration": 301,
    "start_time": "2025-02-27T15:10:58.248Z"
   },
   {
    "duration": 67,
    "start_time": "2025-02-27T15:11:03.054Z"
   },
   {
    "duration": 47,
    "start_time": "2025-02-27T15:11:04.155Z"
   },
   {
    "duration": 4,
    "start_time": "2025-02-27T15:11:05.098Z"
   },
   {
    "duration": 5,
    "start_time": "2025-02-27T15:11:17.226Z"
   },
   {
    "duration": 49,
    "start_time": "2025-02-27T15:16:21.186Z"
   },
   {
    "duration": 3,
    "start_time": "2025-02-27T16:04:50.043Z"
   },
   {
    "duration": 41,
    "start_time": "2025-02-27T16:05:42.755Z"
   },
   {
    "duration": 16,
    "start_time": "2025-02-27T17:20:28.182Z"
   },
   {
    "duration": 16,
    "start_time": "2025-02-27T17:23:06.859Z"
   },
   {
    "duration": 12,
    "start_time": "2025-02-27T17:24:29.615Z"
   },
   {
    "duration": 3,
    "start_time": "2025-02-27T17:24:37.687Z"
   },
   {
    "duration": 11,
    "start_time": "2025-02-27T17:24:40.002Z"
   },
   {
    "duration": 1055,
    "start_time": "2025-02-27T17:25:32.492Z"
   },
   {
    "duration": 12,
    "start_time": "2025-02-27T17:25:33.550Z"
   },
   {
    "duration": 397,
    "start_time": "2025-02-27T17:25:33.565Z"
   },
   {
    "duration": 19,
    "start_time": "2025-02-27T17:25:33.964Z"
   },
   {
    "duration": 480,
    "start_time": "2025-02-27T17:25:33.985Z"
   },
   {
    "duration": 132,
    "start_time": "2025-02-27T17:25:34.467Z"
   },
   {
    "duration": 33,
    "start_time": "2025-02-27T17:25:34.604Z"
   },
   {
    "duration": 3,
    "start_time": "2025-02-27T17:25:34.639Z"
   },
   {
    "duration": 36,
    "start_time": "2025-02-27T17:25:34.644Z"
   },
   {
    "duration": 164,
    "start_time": "2025-02-27T17:25:34.707Z"
   },
   {
    "duration": 14,
    "start_time": "2025-02-27T17:25:34.873Z"
   },
   {
    "duration": 23,
    "start_time": "2025-02-27T17:25:34.889Z"
   },
   {
    "duration": 41,
    "start_time": "2025-02-27T17:25:34.913Z"
   },
   {
    "duration": 4,
    "start_time": "2025-02-27T17:25:34.956Z"
   },
   {
    "duration": 8,
    "start_time": "2025-02-27T17:25:34.962Z"
   },
   {
    "duration": 141,
    "start_time": "2025-02-27T17:25:34.972Z"
   },
   {
    "duration": 34,
    "start_time": "2025-02-27T17:25:35.114Z"
   },
   {
    "duration": 7,
    "start_time": "2025-02-27T17:25:35.150Z"
   },
   {
    "duration": 9,
    "start_time": "2025-02-27T17:25:35.158Z"
   },
   {
    "duration": 54,
    "start_time": "2025-02-27T17:25:35.168Z"
   },
   {
    "duration": 5,
    "start_time": "2025-02-27T17:25:35.223Z"
   },
   {
    "duration": 8,
    "start_time": "2025-02-27T17:25:35.229Z"
   },
   {
    "duration": 10,
    "start_time": "2025-02-27T17:25:35.239Z"
   },
   {
    "duration": 23,
    "start_time": "2025-02-27T17:25:35.251Z"
   },
   {
    "duration": 85,
    "start_time": "2025-02-27T17:25:35.275Z"
   },
   {
    "duration": 27,
    "start_time": "2025-02-27T17:25:35.362Z"
   },
   {
    "duration": 2155,
    "start_time": "2025-02-27T17:25:35.390Z"
   },
   {
    "duration": 8,
    "start_time": "2025-02-27T17:25:37.548Z"
   },
   {
    "duration": 240,
    "start_time": "2025-02-27T17:25:37.558Z"
   },
   {
    "duration": 55,
    "start_time": "2025-02-27T17:25:37.804Z"
   },
   {
    "duration": 4,
    "start_time": "2025-02-27T17:25:37.861Z"
   },
   {
    "duration": 122,
    "start_time": "2025-02-27T17:25:37.867Z"
   },
   {
    "duration": 37,
    "start_time": "2025-02-27T17:25:37.991Z"
   },
   {
    "duration": 18,
    "start_time": "2025-02-27T17:25:38.030Z"
   },
   {
    "duration": 85,
    "start_time": "2025-02-27T17:25:38.050Z"
   },
   {
    "duration": 214,
    "start_time": "2025-02-27T17:25:38.137Z"
   },
   {
    "duration": 20,
    "start_time": "2025-02-27T17:25:38.353Z"
   },
   {
    "duration": 83,
    "start_time": "2025-02-27T17:25:38.374Z"
   },
   {
    "duration": 68,
    "start_time": "2025-02-27T17:25:38.458Z"
   },
   {
    "duration": 4,
    "start_time": "2025-02-27T17:25:38.528Z"
   },
   {
    "duration": 1110,
    "start_time": "2025-02-27T17:30:41.709Z"
   },
   {
    "duration": 1051,
    "start_time": "2025-02-27T17:31:29.473Z"
   },
   {
    "duration": 160,
    "start_time": "2025-02-27T17:32:29.835Z"
   },
   {
    "duration": 185,
    "start_time": "2025-02-27T17:33:32.025Z"
   },
   {
    "duration": 3,
    "start_time": "2025-02-27T18:23:25.227Z"
   },
   {
    "duration": 3,
    "start_time": "2025-02-27T18:24:31.318Z"
   },
   {
    "duration": 1145,
    "start_time": "2025-02-27T18:25:01.980Z"
   },
   {
    "duration": 4,
    "start_time": "2025-02-27T18:25:35.630Z"
   },
   {
    "duration": 1111,
    "start_time": "2025-02-27T18:25:39.511Z"
   },
   {
    "duration": 3,
    "start_time": "2025-02-27T18:25:44.688Z"
   },
   {
    "duration": 3,
    "start_time": "2025-02-27T18:25:55.402Z"
   },
   {
    "duration": 3,
    "start_time": "2025-02-27T18:26:43.679Z"
   },
   {
    "duration": 3,
    "start_time": "2025-02-27T18:26:50.398Z"
   },
   {
    "duration": 117,
    "start_time": "2025-02-27T18:26:55.104Z"
   },
   {
    "duration": 3,
    "start_time": "2025-02-27T18:27:01.405Z"
   },
   {
    "duration": 3,
    "start_time": "2025-02-27T18:27:08.068Z"
   },
   {
    "duration": 149,
    "start_time": "2025-02-27T18:27:17.368Z"
   },
   {
    "duration": 1110,
    "start_time": "2025-02-27T18:58:20.016Z"
   },
   {
    "duration": 186,
    "start_time": "2025-02-27T18:58:22.020Z"
   },
   {
    "duration": 6,
    "start_time": "2025-02-27T19:45:04.200Z"
   },
   {
    "duration": 5,
    "start_time": "2025-02-27T19:45:23.874Z"
   },
   {
    "duration": 1167,
    "start_time": "2025-02-27T19:45:34.942Z"
   },
   {
    "duration": 180,
    "start_time": "2025-02-27T19:45:39.537Z"
   },
   {
    "duration": 2501,
    "start_time": "2025-02-27T19:53:00.170Z"
   },
   {
    "duration": 18588,
    "start_time": "2025-02-27T20:01:32.118Z"
   },
   {
    "duration": 18492,
    "start_time": "2025-02-27T20:05:36.202Z"
   },
   {
    "duration": 458,
    "start_time": "2025-02-27T20:08:14.809Z"
   },
   {
    "duration": 1106,
    "start_time": "2025-02-27T20:23:33.205Z"
   },
   {
    "duration": 12,
    "start_time": "2025-02-27T20:33:53.855Z"
   },
   {
    "duration": 1373,
    "start_time": "2025-02-27T20:34:05.540Z"
   },
   {
    "duration": 1124,
    "start_time": "2025-02-27T20:34:20.388Z"
   },
   {
    "duration": 11,
    "start_time": "2025-02-27T20:34:49.116Z"
   },
   {
    "duration": 1046,
    "start_time": "2025-02-27T20:34:58.881Z"
   },
   {
    "duration": 11,
    "start_time": "2025-02-27T20:36:32.944Z"
   },
   {
    "duration": 1098,
    "start_time": "2025-02-27T20:36:44.216Z"
   },
   {
    "duration": 4,
    "start_time": "2025-02-27T20:52:25.424Z"
   },
   {
    "duration": 12,
    "start_time": "2025-02-27T20:52:25.431Z"
   },
   {
    "duration": 389,
    "start_time": "2025-02-27T20:52:25.445Z"
   },
   {
    "duration": 20,
    "start_time": "2025-02-27T20:52:25.837Z"
   },
   {
    "duration": 483,
    "start_time": "2025-02-27T20:52:25.859Z"
   },
   {
    "duration": 136,
    "start_time": "2025-02-27T20:52:26.345Z"
   },
   {
    "duration": 40,
    "start_time": "2025-02-27T20:52:26.483Z"
   },
   {
    "duration": 4,
    "start_time": "2025-02-27T20:52:26.525Z"
   },
   {
    "duration": 34,
    "start_time": "2025-02-27T20:52:26.531Z"
   },
   {
    "duration": 192,
    "start_time": "2025-02-27T20:52:26.567Z"
   },
   {
    "duration": 15,
    "start_time": "2025-02-27T20:52:26.762Z"
   },
   {
    "duration": 8,
    "start_time": "2025-02-27T20:52:26.779Z"
   },
   {
    "duration": 56,
    "start_time": "2025-02-27T20:52:26.789Z"
   },
   {
    "duration": 5,
    "start_time": "2025-02-27T20:52:26.847Z"
   },
   {
    "duration": 9,
    "start_time": "2025-02-27T20:52:26.854Z"
   },
   {
    "duration": 196,
    "start_time": "2025-02-27T20:52:26.865Z"
   },
   {
    "duration": 29,
    "start_time": "2025-02-27T20:52:27.062Z"
   },
   {
    "duration": 8,
    "start_time": "2025-02-27T20:52:27.105Z"
   },
   {
    "duration": 12,
    "start_time": "2025-02-27T20:52:27.115Z"
   },
   {
    "duration": 29,
    "start_time": "2025-02-27T20:52:27.129Z"
   },
   {
    "duration": 6,
    "start_time": "2025-02-27T20:52:27.160Z"
   },
   {
    "duration": 12,
    "start_time": "2025-02-27T20:52:27.168Z"
   },
   {
    "duration": 11,
    "start_time": "2025-02-27T20:52:27.205Z"
   },
   {
    "duration": 23,
    "start_time": "2025-02-27T20:52:27.221Z"
   },
   {
    "duration": 95,
    "start_time": "2025-02-27T20:52:27.246Z"
   },
   {
    "duration": 27,
    "start_time": "2025-02-27T20:52:27.343Z"
   },
   {
    "duration": 2203,
    "start_time": "2025-02-27T20:52:27.372Z"
   },
   {
    "duration": 10,
    "start_time": "2025-02-27T20:52:29.577Z"
   },
   {
    "duration": 246,
    "start_time": "2025-02-27T20:52:29.589Z"
   },
   {
    "duration": 69,
    "start_time": "2025-02-27T20:52:29.837Z"
   },
   {
    "duration": 5,
    "start_time": "2025-02-27T20:52:29.908Z"
   },
   {
    "duration": 120,
    "start_time": "2025-02-27T20:52:29.915Z"
   },
   {
    "duration": 26,
    "start_time": "2025-02-27T20:52:30.036Z"
   },
   {
    "duration": 22,
    "start_time": "2025-02-27T20:52:30.064Z"
   },
   {
    "duration": 84,
    "start_time": "2025-02-27T20:52:30.087Z"
   },
   {
    "duration": 267,
    "start_time": "2025-02-27T20:52:30.173Z"
   },
   {
    "duration": 29,
    "start_time": "2025-02-27T20:52:30.443Z"
   },
   {
    "duration": 87,
    "start_time": "2025-02-27T20:52:30.474Z"
   },
   {
    "duration": 56,
    "start_time": "2025-02-27T20:52:30.563Z"
   },
   {
    "duration": 7,
    "start_time": "2025-02-27T20:52:30.621Z"
   },
   {
    "duration": 1168,
    "start_time": "2025-02-27T20:52:35.768Z"
   },
   {
    "duration": 4,
    "start_time": "2025-02-27T20:54:23.407Z"
   },
   {
    "duration": 1172,
    "start_time": "2025-02-27T20:54:40.247Z"
   },
   {
    "duration": 14,
    "start_time": "2025-02-27T20:54:41.422Z"
   },
   {
    "duration": 419,
    "start_time": "2025-02-27T20:54:41.438Z"
   },
   {
    "duration": 20,
    "start_time": "2025-02-27T20:54:41.859Z"
   },
   {
    "duration": 495,
    "start_time": "2025-02-27T20:54:41.882Z"
   },
   {
    "duration": 170,
    "start_time": "2025-02-27T20:54:42.380Z"
   },
   {
    "duration": 32,
    "start_time": "2025-02-27T20:54:42.552Z"
   },
   {
    "duration": 3,
    "start_time": "2025-02-27T20:54:42.586Z"
   },
   {
    "duration": 56,
    "start_time": "2025-02-27T20:54:42.590Z"
   },
   {
    "duration": 184,
    "start_time": "2025-02-27T20:54:42.649Z"
   },
   {
    "duration": 14,
    "start_time": "2025-02-27T20:54:42.835Z"
   },
   {
    "duration": 9,
    "start_time": "2025-02-27T20:54:42.850Z"
   },
   {
    "duration": 63,
    "start_time": "2025-02-27T20:54:42.861Z"
   },
   {
    "duration": 5,
    "start_time": "2025-02-27T20:54:42.928Z"
   },
   {
    "duration": 8,
    "start_time": "2025-02-27T20:54:42.936Z"
   },
   {
    "duration": 169,
    "start_time": "2025-02-27T20:54:42.946Z"
   },
   {
    "duration": 36,
    "start_time": "2025-02-27T20:54:43.117Z"
   },
   {
    "duration": 8,
    "start_time": "2025-02-27T20:54:43.155Z"
   },
   {
    "duration": 9,
    "start_time": "2025-02-27T20:54:43.165Z"
   },
   {
    "duration": 47,
    "start_time": "2025-02-27T20:54:43.175Z"
   },
   {
    "duration": 6,
    "start_time": "2025-02-27T20:54:43.223Z"
   },
   {
    "duration": 10,
    "start_time": "2025-02-27T20:54:43.230Z"
   },
   {
    "duration": 10,
    "start_time": "2025-02-27T20:54:43.241Z"
   },
   {
    "duration": 19,
    "start_time": "2025-02-27T20:54:43.253Z"
   },
   {
    "duration": 85,
    "start_time": "2025-02-27T20:54:43.274Z"
   },
   {
    "duration": 45,
    "start_time": "2025-02-27T20:54:43.361Z"
   },
   {
    "duration": 2267,
    "start_time": "2025-02-27T20:54:43.407Z"
   },
   {
    "duration": 10,
    "start_time": "2025-02-27T20:54:45.675Z"
   },
   {
    "duration": 257,
    "start_time": "2025-02-27T20:54:45.687Z"
   },
   {
    "duration": 60,
    "start_time": "2025-02-27T20:54:45.946Z"
   },
   {
    "duration": 4,
    "start_time": "2025-02-27T20:54:46.008Z"
   },
   {
    "duration": 140,
    "start_time": "2025-02-27T20:54:46.016Z"
   },
   {
    "duration": 23,
    "start_time": "2025-02-27T20:54:46.159Z"
   },
   {
    "duration": 33,
    "start_time": "2025-02-27T20:54:46.184Z"
   },
   {
    "duration": 66,
    "start_time": "2025-02-27T20:54:46.219Z"
   },
   {
    "duration": 290,
    "start_time": "2025-02-27T20:54:46.287Z"
   },
   {
    "duration": 30,
    "start_time": "2025-02-27T20:54:46.580Z"
   },
   {
    "duration": 62,
    "start_time": "2025-02-27T20:54:46.612Z"
   },
   {
    "duration": 65,
    "start_time": "2025-02-27T20:54:46.676Z"
   },
   {
    "duration": 5,
    "start_time": "2025-02-27T20:54:46.743Z"
   },
   {
    "duration": 1254,
    "start_time": "2025-02-27T20:54:46.753Z"
   },
   {
    "duration": 200,
    "start_time": "2025-02-27T20:54:48.010Z"
   },
   {
    "duration": 2563,
    "start_time": "2025-02-27T20:54:48.212Z"
   },
   {
    "duration": 18670,
    "start_time": "2025-02-27T20:54:50.777Z"
   },
   {
    "duration": 485,
    "start_time": "2025-02-27T20:55:09.450Z"
   },
   {
    "duration": 31,
    "start_time": "2025-02-27T20:57:13.156Z"
   },
   {
    "duration": 29,
    "start_time": "2025-02-27T20:57:21.942Z"
   },
   {
    "duration": 37,
    "start_time": "2025-02-27T20:57:31.513Z"
   },
   {
    "duration": 1230,
    "start_time": "2025-02-27T20:58:08.477Z"
   },
   {
    "duration": 1233,
    "start_time": "2025-02-27T21:03:30.677Z"
   },
   {
    "duration": 1453,
    "start_time": "2025-02-27T21:04:08.572Z"
   },
   {
    "duration": 208,
    "start_time": "2025-02-27T21:06:07.572Z"
   },
   {
    "duration": 32,
    "start_time": "2025-02-27T21:06:10.776Z"
   },
   {
    "duration": 73,
    "start_time": "2025-02-27T21:06:16.257Z"
   },
   {
    "duration": 43,
    "start_time": "2025-02-27T21:06:17.050Z"
   },
   {
    "duration": 3,
    "start_time": "2025-02-27T21:06:17.962Z"
   },
   {
    "duration": 1028,
    "start_time": "2025-02-27T21:06:20.576Z"
   },
   {
    "duration": 237,
    "start_time": "2025-02-27T21:07:00.261Z"
   },
   {
    "duration": 31,
    "start_time": "2025-02-27T21:07:01.624Z"
   },
   {
    "duration": 1095,
    "start_time": "2025-02-27T21:07:11.788Z"
   },
   {
    "duration": 14,
    "start_time": "2025-02-27T21:07:12.887Z"
   },
   {
    "duration": 435,
    "start_time": "2025-02-27T21:07:12.903Z"
   },
   {
    "duration": 22,
    "start_time": "2025-02-27T21:07:13.340Z"
   },
   {
    "duration": 550,
    "start_time": "2025-02-27T21:07:13.364Z"
   },
   {
    "duration": 139,
    "start_time": "2025-02-27T21:07:13.915Z"
   },
   {
    "duration": 52,
    "start_time": "2025-02-27T21:07:14.055Z"
   },
   {
    "duration": 4,
    "start_time": "2025-02-27T21:07:14.108Z"
   },
   {
    "duration": 47,
    "start_time": "2025-02-27T21:07:14.114Z"
   },
   {
    "duration": 195,
    "start_time": "2025-02-27T21:07:14.165Z"
   },
   {
    "duration": 18,
    "start_time": "2025-02-27T21:07:14.362Z"
   },
   {
    "duration": 25,
    "start_time": "2025-02-27T21:07:14.382Z"
   },
   {
    "duration": 49,
    "start_time": "2025-02-27T21:07:14.409Z"
   },
   {
    "duration": 5,
    "start_time": "2025-02-27T21:07:14.459Z"
   },
   {
    "duration": 8,
    "start_time": "2025-02-27T21:07:14.465Z"
   },
   {
    "duration": 148,
    "start_time": "2025-02-27T21:07:14.475Z"
   },
   {
    "duration": 34,
    "start_time": "2025-02-27T21:07:14.625Z"
   },
   {
    "duration": 7,
    "start_time": "2025-02-27T21:07:14.661Z"
   },
   {
    "duration": 10,
    "start_time": "2025-02-27T21:07:14.670Z"
   },
   {
    "duration": 50,
    "start_time": "2025-02-27T21:07:14.682Z"
   },
   {
    "duration": 6,
    "start_time": "2025-02-27T21:07:14.734Z"
   },
   {
    "duration": 8,
    "start_time": "2025-02-27T21:07:14.743Z"
   },
   {
    "duration": 12,
    "start_time": "2025-02-27T21:07:14.753Z"
   },
   {
    "duration": 48,
    "start_time": "2025-02-27T21:07:14.767Z"
   },
   {
    "duration": 77,
    "start_time": "2025-02-27T21:07:14.817Z"
   },
   {
    "duration": 26,
    "start_time": "2025-02-27T21:07:14.905Z"
   },
   {
    "duration": 2227,
    "start_time": "2025-02-27T21:07:14.933Z"
   },
   {
    "duration": 10,
    "start_time": "2025-02-27T21:07:17.165Z"
   },
   {
    "duration": 278,
    "start_time": "2025-02-27T21:07:17.176Z"
   },
   {
    "duration": 56,
    "start_time": "2025-02-27T21:07:17.456Z"
   },
   {
    "duration": 4,
    "start_time": "2025-02-27T21:07:17.515Z"
   },
   {
    "duration": 142,
    "start_time": "2025-02-27T21:07:17.520Z"
   },
   {
    "duration": 25,
    "start_time": "2025-02-27T21:07:17.664Z"
   },
   {
    "duration": 31,
    "start_time": "2025-02-27T21:07:17.691Z"
   },
   {
    "duration": 69,
    "start_time": "2025-02-27T21:07:17.724Z"
   },
   {
    "duration": 238,
    "start_time": "2025-02-27T21:07:17.794Z"
   },
   {
    "duration": 38,
    "start_time": "2025-02-27T21:07:18.034Z"
   },
   {
    "duration": 76,
    "start_time": "2025-02-27T21:07:18.073Z"
   },
   {
    "duration": 58,
    "start_time": "2025-02-27T21:07:18.150Z"
   },
   {
    "duration": 4,
    "start_time": "2025-02-27T21:07:18.210Z"
   },
   {
    "duration": 1417,
    "start_time": "2025-02-27T21:07:18.216Z"
   },
   {
    "duration": 204,
    "start_time": "2025-02-27T21:07:19.635Z"
   },
   {
    "duration": 2625,
    "start_time": "2025-02-27T21:07:19.914Z"
   },
   {
    "duration": 18889,
    "start_time": "2025-02-27T21:07:22.541Z"
   },
   {
    "duration": 485,
    "start_time": "2025-02-27T21:07:41.433Z"
   },
   {
    "duration": 213,
    "start_time": "2025-02-27T21:20:21.221Z"
   },
   {
    "duration": 805,
    "start_time": "2025-02-27T21:21:38.817Z"
   },
   {
    "duration": 209,
    "start_time": "2025-02-27T21:21:45.687Z"
   },
   {
    "duration": 37,
    "start_time": "2025-02-27T21:22:01.482Z"
   },
   {
    "duration": 708,
    "start_time": "2025-02-27T21:22:24.845Z"
   },
   {
    "duration": 158,
    "start_time": "2025-02-27T21:23:05.279Z"
   },
   {
    "duration": 2760,
    "start_time": "2025-02-28T16:17:32.262Z"
   },
   {
    "duration": 12,
    "start_time": "2025-02-28T16:17:35.025Z"
   },
   {
    "duration": 455,
    "start_time": "2025-02-28T16:17:35.039Z"
   },
   {
    "duration": 20,
    "start_time": "2025-02-28T16:17:35.497Z"
   },
   {
    "duration": 480,
    "start_time": "2025-02-28T16:17:35.530Z"
   },
   {
    "duration": 133,
    "start_time": "2025-02-28T16:17:36.012Z"
   },
   {
    "duration": 33,
    "start_time": "2025-02-28T16:17:36.147Z"
   },
   {
    "duration": 3,
    "start_time": "2025-02-28T16:17:36.182Z"
   },
   {
    "duration": 58,
    "start_time": "2025-02-28T16:17:36.186Z"
   },
   {
    "duration": 168,
    "start_time": "2025-02-28T16:17:36.247Z"
   },
   {
    "duration": 22,
    "start_time": "2025-02-28T16:17:36.417Z"
   },
   {
    "duration": 9,
    "start_time": "2025-02-28T16:17:36.440Z"
   },
   {
    "duration": 39,
    "start_time": "2025-02-28T16:17:36.451Z"
   },
   {
    "duration": 5,
    "start_time": "2025-02-28T16:17:36.492Z"
   },
   {
    "duration": 34,
    "start_time": "2025-02-28T16:17:36.498Z"
   },
   {
    "duration": 126,
    "start_time": "2025-02-28T16:17:36.534Z"
   },
   {
    "duration": 36,
    "start_time": "2025-02-28T16:17:36.661Z"
   },
   {
    "duration": 7,
    "start_time": "2025-02-28T16:17:36.699Z"
   },
   {
    "duration": 25,
    "start_time": "2025-02-28T16:17:36.708Z"
   },
   {
    "duration": 25,
    "start_time": "2025-02-28T16:17:36.734Z"
   },
   {
    "duration": 4,
    "start_time": "2025-02-28T16:17:36.761Z"
   },
   {
    "duration": 8,
    "start_time": "2025-02-28T16:17:36.768Z"
   },
   {
    "duration": 10,
    "start_time": "2025-02-28T16:17:36.778Z"
   },
   {
    "duration": 51,
    "start_time": "2025-02-28T16:17:36.789Z"
   },
   {
    "duration": 55,
    "start_time": "2025-02-28T16:17:36.842Z"
   },
   {
    "duration": 38,
    "start_time": "2025-02-28T16:17:36.898Z"
   },
   {
    "duration": 2112,
    "start_time": "2025-02-28T16:17:36.937Z"
   },
   {
    "duration": 9,
    "start_time": "2025-02-28T16:17:39.054Z"
   },
   {
    "duration": 257,
    "start_time": "2025-02-28T16:17:39.064Z"
   },
   {
    "duration": 56,
    "start_time": "2025-02-28T16:17:39.323Z"
   },
   {
    "duration": 5,
    "start_time": "2025-02-28T16:17:39.382Z"
   },
   {
    "duration": 128,
    "start_time": "2025-02-28T16:17:39.388Z"
   },
   {
    "duration": 27,
    "start_time": "2025-02-28T16:17:39.518Z"
   },
   {
    "duration": 19,
    "start_time": "2025-02-28T16:17:39.547Z"
   },
   {
    "duration": 81,
    "start_time": "2025-02-28T16:17:39.568Z"
   },
   {
    "duration": 72,
    "start_time": "2025-02-28T16:19:55.439Z"
   },
   {
    "duration": 48,
    "start_time": "2025-02-28T16:19:56.434Z"
   },
   {
    "duration": 4,
    "start_time": "2025-02-28T16:19:57.309Z"
   },
   {
    "duration": 530,
    "start_time": "2025-02-28T16:27:03.149Z"
   },
   {
    "duration": 93,
    "start_time": "2025-02-28T16:28:18.163Z"
   },
   {
    "duration": 207,
    "start_time": "2025-02-28T16:28:27.219Z"
   },
   {
    "duration": 1039,
    "start_time": "2025-02-28T16:28:59.461Z"
   },
   {
    "duration": 13,
    "start_time": "2025-02-28T16:29:00.503Z"
   },
   {
    "duration": 416,
    "start_time": "2025-02-28T16:29:00.517Z"
   },
   {
    "duration": 19,
    "start_time": "2025-02-28T16:29:00.934Z"
   },
   {
    "duration": 484,
    "start_time": "2025-02-28T16:29:00.955Z"
   },
   {
    "duration": 132,
    "start_time": "2025-02-28T16:29:01.441Z"
   },
   {
    "duration": 33,
    "start_time": "2025-02-28T16:29:01.575Z"
   },
   {
    "duration": 3,
    "start_time": "2025-02-28T16:29:01.610Z"
   },
   {
    "duration": 39,
    "start_time": "2025-02-28T16:29:01.631Z"
   },
   {
    "duration": 174,
    "start_time": "2025-02-28T16:29:01.672Z"
   },
   {
    "duration": 14,
    "start_time": "2025-02-28T16:29:01.847Z"
   },
   {
    "duration": 9,
    "start_time": "2025-02-28T16:29:01.863Z"
   },
   {
    "duration": 60,
    "start_time": "2025-02-28T16:29:01.874Z"
   },
   {
    "duration": 4,
    "start_time": "2025-02-28T16:29:01.939Z"
   },
   {
    "duration": 10,
    "start_time": "2025-02-28T16:29:01.945Z"
   },
   {
    "duration": 132,
    "start_time": "2025-02-28T16:29:01.959Z"
   },
   {
    "duration": 41,
    "start_time": "2025-02-28T16:29:02.093Z"
   },
   {
    "duration": 6,
    "start_time": "2025-02-28T16:29:02.137Z"
   },
   {
    "duration": 8,
    "start_time": "2025-02-28T16:29:02.144Z"
   },
   {
    "duration": 24,
    "start_time": "2025-02-28T16:29:02.154Z"
   },
   {
    "duration": 5,
    "start_time": "2025-02-28T16:29:02.180Z"
   },
   {
    "duration": 8,
    "start_time": "2025-02-28T16:29:02.187Z"
   },
   {
    "duration": 42,
    "start_time": "2025-02-28T16:29:02.196Z"
   },
   {
    "duration": 20,
    "start_time": "2025-02-28T16:29:02.240Z"
   },
   {
    "duration": 77,
    "start_time": "2025-02-28T16:29:02.262Z"
   },
   {
    "duration": 26,
    "start_time": "2025-02-28T16:29:02.341Z"
   },
   {
    "duration": 2097,
    "start_time": "2025-02-28T16:29:02.369Z"
   },
   {
    "duration": 8,
    "start_time": "2025-02-28T16:29:04.468Z"
   },
   {
    "duration": 246,
    "start_time": "2025-02-28T16:29:04.477Z"
   },
   {
    "duration": 59,
    "start_time": "2025-02-28T16:29:04.725Z"
   },
   {
    "duration": 5,
    "start_time": "2025-02-28T16:29:04.786Z"
   },
   {
    "duration": 124,
    "start_time": "2025-02-28T16:29:04.792Z"
   },
   {
    "duration": 32,
    "start_time": "2025-02-28T16:29:04.918Z"
   },
   {
    "duration": 18,
    "start_time": "2025-02-28T16:29:04.952Z"
   },
   {
    "duration": 82,
    "start_time": "2025-02-28T16:29:04.971Z"
   },
   {
    "duration": 61,
    "start_time": "2025-02-28T16:29:05.054Z"
   },
   {
    "duration": 56,
    "start_time": "2025-02-28T16:29:05.117Z"
   },
   {
    "duration": 5,
    "start_time": "2025-02-28T16:29:05.174Z"
   },
   {
    "duration": 167,
    "start_time": "2025-02-28T16:29:08.892Z"
   },
   {
    "duration": 1107,
    "start_time": "2025-02-28T16:29:16.424Z"
   },
   {
    "duration": 150,
    "start_time": "2025-02-28T16:29:37.796Z"
   },
   {
    "duration": 2384,
    "start_time": "2025-02-28T16:31:47.610Z"
   },
   {
    "duration": 16964,
    "start_time": "2025-02-28T16:31:52.596Z"
   },
   {
    "duration": 4,
    "start_time": "2025-02-28T16:33:03.690Z"
   },
   {
    "duration": 4,
    "start_time": "2025-02-28T16:33:17.565Z"
   },
   {
    "duration": 12,
    "start_time": "2025-02-28T16:33:17.571Z"
   },
   {
    "duration": 390,
    "start_time": "2025-02-28T16:33:17.585Z"
   },
   {
    "duration": 17,
    "start_time": "2025-02-28T16:33:17.978Z"
   },
   {
    "duration": 442,
    "start_time": "2025-02-28T16:33:17.997Z"
   },
   {
    "duration": 131,
    "start_time": "2025-02-28T16:33:18.440Z"
   },
   {
    "duration": 32,
    "start_time": "2025-02-28T16:33:18.573Z"
   },
   {
    "duration": 3,
    "start_time": "2025-02-28T16:33:18.607Z"
   },
   {
    "duration": 31,
    "start_time": "2025-02-28T16:33:18.631Z"
   },
   {
    "duration": 162,
    "start_time": "2025-02-28T16:33:18.666Z"
   },
   {
    "duration": 13,
    "start_time": "2025-02-28T16:33:18.830Z"
   },
   {
    "duration": 7,
    "start_time": "2025-02-28T16:33:18.845Z"
   },
   {
    "duration": 40,
    "start_time": "2025-02-28T16:33:18.854Z"
   },
   {
    "duration": 5,
    "start_time": "2025-02-28T16:33:18.895Z"
   },
   {
    "duration": 32,
    "start_time": "2025-02-28T16:33:18.901Z"
   },
   {
    "duration": 137,
    "start_time": "2025-02-28T16:33:18.935Z"
   },
   {
    "duration": 34,
    "start_time": "2025-02-28T16:33:19.074Z"
   },
   {
    "duration": 22,
    "start_time": "2025-02-28T16:33:19.109Z"
   },
   {
    "duration": 9,
    "start_time": "2025-02-28T16:33:19.133Z"
   },
   {
    "duration": 24,
    "start_time": "2025-02-28T16:33:19.143Z"
   },
   {
    "duration": 4,
    "start_time": "2025-02-28T16:33:19.169Z"
   },
   {
    "duration": 10,
    "start_time": "2025-02-28T16:33:19.175Z"
   },
   {
    "duration": 10,
    "start_time": "2025-02-28T16:33:19.186Z"
   },
   {
    "duration": 51,
    "start_time": "2025-02-28T16:33:19.198Z"
   },
   {
    "duration": 54,
    "start_time": "2025-02-28T16:33:19.250Z"
   },
   {
    "duration": 41,
    "start_time": "2025-02-28T16:33:19.306Z"
   },
   {
    "duration": 2105,
    "start_time": "2025-02-28T16:33:19.348Z"
   },
   {
    "duration": 8,
    "start_time": "2025-02-28T16:33:21.457Z"
   },
   {
    "duration": 249,
    "start_time": "2025-02-28T16:33:21.466Z"
   },
   {
    "duration": 58,
    "start_time": "2025-02-28T16:33:21.717Z"
   },
   {
    "duration": 4,
    "start_time": "2025-02-28T16:33:21.777Z"
   },
   {
    "duration": 119,
    "start_time": "2025-02-28T16:33:21.782Z"
   },
   {
    "duration": 35,
    "start_time": "2025-02-28T16:33:21.902Z"
   },
   {
    "duration": 20,
    "start_time": "2025-02-28T16:33:21.939Z"
   },
   {
    "duration": 80,
    "start_time": "2025-02-28T16:33:21.961Z"
   },
   {
    "duration": 65,
    "start_time": "2025-02-28T16:33:22.043Z"
   },
   {
    "duration": 64,
    "start_time": "2025-02-28T16:33:22.109Z"
   },
   {
    "duration": 5,
    "start_time": "2025-02-28T16:33:22.175Z"
   },
   {
    "duration": 169,
    "start_time": "2025-02-28T16:33:22.181Z"
   },
   {
    "duration": 1093,
    "start_time": "2025-02-28T16:33:22.351Z"
   },
   {
    "duration": 286,
    "start_time": "2025-02-28T16:33:23.446Z"
   },
   {
    "duration": 2484,
    "start_time": "2025-02-28T16:33:23.734Z"
   },
   {
    "duration": 17860,
    "start_time": "2025-02-28T16:33:26.220Z"
   },
   {
    "duration": 398,
    "start_time": "2025-02-28T16:35:24.733Z"
   },
   {
    "duration": 218,
    "start_time": "2025-02-28T16:46:39.430Z"
   },
   {
    "duration": 10,
    "start_time": "2025-02-28T16:47:38.563Z"
   },
   {
    "duration": 12,
    "start_time": "2025-02-28T16:47:49.516Z"
   },
   {
    "duration": 145737,
    "start_time": "2025-02-28T16:48:04.303Z"
   },
   {
    "duration": 249999,
    "start_time": "2025-02-28T16:55:00.737Z"
   },
   {
    "duration": 13195,
    "start_time": "2025-02-28T17:18:36.153Z"
   },
   {
    "duration": 26770,
    "start_time": "2025-02-28T17:18:49.350Z"
   },
   {
    "duration": 19,
    "start_time": "2025-02-28T17:19:16.122Z"
   },
   {
    "duration": 129430,
    "start_time": "2025-02-28T17:20:52.195Z"
   },
   {
    "duration": 128685,
    "start_time": "2025-02-28T17:26:14.030Z"
   },
   {
    "duration": 10,
    "start_time": "2025-02-28T17:42:42.911Z"
   },
   {
    "duration": 123891,
    "start_time": "2025-02-28T17:42:57.942Z"
   },
   {
    "duration": 2848,
    "start_time": "2025-02-28T18:49:08.402Z"
   },
   {
    "duration": 11,
    "start_time": "2025-02-28T18:49:11.252Z"
   },
   {
    "duration": 457,
    "start_time": "2025-02-28T18:49:11.270Z"
   },
   {
    "duration": 21,
    "start_time": "2025-02-28T18:49:11.730Z"
   },
   {
    "duration": 482,
    "start_time": "2025-02-28T18:49:11.753Z"
   },
   {
    "duration": 138,
    "start_time": "2025-02-28T18:49:12.237Z"
   },
   {
    "duration": 34,
    "start_time": "2025-02-28T18:49:12.377Z"
   },
   {
    "duration": 4,
    "start_time": "2025-02-28T18:49:12.412Z"
   },
   {
    "duration": 58,
    "start_time": "2025-02-28T18:49:12.417Z"
   },
   {
    "duration": 172,
    "start_time": "2025-02-28T18:49:12.478Z"
   },
   {
    "duration": 22,
    "start_time": "2025-02-28T18:49:12.652Z"
   },
   {
    "duration": 9,
    "start_time": "2025-02-28T18:49:12.676Z"
   },
   {
    "duration": 40,
    "start_time": "2025-02-28T18:49:12.688Z"
   },
   {
    "duration": 5,
    "start_time": "2025-02-28T18:49:12.730Z"
   },
   {
    "duration": 34,
    "start_time": "2025-02-28T18:49:12.737Z"
   },
   {
    "duration": 121,
    "start_time": "2025-02-28T18:49:12.772Z"
   },
   {
    "duration": 34,
    "start_time": "2025-02-28T18:49:12.895Z"
   },
   {
    "duration": 6,
    "start_time": "2025-02-28T18:49:12.931Z"
   },
   {
    "duration": 32,
    "start_time": "2025-02-28T18:49:12.939Z"
   },
   {
    "duration": 26,
    "start_time": "2025-02-28T18:49:12.972Z"
   },
   {
    "duration": 4,
    "start_time": "2025-02-28T18:49:12.999Z"
   },
   {
    "duration": 8,
    "start_time": "2025-02-28T18:49:13.005Z"
   },
   {
    "duration": 10,
    "start_time": "2025-02-28T18:49:13.015Z"
   },
   {
    "duration": 47,
    "start_time": "2025-02-28T18:49:13.026Z"
   },
   {
    "duration": 56,
    "start_time": "2025-02-28T18:49:13.075Z"
   },
   {
    "duration": 44,
    "start_time": "2025-02-28T18:49:13.132Z"
   },
   {
    "duration": 2174,
    "start_time": "2025-02-28T18:49:13.178Z"
   },
   {
    "duration": 17,
    "start_time": "2025-02-28T18:49:15.356Z"
   },
   {
    "duration": 239,
    "start_time": "2025-02-28T18:49:15.374Z"
   },
   {
    "duration": 59,
    "start_time": "2025-02-28T18:49:15.617Z"
   },
   {
    "duration": 4,
    "start_time": "2025-02-28T18:49:15.678Z"
   },
   {
    "duration": 125,
    "start_time": "2025-02-28T18:49:15.684Z"
   },
   {
    "duration": 24,
    "start_time": "2025-02-28T18:49:15.811Z"
   },
   {
    "duration": 36,
    "start_time": "2025-02-28T18:49:15.837Z"
   },
   {
    "duration": 64,
    "start_time": "2025-02-28T18:49:15.875Z"
   },
   {
    "duration": 78,
    "start_time": "2025-02-28T18:49:15.942Z"
   },
   {
    "duration": 54,
    "start_time": "2025-02-28T18:49:16.021Z"
   },
   {
    "duration": 5,
    "start_time": "2025-02-28T18:49:16.077Z"
   },
   {
    "duration": 182,
    "start_time": "2025-02-28T18:49:16.084Z"
   },
   {
    "duration": 1202,
    "start_time": "2025-02-28T18:49:16.270Z"
   },
   {
    "duration": 212,
    "start_time": "2025-02-28T18:49:17.474Z"
   },
   {
    "duration": 2488,
    "start_time": "2025-02-28T18:49:17.688Z"
   },
   {
    "duration": 17756,
    "start_time": "2025-02-28T18:49:20.178Z"
   },
   {
    "duration": 471,
    "start_time": "2025-02-28T18:49:37.936Z"
   },
   {
    "duration": 152791,
    "start_time": "2025-02-28T18:49:38.409Z"
   },
   {
    "duration": 265018,
    "start_time": "2025-02-28T18:52:11.202Z"
   },
   {
    "duration": 14051,
    "start_time": "2025-02-28T18:56:36.222Z"
   },
   {
    "duration": 28231,
    "start_time": "2025-02-28T18:56:50.275Z"
   },
   {
    "duration": 138148,
    "start_time": "2025-02-28T18:57:18.508Z"
   },
   {
    "duration": 126473,
    "start_time": "2025-02-28T19:14:48.113Z"
   },
   {
    "duration": 2785,
    "start_time": "2025-02-28T20:26:16.968Z"
   },
   {
    "duration": 12,
    "start_time": "2025-02-28T20:26:19.756Z"
   },
   {
    "duration": 458,
    "start_time": "2025-02-28T20:26:19.769Z"
   },
   {
    "duration": 19,
    "start_time": "2025-02-28T20:26:20.230Z"
   },
   {
    "duration": 479,
    "start_time": "2025-02-28T20:26:20.251Z"
   },
   {
    "duration": 135,
    "start_time": "2025-02-28T20:26:20.733Z"
   },
   {
    "duration": 33,
    "start_time": "2025-02-28T20:26:20.869Z"
   },
   {
    "duration": 21,
    "start_time": "2025-02-28T20:26:20.904Z"
   },
   {
    "duration": 41,
    "start_time": "2025-02-28T20:26:20.927Z"
   },
   {
    "duration": 172,
    "start_time": "2025-02-28T20:26:20.972Z"
   },
   {
    "duration": 14,
    "start_time": "2025-02-28T20:26:21.145Z"
   },
   {
    "duration": 8,
    "start_time": "2025-02-28T20:26:21.161Z"
   },
   {
    "duration": 61,
    "start_time": "2025-02-28T20:26:21.171Z"
   },
   {
    "duration": 5,
    "start_time": "2025-02-28T20:26:21.233Z"
   },
   {
    "duration": 8,
    "start_time": "2025-02-28T20:26:21.240Z"
   },
   {
    "duration": 191,
    "start_time": "2025-02-28T20:26:21.250Z"
   },
   {
    "duration": 26,
    "start_time": "2025-02-28T20:26:21.443Z"
   },
   {
    "duration": 6,
    "start_time": "2025-02-28T20:26:21.471Z"
   },
   {
    "duration": 9,
    "start_time": "2025-02-28T20:26:21.479Z"
   },
   {
    "duration": 50,
    "start_time": "2025-02-28T20:26:21.489Z"
   },
   {
    "duration": 6,
    "start_time": "2025-02-28T20:26:21.541Z"
   },
   {
    "duration": 8,
    "start_time": "2025-02-28T20:26:21.548Z"
   },
   {
    "duration": 9,
    "start_time": "2025-02-28T20:26:21.558Z"
   },
   {
    "duration": 18,
    "start_time": "2025-02-28T20:26:21.569Z"
   },
   {
    "duration": 88,
    "start_time": "2025-02-28T20:26:21.589Z"
   },
   {
    "duration": 26,
    "start_time": "2025-02-28T20:26:21.679Z"
   },
   {
    "duration": 2196,
    "start_time": "2025-02-28T20:26:21.707Z"
   },
   {
    "duration": 16,
    "start_time": "2025-02-28T20:26:23.909Z"
   },
   {
    "duration": 243,
    "start_time": "2025-02-28T20:26:23.926Z"
   },
   {
    "duration": 59,
    "start_time": "2025-02-28T20:26:24.171Z"
   },
   {
    "duration": 5,
    "start_time": "2025-02-28T20:26:24.231Z"
   },
   {
    "duration": 118,
    "start_time": "2025-02-28T20:26:24.237Z"
   },
   {
    "duration": 28,
    "start_time": "2025-02-28T20:26:24.357Z"
   },
   {
    "duration": 49,
    "start_time": "2025-02-28T20:26:24.386Z"
   },
   {
    "duration": 67,
    "start_time": "2025-02-28T20:26:24.437Z"
   },
   {
    "duration": 83,
    "start_time": "2025-02-28T20:26:24.506Z"
   },
   {
    "duration": 58,
    "start_time": "2025-02-28T20:26:24.591Z"
   },
   {
    "duration": 4,
    "start_time": "2025-02-28T20:26:24.650Z"
   },
   {
    "duration": 175,
    "start_time": "2025-02-28T20:26:24.656Z"
   },
   {
    "duration": 1091,
    "start_time": "2025-02-28T20:26:24.834Z"
   },
   {
    "duration": 205,
    "start_time": "2025-02-28T20:26:25.927Z"
   },
   {
    "duration": 2481,
    "start_time": "2025-02-28T20:26:26.134Z"
   },
   {
    "duration": 17343,
    "start_time": "2025-02-28T20:26:28.623Z"
   },
   {
    "duration": 417,
    "start_time": "2025-02-28T20:26:45.968Z"
   },
   {
    "duration": 154472,
    "start_time": "2025-02-28T20:26:46.386Z"
   },
   {
    "duration": 261314,
    "start_time": "2025-02-28T20:29:20.860Z"
   },
   {
    "duration": 13661,
    "start_time": "2025-02-28T20:33:42.176Z"
   },
   {
    "duration": 26410,
    "start_time": "2025-02-28T20:33:55.838Z"
   },
   {
    "duration": 134721,
    "start_time": "2025-02-28T20:34:22.250Z"
   },
   {
    "duration": 130971,
    "start_time": "2025-02-28T20:36:36.973Z"
   },
   {
    "duration": 417857,
    "start_time": "2025-02-28T20:57:00.638Z"
   },
   {
    "duration": 183920,
    "start_time": "2025-02-28T21:06:49.937Z"
   },
   {
    "duration": 6,
    "start_time": "2025-02-28T21:10:14.453Z"
   },
   {
    "duration": 12,
    "start_time": "2025-02-28T21:10:14.463Z"
   },
   {
    "duration": 411,
    "start_time": "2025-02-28T21:10:14.477Z"
   },
   {
    "duration": 19,
    "start_time": "2025-02-28T21:10:14.889Z"
   },
   {
    "duration": 445,
    "start_time": "2025-02-28T21:10:14.910Z"
   },
   {
    "duration": 132,
    "start_time": "2025-02-28T21:10:15.357Z"
   },
   {
    "duration": 48,
    "start_time": "2025-02-28T21:10:15.491Z"
   },
   {
    "duration": 3,
    "start_time": "2025-02-28T21:10:15.541Z"
   },
   {
    "duration": 34,
    "start_time": "2025-02-28T21:10:15.546Z"
   },
   {
    "duration": 169,
    "start_time": "2025-02-28T21:10:15.581Z"
   },
   {
    "duration": 13,
    "start_time": "2025-02-28T21:10:15.752Z"
   },
   {
    "duration": 8,
    "start_time": "2025-02-28T21:10:15.767Z"
   },
   {
    "duration": 61,
    "start_time": "2025-02-28T21:10:15.777Z"
   },
   {
    "duration": 5,
    "start_time": "2025-02-28T21:10:15.840Z"
   },
   {
    "duration": 9,
    "start_time": "2025-02-28T21:10:15.849Z"
   },
   {
    "duration": 139,
    "start_time": "2025-02-28T21:10:15.859Z"
   },
   {
    "duration": 35,
    "start_time": "2025-02-28T21:10:15.999Z"
   },
   {
    "duration": 8,
    "start_time": "2025-02-28T21:10:16.036Z"
   },
   {
    "duration": 8,
    "start_time": "2025-02-28T21:10:16.045Z"
   },
   {
    "duration": 25,
    "start_time": "2025-02-28T21:10:16.055Z"
   },
   {
    "duration": 4,
    "start_time": "2025-02-28T21:10:16.082Z"
   },
   {
    "duration": 37,
    "start_time": "2025-02-28T21:10:16.088Z"
   },
   {
    "duration": 10,
    "start_time": "2025-02-28T21:10:16.127Z"
   },
   {
    "duration": 19,
    "start_time": "2025-02-28T21:10:16.139Z"
   },
   {
    "duration": 77,
    "start_time": "2025-02-28T21:10:16.159Z"
   },
   {
    "duration": 26,
    "start_time": "2025-02-28T21:10:16.238Z"
   },
   {
    "duration": 2202,
    "start_time": "2025-02-28T21:10:16.265Z"
   },
   {
    "duration": 9,
    "start_time": "2025-02-28T21:10:18.468Z"
   },
   {
    "duration": 239,
    "start_time": "2025-02-28T21:10:18.479Z"
   },
   {
    "duration": 56,
    "start_time": "2025-02-28T21:10:18.723Z"
   },
   {
    "duration": 4,
    "start_time": "2025-02-28T21:10:18.780Z"
   },
   {
    "duration": 122,
    "start_time": "2025-02-28T21:10:18.786Z"
   },
   {
    "duration": 36,
    "start_time": "2025-02-28T21:10:18.910Z"
   },
   {
    "duration": 21,
    "start_time": "2025-02-28T21:10:18.948Z"
   },
   {
    "duration": 85,
    "start_time": "2025-02-28T21:10:18.971Z"
   },
   {
    "duration": 76,
    "start_time": "2025-02-28T21:10:19.058Z"
   },
   {
    "duration": 46,
    "start_time": "2025-02-28T21:10:19.136Z"
   },
   {
    "duration": 3,
    "start_time": "2025-02-28T21:10:19.184Z"
   },
   {
    "duration": 179,
    "start_time": "2025-02-28T21:10:19.189Z"
   },
   {
    "duration": 1156,
    "start_time": "2025-02-28T21:10:19.370Z"
   },
   {
    "duration": 217,
    "start_time": "2025-02-28T21:10:20.528Z"
   },
   {
    "duration": 2445,
    "start_time": "2025-02-28T21:10:20.827Z"
   },
   {
    "duration": 17545,
    "start_time": "2025-02-28T21:10:23.274Z"
   },
   {
    "duration": 418,
    "start_time": "2025-02-28T21:10:40.825Z"
   },
   {
    "duration": 155747,
    "start_time": "2025-02-28T21:10:41.245Z"
   },
   {
    "duration": 294884,
    "start_time": "2025-02-28T21:13:16.994Z"
   },
   {
    "duration": 13408,
    "start_time": "2025-02-28T21:18:11.880Z"
   },
   {
    "duration": 26811,
    "start_time": "2025-02-28T21:18:25.290Z"
   },
   {
    "duration": 137487,
    "start_time": "2025-02-28T21:18:52.102Z"
   },
   {
    "duration": 128056,
    "start_time": "2025-02-28T21:21:09.591Z"
   },
   {
    "duration": 1355472,
    "start_time": "2025-02-28T21:23:17.649Z"
   },
   {
    "duration": 5,
    "start_time": "2025-02-28T22:17:01.400Z"
   },
   {
    "duration": 11,
    "start_time": "2025-02-28T22:17:01.416Z"
   },
   {
    "duration": 387,
    "start_time": "2025-02-28T22:17:01.429Z"
   },
   {
    "duration": 20,
    "start_time": "2025-02-28T22:17:01.818Z"
   },
   {
    "duration": 441,
    "start_time": "2025-02-28T22:17:01.840Z"
   },
   {
    "duration": 129,
    "start_time": "2025-02-28T22:17:02.285Z"
   },
   {
    "duration": 42,
    "start_time": "2025-02-28T22:17:02.416Z"
   },
   {
    "duration": 3,
    "start_time": "2025-02-28T22:17:02.460Z"
   },
   {
    "duration": 32,
    "start_time": "2025-02-28T22:17:02.465Z"
   },
   {
    "duration": 176,
    "start_time": "2025-02-28T22:17:02.499Z"
   },
   {
    "duration": 14,
    "start_time": "2025-02-28T22:17:02.677Z"
   },
   {
    "duration": 8,
    "start_time": "2025-02-28T22:17:02.693Z"
   },
   {
    "duration": 42,
    "start_time": "2025-02-28T22:17:02.723Z"
   },
   {
    "duration": 4,
    "start_time": "2025-02-28T22:17:02.767Z"
   },
   {
    "duration": 7,
    "start_time": "2025-02-28T22:17:02.776Z"
   },
   {
    "duration": 141,
    "start_time": "2025-02-28T22:17:02.784Z"
   },
   {
    "duration": 26,
    "start_time": "2025-02-28T22:17:02.927Z"
   },
   {
    "duration": 6,
    "start_time": "2025-02-28T22:17:02.955Z"
   },
   {
    "duration": 7,
    "start_time": "2025-02-28T22:17:02.963Z"
   },
   {
    "duration": 25,
    "start_time": "2025-02-28T22:17:02.972Z"
   },
   {
    "duration": 30,
    "start_time": "2025-02-28T22:17:02.998Z"
   },
   {
    "duration": 7,
    "start_time": "2025-02-28T22:17:03.030Z"
   },
   {
    "duration": 11,
    "start_time": "2025-02-28T22:17:03.039Z"
   },
   {
    "duration": 21,
    "start_time": "2025-02-28T22:17:03.053Z"
   },
   {
    "duration": 85,
    "start_time": "2025-02-28T22:17:03.076Z"
   },
   {
    "duration": 26,
    "start_time": "2025-02-28T22:17:03.162Z"
   },
   {
    "duration": 2167,
    "start_time": "2025-02-28T22:17:03.190Z"
   },
   {
    "duration": 10,
    "start_time": "2025-02-28T22:17:05.359Z"
   },
   {
    "duration": 253,
    "start_time": "2025-02-28T22:17:05.371Z"
   },
   {
    "duration": 55,
    "start_time": "2025-02-28T22:17:05.626Z"
   },
   {
    "duration": 5,
    "start_time": "2025-02-28T22:17:05.683Z"
   },
   {
    "duration": 126,
    "start_time": "2025-02-28T22:17:05.689Z"
   },
   {
    "duration": 41,
    "start_time": "2025-02-28T22:17:05.817Z"
   },
   {
    "duration": 23,
    "start_time": "2025-02-28T22:17:05.861Z"
   },
   {
    "duration": 90,
    "start_time": "2025-02-28T22:17:05.886Z"
   },
   {
    "duration": 80,
    "start_time": "2025-02-28T22:17:05.978Z"
   },
   {
    "duration": 51,
    "start_time": "2025-02-28T22:17:06.059Z"
   },
   {
    "duration": 14,
    "start_time": "2025-02-28T22:17:06.111Z"
   },
   {
    "duration": 170,
    "start_time": "2025-02-28T22:17:06.127Z"
   },
   {
    "duration": 1036,
    "start_time": "2025-02-28T22:17:06.298Z"
   },
   {
    "duration": 287,
    "start_time": "2025-02-28T22:17:07.337Z"
   },
   {
    "duration": 2702,
    "start_time": "2025-02-28T22:17:07.630Z"
   },
   {
    "duration": 19595,
    "start_time": "2025-02-28T22:17:10.334Z"
   },
   {
    "duration": 473,
    "start_time": "2025-02-28T22:17:29.931Z"
   },
   {
    "duration": 164663,
    "start_time": "2025-02-28T22:17:30.406Z"
   },
   {
    "duration": 273974,
    "start_time": "2025-02-28T22:20:15.071Z"
   },
   {
    "duration": 15684,
    "start_time": "2025-02-28T22:24:49.047Z"
   },
   {
    "duration": 29979,
    "start_time": "2025-02-28T22:25:04.733Z"
   },
   {
    "duration": 138417,
    "start_time": "2025-02-28T22:25:34.714Z"
   },
   {
    "duration": 160501,
    "start_time": "2025-02-28T22:27:53.133Z"
   },
   {
    "duration": 652623,
    "start_time": "2025-02-28T22:31:53.405Z"
   },
   {
    "duration": 1463277,
    "start_time": "2025-02-28T22:48:06.180Z"
   },
   {
    "duration": 12,
    "start_time": "2025-02-28T23:20:13.738Z"
   },
   {
    "duration": 30678,
    "start_time": "2025-02-28T23:20:43.147Z"
   },
   {
    "duration": 10333,
    "start_time": "2025-02-28T23:22:47.212Z"
   },
   {
    "duration": 94,
    "start_time": "2025-03-01T00:45:50.672Z"
   },
   {
    "duration": 2815,
    "start_time": "2025-03-01T01:16:29.252Z"
   },
   {
    "duration": 12,
    "start_time": "2025-03-01T01:16:32.069Z"
   },
   {
    "duration": 476,
    "start_time": "2025-03-01T01:16:32.083Z"
   },
   {
    "duration": 20,
    "start_time": "2025-03-01T01:16:32.561Z"
   },
   {
    "duration": 478,
    "start_time": "2025-03-01T01:16:32.583Z"
   },
   {
    "duration": 147,
    "start_time": "2025-03-01T01:16:33.063Z"
   },
   {
    "duration": 34,
    "start_time": "2025-03-01T01:16:33.212Z"
   },
   {
    "duration": 3,
    "start_time": "2025-03-01T01:16:33.248Z"
   },
   {
    "duration": 61,
    "start_time": "2025-03-01T01:16:33.253Z"
   },
   {
    "duration": 162,
    "start_time": "2025-03-01T01:16:33.318Z"
   },
   {
    "duration": 24,
    "start_time": "2025-03-01T01:16:33.481Z"
   },
   {
    "duration": 11,
    "start_time": "2025-03-01T01:16:33.507Z"
   },
   {
    "duration": 41,
    "start_time": "2025-03-01T01:16:33.520Z"
   },
   {
    "duration": 5,
    "start_time": "2025-03-01T01:16:33.563Z"
   },
   {
    "duration": 9,
    "start_time": "2025-03-01T01:16:33.570Z"
   },
   {
    "duration": 119,
    "start_time": "2025-03-01T01:16:33.605Z"
   },
   {
    "duration": 35,
    "start_time": "2025-03-01T01:16:33.726Z"
   },
   {
    "duration": 6,
    "start_time": "2025-03-01T01:16:33.762Z"
   },
   {
    "duration": 7,
    "start_time": "2025-03-01T01:16:33.770Z"
   },
   {
    "duration": 49,
    "start_time": "2025-03-01T01:16:33.779Z"
   },
   {
    "duration": 5,
    "start_time": "2025-03-01T01:16:33.829Z"
   },
   {
    "duration": 8,
    "start_time": "2025-03-01T01:16:33.835Z"
   },
   {
    "duration": 84,
    "start_time": "2025-03-01T01:16:33.844Z"
   },
   {
    "duration": 19,
    "start_time": "2025-03-01T01:16:33.929Z"
   },
   {
    "duration": 69,
    "start_time": "2025-03-01T01:16:33.950Z"
   },
   {
    "duration": 26,
    "start_time": "2025-03-01T01:16:34.021Z"
   },
   {
    "duration": 2192,
    "start_time": "2025-03-01T01:16:34.050Z"
   },
   {
    "duration": 8,
    "start_time": "2025-03-01T01:16:36.245Z"
   },
   {
    "duration": 253,
    "start_time": "2025-03-01T01:16:36.254Z"
   },
   {
    "duration": 59,
    "start_time": "2025-03-01T01:16:36.508Z"
   },
   {
    "duration": 5,
    "start_time": "2025-03-01T01:16:36.569Z"
   },
   {
    "duration": 130,
    "start_time": "2025-03-01T01:16:36.575Z"
   },
   {
    "duration": 27,
    "start_time": "2025-03-01T01:16:36.707Z"
   },
   {
    "duration": 18,
    "start_time": "2025-03-01T01:16:36.736Z"
   },
   {
    "duration": 88,
    "start_time": "2025-03-01T01:16:36.756Z"
   },
   {
    "duration": 74,
    "start_time": "2025-03-01T01:16:36.846Z"
   },
   {
    "duration": 49,
    "start_time": "2025-03-01T01:16:36.922Z"
   },
   {
    "duration": 4,
    "start_time": "2025-03-01T01:16:36.974Z"
   },
   {
    "duration": 178,
    "start_time": "2025-03-01T01:16:36.979Z"
   },
   {
    "duration": 5,
    "start_time": "2025-03-01T01:17:00.290Z"
   },
   {
    "duration": 13,
    "start_time": "2025-03-01T01:17:00.297Z"
   },
   {
    "duration": 401,
    "start_time": "2025-03-01T01:17:00.312Z"
   },
   {
    "duration": 18,
    "start_time": "2025-03-01T01:17:00.715Z"
   },
   {
    "duration": 433,
    "start_time": "2025-03-01T01:17:00.735Z"
   },
   {
    "duration": 153,
    "start_time": "2025-03-01T01:17:01.170Z"
   },
   {
    "duration": 31,
    "start_time": "2025-03-01T01:17:01.325Z"
   },
   {
    "duration": 3,
    "start_time": "2025-03-01T01:17:01.358Z"
   },
   {
    "duration": 50,
    "start_time": "2025-03-01T01:17:01.362Z"
   },
   {
    "duration": 160,
    "start_time": "2025-03-01T01:17:01.414Z"
   },
   {
    "duration": 13,
    "start_time": "2025-03-01T01:17:01.577Z"
   },
   {
    "duration": 20,
    "start_time": "2025-03-01T01:17:01.591Z"
   },
   {
    "duration": 39,
    "start_time": "2025-03-01T01:17:01.614Z"
   },
   {
    "duration": 5,
    "start_time": "2025-03-01T01:17:01.655Z"
   },
   {
    "duration": 8,
    "start_time": "2025-03-01T01:17:01.661Z"
   },
   {
    "duration": 144,
    "start_time": "2025-03-01T01:17:01.671Z"
   },
   {
    "duration": 29,
    "start_time": "2025-03-01T01:17:01.817Z"
   },
   {
    "duration": 6,
    "start_time": "2025-03-01T01:17:01.847Z"
   },
   {
    "duration": 8,
    "start_time": "2025-03-01T01:17:01.855Z"
   },
   {
    "duration": 48,
    "start_time": "2025-03-01T01:17:01.865Z"
   },
   {
    "duration": 5,
    "start_time": "2025-03-01T01:17:01.915Z"
   },
   {
    "duration": 8,
    "start_time": "2025-03-01T01:17:01.921Z"
   },
   {
    "duration": 10,
    "start_time": "2025-03-01T01:17:01.931Z"
   },
   {
    "duration": 20,
    "start_time": "2025-03-01T01:17:01.942Z"
   },
   {
    "duration": 86,
    "start_time": "2025-03-01T01:17:01.963Z"
   },
   {
    "duration": 25,
    "start_time": "2025-03-01T01:17:02.051Z"
   },
   {
    "duration": 2209,
    "start_time": "2025-03-01T01:17:02.077Z"
   },
   {
    "duration": 8,
    "start_time": "2025-03-01T01:17:04.288Z"
   },
   {
    "duration": 232,
    "start_time": "2025-03-01T01:17:04.306Z"
   },
   {
    "duration": 55,
    "start_time": "2025-03-01T01:17:04.540Z"
   },
   {
    "duration": 4,
    "start_time": "2025-03-01T01:17:04.606Z"
   },
   {
    "duration": 120,
    "start_time": "2025-03-01T01:17:04.612Z"
   },
   {
    "duration": 23,
    "start_time": "2025-03-01T01:17:04.734Z"
   },
   {
    "duration": 17,
    "start_time": "2025-03-01T01:17:04.759Z"
   },
   {
    "duration": 93,
    "start_time": "2025-03-01T01:17:04.778Z"
   },
   {
    "duration": 79,
    "start_time": "2025-03-01T01:17:04.873Z"
   },
   {
    "duration": 54,
    "start_time": "2025-03-01T01:17:04.955Z"
   },
   {
    "duration": 4,
    "start_time": "2025-03-01T01:17:05.011Z"
   },
   {
    "duration": 169,
    "start_time": "2025-03-01T01:17:05.017Z"
   },
   {
    "duration": 87,
    "start_time": "2025-03-01T01:17:16.553Z"
   },
   {
    "duration": 994,
    "start_time": "2025-03-01T01:17:33.633Z"
   },
   {
    "duration": 154,
    "start_time": "2025-03-01T01:18:07.364Z"
   },
   {
    "duration": 10190,
    "start_time": "2025-03-01T01:18:16.538Z"
   },
   {
    "duration": 13,
    "start_time": "2025-03-01T01:21:09.469Z"
   },
   {
    "duration": 43893,
    "start_time": "2025-03-01T01:25:32.324Z"
   },
   {
    "duration": 70091,
    "start_time": "2025-03-01T01:34:29.334Z"
   },
   {
    "duration": 1851,
    "start_time": "2025-03-01T01:36:38.977Z"
   },
   {
    "duration": 870686,
    "start_time": "2025-03-01T01:43:00.978Z"
   },
   {
    "duration": 12,
    "start_time": "2025-03-01T01:58:47.691Z"
   },
   {
    "duration": 133735,
    "start_time": "2025-03-01T01:59:00.044Z"
   },
   {
    "duration": 273120,
    "start_time": "2025-03-01T02:07:54.824Z"
   },
   {
    "duration": 7839,
    "start_time": "2025-03-01T02:14:34.904Z"
   },
   {
    "duration": 156,
    "start_time": "2025-03-01T10:42:21.054Z"
   },
   {
    "duration": 2802,
    "start_time": "2025-03-01T10:42:50.313Z"
   },
   {
    "duration": 11,
    "start_time": "2025-03-01T10:42:53.118Z"
   },
   {
    "duration": 453,
    "start_time": "2025-03-01T10:42:53.131Z"
   },
   {
    "duration": 18,
    "start_time": "2025-03-01T10:42:53.587Z"
   },
   {
    "duration": 491,
    "start_time": "2025-03-01T10:42:53.607Z"
   },
   {
    "duration": 133,
    "start_time": "2025-03-01T10:42:54.099Z"
   },
   {
    "duration": 46,
    "start_time": "2025-03-01T10:42:54.234Z"
   },
   {
    "duration": 4,
    "start_time": "2025-03-01T10:42:54.282Z"
   },
   {
    "duration": 40,
    "start_time": "2025-03-01T10:42:54.287Z"
   },
   {
    "duration": 182,
    "start_time": "2025-03-01T10:42:54.331Z"
   },
   {
    "duration": 14,
    "start_time": "2025-03-01T10:42:54.515Z"
   },
   {
    "duration": 9,
    "start_time": "2025-03-01T10:42:54.531Z"
   },
   {
    "duration": 61,
    "start_time": "2025-03-01T10:42:54.542Z"
   },
   {
    "duration": 5,
    "start_time": "2025-03-01T10:42:54.605Z"
   },
   {
    "duration": 8,
    "start_time": "2025-03-01T10:42:54.612Z"
   },
   {
    "duration": 132,
    "start_time": "2025-03-01T10:42:54.622Z"
   },
   {
    "duration": 47,
    "start_time": "2025-03-01T10:42:54.755Z"
   },
   {
    "duration": 7,
    "start_time": "2025-03-01T10:42:54.804Z"
   },
   {
    "duration": 8,
    "start_time": "2025-03-01T10:42:54.812Z"
   },
   {
    "duration": 24,
    "start_time": "2025-03-01T10:42:54.823Z"
   },
   {
    "duration": 25,
    "start_time": "2025-03-01T10:42:54.849Z"
   },
   {
    "duration": 7,
    "start_time": "2025-03-01T10:42:54.877Z"
   },
   {
    "duration": 9,
    "start_time": "2025-03-01T10:42:54.886Z"
   },
   {
    "duration": 18,
    "start_time": "2025-03-01T10:42:54.897Z"
   },
   {
    "duration": 81,
    "start_time": "2025-03-01T10:42:54.917Z"
   },
   {
    "duration": 27,
    "start_time": "2025-03-01T10:42:55.000Z"
   },
   {
    "duration": 2110,
    "start_time": "2025-03-01T10:42:55.029Z"
   },
   {
    "duration": 8,
    "start_time": "2025-03-01T10:42:57.144Z"
   },
   {
    "duration": 263,
    "start_time": "2025-03-01T10:42:57.154Z"
   },
   {
    "duration": 59,
    "start_time": "2025-03-01T10:42:57.419Z"
   },
   {
    "duration": 5,
    "start_time": "2025-03-01T10:42:57.479Z"
   },
   {
    "duration": 123,
    "start_time": "2025-03-01T10:42:57.485Z"
   },
   {
    "duration": 24,
    "start_time": "2025-03-01T10:42:57.611Z"
   },
   {
    "duration": 35,
    "start_time": "2025-03-01T10:42:57.636Z"
   },
   {
    "duration": 65,
    "start_time": "2025-03-01T10:42:57.673Z"
   },
   {
    "duration": 89,
    "start_time": "2025-03-01T10:42:57.740Z"
   },
   {
    "duration": 57,
    "start_time": "2025-03-01T10:42:57.831Z"
   },
   {
    "duration": 4,
    "start_time": "2025-03-01T10:42:57.890Z"
   },
   {
    "duration": 182,
    "start_time": "2025-03-01T10:42:57.896Z"
   },
   {
    "duration": 1096,
    "start_time": "2025-03-01T10:42:58.080Z"
   },
   {
    "duration": 212,
    "start_time": "2025-03-01T10:42:59.177Z"
   },
   {
    "duration": 2568,
    "start_time": "2025-03-01T10:42:59.390Z"
   },
   {
    "duration": 17806,
    "start_time": "2025-03-01T10:43:01.960Z"
   },
   {
    "duration": 439,
    "start_time": "2025-03-01T10:43:19.767Z"
   },
   {
    "duration": 149612,
    "start_time": "2025-03-01T10:43:20.208Z"
   },
   {
    "duration": 263785,
    "start_time": "2025-03-01T10:45:49.821Z"
   },
   {
    "duration": 13738,
    "start_time": "2025-03-01T10:50:13.609Z"
   },
   {
    "duration": 27089,
    "start_time": "2025-03-01T10:50:27.349Z"
   },
   {
    "duration": 136797,
    "start_time": "2025-03-01T10:50:54.439Z"
   },
   {
    "duration": 120,
    "start_time": "2025-03-01T10:53:11.238Z"
   },
   {
    "duration": 1086,
    "start_time": "2025-03-01T11:12:05.530Z"
   },
   {
    "duration": 12,
    "start_time": "2025-03-01T11:12:06.618Z"
   },
   {
    "duration": 437,
    "start_time": "2025-03-01T11:12:06.632Z"
   },
   {
    "duration": 23,
    "start_time": "2025-03-01T11:12:07.071Z"
   },
   {
    "duration": 495,
    "start_time": "2025-03-01T11:12:07.096Z"
   },
   {
    "duration": 135,
    "start_time": "2025-03-01T11:12:07.593Z"
   },
   {
    "duration": 42,
    "start_time": "2025-03-01T11:12:07.730Z"
   },
   {
    "duration": 3,
    "start_time": "2025-03-01T11:12:07.773Z"
   },
   {
    "duration": 40,
    "start_time": "2025-03-01T11:12:07.778Z"
   },
   {
    "duration": 182,
    "start_time": "2025-03-01T11:12:07.821Z"
   },
   {
    "duration": 13,
    "start_time": "2025-03-01T11:12:08.005Z"
   },
   {
    "duration": 10,
    "start_time": "2025-03-01T11:12:08.020Z"
   },
   {
    "duration": 61,
    "start_time": "2025-03-01T11:12:08.033Z"
   },
   {
    "duration": 5,
    "start_time": "2025-03-01T11:12:08.095Z"
   },
   {
    "duration": 7,
    "start_time": "2025-03-01T11:12:08.101Z"
   },
   {
    "duration": 138,
    "start_time": "2025-03-01T11:12:08.110Z"
   },
   {
    "duration": 43,
    "start_time": "2025-03-01T11:12:08.250Z"
   },
   {
    "duration": 6,
    "start_time": "2025-03-01T11:12:08.295Z"
   },
   {
    "duration": 9,
    "start_time": "2025-03-01T11:12:08.303Z"
   },
   {
    "duration": 26,
    "start_time": "2025-03-01T11:12:08.314Z"
   },
   {
    "duration": 32,
    "start_time": "2025-03-01T11:12:08.342Z"
   },
   {
    "duration": 7,
    "start_time": "2025-03-01T11:12:08.376Z"
   },
   {
    "duration": 10,
    "start_time": "2025-03-01T11:12:08.385Z"
   },
   {
    "duration": 20,
    "start_time": "2025-03-01T11:12:08.396Z"
   },
   {
    "duration": 79,
    "start_time": "2025-03-01T11:12:08.418Z"
   },
   {
    "duration": 26,
    "start_time": "2025-03-01T11:12:08.499Z"
   },
   {
    "duration": 2188,
    "start_time": "2025-03-01T11:12:08.526Z"
   },
   {
    "duration": 10,
    "start_time": "2025-03-01T11:12:10.718Z"
   },
   {
    "duration": 240,
    "start_time": "2025-03-01T11:12:10.731Z"
   },
   {
    "duration": 55,
    "start_time": "2025-03-01T11:12:10.973Z"
   },
   {
    "duration": 4,
    "start_time": "2025-03-01T11:12:11.030Z"
   },
   {
    "duration": 127,
    "start_time": "2025-03-01T11:12:11.035Z"
   },
   {
    "duration": 28,
    "start_time": "2025-03-01T11:12:11.164Z"
   },
   {
    "duration": 19,
    "start_time": "2025-03-01T11:12:11.193Z"
   },
   {
    "duration": 90,
    "start_time": "2025-03-01T11:12:11.214Z"
   },
   {
    "duration": 69,
    "start_time": "2025-03-01T11:12:11.306Z"
   },
   {
    "duration": 48,
    "start_time": "2025-03-01T11:12:11.377Z"
   },
   {
    "duration": 4,
    "start_time": "2025-03-01T11:12:11.426Z"
   },
   {
    "duration": 186,
    "start_time": "2025-03-01T11:12:11.432Z"
   },
   {
    "duration": 1154,
    "start_time": "2025-03-01T11:12:11.620Z"
   },
   {
    "duration": 206,
    "start_time": "2025-03-01T11:12:12.775Z"
   },
   {
    "duration": 2491,
    "start_time": "2025-03-01T11:12:12.983Z"
   },
   {
    "duration": 17559,
    "start_time": "2025-03-01T11:12:15.476Z"
   },
   {
    "duration": 435,
    "start_time": "2025-03-01T11:12:33.037Z"
   },
   {
    "duration": 150163,
    "start_time": "2025-03-01T11:12:33.475Z"
   },
   {
    "duration": 261504,
    "start_time": "2025-03-01T11:15:03.640Z"
   },
   {
    "duration": 13893,
    "start_time": "2025-03-01T11:19:25.146Z"
   },
   {
    "duration": 27477,
    "start_time": "2025-03-01T11:19:39.041Z"
   },
   {
    "duration": 136689,
    "start_time": "2025-03-01T11:20:06.520Z"
   },
   {
    "duration": 124772,
    "start_time": "2025-03-01T11:22:23.211Z"
   },
   {
    "duration": 625019,
    "start_time": "2025-03-01T11:24:27.985Z"
   },
   {
    "duration": 1204203,
    "start_time": "2025-03-01T11:34:53.006Z"
   },
   {
    "duration": 29967,
    "start_time": "2025-03-01T11:54:57.213Z"
   },
   {
    "duration": 10010,
    "start_time": "2025-03-01T11:55:27.183Z"
   },
   {
    "duration": 42774,
    "start_time": "2025-03-01T11:55:37.196Z"
   },
   {
    "duration": 67412,
    "start_time": "2025-03-01T11:56:19.972Z"
   },
   {
    "duration": 2184,
    "start_time": "2025-03-01T11:57:27.387Z"
   },
   {
    "duration": 866853,
    "start_time": "2025-03-01T11:57:29.573Z"
   },
   {
    "duration": 133242,
    "start_time": "2025-03-01T12:11:56.427Z"
   },
   {
    "duration": 240663,
    "start_time": "2025-03-01T12:14:09.671Z"
   },
   {
    "duration": 7873,
    "start_time": "2025-03-01T12:18:10.336Z"
   },
   {
    "duration": 8,
    "start_time": "2025-03-01T12:18:18.211Z"
   },
   {
    "duration": 8,
    "start_time": "2025-03-01T12:19:50.400Z"
   },
   {
    "duration": 8,
    "start_time": "2025-03-01T12:23:21.478Z"
   },
   {
    "duration": 10,
    "start_time": "2025-03-01T12:23:47.388Z"
   },
   {
    "duration": 4,
    "start_time": "2025-03-01T12:25:53.906Z"
   },
   {
    "duration": 5,
    "start_time": "2025-03-01T12:26:06.062Z"
   },
   {
    "duration": 8,
    "start_time": "2025-03-01T12:26:21.079Z"
   },
   {
    "duration": 10,
    "start_time": "2025-03-01T12:29:15.799Z"
   },
   {
    "duration": 9,
    "start_time": "2025-03-01T12:37:40.395Z"
   },
   {
    "duration": 158,
    "start_time": "2025-03-01T19:29:46.901Z"
   },
   {
    "duration": 12,
    "start_time": "2025-03-01T19:34:49.746Z"
   },
   {
    "duration": 11,
    "start_time": "2025-03-01T19:34:49.854Z"
   },
   {
    "duration": 14,
    "start_time": "2025-03-01T19:35:53.731Z"
   },
   {
    "duration": 13,
    "start_time": "2025-03-01T19:35:53.898Z"
   },
   {
    "duration": 11,
    "start_time": "2025-03-01T19:40:45.227Z"
   },
   {
    "duration": 13,
    "start_time": "2025-03-01T19:46:04.381Z"
   },
   {
    "duration": 43,
    "start_time": "2025-03-01T19:50:50.342Z"
   },
   {
    "duration": 14,
    "start_time": "2025-03-01T19:50:50.466Z"
   },
   {
    "duration": 2902,
    "start_time": "2025-03-01T19:51:17.747Z"
   },
   {
    "duration": 12,
    "start_time": "2025-03-01T19:51:20.651Z"
   },
   {
    "duration": 452,
    "start_time": "2025-03-01T19:51:20.665Z"
   },
   {
    "duration": 20,
    "start_time": "2025-03-01T19:51:21.120Z"
   },
   {
    "duration": 484,
    "start_time": "2025-03-01T19:51:21.142Z"
   },
   {
    "duration": 135,
    "start_time": "2025-03-01T19:51:21.628Z"
   },
   {
    "duration": 41,
    "start_time": "2025-03-01T19:51:21.765Z"
   },
   {
    "duration": 3,
    "start_time": "2025-03-01T19:51:21.809Z"
   },
   {
    "duration": 40,
    "start_time": "2025-03-01T19:51:21.813Z"
   },
   {
    "duration": 179,
    "start_time": "2025-03-01T19:51:21.872Z"
   },
   {
    "duration": 26,
    "start_time": "2025-03-01T19:51:22.052Z"
   },
   {
    "duration": 10,
    "start_time": "2025-03-01T19:51:22.080Z"
   },
   {
    "duration": 41,
    "start_time": "2025-03-01T19:51:22.092Z"
   },
   {
    "duration": 5,
    "start_time": "2025-03-01T19:51:22.135Z"
   },
   {
    "duration": 30,
    "start_time": "2025-03-01T19:51:22.141Z"
   },
   {
    "duration": 121,
    "start_time": "2025-03-01T19:51:22.172Z"
   },
   {
    "duration": 27,
    "start_time": "2025-03-01T19:51:22.294Z"
   },
   {
    "duration": 6,
    "start_time": "2025-03-01T19:51:22.323Z"
   },
   {
    "duration": 10,
    "start_time": "2025-03-01T19:51:22.330Z"
   },
   {
    "duration": 51,
    "start_time": "2025-03-01T19:51:22.342Z"
   },
   {
    "duration": 5,
    "start_time": "2025-03-01T19:51:22.395Z"
   },
   {
    "duration": 7,
    "start_time": "2025-03-01T19:51:22.402Z"
   },
   {
    "duration": 11,
    "start_time": "2025-03-01T19:51:22.411Z"
   },
   {
    "duration": 48,
    "start_time": "2025-03-01T19:51:22.424Z"
   },
   {
    "duration": 55,
    "start_time": "2025-03-01T19:51:22.474Z"
   },
   {
    "duration": 40,
    "start_time": "2025-03-01T19:51:22.531Z"
   },
   {
    "duration": 2098,
    "start_time": "2025-03-01T19:51:22.572Z"
   },
   {
    "duration": 10,
    "start_time": "2025-03-01T19:51:24.674Z"
   },
   {
    "duration": 249,
    "start_time": "2025-03-01T19:51:24.685Z"
   },
   {
    "duration": 59,
    "start_time": "2025-03-01T19:51:24.936Z"
   },
   {
    "duration": 6,
    "start_time": "2025-03-01T19:51:24.996Z"
   },
   {
    "duration": 122,
    "start_time": "2025-03-01T19:51:25.003Z"
   },
   {
    "duration": 23,
    "start_time": "2025-03-01T19:51:25.127Z"
   },
   {
    "duration": 31,
    "start_time": "2025-03-01T19:51:25.152Z"
   },
   {
    "duration": 65,
    "start_time": "2025-03-01T19:51:25.186Z"
   },
   {
    "duration": 79,
    "start_time": "2025-03-01T19:51:25.253Z"
   },
   {
    "duration": 57,
    "start_time": "2025-03-01T19:51:25.334Z"
   },
   {
    "duration": 4,
    "start_time": "2025-03-01T19:51:25.393Z"
   },
   {
    "duration": 175,
    "start_time": "2025-03-01T19:51:25.399Z"
   },
   {
    "duration": 1118,
    "start_time": "2025-03-01T19:51:25.575Z"
   },
   {
    "duration": 290,
    "start_time": "2025-03-01T19:51:26.695Z"
   },
   {
    "duration": 2566,
    "start_time": "2025-03-01T19:51:26.986Z"
   },
   {
    "duration": 17821,
    "start_time": "2025-03-01T19:51:29.554Z"
   },
   {
    "duration": 430,
    "start_time": "2025-03-01T19:51:47.377Z"
   }
  ],
  "kernelspec": {
   "display_name": "Python 3 (ipykernel)",
   "language": "python",
   "name": "python3"
  },
  "language_info": {
   "codemirror_mode": {
    "name": "ipython",
    "version": 3
   },
   "file_extension": ".py",
   "mimetype": "text/x-python",
   "name": "python",
   "nbconvert_exporter": "python",
   "pygments_lexer": "ipython3",
   "version": "3.9.19"
  },
  "toc": {
   "base_numbering": 1,
   "nav_menu": {},
   "number_sections": true,
   "sideBar": true,
   "skip_h1_title": true,
   "title_cell": "Table of Contents",
   "title_sidebar": "Contents",
   "toc_cell": true,
   "toc_position": {
    "height": "calc(100% - 180px)",
    "left": "10px",
    "top": "150px",
    "width": "171.42px"
   },
   "toc_section_display": true,
   "toc_window_display": false
  }
 },
 "nbformat": 4,
 "nbformat_minor": 2
}
