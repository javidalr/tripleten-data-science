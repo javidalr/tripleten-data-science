{
 "cells": [
  {
   "cell_type": "markdown",
   "metadata": {},
   "source": [
    "Hola Javier!\n",
    "\n",
    "Soy **Patricio Requena** 👋. Es un placer ser el revisor de tu proyecto el día de hoy!\n",
    "\n",
    "Revisaré tu proyecto detenidamente con el objetivo de ayudarte a mejorar y perfeccionar tus habilidades. Durante mi revisión, identificaré áreas donde puedas hacer mejoras en tu código, señalando específicamente qué y cómo podrías ajustar para optimizar el rendimiento y la claridad de tu proyecto. Además, es importante para mí destacar los aspectos que has manejado excepcionalmente bien. Reconocer tus fortalezas te ayudará a entender qué técnicas y métodos están funcionando a tu favor y cómo puedes aplicarlos en futuras tareas. \n",
    "\n",
    "_**Recuerda que al final de este notebook encontrarás un comentario general de mi parte**_, empecemos!\n",
    "\n",
    "Encontrarás mis comentarios dentro de cajas verdes, amarillas o rojas, ⚠️ **por favor, no muevas, modifiques o borres mis comentarios** ⚠️:\n",
    "\n",
    "\n",
    "<div class=\"alert alert-block alert-success\">\n",
    "<b>Comentario del revisor</b> <a class=“tocSkip”></a>\n",
    "Si todo está perfecto.\n",
    "</div>\n",
    "\n",
    "<div class=\"alert alert-block alert-warning\">\n",
    "<b>Comentario del revisor</b> <a class=“tocSkip”></a>\n",
    "Si tu código está bien pero se puede mejorar o hay algún detalle que le hace falta.\n",
    "</div>\n",
    "\n",
    "<div class=\"alert alert-block alert-danger\">\n",
    "<b>Comentario del revisor</b> <a class=“tocSkip”></a>\n",
    "Si de pronto hace falta algo o existe algún problema con tu código o conclusiones.\n",
    "</div>\n",
    "\n",
    "Puedes responderme de esta forma:\n",
    "<div class=\"alert alert-block alert-info\">\n",
    "<b>Respuesta del estudiante</b> <a class=“tocSkip”></a>\n",
    "</div>"
   ]
  },
  {
   "cell_type": "markdown",
   "metadata": {},
   "source": [
    "<div class=\"alert alert-block alert-info\">\n",
    "<b>Respuesta del estudiante</b> \n",
    "\n",
    "Hola Patricio!\n",
    "\n",
    "Muchas gracias por tu revisión, los consejos y las oportunidades de mejora, acabo de realizar todos las mejoras y modificaciones, quedo atento a cualquier requerimiento. Buena semana, saludos\n",
    "    <a class=“tocSkip”></a>\n",
    "</div>"
   ]
  },
  {
   "cell_type": "markdown",
   "metadata": {
    "id": "3rYiDeEH0q0f"
   },
   "source": [
    "# ¿Cuál es la mejor tarifa?\n",
    "\n",
    "Trabajas como analista para el operador de telecomunicaciones Megaline. La empresa ofrece a sus clientes dos tarifas de prepago, Surf y Ultimate. El departamento comercial quiere saber cuál de las tarifas genera más ingresos para poder ajustar el presupuesto de publicidad.\n",
    "\n",
    "Vas a realizar un análisis preliminar de las tarifas basado en una selección de clientes relativamente pequeña. Tendrás los datos de 500 clientes de Megaline: quiénes son los clientes, de dónde son, qué tarifa usan, así como la cantidad de llamadas que hicieron y los mensajes de texto que enviaron en 2018. Tu trabajo es analizar el comportamiento de los clientes y determinar qué tarifa de prepago genera más ingresos."
   ]
  },
  {
   "cell_type": "markdown",
   "metadata": {
    "id": "VNddPNRQ0q0w"
   },
   "source": [
    "[Te proporcionamos algunos comentarios para orientarte mientras completas este proyecto. Pero debes asegurarte de eliminar todos los comentarios entre corchetes antes de entregar tu proyecto.]\n",
    "\n",
    "[Antes de sumergirte en el análisis de datos, explica por tu propia cuenta el propósito del proyecto y las acciones que planeas realizar.]\n",
    "\n",
    "[Ten en cuenta que estudiar, modificar y analizar datos es un proceso iterativo. Es normal volver a los pasos anteriores y corregirlos/ampliarlos para permitir nuevos pasos.]"
   ]
  },
  {
   "cell_type": "markdown",
   "metadata": {
    "id": "MQi4IPy70q0y"
   },
   "source": [
    "## Inicialización"
   ]
  },
  {
   "cell_type": "code",
   "execution_count": 1,
   "metadata": {
    "id": "MtYIuBxu0q0z"
   },
   "outputs": [],
   "source": [
    "# Cargar todas las librerías\n",
    "\n",
    "import pandas as pd\n",
    "import math as math\n",
    "import numpy as np\n",
    "from scipy import stats as st\n",
    "import matplotlib.pyplot as plt\n",
    "import seaborn as sns"
   ]
  },
  {
   "cell_type": "markdown",
   "metadata": {
    "id": "4ysWWC5i0q00"
   },
   "source": [
    "## Cargar datos"
   ]
  },
  {
   "cell_type": "code",
   "execution_count": 2,
   "metadata": {
    "id": "CCqPW7rS0q01"
   },
   "outputs": [],
   "source": [
    "# Carga los archivos de datos en diferentes DataFrames\n",
    "\n",
    "calls = pd.read_csv('/datasets/megaline_calls.csv',sep = ',')\n",
    "internet = pd.read_csv('/datasets/megaline_internet.csv', sep = ',')\n",
    "messages = pd.read_csv('/datasets/megaline_messages.csv', sep = ',')\n",
    "plans = pd.read_csv('/datasets/megaline_plans.csv', sep = ',')\n",
    "users = pd.read_csv('/datasets/megaline_users.csv', sep = ',')"
   ]
  },
  {
   "cell_type": "markdown",
   "metadata": {},
   "source": [
    "<div class=\"alert alert-block alert-success\">\n",
    "<b>Comentario del revisor (1ra Iteracion)</b> <a class=“tocSkip”></a>\n",
    "\n",
    "Buen trabajo realizando la importación de librerías y carga de datos en celdas separadas, esto ayuda a que la lectura y seguimiento del notebook sea más amigable\n",
    "</div>"
   ]
  },
  {
   "cell_type": "markdown",
   "metadata": {
    "id": "69qqoJ3r0q01"
   },
   "source": [
    "## Preparar los datos"
   ]
  },
  {
   "cell_type": "markdown",
   "metadata": {
    "id": "vUuZw80S0q01"
   },
   "source": [
    "[Los datos para este proyecto se dividen en varias tablas. Explora cada una para tener una comprensión inicial de los datos. Si es necesario, haz las correcciones requeridas en cada tabla.]"
   ]
  },
  {
   "cell_type": "markdown",
   "metadata": {
    "id": "ohBhimvH0q01"
   },
   "source": [
    "## Tarifas"
   ]
  },
  {
   "cell_type": "code",
   "execution_count": 3,
   "metadata": {
    "id": "GptqP3Q40q02"
   },
   "outputs": [
    {
     "name": "stdout",
     "output_type": "stream",
     "text": [
      "<class 'pandas.core.frame.DataFrame'>\n",
      "RangeIndex: 2 entries, 0 to 1\n",
      "Data columns (total 8 columns):\n",
      " #   Column                 Non-Null Count  Dtype  \n",
      "---  ------                 --------------  -----  \n",
      " 0   messages_included      2 non-null      int64  \n",
      " 1   mb_per_month_included  2 non-null      int64  \n",
      " 2   minutes_included       2 non-null      int64  \n",
      " 3   usd_monthly_pay        2 non-null      int64  \n",
      " 4   usd_per_gb             2 non-null      int64  \n",
      " 5   usd_per_message        2 non-null      float64\n",
      " 6   usd_per_minute         2 non-null      float64\n",
      " 7   plan_name              2 non-null      object \n",
      "dtypes: float64(2), int64(5), object(1)\n",
      "memory usage: 256.0+ bytes\n"
     ]
    }
   ],
   "source": [
    "# Imprime la información general/resumida sobre el DataFrame de las tarifas\n",
    "\n",
    "plans.info()"
   ]
  },
  {
   "cell_type": "code",
   "execution_count": 4,
   "metadata": {
    "id": "64xzjwL70q02",
    "scrolled": true
   },
   "outputs": [
    {
     "name": "stdout",
     "output_type": "stream",
     "text": [
      "Muestra de información de los planes\n",
      "\n"
     ]
    },
    {
     "data": {
      "text/html": [
       "<div>\n",
       "<style scoped>\n",
       "    .dataframe tbody tr th:only-of-type {\n",
       "        vertical-align: middle;\n",
       "    }\n",
       "\n",
       "    .dataframe tbody tr th {\n",
       "        vertical-align: top;\n",
       "    }\n",
       "\n",
       "    .dataframe thead th {\n",
       "        text-align: right;\n",
       "    }\n",
       "</style>\n",
       "<table border=\"1\" class=\"dataframe\">\n",
       "  <thead>\n",
       "    <tr style=\"text-align: right;\">\n",
       "      <th></th>\n",
       "      <th>messages_included</th>\n",
       "      <th>mb_per_month_included</th>\n",
       "      <th>minutes_included</th>\n",
       "      <th>usd_monthly_pay</th>\n",
       "      <th>usd_per_gb</th>\n",
       "      <th>usd_per_message</th>\n",
       "      <th>usd_per_minute</th>\n",
       "      <th>plan_name</th>\n",
       "    </tr>\n",
       "  </thead>\n",
       "  <tbody>\n",
       "    <tr>\n",
       "      <th>0</th>\n",
       "      <td>50</td>\n",
       "      <td>15360</td>\n",
       "      <td>500</td>\n",
       "      <td>20</td>\n",
       "      <td>10</td>\n",
       "      <td>0.03</td>\n",
       "      <td>0.03</td>\n",
       "      <td>surf</td>\n",
       "    </tr>\n",
       "    <tr>\n",
       "      <th>1</th>\n",
       "      <td>1000</td>\n",
       "      <td>30720</td>\n",
       "      <td>3000</td>\n",
       "      <td>70</td>\n",
       "      <td>7</td>\n",
       "      <td>0.01</td>\n",
       "      <td>0.01</td>\n",
       "      <td>ultimate</td>\n",
       "    </tr>\n",
       "  </tbody>\n",
       "</table>\n",
       "</div>"
      ],
      "text/plain": [
       "   messages_included  mb_per_month_included  minutes_included  \\\n",
       "0                 50                  15360               500   \n",
       "1               1000                  30720              3000   \n",
       "\n",
       "   usd_monthly_pay  usd_per_gb  usd_per_message  usd_per_minute plan_name  \n",
       "0               20          10             0.03            0.03      surf  \n",
       "1               70           7             0.01            0.01  ultimate  "
      ]
     },
     "execution_count": 4,
     "metadata": {},
     "output_type": "execute_result"
    }
   ],
   "source": [
    "# Imprime una muestra de los datos para las tarifas\n",
    "\n",
    "print('Muestra de información de los planes')\n",
    "print()\n",
    "plans\n"
   ]
  },
  {
   "cell_type": "markdown",
   "metadata": {},
   "source": [
    "<div class=\"alert alert-block alert-warning\">\n",
    "<b>Comentario del revisor (1ra Iteracion)</b> <a class=“tocSkip”></a>\n",
    "\n",
    "Cuando quieras mostrar el resultado que devuelve `.head()`, o `.sample()` o directamente un DataFrame como en este caso el de `plans` no es necesario el uso de `print` ya que pierdes la capacidad del notebook de mostrar el DataFrame en formato de tabla. Te recomiendo ejecutar la línea sin print o utilizar `display()` en su lugar.\n",
    "</div>"
   ]
  },
  {
   "cell_type": "markdown",
   "metadata": {},
   "source": [
    "<div class=\"alert alert-block alert-info\">\n",
    "<b>Respuesta del estudiante</b>\n",
    "\n",
    "Aplicado<a class=“tocSkip”></a>\n",
    "</div>"
   ]
  },
  {
   "cell_type": "markdown",
   "metadata": {},
   "source": [
    "<div class=\"alert alert-block alert-success\">\n",
    "<b>Comentario del revisor (2da Iteracion)</b> <a class=“tocSkip”></a>\n",
    "\n",
    "Buen trabajo con el ajuste\n",
    "</div>"
   ]
  },
  {
   "cell_type": "markdown",
   "metadata": {
    "id": "mEc_3_hs0q02"
   },
   "source": [
    "[Describe lo que ves y observas en la información general y en la muestra de datos impresa para el precio de datos anterior. ¿Hay algún problema (tipos de datos no adecuados, datos ausentes, etc.) que pudieran necesitar investigación y cambios adicionales? ¿Cómo se puede arreglar?]"
   ]
  },
  {
   "cell_type": "markdown",
   "metadata": {},
   "source": [
    "**El DF tiene solo la información de las tarifas de los planes que ofrece la empresa, por lo cual, no existen valores\n",
    "nulos ni valores duplicados, y todos los datos, lo unico seria agregar una columna con la cantidad de Gb's incluidos en el plan**"
   ]
  },
  {
   "cell_type": "markdown",
   "metadata": {
    "id": "R3C05i1l0q03"
   },
   "source": [
    "## Corregir datos"
   ]
  },
  {
   "cell_type": "markdown",
   "metadata": {
    "id": "bIi8StZI0q03"
   },
   "source": [
    "[Corrige los problemas obvios con los datos basándote en las observaciones iniciales.]"
   ]
  },
  {
   "cell_type": "markdown",
   "metadata": {
    "id": "Y7SVmjGn0q03"
   },
   "source": [
    "**No hay nada que corregir**"
   ]
  },
  {
   "cell_type": "markdown",
   "metadata": {
    "id": "LJir7bml0q03"
   },
   "source": [
    "## Enriquecer los datos"
   ]
  },
  {
   "cell_type": "markdown",
   "metadata": {
    "id": "eqADpCfg0q04"
   },
   "source": [
    "[Agrega factores adicionales a los datos si crees que pudieran ser útiles.]"
   ]
  },
  {
   "cell_type": "code",
   "execution_count": 5,
   "metadata": {
    "id": "gfcIEuXV0q04",
    "scrolled": true
   },
   "outputs": [
    {
     "data": {
      "text/html": [
       "<div>\n",
       "<style scoped>\n",
       "    .dataframe tbody tr th:only-of-type {\n",
       "        vertical-align: middle;\n",
       "    }\n",
       "\n",
       "    .dataframe tbody tr th {\n",
       "        vertical-align: top;\n",
       "    }\n",
       "\n",
       "    .dataframe thead th {\n",
       "        text-align: right;\n",
       "    }\n",
       "</style>\n",
       "<table border=\"1\" class=\"dataframe\">\n",
       "  <thead>\n",
       "    <tr style=\"text-align: right;\">\n",
       "      <th></th>\n",
       "      <th>plan_name</th>\n",
       "      <th>minutes_included</th>\n",
       "      <th>messages_included</th>\n",
       "      <th>mb_per_month_included</th>\n",
       "      <th>gb_per_month_included</th>\n",
       "      <th>usd_monthly_pay</th>\n",
       "      <th>usd_per_minute</th>\n",
       "      <th>usd_per_message</th>\n",
       "      <th>usd_per_gb</th>\n",
       "    </tr>\n",
       "  </thead>\n",
       "  <tbody>\n",
       "    <tr>\n",
       "      <th>0</th>\n",
       "      <td>surf</td>\n",
       "      <td>500</td>\n",
       "      <td>50</td>\n",
       "      <td>15360</td>\n",
       "      <td>15</td>\n",
       "      <td>20</td>\n",
       "      <td>0.03</td>\n",
       "      <td>0.03</td>\n",
       "      <td>10</td>\n",
       "    </tr>\n",
       "    <tr>\n",
       "      <th>1</th>\n",
       "      <td>ultimate</td>\n",
       "      <td>3000</td>\n",
       "      <td>1000</td>\n",
       "      <td>30720</td>\n",
       "      <td>30</td>\n",
       "      <td>70</td>\n",
       "      <td>0.01</td>\n",
       "      <td>0.01</td>\n",
       "      <td>7</td>\n",
       "    </tr>\n",
       "  </tbody>\n",
       "</table>\n",
       "</div>"
      ],
      "text/plain": [
       "  plan_name  minutes_included  messages_included  mb_per_month_included  \\\n",
       "0      surf               500                 50                  15360   \n",
       "1  ultimate              3000               1000                  30720   \n",
       "\n",
       "   gb_per_month_included  usd_monthly_pay  usd_per_minute  usd_per_message  \\\n",
       "0                     15               20            0.03             0.03   \n",
       "1                     30               70            0.01             0.01   \n",
       "\n",
       "   usd_per_gb  \n",
       "0          10  \n",
       "1           7  "
      ]
     },
     "execution_count": 5,
     "metadata": {},
     "output_type": "execute_result"
    }
   ],
   "source": [
    "# Se agrega columna con los gb's incluidos en el plan mensual\n",
    "\n",
    "plans['gb_per_month_included'] = (plans['mb_per_month_included']/1024).astype('int')\n",
    "plans = plans[['plan_name','minutes_included','messages_included','mb_per_month_included','gb_per_month_included','usd_monthly_pay','usd_per_minute','usd_per_message','usd_per_gb']]\n",
    "plans"
   ]
  },
  {
   "cell_type": "markdown",
   "metadata": {},
   "source": [
    "<div class=\"alert alert-block alert-success\">\n",
    "<b>Comentario del revisor (1ra Iteracion)</b> <a class=“tocSkip”></a>\n",
    "\n",
    "Muy buen trabajo con la transformación!\n",
    "</div>"
   ]
  },
  {
   "cell_type": "markdown",
   "metadata": {
    "id": "1n2X6WXf0q04"
   },
   "source": [
    "## Usuarios/as"
   ]
  },
  {
   "cell_type": "code",
   "execution_count": 6,
   "metadata": {
    "id": "2NgjWFqx0q05"
   },
   "outputs": [
    {
     "name": "stdout",
     "output_type": "stream",
     "text": [
      "<class 'pandas.core.frame.DataFrame'>\n",
      "RangeIndex: 500 entries, 0 to 499\n",
      "Data columns (total 8 columns):\n",
      " #   Column      Non-Null Count  Dtype \n",
      "---  ------      --------------  ----- \n",
      " 0   user_id     500 non-null    int64 \n",
      " 1   first_name  500 non-null    object\n",
      " 2   last_name   500 non-null    object\n",
      " 3   age         500 non-null    int64 \n",
      " 4   city        500 non-null    object\n",
      " 5   reg_date    500 non-null    object\n",
      " 6   plan        500 non-null    object\n",
      " 7   churn_date  34 non-null     object\n",
      "dtypes: int64(2), object(6)\n",
      "memory usage: 31.4+ KB\n"
     ]
    }
   ],
   "source": [
    "# Imprime la información general/resumida sobre el DataFrame de usuarios\n",
    "\n",
    "users.info()"
   ]
  },
  {
   "cell_type": "code",
   "execution_count": 7,
   "metadata": {
    "id": "1IN1L9uh0q05"
   },
   "outputs": [
    {
     "data": {
      "text/html": [
       "<div>\n",
       "<style scoped>\n",
       "    .dataframe tbody tr th:only-of-type {\n",
       "        vertical-align: middle;\n",
       "    }\n",
       "\n",
       "    .dataframe tbody tr th {\n",
       "        vertical-align: top;\n",
       "    }\n",
       "\n",
       "    .dataframe thead th {\n",
       "        text-align: right;\n",
       "    }\n",
       "</style>\n",
       "<table border=\"1\" class=\"dataframe\">\n",
       "  <thead>\n",
       "    <tr style=\"text-align: right;\">\n",
       "      <th></th>\n",
       "      <th>user_id</th>\n",
       "      <th>first_name</th>\n",
       "      <th>last_name</th>\n",
       "      <th>age</th>\n",
       "      <th>city</th>\n",
       "      <th>reg_date</th>\n",
       "      <th>plan</th>\n",
       "      <th>churn_date</th>\n",
       "    </tr>\n",
       "  </thead>\n",
       "  <tbody>\n",
       "    <tr>\n",
       "      <th>1</th>\n",
       "      <td>1001</td>\n",
       "      <td>Mickey</td>\n",
       "      <td>Wilkerson</td>\n",
       "      <td>28</td>\n",
       "      <td>Seattle-Tacoma-Bellevue, WA MSA</td>\n",
       "      <td>2018-08-13</td>\n",
       "      <td>surf</td>\n",
       "      <td>NaN</td>\n",
       "    </tr>\n",
       "    <tr>\n",
       "      <th>100</th>\n",
       "      <td>1100</td>\n",
       "      <td>Aaron</td>\n",
       "      <td>Rowe</td>\n",
       "      <td>65</td>\n",
       "      <td>New York-Newark-Jersey City, NY-NJ-PA MSA</td>\n",
       "      <td>2018-02-13</td>\n",
       "      <td>surf</td>\n",
       "      <td>NaN</td>\n",
       "    </tr>\n",
       "    <tr>\n",
       "      <th>369</th>\n",
       "      <td>1369</td>\n",
       "      <td>Bernard</td>\n",
       "      <td>Mckee</td>\n",
       "      <td>69</td>\n",
       "      <td>Milwaukee-Waukesha, WI MSA</td>\n",
       "      <td>2018-10-06</td>\n",
       "      <td>surf</td>\n",
       "      <td>NaN</td>\n",
       "    </tr>\n",
       "    <tr>\n",
       "      <th>451</th>\n",
       "      <td>1451</td>\n",
       "      <td>Lenard</td>\n",
       "      <td>Harding</td>\n",
       "      <td>53</td>\n",
       "      <td>Charlotte-Concord-Gastonia, NC-SC MSA</td>\n",
       "      <td>2018-02-15</td>\n",
       "      <td>ultimate</td>\n",
       "      <td>2018-12-10</td>\n",
       "    </tr>\n",
       "    <tr>\n",
       "      <th>215</th>\n",
       "      <td>1215</td>\n",
       "      <td>Adelle</td>\n",
       "      <td>Knapp</td>\n",
       "      <td>70</td>\n",
       "      <td>New York-Newark-Jersey City, NY-NJ-PA MSA</td>\n",
       "      <td>2018-07-01</td>\n",
       "      <td>surf</td>\n",
       "      <td>NaN</td>\n",
       "    </tr>\n",
       "  </tbody>\n",
       "</table>\n",
       "</div>"
      ],
      "text/plain": [
       "     user_id first_name  last_name  age  \\\n",
       "1       1001     Mickey  Wilkerson   28   \n",
       "100     1100      Aaron       Rowe   65   \n",
       "369     1369    Bernard      Mckee   69   \n",
       "451     1451     Lenard    Harding   53   \n",
       "215     1215     Adelle      Knapp   70   \n",
       "\n",
       "                                          city    reg_date      plan  \\\n",
       "1              Seattle-Tacoma-Bellevue, WA MSA  2018-08-13      surf   \n",
       "100  New York-Newark-Jersey City, NY-NJ-PA MSA  2018-02-13      surf   \n",
       "369                 Milwaukee-Waukesha, WI MSA  2018-10-06      surf   \n",
       "451      Charlotte-Concord-Gastonia, NC-SC MSA  2018-02-15  ultimate   \n",
       "215  New York-Newark-Jersey City, NY-NJ-PA MSA  2018-07-01      surf   \n",
       "\n",
       "     churn_date  \n",
       "1           NaN  \n",
       "100         NaN  \n",
       "369         NaN  \n",
       "451  2018-12-10  \n",
       "215         NaN  "
      ]
     },
     "execution_count": 7,
     "metadata": {},
     "output_type": "execute_result"
    }
   ],
   "source": [
    "# Imprime una muestra de datos para usuarios\n",
    "\n",
    "users.sample(5)"
   ]
  },
  {
   "cell_type": "code",
   "execution_count": 8,
   "metadata": {},
   "outputs": [
    {
     "data": {
      "text/plain": [
       "0"
      ]
     },
     "execution_count": 8,
     "metadata": {},
     "output_type": "execute_result"
    }
   ],
   "source": [
    "users.duplicated().sum()"
   ]
  },
  {
   "cell_type": "markdown",
   "metadata": {
    "id": "dCZoUq4f0q06"
   },
   "source": [
    "[Describe lo que ves y observas en la información general y en la muestra de datos impresa para el precio de datos anterior. ¿Hay algún problema (tipos de datos no adecuados, datos ausentes, etc.) que pudieran necesitar investigación y cambios adicionales? ¿Cómo se puede arreglar?]"
   ]
  },
  {
   "cell_type": "markdown",
   "metadata": {},
   "source": [
    "**El DF tiene solo 1 columna con valores nulos, los cuales corresponden a los clientes que aun mantienen contrato del plan vigente con la empresa, no existen valores duplicados, ademas de ello, las columnas que contienen fechas, tienen su tipo de dato esta erroneo, por lo que modificarlo nos permite trabajar mejor con las fechas, y separar en columnas dia, mes y año respectivamente, luego con la columna edad generar una columna categorica que permita trabajar con rangos de edad, y por ultimo la columna city, separar la informacion en 2 columnas, ciudades y estados**"
   ]
  },
  {
   "cell_type": "markdown",
   "metadata": {
    "id": "BX5FQh_I0q06"
   },
   "source": [
    "### Corregir los datos"
   ]
  },
  {
   "cell_type": "markdown",
   "metadata": {
    "id": "8OdKMwJv0q06"
   },
   "source": [
    "[Corrige los problemas obvios con los datos basándote en las observaciones iniciales.]"
   ]
  },
  {
   "cell_type": "code",
   "execution_count": 9,
   "metadata": {
    "id": "yUqX-K0C0q07"
   },
   "outputs": [
    {
     "name": "stdout",
     "output_type": "stream",
     "text": [
      "<class 'pandas.core.frame.DataFrame'>\n",
      "RangeIndex: 500 entries, 0 to 499\n",
      "Data columns (total 8 columns):\n",
      " #   Column      Non-Null Count  Dtype         \n",
      "---  ------      --------------  -----         \n",
      " 0   user_id     500 non-null    int64         \n",
      " 1   first_name  500 non-null    object        \n",
      " 2   last_name   500 non-null    object        \n",
      " 3   age         500 non-null    int64         \n",
      " 4   city        500 non-null    object        \n",
      " 5   reg_date    500 non-null    datetime64[ns]\n",
      " 6   plan        500 non-null    object        \n",
      " 7   churn_date  34 non-null     datetime64[ns]\n",
      "dtypes: datetime64[ns](2), int64(2), object(4)\n",
      "memory usage: 31.4+ KB\n"
     ]
    }
   ],
   "source": [
    "# CAMBIANDO EL TIPO DE DATOS DE LAS COLUMNAS QUE SE COMPONEN DE FECHAS, DE OBJECT(STRING) A DATETIME\n",
    "\n",
    "users['reg_date'] = pd.to_datetime(users['reg_date'], format = '%Y-%m-%d')\n",
    "users['churn_date'] = pd.to_datetime(users['churn_date'], format = '%Y-%m-%d')\n",
    "users.info()"
   ]
  },
  {
   "cell_type": "markdown",
   "metadata": {
    "id": "ycwuARJp0q07"
   },
   "source": [
    "### Enriquecer los datos"
   ]
  },
  {
   "cell_type": "markdown",
   "metadata": {
    "id": "96NIh4CJ0q08"
   },
   "source": [
    "[Agrega factores adicionales a los datos si crees que pudieran ser útiles.]"
   ]
  },
  {
   "cell_type": "code",
   "execution_count": 10,
   "metadata": {},
   "outputs": [
    {
     "name": "stdout",
     "output_type": "stream",
     "text": [
      "Metodo describe() para obtener la edad minima y maxima de los clientes\n",
      "\n",
      "count    500.000000\n",
      "mean      45.486000\n",
      "std       16.972269\n",
      "min       18.000000\n",
      "25%       30.000000\n",
      "50%       46.000000\n",
      "75%       61.000000\n",
      "max       75.000000\n",
      "Name: age, dtype: float64\n",
      "\n",
      "\n",
      "Metodo value_counts() para obtener la frecuencia de distribucion de las edades\n",
      "\n",
      "18    15\n",
      "70    14\n",
      "69    14\n",
      "61    14\n",
      "27    14\n",
      "20    13\n",
      "28    13\n",
      "33    12\n",
      "30    12\n",
      "67    11\n",
      "65    11\n",
      "52    11\n",
      "51    11\n",
      "39    11\n",
      "47    11\n",
      "75    10\n",
      "49    10\n",
      "36    10\n",
      "64    10\n",
      "34    10\n",
      "53    10\n",
      "42    10\n",
      "26    10\n",
      "45    10\n",
      "46    10\n",
      "29    10\n",
      "60     9\n",
      "56     9\n",
      "23     9\n",
      "66     9\n",
      "59     8\n",
      "19     8\n",
      "44     8\n",
      "21     8\n",
      "48     7\n",
      "41     7\n",
      "22     7\n",
      "57     7\n",
      "38     7\n",
      "25     7\n",
      "63     6\n",
      "24     6\n",
      "71     6\n",
      "74     6\n",
      "54     6\n",
      "55     6\n",
      "50     6\n",
      "40     6\n",
      "31     6\n",
      "37     6\n",
      "35     6\n",
      "58     5\n",
      "73     5\n",
      "62     4\n",
      "72     4\n",
      "32     4\n",
      "43     3\n",
      "68     2\n",
      "Name: age, dtype: int64\n"
     ]
    }
   ],
   "source": [
    "# REVISION DE DATOS PARA CREAR COLUMNA CATEGORICA DE RANGO HETARIO DE LOS CLIENTES, A TRAVES DE COLUMNA AGE\n",
    "\n",
    "print('Metodo describe() para obtener la edad minima y maxima de los clientes')\n",
    "print()\n",
    "print(users.age.describe())\n",
    "print()\n",
    "print()\n",
    "print('Metodo value_counts() para obtener la frecuencia de distribucion de las edades')\n",
    "print()\n",
    "print(users.age.value_counts())"
   ]
  },
  {
   "cell_type": "code",
   "execution_count": 11,
   "metadata": {},
   "outputs": [],
   "source": [
    "# CREANDO FUNCION DE RANGO HETARIO PARA APLICAR A COLUMNA AGE\n",
    "\n",
    "def age_range(age):\n",
    "    \n",
    "    if age <= 25:\n",
    "        return 'young'\n",
    "    elif age <= 50:\n",
    "        return 'adult'\n",
    "    elif age > 50:\n",
    "        return 'senior'\n",
    "    else:\n",
    "        return 'unknown'"
   ]
  },
  {
   "cell_type": "code",
   "execution_count": 12,
   "metadata": {},
   "outputs": [
    {
     "data": {
      "text/html": [
       "<div>\n",
       "<style scoped>\n",
       "    .dataframe tbody tr th:only-of-type {\n",
       "        vertical-align: middle;\n",
       "    }\n",
       "\n",
       "    .dataframe tbody tr th {\n",
       "        vertical-align: top;\n",
       "    }\n",
       "\n",
       "    .dataframe thead th {\n",
       "        text-align: right;\n",
       "    }\n",
       "</style>\n",
       "<table border=\"1\" class=\"dataframe\">\n",
       "  <thead>\n",
       "    <tr style=\"text-align: right;\">\n",
       "      <th></th>\n",
       "      <th>user_id</th>\n",
       "      <th>first_name</th>\n",
       "      <th>last_name</th>\n",
       "      <th>age</th>\n",
       "      <th>city</th>\n",
       "      <th>reg_date</th>\n",
       "      <th>plan</th>\n",
       "      <th>churn_date</th>\n",
       "      <th>age_range</th>\n",
       "    </tr>\n",
       "  </thead>\n",
       "  <tbody>\n",
       "    <tr>\n",
       "      <th>24</th>\n",
       "      <td>1024</td>\n",
       "      <td>Yuki</td>\n",
       "      <td>Tyson</td>\n",
       "      <td>74</td>\n",
       "      <td>New York-Newark-Jersey City, NY-NJ-PA MSA</td>\n",
       "      <td>2018-08-21</td>\n",
       "      <td>surf</td>\n",
       "      <td>NaT</td>\n",
       "      <td>senior</td>\n",
       "    </tr>\n",
       "    <tr>\n",
       "      <th>357</th>\n",
       "      <td>1357</td>\n",
       "      <td>Ria</td>\n",
       "      <td>Beach</td>\n",
       "      <td>61</td>\n",
       "      <td>Baton Rouge, LA MSA</td>\n",
       "      <td>2018-05-30</td>\n",
       "      <td>surf</td>\n",
       "      <td>NaT</td>\n",
       "      <td>senior</td>\n",
       "    </tr>\n",
       "    <tr>\n",
       "      <th>409</th>\n",
       "      <td>1409</td>\n",
       "      <td>Elvis</td>\n",
       "      <td>Vargas</td>\n",
       "      <td>38</td>\n",
       "      <td>Charlotte-Concord-Gastonia, NC-SC MSA</td>\n",
       "      <td>2018-10-04</td>\n",
       "      <td>ultimate</td>\n",
       "      <td>NaT</td>\n",
       "      <td>adult</td>\n",
       "    </tr>\n",
       "    <tr>\n",
       "      <th>353</th>\n",
       "      <td>1353</td>\n",
       "      <td>Emerson</td>\n",
       "      <td>Whitfield</td>\n",
       "      <td>56</td>\n",
       "      <td>North Port-Sarasota-Bradenton, FL MSA</td>\n",
       "      <td>2018-03-27</td>\n",
       "      <td>surf</td>\n",
       "      <td>NaT</td>\n",
       "      <td>senior</td>\n",
       "    </tr>\n",
       "    <tr>\n",
       "      <th>173</th>\n",
       "      <td>1173</td>\n",
       "      <td>Tristan</td>\n",
       "      <td>Cain</td>\n",
       "      <td>27</td>\n",
       "      <td>Oxnard-Thousand Oaks-Ventura, CA MSA</td>\n",
       "      <td>2018-09-28</td>\n",
       "      <td>surf</td>\n",
       "      <td>NaT</td>\n",
       "      <td>adult</td>\n",
       "    </tr>\n",
       "    <tr>\n",
       "      <th>277</th>\n",
       "      <td>1277</td>\n",
       "      <td>Andrew</td>\n",
       "      <td>Faulkner</td>\n",
       "      <td>25</td>\n",
       "      <td>New York-Newark-Jersey City, NY-NJ-PA MSA</td>\n",
       "      <td>2018-02-02</td>\n",
       "      <td>surf</td>\n",
       "      <td>NaT</td>\n",
       "      <td>young</td>\n",
       "    </tr>\n",
       "    <tr>\n",
       "      <th>407</th>\n",
       "      <td>1407</td>\n",
       "      <td>Tristan</td>\n",
       "      <td>Daugherty</td>\n",
       "      <td>27</td>\n",
       "      <td>New York-Newark-Jersey City, NY-NJ-PA MSA</td>\n",
       "      <td>2018-11-29</td>\n",
       "      <td>ultimate</td>\n",
       "      <td>NaT</td>\n",
       "      <td>adult</td>\n",
       "    </tr>\n",
       "    <tr>\n",
       "      <th>241</th>\n",
       "      <td>1241</td>\n",
       "      <td>Lala</td>\n",
       "      <td>Walls</td>\n",
       "      <td>24</td>\n",
       "      <td>Richmond, VA MSA</td>\n",
       "      <td>2018-08-27</td>\n",
       "      <td>surf</td>\n",
       "      <td>NaT</td>\n",
       "      <td>young</td>\n",
       "    </tr>\n",
       "    <tr>\n",
       "      <th>21</th>\n",
       "      <td>1021</td>\n",
       "      <td>Ricarda</td>\n",
       "      <td>Booker</td>\n",
       "      <td>37</td>\n",
       "      <td>Los Angeles-Long Beach-Anaheim, CA MSA</td>\n",
       "      <td>2018-12-21</td>\n",
       "      <td>surf</td>\n",
       "      <td>NaT</td>\n",
       "      <td>adult</td>\n",
       "    </tr>\n",
       "    <tr>\n",
       "      <th>5</th>\n",
       "      <td>1005</td>\n",
       "      <td>Livia</td>\n",
       "      <td>Shields</td>\n",
       "      <td>31</td>\n",
       "      <td>Dallas-Fort Worth-Arlington, TX MSA</td>\n",
       "      <td>2018-11-29</td>\n",
       "      <td>surf</td>\n",
       "      <td>NaT</td>\n",
       "      <td>adult</td>\n",
       "    </tr>\n",
       "  </tbody>\n",
       "</table>\n",
       "</div>"
      ],
      "text/plain": [
       "     user_id first_name  last_name  age  \\\n",
       "24      1024       Yuki      Tyson   74   \n",
       "357     1357        Ria      Beach   61   \n",
       "409     1409      Elvis     Vargas   38   \n",
       "353     1353    Emerson  Whitfield   56   \n",
       "173     1173    Tristan       Cain   27   \n",
       "277     1277     Andrew   Faulkner   25   \n",
       "407     1407    Tristan  Daugherty   27   \n",
       "241     1241       Lala      Walls   24   \n",
       "21      1021    Ricarda     Booker   37   \n",
       "5       1005      Livia    Shields   31   \n",
       "\n",
       "                                          city   reg_date      plan  \\\n",
       "24   New York-Newark-Jersey City, NY-NJ-PA MSA 2018-08-21      surf   \n",
       "357                        Baton Rouge, LA MSA 2018-05-30      surf   \n",
       "409      Charlotte-Concord-Gastonia, NC-SC MSA 2018-10-04  ultimate   \n",
       "353      North Port-Sarasota-Bradenton, FL MSA 2018-03-27      surf   \n",
       "173       Oxnard-Thousand Oaks-Ventura, CA MSA 2018-09-28      surf   \n",
       "277  New York-Newark-Jersey City, NY-NJ-PA MSA 2018-02-02      surf   \n",
       "407  New York-Newark-Jersey City, NY-NJ-PA MSA 2018-11-29  ultimate   \n",
       "241                           Richmond, VA MSA 2018-08-27      surf   \n",
       "21      Los Angeles-Long Beach-Anaheim, CA MSA 2018-12-21      surf   \n",
       "5          Dallas-Fort Worth-Arlington, TX MSA 2018-11-29      surf   \n",
       "\n",
       "    churn_date age_range  \n",
       "24         NaT    senior  \n",
       "357        NaT    senior  \n",
       "409        NaT     adult  \n",
       "353        NaT    senior  \n",
       "173        NaT     adult  \n",
       "277        NaT     young  \n",
       "407        NaT     adult  \n",
       "241        NaT     young  \n",
       "21         NaT     adult  \n",
       "5          NaT     adult  "
      ]
     },
     "execution_count": 12,
     "metadata": {},
     "output_type": "execute_result"
    }
   ],
   "source": [
    "# APLICANDO FUNCION A LA COLUMNA AGE DEL DF\n",
    "\n",
    "users['age_range'] = users.age.apply(age_range)\n",
    "users.sample(10)"
   ]
  },
  {
   "cell_type": "code",
   "execution_count": 13,
   "metadata": {},
   "outputs": [
    {
     "data": {
      "text/html": [
       "<div>\n",
       "<style scoped>\n",
       "    .dataframe tbody tr th:only-of-type {\n",
       "        vertical-align: middle;\n",
       "    }\n",
       "\n",
       "    .dataframe tbody tr th {\n",
       "        vertical-align: top;\n",
       "    }\n",
       "\n",
       "    .dataframe thead th {\n",
       "        text-align: right;\n",
       "    }\n",
       "</style>\n",
       "<table border=\"1\" class=\"dataframe\">\n",
       "  <thead>\n",
       "    <tr style=\"text-align: right;\">\n",
       "      <th></th>\n",
       "      <th>user_id</th>\n",
       "      <th>first_name</th>\n",
       "      <th>last_name</th>\n",
       "      <th>age</th>\n",
       "      <th>city</th>\n",
       "      <th>reg_date</th>\n",
       "      <th>plan</th>\n",
       "      <th>churn_date</th>\n",
       "      <th>age_range</th>\n",
       "      <th>day_reg</th>\n",
       "      <th>month_reg</th>\n",
       "      <th>year_reg</th>\n",
       "      <th>day_churn</th>\n",
       "      <th>month_churn</th>\n",
       "      <th>year_churn</th>\n",
       "    </tr>\n",
       "  </thead>\n",
       "  <tbody>\n",
       "    <tr>\n",
       "      <th>0</th>\n",
       "      <td>1000</td>\n",
       "      <td>Anamaria</td>\n",
       "      <td>Bauer</td>\n",
       "      <td>45</td>\n",
       "      <td>Atlanta-Sandy Springs-Roswell, GA MSA</td>\n",
       "      <td>2018-12-24</td>\n",
       "      <td>ultimate</td>\n",
       "      <td>NaT</td>\n",
       "      <td>adult</td>\n",
       "      <td>24</td>\n",
       "      <td>12</td>\n",
       "      <td>2018</td>\n",
       "      <td>NaN</td>\n",
       "      <td>NaN</td>\n",
       "      <td>NaN</td>\n",
       "    </tr>\n",
       "    <tr>\n",
       "      <th>1</th>\n",
       "      <td>1001</td>\n",
       "      <td>Mickey</td>\n",
       "      <td>Wilkerson</td>\n",
       "      <td>28</td>\n",
       "      <td>Seattle-Tacoma-Bellevue, WA MSA</td>\n",
       "      <td>2018-08-13</td>\n",
       "      <td>surf</td>\n",
       "      <td>NaT</td>\n",
       "      <td>adult</td>\n",
       "      <td>13</td>\n",
       "      <td>8</td>\n",
       "      <td>2018</td>\n",
       "      <td>NaN</td>\n",
       "      <td>NaN</td>\n",
       "      <td>NaN</td>\n",
       "    </tr>\n",
       "    <tr>\n",
       "      <th>2</th>\n",
       "      <td>1002</td>\n",
       "      <td>Carlee</td>\n",
       "      <td>Hoffman</td>\n",
       "      <td>36</td>\n",
       "      <td>Las Vegas-Henderson-Paradise, NV MSA</td>\n",
       "      <td>2018-10-21</td>\n",
       "      <td>surf</td>\n",
       "      <td>NaT</td>\n",
       "      <td>adult</td>\n",
       "      <td>21</td>\n",
       "      <td>10</td>\n",
       "      <td>2018</td>\n",
       "      <td>NaN</td>\n",
       "      <td>NaN</td>\n",
       "      <td>NaN</td>\n",
       "    </tr>\n",
       "    <tr>\n",
       "      <th>3</th>\n",
       "      <td>1003</td>\n",
       "      <td>Reynaldo</td>\n",
       "      <td>Jenkins</td>\n",
       "      <td>52</td>\n",
       "      <td>Tulsa, OK MSA</td>\n",
       "      <td>2018-01-28</td>\n",
       "      <td>surf</td>\n",
       "      <td>NaT</td>\n",
       "      <td>senior</td>\n",
       "      <td>28</td>\n",
       "      <td>1</td>\n",
       "      <td>2018</td>\n",
       "      <td>NaN</td>\n",
       "      <td>NaN</td>\n",
       "      <td>NaN</td>\n",
       "    </tr>\n",
       "    <tr>\n",
       "      <th>4</th>\n",
       "      <td>1004</td>\n",
       "      <td>Leonila</td>\n",
       "      <td>Thompson</td>\n",
       "      <td>40</td>\n",
       "      <td>Seattle-Tacoma-Bellevue, WA MSA</td>\n",
       "      <td>2018-05-23</td>\n",
       "      <td>surf</td>\n",
       "      <td>NaT</td>\n",
       "      <td>adult</td>\n",
       "      <td>23</td>\n",
       "      <td>5</td>\n",
       "      <td>2018</td>\n",
       "      <td>NaN</td>\n",
       "      <td>NaN</td>\n",
       "      <td>NaN</td>\n",
       "    </tr>\n",
       "    <tr>\n",
       "      <th>...</th>\n",
       "      <td>...</td>\n",
       "      <td>...</td>\n",
       "      <td>...</td>\n",
       "      <td>...</td>\n",
       "      <td>...</td>\n",
       "      <td>...</td>\n",
       "      <td>...</td>\n",
       "      <td>...</td>\n",
       "      <td>...</td>\n",
       "      <td>...</td>\n",
       "      <td>...</td>\n",
       "      <td>...</td>\n",
       "      <td>...</td>\n",
       "      <td>...</td>\n",
       "      <td>...</td>\n",
       "    </tr>\n",
       "    <tr>\n",
       "      <th>495</th>\n",
       "      <td>1495</td>\n",
       "      <td>Fidel</td>\n",
       "      <td>Sharpe</td>\n",
       "      <td>67</td>\n",
       "      <td>New York-Newark-Jersey City, NY-NJ-PA MSA</td>\n",
       "      <td>2018-09-04</td>\n",
       "      <td>surf</td>\n",
       "      <td>NaT</td>\n",
       "      <td>senior</td>\n",
       "      <td>4</td>\n",
       "      <td>9</td>\n",
       "      <td>2018</td>\n",
       "      <td>NaN</td>\n",
       "      <td>NaN</td>\n",
       "      <td>NaN</td>\n",
       "    </tr>\n",
       "    <tr>\n",
       "      <th>496</th>\n",
       "      <td>1496</td>\n",
       "      <td>Ariel</td>\n",
       "      <td>Shepherd</td>\n",
       "      <td>49</td>\n",
       "      <td>New Orleans-Metairie, LA MSA</td>\n",
       "      <td>2018-02-20</td>\n",
       "      <td>surf</td>\n",
       "      <td>NaT</td>\n",
       "      <td>adult</td>\n",
       "      <td>20</td>\n",
       "      <td>2</td>\n",
       "      <td>2018</td>\n",
       "      <td>NaN</td>\n",
       "      <td>NaN</td>\n",
       "      <td>NaN</td>\n",
       "    </tr>\n",
       "    <tr>\n",
       "      <th>497</th>\n",
       "      <td>1497</td>\n",
       "      <td>Donte</td>\n",
       "      <td>Barrera</td>\n",
       "      <td>49</td>\n",
       "      <td>Los Angeles-Long Beach-Anaheim, CA MSA</td>\n",
       "      <td>2018-12-10</td>\n",
       "      <td>ultimate</td>\n",
       "      <td>NaT</td>\n",
       "      <td>adult</td>\n",
       "      <td>10</td>\n",
       "      <td>12</td>\n",
       "      <td>2018</td>\n",
       "      <td>NaN</td>\n",
       "      <td>NaN</td>\n",
       "      <td>NaN</td>\n",
       "    </tr>\n",
       "    <tr>\n",
       "      <th>498</th>\n",
       "      <td>1498</td>\n",
       "      <td>Scot</td>\n",
       "      <td>Williamson</td>\n",
       "      <td>51</td>\n",
       "      <td>New York-Newark-Jersey City, NY-NJ-PA MSA</td>\n",
       "      <td>2018-02-04</td>\n",
       "      <td>surf</td>\n",
       "      <td>NaT</td>\n",
       "      <td>senior</td>\n",
       "      <td>4</td>\n",
       "      <td>2</td>\n",
       "      <td>2018</td>\n",
       "      <td>NaN</td>\n",
       "      <td>NaN</td>\n",
       "      <td>NaN</td>\n",
       "    </tr>\n",
       "    <tr>\n",
       "      <th>499</th>\n",
       "      <td>1499</td>\n",
       "      <td>Shena</td>\n",
       "      <td>Dickson</td>\n",
       "      <td>37</td>\n",
       "      <td>Orlando-Kissimmee-Sanford, FL MSA</td>\n",
       "      <td>2018-05-06</td>\n",
       "      <td>surf</td>\n",
       "      <td>NaT</td>\n",
       "      <td>adult</td>\n",
       "      <td>6</td>\n",
       "      <td>5</td>\n",
       "      <td>2018</td>\n",
       "      <td>NaN</td>\n",
       "      <td>NaN</td>\n",
       "      <td>NaN</td>\n",
       "    </tr>\n",
       "  </tbody>\n",
       "</table>\n",
       "<p>500 rows × 15 columns</p>\n",
       "</div>"
      ],
      "text/plain": [
       "     user_id first_name   last_name  age  \\\n",
       "0       1000   Anamaria       Bauer   45   \n",
       "1       1001     Mickey   Wilkerson   28   \n",
       "2       1002     Carlee     Hoffman   36   \n",
       "3       1003   Reynaldo     Jenkins   52   \n",
       "4       1004    Leonila    Thompson   40   \n",
       "..       ...        ...         ...  ...   \n",
       "495     1495      Fidel      Sharpe   67   \n",
       "496     1496      Ariel    Shepherd   49   \n",
       "497     1497      Donte     Barrera   49   \n",
       "498     1498       Scot  Williamson   51   \n",
       "499     1499      Shena     Dickson   37   \n",
       "\n",
       "                                          city   reg_date      plan  \\\n",
       "0        Atlanta-Sandy Springs-Roswell, GA MSA 2018-12-24  ultimate   \n",
       "1              Seattle-Tacoma-Bellevue, WA MSA 2018-08-13      surf   \n",
       "2         Las Vegas-Henderson-Paradise, NV MSA 2018-10-21      surf   \n",
       "3                                Tulsa, OK MSA 2018-01-28      surf   \n",
       "4              Seattle-Tacoma-Bellevue, WA MSA 2018-05-23      surf   \n",
       "..                                         ...        ...       ...   \n",
       "495  New York-Newark-Jersey City, NY-NJ-PA MSA 2018-09-04      surf   \n",
       "496               New Orleans-Metairie, LA MSA 2018-02-20      surf   \n",
       "497     Los Angeles-Long Beach-Anaheim, CA MSA 2018-12-10  ultimate   \n",
       "498  New York-Newark-Jersey City, NY-NJ-PA MSA 2018-02-04      surf   \n",
       "499          Orlando-Kissimmee-Sanford, FL MSA 2018-05-06      surf   \n",
       "\n",
       "    churn_date age_range  day_reg  month_reg  year_reg  day_churn  \\\n",
       "0          NaT     adult       24         12      2018        NaN   \n",
       "1          NaT     adult       13          8      2018        NaN   \n",
       "2          NaT     adult       21         10      2018        NaN   \n",
       "3          NaT    senior       28          1      2018        NaN   \n",
       "4          NaT     adult       23          5      2018        NaN   \n",
       "..         ...       ...      ...        ...       ...        ...   \n",
       "495        NaT    senior        4          9      2018        NaN   \n",
       "496        NaT     adult       20          2      2018        NaN   \n",
       "497        NaT     adult       10         12      2018        NaN   \n",
       "498        NaT    senior        4          2      2018        NaN   \n",
       "499        NaT     adult        6          5      2018        NaN   \n",
       "\n",
       "     month_churn  year_churn  \n",
       "0            NaN         NaN  \n",
       "1            NaN         NaN  \n",
       "2            NaN         NaN  \n",
       "3            NaN         NaN  \n",
       "4            NaN         NaN  \n",
       "..           ...         ...  \n",
       "495          NaN         NaN  \n",
       "496          NaN         NaN  \n",
       "497          NaN         NaN  \n",
       "498          NaN         NaN  \n",
       "499          NaN         NaN  \n",
       "\n",
       "[500 rows x 15 columns]"
      ]
     },
     "execution_count": 13,
     "metadata": {},
     "output_type": "execute_result"
    }
   ],
   "source": [
    "# GENERANDO COLUMNAS DE DIA, MES Y AÑO DE REGISTRO Y TERMINO DEL PLAN\n",
    "\n",
    "users['day_reg'] = users['reg_date'].dt.day\n",
    "users['month_reg'] = users['reg_date'].dt.month\n",
    "users['year_reg'] = users['reg_date'].dt.year\n",
    "users['day_churn'] = users['churn_date'].dt.day\n",
    "users['month_churn'] = users['churn_date'].dt.month\n",
    "users['year_churn'] = users['churn_date'].dt.year\n",
    "users"
   ]
  },
  {
   "cell_type": "code",
   "execution_count": 14,
   "metadata": {},
   "outputs": [],
   "source": [
    "# GENERANDO COLUMNAS DE CIUDADES Y ESTADOS  \n",
    "\n",
    "cities = users['city'].str.split(',',expand=True)\n",
    "cities.columns = ['cities','state']\n",
    "users = pd.concat([users, cities], axis = 1)\n",
    "users.drop('city',axis = 1,inplace = True)"
   ]
  },
  {
   "cell_type": "code",
   "execution_count": 15,
   "metadata": {},
   "outputs": [
    {
     "data": {
      "text/html": [
       "<div>\n",
       "<style scoped>\n",
       "    .dataframe tbody tr th:only-of-type {\n",
       "        vertical-align: middle;\n",
       "    }\n",
       "\n",
       "    .dataframe tbody tr th {\n",
       "        vertical-align: top;\n",
       "    }\n",
       "\n",
       "    .dataframe thead th {\n",
       "        text-align: right;\n",
       "    }\n",
       "</style>\n",
       "<table border=\"1\" class=\"dataframe\">\n",
       "  <thead>\n",
       "    <tr style=\"text-align: right;\">\n",
       "      <th></th>\n",
       "      <th>user_id</th>\n",
       "      <th>first_name</th>\n",
       "      <th>last_name</th>\n",
       "      <th>age</th>\n",
       "      <th>age_range</th>\n",
       "      <th>cities</th>\n",
       "      <th>state</th>\n",
       "      <th>reg_date</th>\n",
       "      <th>day_reg</th>\n",
       "      <th>month_reg</th>\n",
       "      <th>year_reg</th>\n",
       "      <th>churn_date</th>\n",
       "      <th>day_churn</th>\n",
       "      <th>month_churn</th>\n",
       "      <th>year_churn</th>\n",
       "      <th>plan</th>\n",
       "    </tr>\n",
       "  </thead>\n",
       "  <tbody>\n",
       "    <tr>\n",
       "      <th>0</th>\n",
       "      <td>1000</td>\n",
       "      <td>Anamaria</td>\n",
       "      <td>Bauer</td>\n",
       "      <td>45</td>\n",
       "      <td>adult</td>\n",
       "      <td>Atlanta-Sandy Springs-Roswell</td>\n",
       "      <td>GA MSA</td>\n",
       "      <td>2018-12-24</td>\n",
       "      <td>24</td>\n",
       "      <td>12</td>\n",
       "      <td>2018</td>\n",
       "      <td>NaT</td>\n",
       "      <td>NaN</td>\n",
       "      <td>NaN</td>\n",
       "      <td>NaN</td>\n",
       "      <td>ultimate</td>\n",
       "    </tr>\n",
       "    <tr>\n",
       "      <th>1</th>\n",
       "      <td>1001</td>\n",
       "      <td>Mickey</td>\n",
       "      <td>Wilkerson</td>\n",
       "      <td>28</td>\n",
       "      <td>adult</td>\n",
       "      <td>Seattle-Tacoma-Bellevue</td>\n",
       "      <td>WA MSA</td>\n",
       "      <td>2018-08-13</td>\n",
       "      <td>13</td>\n",
       "      <td>8</td>\n",
       "      <td>2018</td>\n",
       "      <td>NaT</td>\n",
       "      <td>NaN</td>\n",
       "      <td>NaN</td>\n",
       "      <td>NaN</td>\n",
       "      <td>surf</td>\n",
       "    </tr>\n",
       "    <tr>\n",
       "      <th>2</th>\n",
       "      <td>1002</td>\n",
       "      <td>Carlee</td>\n",
       "      <td>Hoffman</td>\n",
       "      <td>36</td>\n",
       "      <td>adult</td>\n",
       "      <td>Las Vegas-Henderson-Paradise</td>\n",
       "      <td>NV MSA</td>\n",
       "      <td>2018-10-21</td>\n",
       "      <td>21</td>\n",
       "      <td>10</td>\n",
       "      <td>2018</td>\n",
       "      <td>NaT</td>\n",
       "      <td>NaN</td>\n",
       "      <td>NaN</td>\n",
       "      <td>NaN</td>\n",
       "      <td>surf</td>\n",
       "    </tr>\n",
       "    <tr>\n",
       "      <th>3</th>\n",
       "      <td>1003</td>\n",
       "      <td>Reynaldo</td>\n",
       "      <td>Jenkins</td>\n",
       "      <td>52</td>\n",
       "      <td>senior</td>\n",
       "      <td>Tulsa</td>\n",
       "      <td>OK MSA</td>\n",
       "      <td>2018-01-28</td>\n",
       "      <td>28</td>\n",
       "      <td>1</td>\n",
       "      <td>2018</td>\n",
       "      <td>NaT</td>\n",
       "      <td>NaN</td>\n",
       "      <td>NaN</td>\n",
       "      <td>NaN</td>\n",
       "      <td>surf</td>\n",
       "    </tr>\n",
       "    <tr>\n",
       "      <th>4</th>\n",
       "      <td>1004</td>\n",
       "      <td>Leonila</td>\n",
       "      <td>Thompson</td>\n",
       "      <td>40</td>\n",
       "      <td>adult</td>\n",
       "      <td>Seattle-Tacoma-Bellevue</td>\n",
       "      <td>WA MSA</td>\n",
       "      <td>2018-05-23</td>\n",
       "      <td>23</td>\n",
       "      <td>5</td>\n",
       "      <td>2018</td>\n",
       "      <td>NaT</td>\n",
       "      <td>NaN</td>\n",
       "      <td>NaN</td>\n",
       "      <td>NaN</td>\n",
       "      <td>surf</td>\n",
       "    </tr>\n",
       "    <tr>\n",
       "      <th>...</th>\n",
       "      <td>...</td>\n",
       "      <td>...</td>\n",
       "      <td>...</td>\n",
       "      <td>...</td>\n",
       "      <td>...</td>\n",
       "      <td>...</td>\n",
       "      <td>...</td>\n",
       "      <td>...</td>\n",
       "      <td>...</td>\n",
       "      <td>...</td>\n",
       "      <td>...</td>\n",
       "      <td>...</td>\n",
       "      <td>...</td>\n",
       "      <td>...</td>\n",
       "      <td>...</td>\n",
       "      <td>...</td>\n",
       "    </tr>\n",
       "    <tr>\n",
       "      <th>495</th>\n",
       "      <td>1495</td>\n",
       "      <td>Fidel</td>\n",
       "      <td>Sharpe</td>\n",
       "      <td>67</td>\n",
       "      <td>senior</td>\n",
       "      <td>New York-Newark-Jersey City</td>\n",
       "      <td>NY-NJ-PA MSA</td>\n",
       "      <td>2018-09-04</td>\n",
       "      <td>4</td>\n",
       "      <td>9</td>\n",
       "      <td>2018</td>\n",
       "      <td>NaT</td>\n",
       "      <td>NaN</td>\n",
       "      <td>NaN</td>\n",
       "      <td>NaN</td>\n",
       "      <td>surf</td>\n",
       "    </tr>\n",
       "    <tr>\n",
       "      <th>496</th>\n",
       "      <td>1496</td>\n",
       "      <td>Ariel</td>\n",
       "      <td>Shepherd</td>\n",
       "      <td>49</td>\n",
       "      <td>adult</td>\n",
       "      <td>New Orleans-Metairie</td>\n",
       "      <td>LA MSA</td>\n",
       "      <td>2018-02-20</td>\n",
       "      <td>20</td>\n",
       "      <td>2</td>\n",
       "      <td>2018</td>\n",
       "      <td>NaT</td>\n",
       "      <td>NaN</td>\n",
       "      <td>NaN</td>\n",
       "      <td>NaN</td>\n",
       "      <td>surf</td>\n",
       "    </tr>\n",
       "    <tr>\n",
       "      <th>497</th>\n",
       "      <td>1497</td>\n",
       "      <td>Donte</td>\n",
       "      <td>Barrera</td>\n",
       "      <td>49</td>\n",
       "      <td>adult</td>\n",
       "      <td>Los Angeles-Long Beach-Anaheim</td>\n",
       "      <td>CA MSA</td>\n",
       "      <td>2018-12-10</td>\n",
       "      <td>10</td>\n",
       "      <td>12</td>\n",
       "      <td>2018</td>\n",
       "      <td>NaT</td>\n",
       "      <td>NaN</td>\n",
       "      <td>NaN</td>\n",
       "      <td>NaN</td>\n",
       "      <td>ultimate</td>\n",
       "    </tr>\n",
       "    <tr>\n",
       "      <th>498</th>\n",
       "      <td>1498</td>\n",
       "      <td>Scot</td>\n",
       "      <td>Williamson</td>\n",
       "      <td>51</td>\n",
       "      <td>senior</td>\n",
       "      <td>New York-Newark-Jersey City</td>\n",
       "      <td>NY-NJ-PA MSA</td>\n",
       "      <td>2018-02-04</td>\n",
       "      <td>4</td>\n",
       "      <td>2</td>\n",
       "      <td>2018</td>\n",
       "      <td>NaT</td>\n",
       "      <td>NaN</td>\n",
       "      <td>NaN</td>\n",
       "      <td>NaN</td>\n",
       "      <td>surf</td>\n",
       "    </tr>\n",
       "    <tr>\n",
       "      <th>499</th>\n",
       "      <td>1499</td>\n",
       "      <td>Shena</td>\n",
       "      <td>Dickson</td>\n",
       "      <td>37</td>\n",
       "      <td>adult</td>\n",
       "      <td>Orlando-Kissimmee-Sanford</td>\n",
       "      <td>FL MSA</td>\n",
       "      <td>2018-05-06</td>\n",
       "      <td>6</td>\n",
       "      <td>5</td>\n",
       "      <td>2018</td>\n",
       "      <td>NaT</td>\n",
       "      <td>NaN</td>\n",
       "      <td>NaN</td>\n",
       "      <td>NaN</td>\n",
       "      <td>surf</td>\n",
       "    </tr>\n",
       "  </tbody>\n",
       "</table>\n",
       "<p>500 rows × 16 columns</p>\n",
       "</div>"
      ],
      "text/plain": [
       "     user_id first_name   last_name  age age_range  \\\n",
       "0       1000   Anamaria       Bauer   45     adult   \n",
       "1       1001     Mickey   Wilkerson   28     adult   \n",
       "2       1002     Carlee     Hoffman   36     adult   \n",
       "3       1003   Reynaldo     Jenkins   52    senior   \n",
       "4       1004    Leonila    Thompson   40     adult   \n",
       "..       ...        ...         ...  ...       ...   \n",
       "495     1495      Fidel      Sharpe   67    senior   \n",
       "496     1496      Ariel    Shepherd   49     adult   \n",
       "497     1497      Donte     Barrera   49     adult   \n",
       "498     1498       Scot  Williamson   51    senior   \n",
       "499     1499      Shena     Dickson   37     adult   \n",
       "\n",
       "                             cities          state   reg_date  day_reg  \\\n",
       "0     Atlanta-Sandy Springs-Roswell         GA MSA 2018-12-24       24   \n",
       "1           Seattle-Tacoma-Bellevue         WA MSA 2018-08-13       13   \n",
       "2      Las Vegas-Henderson-Paradise         NV MSA 2018-10-21       21   \n",
       "3                             Tulsa         OK MSA 2018-01-28       28   \n",
       "4           Seattle-Tacoma-Bellevue         WA MSA 2018-05-23       23   \n",
       "..                              ...            ...        ...      ...   \n",
       "495     New York-Newark-Jersey City   NY-NJ-PA MSA 2018-09-04        4   \n",
       "496            New Orleans-Metairie         LA MSA 2018-02-20       20   \n",
       "497  Los Angeles-Long Beach-Anaheim         CA MSA 2018-12-10       10   \n",
       "498     New York-Newark-Jersey City   NY-NJ-PA MSA 2018-02-04        4   \n",
       "499       Orlando-Kissimmee-Sanford         FL MSA 2018-05-06        6   \n",
       "\n",
       "     month_reg  year_reg churn_date  day_churn  month_churn  year_churn  \\\n",
       "0           12      2018        NaT        NaN          NaN         NaN   \n",
       "1            8      2018        NaT        NaN          NaN         NaN   \n",
       "2           10      2018        NaT        NaN          NaN         NaN   \n",
       "3            1      2018        NaT        NaN          NaN         NaN   \n",
       "4            5      2018        NaT        NaN          NaN         NaN   \n",
       "..         ...       ...        ...        ...          ...         ...   \n",
       "495          9      2018        NaT        NaN          NaN         NaN   \n",
       "496          2      2018        NaT        NaN          NaN         NaN   \n",
       "497         12      2018        NaT        NaN          NaN         NaN   \n",
       "498          2      2018        NaT        NaN          NaN         NaN   \n",
       "499          5      2018        NaT        NaN          NaN         NaN   \n",
       "\n",
       "         plan  \n",
       "0    ultimate  \n",
       "1        surf  \n",
       "2        surf  \n",
       "3        surf  \n",
       "4        surf  \n",
       "..        ...  \n",
       "495      surf  \n",
       "496      surf  \n",
       "497  ultimate  \n",
       "498      surf  \n",
       "499      surf  \n",
       "\n",
       "[500 rows x 16 columns]"
      ]
     },
     "execution_count": 15,
     "metadata": {},
     "output_type": "execute_result"
    }
   ],
   "source": [
    "# ORDENANDO COLUMNAS DEL DF USERS\n",
    "\n",
    "users = users[['user_id','first_name','last_name','age','age_range','cities','state','reg_date','day_reg','month_reg','year_reg','churn_date','day_churn','month_churn','year_churn','plan']]\n",
    "users"
   ]
  },
  {
   "cell_type": "markdown",
   "metadata": {
    "id": "o7MeKCid0q08"
   },
   "source": [
    "## Llamadas"
   ]
  },
  {
   "cell_type": "code",
   "execution_count": 16,
   "metadata": {
    "id": "6dDlnoDm0q08"
   },
   "outputs": [
    {
     "name": "stdout",
     "output_type": "stream",
     "text": [
      "<class 'pandas.core.frame.DataFrame'>\n",
      "RangeIndex: 137735 entries, 0 to 137734\n",
      "Data columns (total 4 columns):\n",
      " #   Column     Non-Null Count   Dtype  \n",
      "---  ------     --------------   -----  \n",
      " 0   id         137735 non-null  object \n",
      " 1   user_id    137735 non-null  int64  \n",
      " 2   call_date  137735 non-null  object \n",
      " 3   duration   137735 non-null  float64\n",
      "dtypes: float64(1), int64(1), object(2)\n",
      "memory usage: 4.2+ MB\n"
     ]
    }
   ],
   "source": [
    "# Imprime la información general/resumida sobre el DataFrame de las llamadas\n",
    "\n",
    "calls.info()"
   ]
  },
  {
   "cell_type": "code",
   "execution_count": 17,
   "metadata": {
    "id": "kuh1vlNB0q09"
   },
   "outputs": [
    {
     "data": {
      "text/html": [
       "<div>\n",
       "<style scoped>\n",
       "    .dataframe tbody tr th:only-of-type {\n",
       "        vertical-align: middle;\n",
       "    }\n",
       "\n",
       "    .dataframe tbody tr th {\n",
       "        vertical-align: top;\n",
       "    }\n",
       "\n",
       "    .dataframe thead th {\n",
       "        text-align: right;\n",
       "    }\n",
       "</style>\n",
       "<table border=\"1\" class=\"dataframe\">\n",
       "  <thead>\n",
       "    <tr style=\"text-align: right;\">\n",
       "      <th></th>\n",
       "      <th>id</th>\n",
       "      <th>user_id</th>\n",
       "      <th>call_date</th>\n",
       "      <th>duration</th>\n",
       "    </tr>\n",
       "  </thead>\n",
       "  <tbody>\n",
       "    <tr>\n",
       "      <th>91974</th>\n",
       "      <td>1329_1595</td>\n",
       "      <td>1329</td>\n",
       "      <td>2018-10-27</td>\n",
       "      <td>5.70</td>\n",
       "    </tr>\n",
       "    <tr>\n",
       "      <th>18952</th>\n",
       "      <td>1072_428</td>\n",
       "      <td>1072</td>\n",
       "      <td>2018-08-03</td>\n",
       "      <td>9.96</td>\n",
       "    </tr>\n",
       "    <tr>\n",
       "      <th>131516</th>\n",
       "      <td>1472_557</td>\n",
       "      <td>1472</td>\n",
       "      <td>2018-04-27</td>\n",
       "      <td>13.19</td>\n",
       "    </tr>\n",
       "    <tr>\n",
       "      <th>77830</th>\n",
       "      <td>1278_195</td>\n",
       "      <td>1278</td>\n",
       "      <td>2018-12-13</td>\n",
       "      <td>17.15</td>\n",
       "    </tr>\n",
       "    <tr>\n",
       "      <th>36480</th>\n",
       "      <td>1138_441</td>\n",
       "      <td>1138</td>\n",
       "      <td>2018-03-06</td>\n",
       "      <td>19.48</td>\n",
       "    </tr>\n",
       "  </tbody>\n",
       "</table>\n",
       "</div>"
      ],
      "text/plain": [
       "               id  user_id   call_date  duration\n",
       "91974   1329_1595     1329  2018-10-27      5.70\n",
       "18952    1072_428     1072  2018-08-03      9.96\n",
       "131516   1472_557     1472  2018-04-27     13.19\n",
       "77830    1278_195     1278  2018-12-13     17.15\n",
       "36480    1138_441     1138  2018-03-06     19.48"
      ]
     },
     "execution_count": 17,
     "metadata": {},
     "output_type": "execute_result"
    }
   ],
   "source": [
    "# Imprime una muestra de datos para las llamadas\n",
    "\n",
    "calls.sample(5)"
   ]
  },
  {
   "cell_type": "code",
   "execution_count": 18,
   "metadata": {},
   "outputs": [
    {
     "data": {
      "text/plain": [
       "0"
      ]
     },
     "execution_count": 18,
     "metadata": {},
     "output_type": "execute_result"
    }
   ],
   "source": [
    "calls.duplicated().sum()"
   ]
  },
  {
   "cell_type": "markdown",
   "metadata": {
    "id": "DOAxYJSx0q09"
   },
   "source": [
    "[Describe lo que ves y observas en la información general y en la muestra de datos impresa para el precio de datos anterior. ¿Hay algún problema (tipos de datos no adecuados, datos ausentes, etc.) que pudieran necesitar investigación y cambios adicionales? ¿Cómo se puede arreglar?]"
   ]
  },
  {
   "cell_type": "markdown",
   "metadata": {},
   "source": [
    "**El DF no tiene valores nulos y tampoco valores duplicados, a corregir la columna 'call_date', ya que su tipo de dato es erroneo, de object pasar a datetime, y con ello agregar al DF las columnas adicionales de dia, mes y año**"
   ]
  },
  {
   "cell_type": "markdown",
   "metadata": {
    "id": "S7hzxmbX0q0-"
   },
   "source": [
    "### Corregir los datos"
   ]
  },
  {
   "cell_type": "markdown",
   "metadata": {
    "id": "YxWyAjD20q0-"
   },
   "source": [
    "[Corrige los problemas obvios con los datos basándote en las observaciones iniciales.]"
   ]
  },
  {
   "cell_type": "code",
   "execution_count": 19,
   "metadata": {
    "id": "S2r8xA4f0q0-"
   },
   "outputs": [],
   "source": [
    "# CAMBIANDO EL TIPO DE DATOS DE LA COLUMNA QUE SE COMPONE DE FECHAS, DE OBJECT(STRING) A DATETIME\n",
    "\n",
    "calls['call_date'] = pd.to_datetime(calls['call_date'], format = '%Y-%m-%d')"
   ]
  },
  {
   "cell_type": "markdown",
   "metadata": {
    "id": "KrMgTrlG0q0_"
   },
   "source": [
    "### Enriquecer los datos"
   ]
  },
  {
   "cell_type": "markdown",
   "metadata": {
    "id": "a9MbmEvE0q0_"
   },
   "source": [
    "[Agrega factores adicionales a los datos si crees que pudieran ser útiles.]"
   ]
  },
  {
   "cell_type": "code",
   "execution_count": 20,
   "metadata": {
    "id": "iZ1avpA_0q0_"
   },
   "outputs": [],
   "source": [
    "# GENERANDO COLUMNAS DE DIA, MES Y AÑO DE LAS LLAMADAS\n",
    "\n",
    "calls['day'] = calls['call_date'].dt.day\n",
    "calls['month'] = calls['call_date'].dt.month\n",
    "calls['year'] = calls['call_date'].dt.year"
   ]
  },
  {
   "cell_type": "markdown",
   "metadata": {},
   "source": [
    "<div class=\"alert alert-block alert-danger\">\n",
    "<b>Comentario del revisor (1ra Iteracion)</b> <a class=“tocSkip”></a>\n",
    "\n",
    "La descripción del proyecto menciona que se cobrará los minutos completos así sea que el usario consumió 1.1 minutos, por lo que te recomendaría aplicar un redondeo hacia arriba utilizando `np.ceil`\n",
    "</div>"
   ]
  },
  {
   "cell_type": "markdown",
   "metadata": {},
   "source": [
    "<div class=\"alert alert-block alert-info\">\n",
    "<b>Respuesta del estudiante</b> \n",
    "    \n",
    "Agregado <a class=“tocSkip”></a>\n",
    "</div>"
   ]
  },
  {
   "cell_type": "markdown",
   "metadata": {},
   "source": [
    "<div class=\"alert alert-block alert-success\">\n",
    "<b>Comentario del revisor (2da Iteracion)</b> <a class=“tocSkip”></a>\n",
    "\n",
    "Buen trabajo haciendo el cambio\n",
    "</div>"
   ]
  },
  {
   "cell_type": "code",
   "execution_count": 21,
   "metadata": {},
   "outputs": [
    {
     "data": {
      "text/html": [
       "<div>\n",
       "<style scoped>\n",
       "    .dataframe tbody tr th:only-of-type {\n",
       "        vertical-align: middle;\n",
       "    }\n",
       "\n",
       "    .dataframe tbody tr th {\n",
       "        vertical-align: top;\n",
       "    }\n",
       "\n",
       "    .dataframe thead th {\n",
       "        text-align: right;\n",
       "    }\n",
       "</style>\n",
       "<table border=\"1\" class=\"dataframe\">\n",
       "  <thead>\n",
       "    <tr style=\"text-align: right;\">\n",
       "      <th></th>\n",
       "      <th>id</th>\n",
       "      <th>user_id</th>\n",
       "      <th>call_date</th>\n",
       "      <th>duration</th>\n",
       "      <th>day</th>\n",
       "      <th>month</th>\n",
       "      <th>year</th>\n",
       "    </tr>\n",
       "  </thead>\n",
       "  <tbody>\n",
       "    <tr>\n",
       "      <th>0</th>\n",
       "      <td>1000_93</td>\n",
       "      <td>1000</td>\n",
       "      <td>2018-12-27</td>\n",
       "      <td>9.0</td>\n",
       "      <td>27</td>\n",
       "      <td>12</td>\n",
       "      <td>2018</td>\n",
       "    </tr>\n",
       "    <tr>\n",
       "      <th>1</th>\n",
       "      <td>1000_145</td>\n",
       "      <td>1000</td>\n",
       "      <td>2018-12-27</td>\n",
       "      <td>14.0</td>\n",
       "      <td>27</td>\n",
       "      <td>12</td>\n",
       "      <td>2018</td>\n",
       "    </tr>\n",
       "    <tr>\n",
       "      <th>2</th>\n",
       "      <td>1000_247</td>\n",
       "      <td>1000</td>\n",
       "      <td>2018-12-27</td>\n",
       "      <td>15.0</td>\n",
       "      <td>27</td>\n",
       "      <td>12</td>\n",
       "      <td>2018</td>\n",
       "    </tr>\n",
       "    <tr>\n",
       "      <th>3</th>\n",
       "      <td>1000_309</td>\n",
       "      <td>1000</td>\n",
       "      <td>2018-12-28</td>\n",
       "      <td>6.0</td>\n",
       "      <td>28</td>\n",
       "      <td>12</td>\n",
       "      <td>2018</td>\n",
       "    </tr>\n",
       "    <tr>\n",
       "      <th>4</th>\n",
       "      <td>1000_380</td>\n",
       "      <td>1000</td>\n",
       "      <td>2018-12-30</td>\n",
       "      <td>5.0</td>\n",
       "      <td>30</td>\n",
       "      <td>12</td>\n",
       "      <td>2018</td>\n",
       "    </tr>\n",
       "    <tr>\n",
       "      <th>...</th>\n",
       "      <td>...</td>\n",
       "      <td>...</td>\n",
       "      <td>...</td>\n",
       "      <td>...</td>\n",
       "      <td>...</td>\n",
       "      <td>...</td>\n",
       "      <td>...</td>\n",
       "    </tr>\n",
       "    <tr>\n",
       "      <th>137730</th>\n",
       "      <td>1499_199</td>\n",
       "      <td>1499</td>\n",
       "      <td>2018-11-21</td>\n",
       "      <td>9.0</td>\n",
       "      <td>21</td>\n",
       "      <td>11</td>\n",
       "      <td>2018</td>\n",
       "    </tr>\n",
       "    <tr>\n",
       "      <th>137731</th>\n",
       "      <td>1499_200</td>\n",
       "      <td>1499</td>\n",
       "      <td>2018-10-20</td>\n",
       "      <td>11.0</td>\n",
       "      <td>20</td>\n",
       "      <td>10</td>\n",
       "      <td>2018</td>\n",
       "    </tr>\n",
       "    <tr>\n",
       "      <th>137732</th>\n",
       "      <td>1499_201</td>\n",
       "      <td>1499</td>\n",
       "      <td>2018-09-21</td>\n",
       "      <td>9.0</td>\n",
       "      <td>21</td>\n",
       "      <td>9</td>\n",
       "      <td>2018</td>\n",
       "    </tr>\n",
       "    <tr>\n",
       "      <th>137733</th>\n",
       "      <td>1499_202</td>\n",
       "      <td>1499</td>\n",
       "      <td>2018-10-10</td>\n",
       "      <td>1.0</td>\n",
       "      <td>10</td>\n",
       "      <td>10</td>\n",
       "      <td>2018</td>\n",
       "    </tr>\n",
       "    <tr>\n",
       "      <th>137734</th>\n",
       "      <td>1499_203</td>\n",
       "      <td>1499</td>\n",
       "      <td>2018-12-29</td>\n",
       "      <td>14.0</td>\n",
       "      <td>29</td>\n",
       "      <td>12</td>\n",
       "      <td>2018</td>\n",
       "    </tr>\n",
       "  </tbody>\n",
       "</table>\n",
       "<p>137735 rows × 7 columns</p>\n",
       "</div>"
      ],
      "text/plain": [
       "              id  user_id  call_date  duration  day  month  year\n",
       "0        1000_93     1000 2018-12-27       9.0   27     12  2018\n",
       "1       1000_145     1000 2018-12-27      14.0   27     12  2018\n",
       "2       1000_247     1000 2018-12-27      15.0   27     12  2018\n",
       "3       1000_309     1000 2018-12-28       6.0   28     12  2018\n",
       "4       1000_380     1000 2018-12-30       5.0   30     12  2018\n",
       "...          ...      ...        ...       ...  ...    ...   ...\n",
       "137730  1499_199     1499 2018-11-21       9.0   21     11  2018\n",
       "137731  1499_200     1499 2018-10-20      11.0   20     10  2018\n",
       "137732  1499_201     1499 2018-09-21       9.0   21      9  2018\n",
       "137733  1499_202     1499 2018-10-10       1.0   10     10  2018\n",
       "137734  1499_203     1499 2018-12-29      14.0   29     12  2018\n",
       "\n",
       "[137735 rows x 7 columns]"
      ]
     },
     "execution_count": 21,
     "metadata": {},
     "output_type": "execute_result"
    }
   ],
   "source": [
    "calls['duration'] = calls['duration'].apply(np.ceil)\n",
    "calls"
   ]
  },
  {
   "cell_type": "markdown",
   "metadata": {
    "id": "mOUZSi180q0_"
   },
   "source": [
    "## Mensajes"
   ]
  },
  {
   "cell_type": "code",
   "execution_count": 22,
   "metadata": {
    "id": "R-bYJpdV0q1A"
   },
   "outputs": [
    {
     "name": "stdout",
     "output_type": "stream",
     "text": [
      "<class 'pandas.core.frame.DataFrame'>\n",
      "RangeIndex: 76051 entries, 0 to 76050\n",
      "Data columns (total 3 columns):\n",
      " #   Column        Non-Null Count  Dtype \n",
      "---  ------        --------------  ----- \n",
      " 0   id            76051 non-null  object\n",
      " 1   user_id       76051 non-null  int64 \n",
      " 2   message_date  76051 non-null  object\n",
      "dtypes: int64(1), object(2)\n",
      "memory usage: 1.7+ MB\n"
     ]
    }
   ],
   "source": [
    "# Imprime la información general/resumida sobre el DataFrame de los mensajes\n",
    "\n",
    "messages.info()"
   ]
  },
  {
   "cell_type": "code",
   "execution_count": 23,
   "metadata": {
    "id": "mCEl2iGE0q1A"
   },
   "outputs": [
    {
     "data": {
      "text/html": [
       "<div>\n",
       "<style scoped>\n",
       "    .dataframe tbody tr th:only-of-type {\n",
       "        vertical-align: middle;\n",
       "    }\n",
       "\n",
       "    .dataframe tbody tr th {\n",
       "        vertical-align: top;\n",
       "    }\n",
       "\n",
       "    .dataframe thead th {\n",
       "        text-align: right;\n",
       "    }\n",
       "</style>\n",
       "<table border=\"1\" class=\"dataframe\">\n",
       "  <thead>\n",
       "    <tr style=\"text-align: right;\">\n",
       "      <th></th>\n",
       "      <th>id</th>\n",
       "      <th>user_id</th>\n",
       "      <th>message_date</th>\n",
       "    </tr>\n",
       "  </thead>\n",
       "  <tbody>\n",
       "    <tr>\n",
       "      <th>73910</th>\n",
       "      <td>1475_44</td>\n",
       "      <td>1475</td>\n",
       "      <td>2018-08-18</td>\n",
       "    </tr>\n",
       "    <tr>\n",
       "      <th>70662</th>\n",
       "      <td>1460_143</td>\n",
       "      <td>1460</td>\n",
       "      <td>2018-09-14</td>\n",
       "    </tr>\n",
       "    <tr>\n",
       "      <th>10159</th>\n",
       "      <td>1076_364</td>\n",
       "      <td>1076</td>\n",
       "      <td>2018-10-10</td>\n",
       "    </tr>\n",
       "    <tr>\n",
       "      <th>36096</th>\n",
       "      <td>1237_117</td>\n",
       "      <td>1237</td>\n",
       "      <td>2018-10-26</td>\n",
       "    </tr>\n",
       "    <tr>\n",
       "      <th>12009</th>\n",
       "      <td>1080_12</td>\n",
       "      <td>1080</td>\n",
       "      <td>2018-12-27</td>\n",
       "    </tr>\n",
       "  </tbody>\n",
       "</table>\n",
       "</div>"
      ],
      "text/plain": [
       "             id  user_id message_date\n",
       "73910   1475_44     1475   2018-08-18\n",
       "70662  1460_143     1460   2018-09-14\n",
       "10159  1076_364     1076   2018-10-10\n",
       "36096  1237_117     1237   2018-10-26\n",
       "12009   1080_12     1080   2018-12-27"
      ]
     },
     "execution_count": 23,
     "metadata": {},
     "output_type": "execute_result"
    }
   ],
   "source": [
    "# Imprime una muestra de datos para los mensajes\n",
    "\n",
    "messages.sample(5)"
   ]
  },
  {
   "cell_type": "code",
   "execution_count": 24,
   "metadata": {},
   "outputs": [
    {
     "data": {
      "text/plain": [
       "0"
      ]
     },
     "execution_count": 24,
     "metadata": {},
     "output_type": "execute_result"
    }
   ],
   "source": [
    "messages.duplicated().sum()"
   ]
  },
  {
   "cell_type": "markdown",
   "metadata": {
    "id": "04xDj7KH0q1A"
   },
   "source": [
    "[Describe lo que ves y observas en la información general y en la muestra de datos impresa para el precio de datos anterior. ¿Hay algún problema (tipos de datos no adecuados, datos ausentes, etc.) que pudieran necesitar investigación y cambios adicionales? ¿Cómo se puede arreglar?]"
   ]
  },
  {
   "cell_type": "markdown",
   "metadata": {},
   "source": [
    "**El DF no tiene valores nulos y tampoco valores duplicados, a corregir la columna 'message_date', ya que su tipo de dato es erroneo, de object pasar a datetime, y con ello agregar al DF las columnas adicionales de dia, mes y año**"
   ]
  },
  {
   "cell_type": "markdown",
   "metadata": {
    "id": "Sprfak900q1B"
   },
   "source": [
    "### Corregir los datos"
   ]
  },
  {
   "cell_type": "markdown",
   "metadata": {
    "id": "eGw7d9j10q1B"
   },
   "source": [
    "[Corrige los problemas obvios con los datos basándote en las observaciones iniciales.]"
   ]
  },
  {
   "cell_type": "code",
   "execution_count": 25,
   "metadata": {
    "id": "vsllvkoa0q1B"
   },
   "outputs": [],
   "source": [
    "# CAMBIANDO EL TIPO DE DATOS DE LA COLUMNA QUE SE COMPONE DE FECHAS, DE OBJECT(STRING) A DATETIME\n",
    "\n",
    "messages['message_date'] = pd.to_datetime(messages['message_date'], format = '%Y-%m-%d')"
   ]
  },
  {
   "cell_type": "markdown",
   "metadata": {
    "id": "HvLid7iD0q1B"
   },
   "source": [
    "### Enriquecer los datos"
   ]
  },
  {
   "cell_type": "markdown",
   "metadata": {
    "id": "8nhPFKIe0q1C"
   },
   "source": [
    "[Agrega factores adicionales a los datos si crees que pudieran ser útiles.]"
   ]
  },
  {
   "cell_type": "code",
   "execution_count": 26,
   "metadata": {
    "id": "zYEXZac10q1C"
   },
   "outputs": [],
   "source": [
    "# GENERANDO COLUMNAS DE DIA, MES Y AÑO DE LOS MENSAJES\n",
    "\n",
    "messages['day'] = messages['message_date'].dt.day\n",
    "messages['month'] = messages['message_date'].dt.month\n",
    "messages['year'] = messages['message_date'].dt.year"
   ]
  },
  {
   "cell_type": "markdown",
   "metadata": {
    "id": "bStkaxn40q1C"
   },
   "source": [
    "## Internet"
   ]
  },
  {
   "cell_type": "code",
   "execution_count": 27,
   "metadata": {
    "id": "e-Uz5qyn0q1C"
   },
   "outputs": [
    {
     "name": "stdout",
     "output_type": "stream",
     "text": [
      "<class 'pandas.core.frame.DataFrame'>\n",
      "RangeIndex: 104825 entries, 0 to 104824\n",
      "Data columns (total 4 columns):\n",
      " #   Column        Non-Null Count   Dtype  \n",
      "---  ------        --------------   -----  \n",
      " 0   id            104825 non-null  object \n",
      " 1   user_id       104825 non-null  int64  \n",
      " 2   session_date  104825 non-null  object \n",
      " 3   mb_used       104825 non-null  float64\n",
      "dtypes: float64(1), int64(1), object(2)\n",
      "memory usage: 3.2+ MB\n"
     ]
    }
   ],
   "source": [
    "# Imprime la información general/resumida sobre el DataFrame de internet\n",
    "\n",
    "internet.info()"
   ]
  },
  {
   "cell_type": "code",
   "execution_count": 28,
   "metadata": {
    "id": "9r3x_XLw0q1C"
   },
   "outputs": [
    {
     "data": {
      "text/html": [
       "<div>\n",
       "<style scoped>\n",
       "    .dataframe tbody tr th:only-of-type {\n",
       "        vertical-align: middle;\n",
       "    }\n",
       "\n",
       "    .dataframe tbody tr th {\n",
       "        vertical-align: top;\n",
       "    }\n",
       "\n",
       "    .dataframe thead th {\n",
       "        text-align: right;\n",
       "    }\n",
       "</style>\n",
       "<table border=\"1\" class=\"dataframe\">\n",
       "  <thead>\n",
       "    <tr style=\"text-align: right;\">\n",
       "      <th></th>\n",
       "      <th>id</th>\n",
       "      <th>user_id</th>\n",
       "      <th>session_date</th>\n",
       "      <th>mb_used</th>\n",
       "    </tr>\n",
       "  </thead>\n",
       "  <tbody>\n",
       "    <tr>\n",
       "      <th>77706</th>\n",
       "      <td>1362_389</td>\n",
       "      <td>1362</td>\n",
       "      <td>2018-11-22</td>\n",
       "      <td>619.93</td>\n",
       "    </tr>\n",
       "    <tr>\n",
       "      <th>53655</th>\n",
       "      <td>1242_66</td>\n",
       "      <td>1242</td>\n",
       "      <td>2018-10-11</td>\n",
       "      <td>121.52</td>\n",
       "    </tr>\n",
       "    <tr>\n",
       "      <th>55398</th>\n",
       "      <td>1251_209</td>\n",
       "      <td>1251</td>\n",
       "      <td>2018-03-22</td>\n",
       "      <td>880.72</td>\n",
       "    </tr>\n",
       "    <tr>\n",
       "      <th>33183</th>\n",
       "      <td>1150_173</td>\n",
       "      <td>1150</td>\n",
       "      <td>2018-11-20</td>\n",
       "      <td>0.00</td>\n",
       "    </tr>\n",
       "    <tr>\n",
       "      <th>33537</th>\n",
       "      <td>1152_167</td>\n",
       "      <td>1152</td>\n",
       "      <td>2018-11-10</td>\n",
       "      <td>354.59</td>\n",
       "    </tr>\n",
       "  </tbody>\n",
       "</table>\n",
       "</div>"
      ],
      "text/plain": [
       "             id  user_id session_date  mb_used\n",
       "77706  1362_389     1362   2018-11-22   619.93\n",
       "53655   1242_66     1242   2018-10-11   121.52\n",
       "55398  1251_209     1251   2018-03-22   880.72\n",
       "33183  1150_173     1150   2018-11-20     0.00\n",
       "33537  1152_167     1152   2018-11-10   354.59"
      ]
     },
     "execution_count": 28,
     "metadata": {},
     "output_type": "execute_result"
    }
   ],
   "source": [
    "# Imprime una muestra de datos para el tráfico de internet\n",
    "\n",
    "internet.sample(5)"
   ]
  },
  {
   "cell_type": "code",
   "execution_count": 29,
   "metadata": {},
   "outputs": [
    {
     "data": {
      "text/plain": [
       "0"
      ]
     },
     "execution_count": 29,
     "metadata": {},
     "output_type": "execute_result"
    }
   ],
   "source": [
    "internet.duplicated().sum()"
   ]
  },
  {
   "cell_type": "markdown",
   "metadata": {
    "id": "EzOG5ik30q1D"
   },
   "source": [
    "[Describe lo que ves y observas en la información general y en la muestra de datos impresa para el precio de datos anterior. ¿Hay algún problema (tipos de datos no adecuados, datos ausentes, etc.) que pudieran necesitar investigación y cambios adicionales? ¿Cómo se puede arreglar?]"
   ]
  },
  {
   "cell_type": "markdown",
   "metadata": {},
   "source": [
    "**El DF no tiene valores nulos y tampoco valores duplicados, a corregir la columna 'session_date', ya que su tipo de dato es erroneo, de object pasar a datetime, y con ello agregar al DF las columnas adicionales de dia, mes y año** "
   ]
  },
  {
   "cell_type": "markdown",
   "metadata": {
    "id": "yA0tkPFg0q1D"
   },
   "source": [
    "### Corregir los datos"
   ]
  },
  {
   "cell_type": "markdown",
   "metadata": {
    "id": "zlZMuIEK0q1D"
   },
   "source": [
    "[Corrige los problemas obvios con los datos basándote en las observaciones iniciales.]"
   ]
  },
  {
   "cell_type": "code",
   "execution_count": 30,
   "metadata": {
    "id": "zVeanzdd0q1E"
   },
   "outputs": [],
   "source": [
    "# CAMBIANDO EL TIPO DE DATOS DE LA COLUMNA QUE SE COMPONE DE FECHAS, DE OBJECT(STRING) A DATETIME\n",
    "\n",
    "internet['session_date'] = pd.to_datetime(internet['session_date'], format = '%Y-%m-%d')"
   ]
  },
  {
   "cell_type": "markdown",
   "metadata": {
    "id": "e8_mLF4a0q1E"
   },
   "source": [
    "### Enriquecer los datos"
   ]
  },
  {
   "cell_type": "markdown",
   "metadata": {
    "id": "xhNdn2tE0q1E"
   },
   "source": [
    "[Agrega factores adicionales a los datos si crees que pudieran ser útiles.]"
   ]
  },
  {
   "cell_type": "code",
   "execution_count": 31,
   "metadata": {
    "id": "ESiYPIEK0q1E"
   },
   "outputs": [],
   "source": [
    "# GENERANDO COLUMNAS DE DIA, MES Y AÑO DEL USO DE DATOS\n",
    "\n",
    "internet['day'] = internet['session_date'].dt.day\n",
    "internet['month'] = internet['session_date'].dt.month\n",
    "internet['year'] = internet['session_date'].dt.year"
   ]
  },
  {
   "cell_type": "markdown",
   "metadata": {},
   "source": [
    "<div class=\"alert alert-block alert-danger\">\n",
    "<b>Comentario del revisor (1ra Iteracion)</b> <a class=“tocSkip”></a>\n",
    "\n",
    "Cómo los datos de los planes están en gb_per_usd te recomendaría hacer la transformación a GB de la columna mb_used y una vez transformado también aplicar un redondeo hacia arriba con `np.ceil` ya que el caso es similar con `duration`\n",
    "</div>"
   ]
  },
  {
   "cell_type": "markdown",
   "metadata": {},
   "source": [
    "<div class=\"alert alert-block alert-info\">\n",
    "<b>Respuesta del estudiante</b> \n",
    "    \n",
    "Corregido \n",
    "    <a class=“tocSkip”></a>\n",
    "</div>"
   ]
  },
  {
   "cell_type": "markdown",
   "metadata": {},
   "source": [
    "<div class=\"alert alert-block alert-success\">\n",
    "<b>Comentario del revisor (2da Iteracion)</b> <a class=“tocSkip”></a>\n",
    "\n",
    "Perfecto! Buen trabajo haciendo el cambio\n",
    "</div>"
   ]
  },
  {
   "cell_type": "code",
   "execution_count": 32,
   "metadata": {},
   "outputs": [
    {
     "data": {
      "text/html": [
       "<div>\n",
       "<style scoped>\n",
       "    .dataframe tbody tr th:only-of-type {\n",
       "        vertical-align: middle;\n",
       "    }\n",
       "\n",
       "    .dataframe tbody tr th {\n",
       "        vertical-align: top;\n",
       "    }\n",
       "\n",
       "    .dataframe thead th {\n",
       "        text-align: right;\n",
       "    }\n",
       "</style>\n",
       "<table border=\"1\" class=\"dataframe\">\n",
       "  <thead>\n",
       "    <tr style=\"text-align: right;\">\n",
       "      <th></th>\n",
       "      <th>user_id</th>\n",
       "      <th>month</th>\n",
       "      <th>mb_used</th>\n",
       "      <th>gb_used</th>\n",
       "    </tr>\n",
       "  </thead>\n",
       "  <tbody>\n",
       "    <tr>\n",
       "      <th>0</th>\n",
       "      <td>1000</td>\n",
       "      <td>12</td>\n",
       "      <td>1901.47</td>\n",
       "      <td>2</td>\n",
       "    </tr>\n",
       "    <tr>\n",
       "      <th>1</th>\n",
       "      <td>1001</td>\n",
       "      <td>8</td>\n",
       "      <td>6919.15</td>\n",
       "      <td>7</td>\n",
       "    </tr>\n",
       "    <tr>\n",
       "      <th>2</th>\n",
       "      <td>1001</td>\n",
       "      <td>9</td>\n",
       "      <td>13314.82</td>\n",
       "      <td>14</td>\n",
       "    </tr>\n",
       "    <tr>\n",
       "      <th>3</th>\n",
       "      <td>1001</td>\n",
       "      <td>10</td>\n",
       "      <td>22330.49</td>\n",
       "      <td>22</td>\n",
       "    </tr>\n",
       "    <tr>\n",
       "      <th>4</th>\n",
       "      <td>1001</td>\n",
       "      <td>11</td>\n",
       "      <td>18504.30</td>\n",
       "      <td>19</td>\n",
       "    </tr>\n",
       "    <tr>\n",
       "      <th>...</th>\n",
       "      <td>...</td>\n",
       "      <td>...</td>\n",
       "      <td>...</td>\n",
       "      <td>...</td>\n",
       "    </tr>\n",
       "    <tr>\n",
       "      <th>2272</th>\n",
       "      <td>1498</td>\n",
       "      <td>12</td>\n",
       "      <td>23137.69</td>\n",
       "      <td>23</td>\n",
       "    </tr>\n",
       "    <tr>\n",
       "      <th>2273</th>\n",
       "      <td>1499</td>\n",
       "      <td>9</td>\n",
       "      <td>12984.76</td>\n",
       "      <td>13</td>\n",
       "    </tr>\n",
       "    <tr>\n",
       "      <th>2274</th>\n",
       "      <td>1499</td>\n",
       "      <td>10</td>\n",
       "      <td>19492.43</td>\n",
       "      <td>20</td>\n",
       "    </tr>\n",
       "    <tr>\n",
       "      <th>2275</th>\n",
       "      <td>1499</td>\n",
       "      <td>11</td>\n",
       "      <td>16813.83</td>\n",
       "      <td>17</td>\n",
       "    </tr>\n",
       "    <tr>\n",
       "      <th>2276</th>\n",
       "      <td>1499</td>\n",
       "      <td>12</td>\n",
       "      <td>22059.21</td>\n",
       "      <td>22</td>\n",
       "    </tr>\n",
       "  </tbody>\n",
       "</table>\n",
       "<p>2277 rows × 4 columns</p>\n",
       "</div>"
      ],
      "text/plain": [
       "      user_id  month   mb_used  gb_used\n",
       "0        1000     12   1901.47        2\n",
       "1        1001      8   6919.15        7\n",
       "2        1001      9  13314.82       14\n",
       "3        1001     10  22330.49       22\n",
       "4        1001     11  18504.30       19\n",
       "...       ...    ...       ...      ...\n",
       "2272     1498     12  23137.69       23\n",
       "2273     1499      9  12984.76       13\n",
       "2274     1499     10  19492.43       20\n",
       "2275     1499     11  16813.83       17\n",
       "2276     1499     12  22059.21       22\n",
       "\n",
       "[2277 rows x 4 columns]"
      ]
     },
     "execution_count": 32,
     "metadata": {},
     "output_type": "execute_result"
    }
   ],
   "source": [
    "agg_internet = {'mb_used':'sum'}\n",
    "internet_per_user_per_month = internet.groupby(['user_id','month']).agg(agg_internet)\n",
    "internet_per_user_per_month['gb_used'] = (internet_per_user_per_month['mb_used']/1024).apply(np.ceil).astype('int')\n",
    "internet_per_user_per_month.reset_index(inplace = True)\n",
    "internet_per_user_per_month"
   ]
  },
  {
   "cell_type": "markdown",
   "metadata": {
    "id": "3UA2cqIW0q1E"
   },
   "source": [
    "## Estudiar las condiciones de las tarifas"
   ]
  },
  {
   "cell_type": "markdown",
   "metadata": {
    "id": "T86Sqltq0q1F"
   },
   "source": [
    "[Es sumamente importante entender cómo funcionan las tarifas, cómo se les cobra a los usuarios en función de su plan de suscripción. Así que te sugerimos imprimir la información de la tarifa para ver una vez más sus condiciones.]"
   ]
  },
  {
   "cell_type": "code",
   "execution_count": 33,
   "metadata": {
    "id": "i409op8p0q1F"
   },
   "outputs": [
    {
     "data": {
      "text/html": [
       "<div>\n",
       "<style scoped>\n",
       "    .dataframe tbody tr th:only-of-type {\n",
       "        vertical-align: middle;\n",
       "    }\n",
       "\n",
       "    .dataframe tbody tr th {\n",
       "        vertical-align: top;\n",
       "    }\n",
       "\n",
       "    .dataframe thead th {\n",
       "        text-align: right;\n",
       "    }\n",
       "</style>\n",
       "<table border=\"1\" class=\"dataframe\">\n",
       "  <thead>\n",
       "    <tr style=\"text-align: right;\">\n",
       "      <th></th>\n",
       "      <th>plan_name</th>\n",
       "      <th>minutes_included</th>\n",
       "      <th>messages_included</th>\n",
       "      <th>mb_per_month_included</th>\n",
       "      <th>gb_per_month_included</th>\n",
       "      <th>usd_monthly_pay</th>\n",
       "      <th>usd_per_minute</th>\n",
       "      <th>usd_per_message</th>\n",
       "      <th>usd_per_gb</th>\n",
       "    </tr>\n",
       "  </thead>\n",
       "  <tbody>\n",
       "    <tr>\n",
       "      <th>0</th>\n",
       "      <td>surf</td>\n",
       "      <td>500</td>\n",
       "      <td>50</td>\n",
       "      <td>15360</td>\n",
       "      <td>15</td>\n",
       "      <td>20</td>\n",
       "      <td>0.03</td>\n",
       "      <td>0.03</td>\n",
       "      <td>10</td>\n",
       "    </tr>\n",
       "    <tr>\n",
       "      <th>1</th>\n",
       "      <td>ultimate</td>\n",
       "      <td>3000</td>\n",
       "      <td>1000</td>\n",
       "      <td>30720</td>\n",
       "      <td>30</td>\n",
       "      <td>70</td>\n",
       "      <td>0.01</td>\n",
       "      <td>0.01</td>\n",
       "      <td>7</td>\n",
       "    </tr>\n",
       "  </tbody>\n",
       "</table>\n",
       "</div>"
      ],
      "text/plain": [
       "  plan_name  minutes_included  messages_included  mb_per_month_included  \\\n",
       "0      surf               500                 50                  15360   \n",
       "1  ultimate              3000               1000                  30720   \n",
       "\n",
       "   gb_per_month_included  usd_monthly_pay  usd_per_minute  usd_per_message  \\\n",
       "0                     15               20            0.03             0.03   \n",
       "1                     30               70            0.01             0.01   \n",
       "\n",
       "   usd_per_gb  \n",
       "0          10  \n",
       "1           7  "
      ]
     },
     "execution_count": 33,
     "metadata": {},
     "output_type": "execute_result"
    }
   ],
   "source": [
    "# Imprime las condiciones de la tarifa y asegúrate de que te quedan claras\n",
    "\n",
    "plans"
   ]
  },
  {
   "cell_type": "markdown",
   "metadata": {
    "id": "hMR1tP5d0q1F"
   },
   "source": [
    "## Agregar datos por usuario\n",
    "\n",
    "[Ahora que los datos están limpios, agrega los datos por usuario y por periodo para que solo haya un registro por usuario y por periodo. Esto facilitará mucho el análisis posterior.]"
   ]
  },
  {
   "cell_type": "code",
   "execution_count": 34,
   "metadata": {},
   "outputs": [],
   "source": [
    "# REDONDEANDO TODAS LAS LLAMADAS INDIVIDUALES DE LA VARIABLE DURATION AL MINUTO SIGUIENTE\n",
    "\n",
    "# Calculo colocado en seccion enriquecer datos"
   ]
  },
  {
   "cell_type": "markdown",
   "metadata": {},
   "source": [
    "<div class=\"alert alert-block alert-warning\">\n",
    "<b>Comentario del revisor (1ra Iteracion)</b> <a class=“tocSkip”></a>\n",
    "\n",
    "Te había puesto un comentario justo sobre esta parte, te recomiendo que para mantener el orden del notebook con respecto a lo que dice cada título muevas esta sección a la parte de enriquecer datos para el dataset de llamadas\n",
    "</div>"
   ]
  },
  {
   "cell_type": "markdown",
   "metadata": {},
   "source": [
    "<div class=\"alert alert-block alert-info\">\n",
    "<b>Respuesta del estudiante</b>\n",
    "\n",
    "Corregido\n",
    "    <a class=“tocSkip”></a>\n",
    "</div>"
   ]
  },
  {
   "cell_type": "code",
   "execution_count": 35,
   "metadata": {
    "id": "A332cedB0q1G"
   },
   "outputs": [
    {
     "data": {
      "text/html": [
       "<div>\n",
       "<style scoped>\n",
       "    .dataframe tbody tr th:only-of-type {\n",
       "        vertical-align: middle;\n",
       "    }\n",
       "\n",
       "    .dataframe tbody tr th {\n",
       "        vertical-align: top;\n",
       "    }\n",
       "\n",
       "    .dataframe thead th {\n",
       "        text-align: right;\n",
       "    }\n",
       "</style>\n",
       "<table border=\"1\" class=\"dataframe\">\n",
       "  <thead>\n",
       "    <tr style=\"text-align: right;\">\n",
       "      <th></th>\n",
       "      <th>user_id</th>\n",
       "      <th>month</th>\n",
       "      <th>number_calls</th>\n",
       "      <th>duration</th>\n",
       "    </tr>\n",
       "  </thead>\n",
       "  <tbody>\n",
       "    <tr>\n",
       "      <th>0</th>\n",
       "      <td>1000</td>\n",
       "      <td>12</td>\n",
       "      <td>16</td>\n",
       "      <td>124.0</td>\n",
       "    </tr>\n",
       "    <tr>\n",
       "      <th>1</th>\n",
       "      <td>1001</td>\n",
       "      <td>8</td>\n",
       "      <td>27</td>\n",
       "      <td>182.0</td>\n",
       "    </tr>\n",
       "    <tr>\n",
       "      <th>2</th>\n",
       "      <td>1001</td>\n",
       "      <td>9</td>\n",
       "      <td>49</td>\n",
       "      <td>315.0</td>\n",
       "    </tr>\n",
       "    <tr>\n",
       "      <th>3</th>\n",
       "      <td>1001</td>\n",
       "      <td>10</td>\n",
       "      <td>65</td>\n",
       "      <td>393.0</td>\n",
       "    </tr>\n",
       "    <tr>\n",
       "      <th>4</th>\n",
       "      <td>1001</td>\n",
       "      <td>11</td>\n",
       "      <td>64</td>\n",
       "      <td>426.0</td>\n",
       "    </tr>\n",
       "    <tr>\n",
       "      <th>...</th>\n",
       "      <td>...</td>\n",
       "      <td>...</td>\n",
       "      <td>...</td>\n",
       "      <td>...</td>\n",
       "    </tr>\n",
       "    <tr>\n",
       "      <th>2253</th>\n",
       "      <td>1498</td>\n",
       "      <td>12</td>\n",
       "      <td>39</td>\n",
       "      <td>339.0</td>\n",
       "    </tr>\n",
       "    <tr>\n",
       "      <th>2254</th>\n",
       "      <td>1499</td>\n",
       "      <td>9</td>\n",
       "      <td>41</td>\n",
       "      <td>346.0</td>\n",
       "    </tr>\n",
       "    <tr>\n",
       "      <th>2255</th>\n",
       "      <td>1499</td>\n",
       "      <td>10</td>\n",
       "      <td>53</td>\n",
       "      <td>385.0</td>\n",
       "    </tr>\n",
       "    <tr>\n",
       "      <th>2256</th>\n",
       "      <td>1499</td>\n",
       "      <td>11</td>\n",
       "      <td>45</td>\n",
       "      <td>308.0</td>\n",
       "    </tr>\n",
       "    <tr>\n",
       "      <th>2257</th>\n",
       "      <td>1499</td>\n",
       "      <td>12</td>\n",
       "      <td>65</td>\n",
       "      <td>496.0</td>\n",
       "    </tr>\n",
       "  </tbody>\n",
       "</table>\n",
       "<p>2258 rows × 4 columns</p>\n",
       "</div>"
      ],
      "text/plain": [
       "      user_id  month  number_calls  duration\n",
       "0        1000     12            16     124.0\n",
       "1        1001      8            27     182.0\n",
       "2        1001      9            49     315.0\n",
       "3        1001     10            65     393.0\n",
       "4        1001     11            64     426.0\n",
       "...       ...    ...           ...       ...\n",
       "2253     1498     12            39     339.0\n",
       "2254     1499      9            41     346.0\n",
       "2255     1499     10            53     385.0\n",
       "2256     1499     11            45     308.0\n",
       "2257     1499     12            65     496.0\n",
       "\n",
       "[2258 rows x 4 columns]"
      ]
     },
     "execution_count": 35,
     "metadata": {},
     "output_type": "execute_result"
    }
   ],
   "source": [
    "# Calcula el número de llamadas hechas por cada usuario al mes. Guarda el resultado.\n",
    "\n",
    "agg_calls = {'id':'count','duration':'sum'}\n",
    "calls_per_user_per_month = calls.groupby(['user_id','month']).agg(agg_calls)\n",
    "calls_per_user_per_month.rename(columns = {'id':'number_calls'}, inplace = True)\n",
    "calls_per_user_per_month.reset_index(inplace = True)\n",
    "calls_per_user_per_month"
   ]
  },
  {
   "cell_type": "code",
   "execution_count": 36,
   "metadata": {
    "id": "aw2cmuql0q1G"
   },
   "outputs": [],
   "source": [
    "# Calcula la cantidad de minutos usados por cada usuario al mes. Guarda el resultado.\n",
    "\n",
    "# El calculo esta realizado en la celda anterior"
   ]
  },
  {
   "cell_type": "code",
   "execution_count": 37,
   "metadata": {
    "id": "CcQvNHn60q1G"
   },
   "outputs": [
    {
     "data": {
      "text/html": [
       "<div>\n",
       "<style scoped>\n",
       "    .dataframe tbody tr th:only-of-type {\n",
       "        vertical-align: middle;\n",
       "    }\n",
       "\n",
       "    .dataframe tbody tr th {\n",
       "        vertical-align: top;\n",
       "    }\n",
       "\n",
       "    .dataframe thead th {\n",
       "        text-align: right;\n",
       "    }\n",
       "</style>\n",
       "<table border=\"1\" class=\"dataframe\">\n",
       "  <thead>\n",
       "    <tr style=\"text-align: right;\">\n",
       "      <th></th>\n",
       "      <th>user_id</th>\n",
       "      <th>month</th>\n",
       "      <th>number_messages</th>\n",
       "    </tr>\n",
       "  </thead>\n",
       "  <tbody>\n",
       "    <tr>\n",
       "      <th>0</th>\n",
       "      <td>1000</td>\n",
       "      <td>12</td>\n",
       "      <td>11</td>\n",
       "    </tr>\n",
       "    <tr>\n",
       "      <th>1</th>\n",
       "      <td>1001</td>\n",
       "      <td>8</td>\n",
       "      <td>30</td>\n",
       "    </tr>\n",
       "    <tr>\n",
       "      <th>2</th>\n",
       "      <td>1001</td>\n",
       "      <td>9</td>\n",
       "      <td>44</td>\n",
       "    </tr>\n",
       "    <tr>\n",
       "      <th>3</th>\n",
       "      <td>1001</td>\n",
       "      <td>10</td>\n",
       "      <td>53</td>\n",
       "    </tr>\n",
       "    <tr>\n",
       "      <th>4</th>\n",
       "      <td>1001</td>\n",
       "      <td>11</td>\n",
       "      <td>36</td>\n",
       "    </tr>\n",
       "    <tr>\n",
       "      <th>...</th>\n",
       "      <td>...</td>\n",
       "      <td>...</td>\n",
       "      <td>...</td>\n",
       "    </tr>\n",
       "    <tr>\n",
       "      <th>1801</th>\n",
       "      <td>1496</td>\n",
       "      <td>9</td>\n",
       "      <td>21</td>\n",
       "    </tr>\n",
       "    <tr>\n",
       "      <th>1802</th>\n",
       "      <td>1496</td>\n",
       "      <td>10</td>\n",
       "      <td>18</td>\n",
       "    </tr>\n",
       "    <tr>\n",
       "      <th>1803</th>\n",
       "      <td>1496</td>\n",
       "      <td>11</td>\n",
       "      <td>13</td>\n",
       "    </tr>\n",
       "    <tr>\n",
       "      <th>1804</th>\n",
       "      <td>1496</td>\n",
       "      <td>12</td>\n",
       "      <td>11</td>\n",
       "    </tr>\n",
       "    <tr>\n",
       "      <th>1805</th>\n",
       "      <td>1497</td>\n",
       "      <td>12</td>\n",
       "      <td>50</td>\n",
       "    </tr>\n",
       "  </tbody>\n",
       "</table>\n",
       "<p>1806 rows × 3 columns</p>\n",
       "</div>"
      ],
      "text/plain": [
       "      user_id  month  number_messages\n",
       "0        1000     12               11\n",
       "1        1001      8               30\n",
       "2        1001      9               44\n",
       "3        1001     10               53\n",
       "4        1001     11               36\n",
       "...       ...    ...              ...\n",
       "1801     1496      9               21\n",
       "1802     1496     10               18\n",
       "1803     1496     11               13\n",
       "1804     1496     12               11\n",
       "1805     1497     12               50\n",
       "\n",
       "[1806 rows x 3 columns]"
      ]
     },
     "execution_count": 37,
     "metadata": {},
     "output_type": "execute_result"
    }
   ],
   "source": [
    "# Calcula el número de mensajes enviados por cada usuario al mes. Guarda el resultado.\n",
    "\n",
    "agg_message = {'id':'count'}\n",
    "messages_per_user_per_month = messages.groupby(['user_id','month']).agg(agg_message)\n",
    "messages_per_user_per_month.rename(columns = {'id':'number_messages'},inplace = True)\n",
    "messages_per_user_per_month.reset_index(inplace = True)\n",
    "messages_per_user_per_month"
   ]
  },
  {
   "cell_type": "code",
   "execution_count": 38,
   "metadata": {
    "id": "H1AqN2eG0q1H"
   },
   "outputs": [],
   "source": [
    "# Calcula el volumen del tráfico de Internet usado por cada usuario al mes. Guarda el resultado.\n",
    "\n",
    "# Calculo colocado en seccion enriquecer datos"
   ]
  },
  {
   "cell_type": "markdown",
   "metadata": {},
   "source": [
    "<div class=\"alert alert-block alert-warning\">\n",
    "<b>Comentario del revisor (1ra Iteracion)</b> <a class=“tocSkip”></a>\n",
    "\n",
    "Perfecto! Lo hiciste muy bien, al igual que con el proceso de duration te dejé un comentario antes recomendando esta transformación ya que debería estar en la seccion de enriquecer datos para el dataset de `internet`\n",
    "</div>"
   ]
  },
  {
   "cell_type": "markdown",
   "metadata": {},
   "source": [
    "<div class=\"alert alert-block alert-info\">\n",
    "<b>Respuesta del estudiante</b>\n",
    "\n",
    "Corregido\n",
    "    <a class=“tocSkip”></a>\n",
    "</div>"
   ]
  },
  {
   "cell_type": "markdown",
   "metadata": {
    "id": "VDfYXnj80q1H"
   },
   "source": [
    "[Junta los datos agregados en un DataFrame para que haya un registro que represente lo que consumió un usuario único en un mes determinado.]"
   ]
  },
  {
   "cell_type": "code",
   "execution_count": 39,
   "metadata": {
    "id": "FW99ykyf0q1H"
   },
   "outputs": [
    {
     "name": "stdout",
     "output_type": "stream",
     "text": [
      "\n",
      "Se reemplazan valores ausentes por 0, ya que los NaN generados en el DF corresponde al tipo de merge usado, por ende en esos datos no hay registros, ya que el cliente no hay usado el servicio, y por ello, se reemplaza por 0\n"
     ]
    },
    {
     "data": {
      "text/html": [
       "<div>\n",
       "<style scoped>\n",
       "    .dataframe tbody tr th:only-of-type {\n",
       "        vertical-align: middle;\n",
       "    }\n",
       "\n",
       "    .dataframe tbody tr th {\n",
       "        vertical-align: top;\n",
       "    }\n",
       "\n",
       "    .dataframe thead th {\n",
       "        text-align: right;\n",
       "    }\n",
       "</style>\n",
       "<table border=\"1\" class=\"dataframe\">\n",
       "  <thead>\n",
       "    <tr style=\"text-align: right;\">\n",
       "      <th></th>\n",
       "      <th>user_id</th>\n",
       "      <th>month</th>\n",
       "      <th>number_calls</th>\n",
       "      <th>duration</th>\n",
       "      <th>number_messages</th>\n",
       "      <th>mb_used</th>\n",
       "      <th>gb_used</th>\n",
       "    </tr>\n",
       "  </thead>\n",
       "  <tbody>\n",
       "    <tr>\n",
       "      <th>0</th>\n",
       "      <td>1000</td>\n",
       "      <td>12</td>\n",
       "      <td>16.0</td>\n",
       "      <td>124.0</td>\n",
       "      <td>11.0</td>\n",
       "      <td>1901.47</td>\n",
       "      <td>2.0</td>\n",
       "    </tr>\n",
       "    <tr>\n",
       "      <th>1</th>\n",
       "      <td>1001</td>\n",
       "      <td>8</td>\n",
       "      <td>27.0</td>\n",
       "      <td>182.0</td>\n",
       "      <td>30.0</td>\n",
       "      <td>6919.15</td>\n",
       "      <td>7.0</td>\n",
       "    </tr>\n",
       "    <tr>\n",
       "      <th>2</th>\n",
       "      <td>1001</td>\n",
       "      <td>9</td>\n",
       "      <td>49.0</td>\n",
       "      <td>315.0</td>\n",
       "      <td>44.0</td>\n",
       "      <td>13314.82</td>\n",
       "      <td>14.0</td>\n",
       "    </tr>\n",
       "    <tr>\n",
       "      <th>3</th>\n",
       "      <td>1001</td>\n",
       "      <td>10</td>\n",
       "      <td>65.0</td>\n",
       "      <td>393.0</td>\n",
       "      <td>53.0</td>\n",
       "      <td>22330.49</td>\n",
       "      <td>22.0</td>\n",
       "    </tr>\n",
       "    <tr>\n",
       "      <th>4</th>\n",
       "      <td>1001</td>\n",
       "      <td>11</td>\n",
       "      <td>64.0</td>\n",
       "      <td>426.0</td>\n",
       "      <td>36.0</td>\n",
       "      <td>18504.30</td>\n",
       "      <td>19.0</td>\n",
       "    </tr>\n",
       "    <tr>\n",
       "      <th>...</th>\n",
       "      <td>...</td>\n",
       "      <td>...</td>\n",
       "      <td>...</td>\n",
       "      <td>...</td>\n",
       "      <td>...</td>\n",
       "      <td>...</td>\n",
       "      <td>...</td>\n",
       "    </tr>\n",
       "    <tr>\n",
       "      <th>2288</th>\n",
       "      <td>1349</td>\n",
       "      <td>12</td>\n",
       "      <td>0.0</td>\n",
       "      <td>0.0</td>\n",
       "      <td>61.0</td>\n",
       "      <td>13039.91</td>\n",
       "      <td>13.0</td>\n",
       "    </tr>\n",
       "    <tr>\n",
       "      <th>2289</th>\n",
       "      <td>1361</td>\n",
       "      <td>5</td>\n",
       "      <td>0.0</td>\n",
       "      <td>0.0</td>\n",
       "      <td>2.0</td>\n",
       "      <td>1519.69</td>\n",
       "      <td>2.0</td>\n",
       "    </tr>\n",
       "    <tr>\n",
       "      <th>2290</th>\n",
       "      <td>1482</td>\n",
       "      <td>10</td>\n",
       "      <td>0.0</td>\n",
       "      <td>0.0</td>\n",
       "      <td>2.0</td>\n",
       "      <td>0.00</td>\n",
       "      <td>0.0</td>\n",
       "    </tr>\n",
       "    <tr>\n",
       "      <th>2291</th>\n",
       "      <td>1108</td>\n",
       "      <td>12</td>\n",
       "      <td>0.0</td>\n",
       "      <td>0.0</td>\n",
       "      <td>0.0</td>\n",
       "      <td>233.17</td>\n",
       "      <td>1.0</td>\n",
       "    </tr>\n",
       "    <tr>\n",
       "      <th>2292</th>\n",
       "      <td>1311</td>\n",
       "      <td>6</td>\n",
       "      <td>0.0</td>\n",
       "      <td>0.0</td>\n",
       "      <td>0.0</td>\n",
       "      <td>1498.83</td>\n",
       "      <td>2.0</td>\n",
       "    </tr>\n",
       "  </tbody>\n",
       "</table>\n",
       "<p>2293 rows × 7 columns</p>\n",
       "</div>"
      ],
      "text/plain": [
       "      user_id  month  number_calls  duration  number_messages   mb_used  \\\n",
       "0        1000     12          16.0     124.0             11.0   1901.47   \n",
       "1        1001      8          27.0     182.0             30.0   6919.15   \n",
       "2        1001      9          49.0     315.0             44.0  13314.82   \n",
       "3        1001     10          65.0     393.0             53.0  22330.49   \n",
       "4        1001     11          64.0     426.0             36.0  18504.30   \n",
       "...       ...    ...           ...       ...              ...       ...   \n",
       "2288     1349     12           0.0       0.0             61.0  13039.91   \n",
       "2289     1361      5           0.0       0.0              2.0   1519.69   \n",
       "2290     1482     10           0.0       0.0              2.0      0.00   \n",
       "2291     1108     12           0.0       0.0              0.0    233.17   \n",
       "2292     1311      6           0.0       0.0              0.0   1498.83   \n",
       "\n",
       "      gb_used  \n",
       "0         2.0  \n",
       "1         7.0  \n",
       "2        14.0  \n",
       "3        22.0  \n",
       "4        19.0  \n",
       "...       ...  \n",
       "2288     13.0  \n",
       "2289      2.0  \n",
       "2290      0.0  \n",
       "2291      1.0  \n",
       "2292      2.0  \n",
       "\n",
       "[2293 rows x 7 columns]"
      ]
     },
     "execution_count": 39,
     "metadata": {},
     "output_type": "execute_result"
    }
   ],
   "source": [
    "# Fusiona los datos de llamadas, minutos, mensajes e Internet con base en user_id y month\n",
    "\n",
    "megaline_2018 = (calls_per_user_per_month.merge(messages_per_user_per_month, on = ['user_id','month'], how = 'outer')\n",
    "                                         .merge(internet_per_user_per_month, on = ['user_id','month'], how = 'outer')\n",
    "                )\n",
    "\n",
    "megaline_2018.fillna(0, inplace = True)\n",
    "print()\n",
    "print('Se reemplazan valores ausentes por 0, ya que los NaN generados en el DF corresponde al tipo de merge usado, por ende en esos datos no hay registros, ya que el cliente no hay usado el servicio, y por ello, se reemplaza por 0')\n",
    "\n",
    "\n",
    "megaline_2018"
   ]
  },
  {
   "cell_type": "code",
   "execution_count": 40,
   "metadata": {
    "id": "0dNOXHag0q1H"
   },
   "outputs": [
    {
     "name": "stdout",
     "output_type": "stream",
     "text": [
      "Uniendo informacion de los usuarios con sus respectivos planes y tarifas\n"
     ]
    },
    {
     "data": {
      "text/html": [
       "<div>\n",
       "<style scoped>\n",
       "    .dataframe tbody tr th:only-of-type {\n",
       "        vertical-align: middle;\n",
       "    }\n",
       "\n",
       "    .dataframe tbody tr th {\n",
       "        vertical-align: top;\n",
       "    }\n",
       "\n",
       "    .dataframe thead th {\n",
       "        text-align: right;\n",
       "    }\n",
       "</style>\n",
       "<table border=\"1\" class=\"dataframe\">\n",
       "  <thead>\n",
       "    <tr style=\"text-align: right;\">\n",
       "      <th></th>\n",
       "      <th>user_id</th>\n",
       "      <th>first_name</th>\n",
       "      <th>last_name</th>\n",
       "      <th>age</th>\n",
       "      <th>age_range</th>\n",
       "      <th>cities</th>\n",
       "      <th>state</th>\n",
       "      <th>reg_date</th>\n",
       "      <th>day_reg</th>\n",
       "      <th>month_reg</th>\n",
       "      <th>...</th>\n",
       "      <th>year_churn</th>\n",
       "      <th>plan</th>\n",
       "      <th>minutes_included</th>\n",
       "      <th>messages_included</th>\n",
       "      <th>mb_per_month_included</th>\n",
       "      <th>gb_per_month_included</th>\n",
       "      <th>usd_monthly_pay</th>\n",
       "      <th>usd_per_minute</th>\n",
       "      <th>usd_per_message</th>\n",
       "      <th>usd_per_gb</th>\n",
       "    </tr>\n",
       "  </thead>\n",
       "  <tbody>\n",
       "    <tr>\n",
       "      <th>0</th>\n",
       "      <td>1000</td>\n",
       "      <td>Anamaria</td>\n",
       "      <td>Bauer</td>\n",
       "      <td>45</td>\n",
       "      <td>adult</td>\n",
       "      <td>Atlanta-Sandy Springs-Roswell</td>\n",
       "      <td>GA MSA</td>\n",
       "      <td>2018-12-24</td>\n",
       "      <td>24</td>\n",
       "      <td>12</td>\n",
       "      <td>...</td>\n",
       "      <td>NaN</td>\n",
       "      <td>ultimate</td>\n",
       "      <td>3000</td>\n",
       "      <td>1000</td>\n",
       "      <td>30720</td>\n",
       "      <td>30</td>\n",
       "      <td>70</td>\n",
       "      <td>0.01</td>\n",
       "      <td>0.01</td>\n",
       "      <td>7</td>\n",
       "    </tr>\n",
       "    <tr>\n",
       "      <th>1</th>\n",
       "      <td>1006</td>\n",
       "      <td>Jesusa</td>\n",
       "      <td>Bradford</td>\n",
       "      <td>73</td>\n",
       "      <td>senior</td>\n",
       "      <td>San Francisco-Oakland-Berkeley</td>\n",
       "      <td>CA MSA</td>\n",
       "      <td>2018-11-27</td>\n",
       "      <td>27</td>\n",
       "      <td>11</td>\n",
       "      <td>...</td>\n",
       "      <td>2018.0</td>\n",
       "      <td>ultimate</td>\n",
       "      <td>3000</td>\n",
       "      <td>1000</td>\n",
       "      <td>30720</td>\n",
       "      <td>30</td>\n",
       "      <td>70</td>\n",
       "      <td>0.01</td>\n",
       "      <td>0.01</td>\n",
       "      <td>7</td>\n",
       "    </tr>\n",
       "    <tr>\n",
       "      <th>2</th>\n",
       "      <td>1008</td>\n",
       "      <td>Emely</td>\n",
       "      <td>Hoffman</td>\n",
       "      <td>53</td>\n",
       "      <td>senior</td>\n",
       "      <td>Orlando-Kissimmee-Sanford</td>\n",
       "      <td>FL MSA</td>\n",
       "      <td>2018-08-03</td>\n",
       "      <td>3</td>\n",
       "      <td>8</td>\n",
       "      <td>...</td>\n",
       "      <td>NaN</td>\n",
       "      <td>ultimate</td>\n",
       "      <td>3000</td>\n",
       "      <td>1000</td>\n",
       "      <td>30720</td>\n",
       "      <td>30</td>\n",
       "      <td>70</td>\n",
       "      <td>0.01</td>\n",
       "      <td>0.01</td>\n",
       "      <td>7</td>\n",
       "    </tr>\n",
       "    <tr>\n",
       "      <th>3</th>\n",
       "      <td>1011</td>\n",
       "      <td>Halina</td>\n",
       "      <td>Henry</td>\n",
       "      <td>73</td>\n",
       "      <td>senior</td>\n",
       "      <td>Cleveland-Elyria</td>\n",
       "      <td>OH MSA</td>\n",
       "      <td>2018-01-18</td>\n",
       "      <td>18</td>\n",
       "      <td>1</td>\n",
       "      <td>...</td>\n",
       "      <td>NaN</td>\n",
       "      <td>ultimate</td>\n",
       "      <td>3000</td>\n",
       "      <td>1000</td>\n",
       "      <td>30720</td>\n",
       "      <td>30</td>\n",
       "      <td>70</td>\n",
       "      <td>0.01</td>\n",
       "      <td>0.01</td>\n",
       "      <td>7</td>\n",
       "    </tr>\n",
       "    <tr>\n",
       "      <th>4</th>\n",
       "      <td>1013</td>\n",
       "      <td>Nicolas</td>\n",
       "      <td>Snider</td>\n",
       "      <td>50</td>\n",
       "      <td>adult</td>\n",
       "      <td>Knoxville</td>\n",
       "      <td>TN MSA</td>\n",
       "      <td>2018-12-01</td>\n",
       "      <td>1</td>\n",
       "      <td>12</td>\n",
       "      <td>...</td>\n",
       "      <td>NaN</td>\n",
       "      <td>ultimate</td>\n",
       "      <td>3000</td>\n",
       "      <td>1000</td>\n",
       "      <td>30720</td>\n",
       "      <td>30</td>\n",
       "      <td>70</td>\n",
       "      <td>0.01</td>\n",
       "      <td>0.01</td>\n",
       "      <td>7</td>\n",
       "    </tr>\n",
       "    <tr>\n",
       "      <th>...</th>\n",
       "      <td>...</td>\n",
       "      <td>...</td>\n",
       "      <td>...</td>\n",
       "      <td>...</td>\n",
       "      <td>...</td>\n",
       "      <td>...</td>\n",
       "      <td>...</td>\n",
       "      <td>...</td>\n",
       "      <td>...</td>\n",
       "      <td>...</td>\n",
       "      <td>...</td>\n",
       "      <td>...</td>\n",
       "      <td>...</td>\n",
       "      <td>...</td>\n",
       "      <td>...</td>\n",
       "      <td>...</td>\n",
       "      <td>...</td>\n",
       "      <td>...</td>\n",
       "      <td>...</td>\n",
       "      <td>...</td>\n",
       "      <td>...</td>\n",
       "    </tr>\n",
       "    <tr>\n",
       "      <th>495</th>\n",
       "      <td>1494</td>\n",
       "      <td>Preston</td>\n",
       "      <td>Downs</td>\n",
       "      <td>70</td>\n",
       "      <td>senior</td>\n",
       "      <td>New York-Newark-Jersey City</td>\n",
       "      <td>NY-NJ-PA MSA</td>\n",
       "      <td>2018-04-19</td>\n",
       "      <td>19</td>\n",
       "      <td>4</td>\n",
       "      <td>...</td>\n",
       "      <td>NaN</td>\n",
       "      <td>surf</td>\n",
       "      <td>500</td>\n",
       "      <td>50</td>\n",
       "      <td>15360</td>\n",
       "      <td>15</td>\n",
       "      <td>20</td>\n",
       "      <td>0.03</td>\n",
       "      <td>0.03</td>\n",
       "      <td>10</td>\n",
       "    </tr>\n",
       "    <tr>\n",
       "      <th>496</th>\n",
       "      <td>1495</td>\n",
       "      <td>Fidel</td>\n",
       "      <td>Sharpe</td>\n",
       "      <td>67</td>\n",
       "      <td>senior</td>\n",
       "      <td>New York-Newark-Jersey City</td>\n",
       "      <td>NY-NJ-PA MSA</td>\n",
       "      <td>2018-09-04</td>\n",
       "      <td>4</td>\n",
       "      <td>9</td>\n",
       "      <td>...</td>\n",
       "      <td>NaN</td>\n",
       "      <td>surf</td>\n",
       "      <td>500</td>\n",
       "      <td>50</td>\n",
       "      <td>15360</td>\n",
       "      <td>15</td>\n",
       "      <td>20</td>\n",
       "      <td>0.03</td>\n",
       "      <td>0.03</td>\n",
       "      <td>10</td>\n",
       "    </tr>\n",
       "    <tr>\n",
       "      <th>497</th>\n",
       "      <td>1496</td>\n",
       "      <td>Ariel</td>\n",
       "      <td>Shepherd</td>\n",
       "      <td>49</td>\n",
       "      <td>adult</td>\n",
       "      <td>New Orleans-Metairie</td>\n",
       "      <td>LA MSA</td>\n",
       "      <td>2018-02-20</td>\n",
       "      <td>20</td>\n",
       "      <td>2</td>\n",
       "      <td>...</td>\n",
       "      <td>NaN</td>\n",
       "      <td>surf</td>\n",
       "      <td>500</td>\n",
       "      <td>50</td>\n",
       "      <td>15360</td>\n",
       "      <td>15</td>\n",
       "      <td>20</td>\n",
       "      <td>0.03</td>\n",
       "      <td>0.03</td>\n",
       "      <td>10</td>\n",
       "    </tr>\n",
       "    <tr>\n",
       "      <th>498</th>\n",
       "      <td>1498</td>\n",
       "      <td>Scot</td>\n",
       "      <td>Williamson</td>\n",
       "      <td>51</td>\n",
       "      <td>senior</td>\n",
       "      <td>New York-Newark-Jersey City</td>\n",
       "      <td>NY-NJ-PA MSA</td>\n",
       "      <td>2018-02-04</td>\n",
       "      <td>4</td>\n",
       "      <td>2</td>\n",
       "      <td>...</td>\n",
       "      <td>NaN</td>\n",
       "      <td>surf</td>\n",
       "      <td>500</td>\n",
       "      <td>50</td>\n",
       "      <td>15360</td>\n",
       "      <td>15</td>\n",
       "      <td>20</td>\n",
       "      <td>0.03</td>\n",
       "      <td>0.03</td>\n",
       "      <td>10</td>\n",
       "    </tr>\n",
       "    <tr>\n",
       "      <th>499</th>\n",
       "      <td>1499</td>\n",
       "      <td>Shena</td>\n",
       "      <td>Dickson</td>\n",
       "      <td>37</td>\n",
       "      <td>adult</td>\n",
       "      <td>Orlando-Kissimmee-Sanford</td>\n",
       "      <td>FL MSA</td>\n",
       "      <td>2018-05-06</td>\n",
       "      <td>6</td>\n",
       "      <td>5</td>\n",
       "      <td>...</td>\n",
       "      <td>NaN</td>\n",
       "      <td>surf</td>\n",
       "      <td>500</td>\n",
       "      <td>50</td>\n",
       "      <td>15360</td>\n",
       "      <td>15</td>\n",
       "      <td>20</td>\n",
       "      <td>0.03</td>\n",
       "      <td>0.03</td>\n",
       "      <td>10</td>\n",
       "    </tr>\n",
       "  </tbody>\n",
       "</table>\n",
       "<p>500 rows × 24 columns</p>\n",
       "</div>"
      ],
      "text/plain": [
       "     user_id first_name   last_name  age age_range  \\\n",
       "0       1000   Anamaria       Bauer   45     adult   \n",
       "1       1006     Jesusa    Bradford   73    senior   \n",
       "2       1008      Emely     Hoffman   53    senior   \n",
       "3       1011     Halina       Henry   73    senior   \n",
       "4       1013    Nicolas      Snider   50     adult   \n",
       "..       ...        ...         ...  ...       ...   \n",
       "495     1494    Preston       Downs   70    senior   \n",
       "496     1495      Fidel      Sharpe   67    senior   \n",
       "497     1496      Ariel    Shepherd   49     adult   \n",
       "498     1498       Scot  Williamson   51    senior   \n",
       "499     1499      Shena     Dickson   37     adult   \n",
       "\n",
       "                             cities          state   reg_date  day_reg  \\\n",
       "0     Atlanta-Sandy Springs-Roswell         GA MSA 2018-12-24       24   \n",
       "1    San Francisco-Oakland-Berkeley         CA MSA 2018-11-27       27   \n",
       "2         Orlando-Kissimmee-Sanford         FL MSA 2018-08-03        3   \n",
       "3                  Cleveland-Elyria         OH MSA 2018-01-18       18   \n",
       "4                         Knoxville         TN MSA 2018-12-01        1   \n",
       "..                              ...            ...        ...      ...   \n",
       "495     New York-Newark-Jersey City   NY-NJ-PA MSA 2018-04-19       19   \n",
       "496     New York-Newark-Jersey City   NY-NJ-PA MSA 2018-09-04        4   \n",
       "497            New Orleans-Metairie         LA MSA 2018-02-20       20   \n",
       "498     New York-Newark-Jersey City   NY-NJ-PA MSA 2018-02-04        4   \n",
       "499       Orlando-Kissimmee-Sanford         FL MSA 2018-05-06        6   \n",
       "\n",
       "     month_reg  ...  year_churn      plan  minutes_included  \\\n",
       "0           12  ...         NaN  ultimate              3000   \n",
       "1           11  ...      2018.0  ultimate              3000   \n",
       "2            8  ...         NaN  ultimate              3000   \n",
       "3            1  ...         NaN  ultimate              3000   \n",
       "4           12  ...         NaN  ultimate              3000   \n",
       "..         ...  ...         ...       ...               ...   \n",
       "495          4  ...         NaN      surf               500   \n",
       "496          9  ...         NaN      surf               500   \n",
       "497          2  ...         NaN      surf               500   \n",
       "498          2  ...         NaN      surf               500   \n",
       "499          5  ...         NaN      surf               500   \n",
       "\n",
       "     messages_included  mb_per_month_included gb_per_month_included  \\\n",
       "0                 1000                  30720                    30   \n",
       "1                 1000                  30720                    30   \n",
       "2                 1000                  30720                    30   \n",
       "3                 1000                  30720                    30   \n",
       "4                 1000                  30720                    30   \n",
       "..                 ...                    ...                   ...   \n",
       "495                 50                  15360                    15   \n",
       "496                 50                  15360                    15   \n",
       "497                 50                  15360                    15   \n",
       "498                 50                  15360                    15   \n",
       "499                 50                  15360                    15   \n",
       "\n",
       "     usd_monthly_pay  usd_per_minute  usd_per_message  usd_per_gb  \n",
       "0                 70            0.01             0.01           7  \n",
       "1                 70            0.01             0.01           7  \n",
       "2                 70            0.01             0.01           7  \n",
       "3                 70            0.01             0.01           7  \n",
       "4                 70            0.01             0.01           7  \n",
       "..               ...             ...              ...         ...  \n",
       "495               20            0.03             0.03          10  \n",
       "496               20            0.03             0.03          10  \n",
       "497               20            0.03             0.03          10  \n",
       "498               20            0.03             0.03          10  \n",
       "499               20            0.03             0.03          10  \n",
       "\n",
       "[500 rows x 24 columns]"
      ]
     },
     "execution_count": 40,
     "metadata": {},
     "output_type": "execute_result"
    }
   ],
   "source": [
    "# Añade la información de la tarifa\n",
    "\n",
    "print('Uniendo informacion de los usuarios con sus respectivos planes y tarifas')\n",
    "\n",
    "merge_users_plans = users.merge(plans,how='inner', left_on = 'plan', right_on = 'plan_name').drop('plan_name',axis=1)\n",
    "merge_users_plans"
   ]
  },
  {
   "cell_type": "code",
   "execution_count": 41,
   "metadata": {
    "scrolled": true
   },
   "outputs": [
    {
     "data": {
      "text/html": [
       "<div>\n",
       "<style scoped>\n",
       "    .dataframe tbody tr th:only-of-type {\n",
       "        vertical-align: middle;\n",
       "    }\n",
       "\n",
       "    .dataframe tbody tr th {\n",
       "        vertical-align: top;\n",
       "    }\n",
       "\n",
       "    .dataframe thead th {\n",
       "        text-align: right;\n",
       "    }\n",
       "</style>\n",
       "<table border=\"1\" class=\"dataframe\">\n",
       "  <thead>\n",
       "    <tr style=\"text-align: right;\">\n",
       "      <th></th>\n",
       "      <th>user_id</th>\n",
       "      <th>month</th>\n",
       "      <th>number_calls</th>\n",
       "      <th>duration</th>\n",
       "      <th>number_messages</th>\n",
       "      <th>mb_used</th>\n",
       "      <th>gb_used</th>\n",
       "      <th>first_name</th>\n",
       "      <th>last_name</th>\n",
       "      <th>age</th>\n",
       "      <th>...</th>\n",
       "      <th>year_churn</th>\n",
       "      <th>plan</th>\n",
       "      <th>minutes_included</th>\n",
       "      <th>messages_included</th>\n",
       "      <th>mb_per_month_included</th>\n",
       "      <th>gb_per_month_included</th>\n",
       "      <th>usd_monthly_pay</th>\n",
       "      <th>usd_per_minute</th>\n",
       "      <th>usd_per_message</th>\n",
       "      <th>usd_per_gb</th>\n",
       "    </tr>\n",
       "  </thead>\n",
       "  <tbody>\n",
       "    <tr>\n",
       "      <th>0</th>\n",
       "      <td>1000</td>\n",
       "      <td>12</td>\n",
       "      <td>16.0</td>\n",
       "      <td>124.0</td>\n",
       "      <td>11.0</td>\n",
       "      <td>1901.47</td>\n",
       "      <td>2.0</td>\n",
       "      <td>Anamaria</td>\n",
       "      <td>Bauer</td>\n",
       "      <td>45</td>\n",
       "      <td>...</td>\n",
       "      <td>NaN</td>\n",
       "      <td>ultimate</td>\n",
       "      <td>3000</td>\n",
       "      <td>1000</td>\n",
       "      <td>30720</td>\n",
       "      <td>30</td>\n",
       "      <td>70</td>\n",
       "      <td>0.01</td>\n",
       "      <td>0.01</td>\n",
       "      <td>7</td>\n",
       "    </tr>\n",
       "    <tr>\n",
       "      <th>1</th>\n",
       "      <td>1001</td>\n",
       "      <td>8</td>\n",
       "      <td>27.0</td>\n",
       "      <td>182.0</td>\n",
       "      <td>30.0</td>\n",
       "      <td>6919.15</td>\n",
       "      <td>7.0</td>\n",
       "      <td>Mickey</td>\n",
       "      <td>Wilkerson</td>\n",
       "      <td>28</td>\n",
       "      <td>...</td>\n",
       "      <td>NaN</td>\n",
       "      <td>surf</td>\n",
       "      <td>500</td>\n",
       "      <td>50</td>\n",
       "      <td>15360</td>\n",
       "      <td>15</td>\n",
       "      <td>20</td>\n",
       "      <td>0.03</td>\n",
       "      <td>0.03</td>\n",
       "      <td>10</td>\n",
       "    </tr>\n",
       "    <tr>\n",
       "      <th>2</th>\n",
       "      <td>1001</td>\n",
       "      <td>9</td>\n",
       "      <td>49.0</td>\n",
       "      <td>315.0</td>\n",
       "      <td>44.0</td>\n",
       "      <td>13314.82</td>\n",
       "      <td>14.0</td>\n",
       "      <td>Mickey</td>\n",
       "      <td>Wilkerson</td>\n",
       "      <td>28</td>\n",
       "      <td>...</td>\n",
       "      <td>NaN</td>\n",
       "      <td>surf</td>\n",
       "      <td>500</td>\n",
       "      <td>50</td>\n",
       "      <td>15360</td>\n",
       "      <td>15</td>\n",
       "      <td>20</td>\n",
       "      <td>0.03</td>\n",
       "      <td>0.03</td>\n",
       "      <td>10</td>\n",
       "    </tr>\n",
       "    <tr>\n",
       "      <th>3</th>\n",
       "      <td>1001</td>\n",
       "      <td>10</td>\n",
       "      <td>65.0</td>\n",
       "      <td>393.0</td>\n",
       "      <td>53.0</td>\n",
       "      <td>22330.49</td>\n",
       "      <td>22.0</td>\n",
       "      <td>Mickey</td>\n",
       "      <td>Wilkerson</td>\n",
       "      <td>28</td>\n",
       "      <td>...</td>\n",
       "      <td>NaN</td>\n",
       "      <td>surf</td>\n",
       "      <td>500</td>\n",
       "      <td>50</td>\n",
       "      <td>15360</td>\n",
       "      <td>15</td>\n",
       "      <td>20</td>\n",
       "      <td>0.03</td>\n",
       "      <td>0.03</td>\n",
       "      <td>10</td>\n",
       "    </tr>\n",
       "    <tr>\n",
       "      <th>4</th>\n",
       "      <td>1001</td>\n",
       "      <td>11</td>\n",
       "      <td>64.0</td>\n",
       "      <td>426.0</td>\n",
       "      <td>36.0</td>\n",
       "      <td>18504.30</td>\n",
       "      <td>19.0</td>\n",
       "      <td>Mickey</td>\n",
       "      <td>Wilkerson</td>\n",
       "      <td>28</td>\n",
       "      <td>...</td>\n",
       "      <td>NaN</td>\n",
       "      <td>surf</td>\n",
       "      <td>500</td>\n",
       "      <td>50</td>\n",
       "      <td>15360</td>\n",
       "      <td>15</td>\n",
       "      <td>20</td>\n",
       "      <td>0.03</td>\n",
       "      <td>0.03</td>\n",
       "      <td>10</td>\n",
       "    </tr>\n",
       "    <tr>\n",
       "      <th>...</th>\n",
       "      <td>...</td>\n",
       "      <td>...</td>\n",
       "      <td>...</td>\n",
       "      <td>...</td>\n",
       "      <td>...</td>\n",
       "      <td>...</td>\n",
       "      <td>...</td>\n",
       "      <td>...</td>\n",
       "      <td>...</td>\n",
       "      <td>...</td>\n",
       "      <td>...</td>\n",
       "      <td>...</td>\n",
       "      <td>...</td>\n",
       "      <td>...</td>\n",
       "      <td>...</td>\n",
       "      <td>...</td>\n",
       "      <td>...</td>\n",
       "      <td>...</td>\n",
       "      <td>...</td>\n",
       "      <td>...</td>\n",
       "      <td>...</td>\n",
       "    </tr>\n",
       "    <tr>\n",
       "      <th>2288</th>\n",
       "      <td>1204</td>\n",
       "      <td>12</td>\n",
       "      <td>0.0</td>\n",
       "      <td>0.0</td>\n",
       "      <td>78.0</td>\n",
       "      <td>36730.05</td>\n",
       "      <td>36.0</td>\n",
       "      <td>Sherly</td>\n",
       "      <td>Levy</td>\n",
       "      <td>44</td>\n",
       "      <td>...</td>\n",
       "      <td>NaN</td>\n",
       "      <td>ultimate</td>\n",
       "      <td>3000</td>\n",
       "      <td>1000</td>\n",
       "      <td>30720</td>\n",
       "      <td>30</td>\n",
       "      <td>70</td>\n",
       "      <td>0.01</td>\n",
       "      <td>0.01</td>\n",
       "      <td>7</td>\n",
       "    </tr>\n",
       "    <tr>\n",
       "      <th>2289</th>\n",
       "      <td>1349</td>\n",
       "      <td>10</td>\n",
       "      <td>0.0</td>\n",
       "      <td>0.0</td>\n",
       "      <td>76.0</td>\n",
       "      <td>13093.55</td>\n",
       "      <td>13.0</td>\n",
       "      <td>Florentina</td>\n",
       "      <td>Diaz</td>\n",
       "      <td>69</td>\n",
       "      <td>...</td>\n",
       "      <td>NaN</td>\n",
       "      <td>surf</td>\n",
       "      <td>500</td>\n",
       "      <td>50</td>\n",
       "      <td>15360</td>\n",
       "      <td>15</td>\n",
       "      <td>20</td>\n",
       "      <td>0.03</td>\n",
       "      <td>0.03</td>\n",
       "      <td>10</td>\n",
       "    </tr>\n",
       "    <tr>\n",
       "      <th>2290</th>\n",
       "      <td>1349</td>\n",
       "      <td>11</td>\n",
       "      <td>0.0</td>\n",
       "      <td>0.0</td>\n",
       "      <td>72.0</td>\n",
       "      <td>17128.26</td>\n",
       "      <td>17.0</td>\n",
       "      <td>Florentina</td>\n",
       "      <td>Diaz</td>\n",
       "      <td>69</td>\n",
       "      <td>...</td>\n",
       "      <td>NaN</td>\n",
       "      <td>surf</td>\n",
       "      <td>500</td>\n",
       "      <td>50</td>\n",
       "      <td>15360</td>\n",
       "      <td>15</td>\n",
       "      <td>20</td>\n",
       "      <td>0.03</td>\n",
       "      <td>0.03</td>\n",
       "      <td>10</td>\n",
       "    </tr>\n",
       "    <tr>\n",
       "      <th>2291</th>\n",
       "      <td>1349</td>\n",
       "      <td>12</td>\n",
       "      <td>0.0</td>\n",
       "      <td>0.0</td>\n",
       "      <td>61.0</td>\n",
       "      <td>13039.91</td>\n",
       "      <td>13.0</td>\n",
       "      <td>Florentina</td>\n",
       "      <td>Diaz</td>\n",
       "      <td>69</td>\n",
       "      <td>...</td>\n",
       "      <td>NaN</td>\n",
       "      <td>surf</td>\n",
       "      <td>500</td>\n",
       "      <td>50</td>\n",
       "      <td>15360</td>\n",
       "      <td>15</td>\n",
       "      <td>20</td>\n",
       "      <td>0.03</td>\n",
       "      <td>0.03</td>\n",
       "      <td>10</td>\n",
       "    </tr>\n",
       "    <tr>\n",
       "      <th>2292</th>\n",
       "      <td>1108</td>\n",
       "      <td>12</td>\n",
       "      <td>0.0</td>\n",
       "      <td>0.0</td>\n",
       "      <td>0.0</td>\n",
       "      <td>233.17</td>\n",
       "      <td>1.0</td>\n",
       "      <td>Porfirio</td>\n",
       "      <td>Kane</td>\n",
       "      <td>45</td>\n",
       "      <td>...</td>\n",
       "      <td>NaN</td>\n",
       "      <td>ultimate</td>\n",
       "      <td>3000</td>\n",
       "      <td>1000</td>\n",
       "      <td>30720</td>\n",
       "      <td>30</td>\n",
       "      <td>70</td>\n",
       "      <td>0.01</td>\n",
       "      <td>0.01</td>\n",
       "      <td>7</td>\n",
       "    </tr>\n",
       "  </tbody>\n",
       "</table>\n",
       "<p>2293 rows × 30 columns</p>\n",
       "</div>"
      ],
      "text/plain": [
       "      user_id  month  number_calls  duration  number_messages   mb_used  \\\n",
       "0        1000     12          16.0     124.0             11.0   1901.47   \n",
       "1        1001      8          27.0     182.0             30.0   6919.15   \n",
       "2        1001      9          49.0     315.0             44.0  13314.82   \n",
       "3        1001     10          65.0     393.0             53.0  22330.49   \n",
       "4        1001     11          64.0     426.0             36.0  18504.30   \n",
       "...       ...    ...           ...       ...              ...       ...   \n",
       "2288     1204     12           0.0       0.0             78.0  36730.05   \n",
       "2289     1349     10           0.0       0.0             76.0  13093.55   \n",
       "2290     1349     11           0.0       0.0             72.0  17128.26   \n",
       "2291     1349     12           0.0       0.0             61.0  13039.91   \n",
       "2292     1108     12           0.0       0.0              0.0    233.17   \n",
       "\n",
       "      gb_used  first_name  last_name  age  ... year_churn      plan  \\\n",
       "0         2.0    Anamaria      Bauer   45  ...        NaN  ultimate   \n",
       "1         7.0      Mickey  Wilkerson   28  ...        NaN      surf   \n",
       "2        14.0      Mickey  Wilkerson   28  ...        NaN      surf   \n",
       "3        22.0      Mickey  Wilkerson   28  ...        NaN      surf   \n",
       "4        19.0      Mickey  Wilkerson   28  ...        NaN      surf   \n",
       "...       ...         ...        ...  ...  ...        ...       ...   \n",
       "2288     36.0      Sherly       Levy   44  ...        NaN  ultimate   \n",
       "2289     13.0  Florentina       Diaz   69  ...        NaN      surf   \n",
       "2290     17.0  Florentina       Diaz   69  ...        NaN      surf   \n",
       "2291     13.0  Florentina       Diaz   69  ...        NaN      surf   \n",
       "2292      1.0    Porfirio       Kane   45  ...        NaN  ultimate   \n",
       "\n",
       "     minutes_included messages_included  mb_per_month_included  \\\n",
       "0                3000              1000                  30720   \n",
       "1                 500                50                  15360   \n",
       "2                 500                50                  15360   \n",
       "3                 500                50                  15360   \n",
       "4                 500                50                  15360   \n",
       "...               ...               ...                    ...   \n",
       "2288             3000              1000                  30720   \n",
       "2289              500                50                  15360   \n",
       "2290              500                50                  15360   \n",
       "2291              500                50                  15360   \n",
       "2292             3000              1000                  30720   \n",
       "\n",
       "      gb_per_month_included  usd_monthly_pay usd_per_minute  usd_per_message  \\\n",
       "0                        30               70           0.01             0.01   \n",
       "1                        15               20           0.03             0.03   \n",
       "2                        15               20           0.03             0.03   \n",
       "3                        15               20           0.03             0.03   \n",
       "4                        15               20           0.03             0.03   \n",
       "...                     ...              ...            ...              ...   \n",
       "2288                     30               70           0.01             0.01   \n",
       "2289                     15               20           0.03             0.03   \n",
       "2290                     15               20           0.03             0.03   \n",
       "2291                     15               20           0.03             0.03   \n",
       "2292                     30               70           0.01             0.01   \n",
       "\n",
       "      usd_per_gb  \n",
       "0              7  \n",
       "1             10  \n",
       "2             10  \n",
       "3             10  \n",
       "4             10  \n",
       "...          ...  \n",
       "2288           7  \n",
       "2289          10  \n",
       "2290          10  \n",
       "2291          10  \n",
       "2292           7  \n",
       "\n",
       "[2293 rows x 30 columns]"
      ]
     },
     "execution_count": 41,
     "metadata": {},
     "output_type": "execute_result"
    }
   ],
   "source": [
    "# Añadiendo la informacion de los usuarios y sus planes al df de los servicios\n",
    "\n",
    "megaline_2018 = pd.merge(megaline_2018,merge_users_plans,how='inner',on='user_id')\n",
    "megaline_2018"
   ]
  },
  {
   "cell_type": "markdown",
   "metadata": {},
   "source": [
    "<div class=\"alert alert-block alert-success\">\n",
    "<b>Comentario del revisor (1ra Iteracion)</b> <a class=“tocSkip”></a>\n",
    "\n",
    "Buen trabajo con la agregación de los datos!\n",
    "</div>"
   ]
  },
  {
   "cell_type": "markdown",
   "metadata": {
    "id": "1IwGo4wg0q1I"
   },
   "source": [
    "[Calcula los ingresos mensuales por usuario (resta el límite del paquete gratuito del número total de llamadas, mensajes de texto y datos; multiplica el resultado por el valor del plan de llamadas; añade la tarifa mensual en función del plan de llamadas). Nota: Dadas las condiciones del plan, ¡esto podría no ser tan trivial como un par de líneas! Así que no pasa nada si dedicas algo de tiempo a ello.]"
   ]
  },
  {
   "cell_type": "code",
   "execution_count": 42,
   "metadata": {
    "id": "5FGCf_c60q1I"
   },
   "outputs": [],
   "source": [
    "# Calcula el ingreso mensual para cada usuario\n",
    "\n",
    "def monthly_income(row):\n",
    "\n",
    "  duration = row['duration']\n",
    "  number_messages = row['number_messages']\n",
    "  gb_used = row['gb_used']\n",
    "  minutes_included = row['minutes_included']\n",
    "  messages_included = row['messages_included']\n",
    "  gb_per_month_included = row['gb_per_month_included']\n",
    "  usd_monthly_pay = row['usd_monthly_pay']\n",
    "  usd_per_minute = row['usd_per_minute']\n",
    "  usd_per_message = row['usd_per_message']\n",
    "  usd_per_gb = row['usd_per_gb']\n",
    "  \n",
    "\n",
    "  if duration <= minutes_included:\n",
    "    if number_messages <= messages_included:\n",
    "      if gb_used <= gb_per_month_included:\n",
    "        return usd_monthly_pay\n",
    "      else:\n",
    "        excess_gb = gb_used - gb_per_month_included\n",
    "        pay_excess_gb = excess_gb * usd_per_gb\n",
    "        total_pay_excess_gb = pay_excess_gb + usd_monthly_pay\n",
    "        return total_pay_excess_gb\n",
    "    else: \n",
    "      excess_messages = number_messages - messages_included \n",
    "      pay_excess_messages = excess_messages * usd_per_message\n",
    "      if gb_used <= gb_per_month_included:\n",
    "        total_pay_excess_messages = pay_excess_messages + usd_monthly_pay\n",
    "        return total_pay_excess_messages\n",
    "      else:\n",
    "        excess_gb = gb_used - gb_per_month_included\n",
    "        pay_excess_gb = excess_gb * usd_per_gb\n",
    "        total_pay_excess_gb_messages = pay_excess_messages + pay_excess_gb + usd_monthly_pay\n",
    "        return total_pay_excess_gb_messages\n",
    "  else:\n",
    "    excees_minutes = duration - minutes_included\n",
    "    pay_excess_minutes = excees_minutes * usd_per_minute\n",
    "    if number_messages <= messages_included:\n",
    "      if gb_used <= gb_per_month_included:\n",
    "        total_pay_excess_minutes = pay_excess_minutes + usd_monthly_pay \n",
    "        return total_pay_excess_minutes\n",
    "      else:\n",
    "        excess_gb = gb_used - gb_per_month_included\n",
    "        pay_excess_gb = excess_gb * usd_per_gb\n",
    "        total_pay_excess_gb_minutes = pay_excess_gb + pay_excess_minutes + usd_monthly_pay\n",
    "        return total_pay_excess_gb_minutes\n",
    "    else: \n",
    "      excess_messages = number_messages - messages_included\n",
    "      pay_excess_messages = excess_messages * usd_per_message\n",
    "      if gb_used <= gb_per_month_included:\n",
    "        total_pay_excess_messages_minutes = pay_excess_messages + pay_excess_minutes + usd_monthly_pay\n",
    "        return total_pay_excess_messages_minutes\n",
    "      else:\n",
    "        excess_gb = gb_used - gb_per_month_included\n",
    "        pay_excess_gb = excess_gb * usd_per_gb\n",
    "        total_pay_excess_gb_messages_minutes = pay_excess_messages + pay_excess_gb + pay_excess_minutes + usd_monthly_pay\n",
    "        return total_pay_excess_gb_messages_minutes"
   ]
  },
  {
   "cell_type": "code",
   "execution_count": 43,
   "metadata": {},
   "outputs": [
    {
     "data": {
      "text/html": [
       "<div>\n",
       "<style scoped>\n",
       "    .dataframe tbody tr th:only-of-type {\n",
       "        vertical-align: middle;\n",
       "    }\n",
       "\n",
       "    .dataframe tbody tr th {\n",
       "        vertical-align: top;\n",
       "    }\n",
       "\n",
       "    .dataframe thead th {\n",
       "        text-align: right;\n",
       "    }\n",
       "</style>\n",
       "<table border=\"1\" class=\"dataframe\">\n",
       "  <thead>\n",
       "    <tr style=\"text-align: right;\">\n",
       "      <th></th>\n",
       "      <th>user_id</th>\n",
       "      <th>month</th>\n",
       "      <th>first_name</th>\n",
       "      <th>last_name</th>\n",
       "      <th>plan</th>\n",
       "      <th>duration</th>\n",
       "      <th>number_messages</th>\n",
       "      <th>gb_used</th>\n",
       "      <th>monthly_income</th>\n",
       "    </tr>\n",
       "  </thead>\n",
       "  <tbody>\n",
       "    <tr>\n",
       "      <th>0</th>\n",
       "      <td>1000</td>\n",
       "      <td>12</td>\n",
       "      <td>Anamaria</td>\n",
       "      <td>Bauer</td>\n",
       "      <td>ultimate</td>\n",
       "      <td>124.0</td>\n",
       "      <td>11.0</td>\n",
       "      <td>2.0</td>\n",
       "      <td>70.00</td>\n",
       "    </tr>\n",
       "    <tr>\n",
       "      <th>1</th>\n",
       "      <td>1001</td>\n",
       "      <td>8</td>\n",
       "      <td>Mickey</td>\n",
       "      <td>Wilkerson</td>\n",
       "      <td>surf</td>\n",
       "      <td>182.0</td>\n",
       "      <td>30.0</td>\n",
       "      <td>7.0</td>\n",
       "      <td>20.00</td>\n",
       "    </tr>\n",
       "    <tr>\n",
       "      <th>2</th>\n",
       "      <td>1001</td>\n",
       "      <td>9</td>\n",
       "      <td>Mickey</td>\n",
       "      <td>Wilkerson</td>\n",
       "      <td>surf</td>\n",
       "      <td>315.0</td>\n",
       "      <td>44.0</td>\n",
       "      <td>14.0</td>\n",
       "      <td>20.00</td>\n",
       "    </tr>\n",
       "    <tr>\n",
       "      <th>3</th>\n",
       "      <td>1001</td>\n",
       "      <td>10</td>\n",
       "      <td>Mickey</td>\n",
       "      <td>Wilkerson</td>\n",
       "      <td>surf</td>\n",
       "      <td>393.0</td>\n",
       "      <td>53.0</td>\n",
       "      <td>22.0</td>\n",
       "      <td>90.09</td>\n",
       "    </tr>\n",
       "    <tr>\n",
       "      <th>4</th>\n",
       "      <td>1001</td>\n",
       "      <td>11</td>\n",
       "      <td>Mickey</td>\n",
       "      <td>Wilkerson</td>\n",
       "      <td>surf</td>\n",
       "      <td>426.0</td>\n",
       "      <td>36.0</td>\n",
       "      <td>19.0</td>\n",
       "      <td>60.00</td>\n",
       "    </tr>\n",
       "    <tr>\n",
       "      <th>...</th>\n",
       "      <td>...</td>\n",
       "      <td>...</td>\n",
       "      <td>...</td>\n",
       "      <td>...</td>\n",
       "      <td>...</td>\n",
       "      <td>...</td>\n",
       "      <td>...</td>\n",
       "      <td>...</td>\n",
       "      <td>...</td>\n",
       "    </tr>\n",
       "    <tr>\n",
       "      <th>2288</th>\n",
       "      <td>1204</td>\n",
       "      <td>12</td>\n",
       "      <td>Sherly</td>\n",
       "      <td>Levy</td>\n",
       "      <td>ultimate</td>\n",
       "      <td>0.0</td>\n",
       "      <td>78.0</td>\n",
       "      <td>36.0</td>\n",
       "      <td>112.00</td>\n",
       "    </tr>\n",
       "    <tr>\n",
       "      <th>2289</th>\n",
       "      <td>1349</td>\n",
       "      <td>10</td>\n",
       "      <td>Florentina</td>\n",
       "      <td>Diaz</td>\n",
       "      <td>surf</td>\n",
       "      <td>0.0</td>\n",
       "      <td>76.0</td>\n",
       "      <td>13.0</td>\n",
       "      <td>20.78</td>\n",
       "    </tr>\n",
       "    <tr>\n",
       "      <th>2290</th>\n",
       "      <td>1349</td>\n",
       "      <td>11</td>\n",
       "      <td>Florentina</td>\n",
       "      <td>Diaz</td>\n",
       "      <td>surf</td>\n",
       "      <td>0.0</td>\n",
       "      <td>72.0</td>\n",
       "      <td>17.0</td>\n",
       "      <td>40.66</td>\n",
       "    </tr>\n",
       "    <tr>\n",
       "      <th>2291</th>\n",
       "      <td>1349</td>\n",
       "      <td>12</td>\n",
       "      <td>Florentina</td>\n",
       "      <td>Diaz</td>\n",
       "      <td>surf</td>\n",
       "      <td>0.0</td>\n",
       "      <td>61.0</td>\n",
       "      <td>13.0</td>\n",
       "      <td>20.33</td>\n",
       "    </tr>\n",
       "    <tr>\n",
       "      <th>2292</th>\n",
       "      <td>1108</td>\n",
       "      <td>12</td>\n",
       "      <td>Porfirio</td>\n",
       "      <td>Kane</td>\n",
       "      <td>ultimate</td>\n",
       "      <td>0.0</td>\n",
       "      <td>0.0</td>\n",
       "      <td>1.0</td>\n",
       "      <td>70.00</td>\n",
       "    </tr>\n",
       "  </tbody>\n",
       "</table>\n",
       "<p>2293 rows × 9 columns</p>\n",
       "</div>"
      ],
      "text/plain": [
       "      user_id  month  first_name  last_name      plan  duration  \\\n",
       "0        1000     12    Anamaria      Bauer  ultimate     124.0   \n",
       "1        1001      8      Mickey  Wilkerson      surf     182.0   \n",
       "2        1001      9      Mickey  Wilkerson      surf     315.0   \n",
       "3        1001     10      Mickey  Wilkerson      surf     393.0   \n",
       "4        1001     11      Mickey  Wilkerson      surf     426.0   \n",
       "...       ...    ...         ...        ...       ...       ...   \n",
       "2288     1204     12      Sherly       Levy  ultimate       0.0   \n",
       "2289     1349     10  Florentina       Diaz      surf       0.0   \n",
       "2290     1349     11  Florentina       Diaz      surf       0.0   \n",
       "2291     1349     12  Florentina       Diaz      surf       0.0   \n",
       "2292     1108     12    Porfirio       Kane  ultimate       0.0   \n",
       "\n",
       "      number_messages  gb_used  monthly_income  \n",
       "0                11.0      2.0           70.00  \n",
       "1                30.0      7.0           20.00  \n",
       "2                44.0     14.0           20.00  \n",
       "3                53.0     22.0           90.09  \n",
       "4                36.0     19.0           60.00  \n",
       "...               ...      ...             ...  \n",
       "2288             78.0     36.0          112.00  \n",
       "2289             76.0     13.0           20.78  \n",
       "2290             72.0     17.0           40.66  \n",
       "2291             61.0     13.0           20.33  \n",
       "2292              0.0      1.0           70.00  \n",
       "\n",
       "[2293 rows x 9 columns]"
      ]
     },
     "execution_count": 43,
     "metadata": {},
     "output_type": "execute_result"
    }
   ],
   "source": [
    "megaline_2018['monthly_income'] = megaline_2018.apply(monthly_income, axis = 1)\n",
    "megaline_2018[['user_id','month','first_name','last_name','plan','duration','number_messages','gb_used','monthly_income']]"
   ]
  },
  {
   "cell_type": "markdown",
   "metadata": {
    "id": "-jtyHzJb0q1I"
   },
   "source": [
    "## Estudia el comportamiento de usuario"
   ]
  },
  {
   "cell_type": "markdown",
   "metadata": {
    "id": "AxU3Y0N70q1J"
   },
   "source": [
    "[Calcula algunas estadísticas descriptivas para los datos agregados y fusionados que nos sean útiles y que muestren un panorama general captado por los datos. Dibuja gráficos útiles para facilitar la comprensión. Dado que la tarea principal es comparar las tarifas y decidir cuál es más rentable, las estadísticas y gráficas deben calcularse por tarifa.]\n",
    "\n",
    "[En los comentarios hallarás pistas relevantes para las llamadas, pero no las hay para los mensajes e Internet. Sin embargo, el principio del estudio estadístico que se aplica para ellos es el mismo que para las llamadas.]"
   ]
  },
  {
   "cell_type": "markdown",
   "metadata": {
    "id": "vtW4CJEe0q1J"
   },
   "source": [
    "### Llamadas"
   ]
  },
  {
   "cell_type": "code",
   "execution_count": 44,
   "metadata": {
    "id": "Jf5v5--k0q1J"
   },
   "outputs": [
    {
     "data": {
      "image/png": "[encoded data removed]",
      "text/plain": [
       "<Figure size 500x550 with 1 Axes>"
      ]
     },
     "metadata": {},
     "output_type": "display_data"
    }
   ],
   "source": [
    "# Compara la duración promedio de llamadas por cada plan y por cada mes. Traza un gráfico de barras para visualizarla.\n",
    "\n",
    "mega_call_bar = megaline_2018.groupby(['plan','month'])['duration'].mean().reset_index()\n",
    "plt.figure(figsize=[5,5.5])\n",
    "sns.barplot(data = mega_call_bar,x = 'month',y = 'duration',hue = 'plan',palette = 'husl')\n",
    "plt.title('Minutos promedio de llamadas por cada plan por mes')\n",
    "plt.xlabel('Mes')\n",
    "plt.ylabel('Minutos')\n",
    "plt.legend(loc='upper left',title='Tipo de Plan')\n",
    "plt.show()\n"
   ]
  },
  {
   "cell_type": "code",
   "execution_count": 45,
   "metadata": {
    "id": "QoLqW1S_0q1J"
   },
   "outputs": [
    {
     "data": {
      "image/png": "[encoded data removed]",
      "text/plain": [
       "<Figure size 500x500 with 1 Axes>"
      ]
     },
     "metadata": {},
     "output_type": "display_data"
    }
   ],
   "source": [
    "# Compara el número de minutos mensuales que necesitan los usuarios de cada plan. Traza un histograma.\n",
    "\n",
    "mega_call_hist = megaline_2018[['plan','month','duration']]\n",
    "sns.displot(data = mega_call_hist,x = 'duration',kind = 'hist',hue = 'plan',palette = 'husl',legend = False)\n",
    "plt.title('Histograma de minutos mensuales que necesitan los usuarios de cada plan')\n",
    "plt.xlabel('Minutos')\n",
    "plt.ylabel('Frecuencia')\n",
    "plt.legend(title ='Tipo de Plan',loc='upper right',labels=['Ultimate','Surf'])\n",
    "plt.show()"
   ]
  },
  {
   "cell_type": "markdown",
   "metadata": {
    "id": "bLS9T8OH0q1K"
   },
   "source": [
    "[Calcula la media y la variable de la duración de las llamadas para averiguar si los usuarios de los distintos planes se comportan de forma diferente al realizar sus llamadas.]"
   ]
  },
  {
   "cell_type": "code",
   "execution_count": 46,
   "metadata": {
    "id": "oSndbAnt0q1K"
   },
   "outputs": [
    {
     "name": "stdout",
     "output_type": "stream",
     "text": [
      "Media de la duracion mensual de las llamadas de los clientes\n",
      "\n",
      "429.2834714348016\n",
      "\n",
      "Varianza de la duración mensual de las llamadas de los clientes\n",
      "\n",
      "55822.82326365782\n"
     ]
    }
   ],
   "source": [
    "# Calcula la media y la varianza de la duración mensual de llamadas.\n",
    "print('Media de la duracion mensual de las llamadas de los clientes')\n",
    "print()\n",
    "print(megaline_2018['duration'].mean())\n",
    "print()\n",
    "print('Varianza de la duración mensual de las llamadas de los clientes')\n",
    "print()\n",
    "print(np.var(megaline_2018['duration']))"
   ]
  },
  {
   "cell_type": "code",
   "execution_count": 47,
   "metadata": {
    "id": "nZzoRUKc0q1K"
   },
   "outputs": [
    {
     "data": {
      "text/plain": [
       "Text(0.5, 0, 'Plan')"
      ]
     },
     "execution_count": 47,
     "metadata": {},
     "output_type": "execute_result"
    },
    {
     "data": {
      "image/png": "[encoded data removed]",
      "text/plain": [
       "<Figure size 640x480 with 1 Axes>"
      ]
     },
     "metadata": {},
     "output_type": "display_data"
    }
   ],
   "source": [
    "# Traza un diagrama de caja para visualizar la distribución de la duración mensual de llamadas\n",
    "\n",
    "sns.boxplot(data=megaline_2018,x='plan',y='duration', color = 'lightblue')\n",
    "plt.title('Diagrama de caja de la distribucion de la duracion de las llamadas por plan')\n",
    "plt.ylabel('Minutos')\n",
    "plt.xlabel('Plan')"
   ]
  },
  {
   "cell_type": "markdown",
   "metadata": {},
   "source": [
    "<div class=\"alert alert-block alert-warning\">\n",
    "<b>Comentario del revisor (1ra Iteracion)</b> <a class=“tocSkip”></a>\n",
    "\n",
    "Lo hiciste muy bien con las visualizaciones, te recomiendo en esta última gráfica de cajas también revisarlo por mes y para cada plan\n",
    "</div>"
   ]
  },
  {
   "cell_type": "markdown",
   "metadata": {},
   "source": [
    "<div class=\"alert alert-block alert-info\">\n",
    "<b>Respuesta del estudiante</b>\n",
    "\n",
    "Se agrega lo solicitado\n",
    "    <a class=“tocSkip”></a>\n",
    "</div>"
   ]
  },
  {
   "cell_type": "code",
   "execution_count": 48,
   "metadata": {},
   "outputs": [
    {
     "data": {
      "text/plain": [
       "Text(0.5, 0, 'Mes')"
      ]
     },
     "execution_count": 48,
     "metadata": {},
     "output_type": "execute_result"
    },
    {
     "data": {
      "image/png": "[encoded data removed]",
      "text/plain": [
       "<Figure size 1200x1000 with 1 Axes>"
      ]
     },
     "metadata": {},
     "output_type": "display_data"
    }
   ],
   "source": [
    "plt.figure(figsize=([12,10]))\n",
    "sns.boxplot(data=megaline_2018,x='month',y='duration', color = 'lightblue',hue='plan')\n",
    "plt.title('Diagrama de caja de la distribucion de la duracion mensual de las llamadas por plan')\n",
    "plt.ylabel('Minutos')\n",
    "plt.xlabel('Mes')"
   ]
  },
  {
   "cell_type": "markdown",
   "metadata": {
    "id": "r627zBO50q1K"
   },
   "source": [
    "[Elabora las conclusiones sobre el comportamiento de los usuarios con respecto a las llamadas. ¿Su comportamiento varía en función del plan?]"
   ]
  },
  {
   "cell_type": "markdown",
   "metadata": {},
   "source": [
    "**Segun los datos presentados, los clientes tienen una media de duracion de llamada de 500 minutos mensuales aproximadamente en ambos planes, ademas existen varios clientes que no usan los minutos que tiene su plan, por ultimo existen clientes del plan surf, que se exceden ampliamente en su consumo, por lo que deberian ser contactados y ofrecer plan ultimate**"
   ]
  },
  {
   "cell_type": "markdown",
   "metadata": {
    "id": "8idKy8Wh0q1L"
   },
   "source": [
    "### Mensajes"
   ]
  },
  {
   "cell_type": "code",
   "execution_count": 49,
   "metadata": {
    "id": "NXLxiTit0q1L"
   },
   "outputs": [
    {
     "data": {
      "image/png": "[encoded data removed]",
      "text/plain": [
       "<Figure size 500x550 with 1 Axes>"
      ]
     },
     "metadata": {},
     "output_type": "display_data"
    }
   ],
   "source": [
    "# Comprara el número de mensajes que tienden a enviar cada mes los usuarios de cada plan\n",
    "mega_sms_bar = megaline_2018.groupby(['plan','month'])['number_messages'].count().reset_index()\n",
    "plt.figure(figsize=[5,5.5])\n",
    "sns.barplot(data = mega_sms_bar,x = 'month',y = 'number_messages',hue = 'plan',palette = 'husl')\n",
    "plt.title('Cantidad de mensajes mensuales de los usuarios por cada plan por mes')\n",
    "plt.xlabel('Mes')\n",
    "plt.ylabel('Mensajes')\n",
    "plt.legend(loc='upper left',title='Tipo de Plan')\n",
    "plt.show()"
   ]
  },
  {
   "cell_type": "code",
   "execution_count": 50,
   "metadata": {},
   "outputs": [
    {
     "data": {
      "image/png": "[encoded data removed]",
      "text/plain": [
       "<Figure size 500x500 with 1 Axes>"
      ]
     },
     "metadata": {},
     "output_type": "display_data"
    }
   ],
   "source": [
    "mega_sms_hist = megaline_2018[['plan','month','number_messages']]\n",
    "sns.displot(data = mega_sms_hist,x = 'number_messages',kind = 'hist',hue = 'plan',palette = 'husl',legend = False)\n",
    "plt.title('Histograma de mensajes mensuales que envian los usuarios de cada plan')\n",
    "plt.xlabel('Mensajes')\n",
    "plt.ylabel('Frecuencia')\n",
    "plt.legend(title ='Tipo de Plan',loc='upper right',labels=['Ultimate','Surf'])\n",
    "plt.show()"
   ]
  },
  {
   "cell_type": "code",
   "execution_count": 51,
   "metadata": {},
   "outputs": [
    {
     "name": "stdout",
     "output_type": "stream",
     "text": [
      "Media de la cantidad mensual de mensajes de los clientes\n",
      "\n",
      "33.166593981683384\n",
      "\n",
      "Varianza de la cantidad mensual de mensajes de los clientes\n",
      "\n",
      "1160.2644400780625\n"
     ]
    }
   ],
   "source": [
    "print('Media de la cantidad mensual de mensajes de los clientes')\n",
    "print()\n",
    "print(megaline_2018['number_messages'].mean())\n",
    "print()\n",
    "print('Varianza de la cantidad mensual de mensajes de los clientes')\n",
    "print()\n",
    "print(np.var(megaline_2018['number_messages']))"
   ]
  },
  {
   "cell_type": "code",
   "execution_count": 52,
   "metadata": {},
   "outputs": [
    {
     "data": {
      "text/plain": [
       "Text(0.5, 0, 'Plan')"
      ]
     },
     "execution_count": 52,
     "metadata": {},
     "output_type": "execute_result"
    },
    {
     "data": {
      "image/png": "[encoded data removed]",
      "text/plain": [
       "<Figure size 640x480 with 1 Axes>"
      ]
     },
     "metadata": {},
     "output_type": "display_data"
    }
   ],
   "source": [
    "# Traza un diagrama de caja para visualizar la distribución de la duración mensual de llamadas\n",
    "\n",
    "sns.boxplot(data=megaline_2018,x='plan',y='number_messages' ,color = 'lightblue')\n",
    "plt.title('Diagrama de caja de la distribucion de la cantidad mensual de mensajes')\n",
    "plt.ylabel('Mensajes')\n",
    "plt.xlabel('Plan')"
   ]
  },
  {
   "cell_type": "markdown",
   "metadata": {},
   "source": [
    "<div class=\"alert alert-block alert-info\">\n",
    "<b>Respuesta del estudiante</b>\n",
    "\n",
    "Se agrega por estudio estadistico\n",
    "    <a class=“tocSkip”></a>\n",
    "</div>"
   ]
  },
  {
   "cell_type": "code",
   "execution_count": 53,
   "metadata": {},
   "outputs": [
    {
     "data": {
      "text/plain": [
       "Text(0.5, 0, 'Mes')"
      ]
     },
     "execution_count": 53,
     "metadata": {},
     "output_type": "execute_result"
    },
    {
     "data": {
      "image/png": "[encoded data removed]",
      "text/plain": [
       "<Figure size 1200x1000 with 1 Axes>"
      ]
     },
     "metadata": {},
     "output_type": "display_data"
    }
   ],
   "source": [
    "plt.figure(figsize=([12,10]))\n",
    "sns.boxplot(data=megaline_2018,x='month',y='number_messages' ,color = 'lightblue',hue='plan')\n",
    "plt.title('Diagrama de caja de la distribucion de la cantidad mensual de mensajes por plan')\n",
    "plt.ylabel('Mensajes')\n",
    "plt.xlabel('Mes')"
   ]
  },
  {
   "cell_type": "markdown",
   "metadata": {
    "id": "390SSL480q1M"
   },
   "source": [
    "[Elabora las conclusiones sobre el comportamiento de los usuarios con respecto a los mensajes. ¿Su comportamiento varía en función del plan?]"
   ]
  },
  {
   "cell_type": "markdown",
   "metadata": {},
   "source": [
    "**Segun los datos sobre mensajes, los clientes tienen una media de mensajes enviados de 35 mensuales aproximadamente en ambos planes, ademas existen varios clientes que no usan los mensajes que tiene su plan, por ultimo existen clientes del plan surf, que se exceden ampliamente en su consumo, por lo que deberian ser contactados y ofrecer plan ultimate**"
   ]
  },
  {
   "cell_type": "markdown",
   "metadata": {},
   "source": [
    "<div class=\"alert alert-block alert-success\">\n",
    "<b>Comentario del revisor (1ra Iteracion)</b> <a class=“tocSkip”></a>\n",
    "\n",
    "Excelente! Muy buen manejo de matplotlib para realizar las visualizaciones\n",
    "</div>"
   ]
  },
  {
   "cell_type": "markdown",
   "metadata": {
    "id": "42YSypXz0q1M"
   },
   "source": [
    "### Internet"
   ]
  },
  {
   "cell_type": "code",
   "execution_count": 54,
   "metadata": {
    "id": "lSuKPtjh0q1M"
   },
   "outputs": [
    {
     "data": {
      "image/png": "[encoded data removed]",
      "text/plain": [
       "<Figure size 500x550 with 1 Axes>"
      ]
     },
     "metadata": {},
     "output_type": "display_data"
    }
   ],
   "source": [
    "# Compara la cantidad de tráfico de Internet consumido por usuarios por plan\n",
    "mega_gb_bar = megaline_2018.groupby(['plan','month'])['gb_used'].sum().reset_index()\n",
    "plt.figure(figsize=[5,5.5])\n",
    "sns.barplot(data = mega_gb_bar,x = 'month',y = 'gb_used',hue = 'plan',palette = 'husl')\n",
    "plt.title('Trafico de datos promedio por cada plan por mes')\n",
    "plt.xlabel('Mes')\n",
    "plt.ylabel(\"Trafico de Internet\")\n",
    "plt.legend(loc='upper left',title='Tipo de Plan')\n",
    "plt.show()"
   ]
  },
  {
   "cell_type": "code",
   "execution_count": 55,
   "metadata": {
    "id": "wnh8jYXi0q1N"
   },
   "outputs": [
    {
     "data": {
      "image/png": "[encoded data removed]",
      "text/plain": [
       "<Figure size 500x500 with 1 Axes>"
      ]
     },
     "metadata": {},
     "output_type": "display_data"
    }
   ],
   "source": [
    "mega_gb_hist = megaline_2018[['plan','month','gb_used']]\n",
    "sns.displot(data = mega_gb_hist,x = 'gb_used',kind = 'hist',hue = 'plan',palette = 'husl',legend = False)\n",
    "plt.title(\"Histograma de GB's mensuales que necesitan los usuarios de cada plan\")\n",
    "plt.xlabel('Trafico de datos')\n",
    "plt.ylabel('Frecuencia')\n",
    "plt.legend(title ='Tipo de Plan',loc='upper right',labels=['Ultimate','Surf'])\n",
    "plt.show()"
   ]
  },
  {
   "cell_type": "code",
   "execution_count": 56,
   "metadata": {},
   "outputs": [
    {
     "name": "stdout",
     "output_type": "stream",
     "text": [
      "Media del trafico de datos mesuales de los clientes\n",
      "\n",
      "16.870475359790667\n",
      "\n",
      "Varianza del trafico de datos de los clientes\n",
      "\n",
      "60.75382956033922\n"
     ]
    }
   ],
   "source": [
    "print('Media del trafico de datos mesuales de los clientes')\n",
    "print()\n",
    "print(megaline_2018['gb_used'].mean())\n",
    "print()\n",
    "print('Varianza del trafico de datos de los clientes')\n",
    "print()\n",
    "print(np.var(megaline_2018['gb_used']))"
   ]
  },
  {
   "cell_type": "code",
   "execution_count": 57,
   "metadata": {},
   "outputs": [
    {
     "data": {
      "text/plain": [
       "Text(0, 0.5, 'Trafico de datos')"
      ]
     },
     "execution_count": 57,
     "metadata": {},
     "output_type": "execute_result"
    },
    {
     "data": {
      "image/png": "[encoded data removed]",
      "text/plain": [
       "<Figure size 640x480 with 1 Axes>"
      ]
     },
     "metadata": {},
     "output_type": "display_data"
    }
   ],
   "source": [
    "sns.boxplot(data=megaline_2018,x='plan',y='gb_used', color = 'lightblue')\n",
    "plt.title('Diagrama de caja de la distribucion del trafico de datos por plan')\n",
    "plt.xlabel('Plan')\n",
    "plt.ylabel('Trafico de datos')"
   ]
  },
  {
   "cell_type": "markdown",
   "metadata": {},
   "source": [
    "<div class=\"alert alert-block alert-info\">\n",
    "<b>Respuesta del estudiante</b>\n",
    "\n",
    "Se agrega por estudio estadistico\n",
    "    <a class=“tocSkip”></a>\n",
    "</div>"
   ]
  },
  {
   "cell_type": "code",
   "execution_count": 58,
   "metadata": {},
   "outputs": [
    {
     "data": {
      "text/plain": [
       "Text(0, 0.5, 'Trafico de datos')"
      ]
     },
     "execution_count": 58,
     "metadata": {},
     "output_type": "execute_result"
    },
    {
     "data": {
      "image/png": "[encoded data removed]",
      "text/plain": [
       "<Figure size 1200x1000 with 1 Axes>"
      ]
     },
     "metadata": {},
     "output_type": "display_data"
    }
   ],
   "source": [
    "plt.figure(figsize=([12,10]))\n",
    "sns.boxplot(data=megaline_2018,x='month',y='gb_used', color = 'lightblue',hue='plan')\n",
    "plt.title('Diagrama de caja de la distribucion del trafico de datos mensual por plan')\n",
    "plt.xlabel('Mes')\n",
    "plt.ylabel('Trafico de datos')"
   ]
  },
  {
   "cell_type": "markdown",
   "metadata": {
    "id": "UN9zwuMP0q1N"
   },
   "source": [
    "[Elabora las conclusiones sobre cómo los usuarios tienden a consumir el tráfico de Internet. ¿Su comportamiento varía en función del plan?]"
   ]
  },
  {
   "cell_type": "markdown",
   "metadata": {},
   "source": [
    "**El trafico de datos de clientes tiene una media mensual de 20 Gb's aproximadamente en ambos planes, por ultimo existen clientes del plan surf, que se exceden ampliamente en su consumo, por lo que deberian ser contactados y ofrecer plan ultimate**"
   ]
  },
  {
   "cell_type": "markdown",
   "metadata": {
    "id": "tCijq3260q1N"
   },
   "source": [
    "## Ingreso"
   ]
  },
  {
   "cell_type": "markdown",
   "metadata": {
    "id": "9nq5IAcy0q1O"
   },
   "source": [
    "[Del mismo modo que has estudiado el comportamiento de los usuarios, describe estadísticamente los ingresos de los planes.]"
   ]
  },
  {
   "cell_type": "code",
   "execution_count": 59,
   "metadata": {
    "id": "tz-dq_V00q1O"
   },
   "outputs": [
    {
     "data": {
      "image/png": "[encoded data removed]",
      "text/plain": [
       "<Figure size 500x550 with 1 Axes>"
      ]
     },
     "metadata": {},
     "output_type": "display_data"
    }
   ],
   "source": [
    "mega_mi_bar = megaline_2018.groupby(['plan','month'])['monthly_income'].sum().reset_index()\n",
    "plt.figure(figsize=[5,5.5])\n",
    "sns.barplot(data = mega_mi_bar,x = 'month',y = 'monthly_income',hue = 'plan',palette = 'husl')\n",
    "plt.title('Ingreso mensual por cada plan por mes')\n",
    "plt.xlabel('Mes')\n",
    "plt.ylabel('Ingreso Mensual')\n",
    "plt.legend(loc='upper left',title='Tipo de Plan')\n",
    "plt.show()"
   ]
  },
  {
   "cell_type": "code",
   "execution_count": 60,
   "metadata": {
    "id": "0Y1v8ZUz0q1P"
   },
   "outputs": [
    {
     "data": {
      "image/png": "[encoded data removed]",
      "text/plain": [
       "<Figure size 500x500 with 1 Axes>"
      ]
     },
     "metadata": {},
     "output_type": "display_data"
    }
   ],
   "source": [
    "mega_mi_hist = megaline_2018[['plan','month','monthly_income']]\n",
    "sns.displot(data = mega_mi_hist,x = 'monthly_income',kind = 'hist',hue = 'plan',palette = 'husl',legend = False)\n",
    "plt.title('Histograma del Ingreso mensual de los usuarios por cada plan')\n",
    "plt.xlabel('Ingreso Mensual')\n",
    "plt.ylabel('Frecuencia')\n",
    "plt.legend(title ='Tipo de Plan',loc='upper right',labels=['Ultimate','Surf'])\n",
    "plt.show()"
   ]
  },
  {
   "cell_type": "code",
   "execution_count": 61,
   "metadata": {},
   "outputs": [
    {
     "name": "stdout",
     "output_type": "stream",
     "text": [
      "Media de del ingreso mensual de los clientes\n",
      "\n",
      "64.3511469690362\n",
      "\n",
      "Varianza del ingreso mensual de los clientes\n",
      "\n",
      "2172.9374746984176\n"
     ]
    }
   ],
   "source": [
    "print('Media de del ingreso mensual de los clientes')\n",
    "print()\n",
    "print(megaline_2018['monthly_income'].mean())\n",
    "print()\n",
    "print('Varianza del ingreso mensual de los clientes')\n",
    "print()\n",
    "print(np.var(megaline_2018['monthly_income']))"
   ]
  },
  {
   "cell_type": "code",
   "execution_count": 62,
   "metadata": {
    "id": "bYmwxyVh0q1P"
   },
   "outputs": [
    {
     "data": {
      "text/plain": [
       "Text(0, 0.5, 'Ingreso Mensual')"
      ]
     },
     "execution_count": 62,
     "metadata": {},
     "output_type": "execute_result"
    },
    {
     "data": {
      "image/png": "[encoded data removed]",
      "text/plain": [
       "<Figure size 640x480 with 1 Axes>"
      ]
     },
     "metadata": {},
     "output_type": "display_data"
    }
   ],
   "source": [
    "sns.boxplot(data=megaline_2018,x='plan',y='monthly_income', color = 'lightblue')\n",
    "plt.title('Diagrama de caja de la distribucion del ingreso mensual por cada plan')\n",
    "plt.xlabel('Plan')\n",
    "plt.ylabel('Ingreso Mensual')"
   ]
  },
  {
   "cell_type": "markdown",
   "metadata": {},
   "source": [
    "<div class=\"alert alert-block alert-info\">\n",
    "<b>Respuesta del estudiante</b>\n",
    "\n",
    "Se agrega por estudio estadistico\n",
    "    <a class=“tocSkip”></a>\n",
    "</div>"
   ]
  },
  {
   "cell_type": "code",
   "execution_count": 63,
   "metadata": {},
   "outputs": [
    {
     "data": {
      "text/plain": [
       "Text(0, 0.5, 'Ingreso Mensual')"
      ]
     },
     "execution_count": 63,
     "metadata": {},
     "output_type": "execute_result"
    },
    {
     "data": {
      "image/png": "[encoded data removed]",
      "text/plain": [
       "<Figure size 1200x1000 with 1 Axes>"
      ]
     },
     "metadata": {},
     "output_type": "display_data"
    }
   ],
   "source": [
    "plt.figure(figsize=([12,10]))\n",
    "sns.boxplot(data=megaline_2018,x='month',y='monthly_income', color = 'lightblue',hue='plan')\n",
    "plt.title('Diagrama de caja de la distribucion del ingreso por cada plan')\n",
    "plt.xlabel('Mes')\n",
    "plt.ylabel('Ingreso Mensual')"
   ]
  },
  {
   "cell_type": "markdown",
   "metadata": {
    "id": "KAFidcXZ0q1P"
   },
   "source": [
    "[Elabora las conclusiones sobre cómo difiere el ingreso entre los planes.]"
   ]
  },
  {
   "cell_type": "markdown",
   "metadata": {},
   "source": [
    "**Segun el ingreso mensual se aprecia muy dispar por tipo de plan, los clientes del plan surf, mensualmente son los que que mas dinero aportan al ingreso de la empresa,y ademas varios que se exceden ampliamente en su consumo, por lo que deberian ser contactados y ofrecer plan ultimate**"
   ]
  },
  {
   "cell_type": "markdown",
   "metadata": {},
   "source": [
    "<div class=\"alert alert-block alert-success\">\n",
    "<b>Comentario del revisor (1ra Iteracion)</b> <a class=“tocSkip”></a>\n",
    "\n",
    "Lo hiciste muy bien en esta sección, escogiste colores con buen contraste y así la visualización permite una comparación más clara\n",
    "   \n",
    "</div>"
   ]
  },
  {
   "cell_type": "markdown",
   "metadata": {
    "id": "ajJ7VKeI0q1Q"
   },
   "source": [
    "## Prueba las hipótesis estadísticas"
   ]
  },
  {
   "cell_type": "markdown",
   "metadata": {
    "id": "AdXAZ-yL0q1Q"
   },
   "source": [
    "[Prueba la hipótesis de que son diferentes los ingresos promedio procedentes de los usuarios de los planes de llamada Ultimate y Surf.]"
   ]
  },
  {
   "cell_type": "markdown",
   "metadata": {
    "id": "IQwa_hsh0q1Q"
   },
   "source": [
    "[Elabora las hipótesis nula y alternativa, escoge la prueba estadística, determina el valor alfa.]"
   ]
  },
  {
   "cell_type": "code",
   "execution_count": 64,
   "metadata": {
    "id": "nFoPNlPq0q1R",
    "scrolled": true
   },
   "outputs": [
    {
     "name": "stdout",
     "output_type": "stream",
     "text": [
      "Formulación de Prueba de Hipotesis\n",
      "\n",
      "H0: Los ingresos promedios procedentes de los usuarios de los planes son iguales\n",
      "H1: Los ingresos promedios procedentes de los usuarios de los planes son diferentes\n",
      "\n",
      "Nivel de significancia = 1%\n",
      "\n",
      "El valor de p_value es: 2.862674510698644e-08\n",
      "\n",
      "Conclusión\n",
      "Como el pvalue es menor al nivel de significancia de la prueba, se rechaza la hipotesis nula, ya que hay evidencia estadistica, con un nivel de confianza del 99%, que los ingresos promedios de los planes son significativamente diferentes\n"
     ]
    }
   ],
   "source": [
    "# Prueba las hipótesis\n",
    "\n",
    "print('Formulación de Prueba de Hipotesis')\n",
    "print()\n",
    "print('H0: Los ingresos promedios procedentes de los usuarios de los planes son iguales')\n",
    "print('H1: Los ingresos promedios procedentes de los usuarios de los planes son diferentes')\n",
    "\n",
    "ultimate = megaline_2018[megaline_2018['plan']=='ultimate']['monthly_income']\n",
    "surf = megaline_2018[megaline_2018['plan']=='surf']['monthly_income']\n",
    "print()\n",
    "print('Nivel de significancia = 1%')\n",
    "print()\n",
    "\n",
    "resultado = st.ttest_ind(ultimate, surf)\n",
    "print(f'El valor de p_value es: {resultado.pvalue}')\n",
    "print()\n",
    "print('Conclusión')\n",
    "print('Como el pvalue es menor al nivel de significancia de la prueba, se rechaza la hipotesis nula, ya que hay evidencia estadistica, con un nivel de confianza del 99%, que los ingresos promedios de los planes son significativamente diferentes')"
   ]
  },
  {
   "cell_type": "markdown",
   "metadata": {
    "id": "tCcAruM60q1R"
   },
   "source": [
    "[Prueba la hipótesis de que el ingreso promedio de los usuarios del área NY-NJ es diferente al de los usuarios de otras regiones.]"
   ]
  },
  {
   "cell_type": "markdown",
   "metadata": {
    "id": "LsBgitqj0q1R"
   },
   "source": [
    "[Elabora las hipótesis nula y alternativa, escoge la prueba estadística, determina el valor alfa.]"
   ]
  },
  {
   "cell_type": "code",
   "execution_count": 65,
   "metadata": {
    "id": "Cqcj7wrZ0q1S"
   },
   "outputs": [
    {
     "name": "stdout",
     "output_type": "stream",
     "text": [
      "Formulación de Prueba de Hipotesis\n",
      "\n",
      "H0: Los ingresos promedios procedentes de los usuarios del area NY-NJ son iguales al resto de los usuarios\n",
      "H1: Los ingresos promedios procedentes de los usuarios del area NY-NJ son diferentes al resto de los usuarios\n",
      "\n",
      "Nivel de significancia = 1%\n",
      "\n",
      "El valor de p_value es: 0.043557431621342436\n",
      "\n",
      "Conclusión\n",
      "Como el pvalue es mayor al nivel de significancia de la prueba, no se rechaza la hipotesis nula, ya que no hay evidencia estadistica, con un nivel de confianza del 99%, que los ingresos promedios de los usuarios del area de NY-NJ son significativamente diferentes al resto de los usuarios\n"
     ]
    }
   ],
   "source": [
    "# Prueba las hipótesis\n",
    "\n",
    "print('Formulación de Prueba de Hipotesis')\n",
    "print()\n",
    "print('H0: Los ingresos promedios procedentes de los usuarios del area NY-NJ son iguales al resto de los usuarios')\n",
    "print('H1: Los ingresos promedios procedentes de los usuarios del area NY-NJ son diferentes al resto de los usuarios')\n",
    "\n",
    "mega_nynj = megaline_2018[megaline_2018['state'].str.contains('NY-NJ',case=False,regex=True)]['monthly_income']\n",
    "mega_other_region = megaline_2018[~megaline_2018['state'].str.contains('NY-NJ',case=False,regex=True)]['monthly_income']\n",
    "\n",
    "print()\n",
    "print('Nivel de significancia = 1%')\n",
    "print()\n",
    "\n",
    "resultado2 = st.ttest_ind(mega_nynj, mega_other_region)\n",
    "print(f'El valor de p_value es: {resultado2.pvalue}')\n",
    "print()\n",
    "print('Conclusión')\n",
    "print('Como el pvalue es mayor al nivel de significancia de la prueba, no se rechaza la hipotesis nula, ya que no hay evidencia estadistica, con un nivel de confianza del 99%, que los ingresos promedios de los usuarios del area de NY-NJ son significativamente diferentes al resto de los usuarios')\n"
   ]
  },
  {
   "cell_type": "markdown",
   "metadata": {},
   "source": [
    "<div class=\"alert alert-block alert-success\">\n",
    "<b>Comentario del revisor (1ra Iteracion)</b> <a class=“tocSkip”></a>\n",
    "\n",
    "Muy buen trabajo con las pruebas de hipótesis, es común que se use 5% de nivel de significancia por lo que la segunda prueba de hipótesis también se podría considerar estadísiticamente significativa\n",
    "</div>"
   ]
  },
  {
   "cell_type": "markdown",
   "metadata": {
    "id": "bbTR8UQO0q1T"
   },
   "source": [
    "## Conclusión general\n",
    "\n",
    "[En esta sección final, enumera tus conclusiones importantes. Asegúrate de que estas abarquen todas las decisiones (suposiciones) importantes que adoptaste y que determinaron la forma elegida para procesar y analizar los datos.]"
   ]
  },
  {
   "cell_type": "markdown",
   "metadata": {},
   "source": [
    "En este gran proyecto, fueron varias las aristas que se abordaron y gestiones realizadas, para dar solución a las interrogantes de la empresa.\n",
    "\n",
    "En primera instancia se recibió la descripción general del proyecto, los archivos a utilizar, resumen de su contenido, y las cuestiones a resolver en este estudio. Por ello, primeramente se obtubieron las liberias de Python para procesar y analizar los datos de la empresa, para este caso, se uso Pandas, Numpy, Scipy, Matplotlib y Seaborn.\n",
    "\n",
    "Posteriormente, los archivos ('.csv'), fueron importados, y cargados sus datos, para un primer analisis descriptivo, mediante el metodo info() de Pandas, el cual nos entrega la siguiente información:\n",
    "\n",
    "            - Número de Filas y número de columnas.\n",
    "            - Tipo de dato de cada columna.\n",
    "            - Nombres de cada columna del archivo.\n",
    "            - Datos no nulos por columna (valores ausentes).\n",
    "            - Resumen de los tipos de datos usados por el DataFrame\n",
    "            - Memoria usada por el DataFrame\n",
    "            \n",
    "Para el estudio, se obtuvo informacion relevante:\n",
    "\n",
    "- plans: Total: 2 filas y 8 columnas \n",
    "         Tipo de dato: Object(string), numeros enteros y flotantes (decimales)\n",
    "         Valores ausentes: N/A\n",
    "\n",
    "- users: Total: 500 filas y 8 columnas \n",
    "         Tipo de dato: Object(string) y Numeros enteros\n",
    "         Valores ausentes: N/A\n",
    "\n",
    "- calls: Total: 137735 filas y 4 columnas \n",
    "         Tipo de dato: Object(string), numeros enteros y flotantes (decimales)\n",
    "         Valores ausentes: N/A\n",
    "\n",
    "- messages: Total: 76051 filas y 3 columnas \n",
    "            Tipo de dato: Object(string) y Numeros enteros\n",
    "            Valores ausentes: N/A\n",
    "\n",
    "- internet: Total: 104825 filas y 4 columnas \n",
    "            Tipo de dato: Object(string), numeros enteros y flotantes (decimales)\n",
    "            Valores ausentes: N/A\n",
    "                  \n",
    "Luego,con la información anterior, se gestiono la corrección de los datos erroneos y se aplicaron algunos conceptos de 'Feature Engineering', lo cual permite, a partir de los datos ya generados, agregar otras variables que clarifican y simplifican el analisis, para lo cual se agregaron las siguientes variables:\n",
    "\n",
    "- plans\n",
    "Proceso: Se agrega variable gb_per_month_included, la cual indica la cantidad de Gb's incluidos en el plan contratado.\n",
    "\n",
    "- users\n",
    "Proceso: Se modifican los tipos de datos erroneos (object a datetime) de 2 columnas, y se obtienen variables de dia mes y años respectivamente, ademas se genera columna categorica 'age_range', a partir de la columna 'age', para lo cuales se eligieron 3 grupo hetarios de 18 a 25, 'young', de 25 a 50, 'adult, y sobre 50 hasta los 75 años, 'senior', por ultimo la columna city, fue separada en 2 variables cities y state, para obtener mayor orden al ver los datos. \n",
    "\n",
    "- calls\n",
    "Proceso: Se modifican los tipos de datos erroneos (object a datetime) de 2 columnas, y se obtienen variables de dia mes y años respectivamente\n",
    "\n",
    "- messages \n",
    "Proceso: Se modifican los tipos de datos erroneos (object a datetime) de 2 columnas, y se obtienen variables de dia mes y años respectivamente\n",
    "\n",
    "- internet\n",
    "Proceso: Se modifican los tipos de datos erroneos (object a datetime) de 2 columnas, y se obtienen variables de dia mes y años respectivamente\n",
    "\n",
    "\n",
    "Luego, se analizaron las interrogantes de la empresa, que abordaban 4 variables: llamadas, mensajes, internet y el ingreso mensual. A continuacion se presentan los analisis de cada una de las variables.\n",
    "\n",
    "- Llamadas: 1. Clientes con mucho sobreconsumo mensual, sobretodo clientes de plan surf\n",
    "            2. Gran cantidad de clientes sin usar el servicio de llamadas en el mes\n",
    "            3. Plan surf, oferta no alcanza a cubrir la media en llamadas de los clientes\n",
    "            4. Contactar clientes para ofrecer plan ultimate\n",
    "\n",
    "- Mensajes: 1. Clientes con mucho sobreconsumo mensual, sobretodo clientes de plan surf\n",
    "            2. Gran cantidad de clientes sin usar el servicio de mensajeria incluido de su plan\n",
    "            3. \n",
    "            4. Contactar clientes para ofrecer plan ultimate\n",
    "            \n",
    "- Internet: 1. Clientes con mucho sobreconsumo mensual, sobretodo clientes de plan surf\n",
    "            2. Es el servicio mas usado por los clientes\n",
    "            3. Contactar clientes para ofrecer plan ultimate\n",
    "               \n",
    "- Ingreso Mensual: 1. EL ingreso mensual es muy diferente por tipo de plan\n",
    "                   2. Los clientes del plan surf son los que mas dinero aportan al ingreso mensual\n",
    "                   3. Clientes con mucho sobreconsumo mensual, sobretodo clientes de plan surf\n",
    "                   4. Contactar clientes para ofrecer plan ultimate\n",
    "                   \n",
    "Por ultimo, se realizaron 2 pruebas de hipotesis, donde se estudió lo siguiente:\n",
    "\n",
    "- Prueba 1\n",
    "    H0: Los ingresos promedios procedentes de los usuarios de los planes son iguales\n",
    "    H1: Los ingresos promedios procedentes de los usuarios de los planes son diferentes\n",
    "\n",
    "    Nivel de significancia = 1%\n",
    "\n",
    "    El valor de p_value es: 2.862674510698644e-08\n",
    "\n",
    "    Resolución\n",
    "        \n",
    "    Como el pvalue es menor al nivel de significancia de la prueba, se rechaza la hipotesis nula, ya que hay\n",
    "    evidencia estadistica, con un nivel de confianza del 99%, que los ingresos promedios de los planes son    \n",
    "    significativamente diferentes\n",
    "\n",
    "- Prueba 2\n",
    "    H0: Los ingresos promedios procedentes de los usuarios del area NY-NJ son iguales al resto de los usuarios\n",
    "    H1: Los ingresos promedios procedentes de los usuarios del area NY-NJ son diferentes al resto de los usuarios\n",
    "\n",
    "    Nivel de significancia = 1%\n",
    "\n",
    "    El valor de p_value es: 0.043557431621342436\n",
    "\n",
    "    Resolución\n",
    "    \n",
    "    Como el pvalue es mayor al nivel de significancia de la prueba, no se rechaza la hipotesis nula, ya que no hay\n",
    "    evidencia estadistica, con un nivel de confianza del 99%, que los ingresos promedios de los usuarios del area de\n",
    "    NY-NJ son significativamente diferentes al resto de los usuarios\n",
    "\n",
    "**Resumen**\n",
    "\n",
    "Es un gran proyecto, donde se pudieron analizar los servicios de la empresa, a travez de sus 2 grandes ofertas planes, el comportamiento de los clientes a travez del años y como utilizan cada servicio, siendo el de internet el mas constante, ya que por el avance de la tecnologia las llamadas y los mensajes, se generan  mediante el trafico de datos, lo que explica la gran cantidad de clientes que no utilizan los servicios de llamada y/o mensajeria de su plan.\n",
    "\n",
    "Por ultimo, este informe puede dar pie para realizar rediseño de la oferta que se le entrega a los clientes, ya que hay muchos clientes con sobreconsumo en ambos planes."
   ]
  },
  {
   "cell_type": "markdown",
   "metadata": {},
   "source": [
    "<div class=\"alert alert-block alert-info\">\n",
    "<b>Comentario general (1ra Iteracion)</b> <a class=“tocSkip”></a>\n",
    "    \n",
    "\n",
    "Vas por un buen camino Javier! Hay ciertos puntos donde hay oportunidad de mejora, te he dejado mis comentarios con algunas recomendaciones para tu próxima iteracion.\n",
    "<br>\n",
    "<br>\n",
    "Han sido pocos los puntos que he identificado pero son necesarios para que tu análisis esté completo. Pero has hecho un buen trabajo hasta este punto, te recomiendo ir describiendo un poco más lo que vas interpretando en las visualizaciones que vas presentando un pequeño comentario debajo de cada una antes de tu conclusión final para esa sección ayuda a entender mejor tu proceso de análisis.\n",
    "<br>\n",
    "Te felicito por las visualizaciones realizadas ya que usaste colores que facilitan la comparación de los dos planes y realizaste una muy buena conclusión de tu análisis. Cómo han sido pocos los puntos donde puede haber un cambio que son referentes a ordenar un poco el notebook estoy seguro que tendrás tu proyecto en tu siguiente iteración.\n",
    "<br>\n",
    "Un saludo! 🦾\n",
    "</div>"
   ]
  }
 ],
 "metadata": {
  "ExecuteTimeLog": [
   {
    "duration": 828,
    "start_time": "2021-11-16T09:21:11.304Z"
   },
   {
    "duration": 893,
    "start_time": "2021-11-16T09:21:17.728Z"
   },
   {
    "duration": 1150,
    "start_time": "2021-11-16T09:21:29.568Z"
   },
   {
    "duration": 3,
    "start_time": "2021-11-16T09:24:14.495Z"
   },
   {
    "duration": 120,
    "start_time": "2021-11-16T09:24:46.630Z"
   },
   {
    "duration": 3,
    "start_time": "2021-11-16T09:28:27.882Z"
   },
   {
    "duration": 4,
    "start_time": "2021-11-16T09:29:54.281Z"
   },
   {
    "duration": 3,
    "start_time": "2021-11-16T09:30:45.936Z"
   },
   {
    "duration": 4,
    "start_time": "2021-11-16T09:31:06.300Z"
   },
   {
    "duration": 113,
    "start_time": "2021-11-16T09:31:37.208Z"
   },
   {
    "duration": 143,
    "start_time": "2021-11-16T09:31:48.656Z"
   },
   {
    "duration": 98,
    "start_time": "2021-11-16T09:31:55.678Z"
   },
   {
    "duration": 3,
    "start_time": "2021-11-16T09:32:08.535Z"
   },
   {
    "duration": 111,
    "start_time": "2021-11-16T09:32:10.120Z"
   },
   {
    "duration": 3,
    "start_time": "2021-11-16T09:32:15.732Z"
   },
   {
    "duration": 4,
    "start_time": "2021-11-16T09:32:29.423Z"
   },
   {
    "duration": 3,
    "start_time": "2021-11-16T10:03:03.074Z"
   },
   {
    "duration": 3,
    "start_time": "2021-11-16T10:10:01.288Z"
   },
   {
    "duration": 3,
    "start_time": "2021-11-16T10:10:46.923Z"
   },
   {
    "duration": 121,
    "start_time": "2021-11-16T10:37:46.494Z"
   },
   {
    "duration": 125,
    "start_time": "2021-11-16T10:38:20.632Z"
   },
   {
    "duration": 112,
    "start_time": "2021-11-16T10:46:53.001Z"
   },
   {
    "duration": 110,
    "start_time": "2021-11-16T10:48:25.775Z"
   },
   {
    "duration": 3,
    "start_time": "2021-11-16T10:50:18.720Z"
   },
   {
    "duration": 4,
    "start_time": "2021-11-16T10:50:37.649Z"
   },
   {
    "duration": 2,
    "start_time": "2021-11-16T10:50:51.884Z"
   },
   {
    "duration": 3,
    "start_time": "2021-11-16T10:51:56.237Z"
   },
   {
    "duration": 101,
    "start_time": "2021-11-16T10:53:13.791Z"
   },
   {
    "duration": 3,
    "start_time": "2021-11-16T10:55:59.186Z"
   },
   {
    "duration": 3,
    "start_time": "2021-11-16T10:56:10.751Z"
   },
   {
    "duration": 3,
    "start_time": "2021-11-16T10:56:49.038Z"
   },
   {
    "duration": 3,
    "start_time": "2021-11-16T10:56:49.174Z"
   },
   {
    "duration": 4,
    "start_time": "2021-11-16T10:56:49.414Z"
   },
   {
    "duration": 3,
    "start_time": "2021-11-16T10:56:49.680Z"
   },
   {
    "duration": 3,
    "start_time": "2021-11-16T10:56:50.370Z"
   },
   {
    "duration": 114,
    "start_time": "2021-11-16T10:59:34.518Z"
   },
   {
    "duration": 3,
    "start_time": "2021-11-16T11:01:41.201Z"
   },
   {
    "duration": 116,
    "start_time": "2021-11-16T11:01:48.754Z"
   },
   {
    "duration": 3,
    "start_time": "2021-11-16T11:02:16.685Z"
   },
   {
    "duration": 3,
    "start_time": "2021-11-16T11:02:19.479Z"
   },
   {
    "duration": 3,
    "start_time": "2021-11-16T11:02:47.067Z"
   },
   {
    "duration": 3,
    "start_time": "2021-11-16T11:02:49.353Z"
   },
   {
    "duration": 3,
    "start_time": "2021-11-16T11:03:07.835Z"
   },
   {
    "duration": 3,
    "start_time": "2021-11-16T11:03:07.953Z"
   },
   {
    "duration": 112,
    "start_time": "2021-11-16T11:07:52.072Z"
   },
   {
    "duration": 187,
    "start_time": "2021-11-16T11:09:23.468Z"
   },
   {
    "duration": 4,
    "start_time": "2021-11-16T11:10:01.455Z"
   },
   {
    "duration": 3,
    "start_time": "2021-11-16T11:10:05.069Z"
   },
   {
    "duration": 4,
    "start_time": "2021-11-16T11:10:13.376Z"
   },
   {
    "duration": 3,
    "start_time": "2021-11-16T11:10:14.434Z"
   },
   {
    "duration": 3,
    "start_time": "2021-11-16T11:10:22.853Z"
   },
   {
    "duration": 4,
    "start_time": "2021-11-16T11:27:29.279Z"
   },
   {
    "duration": 4,
    "start_time": "2021-11-16T11:29:08.919Z"
   },
   {
    "duration": 118,
    "start_time": "2021-11-16T11:29:46.703Z"
   },
   {
    "duration": 437,
    "start_time": "2021-11-16T11:36:02.181Z"
   },
   {
    "duration": 157,
    "start_time": "2021-11-16T11:36:14.388Z"
   },
   {
    "duration": 207,
    "start_time": "2021-11-16T11:47:15.898Z"
   },
   {
    "duration": 3,
    "start_time": "2021-11-16T11:53:52.092Z"
   },
   {
    "duration": 3,
    "start_time": "2021-11-16T11:53:52.236Z"
   },
   {
    "duration": 3,
    "start_time": "2021-11-16T11:59:12.005Z"
   },
   {
    "duration": 112,
    "start_time": "2021-11-16T12:00:33.446Z"
   },
   {
    "duration": 3,
    "start_time": "2021-11-16T12:02:14.453Z"
   },
   {
    "duration": 3,
    "start_time": "2021-11-16T12:02:39.512Z"
   },
   {
    "duration": 106,
    "start_time": "2021-11-16T12:03:03.460Z"
   },
   {
    "duration": 3,
    "start_time": "2021-11-17T20:37:21.139Z"
   },
   {
    "duration": 3,
    "start_time": "2021-11-17T20:37:22.229Z"
   },
   {
    "duration": 3,
    "start_time": "2021-11-17T20:38:38.806Z"
   },
   {
    "duration": 3,
    "start_time": "2021-11-17T20:38:41.958Z"
   },
   {
    "duration": 3,
    "start_time": "2021-11-17T20:43:46.551Z"
   },
   {
    "duration": 4,
    "start_time": "2021-11-17T20:58:21.835Z"
   },
   {
    "duration": 3,
    "start_time": "2021-11-17T20:59:21.872Z"
   },
   {
    "duration": 4,
    "start_time": "2021-11-17T20:59:45.352Z"
   },
   {
    "duration": 4,
    "start_time": "2021-11-17T20:59:49.646Z"
   },
   {
    "duration": 159,
    "start_time": "2021-11-17T21:02:26.949Z"
   },
   {
    "duration": 3,
    "start_time": "2021-11-17T21:03:53.461Z"
   },
   {
    "duration": 3,
    "start_time": "2021-11-17T21:03:53.694Z"
   },
   {
    "duration": 3,
    "start_time": "2021-11-17T21:05:28.145Z"
   },
   {
    "duration": 116,
    "start_time": "2021-11-17T21:05:57.787Z"
   },
   {
    "duration": 3,
    "start_time": "2021-11-17T21:06:37.993Z"
   },
   {
    "duration": 3,
    "start_time": "2021-11-17T21:06:38.261Z"
   },
   {
    "duration": 3,
    "start_time": "2021-11-17T21:11:54.358Z"
   },
   {
    "duration": 3,
    "start_time": "2021-11-17T21:12:43.846Z"
   },
   {
    "duration": 4,
    "start_time": "2021-11-17T21:13:08.773Z"
   },
   {
    "duration": 3,
    "start_time": "2021-11-17T21:14:44.441Z"
   },
   {
    "duration": 3,
    "start_time": "2021-11-17T21:15:42.059Z"
   },
   {
    "duration": 4,
    "start_time": "2021-11-17T21:15:51.995Z"
   },
   {
    "duration": 3,
    "start_time": "2021-11-17T21:15:53.923Z"
   },
   {
    "duration": 3,
    "start_time": "2021-11-17T21:15:55.282Z"
   },
   {
    "duration": 3,
    "start_time": "2021-11-17T21:16:28.492Z"
   },
   {
    "duration": 3,
    "start_time": "2021-11-17T21:16:32.603Z"
   },
   {
    "duration": 3,
    "start_time": "2021-11-17T21:17:06.941Z"
   },
   {
    "duration": 98,
    "start_time": "2021-11-17T21:18:05.733Z"
   },
   {
    "duration": 4,
    "start_time": "2021-11-17T21:21:35.255Z"
   },
   {
    "duration": 3,
    "start_time": "2021-11-17T21:21:37.804Z"
   },
   {
    "duration": 4,
    "start_time": "2021-11-17T21:23:06.071Z"
   },
   {
    "duration": 3,
    "start_time": "2021-11-17T21:23:24.799Z"
   },
   {
    "duration": 3,
    "start_time": "2021-11-17T21:23:32.591Z"
   },
   {
    "duration": 98,
    "start_time": "2021-11-17T21:28:31.559Z"
   },
   {
    "duration": 3,
    "start_time": "2021-11-17T21:28:45.448Z"
   },
   {
    "duration": 3,
    "start_time": "2021-11-17T21:29:17.303Z"
   },
   {
    "duration": 3,
    "start_time": "2021-11-17T21:29:29.617Z"
   },
   {
    "duration": 3,
    "start_time": "2021-11-17T21:29:32.681Z"
   },
   {
    "duration": 3,
    "start_time": "2021-11-17T21:36:11.474Z"
   },
   {
    "duration": 3,
    "start_time": "2021-11-17T21:36:14.791Z"
   },
   {
    "duration": 3,
    "start_time": "2021-11-17T21:36:53.943Z"
   },
   {
    "duration": 3,
    "start_time": "2021-11-17T21:36:56.165Z"
   },
   {
    "duration": 4,
    "start_time": "2021-11-17T21:37:16.590Z"
   },
   {
    "duration": 3,
    "start_time": "2021-11-17T21:37:22.702Z"
   },
   {
    "duration": 4,
    "start_time": "2021-11-17T21:38:03.479Z"
   },
   {
    "duration": 3,
    "start_time": "2021-11-17T21:38:08.601Z"
   },
   {
    "duration": 3,
    "start_time": "2021-11-17T21:38:12.928Z"
   },
   {
    "duration": 3,
    "start_time": "2021-11-17T21:38:48.896Z"
   },
   {
    "duration": 2,
    "start_time": "2021-11-17T21:38:49.171Z"
   },
   {
    "duration": 4,
    "start_time": "2021-11-17T21:39:57.889Z"
   },
   {
    "duration": 3,
    "start_time": "2021-11-17T21:39:58.057Z"
   },
   {
    "duration": 3,
    "start_time": "2021-11-17T21:41:20.108Z"
   },
   {
    "duration": 3,
    "start_time": "2021-11-17T21:41:20.629Z"
   },
   {
    "duration": 3,
    "start_time": "2021-11-17T21:42:49.136Z"
   },
   {
    "duration": 3,
    "start_time": "2021-11-17T21:43:15.137Z"
   },
   {
    "duration": 4,
    "start_time": "2021-11-17T21:43:16.766Z"
   },
   {
    "duration": 4,
    "start_time": "2021-11-17T21:43:31.711Z"
   },
   {
    "duration": 3,
    "start_time": "2021-11-17T21:43:36.312Z"
   },
   {
    "duration": 4,
    "start_time": "2021-11-17T21:45:08.825Z"
   },
   {
    "duration": 4,
    "start_time": "2021-11-17T21:45:10.119Z"
   },
   {
    "duration": 4,
    "start_time": "2021-11-17T21:45:13.748Z"
   },
   {
    "duration": 3,
    "start_time": "2021-11-17T21:45:22.219Z"
   },
   {
    "duration": 3,
    "start_time": "2021-11-17T21:45:33.412Z"
   },
   {
    "duration": 2,
    "start_time": "2021-11-17T21:46:01.885Z"
   },
   {
    "duration": 3,
    "start_time": "2021-11-17T21:46:03.628Z"
   },
   {
    "duration": 107,
    "start_time": "2021-11-17T21:47:32.512Z"
   },
   {
    "duration": 103,
    "start_time": "2021-11-17T21:50:36.243Z"
   },
   {
    "duration": 3,
    "start_time": "2021-11-18T06:28:31.440Z"
   },
   {
    "duration": 3,
    "start_time": "2021-11-18T06:29:00.168Z"
   },
   {
    "duration": 3,
    "start_time": "2021-11-18T06:31:27.008Z"
   },
   {
    "duration": 2,
    "start_time": "2021-11-18T06:35:34.288Z"
   },
   {
    "duration": 2,
    "start_time": "2021-11-18T06:38:04.527Z"
   },
   {
    "duration": 912,
    "start_time": "2024-06-13T21:40:36.456Z"
   },
   {
    "duration": 1133,
    "start_time": "2024-06-13T21:41:22.256Z"
   },
   {
    "duration": 294,
    "start_time": "2024-06-13T21:45:56.358Z"
   },
   {
    "duration": 323,
    "start_time": "2024-06-13T21:46:26.605Z"
   },
   {
    "duration": 72,
    "start_time": "2024-06-13T21:47:32.233Z"
   },
   {
    "duration": 73,
    "start_time": "2024-06-13T21:47:36.892Z"
   },
   {
    "duration": 69,
    "start_time": "2024-06-13T21:47:58.458Z"
   },
   {
    "duration": 7,
    "start_time": "2024-06-13T21:48:13.294Z"
   },
   {
    "duration": 67,
    "start_time": "2024-06-13T21:48:22.184Z"
   },
   {
    "duration": 17,
    "start_time": "2024-06-13T21:49:33.361Z"
   },
   {
    "duration": 71,
    "start_time": "2024-06-13T21:50:35.847Z"
   },
   {
    "duration": 17,
    "start_time": "2024-06-13T21:51:06.776Z"
   },
   {
    "duration": 71,
    "start_time": "2024-06-13T21:51:35.455Z"
   },
   {
    "duration": 15,
    "start_time": "2024-06-13T21:51:40.446Z"
   },
   {
    "duration": 20,
    "start_time": "2024-06-13T21:52:12.202Z"
   },
   {
    "duration": 32,
    "start_time": "2024-06-13T21:52:59.684Z"
   },
   {
    "duration": 21,
    "start_time": "2024-06-13T21:53:56.222Z"
   },
   {
    "duration": 8,
    "start_time": "2024-06-13T22:07:31.318Z"
   },
   {
    "duration": 16,
    "start_time": "2024-06-13T22:07:56.492Z"
   },
   {
    "duration": 14,
    "start_time": "2024-06-13T22:08:55.996Z"
   },
   {
    "duration": 21,
    "start_time": "2024-06-13T22:09:08.378Z"
   },
   {
    "duration": 23,
    "start_time": "2024-06-13T22:09:12.148Z"
   },
   {
    "duration": 13,
    "start_time": "2024-06-13T22:09:18.251Z"
   },
   {
    "duration": 18,
    "start_time": "2024-06-13T22:09:19.602Z"
   },
   {
    "duration": 19,
    "start_time": "2024-06-13T22:09:21.524Z"
   },
   {
    "duration": 18,
    "start_time": "2024-06-13T22:09:24.101Z"
   },
   {
    "duration": 17,
    "start_time": "2024-06-13T22:09:28.127Z"
   },
   {
    "duration": 15,
    "start_time": "2024-06-13T22:09:28.948Z"
   },
   {
    "duration": 23,
    "start_time": "2024-06-13T22:09:29.819Z"
   },
   {
    "duration": 15,
    "start_time": "2024-06-13T22:09:30.622Z"
   },
   {
    "duration": 21,
    "start_time": "2024-06-13T22:09:33.819Z"
   },
   {
    "duration": 15,
    "start_time": "2024-06-13T22:09:34.790Z"
   },
   {
    "duration": 937,
    "start_time": "2024-06-14T00:15:16.114Z"
   },
   {
    "duration": 340,
    "start_time": "2024-06-14T00:15:17.054Z"
   },
   {
    "duration": 17,
    "start_time": "2024-06-14T00:15:17.397Z"
   },
   {
    "duration": 11,
    "start_time": "2024-06-14T00:15:17.418Z"
   },
   {
    "duration": 87,
    "start_time": "2024-06-14T00:15:17.432Z"
   },
   {
    "duration": 101,
    "start_time": "2024-06-14T00:15:17.522Z"
   },
   {
    "duration": 14,
    "start_time": "2024-06-14T00:15:17.626Z"
   },
   {
    "duration": 19,
    "start_time": "2024-06-14T00:15:17.644Z"
   },
   {
    "duration": 4,
    "start_time": "2024-06-14T00:15:17.666Z"
   },
   {
    "duration": 4,
    "start_time": "2024-06-14T00:15:17.712Z"
   },
   {
    "duration": 3,
    "start_time": "2024-06-14T00:15:17.720Z"
   },
   {
    "duration": 3,
    "start_time": "2024-06-14T00:15:17.728Z"
   },
   {
    "duration": 4,
    "start_time": "2024-06-14T00:15:17.734Z"
   },
   {
    "duration": 4,
    "start_time": "2024-06-14T00:15:17.741Z"
   },
   {
    "duration": 3,
    "start_time": "2024-06-14T00:15:17.749Z"
   },
   {
    "duration": 4,
    "start_time": "2024-06-14T00:15:17.755Z"
   },
   {
    "duration": 53,
    "start_time": "2024-06-14T00:15:17.762Z"
   },
   {
    "duration": 4,
    "start_time": "2024-06-14T00:15:17.818Z"
   },
   {
    "duration": 5,
    "start_time": "2024-06-14T00:15:17.825Z"
   },
   {
    "duration": 3,
    "start_time": "2024-06-14T00:15:17.833Z"
   },
   {
    "duration": 3,
    "start_time": "2024-06-14T00:15:17.840Z"
   },
   {
    "duration": 4,
    "start_time": "2024-06-14T00:15:17.847Z"
   },
   {
    "duration": 58,
    "start_time": "2024-06-14T00:15:17.855Z"
   },
   {
    "duration": 4,
    "start_time": "2024-06-14T00:15:17.917Z"
   },
   {
    "duration": 4,
    "start_time": "2024-06-14T00:15:17.925Z"
   },
   {
    "duration": 4,
    "start_time": "2024-06-14T00:15:17.934Z"
   },
   {
    "duration": 4,
    "start_time": "2024-06-14T00:15:17.941Z"
   },
   {
    "duration": 60,
    "start_time": "2024-06-14T00:15:17.953Z"
   },
   {
    "duration": 4,
    "start_time": "2024-06-14T00:15:18.015Z"
   },
   {
    "duration": 3,
    "start_time": "2024-06-14T00:15:18.022Z"
   },
   {
    "duration": 304,
    "start_time": "2024-06-21T23:45:12.399Z"
   },
   {
    "duration": 308,
    "start_time": "2024-06-21T23:45:24.991Z"
   },
   {
    "duration": 882,
    "start_time": "2024-06-21T23:45:33.986Z"
   },
   {
    "duration": 360,
    "start_time": "2024-06-21T23:45:34.871Z"
   },
   {
    "duration": 16,
    "start_time": "2024-06-21T23:45:35.235Z"
   },
   {
    "duration": 10,
    "start_time": "2024-06-21T23:45:35.255Z"
   },
   {
    "duration": 47,
    "start_time": "2024-06-21T23:45:35.272Z"
   },
   {
    "duration": 15,
    "start_time": "2024-06-21T23:45:35.322Z"
   },
   {
    "duration": 15,
    "start_time": "2024-06-21T23:45:35.340Z"
   },
   {
    "duration": 7,
    "start_time": "2024-06-21T23:45:35.358Z"
   },
   {
    "duration": 4,
    "start_time": "2024-06-21T23:45:35.368Z"
   },
   {
    "duration": 4,
    "start_time": "2024-06-21T23:45:35.412Z"
   },
   {
    "duration": 4,
    "start_time": "2024-06-21T23:45:35.419Z"
   },
   {
    "duration": 4,
    "start_time": "2024-06-21T23:45:35.426Z"
   },
   {
    "duration": 3,
    "start_time": "2024-06-21T23:45:35.433Z"
   },
   {
    "duration": 3,
    "start_time": "2024-06-21T23:45:35.442Z"
   },
   {
    "duration": 3,
    "start_time": "2024-06-21T23:45:35.448Z"
   },
   {
    "duration": 61,
    "start_time": "2024-06-21T23:45:35.455Z"
   },
   {
    "duration": 4,
    "start_time": "2024-06-21T23:45:35.519Z"
   },
   {
    "duration": 4,
    "start_time": "2024-06-21T23:45:35.527Z"
   },
   {
    "duration": 3,
    "start_time": "2024-06-21T23:45:35.535Z"
   },
   {
    "duration": 7,
    "start_time": "2024-06-21T23:45:35.541Z"
   },
   {
    "duration": 3,
    "start_time": "2024-06-21T23:45:35.552Z"
   },
   {
    "duration": 3,
    "start_time": "2024-06-21T23:45:35.613Z"
   },
   {
    "duration": 4,
    "start_time": "2024-06-21T23:45:35.618Z"
   },
   {
    "duration": 3,
    "start_time": "2024-06-21T23:45:35.626Z"
   },
   {
    "duration": 3,
    "start_time": "2024-06-21T23:45:35.633Z"
   },
   {
    "duration": 3,
    "start_time": "2024-06-21T23:45:35.640Z"
   },
   {
    "duration": 3,
    "start_time": "2024-06-21T23:45:35.646Z"
   },
   {
    "duration": 3,
    "start_time": "2024-06-21T23:45:35.653Z"
   },
   {
    "duration": 3,
    "start_time": "2024-06-21T23:45:35.714Z"
   },
   {
    "duration": 8,
    "start_time": "2024-06-21T23:51:27.272Z"
   },
   {
    "duration": 885,
    "start_time": "2024-06-21T23:51:46.236Z"
   },
   {
    "duration": 269,
    "start_time": "2024-06-21T23:51:47.124Z"
   },
   {
    "duration": 20,
    "start_time": "2024-06-21T23:51:47.395Z"
   },
   {
    "duration": 9,
    "start_time": "2024-06-21T23:51:47.419Z"
   },
   {
    "duration": 83,
    "start_time": "2024-06-21T23:51:47.431Z"
   },
   {
    "duration": 18,
    "start_time": "2024-06-21T23:51:47.516Z"
   },
   {
    "duration": 75,
    "start_time": "2024-06-21T23:51:47.537Z"
   },
   {
    "duration": 3,
    "start_time": "2024-06-21T23:51:47.615Z"
   },
   {
    "duration": 4,
    "start_time": "2024-06-21T23:51:47.620Z"
   },
   {
    "duration": 3,
    "start_time": "2024-06-21T23:51:47.633Z"
   },
   {
    "duration": 3,
    "start_time": "2024-06-21T23:51:47.640Z"
   },
   {
    "duration": 3,
    "start_time": "2024-06-21T23:51:47.647Z"
   },
   {
    "duration": 3,
    "start_time": "2024-06-21T23:51:47.712Z"
   },
   {
    "duration": 4,
    "start_time": "2024-06-21T23:51:47.718Z"
   },
   {
    "duration": 3,
    "start_time": "2024-06-21T23:51:47.725Z"
   },
   {
    "duration": 3,
    "start_time": "2024-06-21T23:51:47.731Z"
   },
   {
    "duration": 4,
    "start_time": "2024-06-21T23:51:47.736Z"
   },
   {
    "duration": 4,
    "start_time": "2024-06-21T23:51:47.743Z"
   },
   {
    "duration": 63,
    "start_time": "2024-06-21T23:51:47.750Z"
   },
   {
    "duration": 3,
    "start_time": "2024-06-21T23:51:47.816Z"
   },
   {
    "duration": 3,
    "start_time": "2024-06-21T23:51:47.822Z"
   },
   {
    "duration": 3,
    "start_time": "2024-06-21T23:51:47.828Z"
   },
   {
    "duration": 4,
    "start_time": "2024-06-21T23:51:47.834Z"
   },
   {
    "duration": 4,
    "start_time": "2024-06-21T23:51:47.841Z"
   },
   {
    "duration": 3,
    "start_time": "2024-06-21T23:51:47.848Z"
   },
   {
    "duration": 59,
    "start_time": "2024-06-21T23:51:47.854Z"
   },
   {
    "duration": 4,
    "start_time": "2024-06-21T23:51:47.917Z"
   },
   {
    "duration": 3,
    "start_time": "2024-06-21T23:51:47.929Z"
   },
   {
    "duration": 3,
    "start_time": "2024-06-21T23:51:47.936Z"
   },
   {
    "duration": 18,
    "start_time": "2024-06-21T23:51:54.005Z"
   },
   {
    "duration": 13,
    "start_time": "2024-06-22T00:32:36.990Z"
   },
   {
    "duration": 909,
    "start_time": "2024-06-22T02:12:10.741Z"
   },
   {
    "duration": 350,
    "start_time": "2024-06-22T02:12:11.653Z"
   },
   {
    "duration": 17,
    "start_time": "2024-06-22T02:12:12.006Z"
   },
   {
    "duration": 10,
    "start_time": "2024-06-22T02:12:12.028Z"
   },
   {
    "duration": 12,
    "start_time": "2024-06-22T02:12:12.041Z"
   },
   {
    "duration": 63,
    "start_time": "2024-06-22T02:12:12.056Z"
   },
   {
    "duration": 14,
    "start_time": "2024-06-22T02:12:12.124Z"
   },
   {
    "duration": 16,
    "start_time": "2024-06-22T02:12:12.141Z"
   },
   {
    "duration": 44,
    "start_time": "2024-06-22T02:12:12.162Z"
   },
   {
    "duration": 3,
    "start_time": "2024-06-22T02:12:12.214Z"
   },
   {
    "duration": 5,
    "start_time": "2024-06-22T02:12:12.219Z"
   },
   {
    "duration": 3,
    "start_time": "2024-06-22T02:12:12.227Z"
   },
   {
    "duration": 3,
    "start_time": "2024-06-22T02:12:12.233Z"
   },
   {
    "duration": 3,
    "start_time": "2024-06-22T02:12:12.239Z"
   },
   {
    "duration": 2,
    "start_time": "2024-06-22T02:12:12.246Z"
   },
   {
    "duration": 4,
    "start_time": "2024-06-22T02:12:12.307Z"
   },
   {
    "duration": 4,
    "start_time": "2024-06-22T02:12:12.314Z"
   },
   {
    "duration": 3,
    "start_time": "2024-06-22T02:12:12.321Z"
   },
   {
    "duration": 4,
    "start_time": "2024-06-22T02:12:12.327Z"
   },
   {
    "duration": 4,
    "start_time": "2024-06-22T02:12:12.334Z"
   },
   {
    "duration": 4,
    "start_time": "2024-06-22T02:12:12.341Z"
   },
   {
    "duration": 58,
    "start_time": "2024-06-22T02:12:12.348Z"
   },
   {
    "duration": 3,
    "start_time": "2024-06-22T02:12:12.409Z"
   },
   {
    "duration": 4,
    "start_time": "2024-06-22T02:12:12.415Z"
   },
   {
    "duration": 4,
    "start_time": "2024-06-22T02:12:12.422Z"
   },
   {
    "duration": 3,
    "start_time": "2024-06-22T02:12:12.429Z"
   },
   {
    "duration": 3,
    "start_time": "2024-06-22T02:12:12.438Z"
   },
   {
    "duration": 2,
    "start_time": "2024-06-22T02:12:12.448Z"
   },
   {
    "duration": 56,
    "start_time": "2024-06-22T02:12:12.453Z"
   },
   {
    "duration": 3,
    "start_time": "2024-06-22T02:12:12.512Z"
   },
   {
    "duration": 3,
    "start_time": "2024-06-22T02:12:12.519Z"
   },
   {
    "duration": 868,
    "start_time": "2024-06-22T02:19:05.867Z"
   },
   {
    "duration": 306,
    "start_time": "2024-06-22T02:19:06.739Z"
   },
   {
    "duration": 17,
    "start_time": "2024-06-22T02:19:07.048Z"
   },
   {
    "duration": 9,
    "start_time": "2024-06-22T02:19:07.072Z"
   },
   {
    "duration": 10,
    "start_time": "2024-06-22T02:19:07.105Z"
   },
   {
    "duration": 19,
    "start_time": "2024-06-22T02:19:07.118Z"
   },
   {
    "duration": 18,
    "start_time": "2024-06-22T02:19:07.140Z"
   },
   {
    "duration": 55,
    "start_time": "2024-06-22T02:19:07.161Z"
   },
   {
    "duration": 16,
    "start_time": "2024-06-22T02:19:07.219Z"
   },
   {
    "duration": 4,
    "start_time": "2024-06-22T02:19:07.242Z"
   },
   {
    "duration": 3,
    "start_time": "2024-06-22T02:19:07.249Z"
   },
   {
    "duration": 3,
    "start_time": "2024-06-22T02:19:07.256Z"
   },
   {
    "duration": 46,
    "start_time": "2024-06-22T02:19:07.262Z"
   },
   {
    "duration": 3,
    "start_time": "2024-06-22T02:19:07.312Z"
   },
   {
    "duration": 4,
    "start_time": "2024-06-22T02:19:07.319Z"
   },
   {
    "duration": 5,
    "start_time": "2024-06-22T02:19:07.326Z"
   },
   {
    "duration": 3,
    "start_time": "2024-06-22T02:19:07.335Z"
   },
   {
    "duration": 4,
    "start_time": "2024-06-22T02:19:07.342Z"
   },
   {
    "duration": 57,
    "start_time": "2024-06-22T02:19:07.350Z"
   },
   {
    "duration": 4,
    "start_time": "2024-06-22T02:19:07.410Z"
   },
   {
    "duration": 5,
    "start_time": "2024-06-22T02:19:07.417Z"
   },
   {
    "duration": 4,
    "start_time": "2024-06-22T02:19:07.425Z"
   },
   {
    "duration": 3,
    "start_time": "2024-06-22T02:19:07.433Z"
   },
   {
    "duration": 4,
    "start_time": "2024-06-22T02:19:07.439Z"
   },
   {
    "duration": 4,
    "start_time": "2024-06-22T02:19:07.446Z"
   },
   {
    "duration": 54,
    "start_time": "2024-06-22T02:19:07.454Z"
   },
   {
    "duration": 4,
    "start_time": "2024-06-22T02:19:07.511Z"
   },
   {
    "duration": 4,
    "start_time": "2024-06-22T02:19:07.522Z"
   },
   {
    "duration": 4,
    "start_time": "2024-06-22T02:19:07.530Z"
   },
   {
    "duration": 4,
    "start_time": "2024-06-22T02:19:07.538Z"
   },
   {
    "duration": 4,
    "start_time": "2024-06-22T02:19:07.545Z"
   },
   {
    "duration": 17,
    "start_time": "2024-06-22T02:22:49.830Z"
   },
   {
    "duration": 15,
    "start_time": "2024-06-22T02:22:56.319Z"
   },
   {
    "duration": 20,
    "start_time": "2024-06-22T02:23:34.774Z"
   },
   {
    "duration": 14,
    "start_time": "2024-06-22T02:26:38.240Z"
   },
   {
    "duration": 29,
    "start_time": "2024-06-22T02:45:48.227Z"
   },
   {
    "duration": 181,
    "start_time": "2024-06-22T02:58:59.073Z"
   },
   {
    "duration": 21,
    "start_time": "2024-06-22T02:59:10.162Z"
   },
   {
    "duration": 22,
    "start_time": "2024-06-22T02:59:33.072Z"
   },
   {
    "duration": 23,
    "start_time": "2024-06-22T02:59:52.992Z"
   },
   {
    "duration": 21,
    "start_time": "2024-06-22T03:00:06.401Z"
   },
   {
    "duration": 22,
    "start_time": "2024-06-22T03:01:20.485Z"
   },
   {
    "duration": 22,
    "start_time": "2024-06-22T03:01:30.598Z"
   },
   {
    "duration": 955,
    "start_time": "2024-06-22T03:01:40.894Z"
   },
   {
    "duration": 273,
    "start_time": "2024-06-22T03:01:41.852Z"
   },
   {
    "duration": 19,
    "start_time": "2024-06-22T03:01:42.127Z"
   },
   {
    "duration": 11,
    "start_time": "2024-06-22T03:01:42.149Z"
   },
   {
    "duration": 50,
    "start_time": "2024-06-22T03:01:42.166Z"
   },
   {
    "duration": 15,
    "start_time": "2024-06-22T03:01:42.219Z"
   },
   {
    "duration": 17,
    "start_time": "2024-06-22T03:01:42.238Z"
   },
   {
    "duration": 59,
    "start_time": "2024-06-22T03:01:42.258Z"
   },
   {
    "duration": 32,
    "start_time": "2024-06-22T03:01:42.320Z"
   },
   {
    "duration": 3,
    "start_time": "2024-06-22T03:01:42.355Z"
   },
   {
    "duration": 4,
    "start_time": "2024-06-22T03:01:42.361Z"
   },
   {
    "duration": 40,
    "start_time": "2024-06-22T03:01:42.367Z"
   },
   {
    "duration": 7,
    "start_time": "2024-06-22T03:01:42.410Z"
   },
   {
    "duration": 3,
    "start_time": "2024-06-22T03:01:42.426Z"
   },
   {
    "duration": 6,
    "start_time": "2024-06-22T03:01:42.433Z"
   },
   {
    "duration": 2,
    "start_time": "2024-06-22T03:01:42.442Z"
   },
   {
    "duration": 4,
    "start_time": "2024-06-22T03:01:42.447Z"
   },
   {
    "duration": 54,
    "start_time": "2024-06-22T03:01:42.453Z"
   },
   {
    "duration": 3,
    "start_time": "2024-06-22T03:01:42.510Z"
   },
   {
    "duration": 4,
    "start_time": "2024-06-22T03:01:42.516Z"
   },
   {
    "duration": 4,
    "start_time": "2024-06-22T03:01:42.523Z"
   },
   {
    "duration": 4,
    "start_time": "2024-06-22T03:01:42.530Z"
   },
   {
    "duration": 3,
    "start_time": "2024-06-22T03:01:42.537Z"
   },
   {
    "duration": 4,
    "start_time": "2024-06-22T03:01:42.544Z"
   },
   {
    "duration": 56,
    "start_time": "2024-06-22T03:01:42.551Z"
   },
   {
    "duration": 3,
    "start_time": "2024-06-22T03:01:42.611Z"
   },
   {
    "duration": 3,
    "start_time": "2024-06-22T03:01:42.617Z"
   },
   {
    "duration": 4,
    "start_time": "2024-06-22T03:01:42.623Z"
   },
   {
    "duration": 3,
    "start_time": "2024-06-22T03:01:42.630Z"
   },
   {
    "duration": 3,
    "start_time": "2024-06-22T03:01:42.637Z"
   },
   {
    "duration": 3,
    "start_time": "2024-06-22T03:01:42.643Z"
   },
   {
    "duration": 180,
    "start_time": "2024-06-22T03:02:17.389Z"
   },
   {
    "duration": 947,
    "start_time": "2024-06-22T03:02:27.281Z"
   },
   {
    "duration": 287,
    "start_time": "2024-06-22T03:02:28.231Z"
   },
   {
    "duration": 17,
    "start_time": "2024-06-22T03:02:28.520Z"
   },
   {
    "duration": 9,
    "start_time": "2024-06-22T03:02:28.540Z"
   },
   {
    "duration": 22,
    "start_time": "2024-06-22T03:02:28.554Z"
   },
   {
    "duration": 46,
    "start_time": "2024-06-22T03:02:28.578Z"
   },
   {
    "duration": 15,
    "start_time": "2024-06-22T03:02:28.627Z"
   },
   {
    "duration": 64,
    "start_time": "2024-06-22T03:02:28.644Z"
   },
   {
    "duration": 3,
    "start_time": "2024-06-22T03:02:28.711Z"
   },
   {
    "duration": 3,
    "start_time": "2024-06-22T03:02:28.718Z"
   },
   {
    "duration": 4,
    "start_time": "2024-06-22T03:02:28.724Z"
   },
   {
    "duration": 3,
    "start_time": "2024-06-22T03:02:28.731Z"
   },
   {
    "duration": 4,
    "start_time": "2024-06-22T03:02:28.737Z"
   },
   {
    "duration": 3,
    "start_time": "2024-06-22T03:02:28.747Z"
   },
   {
    "duration": 54,
    "start_time": "2024-06-22T03:02:28.754Z"
   },
   {
    "duration": 4,
    "start_time": "2024-06-22T03:02:28.811Z"
   },
   {
    "duration": 4,
    "start_time": "2024-06-22T03:02:28.819Z"
   },
   {
    "duration": 4,
    "start_time": "2024-06-22T03:02:28.827Z"
   },
   {
    "duration": 3,
    "start_time": "2024-06-22T03:02:28.835Z"
   },
   {
    "duration": 4,
    "start_time": "2024-06-22T03:02:28.841Z"
   },
   {
    "duration": 4,
    "start_time": "2024-06-22T03:02:28.848Z"
   },
   {
    "duration": 3,
    "start_time": "2024-06-22T03:02:28.909Z"
   },
   {
    "duration": 5,
    "start_time": "2024-06-22T03:02:28.915Z"
   },
   {
    "duration": 3,
    "start_time": "2024-06-22T03:02:28.924Z"
   },
   {
    "duration": 4,
    "start_time": "2024-06-22T03:02:28.929Z"
   },
   {
    "duration": 4,
    "start_time": "2024-06-22T03:02:28.936Z"
   },
   {
    "duration": 3,
    "start_time": "2024-06-22T03:02:28.943Z"
   },
   {
    "duration": 4,
    "start_time": "2024-06-22T03:02:28.949Z"
   },
   {
    "duration": 5,
    "start_time": "2024-06-22T03:02:29.007Z"
   },
   {
    "duration": 4,
    "start_time": "2024-06-22T03:02:29.015Z"
   },
   {
    "duration": 903,
    "start_time": "2024-06-22T03:10:20.847Z"
   },
   {
    "duration": 289,
    "start_time": "2024-06-22T03:10:21.755Z"
   },
   {
    "duration": 20,
    "start_time": "2024-06-22T03:10:22.047Z"
   },
   {
    "duration": 10,
    "start_time": "2024-06-22T03:10:22.072Z"
   },
   {
    "duration": 41,
    "start_time": "2024-06-22T03:10:22.086Z"
   },
   {
    "duration": 20,
    "start_time": "2024-06-22T03:10:22.130Z"
   },
   {
    "duration": 24,
    "start_time": "2024-06-22T03:10:22.155Z"
   },
   {
    "duration": 37,
    "start_time": "2024-06-22T03:10:22.208Z"
   },
   {
    "duration": 7,
    "start_time": "2024-06-22T03:10:22.251Z"
   },
   {
    "duration": 6,
    "start_time": "2024-06-22T03:10:22.265Z"
   },
   {
    "duration": 29,
    "start_time": "2024-06-22T03:10:22.277Z"
   },
   {
    "duration": 6,
    "start_time": "2024-06-22T03:10:22.309Z"
   },
   {
    "duration": 4,
    "start_time": "2024-06-22T03:10:22.320Z"
   },
   {
    "duration": 4,
    "start_time": "2024-06-22T03:10:22.326Z"
   },
   {
    "duration": 4,
    "start_time": "2024-06-22T03:10:22.333Z"
   },
   {
    "duration": 4,
    "start_time": "2024-06-22T03:10:22.339Z"
   },
   {
    "duration": 3,
    "start_time": "2024-06-22T03:10:22.346Z"
   },
   {
    "duration": 4,
    "start_time": "2024-06-22T03:10:22.351Z"
   },
   {
    "duration": 49,
    "start_time": "2024-06-22T03:10:22.357Z"
   },
   {
    "duration": 3,
    "start_time": "2024-06-22T03:10:22.410Z"
   },
   {
    "duration": 3,
    "start_time": "2024-06-22T03:10:22.416Z"
   },
   {
    "duration": 3,
    "start_time": "2024-06-22T03:10:22.422Z"
   },
   {
    "duration": 4,
    "start_time": "2024-06-22T03:10:22.428Z"
   },
   {
    "duration": 4,
    "start_time": "2024-06-22T03:10:22.435Z"
   },
   {
    "duration": 3,
    "start_time": "2024-06-22T03:10:22.442Z"
   },
   {
    "duration": 60,
    "start_time": "2024-06-22T03:10:22.448Z"
   },
   {
    "duration": 4,
    "start_time": "2024-06-22T03:10:22.511Z"
   },
   {
    "duration": 3,
    "start_time": "2024-06-22T03:10:22.522Z"
   },
   {
    "duration": 4,
    "start_time": "2024-06-22T03:10:22.528Z"
   },
   {
    "duration": 3,
    "start_time": "2024-06-22T03:10:22.535Z"
   },
   {
    "duration": 40,
    "start_time": "2024-06-22T03:10:52.757Z"
   },
   {
    "duration": 972,
    "start_time": "2024-06-22T03:11:24.892Z"
   },
   {
    "duration": 296,
    "start_time": "2024-06-22T03:11:25.868Z"
   },
   {
    "duration": 18,
    "start_time": "2024-06-22T03:11:26.167Z"
   },
   {
    "duration": 24,
    "start_time": "2024-06-22T03:11:26.188Z"
   },
   {
    "duration": 24,
    "start_time": "2024-06-22T03:11:26.216Z"
   },
   {
    "duration": 17,
    "start_time": "2024-06-22T03:11:26.244Z"
   },
   {
    "duration": 47,
    "start_time": "2024-06-22T03:11:26.265Z"
   },
   {
    "duration": 30,
    "start_time": "2024-06-22T03:11:26.316Z"
   },
   {
    "duration": 4,
    "start_time": "2024-06-22T03:11:26.349Z"
   },
   {
    "duration": 4,
    "start_time": "2024-06-22T03:11:26.356Z"
   },
   {
    "duration": 3,
    "start_time": "2024-06-22T03:11:26.362Z"
   },
   {
    "duration": 3,
    "start_time": "2024-06-22T03:11:26.408Z"
   },
   {
    "duration": 4,
    "start_time": "2024-06-22T03:11:26.416Z"
   },
   {
    "duration": 3,
    "start_time": "2024-06-22T03:11:26.428Z"
   },
   {
    "duration": 4,
    "start_time": "2024-06-22T03:11:26.435Z"
   },
   {
    "duration": 4,
    "start_time": "2024-06-22T03:11:26.442Z"
   },
   {
    "duration": 4,
    "start_time": "2024-06-22T03:11:26.450Z"
   },
   {
    "duration": 4,
    "start_time": "2024-06-22T03:11:26.506Z"
   },
   {
    "duration": 3,
    "start_time": "2024-06-22T03:11:26.513Z"
   },
   {
    "duration": 4,
    "start_time": "2024-06-22T03:11:26.520Z"
   },
   {
    "duration": 4,
    "start_time": "2024-06-22T03:11:26.527Z"
   },
   {
    "duration": 4,
    "start_time": "2024-06-22T03:11:26.535Z"
   },
   {
    "duration": 4,
    "start_time": "2024-06-22T03:11:26.543Z"
   },
   {
    "duration": 55,
    "start_time": "2024-06-22T03:11:26.551Z"
   },
   {
    "duration": 4,
    "start_time": "2024-06-22T03:11:26.610Z"
   },
   {
    "duration": 5,
    "start_time": "2024-06-22T03:11:26.617Z"
   },
   {
    "duration": 4,
    "start_time": "2024-06-22T03:11:26.625Z"
   },
   {
    "duration": 4,
    "start_time": "2024-06-22T03:11:26.632Z"
   },
   {
    "duration": 4,
    "start_time": "2024-06-22T03:11:26.639Z"
   },
   {
    "duration": 4,
    "start_time": "2024-06-22T03:11:26.647Z"
   },
   {
    "duration": 35,
    "start_time": "2024-06-22T03:11:44.274Z"
   },
   {
    "duration": 918,
    "start_time": "2024-06-22T03:12:10.237Z"
   },
   {
    "duration": 277,
    "start_time": "2024-06-22T03:12:11.159Z"
   },
   {
    "duration": 19,
    "start_time": "2024-06-22T03:12:11.439Z"
   },
   {
    "duration": 12,
    "start_time": "2024-06-22T03:12:11.461Z"
   },
   {
    "duration": 47,
    "start_time": "2024-06-22T03:12:11.478Z"
   },
   {
    "duration": 17,
    "start_time": "2024-06-22T03:12:11.528Z"
   },
   {
    "duration": 15,
    "start_time": "2024-06-22T03:12:11.548Z"
   },
   {
    "duration": 42,
    "start_time": "2024-06-22T03:12:11.567Z"
   },
   {
    "duration": 3,
    "start_time": "2024-06-22T03:12:11.612Z"
   },
   {
    "duration": 4,
    "start_time": "2024-06-22T03:12:11.619Z"
   },
   {
    "duration": 3,
    "start_time": "2024-06-22T03:12:11.627Z"
   },
   {
    "duration": 5,
    "start_time": "2024-06-22T03:12:11.633Z"
   },
   {
    "duration": 4,
    "start_time": "2024-06-22T03:12:11.642Z"
   },
   {
    "duration": 53,
    "start_time": "2024-06-22T03:12:11.654Z"
   },
   {
    "duration": 3,
    "start_time": "2024-06-22T03:12:11.710Z"
   },
   {
    "duration": 4,
    "start_time": "2024-06-22T03:12:11.716Z"
   },
   {
    "duration": 3,
    "start_time": "2024-06-22T03:12:11.723Z"
   },
   {
    "duration": 3,
    "start_time": "2024-06-22T03:12:11.730Z"
   },
   {
    "duration": 4,
    "start_time": "2024-06-22T03:12:11.736Z"
   },
   {
    "duration": 3,
    "start_time": "2024-06-22T03:12:11.743Z"
   },
   {
    "duration": 57,
    "start_time": "2024-06-22T03:12:11.750Z"
   },
   {
    "duration": 3,
    "start_time": "2024-06-22T03:12:11.810Z"
   },
   {
    "duration": 4,
    "start_time": "2024-06-22T03:12:11.817Z"
   },
   {
    "duration": 3,
    "start_time": "2024-06-22T03:12:11.824Z"
   },
   {
    "duration": 4,
    "start_time": "2024-06-22T03:12:11.830Z"
   },
   {
    "duration": 4,
    "start_time": "2024-06-22T03:12:11.837Z"
   },
   {
    "duration": 4,
    "start_time": "2024-06-22T03:12:11.844Z"
   },
   {
    "duration": 57,
    "start_time": "2024-06-22T03:12:11.852Z"
   },
   {
    "duration": 3,
    "start_time": "2024-06-22T03:12:11.912Z"
   },
   {
    "duration": 3,
    "start_time": "2024-06-22T03:12:11.919Z"
   },
   {
    "duration": 8,
    "start_time": "2024-06-22T03:13:40.199Z"
   },
   {
    "duration": 9,
    "start_time": "2024-06-22T03:13:48.111Z"
   },
   {
    "duration": 9,
    "start_time": "2024-06-22T03:14:01.977Z"
   },
   {
    "duration": 6,
    "start_time": "2024-06-22T03:14:07.224Z"
   },
   {
    "duration": 10,
    "start_time": "2024-06-22T03:21:20.224Z"
   },
   {
    "duration": 7,
    "start_time": "2024-06-22T03:21:47.787Z"
   },
   {
    "duration": 8,
    "start_time": "2024-06-22T03:22:45.340Z"
   },
   {
    "duration": 202,
    "start_time": "2024-06-22T03:23:18.988Z"
   },
   {
    "duration": 6,
    "start_time": "2024-06-22T03:23:22.375Z"
   },
   {
    "duration": 7,
    "start_time": "2024-06-22T03:23:30.916Z"
   },
   {
    "duration": 11,
    "start_time": "2024-06-22T03:23:51.999Z"
   },
   {
    "duration": 11,
    "start_time": "2024-06-22T03:24:26.274Z"
   },
   {
    "duration": 271,
    "start_time": "2024-06-22T03:32:42.423Z"
   },
   {
    "duration": 864,
    "start_time": "2024-06-22T03:32:52.875Z"
   },
   {
    "duration": 291,
    "start_time": "2024-06-22T03:32:53.743Z"
   },
   {
    "duration": 16,
    "start_time": "2024-06-22T03:32:54.036Z"
   },
   {
    "duration": 10,
    "start_time": "2024-06-22T03:32:54.055Z"
   },
   {
    "duration": 47,
    "start_time": "2024-06-22T03:32:54.070Z"
   },
   {
    "duration": 15,
    "start_time": "2024-06-22T03:32:54.120Z"
   },
   {
    "duration": 15,
    "start_time": "2024-06-22T03:32:54.138Z"
   },
   {
    "duration": 49,
    "start_time": "2024-06-22T03:32:54.157Z"
   },
   {
    "duration": 5,
    "start_time": "2024-06-22T03:32:54.208Z"
   },
   {
    "duration": 24,
    "start_time": "2024-06-22T03:32:54.216Z"
   },
   {
    "duration": 4,
    "start_time": "2024-06-22T03:32:54.243Z"
   },
   {
    "duration": 3,
    "start_time": "2024-06-22T03:32:54.250Z"
   },
   {
    "duration": 4,
    "start_time": "2024-06-22T03:32:54.256Z"
   },
   {
    "duration": 4,
    "start_time": "2024-06-22T03:32:54.310Z"
   },
   {
    "duration": 4,
    "start_time": "2024-06-22T03:32:54.317Z"
   },
   {
    "duration": 4,
    "start_time": "2024-06-22T03:32:54.324Z"
   },
   {
    "duration": 4,
    "start_time": "2024-06-22T03:32:54.331Z"
   },
   {
    "duration": 3,
    "start_time": "2024-06-22T03:32:54.338Z"
   },
   {
    "duration": 3,
    "start_time": "2024-06-22T03:32:54.344Z"
   },
   {
    "duration": 3,
    "start_time": "2024-06-22T03:32:54.350Z"
   },
   {
    "duration": 51,
    "start_time": "2024-06-22T03:32:54.356Z"
   },
   {
    "duration": 4,
    "start_time": "2024-06-22T03:32:54.411Z"
   },
   {
    "duration": 3,
    "start_time": "2024-06-22T03:32:54.418Z"
   },
   {
    "duration": 3,
    "start_time": "2024-06-22T03:32:54.425Z"
   },
   {
    "duration": 3,
    "start_time": "2024-06-22T03:32:54.432Z"
   },
   {
    "duration": 4,
    "start_time": "2024-06-22T03:32:54.439Z"
   },
   {
    "duration": 62,
    "start_time": "2024-06-22T03:32:54.446Z"
   },
   {
    "duration": 13,
    "start_time": "2024-06-22T03:32:54.510Z"
   },
   {
    "duration": 20,
    "start_time": "2024-06-22T03:32:54.525Z"
   },
   {
    "duration": 4,
    "start_time": "2024-06-22T03:32:54.548Z"
   },
   {
    "duration": 4,
    "start_time": "2024-06-22T03:32:54.555Z"
   },
   {
    "duration": 3,
    "start_time": "2024-06-22T03:32:54.562Z"
   },
   {
    "duration": 3,
    "start_time": "2024-06-22T03:32:54.569Z"
   },
   {
    "duration": 18,
    "start_time": "2024-06-22T03:33:31.711Z"
   },
   {
    "duration": 955,
    "start_time": "2024-06-22T12:02:04.696Z"
   },
   {
    "duration": 369,
    "start_time": "2024-06-22T12:02:05.655Z"
   },
   {
    "duration": 18,
    "start_time": "2024-06-22T12:02:06.027Z"
   },
   {
    "duration": 9,
    "start_time": "2024-06-22T12:02:06.050Z"
   },
   {
    "duration": 47,
    "start_time": "2024-06-22T12:02:06.062Z"
   },
   {
    "duration": 14,
    "start_time": "2024-06-22T12:02:06.112Z"
   },
   {
    "duration": 16,
    "start_time": "2024-06-22T12:02:06.129Z"
   },
   {
    "duration": 11,
    "start_time": "2024-06-22T12:02:06.148Z"
   },
   {
    "duration": 44,
    "start_time": "2024-06-22T12:02:06.162Z"
   },
   {
    "duration": 20,
    "start_time": "2024-06-22T12:02:06.213Z"
   },
   {
    "duration": 4,
    "start_time": "2024-06-22T12:02:06.235Z"
   },
   {
    "duration": 3,
    "start_time": "2024-06-22T12:02:06.242Z"
   },
   {
    "duration": 4,
    "start_time": "2024-06-22T12:02:06.248Z"
   },
   {
    "duration": 3,
    "start_time": "2024-06-22T12:02:06.255Z"
   },
   {
    "duration": 50,
    "start_time": "2024-06-22T12:02:06.261Z"
   },
   {
    "duration": 4,
    "start_time": "2024-06-22T12:02:06.315Z"
   },
   {
    "duration": 3,
    "start_time": "2024-06-22T12:02:06.323Z"
   },
   {
    "duration": 4,
    "start_time": "2024-06-22T12:02:06.329Z"
   },
   {
    "duration": 4,
    "start_time": "2024-06-22T12:02:06.336Z"
   },
   {
    "duration": 5,
    "start_time": "2024-06-22T12:02:06.343Z"
   },
   {
    "duration": 57,
    "start_time": "2024-06-22T12:02:06.351Z"
   },
   {
    "duration": 3,
    "start_time": "2024-06-22T12:02:06.412Z"
   },
   {
    "duration": 4,
    "start_time": "2024-06-22T12:02:06.418Z"
   },
   {
    "duration": 4,
    "start_time": "2024-06-22T12:02:06.424Z"
   },
   {
    "duration": 4,
    "start_time": "2024-06-22T12:02:06.431Z"
   },
   {
    "duration": 3,
    "start_time": "2024-06-22T12:02:06.439Z"
   },
   {
    "duration": 3,
    "start_time": "2024-06-22T12:02:06.445Z"
   },
   {
    "duration": 8,
    "start_time": "2024-06-22T12:02:06.510Z"
   },
   {
    "duration": 4,
    "start_time": "2024-06-22T12:02:06.521Z"
   },
   {
    "duration": 4,
    "start_time": "2024-06-22T12:02:06.529Z"
   },
   {
    "duration": 3,
    "start_time": "2024-06-22T12:02:06.536Z"
   },
   {
    "duration": 4,
    "start_time": "2024-06-22T12:02:06.542Z"
   },
   {
    "duration": 3,
    "start_time": "2024-06-22T12:02:06.549Z"
   },
   {
    "duration": 10,
    "start_time": "2024-06-22T12:02:31.318Z"
   },
   {
    "duration": 14,
    "start_time": "2024-06-22T12:07:24.605Z"
   },
   {
    "duration": 18,
    "start_time": "2024-06-22T12:07:30.767Z"
   },
   {
    "duration": 13,
    "start_time": "2024-06-22T12:07:37.155Z"
   },
   {
    "duration": 935,
    "start_time": "2024-06-22T12:25:14.742Z"
   },
   {
    "duration": 959,
    "start_time": "2024-06-22T12:27:18.204Z"
   },
   {
    "duration": 284,
    "start_time": "2024-06-22T12:27:19.167Z"
   },
   {
    "duration": 21,
    "start_time": "2024-06-22T12:27:19.454Z"
   },
   {
    "duration": 26,
    "start_time": "2024-06-22T12:27:19.481Z"
   },
   {
    "duration": 27,
    "start_time": "2024-06-22T12:27:19.510Z"
   },
   {
    "duration": 16,
    "start_time": "2024-06-22T12:27:19.539Z"
   },
   {
    "duration": 16,
    "start_time": "2024-06-22T12:27:19.558Z"
   },
   {
    "duration": 8,
    "start_time": "2024-06-22T12:27:19.608Z"
   },
   {
    "duration": 12,
    "start_time": "2024-06-22T12:27:19.619Z"
   },
   {
    "duration": 4,
    "start_time": "2024-06-22T12:27:19.637Z"
   },
   {
    "duration": 20,
    "start_time": "2024-06-22T12:27:19.644Z"
   },
   {
    "duration": 70,
    "start_time": "2024-06-22T12:27:19.666Z"
   },
   {
    "duration": 4,
    "start_time": "2024-06-22T12:27:19.738Z"
   },
   {
    "duration": 4,
    "start_time": "2024-06-22T12:27:19.745Z"
   },
   {
    "duration": 3,
    "start_time": "2024-06-22T12:27:19.752Z"
   },
   {
    "duration": 3,
    "start_time": "2024-06-22T12:27:19.758Z"
   },
   {
    "duration": 3,
    "start_time": "2024-06-22T12:27:19.807Z"
   },
   {
    "duration": 3,
    "start_time": "2024-06-22T12:27:19.814Z"
   },
   {
    "duration": 6,
    "start_time": "2024-06-22T12:27:19.820Z"
   },
   {
    "duration": 4,
    "start_time": "2024-06-22T12:27:19.830Z"
   },
   {
    "duration": 6,
    "start_time": "2024-06-22T12:27:19.837Z"
   },
   {
    "duration": 3,
    "start_time": "2024-06-22T12:27:19.846Z"
   },
   {
    "duration": 4,
    "start_time": "2024-06-22T12:27:19.852Z"
   },
   {
    "duration": 3,
    "start_time": "2024-06-22T12:27:19.906Z"
   },
   {
    "duration": 7,
    "start_time": "2024-06-22T12:27:19.912Z"
   },
   {
    "duration": 3,
    "start_time": "2024-06-22T12:27:19.922Z"
   },
   {
    "duration": 3,
    "start_time": "2024-06-22T12:27:19.929Z"
   },
   {
    "duration": 4,
    "start_time": "2024-06-22T12:27:19.939Z"
   },
   {
    "duration": 4,
    "start_time": "2024-06-22T12:27:19.945Z"
   },
   {
    "duration": 3,
    "start_time": "2024-06-22T12:27:19.952Z"
   },
   {
    "duration": 4,
    "start_time": "2024-06-22T12:27:20.006Z"
   },
   {
    "duration": 5,
    "start_time": "2024-06-22T12:27:20.013Z"
   },
   {
    "duration": 3,
    "start_time": "2024-06-22T12:27:20.022Z"
   },
   {
    "duration": 5,
    "start_time": "2024-06-22T12:27:20.028Z"
   },
   {
    "duration": 4,
    "start_time": "2024-06-22T12:27:20.036Z"
   },
   {
    "duration": 929,
    "start_time": "2024-06-22T12:28:28.117Z"
   },
   {
    "duration": 279,
    "start_time": "2024-06-22T12:28:29.051Z"
   },
   {
    "duration": 17,
    "start_time": "2024-06-22T12:28:29.333Z"
   },
   {
    "duration": 10,
    "start_time": "2024-06-22T12:28:29.356Z"
   },
   {
    "duration": 54,
    "start_time": "2024-06-22T12:28:29.369Z"
   },
   {
    "duration": 15,
    "start_time": "2024-06-22T12:28:29.426Z"
   },
   {
    "duration": 14,
    "start_time": "2024-06-22T12:28:29.444Z"
   },
   {
    "duration": 10,
    "start_time": "2024-06-22T12:28:29.461Z"
   },
   {
    "duration": 12,
    "start_time": "2024-06-22T12:28:29.507Z"
   },
   {
    "duration": 5,
    "start_time": "2024-06-22T12:28:29.525Z"
   },
   {
    "duration": 21,
    "start_time": "2024-06-22T12:28:29.534Z"
   },
   {
    "duration": 82,
    "start_time": "2024-06-22T12:28:29.557Z"
   },
   {
    "duration": 3,
    "start_time": "2024-06-22T12:28:29.642Z"
   },
   {
    "duration": 4,
    "start_time": "2024-06-22T12:28:29.648Z"
   },
   {
    "duration": 3,
    "start_time": "2024-06-22T12:28:29.655Z"
   },
   {
    "duration": 4,
    "start_time": "2024-06-22T12:28:29.661Z"
   },
   {
    "duration": 3,
    "start_time": "2024-06-22T12:28:29.708Z"
   },
   {
    "duration": 7,
    "start_time": "2024-06-22T12:28:29.715Z"
   },
   {
    "duration": 3,
    "start_time": "2024-06-22T12:28:29.725Z"
   },
   {
    "duration": 3,
    "start_time": "2024-06-22T12:28:29.732Z"
   },
   {
    "duration": 3,
    "start_time": "2024-06-22T12:28:29.739Z"
   },
   {
    "duration": 3,
    "start_time": "2024-06-22T12:28:29.745Z"
   },
   {
    "duration": 5,
    "start_time": "2024-06-22T12:28:29.751Z"
   },
   {
    "duration": 50,
    "start_time": "2024-06-22T12:28:29.758Z"
   },
   {
    "duration": 4,
    "start_time": "2024-06-22T12:28:29.811Z"
   },
   {
    "duration": 4,
    "start_time": "2024-06-22T12:28:29.818Z"
   },
   {
    "duration": 3,
    "start_time": "2024-06-22T12:28:29.825Z"
   },
   {
    "duration": 3,
    "start_time": "2024-06-22T12:28:29.836Z"
   },
   {
    "duration": 3,
    "start_time": "2024-06-22T12:28:29.843Z"
   },
   {
    "duration": 4,
    "start_time": "2024-06-22T12:28:29.905Z"
   },
   {
    "duration": 4,
    "start_time": "2024-06-22T12:28:29.911Z"
   },
   {
    "duration": 4,
    "start_time": "2024-06-22T12:28:29.918Z"
   },
   {
    "duration": 3,
    "start_time": "2024-06-22T12:28:29.925Z"
   },
   {
    "duration": 3,
    "start_time": "2024-06-22T12:28:29.932Z"
   },
   {
    "duration": 3,
    "start_time": "2024-06-22T12:28:29.938Z"
   },
   {
    "duration": 20,
    "start_time": "2024-06-22T12:30:47.029Z"
   },
   {
    "duration": 13,
    "start_time": "2024-06-22T12:35:54.170Z"
   },
   {
    "duration": 31,
    "start_time": "2024-06-22T12:36:04.192Z"
   },
   {
    "duration": 900,
    "start_time": "2024-06-22T12:44:42.418Z"
   },
   {
    "duration": 283,
    "start_time": "2024-06-22T12:44:43.321Z"
   },
   {
    "duration": 16,
    "start_time": "2024-06-22T12:44:43.607Z"
   },
   {
    "duration": 10,
    "start_time": "2024-06-22T12:44:43.626Z"
   },
   {
    "duration": 22,
    "start_time": "2024-06-22T12:44:43.640Z"
   },
   {
    "duration": 43,
    "start_time": "2024-06-22T12:44:43.665Z"
   },
   {
    "duration": 14,
    "start_time": "2024-06-22T12:44:43.711Z"
   },
   {
    "duration": 19,
    "start_time": "2024-06-22T12:44:43.728Z"
   },
   {
    "duration": 12,
    "start_time": "2024-06-22T12:44:43.749Z"
   },
   {
    "duration": 5,
    "start_time": "2024-06-22T12:44:43.807Z"
   },
   {
    "duration": 20,
    "start_time": "2024-06-22T12:44:43.815Z"
   },
   {
    "duration": 68,
    "start_time": "2024-06-22T12:44:43.838Z"
   },
   {
    "duration": 13,
    "start_time": "2024-06-22T12:44:43.909Z"
   },
   {
    "duration": 32,
    "start_time": "2024-06-22T12:44:43.929Z"
   },
   {
    "duration": 4,
    "start_time": "2024-06-22T12:44:43.964Z"
   },
   {
    "duration": 38,
    "start_time": "2024-06-22T12:44:43.970Z"
   },
   {
    "duration": 4,
    "start_time": "2024-06-22T12:44:44.011Z"
   },
   {
    "duration": 5,
    "start_time": "2024-06-22T12:44:44.018Z"
   },
   {
    "duration": 3,
    "start_time": "2024-06-22T12:44:44.026Z"
   },
   {
    "duration": 4,
    "start_time": "2024-06-22T12:44:44.032Z"
   },
   {
    "duration": 3,
    "start_time": "2024-06-22T12:44:44.039Z"
   },
   {
    "duration": 3,
    "start_time": "2024-06-22T12:44:44.045Z"
   },
   {
    "duration": 57,
    "start_time": "2024-06-22T12:44:44.051Z"
   },
   {
    "duration": 3,
    "start_time": "2024-06-22T12:44:44.111Z"
   },
   {
    "duration": 3,
    "start_time": "2024-06-22T12:44:44.118Z"
   },
   {
    "duration": 4,
    "start_time": "2024-06-22T12:44:44.124Z"
   },
   {
    "duration": 4,
    "start_time": "2024-06-22T12:44:44.131Z"
   },
   {
    "duration": 4,
    "start_time": "2024-06-22T12:44:44.137Z"
   },
   {
    "duration": 3,
    "start_time": "2024-06-22T12:44:44.145Z"
   },
   {
    "duration": 4,
    "start_time": "2024-06-22T12:44:44.206Z"
   },
   {
    "duration": 3,
    "start_time": "2024-06-22T12:44:44.213Z"
   },
   {
    "duration": 3,
    "start_time": "2024-06-22T12:44:44.219Z"
   },
   {
    "duration": 4,
    "start_time": "2024-06-22T12:44:44.225Z"
   },
   {
    "duration": 4,
    "start_time": "2024-06-22T12:44:44.232Z"
   },
   {
    "duration": 4,
    "start_time": "2024-06-22T12:44:44.239Z"
   },
   {
    "duration": 3,
    "start_time": "2024-06-22T12:44:44.246Z"
   },
   {
    "duration": 25,
    "start_time": "2024-06-22T13:14:48.431Z"
   },
   {
    "duration": 15,
    "start_time": "2024-06-22T13:15:00.767Z"
   },
   {
    "duration": 12,
    "start_time": "2024-06-22T13:37:51.415Z"
   },
   {
    "duration": 24,
    "start_time": "2024-06-22T14:11:46.156Z"
   },
   {
    "duration": 13,
    "start_time": "2024-06-22T14:12:02.157Z"
   },
   {
    "duration": 36,
    "start_time": "2024-06-22T14:12:59.190Z"
   },
   {
    "duration": 17,
    "start_time": "2024-06-22T14:13:11.456Z"
   },
   {
    "duration": 1116,
    "start_time": "2024-06-22T14:20:05.442Z"
   },
   {
    "duration": 948,
    "start_time": "2024-06-22T14:20:54.199Z"
   },
   {
    "duration": 277,
    "start_time": "2024-06-22T14:20:55.150Z"
   },
   {
    "duration": 19,
    "start_time": "2024-06-22T14:20:55.430Z"
   },
   {
    "duration": 10,
    "start_time": "2024-06-22T14:20:55.454Z"
   },
   {
    "duration": 49,
    "start_time": "2024-06-22T14:20:55.470Z"
   },
   {
    "duration": 14,
    "start_time": "2024-06-22T14:20:55.523Z"
   },
   {
    "duration": 15,
    "start_time": "2024-06-22T14:20:55.540Z"
   },
   {
    "duration": 58,
    "start_time": "2024-06-22T14:20:55.558Z"
   },
   {
    "duration": 11,
    "start_time": "2024-06-22T14:20:55.619Z"
   },
   {
    "duration": 4,
    "start_time": "2024-06-22T14:20:55.636Z"
   },
   {
    "duration": 21,
    "start_time": "2024-06-22T14:20:55.643Z"
   },
   {
    "duration": 40,
    "start_time": "2024-06-22T14:20:55.708Z"
   },
   {
    "duration": 13,
    "start_time": "2024-06-22T14:20:55.751Z"
   },
   {
    "duration": 61,
    "start_time": "2024-06-22T14:20:55.766Z"
   },
   {
    "duration": 25,
    "start_time": "2024-06-22T14:20:55.830Z"
   },
   {
    "duration": 16,
    "start_time": "2024-06-22T14:20:55.858Z"
   },
   {
    "duration": 30,
    "start_time": "2024-06-22T14:20:55.908Z"
   },
   {
    "duration": 38,
    "start_time": "2024-06-22T14:20:55.941Z"
   },
   {
    "duration": 23,
    "start_time": "2024-06-22T14:20:56.005Z"
   },
   {
    "duration": 15,
    "start_time": "2024-06-22T14:20:56.031Z"
   },
   {
    "duration": 19,
    "start_time": "2024-06-22T14:20:56.050Z"
   },
   {
    "duration": 56,
    "start_time": "2024-06-22T14:20:56.071Z"
   },
   {
    "duration": 23,
    "start_time": "2024-06-22T14:20:56.129Z"
   },
   {
    "duration": 15,
    "start_time": "2024-06-22T14:20:56.155Z"
   },
   {
    "duration": 24,
    "start_time": "2024-06-22T14:20:56.205Z"
   },
   {
    "duration": 29,
    "start_time": "2024-06-22T14:20:56.231Z"
   },
   {
    "duration": 13,
    "start_time": "2024-06-22T14:20:56.263Z"
   },
   {
    "duration": 38,
    "start_time": "2024-06-22T14:20:56.312Z"
   },
   {
    "duration": 4,
    "start_time": "2024-06-22T14:20:56.352Z"
   },
   {
    "duration": 4,
    "start_time": "2024-06-22T14:20:56.358Z"
   },
   {
    "duration": 4,
    "start_time": "2024-06-22T14:20:56.366Z"
   },
   {
    "duration": 3,
    "start_time": "2024-06-22T14:20:56.408Z"
   },
   {
    "duration": 3,
    "start_time": "2024-06-22T14:20:56.414Z"
   },
   {
    "duration": 3,
    "start_time": "2024-06-22T14:20:56.421Z"
   },
   {
    "duration": 4,
    "start_time": "2024-06-22T14:20:56.428Z"
   },
   {
    "duration": 3,
    "start_time": "2024-06-22T14:20:56.436Z"
   },
   {
    "duration": 3,
    "start_time": "2024-06-22T14:20:56.442Z"
   },
   {
    "duration": 58,
    "start_time": "2024-06-22T14:20:56.448Z"
   },
   {
    "duration": 4,
    "start_time": "2024-06-22T14:20:56.509Z"
   },
   {
    "duration": 3,
    "start_time": "2024-06-22T14:20:56.516Z"
   },
   {
    "duration": 4,
    "start_time": "2024-06-22T14:20:56.523Z"
   },
   {
    "duration": 4,
    "start_time": "2024-06-22T14:20:56.531Z"
   },
   {
    "duration": 23,
    "start_time": "2024-06-22T14:22:39.100Z"
   },
   {
    "duration": 881,
    "start_time": "2024-06-22T14:22:45.769Z"
   },
   {
    "duration": 279,
    "start_time": "2024-06-22T14:22:46.653Z"
   },
   {
    "duration": 18,
    "start_time": "2024-06-22T14:22:46.935Z"
   },
   {
    "duration": 13,
    "start_time": "2024-06-22T14:22:46.962Z"
   },
   {
    "duration": 46,
    "start_time": "2024-06-22T14:22:46.979Z"
   },
   {
    "duration": 16,
    "start_time": "2024-06-22T14:22:47.028Z"
   },
   {
    "duration": 18,
    "start_time": "2024-06-22T14:22:47.048Z"
   },
   {
    "duration": 47,
    "start_time": "2024-06-22T14:22:47.069Z"
   },
   {
    "duration": 10,
    "start_time": "2024-06-22T14:22:47.120Z"
   },
   {
    "duration": 4,
    "start_time": "2024-06-22T14:22:47.136Z"
   },
   {
    "duration": 21,
    "start_time": "2024-06-22T14:22:47.144Z"
   },
   {
    "duration": 40,
    "start_time": "2024-06-22T14:22:47.208Z"
   },
   {
    "duration": 13,
    "start_time": "2024-06-22T14:22:47.251Z"
   },
   {
    "duration": 67,
    "start_time": "2024-06-22T14:22:47.267Z"
   },
   {
    "duration": 23,
    "start_time": "2024-06-22T14:22:47.337Z"
   },
   {
    "duration": 45,
    "start_time": "2024-06-22T14:22:47.363Z"
   },
   {
    "duration": 30,
    "start_time": "2024-06-22T14:22:47.411Z"
   },
   {
    "duration": 38,
    "start_time": "2024-06-22T14:22:47.444Z"
   },
   {
    "duration": 20,
    "start_time": "2024-06-22T14:22:47.507Z"
   },
   {
    "duration": 13,
    "start_time": "2024-06-22T14:22:47.530Z"
   },
   {
    "duration": 19,
    "start_time": "2024-06-22T14:22:47.545Z"
   },
   {
    "duration": 55,
    "start_time": "2024-06-22T14:22:47.567Z"
   },
   {
    "duration": 23,
    "start_time": "2024-06-22T14:22:47.625Z"
   },
   {
    "duration": 15,
    "start_time": "2024-06-22T14:22:47.650Z"
   },
   {
    "duration": 56,
    "start_time": "2024-06-22T14:22:47.667Z"
   },
   {
    "duration": 29,
    "start_time": "2024-06-22T14:22:47.726Z"
   },
   {
    "duration": 12,
    "start_time": "2024-06-22T14:22:47.758Z"
   },
   {
    "duration": 22,
    "start_time": "2024-06-22T14:22:47.805Z"
   },
   {
    "duration": 39,
    "start_time": "2024-06-22T14:22:47.830Z"
   },
   {
    "duration": 4,
    "start_time": "2024-06-22T14:22:47.871Z"
   },
   {
    "duration": 5,
    "start_time": "2024-06-22T14:22:47.910Z"
   },
   {
    "duration": 4,
    "start_time": "2024-06-22T14:22:47.918Z"
   },
   {
    "duration": 4,
    "start_time": "2024-06-22T14:22:47.926Z"
   },
   {
    "duration": 4,
    "start_time": "2024-06-22T14:22:47.933Z"
   },
   {
    "duration": 4,
    "start_time": "2024-06-22T14:22:47.941Z"
   },
   {
    "duration": 11,
    "start_time": "2024-06-22T14:22:47.948Z"
   },
   {
    "duration": 45,
    "start_time": "2024-06-22T14:22:47.962Z"
   },
   {
    "duration": 4,
    "start_time": "2024-06-22T14:22:48.011Z"
   },
   {
    "duration": 3,
    "start_time": "2024-06-22T14:22:48.019Z"
   },
   {
    "duration": 4,
    "start_time": "2024-06-22T14:22:48.026Z"
   },
   {
    "duration": 4,
    "start_time": "2024-06-22T14:22:48.033Z"
   },
   {
    "duration": 3,
    "start_time": "2024-06-22T14:22:48.041Z"
   },
   {
    "duration": 59,
    "start_time": "2024-06-22T14:22:48.047Z"
   },
   {
    "duration": 31,
    "start_time": "2024-06-22T14:24:01.799Z"
   },
   {
    "duration": 28,
    "start_time": "2024-06-22T14:24:20.061Z"
   },
   {
    "duration": 434,
    "start_time": "2024-06-22T14:42:38.921Z"
   },
   {
    "duration": 33,
    "start_time": "2024-06-22T14:43:04.259Z"
   },
   {
    "duration": 913,
    "start_time": "2024-06-22T14:44:52.221Z"
   },
   {
    "duration": 268,
    "start_time": "2024-06-22T14:44:53.138Z"
   },
   {
    "duration": 16,
    "start_time": "2024-06-22T14:44:53.409Z"
   },
   {
    "duration": 10,
    "start_time": "2024-06-22T14:44:53.428Z"
   },
   {
    "duration": 23,
    "start_time": "2024-06-22T14:44:53.442Z"
   },
   {
    "duration": 52,
    "start_time": "2024-06-22T14:44:53.468Z"
   },
   {
    "duration": 16,
    "start_time": "2024-06-22T14:44:53.523Z"
   },
   {
    "duration": 18,
    "start_time": "2024-06-22T14:44:53.542Z"
   },
   {
    "duration": 47,
    "start_time": "2024-06-22T14:44:53.563Z"
   },
   {
    "duration": 5,
    "start_time": "2024-06-22T14:44:53.613Z"
   },
   {
    "duration": 20,
    "start_time": "2024-06-22T14:44:53.621Z"
   },
   {
    "duration": 76,
    "start_time": "2024-06-22T14:44:53.644Z"
   },
   {
    "duration": 13,
    "start_time": "2024-06-22T14:44:53.723Z"
   },
   {
    "duration": 33,
    "start_time": "2024-06-22T14:44:53.743Z"
   },
   {
    "duration": 53,
    "start_time": "2024-06-22T14:44:53.779Z"
   },
   {
    "duration": 19,
    "start_time": "2024-06-22T14:44:53.835Z"
   },
   {
    "duration": 64,
    "start_time": "2024-06-22T14:44:53.857Z"
   },
   {
    "duration": 38,
    "start_time": "2024-06-22T14:44:53.924Z"
   },
   {
    "duration": 43,
    "start_time": "2024-06-22T14:44:53.964Z"
   },
   {
    "duration": 12,
    "start_time": "2024-06-22T14:44:54.010Z"
   },
   {
    "duration": 19,
    "start_time": "2024-06-22T14:44:54.025Z"
   },
   {
    "duration": 23,
    "start_time": "2024-06-22T14:44:54.047Z"
   },
   {
    "duration": 23,
    "start_time": "2024-06-22T14:44:54.105Z"
   },
   {
    "duration": 14,
    "start_time": "2024-06-22T14:44:54.131Z"
   },
   {
    "duration": 23,
    "start_time": "2024-06-22T14:44:54.149Z"
   },
   {
    "duration": 29,
    "start_time": "2024-06-22T14:44:54.206Z"
   },
   {
    "duration": 13,
    "start_time": "2024-06-22T14:44:54.238Z"
   },
   {
    "duration": 21,
    "start_time": "2024-06-22T14:44:54.254Z"
   },
   {
    "duration": 38,
    "start_time": "2024-06-22T14:44:54.307Z"
   },
   {
    "duration": 3,
    "start_time": "2024-06-22T14:44:54.347Z"
   },
   {
    "duration": 56,
    "start_time": "2024-06-22T14:44:54.353Z"
   },
   {
    "duration": 28,
    "start_time": "2024-06-22T14:44:54.412Z"
   },
   {
    "duration": 32,
    "start_time": "2024-06-22T14:44:54.443Z"
   },
   {
    "duration": 29,
    "start_time": "2024-06-22T14:44:54.478Z"
   },
   {
    "duration": 4,
    "start_time": "2024-06-22T14:44:54.510Z"
   },
   {
    "duration": 3,
    "start_time": "2024-06-22T14:44:54.517Z"
   },
   {
    "duration": 3,
    "start_time": "2024-06-22T14:44:54.524Z"
   },
   {
    "duration": 4,
    "start_time": "2024-06-22T14:44:54.530Z"
   },
   {
    "duration": 3,
    "start_time": "2024-06-22T14:44:54.537Z"
   },
   {
    "duration": 3,
    "start_time": "2024-06-22T14:44:54.544Z"
   },
   {
    "duration": 3,
    "start_time": "2024-06-22T14:44:54.613Z"
   },
   {
    "duration": 4,
    "start_time": "2024-06-22T14:44:54.619Z"
   },
   {
    "duration": 3,
    "start_time": "2024-06-22T14:44:54.627Z"
   },
   {
    "duration": 429,
    "start_time": "2024-06-22T14:46:42.937Z"
   },
   {
    "duration": 44,
    "start_time": "2024-06-22T14:46:48.955Z"
   },
   {
    "duration": 11,
    "start_time": "2024-06-22T14:47:36.373Z"
   },
   {
    "duration": 59,
    "start_time": "2024-06-22T14:47:48.698Z"
   },
   {
    "duration": 31,
    "start_time": "2024-06-22T14:49:40.215Z"
   },
   {
    "duration": 933,
    "start_time": "2024-06-22T14:49:49.311Z"
   },
   {
    "duration": 272,
    "start_time": "2024-06-22T14:49:50.248Z"
   },
   {
    "duration": 16,
    "start_time": "2024-06-22T14:49:50.524Z"
   },
   {
    "duration": 14,
    "start_time": "2024-06-22T14:49:50.545Z"
   },
   {
    "duration": 49,
    "start_time": "2024-06-22T14:49:50.563Z"
   },
   {
    "duration": 15,
    "start_time": "2024-06-22T14:49:50.615Z"
   },
   {
    "duration": 15,
    "start_time": "2024-06-22T14:49:50.633Z"
   },
   {
    "duration": 60,
    "start_time": "2024-06-22T14:49:50.651Z"
   },
   {
    "duration": 11,
    "start_time": "2024-06-22T14:49:50.714Z"
   },
   {
    "duration": 5,
    "start_time": "2024-06-22T14:49:50.731Z"
   },
   {
    "duration": 19,
    "start_time": "2024-06-22T14:49:50.740Z"
   },
   {
    "duration": 76,
    "start_time": "2024-06-22T14:49:50.762Z"
   },
   {
    "duration": 13,
    "start_time": "2024-06-22T14:49:50.841Z"
   },
   {
    "duration": 60,
    "start_time": "2024-06-22T14:49:50.856Z"
   },
   {
    "duration": 25,
    "start_time": "2024-06-22T14:49:50.918Z"
   },
   {
    "duration": 16,
    "start_time": "2024-06-22T14:49:50.946Z"
   },
   {
    "duration": 59,
    "start_time": "2024-06-22T14:49:50.966Z"
   },
   {
    "duration": 41,
    "start_time": "2024-06-22T14:49:51.028Z"
   },
   {
    "duration": 43,
    "start_time": "2024-06-22T14:49:51.072Z"
   },
   {
    "duration": 14,
    "start_time": "2024-06-22T14:49:51.118Z"
   },
   {
    "duration": 19,
    "start_time": "2024-06-22T14:49:51.134Z"
   },
   {
    "duration": 55,
    "start_time": "2024-06-22T14:49:51.155Z"
   },
   {
    "duration": 23,
    "start_time": "2024-06-22T14:49:51.213Z"
   },
   {
    "duration": 15,
    "start_time": "2024-06-22T14:49:51.238Z"
   },
   {
    "duration": 56,
    "start_time": "2024-06-22T14:49:51.256Z"
   },
   {
    "duration": 29,
    "start_time": "2024-06-22T14:49:51.315Z"
   },
   {
    "duration": 13,
    "start_time": "2024-06-22T14:49:51.346Z"
   },
   {
    "duration": 49,
    "start_time": "2024-06-22T14:49:51.366Z"
   },
   {
    "duration": 38,
    "start_time": "2024-06-22T14:49:51.418Z"
   },
   {
    "duration": 3,
    "start_time": "2024-06-22T14:49:51.459Z"
   },
   {
    "duration": 60,
    "start_time": "2024-06-22T14:49:51.465Z"
   },
   {
    "duration": 28,
    "start_time": "2024-06-22T14:49:51.530Z"
   },
   {
    "duration": 54,
    "start_time": "2024-06-22T14:49:51.560Z"
   },
   {
    "duration": 47,
    "start_time": "2024-06-22T14:49:51.617Z"
   },
   {
    "duration": 4,
    "start_time": "2024-06-22T14:49:51.666Z"
   },
   {
    "duration": 3,
    "start_time": "2024-06-22T14:49:51.672Z"
   },
   {
    "duration": 4,
    "start_time": "2024-06-22T14:49:51.706Z"
   },
   {
    "duration": 6,
    "start_time": "2024-06-22T14:49:51.713Z"
   },
   {
    "duration": 3,
    "start_time": "2024-06-22T14:49:51.722Z"
   },
   {
    "duration": 4,
    "start_time": "2024-06-22T14:49:51.728Z"
   },
   {
    "duration": 4,
    "start_time": "2024-06-22T14:49:51.734Z"
   },
   {
    "duration": 4,
    "start_time": "2024-06-22T14:49:51.741Z"
   },
   {
    "duration": 59,
    "start_time": "2024-06-22T14:49:51.748Z"
   },
   {
    "duration": 55,
    "start_time": "2024-06-22T14:51:04.889Z"
   },
   {
    "duration": 9,
    "start_time": "2024-06-22T14:52:59.319Z"
   },
   {
    "duration": 29,
    "start_time": "2024-06-22T14:53:34.237Z"
   },
   {
    "duration": 5,
    "start_time": "2024-06-22T14:54:04.518Z"
   },
   {
    "duration": 52,
    "start_time": "2024-06-22T14:54:20.845Z"
   },
   {
    "duration": 9,
    "start_time": "2024-06-22T14:55:29.470Z"
   },
   {
    "duration": 8,
    "start_time": "2024-06-22T14:57:04.677Z"
   },
   {
    "duration": 50,
    "start_time": "2024-06-22T14:57:21.719Z"
   },
   {
    "duration": 6,
    "start_time": "2024-06-22T14:58:10.772Z"
   },
   {
    "duration": 6,
    "start_time": "2024-06-22T14:58:20.881Z"
   },
   {
    "duration": 49,
    "start_time": "2024-06-22T14:58:37.212Z"
   },
   {
    "duration": 8,
    "start_time": "2024-06-22T14:59:24.271Z"
   },
   {
    "duration": 1272,
    "start_time": "2024-06-22T14:59:50.830Z"
   },
   {
    "duration": 39,
    "start_time": "2024-06-22T15:00:00.647Z"
   },
   {
    "duration": 21,
    "start_time": "2024-06-22T15:00:33.627Z"
   },
   {
    "duration": 62,
    "start_time": "2024-06-22T15:00:42.407Z"
   },
   {
    "duration": 66,
    "start_time": "2024-06-22T15:01:56.640Z"
   },
   {
    "duration": 30,
    "start_time": "2024-06-22T15:02:09.321Z"
   },
   {
    "duration": 52,
    "start_time": "2024-06-22T15:02:15.956Z"
   },
   {
    "duration": 59,
    "start_time": "2024-06-22T15:02:23.964Z"
   },
   {
    "duration": 880,
    "start_time": "2024-06-22T15:02:39.770Z"
   },
   {
    "duration": 270,
    "start_time": "2024-06-22T15:02:40.654Z"
   },
   {
    "duration": 16,
    "start_time": "2024-06-22T15:02:40.927Z"
   },
   {
    "duration": 9,
    "start_time": "2024-06-22T15:02:40.948Z"
   },
   {
    "duration": 51,
    "start_time": "2024-06-22T15:02:40.960Z"
   },
   {
    "duration": 15,
    "start_time": "2024-06-22T15:02:41.014Z"
   },
   {
    "duration": 14,
    "start_time": "2024-06-22T15:02:41.032Z"
   },
   {
    "duration": 19,
    "start_time": "2024-06-22T15:02:41.049Z"
   },
   {
    "duration": 11,
    "start_time": "2024-06-22T15:02:41.108Z"
   },
   {
    "duration": 5,
    "start_time": "2024-06-22T15:02:41.125Z"
   },
   {
    "duration": 20,
    "start_time": "2024-06-22T15:02:41.133Z"
   },
   {
    "duration": 78,
    "start_time": "2024-06-22T15:02:41.156Z"
   },
   {
    "duration": 14,
    "start_time": "2024-06-22T15:02:41.238Z"
   },
   {
    "duration": 64,
    "start_time": "2024-06-22T15:02:41.255Z"
   },
   {
    "duration": 27,
    "start_time": "2024-06-22T15:02:41.327Z"
   },
   {
    "duration": 20,
    "start_time": "2024-06-22T15:02:41.357Z"
   },
   {
    "duration": 30,
    "start_time": "2024-06-22T15:02:41.407Z"
   },
   {
    "duration": 39,
    "start_time": "2024-06-22T15:02:41.440Z"
   },
   {
    "duration": 19,
    "start_time": "2024-06-22T15:02:41.506Z"
   },
   {
    "duration": 13,
    "start_time": "2024-06-22T15:02:41.528Z"
   },
   {
    "duration": 19,
    "start_time": "2024-06-22T15:02:41.544Z"
   },
   {
    "duration": 55,
    "start_time": "2024-06-22T15:02:41.566Z"
   },
   {
    "duration": 23,
    "start_time": "2024-06-22T15:02:41.624Z"
   },
   {
    "duration": 14,
    "start_time": "2024-06-22T15:02:41.650Z"
   },
   {
    "duration": 54,
    "start_time": "2024-06-22T15:02:41.667Z"
   },
   {
    "duration": 29,
    "start_time": "2024-06-22T15:02:41.724Z"
   },
   {
    "duration": 12,
    "start_time": "2024-06-22T15:02:41.756Z"
   },
   {
    "duration": 46,
    "start_time": "2024-06-22T15:02:41.775Z"
   },
   {
    "duration": 37,
    "start_time": "2024-06-22T15:02:41.824Z"
   },
   {
    "duration": 4,
    "start_time": "2024-06-22T15:02:41.863Z"
   },
   {
    "duration": 25,
    "start_time": "2024-06-22T15:02:41.905Z"
   },
   {
    "duration": 27,
    "start_time": "2024-06-22T15:02:41.934Z"
   },
   {
    "duration": 63,
    "start_time": "2024-06-22T15:02:41.964Z"
   },
   {
    "duration": 102,
    "start_time": "2024-06-22T15:02:42.030Z"
   },
   {
    "duration": 74,
    "start_time": "2024-06-22T15:02:42.134Z"
   },
   {
    "duration": 3,
    "start_time": "2024-06-22T15:02:42.211Z"
   },
   {
    "duration": 6,
    "start_time": "2024-06-22T15:02:42.219Z"
   },
   {
    "duration": 4,
    "start_time": "2024-06-22T15:02:42.228Z"
   },
   {
    "duration": 3,
    "start_time": "2024-06-22T15:02:42.235Z"
   },
   {
    "duration": 3,
    "start_time": "2024-06-22T15:02:42.241Z"
   },
   {
    "duration": 3,
    "start_time": "2024-06-22T15:02:42.247Z"
   },
   {
    "duration": 56,
    "start_time": "2024-06-22T15:02:42.253Z"
   },
   {
    "duration": 2,
    "start_time": "2024-06-22T15:02:42.314Z"
   },
   {
    "duration": 3,
    "start_time": "2024-06-22T15:02:42.319Z"
   },
   {
    "duration": 50,
    "start_time": "2024-06-22T15:05:02.923Z"
   },
   {
    "duration": 48,
    "start_time": "2024-06-22T15:05:09.799Z"
   },
   {
    "duration": 50,
    "start_time": "2024-06-22T15:05:16.333Z"
   },
   {
    "duration": 62,
    "start_time": "2024-06-22T15:05:49.080Z"
   },
   {
    "duration": 52,
    "start_time": "2024-06-22T15:07:44.053Z"
   },
   {
    "duration": 58,
    "start_time": "2024-06-22T15:08:58.691Z"
   },
   {
    "duration": 922,
    "start_time": "2024-06-22T15:09:20.014Z"
   },
   {
    "duration": 269,
    "start_time": "2024-06-22T15:09:20.939Z"
   },
   {
    "duration": 16,
    "start_time": "2024-06-22T15:09:21.212Z"
   },
   {
    "duration": 10,
    "start_time": "2024-06-22T15:09:21.232Z"
   },
   {
    "duration": 22,
    "start_time": "2024-06-22T15:09:21.246Z"
   },
   {
    "duration": 49,
    "start_time": "2024-06-22T15:09:21.270Z"
   },
   {
    "duration": 15,
    "start_time": "2024-06-22T15:09:21.322Z"
   },
   {
    "duration": 19,
    "start_time": "2024-06-22T15:09:21.341Z"
   },
   {
    "duration": 51,
    "start_time": "2024-06-22T15:09:21.364Z"
   },
   {
    "duration": 6,
    "start_time": "2024-06-22T15:09:21.418Z"
   },
   {
    "duration": 20,
    "start_time": "2024-06-22T15:09:21.427Z"
   },
   {
    "duration": 76,
    "start_time": "2024-06-22T15:09:21.450Z"
   },
   {
    "duration": 15,
    "start_time": "2024-06-22T15:09:21.529Z"
   },
   {
    "duration": 58,
    "start_time": "2024-06-22T15:09:21.550Z"
   },
   {
    "duration": 25,
    "start_time": "2024-06-22T15:09:21.611Z"
   },
   {
    "duration": 17,
    "start_time": "2024-06-22T15:09:21.639Z"
   },
   {
    "duration": 66,
    "start_time": "2024-06-22T15:09:21.658Z"
   },
   {
    "duration": 37,
    "start_time": "2024-06-22T15:09:21.727Z"
   },
   {
    "duration": 40,
    "start_time": "2024-06-22T15:09:21.767Z"
   },
   {
    "duration": 13,
    "start_time": "2024-06-22T15:09:21.810Z"
   },
   {
    "duration": 18,
    "start_time": "2024-06-22T15:09:21.826Z"
   },
   {
    "duration": 59,
    "start_time": "2024-06-22T15:09:21.847Z"
   },
   {
    "duration": 23,
    "start_time": "2024-06-22T15:09:21.909Z"
   },
   {
    "duration": 16,
    "start_time": "2024-06-22T15:09:21.938Z"
   },
   {
    "duration": 55,
    "start_time": "2024-06-22T15:09:21.957Z"
   },
   {
    "duration": 29,
    "start_time": "2024-06-22T15:09:22.015Z"
   },
   {
    "duration": 13,
    "start_time": "2024-06-22T15:09:22.046Z"
   },
   {
    "duration": 51,
    "start_time": "2024-06-22T15:09:22.062Z"
   },
   {
    "duration": 37,
    "start_time": "2024-06-22T15:09:22.116Z"
   },
   {
    "duration": 3,
    "start_time": "2024-06-22T15:09:22.156Z"
   },
   {
    "duration": 54,
    "start_time": "2024-06-22T15:09:22.162Z"
   },
   {
    "duration": 27,
    "start_time": "2024-06-22T15:09:22.219Z"
   },
   {
    "duration": 57,
    "start_time": "2024-06-22T15:09:22.249Z"
   },
   {
    "duration": 4,
    "start_time": "2024-06-22T15:09:22.309Z"
   },
   {
    "duration": 51,
    "start_time": "2024-06-22T15:09:22.316Z"
   },
   {
    "duration": 82,
    "start_time": "2024-06-22T15:09:22.370Z"
   },
   {
    "duration": 3,
    "start_time": "2024-06-22T15:09:22.456Z"
   },
   {
    "duration": 4,
    "start_time": "2024-06-22T15:09:22.462Z"
   },
   {
    "duration": 4,
    "start_time": "2024-06-22T15:09:22.469Z"
   },
   {
    "duration": 3,
    "start_time": "2024-06-22T15:09:22.508Z"
   },
   {
    "duration": 5,
    "start_time": "2024-06-22T15:09:22.520Z"
   },
   {
    "duration": 3,
    "start_time": "2024-06-22T15:09:22.528Z"
   },
   {
    "duration": 4,
    "start_time": "2024-06-22T15:09:22.535Z"
   },
   {
    "duration": 4,
    "start_time": "2024-06-22T15:09:22.545Z"
   },
   {
    "duration": 4,
    "start_time": "2024-06-22T15:09:22.552Z"
   },
   {
    "duration": 6,
    "start_time": "2024-06-22T15:09:44.314Z"
   },
   {
    "duration": 8,
    "start_time": "2024-06-22T15:45:14.927Z"
   },
   {
    "duration": 7,
    "start_time": "2024-06-22T15:45:46.064Z"
   },
   {
    "duration": 11,
    "start_time": "2024-06-22T15:46:30.089Z"
   },
   {
    "duration": 8,
    "start_time": "2024-06-22T15:47:31.251Z"
   },
   {
    "duration": 8,
    "start_time": "2024-06-22T15:47:42.009Z"
   },
   {
    "duration": 940,
    "start_time": "2024-06-22T17:49:40.625Z"
   },
   {
    "duration": 387,
    "start_time": "2024-06-22T17:49:41.569Z"
   },
   {
    "duration": 17,
    "start_time": "2024-06-22T17:49:41.959Z"
   },
   {
    "duration": 9,
    "start_time": "2024-06-22T17:49:41.981Z"
   },
   {
    "duration": 49,
    "start_time": "2024-06-22T17:49:41.993Z"
   },
   {
    "duration": 15,
    "start_time": "2024-06-22T17:49:42.045Z"
   },
   {
    "duration": 16,
    "start_time": "2024-06-22T17:49:42.064Z"
   },
   {
    "duration": 51,
    "start_time": "2024-06-22T17:49:42.083Z"
   },
   {
    "duration": 13,
    "start_time": "2024-06-22T17:49:42.136Z"
   },
   {
    "duration": 5,
    "start_time": "2024-06-22T17:49:42.155Z"
   },
   {
    "duration": 71,
    "start_time": "2024-06-22T17:49:42.163Z"
   },
   {
    "duration": 40,
    "start_time": "2024-06-22T17:49:42.238Z"
   },
   {
    "duration": 16,
    "start_time": "2024-06-22T17:49:42.332Z"
   },
   {
    "duration": 92,
    "start_time": "2024-06-22T17:49:42.351Z"
   },
   {
    "duration": 26,
    "start_time": "2024-06-22T17:49:42.445Z"
   },
   {
    "duration": 70,
    "start_time": "2024-06-22T17:49:42.475Z"
   },
   {
    "duration": 87,
    "start_time": "2024-06-22T17:49:42.547Z"
   },
   {
    "duration": 39,
    "start_time": "2024-06-22T17:49:42.637Z"
   },
   {
    "duration": 21,
    "start_time": "2024-06-22T17:49:42.732Z"
   },
   {
    "duration": 13,
    "start_time": "2024-06-22T17:49:42.756Z"
   },
   {
    "duration": 73,
    "start_time": "2024-06-22T17:49:42.772Z"
   },
   {
    "duration": 25,
    "start_time": "2024-06-22T17:49:42.848Z"
   },
   {
    "duration": 81,
    "start_time": "2024-06-22T17:49:42.876Z"
   },
   {
    "duration": 15,
    "start_time": "2024-06-22T17:49:42.960Z"
   },
   {
    "duration": 25,
    "start_time": "2024-06-22T17:49:43.031Z"
   },
   {
    "duration": 83,
    "start_time": "2024-06-22T17:49:43.059Z"
   },
   {
    "duration": 17,
    "start_time": "2024-06-22T17:49:43.145Z"
   },
   {
    "duration": 81,
    "start_time": "2024-06-22T17:49:43.169Z"
   },
   {
    "duration": 91,
    "start_time": "2024-06-22T17:49:43.253Z"
   },
   {
    "duration": 3,
    "start_time": "2024-06-22T17:49:43.347Z"
   },
   {
    "duration": 84,
    "start_time": "2024-06-22T17:49:43.353Z"
   },
   {
    "duration": 28,
    "start_time": "2024-06-22T17:49:43.440Z"
   },
   {
    "duration": 88,
    "start_time": "2024-06-22T17:49:43.471Z"
   },
   {
    "duration": 170,
    "start_time": "2024-06-22T17:49:43.562Z"
   },
   {
    "duration": 118,
    "start_time": "2024-06-22T17:49:43.736Z"
   },
   {
    "duration": 9,
    "start_time": "2024-06-22T17:49:43.857Z"
   },
   {
    "duration": 4,
    "start_time": "2024-06-22T17:49:43.869Z"
   },
   {
    "duration": 5,
    "start_time": "2024-06-22T17:49:43.932Z"
   },
   {
    "duration": 4,
    "start_time": "2024-06-22T17:49:43.940Z"
   },
   {
    "duration": 4,
    "start_time": "2024-06-22T17:49:43.948Z"
   },
   {
    "duration": 6,
    "start_time": "2024-06-22T17:49:43.955Z"
   },
   {
    "duration": 5,
    "start_time": "2024-06-22T17:49:43.964Z"
   },
   {
    "duration": 58,
    "start_time": "2024-06-22T17:49:43.973Z"
   },
   {
    "duration": 4,
    "start_time": "2024-06-22T17:49:44.034Z"
   },
   {
    "duration": 10,
    "start_time": "2024-06-22T17:50:23.716Z"
   },
   {
    "duration": 151,
    "start_time": "2024-06-22T17:50:49.332Z"
   },
   {
    "duration": 179,
    "start_time": "2024-06-22T17:51:00.647Z"
   },
   {
    "duration": 316,
    "start_time": "2024-06-22T21:01:22.615Z"
   },
   {
    "duration": 964,
    "start_time": "2024-06-22T21:01:30.252Z"
   },
   {
    "duration": 394,
    "start_time": "2024-06-22T21:01:31.219Z"
   },
   {
    "duration": 18,
    "start_time": "2024-06-22T21:01:31.617Z"
   },
   {
    "duration": 12,
    "start_time": "2024-06-22T21:01:31.641Z"
   },
   {
    "duration": 29,
    "start_time": "2024-06-22T21:01:31.657Z"
   },
   {
    "duration": 49,
    "start_time": "2024-06-22T21:01:31.689Z"
   },
   {
    "duration": 20,
    "start_time": "2024-06-22T21:01:31.741Z"
   },
   {
    "duration": 26,
    "start_time": "2024-06-22T21:01:31.765Z"
   },
   {
    "duration": 13,
    "start_time": "2024-06-22T21:01:31.822Z"
   },
   {
    "duration": 4,
    "start_time": "2024-06-22T21:01:31.841Z"
   },
   {
    "duration": 21,
    "start_time": "2024-06-22T21:01:31.848Z"
   },
   {
    "duration": 88,
    "start_time": "2024-06-22T21:01:31.872Z"
   },
   {
    "duration": 14,
    "start_time": "2024-06-22T21:01:31.964Z"
   },
   {
    "duration": 56,
    "start_time": "2024-06-22T21:01:31.981Z"
   },
   {
    "duration": 29,
    "start_time": "2024-06-22T21:01:32.046Z"
   },
   {
    "duration": 15,
    "start_time": "2024-06-22T21:01:32.079Z"
   },
   {
    "duration": 70,
    "start_time": "2024-06-22T21:01:32.097Z"
   },
   {
    "duration": 40,
    "start_time": "2024-06-22T21:01:32.170Z"
   },
   {
    "duration": 42,
    "start_time": "2024-06-22T21:01:32.213Z"
   },
   {
    "duration": 17,
    "start_time": "2024-06-22T21:01:32.258Z"
   },
   {
    "duration": 22,
    "start_time": "2024-06-22T21:01:32.278Z"
   },
   {
    "duration": 42,
    "start_time": "2024-06-22T21:01:32.302Z"
   },
   {
    "duration": 26,
    "start_time": "2024-06-22T21:01:32.348Z"
   },
   {
    "duration": 46,
    "start_time": "2024-06-22T21:01:32.378Z"
   },
   {
    "duration": 32,
    "start_time": "2024-06-22T21:01:32.428Z"
   },
   {
    "duration": 30,
    "start_time": "2024-06-22T21:01:32.463Z"
   },
   {
    "duration": 34,
    "start_time": "2024-06-22T21:01:32.496Z"
   },
   {
    "duration": 29,
    "start_time": "2024-06-22T21:01:32.539Z"
   },
   {
    "duration": 71,
    "start_time": "2024-06-22T21:01:32.571Z"
   },
   {
    "duration": 3,
    "start_time": "2024-06-22T21:01:32.645Z"
   },
   {
    "duration": 31,
    "start_time": "2024-06-22T21:01:32.651Z"
   },
   {
    "duration": 54,
    "start_time": "2024-06-22T21:01:32.686Z"
   },
   {
    "duration": 23,
    "start_time": "2024-06-22T21:01:32.744Z"
   },
   {
    "duration": 81,
    "start_time": "2024-06-22T21:01:32.771Z"
   },
   {
    "duration": 68,
    "start_time": "2024-06-22T21:01:32.856Z"
   },
   {
    "duration": 16,
    "start_time": "2024-06-22T21:01:32.927Z"
   },
   {
    "duration": 211,
    "start_time": "2024-06-22T21:01:32.948Z"
   },
   {
    "duration": 3,
    "start_time": "2024-06-22T21:01:33.163Z"
   },
   {
    "duration": 3,
    "start_time": "2024-06-22T21:01:33.169Z"
   },
   {
    "duration": 3,
    "start_time": "2024-06-22T21:01:33.175Z"
   },
   {
    "duration": 3,
    "start_time": "2024-06-22T21:01:33.182Z"
   },
   {
    "duration": 41,
    "start_time": "2024-06-22T21:01:33.187Z"
   },
   {
    "duration": 7,
    "start_time": "2024-06-22T21:01:33.231Z"
   },
   {
    "duration": 9,
    "start_time": "2024-06-22T21:01:33.241Z"
   },
   {
    "duration": 4,
    "start_time": "2024-06-22T21:01:33.253Z"
   },
   {
    "duration": 48,
    "start_time": "2024-06-22T21:01:48.947Z"
   },
   {
    "duration": 33,
    "start_time": "2024-06-22T21:02:37.405Z"
   },
   {
    "duration": 944,
    "start_time": "2024-06-22T21:03:00.221Z"
   },
   {
    "duration": 290,
    "start_time": "2024-06-22T21:03:01.170Z"
   },
   {
    "duration": 17,
    "start_time": "2024-06-22T21:03:01.462Z"
   },
   {
    "duration": 11,
    "start_time": "2024-06-22T21:03:01.483Z"
   },
   {
    "duration": 44,
    "start_time": "2024-06-22T21:03:01.498Z"
   },
   {
    "duration": 16,
    "start_time": "2024-06-22T21:03:01.544Z"
   },
   {
    "duration": 15,
    "start_time": "2024-06-22T21:03:01.563Z"
   },
   {
    "duration": 53,
    "start_time": "2024-06-22T21:03:01.581Z"
   },
   {
    "duration": 12,
    "start_time": "2024-06-22T21:03:01.637Z"
   },
   {
    "duration": 5,
    "start_time": "2024-06-22T21:03:01.653Z"
   },
   {
    "duration": 63,
    "start_time": "2024-06-22T21:03:01.661Z"
   },
   {
    "duration": 40,
    "start_time": "2024-06-22T21:03:01.728Z"
   },
   {
    "duration": 12,
    "start_time": "2024-06-22T21:03:01.771Z"
   },
   {
    "duration": 62,
    "start_time": "2024-06-22T21:03:01.791Z"
   },
   {
    "duration": 26,
    "start_time": "2024-06-22T21:03:01.855Z"
   },
   {
    "duration": 45,
    "start_time": "2024-06-22T21:03:01.884Z"
   },
   {
    "duration": 29,
    "start_time": "2024-06-22T21:03:01.932Z"
   },
   {
    "duration": 66,
    "start_time": "2024-06-22T21:03:01.964Z"
   },
   {
    "duration": 19,
    "start_time": "2024-06-22T21:03:02.033Z"
   },
   {
    "duration": 12,
    "start_time": "2024-06-22T21:03:02.055Z"
   },
   {
    "duration": 52,
    "start_time": "2024-06-22T21:03:02.070Z"
   },
   {
    "duration": 23,
    "start_time": "2024-06-22T21:03:02.125Z"
   },
   {
    "duration": 22,
    "start_time": "2024-06-22T21:03:02.151Z"
   },
   {
    "duration": 15,
    "start_time": "2024-06-22T21:03:02.177Z"
   },
   {
    "duration": 27,
    "start_time": "2024-06-22T21:03:02.224Z"
   },
   {
    "duration": 82,
    "start_time": "2024-06-22T21:03:02.254Z"
   },
   {
    "duration": 15,
    "start_time": "2024-06-22T21:03:02.339Z"
   },
   {
    "duration": 82,
    "start_time": "2024-06-22T21:03:02.357Z"
   },
   {
    "duration": 92,
    "start_time": "2024-06-22T21:03:02.444Z"
   },
   {
    "duration": 4,
    "start_time": "2024-06-22T21:03:02.539Z"
   },
   {
    "duration": 78,
    "start_time": "2024-06-22T21:03:02.546Z"
   },
   {
    "duration": 37,
    "start_time": "2024-06-22T21:03:02.627Z"
   },
   {
    "duration": 85,
    "start_time": "2024-06-22T21:03:02.667Z"
   },
   {
    "duration": 107,
    "start_time": "2024-06-22T21:03:02.754Z"
   },
   {
    "duration": 173,
    "start_time": "2024-06-22T21:03:02.864Z"
   },
   {
    "duration": 10,
    "start_time": "2024-06-22T21:03:03.040Z"
   },
   {
    "duration": 497,
    "start_time": "2024-06-22T21:03:03.053Z"
   },
   {
    "duration": 3,
    "start_time": "2024-06-22T21:03:03.554Z"
   },
   {
    "duration": 7,
    "start_time": "2024-06-22T21:03:03.560Z"
   },
   {
    "duration": 3,
    "start_time": "2024-06-22T21:03:03.624Z"
   },
   {
    "duration": 4,
    "start_time": "2024-06-22T21:03:03.637Z"
   },
   {
    "duration": 3,
    "start_time": "2024-06-22T21:03:03.646Z"
   },
   {
    "duration": 3,
    "start_time": "2024-06-22T21:03:03.652Z"
   },
   {
    "duration": 4,
    "start_time": "2024-06-22T21:03:03.658Z"
   },
   {
    "duration": 58,
    "start_time": "2024-06-22T21:03:03.665Z"
   },
   {
    "duration": 34,
    "start_time": "2024-06-22T21:06:38.570Z"
   },
   {
    "duration": 942,
    "start_time": "2024-06-22T21:06:47.031Z"
   },
   {
    "duration": 268,
    "start_time": "2024-06-22T21:06:47.977Z"
   },
   {
    "duration": 19,
    "start_time": "2024-06-22T21:06:48.248Z"
   },
   {
    "duration": 11,
    "start_time": "2024-06-22T21:06:48.270Z"
   },
   {
    "duration": 51,
    "start_time": "2024-06-22T21:06:48.288Z"
   },
   {
    "duration": 16,
    "start_time": "2024-06-22T21:06:48.342Z"
   },
   {
    "duration": 15,
    "start_time": "2024-06-22T21:06:48.361Z"
   },
   {
    "duration": 49,
    "start_time": "2024-06-22T21:06:48.381Z"
   },
   {
    "duration": 12,
    "start_time": "2024-06-22T21:06:48.433Z"
   },
   {
    "duration": 4,
    "start_time": "2024-06-22T21:06:48.448Z"
   },
   {
    "duration": 20,
    "start_time": "2024-06-22T21:06:48.456Z"
   },
   {
    "duration": 77,
    "start_time": "2024-06-22T21:06:48.480Z"
   },
   {
    "duration": 13,
    "start_time": "2024-06-22T21:06:48.560Z"
   },
   {
    "duration": 62,
    "start_time": "2024-06-22T21:06:48.580Z"
   },
   {
    "duration": 24,
    "start_time": "2024-06-22T21:06:48.646Z"
   },
   {
    "duration": 53,
    "start_time": "2024-06-22T21:06:48.673Z"
   },
   {
    "duration": 30,
    "start_time": "2024-06-22T21:06:48.729Z"
   },
   {
    "duration": 39,
    "start_time": "2024-06-22T21:06:48.761Z"
   },
   {
    "duration": 37,
    "start_time": "2024-06-22T21:06:48.802Z"
   },
   {
    "duration": 13,
    "start_time": "2024-06-22T21:06:48.842Z"
   },
   {
    "duration": 20,
    "start_time": "2024-06-22T21:06:48.858Z"
   },
   {
    "duration": 62,
    "start_time": "2024-06-22T21:06:48.881Z"
   },
   {
    "duration": 24,
    "start_time": "2024-06-22T21:06:48.946Z"
   },
   {
    "duration": 18,
    "start_time": "2024-06-22T21:06:48.974Z"
   },
   {
    "duration": 24,
    "start_time": "2024-06-22T21:06:49.036Z"
   },
   {
    "duration": 31,
    "start_time": "2024-06-22T21:06:49.063Z"
   },
   {
    "duration": 28,
    "start_time": "2024-06-22T21:06:49.097Z"
   },
   {
    "duration": 21,
    "start_time": "2024-06-22T21:06:49.128Z"
   },
   {
    "duration": 37,
    "start_time": "2024-06-22T21:06:49.151Z"
   },
   {
    "duration": 4,
    "start_time": "2024-06-22T21:06:49.222Z"
   },
   {
    "duration": 27,
    "start_time": "2024-06-22T21:06:49.229Z"
   },
   {
    "duration": 30,
    "start_time": "2024-06-22T21:06:49.259Z"
   },
   {
    "duration": 35,
    "start_time": "2024-06-22T21:06:49.323Z"
   },
   {
    "duration": 80,
    "start_time": "2024-06-22T21:06:49.360Z"
   },
   {
    "duration": 49,
    "start_time": "2024-06-22T21:06:49.444Z"
   },
   {
    "duration": 31,
    "start_time": "2024-06-22T21:06:49.496Z"
   },
   {
    "duration": 221,
    "start_time": "2024-06-22T21:06:49.530Z"
   },
   {
    "duration": 3,
    "start_time": "2024-06-22T21:06:49.755Z"
   },
   {
    "duration": 4,
    "start_time": "2024-06-22T21:06:49.761Z"
   },
   {
    "duration": 3,
    "start_time": "2024-06-22T21:06:49.769Z"
   },
   {
    "duration": 3,
    "start_time": "2024-06-22T21:06:49.782Z"
   },
   {
    "duration": 5,
    "start_time": "2024-06-22T21:06:49.824Z"
   },
   {
    "duration": 4,
    "start_time": "2024-06-22T21:06:49.834Z"
   },
   {
    "duration": 3,
    "start_time": "2024-06-22T21:06:49.845Z"
   },
   {
    "duration": 4,
    "start_time": "2024-06-22T21:06:49.851Z"
   },
   {
    "duration": 1417,
    "start_time": "2024-06-22T21:08:43.932Z"
   },
   {
    "duration": 164,
    "start_time": "2024-06-22T21:08:52.831Z"
   },
   {
    "duration": 168,
    "start_time": "2024-06-22T21:12:24.049Z"
   },
   {
    "duration": 3932,
    "start_time": "2024-06-22T22:07:35.266Z"
   },
   {
    "duration": 0,
    "start_time": "2024-06-22T22:11:21.490Z"
   },
   {
    "duration": 44552,
    "start_time": "2024-06-22T22:11:34.706Z"
   },
   {
    "duration": 40126,
    "start_time": "2024-06-22T22:12:46.410Z"
   },
   {
    "duration": 3,
    "start_time": "2024-06-22T22:24:02.086Z"
   },
   {
    "duration": 5594,
    "start_time": "2024-06-23T18:18:27.759Z"
   },
   {
    "duration": 375,
    "start_time": "2024-06-23T18:18:33.356Z"
   },
   {
    "duration": 16,
    "start_time": "2024-06-23T18:18:33.734Z"
   },
   {
    "duration": 9,
    "start_time": "2024-06-23T18:18:33.755Z"
   },
   {
    "duration": 21,
    "start_time": "2024-06-23T18:18:33.767Z"
   },
   {
    "duration": 50,
    "start_time": "2024-06-23T18:18:33.792Z"
   },
   {
    "duration": 15,
    "start_time": "2024-06-23T18:18:33.846Z"
   },
   {
    "duration": 22,
    "start_time": "2024-06-23T18:18:33.864Z"
   },
   {
    "duration": 48,
    "start_time": "2024-06-23T18:18:33.889Z"
   },
   {
    "duration": 4,
    "start_time": "2024-06-23T18:18:33.945Z"
   },
   {
    "duration": 20,
    "start_time": "2024-06-23T18:18:33.951Z"
   },
   {
    "duration": 74,
    "start_time": "2024-06-23T18:18:33.975Z"
   },
   {
    "duration": 14,
    "start_time": "2024-06-23T18:18:34.053Z"
   },
   {
    "duration": 61,
    "start_time": "2024-06-23T18:18:34.069Z"
   },
   {
    "duration": 24,
    "start_time": "2024-06-23T18:18:34.133Z"
   },
   {
    "duration": 16,
    "start_time": "2024-06-23T18:18:34.159Z"
   },
   {
    "duration": 63,
    "start_time": "2024-06-23T18:18:34.179Z"
   },
   {
    "duration": 38,
    "start_time": "2024-06-23T18:18:34.244Z"
   },
   {
    "duration": 20,
    "start_time": "2024-06-23T18:18:34.285Z"
   },
   {
    "duration": 12,
    "start_time": "2024-06-23T18:18:34.330Z"
   },
   {
    "duration": 18,
    "start_time": "2024-06-23T18:18:34.345Z"
   },
   {
    "duration": 24,
    "start_time": "2024-06-23T18:18:34.365Z"
   },
   {
    "duration": 52,
    "start_time": "2024-06-23T18:18:34.391Z"
   },
   {
    "duration": 14,
    "start_time": "2024-06-23T18:18:34.446Z"
   },
   {
    "duration": 23,
    "start_time": "2024-06-23T18:18:34.463Z"
   },
   {
    "duration": 61,
    "start_time": "2024-06-23T18:18:34.489Z"
   },
   {
    "duration": 12,
    "start_time": "2024-06-23T18:18:34.552Z"
   },
   {
    "duration": 22,
    "start_time": "2024-06-23T18:18:34.573Z"
   },
   {
    "duration": 38,
    "start_time": "2024-06-23T18:18:34.630Z"
   },
   {
    "duration": 4,
    "start_time": "2024-06-23T18:18:34.671Z"
   },
   {
    "duration": 61,
    "start_time": "2024-06-23T18:18:34.679Z"
   },
   {
    "duration": 31,
    "start_time": "2024-06-23T18:18:34.743Z"
   },
   {
    "duration": 58,
    "start_time": "2024-06-23T18:18:34.777Z"
   },
   {
    "duration": 53,
    "start_time": "2024-06-23T18:18:34.838Z"
   },
   {
    "duration": 77,
    "start_time": "2024-06-23T18:18:34.893Z"
   },
   {
    "duration": 11,
    "start_time": "2024-06-23T18:18:34.974Z"
   },
   {
    "duration": 183,
    "start_time": "2024-06-23T18:18:34.988Z"
   },
   {
    "duration": 4,
    "start_time": "2024-06-23T18:18:35.174Z"
   },
   {
    "duration": 3,
    "start_time": "2024-06-23T18:18:35.181Z"
   },
   {
    "duration": 3,
    "start_time": "2024-06-23T18:18:35.188Z"
   },
   {
    "duration": 36,
    "start_time": "2024-06-23T18:18:35.194Z"
   },
   {
    "duration": 4,
    "start_time": "2024-06-23T18:18:35.233Z"
   },
   {
    "duration": 4,
    "start_time": "2024-06-23T18:18:35.239Z"
   },
   {
    "duration": 4,
    "start_time": "2024-06-23T18:18:35.246Z"
   },
   {
    "duration": 3,
    "start_time": "2024-06-23T18:18:35.253Z"
   },
   {
    "duration": 453,
    "start_time": "2024-06-23T18:18:42.742Z"
   },
   {
    "duration": 114,
    "start_time": "2024-06-23T18:18:55.598Z"
   },
   {
    "duration": 389,
    "start_time": "2024-06-23T18:19:01.501Z"
   },
   {
    "duration": 84,
    "start_time": "2024-06-23T18:36:12.367Z"
   },
   {
    "duration": 84,
    "start_time": "2024-06-23T18:36:29.558Z"
   },
   {
    "duration": 305,
    "start_time": "2024-06-23T22:56:06.578Z"
   },
   {
    "duration": 4898,
    "start_time": "2024-06-23T22:56:14.395Z"
   },
   {
    "duration": 464,
    "start_time": "2024-06-23T22:56:19.297Z"
   },
   {
    "duration": 34,
    "start_time": "2024-06-23T22:56:19.766Z"
   },
   {
    "duration": 12,
    "start_time": "2024-06-23T22:56:19.804Z"
   },
   {
    "duration": 34,
    "start_time": "2024-06-23T22:56:19.820Z"
   },
   {
    "duration": 18,
    "start_time": "2024-06-23T22:56:19.857Z"
   },
   {
    "duration": 52,
    "start_time": "2024-06-23T22:56:19.879Z"
   },
   {
    "duration": 22,
    "start_time": "2024-06-23T22:56:19.934Z"
   },
   {
    "duration": 13,
    "start_time": "2024-06-23T22:56:19.962Z"
   },
   {
    "duration": 5,
    "start_time": "2024-06-23T22:56:19.981Z"
   },
   {
    "duration": 62,
    "start_time": "2024-06-23T22:56:19.989Z"
   },
   {
    "duration": 47,
    "start_time": "2024-06-23T22:56:20.055Z"
   },
   {
    "duration": 17,
    "start_time": "2024-06-23T22:56:20.130Z"
   },
   {
    "duration": 43,
    "start_time": "2024-06-23T22:56:20.151Z"
   },
   {
    "duration": 65,
    "start_time": "2024-06-23T22:56:20.199Z"
   },
   {
    "duration": 22,
    "start_time": "2024-06-23T22:56:20.269Z"
   },
   {
    "duration": 68,
    "start_time": "2024-06-23T22:56:20.295Z"
   },
   {
    "duration": 42,
    "start_time": "2024-06-23T22:56:20.366Z"
   },
   {
    "duration": 19,
    "start_time": "2024-06-23T22:56:20.430Z"
   },
   {
    "duration": 13,
    "start_time": "2024-06-23T22:56:20.452Z"
   },
   {
    "duration": 19,
    "start_time": "2024-06-23T22:56:20.468Z"
   },
   {
    "duration": 59,
    "start_time": "2024-06-23T22:56:20.490Z"
   },
   {
    "duration": 23,
    "start_time": "2024-06-23T22:56:20.551Z"
   },
   {
    "duration": 14,
    "start_time": "2024-06-23T22:56:20.577Z"
   },
   {
    "duration": 55,
    "start_time": "2024-06-23T22:56:20.594Z"
   },
   {
    "duration": 30,
    "start_time": "2024-06-23T22:56:20.652Z"
   },
   {
    "duration": 45,
    "start_time": "2024-06-23T22:56:20.685Z"
   },
   {
    "duration": 25,
    "start_time": "2024-06-23T22:56:20.739Z"
   },
   {
    "duration": 68,
    "start_time": "2024-06-23T22:56:20.768Z"
   },
   {
    "duration": 4,
    "start_time": "2024-06-23T22:56:20.839Z"
   },
   {
    "duration": 34,
    "start_time": "2024-06-23T22:56:20.846Z"
   },
   {
    "duration": 68,
    "start_time": "2024-06-23T22:56:20.883Z"
   },
   {
    "duration": 40,
    "start_time": "2024-06-23T22:56:20.954Z"
   },
   {
    "duration": 72,
    "start_time": "2024-06-23T22:56:20.997Z"
   },
   {
    "duration": 72,
    "start_time": "2024-06-23T22:56:21.072Z"
   },
   {
    "duration": 13,
    "start_time": "2024-06-23T22:56:21.147Z"
   },
   {
    "duration": 193,
    "start_time": "2024-06-23T22:56:21.164Z"
   },
   {
    "duration": 1002,
    "start_time": "2024-06-23T22:56:21.361Z"
   },
   {
    "duration": 0,
    "start_time": "2024-06-23T22:56:22.367Z"
   },
   {
    "duration": 0,
    "start_time": "2024-06-23T22:56:22.369Z"
   },
   {
    "duration": 0,
    "start_time": "2024-06-23T22:56:22.371Z"
   },
   {
    "duration": 0,
    "start_time": "2024-06-23T22:56:22.373Z"
   },
   {
    "duration": 0,
    "start_time": "2024-06-23T22:56:22.376Z"
   },
   {
    "duration": 0,
    "start_time": "2024-06-23T22:56:22.385Z"
   },
   {
    "duration": 0,
    "start_time": "2024-06-23T22:56:22.389Z"
   },
   {
    "duration": 18,
    "start_time": "2024-06-23T22:56:35.403Z"
   },
   {
    "duration": 109,
    "start_time": "2024-06-23T22:58:10.057Z"
   },
   {
    "duration": 87,
    "start_time": "2024-06-23T22:58:45.437Z"
   },
   {
    "duration": 17,
    "start_time": "2024-06-23T22:59:10.996Z"
   },
   {
    "duration": 19,
    "start_time": "2024-06-23T22:59:21.668Z"
   },
   {
    "duration": 86,
    "start_time": "2024-06-23T23:00:00.894Z"
   },
   {
    "duration": 89,
    "start_time": "2024-06-23T23:00:12.803Z"
   },
   {
    "duration": 50,
    "start_time": "2024-06-23T23:00:22.172Z"
   },
   {
    "duration": 46,
    "start_time": "2024-06-23T23:00:35.511Z"
   },
   {
    "duration": 45,
    "start_time": "2024-06-23T23:00:44.492Z"
   },
   {
    "duration": 87,
    "start_time": "2024-06-23T23:08:28.246Z"
   },
   {
    "duration": 473,
    "start_time": "2024-06-23T23:09:41.634Z"
   },
   {
    "duration": 423,
    "start_time": "2024-06-23T23:10:06.297Z"
   },
   {
    "duration": 91,
    "start_time": "2024-06-23T23:10:12.869Z"
   },
   {
    "duration": 447,
    "start_time": "2024-06-23T23:10:31.372Z"
   },
   {
    "duration": 448,
    "start_time": "2024-06-23T23:12:41.940Z"
   },
   {
    "duration": 410,
    "start_time": "2024-06-23T23:13:00.657Z"
   },
   {
    "duration": 426,
    "start_time": "2024-06-23T23:18:52.249Z"
   },
   {
    "duration": 316,
    "start_time": "2024-06-24T00:54:33.848Z"
   },
   {
    "duration": 5742,
    "start_time": "2024-06-24T00:54:41.384Z"
   },
   {
    "duration": 356,
    "start_time": "2024-06-24T00:54:47.131Z"
   },
   {
    "duration": 19,
    "start_time": "2024-06-24T00:54:47.490Z"
   },
   {
    "duration": 15,
    "start_time": "2024-06-24T00:54:47.513Z"
   },
   {
    "duration": 24,
    "start_time": "2024-06-24T00:54:47.533Z"
   },
   {
    "duration": 53,
    "start_time": "2024-06-24T00:54:47.561Z"
   },
   {
    "duration": 15,
    "start_time": "2024-06-24T00:54:47.617Z"
   },
   {
    "duration": 20,
    "start_time": "2024-06-24T00:54:47.636Z"
   },
   {
    "duration": 11,
    "start_time": "2024-06-24T00:54:47.659Z"
   },
   {
    "duration": 5,
    "start_time": "2024-06-24T00:54:47.713Z"
   },
   {
    "duration": 21,
    "start_time": "2024-06-24T00:54:47.721Z"
   },
   {
    "duration": 75,
    "start_time": "2024-06-24T00:54:47.745Z"
   },
   {
    "duration": 13,
    "start_time": "2024-06-24T00:54:47.823Z"
   },
   {
    "duration": 34,
    "start_time": "2024-06-24T00:54:47.843Z"
   },
   {
    "duration": 26,
    "start_time": "2024-06-24T00:54:47.912Z"
   },
   {
    "duration": 15,
    "start_time": "2024-06-24T00:54:47.941Z"
   },
   {
    "duration": 62,
    "start_time": "2024-06-24T00:54:47.960Z"
   },
   {
    "duration": 37,
    "start_time": "2024-06-24T00:54:48.025Z"
   },
   {
    "duration": 23,
    "start_time": "2024-06-24T00:54:48.065Z"
   },
   {
    "duration": 14,
    "start_time": "2024-06-24T00:54:48.113Z"
   },
   {
    "duration": 18,
    "start_time": "2024-06-24T00:54:48.130Z"
   },
   {
    "duration": 24,
    "start_time": "2024-06-24T00:54:48.151Z"
   },
   {
    "duration": 56,
    "start_time": "2024-06-24T00:54:48.177Z"
   },
   {
    "duration": 15,
    "start_time": "2024-06-24T00:54:48.237Z"
   },
   {
    "duration": 57,
    "start_time": "2024-06-24T00:54:48.255Z"
   },
   {
    "duration": 29,
    "start_time": "2024-06-24T00:54:48.315Z"
   },
   {
    "duration": 11,
    "start_time": "2024-06-24T00:54:48.348Z"
   },
   {
    "duration": 51,
    "start_time": "2024-06-24T00:54:48.362Z"
   },
   {
    "duration": 37,
    "start_time": "2024-06-24T00:54:48.416Z"
   },
   {
    "duration": 4,
    "start_time": "2024-06-24T00:54:48.456Z"
   },
   {
    "duration": 59,
    "start_time": "2024-06-24T00:54:48.463Z"
   },
   {
    "duration": 27,
    "start_time": "2024-06-24T00:54:48.525Z"
   },
   {
    "duration": 59,
    "start_time": "2024-06-24T00:54:48.555Z"
   },
   {
    "duration": 57,
    "start_time": "2024-06-24T00:54:48.618Z"
   },
   {
    "duration": 78,
    "start_time": "2024-06-24T00:54:48.678Z"
   },
   {
    "duration": 11,
    "start_time": "2024-06-24T00:54:48.762Z"
   },
   {
    "duration": 195,
    "start_time": "2024-06-24T00:54:48.777Z"
   },
   {
    "duration": 464,
    "start_time": "2024-06-24T00:54:48.975Z"
   },
   {
    "duration": 638,
    "start_time": "2024-06-24T00:54:49.443Z"
   },
   {
    "duration": 0,
    "start_time": "2024-06-24T00:54:50.085Z"
   },
   {
    "duration": 0,
    "start_time": "2024-06-24T00:54:50.087Z"
   },
   {
    "duration": 0,
    "start_time": "2024-06-24T00:54:50.090Z"
   },
   {
    "duration": 0,
    "start_time": "2024-06-24T00:54:50.092Z"
   },
   {
    "duration": 0,
    "start_time": "2024-06-24T00:54:50.094Z"
   },
   {
    "duration": 0,
    "start_time": "2024-06-24T00:54:50.112Z"
   },
   {
    "duration": 35,
    "start_time": "2024-06-24T01:01:08.953Z"
   },
   {
    "duration": 34,
    "start_time": "2024-06-24T01:01:31.926Z"
   },
   {
    "duration": 32,
    "start_time": "2024-06-24T01:01:37.582Z"
   },
   {
    "duration": 9,
    "start_time": "2024-06-24T01:01:47.741Z"
   },
   {
    "duration": 9,
    "start_time": "2024-06-24T01:02:10.105Z"
   },
   {
    "duration": 9,
    "start_time": "2024-06-24T01:02:30.142Z"
   },
   {
    "duration": 7,
    "start_time": "2024-06-24T01:02:58.016Z"
   },
   {
    "duration": 9,
    "start_time": "2024-06-24T01:03:03.092Z"
   },
   {
    "duration": 14,
    "start_time": "2024-06-24T01:03:55.446Z"
   },
   {
    "duration": 16,
    "start_time": "2024-06-24T01:04:05.640Z"
   },
   {
    "duration": 13,
    "start_time": "2024-06-24T01:04:13.122Z"
   },
   {
    "duration": 14,
    "start_time": "2024-06-24T01:04:21.997Z"
   },
   {
    "duration": 13,
    "start_time": "2024-06-24T01:04:25.949Z"
   },
   {
    "duration": 35,
    "start_time": "2024-06-24T01:06:48.221Z"
   },
   {
    "duration": 34,
    "start_time": "2024-06-24T01:06:59.996Z"
   },
   {
    "duration": 837,
    "start_time": "2024-06-24T01:26:53.279Z"
   },
   {
    "duration": 88,
    "start_time": "2024-06-24T01:27:38.816Z"
   },
   {
    "duration": 22,
    "start_time": "2024-06-24T01:28:53.703Z"
   },
   {
    "duration": 14,
    "start_time": "2024-06-24T01:29:04.125Z"
   },
   {
    "duration": 15,
    "start_time": "2024-06-24T01:29:47.354Z"
   },
   {
    "duration": 18,
    "start_time": "2024-06-24T01:33:05.371Z"
   },
   {
    "duration": 10,
    "start_time": "2024-06-24T01:34:41.243Z"
   },
   {
    "duration": 788,
    "start_time": "2024-06-24T01:52:10.840Z"
   },
   {
    "duration": 5012,
    "start_time": "2024-06-25T00:26:24.830Z"
   },
   {
    "duration": 383,
    "start_time": "2024-06-25T00:26:29.845Z"
   },
   {
    "duration": 15,
    "start_time": "2024-06-25T00:26:30.231Z"
   },
   {
    "duration": 10,
    "start_time": "2024-06-25T00:26:30.251Z"
   },
   {
    "duration": 21,
    "start_time": "2024-06-25T00:26:30.264Z"
   },
   {
    "duration": 16,
    "start_time": "2024-06-25T00:26:30.307Z"
   },
   {
    "duration": 15,
    "start_time": "2024-06-25T00:26:30.326Z"
   },
   {
    "duration": 18,
    "start_time": "2024-06-25T00:26:30.344Z"
   },
   {
    "duration": 48,
    "start_time": "2024-06-25T00:26:30.366Z"
   },
   {
    "duration": 5,
    "start_time": "2024-06-25T00:26:30.419Z"
   },
   {
    "duration": 19,
    "start_time": "2024-06-25T00:26:30.427Z"
   },
   {
    "duration": 83,
    "start_time": "2024-06-25T00:26:30.449Z"
   },
   {
    "duration": 21,
    "start_time": "2024-06-25T00:26:30.535Z"
   },
   {
    "duration": 51,
    "start_time": "2024-06-25T00:26:30.560Z"
   },
   {
    "duration": 24,
    "start_time": "2024-06-25T00:26:30.614Z"
   },
   {
    "duration": 17,
    "start_time": "2024-06-25T00:26:30.641Z"
   },
   {
    "duration": 61,
    "start_time": "2024-06-25T00:26:30.661Z"
   },
   {
    "duration": 37,
    "start_time": "2024-06-25T00:26:30.725Z"
   },
   {
    "duration": 43,
    "start_time": "2024-06-25T00:26:30.765Z"
   },
   {
    "duration": 14,
    "start_time": "2024-06-25T00:26:30.811Z"
   },
   {
    "duration": 18,
    "start_time": "2024-06-25T00:26:30.828Z"
   },
   {
    "duration": 23,
    "start_time": "2024-06-25T00:26:30.848Z"
   },
   {
    "duration": 23,
    "start_time": "2024-06-25T00:26:30.908Z"
   },
   {
    "duration": 15,
    "start_time": "2024-06-25T00:26:30.933Z"
   },
   {
    "duration": 55,
    "start_time": "2024-06-25T00:26:30.951Z"
   },
   {
    "duration": 29,
    "start_time": "2024-06-25T00:26:31.008Z"
   },
   {
    "duration": 13,
    "start_time": "2024-06-25T00:26:31.039Z"
   },
   {
    "duration": 48,
    "start_time": "2024-06-25T00:26:31.060Z"
   },
   {
    "duration": 45,
    "start_time": "2024-06-25T00:26:31.114Z"
   },
   {
    "duration": 3,
    "start_time": "2024-06-25T00:26:31.162Z"
   },
   {
    "duration": 58,
    "start_time": "2024-06-25T00:26:31.170Z"
   },
   {
    "duration": 29,
    "start_time": "2024-06-25T00:26:31.232Z"
   },
   {
    "duration": 61,
    "start_time": "2024-06-25T00:26:31.264Z"
   },
   {
    "duration": 48,
    "start_time": "2024-06-25T00:26:31.328Z"
   },
   {
    "duration": 75,
    "start_time": "2024-06-25T00:26:31.379Z"
   },
   {
    "duration": 12,
    "start_time": "2024-06-25T00:26:31.457Z"
   },
   {
    "duration": 194,
    "start_time": "2024-06-25T00:26:31.472Z"
   },
   {
    "duration": 444,
    "start_time": "2024-06-25T00:26:31.669Z"
   },
   {
    "duration": 795,
    "start_time": "2024-06-25T00:26:32.116Z"
   },
   {
    "duration": 12,
    "start_time": "2024-06-25T00:26:32.914Z"
   },
   {
    "duration": 5,
    "start_time": "2024-06-25T00:26:32.929Z"
   },
   {
    "duration": 5,
    "start_time": "2024-06-25T00:26:32.937Z"
   },
   {
    "duration": 10,
    "start_time": "2024-06-25T00:26:32.945Z"
   },
   {
    "duration": 4,
    "start_time": "2024-06-25T00:26:32.958Z"
   },
   {
    "duration": 42,
    "start_time": "2024-06-25T00:26:32.965Z"
   },
   {
    "duration": 897,
    "start_time": "2024-06-25T00:27:00.975Z"
   },
   {
    "duration": 547,
    "start_time": "2024-06-25T00:27:14.680Z"
   },
   {
    "duration": 342,
    "start_time": "2024-06-25T00:30:21.550Z"
   },
   {
    "duration": 1904,
    "start_time": "2024-06-25T00:30:37.262Z"
   },
   {
    "duration": 42,
    "start_time": "2024-06-25T00:37:18.471Z"
   },
   {
    "duration": 42,
    "start_time": "2024-06-25T00:37:24.572Z"
   },
   {
    "duration": 36,
    "start_time": "2024-06-25T00:37:31.208Z"
   },
   {
    "duration": 319,
    "start_time": "2024-06-25T00:37:38.423Z"
   },
   {
    "duration": 326,
    "start_time": "2024-06-25T00:37:42.788Z"
   },
   {
    "duration": 330,
    "start_time": "2024-06-25T00:38:52.045Z"
   },
   {
    "duration": 570,
    "start_time": "2024-06-25T00:39:09.807Z"
   },
   {
    "duration": 6,
    "start_time": "2024-06-25T00:50:25.043Z"
   },
   {
    "duration": 169,
    "start_time": "2024-06-25T00:50:58.006Z"
   },
   {
    "duration": 174,
    "start_time": "2024-06-25T00:53:00.349Z"
   },
   {
    "duration": 16,
    "start_time": "2024-06-25T01:04:58.334Z"
   },
   {
    "duration": 356,
    "start_time": "2024-06-25T01:07:03.800Z"
   },
   {
    "duration": 566,
    "start_time": "2024-06-25T01:17:39.933Z"
   },
   {
    "duration": 667,
    "start_time": "2024-06-25T01:18:48.170Z"
   },
   {
    "duration": 183,
    "start_time": "2024-06-25T01:19:02.974Z"
   },
   {
    "duration": 160,
    "start_time": "2024-06-25T01:20:53.705Z"
   },
   {
    "duration": 7,
    "start_time": "2024-06-25T01:20:57.921Z"
   },
   {
    "duration": 336,
    "start_time": "2024-06-25T01:22:37.402Z"
   },
   {
    "duration": 683,
    "start_time": "2024-06-25T01:23:27.542Z"
   },
   {
    "duration": 184,
    "start_time": "2024-06-25T01:23:37.858Z"
   },
   {
    "duration": 333,
    "start_time": "2024-06-25T01:26:28.086Z"
   },
   {
    "duration": 767,
    "start_time": "2024-06-25T01:26:40.597Z"
   },
   {
    "duration": 7,
    "start_time": "2024-06-25T01:27:19.969Z"
   },
   {
    "duration": 651,
    "start_time": "2024-06-25T01:27:25.455Z"
   },
   {
    "duration": 464,
    "start_time": "2024-06-25T01:31:22.576Z"
   },
   {
    "duration": 789,
    "start_time": "2024-06-25T01:31:26.151Z"
   },
   {
    "duration": 7,
    "start_time": "2024-06-25T01:31:38.808Z"
   },
   {
    "duration": 176,
    "start_time": "2024-06-25T01:31:44.293Z"
   },
   {
    "duration": 124,
    "start_time": "2024-06-25T01:32:10.913Z"
   },
   {
    "duration": 604,
    "start_time": "2024-06-25T01:33:53.222Z"
   },
   {
    "duration": 160,
    "start_time": "2024-06-25T01:34:06.321Z"
   },
   {
    "duration": 163,
    "start_time": "2024-06-25T01:34:17.626Z"
   },
   {
    "duration": 33882,
    "start_time": "2024-06-25T01:34:42.559Z"
   },
   {
    "duration": 84,
    "start_time": "2024-06-25T01:35:38.441Z"
   },
   {
    "duration": 80,
    "start_time": "2024-06-25T01:35:50.835Z"
   },
   {
    "duration": 170,
    "start_time": "2024-06-25T01:35:55.496Z"
   },
   {
    "duration": 26076,
    "start_time": "2024-06-25T01:36:22.214Z"
   },
   {
    "duration": 722,
    "start_time": "2024-06-25T01:37:07.670Z"
   },
   {
    "duration": 275,
    "start_time": "2024-06-25T01:37:23.654Z"
   },
   {
    "duration": 734,
    "start_time": "2024-06-25T01:37:41.564Z"
   },
   {
    "duration": 200,
    "start_time": "2024-06-25T01:37:50.796Z"
   },
   {
    "duration": 204,
    "start_time": "2024-06-25T01:38:31.656Z"
   },
   {
    "duration": 197,
    "start_time": "2024-06-25T01:39:16.827Z"
   },
   {
    "duration": 195,
    "start_time": "2024-06-25T01:39:55.131Z"
   },
   {
    "duration": 25,
    "start_time": "2024-06-25T02:37:40.581Z"
   },
   {
    "duration": 18,
    "start_time": "2024-06-25T02:37:45.823Z"
   },
   {
    "duration": 43,
    "start_time": "2024-06-25T02:38:00.352Z"
   },
   {
    "duration": 636,
    "start_time": "2024-06-25T02:38:19.040Z"
   },
   {
    "duration": 84,
    "start_time": "2024-06-25T02:38:45.065Z"
   },
   {
    "duration": 5,
    "start_time": "2024-06-25T02:39:00.978Z"
   },
   {
    "duration": 20,
    "start_time": "2024-06-25T02:39:09.027Z"
   },
   {
    "duration": 26,
    "start_time": "2024-06-25T02:39:32.408Z"
   },
   {
    "duration": 7,
    "start_time": "2024-06-25T02:39:40.824Z"
   },
   {
    "duration": 64,
    "start_time": "2024-06-25T02:40:09.342Z"
   },
   {
    "duration": 9,
    "start_time": "2024-06-25T02:56:56.034Z"
   },
   {
    "duration": 6,
    "start_time": "2024-06-25T02:57:17.365Z"
   },
   {
    "duration": 49,
    "start_time": "2024-06-25T03:05:28.219Z"
   },
   {
    "duration": 11,
    "start_time": "2024-06-25T03:07:04.335Z"
   },
   {
    "duration": 47,
    "start_time": "2024-06-25T03:07:13.544Z"
   },
   {
    "duration": 14,
    "start_time": "2024-06-25T04:45:53.069Z"
   },
   {
    "duration": 12,
    "start_time": "2024-06-25T04:47:01.612Z"
   },
   {
    "duration": 13,
    "start_time": "2024-06-25T04:47:29.473Z"
   },
   {
    "duration": 658,
    "start_time": "2024-06-25T04:50:06.167Z"
   },
   {
    "duration": 15,
    "start_time": "2024-06-25T04:51:25.784Z"
   },
   {
    "duration": 12,
    "start_time": "2024-06-25T04:56:44.021Z"
   },
   {
    "duration": 19,
    "start_time": "2024-06-25T04:58:57.914Z"
   },
   {
    "duration": 318,
    "start_time": "2024-06-26T03:23:10.785Z"
   },
   {
    "duration": 5032,
    "start_time": "2024-06-26T03:23:17.033Z"
   },
   {
    "duration": 405,
    "start_time": "2024-06-26T03:23:22.069Z"
   },
   {
    "duration": 20,
    "start_time": "2024-06-26T03:23:22.477Z"
   },
   {
    "duration": 13,
    "start_time": "2024-06-26T03:23:22.505Z"
   },
   {
    "duration": 37,
    "start_time": "2024-06-26T03:23:22.523Z"
   },
   {
    "duration": 14,
    "start_time": "2024-06-26T03:23:22.563Z"
   },
   {
    "duration": 17,
    "start_time": "2024-06-26T03:23:22.595Z"
   },
   {
    "duration": 23,
    "start_time": "2024-06-26T03:23:22.616Z"
   },
   {
    "duration": 12,
    "start_time": "2024-06-26T03:23:22.643Z"
   },
   {
    "duration": 8,
    "start_time": "2024-06-26T03:23:22.692Z"
   },
   {
    "duration": 23,
    "start_time": "2024-06-26T03:23:22.709Z"
   },
   {
    "duration": 63,
    "start_time": "2024-06-26T03:23:22.735Z"
   },
   {
    "duration": 16,
    "start_time": "2024-06-26T03:23:22.806Z"
   },
   {
    "duration": 36,
    "start_time": "2024-06-26T03:23:22.828Z"
   },
   {
    "duration": 39,
    "start_time": "2024-06-26T03:23:22.867Z"
   },
   {
    "duration": 17,
    "start_time": "2024-06-26T03:23:22.909Z"
   },
   {
    "duration": 84,
    "start_time": "2024-06-26T03:23:22.933Z"
   },
   {
    "duration": 34,
    "start_time": "2024-06-26T03:23:23.020Z"
   },
   {
    "duration": 57,
    "start_time": "2024-06-26T03:23:23.058Z"
   },
   {
    "duration": 22,
    "start_time": "2024-06-26T03:23:23.122Z"
   },
   {
    "duration": 14,
    "start_time": "2024-06-26T03:23:23.147Z"
   },
   {
    "duration": 43,
    "start_time": "2024-06-26T03:23:23.165Z"
   },
   {
    "duration": 23,
    "start_time": "2024-06-26T03:23:23.212Z"
   },
   {
    "duration": 23,
    "start_time": "2024-06-26T03:23:23.238Z"
   },
   {
    "duration": 49,
    "start_time": "2024-06-26T03:23:23.264Z"
   },
   {
    "duration": 24,
    "start_time": "2024-06-26T03:23:23.316Z"
   },
   {
    "duration": 30,
    "start_time": "2024-06-26T03:23:23.342Z"
   },
   {
    "duration": 30,
    "start_time": "2024-06-26T03:23:23.375Z"
   },
   {
    "duration": 22,
    "start_time": "2024-06-26T03:23:23.408Z"
   },
   {
    "duration": 64,
    "start_time": "2024-06-26T03:23:23.433Z"
   },
   {
    "duration": 6,
    "start_time": "2024-06-26T03:23:23.505Z"
   },
   {
    "duration": 31,
    "start_time": "2024-06-26T03:23:23.517Z"
   },
   {
    "duration": 49,
    "start_time": "2024-06-26T03:23:23.552Z"
   },
   {
    "duration": 36,
    "start_time": "2024-06-26T03:23:23.604Z"
   },
   {
    "duration": 81,
    "start_time": "2024-06-26T03:23:23.643Z"
   },
   {
    "duration": 53,
    "start_time": "2024-06-26T03:23:23.727Z"
   },
   {
    "duration": 18,
    "start_time": "2024-06-26T03:23:23.783Z"
   },
   {
    "duration": 173,
    "start_time": "2024-06-26T03:23:23.804Z"
   },
   {
    "duration": 374,
    "start_time": "2024-06-26T03:23:23.980Z"
   },
   {
    "duration": 592,
    "start_time": "2024-06-26T03:23:24.359Z"
   },
   {
    "duration": 12,
    "start_time": "2024-06-26T03:23:24.961Z"
   },
   {
    "duration": 279,
    "start_time": "2024-06-26T03:23:24.989Z"
   },
   {
    "duration": 355,
    "start_time": "2024-06-26T03:23:25.272Z"
   },
   {
    "duration": 591,
    "start_time": "2024-06-26T03:23:25.630Z"
   },
   {
    "duration": 6,
    "start_time": "2024-06-26T03:23:26.225Z"
   },
   {
    "duration": 210,
    "start_time": "2024-06-26T03:23:26.235Z"
   },
   {
    "duration": 375,
    "start_time": "2024-06-26T03:23:26.451Z"
   },
   {
    "duration": 698,
    "start_time": "2024-06-26T03:23:26.829Z"
   },
   {
    "duration": 6,
    "start_time": "2024-06-26T03:23:27.530Z"
   },
   {
    "duration": 242,
    "start_time": "2024-06-26T03:23:27.539Z"
   },
   {
    "duration": 408,
    "start_time": "2024-06-26T03:23:27.791Z"
   },
   {
    "duration": 750,
    "start_time": "2024-06-26T03:23:28.204Z"
   },
   {
    "duration": 7,
    "start_time": "2024-06-26T03:23:28.959Z"
   },
   {
    "duration": 239,
    "start_time": "2024-06-26T03:23:28.970Z"
   },
   {
    "duration": 11,
    "start_time": "2024-06-26T03:23:29.214Z"
   },
   {
    "duration": 16,
    "start_time": "2024-06-26T03:23:29.229Z"
   },
   {
    "duration": 12,
    "start_time": "2024-06-26T03:25:16.659Z"
   },
   {
    "duration": 12,
    "start_time": "2024-06-26T03:25:21.420Z"
   },
   {
    "duration": 54,
    "start_time": "2024-06-26T03:26:16.471Z"
   },
   {
    "duration": 31,
    "start_time": "2024-06-26T03:31:36.187Z"
   },
   {
    "duration": 73,
    "start_time": "2024-06-26T03:32:26.240Z"
   },
   {
    "duration": 54,
    "start_time": "2024-06-26T03:34:16.759Z"
   },
   {
    "duration": 7,
    "start_time": "2024-06-26T03:36:24.638Z"
   },
   {
    "duration": 889,
    "start_time": "2024-06-26T03:38:03.420Z"
   },
   {
    "duration": 88,
    "start_time": "2024-06-26T03:38:13.496Z"
   },
   {
    "duration": 89,
    "start_time": "2024-06-26T03:38:17.581Z"
   },
   {
    "duration": 88,
    "start_time": "2024-06-26T03:38:27.459Z"
   },
   {
    "duration": 1319,
    "start_time": "2024-06-26T03:38:35.314Z"
   },
   {
    "duration": 294,
    "start_time": "2024-06-26T03:38:36.636Z"
   },
   {
    "duration": 16,
    "start_time": "2024-06-26T03:38:36.934Z"
   },
   {
    "duration": 10,
    "start_time": "2024-06-26T03:38:36.954Z"
   },
   {
    "duration": 29,
    "start_time": "2024-06-26T03:38:36.968Z"
   },
   {
    "duration": 17,
    "start_time": "2024-06-26T03:38:37.000Z"
   },
   {
    "duration": 17,
    "start_time": "2024-06-26T03:38:37.020Z"
   },
   {
    "duration": 8,
    "start_time": "2024-06-26T03:38:37.040Z"
   },
   {
    "duration": 55,
    "start_time": "2024-06-26T03:38:37.051Z"
   },
   {
    "duration": 14,
    "start_time": "2024-06-26T03:38:37.111Z"
   },
   {
    "duration": 4,
    "start_time": "2024-06-26T03:38:37.128Z"
   },
   {
    "duration": 21,
    "start_time": "2024-06-26T03:38:37.135Z"
   },
   {
    "duration": 61,
    "start_time": "2024-06-26T03:38:37.163Z"
   },
   {
    "duration": 13,
    "start_time": "2024-06-26T03:38:37.227Z"
   },
   {
    "duration": 58,
    "start_time": "2024-06-26T03:38:37.242Z"
   },
   {
    "duration": 25,
    "start_time": "2024-06-26T03:38:37.303Z"
   },
   {
    "duration": 17,
    "start_time": "2024-06-26T03:38:37.331Z"
   },
   {
    "duration": 87,
    "start_time": "2024-06-26T03:38:37.354Z"
   },
   {
    "duration": 47,
    "start_time": "2024-06-26T03:38:37.447Z"
   },
   {
    "duration": 38,
    "start_time": "2024-06-26T03:38:37.499Z"
   },
   {
    "duration": 24,
    "start_time": "2024-06-26T03:38:37.540Z"
   },
   {
    "duration": 34,
    "start_time": "2024-06-26T03:38:37.567Z"
   },
   {
    "duration": 32,
    "start_time": "2024-06-26T03:38:37.603Z"
   },
   {
    "duration": 19,
    "start_time": "2024-06-26T03:38:37.640Z"
   },
   {
    "duration": 46,
    "start_time": "2024-06-26T03:38:37.663Z"
   },
   {
    "duration": 23,
    "start_time": "2024-06-26T03:38:37.712Z"
   },
   {
    "duration": 16,
    "start_time": "2024-06-26T03:38:37.738Z"
   },
   {
    "duration": 91,
    "start_time": "2024-06-26T03:38:37.763Z"
   },
   {
    "duration": 60,
    "start_time": "2024-06-26T03:38:37.857Z"
   },
   {
    "duration": 29,
    "start_time": "2024-06-26T03:38:37.921Z"
   },
   {
    "duration": 13,
    "start_time": "2024-06-26T03:38:37.953Z"
   },
   {
    "duration": 34,
    "start_time": "2024-06-26T03:38:37.969Z"
   },
   {
    "duration": 42,
    "start_time": "2024-06-26T03:38:38.008Z"
   },
   {
    "duration": 3,
    "start_time": "2024-06-26T03:38:38.053Z"
   },
   {
    "duration": 45,
    "start_time": "2024-06-26T03:38:38.060Z"
   },
   {
    "duration": 31,
    "start_time": "2024-06-26T03:38:38.108Z"
   },
   {
    "duration": 75,
    "start_time": "2024-06-26T03:38:38.142Z"
   },
   {
    "duration": 53,
    "start_time": "2024-06-26T03:38:38.219Z"
   },
   {
    "duration": 62,
    "start_time": "2024-06-26T03:38:38.276Z"
   },
   {
    "duration": 14,
    "start_time": "2024-06-26T03:38:38.340Z"
   },
   {
    "duration": 197,
    "start_time": "2024-06-26T03:38:38.357Z"
   },
   {
    "duration": 386,
    "start_time": "2024-06-26T03:38:38.558Z"
   },
   {
    "duration": 709,
    "start_time": "2024-06-26T03:38:38.948Z"
   },
   {
    "duration": 8,
    "start_time": "2024-06-26T03:38:39.660Z"
   },
   {
    "duration": 254,
    "start_time": "2024-06-26T03:38:39.671Z"
   },
   {
    "duration": 364,
    "start_time": "2024-06-26T03:38:39.928Z"
   },
   {
    "duration": 564,
    "start_time": "2024-06-26T03:38:40.295Z"
   },
   {
    "duration": 8,
    "start_time": "2024-06-26T03:38:40.862Z"
   },
   {
    "duration": 235,
    "start_time": "2024-06-26T03:38:40.892Z"
   },
   {
    "duration": 353,
    "start_time": "2024-06-26T03:38:41.131Z"
   },
   {
    "duration": 754,
    "start_time": "2024-06-26T03:38:41.491Z"
   },
   {
    "duration": 7,
    "start_time": "2024-06-26T03:38:42.248Z"
   },
   {
    "duration": 236,
    "start_time": "2024-06-26T03:38:42.259Z"
   },
   {
    "duration": 378,
    "start_time": "2024-06-26T03:38:42.497Z"
   },
   {
    "duration": 772,
    "start_time": "2024-06-26T03:38:42.878Z"
   },
   {
    "duration": 7,
    "start_time": "2024-06-26T03:38:43.654Z"
   },
   {
    "duration": 259,
    "start_time": "2024-06-26T03:38:43.665Z"
   },
   {
    "duration": 13,
    "start_time": "2024-06-26T03:38:43.928Z"
   },
   {
    "duration": 20,
    "start_time": "2024-06-26T03:38:43.945Z"
   },
   {
    "duration": 346,
    "start_time": "2024-06-26T03:51:09.867Z"
   },
   {
    "duration": 689,
    "start_time": "2024-06-26T03:51:41.464Z"
   },
   {
    "duration": 199,
    "start_time": "2024-06-26T03:52:24.534Z"
   },
   {
    "duration": 601,
    "start_time": "2024-06-26T03:52:37.196Z"
   },
   {
    "duration": 185,
    "start_time": "2024-06-26T03:52:49.457Z"
   },
   {
    "duration": 195,
    "start_time": "2024-06-26T03:53:05.127Z"
   },
   {
    "duration": 227,
    "start_time": "2024-06-26T03:53:22.407Z"
   },
   {
    "duration": 9,
    "start_time": "2024-06-26T04:00:05.308Z"
   },
   {
    "duration": 329,
    "start_time": "2024-06-26T04:00:18.030Z"
   },
   {
    "duration": 349,
    "start_time": "2024-06-26T04:00:28.510Z"
   },
   {
    "duration": 498,
    "start_time": "2024-06-26T04:00:46.077Z"
   },
   {
    "duration": 24,
    "start_time": "2024-06-26T04:01:32.084Z"
   },
   {
    "duration": 9,
    "start_time": "2024-06-26T04:01:40.182Z"
   },
   {
    "duration": 715,
    "start_time": "2024-06-26T04:51:28.566Z"
   },
   {
    "duration": 278,
    "start_time": "2024-06-26T04:53:00.942Z"
   },
   {
    "duration": 368,
    "start_time": "2024-06-26T05:02:51.980Z"
   },
   {
    "duration": 756,
    "start_time": "2024-06-26T05:10:29.657Z"
   },
   {
    "duration": 206,
    "start_time": "2024-06-26T05:18:38.341Z"
   },
   {
    "duration": 911,
    "start_time": "2024-06-26T05:23:31.462Z"
   },
   {
    "duration": 1410,
    "start_time": "2024-06-26T05:49:02.313Z"
   },
   {
    "duration": 337,
    "start_time": "2024-06-26T05:49:03.728Z"
   },
   {
    "duration": 22,
    "start_time": "2024-06-26T05:49:04.068Z"
   },
   {
    "duration": 10,
    "start_time": "2024-06-26T05:49:04.096Z"
   },
   {
    "duration": 24,
    "start_time": "2024-06-26T05:49:04.111Z"
   },
   {
    "duration": 54,
    "start_time": "2024-06-26T05:49:04.138Z"
   },
   {
    "duration": 18,
    "start_time": "2024-06-26T05:49:04.195Z"
   },
   {
    "duration": 11,
    "start_time": "2024-06-26T05:49:04.216Z"
   },
   {
    "duration": 59,
    "start_time": "2024-06-26T05:49:04.231Z"
   },
   {
    "duration": 14,
    "start_time": "2024-06-26T05:49:04.300Z"
   },
   {
    "duration": 5,
    "start_time": "2024-06-26T05:49:04.321Z"
   },
   {
    "duration": 25,
    "start_time": "2024-06-26T05:49:04.329Z"
   },
   {
    "duration": 51,
    "start_time": "2024-06-26T05:49:04.392Z"
   },
   {
    "duration": 21,
    "start_time": "2024-06-26T05:49:04.446Z"
   },
   {
    "duration": 38,
    "start_time": "2024-06-26T05:49:04.491Z"
   },
   {
    "duration": 67,
    "start_time": "2024-06-26T05:49:04.535Z"
   },
   {
    "duration": 19,
    "start_time": "2024-06-26T05:49:04.606Z"
   },
   {
    "duration": 99,
    "start_time": "2024-06-26T05:49:04.628Z"
   },
   {
    "duration": 45,
    "start_time": "2024-06-26T05:49:04.729Z"
   },
   {
    "duration": 57,
    "start_time": "2024-06-26T05:49:04.778Z"
   },
   {
    "duration": 27,
    "start_time": "2024-06-26T05:49:04.840Z"
   },
   {
    "duration": 34,
    "start_time": "2024-06-26T05:49:04.873Z"
   },
   {
    "duration": 31,
    "start_time": "2024-06-26T05:49:04.911Z"
   },
   {
    "duration": 48,
    "start_time": "2024-06-26T05:49:04.945Z"
   },
   {
    "duration": 24,
    "start_time": "2024-06-26T05:49:04.997Z"
   },
   {
    "duration": 23,
    "start_time": "2024-06-26T05:49:05.024Z"
   },
   {
    "duration": 51,
    "start_time": "2024-06-26T05:49:05.051Z"
   },
   {
    "duration": 110,
    "start_time": "2024-06-26T05:49:05.113Z"
   },
   {
    "duration": 29,
    "start_time": "2024-06-26T05:49:05.226Z"
   },
   {
    "duration": 50,
    "start_time": "2024-06-26T05:49:05.258Z"
   },
   {
    "duration": 13,
    "start_time": "2024-06-26T05:49:05.311Z"
   },
   {
    "duration": 23,
    "start_time": "2024-06-26T05:49:05.327Z"
   },
   {
    "duration": 74,
    "start_time": "2024-06-26T05:49:05.353Z"
   },
   {
    "duration": 5,
    "start_time": "2024-06-26T05:49:05.430Z"
   },
   {
    "duration": 64,
    "start_time": "2024-06-26T05:49:05.440Z"
   },
   {
    "duration": 40,
    "start_time": "2024-06-26T05:49:05.508Z"
   },
   {
    "duration": 66,
    "start_time": "2024-06-26T05:49:05.552Z"
   },
   {
    "duration": 80,
    "start_time": "2024-06-26T05:49:05.622Z"
   },
   {
    "duration": 54,
    "start_time": "2024-06-26T05:49:05.706Z"
   },
   {
    "duration": 34,
    "start_time": "2024-06-26T05:49:05.764Z"
   },
   {
    "duration": 182,
    "start_time": "2024-06-26T05:49:05.802Z"
   },
   {
    "duration": 404,
    "start_time": "2024-06-26T05:49:05.993Z"
   },
   {
    "duration": 762,
    "start_time": "2024-06-26T05:49:06.408Z"
   },
   {
    "duration": 17,
    "start_time": "2024-06-26T05:49:07.175Z"
   },
   {
    "duration": 238,
    "start_time": "2024-06-26T05:49:07.196Z"
   },
   {
    "duration": 373,
    "start_time": "2024-06-26T05:49:07.437Z"
   },
   {
    "duration": 621,
    "start_time": "2024-06-26T05:49:07.814Z"
   },
   {
    "duration": 8,
    "start_time": "2024-06-26T05:49:08.439Z"
   },
   {
    "duration": 239,
    "start_time": "2024-06-26T05:49:08.451Z"
   },
   {
    "duration": 386,
    "start_time": "2024-06-26T05:49:08.693Z"
   },
   {
    "duration": 773,
    "start_time": "2024-06-26T05:49:09.092Z"
   },
   {
    "duration": 9,
    "start_time": "2024-06-26T05:49:09.869Z"
   },
   {
    "duration": 252,
    "start_time": "2024-06-26T05:49:09.893Z"
   },
   {
    "duration": 351,
    "start_time": "2024-06-26T05:49:10.148Z"
   },
   {
    "duration": 840,
    "start_time": "2024-06-26T05:49:10.503Z"
   },
   {
    "duration": 7,
    "start_time": "2024-06-26T05:49:11.347Z"
   },
   {
    "duration": 232,
    "start_time": "2024-06-26T05:49:11.358Z"
   },
   {
    "duration": 14,
    "start_time": "2024-06-26T05:49:11.593Z"
   },
   {
    "duration": 23,
    "start_time": "2024-06-26T05:49:11.614Z"
   },
   {
    "duration": 1469,
    "start_time": "2024-06-26T07:11:31.191Z"
   },
   {
    "duration": 320,
    "start_time": "2024-06-26T07:11:32.664Z"
   },
   {
    "duration": 20,
    "start_time": "2024-06-26T07:11:32.991Z"
   },
   {
    "duration": 12,
    "start_time": "2024-06-26T07:11:33.018Z"
   },
   {
    "duration": 62,
    "start_time": "2024-06-26T07:11:33.033Z"
   },
   {
    "duration": 17,
    "start_time": "2024-06-26T07:11:33.099Z"
   },
   {
    "duration": 16,
    "start_time": "2024-06-26T07:11:33.120Z"
   },
   {
    "duration": 11,
    "start_time": "2024-06-26T07:11:33.138Z"
   },
   {
    "duration": 59,
    "start_time": "2024-06-26T07:11:33.151Z"
   },
   {
    "duration": 14,
    "start_time": "2024-06-26T07:11:33.216Z"
   },
   {
    "duration": 5,
    "start_time": "2024-06-26T07:11:33.233Z"
   },
   {
    "duration": 67,
    "start_time": "2024-06-26T07:11:33.242Z"
   },
   {
    "duration": 42,
    "start_time": "2024-06-26T07:11:33.313Z"
   },
   {
    "duration": 44,
    "start_time": "2024-06-26T07:11:33.359Z"
   },
   {
    "duration": 35,
    "start_time": "2024-06-26T07:11:33.406Z"
   },
   {
    "duration": 59,
    "start_time": "2024-06-26T07:11:33.445Z"
   },
   {
    "duration": 21,
    "start_time": "2024-06-26T07:11:33.508Z"
   },
   {
    "duration": 187,
    "start_time": "2024-06-26T07:11:33.532Z"
   },
   {
    "duration": 80,
    "start_time": "2024-06-26T07:11:33.723Z"
   },
   {
    "duration": 87,
    "start_time": "2024-06-26T07:11:33.806Z"
   },
   {
    "duration": 21,
    "start_time": "2024-06-26T07:11:33.896Z"
   },
   {
    "duration": 71,
    "start_time": "2024-06-26T07:11:33.921Z"
   },
   {
    "duration": 99,
    "start_time": "2024-06-26T07:11:33.996Z"
   },
   {
    "duration": 32,
    "start_time": "2024-06-26T07:11:34.099Z"
   },
   {
    "duration": 28,
    "start_time": "2024-06-26T07:11:34.191Z"
   },
   {
    "duration": 81,
    "start_time": "2024-06-26T07:11:34.223Z"
   },
   {
    "duration": 17,
    "start_time": "2024-06-26T07:11:34.308Z"
   },
   {
    "duration": 197,
    "start_time": "2024-06-26T07:11:34.333Z"
   },
   {
    "duration": 84,
    "start_time": "2024-06-26T07:11:34.533Z"
   },
   {
    "duration": 90,
    "start_time": "2024-06-26T07:11:34.620Z"
   },
   {
    "duration": 19,
    "start_time": "2024-06-26T07:11:34.715Z"
   },
   {
    "duration": 76,
    "start_time": "2024-06-26T07:11:34.737Z"
   },
   {
    "duration": 95,
    "start_time": "2024-06-26T07:11:34.816Z"
   },
   {
    "duration": 3,
    "start_time": "2024-06-26T07:11:34.915Z"
   },
   {
    "duration": 94,
    "start_time": "2024-06-26T07:11:34.922Z"
   },
   {
    "duration": 82,
    "start_time": "2024-06-26T07:11:35.020Z"
   },
   {
    "duration": 103,
    "start_time": "2024-06-26T07:11:35.105Z"
   },
   {
    "duration": 179,
    "start_time": "2024-06-26T07:11:35.212Z"
   },
   {
    "duration": 115,
    "start_time": "2024-06-26T07:11:35.395Z"
   },
   {
    "duration": 15,
    "start_time": "2024-06-26T07:11:35.514Z"
   },
   {
    "duration": 296,
    "start_time": "2024-06-26T07:11:35.533Z"
   },
   {
    "duration": 758,
    "start_time": "2024-06-26T07:11:35.832Z"
   },
   {
    "duration": 1030,
    "start_time": "2024-06-26T07:11:36.594Z"
   },
   {
    "duration": 7,
    "start_time": "2024-06-26T07:11:37.627Z"
   },
   {
    "duration": 238,
    "start_time": "2024-06-26T07:11:37.638Z"
   },
   {
    "duration": 370,
    "start_time": "2024-06-26T07:11:37.879Z"
   },
   {
    "duration": 612,
    "start_time": "2024-06-26T07:11:38.252Z"
   },
   {
    "duration": 7,
    "start_time": "2024-06-26T07:11:38.867Z"
   },
   {
    "duration": 224,
    "start_time": "2024-06-26T07:11:38.891Z"
   },
   {
    "duration": 356,
    "start_time": "2024-06-26T07:11:39.119Z"
   },
   {
    "duration": 733,
    "start_time": "2024-06-26T07:11:39.478Z"
   },
   {
    "duration": 6,
    "start_time": "2024-06-26T07:11:40.214Z"
   },
   {
    "duration": 222,
    "start_time": "2024-06-26T07:11:40.222Z"
   },
   {
    "duration": 336,
    "start_time": "2024-06-26T07:11:40.447Z"
   },
   {
    "duration": 735,
    "start_time": "2024-06-26T07:11:40.791Z"
   },
   {
    "duration": 7,
    "start_time": "2024-06-26T07:11:41.529Z"
   },
   {
    "duration": 230,
    "start_time": "2024-06-26T07:11:41.539Z"
   },
   {
    "duration": 20,
    "start_time": "2024-06-26T07:11:41.773Z"
   },
   {
    "duration": 17,
    "start_time": "2024-06-26T07:11:41.796Z"
   },
   {
    "duration": 5058,
    "start_time": "2024-06-27T04:04:20.094Z"
   },
   {
    "duration": 406,
    "start_time": "2024-06-27T04:04:25.157Z"
   },
   {
    "duration": 17,
    "start_time": "2024-06-27T04:04:25.567Z"
   },
   {
    "duration": 11,
    "start_time": "2024-06-27T04:04:25.589Z"
   },
   {
    "duration": 27,
    "start_time": "2024-06-27T04:04:25.603Z"
   },
   {
    "duration": 15,
    "start_time": "2024-06-27T04:04:25.633Z"
   },
   {
    "duration": 47,
    "start_time": "2024-06-27T04:04:25.651Z"
   },
   {
    "duration": 9,
    "start_time": "2024-06-27T04:04:25.701Z"
   },
   {
    "duration": 19,
    "start_time": "2024-06-27T04:04:25.714Z"
   },
   {
    "duration": 57,
    "start_time": "2024-06-27T04:04:25.741Z"
   },
   {
    "duration": 5,
    "start_time": "2024-06-27T04:04:25.801Z"
   },
   {
    "duration": 19,
    "start_time": "2024-06-27T04:04:25.810Z"
   },
   {
    "duration": 80,
    "start_time": "2024-06-27T04:04:25.832Z"
   },
   {
    "duration": 14,
    "start_time": "2024-06-27T04:04:25.915Z"
   },
   {
    "duration": 34,
    "start_time": "2024-06-27T04:04:25.932Z"
   },
   {
    "duration": 48,
    "start_time": "2024-06-27T04:04:25.968Z"
   },
   {
    "duration": 17,
    "start_time": "2024-06-27T04:04:26.018Z"
   },
   {
    "duration": 95,
    "start_time": "2024-06-27T04:04:26.038Z"
   },
   {
    "duration": 30,
    "start_time": "2024-06-27T04:04:26.136Z"
   },
   {
    "duration": 53,
    "start_time": "2024-06-27T04:04:26.169Z"
   },
   {
    "duration": 19,
    "start_time": "2024-06-27T04:04:26.225Z"
   },
   {
    "duration": 43,
    "start_time": "2024-06-27T04:04:26.247Z"
   },
   {
    "duration": 31,
    "start_time": "2024-06-27T04:04:26.293Z"
   },
   {
    "duration": 17,
    "start_time": "2024-06-27T04:04:26.327Z"
   },
   {
    "duration": 56,
    "start_time": "2024-06-27T04:04:26.347Z"
   },
   {
    "duration": 23,
    "start_time": "2024-06-27T04:04:26.405Z"
   },
   {
    "duration": 14,
    "start_time": "2024-06-27T04:04:26.431Z"
   },
   {
    "duration": 94,
    "start_time": "2024-06-27T04:04:26.453Z"
   },
   {
    "duration": 40,
    "start_time": "2024-06-27T04:04:26.550Z"
   },
   {
    "duration": 29,
    "start_time": "2024-06-27T04:04:26.593Z"
   },
   {
    "duration": 12,
    "start_time": "2024-06-27T04:04:26.625Z"
   },
   {
    "duration": 56,
    "start_time": "2024-06-27T04:04:26.640Z"
   },
   {
    "duration": 44,
    "start_time": "2024-06-27T04:04:26.699Z"
   },
   {
    "duration": 4,
    "start_time": "2024-06-27T04:04:26.746Z"
   },
   {
    "duration": 58,
    "start_time": "2024-06-27T04:04:26.754Z"
   },
   {
    "duration": 28,
    "start_time": "2024-06-27T04:04:26.815Z"
   },
   {
    "duration": 67,
    "start_time": "2024-06-27T04:04:26.846Z"
   },
   {
    "duration": 75,
    "start_time": "2024-06-27T04:04:26.917Z"
   },
   {
    "duration": 49,
    "start_time": "2024-06-27T04:04:26.994Z"
   },
   {
    "duration": 11,
    "start_time": "2024-06-27T04:04:27.046Z"
   },
   {
    "duration": 191,
    "start_time": "2024-06-27T04:04:27.060Z"
   },
   {
    "duration": 349,
    "start_time": "2024-06-27T04:04:27.254Z"
   },
   {
    "duration": 641,
    "start_time": "2024-06-27T04:04:27.606Z"
   },
   {
    "duration": 7,
    "start_time": "2024-06-27T04:04:28.250Z"
   },
   {
    "duration": 232,
    "start_time": "2024-06-27T04:04:28.260Z"
   },
   {
    "duration": 371,
    "start_time": "2024-06-27T04:04:28.496Z"
   },
   {
    "duration": 638,
    "start_time": "2024-06-27T04:04:28.871Z"
   },
   {
    "duration": 7,
    "start_time": "2024-06-27T04:04:29.513Z"
   },
   {
    "duration": 222,
    "start_time": "2024-06-27T04:04:29.523Z"
   },
   {
    "duration": 356,
    "start_time": "2024-06-27T04:04:29.749Z"
   },
   {
    "duration": 671,
    "start_time": "2024-06-27T04:04:30.108Z"
   },
   {
    "duration": 7,
    "start_time": "2024-06-27T04:04:30.789Z"
   },
   {
    "duration": 219,
    "start_time": "2024-06-27T04:04:30.799Z"
   },
   {
    "duration": 348,
    "start_time": "2024-06-27T04:04:31.021Z"
   },
   {
    "duration": 831,
    "start_time": "2024-06-27T04:04:31.373Z"
   },
   {
    "duration": 8,
    "start_time": "2024-06-27T04:04:32.207Z"
   },
   {
    "duration": 230,
    "start_time": "2024-06-27T04:04:32.219Z"
   },
   {
    "duration": 15,
    "start_time": "2024-06-27T04:04:32.453Z"
   },
   {
    "duration": 24,
    "start_time": "2024-06-27T04:04:32.490Z"
   },
   {
    "duration": 306,
    "start_time": "2024-06-27T04:28:26.202Z"
   },
   {
    "duration": 4885,
    "start_time": "2024-06-27T04:28:31.894Z"
   },
   {
    "duration": 345,
    "start_time": "2024-06-27T04:28:36.782Z"
   },
   {
    "duration": 18,
    "start_time": "2024-06-27T04:28:37.130Z"
   },
   {
    "duration": 17,
    "start_time": "2024-06-27T04:28:37.152Z"
   },
   {
    "duration": 16,
    "start_time": "2024-06-27T04:28:37.175Z"
   },
   {
    "duration": 47,
    "start_time": "2024-06-27T04:28:37.195Z"
   },
   {
    "duration": 15,
    "start_time": "2024-06-27T04:28:37.245Z"
   },
   {
    "duration": 15,
    "start_time": "2024-06-27T04:28:37.263Z"
   },
   {
    "duration": 10,
    "start_time": "2024-06-27T04:28:37.281Z"
   },
   {
    "duration": 19,
    "start_time": "2024-06-27T04:28:37.333Z"
   },
   {
    "duration": 11,
    "start_time": "2024-06-27T04:28:37.355Z"
   },
   {
    "duration": 5,
    "start_time": "2024-06-27T04:28:37.369Z"
   },
   {
    "duration": 63,
    "start_time": "2024-06-27T04:28:37.377Z"
   },
   {
    "duration": 39,
    "start_time": "2024-06-27T04:28:37.448Z"
   },
   {
    "duration": 43,
    "start_time": "2024-06-27T04:28:37.490Z"
   },
   {
    "duration": 32,
    "start_time": "2024-06-27T04:28:37.536Z"
   },
   {
    "duration": 26,
    "start_time": "2024-06-27T04:28:37.571Z"
   },
   {
    "duration": 18,
    "start_time": "2024-06-27T04:28:37.632Z"
   },
   {
    "duration": 81,
    "start_time": "2024-06-27T04:28:37.652Z"
   },
   {
    "duration": 29,
    "start_time": "2024-06-27T04:28:37.736Z"
   },
   {
    "duration": 37,
    "start_time": "2024-06-27T04:28:37.767Z"
   },
   {
    "duration": 43,
    "start_time": "2024-06-27T04:28:37.807Z"
   },
   {
    "duration": 13,
    "start_time": "2024-06-27T04:28:37.852Z"
   },
   {
    "duration": 28,
    "start_time": "2024-06-27T04:28:37.868Z"
   },
   {
    "duration": 49,
    "start_time": "2024-06-27T04:28:37.899Z"
   },
   {
    "duration": 22,
    "start_time": "2024-06-27T04:28:37.951Z"
   },
   {
    "duration": 56,
    "start_time": "2024-06-27T04:28:37.976Z"
   },
   {
    "duration": 15,
    "start_time": "2024-06-27T04:28:38.035Z"
   },
   {
    "duration": 85,
    "start_time": "2024-06-27T04:28:38.053Z"
   },
   {
    "duration": 23,
    "start_time": "2024-06-27T04:28:38.140Z"
   },
   {
    "duration": 30,
    "start_time": "2024-06-27T04:28:38.166Z"
   },
   {
    "duration": 38,
    "start_time": "2024-06-27T04:28:38.198Z"
   },
   {
    "duration": 20,
    "start_time": "2024-06-27T04:28:38.242Z"
   },
   {
    "duration": 36,
    "start_time": "2024-06-27T04:28:38.265Z"
   },
   {
    "duration": 4,
    "start_time": "2024-06-27T04:28:38.333Z"
   },
   {
    "duration": 26,
    "start_time": "2024-06-27T04:28:38.340Z"
   },
   {
    "duration": 28,
    "start_time": "2024-06-27T04:28:38.369Z"
   },
   {
    "duration": 34,
    "start_time": "2024-06-27T04:28:38.433Z"
   },
   {
    "duration": 75,
    "start_time": "2024-06-27T04:28:38.470Z"
   },
   {
    "duration": 51,
    "start_time": "2024-06-27T04:28:38.548Z"
   },
   {
    "duration": 29,
    "start_time": "2024-06-27T04:28:38.608Z"
   },
   {
    "duration": 179,
    "start_time": "2024-06-27T04:28:38.640Z"
   },
   {
    "duration": 354,
    "start_time": "2024-06-27T04:28:38.822Z"
   },
   {
    "duration": 606,
    "start_time": "2024-06-27T04:28:39.179Z"
   },
   {
    "duration": 7,
    "start_time": "2024-06-27T04:28:39.789Z"
   },
   {
    "duration": 241,
    "start_time": "2024-06-27T04:28:39.800Z"
   },
   {
    "duration": 421,
    "start_time": "2024-06-27T04:28:40.044Z"
   },
   {
    "duration": 605,
    "start_time": "2024-06-27T04:28:40.468Z"
   },
   {
    "duration": 6,
    "start_time": "2024-06-27T04:28:41.076Z"
   },
   {
    "duration": 210,
    "start_time": "2024-06-27T04:28:41.086Z"
   },
   {
    "duration": 366,
    "start_time": "2024-06-27T04:28:41.300Z"
   },
   {
    "duration": 699,
    "start_time": "2024-06-27T04:28:41.669Z"
   },
   {
    "duration": 6,
    "start_time": "2024-06-27T04:28:42.373Z"
   },
   {
    "duration": 231,
    "start_time": "2024-06-27T04:28:42.383Z"
   },
   {
    "duration": 335,
    "start_time": "2024-06-27T04:28:42.617Z"
   },
   {
    "duration": 830,
    "start_time": "2024-06-27T04:28:42.956Z"
   },
   {
    "duration": 7,
    "start_time": "2024-06-27T04:28:43.789Z"
   },
   {
    "duration": 223,
    "start_time": "2024-06-27T04:28:43.800Z"
   },
   {
    "duration": 12,
    "start_time": "2024-06-27T04:28:44.034Z"
   },
   {
    "duration": 32,
    "start_time": "2024-06-27T04:28:44.051Z"
   },
   {
    "duration": 22,
    "start_time": "2024-06-27T04:32:28.835Z"
   },
   {
    "duration": 841,
    "start_time": "2024-06-27T04:40:06.353Z"
   },
   {
    "duration": 82,
    "start_time": "2024-06-27T04:40:14.732Z"
   },
   {
    "duration": 406,
    "start_time": "2024-06-27T04:40:23.131Z"
   },
   {
    "duration": 701,
    "start_time": "2024-06-27T04:40:39.295Z"
   },
   {
    "duration": 9,
    "start_time": "2024-06-27T04:41:27.233Z"
   },
   {
    "duration": 45,
    "start_time": "2024-06-27T04:41:31.890Z"
   },
   {
    "duration": 705,
    "start_time": "2024-06-27T04:42:29.169Z"
   },
   {
    "duration": 812,
    "start_time": "2024-06-27T04:43:36.030Z"
   },
   {
    "duration": 201,
    "start_time": "2024-06-27T04:44:05.177Z"
   },
   {
    "duration": 394,
    "start_time": "2024-06-27T04:44:38.918Z"
   },
   {
    "duration": 743,
    "start_time": "2024-06-27T04:44:50.848Z"
   },
   {
    "duration": 822,
    "start_time": "2024-06-27T04:45:04.771Z"
   },
   {
    "duration": 740,
    "start_time": "2024-06-27T04:45:19.961Z"
   },
   {
    "duration": 943,
    "start_time": "2024-06-27T04:45:28.382Z"
   },
   {
    "duration": 772,
    "start_time": "2024-06-27T04:45:47.808Z"
   },
   {
    "duration": 783,
    "start_time": "2024-06-27T04:46:40.095Z"
   },
   {
    "duration": 765,
    "start_time": "2024-06-27T04:46:50.549Z"
   },
   {
    "duration": 781,
    "start_time": "2024-06-27T04:48:09.462Z"
   },
   {
    "duration": 276,
    "start_time": "2024-06-27T04:48:22.701Z"
   },
   {
    "duration": 973,
    "start_time": "2024-06-27T04:48:34.089Z"
   },
   {
    "duration": 215,
    "start_time": "2024-06-27T04:48:56.722Z"
   },
   {
    "duration": 283,
    "start_time": "2024-06-27T04:49:51.872Z"
   },
   {
    "duration": 790,
    "start_time": "2024-06-27T04:50:17.342Z"
   },
   {
    "duration": 932,
    "start_time": "2024-06-27T04:50:31.617Z"
   },
   {
    "duration": 1032,
    "start_time": "2024-06-27T04:50:48.556Z"
   },
   {
    "duration": 792,
    "start_time": "2024-06-27T04:51:02.212Z"
   },
   {
    "duration": 3,
    "start_time": "2024-06-27T04:53:03.792Z"
   },
   {
    "duration": 28,
    "start_time": "2024-06-27T04:54:16.825Z"
   },
   {
    "duration": 3,
    "start_time": "2024-06-27T04:54:36.884Z"
   },
   {
    "duration": 13,
    "start_time": "2024-06-27T05:02:45.900Z"
   },
   {
    "duration": 1293,
    "start_time": "2024-06-27T22:11:45.493Z"
   },
   {
    "duration": 272,
    "start_time": "2024-06-27T22:11:46.790Z"
   },
   {
    "duration": 17,
    "start_time": "2024-06-27T22:11:47.065Z"
   },
   {
    "duration": 17,
    "start_time": "2024-06-27T22:11:47.086Z"
   },
   {
    "duration": 37,
    "start_time": "2024-06-27T22:11:47.106Z"
   },
   {
    "duration": 14,
    "start_time": "2024-06-27T22:11:47.146Z"
   },
   {
    "duration": 16,
    "start_time": "2024-06-27T22:11:47.163Z"
   },
   {
    "duration": 48,
    "start_time": "2024-06-27T22:11:47.182Z"
   },
   {
    "duration": 19,
    "start_time": "2024-06-27T22:11:47.233Z"
   },
   {
    "duration": 11,
    "start_time": "2024-06-27T22:11:47.258Z"
   },
   {
    "duration": 6,
    "start_time": "2024-06-27T22:11:47.272Z"
   },
   {
    "duration": 60,
    "start_time": "2024-06-27T22:11:47.281Z"
   },
   {
    "duration": 43,
    "start_time": "2024-06-27T22:11:47.344Z"
   },
   {
    "duration": 40,
    "start_time": "2024-06-27T22:11:47.390Z"
   },
   {
    "duration": 34,
    "start_time": "2024-06-27T22:11:47.433Z"
   },
   {
    "duration": 25,
    "start_time": "2024-06-27T22:11:47.470Z"
   },
   {
    "duration": 44,
    "start_time": "2024-06-27T22:11:47.498Z"
   },
   {
    "duration": 58,
    "start_time": "2024-06-27T22:11:47.545Z"
   },
   {
    "duration": 53,
    "start_time": "2024-06-27T22:11:47.605Z"
   },
   {
    "duration": 38,
    "start_time": "2024-06-27T22:11:47.661Z"
   },
   {
    "duration": 41,
    "start_time": "2024-06-27T22:11:47.702Z"
   },
   {
    "duration": 20,
    "start_time": "2024-06-27T22:11:47.746Z"
   },
   {
    "duration": 13,
    "start_time": "2024-06-27T22:11:47.768Z"
   },
   {
    "duration": 68,
    "start_time": "2024-06-27T22:11:47.784Z"
   },
   {
    "duration": 20,
    "start_time": "2024-06-27T22:11:47.855Z"
   },
   {
    "duration": 49,
    "start_time": "2024-06-27T22:11:47.881Z"
   },
   {
    "duration": 24,
    "start_time": "2024-06-27T22:11:47.934Z"
   },
   {
    "duration": 14,
    "start_time": "2024-06-27T22:11:47.966Z"
   },
   {
    "duration": 101,
    "start_time": "2024-06-27T22:11:47.984Z"
   },
   {
    "duration": 25,
    "start_time": "2024-06-27T22:11:48.088Z"
   },
   {
    "duration": 42,
    "start_time": "2024-06-27T22:11:48.115Z"
   },
   {
    "duration": 30,
    "start_time": "2024-06-27T22:11:48.160Z"
   },
   {
    "duration": 39,
    "start_time": "2024-06-27T22:11:48.193Z"
   },
   {
    "duration": 3,
    "start_time": "2024-06-27T22:11:48.235Z"
   },
   {
    "duration": 39,
    "start_time": "2024-06-27T22:11:48.241Z"
   },
   {
    "duration": 4,
    "start_time": "2024-06-27T22:11:48.283Z"
   },
   {
    "duration": 60,
    "start_time": "2024-06-27T22:11:48.291Z"
   },
   {
    "duration": 3,
    "start_time": "2024-06-27T22:11:48.354Z"
   },
   {
    "duration": 35,
    "start_time": "2024-06-27T22:11:48.360Z"
   },
   {
    "duration": 83,
    "start_time": "2024-06-27T22:11:48.398Z"
   },
   {
    "duration": 74,
    "start_time": "2024-06-27T22:11:48.484Z"
   },
   {
    "duration": 11,
    "start_time": "2024-06-27T22:11:48.561Z"
   },
   {
    "duration": 188,
    "start_time": "2024-06-27T22:11:48.575Z"
   },
   {
    "duration": 367,
    "start_time": "2024-06-27T22:11:48.766Z"
   },
   {
    "duration": 642,
    "start_time": "2024-06-27T22:11:49.135Z"
   },
   {
    "duration": 7,
    "start_time": "2024-06-27T22:11:49.780Z"
   },
   {
    "duration": 223,
    "start_time": "2024-06-27T22:11:49.789Z"
   },
   {
    "duration": 808,
    "start_time": "2024-06-27T22:11:50.014Z"
   },
   {
    "duration": 350,
    "start_time": "2024-06-27T22:11:50.825Z"
   },
   {
    "duration": 592,
    "start_time": "2024-06-27T22:11:51.178Z"
   },
   {
    "duration": 8,
    "start_time": "2024-06-27T22:11:51.772Z"
   },
   {
    "duration": 220,
    "start_time": "2024-06-27T22:11:51.783Z"
   },
   {
    "duration": 897,
    "start_time": "2024-06-27T22:11:52.006Z"
   },
   {
    "duration": 344,
    "start_time": "2024-06-27T22:11:52.907Z"
   },
   {
    "duration": 664,
    "start_time": "2024-06-27T22:11:53.254Z"
   },
   {
    "duration": 11,
    "start_time": "2024-06-27T22:11:53.921Z"
   },
   {
    "duration": 221,
    "start_time": "2024-06-27T22:11:53.935Z"
   },
   {
    "duration": 793,
    "start_time": "2024-06-27T22:11:54.159Z"
   },
   {
    "duration": 422,
    "start_time": "2024-06-27T22:11:54.955Z"
   },
   {
    "duration": 770,
    "start_time": "2024-06-27T22:11:55.380Z"
   },
   {
    "duration": 6,
    "start_time": "2024-06-27T22:11:56.153Z"
   },
   {
    "duration": 219,
    "start_time": "2024-06-27T22:11:56.163Z"
   },
   {
    "duration": 792,
    "start_time": "2024-06-27T22:11:56.389Z"
   },
   {
    "duration": 13,
    "start_time": "2024-06-27T22:11:57.184Z"
   },
   {
    "duration": 36,
    "start_time": "2024-06-27T22:11:57.200Z"
   }
  ],
  "colab": {
   "provenance": []
  },
  "kernelspec": {
   "display_name": "Python 3 (ipykernel)",
   "language": "python",
   "name": "python3"
  },
  "language_info": {
   "codemirror_mode": {
    "name": "ipython",
    "version": 3
   },
   "file_extension": ".py",
   "mimetype": "text/x-python",
   "name": "python",
   "nbconvert_exporter": "python",
   "pygments_lexer": "ipython3",
   "version": "3.9.19"
  },
  "toc": {
   "base_numbering": 1,
   "nav_menu": {},
   "number_sections": true,
   "sideBar": true,
   "skip_h1_title": false,
   "title_cell": "Table of Contents",
   "title_sidebar": "Contents",
   "toc_cell": false,
   "toc_position": {
    "height": "calc(100% - 180px)",
    "left": "10px",
    "top": "150px",
    "width": "165px"
   },
   "toc_section_display": true,
   "toc_window_display": true
  }
 },
 "nbformat": 4,
 "nbformat_minor": 1
}
