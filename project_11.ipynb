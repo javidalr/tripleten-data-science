{
 "cells": [
  {
   "cell_type": "markdown",
   "metadata": {},
   "source": [
    "\n",
    "**Comentario del Revisor**\n",
    "\n",
    "Hola!\n",
    "\n",
    "Soy Juan Manuel Romero, pero siéntete libre de llamarme Juanma. Soy code reviewer en Tripleten y hoy estaré revisando tu entrega.\n",
    "\n",
    "Para simular la dinámica de un ambiente de trabajo, si veo algún error, en primer instancia solo los señalaré, dándote la oportunidad de encontrarlos y corregirlos por tu cuenta. En un trabajo real, el líder de tu equipo hará una dinámica similar. En caso de que no puedas resolver la tarea, te daré una información más precisa en la próxima revisión. \n",
    "\n",
    "Solo un aviso rápido: cuando estés revisando el proyecto, por favor deja mis comentarios originales tal como están. De esta manera, podemos seguir fácilmente el progreso y asegurarnos de que no se nos pase nada por alto. Y, si realizas algún cambio basado en mis comentarios, sería genial si pudieras resaltar esas actualizaciones para que se destaquen.\n",
    "\n",
    "Puedes encontrar mis comentarios en cajas verdes, amarillas o rojas como estas:\n",
    "\n",
    "<div class=\"alert alert-block alert-success\"> \n",
    "<b>Comentario del Revisor</b> <a class=\"tocSkip\"></a>\n",
    "\n",
    "Éxito. Todo se ha hecho correctamente.\n",
    "\n",
    "</div>\n",
    "\n",
    "\n",
    "<div class=\"alert alert-block alert-warning\"> \n",
    "<b>Comentario del Revisor</b> <a class=\"tocSkip\"></a>\n",
    "\n",
    "Observaciones. Algunas recomendaciones.\n",
    "\n",
    "</div> \n",
    "\n",
    "\n",
    "<div class=\"alert alert-block alert-danger\">\n",
    "<b>Comentario del Revisor</b> <a class=\"tocSkip\"></a>\n",
    "\n",
    "Requiere corrección. El bloque requiere algunas correcciones. El trabajo no puede ser aceptado con los comentarios en rojo.\n",
    "\n",
    "</div>\n",
    "\n",
    "Puedes responderme usando esto:\n",
    "\n",
    "<div class=\"alert alert-block alert-info\"> <b>Respuesta del estudiante.</b> <a class=\"tocSkip\"></a> </div>"
   ]
  },
  {
   "cell_type": "markdown",
   "metadata": {},
   "source": [
    "<h1><center>Soluciones para Compañia de Seguros con Machine Learning</center></h1>"
   ]
  },
  {
   "cell_type": "markdown",
   "metadata": {
    "toc": true
   },
   "source": [
    "<h1>Table of Contents<span class=\"tocSkip\"></span></h1>\n",
    "<div class=\"toc\"><ul class=\"toc-item\"><li><span><a href=\"#Problema-de-negocio\" data-toc-modified-id=\"Problema-de-negocio-1\"><span class=\"toc-item-num\">1&nbsp;&nbsp;</span><strong>Problema de negocio</strong></a></span><ul class=\"toc-item\"><li><span><a href=\"#Instrucciones-del-proyecto\" data-toc-modified-id=\"Instrucciones-del-proyecto-1.1\"><span class=\"toc-item-num\">1.1&nbsp;&nbsp;</span>Instrucciones del proyecto</a></span></li><li><span><a href=\"#Objetivos\" data-toc-modified-id=\"Objetivos-1.2\"><span class=\"toc-item-num\">1.2&nbsp;&nbsp;</span>Objetivos</a></span></li><li><span><a href=\"#Propuesta-del-proyecto\" data-toc-modified-id=\"Propuesta-del-proyecto-1.3\"><span class=\"toc-item-num\">1.3&nbsp;&nbsp;</span>Propuesta del proyecto</a></span></li></ul></li><li><span><a href=\"#Información-preliminar\" data-toc-modified-id=\"Información-preliminar-2\"><span class=\"toc-item-num\">2&nbsp;&nbsp;</span><strong>Información preliminar</strong></a></span><ul class=\"toc-item\"><li><span><a href=\"#Descripción-de-los-datos\" data-toc-modified-id=\"Descripción-de-los-datos-2.1\"><span class=\"toc-item-num\">2.1&nbsp;&nbsp;</span>Descripción de los datos</a></span></li><li><span><a href=\"#Ambiente-y-librerias\" data-toc-modified-id=\"Ambiente-y-librerias-2.2\"><span class=\"toc-item-num\">2.2&nbsp;&nbsp;</span>Ambiente y librerias</a></span></li><li><span><a href=\"#Carga-y-lectura-de-datos\" data-toc-modified-id=\"Carga-y-lectura-de-datos-2.3\"><span class=\"toc-item-num\">2.3&nbsp;&nbsp;</span>Carga y lectura de datos</a></span></li></ul></li><li><span><a href=\"#Análisis-exploratorio-de-datos\" data-toc-modified-id=\"Análisis-exploratorio-de-datos-3\"><span class=\"toc-item-num\">3&nbsp;&nbsp;</span><strong>Análisis exploratorio de datos</strong></a></span><ul class=\"toc-item\"><li><span><a href=\"#Tarea-1:-Clientes-similares\" data-toc-modified-id=\"Tarea-1:-Clientes-similares-3.1\"><span class=\"toc-item-num\">3.1&nbsp;&nbsp;</span>Tarea 1: Clientes similares</a></span><ul class=\"toc-item\"><li><span><a href=\"#Metricas-Euclidiana-y-Manhattan\" data-toc-modified-id=\"Metricas-Euclidiana-y-Manhattan-3.1.1\"><span class=\"toc-item-num\">3.1.1&nbsp;&nbsp;</span>Metricas Euclidiana y Manhattan</a></span></li><li><span><a href=\"#Respuestas-a-las-preguntas\" data-toc-modified-id=\"Respuestas-a-las-preguntas-3.1.2\"><span class=\"toc-item-num\">3.1.2&nbsp;&nbsp;</span>Respuestas a las preguntas</a></span></li></ul></li><li><span><a href=\"#Tarea-2:-¿Es-probable-que-el-cliente-reciba-una-prestación-del-seguro?\" data-toc-modified-id=\"Tarea-2:-¿Es-probable-que-el-cliente-reciba-una-prestación-del-seguro?-3.2\"><span class=\"toc-item-num\">3.2&nbsp;&nbsp;</span>Tarea 2: ¿Es probable que el cliente reciba una prestación del seguro?</a></span><ul class=\"toc-item\"><li><span><a href=\"#Revisando-variable-objetivo\" data-toc-modified-id=\"Revisando-variable-objetivo-3.2.1\"><span class=\"toc-item-num\">3.2.1&nbsp;&nbsp;</span>Revisando variable objetivo</a></span></li><li><span><a href=\"#Verificando-el-balance-de-la-variable-objetivo\" data-toc-modified-id=\"Verificando-el-balance-de-la-variable-objetivo-3.2.2\"><span class=\"toc-item-num\">3.2.2&nbsp;&nbsp;</span>Verificando el balance de la variable objetivo</a></span></li><li><span><a href=\"#Creación-de-funciones-de-clasificación-para-kNN\" data-toc-modified-id=\"Creación-de-funciones-de-clasificación-para-kNN-3.2.3\"><span class=\"toc-item-num\">3.2.3&nbsp;&nbsp;</span>Creación de funciones de clasificación para kNN</a></span></li><li><span><a href=\"#Verificando-la-puntuación-del-modelo-dummy\" data-toc-modified-id=\"Verificando-la-puntuación-del-modelo-dummy-3.2.4\"><span class=\"toc-item-num\">3.2.4&nbsp;&nbsp;</span>Verificando la puntuación del modelo dummy</a></span></li><li><span><a href=\"#División-del-dataset,-en-datos-de-entrenamiento-y-prueba,-con-una-proporción-de-70:30\" data-toc-modified-id=\"División-del-dataset,-en-datos-de-entrenamiento-y-prueba,-con-una-proporción-de-70:30-3.2.5\"><span class=\"toc-item-num\">3.2.5&nbsp;&nbsp;</span>División del dataset, en datos de entrenamiento y prueba, con una proporción de 70:30</a></span></li><li><span><a href=\"#Creación-de-modelo-para-datos-no-escalados\" data-toc-modified-id=\"Creación-de-modelo-para-datos-no-escalados-3.2.6\"><span class=\"toc-item-num\">3.2.6&nbsp;&nbsp;</span>Creación de modelo para datos no escalados</a></span></li><li><span><a href=\"#Pruebas-de-modelos-en-datos-escalados\" data-toc-modified-id=\"Pruebas-de-modelos-en-datos-escalados-3.2.7\"><span class=\"toc-item-num\">3.2.7&nbsp;&nbsp;</span>Pruebas de modelos en datos escalados</a></span></li><li><span><a href=\"#Conclusión\" data-toc-modified-id=\"Conclusión-3.2.8\"><span class=\"toc-item-num\">3.2.8&nbsp;&nbsp;</span>Conclusión</a></span></li></ul></li><li><span><a href=\"#Tarea-3:-Regresión-(con-regresión-lineal)\" data-toc-modified-id=\"Tarea-3:-Regresión-(con-regresión-lineal)-3.3\"><span class=\"toc-item-num\">3.3&nbsp;&nbsp;</span>Tarea 3: Regresión (con regresión lineal)</a></span><ul class=\"toc-item\"><li><span><a href=\"#Evaluando-el-RMSE-con-datos-no-escalados\" data-toc-modified-id=\"Evaluando-el-RMSE-con-datos-no-escalados-3.3.1\"><span class=\"toc-item-num\">3.3.1&nbsp;&nbsp;</span>Evaluando el RMSE con datos no escalados</a></span></li><li><span><a href=\"#Evaluando-el-RMSE-con-datos-escalados\" data-toc-modified-id=\"Evaluando-el-RMSE-con-datos-escalados-3.3.2\"><span class=\"toc-item-num\">3.3.2&nbsp;&nbsp;</span>Evaluando el RMSE con datos escalados</a></span></li><li><span><a href=\"#Conclusión\" data-toc-modified-id=\"Conclusión-3.3.3\"><span class=\"toc-item-num\">3.3.3&nbsp;&nbsp;</span>Conclusión</a></span></li></ul></li><li><span><a href=\"#Tarea-4:-Ofuscar-datos\" data-toc-modified-id=\"Tarea-4:-Ofuscar-datos-3.4\"><span class=\"toc-item-num\">3.4&nbsp;&nbsp;</span>Tarea 4: Ofuscar datos</a></span></li></ul></li><li><span><a href=\"#Prueba-de-que-la-ofuscación-de-datos-puede-funcionar-con-regresión-lineal\" data-toc-modified-id=\"Prueba-de-que-la-ofuscación-de-datos-puede-funcionar-con-regresión-lineal-4\"><span class=\"toc-item-num\">4&nbsp;&nbsp;</span><strong>Prueba de que la ofuscación de datos puede funcionar con regresión lineal</strong></a></span></li><li><span><a href=\"#Prueba-de-regresión-lineal-con-ofuscación-de-datos\" data-toc-modified-id=\"Prueba-de-regresión-lineal-con-ofuscación-de-datos-5\"><span class=\"toc-item-num\">5&nbsp;&nbsp;</span><strong>Prueba de regresión lineal con ofuscación de datos</strong></a></span><ul class=\"toc-item\"><li><ul class=\"toc-item\"><li><span><a href=\"#Creando-modelo-de-regresión-lineal\" data-toc-modified-id=\"Creando-modelo-de-regresión-lineal-5.0.1\"><span class=\"toc-item-num\">5.0.1&nbsp;&nbsp;</span>Creando modelo de regresión lineal</a></span></li></ul></li></ul></li><li><span><a href=\"#Conclusiones\" data-toc-modified-id=\"Conclusiones-6\"><span class=\"toc-item-num\">6&nbsp;&nbsp;</span><strong>Conclusiones</strong></a></span></li><li><span><a href=\"#Lista-de-control\" data-toc-modified-id=\"Lista-de-control-7\"><span class=\"toc-item-num\">7&nbsp;&nbsp;</span><strong>Lista de control</strong></a></span></li><li><span><a href=\"#Apéndices\" data-toc-modified-id=\"Apéndices-8\"><span class=\"toc-item-num\">8&nbsp;&nbsp;</span><strong>Apéndices</strong></a></span><ul class=\"toc-item\"><li><span><a href=\"#Apéndice-A:-Escribir-fórmulas-en-los-cuadernos-de-Jupyter\" data-toc-modified-id=\"Apéndice-A:-Escribir-fórmulas-en-los-cuadernos-de-Jupyter-8.1\"><span class=\"toc-item-num\">8.1&nbsp;&nbsp;</span>Apéndice A: Escribir fórmulas en los cuadernos de Jupyter</a></span></li><li><span><a href=\"#Apéndice-B:-Propiedades-de-las-matrices\" data-toc-modified-id=\"Apéndice-B:-Propiedades-de-las-matrices-8.2\"><span class=\"toc-item-num\">8.2&nbsp;&nbsp;</span>Apéndice B: Propiedades de las matrices</a></span></li></ul></li></ul></div>"
   ]
  },
  {
   "cell_type": "markdown",
   "metadata": {},
   "source": [
    "<div class=\"alert alert-block alert-success\"> \n",
    "<b>Comentario del Revisor #1</b> <a class=\"tocSkip\"></a>\n",
    "\n",
    "Excelente estructura de proyecto! \n",
    "\n",
    "</div>"
   ]
  },
  {
   "cell_type": "markdown",
   "metadata": {},
   "source": [
    "## **Problema de negocio**"
   ]
  },
  {
   "cell_type": "markdown",
   "metadata": {},
   "source": [
    "Este proyecto muestra las aplicaciones del algebra lineal, combinando las matematicas con las tareas del mundo real. El proyecto ya fue inicializado, por lo que es necesario revisar el codigo ya escrito, leer las descripciones, apéndices y tareas propuestas para desarrollar y concluir en la obtenci'on de los resultados"
   ]
  },
  {
   "cell_type": "markdown",
   "metadata": {},
   "source": [
    "### Instrucciones del proyecto"
   ]
  },
  {
   "cell_type": "markdown",
   "metadata": {},
   "source": [
    "La compañía de seguros Sure Tomorrow quiere resolver varias tareas con la ayuda de machine learning y te pide que evalúes esa posibilidad.\n",
    "- Tarea 1: encontrar clientes que sean similares a un cliente determinado. Esto ayudará a los agentes de la compañía con el marketing.\n",
    "- Tarea 2: predecir la probabilidad de que un nuevo cliente reciba una prestación del seguro. ¿Puede un modelo de predictivo funcionar mejor que un modelo dummy?\n",
    "- Tarea 3: predecir el número de prestaciones de seguro que un nuevo cliente pueda recibir utilizando un modelo de regresión lineal.\n",
    "- Tarea 4: proteger los datos personales de los clientes sin afectar al modelo del ejercicio anterior. Es necesario desarrollar un algoritmo de transformación de datos que dificulte la recuperación de la información personal si los datos caen en manos equivocadas. Esto se denomina enmascaramiento u ofuscación de datos. Pero los datos deben protegerse de tal manera que no se vea afectada la calidad de los modelos de machine learning. No es necesario elegir el mejor modelo, basta con demostrar que el algoritmo funciona correctamente.\n"
   ]
  },
  {
   "cell_type": "markdown",
   "metadata": {},
   "source": [
    "### Objetivos"
   ]
  },
  {
   "cell_type": "markdown",
   "metadata": {},
   "source": [
    "El énfasis principal está en demostrar la precisión del algoritmo utilizado en el desarrollo del proyecto, en lugar de probar y comparar diferentes modelos y seleccionar el mejor.  "
   ]
  },
  {
   "cell_type": "markdown",
   "metadata": {},
   "source": [
    "### Propuesta del proyecto"
   ]
  },
  {
   "cell_type": "markdown",
   "metadata": {},
   "source": [
    "El proyecto se compondrá de las siguientes etapas\n",
    "\n",
    "**1. Carga y Lectura de datos**\n",
    "   - Carga del dataset desde el archivo `insurance_us.csv`.\n",
    "   - Explorar conjunto de datos para comprender sus variables y estructura.\n",
    "   - Verificar la existencia de valores ausentes, duplicados, los tipos de datos y estadisticas basicas.\n",
    "    \n",
    "**2. Análisis exploratorio de datos (EDA)**\n",
    "   - Realizar un analisis exploratorio para comprender las relaciones entre las variables de caracteristicas y la variable objetivo (insurance_benefits).\n",
    "   - Identificación de patrones o correlaciones mediante la visualizacion de los datos.\n",
    "\n",
    "**3. Tarea 1: Clientes similares**\n",
    "   - Crear función para encontrar a los \"k\" vecinos más cercanos para el objeto \"n\" en función de una metrica de distancia especifica.\n",
    "\n",
    "**4. Tarea 2: Predicción de reclamos de seguros**\n",
    "   - Evaluar si el modelo de clasificación \"kNN\" tiene un mejor enfoque que el modelo ficticio para predecir la aceptacion de reclamos.\n",
    "\n",
    "**5. Tarea 3: Regresión Lineal**\n",
    "   - Aplicación de la métrica del \"Error Cuadrático Medio\" (RMSE), con el fin de evaluar un modelo de regresión lineal para la variable objetivo.\n",
    "\n",
    "**6. Tarea 4: Ofuscación de datos**\n",
    "\n",
    "   - Multiplicar las variables numéricas por ujna matriz invertible \"P\" para aplicar la técnica de ofuscación. \n",
    "   - Demostrar la eficacia de la técnica de ofuscacion de datos en el modelo de regresión lineal.\n",
    "   \n",
    "**7. Evaluar Regresión lineal con la ofuscación de datos**\n",
    "   - Probar modelo de regresion lineal con datos ofuscados para evaluar su rendimiento y precisión."
   ]
  },
  {
   "cell_type": "markdown",
   "metadata": {},
   "source": [
    "## **Información preliminar**"
   ]
  },
  {
   "cell_type": "markdown",
   "metadata": {},
   "source": [
    "### Descripción de los datos"
   ]
  },
  {
   "cell_type": "markdown",
   "metadata": {},
   "source": [
    "El conjunto de datos esta disponible en el archivo `insurance_us.csv`. A continuación, una descripción de los datos. \n",
    "\n",
    "* Caracteristicas (Features)\n",
    "    - Gender: Género del asegurado (male: Masculino, female: Femenino)\n",
    "    - Age: Edad del asegurado, en años. (variable numérica)\n",
    "    - Income: Ingresos del asegurado. (variable numérica)\n",
    "    - Family Members: Cantidad de familiares asociados al seguro.\n",
    "    \n",
    "    \n",
    "* Objetivo (Target)\n",
    "    - Insurance Benefits: Cantidad de beneficios de seguro recibidos por el asegurado en los ultimos 5 años."
   ]
  },
  {
   "cell_type": "markdown",
   "metadata": {},
   "source": [
    "### Ambiente y librerias"
   ]
  },
  {
   "cell_type": "code",
   "execution_count": 52,
   "metadata": {},
   "outputs": [],
   "source": [
    "# pip install scikit-learn --upgrade\n",
    "\n",
    "# Entrega error al correr la celda"
   ]
  },
  {
   "cell_type": "code",
   "execution_count": 53,
   "metadata": {},
   "outputs": [],
   "source": [
    "# Importando librerias del proyecto\n",
    "\n",
    "import numpy as np\n",
    "import pandas as pd\n",
    "import math\n",
    "\n",
    "import seaborn as sns\n",
    "\n",
    "import sklearn.linear_model\n",
    "from sklearn.metrics import f1_score, confusion_matrix\n",
    "from sklearn.neighbors import NearestNeighbors, KNeighborsClassifier\n",
    "from sklearn.preprocessing import MaxAbsScaler\n",
    "\n",
    "from sklearn.model_selection import train_test_split\n",
    "\n",
    "from IPython.display import display\n",
    "\n",
    "seed = 12345\n",
    "np.set_printoptions(suppress=True)"
   ]
  },
  {
   "cell_type": "markdown",
   "metadata": {},
   "source": [
    "### Carga y lectura de datos"
   ]
  },
  {
   "cell_type": "markdown",
   "metadata": {},
   "source": [
    "Carga los datos y haz una revisión básica para comprobar que no hay problemas obvios."
   ]
  },
  {
   "cell_type": "code",
   "execution_count": 54,
   "metadata": {},
   "outputs": [],
   "source": [
    "# Carga de datos \n",
    "\n",
    "df = pd.read_csv('/datasets/insurance_us.csv')"
   ]
  },
  {
   "cell_type": "markdown",
   "metadata": {},
   "source": [
    "Renombramos las columnas para que el código se vea más coherente con su estilo."
   ]
  },
  {
   "cell_type": "code",
   "execution_count": 55,
   "metadata": {},
   "outputs": [],
   "source": [
    "# Renombrando columnas del dataset\n",
    "\n",
    "df = df.rename(columns = {'Gender': 'gender',\n",
    "                          'Age': 'age',\n",
    "                          'Salary': 'income',\n",
    "                          'Family members': 'family_members',\n",
    "                          'Insurance benefits': 'insurance_benefits'})"
   ]
  },
  {
   "cell_type": "markdown",
   "metadata": {},
   "source": [
    "<div class=\"alert alert-block alert-warning\"> \n",
    "<b>Comentario del Revisor #1</b> <a class=\"tocSkip\"></a>\n",
    "\n",
    "En vez de hacer este cambio a mano, puedes utilizar funciones como hemos hecho en sprints anteriores.\n",
    "\n",
    "</div>"
   ]
  },
  {
   "cell_type": "code",
   "execution_count": 56,
   "metadata": {},
   "outputs": [
    {
     "data": {
      "text/html": [
       "<div>\n",
       "<style scoped>\n",
       "    .dataframe tbody tr th:only-of-type {\n",
       "        vertical-align: middle;\n",
       "    }\n",
       "\n",
       "    .dataframe tbody tr th {\n",
       "        vertical-align: top;\n",
       "    }\n",
       "\n",
       "    .dataframe thead th {\n",
       "        text-align: right;\n",
       "    }\n",
       "</style>\n",
       "<table border=\"1\" class=\"dataframe\">\n",
       "  <thead>\n",
       "    <tr style=\"text-align: right;\">\n",
       "      <th></th>\n",
       "      <th>gender</th>\n",
       "      <th>age</th>\n",
       "      <th>income</th>\n",
       "      <th>family_members</th>\n",
       "      <th>insurance_benefits</th>\n",
       "    </tr>\n",
       "  </thead>\n",
       "  <tbody>\n",
       "    <tr>\n",
       "      <th>4291</th>\n",
       "      <td>0</td>\n",
       "      <td>25.0</td>\n",
       "      <td>44500.0</td>\n",
       "      <td>0</td>\n",
       "      <td>0</td>\n",
       "    </tr>\n",
       "    <tr>\n",
       "      <th>450</th>\n",
       "      <td>0</td>\n",
       "      <td>29.0</td>\n",
       "      <td>46800.0</td>\n",
       "      <td>0</td>\n",
       "      <td>0</td>\n",
       "    </tr>\n",
       "    <tr>\n",
       "      <th>4893</th>\n",
       "      <td>1</td>\n",
       "      <td>21.0</td>\n",
       "      <td>57500.0</td>\n",
       "      <td>1</td>\n",
       "      <td>0</td>\n",
       "    </tr>\n",
       "    <tr>\n",
       "      <th>2916</th>\n",
       "      <td>0</td>\n",
       "      <td>31.0</td>\n",
       "      <td>34900.0</td>\n",
       "      <td>0</td>\n",
       "      <td>0</td>\n",
       "    </tr>\n",
       "    <tr>\n",
       "      <th>4556</th>\n",
       "      <td>0</td>\n",
       "      <td>23.0</td>\n",
       "      <td>23000.0</td>\n",
       "      <td>1</td>\n",
       "      <td>0</td>\n",
       "    </tr>\n",
       "    <tr>\n",
       "      <th>4374</th>\n",
       "      <td>0</td>\n",
       "      <td>26.0</td>\n",
       "      <td>43300.0</td>\n",
       "      <td>1</td>\n",
       "      <td>0</td>\n",
       "    </tr>\n",
       "    <tr>\n",
       "      <th>2338</th>\n",
       "      <td>1</td>\n",
       "      <td>27.0</td>\n",
       "      <td>45900.0</td>\n",
       "      <td>0</td>\n",
       "      <td>0</td>\n",
       "    </tr>\n",
       "    <tr>\n",
       "      <th>3851</th>\n",
       "      <td>1</td>\n",
       "      <td>40.0</td>\n",
       "      <td>42700.0</td>\n",
       "      <td>0</td>\n",
       "      <td>0</td>\n",
       "    </tr>\n",
       "    <tr>\n",
       "      <th>3122</th>\n",
       "      <td>0</td>\n",
       "      <td>27.0</td>\n",
       "      <td>36300.0</td>\n",
       "      <td>0</td>\n",
       "      <td>0</td>\n",
       "    </tr>\n",
       "    <tr>\n",
       "      <th>3636</th>\n",
       "      <td>1</td>\n",
       "      <td>40.0</td>\n",
       "      <td>47400.0</td>\n",
       "      <td>1</td>\n",
       "      <td>0</td>\n",
       "    </tr>\n",
       "  </tbody>\n",
       "</table>\n",
       "</div>"
      ],
      "text/plain": [
       "      gender   age   income  family_members  insurance_benefits\n",
       "4291       0  25.0  44500.0               0                   0\n",
       "450        0  29.0  46800.0               0                   0\n",
       "4893       1  21.0  57500.0               1                   0\n",
       "2916       0  31.0  34900.0               0                   0\n",
       "4556       0  23.0  23000.0               1                   0\n",
       "4374       0  26.0  43300.0               1                   0\n",
       "2338       1  27.0  45900.0               0                   0\n",
       "3851       1  40.0  42700.0               0                   0\n",
       "3122       0  27.0  36300.0               0                   0\n",
       "3636       1  40.0  47400.0               1                   0"
      ]
     },
     "execution_count": 56,
     "metadata": {},
     "output_type": "execute_result"
    }
   ],
   "source": [
    "# Revisando los datos\n",
    "\n",
    "df.sample(10)"
   ]
  },
  {
   "cell_type": "code",
   "execution_count": 57,
   "metadata": {},
   "outputs": [
    {
     "name": "stdout",
     "output_type": "stream",
     "text": [
      "<class 'pandas.core.frame.DataFrame'>\n",
      "RangeIndex: 5000 entries, 0 to 4999\n",
      "Data columns (total 5 columns):\n",
      " #   Column              Non-Null Count  Dtype  \n",
      "---  ------              --------------  -----  \n",
      " 0   gender              5000 non-null   int64  \n",
      " 1   age                 5000 non-null   float64\n",
      " 2   income              5000 non-null   float64\n",
      " 3   family_members      5000 non-null   int64  \n",
      " 4   insurance_benefits  5000 non-null   int64  \n",
      "dtypes: float64(2), int64(3)\n",
      "memory usage: 195.4 KB\n"
     ]
    }
   ],
   "source": [
    "# Visualizacion del resumen general del dataset\n",
    "\n",
    "df.info()"
   ]
  },
  {
   "cell_type": "code",
   "execution_count": 58,
   "metadata": {},
   "outputs": [],
   "source": [
    "# puede que queramos cambiar el tipo de edad (de float a int) aunque esto no es crucial\n",
    "\n",
    "df['age'] = df['age'].astype('int')"
   ]
  },
  {
   "cell_type": "code",
   "execution_count": 59,
   "metadata": {},
   "outputs": [
    {
     "name": "stdout",
     "output_type": "stream",
     "text": [
      "<class 'pandas.core.frame.DataFrame'>\n",
      "RangeIndex: 5000 entries, 0 to 4999\n",
      "Data columns (total 5 columns):\n",
      " #   Column              Non-Null Count  Dtype  \n",
      "---  ------              --------------  -----  \n",
      " 0   gender              5000 non-null   int64  \n",
      " 1   age                 5000 non-null   int64  \n",
      " 2   income              5000 non-null   float64\n",
      " 3   family_members      5000 non-null   int64  \n",
      " 4   insurance_benefits  5000 non-null   int64  \n",
      "dtypes: float64(1), int64(4)\n",
      "memory usage: 195.4 KB\n"
     ]
    }
   ],
   "source": [
    "# comprueba que la conversión se haya realizado con éxito\n",
    "\n",
    "df.info()"
   ]
  },
  {
   "cell_type": "code",
   "execution_count": 60,
   "metadata": {},
   "outputs": [
    {
     "data": {
      "text/html": [
       "<div>\n",
       "<style scoped>\n",
       "    .dataframe tbody tr th:only-of-type {\n",
       "        vertical-align: middle;\n",
       "    }\n",
       "\n",
       "    .dataframe tbody tr th {\n",
       "        vertical-align: top;\n",
       "    }\n",
       "\n",
       "    .dataframe thead th {\n",
       "        text-align: right;\n",
       "    }\n",
       "</style>\n",
       "<table border=\"1\" class=\"dataframe\">\n",
       "  <thead>\n",
       "    <tr style=\"text-align: right;\">\n",
       "      <th></th>\n",
       "      <th>gender</th>\n",
       "      <th>age</th>\n",
       "      <th>income</th>\n",
       "      <th>family_members</th>\n",
       "      <th>insurance_benefits</th>\n",
       "    </tr>\n",
       "  </thead>\n",
       "  <tbody>\n",
       "    <tr>\n",
       "      <th>count</th>\n",
       "      <td>5000.000000</td>\n",
       "      <td>5000.000000</td>\n",
       "      <td>5000.000000</td>\n",
       "      <td>5000.000000</td>\n",
       "      <td>5000.000000</td>\n",
       "    </tr>\n",
       "    <tr>\n",
       "      <th>mean</th>\n",
       "      <td>0.499000</td>\n",
       "      <td>30.952800</td>\n",
       "      <td>39916.360000</td>\n",
       "      <td>1.194200</td>\n",
       "      <td>0.148000</td>\n",
       "    </tr>\n",
       "    <tr>\n",
       "      <th>std</th>\n",
       "      <td>0.500049</td>\n",
       "      <td>8.440807</td>\n",
       "      <td>9900.083569</td>\n",
       "      <td>1.091387</td>\n",
       "      <td>0.463183</td>\n",
       "    </tr>\n",
       "    <tr>\n",
       "      <th>min</th>\n",
       "      <td>0.000000</td>\n",
       "      <td>18.000000</td>\n",
       "      <td>5300.000000</td>\n",
       "      <td>0.000000</td>\n",
       "      <td>0.000000</td>\n",
       "    </tr>\n",
       "    <tr>\n",
       "      <th>25%</th>\n",
       "      <td>0.000000</td>\n",
       "      <td>24.000000</td>\n",
       "      <td>33300.000000</td>\n",
       "      <td>0.000000</td>\n",
       "      <td>0.000000</td>\n",
       "    </tr>\n",
       "    <tr>\n",
       "      <th>50%</th>\n",
       "      <td>0.000000</td>\n",
       "      <td>30.000000</td>\n",
       "      <td>40200.000000</td>\n",
       "      <td>1.000000</td>\n",
       "      <td>0.000000</td>\n",
       "    </tr>\n",
       "    <tr>\n",
       "      <th>75%</th>\n",
       "      <td>1.000000</td>\n",
       "      <td>37.000000</td>\n",
       "      <td>46600.000000</td>\n",
       "      <td>2.000000</td>\n",
       "      <td>0.000000</td>\n",
       "    </tr>\n",
       "    <tr>\n",
       "      <th>max</th>\n",
       "      <td>1.000000</td>\n",
       "      <td>65.000000</td>\n",
       "      <td>79000.000000</td>\n",
       "      <td>6.000000</td>\n",
       "      <td>5.000000</td>\n",
       "    </tr>\n",
       "  </tbody>\n",
       "</table>\n",
       "</div>"
      ],
      "text/plain": [
       "            gender          age        income  family_members  \\\n",
       "count  5000.000000  5000.000000   5000.000000     5000.000000   \n",
       "mean      0.499000    30.952800  39916.360000        1.194200   \n",
       "std       0.500049     8.440807   9900.083569        1.091387   \n",
       "min       0.000000    18.000000   5300.000000        0.000000   \n",
       "25%       0.000000    24.000000  33300.000000        0.000000   \n",
       "50%       0.000000    30.000000  40200.000000        1.000000   \n",
       "75%       1.000000    37.000000  46600.000000        2.000000   \n",
       "max       1.000000    65.000000  79000.000000        6.000000   \n",
       "\n",
       "       insurance_benefits  \n",
       "count         5000.000000  \n",
       "mean             0.148000  \n",
       "std              0.463183  \n",
       "min              0.000000  \n",
       "25%              0.000000  \n",
       "50%              0.000000  \n",
       "75%              0.000000  \n",
       "max              5.000000  "
      ]
     },
     "execution_count": 60,
     "metadata": {},
     "output_type": "execute_result"
    }
   ],
   "source": [
    "# ahora echa un vistazo a las estadísticas descriptivas de los datos.# ¿Se ve todo bien?\n",
    "\n",
    "df.describe()"
   ]
  },
  {
   "cell_type": "code",
   "execution_count": 61,
   "metadata": {},
   "outputs": [
    {
     "data": {
      "text/plain": [
       "gender                0\n",
       "age                   0\n",
       "income                0\n",
       "family_members        0\n",
       "insurance_benefits    0\n",
       "dtype: int64"
      ]
     },
     "execution_count": 61,
     "metadata": {},
     "output_type": "execute_result"
    }
   ],
   "source": [
    "# Verificando la existencia de valores ausentes\n",
    "\n",
    "df.isna().sum()"
   ]
  },
  {
   "cell_type": "code",
   "execution_count": 62,
   "metadata": {},
   "outputs": [
    {
     "data": {
      "text/plain": [
       "153"
      ]
     },
     "execution_count": 62,
     "metadata": {},
     "output_type": "execute_result"
    }
   ],
   "source": [
    "# Verificando la existencia de valores duplicados\n",
    "\n",
    "df.duplicated().sum()"
   ]
  },
  {
   "cell_type": "code",
   "execution_count": 63,
   "metadata": {},
   "outputs": [
    {
     "name": "stdout",
     "output_type": "stream",
     "text": [
      "3.06 %\n"
     ]
    }
   ],
   "source": [
    "# Calculando el porcentaje de valores duplicados\n",
    "\n",
    "print(df.duplicated().sum() / df.shape[0]*100, \"%\")"
   ]
  },
  {
   "cell_type": "code",
   "execution_count": 64,
   "metadata": {},
   "outputs": [
    {
     "data": {
      "text/plain": [
       "0"
      ]
     },
     "execution_count": 64,
     "metadata": {},
     "output_type": "execute_result"
    }
   ],
   "source": [
    "# Eliminacion de valores duplicados y comprobacion de ello\n",
    "\n",
    "df = df.drop_duplicates().reset_index(drop = True)\n",
    "df.duplicated().sum()"
   ]
  },
  {
   "cell_type": "markdown",
   "metadata": {},
   "source": [
    "<div class=\"alert alert-block alert-success\"> \n",
    "<b>Comentario del Revisor #1</b> <a class=\"tocSkip\"></a>\n",
    "\n",
    "Has eliminado los duplicados correctamente.\n",
    "\n",
    "</div>"
   ]
  },
  {
   "cell_type": "code",
   "execution_count": 65,
   "metadata": {},
   "outputs": [
    {
     "data": {
      "text/html": [
       "<div>\n",
       "<style scoped>\n",
       "    .dataframe tbody tr th:only-of-type {\n",
       "        vertical-align: middle;\n",
       "    }\n",
       "\n",
       "    .dataframe tbody tr th {\n",
       "        vertical-align: top;\n",
       "    }\n",
       "\n",
       "    .dataframe thead th {\n",
       "        text-align: right;\n",
       "    }\n",
       "</style>\n",
       "<table border=\"1\" class=\"dataframe\">\n",
       "  <thead>\n",
       "    <tr style=\"text-align: right;\">\n",
       "      <th></th>\n",
       "      <th>gender</th>\n",
       "      <th>age</th>\n",
       "      <th>income</th>\n",
       "      <th>family_members</th>\n",
       "      <th>insurance_benefits</th>\n",
       "    </tr>\n",
       "  </thead>\n",
       "  <tbody>\n",
       "    <tr>\n",
       "      <th>count</th>\n",
       "      <td>4847.000000</td>\n",
       "      <td>4847.000000</td>\n",
       "      <td>4847.000000</td>\n",
       "      <td>4847.000000</td>\n",
       "      <td>4847.000000</td>\n",
       "    </tr>\n",
       "    <tr>\n",
       "      <th>mean</th>\n",
       "      <td>0.498453</td>\n",
       "      <td>31.023932</td>\n",
       "      <td>39895.811842</td>\n",
       "      <td>1.203425</td>\n",
       "      <td>0.152259</td>\n",
       "    </tr>\n",
       "    <tr>\n",
       "      <th>std</th>\n",
       "      <td>0.500049</td>\n",
       "      <td>8.487995</td>\n",
       "      <td>9972.953985</td>\n",
       "      <td>1.098664</td>\n",
       "      <td>0.468934</td>\n",
       "    </tr>\n",
       "    <tr>\n",
       "      <th>min</th>\n",
       "      <td>0.000000</td>\n",
       "      <td>18.000000</td>\n",
       "      <td>5300.000000</td>\n",
       "      <td>0.000000</td>\n",
       "      <td>0.000000</td>\n",
       "    </tr>\n",
       "    <tr>\n",
       "      <th>25%</th>\n",
       "      <td>0.000000</td>\n",
       "      <td>24.000000</td>\n",
       "      <td>33200.000000</td>\n",
       "      <td>0.000000</td>\n",
       "      <td>0.000000</td>\n",
       "    </tr>\n",
       "    <tr>\n",
       "      <th>50%</th>\n",
       "      <td>0.000000</td>\n",
       "      <td>30.000000</td>\n",
       "      <td>40200.000000</td>\n",
       "      <td>1.000000</td>\n",
       "      <td>0.000000</td>\n",
       "    </tr>\n",
       "    <tr>\n",
       "      <th>75%</th>\n",
       "      <td>1.000000</td>\n",
       "      <td>37.000000</td>\n",
       "      <td>46600.000000</td>\n",
       "      <td>2.000000</td>\n",
       "      <td>0.000000</td>\n",
       "    </tr>\n",
       "    <tr>\n",
       "      <th>max</th>\n",
       "      <td>1.000000</td>\n",
       "      <td>65.000000</td>\n",
       "      <td>79000.000000</td>\n",
       "      <td>6.000000</td>\n",
       "      <td>5.000000</td>\n",
       "    </tr>\n",
       "  </tbody>\n",
       "</table>\n",
       "</div>"
      ],
      "text/plain": [
       "            gender          age        income  family_members  \\\n",
       "count  4847.000000  4847.000000   4847.000000     4847.000000   \n",
       "mean      0.498453    31.023932  39895.811842        1.203425   \n",
       "std       0.500049     8.487995   9972.953985        1.098664   \n",
       "min       0.000000    18.000000   5300.000000        0.000000   \n",
       "25%       0.000000    24.000000  33200.000000        0.000000   \n",
       "50%       0.000000    30.000000  40200.000000        1.000000   \n",
       "75%       1.000000    37.000000  46600.000000        2.000000   \n",
       "max       1.000000    65.000000  79000.000000        6.000000   \n",
       "\n",
       "       insurance_benefits  \n",
       "count         4847.000000  \n",
       "mean             0.152259  \n",
       "std              0.468934  \n",
       "min              0.000000  \n",
       "25%              0.000000  \n",
       "50%              0.000000  \n",
       "75%              0.000000  \n",
       "max              5.000000  "
      ]
     },
     "execution_count": 65,
     "metadata": {},
     "output_type": "execute_result"
    }
   ],
   "source": [
    "# Revisando si hubo algun cambio en la estadistica descriptiva del dataset\n",
    "\n",
    "df.describe()"
   ]
  },
  {
   "cell_type": "markdown",
   "metadata": {},
   "source": [
    "Hallazgos\n",
    "\n",
    " - El conjunto de datos tiene una buena calidad.\n",
    " - No existen valores ausentes\n",
    " - Los datos tienen una distribución que se asemeja a la normal, ya que la media y la mediana de las variables estan proximas entre si\n",
    " - Eliminación de valores duplicados, que corresponden al 3,06% de los datos\n",
    " - El dataset a usar para el proyecto, tiene 5 variables(columnas) con 4847 registros(filas)."
   ]
  },
  {
   "cell_type": "markdown",
   "metadata": {},
   "source": [
    "<div class=\"alert alert-block alert-success\"> \n",
    "<b>Comentario del Revisor #1</b> <a class=\"tocSkip\"></a>\n",
    "\n",
    "Muy buenos hallazgos!\n",
    "\n",
    "</div>"
   ]
  },
  {
   "cell_type": "markdown",
   "metadata": {},
   "source": [
    "## **Análisis exploratorio de datos**"
   ]
  },
  {
   "cell_type": "markdown",
   "metadata": {},
   "source": [
    "Vamos a comprobar rápidamente si existen determinados grupos de clientes observando el gráfico de pares."
   ]
  },
  {
   "cell_type": "code",
   "execution_count": 66,
   "metadata": {},
   "outputs": [
    {
     "data": {
      "image/png": "[encoded data removed]",
      "text/plain": [
       "<Figure size 1200x1200 with 30 Axes>"
      ]
     },
     "metadata": {},
     "output_type": "display_data"
    }
   ],
   "source": [
    "g = sns.pairplot(df, kind='hist')\n",
    "g.fig.set_size_inches(12, 12)"
   ]
  },
  {
   "cell_type": "markdown",
   "metadata": {},
   "source": [
    "De acuerdo, es un poco complicado detectar grupos obvios (clústeres) ya que es difícil combinar diversas variables simultáneamente (para analizar distribuciones multivariadas). Ahí es donde LA y ML pueden ser bastante útiles."
   ]
  },
  {
   "cell_type": "markdown",
   "metadata": {},
   "source": [
    "### Tarea 1: Clientes similares"
   ]
  },
  {
   "cell_type": "markdown",
   "metadata": {},
   "source": [
    "En el lenguaje de ML, es necesario desarrollar un procedimiento que devuelva los k vecinos más cercanos (objetos) para un objeto dado basándose en la distancia entre los objetos.\n",
    "Es posible que quieras revisar las siguientes lecciones (capítulo -> lección)- Distancia entre vectores -> Distancia euclidiana\n",
    "- Distancia entre vectores -> Distancia Manhattan\n",
    "\n",
    "Para resolver la tarea, podemos probar diferentes métricas de distancia."
   ]
  },
  {
   "cell_type": "markdown",
   "metadata": {},
   "source": [
    "Escribe una función que devuelva los k vecinos más cercanos para un $n^{th}$ objeto basándose en una métrica de distancia especificada. A la hora de realizar esta tarea no debe tenerse en cuenta el número de prestaciones de seguro recibidas.\n",
    "Puedes utilizar una implementación ya existente del algoritmo kNN de scikit-learn (consulta [el enlace](https://scikit-learn.org/stable/modules/generated/sklearn.neighbors.NearestNeighbors.html#sklearn.neighbors.NearestNeighbors)) o tu propia implementación.\n",
    "Pruébalo para cuatro combinaciones de dos casos- Escalado\n",
    "  - los datos no están escalados\n",
    "  - los datos se escalan con el escalador [MaxAbsScaler](https://scikit-learn.org/stable/modules/generated/sklearn.preprocessing.MaxAbsScaler.html)\n",
    "- Métricas de distancia\n",
    "  - Euclidiana\n",
    "  - Manhattan\n",
    "\n",
    "Responde a estas preguntas:- ¿El hecho de que los datos no estén escalados afecta al algoritmo kNN? Si es así, ¿cómo se manifiesta?- ¿Qué tan similares son los resultados al utilizar la métrica de distancia Manhattan (independientemente del escalado)?"
   ]
  },
  {
   "cell_type": "code",
   "execution_count": 67,
   "metadata": {},
   "outputs": [],
   "source": [
    "# Variable con nombres de las columnas caracteristicas\n",
    "\n",
    "feature_names = ['gender', 'age', 'income', 'family_members']"
   ]
  },
  {
   "cell_type": "code",
   "execution_count": 68,
   "metadata": {},
   "outputs": [],
   "source": [
    "# Creando funcion de los \"k\" vecinos mas cercanos\n",
    "\n",
    "def get_knn(df, n, k, metric):\n",
    "    \n",
    "    \"\"\"\n",
    "    Devuelve los k vecinos más cercanos\n",
    "\n",
    "    :param df: DataFrame de pandas utilizado para encontrar objetos similares dentro del mismo lugar    \n",
    "    :param n: número de objetos para los que se buscan los vecinos más cercanos    \n",
    "    :param k: número de vecinos más cercanos a devolver  \n",
    "    :param métrica: nombre de la métrica de distancia    \"\"\"\n",
    "\n",
    "    nbrs = NearestNeighbors(n_neighbors = k, metric = metric)\n",
    "    nbrs.fit(df[feature_names])\n",
    "    nbrs_distances, nbrs_indices = nbrs.kneighbors([df.iloc[n][feature_names]], k, return_distance = True)\n",
    "    \n",
    "    df_res = pd.concat([\n",
    "        df.iloc[nbrs_indices[0]], \n",
    "        pd.DataFrame(nbrs_distances.T, index=nbrs_indices[0], columns=['distance'])\n",
    "        ], axis=1)\n",
    "    \n",
    "    return df_res"
   ]
  },
  {
   "cell_type": "markdown",
   "metadata": {},
   "source": [
    "<div class=\"alert alert-block alert-success\"> \n",
    "<b>Comentario del Revisor #1</b> <a class=\"tocSkip\"></a>\n",
    "\n",
    "Has implementado correctamente el procedimiento para identificar k clientes similares.\n",
    "\n",
    "</div>"
   ]
  },
  {
   "cell_type": "markdown",
   "metadata": {},
   "source": [
    "Escalar datos."
   ]
  },
  {
   "cell_type": "code",
   "execution_count": 69,
   "metadata": {},
   "outputs": [],
   "source": [
    "# Escalado de caracteristicas\n",
    "\n",
    "feature_names = ['gender', 'age', 'income', 'family_members']\n",
    "\n",
    "transformer_mas = sklearn.preprocessing.MaxAbsScaler().fit(df[feature_names].to_numpy())\n",
    "\n",
    "df_scaled = df.copy()\n",
    "df_scaled.loc[:, feature_names] = transformer_mas.transform(df[feature_names].to_numpy())"
   ]
  },
  {
   "cell_type": "code",
   "execution_count": 70,
   "metadata": {},
   "outputs": [
    {
     "data": {
      "text/html": [
       "<div>\n",
       "<style scoped>\n",
       "    .dataframe tbody tr th:only-of-type {\n",
       "        vertical-align: middle;\n",
       "    }\n",
       "\n",
       "    .dataframe tbody tr th {\n",
       "        vertical-align: top;\n",
       "    }\n",
       "\n",
       "    .dataframe thead th {\n",
       "        text-align: right;\n",
       "    }\n",
       "</style>\n",
       "<table border=\"1\" class=\"dataframe\">\n",
       "  <thead>\n",
       "    <tr style=\"text-align: right;\">\n",
       "      <th></th>\n",
       "      <th>gender</th>\n",
       "      <th>age</th>\n",
       "      <th>income</th>\n",
       "      <th>family_members</th>\n",
       "      <th>insurance_benefits</th>\n",
       "    </tr>\n",
       "  </thead>\n",
       "  <tbody>\n",
       "    <tr>\n",
       "      <th>133</th>\n",
       "      <td>1.0</td>\n",
       "      <td>0.615385</td>\n",
       "      <td>0.636709</td>\n",
       "      <td>0.166667</td>\n",
       "      <td>0</td>\n",
       "    </tr>\n",
       "    <tr>\n",
       "      <th>130</th>\n",
       "      <td>0.0</td>\n",
       "      <td>0.323077</td>\n",
       "      <td>0.624051</td>\n",
       "      <td>0.000000</td>\n",
       "      <td>0</td>\n",
       "    </tr>\n",
       "    <tr>\n",
       "      <th>570</th>\n",
       "      <td>1.0</td>\n",
       "      <td>0.692308</td>\n",
       "      <td>0.344304</td>\n",
       "      <td>0.166667</td>\n",
       "      <td>1</td>\n",
       "    </tr>\n",
       "    <tr>\n",
       "      <th>846</th>\n",
       "      <td>0.0</td>\n",
       "      <td>0.292308</td>\n",
       "      <td>0.654430</td>\n",
       "      <td>0.000000</td>\n",
       "      <td>0</td>\n",
       "    </tr>\n",
       "    <tr>\n",
       "      <th>4745</th>\n",
       "      <td>1.0</td>\n",
       "      <td>0.507692</td>\n",
       "      <td>0.739241</td>\n",
       "      <td>0.000000</td>\n",
       "      <td>0</td>\n",
       "    </tr>\n",
       "  </tbody>\n",
       "</table>\n",
       "</div>"
      ],
      "text/plain": [
       "      gender       age    income  family_members  insurance_benefits\n",
       "133      1.0  0.615385  0.636709        0.166667                   0\n",
       "130      0.0  0.323077  0.624051        0.000000                   0\n",
       "570      1.0  0.692308  0.344304        0.166667                   1\n",
       "846      0.0  0.292308  0.654430        0.000000                   0\n",
       "4745     1.0  0.507692  0.739241        0.000000                   0"
      ]
     },
     "execution_count": 70,
     "metadata": {},
     "output_type": "execute_result"
    }
   ],
   "source": [
    "# Verificando el dataframe con los datos escalados\n",
    "\n",
    "df_scaled.sample(5)"
   ]
  },
  {
   "cell_type": "markdown",
   "metadata": {},
   "source": [
    "Ahora, vamos a obtener registros similares para uno determinado, para cada combinación"
   ]
  },
  {
   "cell_type": "markdown",
   "metadata": {},
   "source": [
    "#### Metricas Euclidiana y Manhattan"
   ]
  },
  {
   "cell_type": "code",
   "execution_count": 71,
   "metadata": {},
   "outputs": [
    {
     "name": "stdout",
     "output_type": "stream",
     "text": [
      "La metrica utilizada es: Euclidean y los datos no estan escalados\n"
     ]
    },
    {
     "data": {
      "text/html": [
       "<div>\n",
       "<style scoped>\n",
       "    .dataframe tbody tr th:only-of-type {\n",
       "        vertical-align: middle;\n",
       "    }\n",
       "\n",
       "    .dataframe tbody tr th {\n",
       "        vertical-align: top;\n",
       "    }\n",
       "\n",
       "    .dataframe thead th {\n",
       "        text-align: right;\n",
       "    }\n",
       "</style>\n",
       "<table border=\"1\" class=\"dataframe\">\n",
       "  <thead>\n",
       "    <tr style=\"text-align: right;\">\n",
       "      <th></th>\n",
       "      <th>gender</th>\n",
       "      <th>age</th>\n",
       "      <th>income</th>\n",
       "      <th>family_members</th>\n",
       "      <th>insurance_benefits</th>\n",
       "      <th>distance</th>\n",
       "    </tr>\n",
       "  </thead>\n",
       "  <tbody>\n",
       "    <tr>\n",
       "      <th>1</th>\n",
       "      <td>0</td>\n",
       "      <td>46</td>\n",
       "      <td>38000.0</td>\n",
       "      <td>1</td>\n",
       "      <td>1</td>\n",
       "      <td>0.000000</td>\n",
       "    </tr>\n",
       "    <tr>\n",
       "      <th>3810</th>\n",
       "      <td>0</td>\n",
       "      <td>40</td>\n",
       "      <td>38000.0</td>\n",
       "      <td>0</td>\n",
       "      <td>0</td>\n",
       "      <td>6.082763</td>\n",
       "    </tr>\n",
       "    <tr>\n",
       "      <th>4796</th>\n",
       "      <td>1</td>\n",
       "      <td>37</td>\n",
       "      <td>38000.0</td>\n",
       "      <td>1</td>\n",
       "      <td>0</td>\n",
       "      <td>9.055385</td>\n",
       "    </tr>\n",
       "    <tr>\n",
       "      <th>2480</th>\n",
       "      <td>1</td>\n",
       "      <td>36</td>\n",
       "      <td>38000.0</td>\n",
       "      <td>0</td>\n",
       "      <td>0</td>\n",
       "      <td>10.099505</td>\n",
       "    </tr>\n",
       "    <tr>\n",
       "      <th>3498</th>\n",
       "      <td>0</td>\n",
       "      <td>33</td>\n",
       "      <td>38000.0</td>\n",
       "      <td>0</td>\n",
       "      <td>0</td>\n",
       "      <td>13.038405</td>\n",
       "    </tr>\n",
       "  </tbody>\n",
       "</table>\n",
       "</div>"
      ],
      "text/plain": [
       "      gender  age   income  family_members  insurance_benefits   distance\n",
       "1          0   46  38000.0               1                   1   0.000000\n",
       "3810       0   40  38000.0               0                   0   6.082763\n",
       "4796       1   37  38000.0               1                   0   9.055385\n",
       "2480       1   36  38000.0               0                   0  10.099505\n",
       "3498       0   33  38000.0               0                   0  13.038405"
      ]
     },
     "metadata": {},
     "output_type": "display_data"
    },
    {
     "name": "stdout",
     "output_type": "stream",
     "text": [
      "\n",
      "La metrica utilizada es: Manhattan y los datos no estan escalados\n"
     ]
    },
    {
     "data": {
      "text/html": [
       "<div>\n",
       "<style scoped>\n",
       "    .dataframe tbody tr th:only-of-type {\n",
       "        vertical-align: middle;\n",
       "    }\n",
       "\n",
       "    .dataframe tbody tr th {\n",
       "        vertical-align: top;\n",
       "    }\n",
       "\n",
       "    .dataframe thead th {\n",
       "        text-align: right;\n",
       "    }\n",
       "</style>\n",
       "<table border=\"1\" class=\"dataframe\">\n",
       "  <thead>\n",
       "    <tr style=\"text-align: right;\">\n",
       "      <th></th>\n",
       "      <th>gender</th>\n",
       "      <th>age</th>\n",
       "      <th>income</th>\n",
       "      <th>family_members</th>\n",
       "      <th>insurance_benefits</th>\n",
       "      <th>distance</th>\n",
       "    </tr>\n",
       "  </thead>\n",
       "  <tbody>\n",
       "    <tr>\n",
       "      <th>1</th>\n",
       "      <td>0</td>\n",
       "      <td>46</td>\n",
       "      <td>38000.0</td>\n",
       "      <td>1</td>\n",
       "      <td>1</td>\n",
       "      <td>0.0</td>\n",
       "    </tr>\n",
       "    <tr>\n",
       "      <th>3810</th>\n",
       "      <td>0</td>\n",
       "      <td>40</td>\n",
       "      <td>38000.0</td>\n",
       "      <td>0</td>\n",
       "      <td>0</td>\n",
       "      <td>7.0</td>\n",
       "    </tr>\n",
       "    <tr>\n",
       "      <th>4796</th>\n",
       "      <td>1</td>\n",
       "      <td>37</td>\n",
       "      <td>38000.0</td>\n",
       "      <td>1</td>\n",
       "      <td>0</td>\n",
       "      <td>10.0</td>\n",
       "    </tr>\n",
       "    <tr>\n",
       "      <th>2480</th>\n",
       "      <td>1</td>\n",
       "      <td>36</td>\n",
       "      <td>38000.0</td>\n",
       "      <td>0</td>\n",
       "      <td>0</td>\n",
       "      <td>12.0</td>\n",
       "    </tr>\n",
       "    <tr>\n",
       "      <th>3498</th>\n",
       "      <td>0</td>\n",
       "      <td>33</td>\n",
       "      <td>38000.0</td>\n",
       "      <td>0</td>\n",
       "      <td>0</td>\n",
       "      <td>14.0</td>\n",
       "    </tr>\n",
       "  </tbody>\n",
       "</table>\n",
       "</div>"
      ],
      "text/plain": [
       "      gender  age   income  family_members  insurance_benefits  distance\n",
       "1          0   46  38000.0               1                   1       0.0\n",
       "3810       0   40  38000.0               0                   0       7.0\n",
       "4796       1   37  38000.0               1                   0      10.0\n",
       "2480       1   36  38000.0               0                   0      12.0\n",
       "3498       0   33  38000.0               0                   0      14.0"
      ]
     },
     "metadata": {},
     "output_type": "display_data"
    },
    {
     "name": "stdout",
     "output_type": "stream",
     "text": [
      "\n",
      "La metrica utilizada es: Euclidean y los datos estan escalados\n"
     ]
    },
    {
     "data": {
      "text/html": [
       "<div>\n",
       "<style scoped>\n",
       "    .dataframe tbody tr th:only-of-type {\n",
       "        vertical-align: middle;\n",
       "    }\n",
       "\n",
       "    .dataframe tbody tr th {\n",
       "        vertical-align: top;\n",
       "    }\n",
       "\n",
       "    .dataframe thead th {\n",
       "        text-align: right;\n",
       "    }\n",
       "</style>\n",
       "<table border=\"1\" class=\"dataframe\">\n",
       "  <thead>\n",
       "    <tr style=\"text-align: right;\">\n",
       "      <th></th>\n",
       "      <th>gender</th>\n",
       "      <th>age</th>\n",
       "      <th>income</th>\n",
       "      <th>family_members</th>\n",
       "      <th>insurance_benefits</th>\n",
       "      <th>distance</th>\n",
       "    </tr>\n",
       "  </thead>\n",
       "  <tbody>\n",
       "    <tr>\n",
       "      <th>1</th>\n",
       "      <td>0.0</td>\n",
       "      <td>0.707692</td>\n",
       "      <td>0.481013</td>\n",
       "      <td>0.166667</td>\n",
       "      <td>1</td>\n",
       "      <td>0.000000</td>\n",
       "    </tr>\n",
       "    <tr>\n",
       "      <th>4041</th>\n",
       "      <td>0.0</td>\n",
       "      <td>0.707692</td>\n",
       "      <td>0.477215</td>\n",
       "      <td>0.166667</td>\n",
       "      <td>1</td>\n",
       "      <td>0.003797</td>\n",
       "    </tr>\n",
       "    <tr>\n",
       "      <th>1835</th>\n",
       "      <td>0.0</td>\n",
       "      <td>0.707692</td>\n",
       "      <td>0.492405</td>\n",
       "      <td>0.166667</td>\n",
       "      <td>1</td>\n",
       "      <td>0.011392</td>\n",
       "    </tr>\n",
       "    <tr>\n",
       "      <th>4833</th>\n",
       "      <td>0.0</td>\n",
       "      <td>0.723077</td>\n",
       "      <td>0.491139</td>\n",
       "      <td>0.166667</td>\n",
       "      <td>1</td>\n",
       "      <td>0.018418</td>\n",
       "    </tr>\n",
       "    <tr>\n",
       "      <th>4341</th>\n",
       "      <td>0.0</td>\n",
       "      <td>0.692308</td>\n",
       "      <td>0.459494</td>\n",
       "      <td>0.166667</td>\n",
       "      <td>1</td>\n",
       "      <td>0.026453</td>\n",
       "    </tr>\n",
       "  </tbody>\n",
       "</table>\n",
       "</div>"
      ],
      "text/plain": [
       "      gender       age    income  family_members  insurance_benefits  distance\n",
       "1        0.0  0.707692  0.481013        0.166667                   1  0.000000\n",
       "4041     0.0  0.707692  0.477215        0.166667                   1  0.003797\n",
       "1835     0.0  0.707692  0.492405        0.166667                   1  0.011392\n",
       "4833     0.0  0.723077  0.491139        0.166667                   1  0.018418\n",
       "4341     0.0  0.692308  0.459494        0.166667                   1  0.026453"
      ]
     },
     "metadata": {},
     "output_type": "display_data"
    },
    {
     "name": "stdout",
     "output_type": "stream",
     "text": [
      "\n",
      "La metrica utilizada es: Manhattan y los datos estan escalados\n"
     ]
    },
    {
     "data": {
      "text/html": [
       "<div>\n",
       "<style scoped>\n",
       "    .dataframe tbody tr th:only-of-type {\n",
       "        vertical-align: middle;\n",
       "    }\n",
       "\n",
       "    .dataframe tbody tr th {\n",
       "        vertical-align: top;\n",
       "    }\n",
       "\n",
       "    .dataframe thead th {\n",
       "        text-align: right;\n",
       "    }\n",
       "</style>\n",
       "<table border=\"1\" class=\"dataframe\">\n",
       "  <thead>\n",
       "    <tr style=\"text-align: right;\">\n",
       "      <th></th>\n",
       "      <th>gender</th>\n",
       "      <th>age</th>\n",
       "      <th>income</th>\n",
       "      <th>family_members</th>\n",
       "      <th>insurance_benefits</th>\n",
       "      <th>distance</th>\n",
       "    </tr>\n",
       "  </thead>\n",
       "  <tbody>\n",
       "    <tr>\n",
       "      <th>1</th>\n",
       "      <td>0.0</td>\n",
       "      <td>0.707692</td>\n",
       "      <td>0.481013</td>\n",
       "      <td>0.166667</td>\n",
       "      <td>1</td>\n",
       "      <td>0.000000</td>\n",
       "    </tr>\n",
       "    <tr>\n",
       "      <th>4041</th>\n",
       "      <td>0.0</td>\n",
       "      <td>0.707692</td>\n",
       "      <td>0.477215</td>\n",
       "      <td>0.166667</td>\n",
       "      <td>1</td>\n",
       "      <td>0.003797</td>\n",
       "    </tr>\n",
       "    <tr>\n",
       "      <th>1835</th>\n",
       "      <td>0.0</td>\n",
       "      <td>0.707692</td>\n",
       "      <td>0.492405</td>\n",
       "      <td>0.166667</td>\n",
       "      <td>1</td>\n",
       "      <td>0.011392</td>\n",
       "    </tr>\n",
       "    <tr>\n",
       "      <th>4833</th>\n",
       "      <td>0.0</td>\n",
       "      <td>0.723077</td>\n",
       "      <td>0.491139</td>\n",
       "      <td>0.166667</td>\n",
       "      <td>1</td>\n",
       "      <td>0.025511</td>\n",
       "    </tr>\n",
       "    <tr>\n",
       "      <th>2394</th>\n",
       "      <td>0.0</td>\n",
       "      <td>0.676923</td>\n",
       "      <td>0.482278</td>\n",
       "      <td>0.166667</td>\n",
       "      <td>1</td>\n",
       "      <td>0.032035</td>\n",
       "    </tr>\n",
       "  </tbody>\n",
       "</table>\n",
       "</div>"
      ],
      "text/plain": [
       "      gender       age    income  family_members  insurance_benefits  distance\n",
       "1        0.0  0.707692  0.481013        0.166667                   1  0.000000\n",
       "4041     0.0  0.707692  0.477215        0.166667                   1  0.003797\n",
       "1835     0.0  0.707692  0.492405        0.166667                   1  0.011392\n",
       "4833     0.0  0.723077  0.491139        0.166667                   1  0.025511\n",
       "2394     0.0  0.676923  0.482278        0.166667                   1  0.032035"
      ]
     },
     "metadata": {},
     "output_type": "display_data"
    },
    {
     "name": "stdout",
     "output_type": "stream",
     "text": [
      "\n"
     ]
    }
   ],
   "source": [
    "# Aplicando función de \"k\" vecinos más cercanos, con ambas metricas\n",
    "\n",
    "k = 5\n",
    "n = 1\n",
    "\n",
    "for data in list([df, df_scaled]):\n",
    "    for metrica in list(['Euclidean', 'Manhattan']):\n",
    "        if data is not df_scaled:\n",
    "            es_escalado = 'los datos no estan escalados'\n",
    "        else:\n",
    "            es_escalado = 'los datos estan escalados'\n",
    "        print(f'La metrica utilizada es: {metrica} y {es_escalado}')\n",
    "        vecinos = get_knn(data, n, k, metrica.lower())\n",
    "        display(vecinos.head(5))\n",
    "        print()"
   ]
  },
  {
   "cell_type": "markdown",
   "metadata": {},
   "source": [
    "<div class=\"alert alert-block alert-success\"> \n",
    "<b>Comentario del Revisor #1</b> <a class=\"tocSkip\"></a>\n",
    "\n",
    "Excelente trabajo! Has probado el procedimiento con todas las combinaciones propuestas.\n",
    "\n",
    "</div>"
   ]
  },
  {
   "cell_type": "markdown",
   "metadata": {},
   "source": [
    "#### Respuestas a las preguntas"
   ]
  },
  {
   "cell_type": "markdown",
   "metadata": {},
   "source": [
    "**¿El hecho de que los datos no estén escalados afecta al algoritmo kNN? Si es así, ¿cómo se manifiesta?** \n",
    "\n",
    "- Afecta, ya que al comparar los resultados en ambos conjuntos, el algoritmo entrega una respuesta diferente.\n",
    "- La variable objetivo(target) detalladamente, con los datos no escalados orienta a predicciones erroneas.\n",
    "- Escalar los datos concede resultados más precisos."
   ]
  },
  {
   "cell_type": "markdown",
   "metadata": {},
   "source": [
    "**¿Qué tan similares son los resultados al utilizar la métrica de distancia Manhattan (independientemente del escalado)?** \n",
    "\n",
    "- Ambas metricas entregan resultados generalmente similares para los datos no escalados, con diferencias en las distancias debido a sus distintos metodos de cálculo.\n",
    "- En los datos escalados entregan resultados son diferentes, ya que se aprecia que en el quinto punto más cercano, la métrica euclidiana selecciona un punto diferente(4341) a la métrica de Manhattan(2394)."
   ]
  },
  {
   "cell_type": "markdown",
   "metadata": {},
   "source": [
    "<div class=\"alert alert-block alert-warning\"> \n",
    "<b>Comentario del Revisor #1</b> <a class=\"tocSkip\"></a>\n",
    "\n",
    "Aunque las respuestas estén orientadas, puedes ser un poco más \"técnico\". Por ejemplo, podrías mencionar lo siguiente:\n",
    "\n",
    "**¿Afecta el hecho de no escalar los datos al algoritmo kNN? Si es así, ¿cómo se manifiesta?**\n",
    "\n",
    "El algoritmo kNN devuelve resultados diferentes para los datos originales y los escalados utilizando la misma métrica de distancia. Si los datos no se escalan, kNN trata los valores de _ingresos_ (_income_) y _miembros de la familia_ (_family_members_) como igualmente importantes, sin considerar que sus valores están en rangos muy diferentes. Esto hace que clientes con el mismo ingreso, pero con un número diferente de miembros de la familia, aparezcan como similares, aunque esto no sea probable en la vida real.\n",
    "\n",
    "En cambio, al escalar los datos, las variables se vuelven comparables y los resultados son mucho más consistentes con lo que observamos en la vida real: clientes de edades similares y con un número comparable de miembros de la familia, aunque con ingresos ligeramente diferentes, tienden a agruparse.\n",
    "\n",
    "**¿La métrica de distancia Manhattan devuelve resultados muy similares independientemente de la escala?**\n",
    "\n",
    "Sí, lo hace. La métrica de distancia se ve afectada por la escala. El efecto es el mismo que el mencionado anteriormente: las diferencias numéricas mínimas se toman como relevantes sin considerar cómo pueden variar las variables en sus valores.\n",
    "\n",
    "</div>"
   ]
  },
  {
   "cell_type": "markdown",
   "metadata": {},
   "source": [
    "### Tarea 2: ¿Es probable que el cliente reciba una prestación del seguro?"
   ]
  },
  {
   "cell_type": "markdown",
   "metadata": {},
   "source": [
    "En términos de machine learning podemos considerarlo como una tarea de clasificación binaria."
   ]
  },
  {
   "cell_type": "markdown",
   "metadata": {},
   "source": [
    "Con el valor de `insurance_benefits` superior a cero como objetivo, evalúa si el enfoque de clasificación kNN puede funcionar mejor que el modelo dummy.\n",
    "Instrucciones:\n",
    "- Construye un clasificador basado en KNN y mide su calidad con la métrica F1 para k=1...10 tanto para los datos originales como para los escalados. Sería interesante observar cómo k puede influir en la métrica de evaluación y si el escalado de los datos provoca alguna diferencia. Puedes utilizar una implementación ya existente del algoritmo de clasificación kNN de scikit-learn (consulta [el enlace](https://scikit-learn.org/stable/modules/generated/sklearn.neighbors.KNeighborsClassifier.html)) o tu propia implementación.\n",
    "\n",
    "- Construye un modelo dummy que, en este caso, es simplemente un modelo aleatorio. Debería devolver \"1\" con cierta probabilidad. Probemos el modelo con cuatro valores de probabilidad: 0, la probabilidad de pagar cualquier prestación del seguro, 0.5, 1.\n",
    "La probabilidad de pagar cualquier prestación del seguro puede definirse como\n",
    "\n",
    "$$\n",
    "P\\{\\text{prestación de seguro recibida}\\}=\\frac{\\text{número de clientes que han recibido alguna prestación de seguro}}{\\text{número total de clientes}}.\n",
    "$$\n",
    "\n",
    "Divide todos los datos correspondientes a las etapas de entrenamiento/prueba respetando la proporción 70:30."
   ]
  },
  {
   "cell_type": "markdown",
   "metadata": {},
   "source": [
    "#### Revisando variable objetivo"
   ]
  },
  {
   "cell_type": "code",
   "execution_count": 72,
   "metadata": {},
   "outputs": [
    {
     "data": {
      "text/plain": [
       "0    4284\n",
       "1     423\n",
       "2     114\n",
       "3      18\n",
       "4       7\n",
       "5       1\n",
       "Name: insurance_benefits, dtype: int64"
      ]
     },
     "execution_count": 72,
     "metadata": {},
     "output_type": "execute_result"
    }
   ],
   "source": [
    "# comprueba el desequilibrio de clases con value_counts()\n",
    "\n",
    "df['insurance_benefits'].value_counts()"
   ]
  },
  {
   "cell_type": "markdown",
   "metadata": {},
   "source": [
    "Para simplificar la clasificación, todos los valores mayores a 1 seran modificados a 1"
   ]
  },
  {
   "cell_type": "code",
   "execution_count": 73,
   "metadata": {},
   "outputs": [],
   "source": [
    "# Simplificando la clasificacion de la variable objetivo\n",
    "\n",
    "df['insurance_benefits_received'] = np.where(df['insurance_benefits'] == 0, 0, 1)"
   ]
  },
  {
   "cell_type": "markdown",
   "metadata": {},
   "source": [
    "#### Verificando el balance de la variable objetivo"
   ]
  },
  {
   "cell_type": "code",
   "execution_count": 74,
   "metadata": {},
   "outputs": [
    {
     "data": {
      "text/plain": [
       "0    4284\n",
       "1     563\n",
       "Name: insurance_benefits_received, dtype: int64"
      ]
     },
     "metadata": {},
     "output_type": "display_data"
    },
    {
     "data": {
      "image/png": "[encoded data removed]",
      "text/plain": [
       "<Figure size 640x480 with 1 Axes>"
      ]
     },
     "metadata": {},
     "output_type": "display_data"
    }
   ],
   "source": [
    "# Verificando el desbalanceo con value_counts()\n",
    "\n",
    "display(df['insurance_benefits_received'].value_counts())\n",
    "df['insurance_benefits_received'].value_counts().plot(kind = 'bar', title = 'Balance de clases de la variable objetivo');"
   ]
  },
  {
   "cell_type": "markdown",
   "metadata": {},
   "source": [
    "<div class=\"alert alert-block alert-success\"> \n",
    "<b>Comentario del Revisor #1</b> <a class=\"tocSkip\"></a>\n",
    "\n",
    "Excelente trabajo con el análisis de las clases Javier\n",
    "\n",
    "</div>"
   ]
  },
  {
   "cell_type": "markdown",
   "metadata": {},
   "source": [
    "La clase esta desbalanceada. La gran mayoria de los clientes no presenta reclamos al seguro."
   ]
  },
  {
   "cell_type": "markdown",
   "metadata": {},
   "source": [
    "#### Creación de funciones de clasificación para kNN"
   ]
  },
  {
   "cell_type": "code",
   "execution_count": 75,
   "metadata": {},
   "outputs": [],
   "source": [
    "# Creación de funciones y medidas de calidad del modelo para la métrica F1\n",
    "\n",
    "def eval_classifier(y_true, y_pred):\n",
    "    \n",
    "    f1_score = sklearn.metrics.f1_score(y_true, y_pred)\n",
    "    print(f'F1: {f1_score:.2f}')\n",
    "    \n",
    "# si tienes algún problema con la siguiente línea, reinicia el kernel y ejecuta el cuaderno de nuevo    \n",
    "    cm = sklearn.metrics.confusion_matrix(y_true, y_pred, normalize = 'all')\n",
    "    print('Matriz de confusión')\n",
    "    print(cm)"
   ]
  },
  {
   "cell_type": "markdown",
   "metadata": {},
   "source": [
    "#### Verificando la puntuación del modelo dummy"
   ]
  },
  {
   "cell_type": "code",
   "execution_count": 76,
   "metadata": {},
   "outputs": [],
   "source": [
    "# Creando función que genera la salida de un modelo aleatorio\n",
    "\n",
    "def rnd_model_predict(P, size, seed = 42):\n",
    "\n",
    "    rng = np.random.default_rng(seed = seed)\n",
    "    return rng.binomial(n = 1, p = P, size = size)"
   ]
  },
  {
   "cell_type": "code",
   "execution_count": 77,
   "metadata": {},
   "outputs": [
    {
     "name": "stdout",
     "output_type": "stream",
     "text": [
      "La probabilidad: 0.00\n",
      "F1: 0.00\n",
      "Matriz de confusión\n",
      "[[0.88384568 0.        ]\n",
      " [0.11615432 0.        ]]\n",
      "\n",
      "La probabilidad: 0.12\n",
      "F1: 0.13\n",
      "Matriz de confusión\n",
      "[[0.78502166 0.09882401]\n",
      " [0.1017124  0.01444192]]\n",
      "\n",
      "La probabilidad: 0.50\n",
      "F1: 0.19\n",
      "Matriz de confusión\n",
      "[[0.44873117 0.4351145 ]\n",
      " [0.05921188 0.05694244]]\n",
      "\n",
      "La probabilidad: 1.00\n",
      "F1: 0.21\n",
      "Matriz de confusión\n",
      "[[0.         0.88384568]\n",
      " [0.         0.11615432]]\n",
      "\n"
     ]
    }
   ],
   "source": [
    "# Probando función rnd_model_predict con 4 valores de probabilidad\n",
    "\n",
    "for P in [0, df['insurance_benefits_received'].sum() / len(df), 0.5, 1]:\n",
    "\n",
    "    print(f'La probabilidad: {P:.2f}')\n",
    "    y_pred_rnd = rnd_model_predict(P, len(df))\n",
    "        \n",
    "    eval_classifier(df['insurance_benefits_received'], y_pred_rnd)\n",
    "    \n",
    "    print()"
   ]
  },
  {
   "cell_type": "markdown",
   "metadata": {},
   "source": [
    "<div class=\"alert alert-block alert-success\"> \n",
    "<b>Comentario del Revisor #1</b> <a class=\"tocSkip\"></a>\n",
    "\n",
    "El modelo dummy fue implementado correctamente y probado en todos los escenarios de probabilidad.\n",
    "\n",
    "</div>"
   ]
  },
  {
   "cell_type": "markdown",
   "metadata": {},
   "source": [
    "#### División del dataset, en datos de entrenamiento y prueba, con una proporción de 70:30"
   ]
  },
  {
   "cell_type": "code",
   "execution_count": 78,
   "metadata": {},
   "outputs": [],
   "source": [
    "# División del conjunto de datos\n",
    "\n",
    "features = df.drop(['insurance_benefits','insurance_benefits_received'], axis = 1)\n",
    "target = df['insurance_benefits_received']\n",
    "\n",
    "features_train, features_test, target_train, target_test = train_test_split(features, target, test_size = 0.3, random_state = seed)"
   ]
  },
  {
   "cell_type": "markdown",
   "metadata": {},
   "source": [
    "#### Creación de modelo para datos no escalados"
   ]
  },
  {
   "cell_type": "code",
   "execution_count": 79,
   "metadata": {},
   "outputs": [],
   "source": [
    "# Creando un modelo para revisar la métrica F1 en datos no escalados\n",
    "\n",
    "model = KNeighborsClassifier()\n",
    "model.fit(features_train, target_train)\n",
    "predict = model.predict(features_test)"
   ]
  },
  {
   "cell_type": "code",
   "execution_count": 80,
   "metadata": {},
   "outputs": [
    {
     "name": "stdout",
     "output_type": "stream",
     "text": [
      "F1: 0.23\n",
      "Matriz de confusión\n",
      "[[0.87766323 0.00687285]\n",
      " [0.09965636 0.01580756]]\n"
     ]
    }
   ],
   "source": [
    "# Evaluando modelo de datos no escalados\n",
    "\n",
    "eval_classifier(target_test, predict)"
   ]
  },
  {
   "cell_type": "markdown",
   "metadata": {},
   "source": [
    "#### Pruebas de modelos en datos escalados"
   ]
  },
  {
   "cell_type": "code",
   "execution_count": 81,
   "metadata": {},
   "outputs": [],
   "source": [
    "# Escalando los datos\n",
    "\n",
    "scaled = MaxAbsScaler()\n",
    "features_train_scaled = scaled.fit_transform(features_train)\n",
    "features_test_scaled = scaled.transform(features_test)"
   ]
  },
  {
   "cell_type": "code",
   "execution_count": 82,
   "metadata": {},
   "outputs": [],
   "source": [
    "# Creando modelo de datos escalados\n",
    "\n",
    "model_scaled = KNeighborsClassifier()\n",
    "model_scaled.fit(features_train_scaled, target_train)\n",
    "predict_scaled = model_scaled.predict(features_test_scaled)"
   ]
  },
  {
   "cell_type": "code",
   "execution_count": 83,
   "metadata": {},
   "outputs": [
    {
     "name": "stdout",
     "output_type": "stream",
     "text": [
      "F1: 0.90\n",
      "Matriz de confusión\n",
      "[[0.87972509 0.004811  ]\n",
      " [0.01786942 0.0975945 ]]\n"
     ]
    }
   ],
   "source": [
    "# Evaluando modelo de datos escalados\n",
    "\n",
    "eval_classifier(target_test, predict_scaled)"
   ]
  },
  {
   "cell_type": "markdown",
   "metadata": {},
   "source": [
    "<div class=\"alert alert-block alert-success\"> \n",
    "<b>Comentario del Revisor #1</b> <a class=\"tocSkip\"></a>\n",
    "\n",
    "Has separado los datos correctamente. Además. utilizaste y evaluaste correctamente el modelo `KNeighborsClassifier` con los datos originales y los datos escalados. \n",
    "\n",
    "Nota que escalar los datos incrementa la calidad del modelo significativamente!\n",
    "\n",
    "<div class=\"alert alert-block alert-warning\"> \n",
    "<b>Comentario del Revisor #1</b> <a class=\"tocSkip\"></a>\n",
    "\n",
    "Aunque, nota que podrías probar diferentes valores del parámetro n_neighbots, lo cual daría diferentes resultados (mejores o peores)\n",
    "\n",
    "</div>\n",
    "\n",
    "    \n",
    "</div>"
   ]
  },
  {
   "cell_type": "markdown",
   "metadata": {},
   "source": [
    "#### Conclusión"
   ]
  },
  {
   "cell_type": "markdown",
   "metadata": {},
   "source": [
    " - Los modelos entregan una precisión significativamente mayor cuando trabajan con datos escalados, comparado a la utilización de datos sin escalar.\n",
    " - Además, en términos de precisión, los modelos que usan datos escalados superan con creces a los modelos dummy(ficticios)."
   ]
  },
  {
   "cell_type": "markdown",
   "metadata": {},
   "source": [
    "<div class=\"alert alert-block alert-success\"> \n",
    "<b>Comentario del Revisor #1</b> <a class=\"tocSkip\"></a>\n",
    "\n",
    "Correcto!\n",
    "\n",
    "</div>"
   ]
  },
  {
   "cell_type": "markdown",
   "metadata": {},
   "source": [
    "### Tarea 3: Regresión (con regresión lineal)"
   ]
  },
  {
   "cell_type": "markdown",
   "metadata": {},
   "source": [
    "Con `insurance_benefits` como objetivo, evalúa cuál sería la RECM de un modelo de regresión lineal."
   ]
  },
  {
   "cell_type": "markdown",
   "metadata": {},
   "source": [
    "Construye tu propia implementación de regresión lineal. Para ello, recuerda cómo está formulada la solución de la tarea de regresión lineal en términos de LA. Comprueba la RECM tanto para los datos originales como para los escalados. ¿Puedes ver alguna diferencia en la RECM con respecto a estos dos casos?\n",
    "\n",
    "Denotemos- $X$: matriz de características; cada fila es un caso, cada columna es una característica, la primera columna está formada por unidades- $y$ — objetivo (un vector)- $\\hat{y}$ — objetivo estimado (un vector)- $w$ — vector de pesos\n",
    "La tarea de regresión lineal en el lenguaje de las matrices puede formularse así:\n",
    "$$\n",
    "y = Xw\n",
    "$$\n",
    "\n",
    "El objetivo de entrenamiento es entonces encontrar esa $w$ w que minimice la distancia L2 (ECM) entre $Xw$ y $y$:\n",
    "\n",
    "$$\n",
    "\\min_w d_2(Xw, y) \\quad \\text{or} \\quad \\min_w \\text{MSE}(Xw, y)\n",
    "$$\n",
    "\n",
    "Parece que hay una solución analítica para lo anteriormente expuesto:\n",
    "$$\n",
    "w = (X^T X)^{-1} X^T y\n",
    "$$\n",
    "\n",
    "La fórmula anterior puede servir para encontrar los pesos $w$ y estos últimos pueden utilizarse para calcular los valores predichos\n",
    "$$\n",
    "\\hat{y} = X_{val}w\n",
    "$$"
   ]
  },
  {
   "cell_type": "markdown",
   "metadata": {},
   "source": [
    "Divide todos los datos correspondientes a las etapas de entrenamiento/prueba respetando la proporción 70:30. Utiliza la métrica RECM para evaluar el modelo."
   ]
  },
  {
   "cell_type": "code",
   "execution_count": 84,
   "metadata": {},
   "outputs": [],
   "source": [
    "# Creando la clase MyLinearRegression para la implementación de la regresión lineal\n",
    "\n",
    "class MyLinearRegression:\n",
    "    \n",
    "    def __init__(self):\n",
    "        \n",
    "        self.weights = None\n",
    "    \n",
    "    def fit(self, X, y):\n",
    "        \n",
    "        # añadir las unidades\n",
    "        X2 = np.append(np.ones([len(X), 1]), X, axis=1)\n",
    "        self.weights = np.linalg.inv(X2.T.dot(X2)).dot(X2.T).dot(y)\n",
    "\n",
    "    def predict(self, X):\n",
    "        \n",
    "        # añadir las unidades\n",
    "        X2 = np.append(np.ones([X.shape[0], 1]), X, axis=1)\n",
    "        y_pred = np.dot(X2, self.weights) \n",
    "        \n",
    "        return y_pred"
   ]
  },
  {
   "cell_type": "markdown",
   "metadata": {},
   "source": [
    "<div class=\"alert alert-block alert-success\"> \n",
    "<b>Comentario del Revisor #1</b> <a class=\"tocSkip\"></a>\n",
    "\n",
    "Implementaste correctamente la clase para el modelo de regresión lineal, definiendo los métodos como se esperaba.\n",
    "\n",
    "</div>"
   ]
  },
  {
   "cell_type": "code",
   "execution_count": 85,
   "metadata": {},
   "outputs": [],
   "source": [
    "# Creando la función eval_regressor para calcular el desempeño del modelo de regresión\n",
    "\n",
    "def eval_regressor(y_true, y_pred):\n",
    "    \n",
    "    rmse = math.sqrt(sklearn.metrics.mean_squared_error(y_true, y_pred))\n",
    "    print(f'RMSE: {rmse:.2f}')\n",
    "    \n",
    "    r2_score = math.sqrt(sklearn.metrics.r2_score(y_true, y_pred))\n",
    "    print(f'R2: {r2_score:.2f}')    "
   ]
  },
  {
   "cell_type": "markdown",
   "metadata": {},
   "source": [
    "#### Evaluando el RMSE con datos no escalados"
   ]
  },
  {
   "cell_type": "code",
   "execution_count": 86,
   "metadata": {},
   "outputs": [
    {
     "name": "stdout",
     "output_type": "stream",
     "text": [
      "[-0.97736673  0.03580423  0.01955949  0.00000059 -0.01216184]\n",
      "RMSE: 0.36\n",
      "R2: 0.66\n"
     ]
    }
   ],
   "source": [
    "X = df[['age', 'gender', 'income', 'family_members']].to_numpy()\n",
    "y = df['insurance_benefits'].to_numpy()\n",
    "\n",
    "X_train, X_test, y_train, y_test = train_test_split(X, y, test_size = 0.3, random_state = 12345)\n",
    "\n",
    "lr = MyLinearRegression()\n",
    "\n",
    "lr.fit(X_train, y_train)\n",
    "print(lr.weights)\n",
    "\n",
    "y_test_pred = lr.predict(X_test)\n",
    "eval_regressor(y_test, y_test_pred)"
   ]
  },
  {
   "cell_type": "markdown",
   "metadata": {},
   "source": [
    "#### Evaluando el RMSE con datos escalados"
   ]
  },
  {
   "cell_type": "code",
   "execution_count": 87,
   "metadata": {},
   "outputs": [
    {
     "name": "stdout",
     "output_type": "stream",
     "text": [
      "[-0.97736673  2.32727489  0.01955949  0.04624156 -0.07297105]\n",
      "RMSE: 0.36\n",
      "R2: 0.66\n"
     ]
    }
   ],
   "source": [
    "X = df_scaled[['age', 'gender', 'income', 'family_members']].to_numpy()\n",
    "y = df_scaled['insurance_benefits'].to_numpy()\n",
    "\n",
    "X_train, X_test, y_train, y_test = train_test_split(X, y, test_size = 0.3, random_state = 12345)\n",
    "\n",
    "lr = MyLinearRegression()\n",
    "\n",
    "lr.fit(X_train, y_train)\n",
    "print(lr.weights)\n",
    "\n",
    "y_test_pred = lr.predict(X_test)\n",
    "eval_regressor(y_test, y_test_pred)"
   ]
  },
  {
   "cell_type": "markdown",
   "metadata": {},
   "source": [
    "<div class=\"alert alert-block alert-success\"> \n",
    "<b>Comentario del Revisor #1</b> <a class=\"tocSkip\"></a>\n",
    "\n",
    "Excelente trabajo. Utilizando insurance_benefits como target, entrenaste y evaluaste correctamente, con la métrica RMSE, modelos de regresión lineal para los datos originales y escalados.\n",
    "\n",
    "</div>"
   ]
  },
  {
   "cell_type": "markdown",
   "metadata": {},
   "source": [
    "#### Conclusión"
   ]
  },
  {
   "cell_type": "markdown",
   "metadata": {},
   "source": [
    "- Los valores del RMSE y $R^2$ no muestran diferencias significativas al utilizar datos escalados o no escalados.\n",
    "- Los valores de RMSE en un nivel bajo, indican que el modelo trabaja con precisión con datos escalados y como datos sin escalar.\n",
    "- El valor de $R^2$ de 0.66, cae en una categoria moderada, lo que indica un error relativamente bajo."
   ]
  },
  {
   "cell_type": "markdown",
   "metadata": {},
   "source": [
    "### Tarea 4: Ofuscar datos"
   ]
  },
  {
   "cell_type": "markdown",
   "metadata": {},
   "source": [
    "Lo mejor es ofuscar los datos multiplicando las características numéricas (recuerda que se pueden ver como la matriz $X$) por una matriz invertible $P$. \n",
    "\n",
    "$$\n",
    "X' = X \\times P\n",
    "$$\n",
    "\n",
    "Trata de hacerlo y comprueba cómo quedarán los valores de las características después de la transformación. Por cierto, la propiedad de invertibilidad es importante aquí, así que asegúrate de que $P$ sea realmente invertible.\n",
    "\n",
    "Puedes revisar la lección 'Matrices y operaciones matriciales -> Multiplicación de matrices' para recordar la regla de multiplicación de matrices y su implementación con NumPy."
   ]
  },
  {
   "cell_type": "code",
   "execution_count": 88,
   "metadata": {},
   "outputs": [],
   "source": [
    "# Creando un dataframe\n",
    "\n",
    "personal_info_column_list = ['gender', 'age', 'income', 'family_members']\n",
    "df_pn = df[personal_info_column_list]"
   ]
  },
  {
   "cell_type": "code",
   "execution_count": 89,
   "metadata": {},
   "outputs": [],
   "source": [
    "# Convirtiendo el dataframe en un array\n",
    "\n",
    "X = df_pn.to_numpy()"
   ]
  },
  {
   "cell_type": "markdown",
   "metadata": {},
   "source": [
    "Generar una matriz aleatoria $P$."
   ]
  },
  {
   "cell_type": "code",
   "execution_count": 90,
   "metadata": {},
   "outputs": [
    {
     "data": {
      "text/plain": [
       "array([[0.77395605, 0.43887844, 0.85859792, 0.69736803],\n",
       "       [0.09417735, 0.97562235, 0.7611397 , 0.78606431],\n",
       "       [0.12811363, 0.45038594, 0.37079802, 0.92676499],\n",
       "       [0.64386512, 0.82276161, 0.4434142 , 0.22723872]])"
      ]
     },
     "execution_count": 90,
     "metadata": {},
     "output_type": "execute_result"
    }
   ],
   "source": [
    "# Genereando matriz P aleatoria\n",
    "\n",
    "rng = np.random.default_rng(seed = 42)\n",
    "P = rng.random(size = (X.shape[1], X.shape[1]))\n",
    "P"
   ]
  },
  {
   "cell_type": "markdown",
   "metadata": {},
   "source": [
    "**Instrucción:** Comprobar que la matriz P sea invertible"
   ]
  },
  {
   "cell_type": "code",
   "execution_count": 91,
   "metadata": {},
   "outputs": [
    {
     "data": {
      "text/plain": [
       "array([[ 0.41467992, -1.43783972,  0.62798546,  1.14001268],\n",
       "       [-1.06101789,  0.44219337,  0.1329549 ,  1.18425933],\n",
       "       [ 1.42362442,  1.60461607, -2.0553823 , -1.53699695],\n",
       "       [-0.11128575, -0.65813802,  1.74995517, -0.11816316]])"
      ]
     },
     "execution_count": 91,
     "metadata": {},
     "output_type": "execute_result"
    }
   ],
   "source": [
    "P_inv = np.linalg.inv(P)\n",
    "P_inv"
   ]
  },
  {
   "cell_type": "code",
   "execution_count": 92,
   "metadata": {},
   "outputs": [
    {
     "data": {
      "text/plain": [
       "True"
      ]
     },
     "execution_count": 92,
     "metadata": {},
     "output_type": "execute_result"
    }
   ],
   "source": [
    "# Verificando si la matriz P es invertible\n",
    "\n",
    "np.allclose(np.dot(P, np.linalg.inv(P)), np.dot(np.linalg.inv(P), P))"
   ]
  },
  {
   "cell_type": "markdown",
   "metadata": {},
   "source": [
    "**Respuesta:** Si, la matriz P es invertible"
   ]
  },
  {
   "cell_type": "markdown",
   "metadata": {},
   "source": [
    "<div class=\"alert alert-block alert-success\"> \n",
    "<b>Comentario del Revisor #1</b> <a class=\"tocSkip\"></a>\n",
    "\n",
    "Los datos se ofuscaron con una matriz aleatoria e invertible P.\n",
    "\n",
    "Además, validaste que la matríz P es invertible utilizando correctamente `np.linalg.det(P)`\n",
    "\n",
    "</div>"
   ]
  },
  {
   "cell_type": "markdown",
   "metadata": {},
   "source": [
    "**Pregunta 1:** ¿Puedes adivinar la edad o los ingresos de los clientes después de la transformación?"
   ]
  },
  {
   "cell_type": "code",
   "execution_count": 93,
   "metadata": {},
   "outputs": [
    {
     "data": {
      "text/plain": [
       "array([[    1.,    41., 49600.,     1.],\n",
       "       [    0.,    46., 38000.,     1.],\n",
       "       [    0.,    29., 21000.,     0.],\n",
       "       ...,\n",
       "       [    0.,    20., 33900.,     2.],\n",
       "       [    1.,    22., 32700.,     3.],\n",
       "       [    1.,    28., 40600.,     1.]])"
      ]
     },
     "execution_count": 93,
     "metadata": {},
     "output_type": "execute_result"
    }
   ],
   "source": [
    "# Datos despues de la transformación\n",
    "\n",
    "X"
   ]
  },
  {
   "cell_type": "code",
   "execution_count": 94,
   "metadata": {},
   "outputs": [
    {
     "data": {
      "text/plain": [
       "array([[ 6359.71527314, 22380.40467609, 18424.09074184, 46000.69669016],\n",
       "       [ 4873.29406479, 17160.36702982, 14125.78076133, 35253.45577301],\n",
       "       [ 2693.11742928,  9486.397744  ,  7808.83156024, 19484.86063067],\n",
       "       ...,\n",
       "       [ 4346.2234249 , 15289.24126492, 12586.16264392, 31433.50888552],\n",
       "       [ 4194.09324155, 14751.9910242 , 12144.02930637, 30323.88763426],\n",
       "       [ 5205.46827354, 18314.24814446, 15077.01370762, 37649.59295455]])"
      ]
     },
     "execution_count": 94,
     "metadata": {},
     "output_type": "execute_result"
    }
   ],
   "source": [
    "# Transformando datos\n",
    "\n",
    "X_trans = X.dot(P)\n",
    "X_trans"
   ]
  },
  {
   "cell_type": "markdown",
   "metadata": {},
   "source": [
    "**Respuesta:** Los datos transformados no permiten adivinar los datos originales del dataset."
   ]
  },
  {
   "cell_type": "markdown",
   "metadata": {},
   "source": [
    "**Pregunta 2:** ¿Puedes recuperar los datos originales de $X'$ si conoces $P$? Intenta comprobarlo a través de los cálculos moviendo $P$ del lado derecho de la fórmula anterior al izquierdo. En este caso las reglas de la multiplicación matricial son realmente útiles"
   ]
  },
  {
   "cell_type": "code",
   "execution_count": 95,
   "metadata": {},
   "outputs": [
    {
     "data": {
      "text/plain": [
       "array([[    1.,    41., 49600.,     1.],\n",
       "       [   -0.,    46., 38000.,     1.],\n",
       "       [   -0.,    29., 21000.,     0.],\n",
       "       ...,\n",
       "       [   -0.,    20., 33900.,     2.],\n",
       "       [    1.,    22., 32700.,     3.],\n",
       "       [    1.,    28., 40600.,     1.]])"
      ]
     },
     "execution_count": 95,
     "metadata": {},
     "output_type": "execute_result"
    }
   ],
   "source": [
    "# Recuperando los datos\n",
    "\n",
    "X_rec = X_trans.dot(P_inv)\n",
    "X_rec"
   ]
  },
  {
   "cell_type": "markdown",
   "metadata": {},
   "source": [
    "**Respuesta:** Si, usando la matriz P inversa, pueden recuperarse los datos originales."
   ]
  },
  {
   "cell_type": "markdown",
   "metadata": {},
   "source": [
    "**Instrucción:** Muestra los tres casos para algunos clientes\n",
    "- Datos originales\n",
    "- El que está transformado\n",
    "- El que está invertido (recuperado)"
   ]
  },
  {
   "cell_type": "code",
   "execution_count": 96,
   "metadata": {},
   "outputs": [
    {
     "data": {
      "text/html": [
       "<div>\n",
       "<style scoped>\n",
       "    .dataframe tbody tr th:only-of-type {\n",
       "        vertical-align: middle;\n",
       "    }\n",
       "\n",
       "    .dataframe tbody tr th {\n",
       "        vertical-align: top;\n",
       "    }\n",
       "\n",
       "    .dataframe thead th {\n",
       "        text-align: right;\n",
       "    }\n",
       "</style>\n",
       "<table border=\"1\" class=\"dataframe\">\n",
       "  <thead>\n",
       "    <tr style=\"text-align: right;\">\n",
       "      <th></th>\n",
       "      <th>gender</th>\n",
       "      <th>age</th>\n",
       "      <th>income</th>\n",
       "      <th>family_members</th>\n",
       "    </tr>\n",
       "  </thead>\n",
       "  <tbody>\n",
       "    <tr>\n",
       "      <th>0</th>\n",
       "      <td>1.0</td>\n",
       "      <td>41.0</td>\n",
       "      <td>49600.0</td>\n",
       "      <td>1.0</td>\n",
       "    </tr>\n",
       "    <tr>\n",
       "      <th>1</th>\n",
       "      <td>0.0</td>\n",
       "      <td>46.0</td>\n",
       "      <td>38000.0</td>\n",
       "      <td>1.0</td>\n",
       "    </tr>\n",
       "    <tr>\n",
       "      <th>2</th>\n",
       "      <td>0.0</td>\n",
       "      <td>29.0</td>\n",
       "      <td>21000.0</td>\n",
       "      <td>0.0</td>\n",
       "    </tr>\n",
       "    <tr>\n",
       "      <th>3</th>\n",
       "      <td>0.0</td>\n",
       "      <td>21.0</td>\n",
       "      <td>41700.0</td>\n",
       "      <td>2.0</td>\n",
       "    </tr>\n",
       "    <tr>\n",
       "      <th>4</th>\n",
       "      <td>1.0</td>\n",
       "      <td>28.0</td>\n",
       "      <td>26100.0</td>\n",
       "      <td>0.0</td>\n",
       "    </tr>\n",
       "  </tbody>\n",
       "</table>\n",
       "</div>"
      ],
      "text/plain": [
       "   gender   age   income  family_members\n",
       "0     1.0  41.0  49600.0             1.0\n",
       "1     0.0  46.0  38000.0             1.0\n",
       "2     0.0  29.0  21000.0             0.0\n",
       "3     0.0  21.0  41700.0             2.0\n",
       "4     1.0  28.0  26100.0             0.0"
      ]
     },
     "execution_count": 96,
     "metadata": {},
     "output_type": "execute_result"
    }
   ],
   "source": [
    "# Datos originales\n",
    "\n",
    "pd.DataFrame(X, columns = personal_info_column_list).head()"
   ]
  },
  {
   "cell_type": "code",
   "execution_count": 97,
   "metadata": {},
   "outputs": [
    {
     "data": {
      "text/html": [
       "<div>\n",
       "<style scoped>\n",
       "    .dataframe tbody tr th:only-of-type {\n",
       "        vertical-align: middle;\n",
       "    }\n",
       "\n",
       "    .dataframe tbody tr th {\n",
       "        vertical-align: top;\n",
       "    }\n",
       "\n",
       "    .dataframe thead th {\n",
       "        text-align: right;\n",
       "    }\n",
       "</style>\n",
       "<table border=\"1\" class=\"dataframe\">\n",
       "  <thead>\n",
       "    <tr style=\"text-align: right;\">\n",
       "      <th></th>\n",
       "      <th>gender</th>\n",
       "      <th>age</th>\n",
       "      <th>income</th>\n",
       "      <th>family_members</th>\n",
       "    </tr>\n",
       "  </thead>\n",
       "  <tbody>\n",
       "    <tr>\n",
       "      <th>0</th>\n",
       "      <td>6359.715273</td>\n",
       "      <td>22380.404676</td>\n",
       "      <td>18424.090742</td>\n",
       "      <td>46000.696690</td>\n",
       "    </tr>\n",
       "    <tr>\n",
       "      <th>1</th>\n",
       "      <td>4873.294065</td>\n",
       "      <td>17160.367030</td>\n",
       "      <td>14125.780761</td>\n",
       "      <td>35253.455773</td>\n",
       "    </tr>\n",
       "    <tr>\n",
       "      <th>2</th>\n",
       "      <td>2693.117429</td>\n",
       "      <td>9486.397744</td>\n",
       "      <td>7808.831560</td>\n",
       "      <td>19484.860631</td>\n",
       "    </tr>\n",
       "    <tr>\n",
       "      <th>3</th>\n",
       "      <td>5345.603937</td>\n",
       "      <td>18803.227203</td>\n",
       "      <td>15479.148373</td>\n",
       "      <td>38663.061863</td>\n",
       "    </tr>\n",
       "    <tr>\n",
       "      <th>4</th>\n",
       "      <td>3347.176735</td>\n",
       "      <td>11782.829283</td>\n",
       "      <td>9699.998942</td>\n",
       "      <td>24211.273378</td>\n",
       "    </tr>\n",
       "  </tbody>\n",
       "</table>\n",
       "</div>"
      ],
      "text/plain": [
       "        gender           age        income  family_members\n",
       "0  6359.715273  22380.404676  18424.090742    46000.696690\n",
       "1  4873.294065  17160.367030  14125.780761    35253.455773\n",
       "2  2693.117429   9486.397744   7808.831560    19484.860631\n",
       "3  5345.603937  18803.227203  15479.148373    38663.061863\n",
       "4  3347.176735  11782.829283   9699.998942    24211.273378"
      ]
     },
     "execution_count": 97,
     "metadata": {},
     "output_type": "execute_result"
    }
   ],
   "source": [
    "# Datos después de la transformación\n",
    "\n",
    "pd.DataFrame(X_trans, columns = personal_info_column_list).head()"
   ]
  },
  {
   "cell_type": "code",
   "execution_count": 98,
   "metadata": {},
   "outputs": [
    {
     "data": {
      "text/html": [
       "<div>\n",
       "<style scoped>\n",
       "    .dataframe tbody tr th:only-of-type {\n",
       "        vertical-align: middle;\n",
       "    }\n",
       "\n",
       "    .dataframe tbody tr th {\n",
       "        vertical-align: top;\n",
       "    }\n",
       "\n",
       "    .dataframe thead th {\n",
       "        text-align: right;\n",
       "    }\n",
       "</style>\n",
       "<table border=\"1\" class=\"dataframe\">\n",
       "  <thead>\n",
       "    <tr style=\"text-align: right;\">\n",
       "      <th></th>\n",
       "      <th>gender</th>\n",
       "      <th>age</th>\n",
       "      <th>income</th>\n",
       "      <th>family_members</th>\n",
       "    </tr>\n",
       "  </thead>\n",
       "  <tbody>\n",
       "    <tr>\n",
       "      <th>0</th>\n",
       "      <td>1.000000e+00</td>\n",
       "      <td>41.0</td>\n",
       "      <td>49600.0</td>\n",
       "      <td>1.000000e+00</td>\n",
       "    </tr>\n",
       "    <tr>\n",
       "      <th>1</th>\n",
       "      <td>-4.473636e-12</td>\n",
       "      <td>46.0</td>\n",
       "      <td>38000.0</td>\n",
       "      <td>1.000000e+00</td>\n",
       "    </tr>\n",
       "    <tr>\n",
       "      <th>2</th>\n",
       "      <td>-2.515869e-12</td>\n",
       "      <td>29.0</td>\n",
       "      <td>21000.0</td>\n",
       "      <td>9.524523e-13</td>\n",
       "    </tr>\n",
       "    <tr>\n",
       "      <th>3</th>\n",
       "      <td>-4.844982e-12</td>\n",
       "      <td>21.0</td>\n",
       "      <td>41700.0</td>\n",
       "      <td>2.000000e+00</td>\n",
       "    </tr>\n",
       "    <tr>\n",
       "      <th>4</th>\n",
       "      <td>1.000000e+00</td>\n",
       "      <td>28.0</td>\n",
       "      <td>26100.0</td>\n",
       "      <td>-1.019907e-13</td>\n",
       "    </tr>\n",
       "  </tbody>\n",
       "</table>\n",
       "</div>"
      ],
      "text/plain": [
       "         gender   age   income  family_members\n",
       "0  1.000000e+00  41.0  49600.0    1.000000e+00\n",
       "1 -4.473636e-12  46.0  38000.0    1.000000e+00\n",
       "2 -2.515869e-12  29.0  21000.0    9.524523e-13\n",
       "3 -4.844982e-12  21.0  41700.0    2.000000e+00\n",
       "4  1.000000e+00  28.0  26100.0   -1.019907e-13"
      ]
     },
     "execution_count": 98,
     "metadata": {},
     "output_type": "execute_result"
    }
   ],
   "source": [
    "# Recuperando los datos originales\n",
    "\n",
    "pd.DataFrame(X_rec, columns = personal_info_column_list).head()"
   ]
  },
  {
   "cell_type": "markdown",
   "metadata": {},
   "source": [
    "<div class=\"alert alert-block alert-success\"> \n",
    "<b>Comentario del Revisor #1</b> <a class=\"tocSkip\"></a>\n",
    "\n",
    "Los datos ofuscados fueron recuperados correctamente, y se imprimieron algunos ejemplos.\n",
    "\n",
    "</div>"
   ]
  },
  {
   "cell_type": "markdown",
   "metadata": {},
   "source": [
    "**Pregunta 3:** Seguramente puedes ver que algunos valores no son exactamente iguales a los de los datos originales. ¿Cuál podría ser la razón de ello?"
   ]
  },
  {
   "cell_type": "markdown",
   "metadata": {},
   "source": [
    "**Respuesta:**\n",
    "- En la columnas de género y miembros de familia, se aprecian valores diferentes entre los datos originales y los datos recuperados.\n",
    "- Los errores aritméticos de punto flotante, son una posible causa, ya que al realizar cálculos con datos en diferentes escalas, la precisión que aportan los valores pequeños pueden pasar inadvertidos al tener valores muy grandes, debido a la diferencia de escalas.\n",
    "- Las diferentes ecalas generan distorsiones en los datos recuperados, lo que causa discrepancias observadas en las columnas de género y miembros de familia"
   ]
  },
  {
   "cell_type": "markdown",
   "metadata": {},
   "source": [
    "<div class=\"alert alert-block alert-success\"> \n",
    "<b>Comentario del Revisor #1</b> <a class=\"tocSkip\"></a>\n",
    "\n",
    "Muy buenas respuestas!\n",
    "\n",
    "</div>"
   ]
  },
  {
   "cell_type": "markdown",
   "metadata": {},
   "source": [
    "## **Prueba de que la ofuscación de datos puede funcionar con regresión lineal**"
   ]
  },
  {
   "cell_type": "markdown",
   "metadata": {},
   "source": [
    "En este proyecto la tarea de regresión se ha resuelto con la regresión lineal. Tu siguiente tarea es demostrar _analytically_ que el método de ofuscación no afectará a la regresión lineal en términos de valores predichos, es decir, que sus valores seguirán siendo los mismos. ¿Lo puedes creer? Pues no hace falta que lo creas, ¡tienes que que demostrarlo!"
   ]
  },
  {
   "cell_type": "markdown",
   "metadata": {},
   "source": [
    "Entonces, los datos están ofuscados y ahora tenemos $X \\times P$ en lugar de tener solo $X$. En consecuencia, hay otros pesos $w_P$ como\n",
    "$$\n",
    "w = (X^T X)^{-1} X^T y \\quad \\Rightarrow \\quad w_P = [(XP)^T XP]^{-1} (XP)^T y\n",
    "$$\n",
    "\n",
    "\n",
    "**Preguntas**\n",
    "1. ¿Cómo se relacionarían $w$ y $w_P$ si simplificáramos la fórmula de $w_P$ anterior? \n",
    "\n",
    "\n",
    "2. ¿Cuáles serían los valores predichos con $w_P$? \n",
    "\n",
    "\n",
    "3. ¿Qué significa esto para la calidad de la regresión lineal si esta se mide mediante la RECM? Revisa el Apéndice B Propiedades de las matrices al final del cuaderno. ¡Allí encontrarás fórmulas muy útiles!\n",
    "\n",
    "No es necesario escribir código en esta sección, basta con una explicación analítica."
   ]
  },
  {
   "cell_type": "markdown",
   "metadata": {},
   "source": [
    "**Respuesta**\n",
    "\n",
    "1. En primer lugar hay que entender lo que significa $w$ y $w_P$, lo cual en este caso $w$ hace referencia a los pesos originales calculados con los datos originales, mientras que $w_P$ son los pesos calculados con los datos ofuscados. Ahora, la forma en la que se relacionan ambas si se simplifica la formula descrita arriba para $w_P$ seria de la siguiente forma: $w_P = P^{-1}w$. Esta relación de variables se encuentra en la siguente sección de prueba analítica.\n",
    "\n",
    "\n",
    "2. Los valores predilectos con $w_P$ estan en $\\hat{y}$, ya que son los valores predichos con los valores originales y los pesos de $w$, esto se demostrará a continuación.\n",
    "\n",
    "\n",
    "3. La RECM mide la diferencia entre los valores predichos y los valores reales. Dado que $\\hat{y}_P = Xw = \\hat{y}$, la RECM sera igual para los datos originales como los datos ofuscados, lo que demuestra entonces que la calidad de la regresión lineal no se ve afectada por esto."
   ]
  },
  {
   "cell_type": "markdown",
   "metadata": {},
   "source": [
    "**Prueba analítica**"
   ]
  },
  {
   "cell_type": "markdown",
   "metadata": {},
   "source": [
    "Fórmula para calcular los pesos ($w$):\n",
    "\n",
    "$$w = (X^T X)^{-1} X^T y$$\n",
    "\n",
    "Luego de ofuscar los datos, se obtiene $X \\times P$, en lugar de $X$. Por ello, los nuevos pesos se pueden deducir como:\n",
    "\n",
    "$$w_P = [(XP)^T XP]^{-1} (XP)^T y$$\n",
    "\n",
    "Ahora, se intenta demostrar que $w_P$ no cambia los valores predecidos, en comparación con el $w$ original obtenidos de los datos no ofuscados.\n",
    "\n",
    "**Paso 1:** Expresar $w$ en términos de $w_P$ y $P$\n",
    "\n",
    "Para esto, es necesario modificar $w_P$ \n",
    "\n",
    "$$w_P = [(XP)^T XP]^{-1} (XP)^T y$$\n",
    "\n",
    "Transformando el producto de matrices\n",
    "\n",
    "$$w_P = (P^T X^T XP)^{-1} P^T X^T y$$\n",
    "\n",
    "Como $P$ es una matriz invertible, por lo que la ecuación se reescribe como\n",
    "\n",
    "$$w_P = P^{-1} (X^T X)^{-1} P^{-1} P^T X^T y$$\n",
    "\n",
    "Se analiza que $P^{-1} P = I$ ($I$: Matriz Identidad)\n",
    "\n",
    "$$w_P = P^{-1} (X^T X)^{-1} X^T y$$\n",
    "\n",
    "Como $w = (X^T X)^{-1} X^T$, se obtiene\n",
    "\n",
    "$$w_P = P^{-1} w$$\n",
    "\n",
    "**Paso 2:** Implicación que $w_P = P^{-1} w$\n",
    "\n",
    "La ecuación $w_P = P^{-1} w$ muestra que los pesos encontrados a partir de los datos ofuscados($w_P$) estan evidentemente vinculados con los pesos obtenidos de los datos originales($w$) mediante la inversa de la matriz $P$. Implica que al multiplicar los pesos originales por la matriz inversa($P^{-1}$), se obtendran los pesos ($w_P$) encontrados de los datos ofuscados.\n",
    "\n",
    "**Paso 3:** Predicciones con el uso de $w_P$\n",
    "\n",
    "Se ve como se relaciona la predicción que usa $w_P$, con la predicción original utiliza $w$\n",
    "\n",
    "Predicción original usa $w$\n",
    "\n",
    "$$\\hat{y} = Xw$$\n",
    "\n",
    "Predicción que utiliza $w_P$\n",
    "\n",
    "$$\\hat{y}_P = XPw_P\\$$\n",
    "\n",
    "Se sustituye $w_P = P^{-1} w$\n",
    "\n",
    "$$\\hat{y}_P = XP(P^{-1} w)$$\n",
    "\n",
    "Las reglas de multiplicación de matrices, permiten simplificar $XP(P^{-1})$ a $X$, para conseguir\n",
    "\n",
    "$$\\therefore \\hat{y}_P = Xw = \\hat{y}$$\n",
    "\n",
    "**Conclusión Prueba Analítica**\n",
    "\n",
    "La prueba analítica muestra que las predicciones que emplean los pesos originales($w$) y los pesos encontrados de los datos ofuscados($w_P$) son exactamente idénticos. Por ello, ofuscar los datos no afecta los valores predecidos por una regresión lineal, ya que las predicciones no son alteradas en relación a los resultados originales."
   ]
  },
  {
   "cell_type": "markdown",
   "metadata": {},
   "source": [
    "<div class=\"alert alert-block alert-success\"> \n",
    "<b>Comentario del Revisor #1</b> <a class=\"tocSkip\"></a>\n",
    "\n",
    "Impecable trabajo Javier! Felicidades\n",
    "\n",
    "</div>"
   ]
  },
  {
   "cell_type": "markdown",
   "metadata": {},
   "source": [
    "## **Prueba de regresión lineal con ofuscación de datos**"
   ]
  },
  {
   "cell_type": "markdown",
   "metadata": {},
   "source": [
    "Ahora, probemos que la regresión lineal pueda funcionar, en términos computacionales, con la transformación de ofuscación elegida.\n",
    "Construye un procedimiento o una clase que ejecute la regresión lineal opcionalmente con la ofuscación. Puedes usar una implementación de regresión lineal de scikit-learn o tu propia implementación.\n",
    "Ejecuta la regresión lineal para los datos originales y los ofuscados, compara los valores predichos y los valores de las métricas RMSE y $R^2$. ¿Hay alguna diferencia?"
   ]
  },
  {
   "cell_type": "markdown",
   "metadata": {},
   "source": [
    "**Procedimiento**\n",
    "\n",
    "- Crea una matriz cuadrada $P$ de números aleatorios.\n",
    "- Comprueba que sea invertible. Si no lo es, repite el primer paso hasta obtener una matriz invertible. <¡ tu comentario aquí !>\n",
    "- Utiliza $XP$ como la nueva matriz de características"
   ]
  },
  {
   "cell_type": "code",
   "execution_count": 99,
   "metadata": {},
   "outputs": [],
   "source": [
    "# Creando matriz cuadrada P\n",
    "\n",
    "rng = np.random.default_rng(seed = seed)\n",
    "P2 = rng.random(size = (X.shape[1], X.shape[1]))"
   ]
  },
  {
   "cell_type": "code",
   "execution_count": 100,
   "metadata": {},
   "outputs": [
    {
     "data": {
      "text/plain": [
       "True"
      ]
     },
     "execution_count": 100,
     "metadata": {},
     "output_type": "execute_result"
    }
   ],
   "source": [
    "# Verificando que la matriz sea invertible\n",
    "\n",
    "np.allclose(np.dot(P2, np.linalg.inv(P2)), np.dot(np.linalg.inv(P2), P2))"
   ]
  },
  {
   "cell_type": "markdown",
   "metadata": {},
   "source": [
    "#### Creando modelo de regresión lineal"
   ]
  },
  {
   "cell_type": "code",
   "execution_count": 101,
   "metadata": {},
   "outputs": [
    {
     "name": "stdout",
     "output_type": "stream",
     "text": [
      "[-0.97736673  2.32727489  0.01955949  0.04624156 -0.07297105]\n",
      "RMSE: 0.36\n",
      "R2: 0.66\n"
     ]
    }
   ],
   "source": [
    "# Usando datos originales escalados pero no ofuscados \n",
    "\n",
    "X = df_scaled[['age', 'gender', 'income', 'family_members']].to_numpy()\n",
    "y = df_scaled['insurance_benefits'].to_numpy()\n",
    "\n",
    "X_train, X_test, y_train, y_test = train_test_split(X, y, test_size = 0.3, random_state = seed)\n",
    "\n",
    "lr = MyLinearRegression()\n",
    "\n",
    "lr.fit(X_train, y_train)\n",
    "print(lr.weights)\n",
    "\n",
    "y_test_pred = lr.predict(X_test)\n",
    "eval_regressor(y_test, y_test_pred)"
   ]
  },
  {
   "cell_type": "code",
   "execution_count": 102,
   "metadata": {},
   "outputs": [
    {
     "name": "stdout",
     "output_type": "stream",
     "text": [
      "[-0.97736668 -0.05106694  0.02701985  0.05239092 -0.00431773]\n",
      "RMSE: 0.36\n",
      "R2: 0.66\n"
     ]
    }
   ],
   "source": [
    "# Usando datos originale, no escalados pero ofuscados con matriz P2\n",
    "\n",
    "X = df[['age', 'gender', 'income', 'family_members']].to_numpy()\n",
    "y = df['insurance_benefits'].to_numpy()\n",
    "\n",
    "X_train_P, X_test_P, y_train_P, y_test_P = train_test_split(np.dot(X, P2), y, test_size = 0.3, random_state = seed)\n",
    "\n",
    "lr = MyLinearRegression()\n",
    "\n",
    "lr.fit(X_train_P, y_train_P)\n",
    "print(lr.weights)\n",
    "\n",
    "y_test_pred_P = lr.predict(X_test_P)\n",
    "eval_regressor(y_test_P, y_test_pred_P)"
   ]
  },
  {
   "cell_type": "markdown",
   "metadata": {},
   "source": [
    "La precisión en ambos modelos es exactamente la misma."
   ]
  },
  {
   "cell_type": "markdown",
   "metadata": {},
   "source": [
    "<div class=\"alert alert-block alert-success\"> \n",
    "<b>Comentario del Revisor #1</b> <a class=\"tocSkip\"></a>\n",
    "\n",
    "Correcto! Se proporcionó una prueba analítica de que la transformación no afecta la regresión lineal utilizando el RMSE.\n",
    "\n",
    "</div>"
   ]
  },
  {
   "cell_type": "markdown",
   "metadata": {},
   "source": [
    "## **Conclusiones**"
   ]
  },
  {
   "cell_type": "markdown",
   "metadata": {},
   "source": [
    "En este proyecto, se exploraron aplicaciones practicas de algebra lineal, que asemeja la experiencia de resolver problemas de mundo real de la ciencia de datos. A continuacion se presentan las conclusiones\n",
    "\n",
    "1. Se utilizó el algoritmo de kNearestNeighbors(kNN) para identificar clientes semejantes a un cliente tipo especifico, a través de las métricas de distancia euclidiana y Manhattan\n",
    "\n",
    "\n",
    "2. Se examina el impacto de escalar los datos en el algoritmo kNN, revelando que los datos escalados dirigen a resultados significativamente distintos al comparar con datos sin escalar.\n",
    "\n",
    "\n",
    "3. Se comprueba el desempeño del algoritmo kNN usando datasets de entrenamiento y prueba, con los cuales se halló que los datos escalados logran valores de precisión representativamente más altos que los datos no escalados.\n",
    "\n",
    "\n",
    "4. Se crean pruebas de modelos con el algoriutmo de regresión lineal, las cuales no entregaron ninguna diferencia relevante en los puntajes de precisión entre datos escalados y sin escalar.\n",
    "\n",
    "\n",
    "5. Se examinna la ofuscación de datos en características númericas con metodos de algebra lineal. Los datos ofuscados hacen totalmente irreconocibles a los datos originales, donde estos uúltimos pueden ser restaurados gracias a los conocimientos de matriz inversa, los que destaca la importancia de la técnica de invertir matrices.\n",
    "\n",
    "\n",
    "6. Se demuestra que para el algoritmo de regresión lineal, que los datos ofuscados son utilizables para el análisis, ya que existe equivalencia matematica entre ambos conjuntos de datos (originales y ofuscados).\n",
    "\n",
    "\n",
    "7. Se corrobora que el algoritmo de regresión lineal es efectivo con datos ofuscados, ya que los valores de RMSE y precisión coincidentes, evidencian esta deducción.\n",
    "\n",
    "Se demuestra la importancia del algebra lineal en la ciencia de datos y su capacidad para respaldar y simplificar tareas de análisis, en la similitud de datos, evaluacion de modelos y ofuscación de datos."
   ]
  },
  {
   "cell_type": "markdown",
   "metadata": {},
   "source": [
    "\n",
    "<div class=\"alert alert-block alert-success\"> \n",
    "<b>Comentario del Revisor #1</b> <a class=\"tocSkip\"></a>\n",
    "\n",
    "Felicidades Javier! Tu trabajo es excelente. \n",
    "\n",
    "Has completado todos los items necesarios para aprobar la entrega. Sigue así!\n",
    "\n",
    "</div>"
   ]
  },
  {
   "cell_type": "markdown",
   "metadata": {},
   "source": [
    "## **Lista de control**"
   ]
  },
  {
   "cell_type": "markdown",
   "metadata": {},
   "source": [
    "Escribe 'x' para verificar. Luego presiona Shift+Enter."
   ]
  },
  {
   "cell_type": "markdown",
   "metadata": {},
   "source": [
    "- [x]  Jupyter Notebook está abierto\n",
    "- [ ]  El código no tiene errores- [ ]  Las celdas están ordenadas de acuerdo con la lógica y el orden de ejecución\n",
    "- [ ]  Se ha realizado la tarea 1\n",
    "    - [ ]  Está presente el procedimiento que puede devolver k clientes similares para un cliente determinado\n",
    "    - [ ]  Se probó el procedimiento para las cuatro combinaciones propuestas    - [ ]  Se respondieron las preguntas sobre la escala/distancia- [ ]  Se ha realizado la tarea 2\n",
    "    - [ ]  Se construyó y probó el modelo de clasificación aleatoria para todos los niveles de probabilidad    - [ ]  Se construyó y probó el modelo de clasificación kNN tanto para los datos originales como para los escalados. Se calculó la métrica F1.- [ ]  Se ha realizado la tarea 3\n",
    "    - [ ]  Se implementó la solución de regresión lineal mediante operaciones matriciales    - [ ]  Se calculó la RECM para la solución implementada- [ ]  Se ha realizado la tarea 4\n",
    "    - [ ]  Se ofuscaron los datos mediante una matriz aleatoria e invertible P    - [ ]  Se recuperaron los datos ofuscados y se han mostrado algunos ejemplos    - [ ]  Se proporcionó la prueba analítica de que la transformación no afecta a la RECM    - [ ]  Se proporcionó la prueba computacional de que la transformación no afecta a la RECM- [ ]  Se han sacado conclusiones"
   ]
  },
  {
   "cell_type": "markdown",
   "metadata": {},
   "source": [
    "## **Apéndices**\n",
    "\n",
    "### Apéndice A: Escribir fórmulas en los cuadernos de Jupyter"
   ]
  },
  {
   "cell_type": "markdown",
   "metadata": {},
   "source": [
    "Puedes escribir fórmulas en tu Jupyter Notebook utilizando un lenguaje de marcado proporcionado por un sistema de publicación de alta calidad llamado $\\LaTeX$ (se pronuncia como \"Lah-tech\"). Las fórmulas se verán como las de los libros de texto.\n",
    "\n",
    "Para incorporar una fórmula a un texto, pon el signo de dólar (\\\\$) antes y después del texto de la fórmula, por ejemplo: $\\frac{1}{2} \\times \\frac{3}{2} = \\frac{3}{4}$ or $y = x^2, x \\ge 1$.\n",
    "\n",
    "Si una fórmula debe estar en el mismo párrafo, pon el doble signo de dólar (\\\\$\\\\$) antes y después del texto de la fórmula, por ejemplo:\n",
    "$$\n",
    "\\bar{x} = \\frac{1}{n}\\sum_{i=1}^{n} x_i.\n",
    "$$\n",
    "\n",
    "El lenguaje de marcado de [LaTeX](https://es.wikipedia.org/wiki/LaTeX) es muy popular entre las personas que utilizan fórmulas en sus artículos, libros y textos. Puede resultar complicado, pero sus fundamentos son sencillos. Consulta esta [ficha de ayuda](http://tug.ctan.org/info/undergradmath/undergradmath.pdf) (materiales en inglés) de dos páginas para aprender a componer las fórmulas más comunes."
   ]
  },
  {
   "cell_type": "markdown",
   "metadata": {},
   "source": [
    "### Apéndice B: Propiedades de las matrices"
   ]
  },
  {
   "cell_type": "markdown",
   "metadata": {},
   "source": [
    "Las matrices tienen muchas propiedades en cuanto al álgebra lineal. Aquí se enumeran algunas de ellas que pueden ayudarte a la hora de realizar la prueba analítica de este proyecto."
   ]
  },
  {
   "cell_type": "markdown",
   "metadata": {},
   "source": [
    "<table>\n",
    "<tr>\n",
    "<td>Distributividad</td><td>$A(B+C)=AB+AC$</td>\n",
    "</tr>\n",
    "<tr>\n",
    "<td>No conmutatividad</td><td>$AB \\neq BA$</td>\n",
    "</tr>\n",
    "<tr>\n",
    "<td>Propiedad asociativa de la multiplicación</td><td>$(AB)C = A(BC)$</td>\n",
    "</tr>\n",
    "<tr>\n",
    "<td>Propiedad de identidad multiplicativa</td><td>$IA = AI = A$</td>\n",
    "</tr>\n",
    "<tr>\n",
    "<td></td><td>$A^{-1}A = AA^{-1} = I$\n",
    "</td>\n",
    "</tr>    \n",
    "<tr>\n",
    "<td></td><td>$(AB)^{-1} = B^{-1}A^{-1}$</td>\n",
    "</tr>    \n",
    "<tr>\n",
    "<td>Reversibilidad de la transposición de un producto de matrices,</td><td>$(AB)^T = B^TA^T$</td>\n",
    "</tr>    \n",
    "</table>"
   ]
  }
 ],
 "metadata": {
  "ExecuteTimeLog": [
   {
    "duration": 2483,
    "start_time": "2024-12-09T23:03:04.859Z"
   },
   {
    "duration": 2173,
    "start_time": "2024-12-09T23:40:28.563Z"
   },
   {
    "duration": 2800,
    "start_time": "2024-12-09T23:40:47.715Z"
   },
   {
    "duration": 13,
    "start_time": "2024-12-09T23:40:59.122Z"
   },
   {
    "duration": 3,
    "start_time": "2024-12-09T23:41:03.584Z"
   },
   {
    "duration": 11,
    "start_time": "2024-12-09T23:41:06.911Z"
   },
   {
    "duration": 10,
    "start_time": "2024-12-09T23:41:16.979Z"
   },
   {
    "duration": 3,
    "start_time": "2024-12-09T23:42:38.254Z"
   },
   {
    "duration": 2,
    "start_time": "2024-12-09T23:42:47.159Z"
   },
   {
    "duration": 9,
    "start_time": "2024-12-09T23:42:55.066Z"
   },
   {
    "duration": 21,
    "start_time": "2024-12-09T23:43:07.040Z"
   },
   {
    "duration": 5,
    "start_time": "2024-12-10T00:09:01.715Z"
   },
   {
    "duration": 136,
    "start_time": "2024-12-10T00:09:39.501Z"
   },
   {
    "duration": 6,
    "start_time": "2024-12-10T00:09:45.797Z"
   },
   {
    "duration": 2172,
    "start_time": "2024-12-10T00:12:37.768Z"
   },
   {
    "duration": 1028,
    "start_time": "2024-12-10T00:12:41.242Z"
   },
   {
    "duration": 8,
    "start_time": "2024-12-10T00:12:43.771Z"
   },
   {
    "duration": 3,
    "start_time": "2024-12-10T00:12:44.972Z"
   },
   {
    "duration": 10,
    "start_time": "2024-12-10T00:12:45.650Z"
   },
   {
    "duration": 9,
    "start_time": "2024-12-10T00:12:46.635Z"
   },
   {
    "duration": 4,
    "start_time": "2024-12-10T00:12:47.594Z"
   },
   {
    "duration": 11,
    "start_time": "2024-12-10T00:12:48.327Z"
   },
   {
    "duration": 17,
    "start_time": "2024-12-10T00:12:49.510Z"
   },
   {
    "duration": 5,
    "start_time": "2024-12-10T00:12:50.619Z"
   },
   {
    "duration": 5,
    "start_time": "2024-12-10T00:12:51.083Z"
   },
   {
    "duration": 6,
    "start_time": "2024-12-10T00:13:49.738Z"
   },
   {
    "duration": 230,
    "start_time": "2024-12-10T00:14:35.377Z"
   },
   {
    "duration": 8,
    "start_time": "2024-12-10T00:14:40.028Z"
   },
   {
    "duration": 2679,
    "start_time": "2024-12-10T00:14:57.493Z"
   },
   {
    "duration": 2,
    "start_time": "2024-12-10T00:21:34.725Z"
   },
   {
    "duration": 2,
    "start_time": "2024-12-10T00:21:42.551Z"
   },
   {
    "duration": 3,
    "start_time": "2024-12-10T00:23:07.676Z"
   },
   {
    "duration": 7,
    "start_time": "2024-12-10T00:23:10.254Z"
   },
   {
    "duration": 3,
    "start_time": "2024-12-10T00:23:22.472Z"
   },
   {
    "duration": 1003,
    "start_time": "2024-12-10T00:23:22.477Z"
   },
   {
    "duration": 8,
    "start_time": "2024-12-10T00:23:23.483Z"
   },
   {
    "duration": 3,
    "start_time": "2024-12-10T00:23:23.493Z"
   },
   {
    "duration": 10,
    "start_time": "2024-12-10T00:23:23.499Z"
   },
   {
    "duration": 21,
    "start_time": "2024-12-10T00:23:23.511Z"
   },
   {
    "duration": 3,
    "start_time": "2024-12-10T00:23:23.534Z"
   },
   {
    "duration": 8,
    "start_time": "2024-12-10T00:23:23.538Z"
   },
   {
    "duration": 17,
    "start_time": "2024-12-10T00:23:23.548Z"
   },
   {
    "duration": 5,
    "start_time": "2024-12-10T00:23:23.566Z"
   },
   {
    "duration": 6,
    "start_time": "2024-12-10T00:23:23.573Z"
   },
   {
    "duration": 6,
    "start_time": "2024-12-10T00:23:23.585Z"
   },
   {
    "duration": 2583,
    "start_time": "2024-12-10T00:23:23.593Z"
   },
   {
    "duration": 2,
    "start_time": "2024-12-10T00:23:26.178Z"
   },
   {
    "duration": 4,
    "start_time": "2024-12-10T00:33:46.860Z"
   },
   {
    "duration": 9,
    "start_time": "2024-12-10T00:33:52.104Z"
   },
   {
    "duration": 9,
    "start_time": "2024-12-10T00:33:54.209Z"
   },
   {
    "duration": 234,
    "start_time": "2024-12-10T00:46:33.066Z"
   },
   {
    "duration": 3,
    "start_time": "2024-12-10T00:46:49.840Z"
   },
   {
    "duration": 3,
    "start_time": "2024-12-10T00:47:15.754Z"
   },
   {
    "duration": 1078,
    "start_time": "2024-12-10T00:47:15.759Z"
   },
   {
    "duration": 9,
    "start_time": "2024-12-10T00:47:16.838Z"
   },
   {
    "duration": 4,
    "start_time": "2024-12-10T00:47:16.848Z"
   },
   {
    "duration": 10,
    "start_time": "2024-12-10T00:47:16.854Z"
   },
   {
    "duration": 8,
    "start_time": "2024-12-10T00:47:16.866Z"
   },
   {
    "duration": 3,
    "start_time": "2024-12-10T00:47:16.875Z"
   },
   {
    "duration": 9,
    "start_time": "2024-12-10T00:47:16.880Z"
   },
   {
    "duration": 51,
    "start_time": "2024-12-10T00:47:16.891Z"
   },
   {
    "duration": 6,
    "start_time": "2024-12-10T00:47:16.943Z"
   },
   {
    "duration": 5,
    "start_time": "2024-12-10T00:47:16.951Z"
   },
   {
    "duration": 7,
    "start_time": "2024-12-10T00:47:16.958Z"
   },
   {
    "duration": 2734,
    "start_time": "2024-12-10T00:47:16.966Z"
   },
   {
    "duration": 2,
    "start_time": "2024-12-10T00:47:19.703Z"
   },
   {
    "duration": 4,
    "start_time": "2024-12-10T00:47:19.707Z"
   },
   {
    "duration": 9,
    "start_time": "2024-12-10T00:47:19.712Z"
   },
   {
    "duration": 8,
    "start_time": "2024-12-10T00:47:19.722Z"
   },
   {
    "duration": 161,
    "start_time": "2024-12-10T19:22:02.249Z"
   },
   {
    "duration": 3,
    "start_time": "2024-12-10T19:22:18.011Z"
   },
   {
    "duration": 2712,
    "start_time": "2024-12-10T19:22:18.016Z"
   },
   {
    "duration": 14,
    "start_time": "2024-12-10T19:22:20.730Z"
   },
   {
    "duration": 4,
    "start_time": "2024-12-10T19:22:20.745Z"
   },
   {
    "duration": 10,
    "start_time": "2024-12-10T19:22:20.752Z"
   },
   {
    "duration": 9,
    "start_time": "2024-12-10T19:22:20.763Z"
   },
   {
    "duration": 3,
    "start_time": "2024-12-10T19:22:20.774Z"
   },
   {
    "duration": 33,
    "start_time": "2024-12-10T19:22:20.779Z"
   },
   {
    "duration": 16,
    "start_time": "2024-12-10T19:22:20.813Z"
   },
   {
    "duration": 5,
    "start_time": "2024-12-10T19:22:20.830Z"
   },
   {
    "duration": 5,
    "start_time": "2024-12-10T19:22:20.836Z"
   },
   {
    "duration": 6,
    "start_time": "2024-12-10T19:22:20.843Z"
   },
   {
    "duration": 17,
    "start_time": "2024-12-10T19:22:24.759Z"
   },
   {
    "duration": 16,
    "start_time": "2024-12-10T21:25:22.672Z"
   },
   {
    "duration": 3,
    "start_time": "2024-12-16T14:50:38.750Z"
   },
   {
    "duration": 2757,
    "start_time": "2024-12-16T14:50:38.755Z"
   },
   {
    "duration": 10,
    "start_time": "2024-12-16T14:50:41.514Z"
   },
   {
    "duration": 2,
    "start_time": "2024-12-16T14:50:41.526Z"
   },
   {
    "duration": 11,
    "start_time": "2024-12-16T14:50:41.530Z"
   },
   {
    "duration": 8,
    "start_time": "2024-12-16T14:50:41.543Z"
   },
   {
    "duration": 3,
    "start_time": "2024-12-16T14:50:41.553Z"
   },
   {
    "duration": 7,
    "start_time": "2024-12-16T14:50:41.558Z"
   },
   {
    "duration": 53,
    "start_time": "2024-12-16T14:50:41.568Z"
   },
   {
    "duration": 5,
    "start_time": "2024-12-16T14:50:41.623Z"
   },
   {
    "duration": 6,
    "start_time": "2024-12-16T14:50:41.630Z"
   },
   {
    "duration": 7,
    "start_time": "2024-12-16T14:50:41.637Z"
   },
   {
    "duration": 16,
    "start_time": "2024-12-16T14:50:41.645Z"
   },
   {
    "duration": 2567,
    "start_time": "2024-12-16T14:50:41.662Z"
   },
   {
    "duration": 3,
    "start_time": "2024-12-16T14:50:44.231Z"
   },
   {
    "duration": 5,
    "start_time": "2024-12-16T14:50:44.235Z"
   },
   {
    "duration": 9,
    "start_time": "2024-12-16T14:50:44.241Z"
   },
   {
    "duration": 8,
    "start_time": "2024-12-16T14:50:44.252Z"
   },
   {
    "duration": 233,
    "start_time": "2024-12-16T14:50:57.666Z"
   },
   {
    "duration": 3,
    "start_time": "2024-12-16T14:51:10.046Z"
   },
   {
    "duration": 2,
    "start_time": "2024-12-16T14:51:15.146Z"
   },
   {
    "duration": 15,
    "start_time": "2024-12-16T14:53:30.197Z"
   },
   {
    "duration": 14,
    "start_time": "2024-12-16T14:53:54.574Z"
   },
   {
    "duration": 3,
    "start_time": "2024-12-16T14:54:01.297Z"
   },
   {
    "duration": 18,
    "start_time": "2024-12-16T15:02:40.285Z"
   },
   {
    "duration": 50,
    "start_time": "2024-12-16T15:02:47.618Z"
   },
   {
    "duration": 8,
    "start_time": "2024-12-16T15:03:19.618Z"
   },
   {
    "duration": 50,
    "start_time": "2024-12-16T15:03:24.400Z"
   },
   {
    "duration": 43,
    "start_time": "2024-12-16T15:03:53.300Z"
   },
   {
    "duration": 43,
    "start_time": "2024-12-16T15:05:32.289Z"
   },
   {
    "duration": 50,
    "start_time": "2024-12-16T15:06:44.179Z"
   },
   {
    "duration": 2,
    "start_time": "2024-12-16T15:07:44.713Z"
   },
   {
    "duration": 70,
    "start_time": "2024-12-16T15:07:47.174Z"
   },
   {
    "duration": 2,
    "start_time": "2024-12-16T15:08:15.914Z"
   },
   {
    "duration": 3,
    "start_time": "2024-12-16T15:08:23.494Z"
   },
   {
    "duration": 49,
    "start_time": "2024-12-16T15:08:28.952Z"
   },
   {
    "duration": 48,
    "start_time": "2024-12-16T15:08:34.983Z"
   },
   {
    "duration": 47,
    "start_time": "2024-12-16T15:08:43.471Z"
   },
   {
    "duration": 3,
    "start_time": "2024-12-16T15:08:48.788Z"
   },
   {
    "duration": 48,
    "start_time": "2024-12-16T15:08:50.104Z"
   },
   {
    "duration": 3,
    "start_time": "2024-12-16T15:08:54.153Z"
   },
   {
    "duration": 57,
    "start_time": "2024-12-16T15:08:55.009Z"
   },
   {
    "duration": 2,
    "start_time": "2024-12-16T15:09:19.458Z"
   },
   {
    "duration": 3,
    "start_time": "2024-12-16T15:09:20.079Z"
   },
   {
    "duration": 3,
    "start_time": "2024-12-16T15:09:21.167Z"
   },
   {
    "duration": 116,
    "start_time": "2024-12-16T15:09:21.705Z"
   },
   {
    "duration": 2,
    "start_time": "2024-12-16T15:09:33.249Z"
   },
   {
    "duration": 3,
    "start_time": "2024-12-16T15:09:36.962Z"
   },
   {
    "duration": 2,
    "start_time": "2024-12-16T15:09:37.665Z"
   },
   {
    "duration": 48,
    "start_time": "2024-12-16T15:09:38.128Z"
   },
   {
    "duration": 26,
    "start_time": "2024-12-16T15:11:14.409Z"
   },
   {
    "duration": 43,
    "start_time": "2024-12-16T15:11:19.407Z"
   },
   {
    "duration": 4,
    "start_time": "2024-12-16T15:15:29.482Z"
   },
   {
    "duration": 5,
    "start_time": "2024-12-16T15:15:33.095Z"
   },
   {
    "duration": 3,
    "start_time": "2024-12-16T15:16:15.256Z"
   },
   {
    "duration": 3,
    "start_time": "2024-12-16T15:16:27.230Z"
   },
   {
    "duration": 28,
    "start_time": "2024-12-16T15:17:40.459Z"
   },
   {
    "duration": 3,
    "start_time": "2024-12-16T15:18:13.316Z"
   },
   {
    "duration": 3,
    "start_time": "2024-12-16T15:18:15.419Z"
   },
   {
    "duration": 3,
    "start_time": "2024-12-16T15:18:15.973Z"
   },
   {
    "duration": 20,
    "start_time": "2024-12-16T15:18:16.896Z"
   },
   {
    "duration": 297,
    "start_time": "2024-12-16T15:21:01.756Z"
   },
   {
    "duration": 32,
    "start_time": "2024-12-16T15:21:04.700Z"
   },
   {
    "duration": 4,
    "start_time": "2024-12-16T15:21:16.284Z"
   },
   {
    "duration": 15,
    "start_time": "2024-12-16T15:22:17.027Z"
   },
   {
    "duration": 4,
    "start_time": "2024-12-16T15:22:57.127Z"
   },
   {
    "duration": 4,
    "start_time": "2024-12-16T15:23:02.079Z"
   },
   {
    "duration": 5,
    "start_time": "2024-12-16T15:27:05.835Z"
   },
   {
    "duration": 255,
    "start_time": "2024-12-16T15:27:15.511Z"
   },
   {
    "duration": 271,
    "start_time": "2024-12-16T15:27:27.578Z"
   },
   {
    "duration": 3,
    "start_time": "2024-12-19T21:42:12.735Z"
   },
   {
    "duration": 2880,
    "start_time": "2024-12-19T21:42:12.740Z"
   },
   {
    "duration": 15,
    "start_time": "2024-12-19T21:42:15.623Z"
   },
   {
    "duration": 4,
    "start_time": "2024-12-19T21:42:15.640Z"
   },
   {
    "duration": 11,
    "start_time": "2024-12-19T21:42:15.647Z"
   },
   {
    "duration": 11,
    "start_time": "2024-12-19T21:42:15.660Z"
   },
   {
    "duration": 5,
    "start_time": "2024-12-19T21:42:15.673Z"
   },
   {
    "duration": 10,
    "start_time": "2024-12-19T21:42:15.680Z"
   },
   {
    "duration": 53,
    "start_time": "2024-12-19T21:42:15.692Z"
   },
   {
    "duration": 6,
    "start_time": "2024-12-19T21:42:15.748Z"
   },
   {
    "duration": 6,
    "start_time": "2024-12-19T21:42:15.757Z"
   },
   {
    "duration": 9,
    "start_time": "2024-12-19T21:42:15.765Z"
   },
   {
    "duration": 20,
    "start_time": "2024-12-19T21:42:15.776Z"
   },
   {
    "duration": 2930,
    "start_time": "2024-12-19T21:42:15.798Z"
   },
   {
    "duration": 2,
    "start_time": "2024-12-19T21:42:18.731Z"
   },
   {
    "duration": 5,
    "start_time": "2024-12-19T21:42:18.735Z"
   },
   {
    "duration": 10,
    "start_time": "2024-12-19T21:42:18.742Z"
   },
   {
    "duration": 9,
    "start_time": "2024-12-19T21:42:18.755Z"
   },
   {
    "duration": 2,
    "start_time": "2024-12-19T21:42:18.766Z"
   },
   {
    "duration": 82,
    "start_time": "2024-12-19T21:42:18.770Z"
   },
   {
    "duration": 4,
    "start_time": "2024-12-19T21:42:18.855Z"
   },
   {
    "duration": 6,
    "start_time": "2024-12-19T21:42:18.861Z"
   },
   {
    "duration": 3,
    "start_time": "2024-12-19T21:42:18.868Z"
   },
   {
    "duration": 3,
    "start_time": "2024-12-19T21:42:18.873Z"
   },
   {
    "duration": 19,
    "start_time": "2024-12-19T21:42:18.878Z"
   },
   {
    "duration": 33,
    "start_time": "2024-12-19T21:42:18.899Z"
   },
   {
    "duration": 4,
    "start_time": "2024-12-19T21:42:18.934Z"
   },
   {
    "duration": 282,
    "start_time": "2024-12-19T21:42:18.940Z"
   },
   {
    "duration": 2,
    "start_time": "2024-12-19T21:42:40.060Z"
   },
   {
    "duration": 4,
    "start_time": "2024-12-19T21:42:40.962Z"
   },
   {
    "duration": 6,
    "start_time": "2024-12-19T21:42:41.849Z"
   },
   {
    "duration": 21,
    "start_time": "2024-12-19T21:42:43.761Z"
   },
   {
    "duration": 4,
    "start_time": "2024-12-19T21:43:02.419Z"
   },
   {
    "duration": 3,
    "start_time": "2024-12-19T21:43:03.313Z"
   },
   {
    "duration": 312,
    "start_time": "2024-12-19T21:44:02.311Z"
   },
   {
    "duration": 365,
    "start_time": "2024-12-19T21:44:15.883Z"
   },
   {
    "duration": 2,
    "start_time": "2024-12-20T15:08:42.096Z"
   },
   {
    "duration": 2719,
    "start_time": "2024-12-20T15:08:42.102Z"
   },
   {
    "duration": 10,
    "start_time": "2024-12-20T15:08:44.823Z"
   },
   {
    "duration": 3,
    "start_time": "2024-12-20T15:08:44.835Z"
   },
   {
    "duration": 11,
    "start_time": "2024-12-20T15:08:44.839Z"
   },
   {
    "duration": 9,
    "start_time": "2024-12-20T15:08:44.853Z"
   },
   {
    "duration": 23,
    "start_time": "2024-12-20T15:08:44.864Z"
   },
   {
    "duration": 9,
    "start_time": "2024-12-20T15:08:44.889Z"
   },
   {
    "duration": 18,
    "start_time": "2024-12-20T15:08:44.901Z"
   },
   {
    "duration": 6,
    "start_time": "2024-12-20T15:08:44.921Z"
   },
   {
    "duration": 4,
    "start_time": "2024-12-20T15:08:44.928Z"
   },
   {
    "duration": 6,
    "start_time": "2024-12-20T15:08:44.934Z"
   },
   {
    "duration": 52,
    "start_time": "2024-12-20T15:08:44.942Z"
   },
   {
    "duration": 2531,
    "start_time": "2024-12-20T15:08:44.996Z"
   },
   {
    "duration": 3,
    "start_time": "2024-12-20T15:08:49.914Z"
   },
   {
    "duration": 2,
    "start_time": "2024-12-20T15:09:01.430Z"
   },
   {
    "duration": 2,
    "start_time": "2024-12-20T15:09:03.815Z"
   },
   {
    "duration": 2,
    "start_time": "2025-01-28T21:47:52.520Z"
   },
   {
    "duration": 2809,
    "start_time": "2025-01-28T21:47:52.526Z"
   },
   {
    "duration": 13,
    "start_time": "2025-01-28T21:47:55.338Z"
   },
   {
    "duration": 4,
    "start_time": "2025-01-28T21:47:55.352Z"
   },
   {
    "duration": 11,
    "start_time": "2025-01-28T21:47:55.357Z"
   },
   {
    "duration": 9,
    "start_time": "2025-01-28T21:47:55.370Z"
   },
   {
    "duration": 3,
    "start_time": "2025-01-28T21:47:55.381Z"
   },
   {
    "duration": 8,
    "start_time": "2025-01-28T21:47:55.385Z"
   },
   {
    "duration": 44,
    "start_time": "2025-01-28T21:47:55.395Z"
   },
   {
    "duration": 5,
    "start_time": "2025-01-28T21:47:55.441Z"
   },
   {
    "duration": 5,
    "start_time": "2025-01-28T21:47:55.448Z"
   },
   {
    "duration": 6,
    "start_time": "2025-01-28T21:47:55.455Z"
   },
   {
    "duration": 16,
    "start_time": "2025-01-28T21:47:55.463Z"
   },
   {
    "duration": 2619,
    "start_time": "2025-01-28T21:47:55.481Z"
   },
   {
    "duration": 3,
    "start_time": "2025-01-28T21:47:58.104Z"
   },
   {
    "duration": 4,
    "start_time": "2025-01-28T21:47:58.109Z"
   },
   {
    "duration": 16,
    "start_time": "2025-01-28T21:47:58.114Z"
   },
   {
    "duration": 9,
    "start_time": "2025-01-28T21:47:58.132Z"
   },
   {
    "duration": 3,
    "start_time": "2025-01-28T21:47:58.143Z"
   },
   {
    "duration": 2,
    "start_time": "2025-01-28T21:48:02.834Z"
   },
   {
    "duration": 6,
    "start_time": "2025-01-28T21:48:46.986Z"
   },
   {
    "duration": 6,
    "start_time": "2025-01-28T21:48:52.975Z"
   },
   {
    "duration": 5,
    "start_time": "2025-01-28T21:49:04.169Z"
   },
   {
    "duration": 6,
    "start_time": "2025-01-28T21:49:15.650Z"
   },
   {
    "duration": 6,
    "start_time": "2025-01-28T21:49:24.352Z"
   },
   {
    "duration": 5,
    "start_time": "2025-01-28T21:49:27.584Z"
   },
   {
    "duration": 3,
    "start_time": "2025-02-07T23:42:36.695Z"
   },
   {
    "duration": 2845,
    "start_time": "2025-02-07T23:42:37.644Z"
   },
   {
    "duration": 75,
    "start_time": "2025-02-07T23:42:43.464Z"
   },
   {
    "duration": 3,
    "start_time": "2025-02-07T23:42:47.061Z"
   },
   {
    "duration": 12,
    "start_time": "2025-02-07T23:42:48.560Z"
   },
   {
    "duration": 9,
    "start_time": "2025-02-07T23:42:55.344Z"
   },
   {
    "duration": 3,
    "start_time": "2025-02-07T23:42:58.389Z"
   },
   {
    "duration": 8,
    "start_time": "2025-02-07T23:43:08.886Z"
   },
   {
    "duration": 16,
    "start_time": "2025-02-07T23:43:26.210Z"
   },
   {
    "duration": 5,
    "start_time": "2025-02-07T23:43:28.463Z"
   },
   {
    "duration": 5,
    "start_time": "2025-02-07T23:44:02.859Z"
   },
   {
    "duration": 8,
    "start_time": "2025-02-07T23:44:11.942Z"
   },
   {
    "duration": 18,
    "start_time": "2025-02-07T23:44:13.592Z"
   },
   {
    "duration": 160,
    "start_time": "2025-02-08T01:48:33.119Z"
   },
   {
    "duration": 3,
    "start_time": "2025-02-08T01:49:03.643Z"
   },
   {
    "duration": 2806,
    "start_time": "2025-02-08T01:49:04.272Z"
   },
   {
    "duration": 14,
    "start_time": "2025-02-08T01:49:09.688Z"
   },
   {
    "duration": 4,
    "start_time": "2025-02-08T01:49:11.230Z"
   },
   {
    "duration": 12,
    "start_time": "2025-02-08T01:49:11.704Z"
   },
   {
    "duration": 10,
    "start_time": "2025-02-08T01:49:12.124Z"
   },
   {
    "duration": 4,
    "start_time": "2025-02-08T01:49:12.861Z"
   },
   {
    "duration": 9,
    "start_time": "2025-02-08T01:49:13.395Z"
   },
   {
    "duration": 17,
    "start_time": "2025-02-08T01:49:13.817Z"
   },
   {
    "duration": 6,
    "start_time": "2025-02-08T01:49:14.844Z"
   },
   {
    "duration": 5,
    "start_time": "2025-02-08T01:49:15.469Z"
   },
   {
    "duration": 5,
    "start_time": "2025-02-08T01:49:16.163Z"
   },
   {
    "duration": 5,
    "start_time": "2025-02-08T01:49:24.477Z"
   },
   {
    "duration": 4,
    "start_time": "2025-02-08T01:49:50.464Z"
   },
   {
    "duration": 5,
    "start_time": "2025-02-08T01:49:58.899Z"
   },
   {
    "duration": 6,
    "start_time": "2025-02-08T01:50:10.589Z"
   },
   {
    "duration": 19,
    "start_time": "2025-02-08T01:50:13.931Z"
   },
   {
    "duration": 157,
    "start_time": "2025-02-08T09:03:10.851Z"
   },
   {
    "duration": 3,
    "start_time": "2025-02-08T09:03:40.692Z"
   },
   {
    "duration": 2678,
    "start_time": "2025-02-08T09:03:40.697Z"
   },
   {
    "duration": 14,
    "start_time": "2025-02-08T09:03:43.377Z"
   },
   {
    "duration": 3,
    "start_time": "2025-02-08T09:03:43.393Z"
   },
   {
    "duration": 16,
    "start_time": "2025-02-08T09:03:43.398Z"
   },
   {
    "duration": 9,
    "start_time": "2025-02-08T09:03:43.415Z"
   },
   {
    "duration": 3,
    "start_time": "2025-02-08T09:03:43.425Z"
   },
   {
    "duration": 8,
    "start_time": "2025-02-08T09:03:43.429Z"
   },
   {
    "duration": 16,
    "start_time": "2025-02-08T09:03:43.440Z"
   },
   {
    "duration": 5,
    "start_time": "2025-02-08T09:03:43.457Z"
   },
   {
    "duration": 5,
    "start_time": "2025-02-08T09:03:43.463Z"
   },
   {
    "duration": 41,
    "start_time": "2025-02-08T09:03:43.470Z"
   },
   {
    "duration": 7,
    "start_time": "2025-02-08T09:03:43.513Z"
   },
   {
    "duration": 15,
    "start_time": "2025-02-08T09:03:43.522Z"
   },
   {
    "duration": 2531,
    "start_time": "2025-02-08T09:03:46.954Z"
   },
   {
    "duration": 3,
    "start_time": "2025-02-08T09:06:34.085Z"
   },
   {
    "duration": 4,
    "start_time": "2025-02-08T11:46:42.379Z"
   },
   {
    "duration": 9,
    "start_time": "2025-02-08T11:46:45.318Z"
   },
   {
    "duration": 9,
    "start_time": "2025-02-08T11:46:46.642Z"
   },
   {
    "duration": 313,
    "start_time": "2025-02-08T11:46:52.301Z"
   },
   {
    "duration": 44,
    "start_time": "2025-02-08T11:47:43.292Z"
   },
   {
    "duration": 48,
    "start_time": "2025-02-08T11:55:50.579Z"
   },
   {
    "duration": 64,
    "start_time": "2025-02-08T11:56:20.737Z"
   },
   {
    "duration": 62,
    "start_time": "2025-02-08T11:57:38.656Z"
   },
   {
    "duration": 116,
    "start_time": "2025-02-08T12:24:52.522Z"
   },
   {
    "duration": 64,
    "start_time": "2025-02-08T12:25:15.936Z"
   },
   {
    "duration": 63,
    "start_time": "2025-02-08T12:26:56.929Z"
   },
   {
    "duration": 17,
    "start_time": "2025-02-08T12:27:53.963Z"
   },
   {
    "duration": 16,
    "start_time": "2025-02-08T12:28:27.686Z"
   },
   {
    "duration": 7,
    "start_time": "2025-02-08T12:28:39.671Z"
   },
   {
    "duration": 18,
    "start_time": "2025-02-08T12:29:01.361Z"
   },
   {
    "duration": 2,
    "start_time": "2025-02-08T12:29:12.968Z"
   },
   {
    "duration": 4,
    "start_time": "2025-02-08T12:29:12.972Z"
   },
   {
    "duration": 7,
    "start_time": "2025-02-08T12:29:12.986Z"
   },
   {
    "duration": 3,
    "start_time": "2025-02-08T12:29:12.995Z"
   },
   {
    "duration": 9,
    "start_time": "2025-02-08T12:29:12.999Z"
   },
   {
    "duration": 8,
    "start_time": "2025-02-08T12:29:13.009Z"
   },
   {
    "duration": 2,
    "start_time": "2025-02-08T12:29:13.020Z"
   },
   {
    "duration": 7,
    "start_time": "2025-02-08T12:29:13.024Z"
   },
   {
    "duration": 15,
    "start_time": "2025-02-08T12:29:13.032Z"
   },
   {
    "duration": 5,
    "start_time": "2025-02-08T12:29:13.049Z"
   },
   {
    "duration": 5,
    "start_time": "2025-02-08T12:29:13.055Z"
   },
   {
    "duration": 4,
    "start_time": "2025-02-08T12:29:13.062Z"
   },
   {
    "duration": 47,
    "start_time": "2025-02-08T12:29:13.067Z"
   },
   {
    "duration": 18,
    "start_time": "2025-02-08T12:29:16.953Z"
   },
   {
    "duration": 3,
    "start_time": "2025-02-08T12:29:37.749Z"
   },
   {
    "duration": 3,
    "start_time": "2025-02-08T12:29:37.754Z"
   },
   {
    "duration": 6,
    "start_time": "2025-02-08T12:29:37.760Z"
   },
   {
    "duration": 3,
    "start_time": "2025-02-08T12:29:37.768Z"
   },
   {
    "duration": 8,
    "start_time": "2025-02-08T12:29:37.773Z"
   },
   {
    "duration": 7,
    "start_time": "2025-02-08T12:29:37.783Z"
   },
   {
    "duration": 3,
    "start_time": "2025-02-08T12:29:37.792Z"
   },
   {
    "duration": 7,
    "start_time": "2025-02-08T12:29:37.796Z"
   },
   {
    "duration": 17,
    "start_time": "2025-02-08T12:29:37.804Z"
   },
   {
    "duration": 6,
    "start_time": "2025-02-08T12:29:37.823Z"
   },
   {
    "duration": 5,
    "start_time": "2025-02-08T12:29:37.830Z"
   },
   {
    "duration": 5,
    "start_time": "2025-02-08T12:29:37.836Z"
   },
   {
    "duration": 7,
    "start_time": "2025-02-08T12:29:37.842Z"
   },
   {
    "duration": 18,
    "start_time": "2025-02-08T12:29:42.483Z"
   },
   {
    "duration": 8,
    "start_time": "2025-02-08T12:30:39.405Z"
   },
   {
    "duration": 17,
    "start_time": "2025-02-08T12:30:41.088Z"
   },
   {
    "duration": 2,
    "start_time": "2025-02-08T12:30:57.379Z"
   },
   {
    "duration": 4,
    "start_time": "2025-02-08T12:30:57.383Z"
   },
   {
    "duration": 7,
    "start_time": "2025-02-08T12:30:57.388Z"
   },
   {
    "duration": 3,
    "start_time": "2025-02-08T12:30:57.397Z"
   },
   {
    "duration": 8,
    "start_time": "2025-02-08T12:30:57.402Z"
   },
   {
    "duration": 10,
    "start_time": "2025-02-08T12:30:57.411Z"
   },
   {
    "duration": 3,
    "start_time": "2025-02-08T12:30:57.423Z"
   },
   {
    "duration": 9,
    "start_time": "2025-02-08T12:30:57.428Z"
   },
   {
    "duration": 16,
    "start_time": "2025-02-08T12:30:57.438Z"
   },
   {
    "duration": 4,
    "start_time": "2025-02-08T12:30:57.457Z"
   },
   {
    "duration": 6,
    "start_time": "2025-02-08T12:30:57.463Z"
   },
   {
    "duration": 40,
    "start_time": "2025-02-08T12:30:57.470Z"
   },
   {
    "duration": 7,
    "start_time": "2025-02-08T12:30:57.514Z"
   },
   {
    "duration": 17,
    "start_time": "2025-02-08T12:31:02.114Z"
   },
   {
    "duration": 7,
    "start_time": "2025-02-08T12:31:29.257Z"
   },
   {
    "duration": 8,
    "start_time": "2025-02-08T12:31:31.594Z"
   },
   {
    "duration": 17,
    "start_time": "2025-02-08T12:32:05.331Z"
   },
   {
    "duration": 7,
    "start_time": "2025-02-08T12:32:42.033Z"
   },
   {
    "duration": 17,
    "start_time": "2025-02-08T12:32:43.229Z"
   },
   {
    "duration": 2,
    "start_time": "2025-02-08T12:33:12.174Z"
   },
   {
    "duration": 6,
    "start_time": "2025-02-08T12:33:12.178Z"
   },
   {
    "duration": 8,
    "start_time": "2025-02-08T12:33:12.185Z"
   },
   {
    "duration": 2,
    "start_time": "2025-02-08T12:33:12.195Z"
   },
   {
    "duration": 8,
    "start_time": "2025-02-08T12:33:12.199Z"
   },
   {
    "duration": 8,
    "start_time": "2025-02-08T12:33:12.209Z"
   },
   {
    "duration": 3,
    "start_time": "2025-02-08T12:33:12.218Z"
   },
   {
    "duration": 7,
    "start_time": "2025-02-08T12:33:12.224Z"
   },
   {
    "duration": 15,
    "start_time": "2025-02-08T12:33:12.233Z"
   },
   {
    "duration": 4,
    "start_time": "2025-02-08T12:33:12.249Z"
   },
   {
    "duration": 5,
    "start_time": "2025-02-08T12:33:12.255Z"
   },
   {
    "duration": 5,
    "start_time": "2025-02-08T12:33:12.261Z"
   },
   {
    "duration": 8,
    "start_time": "2025-02-08T12:33:12.308Z"
   },
   {
    "duration": 15,
    "start_time": "2025-02-08T12:33:12.317Z"
   },
   {
    "duration": 2547,
    "start_time": "2025-02-08T12:33:12.334Z"
   },
   {
    "duration": 4,
    "start_time": "2025-02-08T12:33:14.884Z"
   },
   {
    "duration": 3,
    "start_time": "2025-02-08T12:33:14.890Z"
   },
   {
    "duration": 8,
    "start_time": "2025-02-08T12:33:14.908Z"
   },
   {
    "duration": 7,
    "start_time": "2025-02-08T12:33:14.918Z"
   },
   {
    "duration": 59,
    "start_time": "2025-02-08T12:33:20.985Z"
   },
   {
    "duration": 59,
    "start_time": "2025-02-08T12:36:30.007Z"
   },
   {
    "duration": 6,
    "start_time": "2025-02-08T12:42:20.431Z"
   },
   {
    "duration": 4,
    "start_time": "2025-02-08T12:43:09.247Z"
   },
   {
    "duration": 4,
    "start_time": "2025-02-08T12:43:39.247Z"
   },
   {
    "duration": 4,
    "start_time": "2025-02-08T12:44:14.084Z"
   },
   {
    "duration": 59,
    "start_time": "2025-02-08T12:45:16.341Z"
   },
   {
    "duration": 2,
    "start_time": "2025-02-08T15:23:58.860Z"
   },
   {
    "duration": 2587,
    "start_time": "2025-02-08T15:23:58.866Z"
   },
   {
    "duration": 12,
    "start_time": "2025-02-08T15:24:01.455Z"
   },
   {
    "duration": 3,
    "start_time": "2025-02-08T15:24:01.468Z"
   },
   {
    "duration": 10,
    "start_time": "2025-02-08T15:24:01.473Z"
   },
   {
    "duration": 8,
    "start_time": "2025-02-08T15:24:01.485Z"
   },
   {
    "duration": 18,
    "start_time": "2025-02-08T15:24:01.495Z"
   },
   {
    "duration": 8,
    "start_time": "2025-02-08T15:24:01.514Z"
   },
   {
    "duration": 17,
    "start_time": "2025-02-08T15:24:01.523Z"
   },
   {
    "duration": 6,
    "start_time": "2025-02-08T15:24:01.541Z"
   },
   {
    "duration": 6,
    "start_time": "2025-02-08T15:24:01.549Z"
   },
   {
    "duration": 5,
    "start_time": "2025-02-08T15:24:01.556Z"
   },
   {
    "duration": 6,
    "start_time": "2025-02-08T15:24:01.562Z"
   },
   {
    "duration": 55,
    "start_time": "2025-02-08T15:24:01.570Z"
   },
   {
    "duration": 2534,
    "start_time": "2025-02-08T15:24:01.626Z"
   },
   {
    "duration": 2,
    "start_time": "2025-02-08T15:24:04.162Z"
   },
   {
    "duration": 4,
    "start_time": "2025-02-08T15:24:04.166Z"
   },
   {
    "duration": 9,
    "start_time": "2025-02-08T15:24:04.171Z"
   },
   {
    "duration": 7,
    "start_time": "2025-02-08T15:24:04.182Z"
   },
   {
    "duration": 60,
    "start_time": "2025-02-08T15:24:08.460Z"
   },
   {
    "duration": 57,
    "start_time": "2025-02-08T15:25:54.158Z"
   },
   {
    "duration": 58,
    "start_time": "2025-02-08T15:26:08.864Z"
   },
   {
    "duration": 58,
    "start_time": "2025-02-08T15:26:18.732Z"
   },
   {
    "duration": 58,
    "start_time": "2025-02-08T15:27:17.866Z"
   },
   {
    "duration": 58,
    "start_time": "2025-02-08T15:29:03.709Z"
   },
   {
    "duration": 57,
    "start_time": "2025-02-08T15:58:03.413Z"
   },
   {
    "duration": 58,
    "start_time": "2025-02-08T16:02:10.301Z"
   },
   {
    "duration": 5,
    "start_time": "2025-02-08T16:08:17.300Z"
   },
   {
    "duration": 716,
    "start_time": "2025-02-08T16:11:56.911Z"
   },
   {
    "duration": 5,
    "start_time": "2025-02-08T16:12:06.862Z"
   },
   {
    "duration": 4,
    "start_time": "2025-02-08T16:21:08.013Z"
   },
   {
    "duration": 156,
    "start_time": "2025-02-08T20:55:33.977Z"
   },
   {
    "duration": 3,
    "start_time": "2025-02-08T21:01:05.998Z"
   },
   {
    "duration": 2687,
    "start_time": "2025-02-08T21:01:06.003Z"
   },
   {
    "duration": 9,
    "start_time": "2025-02-08T21:01:08.692Z"
   },
   {
    "duration": 4,
    "start_time": "2025-02-08T21:01:08.704Z"
   },
   {
    "duration": 10,
    "start_time": "2025-02-08T21:01:08.713Z"
   },
   {
    "duration": 8,
    "start_time": "2025-02-08T21:01:08.725Z"
   },
   {
    "duration": 2,
    "start_time": "2025-02-08T21:01:08.735Z"
   },
   {
    "duration": 7,
    "start_time": "2025-02-08T21:01:08.739Z"
   },
   {
    "duration": 15,
    "start_time": "2025-02-08T21:01:08.748Z"
   },
   {
    "duration": 4,
    "start_time": "2025-02-08T21:01:08.765Z"
   },
   {
    "duration": 42,
    "start_time": "2025-02-08T21:01:08.772Z"
   },
   {
    "duration": 4,
    "start_time": "2025-02-08T21:01:08.816Z"
   },
   {
    "duration": 7,
    "start_time": "2025-02-08T21:01:08.822Z"
   },
   {
    "duration": 15,
    "start_time": "2025-02-08T21:01:08.830Z"
   },
   {
    "duration": 2525,
    "start_time": "2025-02-08T21:01:08.847Z"
   },
   {
    "duration": 3,
    "start_time": "2025-02-08T21:01:11.374Z"
   },
   {
    "duration": 5,
    "start_time": "2025-02-08T21:01:11.378Z"
   },
   {
    "duration": 9,
    "start_time": "2025-02-08T21:01:11.384Z"
   },
   {
    "duration": 8,
    "start_time": "2025-02-08T21:01:11.394Z"
   },
   {
    "duration": 140,
    "start_time": "2025-02-08T21:01:11.404Z"
   },
   {
    "duration": 5,
    "start_time": "2025-02-08T21:01:11.546Z"
   },
   {
    "duration": 4,
    "start_time": "2025-02-08T21:01:11.552Z"
   },
   {
    "duration": 90,
    "start_time": "2025-02-08T21:01:59.259Z"
   },
   {
    "duration": 89,
    "start_time": "2025-02-08T21:02:12.476Z"
   },
   {
    "duration": 96,
    "start_time": "2025-02-08T21:05:01.241Z"
   },
   {
    "duration": 93,
    "start_time": "2025-02-08T21:05:16.821Z"
   },
   {
    "duration": 96,
    "start_time": "2025-02-08T21:05:27.585Z"
   },
   {
    "duration": 97,
    "start_time": "2025-02-08T21:05:40.493Z"
   },
   {
    "duration": 322,
    "start_time": "2025-02-08T21:06:32.499Z"
   },
   {
    "duration": 113,
    "start_time": "2025-02-08T21:07:08.272Z"
   },
   {
    "duration": 92,
    "start_time": "2025-02-08T21:07:16.569Z"
   },
   {
    "duration": 91,
    "start_time": "2025-02-08T21:11:02.960Z"
   },
   {
    "duration": 3,
    "start_time": "2025-02-08T21:45:22.425Z"
   },
   {
    "duration": 3,
    "start_time": "2025-02-08T21:45:28.918Z"
   },
   {
    "duration": 18,
    "start_time": "2025-02-08T21:45:29.996Z"
   },
   {
    "duration": 3,
    "start_time": "2025-02-08T21:51:34.056Z"
   },
   {
    "duration": 436,
    "start_time": "2025-02-08T21:51:48.493Z"
   },
   {
    "duration": 6,
    "start_time": "2025-02-08T21:52:01.072Z"
   },
   {
    "duration": 3,
    "start_time": "2025-02-08T22:02:53.639Z"
   },
   {
    "duration": 29,
    "start_time": "2025-02-08T22:04:46.695Z"
   },
   {
    "duration": 7,
    "start_time": "2025-02-08T22:04:47.232Z"
   },
   {
    "duration": 12,
    "start_time": "2025-02-08T22:07:43.654Z"
   },
   {
    "duration": 6,
    "start_time": "2025-02-08T22:08:50.353Z"
   },
   {
    "duration": 30,
    "start_time": "2025-02-08T22:08:51.045Z"
   },
   {
    "duration": 6,
    "start_time": "2025-02-08T22:08:51.956Z"
   },
   {
    "duration": 6,
    "start_time": "2025-02-08T22:09:05.883Z"
   },
   {
    "duration": 35,
    "start_time": "2025-02-08T22:09:06.496Z"
   },
   {
    "duration": 5,
    "start_time": "2025-02-08T22:09:07.392Z"
   },
   {
    "duration": 4,
    "start_time": "2025-02-08T22:19:06.241Z"
   },
   {
    "duration": 3,
    "start_time": "2025-02-08T22:19:20.932Z"
   },
   {
    "duration": 25,
    "start_time": "2025-02-08T22:19:23.173Z"
   },
   {
    "duration": 3,
    "start_time": "2025-02-08T22:19:34.981Z"
   },
   {
    "duration": 3,
    "start_time": "2025-02-08T22:19:35.402Z"
   },
   {
    "duration": 29,
    "start_time": "2025-02-08T22:19:36.454Z"
   },
   {
    "duration": 3,
    "start_time": "2025-02-08T22:20:18.404Z"
   },
   {
    "duration": 9,
    "start_time": "2025-02-08T22:20:25.645Z"
   },
   {
    "duration": 14,
    "start_time": "2025-02-08T22:24:06.238Z"
   },
   {
    "duration": 6,
    "start_time": "2025-02-08T22:25:28.224Z"
   },
   {
    "duration": 2,
    "start_time": "2025-02-08T22:36:58.516Z"
   },
   {
    "duration": 5,
    "start_time": "2025-02-08T22:36:58.520Z"
   },
   {
    "duration": 10,
    "start_time": "2025-02-08T22:36:58.526Z"
   },
   {
    "duration": 3,
    "start_time": "2025-02-08T22:36:58.537Z"
   },
   {
    "duration": 10,
    "start_time": "2025-02-08T22:36:58.544Z"
   },
   {
    "duration": 13,
    "start_time": "2025-02-08T22:36:58.556Z"
   },
   {
    "duration": 3,
    "start_time": "2025-02-08T22:36:58.570Z"
   },
   {
    "duration": 8,
    "start_time": "2025-02-08T22:36:58.575Z"
   },
   {
    "duration": 46,
    "start_time": "2025-02-08T22:36:58.584Z"
   },
   {
    "duration": 5,
    "start_time": "2025-02-08T22:36:58.632Z"
   },
   {
    "duration": 5,
    "start_time": "2025-02-08T22:36:58.639Z"
   },
   {
    "duration": 3,
    "start_time": "2025-02-08T22:36:58.646Z"
   },
   {
    "duration": 7,
    "start_time": "2025-02-08T22:36:58.651Z"
   },
   {
    "duration": 17,
    "start_time": "2025-02-08T22:36:58.661Z"
   },
   {
    "duration": 2779,
    "start_time": "2025-02-08T22:36:58.713Z"
   },
   {
    "duration": 3,
    "start_time": "2025-02-08T22:37:01.493Z"
   },
   {
    "duration": 4,
    "start_time": "2025-02-08T22:37:01.497Z"
   },
   {
    "duration": 8,
    "start_time": "2025-02-08T22:37:01.512Z"
   },
   {
    "duration": 8,
    "start_time": "2025-02-08T22:37:01.522Z"
   },
   {
    "duration": 82,
    "start_time": "2025-02-08T22:37:01.532Z"
   },
   {
    "duration": 6,
    "start_time": "2025-02-08T22:37:01.616Z"
   },
   {
    "duration": 4,
    "start_time": "2025-02-08T22:37:01.623Z"
   },
   {
    "duration": 111,
    "start_time": "2025-02-08T22:37:01.628Z"
   },
   {
    "duration": 3,
    "start_time": "2025-02-08T22:37:01.742Z"
   },
   {
    "duration": 4,
    "start_time": "2025-02-08T22:37:01.746Z"
   },
   {
    "duration": 19,
    "start_time": "2025-02-08T22:37:01.751Z"
   },
   {
    "duration": 8,
    "start_time": "2025-02-08T22:37:01.772Z"
   },
   {
    "duration": 48,
    "start_time": "2025-02-08T22:37:01.782Z"
   },
   {
    "duration": 5,
    "start_time": "2025-02-08T22:37:01.832Z"
   },
   {
    "duration": 6,
    "start_time": "2025-02-08T22:37:01.839Z"
   },
   {
    "duration": 34,
    "start_time": "2025-02-08T22:37:01.847Z"
   },
   {
    "duration": 29,
    "start_time": "2025-02-08T22:37:01.883Z"
   },
   {
    "duration": 4,
    "start_time": "2025-02-08T22:37:01.913Z"
   },
   {
    "duration": 3,
    "start_time": "2025-02-08T22:37:01.918Z"
   },
   {
    "duration": 13,
    "start_time": "2025-02-08T22:37:01.923Z"
   },
   {
    "duration": 8,
    "start_time": "2025-02-08T22:37:01.937Z"
   },
   {
    "duration": 2,
    "start_time": "2025-02-09T00:15:02.012Z"
   },
   {
    "duration": 2874,
    "start_time": "2025-02-09T00:15:02.022Z"
   },
   {
    "duration": 13,
    "start_time": "2025-02-09T00:15:04.898Z"
   },
   {
    "duration": 2,
    "start_time": "2025-02-09T00:15:04.913Z"
   },
   {
    "duration": 10,
    "start_time": "2025-02-09T00:15:04.917Z"
   },
   {
    "duration": 8,
    "start_time": "2025-02-09T00:15:04.930Z"
   },
   {
    "duration": 3,
    "start_time": "2025-02-09T00:15:04.940Z"
   },
   {
    "duration": 8,
    "start_time": "2025-02-09T00:15:04.945Z"
   },
   {
    "duration": 16,
    "start_time": "2025-02-09T00:15:04.955Z"
   },
   {
    "duration": 36,
    "start_time": "2025-02-09T00:15:04.972Z"
   },
   {
    "duration": 5,
    "start_time": "2025-02-09T00:15:05.009Z"
   },
   {
    "duration": 4,
    "start_time": "2025-02-09T00:15:05.016Z"
   },
   {
    "duration": 6,
    "start_time": "2025-02-09T00:15:05.022Z"
   },
   {
    "duration": 15,
    "start_time": "2025-02-09T00:15:05.031Z"
   },
   {
    "duration": 2672,
    "start_time": "2025-02-09T00:15:05.049Z"
   },
   {
    "duration": 3,
    "start_time": "2025-02-09T00:15:07.723Z"
   },
   {
    "duration": 4,
    "start_time": "2025-02-09T00:15:07.728Z"
   },
   {
    "duration": 9,
    "start_time": "2025-02-09T00:15:07.734Z"
   },
   {
    "duration": 8,
    "start_time": "2025-02-09T00:15:07.744Z"
   },
   {
    "duration": 134,
    "start_time": "2025-02-09T00:15:07.754Z"
   },
   {
    "duration": 19,
    "start_time": "2025-02-09T00:15:07.889Z"
   },
   {
    "duration": 2,
    "start_time": "2025-02-09T00:15:07.910Z"
   },
   {
    "duration": 118,
    "start_time": "2025-02-09T00:15:07.914Z"
   },
   {
    "duration": 3,
    "start_time": "2025-02-09T00:15:08.034Z"
   },
   {
    "duration": 3,
    "start_time": "2025-02-09T00:15:08.039Z"
   },
   {
    "duration": 23,
    "start_time": "2025-02-09T00:15:08.044Z"
   },
   {
    "duration": 5,
    "start_time": "2025-02-09T00:15:08.069Z"
   },
   {
    "duration": 58,
    "start_time": "2025-02-09T00:15:08.076Z"
   },
   {
    "duration": 5,
    "start_time": "2025-02-09T00:15:08.136Z"
   },
   {
    "duration": 6,
    "start_time": "2025-02-09T00:15:08.143Z"
   },
   {
    "duration": 33,
    "start_time": "2025-02-09T00:15:08.150Z"
   },
   {
    "duration": 4,
    "start_time": "2025-02-09T00:15:08.205Z"
   },
   {
    "duration": 3,
    "start_time": "2025-02-09T00:15:08.211Z"
   },
   {
    "duration": 3,
    "start_time": "2025-02-09T00:15:08.216Z"
   },
   {
    "duration": 8,
    "start_time": "2025-02-09T00:15:08.221Z"
   },
   {
    "duration": 7,
    "start_time": "2025-02-09T00:15:08.231Z"
   },
   {
    "duration": 5,
    "start_time": "2025-02-09T00:15:45.708Z"
   },
   {
    "duration": 4,
    "start_time": "2025-02-09T00:15:49.677Z"
   },
   {
    "duration": 3,
    "start_time": "2025-02-09T00:15:50.317Z"
   },
   {
    "duration": 4,
    "start_time": "2025-02-09T00:15:52.012Z"
   },
   {
    "duration": 6,
    "start_time": "2025-02-09T00:15:53.802Z"
   },
   {
    "duration": 3,
    "start_time": "2025-02-09T00:20:13.286Z"
   },
   {
    "duration": 4,
    "start_time": "2025-02-09T00:23:05.543Z"
   },
   {
    "duration": 13,
    "start_time": "2025-02-09T00:23:19.556Z"
   },
   {
    "duration": 4,
    "start_time": "2025-02-09T00:23:57.555Z"
   },
   {
    "duration": 4,
    "start_time": "2025-02-09T00:27:11.638Z"
   },
   {
    "duration": 4,
    "start_time": "2025-02-09T00:27:33.037Z"
   },
   {
    "duration": 242,
    "start_time": "2025-02-09T00:27:42.277Z"
   },
   {
    "duration": 4,
    "start_time": "2025-02-09T00:27:45.303Z"
   },
   {
    "duration": 3,
    "start_time": "2025-02-09T00:28:20.391Z"
   },
   {
    "duration": 4,
    "start_time": "2025-02-09T00:28:28.367Z"
   },
   {
    "duration": 4,
    "start_time": "2025-02-09T00:29:14.862Z"
   },
   {
    "duration": 5,
    "start_time": "2025-02-09T00:32:04.990Z"
   },
   {
    "duration": 24,
    "start_time": "2025-02-09T01:03:25.381Z"
   },
   {
    "duration": 8,
    "start_time": "2025-02-09T01:03:36.100Z"
   },
   {
    "duration": 8,
    "start_time": "2025-02-09T01:06:02.790Z"
   },
   {
    "duration": 7,
    "start_time": "2025-02-09T01:06:05.381Z"
   },
   {
    "duration": 156,
    "start_time": "2025-02-09T22:26:15.283Z"
   },
   {
    "duration": 3,
    "start_time": "2025-02-09T22:26:30.414Z"
   },
   {
    "duration": 2729,
    "start_time": "2025-02-09T22:26:30.419Z"
   },
   {
    "duration": 15,
    "start_time": "2025-02-09T22:26:33.150Z"
   },
   {
    "duration": 4,
    "start_time": "2025-02-09T22:26:33.166Z"
   },
   {
    "duration": 13,
    "start_time": "2025-02-09T22:26:33.172Z"
   },
   {
    "duration": 10,
    "start_time": "2025-02-09T22:26:33.187Z"
   },
   {
    "duration": 27,
    "start_time": "2025-02-09T22:26:33.199Z"
   },
   {
    "duration": 9,
    "start_time": "2025-02-09T22:26:33.228Z"
   },
   {
    "duration": 16,
    "start_time": "2025-02-09T22:26:33.239Z"
   },
   {
    "duration": 5,
    "start_time": "2025-02-09T22:26:33.256Z"
   },
   {
    "duration": 5,
    "start_time": "2025-02-09T22:26:33.264Z"
   },
   {
    "duration": 4,
    "start_time": "2025-02-09T22:26:33.271Z"
   },
   {
    "duration": 6,
    "start_time": "2025-02-09T22:26:33.276Z"
   },
   {
    "duration": 18,
    "start_time": "2025-02-09T22:26:33.324Z"
   },
   {
    "duration": 2636,
    "start_time": "2025-02-09T22:26:33.344Z"
   },
   {
    "duration": 3,
    "start_time": "2025-02-09T22:26:35.982Z"
   },
   {
    "duration": 5,
    "start_time": "2025-02-09T22:26:35.987Z"
   },
   {
    "duration": 9,
    "start_time": "2025-02-09T22:26:35.993Z"
   },
   {
    "duration": 8,
    "start_time": "2025-02-09T22:26:36.003Z"
   },
   {
    "duration": 69,
    "start_time": "2025-02-09T22:26:36.012Z"
   },
   {
    "duration": 5,
    "start_time": "2025-02-09T22:26:36.083Z"
   },
   {
    "duration": 4,
    "start_time": "2025-02-09T22:26:36.089Z"
   },
   {
    "duration": 104,
    "start_time": "2025-02-09T22:26:36.123Z"
   },
   {
    "duration": 3,
    "start_time": "2025-02-09T22:26:36.229Z"
   },
   {
    "duration": 3,
    "start_time": "2025-02-09T22:26:36.234Z"
   },
   {
    "duration": 20,
    "start_time": "2025-02-09T22:26:36.238Z"
   },
   {
    "duration": 6,
    "start_time": "2025-02-09T22:26:36.259Z"
   },
   {
    "duration": 59,
    "start_time": "2025-02-09T22:26:36.266Z"
   },
   {
    "duration": 5,
    "start_time": "2025-02-09T22:26:36.328Z"
   },
   {
    "duration": 7,
    "start_time": "2025-02-09T22:26:36.335Z"
   },
   {
    "duration": 35,
    "start_time": "2025-02-09T22:26:36.343Z"
   },
   {
    "duration": 6,
    "start_time": "2025-02-09T22:26:36.381Z"
   },
   {
    "duration": 4,
    "start_time": "2025-02-09T22:26:36.388Z"
   },
   {
    "duration": 31,
    "start_time": "2025-02-09T22:26:36.394Z"
   },
   {
    "duration": 9,
    "start_time": "2025-02-09T22:26:36.427Z"
   },
   {
    "duration": 6,
    "start_time": "2025-02-09T22:26:36.438Z"
   },
   {
    "duration": 3,
    "start_time": "2025-02-09T22:26:36.446Z"
   },
   {
    "duration": 74,
    "start_time": "2025-02-09T22:26:36.450Z"
   },
   {
    "duration": 4,
    "start_time": "2025-02-09T22:26:36.526Z"
   },
   {
    "duration": 4,
    "start_time": "2025-02-09T22:26:36.531Z"
   },
   {
    "duration": 5,
    "start_time": "2025-02-09T22:26:36.536Z"
   },
   {
    "duration": 4,
    "start_time": "2025-02-09T22:26:36.543Z"
   },
   {
    "duration": 80,
    "start_time": "2025-02-09T22:26:36.548Z"
   },
   {
    "duration": 5,
    "start_time": "2025-02-09T22:26:36.630Z"
   },
   {
    "duration": 8,
    "start_time": "2025-02-09T22:26:36.637Z"
   },
   {
    "duration": 7,
    "start_time": "2025-02-09T22:26:36.646Z"
   },
   {
    "duration": 72,
    "start_time": "2025-02-09T22:26:36.654Z"
   },
   {
    "duration": 248,
    "start_time": "2025-02-09T22:27:33.205Z"
   },
   {
    "duration": 3,
    "start_time": "2025-02-09T22:27:35.844Z"
   },
   {
    "duration": 5,
    "start_time": "2025-02-09T22:27:36.935Z"
   },
   {
    "duration": 6,
    "start_time": "2025-02-09T22:31:11.278Z"
   },
   {
    "duration": 7,
    "start_time": "2025-02-09T22:33:07.194Z"
   },
   {
    "duration": 10,
    "start_time": "2025-02-09T23:31:31.324Z"
   },
   {
    "duration": 6,
    "start_time": "2025-02-10T13:45:07.273Z"
   },
   {
    "duration": 3,
    "start_time": "2025-02-10T13:45:09.172Z"
   },
   {
    "duration": 3,
    "start_time": "2025-02-10T13:45:27.390Z"
   },
   {
    "duration": 2667,
    "start_time": "2025-02-10T13:45:27.395Z"
   },
   {
    "duration": 13,
    "start_time": "2025-02-10T13:45:30.064Z"
   },
   {
    "duration": 3,
    "start_time": "2025-02-10T13:45:30.079Z"
   },
   {
    "duration": 11,
    "start_time": "2025-02-10T13:45:30.083Z"
   },
   {
    "duration": 9,
    "start_time": "2025-02-10T13:45:30.095Z"
   },
   {
    "duration": 3,
    "start_time": "2025-02-10T13:45:30.106Z"
   },
   {
    "duration": 8,
    "start_time": "2025-02-10T13:45:30.110Z"
   },
   {
    "duration": 37,
    "start_time": "2025-02-10T13:45:30.120Z"
   },
   {
    "duration": 6,
    "start_time": "2025-02-10T13:45:30.158Z"
   },
   {
    "duration": 6,
    "start_time": "2025-02-10T13:45:30.165Z"
   },
   {
    "duration": 5,
    "start_time": "2025-02-10T13:45:30.172Z"
   },
   {
    "duration": 6,
    "start_time": "2025-02-10T13:45:30.178Z"
   },
   {
    "duration": 15,
    "start_time": "2025-02-10T13:45:30.186Z"
   },
   {
    "duration": 2651,
    "start_time": "2025-02-10T13:45:30.202Z"
   },
   {
    "duration": 3,
    "start_time": "2025-02-10T13:45:32.854Z"
   },
   {
    "duration": 5,
    "start_time": "2025-02-10T13:45:32.858Z"
   },
   {
    "duration": 8,
    "start_time": "2025-02-10T13:45:32.865Z"
   },
   {
    "duration": 7,
    "start_time": "2025-02-10T13:45:32.875Z"
   },
   {
    "duration": 82,
    "start_time": "2025-02-10T13:45:32.883Z"
   },
   {
    "duration": 6,
    "start_time": "2025-02-10T13:45:32.967Z"
   },
   {
    "duration": 3,
    "start_time": "2025-02-10T13:45:32.975Z"
   },
   {
    "duration": 118,
    "start_time": "2025-02-10T13:45:32.979Z"
   },
   {
    "duration": 3,
    "start_time": "2025-02-10T13:45:33.101Z"
   },
   {
    "duration": 3,
    "start_time": "2025-02-10T13:45:33.106Z"
   },
   {
    "duration": 36,
    "start_time": "2025-02-10T13:45:33.111Z"
   },
   {
    "duration": 6,
    "start_time": "2025-02-10T13:45:33.148Z"
   },
   {
    "duration": 114,
    "start_time": "2025-02-10T13:45:33.155Z"
   },
   {
    "duration": 5,
    "start_time": "2025-02-10T13:45:33.271Z"
   },
   {
    "duration": 6,
    "start_time": "2025-02-10T13:45:33.278Z"
   },
   {
    "duration": 34,
    "start_time": "2025-02-10T13:45:33.285Z"
   },
   {
    "duration": 25,
    "start_time": "2025-02-10T13:45:33.321Z"
   },
   {
    "duration": 4,
    "start_time": "2025-02-10T13:45:33.347Z"
   },
   {
    "duration": 4,
    "start_time": "2025-02-10T13:45:33.353Z"
   },
   {
    "duration": 12,
    "start_time": "2025-02-10T13:45:33.358Z"
   },
   {
    "duration": 71,
    "start_time": "2025-02-10T13:45:33.371Z"
   },
   {
    "duration": 3,
    "start_time": "2025-02-10T13:45:33.443Z"
   },
   {
    "duration": 3,
    "start_time": "2025-02-10T13:45:33.448Z"
   },
   {
    "duration": 5,
    "start_time": "2025-02-10T13:45:33.452Z"
   },
   {
    "duration": 5,
    "start_time": "2025-02-10T13:45:33.458Z"
   },
   {
    "duration": 81,
    "start_time": "2025-02-10T13:45:33.465Z"
   },
   {
    "duration": 5,
    "start_time": "2025-02-10T13:45:33.548Z"
   },
   {
    "duration": 4,
    "start_time": "2025-02-10T13:45:33.555Z"
   },
   {
    "duration": 4,
    "start_time": "2025-02-10T13:45:33.560Z"
   },
   {
    "duration": 78,
    "start_time": "2025-02-10T13:45:33.566Z"
   },
   {
    "duration": 7,
    "start_time": "2025-02-10T13:45:33.646Z"
   },
   {
    "duration": 11,
    "start_time": "2025-02-10T13:45:33.654Z"
   },
   {
    "duration": 3,
    "start_time": "2025-02-10T13:45:33.667Z"
   },
   {
    "duration": 72,
    "start_time": "2025-02-10T13:45:33.671Z"
   },
   {
    "duration": 7,
    "start_time": "2025-02-10T13:45:33.744Z"
   },
   {
    "duration": 10,
    "start_time": "2025-02-10T13:45:33.753Z"
   },
   {
    "duration": 2,
    "start_time": "2025-02-10T13:47:30.601Z"
   },
   {
    "duration": 4,
    "start_time": "2025-02-10T13:47:30.605Z"
   },
   {
    "duration": 8,
    "start_time": "2025-02-10T13:47:30.610Z"
   },
   {
    "duration": 3,
    "start_time": "2025-02-10T13:47:30.620Z"
   },
   {
    "duration": 8,
    "start_time": "2025-02-10T13:47:30.625Z"
   },
   {
    "duration": 7,
    "start_time": "2025-02-10T13:47:30.635Z"
   },
   {
    "duration": 5,
    "start_time": "2025-02-10T13:47:30.644Z"
   },
   {
    "duration": 8,
    "start_time": "2025-02-10T13:47:30.652Z"
   },
   {
    "duration": 16,
    "start_time": "2025-02-10T13:47:30.662Z"
   },
   {
    "duration": 5,
    "start_time": "2025-02-10T13:47:30.679Z"
   },
   {
    "duration": 5,
    "start_time": "2025-02-10T13:47:30.685Z"
   },
   {
    "duration": 4,
    "start_time": "2025-02-10T13:47:30.692Z"
   },
   {
    "duration": 49,
    "start_time": "2025-02-10T13:47:30.697Z"
   },
   {
    "duration": 17,
    "start_time": "2025-02-10T13:47:30.748Z"
   },
   {
    "duration": 2528,
    "start_time": "2025-02-10T13:47:30.766Z"
   },
   {
    "duration": 2,
    "start_time": "2025-02-10T13:47:33.296Z"
   },
   {
    "duration": 4,
    "start_time": "2025-02-10T13:47:33.300Z"
   },
   {
    "duration": 9,
    "start_time": "2025-02-10T13:47:33.308Z"
   },
   {
    "duration": 7,
    "start_time": "2025-02-10T13:47:33.319Z"
   },
   {
    "duration": 57,
    "start_time": "2025-02-10T13:47:33.342Z"
   },
   {
    "duration": 4,
    "start_time": "2025-02-10T13:47:33.401Z"
   },
   {
    "duration": 3,
    "start_time": "2025-02-10T13:47:33.443Z"
   },
   {
    "duration": 112,
    "start_time": "2025-02-10T13:47:33.447Z"
   },
   {
    "duration": 4,
    "start_time": "2025-02-10T13:47:33.561Z"
   },
   {
    "duration": 4,
    "start_time": "2025-02-10T13:47:33.566Z"
   },
   {
    "duration": 20,
    "start_time": "2025-02-10T13:47:33.571Z"
   },
   {
    "duration": 5,
    "start_time": "2025-02-10T13:47:33.592Z"
   },
   {
    "duration": 57,
    "start_time": "2025-02-10T13:47:33.599Z"
   },
   {
    "duration": 6,
    "start_time": "2025-02-10T13:47:33.657Z"
   },
   {
    "duration": 6,
    "start_time": "2025-02-10T13:47:33.664Z"
   },
   {
    "duration": 33,
    "start_time": "2025-02-10T13:47:33.671Z"
   },
   {
    "duration": 5,
    "start_time": "2025-02-10T13:47:33.706Z"
   },
   {
    "duration": 4,
    "start_time": "2025-02-10T13:47:33.712Z"
   },
   {
    "duration": 26,
    "start_time": "2025-02-10T13:47:33.718Z"
   },
   {
    "duration": 10,
    "start_time": "2025-02-10T13:47:33.745Z"
   },
   {
    "duration": 8,
    "start_time": "2025-02-10T13:47:33.757Z"
   },
   {
    "duration": 4,
    "start_time": "2025-02-10T13:47:33.766Z"
   },
   {
    "duration": 3,
    "start_time": "2025-02-10T13:47:33.844Z"
   },
   {
    "duration": 5,
    "start_time": "2025-02-10T13:47:33.849Z"
   },
   {
    "duration": 6,
    "start_time": "2025-02-10T13:47:33.856Z"
   },
   {
    "duration": 79,
    "start_time": "2025-02-10T13:47:33.864Z"
   },
   {
    "duration": 4,
    "start_time": "2025-02-10T13:47:33.945Z"
   },
   {
    "duration": 4,
    "start_time": "2025-02-10T13:47:33.951Z"
   },
   {
    "duration": 4,
    "start_time": "2025-02-10T13:47:33.957Z"
   },
   {
    "duration": 85,
    "start_time": "2025-02-10T13:47:33.963Z"
   },
   {
    "duration": 7,
    "start_time": "2025-02-10T13:47:34.050Z"
   },
   {
    "duration": 8,
    "start_time": "2025-02-10T13:47:34.059Z"
   },
   {
    "duration": 2,
    "start_time": "2025-02-10T13:47:34.071Z"
   },
   {
    "duration": 7,
    "start_time": "2025-02-10T13:47:34.075Z"
   },
   {
    "duration": 59,
    "start_time": "2025-02-10T13:47:34.084Z"
   },
   {
    "duration": 6,
    "start_time": "2025-02-10T13:47:34.145Z"
   }
  ],
  "kernelspec": {
   "display_name": "Python 3 (ipykernel)",
   "language": "python",
   "name": "python3"
  },
  "language_info": {
   "codemirror_mode": {
    "name": "ipython",
    "version": 3
   },
   "file_extension": ".py",
   "mimetype": "text/x-python",
   "name": "python",
   "nbconvert_exporter": "python",
   "pygments_lexer": "ipython3",
   "version": "3.9.19"
  },
  "toc": {
   "base_numbering": 1,
   "nav_menu": {},
   "number_sections": true,
   "sideBar": true,
   "skip_h1_title": true,
   "title_cell": "Table of Contents",
   "title_sidebar": "Contents",
   "toc_cell": true,
   "toc_position": {
    "height": "calc(100% - 180px)",
    "left": "10px",
    "top": "150px",
    "width": "165px"
   },
   "toc_section_display": true,
   "toc_window_display": false
  }
 },
 "nbformat": 4,
 "nbformat_minor": 4
}
