{
 "cells": [
  {
   "cell_type": "markdown",
   "metadata": {},
   "source": [
    "# Hola Javier!\n",
    "\n",
    "Mi nombre es David Bautista, soy code reviewer de TripleTen y voy a revisar el proyecto que acabas de desarrollar.\n",
    "\n",
    "Cuando vea un error la primera vez, lo señalaré. Deberás encontrarlo y arreglarlo. La intención es que te prepares para un espacio real de trabajo. En un trabajo, el líder de tu equipo hará lo mismo. Si no puedes solucionar el error, te daré más información en la próxima ocasión.\n",
    "\n",
    "Encontrarás mis comentarios más abajo - **por favor, no los muevas, no los modifiques ni los borres.**\n",
    "\n",
    "¿Cómo lo voy a hacer? Voy a leer detenidamente cada una de las implementaciones que has llevado a cabo para cumplir con lo solicitado. Verás los comentarios de esta forma:\n",
    "\n",
    "\n",
    "<div class=\"alert alert-block alert-success\">\n",
    "<b>Comentario del revisor</b> <a class=\"tocSkip\"></a>\n",
    "    \n",
    "Si todo está perfecto.\n",
    "</div>\n",
    "\n",
    "\n",
    "<div class=\"alert alert-block alert-warning\">\n",
    "<b>Comentario del revisor</b> <a class=\"tocSkip\"></a>\n",
    "    \n",
    "Si tu código está bien pero se puede mejorar o hay algún detalle que le hace falta.\n",
    "</div>\n",
    "\n",
    "\n",
    "<div class=\"alert alert-block alert-danger\">\n",
    "    \n",
    "<b>Comentario del revisor</b> <a class=\"tocSkip\"></a>\n",
    "    \n",
    "    \n",
    "Si de pronto hace falta algo o existe algún problema con tu código o conclusiones.\n",
    "</div>\n",
    "\n",
    "\n",
    "Puedes responderme de esta forma: \n",
    "\n",
    "<div class=\"alert alert-block alert-info\">\n",
    "<b>Respuesta del estudiante</b> <a class=\"tocSkip\"></a>\n",
    "</div>\n",
    "\n",
    "¡Empecemos!"
   ]
  },
  {
   "cell_type": "markdown",
   "metadata": {},
   "source": [
    "<div class=\"alert alert-block alert-success\">\n",
    "<b>Comentario del revisor</b> <a class=\"tocSkip\"></a>\n",
    "    \n",
    "# Comnetario General\n",
    "    \n",
    "Hola Javier, te felicito por el gran desarrollo y culminación del proyecto. Me encanta la forma en que presentas el contenido, es muy organizada y promueve al lector a  profundizar más y más en lo desarrollado. Muy buen trabajo. "
   ]
  },
  {
   "cell_type": "markdown",
   "metadata": {},
   "source": [
    "<center><h1><u>Estudio del Rubro de Empresas de Taxis (Noviembre 2017)</u></h1></center>"
   ]
  },
  {
   "cell_type": "markdown",
   "metadata": {},
   "source": [
    "## **Información General**"
   ]
  },
  {
   "cell_type": "code",
   "execution_count": 1,
   "metadata": {},
   "outputs": [],
   "source": [
    "# Importando librerias del proyecto\n",
    "\n",
    "import pandas as pd\n",
    "import numpy as np\n",
    "import seaborn as sns\n",
    "import matplotlib.pyplot as plt\n",
    "from scipy import stats as st"
   ]
  },
  {
   "cell_type": "markdown",
   "metadata": {},
   "source": [
    "<div class=\"alert alert-block alert-success\">\n",
    "<b>Comentario del revisor</b> <a class=\"tocSkip\"></a>\n",
    "    \n",
    "Perfecto, buen trabajo importando las librerías necesarias para el desarrollo del proyecto.  </div>"
   ]
  },
  {
   "cell_type": "code",
   "execution_count": 2,
   "metadata": {},
   "outputs": [],
   "source": [
    "# Cargando datos del proyecto a través de libreria pandas\n",
    "\n",
    "trips_amount_15_to_16_nov = pd.read_csv('/datasets/project_sql_result_01.csv')\n",
    "avg_trips_per_neighborhood = pd.read_csv('/datasets/project_sql_result_04.csv')\n",
    "trips_loop_ohare = pd.read_csv('/datasets/project_sql_result_07.csv')"
   ]
  },
  {
   "cell_type": "markdown",
   "metadata": {},
   "source": [
    "<div class=\"alert alert-block alert-success\">\n",
    "<b>Comentario del revisor</b> <a class=\"tocSkip\"></a>\n",
    "    \n",
    "Perfecto, buen trabajo cargando los datasets necesarios para el desarrollo del proyecto.   </div>"
   ]
  },
  {
   "cell_type": "markdown",
   "metadata": {},
   "source": [
    "### **Datasets**"
   ]
  },
  {
   "cell_type": "markdown",
   "metadata": {},
   "source": [
    "#### **Vista previa e información general**"
   ]
  },
  {
   "cell_type": "code",
   "execution_count": 3,
   "metadata": {},
   "outputs": [
    {
     "data": {
      "text/html": [
       "<div>\n",
       "<style scoped>\n",
       "    .dataframe tbody tr th:only-of-type {\n",
       "        vertical-align: middle;\n",
       "    }\n",
       "\n",
       "    .dataframe tbody tr th {\n",
       "        vertical-align: top;\n",
       "    }\n",
       "\n",
       "    .dataframe thead th {\n",
       "        text-align: right;\n",
       "    }\n",
       "</style>\n",
       "<table border=\"1\" class=\"dataframe\">\n",
       "  <thead>\n",
       "    <tr style=\"text-align: right;\">\n",
       "      <th></th>\n",
       "      <th>company_name</th>\n",
       "      <th>trips_amount</th>\n",
       "    </tr>\n",
       "  </thead>\n",
       "  <tbody>\n",
       "    <tr>\n",
       "      <th>58</th>\n",
       "      <td>5062 - 34841 Sam Mestas</td>\n",
       "      <td>8</td>\n",
       "    </tr>\n",
       "    <tr>\n",
       "      <th>19</th>\n",
       "      <td>Chicago Medallion Leasing INC</td>\n",
       "      <td>1607</td>\n",
       "    </tr>\n",
       "    <tr>\n",
       "      <th>35</th>\n",
       "      <td>6742 - 83735 Tasha Ride Inc</td>\n",
       "      <td>39</td>\n",
       "    </tr>\n",
       "    <tr>\n",
       "      <th>31</th>\n",
       "      <td>American United Taxi Affiliation</td>\n",
       "      <td>210</td>\n",
       "    </tr>\n",
       "    <tr>\n",
       "      <th>26</th>\n",
       "      <td>Gold Coast Taxi</td>\n",
       "      <td>428</td>\n",
       "    </tr>\n",
       "    <tr>\n",
       "      <th>54</th>\n",
       "      <td>2192 - 73487 Zeymane Corp</td>\n",
       "      <td>14</td>\n",
       "    </tr>\n",
       "    <tr>\n",
       "      <th>53</th>\n",
       "      <td>5006 - 39261 Salifu Bawa</td>\n",
       "      <td>14</td>\n",
       "    </tr>\n",
       "    <tr>\n",
       "      <th>18</th>\n",
       "      <td>24 Seven Taxi</td>\n",
       "      <td>1775</td>\n",
       "    </tr>\n",
       "    <tr>\n",
       "      <th>24</th>\n",
       "      <td>Chicago Taxicab</td>\n",
       "      <td>1014</td>\n",
       "    </tr>\n",
       "    <tr>\n",
       "      <th>23</th>\n",
       "      <td>KOAM Taxi Association</td>\n",
       "      <td>1259</td>\n",
       "    </tr>\n",
       "  </tbody>\n",
       "</table>\n",
       "</div>"
      ],
      "text/plain": [
       "                        company_name  trips_amount\n",
       "58           5062 - 34841 Sam Mestas             8\n",
       "19     Chicago Medallion Leasing INC          1607\n",
       "35       6742 - 83735 Tasha Ride Inc            39\n",
       "31  American United Taxi Affiliation           210\n",
       "26                   Gold Coast Taxi           428\n",
       "54         2192 - 73487 Zeymane Corp            14\n",
       "53          5006 - 39261 Salifu Bawa            14\n",
       "18                     24 Seven Taxi          1775\n",
       "24                   Chicago Taxicab          1014\n",
       "23             KOAM Taxi Association          1259"
      ]
     },
     "execution_count": 3,
     "metadata": {},
     "output_type": "execute_result"
    }
   ],
   "source": [
    "# Recuento de viajes por empresa de taxi desde el 15 al 16 de Noviembre del 2017\n",
    "\n",
    "trips_amount_15_to_16_nov.sample(10)"
   ]
  },
  {
   "cell_type": "code",
   "execution_count": 4,
   "metadata": {},
   "outputs": [
    {
     "name": "stdout",
     "output_type": "stream",
     "text": [
      "<class 'pandas.core.frame.DataFrame'>\n",
      "RangeIndex: 64 entries, 0 to 63\n",
      "Data columns (total 2 columns):\n",
      " #   Column        Non-Null Count  Dtype \n",
      "---  ------        --------------  ----- \n",
      " 0   company_name  64 non-null     object\n",
      " 1   trips_amount  64 non-null     int64 \n",
      "dtypes: int64(1), object(1)\n",
      "memory usage: 1.1+ KB\n"
     ]
    }
   ],
   "source": [
    "# Resumen del dataset\n",
    "\n",
    "trips_amount_15_to_16_nov.info()"
   ]
  },
  {
   "cell_type": "code",
   "execution_count": 5,
   "metadata": {},
   "outputs": [
    {
     "data": {
      "text/html": [
       "<div>\n",
       "<style scoped>\n",
       "    .dataframe tbody tr th:only-of-type {\n",
       "        vertical-align: middle;\n",
       "    }\n",
       "\n",
       "    .dataframe tbody tr th {\n",
       "        vertical-align: top;\n",
       "    }\n",
       "\n",
       "    .dataframe thead th {\n",
       "        text-align: right;\n",
       "    }\n",
       "</style>\n",
       "<table border=\"1\" class=\"dataframe\">\n",
       "  <thead>\n",
       "    <tr style=\"text-align: right;\">\n",
       "      <th></th>\n",
       "      <th>dropoff_location_name</th>\n",
       "      <th>average_trips</th>\n",
       "    </tr>\n",
       "  </thead>\n",
       "  <tbody>\n",
       "    <tr>\n",
       "      <th>92</th>\n",
       "      <td>East Side</td>\n",
       "      <td>1.961538</td>\n",
       "    </tr>\n",
       "    <tr>\n",
       "      <th>40</th>\n",
       "      <td>Bucktown</td>\n",
       "      <td>74.300000</td>\n",
       "    </tr>\n",
       "    <tr>\n",
       "      <th>39</th>\n",
       "      <td>Jefferson Park</td>\n",
       "      <td>74.333333</td>\n",
       "    </tr>\n",
       "    <tr>\n",
       "      <th>24</th>\n",
       "      <td>West Ridge</td>\n",
       "      <td>298.333333</td>\n",
       "    </tr>\n",
       "    <tr>\n",
       "      <th>8</th>\n",
       "      <td>Gold Coast</td>\n",
       "      <td>1364.233333</td>\n",
       "    </tr>\n",
       "    <tr>\n",
       "      <th>5</th>\n",
       "      <td>Lake View</td>\n",
       "      <td>2420.966667</td>\n",
       "    </tr>\n",
       "    <tr>\n",
       "      <th>23</th>\n",
       "      <td>Rogers Park</td>\n",
       "      <td>299.033333</td>\n",
       "    </tr>\n",
       "    <tr>\n",
       "      <th>3</th>\n",
       "      <td>West Loop</td>\n",
       "      <td>5163.666667</td>\n",
       "    </tr>\n",
       "    <tr>\n",
       "      <th>68</th>\n",
       "      <td>Clearing</td>\n",
       "      <td>14.500000</td>\n",
       "    </tr>\n",
       "    <tr>\n",
       "      <th>25</th>\n",
       "      <td>Irving Park</td>\n",
       "      <td>296.566667</td>\n",
       "    </tr>\n",
       "  </tbody>\n",
       "</table>\n",
       "</div>"
      ],
      "text/plain": [
       "   dropoff_location_name  average_trips\n",
       "92             East Side       1.961538\n",
       "40              Bucktown      74.300000\n",
       "39        Jefferson Park      74.333333\n",
       "24            West Ridge     298.333333\n",
       "8             Gold Coast    1364.233333\n",
       "5              Lake View    2420.966667\n",
       "23           Rogers Park     299.033333\n",
       "3              West Loop    5163.666667\n",
       "68              Clearing      14.500000\n",
       "25           Irving Park     296.566667"
      ]
     },
     "execution_count": 5,
     "metadata": {},
     "output_type": "execute_result"
    }
   ],
   "source": [
    "# Promedio de viajes según el barrio donde finaliza el recorrido\n",
    "\n",
    "avg_trips_per_neighborhood.sample(10)"
   ]
  },
  {
   "cell_type": "code",
   "execution_count": 6,
   "metadata": {},
   "outputs": [
    {
     "name": "stdout",
     "output_type": "stream",
     "text": [
      "<class 'pandas.core.frame.DataFrame'>\n",
      "RangeIndex: 94 entries, 0 to 93\n",
      "Data columns (total 2 columns):\n",
      " #   Column                 Non-Null Count  Dtype  \n",
      "---  ------                 --------------  -----  \n",
      " 0   dropoff_location_name  94 non-null     object \n",
      " 1   average_trips          94 non-null     float64\n",
      "dtypes: float64(1), object(1)\n",
      "memory usage: 1.6+ KB\n"
     ]
    }
   ],
   "source": [
    "# Resumen del dataset\n",
    "\n",
    "avg_trips_per_neighborhood.info()"
   ]
  },
  {
   "cell_type": "code",
   "execution_count": 7,
   "metadata": {},
   "outputs": [
    {
     "data": {
      "text/html": [
       "<div>\n",
       "<style scoped>\n",
       "    .dataframe tbody tr th:only-of-type {\n",
       "        vertical-align: middle;\n",
       "    }\n",
       "\n",
       "    .dataframe tbody tr th {\n",
       "        vertical-align: top;\n",
       "    }\n",
       "\n",
       "    .dataframe thead th {\n",
       "        text-align: right;\n",
       "    }\n",
       "</style>\n",
       "<table border=\"1\" class=\"dataframe\">\n",
       "  <thead>\n",
       "    <tr style=\"text-align: right;\">\n",
       "      <th></th>\n",
       "      <th>start_ts</th>\n",
       "      <th>weather_conditions</th>\n",
       "      <th>duration_seconds</th>\n",
       "    </tr>\n",
       "  </thead>\n",
       "  <tbody>\n",
       "    <tr>\n",
       "      <th>699</th>\n",
       "      <td>2017-11-18 12:00:00</td>\n",
       "      <td>Bad</td>\n",
       "      <td>2640.0</td>\n",
       "    </tr>\n",
       "    <tr>\n",
       "      <th>194</th>\n",
       "      <td>2017-11-04 06:00:00</td>\n",
       "      <td>Good</td>\n",
       "      <td>1020.0</td>\n",
       "    </tr>\n",
       "    <tr>\n",
       "      <th>252</th>\n",
       "      <td>2017-11-18 12:00:00</td>\n",
       "      <td>Bad</td>\n",
       "      <td>3026.0</td>\n",
       "    </tr>\n",
       "    <tr>\n",
       "      <th>705</th>\n",
       "      <td>2017-11-04 10:00:00</td>\n",
       "      <td>Good</td>\n",
       "      <td>1680.0</td>\n",
       "    </tr>\n",
       "    <tr>\n",
       "      <th>192</th>\n",
       "      <td>2017-11-18 08:00:00</td>\n",
       "      <td>Bad</td>\n",
       "      <td>1500.0</td>\n",
       "    </tr>\n",
       "    <tr>\n",
       "      <th>453</th>\n",
       "      <td>2017-11-25 12:00:00</td>\n",
       "      <td>Good</td>\n",
       "      <td>1620.0</td>\n",
       "    </tr>\n",
       "    <tr>\n",
       "      <th>1054</th>\n",
       "      <td>2017-11-11 07:00:00</td>\n",
       "      <td>Good</td>\n",
       "      <td>1380.0</td>\n",
       "    </tr>\n",
       "    <tr>\n",
       "      <th>213</th>\n",
       "      <td>2017-11-04 18:00:00</td>\n",
       "      <td>Bad</td>\n",
       "      <td>2580.0</td>\n",
       "    </tr>\n",
       "    <tr>\n",
       "      <th>387</th>\n",
       "      <td>2017-11-11 06:00:00</td>\n",
       "      <td>Good</td>\n",
       "      <td>1380.0</td>\n",
       "    </tr>\n",
       "    <tr>\n",
       "      <th>533</th>\n",
       "      <td>2017-11-18 16:00:00</td>\n",
       "      <td>Bad</td>\n",
       "      <td>3240.0</td>\n",
       "    </tr>\n",
       "  </tbody>\n",
       "</table>\n",
       "</div>"
      ],
      "text/plain": [
       "                 start_ts weather_conditions  duration_seconds\n",
       "699   2017-11-18 12:00:00                Bad            2640.0\n",
       "194   2017-11-04 06:00:00               Good            1020.0\n",
       "252   2017-11-18 12:00:00                Bad            3026.0\n",
       "705   2017-11-04 10:00:00               Good            1680.0\n",
       "192   2017-11-18 08:00:00                Bad            1500.0\n",
       "453   2017-11-25 12:00:00               Good            1620.0\n",
       "1054  2017-11-11 07:00:00               Good            1380.0\n",
       "213   2017-11-04 18:00:00                Bad            2580.0\n",
       "387   2017-11-11 06:00:00               Good            1380.0\n",
       "533   2017-11-18 16:00:00                Bad            3240.0"
      ]
     },
     "execution_count": 7,
     "metadata": {},
     "output_type": "execute_result"
    }
   ],
   "source": [
    "# Duración de los viajes desde Loop a O'Hare los sábados según las condiciones climaticas del momento\n",
    "\n",
    "trips_loop_ohare.sample(10)"
   ]
  },
  {
   "cell_type": "code",
   "execution_count": 8,
   "metadata": {
    "scrolled": true
   },
   "outputs": [
    {
     "name": "stdout",
     "output_type": "stream",
     "text": [
      "<class 'pandas.core.frame.DataFrame'>\n",
      "RangeIndex: 1068 entries, 0 to 1067\n",
      "Data columns (total 3 columns):\n",
      " #   Column              Non-Null Count  Dtype  \n",
      "---  ------              --------------  -----  \n",
      " 0   start_ts            1068 non-null   object \n",
      " 1   weather_conditions  1068 non-null   object \n",
      " 2   duration_seconds    1068 non-null   float64\n",
      "dtypes: float64(1), object(2)\n",
      "memory usage: 25.2+ KB\n"
     ]
    }
   ],
   "source": [
    "# Resumen del dataset\n",
    "\n",
    "trips_loop_ohare.info()"
   ]
  },
  {
   "cell_type": "markdown",
   "metadata": {},
   "source": [
    "<div class=\"alert alert-block alert-success\">\n",
    "<b>Comentario del revisor</b> <a class=\"tocSkip\"></a>\n",
    "    \n",
    "Excelente, buen trabajo realizando esta exploración inicial del contenido de los dataframes.   </div>"
   ]
  },
  {
   "cell_type": "markdown",
   "metadata": {},
   "source": [
    "#### **Descripción de los datos**"
   ]
  },
  {
   "cell_type": "code",
   "execution_count": 9,
   "metadata": {},
   "outputs": [
    {
     "data": {
      "text/html": [
       "<div>\n",
       "<style scoped>\n",
       "    .dataframe tbody tr th:only-of-type {\n",
       "        vertical-align: middle;\n",
       "    }\n",
       "\n",
       "    .dataframe tbody tr th {\n",
       "        vertical-align: top;\n",
       "    }\n",
       "\n",
       "    .dataframe thead th {\n",
       "        text-align: right;\n",
       "    }\n",
       "</style>\n",
       "<table border=\"1\" class=\"dataframe\">\n",
       "  <thead>\n",
       "    <tr style=\"text-align: right;\">\n",
       "      <th></th>\n",
       "      <th>company_name</th>\n",
       "      <th>trips_amount</th>\n",
       "    </tr>\n",
       "  </thead>\n",
       "  <tbody>\n",
       "    <tr>\n",
       "      <th>count</th>\n",
       "      <td>64</td>\n",
       "      <td>64.000000</td>\n",
       "    </tr>\n",
       "    <tr>\n",
       "      <th>unique</th>\n",
       "      <td>64</td>\n",
       "      <td>NaN</td>\n",
       "    </tr>\n",
       "    <tr>\n",
       "      <th>top</th>\n",
       "      <td>Patriot Taxi Dba Peace Taxi Association</td>\n",
       "      <td>NaN</td>\n",
       "    </tr>\n",
       "    <tr>\n",
       "      <th>freq</th>\n",
       "      <td>1</td>\n",
       "      <td>NaN</td>\n",
       "    </tr>\n",
       "    <tr>\n",
       "      <th>mean</th>\n",
       "      <td>NaN</td>\n",
       "      <td>2145.484375</td>\n",
       "    </tr>\n",
       "    <tr>\n",
       "      <th>std</th>\n",
       "      <td>NaN</td>\n",
       "      <td>3812.310186</td>\n",
       "    </tr>\n",
       "    <tr>\n",
       "      <th>min</th>\n",
       "      <td>NaN</td>\n",
       "      <td>2.000000</td>\n",
       "    </tr>\n",
       "    <tr>\n",
       "      <th>25%</th>\n",
       "      <td>NaN</td>\n",
       "      <td>20.750000</td>\n",
       "    </tr>\n",
       "    <tr>\n",
       "      <th>50%</th>\n",
       "      <td>NaN</td>\n",
       "      <td>178.500000</td>\n",
       "    </tr>\n",
       "    <tr>\n",
       "      <th>75%</th>\n",
       "      <td>NaN</td>\n",
       "      <td>2106.500000</td>\n",
       "    </tr>\n",
       "    <tr>\n",
       "      <th>max</th>\n",
       "      <td>NaN</td>\n",
       "      <td>19558.000000</td>\n",
       "    </tr>\n",
       "  </tbody>\n",
       "</table>\n",
       "</div>"
      ],
      "text/plain": [
       "                                   company_name  trips_amount\n",
       "count                                        64     64.000000\n",
       "unique                                       64           NaN\n",
       "top     Patriot Taxi Dba Peace Taxi Association           NaN\n",
       "freq                                          1           NaN\n",
       "mean                                        NaN   2145.484375\n",
       "std                                         NaN   3812.310186\n",
       "min                                         NaN      2.000000\n",
       "25%                                         NaN     20.750000\n",
       "50%                                         NaN    178.500000\n",
       "75%                                         NaN   2106.500000\n",
       "max                                         NaN  19558.000000"
      ]
     },
     "execution_count": 9,
     "metadata": {},
     "output_type": "execute_result"
    }
   ],
   "source": [
    "# Aplicando método describe() al dataset, incluyendo todas sus variables\n",
    "\n",
    "trips_amount_15_to_16_nov.describe(include='all')"
   ]
  },
  {
   "cell_type": "code",
   "execution_count": 10,
   "metadata": {},
   "outputs": [
    {
     "data": {
      "text/html": [
       "<div>\n",
       "<style scoped>\n",
       "    .dataframe tbody tr th:only-of-type {\n",
       "        vertical-align: middle;\n",
       "    }\n",
       "\n",
       "    .dataframe tbody tr th {\n",
       "        vertical-align: top;\n",
       "    }\n",
       "\n",
       "    .dataframe thead th {\n",
       "        text-align: right;\n",
       "    }\n",
       "</style>\n",
       "<table border=\"1\" class=\"dataframe\">\n",
       "  <thead>\n",
       "    <tr style=\"text-align: right;\">\n",
       "      <th></th>\n",
       "      <th>dropoff_location_name</th>\n",
       "      <th>average_trips</th>\n",
       "    </tr>\n",
       "  </thead>\n",
       "  <tbody>\n",
       "    <tr>\n",
       "      <th>count</th>\n",
       "      <td>94</td>\n",
       "      <td>94.000000</td>\n",
       "    </tr>\n",
       "    <tr>\n",
       "      <th>unique</th>\n",
       "      <td>94</td>\n",
       "      <td>NaN</td>\n",
       "    </tr>\n",
       "    <tr>\n",
       "      <th>top</th>\n",
       "      <td>Gold Coast</td>\n",
       "      <td>NaN</td>\n",
       "    </tr>\n",
       "    <tr>\n",
       "      <th>freq</th>\n",
       "      <td>1</td>\n",
       "      <td>NaN</td>\n",
       "    </tr>\n",
       "    <tr>\n",
       "      <th>mean</th>\n",
       "      <td>NaN</td>\n",
       "      <td>599.953728</td>\n",
       "    </tr>\n",
       "    <tr>\n",
       "      <th>std</th>\n",
       "      <td>NaN</td>\n",
       "      <td>1714.591098</td>\n",
       "    </tr>\n",
       "    <tr>\n",
       "      <th>min</th>\n",
       "      <td>NaN</td>\n",
       "      <td>1.800000</td>\n",
       "    </tr>\n",
       "    <tr>\n",
       "      <th>25%</th>\n",
       "      <td>NaN</td>\n",
       "      <td>14.266667</td>\n",
       "    </tr>\n",
       "    <tr>\n",
       "      <th>50%</th>\n",
       "      <td>NaN</td>\n",
       "      <td>52.016667</td>\n",
       "    </tr>\n",
       "    <tr>\n",
       "      <th>75%</th>\n",
       "      <td>NaN</td>\n",
       "      <td>298.858333</td>\n",
       "    </tr>\n",
       "    <tr>\n",
       "      <th>max</th>\n",
       "      <td>NaN</td>\n",
       "      <td>10727.466667</td>\n",
       "    </tr>\n",
       "  </tbody>\n",
       "</table>\n",
       "</div>"
      ],
      "text/plain": [
       "       dropoff_location_name  average_trips\n",
       "count                     94      94.000000\n",
       "unique                    94            NaN\n",
       "top               Gold Coast            NaN\n",
       "freq                       1            NaN\n",
       "mean                     NaN     599.953728\n",
       "std                      NaN    1714.591098\n",
       "min                      NaN       1.800000\n",
       "25%                      NaN      14.266667\n",
       "50%                      NaN      52.016667\n",
       "75%                      NaN     298.858333\n",
       "max                      NaN   10727.466667"
      ]
     },
     "execution_count": 10,
     "metadata": {},
     "output_type": "execute_result"
    }
   ],
   "source": [
    "# Aplicando método describe() al dataset, incluyendo todas sus variables\n",
    "\n",
    "avg_trips_per_neighborhood.describe(include='all')"
   ]
  },
  {
   "cell_type": "code",
   "execution_count": 11,
   "metadata": {},
   "outputs": [
    {
     "data": {
      "text/html": [
       "<div>\n",
       "<style scoped>\n",
       "    .dataframe tbody tr th:only-of-type {\n",
       "        vertical-align: middle;\n",
       "    }\n",
       "\n",
       "    .dataframe tbody tr th {\n",
       "        vertical-align: top;\n",
       "    }\n",
       "\n",
       "    .dataframe thead th {\n",
       "        text-align: right;\n",
       "    }\n",
       "</style>\n",
       "<table border=\"1\" class=\"dataframe\">\n",
       "  <thead>\n",
       "    <tr style=\"text-align: right;\">\n",
       "      <th></th>\n",
       "      <th>start_ts</th>\n",
       "      <th>weather_conditions</th>\n",
       "      <th>duration_seconds</th>\n",
       "    </tr>\n",
       "  </thead>\n",
       "  <tbody>\n",
       "    <tr>\n",
       "      <th>count</th>\n",
       "      <td>1068</td>\n",
       "      <td>1068</td>\n",
       "      <td>1068.000000</td>\n",
       "    </tr>\n",
       "    <tr>\n",
       "      <th>unique</th>\n",
       "      <td>81</td>\n",
       "      <td>2</td>\n",
       "      <td>NaN</td>\n",
       "    </tr>\n",
       "    <tr>\n",
       "      <th>top</th>\n",
       "      <td>2017-11-11 10:00:00</td>\n",
       "      <td>Good</td>\n",
       "      <td>NaN</td>\n",
       "    </tr>\n",
       "    <tr>\n",
       "      <th>freq</th>\n",
       "      <td>48</td>\n",
       "      <td>888</td>\n",
       "      <td>NaN</td>\n",
       "    </tr>\n",
       "    <tr>\n",
       "      <th>mean</th>\n",
       "      <td>NaN</td>\n",
       "      <td>NaN</td>\n",
       "      <td>2071.731273</td>\n",
       "    </tr>\n",
       "    <tr>\n",
       "      <th>std</th>\n",
       "      <td>NaN</td>\n",
       "      <td>NaN</td>\n",
       "      <td>769.461125</td>\n",
       "    </tr>\n",
       "    <tr>\n",
       "      <th>min</th>\n",
       "      <td>NaN</td>\n",
       "      <td>NaN</td>\n",
       "      <td>0.000000</td>\n",
       "    </tr>\n",
       "    <tr>\n",
       "      <th>25%</th>\n",
       "      <td>NaN</td>\n",
       "      <td>NaN</td>\n",
       "      <td>1438.250000</td>\n",
       "    </tr>\n",
       "    <tr>\n",
       "      <th>50%</th>\n",
       "      <td>NaN</td>\n",
       "      <td>NaN</td>\n",
       "      <td>1980.000000</td>\n",
       "    </tr>\n",
       "    <tr>\n",
       "      <th>75%</th>\n",
       "      <td>NaN</td>\n",
       "      <td>NaN</td>\n",
       "      <td>2580.000000</td>\n",
       "    </tr>\n",
       "    <tr>\n",
       "      <th>max</th>\n",
       "      <td>NaN</td>\n",
       "      <td>NaN</td>\n",
       "      <td>7440.000000</td>\n",
       "    </tr>\n",
       "  </tbody>\n",
       "</table>\n",
       "</div>"
      ],
      "text/plain": [
       "                   start_ts weather_conditions  duration_seconds\n",
       "count                  1068               1068       1068.000000\n",
       "unique                   81                  2               NaN\n",
       "top     2017-11-11 10:00:00               Good               NaN\n",
       "freq                     48                888               NaN\n",
       "mean                    NaN                NaN       2071.731273\n",
       "std                     NaN                NaN        769.461125\n",
       "min                     NaN                NaN          0.000000\n",
       "25%                     NaN                NaN       1438.250000\n",
       "50%                     NaN                NaN       1980.000000\n",
       "75%                     NaN                NaN       2580.000000\n",
       "max                     NaN                NaN       7440.000000"
      ]
     },
     "execution_count": 11,
     "metadata": {},
     "output_type": "execute_result"
    }
   ],
   "source": [
    "# Aplicando método describe() al dataset, incluyendo todas sus variables\n",
    "\n",
    "trips_loop_ohare.describe(include='all')"
   ]
  },
  {
   "cell_type": "markdown",
   "metadata": {},
   "source": [
    "**Descripción**\n",
    "\n",
    "Los DF tienen datos consolidados sobre los viajes en taxi hacia diversos lugares; para realizar el estudio la información fue obtenida desde la base de datos de la empresa mediante un SGBD con SQL, los datasets según su resumen no tienen valores nulos, y dos de ellos ('trips_amount_15_to_16_nov' y 'avg_trips_per_neighborhood') tienen una distribución asimetrica hacia la derecha, ya que su media es mucho mayor que su mediana, el tercero tambien tiene un sesgo hacia la derecha leve en comparación a los anteriores. Finalmente este último tiene un tipo de dato erroneo el cual el en seguiente punto será modificado."
   ]
  },
  {
   "cell_type": "markdown",
   "metadata": {},
   "source": [
    "<div class=\"alert alert-block alert-success\">\n",
    "<b>Comentario del revisor</b> <a class=\"tocSkip\"></a>\n",
    "    \n",
    "Perfecto, buen trabajo realizando esta exploración estadística del contenido de los dataframes.   </div>"
   ]
  },
  {
   "cell_type": "markdown",
   "metadata": {},
   "source": [
    "## **Revisando datasets**"
   ]
  },
  {
   "cell_type": "markdown",
   "metadata": {},
   "source": [
    "### Valores duplicados"
   ]
  },
  {
   "cell_type": "code",
   "execution_count": 12,
   "metadata": {},
   "outputs": [
    {
     "data": {
      "text/plain": [
       "0"
      ]
     },
     "execution_count": 12,
     "metadata": {},
     "output_type": "execute_result"
    }
   ],
   "source": [
    "# Verificando existencia de filas duplicadas\n",
    "\n",
    "trips_amount_15_to_16_nov.duplicated().sum()"
   ]
  },
  {
   "cell_type": "code",
   "execution_count": 13,
   "metadata": {},
   "outputs": [
    {
     "data": {
      "text/plain": [
       "0"
      ]
     },
     "execution_count": 13,
     "metadata": {},
     "output_type": "execute_result"
    }
   ],
   "source": [
    "# Verificando existencia de filas duplicadas\n",
    "\n",
    "avg_trips_per_neighborhood.duplicated().sum()"
   ]
  },
  {
   "cell_type": "code",
   "execution_count": 14,
   "metadata": {},
   "outputs": [
    {
     "data": {
      "text/plain": [
       "197"
      ]
     },
     "execution_count": 14,
     "metadata": {},
     "output_type": "execute_result"
    }
   ],
   "source": [
    "# Verificando existencia de filas duplicadas\n",
    "\n",
    "trips_loop_ohare.duplicated().sum()"
   ]
  },
  {
   "cell_type": "markdown",
   "metadata": {},
   "source": [
    "**Valores duplicados**\n",
    "\n",
    "Los conjuntos que representan la cantidad viajes mensuales de las empresas de taxis y el promedio de viajes finalizados por barrio no tienen valores duplicados.\n",
    "\n",
    "Por otra parte, al analizar el conjunto que contiene los viajes desde Loop a O'hare, el cual es un recorrido acotado, se concluye que es normal que existan viajes con la misma duración, ya que es aproximadamente la misma cantidad de kilometros recorridos, por ello, no se ejecutará ningún procesamiento en este dataset. "
   ]
  },
  {
   "cell_type": "markdown",
   "metadata": {},
   "source": [
    "<div class=\"alert alert-block alert-success\">\n",
    "<b>Comentario del revisor</b> <a class=\"tocSkip\"></a>\n",
    "    \n",
    "Perfecto, buen trabajo explorando el problema de los valores duplicados explícitos dentro del dataframe.  </div>"
   ]
  },
  {
   "cell_type": "markdown",
   "metadata": {},
   "source": [
    "### Valores ausentes"
   ]
  },
  {
   "cell_type": "code",
   "execution_count": 15,
   "metadata": {},
   "outputs": [
    {
     "data": {
      "text/plain": [
       "company_name  trips_amount\n",
       "False         False           64\n",
       "dtype: int64"
      ]
     },
     "execution_count": 15,
     "metadata": {},
     "output_type": "execute_result"
    }
   ],
   "source": [
    "# Comprobando valores ausentes\n",
    "\n",
    "trips_amount_15_to_16_nov.isnull().value_counts()"
   ]
  },
  {
   "cell_type": "code",
   "execution_count": 16,
   "metadata": {},
   "outputs": [
    {
     "data": {
      "text/plain": [
       "dropoff_location_name  average_trips\n",
       "False                  False            94\n",
       "dtype: int64"
      ]
     },
     "execution_count": 16,
     "metadata": {},
     "output_type": "execute_result"
    }
   ],
   "source": [
    "\n",
    "\n",
    "avg_trips_per_neighborhood.isnull().value_counts()"
   ]
  },
  {
   "cell_type": "code",
   "execution_count": 17,
   "metadata": {},
   "outputs": [
    {
     "data": {
      "text/plain": [
       "start_ts  weather_conditions  duration_seconds\n",
       "False     False               False               1068\n",
       "dtype: int64"
      ]
     },
     "execution_count": 17,
     "metadata": {},
     "output_type": "execute_result"
    }
   ],
   "source": [
    "trips_loop_ohare.isnull().value_counts()"
   ]
  },
  {
   "cell_type": "markdown",
   "metadata": {},
   "source": [
    "**Valores ausentes**\n",
    "\n",
    "No hay registros faltantes en los sets de datos"
   ]
  },
  {
   "cell_type": "markdown",
   "metadata": {},
   "source": [
    "<div class=\"alert alert-block alert-success\">\n",
    "<b>Comentario del revisor</b> <a class=\"tocSkip\"></a>\n",
    "    \n",
    "Perfecto, buen trabajo explorando el problema de los valores nulos dentro del dataframe.  </div>"
   ]
  },
  {
   "cell_type": "markdown",
   "metadata": {},
   "source": [
    "### Cambio en tipo de dato"
   ]
  },
  {
   "cell_type": "code",
   "execution_count": 18,
   "metadata": {},
   "outputs": [],
   "source": [
    "# Cambiando tipo de dato de columna start_ts a tipo datetime\n",
    "\n",
    "trips_loop_ohare['start_ts'] = pd.to_datetime(trips_loop_ohare['start_ts'])"
   ]
  },
  {
   "cell_type": "markdown",
   "metadata": {},
   "source": [
    "**Cambio Tipo de Dato**\n",
    "\n",
    "Solo una columna tenia tipo de datos erroneo, para la cual la variable representa fechas y horas, y estaba ingresada como object(string), por lo que se realizó la modificación a formato datetime64[ns]."
   ]
  },
  {
   "cell_type": "markdown",
   "metadata": {},
   "source": [
    "<div class=\"alert alert-block alert-success\">\n",
    "<b>Comentario del revisor</b> <a class=\"tocSkip\"></a>\n",
    "    \n",
    "Buen trabajo realizando la modificación del tipo de dato. </div>"
   ]
  },
  {
   "cell_type": "markdown",
   "metadata": {},
   "source": [
    "### Ingeniería de Características (Feature Engineering)"
   ]
  },
  {
   "cell_type": "code",
   "execution_count": 19,
   "metadata": {},
   "outputs": [],
   "source": [
    "# Función que genera categorias de la columna 'trips_amount'\n",
    "\n",
    "def company_type(trips):\n",
    "    if trips < 100:\n",
    "        return 'Independent worker'\n",
    "    elif trips < 1000:\n",
    "        return 'Micro company'\n",
    "    elif trips < 2500:\n",
    "        return 'Small company'\n",
    "    elif trips < 7500:\n",
    "        return 'Medium company'\n",
    "    else:\n",
    "        return 'Big company'"
   ]
  },
  {
   "cell_type": "code",
   "execution_count": 20,
   "metadata": {},
   "outputs": [],
   "source": [
    "# Agregando columna 'company_type', usando fx company_type con metodo apply\n",
    "\n",
    "trips_amount_15_to_16_nov['company_type'] = trips_amount_15_to_16_nov['trips_amount'].apply(company_type)"
   ]
  },
  {
   "cell_type": "code",
   "execution_count": 21,
   "metadata": {},
   "outputs": [],
   "source": [
    "# Función que genera categorias de la columna 'average_trips'\n",
    "\n",
    "def neighborhood_category(visits):\n",
    "    if visits < 50:\n",
    "        return 'Camp'\n",
    "    elif visits < 100:\n",
    "        return 'Town'\n",
    "    elif visits < 500:\n",
    "        return 'Neighborhood'\n",
    "    elif visits < 1000:\n",
    "        return 'City'\n",
    "    else:\n",
    "        return 'Region'"
   ]
  },
  {
   "cell_type": "code",
   "execution_count": 22,
   "metadata": {},
   "outputs": [],
   "source": [
    "# Agregando columna 'neighborhood_category', usando fx neighborhood_category con metodo apply\n",
    "\n",
    "avg_trips_per_neighborhood['neighborhood_category'] = avg_trips_per_neighborhood['average_trips'].apply(neighborhood_category)"
   ]
  },
  {
   "cell_type": "code",
   "execution_count": 23,
   "metadata": {},
   "outputs": [],
   "source": [
    "# Generando columnas de día, mes, año y hora\n",
    "\n",
    "trips_loop_ohare['day'] = trips_loop_ohare['start_ts'].dt.day\n",
    "trips_loop_ohare['month'] = trips_loop_ohare['start_ts'].dt.month\n",
    "trips_loop_ohare['year'] = trips_loop_ohare['start_ts'].dt.year\n",
    "trips_loop_ohare['hour'] = trips_loop_ohare['start_ts'].dt.hour"
   ]
  },
  {
   "cell_type": "markdown",
   "metadata": {},
   "source": [
    "**Ingeniería de Características**\n",
    "\n",
    "Para los dos primeros conjuntos de datos se agregó una columna de categorización, en el primero de ellos, se categorizó por tipo de empresa, concluyendo el tamaño, en relación a la cantidad de viajes realizados por esa empresa en el mes, comenzando desde una gran compañia hasta un trabajador independiente; al otro set se le categorizó por tipo de urbe, deduciendo la urbanizacion del lugar por la cantidad promedio de viajes finalizados en esa localidad.\n",
    "\n",
    "Por último, en el tercer conjunto se incorporaron 4 columnas, las cuales se desprenden de la columan 'start_ts', la cual entrega fecha y hora de los viajes, si bien las 2 columnas que se usaran para el análisis son 'day' y 'hour', por que tienen datos distintos, se realizó de inmediato la obtención de mes y año, los cuales tienen un dato único, 11 y 2017 respectivamente, se pensó en la posible incorporación de mas datos al estudio, en las cuales estas ultimas 2 columnas nos sirvan para ese análisis.  "
   ]
  },
  {
   "cell_type": "markdown",
   "metadata": {},
   "source": [
    "<div class=\"alert alert-block alert-success\">\n",
    "<b>Comentario del revisor</b> <a class=\"tocSkip\"></a>\n",
    "    \n",
    "Perfecto, buen trabajo desarrollando este proceso de enriquecimiento de los datos por medio de la creación de características.  </div>"
   ]
  },
  {
   "cell_type": "markdown",
   "metadata": {},
   "source": [
    "### Síntesis del capítulo\n",
    "\n",
    "En este capítulo, se análizaron varios aspectos de los datasets, lo cual llevo a corregir datos erróneos, validar registros duplicados y verificar existencia de valores ausentes. Para luego enriquecer los datos con técnicas de 'Ingeniería de Características'(Feature Engineering).\n",
    "\n",
    "Finalmente, se concluye que los datasets estan listos, para comenzar con la etapa de análisis del proyecto."
   ]
  },
  {
   "cell_type": "markdown",
   "metadata": {},
   "source": [
    "## **Análisis exploratorio de datos**"
   ]
  },
  {
   "cell_type": "markdown",
   "metadata": {},
   "source": [
    "### Principales barrios a los que viajan las personas en taxi"
   ]
  },
  {
   "cell_type": "code",
   "execution_count": 24,
   "metadata": {},
   "outputs": [
    {
     "data": {
      "text/html": [
       "<div>\n",
       "<style scoped>\n",
       "    .dataframe tbody tr th:only-of-type {\n",
       "        vertical-align: middle;\n",
       "    }\n",
       "\n",
       "    .dataframe tbody tr th {\n",
       "        vertical-align: top;\n",
       "    }\n",
       "\n",
       "    .dataframe thead th {\n",
       "        text-align: right;\n",
       "    }\n",
       "</style>\n",
       "<table border=\"1\" class=\"dataframe\">\n",
       "  <thead>\n",
       "    <tr style=\"text-align: right;\">\n",
       "      <th></th>\n",
       "      <th>dropoff_location_name</th>\n",
       "      <th>average_trips</th>\n",
       "      <th>neighborhood_category</th>\n",
       "    </tr>\n",
       "  </thead>\n",
       "  <tbody>\n",
       "    <tr>\n",
       "      <th>0</th>\n",
       "      <td>Loop</td>\n",
       "      <td>10727.466667</td>\n",
       "      <td>Region</td>\n",
       "    </tr>\n",
       "    <tr>\n",
       "      <th>1</th>\n",
       "      <td>River North</td>\n",
       "      <td>9523.666667</td>\n",
       "      <td>Region</td>\n",
       "    </tr>\n",
       "    <tr>\n",
       "      <th>2</th>\n",
       "      <td>Streeterville</td>\n",
       "      <td>6664.666667</td>\n",
       "      <td>Region</td>\n",
       "    </tr>\n",
       "    <tr>\n",
       "      <th>3</th>\n",
       "      <td>West Loop</td>\n",
       "      <td>5163.666667</td>\n",
       "      <td>Region</td>\n",
       "    </tr>\n",
       "    <tr>\n",
       "      <th>4</th>\n",
       "      <td>O'Hare</td>\n",
       "      <td>2546.900000</td>\n",
       "      <td>Region</td>\n",
       "    </tr>\n",
       "    <tr>\n",
       "      <th>5</th>\n",
       "      <td>Lake View</td>\n",
       "      <td>2420.966667</td>\n",
       "      <td>Region</td>\n",
       "    </tr>\n",
       "    <tr>\n",
       "      <th>6</th>\n",
       "      <td>Grant Park</td>\n",
       "      <td>2068.533333</td>\n",
       "      <td>Region</td>\n",
       "    </tr>\n",
       "    <tr>\n",
       "      <th>7</th>\n",
       "      <td>Museum Campus</td>\n",
       "      <td>1510.000000</td>\n",
       "      <td>Region</td>\n",
       "    </tr>\n",
       "    <tr>\n",
       "      <th>8</th>\n",
       "      <td>Gold Coast</td>\n",
       "      <td>1364.233333</td>\n",
       "      <td>Region</td>\n",
       "    </tr>\n",
       "    <tr>\n",
       "      <th>9</th>\n",
       "      <td>Sheffield &amp; DePaul</td>\n",
       "      <td>1259.766667</td>\n",
       "      <td>Region</td>\n",
       "    </tr>\n",
       "  </tbody>\n",
       "</table>\n",
       "</div>"
      ],
      "text/plain": [
       "  dropoff_location_name  average_trips neighborhood_category\n",
       "0                  Loop   10727.466667                Region\n",
       "1           River North    9523.666667                Region\n",
       "2         Streeterville    6664.666667                Region\n",
       "3             West Loop    5163.666667                Region\n",
       "4                O'Hare    2546.900000                Region\n",
       "5             Lake View    2420.966667                Region\n",
       "6            Grant Park    2068.533333                Region\n",
       "7         Museum Campus    1510.000000                Region\n",
       "8            Gold Coast    1364.233333                Region\n",
       "9    Sheffield & DePaul    1259.766667                Region"
      ]
     },
     "execution_count": 24,
     "metadata": {},
     "output_type": "execute_result"
    }
   ],
   "source": [
    "#Identificando los 10 barrios donde los taxis tienen mayor promedio de termino de trayecto\n",
    "\n",
    "avg_trips_per_neighborhood.sort_values('average_trips', ascending = False).head(10)"
   ]
  },
  {
   "cell_type": "code",
   "execution_count": 25,
   "metadata": {
    "scrolled": false
   },
   "outputs": [
    {
     "data": {
      "image/png": "[encoded data removed]",
      "text/plain": [
       "<Figure size 1000x1500 with 1 Axes>"
      ]
     },
     "metadata": {},
     "output_type": "display_data"
    }
   ],
   "source": [
    "# Gráfico de barras de los 10 barrios más concurrido por las personas\n",
    "\n",
    "plt.figure(figsize=(10, 15))\n",
    "sns.barplot(x = 'dropoff_location_name', \n",
    "            y = 'average_trips', \n",
    "            data = avg_trips_per_neighborhood.sort_values('average_trips', ascending = False).head(10),\n",
    "            palette = 'husl')\n",
    "plt.xlabel('Barrios')\n",
    "plt.ylabel('Total de Viajes promedio')\n",
    "plt.title('Lugares más transitados por las personas')\n",
    "plt.xticks(rotation=15)\n",
    "plt.show()"
   ]
  },
  {
   "cell_type": "markdown",
   "metadata": {},
   "source": [
    "<div class=\"alert alert-block alert-success\">\n",
    "<b>Comentario del revisor</b> <a class=\"tocSkip\"></a>\n",
    "    \n",
    "Excelente, buen trabajo desarrollando este primer gráfico que permite explorar el top de localizaciones con mayor promedio de finalización de viajes.   </div>"
   ]
  },
  {
   "cell_type": "code",
   "execution_count": 26,
   "metadata": {
    "scrolled": false
   },
   "outputs": [
    {
     "data": {
      "image/png": "[encoded data removed]",
      "text/plain": [
       "<Figure size 1000x1500 with 1 Axes>"
      ]
     },
     "metadata": {},
     "output_type": "display_data"
    }
   ],
   "source": [
    "# Gráfico de barras de los tipos de barrios por concurrencia de personas\n",
    "\n",
    "plt.figure(figsize=(10, 15))\n",
    "sns.barplot(x = 'neighborhood_category', \n",
    "            y = 'average_trips', \n",
    "            data = avg_trips_per_neighborhood,\n",
    "            palette = 'husl',\n",
    "            ci = None)\n",
    "plt.xlabel('Tipos de urbanización')\n",
    "plt.ylabel('Total de viajes promedio')\n",
    "plt.title('Viajes finalizados según categoría de urbanización')\n",
    "plt.show()"
   ]
  },
  {
   "cell_type": "markdown",
   "metadata": {},
   "source": [
    "**Lugares más transitados por las personas**\n",
    "\n",
    "El sector más transitado es Loop, seguido por River North, los cuales son por lejos los mas preferidos de las personas, ya que ambos juntos casi triplican los viajes del tercer sector más concurrido que es Streeterville.\n",
    "\n",
    "Estudiando los datos, por el nivel de viajes promedio con respecto a otras localidades estudiadas, se concluye que estos 10 barrios son regiones, por el nivel de concurrencia que tienen en comparación a las demás entidades, que según los datos extraidos en la columna 'neighborhood_category'(categoría de barrio) que se representan en el último gráfico, se puede deducir que son barrios acorde a Chicago, totalmente urbanizados con casas, edificios, escuelas, aeropuertos, hospitales, etc en proporción a la ultima categoría 'camp' que por la cantidad de viajes se infiere una zona más campestre o rural y se encuentran en zonas más perifericas."
   ]
  },
  {
   "cell_type": "markdown",
   "metadata": {},
   "source": [
    "<div class=\"alert alert-block alert-success\">\n",
    "<b>Comentario del revisor</b> <a class=\"tocSkip\"></a>\n",
    "    \n",
    "Excelente, buen trabajo desplegando este gráfico partiendo de las características adicionales que lograste generar.  </div>"
   ]
  },
  {
   "cell_type": "markdown",
   "metadata": {},
   "source": [
    "### Empresas de taxis con más viajes mensuales"
   ]
  },
  {
   "cell_type": "code",
   "execution_count": 27,
   "metadata": {},
   "outputs": [
    {
     "data": {
      "image/png": "[encoded data removed]",
      "text/plain": [
       "<Figure size 1000x1500 with 1 Axes>"
      ]
     },
     "metadata": {},
     "output_type": "display_data"
    }
   ],
   "source": [
    "# Gráfico de barras con los viajes acumulados por empresas de taxis\n",
    "\n",
    "plt.figure(figsize=(10, 15))\n",
    "sns.barplot(x = 'trips_amount',\n",
    "            y = 'company_name',\n",
    "            data = trips_amount_15_to_16_nov,\n",
    "            palette = 'husl',\n",
    "            orient = 'h')\n",
    "plt.xlabel('Total de Viajes')\n",
    "plt.ylabel('Empresas de Taxis')\n",
    "plt.title('Empresas de taxi y su número de viajes por mes')\n",
    "plt.show()"
   ]
  },
  {
   "cell_type": "markdown",
   "metadata": {},
   "source": [
    "<div class=\"alert alert-block alert-success\">\n",
    "<b>Comentario del revisor</b> <a class=\"tocSkip\"></a>\n",
    "    \n",
    "Buen trabajo con el desarrollo del gráfico, sin embargo, sería interesante poder limitar las salidas a solo el top 10, esto con el ánimo de tener un gráfico más estético.  </div>"
   ]
  },
  {
   "cell_type": "code",
   "execution_count": 28,
   "metadata": {},
   "outputs": [
    {
     "data": {
      "text/html": [
       "<div>\n",
       "<style scoped>\n",
       "    .dataframe tbody tr th:only-of-type {\n",
       "        vertical-align: middle;\n",
       "    }\n",
       "\n",
       "    .dataframe tbody tr th {\n",
       "        vertical-align: top;\n",
       "    }\n",
       "\n",
       "    .dataframe thead th {\n",
       "        text-align: right;\n",
       "    }\n",
       "</style>\n",
       "<table border=\"1\" class=\"dataframe\">\n",
       "  <thead>\n",
       "    <tr style=\"text-align: right;\">\n",
       "      <th></th>\n",
       "      <th>company_name</th>\n",
       "      <th>trips_amount</th>\n",
       "      <th>company_type</th>\n",
       "    </tr>\n",
       "  </thead>\n",
       "  <tbody>\n",
       "    <tr>\n",
       "      <th>0</th>\n",
       "      <td>Flash Cab</td>\n",
       "      <td>19558</td>\n",
       "      <td>Big company</td>\n",
       "    </tr>\n",
       "    <tr>\n",
       "      <th>1</th>\n",
       "      <td>Taxi Affiliation Services</td>\n",
       "      <td>11422</td>\n",
       "      <td>Big company</td>\n",
       "    </tr>\n",
       "    <tr>\n",
       "      <th>2</th>\n",
       "      <td>Medallion Leasing</td>\n",
       "      <td>10367</td>\n",
       "      <td>Big company</td>\n",
       "    </tr>\n",
       "    <tr>\n",
       "      <th>3</th>\n",
       "      <td>Yellow Cab</td>\n",
       "      <td>9888</td>\n",
       "      <td>Big company</td>\n",
       "    </tr>\n",
       "    <tr>\n",
       "      <th>4</th>\n",
       "      <td>Taxi Affiliation Service Yellow</td>\n",
       "      <td>9299</td>\n",
       "      <td>Big company</td>\n",
       "    </tr>\n",
       "    <tr>\n",
       "      <th>5</th>\n",
       "      <td>Chicago Carriage Cab Corp</td>\n",
       "      <td>9181</td>\n",
       "      <td>Big company</td>\n",
       "    </tr>\n",
       "  </tbody>\n",
       "</table>\n",
       "</div>"
      ],
      "text/plain": [
       "                      company_name  trips_amount company_type\n",
       "0                        Flash Cab         19558  Big company\n",
       "1        Taxi Affiliation Services         11422  Big company\n",
       "2                Medallion Leasing         10367  Big company\n",
       "3                       Yellow Cab          9888  Big company\n",
       "4  Taxi Affiliation Service Yellow          9299  Big company\n",
       "5        Chicago Carriage Cab Corp          9181  Big company"
      ]
     },
     "execution_count": 28,
     "metadata": {},
     "output_type": "execute_result"
    }
   ],
   "source": [
    "# Las 6 compañias que tienen el 50% de la cuota de mercado de transportes del taxi\n",
    "\n",
    "trips_amount_15_to_16_nov[trips_amount_15_to_16_nov['trips_amount'].cumsum() < 70000]"
   ]
  },
  {
   "cell_type": "markdown",
   "metadata": {},
   "source": [
    "<div class=\"alert alert-block alert-success\">\n",
    "<b>Comentario del revisor</b> <a class=\"tocSkip\"></a>\n",
    "    \n",
    "Excelente, buen trabajo desplegando la tabla.</div>"
   ]
  },
  {
   "cell_type": "code",
   "execution_count": 29,
   "metadata": {},
   "outputs": [
    {
     "data": {
      "image/png": "[encoded data removed]",
      "text/plain": [
       "<Figure size 1000x1500 with 1 Axes>"
      ]
     },
     "metadata": {},
     "output_type": "display_data"
    }
   ],
   "source": [
    "# Gráfico de barras con los viajes acumulados por empresas de taxis\n",
    "\n",
    "plt.figure(figsize=(10, 15))\n",
    "sns.barplot(x = 'company_type',\n",
    "            y = 'trips_amount',\n",
    "            data = trips_amount_15_to_16_nov,\n",
    "            palette = 'husl',\n",
    "            ci = None)\n",
    "plt.xlabel('Tipo de empresa')\n",
    "plt.ylabel('Total de Viajes')\n",
    "plt.title('Número de viajes mensuales por tipo de compañia')\n",
    "plt.show()"
   ]
  },
  {
   "cell_type": "markdown",
   "metadata": {},
   "source": [
    "<div class=\"alert alert-block alert-success\">\n",
    "<b>Comentario del revisor</b> <a class=\"tocSkip\"></a>\n",
    "    \n",
    "Más allá de que ya se puede esperar cómo será la distribución o comportamiento del número de viajes mensuales por tipo de empresas, teniendo en cuenta la manera en que construiste esta categoría, me parece buen ejercicio poder desplegar este barplot..</div>"
   ]
  },
  {
   "cell_type": "markdown",
   "metadata": {},
   "source": [
    "**Empresas de taxis**\n",
    "\n",
    "La empresa con más cuota de mercado es Flash Cab, casi duplicando en cantidad de viajes a su competidor más cercano que es Taxi Affiliation Services, y para ser más preciso, 6 empresas de las 64 estudiadas, tienen el 50% de la cuota de mercado, por lo que las personas que usan taxi tienen más probabilidad de contratar los servicios de esta empresa. Analizando el mismo grafico se puede observar que las empresas que aparecen en el gráfico pero no tienen registros (barras), por el nombre asociado y por la poca cantidad de viajes realizados, se puede concluir que son trabajadores de taxis independientes, por ende, ellos tienen un solo taxi, los cuales generan el contraste con Flash Cab.\n",
    "\n",
    "El último grafico representa ese abismal contraste de gran cantidad de viajes que generan las sociedades como Flash Cab o Taxi Affiliation Services contra una micro compañia de taxis o un trabajador independiente. "
   ]
  },
  {
   "cell_type": "markdown",
   "metadata": {},
   "source": [
    "### Duración de los viajes los sábados según el día, la hora de salida y las condiciones climáticas"
   ]
  },
  {
   "cell_type": "code",
   "execution_count": 30,
   "metadata": {
    "scrolled": false
   },
   "outputs": [
    {
     "data": {
      "image/png": "[encoded data removed]",
      "text/plain": [
       "<Figure size 1000x1000 with 1 Axes>"
      ]
     },
     "metadata": {},
     "output_type": "display_data"
    }
   ],
   "source": [
    "# Gráfico de barras con la duración de los viajes segun condiciones climáticas\n",
    "\n",
    "plt.figure(figsize=(10, 10))\n",
    "sns.barplot(x='day',\n",
    "            y='duration_seconds',\n",
    "            data=trips_loop_ohare,\n",
    "            hue ='weather_conditions',\n",
    "            palette = 'husl',\n",
    "            ci = None)\n",
    "plt.xlabel('Sábados del mes')\n",
    "plt.ylabel('Duración de viajes')\n",
    "plt.title(\"Duración de viajes los sábados entre Loop y O'hare según las condiciones climáticas \")\n",
    "plt.legend(title='Condiciones climáticas',labels =['Buenas','Malas'])\n",
    "plt.show()\n"
   ]
  },
  {
   "cell_type": "markdown",
   "metadata": {},
   "source": [
    "<div class=\"alert alert-block alert-success\">\n",
    "<b>Comentario del revisor</b> <a class=\"tocSkip\"></a>\n",
    "    \n",
    "Perfecto, buen trabajo realizando esta comparación de la duración de los viajes los días sábados. </div>"
   ]
  },
  {
   "cell_type": "code",
   "execution_count": 31,
   "metadata": {},
   "outputs": [
    {
     "data": {
      "image/png": "[encoded data removed]",
      "text/plain": [
       "<Figure size 2000x1500 with 1 Axes>"
      ]
     },
     "metadata": {},
     "output_type": "display_data"
    }
   ],
   "source": [
    "# Gráfico de barras con la duración del trayecto hacia el aeropuerto según hora de salida desde Loop\n",
    "\n",
    "plt.figure(figsize=(20, 15))\n",
    "sns.barplot(x = 'hour',\n",
    "            y = 'duration_seconds',\n",
    "            data = trips_loop_ohare,\n",
    "            palette = 'husl',\n",
    "            ci = None)\n",
    "plt.xlabel('Horas')\n",
    "plt.ylabel('Duración del viaje')\n",
    "plt.title(\"Duración de viaje desde Loop hasta el Aeropuerto Internacional de O'hare según la hora de salida\")\n",
    "plt.show()"
   ]
  },
  {
   "cell_type": "markdown",
   "metadata": {},
   "source": [
    "**Tiempos de viaje**\n",
    "\n",
    "Para este estudio, se analizaron dos gráficos, el primero entregan la duración de los viajes los sábados del mes según las condiciones climaticas, el cual refleja que el mes analizado tuvo dos sábados con malas condiciones climaticas, y los viajes esos dias tuvieron una mayor duración entre Loop y el aeropuerto.\n",
    "\n",
    "Por otra parte el segundo gráfico analizó la duración de los viajes según el horario de salida del taxi, lo cual permite concluir que los horarios de 2 de la mañana, 12 horas del día hasta las 18 horas en la tarde son los horarios con mayor congestión y donde los viajes tiene mayor duración, a la vez se puede inferir que son los horarios de mayor trafico de aviones en el aeropuerto.\n"
   ]
  },
  {
   "cell_type": "markdown",
   "metadata": {},
   "source": [
    "<div class=\"alert alert-block alert-success\">\n",
    "<b>Comentario del revisor</b> <a class=\"tocSkip\"></a>\n",
    "    \n",
    "Perfecto, buen trabajo desarrollando y estudiando el gráfico. "
   ]
  },
  {
   "cell_type": "markdown",
   "metadata": {},
   "source": [
    "### Síntesis del capítulo\n",
    "\n",
    "En este capitulo se analizó el mercado de los taxis, en primer lugar revisando cuales son los lugares donde mas dejan personas los taxis, concluyendo los 10 sectores más concurridos y estan más urbanizados con respecto a otros del mismo estudio.\n",
    "\n",
    "Luego con la cantidad de viajes mensuales, se concluyeron las 6 compañias más grandes en el rubro de los taxis, ya que es sobresaliente la diferencia en los numeros de estas empresas con el resto del rubro.\n",
    "\n",
    "Finalmente, se estudiaron los tiempos de viaje desde la localidad de Loop hacia el Aeropuerto Internacional O'Hare, según las condiciones climáticas, que a simple vista afectan la duración de este, y si hay mayor retraso según los horarios de salida desde Loop."
   ]
  },
  {
   "cell_type": "markdown",
   "metadata": {},
   "source": [
    "<div class=\"alert alert-block alert-success\">\n",
    "<b>Comentario del revisor</b> <a class=\"tocSkip\"></a>\n",
    "    \n",
    "Buen trabajo con el desarrollo de esta síntesis del capítulo. "
   ]
  },
  {
   "cell_type": "markdown",
   "metadata": {},
   "source": [
    "## **Prueba de Hipótesis**"
   ]
  },
  {
   "cell_type": "markdown",
   "metadata": {},
   "source": [
    "### **Hipótesis: La duración promedio de los viajes desde el Loop hasta el Aeropuerto Internacional O'Hare cambia los sábados lluviosos.**"
   ]
  },
  {
   "cell_type": "code",
   "execution_count": 32,
   "metadata": {},
   "outputs": [
    {
     "name": "stdout",
     "output_type": "stream",
     "text": [
      "Formulación de Prueba de Hipotesis\n",
      "\n",
      "H0: La duración promedio de los viajes desde Loop hasta O'Hare no cambia en los sábados lluviosos.\n",
      "H1: La duración promedio de los viajes desde Loop hasta O'Hare cambia en los sábados lluviosos.\n",
      "\n",
      "Prueba t-Student para dos muestra independientes. El valor de p_value es: 6.517970327099473e-12\n",
      "\n",
      "\n",
      "Conclusión\n",
      "\n",
      "Como el pvalue es menor al nivel de significancia de la prueba, se rechaza la hipótesis nula, ya que hay evidencia\n",
      "estadística, con un nivel de confianza del 99%, que la duración promedio de los viajes desde Loop a O'Hare son\n",
      "diferentes los sabados lluviosos, por lo que si afectan las condiciones climaticas para viajar.\n"
     ]
    }
   ],
   "source": [
    "# Prueba de hipótesis\n",
    "\n",
    "print('Formulación de Prueba de Hipotesis')\n",
    "print()\n",
    "print(\"H0: La duración promedio de los viajes desde Loop hasta O'Hare no cambia en los sábados lluviosos.\")\n",
    "print(\"H1: La duración promedio de los viajes desde Loop hasta O'Hare cambia en los sábados lluviosos.\")\n",
    "\n",
    "\n",
    "# Duración de viajes con condiciones climaticas negativas\n",
    "saturday_bad = trips_loop_ohare[trips_loop_ohare['weather_conditions'] == 'Bad']['duration_seconds']\n",
    "\n",
    "# Duración de viajes con condiciones climaticas favorables\n",
    "saturday_good = trips_loop_ohare[trips_loop_ohare['weather_conditions'] == 'Good']['duration_seconds']\n",
    "\n",
    "alpha = 0.01\n",
    "print()\n",
    "\n",
    "# Prueba de hipótesis con Python\n",
    "resultado = st.ttest_ind(saturday_bad, saturday_good)\n",
    "print(f'Prueba t-Student para dos muestra independientes. El valor de p_value es: {resultado.pvalue}')\n",
    "\n",
    "print()\n",
    "print()\n",
    "print('Conclusión')\n",
    "print()\n",
    "\n",
    "if resultado.pvalue < alpha:\n",
    "    print(\"Como el pvalue es menor al nivel de significancia de la prueba, se rechaza la hipótesis nula, ya que hay evidencia\\nestadística, con un nivel de confianza del 99%, que la duración promedio de los viajes desde Loop a O'Hare son\\ndiferentes los sabados lluviosos, por lo que si afectan las condiciones climaticas para viajar.\")\n",
    "else:\n",
    "    print(\"Como el pvalue es mayor al nivel de significancia de la prueba, se aprueba la hipótesis nula, ya que hay evidencia\\nestadística, con un nivel de confianza del 99%, que la duración promedio de los viajes desde Loop a O'Hare siguen\\nsiendo iguales los sabados, sin importar las condiciones climaticas.\")"
   ]
  },
  {
   "cell_type": "markdown",
   "metadata": {},
   "source": [
    "<div class=\"alert alert-block alert-success\">\n",
    "<b>Comentario del revisor</b> <a class=\"tocSkip\"></a>\n",
    "    \n",
    "Perfecto, buen trabajo con el desarrollo de la sección de la prueba de hipótesis. "
   ]
  },
  {
   "cell_type": "markdown",
   "metadata": {},
   "source": [
    "### Síntesis del capítulo\n",
    "\n",
    "Elaboración de la prueba de hipótesis para fundamentar mediante los datos el estudio de empresas de taxis, para ello, se realizó una pregunta, en las cuales se utilizo un nivel de significancia del 1%, debido a que los datos y los registros gráficos no son tan claros, ay que de los 4 sábados, solo dos tuvieron malas condiciones climáticas, con esto se minimiza el error del resultado, haciendo una prueba más exhaustiva para finalizar el análisis. La interrogante es la siguiente:\n",
    "\n",
    "\n",
    "    - Hipótesis: La duración promedio de los viajes desde el Loop hasta el Aeropuerto Internacional O'Hare cambia\n",
    "                 los sábados lluviosos.\n",
    "    \n",
    "    Conclusión: Como el pvalue es menor al nivel de significancia de la prueba, se rechaza la hipótesis nula, ya que\n",
    "                hay evidencia estadística, con un nivel de confianza del 99%, que la duración promedio de los viajes\n",
    "                desde Loop a O'hare son diferentes los sabados lluviosos, por lo que si afectan las condiciones\n",
    "                climaticas para viajar."
   ]
  },
  {
   "cell_type": "markdown",
   "metadata": {},
   "source": [
    "## **Conclusión general**"
   ]
  },
  {
   "cell_type": "markdown",
   "metadata": {},
   "source": [
    "El transporte siempre han contado con el rubro de taxis, que ayuda a descongestionar las avenidas con servicios que tiene recorridos fijos, y dandole al usuario la posibilidad de subir de su casa y bajarse en su destino, sin transbordos, sin esperas, puede que algo más costoso, pero una experiencia diferente de transitar por las grandes ciudades.\n",
    "\n",
    "<br>\n",
    "\n",
    "***Información general***\n",
    "\n",
    "Inicialmente, se ingreso al SGBD de la empresa, mediante PostgreSQL para obtener los datasets consolidados que se usaron en este estudio, luego se accedió a la descripción general del proyecto, resumen de su contenido, y las cuestiones a resolver en este estudio. Por ello, primeramente se obtubieron las liberias de Python para procesar y analizar los datos de la empresa, para este caso, se uso Pandas, Numpy, Scipy, Matplotlib y Seaborn.\n",
    "\n",
    "Luego los archivos ('.csv') fueron importados y cargados sus datos en el sistema, para obtener la información preliminar al análisis, el cual nos entrega la siguiente información:\n",
    "\n",
    "        - Número de Filas y número de columnas.\n",
    "        - Tipo de dato de cada columna.\n",
    "        - Nombres de cada columna del archivo.\n",
    "        - Datos no nulos por columna (valores ausentes).\n",
    "        - Resumen de los tipos de datos usados por el DataFrame\n",
    "        - Memoria usada por el DataFrame\n",
    "\n",
    "Para el estudio, se obtuvo información relevante:\n",
    "\n",
    "- trips_amount_15_to_16_nov: Total: 64 filas y 2 columnas\n",
    "                             Tipos de dato: Object(string) y numeros enteros\n",
    "                             Valores ausentes: N/A\n",
    "               \n",
    "- avg_trips_per_neighborhood: Total: 94 filas y 2 columnas\n",
    "                              Tipos de dato: Object(string) y numeros flotantes (decimales)\n",
    "                              Valores ausentes: N/A\n",
    "         \n",
    "- trips_loop_ohare: Total: 1068 filas y 3 columnas\n",
    "                    Tipos de dato: Object(string) y numeros flotantes (decimales)\n",
    "                    Valores ausentes: N/A\n",
    "\n",
    "<br>\n",
    "\n",
    "***Preparación de los datos***\n",
    "\n",
    "Luego,con la información anterior, se gestionó la corrección de los datos erroneos, verificación de duplicados y valores ausentes y se aplicaron algunos conceptos de 'Feature Engineering', lo cual permite, a partir de los datos ya generados, agregar otras variables que clarifican y simplifican el análisis, por lo cual se realizaron las siguientes etapas:\n",
    "    \n",
    "    Cambio de tipos de dato: Modificación de datos erróneos object(string) a datetime64[ns] 1columna (start_ts), \n",
    "                                                            \n",
    "    Valores duplicados: 197 registros\n",
    "\n",
    "    Tratamiento valores duplicados: Conservación 1 columna (duration_seconds)\n",
    "\n",
    "    Valores ausentes: No existen valores ausentes en los datasets\n",
    "                                      \n",
    "    Ingeniería de Características: Inserción trips_amount_15_to_16_nov 1 columna (company_type)\n",
    "    \n",
    "                                   Inserción avg_trips_per_neighborhood 1 columna (neighborhood_category)\n",
    "                                   \n",
    "                                   Inserción trips_loop_ohare 4 columnas (day,month,year,hour)\n",
    "\n",
    "<br>\n",
    "\n",
    "***Análisis exploratorio de datos***\n",
    "\n",
    "Con los datasets corregidos y preparados para el estudio, se define comenzar el análisis exploratorio de datos (Exploratory Data Analysis, EDA en inglés), para el cual los datos nos proporcionan detalles muy interesantes, como los 10 barrios más concurridos, donde el sector más transitado es Loop, que solo este genera mas de 10000 viajes en el mes, y entre ellos generan mas de 40000 viajes mensuales, por lo que se concluye que Chicago es una urbe como las grandes ciudades en las cuales viven y trabajan muchas personas.\n",
    "\n",
    "Posteriormente se analizó la cuota de mercado de la compañias que prestan el servicio de taxis, donde hay un contraste entre los viajes que generan las grandes empresas y los generados por las micro empresas y los trabajadores independientes, ya que el 50% del mercado lo controlan 6 de estas compañias lideradas por Flash Cab y Taxi Affiliation Services.\n",
    "\n",
    "Finalmente, se realizó un estudio sobre los tiempos de viajes desde el sector de Loop hasta el Aeropuerto Internacional de O'Hare en los dias sábados, para los cuales, se concluyó que las condiciones climáticas negativas afectan el análisis retrasando los tiempos de desplazamiento, además dedujo que según el horario de salida tambien se pueden producir retrasos por la congestión del sector, asi también se puede inferir los horarios de mayor transito de aviones en el aeropuerto.\n",
    "\n",
    "<br>\n",
    "\n",
    "***Prueba de Hipótesis***\n",
    "\n",
    "Por último, se realizó una prueba de hipótesis, donde se contrastaron las siguientes afirmaciones:\n",
    "\n",
    "*Hipótesis:* La duración promedio de los viajes desde el Loop hasta el Aeropuerto Internacional O'Hare cambia los sábados lluviosos.\n",
    "\n",
    "    H0: La duración promedio de los viajes desde Loop hasta O'Hare no cambia en los sábados lluviosos.\n",
    "    H1: La duración promedio de los viajes desde Loop hasta O'Hare cambia en los sábados lluviosos.\n",
    "\n",
    "Prueba t-Student para dos muestra independientes. El valor de p_value es: 6.517970327099473e-12\n",
    "\n",
    "Resolución\n",
    "\n",
    "Como el pvalue es menor al nivel de significancia de la prueba, se rechaza la hipótesis nula, ya que hay evidencia\n",
    "estadística, con un nivel de confianza del 99%, que la duración promedio de los viajes desde Loop a O'Hare son\n",
    "diferentes los sabados lluviosos, por lo que si afectan las condiciones climaticas para viajar.\n",
    "\n",
    "<br>\n",
    "\n",
    "***Resumen***\n",
    "\n",
    "Un proyecto completo, ya que se comenzó obteniendo los datos desde la matriz del sistema mediante el SGBD, para analizar ciertas vicisitudes del rubro de los taxis en una ciudad como Chicago en Estados Unidos.\n",
    "\n",
    "Es sorprendente, como pocas compañias absorven en mayoria la cantidad de servicios de esta industria, a la vez generan una cantidad admirable de viajes, por lo que trasladan y conectan a muchas personas, y por ultimo las complicaciones que les genera el mal clima y los horarios de congestión en el aeropuerto de O'Hare.\n",
    "\n",
    "Por último, se sugiere continuar con el estudio, y posiblemente incorporar los impactos que han tenido las aplicaciones moviles como Uber, en la industria de los transportes, y principalmente como ha afectado el rubro de los taxis."
   ]
  },
  {
   "cell_type": "markdown",
   "metadata": {},
   "source": [
    "<div class=\"alert alert-block alert-success\">\n",
    "<b>Comentario del revisor</b> <a class=\"tocSkip\"></a>\n",
    "    \n",
    "Excelente. Muy buen trabajo con el desarrollo de estas secciones finales. "
   ]
  },
  {
   "cell_type": "markdown",
   "metadata": {},
   "source": [
    "<center><h1><u>ZUBER</u></h1></center>"
   ]
  }
 ],
 "metadata": {
  "ExecuteTimeLog": [
   {
    "duration": 4824,
    "start_time": "2024-08-18T08:58:10.380Z"
   },
   {
    "duration": 399,
    "start_time": "2024-08-18T09:03:54.024Z"
   },
   {
    "duration": 1279,
    "start_time": "2024-08-18T09:14:58.920Z"
   },
   {
    "duration": 22,
    "start_time": "2024-08-18T09:15:00.202Z"
   },
   {
    "duration": 14,
    "start_time": "2024-08-18T09:15:00.230Z"
   },
   {
    "duration": 11,
    "start_time": "2024-08-18T09:15:00.247Z"
   },
   {
    "duration": 12,
    "start_time": "2024-08-18T09:15:00.262Z"
   },
   {
    "duration": 13,
    "start_time": "2024-08-18T09:15:06.948Z"
   },
   {
    "duration": 12,
    "start_time": "2024-08-18T09:15:10.506Z"
   },
   {
    "duration": 10,
    "start_time": "2024-08-18T09:19:12.987Z"
   },
   {
    "duration": 16,
    "start_time": "2024-08-18T09:20:12.279Z"
   },
   {
    "duration": 22,
    "start_time": "2024-08-18T09:20:27.909Z"
   },
   {
    "duration": 3,
    "start_time": "2024-08-18T09:25:38.302Z"
   },
   {
    "duration": 15,
    "start_time": "2024-08-18T09:30:03.593Z"
   },
   {
    "duration": 19,
    "start_time": "2024-08-18T09:30:21.743Z"
   },
   {
    "duration": 14,
    "start_time": "2024-08-18T09:31:26.809Z"
   },
   {
    "duration": 11,
    "start_time": "2024-08-18T09:40:40.085Z"
   },
   {
    "duration": 7,
    "start_time": "2024-08-18T09:40:45.019Z"
   },
   {
    "duration": 7,
    "start_time": "2024-08-18T09:41:28.847Z"
   },
   {
    "duration": 8,
    "start_time": "2024-08-18T09:41:31.279Z"
   },
   {
    "duration": 7,
    "start_time": "2024-08-18T09:41:34.254Z"
   },
   {
    "duration": 13,
    "start_time": "2024-08-18T09:42:05.784Z"
   },
   {
    "duration": 12,
    "start_time": "2024-08-18T09:42:16.819Z"
   },
   {
    "duration": 9,
    "start_time": "2024-08-18T09:42:36.137Z"
   },
   {
    "duration": 18,
    "start_time": "2024-08-18T09:42:59.104Z"
   },
   {
    "duration": 1318,
    "start_time": "2024-08-18T09:44:51.086Z"
   },
   {
    "duration": 9,
    "start_time": "2024-08-18T09:44:58.888Z"
   },
   {
    "duration": 19,
    "start_time": "2024-08-18T09:45:07.704Z"
   },
   {
    "duration": 8,
    "start_time": "2024-08-18T09:47:25.667Z"
   },
   {
    "duration": 12,
    "start_time": "2024-08-18T09:54:39.509Z"
   },
   {
    "duration": 417,
    "start_time": "2024-08-18T09:57:49.031Z"
   },
   {
    "duration": 385,
    "start_time": "2024-08-18T09:58:05.428Z"
   },
   {
    "duration": 397,
    "start_time": "2024-08-18T09:58:11.649Z"
   },
   {
    "duration": 368,
    "start_time": "2024-08-18T09:59:35.066Z"
   },
   {
    "duration": 366,
    "start_time": "2024-08-18T09:59:44.705Z"
   },
   {
    "duration": 367,
    "start_time": "2024-08-18T09:59:54.404Z"
   },
   {
    "duration": 379,
    "start_time": "2024-08-18T10:00:01.648Z"
   },
   {
    "duration": 315,
    "start_time": "2024-08-18T11:27:32.921Z"
   },
   {
    "duration": 5073,
    "start_time": "2024-08-18T11:27:39.568Z"
   },
   {
    "duration": 24,
    "start_time": "2024-08-18T11:27:44.646Z"
   },
   {
    "duration": 30,
    "start_time": "2024-08-18T11:27:44.673Z"
   },
   {
    "duration": 15,
    "start_time": "2024-08-18T11:27:44.709Z"
   },
   {
    "duration": 13,
    "start_time": "2024-08-18T11:27:44.727Z"
   },
   {
    "duration": 14,
    "start_time": "2024-08-18T11:27:44.744Z"
   },
   {
    "duration": 14,
    "start_time": "2024-08-18T11:27:44.803Z"
   },
   {
    "duration": 15,
    "start_time": "2024-08-18T11:27:44.821Z"
   },
   {
    "duration": 20,
    "start_time": "2024-08-18T11:27:44.839Z"
   },
   {
    "duration": 18,
    "start_time": "2024-08-18T11:27:44.906Z"
   },
   {
    "duration": 22,
    "start_time": "2024-08-18T11:27:44.927Z"
   },
   {
    "duration": 49,
    "start_time": "2024-08-18T11:27:44.952Z"
   },
   {
    "duration": 9,
    "start_time": "2024-08-18T11:27:45.004Z"
   },
   {
    "duration": 9,
    "start_time": "2024-08-18T11:27:45.016Z"
   },
   {
    "duration": 15,
    "start_time": "2024-08-18T11:27:45.028Z"
   },
   {
    "duration": 58,
    "start_time": "2024-08-18T11:27:45.045Z"
   },
   {
    "duration": 16,
    "start_time": "2024-08-18T11:27:45.106Z"
   },
   {
    "duration": 17,
    "start_time": "2024-08-18T11:27:45.125Z"
   },
   {
    "duration": 160,
    "start_time": "2024-08-18T11:27:45.146Z"
   },
   {
    "duration": 0,
    "start_time": "2024-08-18T11:27:45.309Z"
   },
   {
    "duration": 0,
    "start_time": "2024-08-18T11:27:45.311Z"
   },
   {
    "duration": 0,
    "start_time": "2024-08-18T11:27:45.314Z"
   },
   {
    "duration": 0,
    "start_time": "2024-08-18T11:27:45.317Z"
   },
   {
    "duration": 0,
    "start_time": "2024-08-18T11:27:45.319Z"
   },
   {
    "duration": 0,
    "start_time": "2024-08-18T11:27:45.322Z"
   },
   {
    "duration": 11,
    "start_time": "2024-08-18T11:28:21.113Z"
   },
   {
    "duration": 398,
    "start_time": "2024-08-18T11:28:23.695Z"
   },
   {
    "duration": 2004,
    "start_time": "2024-08-18T11:28:27.130Z"
   },
   {
    "duration": 415,
    "start_time": "2024-08-18T11:28:42.020Z"
   },
   {
    "duration": 408,
    "start_time": "2024-08-18T11:31:22.134Z"
   },
   {
    "duration": 375,
    "start_time": "2024-08-18T11:31:32.465Z"
   },
   {
    "duration": 415,
    "start_time": "2024-08-18T11:31:56.572Z"
   },
   {
    "duration": 2070,
    "start_time": "2024-08-18T11:32:09.731Z"
   },
   {
    "duration": 704,
    "start_time": "2024-08-18T11:33:10.428Z"
   },
   {
    "duration": 1976,
    "start_time": "2024-08-18T11:33:22.463Z"
   },
   {
    "duration": 705,
    "start_time": "2024-08-18T11:33:31.165Z"
   },
   {
    "duration": 928,
    "start_time": "2024-08-18T11:34:46.638Z"
   },
   {
    "duration": 89,
    "start_time": "2024-08-18T11:34:58.414Z"
   },
   {
    "duration": 293,
    "start_time": "2024-08-18T11:35:22.692Z"
   },
   {
    "duration": 428,
    "start_time": "2024-08-18T11:35:30.304Z"
   },
   {
    "duration": 435,
    "start_time": "2024-08-18T11:35:44.171Z"
   },
   {
    "duration": 463,
    "start_time": "2024-08-18T11:35:51.646Z"
   },
   {
    "duration": 587,
    "start_time": "2024-08-18T11:35:59.544Z"
   },
   {
    "duration": 629,
    "start_time": "2024-08-18T11:36:05.817Z"
   },
   {
    "duration": 729,
    "start_time": "2024-08-18T11:36:12.591Z"
   },
   {
    "duration": 670,
    "start_time": "2024-08-18T11:36:23.049Z"
   },
   {
    "duration": 685,
    "start_time": "2024-08-18T11:36:29.513Z"
   },
   {
    "duration": 895,
    "start_time": "2024-08-18T11:36:35.581Z"
   },
   {
    "duration": 399,
    "start_time": "2024-08-18T11:36:50.467Z"
   },
   {
    "duration": 289,
    "start_time": "2024-08-18T11:37:01.815Z"
   },
   {
    "duration": 301,
    "start_time": "2024-08-18T11:37:08.069Z"
   },
   {
    "duration": 796,
    "start_time": "2024-08-18T11:37:26.366Z"
   },
   {
    "duration": 2120,
    "start_time": "2024-08-18T11:39:15.990Z"
   },
   {
    "duration": 13,
    "start_time": "2024-08-18T11:47:53.198Z"
   },
   {
    "duration": 13,
    "start_time": "2024-08-18T11:48:25.239Z"
   },
   {
    "duration": 13,
    "start_time": "2024-08-18T11:48:43.512Z"
   },
   {
    "duration": 37,
    "start_time": "2024-08-18T11:49:12.477Z"
   },
   {
    "duration": 37,
    "start_time": "2024-08-18T11:49:37.084Z"
   },
   {
    "duration": 36,
    "start_time": "2024-08-18T11:49:58.093Z"
   },
   {
    "duration": 11,
    "start_time": "2024-08-18T11:50:08.297Z"
   },
   {
    "duration": 12,
    "start_time": "2024-08-18T11:50:37.489Z"
   },
   {
    "duration": 13,
    "start_time": "2024-08-18T11:51:07.259Z"
   },
   {
    "duration": 13,
    "start_time": "2024-08-18T11:53:06.818Z"
   },
   {
    "duration": 15,
    "start_time": "2024-08-18T11:53:15.254Z"
   },
   {
    "duration": 13,
    "start_time": "2024-08-18T11:53:16.144Z"
   },
   {
    "duration": 14,
    "start_time": "2024-08-18T11:53:38.154Z"
   },
   {
    "duration": 12,
    "start_time": "2024-08-18T11:53:55.333Z"
   },
   {
    "duration": 12,
    "start_time": "2024-08-18T11:54:14.872Z"
   },
   {
    "duration": 4089,
    "start_time": "2024-08-18T11:56:41.687Z"
   },
   {
    "duration": 4220,
    "start_time": "2024-08-18T11:58:12.445Z"
   },
   {
    "duration": 4372,
    "start_time": "2024-08-18T11:58:23.590Z"
   },
   {
    "duration": 4366,
    "start_time": "2024-08-18T11:59:38.975Z"
   },
   {
    "duration": 4442,
    "start_time": "2024-08-18T12:00:07.762Z"
   },
   {
    "duration": 2104,
    "start_time": "2024-08-18T12:01:43.718Z"
   },
   {
    "duration": 2255,
    "start_time": "2024-08-18T12:02:00.066Z"
   },
   {
    "duration": 13,
    "start_time": "2024-08-18T12:03:29.593Z"
   },
   {
    "duration": 12,
    "start_time": "2024-08-18T12:07:12.156Z"
   },
   {
    "duration": 19,
    "start_time": "2024-08-18T12:07:26.693Z"
   },
   {
    "duration": 13,
    "start_time": "2024-08-18T12:07:36.370Z"
   },
   {
    "duration": 12,
    "start_time": "2024-08-18T12:08:14.636Z"
   },
   {
    "duration": 12,
    "start_time": "2024-08-18T12:09:39.015Z"
   },
   {
    "duration": 13,
    "start_time": "2024-08-18T12:09:56.145Z"
   },
   {
    "duration": 13,
    "start_time": "2024-08-18T12:10:04.029Z"
   },
   {
    "duration": 14,
    "start_time": "2024-08-18T12:10:07.628Z"
   },
   {
    "duration": 14,
    "start_time": "2024-08-18T12:23:33.983Z"
   },
   {
    "duration": 13,
    "start_time": "2024-08-18T12:24:22.167Z"
   },
   {
    "duration": 13,
    "start_time": "2024-08-18T12:24:54.302Z"
   },
   {
    "duration": 14,
    "start_time": "2024-08-18T12:25:27.458Z"
   },
   {
    "duration": 5,
    "start_time": "2024-08-18T12:29:22.199Z"
   },
   {
    "duration": 1278,
    "start_time": "2024-08-18T12:29:32.123Z"
   },
   {
    "duration": 20,
    "start_time": "2024-08-18T12:29:36.390Z"
   },
   {
    "duration": 16,
    "start_time": "2024-08-18T12:29:40.415Z"
   },
   {
    "duration": 15,
    "start_time": "2024-08-18T12:29:43.479Z"
   },
   {
    "duration": 12,
    "start_time": "2024-08-18T12:29:46.331Z"
   },
   {
    "duration": 15,
    "start_time": "2024-08-18T12:29:49.132Z"
   },
   {
    "duration": 13,
    "start_time": "2024-08-18T12:29:51.977Z"
   },
   {
    "duration": 15,
    "start_time": "2024-08-18T12:29:55.753Z"
   },
   {
    "duration": 18,
    "start_time": "2024-08-18T12:29:59.110Z"
   },
   {
    "duration": 17,
    "start_time": "2024-08-18T12:30:02.061Z"
   },
   {
    "duration": 19,
    "start_time": "2024-08-18T12:30:04.436Z"
   },
   {
    "duration": 11,
    "start_time": "2024-08-18T12:33:05.706Z"
   },
   {
    "duration": 10,
    "start_time": "2024-08-18T12:33:14.391Z"
   },
   {
    "duration": 12,
    "start_time": "2024-08-18T12:33:19.621Z"
   },
   {
    "duration": 393,
    "start_time": "2024-08-18T12:36:09.177Z"
   },
   {
    "duration": 11,
    "start_time": "2024-08-18T12:36:12.082Z"
   },
   {
    "duration": 10,
    "start_time": "2024-08-18T12:36:22.117Z"
   },
   {
    "duration": 7,
    "start_time": "2024-08-18T12:36:24.078Z"
   },
   {
    "duration": 9,
    "start_time": "2024-08-18T12:36:26.109Z"
   },
   {
    "duration": 19,
    "start_time": "2024-08-18T12:52:08.890Z"
   },
   {
    "duration": 8,
    "start_time": "2024-08-18T12:53:01.439Z"
   },
   {
    "duration": 15,
    "start_time": "2024-08-18T12:59:47.815Z"
   },
   {
    "duration": 7,
    "start_time": "2024-08-18T13:01:32.915Z"
   },
   {
    "duration": 11,
    "start_time": "2024-08-18T13:09:11.018Z"
   },
   {
    "duration": 6,
    "start_time": "2024-08-18T13:10:09.821Z"
   },
   {
    "duration": 8,
    "start_time": "2024-08-18T13:10:23.014Z"
   },
   {
    "duration": 9,
    "start_time": "2024-08-18T13:10:36.127Z"
   },
   {
    "duration": 2396,
    "start_time": "2024-08-18T13:15:24.278Z"
   },
   {
    "duration": 379,
    "start_time": "2024-08-18T13:16:08.536Z"
   },
   {
    "duration": 2012,
    "start_time": "2024-08-18T13:24:04.837Z"
   },
   {
    "duration": 2699,
    "start_time": "2024-08-18T13:25:16.365Z"
   },
   {
    "duration": 2562,
    "start_time": "2024-08-18T13:25:34.420Z"
   },
   {
    "duration": 559,
    "start_time": "2024-08-18T13:30:40.025Z"
   },
   {
    "duration": 4,
    "start_time": "2024-08-18T13:30:43.779Z"
   },
   {
    "duration": 241,
    "start_time": "2024-08-18T13:30:46.613Z"
   },
   {
    "duration": 54,
    "start_time": "2024-08-18T13:30:58.759Z"
   },
   {
    "duration": 5,
    "start_time": "2024-08-18T13:31:00.836Z"
   },
   {
    "duration": 9,
    "start_time": "2024-08-18T13:31:02.814Z"
   },
   {
    "duration": 17,
    "start_time": "2024-08-18T13:31:11.539Z"
   },
   {
    "duration": 5,
    "start_time": "2024-08-18T13:32:05.536Z"
   },
   {
    "duration": 5,
    "start_time": "2024-08-18T13:32:08.074Z"
   },
   {
    "duration": 17,
    "start_time": "2024-08-18T13:32:09.968Z"
   },
   {
    "duration": 5,
    "start_time": "2024-08-18T13:46:14.089Z"
   },
   {
    "duration": 879,
    "start_time": "2024-08-18T13:46:53.686Z"
   },
   {
    "duration": 4,
    "start_time": "2024-08-18T13:47:21.150Z"
   },
   {
    "duration": 17,
    "start_time": "2024-08-18T13:47:37.084Z"
   },
   {
    "duration": 370,
    "start_time": "2024-08-18T14:25:19.962Z"
   },
   {
    "duration": 380,
    "start_time": "2024-08-18T14:28:58.667Z"
   },
   {
    "duration": 1995,
    "start_time": "2024-08-18T14:29:07.597Z"
   },
   {
    "duration": 14,
    "start_time": "2024-08-18T14:32:50.849Z"
   },
   {
    "duration": 325,
    "start_time": "2024-08-18T14:33:05.012Z"
   },
   {
    "duration": 714,
    "start_time": "2024-08-18T14:33:20.626Z"
   },
   {
    "duration": 2309,
    "start_time": "2024-08-18T14:34:07.106Z"
   },
   {
    "duration": 370,
    "start_time": "2024-08-18T14:34:22.719Z"
   },
   {
    "duration": 493,
    "start_time": "2024-08-18T14:35:16.920Z"
   },
   {
    "duration": 511,
    "start_time": "2024-08-18T14:35:33.505Z"
   },
   {
    "duration": 526,
    "start_time": "2024-08-18T14:35:39.923Z"
   },
   {
    "duration": 366,
    "start_time": "2024-08-18T14:35:58.103Z"
   },
   {
    "duration": 513,
    "start_time": "2024-08-18T14:36:37.791Z"
   },
   {
    "duration": 302,
    "start_time": "2024-08-18T14:39:02.534Z"
   },
   {
    "duration": 9,
    "start_time": "2024-08-18T14:46:08.528Z"
   },
   {
    "duration": 6,
    "start_time": "2024-08-18T14:46:11.565Z"
   },
   {
    "duration": 7,
    "start_time": "2024-08-18T14:46:15.519Z"
   },
   {
    "duration": 1696,
    "start_time": "2024-08-18T14:46:26.586Z"
   },
   {
    "duration": 317,
    "start_time": "2024-08-18T14:46:38.210Z"
   },
   {
    "duration": 10,
    "start_time": "2024-08-18T14:49:55.931Z"
   },
   {
    "duration": 5,
    "start_time": "2024-08-18T14:49:58.839Z"
   },
   {
    "duration": 327,
    "start_time": "2024-08-18T14:50:03.542Z"
   },
   {
    "duration": 154,
    "start_time": "2024-08-18T15:02:29.631Z"
   },
   {
    "duration": 573,
    "start_time": "2024-08-18T15:02:40.942Z"
   },
   {
    "duration": 322,
    "start_time": "2024-08-18T15:03:00.165Z"
   },
   {
    "duration": 301,
    "start_time": "2024-08-18T15:03:32.780Z"
   },
   {
    "duration": 301,
    "start_time": "2024-08-18T15:04:09.886Z"
   },
   {
    "duration": 306,
    "start_time": "2024-08-18T15:04:47.301Z"
   },
   {
    "duration": 298,
    "start_time": "2024-08-18T15:04:59.980Z"
   },
   {
    "duration": 297,
    "start_time": "2024-08-18T15:05:03.065Z"
   },
   {
    "duration": 306,
    "start_time": "2024-08-18T15:06:12.230Z"
   },
   {
    "duration": 328,
    "start_time": "2024-08-18T15:06:59.788Z"
   },
   {
    "duration": 319,
    "start_time": "2024-08-18T15:07:06.945Z"
   },
   {
    "duration": 6205,
    "start_time": "2024-08-18T16:04:40.328Z"
   },
   {
    "duration": 770,
    "start_time": "2024-08-18T16:04:59.803Z"
   },
   {
    "duration": 520,
    "start_time": "2024-08-18T16:05:49.489Z"
   },
   {
    "duration": 349,
    "start_time": "2024-08-18T16:06:59.855Z"
   },
   {
    "duration": 514,
    "start_time": "2024-08-18T16:07:08.415Z"
   },
   {
    "duration": 292,
    "start_time": "2024-08-18T16:10:26.469Z"
   },
   {
    "duration": 315,
    "start_time": "2024-08-18T16:12:52.526Z"
   },
   {
    "duration": 300,
    "start_time": "2024-08-18T16:14:21.333Z"
   },
   {
    "duration": 653,
    "start_time": "2024-08-18T16:15:04.835Z"
   },
   {
    "duration": 676,
    "start_time": "2024-08-18T16:15:17.869Z"
   },
   {
    "duration": 2001,
    "start_time": "2024-08-18T16:15:28.470Z"
   },
   {
    "duration": 1394,
    "start_time": "2024-08-18T16:16:09.574Z"
   },
   {
    "duration": 1375,
    "start_time": "2024-08-18T16:16:36.256Z"
   },
   {
    "duration": 644,
    "start_time": "2024-08-18T16:16:59.167Z"
   },
   {
    "duration": 7,
    "start_time": "2024-08-18T16:29:08.303Z"
   },
   {
    "duration": 651,
    "start_time": "2024-08-18T16:56:36.909Z"
   },
   {
    "duration": 594,
    "start_time": "2024-08-18T16:57:31.663Z"
   },
   {
    "duration": 299,
    "start_time": "2024-08-18T17:01:25.323Z"
   },
   {
    "duration": 306,
    "start_time": "2024-08-18T17:02:04.938Z"
   },
   {
    "duration": 715,
    "start_time": "2024-08-18T17:04:01.693Z"
   },
   {
    "duration": 571,
    "start_time": "2024-08-18T17:05:20.547Z"
   },
   {
    "duration": 15,
    "start_time": "2024-08-18T17:55:42.250Z"
   },
   {
    "duration": 14,
    "start_time": "2024-08-18T18:00:33.324Z"
   },
   {
    "duration": 13,
    "start_time": "2024-08-18T18:00:42.253Z"
   },
   {
    "duration": 13,
    "start_time": "2024-08-18T18:00:45.150Z"
   },
   {
    "duration": 14,
    "start_time": "2024-08-18T18:13:37.425Z"
   },
   {
    "duration": 13,
    "start_time": "2024-08-18T18:14:00.795Z"
   },
   {
    "duration": 38,
    "start_time": "2024-08-18T18:14:09.839Z"
   },
   {
    "duration": 14,
    "start_time": "2024-08-18T18:14:14.182Z"
   },
   {
    "duration": 15,
    "start_time": "2024-08-18T18:14:19.885Z"
   },
   {
    "duration": 14,
    "start_time": "2024-08-18T18:14:28.615Z"
   },
   {
    "duration": 12,
    "start_time": "2024-08-18T18:15:27.138Z"
   },
   {
    "duration": 13,
    "start_time": "2024-08-18T18:17:47.174Z"
   },
   {
    "duration": 14,
    "start_time": "2024-08-18T18:18:07.972Z"
   },
   {
    "duration": 13,
    "start_time": "2024-08-18T18:18:37.743Z"
   },
   {
    "duration": 14,
    "start_time": "2024-08-18T18:19:35.397Z"
   },
   {
    "duration": 573,
    "start_time": "2024-08-18T18:20:28.461Z"
   },
   {
    "duration": 1449,
    "start_time": "2024-08-18T18:21:22.284Z"
   },
   {
    "duration": 34,
    "start_time": "2024-08-18T18:21:26.198Z"
   },
   {
    "duration": 15,
    "start_time": "2024-08-18T18:21:29.398Z"
   },
   {
    "duration": 6,
    "start_time": "2024-08-18T18:21:32.615Z"
   },
   {
    "duration": 15,
    "start_time": "2024-08-18T18:21:34.671Z"
   },
   {
    "duration": 12,
    "start_time": "2024-08-18T18:21:38.544Z"
   },
   {
    "duration": 15,
    "start_time": "2024-08-18T18:21:40.869Z"
   },
   {
    "duration": 14,
    "start_time": "2024-08-18T18:21:42.965Z"
   },
   {
    "duration": 25,
    "start_time": "2024-08-18T18:21:45.941Z"
   },
   {
    "duration": 18,
    "start_time": "2024-08-18T18:21:49.053Z"
   },
   {
    "duration": 18,
    "start_time": "2024-08-18T18:21:52.458Z"
   },
   {
    "duration": 11,
    "start_time": "2024-08-18T18:22:27.602Z"
   },
   {
    "duration": 19,
    "start_time": "2024-08-18T18:22:30.484Z"
   },
   {
    "duration": 41,
    "start_time": "2024-08-18T18:22:47.916Z"
   },
   {
    "duration": 8,
    "start_time": "2024-08-18T18:23:07.767Z"
   },
   {
    "duration": 7,
    "start_time": "2024-08-18T18:23:10.517Z"
   },
   {
    "duration": 9,
    "start_time": "2024-08-18T18:23:11.508Z"
   },
   {
    "duration": 11,
    "start_time": "2024-08-18T18:23:13.869Z"
   },
   {
    "duration": 10,
    "start_time": "2024-08-18T18:23:15.203Z"
   },
   {
    "duration": 12,
    "start_time": "2024-08-18T18:23:17.167Z"
   },
   {
    "duration": 7,
    "start_time": "2024-08-18T18:23:19.411Z"
   },
   {
    "duration": 6,
    "start_time": "2024-08-18T18:23:23.267Z"
   },
   {
    "duration": 5,
    "start_time": "2024-08-18T18:23:24.399Z"
   },
   {
    "duration": 5,
    "start_time": "2024-08-18T18:23:25.056Z"
   },
   {
    "duration": 6,
    "start_time": "2024-08-18T18:23:25.793Z"
   },
   {
    "duration": 11,
    "start_time": "2024-08-18T18:23:26.605Z"
   },
   {
    "duration": 14,
    "start_time": "2024-08-18T18:23:30.926Z"
   },
   {
    "duration": 396,
    "start_time": "2024-08-18T18:23:32.109Z"
   },
   {
    "duration": 311,
    "start_time": "2024-08-18T18:23:33.871Z"
   },
   {
    "duration": 2140,
    "start_time": "2024-08-18T18:23:36.730Z"
   },
   {
    "duration": 300,
    "start_time": "2024-08-18T18:23:40.715Z"
   },
   {
    "duration": 316,
    "start_time": "2024-08-18T18:24:01.664Z"
   },
   {
    "duration": 585,
    "start_time": "2024-08-18T18:24:03.150Z"
   },
   {
    "duration": 14,
    "start_time": "2024-08-18T18:24:08.308Z"
   },
   {
    "duration": 6,
    "start_time": "2024-08-18T18:44:06.861Z"
   },
   {
    "duration": 16,
    "start_time": "2024-08-18T18:46:48.745Z"
   },
   {
    "duration": 13,
    "start_time": "2024-08-18T18:47:39.963Z"
   },
   {
    "duration": 1343,
    "start_time": "2024-08-18T18:50:27.173Z"
   },
   {
    "duration": 45,
    "start_time": "2024-08-18T18:52:44.233Z"
   },
   {
    "duration": 11,
    "start_time": "2024-08-18T18:54:12.169Z"
   },
   {
    "duration": 18,
    "start_time": "2024-08-18T18:58:28.920Z"
   },
   {
    "duration": 12,
    "start_time": "2024-08-18T18:58:51.062Z"
   },
   {
    "duration": 8,
    "start_time": "2024-08-18T18:59:21.073Z"
   },
   {
    "duration": 12,
    "start_time": "2024-08-18T18:59:33.952Z"
   },
   {
    "duration": 9,
    "start_time": "2024-08-18T18:59:47.337Z"
   },
   {
    "duration": 12,
    "start_time": "2024-08-18T18:59:54.959Z"
   },
   {
    "duration": 13,
    "start_time": "2024-08-18T19:00:05.323Z"
   },
   {
    "duration": 16,
    "start_time": "2024-08-18T19:12:24.663Z"
   },
   {
    "duration": 13,
    "start_time": "2024-08-18T19:16:41.154Z"
   },
   {
    "duration": 16,
    "start_time": "2024-08-18T19:21:00.825Z"
   },
   {
    "duration": 4797,
    "start_time": "2024-08-18T21:18:42.157Z"
   },
   {
    "duration": 22,
    "start_time": "2024-08-18T21:18:46.958Z"
   },
   {
    "duration": 14,
    "start_time": "2024-08-18T21:18:46.983Z"
   },
   {
    "duration": 34,
    "start_time": "2024-08-18T21:18:47.000Z"
   },
   {
    "duration": 11,
    "start_time": "2024-08-18T21:18:47.041Z"
   },
   {
    "duration": 14,
    "start_time": "2024-08-18T21:18:47.055Z"
   },
   {
    "duration": 12,
    "start_time": "2024-08-18T21:18:47.072Z"
   },
   {
    "duration": 60,
    "start_time": "2024-08-18T21:18:47.087Z"
   },
   {
    "duration": 22,
    "start_time": "2024-08-18T21:18:47.150Z"
   },
   {
    "duration": 20,
    "start_time": "2024-08-18T21:18:47.180Z"
   },
   {
    "duration": 24,
    "start_time": "2024-08-18T21:18:47.233Z"
   },
   {
    "duration": 9,
    "start_time": "2024-08-18T21:18:47.260Z"
   },
   {
    "duration": 8,
    "start_time": "2024-08-18T21:18:47.271Z"
   },
   {
    "duration": 46,
    "start_time": "2024-08-18T21:18:47.287Z"
   },
   {
    "duration": 12,
    "start_time": "2024-08-18T21:18:47.336Z"
   },
   {
    "duration": 10,
    "start_time": "2024-08-18T21:18:47.351Z"
   },
   {
    "duration": 12,
    "start_time": "2024-08-18T21:18:47.364Z"
   },
   {
    "duration": 7,
    "start_time": "2024-08-18T21:18:47.378Z"
   },
   {
    "duration": 46,
    "start_time": "2024-08-18T21:18:47.388Z"
   },
   {
    "duration": 7,
    "start_time": "2024-08-18T21:18:47.437Z"
   },
   {
    "duration": 5,
    "start_time": "2024-08-18T21:18:47.446Z"
   },
   {
    "duration": 7,
    "start_time": "2024-08-18T21:18:47.454Z"
   },
   {
    "duration": 10,
    "start_time": "2024-08-18T21:18:47.464Z"
   },
   {
    "duration": 63,
    "start_time": "2024-08-18T21:18:47.477Z"
   },
   {
    "duration": 399,
    "start_time": "2024-08-18T21:18:47.543Z"
   },
   {
    "duration": 320,
    "start_time": "2024-08-18T21:18:47.945Z"
   },
   {
    "duration": 1957,
    "start_time": "2024-08-18T21:18:48.268Z"
   },
   {
    "duration": 14,
    "start_time": "2024-08-18T21:18:50.228Z"
   },
   {
    "duration": 390,
    "start_time": "2024-08-18T21:18:50.245Z"
   },
   {
    "duration": 302,
    "start_time": "2024-08-18T21:18:50.638Z"
   },
   {
    "duration": 589,
    "start_time": "2024-08-18T21:18:50.943Z"
   },
   {
    "duration": 19,
    "start_time": "2024-08-18T21:18:51.535Z"
   }
  ],
  "kernelspec": {
   "display_name": "Python 3 (ipykernel)",
   "language": "python",
   "name": "python3"
  },
  "language_info": {
   "codemirror_mode": {
    "name": "ipython",
    "version": 3
   },
   "file_extension": ".py",
   "mimetype": "text/x-python",
   "name": "python",
   "nbconvert_exporter": "python",
   "pygments_lexer": "ipython3",
   "version": "3.9.19"
  },
  "toc": {
   "base_numbering": 1,
   "nav_menu": {},
   "number_sections": true,
   "sideBar": true,
   "skip_h1_title": true,
   "title_cell": "Table of Contents",
   "title_sidebar": "Contents",
   "toc_cell": false,
   "toc_position": {
    "height": "calc(100% - 180px)",
    "left": "10px",
    "top": "150px",
    "width": "241.562px"
   },
   "toc_section_display": true,
   "toc_window_display": true
  }
 },
 "nbformat": 4,
 "nbformat_minor": 2
}
