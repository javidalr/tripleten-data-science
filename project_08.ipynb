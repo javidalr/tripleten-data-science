{
 "cells": [
  {
   "cell_type": "markdown",
   "metadata": {},
   "source": [
    "Hola &#x1F600;\n",
    "\n",
    "Soy **Hesus Garcia**  como \"Jesús\" pero con H. Sé que puede ser confuso al principio, pero una vez que lo recuerdes, ¡nunca lo olvidarás! &#x1F31D;\t. Como revisor de código de Triple-Ten, estoy emocionado de examinar tus proyectos y ayudarte a mejorar tus habilidades en programación. si has cometido algún error, no te preocupes, pues ¡estoy aquí para ayudarte a corregirlo y hacer que tu código brille! &#x1F31F;. Si encuentro algún detalle en tu código, te lo señalaré para que lo corrijas, ya que mi objetivo es ayudarte a prepararte para un ambiente de trabajo real, donde el líder de tu equipo actuaría de la misma manera. Si no puedes solucionar el problema, te proporcionaré más información en la próxima oportunidad. Cuando encuentres un comentario,  **por favor, no los muevas, no los modifiques ni los borres**.\n",
    "\n",
    "Revisaré cuidadosamente todas las implementaciones que has realizado para cumplir con los requisitos y te proporcionaré mis comentarios de la siguiente manera:\n",
    "\n",
    "\n",
    "<div class=\"alert alert-block alert-success\">\n",
    "<b>Comentario del revisor</b> <a class=“tocSkip”></a>\n",
    "Si todo está perfecto.\n",
    "</div>\n",
    "\n",
    "<div class=\"alert alert-block alert-warning\">\n",
    "<b>Comentario del revisor</b> <a class=“tocSkip”></a>\n",
    "Si tu código está bien pero se puede mejorar o hay algún detalle que le hace falta.\n",
    "</div>\n",
    "\n",
    "<div class=\"alert alert-block alert-danger\">\n",
    "<b>Comentario del revisor</b> <a class=“tocSkip”></a>\n",
    "Si de pronto hace falta algo o existe algún problema con tu código o conclusiones.\n",
    "</div>\n",
    "\n",
    "Puedes responderme de esta forma:\n",
    "<div class=\"alert alert-block alert-info\">\n",
    "<b>Respuesta del estudiante</b> <a class=“tocSkip”></a>\n",
    "</div>\n",
    "\n",
    "</br>\n",
    "\n",
    "**¡Empecemos!**  &#x1F680;\n",
    "\n",
    "\n"
   ]
  },
  {
   "cell_type": "markdown",
   "metadata": {
    "toc": true
   },
   "source": [
    "<h1>Table of Contents<span class=\"tocSkip\"></span></h1>\n",
    "<div class=\"toc\"><ul class=\"toc-item\"><li><span><a href=\"#Descripcion-del-Proyecto\" data-toc-modified-id=\"Descripcion-del-Proyecto-1\"><span class=\"toc-item-num\">1&nbsp;&nbsp;</span><strong>Descripcion del Proyecto</strong></a></span><ul class=\"toc-item\"><li><span><a href=\"#Problema-de-negocio\" data-toc-modified-id=\"Problema-de-negocio-1.1\"><span class=\"toc-item-num\">1.1&nbsp;&nbsp;</span>Problema de negocio</a></span></li><li><span><a href=\"#Objetivos\" data-toc-modified-id=\"Objetivos-1.2\"><span class=\"toc-item-num\">1.2&nbsp;&nbsp;</span>Objetivos</a></span></li><li><span><a href=\"#Propuesta-del-proyecto\" data-toc-modified-id=\"Propuesta-del-proyecto-1.3\"><span class=\"toc-item-num\">1.3&nbsp;&nbsp;</span>Propuesta del proyecto</a></span></li></ul></li><li><span><a href=\"#Informacion-preliminar\" data-toc-modified-id=\"Informacion-preliminar-2\"><span class=\"toc-item-num\">2&nbsp;&nbsp;</span><strong>Informacion preliminar</strong></a></span><ul class=\"toc-item\"><li><span><a href=\"#Descripcion-de-los-datos\" data-toc-modified-id=\"Descripcion-de-los-datos-2.1\"><span class=\"toc-item-num\">2.1&nbsp;&nbsp;</span>Descripcion de los datos</a></span></li><li><span><a href=\"#Ambiente-y-librerias\" data-toc-modified-id=\"Ambiente-y-librerias-2.2\"><span class=\"toc-item-num\">2.2&nbsp;&nbsp;</span>Ambiente y librerias</a></span></li><li><span><a href=\"#Carga-y-Lectura-de-los-datos\" data-toc-modified-id=\"Carga-y-Lectura-de-los-datos-2.3\"><span class=\"toc-item-num\">2.3&nbsp;&nbsp;</span>Carga y Lectura de los datos</a></span></li><li><span><a href=\"#Resumen-y-descripcion-del-dataset\" data-toc-modified-id=\"Resumen-y-descripcion-del-dataset-2.4\"><span class=\"toc-item-num\">2.4&nbsp;&nbsp;</span>Resumen y descripcion del dataset</a></span></li><li><span><a href=\"#Sintesis-del-Capitulo\" data-toc-modified-id=\"Sintesis-del-Capitulo-2.5\"><span class=\"toc-item-num\">2.5&nbsp;&nbsp;</span>Sintesis del Capitulo</a></span></li></ul></li><li><span><a href=\"#Analisis-exploratorio-de-datos\" data-toc-modified-id=\"Analisis-exploratorio-de-datos-3\"><span class=\"toc-item-num\">3&nbsp;&nbsp;</span><strong>Analisis exploratorio de datos</strong></a></span><ul class=\"toc-item\"><li><span><a href=\"#Exploracion-de-los-datos\" data-toc-modified-id=\"Exploracion-de-los-datos-3.1\"><span class=\"toc-item-num\">3.1&nbsp;&nbsp;</span>Exploracion de los datos</a></span></li><li><span><a href=\"#Distribucion-de-los-datos-de-caracteristicas-(features)\" data-toc-modified-id=\"Distribucion-de-los-datos-de-caracteristicas-(features)-3.2\"><span class=\"toc-item-num\">3.2&nbsp;&nbsp;</span>Distribucion de los datos de caracteristicas (features)</a></span></li><li><span><a href=\"#Distribucion-del-dato-objetivo-(target)\" data-toc-modified-id=\"Distribucion-del-dato-objetivo-(target)-3.3\"><span class=\"toc-item-num\">3.3&nbsp;&nbsp;</span>Distribucion del dato objetivo (target)</a></span></li><li><span><a href=\"#Sintesis-del-Capitulo\" data-toc-modified-id=\"Sintesis-del-Capitulo-3.4\"><span class=\"toc-item-num\">3.4&nbsp;&nbsp;</span>Sintesis del Capitulo</a></span></li></ul></li><li><span><a href=\"#Particion-de-datos\" data-toc-modified-id=\"Particion-de-datos-4\"><span class=\"toc-item-num\">4&nbsp;&nbsp;</span><strong>Particion de datos</strong></a></span><ul class=\"toc-item\"><li><span><a href=\"#Variable-carateristicas(features)-y-objetivo(target)\" data-toc-modified-id=\"Variable-carateristicas(features)-y-objetivo(target)-4.1\"><span class=\"toc-item-num\">4.1&nbsp;&nbsp;</span>Variable carateristicas(features) y objetivo(target)</a></span></li><li><span><a href=\"#Conjuntos-de-entrenamiento,-validacion-y-prueba\" data-toc-modified-id=\"Conjuntos-de-entrenamiento,-validacion-y-prueba-4.2\"><span class=\"toc-item-num\">4.2&nbsp;&nbsp;</span>Conjuntos de entrenamiento, validacion y prueba</a></span></li><li><span><a href=\"#Sintesis-del-Capitulo\" data-toc-modified-id=\"Sintesis-del-Capitulo-4.3\"><span class=\"toc-item-num\">4.3&nbsp;&nbsp;</span>Sintesis del Capitulo</a></span></li></ul></li><li><span><a href=\"#Modelos\" data-toc-modified-id=\"Modelos-5\"><span class=\"toc-item-num\">5&nbsp;&nbsp;</span><strong>Modelos</strong></a></span><ul class=\"toc-item\"><li><span><a href=\"#Arbol-de-decision-(Decision-Tree)\" data-toc-modified-id=\"Arbol-de-decision-(Decision-Tree)-5.1\"><span class=\"toc-item-num\">5.1&nbsp;&nbsp;</span>Arbol de decision (Decision Tree)</a></span></li><li><span><a href=\"#Bosque-Aleatorio-(Random-Forest)\" data-toc-modified-id=\"Bosque-Aleatorio-(Random-Forest)-5.2\"><span class=\"toc-item-num\">5.2&nbsp;&nbsp;</span>Bosque Aleatorio (Random Forest)</a></span></li><li><span><a href=\"#Regresion-Logistica-(Logistic-Regression)\" data-toc-modified-id=\"Regresion-Logistica-(Logistic-Regression)-5.3\"><span class=\"toc-item-num\">5.3&nbsp;&nbsp;</span>Regresion Logistica (Logistic Regression)</a></span></li><li><span><a href=\"#Sintesis-del-Capitulo\" data-toc-modified-id=\"Sintesis-del-Capitulo-5.4\"><span class=\"toc-item-num\">5.4&nbsp;&nbsp;</span>Sintesis del Capitulo</a></span></li></ul></li><li><span><a href=\"#Probando-el-modelo\" data-toc-modified-id=\"Probando-el-modelo-6\"><span class=\"toc-item-num\">6&nbsp;&nbsp;</span><strong>Probando el modelo</strong></a></span><ul class=\"toc-item\"><li><span><a href=\"#Aplicacion-del-modelo-seleccionado\" data-toc-modified-id=\"Aplicacion-del-modelo-seleccionado-6.1\"><span class=\"toc-item-num\">6.1&nbsp;&nbsp;</span>Aplicacion del modelo seleccionado</a></span></li><li><span><a href=\"#Sintesis-del-Capitulo\" data-toc-modified-id=\"Sintesis-del-Capitulo-6.2\"><span class=\"toc-item-num\">6.2&nbsp;&nbsp;</span>Sintesis del Capitulo</a></span></li></ul></li><li><span><a href=\"#Analisis-de-Cordura\" data-toc-modified-id=\"Analisis-de-Cordura-7\"><span class=\"toc-item-num\">7&nbsp;&nbsp;</span><strong>Analisis de Cordura</strong></a></span><ul class=\"toc-item\"><li><span><a href=\"#Proporcion-real-versus-predecida\" data-toc-modified-id=\"Proporcion-real-versus-predecida-7.1\"><span class=\"toc-item-num\">7.1&nbsp;&nbsp;</span>Proporcion real versus predecida</a></span></li><li><span><a href=\"#Sintesis-del-Capitulo\" data-toc-modified-id=\"Sintesis-del-Capitulo-7.2\"><span class=\"toc-item-num\">7.2&nbsp;&nbsp;</span>Sintesis del Capitulo</a></span></li></ul></li><li><span><a href=\"#Conclusion-General\" data-toc-modified-id=\"Conclusion-General-8\"><span class=\"toc-item-num\">8&nbsp;&nbsp;</span><strong>Conclusion General</strong></a></span></li></ul></div>"
   ]
  },
  {
   "cell_type": "markdown",
   "metadata": {},
   "source": [
    "<h1><strong><center><u>Megaline</u></center></strong></h1>"
   ]
  },
  {
   "cell_type": "markdown",
   "metadata": {},
   "source": [
    "## **Descripcion del Proyecto**"
   ]
  },
  {
   "cell_type": "markdown",
   "metadata": {},
   "source": [
    "### Problema de negocio\n",
    "\n",
    "Megaline, una compania movil de telecomunicaciones, esta disgustada con los clientes que aun no contratan los nuevos planes de servicios que esta ofreciendo la compania, por lo que han decidido crear un modelo que ajuste mas la oferta para sus clientes y asi poder acelerar el traspaso a los nuevos planes Smart o Ultra."
   ]
  },
  {
   "cell_type": "markdown",
   "metadata": {},
   "source": [
    "### Objetivos\n",
    "\n",
    "- Encontrar y analizar patrones de clientes tienen los nuevos planes ofrecidos por Megaline (Smart y Ultra).\n",
    "- Desplegar y elegir un modelo de machine learning, para realizar el estudio de los usuarios.\n",
    "- Utilizar el modelo para recomendar ofertas ajustadas a los requerimientos de cada cliente."
   ]
  },
  {
   "cell_type": "markdown",
   "metadata": {},
   "source": [
    "### Propuesta del proyecto\n",
    "\n",
    "Anteriormente, ya fue elaborado el preprocesamiento y el analisis estadistico de los datos, asumiendo que estos fueron realizados correctamente, se procede directamente a realizar el modelo de machine learning.\n",
    "\n",
    "Proyecto de clasificacion, para predecir una oferta mas ajustada a las demandas de los clientes que aun no concretan su paso a estos nuevos planes.\n",
    "\n",
    "El objetivo esta en elaborar un modelo con un minimo de precision del 75% para el proyecto."
   ]
  },
  {
   "cell_type": "markdown",
   "metadata": {},
   "source": [
    "<div class=\"alert alert-block alert-success\"> <b>Comentario del revisor</b> <a class=\"tocSkip\"></a>\n",
    "    \n",
    "¡Excelente introducción al proyecto! La problemática de negocio está claramente definida, y los objetivos son precisos y accionables. Es fundamental que el modelo que desarrolles pueda mejorar la transición de los clientes a los nuevos planes, y has planteado correctamente la meta de alcanzar una precisión mínima del 75%. ¡Muy buen enfoque!\n",
    "\n",
    "</div>"
   ]
  },
  {
   "cell_type": "markdown",
   "metadata": {},
   "source": [
    "## **Informacion preliminar**"
   ]
  },
  {
   "cell_type": "markdown",
   "metadata": {},
   "source": [
    "### Descripcion de los datos\n",
    "\n",
    "El conjunto de datos esta diponible en el archivo 'users_behavior.csv', y se compone de las siguientes caracteristicas, que representan el uso del servicio por cada usuario en el mes.\n",
    "\n",
    "    calls - número de llamadas\n",
    "    minutes - duración total de la llamada en minutos\n",
    "    messages - número de mensajes de texto\n",
    "    mb_used - Tráfico de Internet utilizado en MB\n",
    "    is_ultra - plan para el mes actual (Ultra - 1, Smart - 0)"
   ]
  },
  {
   "cell_type": "markdown",
   "metadata": {},
   "source": [
    "### Ambiente y librerias"
   ]
  },
  {
   "cell_type": "code",
   "execution_count": 1,
   "metadata": {},
   "outputs": [
    {
     "name": "stdout",
     "output_type": "stream",
     "text": [
      "Python 3.10.8\r\n"
     ]
    }
   ],
   "source": [
    "# Ambiente en Python\n",
    "\n",
    "!python --version"
   ]
  },
  {
   "cell_type": "code",
   "execution_count": 2,
   "metadata": {},
   "outputs": [],
   "source": [
    "# Importando librerias\n",
    "\n",
    "# Manipulacion y preprocesamiento de datos \n",
    "import pandas as pd\n",
    "import numpy as np\n",
    "from sklearn.model_selection import train_test_split\n",
    "\n",
    "# Visualizacion\n",
    "import matplotlib.pyplot as plt\n",
    "import seaborn as sns\n",
    "\n",
    "# Modelos ML\n",
    "from sklearn.tree import DecisionTreeClassifier\n",
    "from sklearn.ensemble import RandomForestClassifier\n",
    "from sklearn.linear_model import LogisticRegression\n",
    "\n",
    "# Evaluacion de modelos ML\n",
    "from sklearn.metrics import accuracy_score\n",
    "\n",
    "# Elimina mensajes de advertencia\n",
    "import warnings\n",
    "warnings.filterwarnings('ignore')"
   ]
  },
  {
   "cell_type": "markdown",
   "metadata": {},
   "source": [
    "### Carga y Lectura de los datos"
   ]
  },
  {
   "cell_type": "code",
   "execution_count": 3,
   "metadata": {},
   "outputs": [],
   "source": [
    "# Cargando dataset en variable df \n",
    "\n",
    "df = pd.read_csv('/datasets/users_behavior.csv')"
   ]
  },
  {
   "cell_type": "code",
   "execution_count": 4,
   "metadata": {},
   "outputs": [
    {
     "data": {
      "text/html": [
       "<div>\n",
       "<style scoped>\n",
       "    .dataframe tbody tr th:only-of-type {\n",
       "        vertical-align: middle;\n",
       "    }\n",
       "\n",
       "    .dataframe tbody tr th {\n",
       "        vertical-align: top;\n",
       "    }\n",
       "\n",
       "    .dataframe thead th {\n",
       "        text-align: right;\n",
       "    }\n",
       "</style>\n",
       "<table border=\"1\" class=\"dataframe\">\n",
       "  <thead>\n",
       "    <tr style=\"text-align: right;\">\n",
       "      <th></th>\n",
       "      <th>calls</th>\n",
       "      <th>minutes</th>\n",
       "      <th>messages</th>\n",
       "      <th>mb_used</th>\n",
       "      <th>is_ultra</th>\n",
       "    </tr>\n",
       "  </thead>\n",
       "  <tbody>\n",
       "    <tr>\n",
       "      <th>0</th>\n",
       "      <td>40.0</td>\n",
       "      <td>311.90</td>\n",
       "      <td>83.0</td>\n",
       "      <td>19915.42</td>\n",
       "      <td>0</td>\n",
       "    </tr>\n",
       "    <tr>\n",
       "      <th>1</th>\n",
       "      <td>85.0</td>\n",
       "      <td>516.75</td>\n",
       "      <td>56.0</td>\n",
       "      <td>22696.96</td>\n",
       "      <td>0</td>\n",
       "    </tr>\n",
       "    <tr>\n",
       "      <th>2</th>\n",
       "      <td>77.0</td>\n",
       "      <td>467.66</td>\n",
       "      <td>86.0</td>\n",
       "      <td>21060.45</td>\n",
       "      <td>0</td>\n",
       "    </tr>\n",
       "    <tr>\n",
       "      <th>3</th>\n",
       "      <td>106.0</td>\n",
       "      <td>745.53</td>\n",
       "      <td>81.0</td>\n",
       "      <td>8437.39</td>\n",
       "      <td>1</td>\n",
       "    </tr>\n",
       "    <tr>\n",
       "      <th>4</th>\n",
       "      <td>66.0</td>\n",
       "      <td>418.74</td>\n",
       "      <td>1.0</td>\n",
       "      <td>14502.75</td>\n",
       "      <td>0</td>\n",
       "    </tr>\n",
       "  </tbody>\n",
       "</table>\n",
       "</div>"
      ],
      "text/plain": [
       "   calls  minutes  messages   mb_used  is_ultra\n",
       "0   40.0   311.90      83.0  19915.42         0\n",
       "1   85.0   516.75      56.0  22696.96         0\n",
       "2   77.0   467.66      86.0  21060.45         0\n",
       "3  106.0   745.53      81.0   8437.39         1\n",
       "4   66.0   418.74       1.0  14502.75         0"
      ]
     },
     "execution_count": 4,
     "metadata": {},
     "output_type": "execute_result"
    }
   ],
   "source": [
    "# Revisando la carga de datos\n",
    "\n",
    "df.head()"
   ]
  },
  {
   "cell_type": "markdown",
   "metadata": {},
   "source": [
    "### Resumen y descripcion del dataset "
   ]
  },
  {
   "cell_type": "code",
   "execution_count": 5,
   "metadata": {},
   "outputs": [
    {
     "name": "stdout",
     "output_type": "stream",
     "text": [
      "<class 'pandas.core.frame.DataFrame'>\n",
      "RangeIndex: 3214 entries, 0 to 3213\n",
      "Data columns (total 5 columns):\n",
      " #   Column    Non-Null Count  Dtype  \n",
      "---  ------    --------------  -----  \n",
      " 0   calls     3214 non-null   float64\n",
      " 1   minutes   3214 non-null   float64\n",
      " 2   messages  3214 non-null   float64\n",
      " 3   mb_used   3214 non-null   float64\n",
      " 4   is_ultra  3214 non-null   int64  \n",
      "dtypes: float64(4), int64(1)\n",
      "memory usage: 125.7 KB\n"
     ]
    }
   ],
   "source": [
    "# Resumen general del dataset\n",
    "\n",
    "df.info()"
   ]
  },
  {
   "cell_type": "code",
   "execution_count": 6,
   "metadata": {},
   "outputs": [
    {
     "data": {
      "text/html": [
       "<div>\n",
       "<style scoped>\n",
       "    .dataframe tbody tr th:only-of-type {\n",
       "        vertical-align: middle;\n",
       "    }\n",
       "\n",
       "    .dataframe tbody tr th {\n",
       "        vertical-align: top;\n",
       "    }\n",
       "\n",
       "    .dataframe thead th {\n",
       "        text-align: right;\n",
       "    }\n",
       "</style>\n",
       "<table border=\"1\" class=\"dataframe\">\n",
       "  <thead>\n",
       "    <tr style=\"text-align: right;\">\n",
       "      <th></th>\n",
       "      <th>calls</th>\n",
       "      <th>minutes</th>\n",
       "      <th>messages</th>\n",
       "      <th>mb_used</th>\n",
       "      <th>is_ultra</th>\n",
       "    </tr>\n",
       "  </thead>\n",
       "  <tbody>\n",
       "    <tr>\n",
       "      <th>count</th>\n",
       "      <td>3214.000000</td>\n",
       "      <td>3214.000000</td>\n",
       "      <td>3214.000000</td>\n",
       "      <td>3214.000000</td>\n",
       "      <td>3214.000000</td>\n",
       "    </tr>\n",
       "    <tr>\n",
       "      <th>mean</th>\n",
       "      <td>63.038892</td>\n",
       "      <td>438.208787</td>\n",
       "      <td>38.281269</td>\n",
       "      <td>17207.673836</td>\n",
       "      <td>0.306472</td>\n",
       "    </tr>\n",
       "    <tr>\n",
       "      <th>std</th>\n",
       "      <td>33.236368</td>\n",
       "      <td>234.569872</td>\n",
       "      <td>36.148326</td>\n",
       "      <td>7570.968246</td>\n",
       "      <td>0.461100</td>\n",
       "    </tr>\n",
       "    <tr>\n",
       "      <th>min</th>\n",
       "      <td>0.000000</td>\n",
       "      <td>0.000000</td>\n",
       "      <td>0.000000</td>\n",
       "      <td>0.000000</td>\n",
       "      <td>0.000000</td>\n",
       "    </tr>\n",
       "    <tr>\n",
       "      <th>25%</th>\n",
       "      <td>40.000000</td>\n",
       "      <td>274.575000</td>\n",
       "      <td>9.000000</td>\n",
       "      <td>12491.902500</td>\n",
       "      <td>0.000000</td>\n",
       "    </tr>\n",
       "    <tr>\n",
       "      <th>50%</th>\n",
       "      <td>62.000000</td>\n",
       "      <td>430.600000</td>\n",
       "      <td>30.000000</td>\n",
       "      <td>16943.235000</td>\n",
       "      <td>0.000000</td>\n",
       "    </tr>\n",
       "    <tr>\n",
       "      <th>75%</th>\n",
       "      <td>82.000000</td>\n",
       "      <td>571.927500</td>\n",
       "      <td>57.000000</td>\n",
       "      <td>21424.700000</td>\n",
       "      <td>1.000000</td>\n",
       "    </tr>\n",
       "    <tr>\n",
       "      <th>max</th>\n",
       "      <td>244.000000</td>\n",
       "      <td>1632.060000</td>\n",
       "      <td>224.000000</td>\n",
       "      <td>49745.730000</td>\n",
       "      <td>1.000000</td>\n",
       "    </tr>\n",
       "  </tbody>\n",
       "</table>\n",
       "</div>"
      ],
      "text/plain": [
       "             calls      minutes     messages       mb_used     is_ultra\n",
       "count  3214.000000  3214.000000  3214.000000   3214.000000  3214.000000\n",
       "mean     63.038892   438.208787    38.281269  17207.673836     0.306472\n",
       "std      33.236368   234.569872    36.148326   7570.968246     0.461100\n",
       "min       0.000000     0.000000     0.000000      0.000000     0.000000\n",
       "25%      40.000000   274.575000     9.000000  12491.902500     0.000000\n",
       "50%      62.000000   430.600000    30.000000  16943.235000     0.000000\n",
       "75%      82.000000   571.927500    57.000000  21424.700000     1.000000\n",
       "max     244.000000  1632.060000   224.000000  49745.730000     1.000000"
      ]
     },
     "execution_count": 6,
     "metadata": {},
     "output_type": "execute_result"
    }
   ],
   "source": [
    "# Descripcion estadistica del dataset\n",
    "\n",
    "df.describe()"
   ]
  },
  {
   "cell_type": "markdown",
   "metadata": {},
   "source": [
    "### Sintesis del Capitulo\n",
    "\n",
    "El set dedatos contiene 5 variables y 3214 registros, los valores de media y promedio esta proximos entre si lo que indica una distribucion aproximadamente normal, sin valores atipicos.\n",
    "\n",
    "Se concluye que el dataset esta listo para realizar el analisis exploratorio."
   ]
  },
  {
   "cell_type": "markdown",
   "metadata": {},
   "source": [
    "<div class=\"alert alert-block alert-success\"> <b>Comentario del revisor</b> <a class=\"tocSkip\"></a>\n",
    "    \n",
    "Muy bien estructurada la sección sobre la descripción de los datos. Has importado correctamente las librerías y cargado los datos de manera eficiente. También es positivo que hayas realizado un resumen estadístico del dataset, lo que te da una buena visión del comportamiento general de las variables.\n",
    "\n",
    "</div>"
   ]
  },
  {
   "cell_type": "markdown",
   "metadata": {},
   "source": [
    "## **Analisis exploratorio de datos**"
   ]
  },
  {
   "cell_type": "markdown",
   "metadata": {},
   "source": [
    "### Exploracion de los datos"
   ]
  },
  {
   "cell_type": "code",
   "execution_count": 7,
   "metadata": {},
   "outputs": [
    {
     "data": {
      "text/plain": [
       "calls       0\n",
       "minutes     0\n",
       "messages    0\n",
       "mb_used     0\n",
       "is_ultra    0\n",
       "dtype: int64"
      ]
     },
     "execution_count": 7,
     "metadata": {},
     "output_type": "execute_result"
    }
   ],
   "source": [
    "# Verificacion valores ausentes\n",
    "\n",
    "df.isna().sum()"
   ]
  },
  {
   "cell_type": "code",
   "execution_count": 8,
   "metadata": {},
   "outputs": [
    {
     "data": {
      "text/plain": [
       "0"
      ]
     },
     "execution_count": 8,
     "metadata": {},
     "output_type": "execute_result"
    }
   ],
   "source": [
    "# Verificacion valores duplicados\n",
    "\n",
    "df.duplicated().sum()"
   ]
  },
  {
   "cell_type": "code",
   "execution_count": 9,
   "metadata": {},
   "outputs": [
    {
     "data": {
      "text/plain": [
       "0    2229\n",
       "1     985\n",
       "Name: is_ultra, dtype: int64"
      ]
     },
     "execution_count": 9,
     "metadata": {},
     "output_type": "execute_result"
    }
   ],
   "source": [
    "# Valores de la variable objetivo\n",
    "\n",
    "df['is_ultra'].value_counts()"
   ]
  },
  {
   "cell_type": "markdown",
   "metadata": {},
   "source": [
    "### Distribucion de los datos de caracteristicas (features)"
   ]
  },
  {
   "cell_type": "code",
   "execution_count": 29,
   "metadata": {
    "scrolled": true
   },
   "outputs": [
    {
     "data": {
      "image/png": "[encoded data removed]",
      "text/plain": [
       "<Figure size 800x600 with 4 Axes>"
      ]
     },
     "metadata": {},
     "output_type": "display_data"
    }
   ],
   "source": [
    "# Crea histogramas con la distribucion de cada variable caracteristica del dataset\n",
    "\n",
    "fig, axs = plt.subplots(2, 2, figsize = (8,6))\n",
    "fig.suptitle('Distribucion de los datos de caracteristicas (features)', fontsize = 16, fontweight = 'bold')\n",
    "\n",
    "sns.histplot(x = df['calls'], ax = axs[0][0], color = 'skyblue')\n",
    "axs[0][0].set_title('Cantidad de llamadas', fontsize = 14, fontweight = 'bold')\n",
    "axs[0][0].set_xlabel('Cantidad de llamadas')\n",
    "axs[0][0].set_ylabel('Clientes')\n",
    "\n",
    "sns.histplot(x = df['minutes'], ax = axs[0][1], color = 'skyblue')\n",
    "axs[0][1].set_title('Duracion de llamadas', fontsize = 14, fontweight = 'bold')\n",
    "axs[0][1].set_xlabel('Minutos')\n",
    "axs[0][1].set_ylabel('Clientes')\n",
    "\n",
    "sns.histplot(x = df['messages'], ax = axs[1][0], color = 'skyblue')\n",
    "axs[1][0].set_title('Mensajes enviados', fontsize = 14, fontweight = 'bold')\n",
    "axs[1][0].set_xlabel('Numero de Mensajes enviados')\n",
    "axs[1][0].set_ylabel('Clientes')\n",
    "\n",
    "sns.histplot(x = df['mb_used'], ax = axs[1][1], color = 'skyblue')\n",
    "axs[1][1].set_title('Volumen de Trafico de Internet', fontsize = 14, fontweight = 'bold')\n",
    "axs[1][1].set_xlabel('MB usados')\n",
    "axs[1][1].set_ylabel('Clientes')\n",
    "\n",
    "plt.tight_layout()\n",
    "plt.show()"
   ]
  },
  {
   "cell_type": "markdown",
   "metadata": {},
   "source": [
    "<div class=\"alert alert-block alert-success\"> <b>Comentario del revisor</b> <a class=\"tocSkip\"></a>\n",
    "    \n",
    "¡Gran trabajo con las visualizaciones de las características! Los gráficos permiten una clara comprensión de la distribución de las variables clave como el número de llamadas, la duración, los mensajes enviados y el volumen de tráfico de Internet. Se puede notar la forma en que cada variable se comporta con diferentes patrones, lo que será muy útil para los análisis posteriores. Además, es excelente cómo has resaltado las diferencias en cada una de las características, facilitando la interpretación del comportamiento de los clientes. ¡Sigue así, estás haciendo un excelente trabajo! 😊\n",
    "\n",
    "</div>"
   ]
  },
  {
   "cell_type": "markdown",
   "metadata": {},
   "source": [
    "### Distribucion del dato objetivo (target)"
   ]
  },
  {
   "cell_type": "code",
   "execution_count": 11,
   "metadata": {},
   "outputs": [
    {
     "data": {
      "image/png": "[encoded data removed]",
      "text/plain": [
       "<Figure size 400x400 with 1 Axes>"
      ]
     },
     "metadata": {},
     "output_type": "display_data"
    }
   ],
   "source": [
    "# Crea histograma con la distribucion de la variable objetivo del dataset\n",
    "\n",
    "plt.figure(figsize=(4,4))\n",
    "\n",
    "sns.countplot(x = 'is_ultra', data = df, palette='husl').set_xticklabels(['0: Smart','1: Ultra'])\n",
    "plt.title('Distribucion de datos objetivo (target)', fontsize=14, fontweight='bold')\n",
    "plt.xlabel('Plan', fontsize=12)\n",
    "plt.ylabel('Clientes', fontsize=12)\n",
    "plt.show()"
   ]
  },
  {
   "cell_type": "markdown",
   "metadata": {},
   "source": [
    "### Sintesis del Capitulo\n",
    "\n",
    "El dataset, no contiene valores ausentes ni tampoco valores duplicados, y el plan Smart es el servicio mas utilizado por los clientes de la compania.\n",
    "\n",
    "Las distribuciones de los datos son perfectamente normales, ya que en la grafica de mensajes, existe gran cantidad de clientes que no los utiliza, impactando la distribucion de esta variable.\n",
    "\n",
    "Por ultimo, se aprecia que los datos estan desbalanceados, ya que la distribucion de los clientes entre los planes, tienen una relacion de 70% tiene plan Smart y 30% tiene plan Ultra.\n",
    "\n",
    "Se procede a relizar la particion del conjunto de datos."
   ]
  },
  {
   "cell_type": "markdown",
   "metadata": {},
   "source": [
    "<div class=\"alert alert-block alert-success\"> <b>Comentario del revisor</b> <a class=\"tocSkip\"></a>\n",
    "Tu análisis exploratorio es completo y detallado. La visualización de las distribuciones mediante histogramas es clara y facilita el entendimiento de cómo se comportan las diferentes variables. Además, has verificado correctamente los valores faltantes y duplicados. ¡Gran manejo del análisis exploratorio!\n",
    "\n",
    "</div> <div class=\"alert alert-block alert-warning\"> <b>Comentario del revisor</b> <a class=\"tocSkip\"></a>\n",
    "Aunque mencionas que las distribuciones de los datos son \"perfectamente normales\", sería útil corroborar esta afirmación utilizando pruebas estadísticas como la de Shapiro-Wilk o visualizando gráficos de QQ plot, para tener mayor precisión en tu análisis.\n",
    "\n",
    "</div>"
   ]
  },
  {
   "cell_type": "markdown",
   "metadata": {},
   "source": [
    "## **Particion de datos**"
   ]
  },
  {
   "cell_type": "markdown",
   "metadata": {},
   "source": [
    "En este proyecto, se tiene un solo set de datos, por lo que se realizara la particon de este para obtener los conjuntos necesario para realizar el modelado y testeo respectivo.\n",
    "\n",
    "Para ello, se utilizara la funcion \"train_test_split\" de la libreria \"Scikit-learn\" y su modulo \"model_selection\", la cual se empleara 2 veces para obtener los 3 conjuntos. "
   ]
  },
  {
   "cell_type": "markdown",
   "metadata": {},
   "source": [
    "### Variable carateristicas(features) y objetivo(target)"
   ]
  },
  {
   "cell_type": "code",
   "execution_count": 12,
   "metadata": {},
   "outputs": [],
   "source": [
    "# Almacenando en variables, las columnas con datos de caracteristicas(features) y la columna objetivo(target)\n",
    "\n",
    "features = df.drop('is_ultra', axis = 1)\n",
    "target = df['is_ultra']"
   ]
  },
  {
   "cell_type": "markdown",
   "metadata": {},
   "source": [
    "### Conjuntos de entrenamiento, validacion y prueba"
   ]
  },
  {
   "cell_type": "code",
   "execution_count": 13,
   "metadata": {},
   "outputs": [],
   "source": [
    "# Obteniendo el dataset de entrenamiento\n",
    "\n",
    "features_train, features_temp = train_test_split(features, test_size = 0.3, random_state = 200)\n",
    "\n",
    "target_train, target_temp = train_test_split(target, test_size = 0.3, random_state = 200)"
   ]
  },
  {
   "cell_type": "code",
   "execution_count": 14,
   "metadata": {},
   "outputs": [],
   "source": [
    "## conjuntos de validacion y prueba\n",
    "\n",
    "features_valid, features_test = train_test_split(features_temp, test_size = 0.5, random_state = 200)\n",
    "\n",
    "target_valid, target_test = train_test_split(target_temp, test_size = 0.5, random_state = 200)"
   ]
  },
  {
   "cell_type": "code",
   "execution_count": 15,
   "metadata": {},
   "outputs": [
    {
     "name": "stdout",
     "output_type": "stream",
     "text": [
      "(2249, 4)\n",
      "(482, 4)\n",
      "(483, 4)\n"
     ]
    }
   ],
   "source": [
    "# Comprobando particion de caracteristicas\n",
    "\n",
    "print(features_train.shape)\n",
    "print(features_valid.shape)\n",
    "print(features_test.shape)"
   ]
  },
  {
   "cell_type": "code",
   "execution_count": 16,
   "metadata": {},
   "outputs": [
    {
     "name": "stdout",
     "output_type": "stream",
     "text": [
      "(2249,)\n",
      "(482,)\n",
      "(483,)\n"
     ]
    }
   ],
   "source": [
    "# Comprobando particion de objetivos\n",
    "\n",
    "print(target_train.shape)\n",
    "print(target_valid.shape)\n",
    "print(target_test.shape)"
   ]
  },
  {
   "cell_type": "markdown",
   "metadata": {},
   "source": [
    "### Sintesis del Capitulo\n",
    "\n",
    "Se realizo la particion de los datos, dejando los conjuntos en la siguiente proporcion, datos de entrenamiento 70%, datos de validacion 15%, y datos de prueba 15%, ya que al tener mayor cantidad de datos para entrenar el modelo tiende a tener mayor precision en las predicciones con los otros set de datos.\n",
    "\n",
    "Ademas, se dividen los conjuntos, separando la variable objetivo de estos, por lo que finalmente se obtienen 6 sets de datos para el proyecto."
   ]
  },
  {
   "cell_type": "markdown",
   "metadata": {},
   "source": [
    "<div class=\"alert alert-block alert-success\"> <b>Comentario del revisor</b> <a class=\"tocSkip\"></a>\n",
    "    \n",
    "La partición de los datos está bien ejecutada, separando los datos de manera adecuada entre entrenamiento, validación y prueba. Has utilizado correctamente la función train_test_split para garantizar que cada conjunto de datos esté bien balanceado. Esto es clave para asegurar que el modelo generalice correctamente. ¡Buen trabajo!\n",
    "\n",
    "</div>"
   ]
  },
  {
   "cell_type": "markdown",
   "metadata": {},
   "source": [
    "## **Modelos**\n",
    "\n",
    "Para resolver el problema de esta empresa de telecomunicaciones, se emplearan 3 modelos \n",
    "\n",
    "- Arbol de decision (DecisionTreeClassifier)\n",
    "- Bosque Aleatorio (RandomForestClassifier)\n",
    "- Regresion Logistica (LogisticRegression)\n",
    "\n",
    "Para ello, se utilizaran los conjutos particionados en el capitulo anterior, con los cuales se entrenaran, validaran y probaran los modelos, a su vez se modificaran sus parametros con el fin de lograr la mayor performance de estos en la prediccion de la variable objetivo."
   ]
  },
  {
   "cell_type": "markdown",
   "metadata": {},
   "source": [
    "### Arbol de decision (Decision Tree)\n",
    "\n",
    "Este primer modelo, se emplearan 2 parametros en el modelo, el primero \"random_state\" que se establecera en 200, y el segundo es \"max_depth\", el cual indica la profundidad maxima del arbol que crea el modelo.\n",
    "\n",
    "Para verificar si existe sobreajuste o subajuste, se realizan 2 modelo, el primero sin ajuste de hiperparametros, y el segundo con ajuste de hiperparametros, con este se llegara al nivel 10 buscando la mayor precision del modelo. "
   ]
  },
  {
   "cell_type": "code",
   "execution_count": 17,
   "metadata": {},
   "outputs": [
    {
     "name": "stdout",
     "output_type": "stream",
     "text": [
      "La exactitud del modelo usando los datos de entrenamiento es: 100.0%\n",
      "\n",
      "La exactitud del modelo usando los datos de validacion es: 74.2739%\n"
     ]
    }
   ],
   "source": [
    "# Entrenamiento del modelo DecisionTreeClassifier\n",
    "\n",
    "dectre_model = DecisionTreeClassifier()\n",
    "dectre_model.fit(features_train,target_train)\n",
    "\n",
    "dectree_predict_train = dectre_model.predict(features_train)\n",
    "dectree_predict_valid = dectre_model.predict(features_valid)\n",
    "\n",
    "print(f'La exactitud del modelo usando los datos de entrenamiento es: {accuracy_score(target_train, dectree_predict_train)*100}%')\n",
    "print()\n",
    "print(f'La exactitud del modelo usando los datos de validacion es: {accuracy_score(target_valid, dectree_predict_valid)*100:.4f}%')"
   ]
  },
  {
   "cell_type": "code",
   "execution_count": 18,
   "metadata": {},
   "outputs": [
    {
     "name": "stdout",
     "output_type": "stream",
     "text": [
      "max_depth = 1 : Exactitud datos entrenamiento es: 75.1445; Exactitud datos validacion: 73.8589%\n",
      "max_depth = 2 : Exactitud datos entrenamiento es: 77.9458; Exactitud datos validacion: 78.6307%\n",
      "max_depth = 3 : Exactitud datos entrenamiento es: 79.5909; Exactitud datos validacion: 79.6680%\n",
      "max_depth = 4 : Exactitud datos entrenamiento es: 80.0356; Exactitud datos validacion: 77.3859%\n",
      "max_depth = 5 : Exactitud datos entrenamiento es: 82.1699; Exactitud datos validacion: 76.9710%\n",
      "max_depth = 6 : Exactitud datos entrenamiento es: 83.0147; Exactitud datos validacion: 79.2531%\n",
      "max_depth = 7 : Exactitud datos entrenamiento es: 84.4820; Exactitud datos validacion: 78.2158%\n",
      "max_depth = 8 : Exactitud datos entrenamiento es: 85.9493; Exactitud datos validacion: 77.5934%\n",
      "max_depth = 9 : Exactitud datos entrenamiento es: 87.0165; Exactitud datos validacion: 77.1784%\n",
      "max_depth = 10 : Exactitud datos entrenamiento es: 88.5282; Exactitud datos validacion: 78.0083%\n"
     ]
    }
   ],
   "source": [
    "# Modificacion de Hiperparametros\n",
    "\n",
    "iter = 10\n",
    "for depth in range(1,iter + 1):\n",
    "    dectree_model = DecisionTreeClassifier(random_state = 200, max_depth = depth)\n",
    "    dectree_model.fit(features_train, target_train)\n",
    "    \n",
    "    dectree_predict_train = dectree_model.predict(features_train) \n",
    "    dectree_predict_valid = dectree_model.predict(features_valid)\n",
    "    \n",
    "    acc_dectree_train = accuracy_score(target_train, dectree_predict_train)*100\n",
    "    acc_dectree_valid = accuracy_score(target_valid, dectree_predict_valid)*100\n",
    "\n",
    "    print('max_depth =', depth, ': ', end='')\n",
    "    print(f'Exactitud datos entrenamiento es: {acc_dectree_train:.4f}; Exactitud datos validacion: {acc_dectree_valid:.4f}%')"
   ]
  },
  {
   "cell_type": "markdown",
   "metadata": {},
   "source": [
    "<div class=\"alert alert-block alert-success\"> <b>Comentario del revisor</b> <a class=\"tocSkip\"></a>\n",
    "    \n",
    "Has implementado de manera adecuada el modelo de Árbol de Decisión. Es excelente que hayas experimentado con diferentes profundidades y parámetros del modelo, evaluando tanto el ajuste de hiperparámetros como el sobreajuste/subajuste. Esto demuestra un buen entendimiento de cómo mejorar el rendimiento del modelo. ¡Buen enfoque!\n",
    "\n",
    "</div>"
   ]
  },
  {
   "cell_type": "markdown",
   "metadata": {},
   "source": [
    "### Bosque Aleatorio (Random Forest)\n",
    "\n",
    "Este modelo, es una evolucion del modelo anterior (Arbol de decision), ya que utiliza la misma logica, pero aumenta la cantidad de arboles \"n\" veces que el usuario estime conveniente, ademas de los parametros \"random_state\" que seguira en 200, y \"depth\" que se establecera en 10.\n",
    "\n",
    "En primer lugar, se realiza la prediccion sin ajuste de hiperparametros y luego se iterara el modelo ajustando el parametro \"n_stimators\" llegando a 100, iterando cada 10 arboles(step), el cual contiene la cantidad de arboles a utilizar en el modelo.\n",
    "\n",
    "Por ultimo, se realizara una iteracion del modelopara emcontrar el mejor desempeno, y asi obtener su exactitud y la cantidad de arboles utilizados."
   ]
  },
  {
   "cell_type": "code",
   "execution_count": 19,
   "metadata": {},
   "outputs": [
    {
     "name": "stdout",
     "output_type": "stream",
     "text": [
      "La exactitud del modelo de Bosque Aleatorio(RandomForestClassifier), usando los datos de entrenamiento es: 99.95553579368608%\n",
      "\n",
      "La exactitud del modelo de Bosque Aleatorio(RandomForestClassifier), usando los datos de validacion es: 79.4606%\n"
     ]
    }
   ],
   "source": [
    "# Entrenamiento del modelo RandomForestClassifier\n",
    "\n",
    "ranfor_model = RandomForestClassifier()\n",
    "ranfor_model.fit(features_train, target_train)\n",
    "\n",
    "ranfor_predict_train = ranfor_model.predict(features_train)\n",
    "ranfor_predict_valid = ranfor_model.predict(features_valid)\n",
    "\n",
    "print(f'La exactitud del modelo de Bosque Aleatorio(RandomForestClassifier), usando los datos de entrenamiento es: {accuracy_score(target_train, ranfor_predict_train)*100}%')\n",
    "print()\n",
    "print(f'La exactitud del modelo de Bosque Aleatorio(RandomForestClassifier), usando los datos de validacion es: {accuracy_score(target_valid, ranfor_predict_valid)*100:.4f}%')"
   ]
  },
  {
   "cell_type": "code",
   "execution_count": 20,
   "metadata": {},
   "outputs": [
    {
     "name": "stdout",
     "output_type": "stream",
     "text": [
      "n_estimators = 10 : Exactitud datos entrenamiento es: 88.3504; Exactitud datos validacion es: 79.6680%\n",
      "n_estimators = 20 : Exactitud datos entrenamiento es: 88.4838; Exactitud datos validacion es: 80.9129%\n",
      "n_estimators = 30 : Exactitud datos entrenamiento es: 88.2614; Exactitud datos validacion es: 79.8755%\n",
      "n_estimators = 40 : Exactitud datos entrenamiento es: 88.4393; Exactitud datos validacion es: 80.2905%\n",
      "n_estimators = 50 : Exactitud datos entrenamiento es: 88.5282; Exactitud datos validacion es: 79.8755%\n",
      "n_estimators = 60 : Exactitud datos entrenamiento es: 88.5282; Exactitud datos validacion es: 80.2905%\n",
      "n_estimators = 70 : Exactitud datos entrenamiento es: 88.4393; Exactitud datos validacion es: 80.2905%\n",
      "n_estimators = 80 : Exactitud datos entrenamiento es: 88.5727; Exactitud datos validacion es: 80.2905%\n",
      "n_estimators = 90 : Exactitud datos entrenamiento es: 88.3504; Exactitud datos validacion es: 80.2905%\n",
      "n_estimators = 100 : Exactitud datos entrenamiento es: 88.3948; Exactitud datos validacion es: 80.2905%\n"
     ]
    }
   ],
   "source": [
    "# Modificacion de Hiperparametros\n",
    "\n",
    "depth = 10\n",
    "estimators = 100\n",
    "step = 10\n",
    "for est in range(10,estimators + 1,step):\n",
    "    ranforest_model = RandomForestClassifier(random_state = 54321, max_depth = depth, n_estimators = est)\n",
    "    ranforest_model.fit(features_train, target_train)\n",
    "    \n",
    "    ranforest_predict_train = ranforest_model.predict(features_train) \n",
    "    ranforest_predict_valid = ranforest_model.predict(features_valid)\n",
    "    \n",
    "    acc_ranforest_train = accuracy_score(target_train, ranforest_predict_train)*100\n",
    "    acc_ranforest_valid = accuracy_score(target_valid, ranforest_predict_valid)*100\n",
    "\n",
    "    print('n_estimators =', est, ': ', end='')\n",
    "    print(f'Exactitud datos entrenamiento es: {acc_ranforest_train:.4f}; Exactitud datos validacion es: {acc_ranforest_valid:.4f}%')"
   ]
  },
  {
   "cell_type": "code",
   "execution_count": 21,
   "metadata": {},
   "outputs": [
    {
     "name": "stdout",
     "output_type": "stream",
     "text": [
      "El mejor desempeno del modelo, segun su exactitud es: 20 => 0.8091%\n"
     ]
    }
   ],
   "source": [
    "# Obteniendo el mejor desempeno\n",
    "\n",
    "best_score = 0\n",
    "best_est = 0\n",
    "depth = 10\n",
    "estimators = 100\n",
    "step = 10\n",
    "for est in range(10, estimators + 1, step): \n",
    "    ranforcla_model = RandomForestClassifier(random_state=54321, max_depth = depth, n_estimators = est) \n",
    "    ranforcla_model.fit(features_train, target_train) \n",
    "    score = ranforcla_model.score(features_valid, target_valid) \n",
    "    if score > best_score:\n",
    "        best_score = score\n",
    "        best_est = est\n",
    "\n",
    "print(f'El mejor desempeno del modelo, segun su exactitud es: {best_est} => {best_score:.4f}%')"
   ]
  },
  {
   "cell_type": "markdown",
   "metadata": {},
   "source": [
    "<div class=\"alert alert-block alert-success\"> <b>Comentario del revisor</b> <a class=\"tocSkip\"></a>\n",
    "    \n",
    "¡Excelente uso del Bosque Aleatorio! Has seguido una estrategia sólida para ajustar los hiperparámetros, probando con diferentes números de estimadores. Los resultados indican claramente que este es el modelo más fuerte en términos de precisión. Es un modelo robusto que se ajusta bien a los datos.\n",
    "\n",
    "</div>"
   ]
  },
  {
   "cell_type": "markdown",
   "metadata": {},
   "source": [
    "### Regresion Logistica (Logistic Regression)\n",
    "\n",
    "En este caso, no es necesario iterar el modelo, para obtener el mejor desempeno, ya que en este proyecto, solo se utilizaran 2 hiperparametros para el modelo, el primero \"random_state\" que se mantendra igual que en los modelos anteriores en 200, y para el segundo parametro \"solver\", se utilizara el atributo \"liblinear\""
   ]
  },
  {
   "cell_type": "code",
   "execution_count": 22,
   "metadata": {},
   "outputs": [
    {
     "name": "stdout",
     "output_type": "stream",
     "text": [
      "Exactitud datos entrenamiento es: 69.5865%\n",
      "\n",
      "Exactitud datos validacion es: 69.2946%\n"
     ]
    }
   ],
   "source": [
    "# Entrenamiento del modelo LogisticRegression\n",
    "\n",
    "logreg_model = LogisticRegression()\n",
    "logreg_model.fit(features_train, target_train)\n",
    "\n",
    "score_train = logreg_model.score(features_train, target_train)\n",
    "score_valid = logreg_model.score(features_valid, target_valid)\n",
    "\n",
    "print(f'Exactitud datos entrenamiento es: {score_train*100:.4f}%',)\n",
    "print()\n",
    "print(f'Exactitud datos validacion es: {score_valid*100:.4f}%')"
   ]
  },
  {
   "cell_type": "markdown",
   "metadata": {},
   "source": [
    "### Sintesis del Capitulo\n",
    "\n",
    "Los 3 modelos lograron superar el desempeno minimo establecido al principio del 75%, pero el modelo de \"Bosque Aleatorio\" es el que tuvo mejor performance para este proyecto, consiguiendo un 80.9129% de precision, en un modelo de 20 arboles.\n",
    "\n",
    "Luego, le sigue el modelo \"Arbol de decision\" logrando un 79.6680% con un nivel 3 de profundidad, para finalmente obtener el contraste que genera el modelo \"Regresion Logistica\" el cual solo alcanzo una exactitud del 69.2946%\n",
    "\n",
    "Finalmente se determina que el modelo \"Bosque Aleatorio\" es el elegido, aunque necesita mas arboles que el modelo \"Arbol de decision\", la cantidad es razonable y entrega una mejora de precision."
   ]
  },
  {
   "cell_type": "markdown",
   "metadata": {},
   "source": [
    "<div class=\"alert alert-block alert-success\"> <b>Comentario del revisor</b> <a class=\"tocSkip\"></a>\n",
    "    \n",
    "Has implementado la Regresión Logística de manera correcta y has comparado bien su desempeño frente a los otros modelos. Aunque no ha alcanzado los niveles de precisión de los otros modelos, es un buen contraste y es importante que lo hayas incluido para tener una referencia.\n",
    "\n",
    "</div>"
   ]
  },
  {
   "cell_type": "markdown",
   "metadata": {},
   "source": [
    "## **Probando el modelo**\n",
    "\n",
    "Se testeara el modelo con los conjuntos de prueba."
   ]
  },
  {
   "cell_type": "markdown",
   "metadata": {},
   "source": [
    "### Aplicacion del modelo seleccionado"
   ]
  },
  {
   "cell_type": "code",
   "execution_count": 23,
   "metadata": {},
   "outputs": [
    {
     "data": {
      "text/plain": [
       "RandomForestClassifier(max_depth=10, n_estimators=20, random_state=200)"
      ]
     },
     "execution_count": 23,
     "metadata": {},
     "output_type": "execute_result"
    }
   ],
   "source": [
    "# Entrenamiento del modelo\n",
    "\n",
    "ranfor_selec = RandomForestClassifier(random_state=200, max_depth=10, n_estimators = 20)\n",
    "ranfor_selec.fit(features_train,target_train)"
   ]
  },
  {
   "cell_type": "code",
   "execution_count": 24,
   "metadata": {},
   "outputs": [],
   "source": [
    "# Prediccion con el conjunto de prueba\n",
    "\n",
    "ranfor_prediction_test = ranfor_selec.predict(features_test)"
   ]
  },
  {
   "cell_type": "code",
   "execution_count": 25,
   "metadata": {},
   "outputs": [
    {
     "name": "stdout",
     "output_type": "stream",
     "text": [
      "Exactitud del modelo: 81.9876%\n"
     ]
    }
   ],
   "source": [
    "# Verificando la exactiud del modelo\n",
    "\n",
    "print(f'Exactitud del modelo: {accuracy_score(target_test, ranfor_prediction_test)*100:.4f}%')"
   ]
  },
  {
   "cell_type": "markdown",
   "metadata": {},
   "source": [
    "### Sintesis del Capitulo\n",
    "\n",
    "Con los resultados obtenidos, el modelo seleccionado obtuvo una precision mayor que con los datos de entrenamiento y de validacion, lo que indica que el modelo tiene una buena precision y funciona correctamente."
   ]
  },
  {
   "cell_type": "markdown",
   "metadata": {},
   "source": [
    "<div class=\"alert alert-block alert-success\"> <b>Comentario del revisor</b> <a class=\"tocSkip\"></a>\n",
    "    \n",
    "La prueba final del modelo de Bosque Aleatorio muestra un rendimiento sólido en el conjunto de prueba, lo que indica que el modelo está generalizando bien los datos. La precisión obtenida es mayor que en los conjuntos de entrenamiento y validación, lo cual es una buena señal de que el modelo está funcionando correctamente. ¡Muy bien!\n",
    "\n",
    "</div>"
   ]
  },
  {
   "cell_type": "markdown",
   "metadata": {},
   "source": [
    "## **Analisis de Cordura**\n",
    "\n",
    "Se necesita corroborar si el analisis que esta haciendo el modelo seleccionado, tiene sentido o es irracional.\n",
    "\n",
    "Por ello, se realiza un analisis de cordura, el cual consiste en corrobar si el modelo predice datos nuevos, en las mismas proporciones que la distribucion de los datos de entrenamientos iniciales."
   ]
  },
  {
   "cell_type": "markdown",
   "metadata": {},
   "source": [
    "### Proporcion real versus predecida"
   ]
  },
  {
   "cell_type": "code",
   "execution_count": 26,
   "metadata": {},
   "outputs": [
    {
     "data": {
      "text/plain": [
       "0    342\n",
       "1    141\n",
       "Name: is_ultra, dtype: int64"
      ]
     },
     "execution_count": 26,
     "metadata": {},
     "output_type": "execute_result"
    }
   ],
   "source": [
    "# Cantidad de cada valor en el set de prueba\n",
    "\n",
    "target_test.value_counts()"
   ]
  },
  {
   "cell_type": "code",
   "execution_count": 27,
   "metadata": {},
   "outputs": [
    {
     "data": {
      "text/plain": [
       "0    70.807453\n",
       "1    29.192547\n",
       "Name: is_ultra, dtype: float64"
      ]
     },
     "execution_count": 27,
     "metadata": {},
     "output_type": "execute_result"
    }
   ],
   "source": [
    "# Proporcion de cada valor respecto al set de datos\n",
    "\n",
    "target_test.value_counts()/target_test.shape[0]*100"
   ]
  },
  {
   "cell_type": "code",
   "execution_count": 28,
   "metadata": {},
   "outputs": [
    {
     "data": {
      "text/plain": [
       "0    77.225673\n",
       "1    22.774327\n",
       "dtype: float64"
      ]
     },
     "execution_count": 28,
     "metadata": {},
     "output_type": "execute_result"
    }
   ],
   "source": [
    "# Proporcion del set predecido por el modelo\n",
    "\n",
    "test_predictions_df = pd.DataFrame(ranfor_prediction_test)\n",
    "test_predictions_df.value_counts()/test_predictions_df.shape[0]*100"
   ]
  },
  {
   "cell_type": "markdown",
   "metadata": {},
   "source": [
    "### Sintesis del Capitulo\n",
    "\n",
    "Los resultados del analisis indican que el conjunto de prueba cuenta con el 70.8074% de los clientes con el plan Smart y el 29.1925% restante con el plan Ultra, los que refleja una evidente desbalance en la distribucion de los datos.\n",
    "\n",
    "Por otra parte, el modelo obtuvo una exactitud del 81.9876%, alrededor de un 12% mas que proporcion mayor del dataset, lo que implica un modelo que realizo buenas predicciones a pesar del desequilibrio de los datos.\n",
    "\n",
    "Por ultimo, el modelo realizo una prediccion, que al 77.2256% de los clientes del conjunto de prueba se les puede ofrecer el plan Smart, adicionalmente esta oferta es la mas significativa, en comparacion a la oferta de los clientes para plan Ultra."
   ]
  },
  {
   "cell_type": "markdown",
   "metadata": {},
   "source": [
    "<div class=\"alert alert-block alert-success\"> <b>Comentario del revisor</b> <a class=\"tocSkip\"></a>\n",
    "    \n",
    "Tu análisis de cordura es una excelente adición. Es positivo ver que has corroborado que el modelo hace predicciones en proporciones similares a los datos de entrenamiento, lo que refuerza la confianza en su capacidad predictiva. Esto demuestra un enfoque sólido en la validación de los resultados.\n",
    "\n",
    "</div>"
   ]
  },
  {
   "cell_type": "markdown",
   "metadata": {},
   "source": [
    "## **Conclusion General**\n",
    "\n",
    "Luego de evaluar los modelos, se determina que el mejor desempeno en este proyecto, es el modelo de Bosque Aleatorio, ya que supero al resto de modelos en exactitud, ademas de ser coherente en las predicciones con nuevos set de datos, por ello, es un modelo confiable para realizar el proyecto.\n",
    "\n",
    "Por consiguiente la compania, Megaline, puede utilizar el modelo para realizar la recomendacion de la oferta de planes a sus clientes, ya que le modelo demostro tener una gran precision en la prediccion de los respectivas ofertas.\n",
    "\n",
    "Finalmente, la empresa puede aprovechar el modelo para predecir y recomendar las ofertas a los futuros clientes de la compania, ya que esto permite optimizar la oferta, y preocuparse de las necesidades individuales de los usuarios, lo que se traduce en mayores tasas de satisfaccion de cliente y tasas de contratacion mas altas para el plan de servicio recomendado."
   ]
  },
  {
   "cell_type": "markdown",
   "metadata": {},
   "source": [
    "<div class=\"alert alert-block alert-success\"> <b>Comentario del revisor</b> <a class=\"tocSkip\"></a>\n",
    "    \n",
    "¡Felicidades! Has realizado un trabajo excepcional a lo largo de todo el proyecto. Has demostrado una excelente comprensión del proceso de modelado, desde la preparación de los datos hasta la evaluación final. El modelo de Bosque Aleatorio ha sido el más exitoso en términos de precisión, lo que demuestra que has logrado alcanzar el objetivo del proyecto. Además, el análisis de cordura proporciona una visión adicional de la solidez del modelo. ¡Gran trabajo!\n",
    "\n",
    "Áreas para profundizar:\n",
    "Podrías explorar el uso de técnicas de resampling como SMOTE para manejar el desbalance de clases y ver si puedes mejorar aún más la precisión en la clase minoritaria.\n",
    "Sería interesante ver cómo se desempeña el modelo con otras métricas además de la precisión, como la curva ROC-AUC, que puede proporcionar información adicional sobre el rendimiento del modelo en situaciones de desequilibrio de clases.\n",
    "¡Sigue con el gran trabajo, has hecho un proyecto excelente! 🚀😊\n",
    "\n",
    "</div>"
   ]
  },
  {
   "cell_type": "markdown",
   "metadata": {},
   "source": [
    "<h1><strong><center><u>Megaline</u></center></strong></h1>"
   ]
  },
  {
   "cell_type": "markdown",
   "metadata": {},
   "source": [
    "# Comentario final"
   ]
  },
  {
   "cell_type": "markdown",
   "metadata": {},
   "source": [
    "<div class=\"alert alert-block alert-success\"> <b>Comentario del revisor</b> <a class=\"tocSkip\"></a>\n",
    "\n",
    "¡Felicidades, Javier! Tu proyecto está aprobado. Has demostrado un excelente manejo de los datos, análisis exploratorio y la implementación de modelos de machine learning. El modelo de Bosque Aleatorio que seleccionaste ha mostrado un gran desempeño y has cumplido con los objetivos planteados, alcanzando la precisión mínima requerida. Tu análisis es claro, bien fundamentado y las decisiones que tomaste en el proceso fueron correctas.\n",
    "\n",
    "También incluiste una tabla de contenidos en tu proyecto ha sido un excelente aporte. Esto mejora la organización del trabajo y facilita la navegación, enriqueciendo aún más el proyecto.\n",
    "\n",
    "Sigue con el mismo entusiasmo y dedicación, ¡estás haciendo un excelente trabajo! 😊🚀\n",
    "\n",
    "</div>"
   ]
  },
  {
   "cell_type": "markdown",
   "metadata": {},
   "source": []
  }
 ],
 "metadata": {
  "ExecuteTimeLog": [
   {
    "duration": 328,
    "start_time": "2024-10-02T01:54:40.432Z"
   },
   {
    "duration": 796,
    "start_time": "2024-10-02T01:55:06.531Z"
   },
   {
    "duration": 11,
    "start_time": "2024-10-02T01:56:37.262Z"
   },
   {
    "duration": 12,
    "start_time": "2024-10-02T01:56:39.406Z"
   },
   {
    "duration": 10,
    "start_time": "2024-10-02T01:57:34.518Z"
   },
   {
    "duration": 18,
    "start_time": "2024-10-02T01:57:37.634Z"
   },
   {
    "duration": 167,
    "start_time": "2024-10-02T18:01:53.086Z"
   },
   {
    "duration": 2695,
    "start_time": "2024-10-02T18:02:35.273Z"
   },
   {
    "duration": 328,
    "start_time": "2024-10-02T18:02:55.238Z"
   },
   {
    "duration": 989,
    "start_time": "2024-10-02T18:02:55.568Z"
   },
   {
    "duration": 13,
    "start_time": "2024-10-02T18:02:56.559Z"
   },
   {
    "duration": 10,
    "start_time": "2024-10-02T18:02:56.574Z"
   },
   {
    "duration": 8,
    "start_time": "2024-10-02T18:02:56.586Z"
   },
   {
    "duration": 21,
    "start_time": "2024-10-02T18:02:56.596Z"
   },
   {
    "duration": 635,
    "start_time": "2024-10-02T18:02:56.619Z"
   },
   {
    "duration": 575,
    "start_time": "2024-10-02T18:02:57.256Z"
   },
   {
    "duration": 0,
    "start_time": "2024-10-02T18:02:57.833Z"
   },
   {
    "duration": 0,
    "start_time": "2024-10-02T18:02:57.834Z"
   },
   {
    "duration": 0,
    "start_time": "2024-10-02T18:02:57.836Z"
   },
   {
    "duration": 0,
    "start_time": "2024-10-02T18:02:57.837Z"
   },
   {
    "duration": 0,
    "start_time": "2024-10-02T18:02:57.839Z"
   },
   {
    "duration": 0,
    "start_time": "2024-10-02T18:02:57.841Z"
   },
   {
    "duration": 0,
    "start_time": "2024-10-02T18:02:57.842Z"
   },
   {
    "duration": 0,
    "start_time": "2024-10-02T18:02:57.843Z"
   },
   {
    "duration": 0,
    "start_time": "2024-10-02T18:02:57.845Z"
   },
   {
    "duration": 0,
    "start_time": "2024-10-02T18:02:57.846Z"
   },
   {
    "duration": 0,
    "start_time": "2024-10-02T18:02:57.847Z"
   },
   {
    "duration": 99,
    "start_time": "2024-10-02T18:07:22.461Z"
   },
   {
    "duration": 125,
    "start_time": "2024-10-02T18:07:43.747Z"
   },
   {
    "duration": 112,
    "start_time": "2024-10-02T18:08:28.302Z"
   },
   {
    "duration": 77,
    "start_time": "2024-10-02T18:08:38.629Z"
   },
   {
    "duration": 329,
    "start_time": "2024-10-02T18:08:44.539Z"
   },
   {
    "duration": 962,
    "start_time": "2024-10-02T18:08:44.870Z"
   },
   {
    "duration": 8,
    "start_time": "2024-10-02T18:08:45.834Z"
   },
   {
    "duration": 9,
    "start_time": "2024-10-02T18:08:45.845Z"
   },
   {
    "duration": 8,
    "start_time": "2024-10-02T18:08:45.857Z"
   },
   {
    "duration": 16,
    "start_time": "2024-10-02T18:08:45.868Z"
   },
   {
    "duration": 628,
    "start_time": "2024-10-02T18:08:45.885Z"
   },
   {
    "duration": 75,
    "start_time": "2024-10-02T18:08:46.515Z"
   },
   {
    "duration": 3,
    "start_time": "2024-10-02T18:08:46.592Z"
   },
   {
    "duration": 4,
    "start_time": "2024-10-02T18:08:46.606Z"
   },
   {
    "duration": 3,
    "start_time": "2024-10-02T18:08:46.612Z"
   },
   {
    "duration": 4,
    "start_time": "2024-10-02T18:08:46.617Z"
   },
   {
    "duration": 3,
    "start_time": "2024-10-02T18:08:46.623Z"
   },
   {
    "duration": 16,
    "start_time": "2024-10-02T18:08:46.628Z"
   },
   {
    "duration": 100,
    "start_time": "2024-10-02T18:08:46.646Z"
   },
   {
    "duration": 400,
    "start_time": "2024-10-02T18:08:46.747Z"
   },
   {
    "duration": 1663,
    "start_time": "2024-10-02T18:08:47.149Z"
   },
   {
    "duration": 1513,
    "start_time": "2024-10-02T18:08:48.814Z"
   },
   {
    "duration": 18,
    "start_time": "2024-10-02T18:08:50.329Z"
   },
   {
    "duration": 3,
    "start_time": "2024-10-02T20:43:11.284Z"
   },
   {
    "duration": 4,
    "start_time": "2024-10-02T20:43:37.666Z"
   },
   {
    "duration": 3,
    "start_time": "2024-10-02T20:43:43.044Z"
   },
   {
    "duration": 4,
    "start_time": "2024-10-02T20:44:35.989Z"
   },
   {
    "duration": 3,
    "start_time": "2024-10-02T20:44:41.949Z"
   },
   {
    "duration": 145,
    "start_time": "2024-10-02T20:44:51.632Z"
   },
   {
    "duration": 12,
    "start_time": "2024-10-02T20:44:55.785Z"
   },
   {
    "duration": 4,
    "start_time": "2024-10-02T20:45:22.966Z"
   },
   {
    "duration": 5,
    "start_time": "2024-10-02T20:45:28.227Z"
   },
   {
    "duration": 6,
    "start_time": "2024-10-02T20:47:09.920Z"
   },
   {
    "duration": 1588,
    "start_time": "2024-10-02T21:18:30.865Z"
   },
   {
    "duration": 3,
    "start_time": "2024-10-03T00:17:37.715Z"
   },
   {
    "duration": 4,
    "start_time": "2024-10-03T00:17:39.981Z"
   },
   {
    "duration": 61,
    "start_time": "2024-10-03T00:17:43.686Z"
   },
   {
    "duration": 7,
    "start_time": "2024-10-03T00:17:46.131Z"
   },
   {
    "duration": 6,
    "start_time": "2024-10-03T00:17:49.252Z"
   },
   {
    "duration": 4,
    "start_time": "2024-10-03T00:17:52.053Z"
   },
   {
    "duration": 5,
    "start_time": "2024-10-03T00:17:59.510Z"
   },
   {
    "duration": 8,
    "start_time": "2024-10-03T00:18:03.054Z"
   },
   {
    "duration": 6,
    "start_time": "2024-10-03T00:18:28.206Z"
   },
   {
    "duration": 7,
    "start_time": "2024-10-03T00:18:37.271Z"
   },
   {
    "duration": 344,
    "start_time": "2024-10-03T01:45:12.378Z"
   },
   {
    "duration": 1027,
    "start_time": "2024-10-03T01:45:12.725Z"
   },
   {
    "duration": 10,
    "start_time": "2024-10-03T01:45:13.754Z"
   },
   {
    "duration": 16,
    "start_time": "2024-10-03T01:45:13.766Z"
   },
   {
    "duration": 10,
    "start_time": "2024-10-03T01:45:13.783Z"
   },
   {
    "duration": 24,
    "start_time": "2024-10-03T01:45:13.794Z"
   },
   {
    "duration": 5,
    "start_time": "2024-10-03T01:45:13.820Z"
   },
   {
    "duration": 5,
    "start_time": "2024-10-03T01:45:13.826Z"
   },
   {
    "duration": 5,
    "start_time": "2024-10-03T01:45:13.833Z"
   },
   {
    "duration": 652,
    "start_time": "2024-10-03T01:45:13.842Z"
   },
   {
    "duration": 77,
    "start_time": "2024-10-03T01:45:14.495Z"
   },
   {
    "duration": 2,
    "start_time": "2024-10-03T01:45:14.574Z"
   },
   {
    "duration": 5,
    "start_time": "2024-10-03T01:45:14.578Z"
   },
   {
    "duration": 21,
    "start_time": "2024-10-03T01:45:14.584Z"
   },
   {
    "duration": 3,
    "start_time": "2024-10-03T01:45:14.606Z"
   },
   {
    "duration": 4,
    "start_time": "2024-10-03T01:45:14.610Z"
   },
   {
    "duration": 17,
    "start_time": "2024-10-03T01:45:14.615Z"
   },
   {
    "duration": 90,
    "start_time": "2024-10-03T01:45:14.634Z"
   },
   {
    "duration": 388,
    "start_time": "2024-10-03T01:45:14.726Z"
   },
   {
    "duration": 1664,
    "start_time": "2024-10-03T01:45:15.115Z"
   },
   {
    "duration": 1518,
    "start_time": "2024-10-03T01:45:16.781Z"
   },
   {
    "duration": 18,
    "start_time": "2024-10-03T01:45:18.305Z"
   },
   {
    "duration": 58,
    "start_time": "2024-10-03T01:45:18.325Z"
   },
   {
    "duration": 22,
    "start_time": "2024-10-03T01:45:18.385Z"
   },
   {
    "duration": 3,
    "start_time": "2024-10-03T01:45:18.409Z"
   },
   {
    "duration": 5,
    "start_time": "2024-10-03T01:45:18.413Z"
   },
   {
    "duration": 4,
    "start_time": "2024-10-03T01:45:18.420Z"
   },
   {
    "duration": 6,
    "start_time": "2024-10-03T01:45:18.428Z"
   },
   {
    "duration": 3,
    "start_time": "2024-10-03T01:54:46.747Z"
   },
   {
    "duration": 232,
    "start_time": "2024-10-03T01:55:00.092Z"
   },
   {
    "duration": 74,
    "start_time": "2024-10-03T01:55:09.985Z"
   },
   {
    "duration": 5,
    "start_time": "2024-10-03T01:55:22.714Z"
   },
   {
    "duration": 4,
    "start_time": "2024-10-03T01:55:32.706Z"
   },
   {
    "duration": 3,
    "start_time": "2024-10-03T01:55:44.184Z"
   },
   {
    "duration": 1525,
    "start_time": "2024-10-03T01:56:05.839Z"
   },
   {
    "duration": 70,
    "start_time": "2024-10-03T01:56:31.405Z"
   },
   {
    "duration": 16,
    "start_time": "2024-10-03T01:57:26.590Z"
   },
   {
    "duration": 16,
    "start_time": "2024-10-03T01:57:35.169Z"
   },
   {
    "duration": 429,
    "start_time": "2024-10-03T01:58:27.615Z"
   },
   {
    "duration": 380,
    "start_time": "2024-10-03T01:58:34.477Z"
   },
   {
    "duration": 1680,
    "start_time": "2024-10-03T01:58:52.162Z"
   },
   {
    "duration": 18,
    "start_time": "2024-10-03T01:59:08.393Z"
   },
   {
    "duration": 18,
    "start_time": "2024-10-03T01:59:54.994Z"
   },
   {
    "duration": 4,
    "start_time": "2024-10-03T02:05:34.297Z"
   },
   {
    "duration": 6,
    "start_time": "2024-10-03T02:05:39.685Z"
   },
   {
    "duration": 333,
    "start_time": "2024-10-03T02:44:10.969Z"
   },
   {
    "duration": 982,
    "start_time": "2024-10-03T02:44:11.304Z"
   },
   {
    "duration": 8,
    "start_time": "2024-10-03T02:44:12.287Z"
   },
   {
    "duration": 15,
    "start_time": "2024-10-03T02:44:12.297Z"
   },
   {
    "duration": 8,
    "start_time": "2024-10-03T02:44:12.313Z"
   },
   {
    "duration": 16,
    "start_time": "2024-10-03T02:44:12.322Z"
   },
   {
    "duration": 4,
    "start_time": "2024-10-03T02:44:12.341Z"
   },
   {
    "duration": 5,
    "start_time": "2024-10-03T02:44:12.347Z"
   },
   {
    "duration": 4,
    "start_time": "2024-10-03T02:44:12.353Z"
   },
   {
    "duration": 665,
    "start_time": "2024-10-03T02:44:12.360Z"
   },
   {
    "duration": 75,
    "start_time": "2024-10-03T02:44:13.028Z"
   },
   {
    "duration": 3,
    "start_time": "2024-10-03T02:44:13.105Z"
   },
   {
    "duration": 6,
    "start_time": "2024-10-03T02:44:13.110Z"
   },
   {
    "duration": 4,
    "start_time": "2024-10-03T02:44:13.118Z"
   },
   {
    "duration": 4,
    "start_time": "2024-10-03T02:44:13.124Z"
   },
   {
    "duration": 3,
    "start_time": "2024-10-03T02:44:13.130Z"
   },
   {
    "duration": 16,
    "start_time": "2024-10-03T02:44:13.135Z"
   },
   {
    "duration": 105,
    "start_time": "2024-10-03T02:44:13.153Z"
   },
   {
    "duration": 395,
    "start_time": "2024-10-03T02:44:13.260Z"
   },
   {
    "duration": 1668,
    "start_time": "2024-10-03T02:44:13.657Z"
   },
   {
    "duration": 1530,
    "start_time": "2024-10-03T02:44:15.327Z"
   },
   {
    "duration": 18,
    "start_time": "2024-10-03T02:44:16.860Z"
   },
   {
    "duration": 74,
    "start_time": "2024-10-03T02:44:16.880Z"
   },
   {
    "duration": 5,
    "start_time": "2024-10-03T02:44:16.956Z"
   },
   {
    "duration": 3,
    "start_time": "2024-10-03T02:44:16.963Z"
   },
   {
    "duration": 5,
    "start_time": "2024-10-03T02:44:16.967Z"
   },
   {
    "duration": 5,
    "start_time": "2024-10-03T02:44:16.974Z"
   },
   {
    "duration": 6,
    "start_time": "2024-10-03T02:44:17.007Z"
   },
   {
    "duration": 351,
    "start_time": "2024-10-03T02:45:54.766Z"
   },
   {
    "duration": 1041,
    "start_time": "2024-10-03T02:45:55.120Z"
   },
   {
    "duration": 8,
    "start_time": "2024-10-03T02:45:56.163Z"
   },
   {
    "duration": 9,
    "start_time": "2024-10-03T02:45:56.172Z"
   },
   {
    "duration": 26,
    "start_time": "2024-10-03T02:45:56.185Z"
   },
   {
    "duration": 17,
    "start_time": "2024-10-03T02:45:56.212Z"
   },
   {
    "duration": 4,
    "start_time": "2024-10-03T02:45:56.230Z"
   },
   {
    "duration": 6,
    "start_time": "2024-10-03T02:45:56.236Z"
   },
   {
    "duration": 4,
    "start_time": "2024-10-03T02:45:56.243Z"
   },
   {
    "duration": 652,
    "start_time": "2024-10-03T02:45:56.249Z"
   },
   {
    "duration": 75,
    "start_time": "2024-10-03T02:45:56.903Z"
   },
   {
    "duration": 3,
    "start_time": "2024-10-03T02:45:56.979Z"
   },
   {
    "duration": 5,
    "start_time": "2024-10-03T02:45:56.984Z"
   },
   {
    "duration": 4,
    "start_time": "2024-10-03T02:45:57.004Z"
   },
   {
    "duration": 4,
    "start_time": "2024-10-03T02:45:57.009Z"
   },
   {
    "duration": 4,
    "start_time": "2024-10-03T02:45:57.014Z"
   },
   {
    "duration": 15,
    "start_time": "2024-10-03T02:45:57.022Z"
   },
   {
    "duration": 97,
    "start_time": "2024-10-03T02:45:57.039Z"
   },
   {
    "duration": 388,
    "start_time": "2024-10-03T02:45:57.138Z"
   },
   {
    "duration": 1681,
    "start_time": "2024-10-03T02:45:57.528Z"
   },
   {
    "duration": 1533,
    "start_time": "2024-10-03T02:45:59.211Z"
   },
   {
    "duration": 18,
    "start_time": "2024-10-03T02:46:00.746Z"
   },
   {
    "duration": 71,
    "start_time": "2024-10-03T02:46:00.766Z"
   },
   {
    "duration": 7,
    "start_time": "2024-10-03T02:46:00.839Z"
   },
   {
    "duration": 3,
    "start_time": "2024-10-03T02:46:00.847Z"
   },
   {
    "duration": 5,
    "start_time": "2024-10-03T02:46:00.852Z"
   },
   {
    "duration": 5,
    "start_time": "2024-10-03T02:46:00.859Z"
   },
   {
    "duration": 6,
    "start_time": "2024-10-03T02:46:00.865Z"
   },
   {
    "duration": 568,
    "start_time": "2024-10-03T02:49:28.238Z"
   },
   {
    "duration": 10,
    "start_time": "2024-10-03T03:46:06.836Z"
   }
  ],
  "kernelspec": {
   "display_name": "Python 3 (ipykernel)",
   "language": "python",
   "name": "python3"
  },
  "language_info": {
   "codemirror_mode": {
    "name": "ipython",
    "version": 3
   },
   "file_extension": ".py",
   "mimetype": "text/x-python",
   "name": "python",
   "nbconvert_exporter": "python",
   "pygments_lexer": "ipython3",
   "version": "3.9.19"
  },
  "toc": {
   "base_numbering": 1,
   "nav_menu": {},
   "number_sections": true,
   "sideBar": true,
   "skip_h1_title": true,
   "title_cell": "Table of Contents",
   "title_sidebar": "Contents",
   "toc_cell": true,
   "toc_position": {
    "height": "calc(100% - 180px)",
    "left": "10px",
    "top": "150px",
    "width": "388.797px"
   },
   "toc_section_display": true,
   "toc_window_display": true
  }
 },
 "nbformat": 4,
 "nbformat_minor": 2
}
