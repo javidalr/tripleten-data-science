{
 "cells": [
  {
   "cell_type": "markdown",
   "metadata": {},
   "source": [
    "Hola &#x1F600;\n",
    "\n",
    "Soy **Hesus Garcia**  como \"Jesús\" pero con H. Sé que puede ser confuso al principio, pero una vez que lo recuerdes, ¡nunca lo olvidarás! &#x1F31D;\t. Como revisor de código de Triple-Ten, estoy emocionado de examinar tus proyectos y ayudarte a mejorar tus habilidades en programación. si has cometido algún error, no te preocupes, pues ¡estoy aquí para ayudarte a corregirlo y hacer que tu código brille! &#x1F31F;. Si encuentro algún detalle en tu código, te lo señalaré para que lo corrijas, ya que mi objetivo es ayudarte a prepararte para un ambiente de trabajo real, donde el líder de tu equipo actuaría de la misma manera. Si no puedes solucionar el problema, te proporcionaré más información en la próxima oportunidad. Cuando encuentres un comentario,  **por favor, no los muevas, no los modifiques ni los borres**.\n",
    "\n",
    "Revisaré cuidadosamente todas las implementaciones que has realizado para cumplir con los requisitos y te proporcionaré mis comentarios de la siguiente manera:\n",
    "\n",
    "\n",
    "<div class=\"alert alert-block alert-success\">\n",
    "<b>Comentario del revisor</b> <a class=“tocSkip”></a>\n",
    "Si todo está perfecto.\n",
    "</div>\n",
    "\n",
    "<div class=\"alert alert-block alert-warning\">\n",
    "<b>Comentario del revisor</b> <a class=“tocSkip”></a>\n",
    "Si tu código está bien pero se puede mejorar o hay algún detalle que le hace falta.\n",
    "</div>\n",
    "\n",
    "<div class=\"alert alert-block alert-danger\">\n",
    "<b>Comentario del revisor</b> <a class=“tocSkip”></a>\n",
    "Si de pronto hace falta algo o existe algún problema con tu código o conclusiones.\n",
    "</div>\n",
    "\n",
    "Puedes responderme de esta forma:\n",
    "<div class=\"alert alert-block alert-info\">\n",
    "<b>Respuesta del estudiante</b> <a class=“tocSkip”></a>\n",
    "</div>\n",
    "\n",
    "</br>\n",
    "\n",
    "**¡Empecemos!**  &#x1F680;\n",
    "\n"
   ]
  },
  {
   "cell_type": "markdown",
   "metadata": {},
   "source": [
    "<h1><center><strong><u>Beta Bank: Modelo de prevencion de fuga de clientes</u></strong></center></h1>"
   ]
  },
  {
   "cell_type": "markdown",
   "metadata": {
    "toc": true
   },
   "source": [
    "<h1>Table of Contents<span class=\"tocSkip\"></span></h1>\n",
    "<div class=\"toc\"><ul class=\"toc-item\"><li><span><a href=\"#Descripcion-del-Proyecto\" data-toc-modified-id=\"Descripcion-del-Proyecto-1\"><span class=\"toc-item-num\">1&nbsp;&nbsp;</span><strong>Descripcion del Proyecto</strong></a></span><ul class=\"toc-item\"><li><span><a href=\"#Problema-del-Negocio\" data-toc-modified-id=\"Problema-del-Negocio-1.1\"><span class=\"toc-item-num\">1.1&nbsp;&nbsp;</span>Problema del Negocio</a></span></li><li><span><a href=\"#Objetivos\" data-toc-modified-id=\"Objetivos-1.2\"><span class=\"toc-item-num\">1.2&nbsp;&nbsp;</span>Objetivos</a></span></li><li><span><a href=\"#Propuesta-del-proyecto\" data-toc-modified-id=\"Propuesta-del-proyecto-1.3\"><span class=\"toc-item-num\">1.3&nbsp;&nbsp;</span>Propuesta del proyecto</a></span></li></ul></li><li><span><a href=\"#Informacion-preliminar\" data-toc-modified-id=\"Informacion-preliminar-2\"><span class=\"toc-item-num\">2&nbsp;&nbsp;</span><strong>Informacion preliminar</strong></a></span><ul class=\"toc-item\"><li><span><a href=\"#Descripcion-de-los-datos\" data-toc-modified-id=\"Descripcion-de-los-datos-2.1\"><span class=\"toc-item-num\">2.1&nbsp;&nbsp;</span>Descripcion de los datos</a></span></li><li><span><a href=\"#Ambiente-y-librerias\" data-toc-modified-id=\"Ambiente-y-librerias-2.2\"><span class=\"toc-item-num\">2.2&nbsp;&nbsp;</span>Ambiente y librerias</a></span></li><li><span><a href=\"#Carga-y-lectura-de-los-datos\" data-toc-modified-id=\"Carga-y-lectura-de-los-datos-2.3\"><span class=\"toc-item-num\">2.3&nbsp;&nbsp;</span>Carga y lectura de los datos</a></span></li><li><span><a href=\"#Resumen-y-descripcion-del-dataset\" data-toc-modified-id=\"Resumen-y-descripcion-del-dataset-2.4\"><span class=\"toc-item-num\">2.4&nbsp;&nbsp;</span>Resumen y descripcion del dataset</a></span></li><li><span><a href=\"#Sintesis-del-capitulo\" data-toc-modified-id=\"Sintesis-del-capitulo-2.5\"><span class=\"toc-item-num\">2.5&nbsp;&nbsp;</span>Sintesis del capitulo</a></span></li></ul></li><li><span><a href=\"#Procesamiento-de-datos\" data-toc-modified-id=\"Procesamiento-de-datos-3\"><span class=\"toc-item-num\">3&nbsp;&nbsp;</span><strong>Procesamiento de datos</strong></a></span><ul class=\"toc-item\"><li><span><a href=\"#Modificacion-de-datos\" data-toc-modified-id=\"Modificacion-de-datos-3.1\"><span class=\"toc-item-num\">3.1&nbsp;&nbsp;</span>Modificacion de datos</a></span></li><li><span><a href=\"#Valores-ausentes\" data-toc-modified-id=\"Valores-ausentes-3.2\"><span class=\"toc-item-num\">3.2&nbsp;&nbsp;</span>Valores ausentes</a></span></li><li><span><a href=\"#Valores-duplicados\" data-toc-modified-id=\"Valores-duplicados-3.3\"><span class=\"toc-item-num\">3.3&nbsp;&nbsp;</span>Valores duplicados</a></span></li><li><span><a href=\"#Eliminar-columnas-irrelevantes\" data-toc-modified-id=\"Eliminar-columnas-irrelevantes-3.4\"><span class=\"toc-item-num\">3.4&nbsp;&nbsp;</span>Eliminar columnas irrelevantes</a></span></li><li><span><a href=\"#Codificacion-One-Hot-(OHE)\" data-toc-modified-id=\"Codificacion-One-Hot-(OHE)-3.5\"><span class=\"toc-item-num\">3.5&nbsp;&nbsp;</span>Codificacion One-Hot (OHE)</a></span></li><li><span><a href=\"#Sintesis-del-capitulo\" data-toc-modified-id=\"Sintesis-del-capitulo-3.6\"><span class=\"toc-item-num\">3.6&nbsp;&nbsp;</span>Sintesis del capitulo</a></span></li></ul></li><li><span><a href=\"#Particion-de-los-datos\" data-toc-modified-id=\"Particion-de-los-datos-4\"><span class=\"toc-item-num\">4&nbsp;&nbsp;</span><strong>Particion de los datos</strong></a></span><ul class=\"toc-item\"><li><span><a href=\"#Variables-caracteristicas(features)-y-objetivo(target)\" data-toc-modified-id=\"Variables-caracteristicas(features)-y-objetivo(target)-4.1\"><span class=\"toc-item-num\">4.1&nbsp;&nbsp;</span>Variables caracteristicas(features) y objetivo(target)</a></span></li><li><span><a href=\"#Conjuntos-de-entrenamiento,-validacion-y-prueba\" data-toc-modified-id=\"Conjuntos-de-entrenamiento,-validacion-y-prueba-4.2\"><span class=\"toc-item-num\">4.2&nbsp;&nbsp;</span>Conjuntos de entrenamiento, validacion y prueba</a></span></li><li><span><a href=\"#Sintesis-del-capitulo\" data-toc-modified-id=\"Sintesis-del-capitulo-4.3\"><span class=\"toc-item-num\">4.3&nbsp;&nbsp;</span>Sintesis del capitulo</a></span></li></ul></li><li><span><a href=\"#Estandarizacion-de-los-datos\" data-toc-modified-id=\"Estandarizacion-de-los-datos-5\"><span class=\"toc-item-num\">5&nbsp;&nbsp;</span><strong>Estandarizacion de los datos</strong></a></span><ul class=\"toc-item\"><li><span><a href=\"#Escalado-de-caracteristicas\" data-toc-modified-id=\"Escalado-de-caracteristicas-5.1\"><span class=\"toc-item-num\">5.1&nbsp;&nbsp;</span>Escalado de caracteristicas</a></span></li><li><span><a href=\"#Verificando-el-balance-de-clases-en-la-variable-objetivo-(target)\" data-toc-modified-id=\"Verificando-el-balance-de-clases-en-la-variable-objetivo-(target)-5.2\"><span class=\"toc-item-num\">5.2&nbsp;&nbsp;</span>Verificando el balance de clases en la variable objetivo (target)</a></span></li><li><span><a href=\"#Sintesis-del-Capitulo\" data-toc-modified-id=\"Sintesis-del-Capitulo-5.3\"><span class=\"toc-item-num\">5.3&nbsp;&nbsp;</span>Sintesis del Capitulo</a></span></li></ul></li><li><span><a href=\"#Modelos-(Datos-desbalanceados)\" data-toc-modified-id=\"Modelos-(Datos-desbalanceados)-6\"><span class=\"toc-item-num\">6&nbsp;&nbsp;</span><strong>Modelos (Datos desbalanceados)</strong></a></span><ul class=\"toc-item\"><li><span><a href=\"#Arbol-de-Decision-(Decision-Tree)\" data-toc-modified-id=\"Arbol-de-Decision-(Decision-Tree)-6.1\"><span class=\"toc-item-num\">6.1&nbsp;&nbsp;</span>Arbol de Decision (Decision Tree)</a></span></li><li><span><a href=\"#Bosque-Aleatorio-(Random-Forest)\" data-toc-modified-id=\"Bosque-Aleatorio-(Random-Forest)-6.2\"><span class=\"toc-item-num\">6.2&nbsp;&nbsp;</span>Bosque Aleatorio (Random Forest)</a></span></li><li><span><a href=\"#Regresion-Logistica-(Logistic-Regression)\" data-toc-modified-id=\"Regresion-Logistica-(Logistic-Regression)-6.3\"><span class=\"toc-item-num\">6.3&nbsp;&nbsp;</span>Regresion Logistica (Logistic Regression)</a></span></li><li><span><a href=\"#Sintesis-del-capitulo\" data-toc-modified-id=\"Sintesis-del-capitulo-6.4\"><span class=\"toc-item-num\">6.4&nbsp;&nbsp;</span>Sintesis del capitulo</a></span></li></ul></li><li><span><a href=\"#Modelo-destacado-(Balance-de-datos)\" data-toc-modified-id=\"Modelo-destacado-(Balance-de-datos)-7\"><span class=\"toc-item-num\">7&nbsp;&nbsp;</span><strong>Modelo destacado (Balance de datos)</strong></a></span><ul class=\"toc-item\"><li><span><a href=\"#Ajuste-de-las-clases\" data-toc-modified-id=\"Ajuste-de-las-clases-7.1\"><span class=\"toc-item-num\">7.1&nbsp;&nbsp;</span>Ajuste de las clases</a></span></li><li><span><a href=\"#Sobremuestreo\" data-toc-modified-id=\"Sobremuestreo-7.2\"><span class=\"toc-item-num\">7.2&nbsp;&nbsp;</span>Sobremuestreo</a></span></li><li><span><a href=\"#Submuestreo\" data-toc-modified-id=\"Submuestreo-7.3\"><span class=\"toc-item-num\">7.3&nbsp;&nbsp;</span>Submuestreo</a></span></li><li><span><a href=\"#Sintesis-del-Capitulo\" data-toc-modified-id=\"Sintesis-del-Capitulo-7.4\"><span class=\"toc-item-num\">7.4&nbsp;&nbsp;</span>Sintesis del Capitulo</a></span></li></ul></li><li><span><a href=\"#Test-final-y-conjunto-de-prueba\" data-toc-modified-id=\"Test-final-y-conjunto-de-prueba-8\"><span class=\"toc-item-num\">8&nbsp;&nbsp;</span><strong>Test final y conjunto de prueba</strong></a></span><ul class=\"toc-item\"><li><span><a href=\"#Sintesis-del-Capitulo\" data-toc-modified-id=\"Sintesis-del-Capitulo-8.1\"><span class=\"toc-item-num\">8.1&nbsp;&nbsp;</span>Sintesis del Capitulo</a></span></li></ul></li><li><span><a href=\"#Conclusion-General\" data-toc-modified-id=\"Conclusion-General-9\"><span class=\"toc-item-num\">9&nbsp;&nbsp;</span><strong>Conclusion General</strong></a></span></li><li><span><a href=\"#Comentario-final-del-revisor\" data-toc-modified-id=\"Comentario-final-del-revisor-10\"><span class=\"toc-item-num\">10&nbsp;&nbsp;</span>Comentario final del revisor</a></span><ul class=\"toc-item\"><li><ul class=\"toc-item\"><li><span><a href=\"#Puntos-Positivos:\" data-toc-modified-id=\"Puntos-Positivos:-10.0.1\"><span class=\"toc-item-num\">10.0.1&nbsp;&nbsp;</span>Puntos Positivos:</a></span></li><li><span><a href=\"#Áreas-para-Seguir-Investigando:\" data-toc-modified-id=\"Áreas-para-Seguir-Investigando:-10.0.2\"><span class=\"toc-item-num\">10.0.2&nbsp;&nbsp;</span>Áreas para Seguir Investigando:</a></span></li></ul></li></ul></li></ul></div>"
   ]
  },
  {
   "cell_type": "markdown",
   "metadata": {},
   "source": [
    "## **Descripcion del Proyecto**"
   ]
  },
  {
   "cell_type": "markdown",
   "metadata": {},
   "source": [
    "###  Problema del Negocio\n",
    "<br>\n",
    "Beta Bank, ha descubierto que en los ultimos periodos a tenido una disminucion en su numero de clientes, por ello, necesitan concentrarse en retener a sus clientes, en lugar de adquirir nuevos clientes. Para mitigar la situacion, el banco, quiere un modelo de prediccion de alta precision para anteponerse a la conducta de sus clientes y preveer proactivamente la fuga de estos, identificandolos y ofreciendo medidas estategicas de retencion.   "
   ]
  },
  {
   "cell_type": "markdown",
   "metadata": {},
   "source": [
    "<div class=\"alert alert-block alert-success\">\n",
    "<b>Comentario del revisor</b> <a class=\"tocSkip\"></a>\n",
    "\n",
    "Excelente introducción al problema. Has explicado claramente la situación que enfrenta Beta Bank y el objetivo principal del proyecto: prevenir la fuga de clientes. Es importante contextualizar de esta forma, ya que le da propósito y sentido a todo el análisis posterior.\n",
    "</div>\n"
   ]
  },
  {
   "cell_type": "markdown",
   "metadata": {},
   "source": [
    "### Objetivos\n",
    "\n",
    "- Predecir la probabilidad de fuga de los clientes, con la recopilacion de sus datos historicos y sus terminos de contratos.\n",
    "- Definir con precision la posibilidad de que un cliente se marche del banco en un futuro cercano.\n",
    "- Lograr una puntuacion alta, al menos 0,6, para la metrica F1.\n",
    "- Evaluar el rendimiento del modelo, con metrica del Area bajo la Curva (AUC-ROC), y compararla con el modelo."
   ]
  },
  {
   "cell_type": "markdown",
   "metadata": {},
   "source": [
    "### Propuesta del proyecto\n",
    "<br>\n",
    "Este proyecto se constituye de las siguientes etapas, para dar una respuesta del problema.\n",
    "<br>\n",
    "\n",
    "<ol>\n",
    "    <li>Procesamiento de datos: Descargar, leer y preparar los datos para el analisis.</li>\n",
    "    <li>Particion de los datos: Crear conjuntos de entrenamiento, validacion  y prueba.</li>\n",
    "    <li>Estandarizacion de los datos: Aplicacion de tecnicas para mitigar el dispersion de los datos.</li>\n",
    "    <li>Equilibrio de clases: Evaluacion de la distribucion de las clases existentes.</li>\n",
    "    <li>Entrenamiento de modelos con desbalance de clases: Entrenamiento de modelos iniciales, ajustando parametros y estudio de resultados.</li>\n",
    "    <li>Identificacion del mejor modelo: Eleccion del modelo con mayor rendimiento</li>\n",
    "    <li>Mejora del rendimiento con datos balanceados: Implementación de técnicas y metodos para mitigar el desequilibrio de clases</li>\n",
    "    <li>Testeo final: Ejecucion de pruebas al modelo seleccionado para determinar su eficiencia.</li>\n",
    "</ol>"
   ]
  },
  {
   "cell_type": "markdown",
   "metadata": {},
   "source": [
    "<div class=\"alert alert-block alert-success\">\n",
    "<b>Comentario del revisor</b> <a class=\"tocSkip\"></a>\n",
    "\n",
    "Muy bien definidos los objetivos del proyecto. Me gusta que hayas especificado no solo la precisión mínima requerida (F1 > 0.6), sino también el uso de métricas clave como AUC-ROC. Esto muestra que tienes una buena comprensión de la evaluación de modelos y su importancia en el contexto del negocio.\n",
    "</div>\n"
   ]
  },
  {
   "cell_type": "markdown",
   "metadata": {},
   "source": [
    "## **Informacion preliminar**"
   ]
  },
  {
   "cell_type": "markdown",
   "metadata": {},
   "source": [
    "### Descripcion de los datos\n",
    "\n",
    "El conjunto de datos esta diponible en el archivo 'users_behavior.csv', y se compone de las siguientes caracteristicas, que representan la informacion que tiene el banco de los clientes, en cuanto a sus datos, ingresos y productos en el banco.\n",
    "\n",
    "**Características(features)**\n",
    "\n",
    "- `RowNumber`: índice de cadena de datos\n",
    "- `CustomerId`: identificador de cliente único\n",
    "- `Surname`: apellido\n",
    "- `CreditScore`: valor de crédito\n",
    "- `Geography`: país de residencia\n",
    "- `Gender`: sexo\n",
    "- `Age`: edad\n",
    "- `Tenure`: período durante el cual ha madurado el depósito a plazo fijo de un cliente (años)\n",
    "- `Balance`: saldo de la cuenta\n",
    "- `NumOfProducts`: número de productos bancarios utilizados por el cliente\n",
    "- `HasCrCard`: el cliente tiene una tarjeta de crédito (1 - sí; 0 - no)\n",
    "- `IsActiveMember`: actividad del cliente (1 - sí; 0 - no)\n",
    "- `EstimatedSalary`: salario estimado\n",
    "\n",
    "**Objetivo(target)**\n",
    "\n",
    "- `Exited`: El cliente se ha ido (1 - sí; 0 - no)"
   ]
  },
  {
   "cell_type": "markdown",
   "metadata": {},
   "source": [
    "<div class=\"alert alert-block alert-success\">\n",
    "<b>Comentario del revisor</b> <a class=\"tocSkip\"></a>\n",
    "\n",
    "La descripción de las características es clara y precisa. Has hecho un buen trabajo identificando cuáles son los atributos más importantes y cómo se relacionan con el problema de la fuga de clientes. Este paso es crucial para entender qué variables afectan las decisiones de los clientes.\n",
    "</div>\n"
   ]
  },
  {
   "cell_type": "markdown",
   "metadata": {},
   "source": [
    "### Ambiente y librerias"
   ]
  },
  {
   "cell_type": "code",
   "execution_count": 1,
   "metadata": {},
   "outputs": [
    {
     "name": "stdout",
     "output_type": "stream",
     "text": [
      "Python 3.10.8\r\n"
     ]
    }
   ],
   "source": [
    "# Ambiente en Python\n",
    "\n",
    "!python --version"
   ]
  },
  {
   "cell_type": "code",
   "execution_count": 2,
   "metadata": {},
   "outputs": [],
   "source": [
    "# Importando librerias\n",
    "\n",
    "# Manipulacion y preprocesamiento de datos \n",
    "import pandas as pd\n",
    "import numpy as np\n",
    "import re\n",
    "from sklearn.model_selection import train_test_split\n",
    "from sklearn.preprocessing import StandardScaler\n",
    "from sklearn.utils import shuffle\n",
    "\n",
    "# Visualizacion\n",
    "import matplotlib.pyplot as plt\n",
    "import seaborn as sns\n",
    "\n",
    "# Modelos ML\n",
    "from sklearn.tree import DecisionTreeClassifier\n",
    "from sklearn.ensemble import RandomForestClassifier\n",
    "from sklearn.linear_model import LogisticRegression\n",
    "\n",
    "# Evaluacion de modelos ML\n",
    "from sklearn.metrics import roc_auc_score, f1_score\n",
    "\n",
    "# Elimina mensajes de advertencia\n",
    "import warnings\n",
    "warnings.filterwarnings('ignore')\n",
    "\n",
    "# Declarando variable de reproducibilidad\n",
    "seed = 1100"
   ]
  },
  {
   "cell_type": "markdown",
   "metadata": {},
   "source": [
    "<div class=\"alert alert-block alert-success\">\n",
    "<b>Comentario del revisor</b> <a class=\"tocSkip\"></a>\n",
    "\n",
    "La configuración del ambiente y la elección de librerías son apropiadas para el análisis que planeas realizar. Es excelente que hayas incluido librerías para preprocesamiento, visualización y modelado, lo que refleja un flujo de trabajo integral.\n",
    "</div>\n"
   ]
  },
  {
   "cell_type": "markdown",
   "metadata": {},
   "source": [
    "### Carga y lectura de los datos"
   ]
  },
  {
   "cell_type": "code",
   "execution_count": 3,
   "metadata": {},
   "outputs": [],
   "source": [
    "# Cargando dataset en variable data\n",
    "\n",
    "data = pd.read_csv('/datasets/Churn.csv')"
   ]
  },
  {
   "cell_type": "code",
   "execution_count": 4,
   "metadata": {},
   "outputs": [
    {
     "data": {
      "text/html": [
       "<div>\n",
       "<style scoped>\n",
       "    .dataframe tbody tr th:only-of-type {\n",
       "        vertical-align: middle;\n",
       "    }\n",
       "\n",
       "    .dataframe tbody tr th {\n",
       "        vertical-align: top;\n",
       "    }\n",
       "\n",
       "    .dataframe thead th {\n",
       "        text-align: right;\n",
       "    }\n",
       "</style>\n",
       "<table border=\"1\" class=\"dataframe\">\n",
       "  <thead>\n",
       "    <tr style=\"text-align: right;\">\n",
       "      <th></th>\n",
       "      <th>RowNumber</th>\n",
       "      <th>CustomerId</th>\n",
       "      <th>Surname</th>\n",
       "      <th>CreditScore</th>\n",
       "      <th>Geography</th>\n",
       "      <th>Gender</th>\n",
       "      <th>Age</th>\n",
       "      <th>Tenure</th>\n",
       "      <th>Balance</th>\n",
       "      <th>NumOfProducts</th>\n",
       "      <th>HasCrCard</th>\n",
       "      <th>IsActiveMember</th>\n",
       "      <th>EstimatedSalary</th>\n",
       "      <th>Exited</th>\n",
       "    </tr>\n",
       "  </thead>\n",
       "  <tbody>\n",
       "    <tr>\n",
       "      <th>0</th>\n",
       "      <td>1</td>\n",
       "      <td>15634602</td>\n",
       "      <td>Hargrave</td>\n",
       "      <td>619</td>\n",
       "      <td>France</td>\n",
       "      <td>Female</td>\n",
       "      <td>42</td>\n",
       "      <td>2.0</td>\n",
       "      <td>0.00</td>\n",
       "      <td>1</td>\n",
       "      <td>1</td>\n",
       "      <td>1</td>\n",
       "      <td>101348.88</td>\n",
       "      <td>1</td>\n",
       "    </tr>\n",
       "    <tr>\n",
       "      <th>1</th>\n",
       "      <td>2</td>\n",
       "      <td>15647311</td>\n",
       "      <td>Hill</td>\n",
       "      <td>608</td>\n",
       "      <td>Spain</td>\n",
       "      <td>Female</td>\n",
       "      <td>41</td>\n",
       "      <td>1.0</td>\n",
       "      <td>83807.86</td>\n",
       "      <td>1</td>\n",
       "      <td>0</td>\n",
       "      <td>1</td>\n",
       "      <td>112542.58</td>\n",
       "      <td>0</td>\n",
       "    </tr>\n",
       "    <tr>\n",
       "      <th>2</th>\n",
       "      <td>3</td>\n",
       "      <td>15619304</td>\n",
       "      <td>Onio</td>\n",
       "      <td>502</td>\n",
       "      <td>France</td>\n",
       "      <td>Female</td>\n",
       "      <td>42</td>\n",
       "      <td>8.0</td>\n",
       "      <td>159660.80</td>\n",
       "      <td>3</td>\n",
       "      <td>1</td>\n",
       "      <td>0</td>\n",
       "      <td>113931.57</td>\n",
       "      <td>1</td>\n",
       "    </tr>\n",
       "    <tr>\n",
       "      <th>3</th>\n",
       "      <td>4</td>\n",
       "      <td>15701354</td>\n",
       "      <td>Boni</td>\n",
       "      <td>699</td>\n",
       "      <td>France</td>\n",
       "      <td>Female</td>\n",
       "      <td>39</td>\n",
       "      <td>1.0</td>\n",
       "      <td>0.00</td>\n",
       "      <td>2</td>\n",
       "      <td>0</td>\n",
       "      <td>0</td>\n",
       "      <td>93826.63</td>\n",
       "      <td>0</td>\n",
       "    </tr>\n",
       "    <tr>\n",
       "      <th>4</th>\n",
       "      <td>5</td>\n",
       "      <td>15737888</td>\n",
       "      <td>Mitchell</td>\n",
       "      <td>850</td>\n",
       "      <td>Spain</td>\n",
       "      <td>Female</td>\n",
       "      <td>43</td>\n",
       "      <td>2.0</td>\n",
       "      <td>125510.82</td>\n",
       "      <td>1</td>\n",
       "      <td>1</td>\n",
       "      <td>1</td>\n",
       "      <td>79084.10</td>\n",
       "      <td>0</td>\n",
       "    </tr>\n",
       "  </tbody>\n",
       "</table>\n",
       "</div>"
      ],
      "text/plain": [
       "   RowNumber  CustomerId   Surname  CreditScore Geography  Gender  Age  \\\n",
       "0          1    15634602  Hargrave          619    France  Female   42   \n",
       "1          2    15647311      Hill          608     Spain  Female   41   \n",
       "2          3    15619304      Onio          502    France  Female   42   \n",
       "3          4    15701354      Boni          699    France  Female   39   \n",
       "4          5    15737888  Mitchell          850     Spain  Female   43   \n",
       "\n",
       "   Tenure    Balance  NumOfProducts  HasCrCard  IsActiveMember  \\\n",
       "0     2.0       0.00              1          1               1   \n",
       "1     1.0   83807.86              1          0               1   \n",
       "2     8.0  159660.80              3          1               0   \n",
       "3     1.0       0.00              2          0               0   \n",
       "4     2.0  125510.82              1          1               1   \n",
       "\n",
       "   EstimatedSalary  Exited  \n",
       "0        101348.88       1  \n",
       "1        112542.58       0  \n",
       "2        113931.57       1  \n",
       "3         93826.63       0  \n",
       "4         79084.10       0  "
      ]
     },
     "execution_count": 4,
     "metadata": {},
     "output_type": "execute_result"
    }
   ],
   "source": [
    "# Revisando la carga de datos\n",
    "\n",
    "data.head()"
   ]
  },
  {
   "cell_type": "markdown",
   "metadata": {},
   "source": [
    "### Resumen y descripcion del dataset"
   ]
  },
  {
   "cell_type": "code",
   "execution_count": 5,
   "metadata": {},
   "outputs": [
    {
     "name": "stdout",
     "output_type": "stream",
     "text": [
      "<class 'pandas.core.frame.DataFrame'>\n",
      "RangeIndex: 10000 entries, 0 to 9999\n",
      "Data columns (total 14 columns):\n",
      " #   Column           Non-Null Count  Dtype  \n",
      "---  ------           --------------  -----  \n",
      " 0   RowNumber        10000 non-null  int64  \n",
      " 1   CustomerId       10000 non-null  int64  \n",
      " 2   Surname          10000 non-null  object \n",
      " 3   CreditScore      10000 non-null  int64  \n",
      " 4   Geography        10000 non-null  object \n",
      " 5   Gender           10000 non-null  object \n",
      " 6   Age              10000 non-null  int64  \n",
      " 7   Tenure           9091 non-null   float64\n",
      " 8   Balance          10000 non-null  float64\n",
      " 9   NumOfProducts    10000 non-null  int64  \n",
      " 10  HasCrCard        10000 non-null  int64  \n",
      " 11  IsActiveMember   10000 non-null  int64  \n",
      " 12  EstimatedSalary  10000 non-null  float64\n",
      " 13  Exited           10000 non-null  int64  \n",
      "dtypes: float64(3), int64(8), object(3)\n",
      "memory usage: 1.1+ MB\n"
     ]
    }
   ],
   "source": [
    "# Resumen general del dataset\n",
    "\n",
    "data.info()"
   ]
  },
  {
   "cell_type": "code",
   "execution_count": 6,
   "metadata": {},
   "outputs": [
    {
     "data": {
      "text/html": [
       "<div>\n",
       "<style scoped>\n",
       "    .dataframe tbody tr th:only-of-type {\n",
       "        vertical-align: middle;\n",
       "    }\n",
       "\n",
       "    .dataframe tbody tr th {\n",
       "        vertical-align: top;\n",
       "    }\n",
       "\n",
       "    .dataframe thead th {\n",
       "        text-align: right;\n",
       "    }\n",
       "</style>\n",
       "<table border=\"1\" class=\"dataframe\">\n",
       "  <thead>\n",
       "    <tr style=\"text-align: right;\">\n",
       "      <th></th>\n",
       "      <th>RowNumber</th>\n",
       "      <th>CustomerId</th>\n",
       "      <th>CreditScore</th>\n",
       "      <th>Age</th>\n",
       "      <th>Tenure</th>\n",
       "      <th>Balance</th>\n",
       "      <th>NumOfProducts</th>\n",
       "      <th>HasCrCard</th>\n",
       "      <th>IsActiveMember</th>\n",
       "      <th>EstimatedSalary</th>\n",
       "      <th>Exited</th>\n",
       "    </tr>\n",
       "  </thead>\n",
       "  <tbody>\n",
       "    <tr>\n",
       "      <th>count</th>\n",
       "      <td>10000.00000</td>\n",
       "      <td>1.000000e+04</td>\n",
       "      <td>10000.000000</td>\n",
       "      <td>10000.000000</td>\n",
       "      <td>9091.000000</td>\n",
       "      <td>10000.000000</td>\n",
       "      <td>10000.000000</td>\n",
       "      <td>10000.00000</td>\n",
       "      <td>10000.000000</td>\n",
       "      <td>10000.000000</td>\n",
       "      <td>10000.000000</td>\n",
       "    </tr>\n",
       "    <tr>\n",
       "      <th>mean</th>\n",
       "      <td>5000.50000</td>\n",
       "      <td>1.569094e+07</td>\n",
       "      <td>650.528800</td>\n",
       "      <td>38.921800</td>\n",
       "      <td>4.997690</td>\n",
       "      <td>76485.889288</td>\n",
       "      <td>1.530200</td>\n",
       "      <td>0.70550</td>\n",
       "      <td>0.515100</td>\n",
       "      <td>100090.239881</td>\n",
       "      <td>0.203700</td>\n",
       "    </tr>\n",
       "    <tr>\n",
       "      <th>std</th>\n",
       "      <td>2886.89568</td>\n",
       "      <td>7.193619e+04</td>\n",
       "      <td>96.653299</td>\n",
       "      <td>10.487806</td>\n",
       "      <td>2.894723</td>\n",
       "      <td>62397.405202</td>\n",
       "      <td>0.581654</td>\n",
       "      <td>0.45584</td>\n",
       "      <td>0.499797</td>\n",
       "      <td>57510.492818</td>\n",
       "      <td>0.402769</td>\n",
       "    </tr>\n",
       "    <tr>\n",
       "      <th>min</th>\n",
       "      <td>1.00000</td>\n",
       "      <td>1.556570e+07</td>\n",
       "      <td>350.000000</td>\n",
       "      <td>18.000000</td>\n",
       "      <td>0.000000</td>\n",
       "      <td>0.000000</td>\n",
       "      <td>1.000000</td>\n",
       "      <td>0.00000</td>\n",
       "      <td>0.000000</td>\n",
       "      <td>11.580000</td>\n",
       "      <td>0.000000</td>\n",
       "    </tr>\n",
       "    <tr>\n",
       "      <th>25%</th>\n",
       "      <td>2500.75000</td>\n",
       "      <td>1.562853e+07</td>\n",
       "      <td>584.000000</td>\n",
       "      <td>32.000000</td>\n",
       "      <td>2.000000</td>\n",
       "      <td>0.000000</td>\n",
       "      <td>1.000000</td>\n",
       "      <td>0.00000</td>\n",
       "      <td>0.000000</td>\n",
       "      <td>51002.110000</td>\n",
       "      <td>0.000000</td>\n",
       "    </tr>\n",
       "    <tr>\n",
       "      <th>50%</th>\n",
       "      <td>5000.50000</td>\n",
       "      <td>1.569074e+07</td>\n",
       "      <td>652.000000</td>\n",
       "      <td>37.000000</td>\n",
       "      <td>5.000000</td>\n",
       "      <td>97198.540000</td>\n",
       "      <td>1.000000</td>\n",
       "      <td>1.00000</td>\n",
       "      <td>1.000000</td>\n",
       "      <td>100193.915000</td>\n",
       "      <td>0.000000</td>\n",
       "    </tr>\n",
       "    <tr>\n",
       "      <th>75%</th>\n",
       "      <td>7500.25000</td>\n",
       "      <td>1.575323e+07</td>\n",
       "      <td>718.000000</td>\n",
       "      <td>44.000000</td>\n",
       "      <td>7.000000</td>\n",
       "      <td>127644.240000</td>\n",
       "      <td>2.000000</td>\n",
       "      <td>1.00000</td>\n",
       "      <td>1.000000</td>\n",
       "      <td>149388.247500</td>\n",
       "      <td>0.000000</td>\n",
       "    </tr>\n",
       "    <tr>\n",
       "      <th>max</th>\n",
       "      <td>10000.00000</td>\n",
       "      <td>1.581569e+07</td>\n",
       "      <td>850.000000</td>\n",
       "      <td>92.000000</td>\n",
       "      <td>10.000000</td>\n",
       "      <td>250898.090000</td>\n",
       "      <td>4.000000</td>\n",
       "      <td>1.00000</td>\n",
       "      <td>1.000000</td>\n",
       "      <td>199992.480000</td>\n",
       "      <td>1.000000</td>\n",
       "    </tr>\n",
       "  </tbody>\n",
       "</table>\n",
       "</div>"
      ],
      "text/plain": [
       "         RowNumber    CustomerId   CreditScore           Age       Tenure  \\\n",
       "count  10000.00000  1.000000e+04  10000.000000  10000.000000  9091.000000   \n",
       "mean    5000.50000  1.569094e+07    650.528800     38.921800     4.997690   \n",
       "std     2886.89568  7.193619e+04     96.653299     10.487806     2.894723   \n",
       "min        1.00000  1.556570e+07    350.000000     18.000000     0.000000   \n",
       "25%     2500.75000  1.562853e+07    584.000000     32.000000     2.000000   \n",
       "50%     5000.50000  1.569074e+07    652.000000     37.000000     5.000000   \n",
       "75%     7500.25000  1.575323e+07    718.000000     44.000000     7.000000   \n",
       "max    10000.00000  1.581569e+07    850.000000     92.000000    10.000000   \n",
       "\n",
       "             Balance  NumOfProducts    HasCrCard  IsActiveMember  \\\n",
       "count   10000.000000   10000.000000  10000.00000    10000.000000   \n",
       "mean    76485.889288       1.530200      0.70550        0.515100   \n",
       "std     62397.405202       0.581654      0.45584        0.499797   \n",
       "min         0.000000       1.000000      0.00000        0.000000   \n",
       "25%         0.000000       1.000000      0.00000        0.000000   \n",
       "50%     97198.540000       1.000000      1.00000        1.000000   \n",
       "75%    127644.240000       2.000000      1.00000        1.000000   \n",
       "max    250898.090000       4.000000      1.00000        1.000000   \n",
       "\n",
       "       EstimatedSalary        Exited  \n",
       "count     10000.000000  10000.000000  \n",
       "mean     100090.239881      0.203700  \n",
       "std       57510.492818      0.402769  \n",
       "min          11.580000      0.000000  \n",
       "25%       51002.110000      0.000000  \n",
       "50%      100193.915000      0.000000  \n",
       "75%      149388.247500      0.000000  \n",
       "max      199992.480000      1.000000  "
      ]
     },
     "execution_count": 6,
     "metadata": {},
     "output_type": "execute_result"
    }
   ],
   "source": [
    "# Descripcion estadisticas del dataset\n",
    "\n",
    "data.describe()"
   ]
  },
  {
   "cell_type": "markdown",
   "metadata": {},
   "source": [
    "### Sintesis del capitulo\n",
    "\n",
    "El conjunto de datos para desarrollar el proyecto contiene 13 variables y cada una con 10000 registros, y solo la variable `'Tenure'` tiene 9091 observaciones, loq ue implica la existencia de valores ausentes que se deben procesar.\n",
    "\n",
    "Existen 3 variables que son prescindibles para el modelo, las cuales se procederan a descartar, antes de separar el dataset en los respectivos connjuntos de caractertisticas(features) y objetivo(target). Las variables categoricas (`'Gender'` y `'Geography'`), se aplicara la tecnica One-Hot Encoding (OHE), la cual, las transforma en variables binarias.\n",
    "\n",
    "Las variables numericas (`'CreditScore'`,`'Age'`,`'Tenure'`,`'Balance'`,`'NumOfProducts'`,`'estimatedSalary'`) que tienen amplia variacion se les aplicara un escalado para estandarizar sus datos, asi el modelo no prioriza variables mas dispersas por sobre variables con los datos mas concentrados."
   ]
  },
  {
   "cell_type": "markdown",
   "metadata": {},
   "source": [
    "<div class=\"alert alert-block alert-success\">\n",
    "<b>Comentario del revisor</b> <a class=\"tocSkip\"></a>\n",
    "\n",
    "Has cargado los datos correctamente y realizado una verificación inicial adecuada con `head()` para asegurarte de que se han importado correctamente. Este es un buen hábito y asegura que estás trabajando con los datos correctos desde el principio.\n",
    "</div>\n"
   ]
  },
  {
   "cell_type": "markdown",
   "metadata": {},
   "source": [
    "## **Procesamiento de datos**"
   ]
  },
  {
   "cell_type": "markdown",
   "metadata": {},
   "source": [
    "### Modificacion de datos"
   ]
  },
  {
   "cell_type": "code",
   "execution_count": 7,
   "metadata": {},
   "outputs": [
    {
     "data": {
      "text/plain": [
       "Index(['RowNumber', 'CustomerId', 'Surname', 'CreditScore', 'Geography',\n",
       "       'Gender', 'Age', 'Tenure', 'Balance', 'NumOfProducts', 'HasCrCard',\n",
       "       'IsActiveMember', 'EstimatedSalary', 'Exited'],\n",
       "      dtype='object')"
      ]
     },
     "execution_count": 7,
     "metadata": {},
     "output_type": "execute_result"
    }
   ],
   "source": [
    "# Verificando formato de los nombres de columnas\n",
    "\n",
    "data.columns"
   ]
  },
  {
   "cell_type": "code",
   "execution_count": 8,
   "metadata": {},
   "outputs": [],
   "source": [
    "# Creando funcion para modificar nombres de columnas de CamelCase a snake_case.\n",
    "# Modificacion de nombres de columnas\n",
    "\n",
    "def camel_to_snake(string):\n",
    "    string = re.sub('(.)([A-Z][a-z]+)', r'\\1_\\2', string)\n",
    "    string = re.sub('(.)([0-9]+)', r'\\1_\\2', string)\n",
    "    return re.sub('([a-z0-9])([A-Z])', r'\\1_\\2', string).lower()\n",
    "\n",
    "new_cols = []\n",
    "for string in data.columns:\n",
    "    new_cols.append(camel_to_snake(string))\n",
    "\n",
    "data.columns = new_cols"
   ]
  },
  {
   "cell_type": "code",
   "execution_count": 9,
   "metadata": {},
   "outputs": [
    {
     "data": {
      "text/plain": [
       "Index(['row_number', 'customer_id', 'surname', 'credit_score', 'geography',\n",
       "       'gender', 'age', 'tenure', 'balance', 'num_of_products', 'has_cr_card',\n",
       "       'is_active_member', 'estimated_salary', 'exited'],\n",
       "      dtype='object')"
      ]
     },
     "execution_count": 9,
     "metadata": {},
     "output_type": "execute_result"
    }
   ],
   "source": [
    "# Verificando los cambios realizados\n",
    "\n",
    "data.columns"
   ]
  },
  {
   "cell_type": "markdown",
   "metadata": {},
   "source": [
    "<div class=\"alert alert-block alert-success\">\n",
    "<b>Comentario del revisor</b> <a class=\"tocSkip\"></a>\n",
    "\n",
    "¡Fantástico! Has transformado los nombres de las columnas de `CamelCase` a `snake_case`, lo cual es una excelente práctica para mejorar la legibilidad del código. Mantener consistencia en los nombres de las variables es crucial para proyectos colaborativos y mantenimiento a largo plazo.\n",
    "</div>\n"
   ]
  },
  {
   "cell_type": "markdown",
   "metadata": {},
   "source": [
    "### Valores ausentes\n",
    "\n",
    "Los valores ausentes, segun la informacion preliminar del dataset, se presentan solo en la columna `Antiguedad ('tenure')`. "
   ]
  },
  {
   "cell_type": "code",
   "execution_count": 10,
   "metadata": {},
   "outputs": [
    {
     "data": {
      "text/plain": [
       "array([ 2.,  1.,  8.,  7.,  4.,  6.,  3., 10.,  5.,  9.,  0., nan])"
      ]
     },
     "execution_count": 10,
     "metadata": {},
     "output_type": "execute_result"
    }
   ],
   "source": [
    "# Verificando los varlores unicos de la columna 'tenure'.\n",
    "\n",
    "data.tenure.unique()"
   ]
  },
  {
   "cell_type": "markdown",
   "metadata": {},
   "source": [
    "La columna `'tenure'` contiene datos desde 0 a 10, por lo que sus valores ausentes seran reemplazados por la mediana de los datos con el objetivo de mantener la distribucion de los datos y minimizar la variabilidad y el sesgo del conjunto de datos.\n",
    "\n",
    "Ademas, se modificara el tipo de dato de la columna de decimal (float64) a entero (int64)."
   ]
  },
  {
   "cell_type": "code",
   "execution_count": 11,
   "metadata": {},
   "outputs": [],
   "source": [
    "# Reemplazando valores ausente\n",
    "\n",
    "data['tenure'].fillna(data['tenure'].median(), inplace = True)"
   ]
  },
  {
   "cell_type": "code",
   "execution_count": 12,
   "metadata": {},
   "outputs": [],
   "source": [
    "# Modificando tipo de dato de la columna 'tenure'\n",
    "\n",
    "data['tenure'] = data['tenure'].astype(int)"
   ]
  },
  {
   "cell_type": "code",
   "execution_count": 13,
   "metadata": {},
   "outputs": [
    {
     "data": {
      "text/plain": [
       "array([ 2,  1,  8,  7,  4,  6,  3, 10,  5,  9,  0])"
      ]
     },
     "execution_count": 13,
     "metadata": {},
     "output_type": "execute_result"
    }
   ],
   "source": [
    "# Verificando los cambios realizados\n",
    "\n",
    "data['tenure'].unique()"
   ]
  },
  {
   "cell_type": "markdown",
   "metadata": {},
   "source": [
    "De esta forma, el dataset ya no tiene valores ausentes."
   ]
  },
  {
   "cell_type": "markdown",
   "metadata": {},
   "source": [
    "<div class=\"alert alert-block alert-success\">\n",
    "<b>Comentario del revisor</b> <a class=\"tocSkip\"></a>\n",
    "\n",
    "Muy bien al manejar los valores ausentes con la mediana, ya que ayuda a preservar la distribución de los datos. También has convertido correctamente el tipo de dato de `tenure` a entero, lo que es importante para evitar problemas con los modelos que puedan no manejar bien los decimales en este caso.\n",
    "</div>\n"
   ]
  },
  {
   "cell_type": "markdown",
   "metadata": {},
   "source": [
    "### Valores duplicados\n",
    "\n",
    "Los valores duplicados no pueden observarse a simple vista, por ello, se revisa su presencia en el proyecto."
   ]
  },
  {
   "cell_type": "code",
   "execution_count": 14,
   "metadata": {},
   "outputs": [
    {
     "data": {
      "text/plain": [
       "0"
      ]
     },
     "execution_count": 14,
     "metadata": {},
     "output_type": "execute_result"
    }
   ],
   "source": [
    "# Verificacion valores duplicados\n",
    "\n",
    "data.duplicated().sum()"
   ]
  },
  {
   "cell_type": "markdown",
   "metadata": {},
   "source": [
    "No existen valores duplicados en el conjunto de datos."
   ]
  },
  {
   "cell_type": "markdown",
   "metadata": {},
   "source": [
    "<div class=\"alert alert-block alert-success\">\n",
    "<b>Comentario del revisor</b> <a class=\"tocSkip\"></a>\n",
    "\n",
    "Excelente revisión de valores duplicados. Es fundamental asegurar que no haya duplicados en un dataset para evitar que distorsionen los resultados del análisis.\n",
    "</div>\n"
   ]
  },
  {
   "cell_type": "markdown",
   "metadata": {},
   "source": [
    "### Eliminar columnas irrelevantes\n",
    "\n",
    "El dataset, tiene caracteristicas que son irrelevantes para el modelo, por lo que se procede a removerlas del proyecto, las cuales son: `Numero de fila('row_number')`, `ID de cliente('customer_id')` y `Apellido('surname')`."
   ]
  },
  {
   "cell_type": "code",
   "execution_count": 15,
   "metadata": {},
   "outputs": [
    {
     "data": {
      "text/html": [
       "<div>\n",
       "<style scoped>\n",
       "    .dataframe tbody tr th:only-of-type {\n",
       "        vertical-align: middle;\n",
       "    }\n",
       "\n",
       "    .dataframe tbody tr th {\n",
       "        vertical-align: top;\n",
       "    }\n",
       "\n",
       "    .dataframe thead th {\n",
       "        text-align: right;\n",
       "    }\n",
       "</style>\n",
       "<table border=\"1\" class=\"dataframe\">\n",
       "  <thead>\n",
       "    <tr style=\"text-align: right;\">\n",
       "      <th></th>\n",
       "      <th>credit_score</th>\n",
       "      <th>geography</th>\n",
       "      <th>gender</th>\n",
       "      <th>age</th>\n",
       "      <th>tenure</th>\n",
       "      <th>balance</th>\n",
       "      <th>num_of_products</th>\n",
       "      <th>has_cr_card</th>\n",
       "      <th>is_active_member</th>\n",
       "      <th>estimated_salary</th>\n",
       "      <th>exited</th>\n",
       "    </tr>\n",
       "  </thead>\n",
       "  <tbody>\n",
       "    <tr>\n",
       "      <th>0</th>\n",
       "      <td>619</td>\n",
       "      <td>France</td>\n",
       "      <td>Female</td>\n",
       "      <td>42</td>\n",
       "      <td>2</td>\n",
       "      <td>0.00</td>\n",
       "      <td>1</td>\n",
       "      <td>1</td>\n",
       "      <td>1</td>\n",
       "      <td>101348.88</td>\n",
       "      <td>1</td>\n",
       "    </tr>\n",
       "    <tr>\n",
       "      <th>1</th>\n",
       "      <td>608</td>\n",
       "      <td>Spain</td>\n",
       "      <td>Female</td>\n",
       "      <td>41</td>\n",
       "      <td>1</td>\n",
       "      <td>83807.86</td>\n",
       "      <td>1</td>\n",
       "      <td>0</td>\n",
       "      <td>1</td>\n",
       "      <td>112542.58</td>\n",
       "      <td>0</td>\n",
       "    </tr>\n",
       "    <tr>\n",
       "      <th>2</th>\n",
       "      <td>502</td>\n",
       "      <td>France</td>\n",
       "      <td>Female</td>\n",
       "      <td>42</td>\n",
       "      <td>8</td>\n",
       "      <td>159660.80</td>\n",
       "      <td>3</td>\n",
       "      <td>1</td>\n",
       "      <td>0</td>\n",
       "      <td>113931.57</td>\n",
       "      <td>1</td>\n",
       "    </tr>\n",
       "    <tr>\n",
       "      <th>3</th>\n",
       "      <td>699</td>\n",
       "      <td>France</td>\n",
       "      <td>Female</td>\n",
       "      <td>39</td>\n",
       "      <td>1</td>\n",
       "      <td>0.00</td>\n",
       "      <td>2</td>\n",
       "      <td>0</td>\n",
       "      <td>0</td>\n",
       "      <td>93826.63</td>\n",
       "      <td>0</td>\n",
       "    </tr>\n",
       "    <tr>\n",
       "      <th>4</th>\n",
       "      <td>850</td>\n",
       "      <td>Spain</td>\n",
       "      <td>Female</td>\n",
       "      <td>43</td>\n",
       "      <td>2</td>\n",
       "      <td>125510.82</td>\n",
       "      <td>1</td>\n",
       "      <td>1</td>\n",
       "      <td>1</td>\n",
       "      <td>79084.10</td>\n",
       "      <td>0</td>\n",
       "    </tr>\n",
       "  </tbody>\n",
       "</table>\n",
       "</div>"
      ],
      "text/plain": [
       "   credit_score geography  gender  age  tenure    balance  num_of_products  \\\n",
       "0           619    France  Female   42       2       0.00                1   \n",
       "1           608     Spain  Female   41       1   83807.86                1   \n",
       "2           502    France  Female   42       8  159660.80                3   \n",
       "3           699    France  Female   39       1       0.00                2   \n",
       "4           850     Spain  Female   43       2  125510.82                1   \n",
       "\n",
       "   has_cr_card  is_active_member  estimated_salary  exited  \n",
       "0            1                 1         101348.88       1  \n",
       "1            0                 1         112542.58       0  \n",
       "2            1                 0         113931.57       1  \n",
       "3            0                 0          93826.63       0  \n",
       "4            1                 1          79084.10       0  "
      ]
     },
     "execution_count": 15,
     "metadata": {},
     "output_type": "execute_result"
    }
   ],
   "source": [
    "# Removiendo las columnas mencionadas y verificando los realizado\n",
    "\n",
    "data.drop(['row_number','customer_id','surname'],axis = 1,inplace = True)\n",
    "data.head()"
   ]
  },
  {
   "cell_type": "markdown",
   "metadata": {},
   "source": [
    "<div class=\"alert alert-block alert-success\">\n",
    "<b>Comentario del revisor</b> <a class=\"tocSkip\"></a>\n",
    "\n",
    "Muy buen criterio para eliminar las columnas irrelevantes como `row_number`, `customer_id` y `surname`. Mantener solo las características útiles simplifica el análisis y mejora el rendimiento del modelo.\n",
    "</div>\n"
   ]
  },
  {
   "cell_type": "markdown",
   "metadata": {},
   "source": [
    "### Codificacion One-Hot (OHE)\n",
    "\n",
    "Este proceso se llevara a cabo con la tecnica OHE (One-Hot Encoding), para las columnas de `Genero ('gender')` y `Geografia ('geography')`"
   ]
  },
  {
   "cell_type": "code",
   "execution_count": 16,
   "metadata": {},
   "outputs": [
    {
     "data": {
      "text/plain": [
       "array(['Female', 'Male'], dtype=object)"
      ]
     },
     "execution_count": 16,
     "metadata": {},
     "output_type": "execute_result"
    }
   ],
   "source": [
    "# Observando los valores unicos de la columna genero\n",
    "\n",
    "data['gender'].unique()"
   ]
  },
  {
   "cell_type": "code",
   "execution_count": 17,
   "metadata": {},
   "outputs": [
    {
     "data": {
      "text/plain": [
       "array(['France', 'Spain', 'Germany'], dtype=object)"
      ]
     },
     "execution_count": 17,
     "metadata": {},
     "output_type": "execute_result"
    }
   ],
   "source": [
    "# Observando los valores unicos de la columna geografia\n",
    "\n",
    "data['geography'].unique()"
   ]
  },
  {
   "cell_type": "markdown",
   "metadata": {},
   "source": [
    "Estas variables categoricas, se transforman en variables binarias ficticias, y utilizando la tecnica de One-Hot Encoding (OHE); con el fin de quitar la trampa de la variable ficticia , se ejecutara el parametro drop_first = True, el cual elimina una de las variables binarias ficticias, respaldando que las variables permanezcan independientes y evita la multicolinealidad del modelo."
   ]
  },
  {
   "cell_type": "code",
   "execution_count": 18,
   "metadata": {},
   "outputs": [
    {
     "data": {
      "text/html": [
       "<div>\n",
       "<style scoped>\n",
       "    .dataframe tbody tr th:only-of-type {\n",
       "        vertical-align: middle;\n",
       "    }\n",
       "\n",
       "    .dataframe tbody tr th {\n",
       "        vertical-align: top;\n",
       "    }\n",
       "\n",
       "    .dataframe thead th {\n",
       "        text-align: right;\n",
       "    }\n",
       "</style>\n",
       "<table border=\"1\" class=\"dataframe\">\n",
       "  <thead>\n",
       "    <tr style=\"text-align: right;\">\n",
       "      <th></th>\n",
       "      <th>credit_score</th>\n",
       "      <th>age</th>\n",
       "      <th>tenure</th>\n",
       "      <th>balance</th>\n",
       "      <th>num_of_products</th>\n",
       "      <th>has_cr_card</th>\n",
       "      <th>is_active_member</th>\n",
       "      <th>estimated_salary</th>\n",
       "      <th>exited</th>\n",
       "      <th>geography_Germany</th>\n",
       "      <th>geography_Spain</th>\n",
       "      <th>gender_Male</th>\n",
       "    </tr>\n",
       "  </thead>\n",
       "  <tbody>\n",
       "    <tr>\n",
       "      <th>0</th>\n",
       "      <td>619</td>\n",
       "      <td>42</td>\n",
       "      <td>2</td>\n",
       "      <td>0.00</td>\n",
       "      <td>1</td>\n",
       "      <td>1</td>\n",
       "      <td>1</td>\n",
       "      <td>101348.88</td>\n",
       "      <td>1</td>\n",
       "      <td>0</td>\n",
       "      <td>0</td>\n",
       "      <td>0</td>\n",
       "    </tr>\n",
       "    <tr>\n",
       "      <th>1</th>\n",
       "      <td>608</td>\n",
       "      <td>41</td>\n",
       "      <td>1</td>\n",
       "      <td>83807.86</td>\n",
       "      <td>1</td>\n",
       "      <td>0</td>\n",
       "      <td>1</td>\n",
       "      <td>112542.58</td>\n",
       "      <td>0</td>\n",
       "      <td>0</td>\n",
       "      <td>1</td>\n",
       "      <td>0</td>\n",
       "    </tr>\n",
       "    <tr>\n",
       "      <th>2</th>\n",
       "      <td>502</td>\n",
       "      <td>42</td>\n",
       "      <td>8</td>\n",
       "      <td>159660.80</td>\n",
       "      <td>3</td>\n",
       "      <td>1</td>\n",
       "      <td>0</td>\n",
       "      <td>113931.57</td>\n",
       "      <td>1</td>\n",
       "      <td>0</td>\n",
       "      <td>0</td>\n",
       "      <td>0</td>\n",
       "    </tr>\n",
       "    <tr>\n",
       "      <th>3</th>\n",
       "      <td>699</td>\n",
       "      <td>39</td>\n",
       "      <td>1</td>\n",
       "      <td>0.00</td>\n",
       "      <td>2</td>\n",
       "      <td>0</td>\n",
       "      <td>0</td>\n",
       "      <td>93826.63</td>\n",
       "      <td>0</td>\n",
       "      <td>0</td>\n",
       "      <td>0</td>\n",
       "      <td>0</td>\n",
       "    </tr>\n",
       "    <tr>\n",
       "      <th>4</th>\n",
       "      <td>850</td>\n",
       "      <td>43</td>\n",
       "      <td>2</td>\n",
       "      <td>125510.82</td>\n",
       "      <td>1</td>\n",
       "      <td>1</td>\n",
       "      <td>1</td>\n",
       "      <td>79084.10</td>\n",
       "      <td>0</td>\n",
       "      <td>0</td>\n",
       "      <td>1</td>\n",
       "      <td>0</td>\n",
       "    </tr>\n",
       "  </tbody>\n",
       "</table>\n",
       "</div>"
      ],
      "text/plain": [
       "   credit_score  age  tenure    balance  num_of_products  has_cr_card  \\\n",
       "0           619   42       2       0.00                1            1   \n",
       "1           608   41       1   83807.86                1            0   \n",
       "2           502   42       8  159660.80                3            1   \n",
       "3           699   39       1       0.00                2            0   \n",
       "4           850   43       2  125510.82                1            1   \n",
       "\n",
       "   is_active_member  estimated_salary  exited  geography_Germany  \\\n",
       "0                 1         101348.88       1                  0   \n",
       "1                 1         112542.58       0                  0   \n",
       "2                 0         113931.57       1                  0   \n",
       "3                 0          93826.63       0                  0   \n",
       "4                 1          79084.10       0                  0   \n",
       "\n",
       "   geography_Spain  gender_Male  \n",
       "0                0            0  \n",
       "1                1            0  \n",
       "2                0            0  \n",
       "3                0            0  \n",
       "4                1            0  "
      ]
     },
     "execution_count": 18,
     "metadata": {},
     "output_type": "execute_result"
    }
   ],
   "source": [
    "# Creando caracteristicas dummy usando One-Hot Encoding\n",
    "\n",
    "data = pd.get_dummies(data, drop_first = True)\n",
    "data.head()"
   ]
  },
  {
   "cell_type": "markdown",
   "metadata": {},
   "source": [
    "### Sintesis del capitulo\n",
    "\n",
    "Con el fin de facilitar la manipulacion de datos en el proyecto, se realiza la modificacion de los nombres de columnas, transformando el tipo CamelCase en snake_case.\n",
    "\n",
    "Manteniendo el objetivo, se procede a realizar tratamiento a los valores ausentes de la columna `tenure`, los cuales fueron reemplazados por la mediana de los datos, ademas de modificar el tipo de datos de la columna de tipo decimal a tipo entero, ademas de verificar la existencia de valores duplicados, los cuales no se encontraron en el dataset, y se eliminaron columnas irrelevantes para el proyecto.\n",
    "\n",
    "Por ultimo, se anadieron columnas con variables ficticias binarias provenientes de variables categoricas, creadas a traves de la tecnica One-Hot Encoding (OHE), la cual reemplaza estas caracteristicas en variables numericas, para ser procesadas por los algoritmos de aprendizaje automatico, dado que muchos modelos de Machine Learning no pueden procesar directamente datos categoricos."
   ]
  },
  {
   "cell_type": "markdown",
   "metadata": {},
   "source": [
    "<div class=\"alert alert-block alert-success\">\n",
    "<b>Comentario del revisor</b> <a class=\"tocSkip\"></a>\n",
    "\n",
    "Has implementado correctamente la codificación One-Hot, lo cual es fundamental para que los modelos puedan trabajar con variables categóricas. Solo te recomendaría documentar un poco más qué implica la “trampa de variables ficticias” para reforzar tu conocimiento y clarificar este proceso.\n",
    "</div>\n"
   ]
  },
  {
   "cell_type": "markdown",
   "metadata": {},
   "source": [
    "## **Particion de los datos**\n",
    "\n",
    "En este proyecto, se tiene un solo set de datos, por lo que se realizara la particion de este para obtener los conjuntos necesario para realizar el modelado y testeo respectivo.\n",
    "\n",
    "Para ello, se utilizara la funcion \"train_test_split\" de la libreria \"Scikit-learn\" y su modulo \"model_selection\", la cual se empleara 2 veces para obtener los 3 pares de conjuntos. "
   ]
  },
  {
   "cell_type": "markdown",
   "metadata": {},
   "source": [
    "### Variables caracteristicas(features) y objetivo(target)"
   ]
  },
  {
   "cell_type": "code",
   "execution_count": 19,
   "metadata": {},
   "outputs": [],
   "source": [
    "# Almacenando en variables, las columnas con datos de caracteristicas(features) y la columna objetivo(target)\n",
    "\n",
    "features = data.drop('exited', axis = 1)\n",
    "target = data['exited']"
   ]
  },
  {
   "cell_type": "markdown",
   "metadata": {},
   "source": [
    "<div class=\"alert alert-block alert-success\">\n",
    "<b>Comentario del revisor</b> <a class=\"tocSkip\"></a>\n",
    "\n",
    "Muy bien al separar las variables características del objetivo. Esto organiza bien tu análisis y facilita la preparación para el modelado.\n",
    "</div>\n"
   ]
  },
  {
   "cell_type": "markdown",
   "metadata": {},
   "source": [
    "### Conjuntos de entrenamiento, validacion y prueba"
   ]
  },
  {
   "cell_type": "code",
   "execution_count": 20,
   "metadata": {},
   "outputs": [],
   "source": [
    "# Obteniendo el dataset de entrenamiento\n",
    "\n",
    "features_train, features_temp, target_train, target_temp = train_test_split(features, target, test_size = 0.3, random_state = seed)\n",
    "\n",
    "# Obteniendo conjuntos de validacion y prueba\n",
    "\n",
    "features_valid, features_test, target_valid, target_test = train_test_split(features_temp, target_temp, test_size = 0.5, random_state = seed)"
   ]
  },
  {
   "cell_type": "code",
   "execution_count": 21,
   "metadata": {},
   "outputs": [
    {
     "name": "stdout",
     "output_type": "stream",
     "text": [
      "(7000, 11)\n",
      "(1500, 11)\n",
      "(1500, 11)\n"
     ]
    }
   ],
   "source": [
    "# Comprobando particion de caracteristicas\n",
    "\n",
    "print(features_train.shape)\n",
    "print(features_valid.shape)\n",
    "print(features_test.shape)"
   ]
  },
  {
   "cell_type": "code",
   "execution_count": 22,
   "metadata": {},
   "outputs": [
    {
     "name": "stdout",
     "output_type": "stream",
     "text": [
      "(7000,)\n",
      "(1500,)\n",
      "(1500,)\n"
     ]
    }
   ],
   "source": [
    "# Comprobando particion de objetivos\n",
    "\n",
    "print(target_train.shape)\n",
    "print(target_valid.shape)\n",
    "print(target_test.shape)"
   ]
  },
  {
   "cell_type": "markdown",
   "metadata": {},
   "source": [
    "### Sintesis del capitulo\n",
    "\n",
    "Se realizo la particion de los datos, dejando los conjuntos en la siguiente proporcion, datos de entrenamiento 70%, datos de validacion 15%, y datos de prueba 15%, ya que al tener mayor cantidad de datos para entrenar el modelo tiende a tener mayor precision en las predicciones con los otros set de datos.\n",
    "\n",
    "Ademas, se dividen los conjuntos, separando la variable objetivo de estos, por lo que finalmente se obtienen 6 sets de datos para el proyecto."
   ]
  },
  {
   "cell_type": "markdown",
   "metadata": {},
   "source": [
    "<div class=\"alert alert-block alert-success\">\n",
    "<b>Comentario del revisor</b> <a class=\"tocSkip\"></a>\n",
    "\n",
    "¡Excelente partición de los datos! Tener conjuntos de entrenamiento, validación y prueba en la proporción adecuada es clave para evitar el sobreajuste y asegurar un buen rendimiento generalizado.\n",
    "</div>\n"
   ]
  },
  {
   "cell_type": "markdown",
   "metadata": {},
   "source": [
    "## **Estandarizacion de los datos**\n",
    "\n",
    "Las variables numericas tienen que tener una escala similar para evitar cualquier confusion de parte del modelo, por ello, se realiza una estandarizacion o escalamiento de los datos.\n",
    "\n",
    "Las caracteristicas de seleccionadas, son las numericas que tienen una elevada variabilidad en sus registros, como lo son `'credit_score'`, `'age'`, `'tenure'`, `'balance'`, `'num_of_products'`, `'estimated_salary'`, lo que garantiza un grupo de datos consistentes."
   ]
  },
  {
   "cell_type": "markdown",
   "metadata": {},
   "source": [
    "### Escalado de caracteristicas"
   ]
  },
  {
   "cell_type": "code",
   "execution_count": 23,
   "metadata": {},
   "outputs": [],
   "source": [
    "# Escalando los datos con alta variabilidad\n",
    "\n",
    "numeric = ['credit_score','age','tenure','balance','num_of_products','estimated_salary']\n",
    "scaler = StandardScaler()\n",
    "scaler.fit(features_train[numeric])\n",
    "features_train[numeric] = scaler.transform(features_train[numeric])\n",
    "features_valid[numeric] = scaler.transform(features_valid[numeric])\n",
    "features_test[numeric] = scaler.transform(features_test[numeric])"
   ]
  },
  {
   "cell_type": "code",
   "execution_count": 24,
   "metadata": {},
   "outputs": [
    {
     "data": {
      "text/html": [
       "<div>\n",
       "<style scoped>\n",
       "    .dataframe tbody tr th:only-of-type {\n",
       "        vertical-align: middle;\n",
       "    }\n",
       "\n",
       "    .dataframe tbody tr th {\n",
       "        vertical-align: top;\n",
       "    }\n",
       "\n",
       "    .dataframe thead th {\n",
       "        text-align: right;\n",
       "    }\n",
       "</style>\n",
       "<table border=\"1\" class=\"dataframe\">\n",
       "  <thead>\n",
       "    <tr style=\"text-align: right;\">\n",
       "      <th></th>\n",
       "      <th>credit_score</th>\n",
       "      <th>age</th>\n",
       "      <th>tenure</th>\n",
       "      <th>balance</th>\n",
       "      <th>num_of_products</th>\n",
       "      <th>has_cr_card</th>\n",
       "      <th>is_active_member</th>\n",
       "      <th>estimated_salary</th>\n",
       "      <th>geography_Germany</th>\n",
       "      <th>geography_Spain</th>\n",
       "      <th>gender_Male</th>\n",
       "    </tr>\n",
       "  </thead>\n",
       "  <tbody>\n",
       "    <tr>\n",
       "      <th>3734</th>\n",
       "      <td>1.506519</td>\n",
       "      <td>0.116375</td>\n",
       "      <td>-1.085597</td>\n",
       "      <td>0.580138</td>\n",
       "      <td>0.819919</td>\n",
       "      <td>1</td>\n",
       "      <td>1</td>\n",
       "      <td>-0.935077</td>\n",
       "      <td>1</td>\n",
       "      <td>0</td>\n",
       "      <td>1</td>\n",
       "    </tr>\n",
       "    <tr>\n",
       "      <th>1823</th>\n",
       "      <td>1.423778</td>\n",
       "      <td>1.756041</td>\n",
       "      <td>1.092339</td>\n",
       "      <td>0.266609</td>\n",
       "      <td>-0.893345</td>\n",
       "      <td>1</td>\n",
       "      <td>1</td>\n",
       "      <td>1.385912</td>\n",
       "      <td>1</td>\n",
       "      <td>0</td>\n",
       "      <td>0</td>\n",
       "    </tr>\n",
       "    <tr>\n",
       "      <th>413</th>\n",
       "      <td>0.441226</td>\n",
       "      <td>0.212826</td>\n",
       "      <td>0.003371</td>\n",
       "      <td>1.676564</td>\n",
       "      <td>2.533183</td>\n",
       "      <td>1</td>\n",
       "      <td>1</td>\n",
       "      <td>1.520916</td>\n",
       "      <td>1</td>\n",
       "      <td>0</td>\n",
       "      <td>0</td>\n",
       "    </tr>\n",
       "    <tr>\n",
       "      <th>9114</th>\n",
       "      <td>-1.130857</td>\n",
       "      <td>-0.269429</td>\n",
       "      <td>0.003371</td>\n",
       "      <td>-1.239309</td>\n",
       "      <td>0.819919</td>\n",
       "      <td>1</td>\n",
       "      <td>0</td>\n",
       "      <td>0.425228</td>\n",
       "      <td>0</td>\n",
       "      <td>0</td>\n",
       "      <td>1</td>\n",
       "    </tr>\n",
       "    <tr>\n",
       "      <th>999</th>\n",
       "      <td>1.123841</td>\n",
       "      <td>-0.076527</td>\n",
       "      <td>-1.448587</td>\n",
       "      <td>0.433316</td>\n",
       "      <td>-0.893345</td>\n",
       "      <td>0</td>\n",
       "      <td>0</td>\n",
       "      <td>-0.151550</td>\n",
       "      <td>0</td>\n",
       "      <td>0</td>\n",
       "      <td>0</td>\n",
       "    </tr>\n",
       "  </tbody>\n",
       "</table>\n",
       "</div>"
      ],
      "text/plain": [
       "      credit_score       age    tenure   balance  num_of_products  \\\n",
       "3734      1.506519  0.116375 -1.085597  0.580138         0.819919   \n",
       "1823      1.423778  1.756041  1.092339  0.266609        -0.893345   \n",
       "413       0.441226  0.212826  0.003371  1.676564         2.533183   \n",
       "9114     -1.130857 -0.269429  0.003371 -1.239309         0.819919   \n",
       "999       1.123841 -0.076527 -1.448587  0.433316        -0.893345   \n",
       "\n",
       "      has_cr_card  is_active_member  estimated_salary  geography_Germany  \\\n",
       "3734            1                 1         -0.935077                  1   \n",
       "1823            1                 1          1.385912                  1   \n",
       "413             1                 1          1.520916                  1   \n",
       "9114            1                 0          0.425228                  0   \n",
       "999             0                 0         -0.151550                  0   \n",
       "\n",
       "      geography_Spain  gender_Male  \n",
       "3734                0            1  \n",
       "1823                0            0  \n",
       "413                 0            0  \n",
       "9114                0            1  \n",
       "999                 0            0  "
      ]
     },
     "execution_count": 24,
     "metadata": {},
     "output_type": "execute_result"
    }
   ],
   "source": [
    "# Verificando el resultado\n",
    "\n",
    "features_train.head()"
   ]
  },
  {
   "cell_type": "markdown",
   "metadata": {},
   "source": [
    "<div class=\"alert alert-block alert-success\">\n",
    "<b>Comentario del revisor</b> <a class=\"tocSkip\"></a>\n",
    "\n",
    "Perfecto uso de `StandardScaler` para estandarizar los datos. Es crucial que las características estén en la misma escala, especialmente para modelos como la regresión logística. Buen trabajo.\n",
    "</div>\n"
   ]
  },
  {
   "cell_type": "markdown",
   "metadata": {},
   "source": [
    "### Verificando el balance de clases en la variable objetivo (target)\n",
    "\n",
    "\n",
    "Analisis del desbalance de los datos, reflejado en la variable objetivo, por lo que se estudia la frecuencia de las clases \"1\" y \"0\", empleando el metodo value_counts(), el cual entrega la cantidad de ocasiones, que suceden cada una de las clases, lo que proporciona informacion sobre la distribucion de las clases, y permite dar coherencia al modelo."
   ]
  },
  {
   "cell_type": "code",
   "execution_count": 25,
   "metadata": {},
   "outputs": [
    {
     "name": "stdout",
     "output_type": "stream",
     "text": [
      "0    0.7963\n",
      "1    0.2037\n",
      "Name: exited, dtype: float64\n"
     ]
    },
    {
     "data": {
      "text/plain": [
       "<AxesSubplot:>"
      ]
     },
     "execution_count": 25,
     "metadata": {},
     "output_type": "execute_result"
    },
    {
     "data": {
      "image/png": "[encoded data removed]",
      "text/plain": [
       "<Figure size 640x480 with 1 Axes>"
      ]
     },
     "metadata": {},
     "output_type": "display_data"
    }
   ],
   "source": [
    "# Verificando desequilibrio de la variable\n",
    "\n",
    "class_frequency = data['exited'].value_counts(normalize=True)\n",
    "print(class_frequency)\n",
    "class_frequency.plot(kind='bar')"
   ]
  },
  {
   "cell_type": "markdown",
   "metadata": {},
   "source": [
    "### Sintesis del Capitulo\n",
    "\n",
    "Para este proyecto, es de suma importancia estandarizar los datos, ya que existen variables con registros muy elevados lo que desorienta al modelo y le entrega mayor importancia a esas caracteristicas, haciendo que algunos algoritmos tengan un desempeno deficiente, como la regresion logistica que es sensible al tamano de los datos, por ultimo y lo mas importante que el escalamiento de variables hace todas las categorias comparables entre si, ya que el resultado obtenido es adimensional, es decir, no tienen unidades.\n",
    "\n",
    "Por ultimo, el desbalance de los datos permite determinar que el 20% de los clientes se fugan, y el 80% restante son clientes fidelizados, esto se tratara mas adelante en el proyecto."
   ]
  },
  {
   "cell_type": "markdown",
   "metadata": {},
   "source": [
    "<div class=\"alert alert-block alert-success\">\n",
    "<b>Comentario del revisor</b> <a class=\"tocSkip\"></a>\n",
    "\n",
    "Muy bien al identificar el desbalance en las clases. Saber que el 20% de los clientes abandonan y el 80% se queda es importante, ya que afectará las decisiones de modelado.\n",
    "</div>\n"
   ]
  },
  {
   "cell_type": "markdown",
   "metadata": {},
   "source": [
    "## **Modelos (Datos desbalanceados)**\n",
    "\n",
    "Para evaluar la calidad de los modelo, se evaluaran mediante 2 metricas, la metrica de F1, como la metrica de AUC-ROC. La metrica F1 compara los resultados previstos con los valores objetivo reales del conjunto de datos de validación. por otra parte, la función roc_auc_score() mide el área bajo la curva ROC (característica operativa del receptor), que ilustra la compensación entre la tasa de verdaderos positivos y la tasa de falsos positivos. Para calcular esta metrica, utilizaremos la función predict_proba() para obtener la probabilidad de clase positiva para cada observación en el set de datos de validación."
   ]
  },
  {
   "cell_type": "markdown",
   "metadata": {},
   "source": [
    "### Arbol de Decision (Decision Tree)\n",
    "\n",
    "Para este modelo se ajustaran los hiperparámetros para evitar el sobreajuste. En concreto, es centrar el modelo en dos hiperparámetros: `max_depth`, que determina la altura del árbol de decisión, y `random_state`, que garantiza la reproducibilidad estableciendo una semilla aleatoria fija (1100)."
   ]
  },
  {
   "cell_type": "code",
   "execution_count": 26,
   "metadata": {
    "scrolled": true
   },
   "outputs": [
    {
     "name": "stdout",
     "output_type": "stream",
     "text": [
      "Max_depth = 1, F1 score datos entrenamiento = 0.0000 | F1 score datos validacion 0.0000 | AUC-ROC score = 0.6821\n",
      "Max_depth = 2, F1 score datos entrenamiento = 0.5172 | F1 score datos validacion 0.4941 | AUC-ROC score = 0.7219\n",
      "Max_depth = 3, F1 score datos entrenamiento = 0.4072 | F1 score datos validacion 0.4081 | AUC-ROC score = 0.7797\n",
      "Max_depth = 4, F1 score datos entrenamiento = 0.5310 | F1 score datos validacion 0.5185 | AUC-ROC score = 0.8115\n",
      "Max_depth = 5, F1 score datos entrenamiento = 0.5590 | F1 score datos validacion 0.5427 | AUC-ROC score = 0.8425\n",
      "Max_depth = 6, F1 score datos entrenamiento = 0.5828 | F1 score datos validacion 0.5751 | AUC-ROC score = 0.8432\n",
      "Max_depth = 7, F1 score datos entrenamiento = 0.6275 | F1 score datos validacion 0.5859 | AUC-ROC score = 0.8397\n",
      "Max_depth = 8, F1 score datos entrenamiento = 0.6562 | F1 score datos validacion 0.5528 | AUC-ROC score = 0.8273\n",
      "Max_depth = 9, F1 score datos entrenamiento = 0.6985 | F1 score datos validacion 0.5631 | AUC-ROC score = 0.7967\n",
      "Max_depth = 10, F1 score datos entrenamiento = 0.7403 | F1 score datos validacion 0.5236 | AUC-ROC score = 0.7859\n"
     ]
    }
   ],
   "source": [
    "# Entrenamiento del modelo DecisionTreeClassifier\n",
    "\n",
    "for i in range(1,11):\n",
    "    dt_model = DecisionTreeClassifier(max_depth = i,random_state = seed)\n",
    "    dt_model.fit(features_train, target_train)\n",
    "    dt_pred_train = dt_model.predict(features_train)\n",
    "    dt_pred_valid = dt_model.predict(features_valid)\n",
    "    probabilities_dt_valid = dt_model.predict_proba(features_valid)\n",
    "    probabilities_one_dt_valid = probabilities_dt_valid[:,1]\n",
    "    f1_train = f1_score(target_train,dt_pred_train)\n",
    "    f1_valid = f1_score(target_valid, dt_pred_valid)\n",
    "    roc_auc = roc_auc_score(target_valid, probabilities_one_dt_valid)\n",
    "    print(f'Max_depth = {i}, F1 score datos entrenamiento = {f1_train:.4f} | F1 score datos validacion {f1_valid:.4f} | AUC-ROC score = {roc_auc:.4f}')"
   ]
  },
  {
   "cell_type": "markdown",
   "metadata": {},
   "source": [
    "La configuración con mejor rendimiento para el modelo de árbol de decisiones se logra con un valor de `max_depth` de 6. Esta configuración genera la puntuación `F1` más alta (0,5751) en los datos de validación, así como una puntuación `AUC-ROC` relativamente alta de 0,8432 (la más alta entre las configuraciones probadas). Aunque hay una diferencia notable en la puntuación F1 entre los datos de entrenamiento y validación, se mantiene dentro de un rango razonable, lo que sugiere que el modelo no está sobreajustado."
   ]
  },
  {
   "cell_type": "markdown",
   "metadata": {},
   "source": [
    "<div class=\"alert alert-block alert-success\">\n",
    "<b>Comentario del revisor</b> <a class=\"tocSkip\"></a>\n",
    "\n",
    "¡Gran trabajo ajustando los hiperparámetros! Has probado diferentes valores para `max_depth` y revisado las métricas clave F1 y AUC-ROC. Es excelente ver cómo te aseguras de que el modelo no esté sobreajustado.\n",
    "</div>\n"
   ]
  },
  {
   "cell_type": "markdown",
   "metadata": {},
   "source": [
    "### Bosque Aleatorio (Random Forest)\n",
    "\n",
    "El segundo modelo en ser probado, es el bosque aleatorio. En este modelo, ajustaremos el parámetro `n_estimators`, que representa la cantidad de árboles en el bosque. Probaremos valores que van desde 10 a 100 árboles. Además, también exploraremos el parámetro `max_depth` dentro del rango de 1 a 10, mientras mantenemos el parámetro `random_state` fijo en 1100."
   ]
  },
  {
   "cell_type": "code",
   "execution_count": 27,
   "metadata": {},
   "outputs": [
    {
     "name": "stdout",
     "output_type": "stream",
     "text": [
      "Max_depth = 10 | N_estimators =  40 | F1_score = 0.5867\n"
     ]
    }
   ],
   "source": [
    "# Entrenamiento del modelo RandomForestClassifier\n",
    "\n",
    "best_score = 0\n",
    "best_est = 0\n",
    "best_depth = 0\n",
    "depth = 10\n",
    "estimators = 100\n",
    "step = 10\n",
    "\n",
    "for i in range(1, depth + 1):\n",
    "    for est in range(10,estimators + 1,step):\n",
    "        \n",
    "        rf_model = RandomForestClassifier(random_state = seed, max_depth = i, n_estimators = est)\n",
    "        rf_model.fit(features_train, target_train)\n",
    "        rf_predict_valid = rf_model.predict(features_valid)\n",
    "        f1_valid = f1_score(rf_predict_valid, target_valid)    \n",
    "        \n",
    "        if f1_valid > best_score:\n",
    "            best_score = f1_valid\n",
    "            best_est = est \n",
    "            best_depth = i\n",
    "\n",
    "print(f'Max_depth = {best_depth} | N_estimators =  {best_est} | F1_score = {best_score:.4f}')"
   ]
  },
  {
   "cell_type": "markdown",
   "metadata": {},
   "source": [
    "El modelo con mejor desempeno para este modelo se logra con los hiperparámetros `max_depth` = 10, `n_estimators` = 40 y `random_state` = 1100.\n",
    "\n",
    "Ahora se evaluaran las metrica F1 y la metrica AUC-ROC para este modelo. Estas brindarán información sobre el rendimiento y la calidad del modelo."
   ]
  },
  {
   "cell_type": "code",
   "execution_count": 28,
   "metadata": {},
   "outputs": [
    {
     "name": "stdout",
     "output_type": "stream",
     "text": [
      "F1 entrenamiento = 0.7087 | F1 validacion = 0.5867 | AUC-ROC = 0.8537\n"
     ]
    }
   ],
   "source": [
    "# Evaluacion de metricas para RandomForestClassifier\n",
    "\n",
    "best_rf_model = RandomForestClassifier(random_state = seed, max_depth = best_depth, n_estimators = best_est)\n",
    "best_rf_model.fit(features_train, target_train)\n",
    "best_rf_train = best_rf_model.predict(features_train)\n",
    "best_rf_valid = best_rf_model.predict(features_valid)\n",
    "probabilities_rf_valid = best_rf_model.predict_proba(features_valid)\n",
    "probabilities_one_rf_valid = probabilities_rf_valid[:,1]\n",
    "print(f'F1 entrenamiento = {f1_score(target_train, best_rf_train):.4f} | F1 validacion = {f1_score(target_valid, best_rf_valid):.4f} | AUC-ROC = {roc_auc_score(target_valid, probabilities_one_rf_valid):.4f}')"
   ]
  },
  {
   "cell_type": "markdown",
   "metadata": {},
   "source": [
    "Este modelo logra el mejor puntaje de `AUC-ROC` de 0,8537. Aunque hay una diferencia notable entre los puntajes `F1` de los conjuntos de entrenamiento 0,7087 y validación 0,5867, lo cual puede indicar sobreajuste, el rendimiento del modelo sigue siendo aceptable."
   ]
  },
  {
   "cell_type": "markdown",
   "metadata": {},
   "source": [
    "<div class=\"alert alert-block alert-success\">\n",
    "<b>Comentario del revisor</b> <a class=\"tocSkip\"></a>\n",
    "\n",
    "Muy bien explorado el modelo de bosque aleatorio, ajustando parámetros como `n_estimators` y `max_depth`. Esto muestra que entiendes cómo estos hiperparámetros afectan el rendimiento del modelo. La evaluación del modelo es clara y está bien documentada.\n",
    "</div>\n"
   ]
  },
  {
   "cell_type": "markdown",
   "metadata": {},
   "source": [
    "### Regresion Logistica (Logistic Regression)\n",
    "\n",
    "Este tercer y ultimo modelo, a diferencia de los dos modelos anteriores, no implica hiperparámetros relacionados con la profundidad o la cantidad de árboles. En su lugar, especificaremos el parámetro del solucionador `solver` y, en este caso, utilizaremos liblinear. Mantendremos el parámetro `random_state` establecido en 1100."
   ]
  },
  {
   "cell_type": "code",
   "execution_count": 29,
   "metadata": {},
   "outputs": [
    {
     "name": "stdout",
     "output_type": "stream",
     "text": [
      "F1 entrenamiento = 0.3116 | F1 validacion = 0.3596 | AUC-ROC = 0.7737\n"
     ]
    }
   ],
   "source": [
    "lr_model = LogisticRegression(random_state = seed, solver = 'liblinear')\n",
    "lr_model.fit(features_train, target_train)\n",
    "lr_pred_train = lr_model.predict(features_train)\n",
    "lr_pred_valid = lr_model.predict(features_valid)\n",
    "probabilities_lr_valid = lr_model.predict_proba(features_valid)\n",
    "probabilities_one_lr_valid = probabilities_lr_valid[:, 1]\n",
    "print(f'F1 entrenamiento = {f1_score(target_train, lr_pred_train):.4f} | F1 validacion = {f1_score(target_valid, lr_pred_valid):.4f} | AUC-ROC = {roc_auc_score(target_valid, probabilities_one_lr_valid):.4f}')"
   ]
  },
  {
   "cell_type": "markdown",
   "metadata": {},
   "source": [
    "El modelo de regresión logística parece tener un peor rendimiento que los dos modelos anteriores. El puntaje `F1` de validación es de solo 0,3596 y el `AUC-ROC` es de 0,7737. Aunque el rango entre los puntajes F1 para los conjuntos de entrenamiento y validación no es significativo, lo que sugiere que el modelo no está sobreajustado, el rendimiento general es relativamente menor en comparación con los modelos de árboles de decisión y de bosque aleatorio."
   ]
  },
  {
   "cell_type": "markdown",
   "metadata": {},
   "source": [
    "### Sintesis del capitulo\n",
    "\n",
    "Después de entrenar los modelo sin mejorar la calidad de los datasets, los resultados son aceptables. El mejor modelo logró una puntuación `F1` de 0,5867 y un `AUC-ROC` de 0,8537 utilizando el algoritmo de bosque aleatorio con hiperparámetros (`random_state` = 1100, `max_depth` = 10, `n_estimators` = 40). Por lo tanto, se determino continuar con el modelo de bosque aleatorio."
   ]
  },
  {
   "cell_type": "markdown",
   "metadata": {},
   "source": [
    "<div class=\"alert alert-block alert-success\">\n",
    "<b>Comentario del revisor</b> <a class=\"tocSkip\"></a>\n",
    "\n",
    "Aunque la regresión logística no obtuvo el mejor rendimiento en comparación con los árboles, es excelente que lo hayas probado. Te sugiero investigar un poco más sobre cómo la multicolinealidad puede afectar la regresión logística y cómo solucionarlo.\n",
    "</div>\n"
   ]
  },
  {
   "cell_type": "markdown",
   "metadata": {},
   "source": [
    "## **Modelo destacado (Balance de datos)**\n",
    "\n",
    "Considerando el desequilibrio en nuestro conjunto de datos, se necesita explorar métodos para mejorar la calidad de los datos abordando el problema del desequilibrio de clases. Las puntuaciones F1 obtenidas del modelo sin mejorar la calidad no son lo suficientemente altas. Se pretende mejorar la calidad del conjunto de datos ajustando los pesos de las clases y empleando técnicas de muestreo ascendente y descendente."
   ]
  },
  {
   "cell_type": "markdown",
   "metadata": {},
   "source": [
    "### Ajuste de las clases\n",
    "\n",
    "Se equilibran los pesos de las clases con el parametro `class_weight = 'balance'`"
   ]
  },
  {
   "cell_type": "code",
   "execution_count": 30,
   "metadata": {},
   "outputs": [
    {
     "name": "stdout",
     "output_type": "stream",
     "text": [
      "F1 entrenamiento = 0.7933 | F1 validacion = 0.6144 | AUC-ROC = 0.8611\n"
     ]
    }
   ],
   "source": [
    "best_rf_model = RandomForestClassifier(random_state = seed, max_depth = best_depth, n_estimators = best_est, class_weight = 'balanced')\n",
    "best_rf_model.fit(features_train, target_train)\n",
    "best_rf_train = best_rf_model.predict(features_train)\n",
    "best_rf_valid = best_rf_model.predict(features_valid)\n",
    "probabilities_rf_valid = best_rf_model.predict_proba(features_valid)\n",
    "probabilities_one_rf_valid = probabilities_rf_valid[:,1]\n",
    "print(f'F1 entrenamiento = {f1_score(target_train, best_rf_train):.4f} | F1 validacion = {f1_score(target_valid, best_rf_valid):.4f} | AUC-ROC = {roc_auc_score(target_valid, probabilities_one_rf_valid):.4f}')"
   ]
  },
  {
   "cell_type": "markdown",
   "metadata": {},
   "source": [
    "Las metricas de F1 y AUC-ROC son satisfactorias para el modelo, aunque hay una diferencia notable entre las puntuaciones F1 de los conjuntos de datos de entrenamiento y validación."
   ]
  },
  {
   "cell_type": "markdown",
   "metadata": {},
   "source": [
    "<div class=\"alert alert-block alert-success\">\n",
    "<b>Comentario del revisor</b> <a class=\"tocSkip\"></a>\n",
    "\n",
    "Muy bien al probar el ajuste de clases con `class_weight`. Este enfoque balancea el modelo sin cambiar los datos, lo cual es una técnica robusta. Has explicado bien los resultados.\n",
    "</div>\n"
   ]
  },
  {
   "cell_type": "markdown",
   "metadata": {},
   "source": [
    "### Sobremuestreo\n",
    "\n",
    "El problema del desequilibrio de clases, sera mitigado aumentando el número de muestras con un valor objetivo de \"1\", que actualmente representa solo el 20 por ciento de los datos. Intentaremos aumentar la muestra de la clase minoritaria para aumentar su representación con un factor de 4."
   ]
  },
  {
   "cell_type": "code",
   "execution_count": 31,
   "metadata": {},
   "outputs": [],
   "source": [
    "# Funcion para aumentar muestras de clase \"1\"\n",
    "\n",
    "def upsample(features, target, repeat):\n",
    "    features_zeros = features_train[target_train == 0]\n",
    "    features_ones = features_train[target_train == 1] \n",
    "    target_zeros = target_train[target_train == 0]\n",
    "    target_ones = target_train[target_train == 1]\n",
    "    features_upsampled = pd.concat([features_zeros] + [features_ones] * repeat)\n",
    "    target_upsampled = pd.concat([target_zeros] + [target_ones] * repeat)\n",
    "    features_upsampled, target_upsampled = shuffle(features_upsampled, target_upsampled, random_state = seed)\n",
    "    return features_upsampled, target_upsampled"
   ]
  },
  {
   "cell_type": "code",
   "execution_count": 32,
   "metadata": {},
   "outputs": [
    {
     "data": {
      "text/plain": [
       "0    5576\n",
       "1    1424\n",
       "Name: exited, dtype: int64"
      ]
     },
     "execution_count": 32,
     "metadata": {},
     "output_type": "execute_result"
    }
   ],
   "source": [
    "# Muestra de clases desbalanceadas de la variable objetivo\n",
    "\n",
    "target_train.value_counts()"
   ]
  },
  {
   "cell_type": "code",
   "execution_count": 33,
   "metadata": {},
   "outputs": [
    {
     "data": {
      "text/plain": [
       "1    5696\n",
       "0    5576\n",
       "Name: exited, dtype: int64"
      ]
     },
     "execution_count": 33,
     "metadata": {},
     "output_type": "execute_result"
    }
   ],
   "source": [
    "# Aplicacion de funcion de sobremuestreo\n",
    "# Revision de las clases, luego de aplicar tecnica de sobremuestreo\n",
    "\n",
    "features_upsampled, target_upsampled = upsample(features_train, target_train, 4)\n",
    "\n",
    "target_upsampled.value_counts()"
   ]
  },
  {
   "cell_type": "markdown",
   "metadata": {},
   "source": [
    "El conjunto de datos esta relativamente equilibrado, se procede a probar el modelo."
   ]
  },
  {
   "cell_type": "code",
   "execution_count": 34,
   "metadata": {},
   "outputs": [
    {
     "name": "stdout",
     "output_type": "stream",
     "text": [
      "F1 entrenamiento = 0.8944 | F1 validacion = 0.6091 | AUC-ROC = 0.8549\n"
     ]
    }
   ],
   "source": [
    "# Evaluacion de modelo RandomForestClassifier, luego de aplicar tecnica de sobremuestreo\n",
    "\n",
    "best_rf_model = RandomForestClassifier(random_state = seed, max_depth = best_depth, n_estimators = best_est)\n",
    "best_rf_model.fit(features_upsampled, target_upsampled)\n",
    "best_rf_train = best_rf_model.predict(features_upsampled)\n",
    "best_rf_valid = best_rf_model.predict(features_valid)\n",
    "probabilities_rf_valid = best_rf_model.predict_proba(features_valid)\n",
    "probabilities_one_rf_valid = probabilities_rf_valid[:,1]\n",
    "print(f'F1 entrenamiento = {f1_score(target_upsampled, best_rf_train):.4f} | F1 validacion = {f1_score(target_valid, best_rf_valid):.4f} | AUC-ROC = {roc_auc_score(target_valid, probabilities_one_rf_valid):.4f}')"
   ]
  },
  {
   "cell_type": "markdown",
   "metadata": {},
   "source": [
    "El método de sobremuestreo arrojó metricas para F1 y AUC-ROC relativamente mejores, en comparación con el ajuste de peso de clase. Sin embargo, vale la pena señalar que la diferencia entre las puntuaciones de entrenamiento F1 y de validación es bastante significativa."
   ]
  },
  {
   "cell_type": "markdown",
   "metadata": {},
   "source": [
    "### Submuestreo\n",
    "\n",
    "Se busca disminuir la cantidad de muestras de la clase \"0\", ya que representa el 80 por ciento de los datos. Se descartaran aleatoriamente muestras de las observaciones, aproximadamente un 70%, para reequilibrar el conjunto de datos."
   ]
  },
  {
   "cell_type": "code",
   "execution_count": 35,
   "metadata": {},
   "outputs": [],
   "source": [
    "# Funcion para disminuir muestras de clase \"0\"\n",
    "\n",
    "def downsample(features, target, fraction):\n",
    "    features_zeros = features_train[target_train == 0]\n",
    "    features_ones = features_train[target_train == 1] \n",
    "    target_zeros = target_train[target_train == 0]\n",
    "    target_ones = target_train[target_train == 1]\n",
    "    \n",
    "    features_downsampled = pd.concat([features_zeros.sample(frac = fraction, random_state = seed)] + [features_ones])\n",
    "    target_downsampled = pd.concat([target_zeros.sample(frac = fraction, random_state = seed)] + [target_ones])\n",
    "    features_downsampled, target_downsampled = shuffle(features_downsampled, target_downsampled, random_state = seed)\n",
    "    return features_downsampled, target_downsampled"
   ]
  },
  {
   "cell_type": "code",
   "execution_count": 36,
   "metadata": {},
   "outputs": [
    {
     "data": {
      "text/plain": [
       "0    5576\n",
       "1    1424\n",
       "Name: exited, dtype: int64"
      ]
     },
     "execution_count": 36,
     "metadata": {},
     "output_type": "execute_result"
    }
   ],
   "source": [
    "# Muestra de clases desbalanceadas de la variable objetivo\n",
    "\n",
    "target_train.value_counts()"
   ]
  },
  {
   "cell_type": "code",
   "execution_count": 37,
   "metadata": {},
   "outputs": [
    {
     "data": {
      "text/plain": [
       "0    1673\n",
       "1    1424\n",
       "Name: exited, dtype: int64"
      ]
     },
     "execution_count": 37,
     "metadata": {},
     "output_type": "execute_result"
    }
   ],
   "source": [
    "# Aplicacion de funcion de submuestreo\n",
    "# Revision de las clases, luego de aplicar tecnica de submuestreo\n",
    "\n",
    "features_downsampled, target_downsampled = downsample(features_train, target_train, 0.3)\n",
    "\n",
    "target_downsampled.value_counts()"
   ]
  },
  {
   "cell_type": "markdown",
   "metadata": {},
   "source": [
    "El conjunto de datos esta relativamente equilibrado, se procede a probar el modelo."
   ]
  },
  {
   "cell_type": "code",
   "execution_count": 38,
   "metadata": {},
   "outputs": [
    {
     "name": "stdout",
     "output_type": "stream",
     "text": [
      "F1 entrenamiento = 0.8946 | F1 validacion = 0.6057 | AUC-ROC = 0.8493\n"
     ]
    }
   ],
   "source": [
    "# Evaluacion de modelo RandomForestClassifier, luego de aplicar tecnica de submuestreo\n",
    "\n",
    "best_rf_model = RandomForestClassifier(random_state = seed, max_depth = best_depth, n_estimators = best_est)\n",
    "best_rf_model.fit(features_downsampled, target_downsampled)\n",
    "best_rf_train = best_rf_model.predict(features_downsampled)\n",
    "best_rf_valid = best_rf_model.predict(features_valid)\n",
    "probabilities_rf_valid = best_rf_model.predict_proba(features_valid)\n",
    "probabilities_one_rf_valid = probabilities_rf_valid[:,1]\n",
    "print(f'F1 entrenamiento = {f1_score(target_downsampled, best_rf_train):.4f} | F1 validacion = {f1_score(target_valid, best_rf_valid):.4f} | AUC-ROC = {roc_auc_score(target_valid, probabilities_one_rf_valid):.4f}')"
   ]
  },
  {
   "cell_type": "markdown",
   "metadata": {},
   "source": [
    "Se obtienen metricas F1 y AUC-ROC más bajas que con el método de sobremuestreo."
   ]
  },
  {
   "cell_type": "markdown",
   "metadata": {},
   "source": [
    "### Sintesis del Capitulo\n",
    "\n",
    "Se valida que con el modelo de bosque aleatorio y el método de sobremuestreo arrojó el puntaje más alto. Sin embargo, hay una diferencia notable entre la medicion de F1 de entrenamiento y la medicion de F1 de validación. No obstante, el puntaje de validación F1 superó el umbral mínimo de 0,6 impuesto para el proyecto."
   ]
  },
  {
   "cell_type": "markdown",
   "metadata": {},
   "source": [
    "<div class=\"alert alert-block alert-success\">\n",
    "<b>Comentario del revisor</b> <a class=\"tocSkip\"></a>\n",
    "\n",
    "Me alegra ver que hayas probado tanto sobremuestreo como submuestreo. Aunque mencionas que el sobremuestreo resultó en mejores métricas, sería bueno profundizar en cómo afecta el sobreajuste.  ¡muy buen trabajo al experimentar con ambas técnicas!\n",
    "</div>\n"
   ]
  },
  {
   "cell_type": "markdown",
   "metadata": {},
   "source": [
    "## **Test final y conjunto de prueba**\n",
    "\n",
    "Por ultimo, se evalua el rendimiento del modelo en el conjunto de datos de prueba, que consta de features_test y target_test."
   ]
  },
  {
   "cell_type": "code",
   "execution_count": 39,
   "metadata": {},
   "outputs": [
    {
     "name": "stdout",
     "output_type": "stream",
     "text": [
      "F1 entrenamiento = 0.8944 | F1 validacion = 0.6223 | AUC-ROC = 0.8549\n"
     ]
    }
   ],
   "source": [
    "# Evaluando el desempeno del modelo balanceado, con los conjuntos de datos de prueba\n",
    "\n",
    "best_rf_model = RandomForestClassifier(random_state = seed, max_depth = best_depth, n_estimators = best_est)\n",
    "best_rf_model.fit(features_upsampled, target_upsampled)\n",
    "best_rf_train = best_rf_model.predict(features_upsampled) \n",
    "best_rf_test = best_rf_model.predict(features_test)  \n",
    "probabilities_rf_test = best_rf_model.predict_proba(features_test)\n",
    "probabilities_one_rf_test = probabilities_rf_test[:, 1]\n",
    "print(f'F1 entrenamiento = {f1_score(target_upsampled, best_rf_train):.4f} | F1 validacion = {f1_score(target_test, best_rf_test):.4f} | AUC-ROC = {roc_auc_score(target_test, probabilities_one_rf_test):.4f}')"
   ]
  },
  {
   "cell_type": "markdown",
   "metadata": {},
   "source": [
    "### Sintesis del Capitulo\n",
    "\n",
    "Se alcanzo para la metrica F1 un 0,6223 en el conjunto de datos de prueba, lo que supera el umbral mínimo de 0,6 solicitado para el proyecto. Esto indica que nuestro modelo funciona bien para predecir si un cliente abandonará el banco prontamente o no."
   ]
  },
  {
   "cell_type": "markdown",
   "metadata": {},
   "source": [
    "<div class=\"alert alert-block alert-success\">\n",
    "<b>Comentario del revisor</b> <a class=\"tocSkip\"></a>\n",
    "\n",
    "¡Excelente resultado final! Has alcanzado una puntuación F1 mayor a 0,6 en el conjunto de prueba, cumpliendo con los objetivos del proyecto. Esto demuestra que el modelo es eficiente en la predicción de la fuga de clientes.\n",
    "</div>\n"
   ]
  },
  {
   "cell_type": "markdown",
   "metadata": {},
   "source": [
    "## **Conclusion General**\n",
    "\n",
    "Con base en el análisis, se ha desarrollado con éxito un modelo confiable para predecir la pérdida de clientes en la industria bancaria. El modelo de bosque aleatorio, con los hiperparámetros `random_state` establecidos en 1100, `max_depth` establecido en 10 y `n_estimators` establecido en 40, demostró ser el mejor modelo para esta tarea.\n",
    "\n",
    "El testeo final en el conjunto de datos de prueba, el modelo de bosque aleatorio logró una impresionante puntuación `F1` de 0,6223 y un `AUC-ROC` de 0,8549. Estas puntuaciones superan el umbral mínimo de 0,6 requerido para este proyecto, lo que indica la eficacia del modelo para predecir con precisión la pérdida de clientes.\n",
    "\n",
    "Con las concluciones obtenidas del análisis, los bancos ahora pueden identificar de manera proactiva a los clientes que corren el riesgo de abandonar el negocio y tomar las medidas adecuadas para retenerlos. Este modelo predictivo puede contribuir significativamente a mejorar las estrategias de retención de clientes y el desempeño comercial general en la industria bancaria."
   ]
  },
  {
   "cell_type": "markdown",
   "metadata": {},
   "source": [
    "## Comentario final del revisor"
   ]
  },
  {
   "cell_type": "markdown",
   "metadata": {},
   "source": [
    "\n",
    "<div class=\"alert alert-block alert-success\">\n",
    "<b>Comentario del revisor</b> <a class=\"tocSkip\"></a>\n",
    "\n",
    "¡Felicidades Javier! Tu proyecto está **aprobado**. Has demostrado un excelente manejo de los datos, análisis exploratorio y creación de modelos predictivos. A continuación, destaco los puntos positivos y algunas áreas interesantes para seguir investigando:\n",
    "\n",
    "#### Puntos Positivos:\n",
    "- **Procesamiento de datos:** Has aplicado de manera efectiva las técnicas de limpieza, transformación y estandarización de los datos, lo que ha asegurado un conjunto de datos de alta calidad.\n",
    "- **Modelos predictivos:** Has evaluado diferentes modelos de manera exhaustiva, ajustando hiperparámetros y utilizando métricas clave como F1 y AUC-ROC. Me encanta cómo probaste múltiples enfoques para mejorar el rendimiento.\n",
    "- **Manejo de desbalanceo:** Probaste con éxito varias técnicas de balanceo de clases (sobremuestreo, submuestreo, y ajuste de peso), demostrando un excelente enfoque en la mejora del modelo.\n",
    "\n",
    "#### Áreas para Seguir Investigando:\n",
    "- **Optimización de modelos:** Aunque tu modelo de bosque aleatorio funcionó bien, sería interesante explorar algoritmos más avanzados como **Gradient Boosting** o **XGBoost** para ver si puedes mejorar aún más el rendimiento.\n",
    "- **Técnicas de manejo de desbalanceo:** Sigue investigando técnicas como **SMOTE** y **ADASYN** para manejar de manera más avanzada los datos desbalanceados.\n",
    "- **Validación cruzada:** Podrías profundizar en el uso de **validación cruzada** para evaluar tus modelos, lo que proporcionará una estimación más robusta del rendimiento general del modelo.\n",
    "\n",
    "¡Sigue así, estás haciendo un gran trabajo! 💪🚀😊\n",
    "</div>\n"
   ]
  },
  {
   "cell_type": "code",
   "execution_count": null,
   "metadata": {},
   "outputs": [],
   "source": []
  }
 ],
 "metadata": {
  "ExecuteTimeLog": [
   {
    "duration": 333,
    "start_time": "2024-10-10T15:07:02.389Z"
   },
   {
    "duration": 2698,
    "start_time": "2024-10-10T15:07:04.327Z"
   },
   {
    "duration": 28,
    "start_time": "2024-10-10T15:07:07.027Z"
   },
   {
    "duration": 12,
    "start_time": "2024-10-10T15:07:09.894Z"
   },
   {
    "duration": 10,
    "start_time": "2024-10-10T15:07:19.625Z"
   },
   {
    "duration": 27,
    "start_time": "2024-10-10T15:07:35.318Z"
   },
   {
    "duration": 152,
    "start_time": "2024-10-12T14:21:50.895Z"
   },
   {
    "duration": 2672,
    "start_time": "2024-10-12T14:21:57.831Z"
   },
   {
    "duration": 31,
    "start_time": "2024-10-12T14:22:00.505Z"
   },
   {
    "duration": 12,
    "start_time": "2024-10-12T14:22:01.837Z"
   },
   {
    "duration": 10,
    "start_time": "2024-10-12T14:22:06.119Z"
   },
   {
    "duration": 27,
    "start_time": "2024-10-12T14:22:07.086Z"
   },
   {
    "duration": 4,
    "start_time": "2024-10-12T14:22:09.783Z"
   },
   {
    "duration": 369,
    "start_time": "2024-10-13T00:45:06.652Z"
   },
   {
    "duration": 3294,
    "start_time": "2024-10-13T00:45:07.146Z"
   },
   {
    "duration": 30,
    "start_time": "2024-10-13T00:45:10.442Z"
   },
   {
    "duration": 32,
    "start_time": "2024-10-13T00:45:10.474Z"
   },
   {
    "duration": 10,
    "start_time": "2024-10-13T00:45:12.640Z"
   },
   {
    "duration": 41,
    "start_time": "2024-10-13T00:45:13.544Z"
   },
   {
    "duration": 4,
    "start_time": "2024-10-13T00:45:16.016Z"
   },
   {
    "duration": 385,
    "start_time": "2024-10-13T00:45:16.871Z"
   },
   {
    "duration": 23,
    "start_time": "2024-10-13T00:45:25.937Z"
   },
   {
    "duration": 5,
    "start_time": "2024-10-13T00:45:43.266Z"
   },
   {
    "duration": 4,
    "start_time": "2024-10-13T00:45:47.624Z"
   },
   {
    "duration": 331,
    "start_time": "2024-10-13T10:50:39.261Z"
   },
   {
    "duration": 2776,
    "start_time": "2024-10-13T10:50:39.753Z"
   },
   {
    "duration": 29,
    "start_time": "2024-10-13T10:50:43.615Z"
   },
   {
    "duration": 13,
    "start_time": "2024-10-13T10:50:44.190Z"
   },
   {
    "duration": 11,
    "start_time": "2024-10-13T10:50:46.595Z"
   },
   {
    "duration": 31,
    "start_time": "2024-10-13T10:50:47.276Z"
   },
   {
    "duration": 4,
    "start_time": "2024-10-13T10:50:49.656Z"
   },
   {
    "duration": 4,
    "start_time": "2024-10-13T10:50:50.215Z"
   },
   {
    "duration": 4,
    "start_time": "2024-10-13T10:51:00.390Z"
   },
   {
    "duration": 304,
    "start_time": "2024-10-13T11:09:12.101Z"
   },
   {
    "duration": 4,
    "start_time": "2024-10-13T11:10:05.706Z"
   },
   {
    "duration": 4,
    "start_time": "2024-10-13T11:10:28.985Z"
   },
   {
    "duration": 4,
    "start_time": "2024-10-13T11:11:45.900Z"
   },
   {
    "duration": 4,
    "start_time": "2024-10-13T11:12:00.793Z"
   },
   {
    "duration": 4,
    "start_time": "2024-10-13T11:12:07.510Z"
   },
   {
    "duration": 17,
    "start_time": "2024-10-13T11:12:23.154Z"
   },
   {
    "duration": 10,
    "start_time": "2024-10-13T11:25:20.032Z"
   },
   {
    "duration": 6,
    "start_time": "2024-10-13T11:29:14.977Z"
   },
   {
    "duration": 10,
    "start_time": "2024-10-13T11:34:11.934Z"
   },
   {
    "duration": 426,
    "start_time": "2024-10-13T11:34:15.438Z"
   },
   {
    "duration": 6,
    "start_time": "2024-10-13T11:34:24.635Z"
   },
   {
    "duration": 6,
    "start_time": "2024-10-13T11:35:29.414Z"
   },
   {
    "duration": 5,
    "start_time": "2024-10-13T11:35:36.727Z"
   },
   {
    "duration": 5,
    "start_time": "2024-10-13T11:40:45.637Z"
   },
   {
    "duration": 24,
    "start_time": "2024-10-13T11:41:37.023Z"
   },
   {
    "duration": 4,
    "start_time": "2024-10-13T11:42:11.861Z"
   },
   {
    "duration": 5,
    "start_time": "2024-10-13T11:42:30.728Z"
   },
   {
    "duration": 8,
    "start_time": "2024-10-13T11:42:39.957Z"
   },
   {
    "duration": 3,
    "start_time": "2024-10-13T11:51:31.197Z"
   },
   {
    "duration": 4,
    "start_time": "2024-10-13T11:57:23.741Z"
   },
   {
    "duration": 15,
    "start_time": "2024-10-13T12:02:28.823Z"
   },
   {
    "duration": 4,
    "start_time": "2024-10-13T12:02:55.010Z"
   },
   {
    "duration": 3,
    "start_time": "2024-10-13T12:03:55.059Z"
   },
   {
    "duration": 4,
    "start_time": "2024-10-13T12:06:10.562Z"
   },
   {
    "duration": 9,
    "start_time": "2024-10-13T12:11:13.499Z"
   },
   {
    "duration": 11,
    "start_time": "2024-10-13T12:27:52.052Z"
   },
   {
    "duration": 5,
    "start_time": "2024-10-13T12:36:58.726Z"
   },
   {
    "duration": 5,
    "start_time": "2024-10-13T12:37:19.112Z"
   },
   {
    "duration": 15,
    "start_time": "2024-10-13T12:41:23.814Z"
   },
   {
    "duration": 5,
    "start_time": "2024-10-13T12:42:39.219Z"
   },
   {
    "duration": 4,
    "start_time": "2024-10-13T12:42:44.511Z"
   },
   {
    "duration": 4,
    "start_time": "2024-10-13T12:42:49.654Z"
   },
   {
    "duration": 15,
    "start_time": "2024-10-13T12:48:25.721Z"
   },
   {
    "duration": 5,
    "start_time": "2024-10-13T12:48:29.198Z"
   },
   {
    "duration": 3,
    "start_time": "2024-10-13T12:48:32.815Z"
   },
   {
    "duration": 99,
    "start_time": "2024-10-13T12:48:34.699Z"
   },
   {
    "duration": 21,
    "start_time": "2024-10-13T12:48:48.474Z"
   },
   {
    "duration": 26,
    "start_time": "2024-10-13T12:49:48.636Z"
   },
   {
    "duration": 3,
    "start_time": "2024-10-13T12:50:05.785Z"
   },
   {
    "duration": 6,
    "start_time": "2024-10-13T12:50:07.512Z"
   },
   {
    "duration": 16,
    "start_time": "2024-10-13T12:50:13.251Z"
   },
   {
    "duration": 5,
    "start_time": "2024-10-13T12:51:39.793Z"
   },
   {
    "duration": 335,
    "start_time": "2024-10-13T12:52:06.145Z"
   },
   {
    "duration": 1011,
    "start_time": "2024-10-13T12:52:06.979Z"
   },
   {
    "duration": 17,
    "start_time": "2024-10-13T12:52:11.116Z"
   },
   {
    "duration": 13,
    "start_time": "2024-10-13T12:52:12.382Z"
   },
   {
    "duration": 11,
    "start_time": "2024-10-13T12:52:19.553Z"
   },
   {
    "duration": 29,
    "start_time": "2024-10-13T12:52:20.861Z"
   },
   {
    "duration": 4,
    "start_time": "2024-10-13T12:52:23.001Z"
   },
   {
    "duration": 4,
    "start_time": "2024-10-13T12:52:23.663Z"
   },
   {
    "duration": 3,
    "start_time": "2024-10-13T12:52:24.360Z"
   },
   {
    "duration": 4,
    "start_time": "2024-10-13T12:52:26.674Z"
   },
   {
    "duration": 5,
    "start_time": "2024-10-13T12:52:27.593Z"
   },
   {
    "duration": 3,
    "start_time": "2024-10-13T12:52:28.065Z"
   },
   {
    "duration": 4,
    "start_time": "2024-10-13T12:52:28.603Z"
   },
   {
    "duration": 10,
    "start_time": "2024-10-13T12:52:30.310Z"
   },
   {
    "duration": 10,
    "start_time": "2024-10-13T12:52:31.937Z"
   },
   {
    "duration": 3,
    "start_time": "2024-10-13T12:52:33.626Z"
   },
   {
    "duration": 14,
    "start_time": "2024-10-13T12:52:34.314Z"
   },
   {
    "duration": 4,
    "start_time": "2024-10-13T12:52:45.548Z"
   },
   {
    "duration": 5,
    "start_time": "2024-10-13T12:52:46.593Z"
   },
   {
    "duration": 5,
    "start_time": "2024-10-13T12:52:47.269Z"
   },
   {
    "duration": 2,
    "start_time": "2024-10-13T12:52:47.846Z"
   },
   {
    "duration": 15,
    "start_time": "2024-10-13T12:52:48.404Z"
   },
   {
    "duration": 331,
    "start_time": "2024-10-14T00:38:07.161Z"
   },
   {
    "duration": 2712,
    "start_time": "2024-10-14T00:38:07.519Z"
   },
   {
    "duration": 33,
    "start_time": "2024-10-14T00:38:10.233Z"
   },
   {
    "duration": 12,
    "start_time": "2024-10-14T00:38:10.267Z"
   },
   {
    "duration": 9,
    "start_time": "2024-10-14T00:38:10.282Z"
   },
   {
    "duration": 28,
    "start_time": "2024-10-14T00:38:10.293Z"
   },
   {
    "duration": 4,
    "start_time": "2024-10-14T00:38:11.734Z"
   },
   {
    "duration": 4,
    "start_time": "2024-10-14T00:38:12.074Z"
   },
   {
    "duration": 5,
    "start_time": "2024-10-14T00:38:12.906Z"
   },
   {
    "duration": 4,
    "start_time": "2024-10-14T00:38:14.914Z"
   },
   {
    "duration": 5,
    "start_time": "2024-10-14T00:38:15.773Z"
   },
   {
    "duration": 4,
    "start_time": "2024-10-14T00:38:16.677Z"
   },
   {
    "duration": 5,
    "start_time": "2024-10-14T00:38:17.236Z"
   },
   {
    "duration": 10,
    "start_time": "2024-10-14T00:38:18.668Z"
   },
   {
    "duration": 12,
    "start_time": "2024-10-14T00:38:21.300Z"
   },
   {
    "duration": 3,
    "start_time": "2024-10-14T00:38:25.896Z"
   },
   {
    "duration": 14,
    "start_time": "2024-10-14T00:38:27.036Z"
   },
   {
    "duration": 5,
    "start_time": "2024-10-14T00:40:16.564Z"
   },
   {
    "duration": 6,
    "start_time": "2024-10-14T00:40:21.452Z"
   },
   {
    "duration": 5,
    "start_time": "2024-10-14T00:40:25.999Z"
   },
   {
    "duration": 4,
    "start_time": "2024-10-14T00:40:30.860Z"
   },
   {
    "duration": 5,
    "start_time": "2024-10-14T00:40:43.051Z"
   },
   {
    "duration": 339,
    "start_time": "2024-10-15T01:13:59.722Z"
   },
   {
    "duration": 2885,
    "start_time": "2024-10-15T01:14:00.324Z"
   },
   {
    "duration": 29,
    "start_time": "2024-10-15T01:14:03.212Z"
   },
   {
    "duration": 15,
    "start_time": "2024-10-15T01:14:03.243Z"
   },
   {
    "duration": 10,
    "start_time": "2024-10-15T01:14:03.261Z"
   },
   {
    "duration": 30,
    "start_time": "2024-10-15T01:14:03.612Z"
   },
   {
    "duration": 4,
    "start_time": "2024-10-15T01:14:05.729Z"
   },
   {
    "duration": 4,
    "start_time": "2024-10-15T01:14:06.266Z"
   },
   {
    "duration": 4,
    "start_time": "2024-10-15T01:14:06.892Z"
   },
   {
    "duration": 4,
    "start_time": "2024-10-15T01:18:46.931Z"
   },
   {
    "duration": 5,
    "start_time": "2024-10-15T01:18:47.819Z"
   },
   {
    "duration": 3,
    "start_time": "2024-10-15T01:18:48.161Z"
   },
   {
    "duration": 5,
    "start_time": "2024-10-15T01:18:48.813Z"
   },
   {
    "duration": 14,
    "start_time": "2024-10-15T01:18:50.216Z"
   },
   {
    "duration": 12,
    "start_time": "2024-10-15T01:18:51.762Z"
   },
   {
    "duration": 3,
    "start_time": "2024-10-15T01:18:53.012Z"
   },
   {
    "duration": 14,
    "start_time": "2024-10-15T01:18:53.398Z"
   },
   {
    "duration": 6,
    "start_time": "2024-10-15T01:18:54.321Z"
   },
   {
    "duration": 5,
    "start_time": "2024-10-15T01:20:06.320Z"
   },
   {
    "duration": 5,
    "start_time": "2024-10-15T01:20:06.546Z"
   },
   {
    "duration": 5,
    "start_time": "2024-10-15T01:20:06.732Z"
   },
   {
    "duration": 3,
    "start_time": "2024-10-15T01:20:06.960Z"
   },
   {
    "duration": 21,
    "start_time": "2024-10-15T01:20:07.472Z"
   },
   {
    "duration": 158,
    "start_time": "2024-10-15T12:44:48.408Z"
   },
   {
    "duration": 325,
    "start_time": "2024-10-15T12:44:59.643Z"
   },
   {
    "duration": 2720,
    "start_time": "2024-10-15T12:45:00.094Z"
   },
   {
    "duration": 26,
    "start_time": "2024-10-15T12:45:02.816Z"
   },
   {
    "duration": 12,
    "start_time": "2024-10-15T12:45:04.630Z"
   },
   {
    "duration": 11,
    "start_time": "2024-10-15T12:45:05.907Z"
   },
   {
    "duration": 28,
    "start_time": "2024-10-15T12:45:06.605Z"
   },
   {
    "duration": 4,
    "start_time": "2024-10-15T12:45:08.705Z"
   },
   {
    "duration": 4,
    "start_time": "2024-10-15T12:45:08.960Z"
   },
   {
    "duration": 4,
    "start_time": "2024-10-15T12:45:09.166Z"
   },
   {
    "duration": 5,
    "start_time": "2024-10-15T12:45:09.545Z"
   },
   {
    "duration": 5,
    "start_time": "2024-10-15T12:45:10.397Z"
   },
   {
    "duration": 3,
    "start_time": "2024-10-15T12:45:10.595Z"
   },
   {
    "duration": 4,
    "start_time": "2024-10-15T12:45:10.808Z"
   },
   {
    "duration": 10,
    "start_time": "2024-10-15T12:45:11.867Z"
   },
   {
    "duration": 11,
    "start_time": "2024-10-15T12:45:15.206Z"
   },
   {
    "duration": 3,
    "start_time": "2024-10-15T12:45:16.826Z"
   },
   {
    "duration": 14,
    "start_time": "2024-10-15T12:45:17.242Z"
   },
   {
    "duration": 4,
    "start_time": "2024-10-15T12:45:17.649Z"
   },
   {
    "duration": 4,
    "start_time": "2024-10-15T12:45:18.262Z"
   },
   {
    "duration": 5,
    "start_time": "2024-10-15T12:45:18.460Z"
   },
   {
    "duration": 2,
    "start_time": "2024-10-15T12:45:18.664Z"
   },
   {
    "duration": 15,
    "start_time": "2024-10-15T12:45:18.859Z"
   },
   {
    "duration": 990,
    "start_time": "2024-10-15T12:45:21.917Z"
   },
   {
    "duration": 684,
    "start_time": "2024-10-15T12:45:41.309Z"
   },
   {
    "duration": 1216,
    "start_time": "2024-10-15T12:46:00.034Z"
   },
   {
    "duration": 1003,
    "start_time": "2024-10-15T12:46:12.799Z"
   },
   {
    "duration": 1121,
    "start_time": "2024-10-15T12:46:31.360Z"
   },
   {
    "duration": 1424,
    "start_time": "2024-10-15T12:48:25.123Z"
   },
   {
    "duration": 1986,
    "start_time": "2024-10-15T12:48:36.489Z"
   },
   {
    "duration": 2063,
    "start_time": "2024-10-15T12:48:48.765Z"
   },
   {
    "duration": 1778,
    "start_time": "2024-10-15T12:50:00.950Z"
   },
   {
    "duration": 1988,
    "start_time": "2024-10-15T12:50:41.531Z"
   },
   {
    "duration": 2016,
    "start_time": "2024-10-15T12:51:05.418Z"
   },
   {
    "duration": 2369,
    "start_time": "2024-10-15T12:51:33.824Z"
   },
   {
    "duration": 2498,
    "start_time": "2024-10-15T12:52:56.278Z"
   },
   {
    "duration": 2522,
    "start_time": "2024-10-15T12:55:43.816Z"
   },
   {
    "duration": 2599,
    "start_time": "2024-10-15T12:56:20.591Z"
   },
   {
    "duration": 2413,
    "start_time": "2024-10-15T12:56:33.412Z"
   },
   {
    "duration": 6520,
    "start_time": "2024-10-15T12:58:12.779Z"
   },
   {
    "duration": 2059,
    "start_time": "2024-10-15T12:58:35.669Z"
   },
   {
    "duration": 1737,
    "start_time": "2024-10-15T12:58:52.645Z"
   },
   {
    "duration": 1168,
    "start_time": "2024-10-15T12:59:06.428Z"
   },
   {
    "duration": 1901,
    "start_time": "2024-10-15T12:59:11.767Z"
   },
   {
    "duration": 2004,
    "start_time": "2024-10-15T12:59:25.356Z"
   },
   {
    "duration": 1337,
    "start_time": "2024-10-15T12:59:36.933Z"
   },
   {
    "duration": 1699,
    "start_time": "2024-10-15T12:59:46.915Z"
   },
   {
    "duration": 1606,
    "start_time": "2024-10-15T13:32:19.980Z"
   },
   {
    "duration": 1552,
    "start_time": "2024-10-15T13:32:34.647Z"
   },
   {
    "duration": 2146,
    "start_time": "2024-10-15T13:32:44.690Z"
   },
   {
    "duration": 1945,
    "start_time": "2024-10-15T13:33:42.151Z"
   },
   {
    "duration": 2198,
    "start_time": "2024-10-15T13:33:57.318Z"
   },
   {
    "duration": 2022,
    "start_time": "2024-10-15T13:38:03.389Z"
   },
   {
    "duration": 16364,
    "start_time": "2024-10-15T13:39:09.285Z"
   },
   {
    "duration": 3730,
    "start_time": "2024-10-15T13:39:45.266Z"
   },
   {
    "duration": 1083,
    "start_time": "2024-10-15T13:40:12.119Z"
   },
   {
    "duration": 1045,
    "start_time": "2024-10-15T13:40:35.999Z"
   },
   {
    "duration": 1040,
    "start_time": "2024-10-15T13:41:10.117Z"
   },
   {
    "duration": 2329,
    "start_time": "2024-10-15T13:41:20.823Z"
   },
   {
    "duration": 2066,
    "start_time": "2024-10-15T13:41:56.863Z"
   },
   {
    "duration": 2916,
    "start_time": "2024-10-15T13:42:18.021Z"
   },
   {
    "duration": 2698,
    "start_time": "2024-10-15T13:42:35.901Z"
   },
   {
    "duration": 2509,
    "start_time": "2024-10-15T13:42:49.202Z"
   },
   {
    "duration": 2808,
    "start_time": "2024-10-15T13:42:57.338Z"
   },
   {
    "duration": 8,
    "start_time": "2024-10-15T13:44:13.743Z"
   },
   {
    "duration": 15,
    "start_time": "2024-10-15T13:44:21.821Z"
   },
   {
    "duration": 15,
    "start_time": "2024-10-15T13:44:32.643Z"
   },
   {
    "duration": 14,
    "start_time": "2024-10-15T13:44:42.792Z"
   },
   {
    "duration": 14,
    "start_time": "2024-10-15T13:44:49.770Z"
   },
   {
    "duration": 7,
    "start_time": "2024-10-15T13:44:58.447Z"
   },
   {
    "duration": 1811,
    "start_time": "2024-10-15T13:45:40.852Z"
   },
   {
    "duration": 1743,
    "start_time": "2024-10-15T13:46:08.813Z"
   },
   {
    "duration": 1643,
    "start_time": "2024-10-15T13:46:47.324Z"
   },
   {
    "duration": 1776,
    "start_time": "2024-10-15T13:46:56.141Z"
   },
   {
    "duration": 1751,
    "start_time": "2024-10-15T13:47:10.228Z"
   },
   {
    "duration": 6,
    "start_time": "2024-10-15T13:47:50.540Z"
   },
   {
    "duration": 981,
    "start_time": "2024-10-15T13:48:06.026Z"
   },
   {
    "duration": 1263,
    "start_time": "2024-10-15T13:48:30.233Z"
   },
   {
    "duration": 1432,
    "start_time": "2024-10-15T13:48:40.777Z"
   },
   {
    "duration": 1614,
    "start_time": "2024-10-15T13:48:52.485Z"
   },
   {
    "duration": 459,
    "start_time": "2024-10-15T14:02:55.378Z"
   },
   {
    "duration": 40,
    "start_time": "2024-10-15T14:03:06.798Z"
   },
   {
    "duration": 5,
    "start_time": "2024-10-15T14:03:32.343Z"
   },
   {
    "duration": 3,
    "start_time": "2024-10-15T14:03:52.326Z"
   },
   {
    "duration": 1478,
    "start_time": "2024-10-15T14:10:30.859Z"
   },
   {
    "duration": 4,
    "start_time": "2024-10-15T14:10:52.047Z"
   },
   {
    "duration": 1399,
    "start_time": "2024-10-15T14:10:58.547Z"
   },
   {
    "duration": 333,
    "start_time": "2024-10-15T22:39:43.984Z"
   },
   {
    "duration": 2840,
    "start_time": "2024-10-15T22:39:44.371Z"
   },
   {
    "duration": 27,
    "start_time": "2024-10-15T22:39:47.213Z"
   },
   {
    "duration": 12,
    "start_time": "2024-10-15T22:39:47.242Z"
   },
   {
    "duration": 11,
    "start_time": "2024-10-15T22:39:47.256Z"
   },
   {
    "duration": 28,
    "start_time": "2024-10-15T22:39:47.269Z"
   },
   {
    "duration": 4,
    "start_time": "2024-10-15T22:39:47.299Z"
   },
   {
    "duration": 4,
    "start_time": "2024-10-15T22:39:49.435Z"
   },
   {
    "duration": 4,
    "start_time": "2024-10-15T22:39:50.318Z"
   },
   {
    "duration": 4,
    "start_time": "2024-10-15T22:39:51.386Z"
   },
   {
    "duration": 4,
    "start_time": "2024-10-15T22:39:51.743Z"
   },
   {
    "duration": 5,
    "start_time": "2024-10-15T22:39:51.941Z"
   },
   {
    "duration": 5,
    "start_time": "2024-10-15T22:39:52.123Z"
   },
   {
    "duration": 9,
    "start_time": "2024-10-15T22:39:52.873Z"
   },
   {
    "duration": 12,
    "start_time": "2024-10-15T22:39:53.657Z"
   },
   {
    "duration": 4,
    "start_time": "2024-10-15T22:39:54.842Z"
   },
   {
    "duration": 14,
    "start_time": "2024-10-15T22:39:55.071Z"
   },
   {
    "duration": 5,
    "start_time": "2024-10-15T22:39:56.174Z"
   },
   {
    "duration": 4,
    "start_time": "2024-10-15T22:39:56.430Z"
   },
   {
    "duration": 4,
    "start_time": "2024-10-15T22:39:56.627Z"
   },
   {
    "duration": 3,
    "start_time": "2024-10-15T22:39:56.801Z"
   },
   {
    "duration": 17,
    "start_time": "2024-10-15T22:39:56.962Z"
   },
   {
    "duration": 2043,
    "start_time": "2024-10-15T22:39:58.613Z"
   },
   {
    "duration": 1655,
    "start_time": "2024-10-15T22:40:22.912Z"
   },
   {
    "duration": 212,
    "start_time": "2024-10-15T22:40:42.715Z"
   },
   {
    "duration": 5,
    "start_time": "2024-10-15T22:40:54.952Z"
   },
   {
    "duration": 18,
    "start_time": "2024-10-15T22:41:30.583Z"
   },
   {
    "duration": 18,
    "start_time": "2024-10-15T22:41:34.499Z"
   },
   {
    "duration": 13,
    "start_time": "2024-10-15T22:41:44.073Z"
   },
   {
    "duration": 6,
    "start_time": "2024-10-15T22:42:02.891Z"
   },
   {
    "duration": 18,
    "start_time": "2024-10-15T22:54:07.749Z"
   },
   {
    "duration": 26,
    "start_time": "2024-10-15T22:54:31.847Z"
   },
   {
    "duration": 20,
    "start_time": "2024-10-15T22:56:41.853Z"
   },
   {
    "duration": 28,
    "start_time": "2024-10-15T22:56:53.994Z"
   },
   {
    "duration": 1799,
    "start_time": "2024-10-15T22:57:11.923Z"
   },
   {
    "duration": 17,
    "start_time": "2024-10-15T22:57:47.556Z"
   },
   {
    "duration": 1543,
    "start_time": "2024-10-15T22:58:08.300Z"
   },
   {
    "duration": 1571,
    "start_time": "2024-10-15T22:59:41.116Z"
   },
   {
    "duration": 1456,
    "start_time": "2024-10-15T22:59:57.666Z"
   },
   {
    "duration": 1546,
    "start_time": "2024-10-15T23:00:04.585Z"
   },
   {
    "duration": 9,
    "start_time": "2024-10-15T23:01:14.511Z"
   },
   {
    "duration": 1535,
    "start_time": "2024-10-15T23:01:19.560Z"
   },
   {
    "duration": 1708,
    "start_time": "2024-10-15T23:01:31.181Z"
   },
   {
    "duration": 1653,
    "start_time": "2024-10-15T23:22:06.073Z"
   },
   {
    "duration": 7,
    "start_time": "2024-10-15T23:23:11.765Z"
   },
   {
    "duration": 1536,
    "start_time": "2024-10-15T23:23:22.123Z"
   },
   {
    "duration": 1408,
    "start_time": "2024-10-15T23:23:37.516Z"
   },
   {
    "duration": 1700,
    "start_time": "2024-10-15T23:23:46.917Z"
   },
   {
    "duration": 1757,
    "start_time": "2024-10-15T23:24:54.994Z"
   },
   {
    "duration": 1264,
    "start_time": "2024-10-15T23:27:15.267Z"
   },
   {
    "duration": 1816,
    "start_time": "2024-10-15T23:27:42.029Z"
   },
   {
    "duration": 8,
    "start_time": "2024-10-15T23:29:22.597Z"
   },
   {
    "duration": 1581,
    "start_time": "2024-10-15T23:29:30.460Z"
   },
   {
    "duration": 1593,
    "start_time": "2024-10-15T23:30:07.298Z"
   },
   {
    "duration": 159,
    "start_time": "2024-10-16T09:37:04.818Z"
   },
   {
    "duration": 335,
    "start_time": "2024-10-16T22:22:52.062Z"
   },
   {
    "duration": 2624,
    "start_time": "2024-10-16T22:22:52.400Z"
   },
   {
    "duration": 26,
    "start_time": "2024-10-16T22:22:55.026Z"
   },
   {
    "duration": 11,
    "start_time": "2024-10-16T22:22:55.054Z"
   },
   {
    "duration": 9,
    "start_time": "2024-10-16T22:22:55.068Z"
   },
   {
    "duration": 27,
    "start_time": "2024-10-16T22:22:55.078Z"
   },
   {
    "duration": 19,
    "start_time": "2024-10-16T22:22:55.106Z"
   },
   {
    "duration": 4,
    "start_time": "2024-10-16T22:22:55.126Z"
   },
   {
    "duration": 4,
    "start_time": "2024-10-16T22:22:55.132Z"
   },
   {
    "duration": 4,
    "start_time": "2024-10-16T22:22:55.137Z"
   },
   {
    "duration": 4,
    "start_time": "2024-10-16T22:22:55.142Z"
   },
   {
    "duration": 3,
    "start_time": "2024-10-16T22:22:55.147Z"
   },
   {
    "duration": 4,
    "start_time": "2024-10-16T22:22:55.152Z"
   },
   {
    "duration": 8,
    "start_time": "2024-10-16T22:22:55.159Z"
   },
   {
    "duration": 10,
    "start_time": "2024-10-16T22:22:55.168Z"
   },
   {
    "duration": 5,
    "start_time": "2024-10-16T22:22:55.224Z"
   },
   {
    "duration": 5,
    "start_time": "2024-10-16T22:22:55.230Z"
   },
   {
    "duration": 3,
    "start_time": "2024-10-16T22:22:55.236Z"
   },
   {
    "duration": 14,
    "start_time": "2024-10-16T22:22:55.240Z"
   },
   {
    "duration": 5,
    "start_time": "2024-10-16T22:22:55.255Z"
   },
   {
    "duration": 7,
    "start_time": "2024-10-16T22:22:55.261Z"
   },
   {
    "duration": 3,
    "start_time": "2024-10-16T22:22:55.269Z"
   },
   {
    "duration": 3,
    "start_time": "2024-10-16T22:22:55.274Z"
   },
   {
    "duration": 65,
    "start_time": "2024-10-16T22:22:55.279Z"
   },
   {
    "duration": 9,
    "start_time": "2024-10-16T22:22:55.347Z"
   },
   {
    "duration": 709,
    "start_time": "2024-10-16T22:22:55.358Z"
   },
   {
    "duration": 0,
    "start_time": "2024-10-16T22:22:56.068Z"
   },
   {
    "duration": 98,
    "start_time": "2024-10-16T22:23:04.499Z"
   },
   {
    "duration": 211,
    "start_time": "2024-10-16T22:23:09.298Z"
   },
   {
    "duration": 19862,
    "start_time": "2024-10-16T22:23:12.628Z"
   },
   {
    "duration": 381,
    "start_time": "2024-10-16T22:24:41.979Z"
   },
   {
    "duration": 345,
    "start_time": "2024-10-16T22:25:47.365Z"
   },
   {
    "duration": 963,
    "start_time": "2024-10-16T22:25:47.712Z"
   },
   {
    "duration": 16,
    "start_time": "2024-10-16T22:25:48.677Z"
   },
   {
    "duration": 12,
    "start_time": "2024-10-16T22:25:48.695Z"
   },
   {
    "duration": 21,
    "start_time": "2024-10-16T22:25:48.709Z"
   },
   {
    "duration": 26,
    "start_time": "2024-10-16T22:25:48.732Z"
   },
   {
    "duration": 4,
    "start_time": "2024-10-16T22:25:48.759Z"
   },
   {
    "duration": 4,
    "start_time": "2024-10-16T22:25:48.764Z"
   },
   {
    "duration": 4,
    "start_time": "2024-10-16T22:25:48.769Z"
   },
   {
    "duration": 5,
    "start_time": "2024-10-16T22:25:48.776Z"
   },
   {
    "duration": 4,
    "start_time": "2024-10-16T22:25:48.782Z"
   },
   {
    "duration": 37,
    "start_time": "2024-10-16T22:25:48.787Z"
   },
   {
    "duration": 5,
    "start_time": "2024-10-16T22:25:48.825Z"
   },
   {
    "duration": 9,
    "start_time": "2024-10-16T22:25:48.831Z"
   },
   {
    "duration": 11,
    "start_time": "2024-10-16T22:25:48.841Z"
   },
   {
    "duration": 3,
    "start_time": "2024-10-16T22:25:48.854Z"
   },
   {
    "duration": 4,
    "start_time": "2024-10-16T22:25:48.859Z"
   },
   {
    "duration": 2,
    "start_time": "2024-10-16T22:25:48.865Z"
   },
   {
    "duration": 13,
    "start_time": "2024-10-16T22:25:48.868Z"
   },
   {
    "duration": 43,
    "start_time": "2024-10-16T22:25:48.883Z"
   },
   {
    "duration": 7,
    "start_time": "2024-10-16T22:25:48.927Z"
   },
   {
    "duration": 3,
    "start_time": "2024-10-16T22:25:48.935Z"
   },
   {
    "duration": 3,
    "start_time": "2024-10-16T22:25:48.939Z"
   },
   {
    "duration": 19,
    "start_time": "2024-10-16T22:25:48.944Z"
   },
   {
    "duration": 9,
    "start_time": "2024-10-16T22:25:48.965Z"
   },
   {
    "duration": 127,
    "start_time": "2024-10-16T22:25:48.976Z"
   },
   {
    "duration": 230,
    "start_time": "2024-10-16T22:25:49.105Z"
   },
   {
    "duration": 19436,
    "start_time": "2024-10-16T22:25:49.339Z"
   },
   {
    "duration": 382,
    "start_time": "2024-10-16T22:26:08.776Z"
   },
   {
    "duration": 209,
    "start_time": "2024-10-16T22:26:10.550Z"
   },
   {
    "duration": 19497,
    "start_time": "2024-10-16T22:26:13.814Z"
   },
   {
    "duration": 133,
    "start_time": "2024-10-16T22:26:47.134Z"
   },
   {
    "duration": 24,
    "start_time": "2024-10-16T22:30:29.173Z"
   },
   {
    "duration": 19420,
    "start_time": "2024-10-16T22:31:07.352Z"
   },
   {
    "duration": 130,
    "start_time": "2024-10-16T22:32:51.957Z"
   },
   {
    "duration": 11,
    "start_time": "2024-10-16T22:54:27.197Z"
   },
   {
    "duration": 5,
    "start_time": "2024-10-16T22:54:29.869Z"
   },
   {
    "duration": 349,
    "start_time": "2024-10-16T22:55:10.124Z"
   },
   {
    "duration": 4,
    "start_time": "2024-10-16T22:55:10.475Z"
   },
   {
    "duration": 16,
    "start_time": "2024-10-16T22:55:10.480Z"
   },
   {
    "duration": 10,
    "start_time": "2024-10-16T22:55:10.498Z"
   },
   {
    "duration": 10,
    "start_time": "2024-10-16T22:55:10.510Z"
   },
   {
    "duration": 26,
    "start_time": "2024-10-16T22:55:10.521Z"
   },
   {
    "duration": 4,
    "start_time": "2024-10-16T22:55:10.548Z"
   },
   {
    "duration": 4,
    "start_time": "2024-10-16T22:55:10.553Z"
   },
   {
    "duration": 4,
    "start_time": "2024-10-16T22:55:10.558Z"
   },
   {
    "duration": 4,
    "start_time": "2024-10-16T22:55:10.563Z"
   },
   {
    "duration": 5,
    "start_time": "2024-10-16T22:55:10.570Z"
   },
   {
    "duration": 3,
    "start_time": "2024-10-16T22:55:10.576Z"
   },
   {
    "duration": 4,
    "start_time": "2024-10-16T22:55:10.581Z"
   },
   {
    "duration": 42,
    "start_time": "2024-10-16T22:55:10.587Z"
   },
   {
    "duration": 9,
    "start_time": "2024-10-16T22:55:10.631Z"
   },
   {
    "duration": 5,
    "start_time": "2024-10-16T22:55:10.642Z"
   },
   {
    "duration": 4,
    "start_time": "2024-10-16T22:55:10.648Z"
   },
   {
    "duration": 3,
    "start_time": "2024-10-16T22:55:10.653Z"
   },
   {
    "duration": 14,
    "start_time": "2024-10-16T22:55:10.657Z"
   },
   {
    "duration": 4,
    "start_time": "2024-10-16T22:55:10.672Z"
   },
   {
    "duration": 6,
    "start_time": "2024-10-16T22:55:10.677Z"
   },
   {
    "duration": 3,
    "start_time": "2024-10-16T22:55:10.724Z"
   },
   {
    "duration": 3,
    "start_time": "2024-10-16T22:55:10.728Z"
   },
   {
    "duration": 20,
    "start_time": "2024-10-16T22:55:10.733Z"
   },
   {
    "duration": 9,
    "start_time": "2024-10-16T22:55:10.754Z"
   },
   {
    "duration": 115,
    "start_time": "2024-10-16T22:55:10.765Z"
   },
   {
    "duration": 220,
    "start_time": "2024-10-16T22:55:10.883Z"
   },
   {
    "duration": 19435,
    "start_time": "2024-10-16T22:55:11.105Z"
   },
   {
    "duration": 134,
    "start_time": "2024-10-16T22:55:30.541Z"
   },
   {
    "duration": 47,
    "start_time": "2024-10-16T22:55:30.677Z"
   },
   {
    "duration": 131,
    "start_time": "2024-10-16T22:55:35.794Z"
   },
   {
    "duration": 5,
    "start_time": "2024-10-16T22:55:39.720Z"
   },
   {
    "duration": 334,
    "start_time": "2024-10-16T22:56:02.677Z"
   },
   {
    "duration": 957,
    "start_time": "2024-10-16T22:56:03.013Z"
   },
   {
    "duration": 15,
    "start_time": "2024-10-16T22:56:03.972Z"
   },
   {
    "duration": 11,
    "start_time": "2024-10-16T22:56:03.989Z"
   },
   {
    "duration": 23,
    "start_time": "2024-10-16T22:56:04.001Z"
   },
   {
    "duration": 26,
    "start_time": "2024-10-16T22:56:04.026Z"
   },
   {
    "duration": 4,
    "start_time": "2024-10-16T22:56:04.053Z"
   },
   {
    "duration": 4,
    "start_time": "2024-10-16T22:56:04.059Z"
   },
   {
    "duration": 4,
    "start_time": "2024-10-16T22:56:04.065Z"
   },
   {
    "duration": 4,
    "start_time": "2024-10-16T22:56:04.072Z"
   },
   {
    "duration": 3,
    "start_time": "2024-10-16T22:56:04.078Z"
   },
   {
    "duration": 3,
    "start_time": "2024-10-16T22:56:04.083Z"
   },
   {
    "duration": 41,
    "start_time": "2024-10-16T22:56:04.087Z"
   },
   {
    "duration": 9,
    "start_time": "2024-10-16T22:56:04.130Z"
   },
   {
    "duration": 9,
    "start_time": "2024-10-16T22:56:04.141Z"
   },
   {
    "duration": 4,
    "start_time": "2024-10-16T22:56:04.152Z"
   },
   {
    "duration": 4,
    "start_time": "2024-10-16T22:56:04.158Z"
   },
   {
    "duration": 2,
    "start_time": "2024-10-16T22:56:04.164Z"
   },
   {
    "duration": 13,
    "start_time": "2024-10-16T22:56:04.167Z"
   },
   {
    "duration": 4,
    "start_time": "2024-10-16T22:56:04.224Z"
   },
   {
    "duration": 7,
    "start_time": "2024-10-16T22:56:04.229Z"
   },
   {
    "duration": 3,
    "start_time": "2024-10-16T22:56:04.238Z"
   },
   {
    "duration": 3,
    "start_time": "2024-10-16T22:56:04.242Z"
   },
   {
    "duration": 19,
    "start_time": "2024-10-16T22:56:04.247Z"
   },
   {
    "duration": 9,
    "start_time": "2024-10-16T22:56:04.268Z"
   },
   {
    "duration": 128,
    "start_time": "2024-10-16T22:56:04.278Z"
   },
   {
    "duration": 228,
    "start_time": "2024-10-16T22:56:04.408Z"
   },
   {
    "duration": 19457,
    "start_time": "2024-10-16T22:56:04.641Z"
   },
   {
    "duration": 134,
    "start_time": "2024-10-16T22:56:24.100Z"
   },
   {
    "duration": 23,
    "start_time": "2024-10-16T22:56:24.236Z"
   },
   {
    "duration": 133,
    "start_time": "2024-10-16T22:56:56.199Z"
   },
   {
    "duration": 225,
    "start_time": "2024-10-16T22:57:00.299Z"
   },
   {
    "duration": 14,
    "start_time": "2024-10-16T22:57:15.817Z"
   },
   {
    "duration": 5,
    "start_time": "2024-10-16T22:57:19.750Z"
   },
   {
    "duration": 13,
    "start_time": "2024-10-16T22:57:56.711Z"
   },
   {
    "duration": 11,
    "start_time": "2024-10-16T22:58:01.729Z"
   },
   {
    "duration": 5,
    "start_time": "2024-10-16T22:58:04.480Z"
   },
   {
    "duration": 13,
    "start_time": "2024-10-16T22:58:05.544Z"
   },
   {
    "duration": 5,
    "start_time": "2024-10-16T22:58:26.250Z"
   },
   {
    "duration": 9,
    "start_time": "2024-10-16T22:58:31.144Z"
   },
   {
    "duration": 5,
    "start_time": "2024-10-16T22:58:33.539Z"
   },
   {
    "duration": 9,
    "start_time": "2024-10-16T22:58:57.469Z"
   },
   {
    "duration": 6,
    "start_time": "2024-10-16T22:58:59.400Z"
   },
   {
    "duration": 179,
    "start_time": "2024-10-16T23:02:05.102Z"
   },
   {
    "duration": 6,
    "start_time": "2024-10-16T23:06:22.379Z"
   },
   {
    "duration": 11,
    "start_time": "2024-10-16T23:06:25.176Z"
   },
   {
    "duration": 5,
    "start_time": "2024-10-16T23:06:27.554Z"
   },
   {
    "duration": 9,
    "start_time": "2024-10-16T23:06:34.268Z"
   },
   {
    "duration": 5,
    "start_time": "2024-10-16T23:06:36.259Z"
   },
   {
    "duration": 4,
    "start_time": "2024-10-16T23:06:36.589Z"
   },
   {
    "duration": 10,
    "start_time": "2024-10-16T23:06:40.649Z"
   },
   {
    "duration": 4,
    "start_time": "2024-10-16T23:06:41.076Z"
   },
   {
    "duration": 6,
    "start_time": "2024-10-16T23:06:41.384Z"
   },
   {
    "duration": 9,
    "start_time": "2024-10-16T23:06:45.875Z"
   },
   {
    "duration": 5,
    "start_time": "2024-10-16T23:06:46.238Z"
   },
   {
    "duration": 4,
    "start_time": "2024-10-16T23:06:46.500Z"
   },
   {
    "duration": 10,
    "start_time": "2024-10-16T23:06:52.076Z"
   },
   {
    "duration": 4,
    "start_time": "2024-10-16T23:06:52.376Z"
   },
   {
    "duration": 6,
    "start_time": "2024-10-16T23:06:52.994Z"
   },
   {
    "duration": 9,
    "start_time": "2024-10-16T23:06:57.202Z"
   },
   {
    "duration": 5,
    "start_time": "2024-10-16T23:06:57.453Z"
   },
   {
    "duration": 8,
    "start_time": "2024-10-16T23:06:58.025Z"
   },
   {
    "duration": 75,
    "start_time": "2024-10-16T23:12:10.180Z"
   },
   {
    "duration": 178,
    "start_time": "2024-10-16T23:14:05.387Z"
   },
   {
    "duration": 194,
    "start_time": "2024-10-16T23:15:11.649Z"
   },
   {
    "duration": 188,
    "start_time": "2024-10-16T23:15:22.486Z"
   },
   {
    "duration": 210,
    "start_time": "2024-10-16T23:15:39.569Z"
   },
   {
    "duration": 327,
    "start_time": "2024-10-17T14:13:36.746Z"
   },
   {
    "duration": 2667,
    "start_time": "2024-10-17T14:13:37.076Z"
   },
   {
    "duration": 27,
    "start_time": "2024-10-17T14:13:39.745Z"
   },
   {
    "duration": 12,
    "start_time": "2024-10-17T14:13:39.773Z"
   },
   {
    "duration": 10,
    "start_time": "2024-10-17T14:13:39.788Z"
   },
   {
    "duration": 39,
    "start_time": "2024-10-17T14:13:39.799Z"
   },
   {
    "duration": 5,
    "start_time": "2024-10-17T14:13:39.840Z"
   },
   {
    "duration": 4,
    "start_time": "2024-10-17T14:13:39.846Z"
   },
   {
    "duration": 3,
    "start_time": "2024-10-17T14:13:39.851Z"
   },
   {
    "duration": 3,
    "start_time": "2024-10-17T14:13:39.856Z"
   },
   {
    "duration": 3,
    "start_time": "2024-10-17T14:13:39.861Z"
   },
   {
    "duration": 3,
    "start_time": "2024-10-17T14:13:39.866Z"
   },
   {
    "duration": 4,
    "start_time": "2024-10-17T14:13:39.871Z"
   },
   {
    "duration": 45,
    "start_time": "2024-10-17T14:13:39.879Z"
   },
   {
    "duration": 10,
    "start_time": "2024-10-17T14:13:39.926Z"
   },
   {
    "duration": 4,
    "start_time": "2024-10-17T14:13:39.937Z"
   },
   {
    "duration": 4,
    "start_time": "2024-10-17T14:13:39.943Z"
   },
   {
    "duration": 3,
    "start_time": "2024-10-17T14:13:39.948Z"
   },
   {
    "duration": 13,
    "start_time": "2024-10-17T14:13:39.952Z"
   },
   {
    "duration": 4,
    "start_time": "2024-10-17T14:13:39.966Z"
   },
   {
    "duration": 6,
    "start_time": "2024-10-17T14:13:39.972Z"
   },
   {
    "duration": 3,
    "start_time": "2024-10-17T14:13:39.979Z"
   },
   {
    "duration": 3,
    "start_time": "2024-10-17T14:13:40.024Z"
   },
   {
    "duration": 20,
    "start_time": "2024-10-17T14:13:40.029Z"
   },
   {
    "duration": 8,
    "start_time": "2024-10-17T14:13:40.050Z"
   },
   {
    "duration": 127,
    "start_time": "2024-10-17T14:13:40.060Z"
   },
   {
    "duration": 220,
    "start_time": "2024-10-17T14:13:40.189Z"
   },
   {
    "duration": 19593,
    "start_time": "2024-10-17T14:13:40.411Z"
   },
   {
    "duration": 140,
    "start_time": "2024-10-17T14:14:00.006Z"
   },
   {
    "duration": 22,
    "start_time": "2024-10-17T14:14:00.147Z"
   },
   {
    "duration": 210,
    "start_time": "2024-10-17T14:14:00.225Z"
   },
   {
    "duration": 8,
    "start_time": "2024-10-17T14:14:00.437Z"
   },
   {
    "duration": 5,
    "start_time": "2024-10-17T14:14:00.447Z"
   },
   {
    "duration": 4,
    "start_time": "2024-10-17T14:14:00.453Z"
   },
   {
    "duration": 200,
    "start_time": "2024-10-17T14:14:00.459Z"
   },
   {
    "duration": 9,
    "start_time": "2024-10-17T14:14:00.661Z"
   },
   {
    "duration": 5,
    "start_time": "2024-10-17T14:14:00.672Z"
   },
   {
    "duration": 5,
    "start_time": "2024-10-17T14:14:00.678Z"
   },
   {
    "duration": 95,
    "start_time": "2024-10-17T14:14:00.684Z"
   },
   {
    "duration": 5,
    "start_time": "2024-10-17T14:14:00.781Z"
   },
   {
    "duration": 178,
    "start_time": "2024-10-17T14:14:28.520Z"
   },
   {
    "duration": 205,
    "start_time": "2024-10-17T21:26:44.639Z"
   },
   {
    "duration": 328,
    "start_time": "2024-10-17T22:12:21.252Z"
   },
   {
    "duration": 2699,
    "start_time": "2024-10-17T22:12:21.582Z"
   },
   {
    "duration": 30,
    "start_time": "2024-10-17T22:12:24.283Z"
   },
   {
    "duration": 12,
    "start_time": "2024-10-17T22:12:24.315Z"
   },
   {
    "duration": 11,
    "start_time": "2024-10-17T22:12:24.329Z"
   },
   {
    "duration": 26,
    "start_time": "2024-10-17T22:12:24.342Z"
   },
   {
    "duration": 5,
    "start_time": "2024-10-17T22:12:24.369Z"
   },
   {
    "duration": 4,
    "start_time": "2024-10-17T22:12:24.376Z"
   },
   {
    "duration": 5,
    "start_time": "2024-10-17T22:12:24.412Z"
   },
   {
    "duration": 4,
    "start_time": "2024-10-17T22:12:24.420Z"
   },
   {
    "duration": 4,
    "start_time": "2024-10-17T22:12:24.426Z"
   },
   {
    "duration": 3,
    "start_time": "2024-10-17T22:12:24.431Z"
   },
   {
    "duration": 3,
    "start_time": "2024-10-17T22:12:24.437Z"
   },
   {
    "duration": 10,
    "start_time": "2024-10-17T22:12:24.442Z"
   },
   {
    "duration": 10,
    "start_time": "2024-10-17T22:12:24.453Z"
   },
   {
    "duration": 4,
    "start_time": "2024-10-17T22:12:24.465Z"
   },
   {
    "duration": 44,
    "start_time": "2024-10-17T22:12:24.470Z"
   },
   {
    "duration": 14,
    "start_time": "2024-10-17T22:12:24.516Z"
   },
   {
    "duration": 4,
    "start_time": "2024-10-17T22:12:24.531Z"
   },
   {
    "duration": 6,
    "start_time": "2024-10-17T22:12:24.537Z"
   },
   {
    "duration": 2,
    "start_time": "2024-10-17T22:12:24.545Z"
   },
   {
    "duration": 4,
    "start_time": "2024-10-17T22:12:24.549Z"
   },
   {
    "duration": 58,
    "start_time": "2024-10-17T22:12:24.554Z"
   },
   {
    "duration": 9,
    "start_time": "2024-10-17T22:12:24.613Z"
   },
   {
    "duration": 170,
    "start_time": "2024-10-17T22:12:24.623Z"
   },
   {
    "duration": 209,
    "start_time": "2024-10-17T22:12:29.494Z"
   },
   {
    "duration": 19757,
    "start_time": "2024-10-17T22:12:37.503Z"
   },
   {
    "duration": 377,
    "start_time": "2024-10-17T22:14:40.104Z"
   },
   {
    "duration": 340,
    "start_time": "2024-10-17T22:25:41.444Z"
   },
   {
    "duration": 983,
    "start_time": "2024-10-17T22:25:41.788Z"
   },
   {
    "duration": 22,
    "start_time": "2024-10-17T22:25:42.773Z"
   },
   {
    "duration": 19,
    "start_time": "2024-10-17T22:25:42.797Z"
   },
   {
    "duration": 10,
    "start_time": "2024-10-17T22:25:42.819Z"
   },
   {
    "duration": 30,
    "start_time": "2024-10-17T22:25:42.831Z"
   },
   {
    "duration": 6,
    "start_time": "2024-10-17T22:25:42.863Z"
   },
   {
    "duration": 4,
    "start_time": "2024-10-17T22:25:42.871Z"
   },
   {
    "duration": 37,
    "start_time": "2024-10-17T22:25:42.878Z"
   },
   {
    "duration": 6,
    "start_time": "2024-10-17T22:25:42.917Z"
   },
   {
    "duration": 4,
    "start_time": "2024-10-17T22:25:42.925Z"
   },
   {
    "duration": 5,
    "start_time": "2024-10-17T22:25:42.931Z"
   },
   {
    "duration": 4,
    "start_time": "2024-10-17T22:25:42.938Z"
   },
   {
    "duration": 10,
    "start_time": "2024-10-17T22:25:42.946Z"
   },
   {
    "duration": 14,
    "start_time": "2024-10-17T22:25:42.958Z"
   },
   {
    "duration": 42,
    "start_time": "2024-10-17T22:25:42.973Z"
   },
   {
    "duration": 10,
    "start_time": "2024-10-17T22:25:43.018Z"
   },
   {
    "duration": 14,
    "start_time": "2024-10-17T22:25:43.030Z"
   },
   {
    "duration": 6,
    "start_time": "2024-10-17T22:25:43.046Z"
   },
   {
    "duration": 9,
    "start_time": "2024-10-17T22:25:43.054Z"
   },
   {
    "duration": 3,
    "start_time": "2024-10-17T22:25:43.066Z"
   },
   {
    "duration": 3,
    "start_time": "2024-10-17T22:25:43.071Z"
   },
   {
    "duration": 57,
    "start_time": "2024-10-17T22:25:43.076Z"
   },
   {
    "duration": 12,
    "start_time": "2024-10-17T22:25:43.136Z"
   },
   {
    "duration": 178,
    "start_time": "2024-10-17T22:25:43.150Z"
   },
   {
    "duration": 271,
    "start_time": "2024-10-17T22:25:43.331Z"
   },
   {
    "duration": 19916,
    "start_time": "2024-10-17T22:25:43.611Z"
   },
   {
    "duration": 379,
    "start_time": "2024-10-17T22:26:50.138Z"
   },
   {
    "duration": 1025,
    "start_time": "2024-10-17T22:26:50.520Z"
   },
   {
    "duration": 15,
    "start_time": "2024-10-17T22:26:51.549Z"
   },
   {
    "duration": 16,
    "start_time": "2024-10-17T22:26:51.566Z"
   },
   {
    "duration": 12,
    "start_time": "2024-10-17T22:26:51.584Z"
   },
   {
    "duration": 39,
    "start_time": "2024-10-17T22:26:51.612Z"
   },
   {
    "duration": 4,
    "start_time": "2024-10-17T22:26:51.654Z"
   },
   {
    "duration": 6,
    "start_time": "2024-10-17T22:26:51.660Z"
   },
   {
    "duration": 5,
    "start_time": "2024-10-17T22:26:51.667Z"
   },
   {
    "duration": 5,
    "start_time": "2024-10-17T22:26:51.676Z"
   },
   {
    "duration": 32,
    "start_time": "2024-10-17T22:26:51.682Z"
   },
   {
    "duration": 3,
    "start_time": "2024-10-17T22:26:51.716Z"
   },
   {
    "duration": 5,
    "start_time": "2024-10-17T22:26:51.721Z"
   },
   {
    "duration": 9,
    "start_time": "2024-10-17T22:26:51.728Z"
   },
   {
    "duration": 9,
    "start_time": "2024-10-17T22:26:51.739Z"
   },
   {
    "duration": 5,
    "start_time": "2024-10-17T22:26:51.751Z"
   },
   {
    "duration": 4,
    "start_time": "2024-10-17T22:26:51.757Z"
   },
   {
    "duration": 50,
    "start_time": "2024-10-17T22:26:51.763Z"
   },
   {
    "duration": 4,
    "start_time": "2024-10-17T22:26:51.815Z"
   },
   {
    "duration": 7,
    "start_time": "2024-10-17T22:26:51.820Z"
   },
   {
    "duration": 3,
    "start_time": "2024-10-17T22:26:51.828Z"
   },
   {
    "duration": 2,
    "start_time": "2024-10-17T22:26:51.833Z"
   },
   {
    "duration": 19,
    "start_time": "2024-10-17T22:26:51.837Z"
   },
   {
    "duration": 8,
    "start_time": "2024-10-17T22:26:51.858Z"
   },
   {
    "duration": 158,
    "start_time": "2024-10-17T22:26:51.867Z"
   },
   {
    "duration": 252,
    "start_time": "2024-10-17T22:26:52.028Z"
   },
   {
    "duration": 20363,
    "start_time": "2024-10-17T22:26:52.282Z"
   },
   {
    "duration": 386,
    "start_time": "2024-10-17T22:27:12.650Z"
   },
   {
    "duration": 29,
    "start_time": "2024-10-17T22:27:13.039Z"
   },
   {
    "duration": 254,
    "start_time": "2024-10-17T22:27:13.070Z"
   },
   {
    "duration": 13,
    "start_time": "2024-10-17T22:27:13.326Z"
   },
   {
    "duration": 5,
    "start_time": "2024-10-17T22:27:13.340Z"
   },
   {
    "duration": 7,
    "start_time": "2024-10-17T22:27:13.348Z"
   },
   {
    "duration": 214,
    "start_time": "2024-10-17T22:27:13.357Z"
   },
   {
    "duration": 9,
    "start_time": "2024-10-17T22:27:13.573Z"
   },
   {
    "duration": 5,
    "start_time": "2024-10-17T22:27:13.583Z"
   },
   {
    "duration": 22,
    "start_time": "2024-10-17T22:27:13.590Z"
   },
   {
    "duration": 77,
    "start_time": "2024-10-17T22:27:13.614Z"
   },
   {
    "duration": 197,
    "start_time": "2024-10-17T22:27:13.693Z"
   },
   {
    "duration": 347,
    "start_time": "2024-10-17T22:27:47.283Z"
   },
   {
    "duration": 1122,
    "start_time": "2024-10-17T22:27:47.633Z"
   },
   {
    "duration": 16,
    "start_time": "2024-10-17T22:27:48.757Z"
   },
   {
    "duration": 12,
    "start_time": "2024-10-17T22:27:48.775Z"
   },
   {
    "duration": 27,
    "start_time": "2024-10-17T22:27:48.790Z"
   },
   {
    "duration": 32,
    "start_time": "2024-10-17T22:27:48.818Z"
   },
   {
    "duration": 5,
    "start_time": "2024-10-17T22:27:48.852Z"
   },
   {
    "duration": 5,
    "start_time": "2024-10-17T22:27:48.858Z"
   },
   {
    "duration": 5,
    "start_time": "2024-10-17T22:27:48.865Z"
   },
   {
    "duration": 4,
    "start_time": "2024-10-17T22:27:48.872Z"
   },
   {
    "duration": 36,
    "start_time": "2024-10-17T22:27:48.878Z"
   },
   {
    "duration": 3,
    "start_time": "2024-10-17T22:27:48.916Z"
   },
   {
    "duration": 5,
    "start_time": "2024-10-17T22:27:48.921Z"
   },
   {
    "duration": 12,
    "start_time": "2024-10-17T22:27:48.930Z"
   },
   {
    "duration": 13,
    "start_time": "2024-10-17T22:27:48.943Z"
   },
   {
    "duration": 3,
    "start_time": "2024-10-17T22:27:48.958Z"
   },
   {
    "duration": 4,
    "start_time": "2024-10-17T22:27:48.963Z"
   },
   {
    "duration": 53,
    "start_time": "2024-10-17T22:27:48.968Z"
   },
   {
    "duration": 4,
    "start_time": "2024-10-17T22:27:49.024Z"
   },
   {
    "duration": 7,
    "start_time": "2024-10-17T22:27:49.030Z"
   },
   {
    "duration": 4,
    "start_time": "2024-10-17T22:27:49.038Z"
   },
   {
    "duration": 4,
    "start_time": "2024-10-17T22:27:49.044Z"
   },
   {
    "duration": 21,
    "start_time": "2024-10-17T22:27:49.050Z"
   },
   {
    "duration": 42,
    "start_time": "2024-10-17T22:27:49.072Z"
   },
   {
    "duration": 124,
    "start_time": "2024-10-17T22:27:49.119Z"
   },
   {
    "duration": 228,
    "start_time": "2024-10-17T22:27:49.245Z"
   },
   {
    "duration": 19725,
    "start_time": "2024-10-17T22:27:49.476Z"
   },
   {
    "duration": 434,
    "start_time": "2024-10-17T22:28:09.203Z"
   },
   {
    "duration": 75,
    "start_time": "2024-10-17T22:28:09.639Z"
   },
   {
    "duration": 208,
    "start_time": "2024-10-17T22:28:09.715Z"
   },
   {
    "duration": 10,
    "start_time": "2024-10-17T22:28:09.925Z"
   },
   {
    "duration": 6,
    "start_time": "2024-10-17T22:28:09.937Z"
   },
   {
    "duration": 7,
    "start_time": "2024-10-17T22:28:09.946Z"
   },
   {
    "duration": 202,
    "start_time": "2024-10-17T22:28:09.956Z"
   },
   {
    "duration": 9,
    "start_time": "2024-10-17T22:28:10.160Z"
   },
   {
    "duration": 5,
    "start_time": "2024-10-17T22:28:10.170Z"
   },
   {
    "duration": 4,
    "start_time": "2024-10-17T22:28:10.176Z"
   },
   {
    "duration": 103,
    "start_time": "2024-10-17T22:28:10.182Z"
   },
   {
    "duration": 184,
    "start_time": "2024-10-17T22:28:10.287Z"
   },
   {
    "duration": 344,
    "start_time": "2024-10-17T22:29:34.372Z"
   },
   {
    "duration": 1035,
    "start_time": "2024-10-17T22:29:34.725Z"
   },
   {
    "duration": 16,
    "start_time": "2024-10-17T22:29:35.762Z"
   },
   {
    "duration": 13,
    "start_time": "2024-10-17T22:29:35.781Z"
   },
   {
    "duration": 22,
    "start_time": "2024-10-17T22:29:35.796Z"
   },
   {
    "duration": 29,
    "start_time": "2024-10-17T22:29:35.820Z"
   },
   {
    "duration": 4,
    "start_time": "2024-10-17T22:29:35.851Z"
   },
   {
    "duration": 4,
    "start_time": "2024-10-17T22:29:35.856Z"
   },
   {
    "duration": 5,
    "start_time": "2024-10-17T22:29:35.862Z"
   },
   {
    "duration": 4,
    "start_time": "2024-10-17T22:29:35.871Z"
   },
   {
    "duration": 36,
    "start_time": "2024-10-17T22:29:35.877Z"
   },
   {
    "duration": 4,
    "start_time": "2024-10-17T22:29:35.915Z"
   },
   {
    "duration": 6,
    "start_time": "2024-10-17T22:29:35.921Z"
   },
   {
    "duration": 12,
    "start_time": "2024-10-17T22:29:35.928Z"
   },
   {
    "duration": 12,
    "start_time": "2024-10-17T22:29:35.942Z"
   },
   {
    "duration": 4,
    "start_time": "2024-10-17T22:29:35.956Z"
   },
   {
    "duration": 4,
    "start_time": "2024-10-17T22:29:35.963Z"
   },
   {
    "duration": 51,
    "start_time": "2024-10-17T22:29:35.969Z"
   },
   {
    "duration": 4,
    "start_time": "2024-10-17T22:29:36.022Z"
   },
   {
    "duration": 8,
    "start_time": "2024-10-17T22:29:36.029Z"
   },
   {
    "duration": 3,
    "start_time": "2024-10-17T22:29:36.038Z"
   },
   {
    "duration": 3,
    "start_time": "2024-10-17T22:29:36.043Z"
   },
   {
    "duration": 19,
    "start_time": "2024-10-17T22:29:36.048Z"
   },
   {
    "duration": 8,
    "start_time": "2024-10-17T22:29:36.069Z"
   },
   {
    "duration": 145,
    "start_time": "2024-10-17T22:29:36.078Z"
   },
   {
    "duration": 226,
    "start_time": "2024-10-17T22:29:36.225Z"
   },
   {
    "duration": 19932,
    "start_time": "2024-10-17T22:29:36.453Z"
   },
   {
    "duration": 386,
    "start_time": "2024-10-17T22:29:56.389Z"
   },
   {
    "duration": 42,
    "start_time": "2024-10-17T22:29:56.777Z"
   },
   {
    "duration": 219,
    "start_time": "2024-10-17T22:29:56.821Z"
   },
   {
    "duration": 10,
    "start_time": "2024-10-17T22:29:57.042Z"
   },
   {
    "duration": 5,
    "start_time": "2024-10-17T22:29:57.053Z"
   },
   {
    "duration": 4,
    "start_time": "2024-10-17T22:29:57.060Z"
   },
   {
    "duration": 208,
    "start_time": "2024-10-17T22:29:57.065Z"
   },
   {
    "duration": 12,
    "start_time": "2024-10-17T22:29:57.275Z"
   },
   {
    "duration": 6,
    "start_time": "2024-10-17T22:29:57.289Z"
   },
   {
    "duration": 20,
    "start_time": "2024-10-17T22:29:57.296Z"
   },
   {
    "duration": 109,
    "start_time": "2024-10-17T22:29:57.318Z"
   },
   {
    "duration": 188,
    "start_time": "2024-10-17T22:29:57.429Z"
   },
   {
    "duration": 345,
    "start_time": "2024-10-18T10:53:04.538Z"
   },
   {
    "duration": 3082,
    "start_time": "2024-10-18T10:53:04.886Z"
   },
   {
    "duration": 31,
    "start_time": "2024-10-18T10:53:07.971Z"
   },
   {
    "duration": 18,
    "start_time": "2024-10-18T10:53:08.004Z"
   },
   {
    "duration": 26,
    "start_time": "2024-10-18T10:53:08.025Z"
   },
   {
    "duration": 31,
    "start_time": "2024-10-18T10:53:08.053Z"
   },
   {
    "duration": 4,
    "start_time": "2024-10-18T10:53:08.085Z"
   },
   {
    "duration": 4,
    "start_time": "2024-10-18T10:53:08.091Z"
   },
   {
    "duration": 3,
    "start_time": "2024-10-18T10:53:08.097Z"
   },
   {
    "duration": 4,
    "start_time": "2024-10-18T10:53:08.102Z"
   },
   {
    "duration": 37,
    "start_time": "2024-10-18T10:53:08.108Z"
   },
   {
    "duration": 4,
    "start_time": "2024-10-18T10:53:08.147Z"
   },
   {
    "duration": 4,
    "start_time": "2024-10-18T10:53:08.153Z"
   },
   {
    "duration": 11,
    "start_time": "2024-10-18T10:53:08.162Z"
   },
   {
    "duration": 13,
    "start_time": "2024-10-18T10:53:08.174Z"
   },
   {
    "duration": 5,
    "start_time": "2024-10-18T10:53:08.190Z"
   },
   {
    "duration": 5,
    "start_time": "2024-10-18T10:53:08.197Z"
   },
   {
    "duration": 56,
    "start_time": "2024-10-18T10:53:08.204Z"
   },
   {
    "duration": 11,
    "start_time": "2024-10-18T10:53:08.262Z"
   },
   {
    "duration": 8,
    "start_time": "2024-10-18T10:53:08.277Z"
   },
   {
    "duration": 4,
    "start_time": "2024-10-18T10:53:08.286Z"
   },
   {
    "duration": 3,
    "start_time": "2024-10-18T10:53:08.292Z"
   },
   {
    "duration": 49,
    "start_time": "2024-10-18T10:53:08.296Z"
   },
   {
    "duration": 14,
    "start_time": "2024-10-18T10:53:08.348Z"
   },
   {
    "duration": 151,
    "start_time": "2024-10-18T10:53:08.365Z"
   },
   {
    "duration": 234,
    "start_time": "2024-10-18T10:53:08.518Z"
   },
   {
    "duration": 20654,
    "start_time": "2024-10-18T10:53:08.755Z"
   },
   {
    "duration": 397,
    "start_time": "2024-10-18T10:53:29.411Z"
   },
   {
    "duration": 52,
    "start_time": "2024-10-18T10:53:29.810Z"
   },
   {
    "duration": 233,
    "start_time": "2024-10-18T10:53:29.865Z"
   },
   {
    "duration": 10,
    "start_time": "2024-10-18T10:53:30.100Z"
   },
   {
    "duration": 4,
    "start_time": "2024-10-18T10:53:30.112Z"
   },
   {
    "duration": 4,
    "start_time": "2024-10-18T10:53:30.118Z"
   },
   {
    "duration": 206,
    "start_time": "2024-10-18T10:53:30.144Z"
   },
   {
    "duration": 10,
    "start_time": "2024-10-18T10:53:30.352Z"
   },
   {
    "duration": 6,
    "start_time": "2024-10-18T10:53:30.365Z"
   },
   {
    "duration": 13,
    "start_time": "2024-10-18T10:53:30.372Z"
   },
   {
    "duration": 138,
    "start_time": "2024-10-18T10:53:30.387Z"
   },
   {
    "duration": 249,
    "start_time": "2024-10-18T10:53:30.528Z"
   },
   {
    "duration": 150,
    "start_time": "2024-10-18T10:54:18.571Z"
   },
   {
    "duration": 348,
    "start_time": "2024-10-18T10:55:12.447Z"
   },
   {
    "duration": 991,
    "start_time": "2024-10-18T10:55:12.797Z"
   },
   {
    "duration": 18,
    "start_time": "2024-10-18T10:55:13.789Z"
   },
   {
    "duration": 13,
    "start_time": "2024-10-18T10:55:13.809Z"
   },
   {
    "duration": 18,
    "start_time": "2024-10-18T10:55:13.826Z"
   },
   {
    "duration": 28,
    "start_time": "2024-10-18T10:55:13.847Z"
   },
   {
    "duration": 3,
    "start_time": "2024-10-18T10:55:13.877Z"
   },
   {
    "duration": 4,
    "start_time": "2024-10-18T10:55:13.882Z"
   },
   {
    "duration": 4,
    "start_time": "2024-10-18T10:55:13.889Z"
   },
   {
    "duration": 4,
    "start_time": "2024-10-18T10:55:13.894Z"
   },
   {
    "duration": 4,
    "start_time": "2024-10-18T10:55:13.900Z"
   },
   {
    "duration": 39,
    "start_time": "2024-10-18T10:55:13.905Z"
   },
   {
    "duration": 4,
    "start_time": "2024-10-18T10:55:13.946Z"
   },
   {
    "duration": 9,
    "start_time": "2024-10-18T10:55:13.953Z"
   },
   {
    "duration": 10,
    "start_time": "2024-10-18T10:55:13.964Z"
   },
   {
    "duration": 4,
    "start_time": "2024-10-18T10:55:13.976Z"
   },
   {
    "duration": 4,
    "start_time": "2024-10-18T10:55:13.981Z"
   },
   {
    "duration": 14,
    "start_time": "2024-10-18T10:55:13.987Z"
   },
   {
    "duration": 5,
    "start_time": "2024-10-18T10:55:14.044Z"
   },
   {
    "duration": 6,
    "start_time": "2024-10-18T10:55:14.051Z"
   },
   {
    "duration": 3,
    "start_time": "2024-10-18T10:55:14.059Z"
   },
   {
    "duration": 3,
    "start_time": "2024-10-18T10:55:14.064Z"
   },
   {
    "duration": 20,
    "start_time": "2024-10-18T10:55:14.069Z"
   },
   {
    "duration": 8,
    "start_time": "2024-10-18T10:55:14.091Z"
   },
   {
    "duration": 147,
    "start_time": "2024-10-18T10:55:14.101Z"
   },
   {
    "duration": 225,
    "start_time": "2024-10-18T10:55:14.250Z"
   },
   {
    "duration": 20121,
    "start_time": "2024-10-18T10:55:14.476Z"
   },
   {
    "duration": 138,
    "start_time": "2024-10-18T10:55:34.599Z"
   },
   {
    "duration": 22,
    "start_time": "2024-10-18T10:55:34.739Z"
   },
   {
    "duration": 240,
    "start_time": "2024-10-18T10:55:34.763Z"
   },
   {
    "duration": 9,
    "start_time": "2024-10-18T10:55:35.005Z"
   },
   {
    "duration": 5,
    "start_time": "2024-10-18T10:55:35.015Z"
   },
   {
    "duration": 23,
    "start_time": "2024-10-18T10:55:35.022Z"
   },
   {
    "duration": 194,
    "start_time": "2024-10-18T10:55:35.048Z"
   },
   {
    "duration": 9,
    "start_time": "2024-10-18T10:55:35.244Z"
   },
   {
    "duration": 6,
    "start_time": "2024-10-18T10:55:35.254Z"
   },
   {
    "duration": 4,
    "start_time": "2024-10-18T10:55:35.262Z"
   },
   {
    "duration": 96,
    "start_time": "2024-10-18T10:55:35.268Z"
   },
   {
    "duration": 189,
    "start_time": "2024-10-18T10:55:35.366Z"
   },
   {
    "duration": 335,
    "start_time": "2024-10-18T10:57:21.980Z"
   },
   {
    "duration": 993,
    "start_time": "2024-10-18T10:57:22.317Z"
   },
   {
    "duration": 15,
    "start_time": "2024-10-18T10:57:23.312Z"
   },
   {
    "duration": 19,
    "start_time": "2024-10-18T10:57:23.329Z"
   },
   {
    "duration": 9,
    "start_time": "2024-10-18T10:57:23.350Z"
   },
   {
    "duration": 28,
    "start_time": "2024-10-18T10:57:23.361Z"
   },
   {
    "duration": 4,
    "start_time": "2024-10-18T10:57:23.392Z"
   },
   {
    "duration": 4,
    "start_time": "2024-10-18T10:57:23.398Z"
   },
   {
    "duration": 4,
    "start_time": "2024-10-18T10:57:23.404Z"
   },
   {
    "duration": 5,
    "start_time": "2024-10-18T10:57:23.442Z"
   },
   {
    "duration": 4,
    "start_time": "2024-10-18T10:57:23.449Z"
   },
   {
    "duration": 2,
    "start_time": "2024-10-18T10:57:23.455Z"
   },
   {
    "duration": 4,
    "start_time": "2024-10-18T10:57:23.460Z"
   },
   {
    "duration": 8,
    "start_time": "2024-10-18T10:57:23.465Z"
   },
   {
    "duration": 10,
    "start_time": "2024-10-18T10:57:23.475Z"
   },
   {
    "duration": 5,
    "start_time": "2024-10-18T10:57:23.486Z"
   },
   {
    "duration": 4,
    "start_time": "2024-10-18T10:57:23.492Z"
   },
   {
    "duration": 56,
    "start_time": "2024-10-18T10:57:23.497Z"
   },
   {
    "duration": 5,
    "start_time": "2024-10-18T10:57:23.554Z"
   },
   {
    "duration": 8,
    "start_time": "2024-10-18T10:57:23.561Z"
   },
   {
    "duration": 3,
    "start_time": "2024-10-18T10:57:23.570Z"
   },
   {
    "duration": 3,
    "start_time": "2024-10-18T10:57:23.575Z"
   },
   {
    "duration": 21,
    "start_time": "2024-10-18T10:57:23.580Z"
   },
   {
    "duration": 48,
    "start_time": "2024-10-18T10:57:23.602Z"
   },
   {
    "duration": 111,
    "start_time": "2024-10-18T10:57:23.652Z"
   },
   {
    "duration": 223,
    "start_time": "2024-10-18T10:57:23.766Z"
   },
   {
    "duration": 19769,
    "start_time": "2024-10-18T10:57:23.991Z"
   },
   {
    "duration": 138,
    "start_time": "2024-10-18T10:57:43.765Z"
   },
   {
    "duration": 45,
    "start_time": "2024-10-18T10:57:43.905Z"
   },
   {
    "duration": 222,
    "start_time": "2024-10-18T10:57:43.952Z"
   },
   {
    "duration": 10,
    "start_time": "2024-10-18T10:57:44.176Z"
   },
   {
    "duration": 5,
    "start_time": "2024-10-18T10:57:44.187Z"
   },
   {
    "duration": 4,
    "start_time": "2024-10-18T10:57:44.193Z"
   },
   {
    "duration": 202,
    "start_time": "2024-10-18T10:57:44.199Z"
   },
   {
    "duration": 10,
    "start_time": "2024-10-18T10:57:44.405Z"
   },
   {
    "duration": 4,
    "start_time": "2024-10-18T10:57:44.416Z"
   },
   {
    "duration": 20,
    "start_time": "2024-10-18T10:57:44.422Z"
   },
   {
    "duration": 77,
    "start_time": "2024-10-18T10:57:44.444Z"
   },
   {
    "duration": 195,
    "start_time": "2024-10-18T10:57:44.522Z"
   },
   {
    "duration": 338,
    "start_time": "2024-10-18T11:03:36.426Z"
   },
   {
    "duration": 1048,
    "start_time": "2024-10-18T11:03:36.766Z"
   },
   {
    "duration": 16,
    "start_time": "2024-10-18T11:03:37.816Z"
   },
   {
    "duration": 13,
    "start_time": "2024-10-18T11:03:37.842Z"
   },
   {
    "duration": 11,
    "start_time": "2024-10-18T11:03:37.856Z"
   },
   {
    "duration": 28,
    "start_time": "2024-10-18T11:03:37.868Z"
   },
   {
    "duration": 3,
    "start_time": "2024-10-18T11:03:37.898Z"
   },
   {
    "duration": 4,
    "start_time": "2024-10-18T11:03:37.903Z"
   },
   {
    "duration": 34,
    "start_time": "2024-10-18T11:03:37.909Z"
   },
   {
    "duration": 4,
    "start_time": "2024-10-18T11:03:37.946Z"
   },
   {
    "duration": 4,
    "start_time": "2024-10-18T11:03:37.952Z"
   },
   {
    "duration": 3,
    "start_time": "2024-10-18T11:03:37.958Z"
   },
   {
    "duration": 4,
    "start_time": "2024-10-18T11:03:37.963Z"
   },
   {
    "duration": 10,
    "start_time": "2024-10-18T11:03:37.969Z"
   },
   {
    "duration": 10,
    "start_time": "2024-10-18T11:03:37.980Z"
   },
   {
    "duration": 4,
    "start_time": "2024-10-18T11:03:37.992Z"
   },
   {
    "duration": 49,
    "start_time": "2024-10-18T11:03:37.997Z"
   },
   {
    "duration": 15,
    "start_time": "2024-10-18T11:03:38.048Z"
   },
   {
    "duration": 4,
    "start_time": "2024-10-18T11:03:38.065Z"
   },
   {
    "duration": 7,
    "start_time": "2024-10-18T11:03:38.073Z"
   },
   {
    "duration": 3,
    "start_time": "2024-10-18T11:03:38.081Z"
   },
   {
    "duration": 3,
    "start_time": "2024-10-18T11:03:38.086Z"
   },
   {
    "duration": 53,
    "start_time": "2024-10-18T11:03:38.091Z"
   },
   {
    "duration": 12,
    "start_time": "2024-10-18T11:03:38.146Z"
   },
   {
    "duration": 122,
    "start_time": "2024-10-18T11:03:38.160Z"
   },
   {
    "duration": 226,
    "start_time": "2024-10-18T11:03:38.284Z"
   },
   {
    "duration": 20242,
    "start_time": "2024-10-18T11:03:38.512Z"
   },
   {
    "duration": 0,
    "start_time": "2024-10-18T11:03:58.757Z"
   },
   {
    "duration": 0,
    "start_time": "2024-10-18T11:03:58.758Z"
   },
   {
    "duration": 0,
    "start_time": "2024-10-18T11:03:58.760Z"
   },
   {
    "duration": 0,
    "start_time": "2024-10-18T11:03:58.761Z"
   },
   {
    "duration": 0,
    "start_time": "2024-10-18T11:03:58.763Z"
   },
   {
    "duration": 0,
    "start_time": "2024-10-18T11:03:58.764Z"
   },
   {
    "duration": 0,
    "start_time": "2024-10-18T11:03:58.765Z"
   },
   {
    "duration": 0,
    "start_time": "2024-10-18T11:03:58.767Z"
   },
   {
    "duration": 0,
    "start_time": "2024-10-18T11:03:58.768Z"
   },
   {
    "duration": 0,
    "start_time": "2024-10-18T11:03:58.768Z"
   },
   {
    "duration": 0,
    "start_time": "2024-10-18T11:03:58.769Z"
   },
   {
    "duration": 0,
    "start_time": "2024-10-18T11:03:58.770Z"
   },
   {
    "duration": 335,
    "start_time": "2024-10-18T11:05:55.711Z"
   },
   {
    "duration": 1044,
    "start_time": "2024-10-18T11:05:56.048Z"
   },
   {
    "duration": 19,
    "start_time": "2024-10-18T11:05:57.094Z"
   },
   {
    "duration": 28,
    "start_time": "2024-10-18T11:05:57.115Z"
   },
   {
    "duration": 15,
    "start_time": "2024-10-18T11:05:57.146Z"
   },
   {
    "duration": 35,
    "start_time": "2024-10-18T11:05:57.166Z"
   },
   {
    "duration": 4,
    "start_time": "2024-10-18T11:05:57.203Z"
   },
   {
    "duration": 5,
    "start_time": "2024-10-18T11:05:57.209Z"
   },
   {
    "duration": 29,
    "start_time": "2024-10-18T11:05:57.216Z"
   },
   {
    "duration": 5,
    "start_time": "2024-10-18T11:05:57.248Z"
   },
   {
    "duration": 6,
    "start_time": "2024-10-18T11:05:57.255Z"
   },
   {
    "duration": 3,
    "start_time": "2024-10-18T11:05:57.263Z"
   },
   {
    "duration": 4,
    "start_time": "2024-10-18T11:05:57.268Z"
   },
   {
    "duration": 12,
    "start_time": "2024-10-18T11:05:57.276Z"
   },
   {
    "duration": 13,
    "start_time": "2024-10-18T11:05:57.290Z"
   },
   {
    "duration": 42,
    "start_time": "2024-10-18T11:05:57.305Z"
   },
   {
    "duration": 5,
    "start_time": "2024-10-18T11:05:57.349Z"
   },
   {
    "duration": 17,
    "start_time": "2024-10-18T11:05:57.356Z"
   },
   {
    "duration": 5,
    "start_time": "2024-10-18T11:05:57.375Z"
   },
   {
    "duration": 8,
    "start_time": "2024-10-18T11:05:57.382Z"
   },
   {
    "duration": 3,
    "start_time": "2024-10-18T11:05:57.392Z"
   },
   {
    "duration": 4,
    "start_time": "2024-10-18T11:05:57.397Z"
   },
   {
    "duration": 63,
    "start_time": "2024-10-18T11:05:57.402Z"
   },
   {
    "duration": 9,
    "start_time": "2024-10-18T11:05:57.467Z"
   },
   {
    "duration": 137,
    "start_time": "2024-10-18T11:05:57.478Z"
   },
   {
    "duration": 242,
    "start_time": "2024-10-18T11:05:57.617Z"
   },
   {
    "duration": 21604,
    "start_time": "2024-10-18T11:05:57.862Z"
   },
   {
    "duration": 141,
    "start_time": "2024-10-18T11:06:19.468Z"
   },
   {
    "duration": 51,
    "start_time": "2024-10-18T11:06:19.611Z"
   },
   {
    "duration": 234,
    "start_time": "2024-10-18T11:06:19.664Z"
   },
   {
    "duration": 10,
    "start_time": "2024-10-18T11:06:19.900Z"
   },
   {
    "duration": 6,
    "start_time": "2024-10-18T11:06:19.912Z"
   },
   {
    "duration": 24,
    "start_time": "2024-10-18T11:06:19.920Z"
   },
   {
    "duration": 198,
    "start_time": "2024-10-18T11:06:19.946Z"
   },
   {
    "duration": 11,
    "start_time": "2024-10-18T11:06:20.146Z"
   },
   {
    "duration": 5,
    "start_time": "2024-10-18T11:06:20.159Z"
   },
   {
    "duration": 5,
    "start_time": "2024-10-18T11:06:20.166Z"
   },
   {
    "duration": 105,
    "start_time": "2024-10-18T11:06:20.174Z"
   },
   {
    "duration": 211,
    "start_time": "2024-10-18T11:06:20.281Z"
   },
   {
    "duration": 3,
    "start_time": "2024-10-18T11:10:31.423Z"
   },
   {
    "duration": 6,
    "start_time": "2024-10-18T11:11:34.429Z"
   },
   {
    "duration": 343,
    "start_time": "2024-10-18T13:29:32.446Z"
   },
   {
    "duration": 1037,
    "start_time": "2024-10-18T13:29:32.791Z"
   },
   {
    "duration": 20,
    "start_time": "2024-10-18T13:29:33.831Z"
   },
   {
    "duration": 14,
    "start_time": "2024-10-18T13:29:33.853Z"
   },
   {
    "duration": 12,
    "start_time": "2024-10-18T13:29:33.869Z"
   },
   {
    "duration": 35,
    "start_time": "2024-10-18T13:29:33.885Z"
   },
   {
    "duration": 4,
    "start_time": "2024-10-18T13:29:33.943Z"
   },
   {
    "duration": 5,
    "start_time": "2024-10-18T13:29:33.949Z"
   },
   {
    "duration": 4,
    "start_time": "2024-10-18T13:29:33.956Z"
   },
   {
    "duration": 5,
    "start_time": "2024-10-18T13:29:33.962Z"
   },
   {
    "duration": 4,
    "start_time": "2024-10-18T13:29:33.968Z"
   },
   {
    "duration": 5,
    "start_time": "2024-10-18T13:29:33.974Z"
   },
   {
    "duration": 4,
    "start_time": "2024-10-18T13:29:33.981Z"
   },
   {
    "duration": 9,
    "start_time": "2024-10-18T13:29:33.990Z"
   },
   {
    "duration": 11,
    "start_time": "2024-10-18T13:29:34.043Z"
   },
   {
    "duration": 6,
    "start_time": "2024-10-18T13:29:34.056Z"
   },
   {
    "duration": 7,
    "start_time": "2024-10-18T13:29:34.064Z"
   },
   {
    "duration": 17,
    "start_time": "2024-10-18T13:29:34.073Z"
   },
   {
    "duration": 5,
    "start_time": "2024-10-18T13:29:34.091Z"
   },
   {
    "duration": 7,
    "start_time": "2024-10-18T13:29:34.098Z"
   },
   {
    "duration": 36,
    "start_time": "2024-10-18T13:29:34.107Z"
   },
   {
    "duration": 3,
    "start_time": "2024-10-18T13:29:34.146Z"
   },
   {
    "duration": 23,
    "start_time": "2024-10-18T13:29:34.151Z"
   },
   {
    "duration": 11,
    "start_time": "2024-10-18T13:29:34.176Z"
   },
   {
    "duration": 128,
    "start_time": "2024-10-18T13:29:34.189Z"
   },
   {
    "duration": 237,
    "start_time": "2024-10-18T13:29:34.319Z"
   },
   {
    "duration": 19330,
    "start_time": "2024-10-18T13:29:34.558Z"
   },
   {
    "duration": 139,
    "start_time": "2024-10-18T13:29:53.890Z"
   },
   {
    "duration": 26,
    "start_time": "2024-10-18T13:29:54.031Z"
   },
   {
    "duration": 230,
    "start_time": "2024-10-18T13:29:54.059Z"
   },
   {
    "duration": 9,
    "start_time": "2024-10-18T13:29:54.291Z"
   },
   {
    "duration": 5,
    "start_time": "2024-10-18T13:29:54.302Z"
   },
   {
    "duration": 4,
    "start_time": "2024-10-18T13:29:54.308Z"
   },
   {
    "duration": 201,
    "start_time": "2024-10-18T13:29:54.314Z"
   },
   {
    "duration": 9,
    "start_time": "2024-10-18T13:29:54.516Z"
   },
   {
    "duration": 16,
    "start_time": "2024-10-18T13:29:54.527Z"
   },
   {
    "duration": 4,
    "start_time": "2024-10-18T13:29:54.546Z"
   },
   {
    "duration": 74,
    "start_time": "2024-10-18T13:29:54.552Z"
   },
   {
    "duration": 194,
    "start_time": "2024-10-18T13:29:54.628Z"
   },
   {
    "duration": 339,
    "start_time": "2024-10-18T13:30:32.675Z"
   },
   {
    "duration": 979,
    "start_time": "2024-10-18T13:30:33.017Z"
   },
   {
    "duration": 15,
    "start_time": "2024-10-18T13:30:33.998Z"
   },
   {
    "duration": 13,
    "start_time": "2024-10-18T13:30:34.014Z"
   },
   {
    "duration": 21,
    "start_time": "2024-10-18T13:30:34.030Z"
   },
   {
    "duration": 27,
    "start_time": "2024-10-18T13:30:34.052Z"
   },
   {
    "duration": 4,
    "start_time": "2024-10-18T13:30:34.082Z"
   },
   {
    "duration": 4,
    "start_time": "2024-10-18T13:30:34.087Z"
   },
   {
    "duration": 5,
    "start_time": "2024-10-18T13:30:34.093Z"
   },
   {
    "duration": 4,
    "start_time": "2024-10-18T13:30:34.100Z"
   },
   {
    "duration": 4,
    "start_time": "2024-10-18T13:30:34.105Z"
   },
   {
    "duration": 33,
    "start_time": "2024-10-18T13:30:34.111Z"
   },
   {
    "duration": 4,
    "start_time": "2024-10-18T13:30:34.145Z"
   },
   {
    "duration": 9,
    "start_time": "2024-10-18T13:30:34.154Z"
   },
   {
    "duration": 10,
    "start_time": "2024-10-18T13:30:34.164Z"
   },
   {
    "duration": 4,
    "start_time": "2024-10-18T13:30:34.175Z"
   },
   {
    "duration": 4,
    "start_time": "2024-10-18T13:30:34.182Z"
   },
   {
    "duration": 13,
    "start_time": "2024-10-18T13:30:34.187Z"
   },
   {
    "duration": 4,
    "start_time": "2024-10-18T13:30:34.242Z"
   },
   {
    "duration": 7,
    "start_time": "2024-10-18T13:30:34.248Z"
   },
   {
    "duration": 3,
    "start_time": "2024-10-18T13:30:34.256Z"
   },
   {
    "duration": 3,
    "start_time": "2024-10-18T13:30:34.261Z"
   },
   {
    "duration": 19,
    "start_time": "2024-10-18T13:30:34.266Z"
   },
   {
    "duration": 8,
    "start_time": "2024-10-18T13:30:34.287Z"
   },
   {
    "duration": 133,
    "start_time": "2024-10-18T13:30:34.297Z"
   },
   {
    "duration": 229,
    "start_time": "2024-10-18T13:30:34.433Z"
   },
   {
    "duration": 19509,
    "start_time": "2024-10-18T13:30:34.664Z"
   },
   {
    "duration": 135,
    "start_time": "2024-10-18T13:30:54.176Z"
   },
   {
    "duration": 37,
    "start_time": "2024-10-18T13:30:54.313Z"
   },
   {
    "duration": 219,
    "start_time": "2024-10-18T13:30:54.352Z"
   },
   {
    "duration": 9,
    "start_time": "2024-10-18T13:30:54.573Z"
   },
   {
    "duration": 5,
    "start_time": "2024-10-18T13:30:54.583Z"
   },
   {
    "duration": 5,
    "start_time": "2024-10-18T13:30:54.590Z"
   },
   {
    "duration": 203,
    "start_time": "2024-10-18T13:30:54.597Z"
   },
   {
    "duration": 9,
    "start_time": "2024-10-18T13:30:54.803Z"
   },
   {
    "duration": 5,
    "start_time": "2024-10-18T13:30:54.814Z"
   },
   {
    "duration": 22,
    "start_time": "2024-10-18T13:30:54.821Z"
   },
   {
    "duration": 76,
    "start_time": "2024-10-18T13:30:54.844Z"
   },
   {
    "duration": 192,
    "start_time": "2024-10-18T13:30:54.923Z"
   },
   {
    "duration": 555,
    "start_time": "2024-10-18T13:32:05.859Z"
   },
   {
    "duration": 332,
    "start_time": "2024-10-18T13:35:51.997Z"
   },
   {
    "duration": 974,
    "start_time": "2024-10-18T13:35:52.331Z"
   },
   {
    "duration": 16,
    "start_time": "2024-10-18T13:35:53.307Z"
   },
   {
    "duration": 22,
    "start_time": "2024-10-18T13:35:53.325Z"
   },
   {
    "duration": 10,
    "start_time": "2024-10-18T13:35:53.349Z"
   },
   {
    "duration": 26,
    "start_time": "2024-10-18T13:35:53.362Z"
   },
   {
    "duration": 4,
    "start_time": "2024-10-18T13:35:53.390Z"
   },
   {
    "duration": 6,
    "start_time": "2024-10-18T13:35:53.396Z"
   },
   {
    "duration": 4,
    "start_time": "2024-10-18T13:35:53.403Z"
   },
   {
    "duration": 3,
    "start_time": "2024-10-18T13:35:53.410Z"
   },
   {
    "duration": 3,
    "start_time": "2024-10-18T13:35:53.443Z"
   },
   {
    "duration": 3,
    "start_time": "2024-10-18T13:35:53.448Z"
   },
   {
    "duration": 3,
    "start_time": "2024-10-18T13:35:53.453Z"
   },
   {
    "duration": 8,
    "start_time": "2024-10-18T13:35:53.458Z"
   },
   {
    "duration": 11,
    "start_time": "2024-10-18T13:35:53.469Z"
   },
   {
    "duration": 4,
    "start_time": "2024-10-18T13:35:53.481Z"
   },
   {
    "duration": 5,
    "start_time": "2024-10-18T13:35:53.487Z"
   },
   {
    "duration": 54,
    "start_time": "2024-10-18T13:35:53.493Z"
   },
   {
    "duration": 4,
    "start_time": "2024-10-18T13:35:53.548Z"
   },
   {
    "duration": 6,
    "start_time": "2024-10-18T13:35:53.554Z"
   },
   {
    "duration": 3,
    "start_time": "2024-10-18T13:35:53.562Z"
   },
   {
    "duration": 3,
    "start_time": "2024-10-18T13:35:53.567Z"
   },
   {
    "duration": 20,
    "start_time": "2024-10-18T13:35:53.572Z"
   },
   {
    "duration": 9,
    "start_time": "2024-10-18T13:35:53.593Z"
   },
   {
    "duration": 141,
    "start_time": "2024-10-18T13:35:53.604Z"
   },
   {
    "duration": 228,
    "start_time": "2024-10-18T13:35:53.746Z"
   },
   {
    "duration": 262,
    "start_time": "2024-10-18T13:35:53.976Z"
   },
   {
    "duration": 0,
    "start_time": "2024-10-18T13:35:54.243Z"
   },
   {
    "duration": 0,
    "start_time": "2024-10-18T13:35:54.244Z"
   },
   {
    "duration": 0,
    "start_time": "2024-10-18T13:35:54.245Z"
   },
   {
    "duration": 0,
    "start_time": "2024-10-18T13:35:54.246Z"
   },
   {
    "duration": 0,
    "start_time": "2024-10-18T13:35:54.248Z"
   },
   {
    "duration": 0,
    "start_time": "2024-10-18T13:35:54.249Z"
   },
   {
    "duration": 0,
    "start_time": "2024-10-18T13:35:54.251Z"
   },
   {
    "duration": 0,
    "start_time": "2024-10-18T13:35:54.253Z"
   },
   {
    "duration": 0,
    "start_time": "2024-10-18T13:35:54.254Z"
   },
   {
    "duration": 0,
    "start_time": "2024-10-18T13:35:54.256Z"
   },
   {
    "duration": 0,
    "start_time": "2024-10-18T13:35:54.258Z"
   },
   {
    "duration": 0,
    "start_time": "2024-10-18T13:35:54.259Z"
   },
   {
    "duration": 344,
    "start_time": "2024-10-18T13:36:33.061Z"
   },
   {
    "duration": 1003,
    "start_time": "2024-10-18T13:36:33.407Z"
   },
   {
    "duration": 16,
    "start_time": "2024-10-18T13:36:34.412Z"
   },
   {
    "duration": 22,
    "start_time": "2024-10-18T13:36:34.431Z"
   },
   {
    "duration": 10,
    "start_time": "2024-10-18T13:36:34.455Z"
   },
   {
    "duration": 29,
    "start_time": "2024-10-18T13:36:34.467Z"
   },
   {
    "duration": 3,
    "start_time": "2024-10-18T13:36:34.498Z"
   },
   {
    "duration": 4,
    "start_time": "2024-10-18T13:36:34.503Z"
   },
   {
    "duration": 35,
    "start_time": "2024-10-18T13:36:34.508Z"
   },
   {
    "duration": 4,
    "start_time": "2024-10-18T13:36:34.546Z"
   },
   {
    "duration": 3,
    "start_time": "2024-10-18T13:36:34.552Z"
   },
   {
    "duration": 3,
    "start_time": "2024-10-18T13:36:34.557Z"
   },
   {
    "duration": 5,
    "start_time": "2024-10-18T13:36:34.561Z"
   },
   {
    "duration": 9,
    "start_time": "2024-10-18T13:36:34.567Z"
   },
   {
    "duration": 10,
    "start_time": "2024-10-18T13:36:34.579Z"
   },
   {
    "duration": 5,
    "start_time": "2024-10-18T13:36:34.590Z"
   },
   {
    "duration": 4,
    "start_time": "2024-10-18T13:36:34.596Z"
   },
   {
    "duration": 54,
    "start_time": "2024-10-18T13:36:34.601Z"
   },
   {
    "duration": 4,
    "start_time": "2024-10-18T13:36:34.657Z"
   },
   {
    "duration": 7,
    "start_time": "2024-10-18T13:36:34.662Z"
   },
   {
    "duration": 3,
    "start_time": "2024-10-18T13:36:34.670Z"
   },
   {
    "duration": 4,
    "start_time": "2024-10-18T13:36:34.675Z"
   },
   {
    "duration": 20,
    "start_time": "2024-10-18T13:36:34.681Z"
   },
   {
    "duration": 41,
    "start_time": "2024-10-18T13:36:34.702Z"
   },
   {
    "duration": 111,
    "start_time": "2024-10-18T13:36:34.745Z"
   },
   {
    "duration": 230,
    "start_time": "2024-10-18T13:36:34.858Z"
   },
   {
    "duration": 19807,
    "start_time": "2024-10-18T13:36:35.090Z"
   },
   {
    "duration": 243,
    "start_time": "2024-10-18T13:36:54.902Z"
   },
   {
    "duration": 0,
    "start_time": "2024-10-18T13:36:55.147Z"
   },
   {
    "duration": 0,
    "start_time": "2024-10-18T13:36:55.148Z"
   },
   {
    "duration": 0,
    "start_time": "2024-10-18T13:36:55.149Z"
   },
   {
    "duration": 0,
    "start_time": "2024-10-18T13:36:55.155Z"
   },
   {
    "duration": 0,
    "start_time": "2024-10-18T13:36:55.156Z"
   },
   {
    "duration": 0,
    "start_time": "2024-10-18T13:36:55.158Z"
   },
   {
    "duration": 0,
    "start_time": "2024-10-18T13:36:55.159Z"
   },
   {
    "duration": 0,
    "start_time": "2024-10-18T13:36:55.161Z"
   },
   {
    "duration": 0,
    "start_time": "2024-10-18T13:36:55.162Z"
   },
   {
    "duration": 0,
    "start_time": "2024-10-18T13:36:55.164Z"
   },
   {
    "duration": 0,
    "start_time": "2024-10-18T13:36:55.165Z"
   },
   {
    "duration": 587,
    "start_time": "2024-10-18T13:37:10.339Z"
   },
   {
    "duration": 340,
    "start_time": "2024-10-18T13:40:18.704Z"
   },
   {
    "duration": 1053,
    "start_time": "2024-10-18T13:40:19.047Z"
   },
   {
    "duration": 22,
    "start_time": "2024-10-18T13:40:20.102Z"
   },
   {
    "duration": 22,
    "start_time": "2024-10-18T13:40:20.126Z"
   },
   {
    "duration": 11,
    "start_time": "2024-10-18T13:40:20.151Z"
   },
   {
    "duration": 28,
    "start_time": "2024-10-18T13:40:20.163Z"
   },
   {
    "duration": 3,
    "start_time": "2024-10-18T13:40:20.193Z"
   },
   {
    "duration": 4,
    "start_time": "2024-10-18T13:40:20.198Z"
   },
   {
    "duration": 4,
    "start_time": "2024-10-18T13:40:20.204Z"
   },
   {
    "duration": 37,
    "start_time": "2024-10-18T13:40:20.209Z"
   },
   {
    "duration": 5,
    "start_time": "2024-10-18T13:40:20.249Z"
   },
   {
    "duration": 6,
    "start_time": "2024-10-18T13:40:20.256Z"
   },
   {
    "duration": 3,
    "start_time": "2024-10-18T13:40:20.264Z"
   },
   {
    "duration": 9,
    "start_time": "2024-10-18T13:40:20.272Z"
   },
   {
    "duration": 16,
    "start_time": "2024-10-18T13:40:20.282Z"
   },
   {
    "duration": 40,
    "start_time": "2024-10-18T13:40:20.303Z"
   },
   {
    "duration": 4,
    "start_time": "2024-10-18T13:40:20.345Z"
   },
   {
    "duration": 15,
    "start_time": "2024-10-18T13:40:20.351Z"
   },
   {
    "duration": 5,
    "start_time": "2024-10-18T13:40:20.368Z"
   },
   {
    "duration": 9,
    "start_time": "2024-10-18T13:40:20.375Z"
   },
   {
    "duration": 4,
    "start_time": "2024-10-18T13:40:20.385Z"
   },
   {
    "duration": 4,
    "start_time": "2024-10-18T13:40:20.390Z"
   },
   {
    "duration": 66,
    "start_time": "2024-10-18T13:40:20.395Z"
   },
   {
    "duration": 12,
    "start_time": "2024-10-18T13:40:20.462Z"
   },
   {
    "duration": 142,
    "start_time": "2024-10-18T13:40:20.476Z"
   },
   {
    "duration": 252,
    "start_time": "2024-10-18T13:40:20.620Z"
   },
   {
    "duration": 19839,
    "start_time": "2024-10-18T13:40:20.875Z"
   },
   {
    "duration": 276,
    "start_time": "2024-10-18T13:40:40.716Z"
   },
   {
    "duration": 72,
    "start_time": "2024-10-18T13:40:40.994Z"
   },
   {
    "duration": 406,
    "start_time": "2024-10-18T13:40:41.068Z"
   },
   {
    "duration": 11,
    "start_time": "2024-10-18T13:40:41.476Z"
   },
   {
    "duration": 6,
    "start_time": "2024-10-18T13:40:41.488Z"
   },
   {
    "duration": 5,
    "start_time": "2024-10-18T13:40:41.495Z"
   },
   {
    "duration": 395,
    "start_time": "2024-10-18T13:40:41.502Z"
   },
   {
    "duration": 14,
    "start_time": "2024-10-18T13:40:41.899Z"
   },
   {
    "duration": 5,
    "start_time": "2024-10-18T13:40:41.915Z"
   },
   {
    "duration": 23,
    "start_time": "2024-10-18T13:40:41.921Z"
   },
   {
    "duration": 154,
    "start_time": "2024-10-18T13:40:41.946Z"
   },
   {
    "duration": 380,
    "start_time": "2024-10-18T13:40:42.102Z"
   },
   {
    "duration": 345,
    "start_time": "2024-10-18T13:41:12.139Z"
   },
   {
    "duration": 1024,
    "start_time": "2024-10-18T13:41:12.487Z"
   },
   {
    "duration": 16,
    "start_time": "2024-10-18T13:41:13.513Z"
   },
   {
    "duration": 17,
    "start_time": "2024-10-18T13:41:13.530Z"
   },
   {
    "duration": 12,
    "start_time": "2024-10-18T13:41:13.551Z"
   },
   {
    "duration": 42,
    "start_time": "2024-10-18T13:41:13.565Z"
   },
   {
    "duration": 5,
    "start_time": "2024-10-18T13:41:13.608Z"
   },
   {
    "duration": 28,
    "start_time": "2024-10-18T13:41:13.615Z"
   },
   {
    "duration": 6,
    "start_time": "2024-10-18T13:41:13.645Z"
   },
   {
    "duration": 4,
    "start_time": "2024-10-18T13:41:13.653Z"
   },
   {
    "duration": 6,
    "start_time": "2024-10-18T13:41:13.659Z"
   },
   {
    "duration": 3,
    "start_time": "2024-10-18T13:41:13.667Z"
   },
   {
    "duration": 6,
    "start_time": "2024-10-18T13:41:13.672Z"
   },
   {
    "duration": 12,
    "start_time": "2024-10-18T13:41:13.682Z"
   },
   {
    "duration": 48,
    "start_time": "2024-10-18T13:41:13.696Z"
   },
   {
    "duration": 6,
    "start_time": "2024-10-18T13:41:13.746Z"
   },
   {
    "duration": 5,
    "start_time": "2024-10-18T13:41:13.754Z"
   },
   {
    "duration": 14,
    "start_time": "2024-10-18T13:41:13.761Z"
   },
   {
    "duration": 5,
    "start_time": "2024-10-18T13:41:13.777Z"
   },
   {
    "duration": 9,
    "start_time": "2024-10-18T13:41:13.784Z"
   },
   {
    "duration": 3,
    "start_time": "2024-10-18T13:41:13.795Z"
   },
   {
    "duration": 43,
    "start_time": "2024-10-18T13:41:13.800Z"
   },
   {
    "duration": 31,
    "start_time": "2024-10-18T13:41:13.845Z"
   },
   {
    "duration": 11,
    "start_time": "2024-10-18T13:41:13.878Z"
   },
   {
    "duration": 152,
    "start_time": "2024-10-18T13:41:13.892Z"
   },
   {
    "duration": 231,
    "start_time": "2024-10-18T13:41:14.048Z"
   },
   {
    "duration": 20093,
    "start_time": "2024-10-18T13:41:14.281Z"
   },
   {
    "duration": 288,
    "start_time": "2024-10-18T13:41:34.376Z"
   },
   {
    "duration": 81,
    "start_time": "2024-10-18T13:41:34.666Z"
   },
   {
    "duration": 342,
    "start_time": "2024-10-18T13:41:34.750Z"
   },
   {
    "duration": 11,
    "start_time": "2024-10-18T13:41:35.094Z"
   },
   {
    "duration": 5,
    "start_time": "2024-10-18T13:41:35.107Z"
   },
   {
    "duration": 5,
    "start_time": "2024-10-18T13:41:35.114Z"
   },
   {
    "duration": 375,
    "start_time": "2024-10-18T13:41:35.144Z"
   },
   {
    "duration": 22,
    "start_time": "2024-10-18T13:41:35.521Z"
   },
   {
    "duration": 6,
    "start_time": "2024-10-18T13:41:35.544Z"
   },
   {
    "duration": 7,
    "start_time": "2024-10-18T13:41:35.551Z"
   },
   {
    "duration": 167,
    "start_time": "2024-10-18T13:41:35.559Z"
   },
   {
    "duration": 381,
    "start_time": "2024-10-18T13:41:35.729Z"
   },
   {
    "duration": 355,
    "start_time": "2024-10-18T13:42:44.418Z"
   },
   {
    "duration": 1116,
    "start_time": "2024-10-18T13:42:44.777Z"
   },
   {
    "duration": 19,
    "start_time": "2024-10-18T13:42:45.895Z"
   },
   {
    "duration": 15,
    "start_time": "2024-10-18T13:42:45.915Z"
   },
   {
    "duration": 11,
    "start_time": "2024-10-18T13:42:45.942Z"
   },
   {
    "duration": 33,
    "start_time": "2024-10-18T13:42:45.955Z"
   },
   {
    "duration": 4,
    "start_time": "2024-10-18T13:42:45.990Z"
   },
   {
    "duration": 4,
    "start_time": "2024-10-18T13:42:45.996Z"
   },
   {
    "duration": 3,
    "start_time": "2024-10-18T13:42:46.003Z"
   },
   {
    "duration": 37,
    "start_time": "2024-10-18T13:42:46.008Z"
   },
   {
    "duration": 4,
    "start_time": "2024-10-18T13:42:46.046Z"
   },
   {
    "duration": 3,
    "start_time": "2024-10-18T13:42:46.052Z"
   },
   {
    "duration": 8,
    "start_time": "2024-10-18T13:42:46.057Z"
   },
   {
    "duration": 13,
    "start_time": "2024-10-18T13:42:46.074Z"
   },
   {
    "duration": 14,
    "start_time": "2024-10-18T13:42:46.089Z"
   },
   {
    "duration": 5,
    "start_time": "2024-10-18T13:42:46.105Z"
   },
   {
    "duration": 34,
    "start_time": "2024-10-18T13:42:46.112Z"
   },
   {
    "duration": 16,
    "start_time": "2024-10-18T13:42:46.148Z"
   },
   {
    "duration": 7,
    "start_time": "2024-10-18T13:42:46.165Z"
   },
   {
    "duration": 8,
    "start_time": "2024-10-18T13:42:46.174Z"
   },
   {
    "duration": 3,
    "start_time": "2024-10-18T13:42:46.184Z"
   },
   {
    "duration": 4,
    "start_time": "2024-10-18T13:42:46.188Z"
   },
   {
    "duration": 57,
    "start_time": "2024-10-18T13:42:46.193Z"
   },
   {
    "duration": 11,
    "start_time": "2024-10-18T13:42:46.252Z"
   },
   {
    "duration": 119,
    "start_time": "2024-10-18T13:42:46.264Z"
   },
   {
    "duration": 261,
    "start_time": "2024-10-18T13:42:46.384Z"
   },
   {
    "duration": 20154,
    "start_time": "2024-10-18T13:42:46.648Z"
   },
   {
    "duration": 475,
    "start_time": "2024-10-18T13:43:06.804Z"
   },
   {
    "duration": 23,
    "start_time": "2024-10-18T13:43:07.281Z"
   },
   {
    "duration": 557,
    "start_time": "2024-10-18T13:43:07.306Z"
   },
   {
    "duration": 9,
    "start_time": "2024-10-18T13:43:07.865Z"
   },
   {
    "duration": 4,
    "start_time": "2024-10-18T13:43:07.876Z"
   },
   {
    "duration": 4,
    "start_time": "2024-10-18T13:43:07.882Z"
   },
   {
    "duration": 667,
    "start_time": "2024-10-18T13:43:07.887Z"
   },
   {
    "duration": 10,
    "start_time": "2024-10-18T13:43:08.556Z"
   },
   {
    "duration": 8,
    "start_time": "2024-10-18T13:43:08.568Z"
   },
   {
    "duration": 4,
    "start_time": "2024-10-18T13:43:08.578Z"
   },
   {
    "duration": 274,
    "start_time": "2024-10-18T13:43:08.584Z"
   },
   {
    "duration": 659,
    "start_time": "2024-10-18T13:43:08.860Z"
   },
   {
    "duration": 343,
    "start_time": "2024-10-18T13:43:48.521Z"
   },
   {
    "duration": 1029,
    "start_time": "2024-10-18T13:43:48.866Z"
   },
   {
    "duration": 15,
    "start_time": "2024-10-18T13:43:49.897Z"
   },
   {
    "duration": 12,
    "start_time": "2024-10-18T13:43:49.914Z"
   },
   {
    "duration": 23,
    "start_time": "2024-10-18T13:43:49.928Z"
   },
   {
    "duration": 27,
    "start_time": "2024-10-18T13:43:49.952Z"
   },
   {
    "duration": 3,
    "start_time": "2024-10-18T13:43:49.981Z"
   },
   {
    "duration": 4,
    "start_time": "2024-10-18T13:43:49.986Z"
   },
   {
    "duration": 4,
    "start_time": "2024-10-18T13:43:49.992Z"
   },
   {
    "duration": 3,
    "start_time": "2024-10-18T13:43:49.999Z"
   },
   {
    "duration": 39,
    "start_time": "2024-10-18T13:43:50.004Z"
   },
   {
    "duration": 3,
    "start_time": "2024-10-18T13:43:50.045Z"
   },
   {
    "duration": 4,
    "start_time": "2024-10-18T13:43:50.050Z"
   },
   {
    "duration": 10,
    "start_time": "2024-10-18T13:43:50.056Z"
   },
   {
    "duration": 11,
    "start_time": "2024-10-18T13:43:50.068Z"
   },
   {
    "duration": 5,
    "start_time": "2024-10-18T13:43:50.081Z"
   },
   {
    "duration": 5,
    "start_time": "2024-10-18T13:43:50.087Z"
   },
   {
    "duration": 56,
    "start_time": "2024-10-18T13:43:50.093Z"
   },
   {
    "duration": 4,
    "start_time": "2024-10-18T13:43:50.151Z"
   },
   {
    "duration": 7,
    "start_time": "2024-10-18T13:43:50.157Z"
   },
   {
    "duration": 3,
    "start_time": "2024-10-18T13:43:50.166Z"
   },
   {
    "duration": 3,
    "start_time": "2024-10-18T13:43:50.170Z"
   },
   {
    "duration": 20,
    "start_time": "2024-10-18T13:43:50.176Z"
   },
   {
    "duration": 45,
    "start_time": "2024-10-18T13:43:50.198Z"
   },
   {
    "duration": 108,
    "start_time": "2024-10-18T13:43:50.245Z"
   },
   {
    "duration": 235,
    "start_time": "2024-10-18T13:43:50.355Z"
   },
   {
    "duration": 19699,
    "start_time": "2024-10-18T13:43:50.592Z"
   },
   {
    "duration": 85,
    "start_time": "2024-10-18T13:44:10.295Z"
   },
   {
    "duration": 61,
    "start_time": "2024-10-18T13:44:10.382Z"
   },
   {
    "duration": 159,
    "start_time": "2024-10-18T13:44:10.446Z"
   },
   {
    "duration": 11,
    "start_time": "2024-10-18T13:44:10.606Z"
   },
   {
    "duration": 4,
    "start_time": "2024-10-18T13:44:10.619Z"
   },
   {
    "duration": 21,
    "start_time": "2024-10-18T13:44:10.625Z"
   },
   {
    "duration": 116,
    "start_time": "2024-10-18T13:44:10.648Z"
   },
   {
    "duration": 9,
    "start_time": "2024-10-18T13:44:10.766Z"
   },
   {
    "duration": 5,
    "start_time": "2024-10-18T13:44:10.776Z"
   },
   {
    "duration": 4,
    "start_time": "2024-10-18T13:44:10.783Z"
   },
   {
    "duration": 75,
    "start_time": "2024-10-18T13:44:10.789Z"
   },
   {
    "duration": 118,
    "start_time": "2024-10-18T13:44:10.865Z"
   },
   {
    "duration": 347,
    "start_time": "2024-10-18T13:44:31.689Z"
   },
   {
    "duration": 981,
    "start_time": "2024-10-18T13:44:32.038Z"
   },
   {
    "duration": 15,
    "start_time": "2024-10-18T13:44:33.021Z"
   },
   {
    "duration": 12,
    "start_time": "2024-10-18T13:44:33.043Z"
   },
   {
    "duration": 10,
    "start_time": "2024-10-18T13:44:33.058Z"
   },
   {
    "duration": 28,
    "start_time": "2024-10-18T13:44:33.070Z"
   },
   {
    "duration": 4,
    "start_time": "2024-10-18T13:44:33.099Z"
   },
   {
    "duration": 4,
    "start_time": "2024-10-18T13:44:33.104Z"
   },
   {
    "duration": 34,
    "start_time": "2024-10-18T13:44:33.110Z"
   },
   {
    "duration": 4,
    "start_time": "2024-10-18T13:44:33.146Z"
   },
   {
    "duration": 3,
    "start_time": "2024-10-18T13:44:33.152Z"
   },
   {
    "duration": 3,
    "start_time": "2024-10-18T13:44:33.157Z"
   },
   {
    "duration": 4,
    "start_time": "2024-10-18T13:44:33.162Z"
   },
   {
    "duration": 9,
    "start_time": "2024-10-18T13:44:33.170Z"
   },
   {
    "duration": 10,
    "start_time": "2024-10-18T13:44:33.181Z"
   },
   {
    "duration": 4,
    "start_time": "2024-10-18T13:44:33.193Z"
   },
   {
    "duration": 45,
    "start_time": "2024-10-18T13:44:33.199Z"
   },
   {
    "duration": 13,
    "start_time": "2024-10-18T13:44:33.247Z"
   },
   {
    "duration": 4,
    "start_time": "2024-10-18T13:44:33.262Z"
   },
   {
    "duration": 8,
    "start_time": "2024-10-18T13:44:33.268Z"
   },
   {
    "duration": 3,
    "start_time": "2024-10-18T13:44:33.278Z"
   },
   {
    "duration": 3,
    "start_time": "2024-10-18T13:44:33.283Z"
   },
   {
    "duration": 58,
    "start_time": "2024-10-18T13:44:33.288Z"
   },
   {
    "duration": 9,
    "start_time": "2024-10-18T13:44:33.347Z"
   },
   {
    "duration": 116,
    "start_time": "2024-10-18T13:44:33.358Z"
   },
   {
    "duration": 227,
    "start_time": "2024-10-18T13:44:33.476Z"
   },
   {
    "duration": 19496,
    "start_time": "2024-10-18T13:44:33.704Z"
   },
   {
    "duration": 566,
    "start_time": "2024-10-18T13:44:53.202Z"
   },
   {
    "duration": 25,
    "start_time": "2024-10-18T13:44:53.770Z"
   },
   {
    "duration": 643,
    "start_time": "2024-10-18T13:44:53.845Z"
   },
   {
    "duration": 10,
    "start_time": "2024-10-18T13:44:54.490Z"
   },
   {
    "duration": 5,
    "start_time": "2024-10-18T13:44:54.502Z"
   },
   {
    "duration": 5,
    "start_time": "2024-10-18T13:44:54.508Z"
   },
   {
    "duration": 847,
    "start_time": "2024-10-18T13:44:54.515Z"
   },
   {
    "duration": 10,
    "start_time": "2024-10-18T13:44:55.364Z"
   },
   {
    "duration": 5,
    "start_time": "2024-10-18T13:44:55.376Z"
   },
   {
    "duration": 4,
    "start_time": "2024-10-18T13:44:55.383Z"
   },
   {
    "duration": 329,
    "start_time": "2024-10-18T13:44:55.390Z"
   },
   {
    "duration": 822,
    "start_time": "2024-10-18T13:44:55.721Z"
   },
   {
    "duration": 330,
    "start_time": "2024-10-18T13:45:47.378Z"
   },
   {
    "duration": 992,
    "start_time": "2024-10-18T13:45:47.710Z"
   },
   {
    "duration": 16,
    "start_time": "2024-10-18T13:45:48.704Z"
   },
   {
    "duration": 23,
    "start_time": "2024-10-18T13:45:48.721Z"
   },
   {
    "duration": 11,
    "start_time": "2024-10-18T13:45:48.745Z"
   },
   {
    "duration": 27,
    "start_time": "2024-10-18T13:45:48.757Z"
   },
   {
    "duration": 3,
    "start_time": "2024-10-18T13:45:48.786Z"
   },
   {
    "duration": 4,
    "start_time": "2024-10-18T13:45:48.791Z"
   },
   {
    "duration": 4,
    "start_time": "2024-10-18T13:45:48.797Z"
   },
   {
    "duration": 77,
    "start_time": "2024-10-18T13:45:48.804Z"
   },
   {
    "duration": 4,
    "start_time": "2024-10-18T13:45:48.883Z"
   },
   {
    "duration": 4,
    "start_time": "2024-10-18T13:45:48.889Z"
   },
   {
    "duration": 4,
    "start_time": "2024-10-18T13:45:48.895Z"
   },
   {
    "duration": 9,
    "start_time": "2024-10-18T13:45:48.900Z"
   },
   {
    "duration": 9,
    "start_time": "2024-10-18T13:45:48.912Z"
   },
   {
    "duration": 4,
    "start_time": "2024-10-18T13:45:48.923Z"
   },
   {
    "duration": 4,
    "start_time": "2024-10-18T13:45:48.929Z"
   },
   {
    "duration": 13,
    "start_time": "2024-10-18T13:45:48.935Z"
   },
   {
    "duration": 3,
    "start_time": "2024-10-18T13:45:48.950Z"
   },
   {
    "duration": 7,
    "start_time": "2024-10-18T13:45:48.955Z"
   },
   {
    "duration": 3,
    "start_time": "2024-10-18T13:45:48.963Z"
   },
   {
    "duration": 3,
    "start_time": "2024-10-18T13:45:48.968Z"
   },
   {
    "duration": 21,
    "start_time": "2024-10-18T13:45:48.973Z"
   },
   {
    "duration": 9,
    "start_time": "2024-10-18T13:45:48.996Z"
   },
   {
    "duration": 123,
    "start_time": "2024-10-18T13:45:49.043Z"
   },
   {
    "duration": 227,
    "start_time": "2024-10-18T13:45:49.168Z"
   },
   {
    "duration": 19748,
    "start_time": "2024-10-18T13:45:49.398Z"
   },
   {
    "duration": 509,
    "start_time": "2024-10-18T13:46:09.151Z"
   },
   {
    "duration": 21,
    "start_time": "2024-10-18T13:46:09.662Z"
   },
   {
    "duration": 638,
    "start_time": "2024-10-18T13:46:09.685Z"
   },
   {
    "duration": 18,
    "start_time": "2024-10-18T13:46:10.325Z"
   },
   {
    "duration": 5,
    "start_time": "2024-10-18T13:46:10.345Z"
   },
   {
    "duration": 5,
    "start_time": "2024-10-18T13:46:10.352Z"
   },
   {
    "duration": 749,
    "start_time": "2024-10-18T13:46:10.358Z"
   },
   {
    "duration": 9,
    "start_time": "2024-10-18T13:46:11.110Z"
   },
   {
    "duration": 5,
    "start_time": "2024-10-18T13:46:11.121Z"
   },
   {
    "duration": 20,
    "start_time": "2024-10-18T13:46:11.127Z"
   },
   {
    "duration": 295,
    "start_time": "2024-10-18T13:46:11.150Z"
   },
   {
    "duration": 716,
    "start_time": "2024-10-18T13:46:11.448Z"
   },
   {
    "duration": 342,
    "start_time": "2024-10-18T13:46:32.756Z"
   },
   {
    "duration": 994,
    "start_time": "2024-10-18T13:46:33.101Z"
   },
   {
    "duration": 16,
    "start_time": "2024-10-18T13:46:34.097Z"
   },
   {
    "duration": 12,
    "start_time": "2024-10-18T13:46:34.115Z"
   },
   {
    "duration": 21,
    "start_time": "2024-10-18T13:46:34.130Z"
   },
   {
    "duration": 28,
    "start_time": "2024-10-18T13:46:34.152Z"
   },
   {
    "duration": 4,
    "start_time": "2024-10-18T13:46:34.181Z"
   },
   {
    "duration": 4,
    "start_time": "2024-10-18T13:46:34.187Z"
   },
   {
    "duration": 4,
    "start_time": "2024-10-18T13:46:34.193Z"
   },
   {
    "duration": 4,
    "start_time": "2024-10-18T13:46:34.198Z"
   },
   {
    "duration": 38,
    "start_time": "2024-10-18T13:46:34.204Z"
   },
   {
    "duration": 3,
    "start_time": "2024-10-18T13:46:34.244Z"
   },
   {
    "duration": 4,
    "start_time": "2024-10-18T13:46:34.249Z"
   },
   {
    "duration": 9,
    "start_time": "2024-10-18T13:46:34.257Z"
   },
   {
    "duration": 10,
    "start_time": "2024-10-18T13:46:34.267Z"
   },
   {
    "duration": 4,
    "start_time": "2024-10-18T13:46:34.279Z"
   },
   {
    "duration": 4,
    "start_time": "2024-10-18T13:46:34.285Z"
   },
   {
    "duration": 53,
    "start_time": "2024-10-18T13:46:34.291Z"
   },
   {
    "duration": 5,
    "start_time": "2024-10-18T13:46:34.346Z"
   },
   {
    "duration": 8,
    "start_time": "2024-10-18T13:46:34.352Z"
   },
   {
    "duration": 3,
    "start_time": "2024-10-18T13:46:34.361Z"
   },
   {
    "duration": 3,
    "start_time": "2024-10-18T13:46:34.366Z"
   },
   {
    "duration": 21,
    "start_time": "2024-10-18T13:46:34.371Z"
   },
   {
    "duration": 9,
    "start_time": "2024-10-18T13:46:34.394Z"
   },
   {
    "duration": 143,
    "start_time": "2024-10-18T13:46:34.405Z"
   },
   {
    "duration": 227,
    "start_time": "2024-10-18T13:46:34.550Z"
   },
   {
    "duration": 19895,
    "start_time": "2024-10-18T13:46:34.779Z"
   },
   {
    "duration": 456,
    "start_time": "2024-10-18T13:46:54.676Z"
   },
   {
    "duration": 27,
    "start_time": "2024-10-18T13:46:55.134Z"
   },
   {
    "duration": 568,
    "start_time": "2024-10-18T13:46:55.164Z"
   },
   {
    "duration": 13,
    "start_time": "2024-10-18T13:46:55.734Z"
   },
   {
    "duration": 4,
    "start_time": "2024-10-18T13:46:55.749Z"
   },
   {
    "duration": 4,
    "start_time": "2024-10-18T13:46:55.755Z"
   },
   {
    "duration": 646,
    "start_time": "2024-10-18T13:46:55.761Z"
   },
   {
    "duration": 10,
    "start_time": "2024-10-18T13:46:56.409Z"
   },
   {
    "duration": 5,
    "start_time": "2024-10-18T13:46:56.420Z"
   },
   {
    "duration": 17,
    "start_time": "2024-10-18T13:46:56.427Z"
   },
   {
    "duration": 258,
    "start_time": "2024-10-18T13:46:56.446Z"
   },
   {
    "duration": 643,
    "start_time": "2024-10-18T13:46:56.706Z"
   },
   {
    "duration": 23,
    "start_time": "2024-10-18T13:53:56.207Z"
   },
   {
    "duration": 335,
    "start_time": "2024-10-18T15:59:14.719Z"
   },
   {
    "duration": 1044,
    "start_time": "2024-10-18T15:59:15.057Z"
   },
   {
    "duration": 17,
    "start_time": "2024-10-18T15:59:16.102Z"
   },
   {
    "duration": 12,
    "start_time": "2024-10-18T15:59:16.121Z"
   },
   {
    "duration": 15,
    "start_time": "2024-10-18T15:59:16.135Z"
   },
   {
    "duration": 28,
    "start_time": "2024-10-18T15:59:16.152Z"
   },
   {
    "duration": 4,
    "start_time": "2024-10-18T15:59:16.181Z"
   },
   {
    "duration": 4,
    "start_time": "2024-10-18T15:59:16.187Z"
   },
   {
    "duration": 4,
    "start_time": "2024-10-18T15:59:16.193Z"
   },
   {
    "duration": 41,
    "start_time": "2024-10-18T15:59:16.201Z"
   },
   {
    "duration": 4,
    "start_time": "2024-10-18T15:59:16.245Z"
   },
   {
    "duration": 3,
    "start_time": "2024-10-18T15:59:16.250Z"
   },
   {
    "duration": 5,
    "start_time": "2024-10-18T15:59:16.255Z"
   },
   {
    "duration": 9,
    "start_time": "2024-10-18T15:59:16.262Z"
   },
   {
    "duration": 9,
    "start_time": "2024-10-18T15:59:16.273Z"
   },
   {
    "duration": 4,
    "start_time": "2024-10-18T15:59:16.284Z"
   },
   {
    "duration": 4,
    "start_time": "2024-10-18T15:59:16.290Z"
   },
   {
    "duration": 54,
    "start_time": "2024-10-18T15:59:16.296Z"
   },
   {
    "duration": 4,
    "start_time": "2024-10-18T15:59:16.352Z"
   },
   {
    "duration": 7,
    "start_time": "2024-10-18T15:59:16.357Z"
   },
   {
    "duration": 3,
    "start_time": "2024-10-18T15:59:16.366Z"
   },
   {
    "duration": 3,
    "start_time": "2024-10-18T15:59:16.370Z"
   },
   {
    "duration": 20,
    "start_time": "2024-10-18T15:59:16.375Z"
   },
   {
    "duration": 47,
    "start_time": "2024-10-18T15:59:16.396Z"
   },
   {
    "duration": 114,
    "start_time": "2024-10-18T15:59:16.445Z"
   },
   {
    "duration": 225,
    "start_time": "2024-10-18T15:59:16.561Z"
   },
   {
    "duration": 19991,
    "start_time": "2024-10-18T15:59:16.787Z"
   },
   {
    "duration": 461,
    "start_time": "2024-10-18T15:59:36.781Z"
   },
   {
    "duration": 23,
    "start_time": "2024-10-18T15:59:37.244Z"
   },
   {
    "duration": 559,
    "start_time": "2024-10-18T15:59:37.269Z"
   },
   {
    "duration": 4,
    "start_time": "2024-10-18T15:59:37.829Z"
   },
   {
    "duration": 13,
    "start_time": "2024-10-18T15:59:37.834Z"
   },
   {
    "duration": 9,
    "start_time": "2024-10-18T15:59:37.849Z"
   },
   {
    "duration": 649,
    "start_time": "2024-10-18T15:59:37.860Z"
   },
   {
    "duration": 4,
    "start_time": "2024-10-18T15:59:38.511Z"
   },
   {
    "duration": 5,
    "start_time": "2024-10-18T15:59:38.517Z"
   },
   {
    "duration": 25,
    "start_time": "2024-10-18T15:59:38.524Z"
   },
   {
    "duration": 249,
    "start_time": "2024-10-18T15:59:38.551Z"
   },
   {
    "duration": 633,
    "start_time": "2024-10-18T16:32:32.366Z"
   },
   {
    "duration": 4,
    "start_time": "2024-10-18T17:24:30.460Z"
   },
   {
    "duration": 334,
    "start_time": "2024-10-18T17:24:41.483Z"
   },
   {
    "duration": 982,
    "start_time": "2024-10-18T17:24:41.819Z"
   },
   {
    "duration": 16,
    "start_time": "2024-10-18T17:24:42.803Z"
   },
   {
    "duration": 22,
    "start_time": "2024-10-18T17:24:42.820Z"
   },
   {
    "duration": 10,
    "start_time": "2024-10-18T17:24:42.844Z"
   },
   {
    "duration": 28,
    "start_time": "2024-10-18T17:24:42.856Z"
   },
   {
    "duration": 3,
    "start_time": "2024-10-18T17:24:42.886Z"
   },
   {
    "duration": 4,
    "start_time": "2024-10-18T17:24:42.891Z"
   },
   {
    "duration": 4,
    "start_time": "2024-10-18T17:24:42.896Z"
   },
   {
    "duration": 4,
    "start_time": "2024-10-18T17:24:42.902Z"
   },
   {
    "duration": 36,
    "start_time": "2024-10-18T17:24:42.909Z"
   },
   {
    "duration": 4,
    "start_time": "2024-10-18T17:24:42.947Z"
   },
   {
    "duration": 5,
    "start_time": "2024-10-18T17:24:42.953Z"
   },
   {
    "duration": 14,
    "start_time": "2024-10-18T17:24:42.964Z"
   },
   {
    "duration": 13,
    "start_time": "2024-10-18T17:24:42.981Z"
   },
   {
    "duration": 5,
    "start_time": "2024-10-18T17:24:42.998Z"
   },
   {
    "duration": 4,
    "start_time": "2024-10-18T17:24:43.004Z"
   },
   {
    "duration": 14,
    "start_time": "2024-10-18T17:24:43.042Z"
   },
   {
    "duration": 4,
    "start_time": "2024-10-18T17:24:43.058Z"
   },
   {
    "duration": 6,
    "start_time": "2024-10-18T17:24:43.064Z"
   },
   {
    "duration": 3,
    "start_time": "2024-10-18T17:24:43.072Z"
   },
   {
    "duration": 3,
    "start_time": "2024-10-18T17:24:43.076Z"
   },
   {
    "duration": 19,
    "start_time": "2024-10-18T17:24:43.081Z"
   },
   {
    "duration": 9,
    "start_time": "2024-10-18T17:24:43.101Z"
   },
   {
    "duration": 173,
    "start_time": "2024-10-18T17:24:43.111Z"
   },
   {
    "duration": 231,
    "start_time": "2024-10-18T17:24:43.286Z"
   },
   {
    "duration": 19581,
    "start_time": "2024-10-18T17:24:43.519Z"
   },
   {
    "duration": 569,
    "start_time": "2024-10-18T17:25:03.103Z"
   },
   {
    "duration": 22,
    "start_time": "2024-10-18T17:25:03.675Z"
   },
   {
    "duration": 686,
    "start_time": "2024-10-18T17:25:03.698Z"
   },
   {
    "duration": 3,
    "start_time": "2024-10-18T17:25:04.386Z"
   },
   {
    "duration": 5,
    "start_time": "2024-10-18T17:25:04.391Z"
   },
   {
    "duration": 9,
    "start_time": "2024-10-18T17:25:04.398Z"
   },
   {
    "duration": 841,
    "start_time": "2024-10-18T17:25:04.409Z"
   },
   {
    "duration": 4,
    "start_time": "2024-10-18T17:25:05.252Z"
   },
   {
    "duration": 6,
    "start_time": "2024-10-18T17:25:05.258Z"
   },
   {
    "duration": 9,
    "start_time": "2024-10-18T17:25:05.265Z"
   },
   {
    "duration": 332,
    "start_time": "2024-10-18T17:25:05.276Z"
   },
   {
    "duration": 815,
    "start_time": "2024-10-18T17:25:05.609Z"
   },
   {
    "duration": 359,
    "start_time": "2024-10-18T17:25:06.426Z"
   },
   {
    "duration": 332,
    "start_time": "2024-10-18T17:26:41.500Z"
   },
   {
    "duration": 1010,
    "start_time": "2024-10-18T17:26:41.835Z"
   },
   {
    "duration": 17,
    "start_time": "2024-10-18T17:26:42.846Z"
   },
   {
    "duration": 12,
    "start_time": "2024-10-18T17:26:42.865Z"
   },
   {
    "duration": 10,
    "start_time": "2024-10-18T17:26:42.879Z"
   },
   {
    "duration": 26,
    "start_time": "2024-10-18T17:26:42.891Z"
   },
   {
    "duration": 25,
    "start_time": "2024-10-18T17:26:42.919Z"
   },
   {
    "duration": 3,
    "start_time": "2024-10-18T17:26:42.947Z"
   },
   {
    "duration": 8,
    "start_time": "2024-10-18T17:26:42.952Z"
   },
   {
    "duration": 9,
    "start_time": "2024-10-18T17:26:42.961Z"
   },
   {
    "duration": 5,
    "start_time": "2024-10-18T17:26:42.972Z"
   },
   {
    "duration": 3,
    "start_time": "2024-10-18T17:26:42.978Z"
   },
   {
    "duration": 4,
    "start_time": "2024-10-18T17:26:42.983Z"
   },
   {
    "duration": 10,
    "start_time": "2024-10-18T17:26:42.991Z"
   },
   {
    "duration": 46,
    "start_time": "2024-10-18T17:26:43.003Z"
   },
   {
    "duration": 4,
    "start_time": "2024-10-18T17:26:43.051Z"
   },
   {
    "duration": 5,
    "start_time": "2024-10-18T17:26:43.056Z"
   },
   {
    "duration": 14,
    "start_time": "2024-10-18T17:26:43.063Z"
   },
   {
    "duration": 3,
    "start_time": "2024-10-18T17:26:43.078Z"
   },
   {
    "duration": 6,
    "start_time": "2024-10-18T17:26:43.083Z"
   },
   {
    "duration": 3,
    "start_time": "2024-10-18T17:26:43.091Z"
   },
   {
    "duration": 3,
    "start_time": "2024-10-18T17:26:43.096Z"
   },
   {
    "duration": 61,
    "start_time": "2024-10-18T17:26:43.101Z"
   },
   {
    "duration": 9,
    "start_time": "2024-10-18T17:26:43.164Z"
   },
   {
    "duration": 121,
    "start_time": "2024-10-18T17:26:43.174Z"
   },
   {
    "duration": 226,
    "start_time": "2024-10-18T17:26:43.297Z"
   },
   {
    "duration": 19825,
    "start_time": "2024-10-18T17:26:43.525Z"
   },
   {
    "duration": 395,
    "start_time": "2024-10-18T17:27:03.352Z"
   },
   {
    "duration": 22,
    "start_time": "2024-10-18T17:27:03.749Z"
   },
   {
    "duration": 510,
    "start_time": "2024-10-18T17:27:03.773Z"
   },
   {
    "duration": 4,
    "start_time": "2024-10-18T17:27:04.285Z"
   },
   {
    "duration": 5,
    "start_time": "2024-10-18T17:27:04.290Z"
   },
   {
    "duration": 10,
    "start_time": "2024-10-18T17:27:04.297Z"
   },
   {
    "duration": 566,
    "start_time": "2024-10-18T17:27:04.309Z"
   },
   {
    "duration": 4,
    "start_time": "2024-10-18T17:27:04.877Z"
   },
   {
    "duration": 5,
    "start_time": "2024-10-18T17:27:04.882Z"
   },
   {
    "duration": 10,
    "start_time": "2024-10-18T17:27:04.888Z"
   },
   {
    "duration": 230,
    "start_time": "2024-10-18T17:27:04.900Z"
   },
   {
    "duration": 552,
    "start_time": "2024-10-18T17:27:05.131Z"
   },
   {
    "duration": 356,
    "start_time": "2024-10-18T17:27:05.686Z"
   },
   {
    "duration": 335,
    "start_time": "2024-10-18T17:28:41.165Z"
   },
   {
    "duration": 995,
    "start_time": "2024-10-18T17:28:41.503Z"
   },
   {
    "duration": 15,
    "start_time": "2024-10-18T17:28:42.499Z"
   },
   {
    "duration": 11,
    "start_time": "2024-10-18T17:28:42.517Z"
   },
   {
    "duration": 21,
    "start_time": "2024-10-18T17:28:42.530Z"
   },
   {
    "duration": 28,
    "start_time": "2024-10-18T17:28:42.553Z"
   },
   {
    "duration": 4,
    "start_time": "2024-10-18T17:28:42.583Z"
   },
   {
    "duration": 5,
    "start_time": "2024-10-18T17:28:42.589Z"
   },
   {
    "duration": 4,
    "start_time": "2024-10-18T17:28:42.595Z"
   },
   {
    "duration": 4,
    "start_time": "2024-10-18T17:28:42.603Z"
   },
   {
    "duration": 5,
    "start_time": "2024-10-18T17:28:42.644Z"
   },
   {
    "duration": 3,
    "start_time": "2024-10-18T17:28:42.651Z"
   },
   {
    "duration": 4,
    "start_time": "2024-10-18T17:28:42.656Z"
   },
   {
    "duration": 9,
    "start_time": "2024-10-18T17:28:42.662Z"
   },
   {
    "duration": 11,
    "start_time": "2024-10-18T17:28:42.672Z"
   },
   {
    "duration": 4,
    "start_time": "2024-10-18T17:28:42.684Z"
   },
   {
    "duration": 4,
    "start_time": "2024-10-18T17:28:42.689Z"
   },
   {
    "duration": 13,
    "start_time": "2024-10-18T17:28:42.694Z"
   },
   {
    "duration": 37,
    "start_time": "2024-10-18T17:28:42.708Z"
   },
   {
    "duration": 7,
    "start_time": "2024-10-18T17:28:42.747Z"
   },
   {
    "duration": 3,
    "start_time": "2024-10-18T17:28:42.755Z"
   },
   {
    "duration": 3,
    "start_time": "2024-10-18T17:28:42.759Z"
   },
   {
    "duration": 20,
    "start_time": "2024-10-18T17:28:42.764Z"
   },
   {
    "duration": 9,
    "start_time": "2024-10-18T17:28:42.785Z"
   },
   {
    "duration": 222,
    "start_time": "2024-10-18T17:28:42.795Z"
   },
   {
    "duration": 239,
    "start_time": "2024-10-18T17:28:43.019Z"
   },
   {
    "duration": 19603,
    "start_time": "2024-10-18T17:28:43.260Z"
   },
   {
    "duration": 421,
    "start_time": "2024-10-18T17:29:02.867Z"
   },
   {
    "duration": 55,
    "start_time": "2024-10-18T17:29:03.290Z"
   },
   {
    "duration": 491,
    "start_time": "2024-10-18T17:29:03.347Z"
   },
   {
    "duration": 4,
    "start_time": "2024-10-18T17:29:03.842Z"
   },
   {
    "duration": 4,
    "start_time": "2024-10-18T17:29:03.848Z"
   },
   {
    "duration": 11,
    "start_time": "2024-10-18T17:29:03.854Z"
   },
   {
    "duration": 609,
    "start_time": "2024-10-18T17:29:03.867Z"
   },
   {
    "duration": 4,
    "start_time": "2024-10-18T17:29:04.478Z"
   },
   {
    "duration": 5,
    "start_time": "2024-10-18T17:29:04.484Z"
   },
   {
    "duration": 9,
    "start_time": "2024-10-18T17:29:04.492Z"
   },
   {
    "duration": 256,
    "start_time": "2024-10-18T17:29:04.503Z"
   },
   {
    "duration": 600,
    "start_time": "2024-10-18T17:29:04.761Z"
   },
   {
    "duration": 360,
    "start_time": "2024-10-18T17:29:05.363Z"
   },
   {
    "duration": 335,
    "start_time": "2024-10-18T17:29:28.081Z"
   },
   {
    "duration": 1002,
    "start_time": "2024-10-18T17:29:28.419Z"
   },
   {
    "duration": 16,
    "start_time": "2024-10-18T17:29:29.423Z"
   },
   {
    "duration": 11,
    "start_time": "2024-10-18T17:29:29.444Z"
   },
   {
    "duration": 11,
    "start_time": "2024-10-18T17:29:29.457Z"
   },
   {
    "duration": 27,
    "start_time": "2024-10-18T17:29:29.470Z"
   },
   {
    "duration": 3,
    "start_time": "2024-10-18T17:29:29.498Z"
   },
   {
    "duration": 4,
    "start_time": "2024-10-18T17:29:29.503Z"
   },
   {
    "duration": 36,
    "start_time": "2024-10-18T17:29:29.509Z"
   },
   {
    "duration": 4,
    "start_time": "2024-10-18T17:29:29.549Z"
   },
   {
    "duration": 5,
    "start_time": "2024-10-18T17:29:29.554Z"
   },
   {
    "duration": 4,
    "start_time": "2024-10-18T17:29:29.560Z"
   },
   {
    "duration": 4,
    "start_time": "2024-10-18T17:29:29.566Z"
   },
   {
    "duration": 10,
    "start_time": "2024-10-18T17:29:29.572Z"
   },
   {
    "duration": 12,
    "start_time": "2024-10-18T17:29:29.585Z"
   },
   {
    "duration": 6,
    "start_time": "2024-10-18T17:29:29.600Z"
   },
   {
    "duration": 4,
    "start_time": "2024-10-18T17:29:29.643Z"
   },
   {
    "duration": 15,
    "start_time": "2024-10-18T17:29:29.649Z"
   },
   {
    "duration": 4,
    "start_time": "2024-10-18T17:29:29.665Z"
   },
   {
    "duration": 7,
    "start_time": "2024-10-18T17:29:29.670Z"
   },
   {
    "duration": 3,
    "start_time": "2024-10-18T17:29:29.678Z"
   },
   {
    "duration": 3,
    "start_time": "2024-10-18T17:29:29.683Z"
   },
   {
    "duration": 56,
    "start_time": "2024-10-18T17:29:29.687Z"
   },
   {
    "duration": 9,
    "start_time": "2024-10-18T17:29:29.745Z"
   },
   {
    "duration": 118,
    "start_time": "2024-10-18T17:29:29.756Z"
   },
   {
    "duration": 225,
    "start_time": "2024-10-18T17:29:29.876Z"
   },
   {
    "duration": 19830,
    "start_time": "2024-10-18T17:29:30.103Z"
   },
   {
    "duration": 448,
    "start_time": "2024-10-18T17:29:49.942Z"
   },
   {
    "duration": 52,
    "start_time": "2024-10-18T17:29:50.392Z"
   },
   {
    "duration": 539,
    "start_time": "2024-10-18T17:29:50.445Z"
   },
   {
    "duration": 4,
    "start_time": "2024-10-18T17:29:50.986Z"
   },
   {
    "duration": 6,
    "start_time": "2024-10-18T17:29:50.992Z"
   },
   {
    "duration": 10,
    "start_time": "2024-10-18T17:29:51.001Z"
   },
   {
    "duration": 658,
    "start_time": "2024-10-18T17:29:51.012Z"
   },
   {
    "duration": 5,
    "start_time": "2024-10-18T17:29:51.672Z"
   },
   {
    "duration": 5,
    "start_time": "2024-10-18T17:29:51.678Z"
   },
   {
    "duration": 9,
    "start_time": "2024-10-18T17:29:51.684Z"
   },
   {
    "duration": 276,
    "start_time": "2024-10-18T17:29:51.695Z"
   },
   {
    "duration": 639,
    "start_time": "2024-10-18T17:29:51.974Z"
   },
   {
    "duration": 248,
    "start_time": "2024-10-18T17:33:10.771Z"
   },
   {
    "duration": 335,
    "start_time": "2024-10-18T17:38:55.168Z"
   },
   {
    "duration": 995,
    "start_time": "2024-10-18T17:38:55.505Z"
   },
   {
    "duration": 15,
    "start_time": "2024-10-18T17:38:56.502Z"
   },
   {
    "duration": 12,
    "start_time": "2024-10-18T17:38:56.519Z"
   },
   {
    "duration": 19,
    "start_time": "2024-10-18T17:38:56.533Z"
   },
   {
    "duration": 28,
    "start_time": "2024-10-18T17:38:56.553Z"
   },
   {
    "duration": 5,
    "start_time": "2024-10-18T17:38:56.583Z"
   },
   {
    "duration": 4,
    "start_time": "2024-10-18T17:38:56.589Z"
   },
   {
    "duration": 4,
    "start_time": "2024-10-18T17:38:56.595Z"
   },
   {
    "duration": 4,
    "start_time": "2024-10-18T17:38:56.601Z"
   },
   {
    "duration": 36,
    "start_time": "2024-10-18T17:38:56.607Z"
   },
   {
    "duration": 3,
    "start_time": "2024-10-18T17:38:56.645Z"
   },
   {
    "duration": 4,
    "start_time": "2024-10-18T17:38:56.649Z"
   },
   {
    "duration": 9,
    "start_time": "2024-10-18T17:38:56.657Z"
   },
   {
    "duration": 10,
    "start_time": "2024-10-18T17:38:56.668Z"
   },
   {
    "duration": 4,
    "start_time": "2024-10-18T17:38:56.679Z"
   },
   {
    "duration": 5,
    "start_time": "2024-10-18T17:38:56.684Z"
   },
   {
    "duration": 53,
    "start_time": "2024-10-18T17:38:56.691Z"
   },
   {
    "duration": 5,
    "start_time": "2024-10-18T17:38:56.746Z"
   },
   {
    "duration": 8,
    "start_time": "2024-10-18T17:38:56.753Z"
   },
   {
    "duration": 3,
    "start_time": "2024-10-18T17:38:56.762Z"
   },
   {
    "duration": 3,
    "start_time": "2024-10-18T17:38:56.767Z"
   },
   {
    "duration": 20,
    "start_time": "2024-10-18T17:38:56.771Z"
   },
   {
    "duration": 8,
    "start_time": "2024-10-18T17:38:56.793Z"
   },
   {
    "duration": 108,
    "start_time": "2024-10-18T17:38:56.842Z"
   },
   {
    "duration": 229,
    "start_time": "2024-10-18T17:38:56.952Z"
   },
   {
    "duration": 19645,
    "start_time": "2024-10-18T17:38:57.182Z"
   },
   {
    "duration": 473,
    "start_time": "2024-10-18T17:39:16.829Z"
   },
   {
    "duration": 48,
    "start_time": "2024-10-18T17:39:17.303Z"
   },
   {
    "duration": 560,
    "start_time": "2024-10-18T17:39:17.352Z"
   },
   {
    "duration": 3,
    "start_time": "2024-10-18T17:39:17.914Z"
   },
   {
    "duration": 5,
    "start_time": "2024-10-18T17:39:17.918Z"
   },
   {
    "duration": 25,
    "start_time": "2024-10-18T17:39:17.925Z"
   },
   {
    "duration": 691,
    "start_time": "2024-10-18T17:39:17.952Z"
   },
   {
    "duration": 4,
    "start_time": "2024-10-18T17:39:18.645Z"
   },
   {
    "duration": 4,
    "start_time": "2024-10-18T17:39:18.651Z"
   },
   {
    "duration": 10,
    "start_time": "2024-10-18T17:39:18.657Z"
   },
   {
    "duration": 285,
    "start_time": "2024-10-18T17:39:18.669Z"
   },
   {
    "duration": 687,
    "start_time": "2024-10-18T17:39:18.956Z"
   },
   {
    "duration": 269,
    "start_time": "2024-10-18T17:39:19.645Z"
   },
   {
    "duration": 337,
    "start_time": "2024-10-18T17:39:38.640Z"
   },
   {
    "duration": 1030,
    "start_time": "2024-10-18T17:39:38.980Z"
   },
   {
    "duration": 15,
    "start_time": "2024-10-18T17:39:40.011Z"
   },
   {
    "duration": 21,
    "start_time": "2024-10-18T17:39:40.028Z"
   },
   {
    "duration": 9,
    "start_time": "2024-10-18T17:39:40.051Z"
   },
   {
    "duration": 28,
    "start_time": "2024-10-18T17:39:40.062Z"
   },
   {
    "duration": 3,
    "start_time": "2024-10-18T17:39:40.091Z"
   },
   {
    "duration": 3,
    "start_time": "2024-10-18T17:39:40.097Z"
   },
   {
    "duration": 4,
    "start_time": "2024-10-18T17:39:40.102Z"
   },
   {
    "duration": 5,
    "start_time": "2024-10-18T17:39:40.143Z"
   },
   {
    "duration": 5,
    "start_time": "2024-10-18T17:39:40.149Z"
   },
   {
    "duration": 3,
    "start_time": "2024-10-18T17:39:40.157Z"
   },
   {
    "duration": 4,
    "start_time": "2024-10-18T17:39:40.162Z"
   },
   {
    "duration": 10,
    "start_time": "2024-10-18T17:39:40.170Z"
   },
   {
    "duration": 12,
    "start_time": "2024-10-18T17:39:40.181Z"
   },
   {
    "duration": 5,
    "start_time": "2024-10-18T17:39:40.194Z"
   },
   {
    "duration": 43,
    "start_time": "2024-10-18T17:39:40.200Z"
   },
   {
    "duration": 13,
    "start_time": "2024-10-18T17:39:40.245Z"
   },
   {
    "duration": 4,
    "start_time": "2024-10-18T17:39:40.262Z"
   },
   {
    "duration": 7,
    "start_time": "2024-10-18T17:39:40.268Z"
   },
   {
    "duration": 3,
    "start_time": "2024-10-18T17:39:40.276Z"
   },
   {
    "duration": 3,
    "start_time": "2024-10-18T17:39:40.281Z"
   },
   {
    "duration": 20,
    "start_time": "2024-10-18T17:39:40.286Z"
   },
   {
    "duration": 9,
    "start_time": "2024-10-18T17:39:40.342Z"
   },
   {
    "duration": 111,
    "start_time": "2024-10-18T17:39:40.353Z"
   },
   {
    "duration": 235,
    "start_time": "2024-10-18T17:39:40.466Z"
   },
   {
    "duration": 19769,
    "start_time": "2024-10-18T17:39:40.703Z"
   },
   {
    "duration": 88,
    "start_time": "2024-10-18T17:40:00.474Z"
   },
   {
    "duration": 25,
    "start_time": "2024-10-18T17:40:00.564Z"
   },
   {
    "duration": 157,
    "start_time": "2024-10-18T17:40:00.643Z"
   },
   {
    "duration": 4,
    "start_time": "2024-10-18T17:40:00.802Z"
   },
   {
    "duration": 5,
    "start_time": "2024-10-18T17:40:00.808Z"
   },
   {
    "duration": 33,
    "start_time": "2024-10-18T17:40:00.815Z"
   },
   {
    "duration": 108,
    "start_time": "2024-10-18T17:40:00.851Z"
   },
   {
    "duration": 5,
    "start_time": "2024-10-18T17:40:00.961Z"
   },
   {
    "duration": 4,
    "start_time": "2024-10-18T17:40:00.968Z"
   },
   {
    "duration": 9,
    "start_time": "2024-10-18T17:40:00.974Z"
   },
   {
    "duration": 72,
    "start_time": "2024-10-18T17:40:00.985Z"
   },
   {
    "duration": 116,
    "start_time": "2024-10-18T17:40:01.059Z"
   },
   {
    "duration": 52,
    "start_time": "2024-10-18T17:40:01.177Z"
   },
   {
    "duration": 334,
    "start_time": "2024-10-18T18:06:54.393Z"
   },
   {
    "duration": 996,
    "start_time": "2024-10-18T18:06:54.730Z"
   },
   {
    "duration": 21,
    "start_time": "2024-10-18T18:06:55.728Z"
   },
   {
    "duration": 13,
    "start_time": "2024-10-18T18:06:55.750Z"
   },
   {
    "duration": 10,
    "start_time": "2024-10-18T18:06:55.765Z"
   },
   {
    "duration": 27,
    "start_time": "2024-10-18T18:06:55.776Z"
   },
   {
    "duration": 3,
    "start_time": "2024-10-18T18:06:55.805Z"
   },
   {
    "duration": 32,
    "start_time": "2024-10-18T18:06:55.810Z"
   },
   {
    "duration": 4,
    "start_time": "2024-10-18T18:06:55.844Z"
   },
   {
    "duration": 4,
    "start_time": "2024-10-18T18:06:55.849Z"
   },
   {
    "duration": 4,
    "start_time": "2024-10-18T18:06:55.855Z"
   },
   {
    "duration": 3,
    "start_time": "2024-10-18T18:06:55.861Z"
   },
   {
    "duration": 4,
    "start_time": "2024-10-18T18:06:55.866Z"
   },
   {
    "duration": 10,
    "start_time": "2024-10-18T18:06:55.874Z"
   },
   {
    "duration": 10,
    "start_time": "2024-10-18T18:06:55.885Z"
   },
   {
    "duration": 4,
    "start_time": "2024-10-18T18:06:55.896Z"
   },
   {
    "duration": 5,
    "start_time": "2024-10-18T18:06:55.943Z"
   },
   {
    "duration": 13,
    "start_time": "2024-10-18T18:06:55.950Z"
   },
   {
    "duration": 4,
    "start_time": "2024-10-18T18:06:55.965Z"
   },
   {
    "duration": 8,
    "start_time": "2024-10-18T18:06:55.971Z"
   },
   {
    "duration": 2,
    "start_time": "2024-10-18T18:06:55.981Z"
   },
   {
    "duration": 3,
    "start_time": "2024-10-18T18:06:55.985Z"
   },
   {
    "duration": 61,
    "start_time": "2024-10-18T18:06:55.990Z"
   },
   {
    "duration": 11,
    "start_time": "2024-10-18T18:06:56.052Z"
   },
   {
    "duration": 111,
    "start_time": "2024-10-18T18:06:56.064Z"
   },
   {
    "duration": 225,
    "start_time": "2024-10-18T18:06:56.177Z"
   },
   {
    "duration": 19657,
    "start_time": "2024-10-18T18:06:56.403Z"
   },
   {
    "duration": 263,
    "start_time": "2024-10-18T18:07:16.062Z"
   },
   {
    "duration": 31,
    "start_time": "2024-10-18T18:07:16.327Z"
   },
   {
    "duration": 364,
    "start_time": "2024-10-18T18:07:16.360Z"
   },
   {
    "duration": 4,
    "start_time": "2024-10-18T18:07:16.726Z"
   },
   {
    "duration": 15,
    "start_time": "2024-10-18T18:07:16.731Z"
   },
   {
    "duration": 10,
    "start_time": "2024-10-18T18:07:16.747Z"
   },
   {
    "duration": 385,
    "start_time": "2024-10-18T18:07:16.759Z"
   },
   {
    "duration": 3,
    "start_time": "2024-10-18T18:07:17.146Z"
   },
   {
    "duration": 4,
    "start_time": "2024-10-18T18:07:17.151Z"
   },
   {
    "duration": 9,
    "start_time": "2024-10-18T18:07:17.157Z"
   },
   {
    "duration": 169,
    "start_time": "2024-10-18T18:07:17.168Z"
   },
   {
    "duration": 374,
    "start_time": "2024-10-18T18:07:17.338Z"
   },
   {
    "duration": 351,
    "start_time": "2024-10-18T18:22:46.645Z"
   },
   {
    "duration": 998,
    "start_time": "2024-10-18T18:22:46.998Z"
   },
   {
    "duration": 17,
    "start_time": "2024-10-18T18:22:47.998Z"
   },
   {
    "duration": 13,
    "start_time": "2024-10-18T18:22:48.016Z"
   },
   {
    "duration": 10,
    "start_time": "2024-10-18T18:22:48.042Z"
   },
   {
    "duration": 28,
    "start_time": "2024-10-18T18:22:48.054Z"
   },
   {
    "duration": 4,
    "start_time": "2024-10-18T18:22:48.084Z"
   },
   {
    "duration": 3,
    "start_time": "2024-10-18T18:22:48.090Z"
   },
   {
    "duration": 4,
    "start_time": "2024-10-18T18:22:48.095Z"
   },
   {
    "duration": 4,
    "start_time": "2024-10-18T18:22:48.101Z"
   },
   {
    "duration": 38,
    "start_time": "2024-10-18T18:22:48.106Z"
   },
   {
    "duration": 3,
    "start_time": "2024-10-18T18:22:48.146Z"
   },
   {
    "duration": 4,
    "start_time": "2024-10-18T18:22:48.151Z"
   },
   {
    "duration": 8,
    "start_time": "2024-10-18T18:22:48.159Z"
   },
   {
    "duration": 10,
    "start_time": "2024-10-18T18:22:48.169Z"
   },
   {
    "duration": 5,
    "start_time": "2024-10-18T18:22:48.180Z"
   },
   {
    "duration": 4,
    "start_time": "2024-10-18T18:22:48.186Z"
   },
   {
    "duration": 58,
    "start_time": "2024-10-18T18:22:48.191Z"
   },
   {
    "duration": 4,
    "start_time": "2024-10-18T18:22:48.252Z"
   },
   {
    "duration": 7,
    "start_time": "2024-10-18T18:22:48.258Z"
   },
   {
    "duration": 3,
    "start_time": "2024-10-18T18:22:48.266Z"
   },
   {
    "duration": 3,
    "start_time": "2024-10-18T18:22:48.271Z"
   },
   {
    "duration": 20,
    "start_time": "2024-10-18T18:22:48.276Z"
   },
   {
    "duration": 10,
    "start_time": "2024-10-18T18:22:48.297Z"
   },
   {
    "duration": 112,
    "start_time": "2024-10-18T18:22:48.343Z"
   },
   {
    "duration": 228,
    "start_time": "2024-10-18T18:22:48.457Z"
   },
   {
    "duration": 19688,
    "start_time": "2024-10-18T18:22:48.687Z"
   },
   {
    "duration": 262,
    "start_time": "2024-10-18T18:23:08.377Z"
   },
   {
    "duration": 36,
    "start_time": "2024-10-18T18:23:08.643Z"
   },
   {
    "duration": 402,
    "start_time": "2024-10-18T18:23:08.681Z"
   },
   {
    "duration": 3,
    "start_time": "2024-10-18T18:23:09.085Z"
   },
   {
    "duration": 5,
    "start_time": "2024-10-18T18:23:09.091Z"
   },
   {
    "duration": 10,
    "start_time": "2024-10-18T18:23:09.097Z"
   },
   {
    "duration": 402,
    "start_time": "2024-10-18T18:23:09.109Z"
   },
   {
    "duration": 5,
    "start_time": "2024-10-18T18:23:09.513Z"
   },
   {
    "duration": 9,
    "start_time": "2024-10-18T18:23:09.520Z"
   },
   {
    "duration": 21,
    "start_time": "2024-10-18T18:23:09.531Z"
   },
   {
    "duration": 153,
    "start_time": "2024-10-18T18:23:09.554Z"
   },
   {
    "duration": 375,
    "start_time": "2024-10-18T18:23:09.708Z"
   },
   {
    "duration": 335,
    "start_time": "2024-10-18T19:31:44.074Z"
   },
   {
    "duration": 997,
    "start_time": "2024-10-18T19:31:44.413Z"
   },
   {
    "duration": 16,
    "start_time": "2024-10-18T19:31:45.411Z"
   },
   {
    "duration": 20,
    "start_time": "2024-10-18T19:31:45.429Z"
   },
   {
    "duration": 10,
    "start_time": "2024-10-18T19:31:45.451Z"
   },
   {
    "duration": 27,
    "start_time": "2024-10-18T19:31:45.462Z"
   },
   {
    "duration": 3,
    "start_time": "2024-10-18T19:31:45.491Z"
   },
   {
    "duration": 3,
    "start_time": "2024-10-18T19:31:45.496Z"
   },
   {
    "duration": 4,
    "start_time": "2024-10-18T19:31:45.501Z"
   },
   {
    "duration": 4,
    "start_time": "2024-10-18T19:31:45.506Z"
   },
   {
    "duration": 4,
    "start_time": "2024-10-18T19:31:45.543Z"
   },
   {
    "duration": 3,
    "start_time": "2024-10-18T19:31:45.549Z"
   },
   {
    "duration": 4,
    "start_time": "2024-10-18T19:31:45.554Z"
   },
   {
    "duration": 12,
    "start_time": "2024-10-18T19:31:45.561Z"
   },
   {
    "duration": 11,
    "start_time": "2024-10-18T19:31:45.575Z"
   },
   {
    "duration": 5,
    "start_time": "2024-10-18T19:31:45.588Z"
   },
   {
    "duration": 4,
    "start_time": "2024-10-18T19:31:45.595Z"
   },
   {
    "duration": 54,
    "start_time": "2024-10-18T19:31:45.601Z"
   },
   {
    "duration": 4,
    "start_time": "2024-10-18T19:31:45.657Z"
   },
   {
    "duration": 7,
    "start_time": "2024-10-18T19:31:45.665Z"
   },
   {
    "duration": 3,
    "start_time": "2024-10-18T19:31:45.673Z"
   },
   {
    "duration": 3,
    "start_time": "2024-10-18T19:31:45.678Z"
   },
   {
    "duration": 19,
    "start_time": "2024-10-18T19:31:45.684Z"
   },
   {
    "duration": 48,
    "start_time": "2024-10-18T19:31:45.705Z"
   },
   {
    "duration": 113,
    "start_time": "2024-10-18T19:31:45.754Z"
   },
   {
    "duration": 224,
    "start_time": "2024-10-18T19:31:45.869Z"
   },
   {
    "duration": 19670,
    "start_time": "2024-10-18T19:31:46.095Z"
   },
   {
    "duration": 269,
    "start_time": "2024-10-18T19:32:05.768Z"
   },
   {
    "duration": 22,
    "start_time": "2024-10-18T19:32:06.039Z"
   },
   {
    "duration": 374,
    "start_time": "2024-10-18T19:32:06.063Z"
   },
   {
    "duration": 3,
    "start_time": "2024-10-18T19:32:06.442Z"
   },
   {
    "duration": 6,
    "start_time": "2024-10-18T19:32:06.447Z"
   },
   {
    "duration": 9,
    "start_time": "2024-10-18T19:32:06.455Z"
   },
   {
    "duration": 387,
    "start_time": "2024-10-18T19:32:06.466Z"
   },
   {
    "duration": 4,
    "start_time": "2024-10-18T19:32:06.855Z"
   },
   {
    "duration": 5,
    "start_time": "2024-10-18T19:32:06.861Z"
   },
   {
    "duration": 11,
    "start_time": "2024-10-18T19:32:06.868Z"
   },
   {
    "duration": 168,
    "start_time": "2024-10-18T19:32:06.881Z"
   },
   {
    "duration": 376,
    "start_time": "2024-10-18T19:32:07.051Z"
   }
  ],
  "kernelspec": {
   "display_name": "Python 3 (ipykernel)",
   "language": "python",
   "name": "python3"
  },
  "language_info": {
   "codemirror_mode": {
    "name": "ipython",
    "version": 3
   },
   "file_extension": ".py",
   "mimetype": "text/x-python",
   "name": "python",
   "nbconvert_exporter": "python",
   "pygments_lexer": "ipython3",
   "version": "3.9.19"
  },
  "toc": {
   "base_numbering": 1,
   "nav_menu": {},
   "number_sections": true,
   "sideBar": true,
   "skip_h1_title": true,
   "title_cell": "Table of Contents",
   "title_sidebar": "Contents",
   "toc_cell": true,
   "toc_position": {
    "height": "calc(100% - 180px)",
    "left": "10px",
    "top": "150px",
    "width": "252.797px"
   },
   "toc_section_display": true,
   "toc_window_display": false
  }
 },
 "nbformat": 4,
 "nbformat_minor": 2
}
