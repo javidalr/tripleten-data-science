{
 "cells": [
  {
   "cell_type": "markdown",
   "id": "38c60fa5",
   "metadata": {},
   "source": [
    "# **Síntesis del proyecto**"
   ]
  },
  {
   "cell_type": "markdown",
   "id": "55a8c610",
   "metadata": {},
   "source": [
    "## **Resumen ejecutivo**"
   ]
  },
  {
   "cell_type": "markdown",
   "id": "e00012d0",
   "metadata": {},
   "source": [
    "La intención de este informe es repasar lo realizado en el proyecto, como sus etapas, dificultades, puntos claves y decisiones para conseguir el objetivo de pronosticar el riesgo de abandono del servicio de los clientes en la compañia Interconnect. \n",
    "\n",
    "En principio, se realizó un estudio previo, con un pequeño análisis, el cual consistió en presentar hipotesis e interrogantes del proyecto, para posteriormente proporcionar un respuesta en base al objetivo, además de generar varias ideas sobre las etapas y desarrollo de esto, donde algunas fueron realizadas, otras omitidas y/o modificadas en el proceso.\n",
    "\n",
    "A continuación se explica cada situación en detalle."
   ]
  },
  {
   "cell_type": "markdown",
   "id": "85c28dfe",
   "metadata": {},
   "source": [
    "## **Metodología**"
   ]
  },
  {
   "cell_type": "markdown",
   "id": "70182c70",
   "metadata": {},
   "source": [
    "Previo a desarrollar el modelo, se realizó un analisis exploratorio de datos, en el cual se revisaron los archivos '.csv', con el fin de unificar y normalizar la información y así poder rescatar insights influyentes para la elaboración del modelo. Entender las el comportamiento de las variables, identificar valores nulos, duplicados, patrones, anomalías en el conjunto de datos, posteriormente procesarlo para el análisis. \n",
    "\n",
    "Luego se removieron variables innecesarias, se dividió el set de datos en los conjuntos de entrenamiento y prueba(80%-20%), se establecieron las características importantes para el modelo, a través de la técnica Boruta y el EDA previo realizado, y la variable objetivo, previo a la implementación del modelo, se aplicó la técnica SMOTENC, para corregir el desbalance de clases.\n",
    "\n",
    "Finalmente, se determinaron las métricas de evaluación para dichos modelos(AUC-ROC, F1-Score, Accuracy), los cuales fueron implementados con y sin ajuste de hiperparámetros,la mayoria de ocasiones la modificación de estos, da como consecuancia una mejora en el rendimiento del modelo, lo cual permite generalizar mejor los datos nuevos y entregar mejores predicciones, siendo el modelo de mejor rendimiento el **XGBoost Classifier**."
   ]
  },
  {
   "cell_type": "markdown",
   "id": "550b169b",
   "metadata": {},
   "source": [
    "## **Desafios y estrategias de mitigación**"
   ]
  },
  {
   "cell_type": "markdown",
   "id": "3c783e30",
   "metadata": {},
   "source": [
    "El proyecto en si, es un desafío, en primera instancia el unificar la información proveniente de diversos archivos, con el fin de tener un contexto general del problema y hacer un análisis que comprenda todas las aristas que influyen en los servicios de la compañia, luego de eso, las visualizaciones ayudan de gran manera, a ver la repercusión de cada variable en el propósito del proyecto e identificar anomalías en los datos, en el caso de la repercusion de las características, se realizó una matriz de correlaciones, graficada con un mapa de calor, para visaualizar mejor cada influencia de las variables, en el caso de las anomalias, como lo es el desequilibrio de clases en la variable objetivo, para lo cual se aplicó la técnica de sobremuestreo SMOTENC, la cual resuelve mejor el desbalance de clases en datasets con gran cantidad de variables categóricas, \n",
    "\n",
    "Finalmente, al implementar los modelos, el sobreajuste que se genera con los datos de entrenamiento, se disminuyó mediante el ajuste de hiperparámetros individualmente, permitiendo que los modelos sean más balanceados, generalicen mejor y sean más realista con las predicciones entregadas. "
   ]
  },
  {
   "cell_type": "markdown",
   "id": "81b2c801",
   "metadata": {},
   "source": [
    "## **Etapas claves**"
   ]
  },
  {
   "cell_type": "markdown",
   "id": "d25133a9",
   "metadata": {},
   "source": [
    "1. Preprocesamiento de datos: Unificar y limpiar set de datos para asegurar una información precisa y relevante para el modelo.\n",
    "\n",
    "2. Análisis exploratorios de datos: Análisis explicativo para entender las características que componene el proyecto y detectar las posibles anomalias del conjunto de datos\n",
    "\n",
    "3. Implementación de modelos: Aplicar diversos modelos y evaluar su rendimiento mediante las métricas de evaluación.\n",
    "\n",
    "4. Selección de modelo: Elección del modelo adecuado, según métricas de desempeño."
   ]
  },
  {
   "cell_type": "markdown",
   "id": "c7044ca8",
   "metadata": {},
   "source": [
    "## **Modelo final**"
   ]
  },
  {
   "cell_type": "markdown",
   "id": "7b239ae4",
   "metadata": {},
   "source": [
    "El modelo elegido para desarrollar la tarea de predecir la deserción de los clientes es **XGBoost Classifier**, el cual sostuvo un desempeño superior al resto de los modelos implementados, alcanzando una puntuación notable en las métricas de evaluación seleccionadas, en  **AUC-ROC** obtuvo **0.9430**, en **F1-Score** un **0.8257(mejor puntuación)** y en **Accuracy** un **0.9097(mejor puntuación)** con el conjunto de datos de prueba. Finalmente, esto se traduce, en que el modelo es efectivo para predecir la cancelación de servicios y puede ser utilizado como fundamento para generar estrategias de retención de clientes."
   ]
  }
 ],
 "metadata": {
  "language_info": {
   "name": "python"
  }
 },
 "nbformat": 4,
 "nbformat_minor": 5
}
