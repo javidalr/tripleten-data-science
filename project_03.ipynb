{
 "cells": [
  {
   "cell_type": "markdown",
   "id": "c792c18d",
   "metadata": {},
   "source": [
    "# ¡Hola Javier!\n",
    "\n",
    "Mi nombre es Ezequiel Ferrario, soy code reviewer en Tripleten y tengo el agrado de revisar el proyecto que entregaste.\n",
    "\n",
    "Para simular la dinámica de un ambiente de trabajo, si veo algún error, en primer instancia solo los señalaré, dándote la oportunidad de encontrarlos y corregirlos por tu cuenta. En un trabajo real, el líder de tu equipo hará una dinámica similar. En caso de que no puedas resolver la tarea, te daré una información más precisa en la próxima revisión.\n",
    "\n",
    "Encontrarás mis comentarios más abajo - **por favor, no los muevas, no los modifiques ni los borres**.\n",
    "\n",
    "¿Cómo lo voy a hacer? Voy a leer detenidamente cada una de las implementaciones que has llevado a cabo para cumplir con lo solicitado. Verás los comentarios de esta forma:\n",
    "\n",
    "<div class=\"alert alert-block alert-success\">\n",
    "<b>Comentario del revisor</b> <a class=\"tocSkip\"></a>\n",
    "\n",
    "Si todo está perfecto.\n",
    "</div>\n",
    "\n",
    "\n",
    "<div class=\"alert alert-block alert-warning\">\n",
    "<b>Comentario del revisor</b> <a class=\"tocSkip\"></a>\n",
    "\n",
    "Si tu código está bien pero se puede mejorar o hay algún detalle que le hace falta. Se aceptan uno o dos comentarios de este tipo en el borrador, pero si hay más, deberá hacer las correcciones. Es como una tarea de prueba al solicitar un trabajo: muchos pequeños errores pueden hacer que un candidato sea rechazado.\n",
    "</div>\n",
    "\n",
    "<div class=\"alert alert-block alert-danger\">\n",
    "\n",
    "<b>Comentario del revisor</b> <a class=\"tocSkip\"></a>\n",
    "\n",
    "Si de pronto hace falta algo o existe algún problema con tu código o conclusiones.\n",
    "</div>\n",
    "\n",
    "Puedes responderme de esta forma:\n",
    "\n",
    "<div class=\"alert alert-block alert-info\">\n",
    "<b>Respuesta del estudiante</b> <a class=\"tocSkip\"></a>\n",
    "\n",
    "Hola, muchas gracias por tus comentarios y la revisión.\n",
    "</div>\n",
    "\n",
    "¡Empecemos!"
   ]
  },
  {
   "cell_type": "markdown",
   "id": "33f15193",
   "metadata": {},
   "source": [
    "<div class=\"alert alert-block alert-danger\">\n",
    "<b>Comentario general #1</b> <a class=\"tocSkip\"></a>\n",
    "\n",
    "Javier, hiciste un muy buen trabajo aqui.\n",
    "    \n",
    " La parte inicial de est extenso proyecto esta muy bien realizado  tanto en su codigo como en su analisis, siendo este ultimo muy bien realizado a lo largo de todo el proyecto.\n",
    "    \n",
    " Asi, en la parte de los ejercicios en su mayoria lograste entender que se pedia y utilizaste muy bien el codigo para lograrlo. Es alli donde te deje algunas correcciones con su respectiva guia para que puedas continuar.\n",
    "\n",
    "El proyecto esta completo y encaminado para ser terminado. Muy buen trabajo.\n",
    "    \n",
    "    \n",
    "Quedo a la espera de tu correccion, saludos.</div>\n",
    "\n",
    "<div class=\"alert alert-block alert-success\">\n",
    "\n",
    "<b>Comentario general #2</b> <a class=\"tocSkip\"></a>\n",
    "\n",
    "Javier, has realizado unas **excelentes** correcciones ya que no solo abarcaste las necesarias sino tambien aquellas que eran meros consejos.\n",
    "\n",
    "Por lo que el mismo pasa a estar **aprobado**.\n",
    "\n",
    "Te felicito por el nivel de detalle de est eproyecto.\n",
    "\n",
    "Exitos en lo que viene.\n",
    "\n",
    "Saludos.</div>"
   ]
  },
  {
   "cell_type": "markdown",
   "id": "3Xg_RQfnafXz",
   "metadata": {
    "id": "3Xg_RQfnafXz"
   },
   "source": [
    "# ¡Llena ese carrito!"
   ]
  },
  {
   "cell_type": "markdown",
   "id": "mhIvmmkW414q",
   "metadata": {
    "id": "mhIvmmkW414q"
   },
   "source": [
    "# Introducción\n",
    "\n",
    "Instacart es una plataforma de entregas de comestibles donde la clientela puede registrar un pedido y hacer que se lo entreguen, similar a Uber Eats y Door Dash.\n",
    "El conjunto de datos que te hemos proporcionado tiene modificaciones del original. Redujimos el tamaño del conjunto para que tus cálculos se hicieran más rápido e introdujimos valores ausentes y duplicados. Tuvimos cuidado de conservar las distribuciones de los datos originales cuando hicimos los cambios.\n",
    "\n",
    "Debes completar tres pasos. Para cada uno de ellos, escribe una breve introducción que refleje con claridad cómo pretendes resolver cada paso, y escribe párrafos explicatorios que justifiquen tus decisiones al tiempo que avanzas en tu solución.  También escribe una conclusión que resuma tus hallazgos y elecciones.\n"
   ]
  },
  {
   "cell_type": "markdown",
   "id": "3MbyzpOQZ5Or",
   "metadata": {
    "id": "3MbyzpOQZ5Or"
   },
   "source": [
    "## Diccionario de datos\n",
    "\n",
    "Hay cinco tablas en el conjunto de datos, y tendrás que usarlas todas para hacer el preprocesamiento de datos y el análisis exploratorio de datos. A continuación se muestra un diccionario de datos que enumera las columnas de cada tabla y describe los datos que contienen.\n",
    "\n",
    "- `instacart_orders.csv`: cada fila corresponde a un pedido en la aplicación Instacart.\n",
    "    - `'order_id'`: número de ID que identifica de manera única cada pedido.\n",
    "    - `'user_id'`: número de ID que identifica de manera única la cuenta de cada cliente.\n",
    "    - `'order_number'`: el número de veces que este cliente ha hecho un pedido.\n",
    "    - `'order_dow'`: día de la semana en que se hizo el pedido (0 si es domingo).\n",
    "    - `'order_hour_of_day'`: hora del día en que se hizo el pedido.\n",
    "    - `'days_since_prior_order'`: número de días transcurridos desde que este cliente hizo su pedido anterior.\n",
    "- `products.csv`: cada fila corresponde a un producto único que pueden comprar los clientes.\n",
    "    - `'product_id'`: número ID que identifica de manera única cada producto.\n",
    "    - `'product_name'`: nombre del producto.\n",
    "    - `'aisle_id'`: número ID que identifica de manera única cada categoría de pasillo de víveres.\n",
    "    - `'department_id'`: número ID que identifica de manera única cada departamento de víveres.\n",
    "- `order_products.csv`: cada fila corresponde a un artículo pedido en un pedido.\n",
    "    - `'order_id'`: número de ID que identifica de manera única cada pedido.\n",
    "    - `'product_id'`: número ID que identifica de manera única cada producto.\n",
    "    - `'add_to_cart_order'`: el orden secuencial en el que se añadió cada artículo en el carrito.\n",
    "    - `'reordered'`: 0 si el cliente nunca ha pedido este producto antes, 1 si lo ha pedido.\n",
    "- `aisles.csv`\n",
    "    - `'aisle_id'`: número ID que identifica de manera única cada categoría de pasillo de víveres.\n",
    "    - `'aisle'`: nombre del pasillo.\n",
    "- `departments.csv`\n",
    "    - `'department_id'`: número ID que identifica de manera única cada departamento de víveres.\n",
    "    - `'department'`: nombre del departamento."
   ]
  },
  {
   "cell_type": "markdown",
   "id": "n3Ha_cNSZ8lK",
   "metadata": {
    "id": "n3Ha_cNSZ8lK"
   },
   "source": [
    "# Paso 1. Descripción de los datos\n",
    "\n",
    "Lee los archivos de datos (`/datasets/instacart_orders.csv`, `/datasets/products.csv`, `/datasets/aisles.csv`, `/datasets/departments.csv` y `/datasets/order_products.csv`) con `pd.read_csv()` usando los parámetros adecuados para leer los datos correctamente. Verifica la información para cada DataFrame creado.\n"
   ]
  },
  {
   "cell_type": "markdown",
   "id": "OmlQPLlyaAfR",
   "metadata": {
    "id": "OmlQPLlyaAfR"
   },
   "source": [
    "## Plan de solución\n",
    "\n",
    "Escribe aquí tu plan de solución para el Paso 1. Descripción de los datos."
   ]
  },
  {
   "cell_type": "code",
   "execution_count": 1,
   "id": "fbf1adab",
   "metadata": {
    "id": "fbf1adab"
   },
   "outputs": [],
   "source": [
    "# importar librerías\n",
    "import pandas as pd\n",
    "import matplotlib.pyplot as plt"
   ]
  },
  {
   "cell_type": "code",
   "execution_count": 2,
   "id": "ad36396d",
   "metadata": {
    "id": "ad36396d"
   },
   "outputs": [],
   "source": [
    "# leer conjuntos de datos en los DataFrames\n",
    "instacart_orders = pd.read_csv('03_instacart_orders.csv', sep = ';')\n",
    "products = pd.read_csv('03_products.csv', sep = ';')\n",
    "aisles = pd.read_csv('03_aisles.csv', sep = ';')\n",
    "departments = pd.read_csv('03_departments.csv', sep = ';')\n",
    "order_products = pd.read_csv('03_order_products.csv', sep = ';')"
   ]
  },
  {
   "cell_type": "code",
   "execution_count": 3,
   "id": "ad6a1efa",
   "metadata": {
    "id": "ad6a1efa"
   },
   "outputs": [
    {
     "name": "stdout",
     "output_type": "stream",
     "text": [
      "Información resumen del DF de pedidos (instacart_orders)\n",
      "\n",
      "<class 'pandas.core.frame.DataFrame'>\n",
      "RangeIndex: 478967 entries, 0 to 478966\n",
      "Data columns (total 6 columns):\n",
      " #   Column                  Non-Null Count   Dtype  \n",
      "---  ------                  --------------   -----  \n",
      " 0   order_id                478967 non-null  int64  \n",
      " 1   user_id                 478967 non-null  int64  \n",
      " 2   order_number            478967 non-null  int64  \n",
      " 3   order_dow               478967 non-null  int64  \n",
      " 4   order_hour_of_day       478967 non-null  int64  \n",
      " 5   days_since_prior_order  450148 non-null  float64\n",
      "dtypes: float64(1), int64(5)\n",
      "memory usage: 21.9 MB\n"
     ]
    }
   ],
   "source": [
    "# mostrar información del DataFrame\n",
    "print('Información resumen del DF de pedidos (instacart_orders)')\n",
    "print()\n",
    "instacart_orders.info()"
   ]
  },
  {
   "cell_type": "code",
   "execution_count": 4,
   "id": "5130e05e",
   "metadata": {
    "id": "5130e05e"
   },
   "outputs": [
    {
     "name": "stdout",
     "output_type": "stream",
     "text": [
      "Información resumen del DF de productos (products)\n",
      "\n",
      "<class 'pandas.core.frame.DataFrame'>\n",
      "RangeIndex: 49694 entries, 0 to 49693\n",
      "Data columns (total 4 columns):\n",
      " #   Column         Non-Null Count  Dtype \n",
      "---  ------         --------------  ----- \n",
      " 0   product_id     49694 non-null  int64 \n",
      " 1   product_name   48436 non-null  object\n",
      " 2   aisle_id       49694 non-null  int64 \n",
      " 3   department_id  49694 non-null  int64 \n",
      "dtypes: int64(3), object(1)\n",
      "memory usage: 1.5+ MB\n"
     ]
    }
   ],
   "source": [
    "# mostrar información del DataFrame\n",
    "print('Información resumen del DF de productos (products)')\n",
    "print()\n",
    "products.info()"
   ]
  },
  {
   "cell_type": "code",
   "execution_count": 5,
   "id": "d8370c05",
   "metadata": {
    "id": "d8370c05"
   },
   "outputs": [
    {
     "name": "stdout",
     "output_type": "stream",
     "text": [
      "Información resumen del DF de pasillos (aisles)\n",
      "\n",
      "<class 'pandas.core.frame.DataFrame'>\n",
      "RangeIndex: 134 entries, 0 to 133\n",
      "Data columns (total 2 columns):\n",
      " #   Column    Non-Null Count  Dtype \n",
      "---  ------    --------------  ----- \n",
      " 0   aisle_id  134 non-null    int64 \n",
      " 1   aisle     134 non-null    object\n",
      "dtypes: int64(1), object(1)\n",
      "memory usage: 2.2+ KB\n"
     ]
    }
   ],
   "source": [
    "# mostrar información del DataFrame\n",
    "print('Información resumen del DF de pasillos (aisles)')\n",
    "print()\n",
    "aisles.info()"
   ]
  },
  {
   "cell_type": "code",
   "execution_count": 6,
   "id": "59e2090f",
   "metadata": {
    "id": "59e2090f"
   },
   "outputs": [
    {
     "name": "stdout",
     "output_type": "stream",
     "text": [
      "Información resumen del DF de los departamentos (departments)\n",
      "\n",
      "<class 'pandas.core.frame.DataFrame'>\n",
      "RangeIndex: 21 entries, 0 to 20\n",
      "Data columns (total 2 columns):\n",
      " #   Column         Non-Null Count  Dtype \n",
      "---  ------         --------------  ----- \n",
      " 0   department_id  21 non-null     int64 \n",
      " 1   department     21 non-null     object\n",
      "dtypes: int64(1), object(1)\n",
      "memory usage: 464.0+ bytes\n"
     ]
    }
   ],
   "source": [
    "# mostrar información del DataFrame\n",
    "print('Información resumen del DF de los departamentos (departments)')\n",
    "print()\n",
    "departments.info()"
   ]
  },
  {
   "cell_type": "code",
   "execution_count": 7,
   "id": "6fc81694",
   "metadata": {
    "id": "6fc81694"
   },
   "outputs": [
    {
     "name": "stdout",
     "output_type": "stream",
     "text": [
      "Información resumen del DF de articulos en pedidos (order_products)\n",
      "\n",
      "<class 'pandas.core.frame.DataFrame'>\n",
      "RangeIndex: 4545007 entries, 0 to 4545006\n",
      "Data columns (total 4 columns):\n",
      " #   Column             Non-Null Count    Dtype  \n",
      "---  ------             --------------    -----  \n",
      " 0   order_id           4545007 non-null  int64  \n",
      " 1   product_id         4545007 non-null  int64  \n",
      " 2   add_to_cart_order  4544171 non-null  float64\n",
      " 3   reordered          4545007 non-null  int64  \n",
      "dtypes: float64(1), int64(3)\n",
      "memory usage: 138.7 MB\n"
     ]
    }
   ],
   "source": [
    "# mostrar información del DataFrame\n",
    "print('Información resumen del DF de articulos en pedidos (order_products)')\n",
    "print()\n",
    "order_products.info(show_counts=True)"
   ]
  },
  {
   "cell_type": "markdown",
   "id": "t75BD19oaR5f",
   "metadata": {
    "id": "t75BD19oaR5f"
   },
   "source": [
    "## Conclusiones\n",
    "\n",
    "Escribe aquí tus conclusiones intermedias sobre el Paso 1. Descripción de los datos.\n",
    "\n",
    "\n",
    "**Los datasets aisles y deparments estan listo para continuar con su analisis ya que no tiene valores nulos, los nombres de columnas tienen el formato correcto y por ultimo valores del de cada uno tienen el tipo de dato correcto.**\n",
    "\n",
    "**Por otra parte, los dataset de instacart_order, order_products y productos tiene cada una columna de celdas con valores nulos, los cuales se pudiesen dar hipoteticamente por la compra de un cliente nuevo (primera compra), por la eliminación de productos en el carro de compra y falta de asignación de nombres de productos por un departamento (ya que son varios nulos), respectivamente.**\n",
    "\n",
    "**Finalmente,es necesario seguir analizando, para saber si mas alla de gestionar los valores ausentes existen otras modificaciones.**"
   ]
  },
  {
   "cell_type": "markdown",
   "id": "c361896f",
   "metadata": {},
   "source": [
    "\n",
    "<div class=\"alert alert-block alert-success\">\n",
    "<b>Comentario del revisor</b> <a class=\"tocSkip\"></a>\n",
    "\n",
    "Excelente.</div>\n",
    "\n"
   ]
  },
  {
   "cell_type": "markdown",
   "id": "8RJHqxVmaVsF",
   "metadata": {
    "id": "8RJHqxVmaVsF"
   },
   "source": [
    "# Paso 2. Preprocesamiento de los datos\n",
    "\n",
    "Preprocesa los datos de la siguiente manera:\n",
    "\n",
    "- Verifica y corrige los tipos de datos (por ejemplo, asegúrate de que las columnas de ID sean números enteros).\n",
    "- Identifica y completa los valores ausentes.\n",
    "- Identifica y elimina los valores duplicados.\n",
    "\n",
    "Asegúrate de explicar qué tipos de valores ausentes y duplicados encontraste, cómo los completaste o eliminaste y por qué usaste esos métodos. ¿Por qué crees que estos valores ausentes y duplicados pueden haber estado presentes en el conjunto de datos?"
   ]
  },
  {
   "cell_type": "markdown",
   "id": "p6poABZQaZYb",
   "metadata": {
    "id": "p6poABZQaZYb"
   },
   "source": [
    "## Plan de solución\n",
    "\n",
    "Escribe aquí tu plan para el Paso 2. Preprocesamiento de los datos."
   ]
  },
  {
   "cell_type": "markdown",
   "id": "07357848-dc64-4156-9cc3-01ff4365226d",
   "metadata": {
    "id": "07357848-dc64-4156-9cc3-01ff4365226d"
   },
   "source": [
    "## Encuentra y elimina los valores duplicados (y describe cómo tomaste tus decisiones)."
   ]
  },
  {
   "cell_type": "markdown",
   "id": "f179f0a9",
   "metadata": {
    "id": "f179f0a9"
   },
   "source": [
    "### `orders` data frame"
   ]
  },
  {
   "cell_type": "code",
   "execution_count": 8,
   "id": "b99297a5-405a-463d-8535-9adc3da4ad74",
   "metadata": {
    "id": "b99297a5-405a-463d-8535-9adc3da4ad74"
   },
   "outputs": [
    {
     "data": {
      "text/plain": [
       "15"
      ]
     },
     "execution_count": 8,
     "metadata": {},
     "output_type": "execute_result"
    }
   ],
   "source": [
    "# Revisa si hay pedidos duplicados\n",
    "instacart_orders.duplicated().sum()"
   ]
  },
  {
   "cell_type": "markdown",
   "id": "PEkwUX_gvt5A",
   "metadata": {
    "id": "PEkwUX_gvt5A"
   },
   "source": [
    "¿Tienes líneas duplicadas? Si sí, ¿qué tienen en común?\n",
    "\n",
    "**Si, existen 15 líneas que son pedidos duplicados, y lo que tienen en común, es que todas fueron realizadas un día miércoles a las 2:00 a.m.**"
   ]
  },
  {
   "cell_type": "code",
   "execution_count": 9,
   "id": "0d44de5d",
   "metadata": {
    "id": "0d44de5d"
   },
   "outputs": [
    {
     "name": "stdout",
     "output_type": "stream",
     "text": [
      "Verificando si todos los pedidos fueron realizados el miercoles a las 2:00 a.m.\n",
      "\n"
     ]
    },
    {
     "data": {
      "text/html": [
       "<div>\n",
       "<style scoped>\n",
       "    .dataframe tbody tr th:only-of-type {\n",
       "        vertical-align: middle;\n",
       "    }\n",
       "\n",
       "    .dataframe tbody tr th {\n",
       "        vertical-align: top;\n",
       "    }\n",
       "\n",
       "    .dataframe thead th {\n",
       "        text-align: right;\n",
       "    }\n",
       "</style>\n",
       "<table border=\"1\" class=\"dataframe\">\n",
       "  <thead>\n",
       "    <tr style=\"text-align: right;\">\n",
       "      <th></th>\n",
       "      <th>order_id</th>\n",
       "      <th>user_id</th>\n",
       "      <th>order_number</th>\n",
       "      <th>order_dow</th>\n",
       "      <th>order_hour_of_day</th>\n",
       "      <th>days_since_prior_order</th>\n",
       "    </tr>\n",
       "  </thead>\n",
       "  <tbody>\n",
       "    <tr>\n",
       "      <th>145574</th>\n",
       "      <td>794638</td>\n",
       "      <td>50898</td>\n",
       "      <td>24</td>\n",
       "      <td>3</td>\n",
       "      <td>2</td>\n",
       "      <td>2.0</td>\n",
       "    </tr>\n",
       "    <tr>\n",
       "      <th>223105</th>\n",
       "      <td>2160484</td>\n",
       "      <td>107525</td>\n",
       "      <td>16</td>\n",
       "      <td>3</td>\n",
       "      <td>2</td>\n",
       "      <td>30.0</td>\n",
       "    </tr>\n",
       "    <tr>\n",
       "      <th>230807</th>\n",
       "      <td>1918001</td>\n",
       "      <td>188546</td>\n",
       "      <td>14</td>\n",
       "      <td>3</td>\n",
       "      <td>2</td>\n",
       "      <td>16.0</td>\n",
       "    </tr>\n",
       "    <tr>\n",
       "      <th>266232</th>\n",
       "      <td>1782114</td>\n",
       "      <td>106752</td>\n",
       "      <td>1</td>\n",
       "      <td>3</td>\n",
       "      <td>2</td>\n",
       "      <td>NaN</td>\n",
       "    </tr>\n",
       "    <tr>\n",
       "      <th>273805</th>\n",
       "      <td>1112182</td>\n",
       "      <td>202304</td>\n",
       "      <td>84</td>\n",
       "      <td>3</td>\n",
       "      <td>2</td>\n",
       "      <td>6.0</td>\n",
       "    </tr>\n",
       "    <tr>\n",
       "      <th>284038</th>\n",
       "      <td>2845099</td>\n",
       "      <td>31189</td>\n",
       "      <td>11</td>\n",
       "      <td>3</td>\n",
       "      <td>2</td>\n",
       "      <td>7.0</td>\n",
       "    </tr>\n",
       "    <tr>\n",
       "      <th>311713</th>\n",
       "      <td>1021560</td>\n",
       "      <td>53767</td>\n",
       "      <td>3</td>\n",
       "      <td>3</td>\n",
       "      <td>2</td>\n",
       "      <td>9.0</td>\n",
       "    </tr>\n",
       "    <tr>\n",
       "      <th>321100</th>\n",
       "      <td>408114</td>\n",
       "      <td>68324</td>\n",
       "      <td>4</td>\n",
       "      <td>3</td>\n",
       "      <td>2</td>\n",
       "      <td>18.0</td>\n",
       "    </tr>\n",
       "    <tr>\n",
       "      <th>323900</th>\n",
       "      <td>1919531</td>\n",
       "      <td>191501</td>\n",
       "      <td>32</td>\n",
       "      <td>3</td>\n",
       "      <td>2</td>\n",
       "      <td>7.0</td>\n",
       "    </tr>\n",
       "    <tr>\n",
       "      <th>345917</th>\n",
       "      <td>2232988</td>\n",
       "      <td>82565</td>\n",
       "      <td>1</td>\n",
       "      <td>3</td>\n",
       "      <td>2</td>\n",
       "      <td>NaN</td>\n",
       "    </tr>\n",
       "    <tr>\n",
       "      <th>371905</th>\n",
       "      <td>391768</td>\n",
       "      <td>57671</td>\n",
       "      <td>19</td>\n",
       "      <td>3</td>\n",
       "      <td>2</td>\n",
       "      <td>10.0</td>\n",
       "    </tr>\n",
       "    <tr>\n",
       "      <th>394347</th>\n",
       "      <td>467134</td>\n",
       "      <td>63189</td>\n",
       "      <td>21</td>\n",
       "      <td>3</td>\n",
       "      <td>2</td>\n",
       "      <td>2.0</td>\n",
       "    </tr>\n",
       "    <tr>\n",
       "      <th>411408</th>\n",
       "      <td>1286742</td>\n",
       "      <td>183220</td>\n",
       "      <td>48</td>\n",
       "      <td>3</td>\n",
       "      <td>2</td>\n",
       "      <td>4.0</td>\n",
       "    </tr>\n",
       "    <tr>\n",
       "      <th>415163</th>\n",
       "      <td>2282673</td>\n",
       "      <td>86751</td>\n",
       "      <td>49</td>\n",
       "      <td>3</td>\n",
       "      <td>2</td>\n",
       "      <td>2.0</td>\n",
       "    </tr>\n",
       "    <tr>\n",
       "      <th>441599</th>\n",
       "      <td>2125197</td>\n",
       "      <td>14050</td>\n",
       "      <td>48</td>\n",
       "      <td>3</td>\n",
       "      <td>2</td>\n",
       "      <td>3.0</td>\n",
       "    </tr>\n",
       "  </tbody>\n",
       "</table>\n",
       "</div>"
      ],
      "text/plain": [
       "        order_id  user_id  order_number  order_dow  order_hour_of_day  \\\n",
       "145574    794638    50898            24          3                  2   \n",
       "223105   2160484   107525            16          3                  2   \n",
       "230807   1918001   188546            14          3                  2   \n",
       "266232   1782114   106752             1          3                  2   \n",
       "273805   1112182   202304            84          3                  2   \n",
       "284038   2845099    31189            11          3                  2   \n",
       "311713   1021560    53767             3          3                  2   \n",
       "321100    408114    68324             4          3                  2   \n",
       "323900   1919531   191501            32          3                  2   \n",
       "345917   2232988    82565             1          3                  2   \n",
       "371905    391768    57671            19          3                  2   \n",
       "394347    467134    63189            21          3                  2   \n",
       "411408   1286742   183220            48          3                  2   \n",
       "415163   2282673    86751            49          3                  2   \n",
       "441599   2125197    14050            48          3                  2   \n",
       "\n",
       "        days_since_prior_order  \n",
       "145574                     2.0  \n",
       "223105                    30.0  \n",
       "230807                    16.0  \n",
       "266232                     NaN  \n",
       "273805                     6.0  \n",
       "284038                     7.0  \n",
       "311713                     9.0  \n",
       "321100                    18.0  \n",
       "323900                     7.0  \n",
       "345917                     NaN  \n",
       "371905                    10.0  \n",
       "394347                     2.0  \n",
       "411408                     4.0  \n",
       "415163                     2.0  \n",
       "441599                     3.0  "
      ]
     },
     "execution_count": 9,
     "metadata": {},
     "output_type": "execute_result"
    }
   ],
   "source": [
    "# Basándote en tus hallazgos,\n",
    "# Verifica todos los pedidos que se hicieron el miércoles a las 2:00 a.m.\n",
    "print('Verificando si todos los pedidos fueron realizados el miercoles a las 2:00 a.m.')\n",
    "print()\n",
    "instacart_orders[instacart_orders.duplicated() == True]"
   ]
  },
  {
   "cell_type": "markdown",
   "id": "vu2OWyoqwOx5",
   "metadata": {
    "id": "vu2OWyoqwOx5"
   },
   "source": [
    "¿Qué sugiere este resultado?\n",
    "\n",
    "**Me sugiere que fue un error de sistema, ya que son 15 ordenes, todas el mismo día (miércoles) a las 2:00 a.m., por ello, se eliminaran del dataset para evitar errores en los calculos.**"
   ]
  },
  {
   "cell_type": "code",
   "execution_count": 10,
   "id": "480563c7",
   "metadata": {
    "id": "480563c7"
   },
   "outputs": [
    {
     "name": "stdout",
     "output_type": "stream",
     "text": [
      "Eliminando duplicados explicitos y reseteo del indice\n",
      "\n",
      "<class 'pandas.core.frame.DataFrame'>\n",
      "RangeIndex: 478952 entries, 0 to 478951\n",
      "Data columns (total 6 columns):\n",
      " #   Column                  Non-Null Count   Dtype  \n",
      "---  ------                  --------------   -----  \n",
      " 0   order_id                478952 non-null  int64  \n",
      " 1   user_id                 478952 non-null  int64  \n",
      " 2   order_number            478952 non-null  int64  \n",
      " 3   order_dow               478952 non-null  int64  \n",
      " 4   order_hour_of_day       478952 non-null  int64  \n",
      " 5   days_since_prior_order  450135 non-null  float64\n",
      "dtypes: float64(1), int64(5)\n",
      "memory usage: 21.9 MB\n"
     ]
    }
   ],
   "source": [
    "# Elimina los pedidos duplicados\n",
    "print('Eliminando duplicados explicitos y reseteo del indice')\n",
    "print()\n",
    "instacart_orders = instacart_orders.drop_duplicates().reset_index(drop = True)\n",
    "instacart_orders.info()"
   ]
  },
  {
   "cell_type": "code",
   "execution_count": 11,
   "id": "0b2396a2",
   "metadata": {
    "id": "0b2396a2"
   },
   "outputs": [
    {
     "name": "stdout",
     "output_type": "stream",
     "text": [
      "Verificando si hay más filas duplicadas\n"
     ]
    },
    {
     "data": {
      "text/plain": [
       "0"
      ]
     },
     "execution_count": 11,
     "metadata": {},
     "output_type": "execute_result"
    }
   ],
   "source": [
    "# Vuelve a verificar si hay filas duplicadas\n",
    "print('Verificando si hay más filas duplicadas')\n",
    "instacart_orders.duplicated().sum()"
   ]
  },
  {
   "cell_type": "code",
   "execution_count": 12,
   "id": "f6113ef1",
   "metadata": {
    "id": "f6113ef1"
   },
   "outputs": [
    {
     "name": "stdout",
     "output_type": "stream",
     "text": [
      "Verificando ordenes duplicadas mediante su numero ID\n"
     ]
    },
    {
     "data": {
      "text/plain": [
       "0"
      ]
     },
     "execution_count": 12,
     "metadata": {},
     "output_type": "execute_result"
    }
   ],
   "source": [
    "# Vuelve a verificar únicamente si hay IDs duplicados de pedidos\n",
    "print('Verificando ordenes duplicadas mediante su numero ID')\n",
    "instacart_orders['order_id'].duplicated().sum()"
   ]
  },
  {
   "cell_type": "markdown",
   "id": "5e8905ae",
   "metadata": {
    "id": "5e8905ae"
   },
   "source": [
    "Describe brevemente tus hallazgos y lo que hiciste con ellos\n",
    "\n",
    "**Se reviso la existencia de duplicados en el DF instacart_orders, donde se hallaron 15 fila duplicadas, se reviso su contenido, y por las caracteristicas de sus valores, todo apunta a un error de sistema, por ello, se eliminaron del dataset, se reinicio el indice y se volvio a comprobar que en el dataset y en las ordenes no existieran duplicados.**"
   ]
  },
  {
   "cell_type": "markdown",
   "id": "5ebbdce3",
   "metadata": {},
   "source": [
    "\n",
    "<div class=\"alert alert-block alert-success\">\n",
    "<b>Comentario del revisor</b> <a class=\"tocSkip\"></a>\n",
    "\n",
    "Muy bien.</div>\n",
    "\n"
   ]
  },
  {
   "cell_type": "markdown",
   "id": "45e6bc46",
   "metadata": {
    "id": "45e6bc46"
   },
   "source": [
    "### `products` data frame"
   ]
  },
  {
   "cell_type": "code",
   "execution_count": 13,
   "id": "5f526b5b-8175-46fa-a0fd-441767d50e64",
   "metadata": {
    "id": "5f526b5b-8175-46fa-a0fd-441767d50e64"
   },
   "outputs": [
    {
     "name": "stdout",
     "output_type": "stream",
     "text": [
      "Verficando si existen filas duplicadas\n"
     ]
    },
    {
     "data": {
      "text/plain": [
       "0"
      ]
     },
     "execution_count": 13,
     "metadata": {},
     "output_type": "execute_result"
    }
   ],
   "source": [
    "# Verifica si hay filas totalmente duplicadas\n",
    "print('Verficando si existen filas duplicadas')\n",
    "products.duplicated().sum()"
   ]
  },
  {
   "cell_type": "code",
   "execution_count": 14,
   "id": "88daa4f4",
   "metadata": {
    "id": "88daa4f4"
   },
   "outputs": [
    {
     "name": "stdout",
     "output_type": "stream",
     "text": [
      "Revision de si hay departamentos duplicados en el DF mediante su numero ID\n",
      "49673\n",
      "\n",
      "Cantidad total de departamentos de la empresa\n",
      "21\n"
     ]
    }
   ],
   "source": [
    "# Revisa únicamente si hay ID de departamentos duplicados\n",
    "print('Revision de si hay departamentos duplicados en el DF mediante su numero ID')\n",
    "print(products['department_id'].duplicated().sum())\n",
    "print()\n",
    "print('Cantidad total de departamentos de la empresa')\n",
    "print(products['department_id'].nunique())"
   ]
  },
  {
   "cell_type": "code",
   "execution_count": 15,
   "id": "c773f0bf",
   "metadata": {
    "id": "c773f0bf"
   },
   "outputs": [
    {
     "name": "stdout",
     "output_type": "stream",
     "text": [
      "Cantidad de nombres duplicados de productos\n",
      "1361\n",
      "\n",
      "Cantidad de numeros ID duplicados por producto\n",
      "0\n"
     ]
    }
   ],
   "source": [
    "# Revisa únicamente si hay nombres duplicados de productos (convierte los nombres a letras mayúsculas para compararlos mejor)\n",
    "print('Cantidad de nombres duplicados de productos')\n",
    "print(products['product_name'].str.upper().duplicated().sum())\n",
    "print()\n",
    "print('Cantidad de numeros ID duplicados por producto')\n",
    "print(products['product_id'].duplicated().sum())\n"
   ]
  },
  {
   "cell_type": "code",
   "execution_count": 16,
   "id": "01efd02e",
   "metadata": {
    "id": "01efd02e"
   },
   "outputs": [
    {
     "name": "stdout",
     "output_type": "stream",
     "text": [
      "Revisando si hay nombres duplicados de productos que estan entre los duplicados y los que no son nulos\n",
      "0\n"
     ]
    }
   ],
   "source": [
    "# Revisa si hay nombres duplicados de productos no faltantes\n",
    "print('Revisando si hay nombres duplicados de productos que estan entre los duplicados y los que no son nulos')\n",
    "print(products[products['product_name'].str.upper().duplicated() & ~products['product_name'].isna()].duplicated().sum())"
   ]
  },
  {
   "cell_type": "markdown",
   "id": "9da8d293",
   "metadata": {
    "id": "9da8d293"
   },
   "source": [
    "Describe brevemente tus hallazgos y lo que hiciste con ellos.\n",
    "\n",
    "**Se hallo que no existian filas duplicadas en el DF de productos, se reviso los duplicados de departamento los cuales son bastantes debido a que se componen de bastantes productos**\n",
    "\n",
    "**Ademas, se calculo la cantidad de nombres duplicados que son hartos, pero todos son unicos en el DF con su ID, por ultimo no existen duplicados los duplicados y los que no son nulos**"
   ]
  },
  {
   "cell_type": "markdown",
   "id": "30bcc06d",
   "metadata": {},
   "source": [
    "\n",
    "<div class=\"alert alert-block alert-success\">\n",
    "<b>Comentario del revisor</b> <a class=\"tocSkip\"></a>\n",
    "\n",
    "Perfecto.</div>\n",
    "\n"
   ]
  },
  {
   "cell_type": "markdown",
   "id": "60f30db1",
   "metadata": {
    "id": "60f30db1"
   },
   "source": [
    "### `departments` data frame"
   ]
  },
  {
   "cell_type": "code",
   "execution_count": 17,
   "id": "fb410ad4-0fbf-4b80-bb09-23fdea79afe3",
   "metadata": {
    "id": "fb410ad4-0fbf-4b80-bb09-23fdea79afe3"
   },
   "outputs": [
    {
     "name": "stdout",
     "output_type": "stream",
     "text": [
      "Revisando si existen filas duplicadas en el DF de departamentos\n"
     ]
    },
    {
     "data": {
      "text/plain": [
       "0"
      ]
     },
     "execution_count": 17,
     "metadata": {},
     "output_type": "execute_result"
    }
   ],
   "source": [
    "# Revisa si hay filas totalmente duplicadas\n",
    "print('Revisando si existen filas duplicadas en el DF de departamentos')\n",
    "departments.duplicated().sum()"
   ]
  },
  {
   "cell_type": "code",
   "execution_count": 18,
   "id": "332b12bb",
   "metadata": {
    "id": "332b12bb"
   },
   "outputs": [
    {
     "name": "stdout",
     "output_type": "stream",
     "text": [
      "Verificando si existe numeros de ID de departamentos duplicados\n"
     ]
    },
    {
     "data": {
      "text/plain": [
       "0"
      ]
     },
     "execution_count": 18,
     "metadata": {},
     "output_type": "execute_result"
    }
   ],
   "source": [
    "# Revisa únicamente si hay IDs duplicadas de productos\n",
    "print('Verificando si existe numeros de ID de departamentos duplicados')\n",
    "departments['department_id'].duplicated().sum()"
   ]
  },
  {
   "cell_type": "markdown",
   "id": "bd30d78e",
   "metadata": {
    "id": "bd30d78e"
   },
   "source": [
    "Describe brevemente tus hallazgos y lo que hiciste con ellos.\n",
    "\n",
    "**DF sin duplicados, por ello, podemos seguir el analisis, falta verificar si tiene valores ausentes**"
   ]
  },
  {
   "cell_type": "markdown",
   "id": "889349c1",
   "metadata": {
    "id": "889349c1"
   },
   "source": [
    "### `aisles` data frame"
   ]
  },
  {
   "cell_type": "code",
   "execution_count": 19,
   "id": "9da89fb9-4679-40f5-ad0d-c34df753a3f8",
   "metadata": {
    "id": "9da89fb9-4679-40f5-ad0d-c34df753a3f8"
   },
   "outputs": [
    {
     "name": "stdout",
     "output_type": "stream",
     "text": [
      "Revisando si existen filas duplicadas en el DF de pasillos\n"
     ]
    },
    {
     "data": {
      "text/plain": [
       "0"
      ]
     },
     "execution_count": 19,
     "metadata": {},
     "output_type": "execute_result"
    }
   ],
   "source": [
    "# Revisa si hay filas totalmente duplicadas\n",
    "print('Revisando si existen filas duplicadas en el DF de pasillos')\n",
    "aisles.duplicated().sum()"
   ]
  },
  {
   "cell_type": "code",
   "execution_count": 20,
   "id": "da7c2822",
   "metadata": {
    "id": "da7c2822"
   },
   "outputs": [
    {
     "name": "stdout",
     "output_type": "stream",
     "text": [
      "Verificando si existe numeros de ID de pasillos duplicados\n"
     ]
    },
    {
     "data": {
      "text/plain": [
       "0"
      ]
     },
     "execution_count": 20,
     "metadata": {},
     "output_type": "execute_result"
    }
   ],
   "source": [
    "# Revisa únicamente si hay IDs duplicadas de productos\n",
    "print('Verificando si existe numeros de ID de pasillos duplicados')\n",
    "aisles['aisle_id'].duplicated().sum()"
   ]
  },
  {
   "cell_type": "markdown",
   "id": "ac63826f",
   "metadata": {
    "id": "ac63826f"
   },
   "source": [
    "Describe brevemente tus hallazgos y lo que hiciste con ellos.\n",
    "\n",
    "**DF sin duplicados, por ello, podemos seguir el analisis, falta verificar si tiene valores ausentes**"
   ]
  },
  {
   "cell_type": "markdown",
   "id": "274cd06a",
   "metadata": {
    "id": "274cd06a"
   },
   "source": [
    "### `order_products` data frame"
   ]
  },
  {
   "cell_type": "code",
   "execution_count": 21,
   "id": "52326689-84a8-4b8f-a881-7c68780f62c9",
   "metadata": {
    "id": "52326689-84a8-4b8f-a881-7c68780f62c9"
   },
   "outputs": [
    {
     "name": "stdout",
     "output_type": "stream",
     "text": [
      "Revisando si existen filas duplicadas en el DF de articulos en pedidos\n"
     ]
    },
    {
     "data": {
      "text/plain": [
       "0"
      ]
     },
     "execution_count": 21,
     "metadata": {},
     "output_type": "execute_result"
    }
   ],
   "source": [
    "# Revisa si hay filas totalmente duplicadas\n",
    "print('Revisando si existen filas duplicadas en el DF de articulos en pedidos')\n",
    "order_products.duplicated().sum()"
   ]
  },
  {
   "cell_type": "code",
   "execution_count": 22,
   "id": "7b861391",
   "metadata": {
    "id": "7b861391"
   },
   "outputs": [
    {
     "name": "stdout",
     "output_type": "stream",
     "text": [
      "Cantidad de duplicados en columna \"order_id\"\n",
      "4094961\n",
      "\n",
      "Cantidad de duplicados en columna \"product_id\"\n",
      "4499434\n",
      "\n",
      "Cantidad de duplicados en columna \"add_to_cart_order\"\n",
      "4544942\n",
      "\n",
      "Cantidad de duplicados en columna \"reordered\"\n",
      "4545005\n"
     ]
    }
   ],
   "source": [
    "# Vuelve a verificar si hay cualquier otro duplicado engañoso\n",
    "print('Cantidad de duplicados en columna \"order_id\"')\n",
    "print(order_products['order_id'].duplicated().sum())\n",
    "print()\n",
    "print('Cantidad de duplicados en columna \"product_id\"')\n",
    "print(order_products['product_id'].duplicated().sum())\n",
    "print()\n",
    "print('Cantidad de duplicados en columna \"add_to_cart_order\"')\n",
    "print(order_products['add_to_cart_order'].duplicated().sum())\n",
    "print()\n",
    "print('Cantidad de duplicados en columna \"reordered\"')\n",
    "print(order_products['reordered'].duplicated().sum())"
   ]
  },
  {
   "cell_type": "markdown",
   "id": "0b890492",
   "metadata": {
    "id": "0b890492"
   },
   "source": [
    "Describe brevemente tus hallazgos y lo que hiciste con ellos.\n",
    "\n",
    "**El DF no genera ninguna fila duplicada, pero cada columna por separado tiene muchos duplicados, ya que el DF muestra todos los productos de cada pedido, con la secuencia de elección y si ya fue pedido anteriormente o no**"
   ]
  },
  {
   "cell_type": "markdown",
   "id": "12e0d6e1",
   "metadata": {},
   "source": [
    "\n",
    "<div class=\"alert alert-block alert-success\">\n",
    "<b>Comentario del revisor</b> <a class=\"tocSkip\"></a>\n",
    "\n",
    "Muy buena seccion.</div>\n",
    "\n"
   ]
  },
  {
   "cell_type": "markdown",
   "id": "1e46de76",
   "metadata": {
    "id": "1e46de76"
   },
   "source": [
    "## Encuentra y elimina los valores ausentes\n",
    "\n",
    "Al trabajar con valores duplicados, pudimos observar que también nos falta investigar valores ausentes:\n",
    "\n",
    "* La columna `'product_name'` de la tabla products.\n",
    "* La columna `'days_since_prior_order'` de la tabla orders.\n",
    "* La columna `'add_to_cart_order'` de la tabla order_productos."
   ]
  },
  {
   "cell_type": "markdown",
   "id": "c0aebd78",
   "metadata": {
    "id": "c0aebd78"
   },
   "source": [
    "### `products` data frame"
   ]
  },
  {
   "cell_type": "code",
   "execution_count": 23,
   "id": "fe4a8b0f",
   "metadata": {
    "id": "fe4a8b0f"
   },
   "outputs": [
    {
     "name": "stdout",
     "output_type": "stream",
     "text": [
      "DF de los valores ausentes en el DF de productos\n"
     ]
    },
    {
     "data": {
      "text/html": [
       "<div>\n",
       "<style scoped>\n",
       "    .dataframe tbody tr th:only-of-type {\n",
       "        vertical-align: middle;\n",
       "    }\n",
       "\n",
       "    .dataframe tbody tr th {\n",
       "        vertical-align: top;\n",
       "    }\n",
       "\n",
       "    .dataframe thead th {\n",
       "        text-align: right;\n",
       "    }\n",
       "</style>\n",
       "<table border=\"1\" class=\"dataframe\">\n",
       "  <thead>\n",
       "    <tr style=\"text-align: right;\">\n",
       "      <th></th>\n",
       "      <th>product_id</th>\n",
       "      <th>product_name</th>\n",
       "      <th>aisle_id</th>\n",
       "      <th>department_id</th>\n",
       "    </tr>\n",
       "  </thead>\n",
       "  <tbody>\n",
       "    <tr>\n",
       "      <th>37</th>\n",
       "      <td>38</td>\n",
       "      <td>NaN</td>\n",
       "      <td>100</td>\n",
       "      <td>21</td>\n",
       "    </tr>\n",
       "    <tr>\n",
       "      <th>71</th>\n",
       "      <td>72</td>\n",
       "      <td>NaN</td>\n",
       "      <td>100</td>\n",
       "      <td>21</td>\n",
       "    </tr>\n",
       "    <tr>\n",
       "      <th>109</th>\n",
       "      <td>110</td>\n",
       "      <td>NaN</td>\n",
       "      <td>100</td>\n",
       "      <td>21</td>\n",
       "    </tr>\n",
       "    <tr>\n",
       "      <th>296</th>\n",
       "      <td>297</td>\n",
       "      <td>NaN</td>\n",
       "      <td>100</td>\n",
       "      <td>21</td>\n",
       "    </tr>\n",
       "    <tr>\n",
       "      <th>416</th>\n",
       "      <td>417</td>\n",
       "      <td>NaN</td>\n",
       "      <td>100</td>\n",
       "      <td>21</td>\n",
       "    </tr>\n",
       "    <tr>\n",
       "      <th>...</th>\n",
       "      <td>...</td>\n",
       "      <td>...</td>\n",
       "      <td>...</td>\n",
       "      <td>...</td>\n",
       "    </tr>\n",
       "    <tr>\n",
       "      <th>49552</th>\n",
       "      <td>49553</td>\n",
       "      <td>NaN</td>\n",
       "      <td>100</td>\n",
       "      <td>21</td>\n",
       "    </tr>\n",
       "    <tr>\n",
       "      <th>49574</th>\n",
       "      <td>49575</td>\n",
       "      <td>NaN</td>\n",
       "      <td>100</td>\n",
       "      <td>21</td>\n",
       "    </tr>\n",
       "    <tr>\n",
       "      <th>49640</th>\n",
       "      <td>49641</td>\n",
       "      <td>NaN</td>\n",
       "      <td>100</td>\n",
       "      <td>21</td>\n",
       "    </tr>\n",
       "    <tr>\n",
       "      <th>49663</th>\n",
       "      <td>49664</td>\n",
       "      <td>NaN</td>\n",
       "      <td>100</td>\n",
       "      <td>21</td>\n",
       "    </tr>\n",
       "    <tr>\n",
       "      <th>49668</th>\n",
       "      <td>49669</td>\n",
       "      <td>NaN</td>\n",
       "      <td>100</td>\n",
       "      <td>21</td>\n",
       "    </tr>\n",
       "  </tbody>\n",
       "</table>\n",
       "<p>1258 rows × 4 columns</p>\n",
       "</div>"
      ],
      "text/plain": [
       "       product_id product_name  aisle_id  department_id\n",
       "37             38          NaN       100             21\n",
       "71             72          NaN       100             21\n",
       "109           110          NaN       100             21\n",
       "296           297          NaN       100             21\n",
       "416           417          NaN       100             21\n",
       "...           ...          ...       ...            ...\n",
       "49552       49553          NaN       100             21\n",
       "49574       49575          NaN       100             21\n",
       "49640       49641          NaN       100             21\n",
       "49663       49664          NaN       100             21\n",
       "49668       49669          NaN       100             21\n",
       "\n",
       "[1258 rows x 4 columns]"
      ]
     },
     "execution_count": 23,
     "metadata": {},
     "output_type": "execute_result"
    }
   ],
   "source": [
    "# Encuentra los valores ausentes en la columna 'product_name'\n",
    "print('DF de los valores ausentes en el DF de productos')\n",
    "products[products['product_name'].isna()]"
   ]
  },
  {
   "cell_type": "markdown",
   "id": "-A6x1AbJhjkp",
   "metadata": {
    "id": "-A6x1AbJhjkp"
   },
   "source": [
    "Describe brevemente cuáles son tus hallazgos.\n",
    "\n",
    "**Todos los valores ausentes encontrados se encuentran aasociados al pasillo 100 y al departamento 21**"
   ]
  },
  {
   "cell_type": "code",
   "execution_count": 24,
   "id": "e96167bc",
   "metadata": {
    "id": "e96167bc"
   },
   "outputs": [
    {
     "name": "stdout",
     "output_type": "stream",
     "text": [
      "Numero ID de pasillos que tienen valores ausentes\n"
     ]
    },
    {
     "data": {
      "text/plain": [
       "100"
      ]
     },
     "execution_count": 24,
     "metadata": {},
     "output_type": "execute_result"
    }
   ],
   "source": [
    "#  ¿Todos los nombres de productos ausentes están relacionados con el pasillo con ID 100?\n",
    "print('Numero ID de pasillos que tienen valores ausentes')\n",
    "products[products['product_name'].isna()]['aisle_id'].unique()[0]"
   ]
  },
  {
   "cell_type": "markdown",
   "id": "WRpIfXRphpSL",
   "metadata": {
    "id": "WRpIfXRphpSL"
   },
   "source": [
    "Describe brevemente cuáles son tus hallazgos.\n",
    "\n",
    "**Todos los valores hallados se encuentran ingresados en el pasillo 100**"
   ]
  },
  {
   "cell_type": "code",
   "execution_count": 25,
   "id": "8fd0a541",
   "metadata": {
    "id": "8fd0a541"
   },
   "outputs": [
    {
     "name": "stdout",
     "output_type": "stream",
     "text": [
      "Numero ID de departamentos que tienen valores ausentes\n"
     ]
    },
    {
     "data": {
      "text/plain": [
       "21"
      ]
     },
     "execution_count": 25,
     "metadata": {},
     "output_type": "execute_result"
    }
   ],
   "source": [
    "# ¿Todos los nombres de productos ausentes están relacionados con el departamento con ID 21?\n",
    "print('Numero ID de departamentos que tienen valores ausentes')\n",
    "products[products['product_name'].isna()]['department_id'].unique()[0]"
   ]
  },
  {
   "cell_type": "markdown",
   "id": "qDpdYn1Fht_I",
   "metadata": {
    "id": "qDpdYn1Fht_I"
   },
   "source": [
    "Describe brevemente cuáles son tus hallazgos.\n",
    "\n",
    "**Todos los valores hallados se encuentran ingresados en el departamento 21**"
   ]
  },
  {
   "cell_type": "code",
   "execution_count": 26,
   "id": "325c3464",
   "metadata": {
    "id": "325c3464"
   },
   "outputs": [
    {
     "name": "stdout",
     "output_type": "stream",
     "text": [
      "    aisle_id    aisle\n",
      "99       100  missing\n",
      "\n",
      "    department_id department\n",
      "20             21    missing\n"
     ]
    }
   ],
   "source": [
    "# Usa las tablas department y aisle para revisar los datos del pasillo con ID 100 y el departamento con ID 21.\n",
    "print(aisles[aisles['aisle_id']==100])\n",
    "print()\n",
    "print(departments[departments['department_id']==21])"
   ]
  },
  {
   "cell_type": "markdown",
   "id": "nqhSTUPhhvEJ",
   "metadata": {
    "id": "nqhSTUPhhvEJ"
   },
   "source": [
    "Describe brevemente cuáles son tus hallazgos.\n",
    "\n",
    "**Todos los valores ausentes hallados pertenecen al departamento y pasillo de perdidas (missing), ya sean productos rotos, mermados, devoluciones, etc.**"
   ]
  },
  {
   "cell_type": "code",
   "execution_count": 27,
   "id": "6b295120",
   "metadata": {
    "id": "6b295120"
   },
   "outputs": [
    {
     "name": "stdout",
     "output_type": "stream",
     "text": [
      "<class 'pandas.core.frame.DataFrame'>\n",
      "RangeIndex: 49694 entries, 0 to 49693\n",
      "Data columns (total 4 columns):\n",
      " #   Column         Non-Null Count  Dtype \n",
      "---  ------         --------------  ----- \n",
      " 0   product_id     49694 non-null  int64 \n",
      " 1   product_name   49694 non-null  object\n",
      " 2   aisle_id       49694 non-null  int64 \n",
      " 3   department_id  49694 non-null  int64 \n",
      "dtypes: int64(3), object(1)\n",
      "memory usage: 1.5+ MB\n"
     ]
    }
   ],
   "source": [
    "# Completa los nombres de productos ausentes con 'Unknown'\n",
    "products['product_name'].fillna('unknown',inplace = True)\n",
    "products.info()"
   ]
  },
  {
   "cell_type": "markdown",
   "id": "fc70e5ad",
   "metadata": {
    "id": "fc70e5ad"
   },
   "source": [
    "Describe brevemente tus hallazgos y lo que hiciste con ellos.\n",
    "\n",
    "**Se reemplazaron todos los valores ausente por desconocido ('unknown'), ya que no es posible saber lo que realmente sucedio con esos productos.**"
   ]
  },
  {
   "cell_type": "markdown",
   "id": "bc3427e5",
   "metadata": {},
   "source": [
    "\n",
    "<div class=\"alert alert-block alert-success\">\n",
    "<b>Comentario del revisor</b> <a class=\"tocSkip\"></a>\n",
    "\n",
    "Muy bien.</div>\n",
    "\n"
   ]
  },
  {
   "cell_type": "markdown",
   "id": "7eb45c86",
   "metadata": {
    "id": "7eb45c86"
   },
   "source": [
    "### `orders` data frame"
   ]
  },
  {
   "cell_type": "code",
   "execution_count": 28,
   "id": "93e41d96",
   "metadata": {
    "id": "93e41d96"
   },
   "outputs": [
    {
     "name": "stdout",
     "output_type": "stream",
     "text": [
      "Buscando valores ausentes en DF de pedidos\n"
     ]
    },
    {
     "data": {
      "text/plain": [
       "order_id                      0\n",
       "user_id                       0\n",
       "order_number                  0\n",
       "order_dow                     0\n",
       "order_hour_of_day             0\n",
       "days_since_prior_order    28817\n",
       "dtype: int64"
      ]
     },
     "execution_count": 28,
     "metadata": {},
     "output_type": "execute_result"
    }
   ],
   "source": [
    "# Encuentra los valores ausentes\n",
    "print('Buscando valores ausentes en DF de pedidos')\n",
    "instacart_orders.isna().sum()"
   ]
  },
  {
   "cell_type": "code",
   "execution_count": 29,
   "id": "166e5a86",
   "metadata": {
    "id": "166e5a86"
   },
   "outputs": [
    {
     "name": "stdout",
     "output_type": "stream",
     "text": [
      "Verificando si todos los valores ausente son clientes nuevos (primera compra)\n"
     ]
    },
    {
     "data": {
      "text/plain": [
       "1"
      ]
     },
     "execution_count": 29,
     "metadata": {},
     "output_type": "execute_result"
    }
   ],
   "source": [
    "# ¿Hay algún valor ausente que no sea el primer pedido del cliente?\n",
    "print('Verificando si todos los valores ausente son clientes nuevos (primera compra)')\n",
    "instacart_orders[instacart_orders['order_number']==1]['order_number'].unique()[0]"
   ]
  },
  {
   "cell_type": "markdown",
   "id": "0e9d206d",
   "metadata": {},
   "source": [
    "\n",
    "<div class=\"alert alert-block alert-danger\">\n",
    "<b>Comentario del revisor</b> <a class=\"tocSkip\"></a>\n",
    "\n",
    "En este caso que corresponden a clientes nuevos por lo que tiene sentido que sea NaN o a lo sumo de valor 0 (no habia antes) por lo que imputar por la media no es bueno ya que estaria sesgando tus datos, debido a que sabemos porque tiene ese valor.</div>\n",
    "\n",
    "\n",
    "<div class=\"alert alert-block alert-success\">\n",
    "\n",
    "<b>Comentario del revisor #2</b> <a class=\"tocSkip\"></a>\n",
    "\n",
    "Corregido Javier, como bien decis esta ocupado pero podria figurar, si quisieras tenerlo como valor tambien podrias elegir el -1. Muy bien.\n",
    "</div>\n"
   ]
  },
  {
   "cell_type": "markdown",
   "id": "96be7932",
   "metadata": {},
   "source": [
    "<div class=\"alert alert-block alert-info\">\n",
    "<b>Respuesta del estudiante</b> <a class=\"tocSkip\"></a>\n",
    "\n",
    "Hola Ezequiel, muchas gracias por el comentario, la verdad es que ocupe la media, ya que en el DF original existe ya\n",
    "el valor 0 en la columna \"days_since_prior_order\", por lo que asumi, que representa a los clientes que su penultima compra la realizaron antes de 1 dia, es decir, compraron 2 veces el mismo dia.\n",
    "    \n",
    "Por ello, elegí la media, ya que si los dejaba nulos, es como un valor ausente, y no los podria considerar para el analisis del caso.\n",
    "    \n",
    "Por ultimo, como en ambos casos, ya sea reemplazar por la media o poner 0 es un sin sentido, ya que ninguno concuerda con la primera compra de un cliente, por ello, dejare los valores ausentes (NaN), ya que es el dato que mas representa y tiene sentido con el DF y el analisis del caso.\n",
    "</div>"
   ]
  },
  {
   "cell_type": "code",
   "execution_count": 30,
   "id": "54c031a1",
   "metadata": {},
   "outputs": [
    {
     "name": "stdout",
     "output_type": "stream",
     "text": [
      "Dejando el DF original con los valores ausentes de la columna\n",
      "\n",
      "<class 'pandas.core.frame.DataFrame'>\n",
      "RangeIndex: 478952 entries, 0 to 478951\n",
      "Data columns (total 6 columns):\n",
      " #   Column                  Non-Null Count   Dtype  \n",
      "---  ------                  --------------   -----  \n",
      " 0   order_id                478952 non-null  int64  \n",
      " 1   user_id                 478952 non-null  int64  \n",
      " 2   order_number            478952 non-null  int64  \n",
      " 3   order_dow               478952 non-null  int64  \n",
      " 4   order_hour_of_day       478952 non-null  int64  \n",
      " 5   days_since_prior_order  450135 non-null  float64\n",
      "dtypes: float64(1), int64(5)\n",
      "memory usage: 21.9 MB\n"
     ]
    }
   ],
   "source": [
    "print('Dejando el DF original con los valores ausentes de la columna')\n",
    "print()\n",
    "instacart_orders.info()"
   ]
  },
  {
   "cell_type": "markdown",
   "id": "4e23d089",
   "metadata": {
    "id": "4e23d089"
   },
   "source": [
    "Describe brevemente tus hallazgos y lo que hiciste con ellos.\n",
    "\n",
    "**Fueron encontrados 28817 valores ausentes en la columna dias desde la ultima compra (\"days_since_prior_order\"), los cuales todos corresponden a compras de clientes nuevos (primera compra), ya que el sistema lo registra como valor nulo, por ello, se dejaran como NaN, ya que reemplazarlos por cualquier otro valor no tiene sentido, por lo que no es representativo con la muestra y con el analisis del caso**"
   ]
  },
  {
   "cell_type": "markdown",
   "id": "69dc9ca4",
   "metadata": {
    "id": "69dc9ca4"
   },
   "source": [
    "### `order_products` data frame"
   ]
  },
  {
   "cell_type": "code",
   "execution_count": 31,
   "id": "b8240253",
   "metadata": {
    "id": "b8240253"
   },
   "outputs": [
    {
     "name": "stdout",
     "output_type": "stream",
     "text": [
      "Buscando valores ausentes en DF de articulos en pedidos\n"
     ]
    },
    {
     "data": {
      "text/plain": [
       "order_id               0\n",
       "product_id             0\n",
       "add_to_cart_order    836\n",
       "reordered              0\n",
       "dtype: int64"
      ]
     },
     "execution_count": 31,
     "metadata": {},
     "output_type": "execute_result"
    }
   ],
   "source": [
    "# Encuentra los valores ausentes\n",
    "print('Buscando valores ausentes en DF de articulos en pedidos')\n",
    "order_products.isna().sum()"
   ]
  },
  {
   "cell_type": "code",
   "execution_count": 32,
   "id": "9a78e5ee",
   "metadata": {
    "id": "9a78e5ee"
   },
   "outputs": [
    {
     "name": "stdout",
     "output_type": "stream",
     "text": [
      "Valor minimo de la columna \"add_to_cart_order\"\n",
      "1.0\n",
      "\n",
      "Valor maximo de la columna \"add_to_cart_order\"\n",
      "64.0\n"
     ]
    }
   ],
   "source": [
    "# ¿Cuáles son los valores mínimos y máximos en esta columna?\n",
    "print('Valor minimo de la columna \"add_to_cart_order\"')\n",
    "print(order_products['add_to_cart_order'].min())\n",
    "print()\n",
    "print('Valor maximo de la columna \"add_to_cart_order\"')\n",
    "print(order_products['add_to_cart_order'].max())"
   ]
  },
  {
   "cell_type": "markdown",
   "id": "-Z2Ja215jW78",
   "metadata": {
    "id": "-Z2Ja215jW78"
   },
   "source": [
    "Describe brevemente cuáles son tus hallazgos.\n",
    "\n",
    "**Existen 836 valores ausentes en la columna \"add_to_cart_order\",donde el valor minimo de la columna es de 1 y el maximo de 64**"
   ]
  },
  {
   "cell_type": "code",
   "execution_count": 33,
   "id": "ab9d0c2b",
   "metadata": {
    "id": "ab9d0c2b"
   },
   "outputs": [],
   "source": [
    "# Guarda todas las IDs de pedidos que tengan un valor ausente en 'add_to_cart_order'"
   ]
  },
  {
   "cell_type": "code",
   "execution_count": 34,
   "id": "54c31695",
   "metadata": {
    "id": "54c31695"
   },
   "outputs": [],
   "source": [
    "# ¿Todos los pedidos con valores ausentes tienen más de 64 productos?\n",
    "# Agrupa todos los pedidos con datos ausentes por su ID de pedido.\n",
    "# Cuenta el número de 'product_id' en cada pedido y revisa el valor mínimo del conteo."
   ]
  },
  {
   "cell_type": "markdown",
   "id": "0aee6a7b",
   "metadata": {},
   "source": [
    "<div class=\"alert alert-block alert-warning\">\n",
    "<b>Comentario del revisor </b> <a class=\"tocSkip\"></a>\n",
    "\n",
    "En razon de la pregunta si `¿Todos los pedidos con valores ausentes tienen más de 64 productos?`\n",
    "\n",
    "Podes buscar las `order_id` que tienen valores ausentes en la columna 'add_to_cart_order'.\n",
    "\n",
    "Después de identificar los IDs -unicos- de pedidos con valores ausentes, asegúrate de filtrar el DataFrame original para incluir solo las filas correspondientes a esos IDs de pedidos antes de realizar la agrupación (Verifica que se encuentren en el primer filtrado los datos). Esto asegurará que estás trabajando solo con los datos relevantes. (Como consejo utiliza en la agrupacion la id de orden pero utilizando el metodo unique para depurar)\n",
    "\n",
    "Al calcular la cantidad mínima de productos, asegúrate de que estás obteniendo la cantidad mínima de productos en un solo pedido con valores ausentes, no la cantidad mínima entre todos los pedidos agrupados. Revisa cómo estás aplicando la función de conteo y la función de mínimo para obtener el resultado correcto.\n",
    "</div>"
   ]
  },
  {
   "cell_type": "markdown",
   "id": "05ae383d",
   "metadata": {},
   "source": [
    "<div class=\"alert alert-block alert-info\">\n",
    "<b>Respuesta del estudiante</b> <a class=\"tocSkip\"></a>\n",
    "\n",
    "Leyendo tu comentario, encontre el sentido a la pregunta, ya que entendi que solo se intentaba comprobar que la plataforma ingresaba maximo 64 productos por orden, pero leyendo tu comentario y tu guia comprendi que se buscaba la cantidad de productos ingresado en cada orden, y cuanto era el minimo de productos que tenian las ordenes con valores ausentes.\n",
    "  \n",
    "A continuación, esta el rehecho el ejercicio.\n",
    "</div>\n",
    "\n",
    "<div class=\"alert alert-block alert-success\">\n",
    "\n",
    "<b>Comentario del revisor #2</b> <a class=\"tocSkip\"></a>\n",
    "\n",
    "Corregido, excelente.\n",
    "</div>"
   ]
  },
  {
   "cell_type": "code",
   "execution_count": 35,
   "id": "f4604e45",
   "metadata": {},
   "outputs": [
    {
     "name": "stdout",
     "output_type": "stream",
     "text": [
      "Obteniendo IDs unicos de pedidos que tienen valor ausente en columna \"add_to_cart_order\"\n",
      "\n",
      "[2449164 1968313 2926893 1717990 1959075  844733   61355  936852  264710\n",
      " 1564093  129627  293169 2849370 1386261 3308010  903110 2136777 3347453\n",
      " 1888628  165801 2094761 1038146 2997021  813364 2256933  171934 2409109\n",
      " 1730767 1169835  733526  404157 3125735  747668 1800005 1961723  871281\n",
      "  388234 1648217 1477139  102236 1021563 1832957 2721963  678116 1220886\n",
      " 1673227 2999801 1633337 2470674 2625444 1677118 2479011 3383594 1183255\n",
      " 1713430 2652650 1598369 1916118  854647 1302315  888470  180546 2621907\n",
      " 1308785 2729254    9310 2170451 2979697 1625713 1529171]\n"
     ]
    }
   ],
   "source": [
    "print('Obteniendo IDs unicos de pedidos que tienen valor ausente en columna \"add_to_cart_order\"')\n",
    "print()\n",
    "order_id_unicos_nan = order_products[order_products['add_to_cart_order'].isna()]['order_id'].unique()\n",
    "print(order_id_unicos_nan)"
   ]
  },
  {
   "cell_type": "code",
   "execution_count": 36,
   "id": "cce2ec75",
   "metadata": {},
   "outputs": [
    {
     "name": "stdout",
     "output_type": "stream",
     "text": [
      "Filtrando DF order_products con los IDs obtenidos\n",
      "\n",
      "         order_id  product_id  add_to_cart_order  reordered\n",
      "267       2094761       31469               57.0          1\n",
      "737       2449164        5068                NaN          0\n",
      "1742      2997021        4920               37.0          0\n",
      "3463       871281       40063               61.0          1\n",
      "3535       171934       36397                7.0          0\n",
      "...           ...         ...                ...        ...\n",
      "4543519   2621907       32018               28.0          1\n",
      "4544672    102236       34688               49.0          0\n",
      "4544708   2256933       41544               21.0          0\n",
      "4544771    180546       12741               46.0          1\n",
      "4544810   2136777       20072               10.0          0\n",
      "\n",
      "[5316 rows x 4 columns]\n"
     ]
    }
   ],
   "source": [
    "print('Filtrando DF order_products con los IDs obtenidos')\n",
    "print()\n",
    "df_filter_id_unicos = order_products[order_products['order_id'].isin(order_id_unicos_nan)]\n",
    "print(df_filter_id_unicos)"
   ]
  },
  {
   "cell_type": "code",
   "execution_count": 37,
   "id": "9b430d9f",
   "metadata": {},
   "outputs": [
    {
     "name": "stdout",
     "output_type": "stream",
     "text": [
      "Agrupando DF por IDs de orden, mostrando la cantidad total de productos que tiene cada orden con valores ausentes\n",
      "\n"
     ]
    },
    {
     "data": {
      "text/plain": [
       "order_id\n",
       "9310        65\n",
       "61355      127\n",
       "102236      95\n",
       "129627      69\n",
       "165801      70\n",
       "          ... \n",
       "2999801     70\n",
       "3125735     86\n",
       "3308010    115\n",
       "3347453     71\n",
       "3383594     69\n",
       "Name: product_id, Length: 70, dtype: int64"
      ]
     },
     "execution_count": 37,
     "metadata": {},
     "output_type": "execute_result"
    }
   ],
   "source": [
    "print('Agrupando DF por IDs de orden, mostrando la cantidad total de productos que tiene cada orden con valores ausentes')\n",
    "print() \n",
    "df_filter_id_unicos.groupby('order_id')['product_id'].nunique()"
   ]
  },
  {
   "cell_type": "code",
   "execution_count": 38,
   "id": "02c07a17",
   "metadata": {},
   "outputs": [
    {
     "name": "stdout",
     "output_type": "stream",
     "text": [
      "Aplicamos metodo min(), para obtener la cantidad minima de productos que tienen las ordenes con valores ausentes\n"
     ]
    },
    {
     "data": {
      "text/plain": [
       "65"
      ]
     },
     "execution_count": 38,
     "metadata": {},
     "output_type": "execute_result"
    }
   ],
   "source": [
    "print('Aplicamos metodo min(), para obtener la cantidad minima de productos que tienen las ordenes con valores ausentes')\n",
    "df_filter_id_unicos.groupby('order_id')['product_id'].nunique().min()"
   ]
  },
  {
   "cell_type": "markdown",
   "id": "p9V6pddtjglj",
   "metadata": {
    "id": "p9V6pddtjglj"
   },
   "source": [
    "Describe brevemente cuáles son tus hallazgos.\n",
    "\n",
    "**Luego de revisar el DF, se puede concluir que las ordenes que tienen valores ausentes, tienen minimo 65 productos adheridos en la orden.**"
   ]
  },
  {
   "cell_type": "code",
   "execution_count": 39,
   "id": "7a987d08",
   "metadata": {
    "id": "7a987d08"
   },
   "outputs": [
    {
     "name": "stdout",
     "output_type": "stream",
     "text": [
      "Reemplazando valores ausentes por \"999\" y cambiando a la columna su tipo de dato a entero (int)\n",
      "\n",
      "<class 'pandas.core.frame.DataFrame'>\n",
      "RangeIndex: 4545007 entries, 0 to 4545006\n",
      "Data columns (total 4 columns):\n",
      " #   Column             Non-Null Count    Dtype\n",
      "---  ------             --------------    -----\n",
      " 0   order_id           4545007 non-null  int64\n",
      " 1   product_id         4545007 non-null  int64\n",
      " 2   add_to_cart_order  4545007 non-null  int64\n",
      " 3   reordered          4545007 non-null  int64\n",
      "dtypes: int64(4)\n",
      "memory usage: 138.7 MB\n"
     ]
    }
   ],
   "source": [
    "# Remplaza los valores ausentes en la columna 'add_to_cart? con 999 y convierte la columna al tipo entero.\n",
    "print('Reemplazando valores ausentes por \"999\" y cambiando a la columna su tipo de dato a entero (int)')\n",
    "print()\n",
    "order_products['add_to_cart_order'].fillna(999,inplace=True)\n",
    "order_products['add_to_cart_order'] = order_products['add_to_cart_order'].astype('int')\n",
    "order_products.info(show_counts=True)"
   ]
  },
  {
   "cell_type": "markdown",
   "id": "fea4bcc7",
   "metadata": {
    "id": "fea4bcc7"
   },
   "source": [
    "Describe brevemente tus hallazgos y lo que hiciste con ellos.\n",
    "\n",
    "**Se realizo el reemplazo de valores ausentes por \"999\", por lo que el DF ya no tiene valores nulos**"
   ]
  },
  {
   "cell_type": "markdown",
   "id": "4a551f3e",
   "metadata": {},
   "source": [
    "<div class=\"alert alert-block alert-warning\">\n",
    "\n",
    "<b>Comentario del revisor</b> <a class=\"tocSkip\"></a>\n",
    "\n",
    "¿Por que crees que el maximo de `add_to_cart_order` se detiene en 64? ¿No crees que es un valor muy arbitrario?</div>"
   ]
  },
  {
   "cell_type": "markdown",
   "id": "0ed21c59",
   "metadata": {},
   "source": [
    "<div class=\"alert alert-block alert-info\">\n",
    "<b>Respuesta del estudiante</b> <a class=\"tocSkip\"></a>\n",
    "\n",
    "Se desconocen las razones, por que la plataforma registra solo los primeros 64 productos, pero esta respuesta fue en relación al erroneo cálculo anterior.\n",
    "</div>\n",
    "\n",
    "\n",
    "<div class=\"alert alert-block alert-success\">\n",
    "\n",
    "<b>Comentario del revisor #2</b> <a class=\"tocSkip\"></a>\n",
    "\n",
    "Esta bien. En este caso es muy probable que  64 sea el maximo de los no nulos  debido a como almacenaron los datos (int64).\n",
    "</div>"
   ]
  },
  {
   "cell_type": "markdown",
   "id": "RnplPFY1gSrb",
   "metadata": {
    "id": "RnplPFY1gSrb"
   },
   "source": [
    "## Conclusiones\n",
    "\n",
    "Escribe aquí tus conclusiones intermedias sobre el Paso 2. Preprocesamiento de los datos\n",
    "\n",
    "**Los DF pasaron por un analisis exploratorio de datos (EDA), el cual nos permite comenzar con los analisis para dar respuesta al proyecto**"
   ]
  },
  {
   "cell_type": "markdown",
   "id": "1196898b",
   "metadata": {},
   "source": [
    "<div class=\"alert alert-block alert-success\">\n",
    "\n",
    "<b>Comentario del revisor</b> <a class=\"tocSkip\"></a>\n",
    "\n",
    "Muy buena seccion.</div>"
   ]
  },
  {
   "cell_type": "markdown",
   "id": "UjrOIwTcz3ri",
   "metadata": {
    "id": "UjrOIwTcz3ri"
   },
   "source": [
    "# Paso 3. Análisis de los datos\n",
    "\n",
    "Una vez los datos estén procesados y listos, haz el siguiente análisis:"
   ]
  },
  {
   "cell_type": "markdown",
   "id": "turkish-kidney",
   "metadata": {
    "id": "turkish-kidney"
   },
   "source": [
    "# [A] Fácil (deben completarse todos para aprobar)\n",
    "\n",
    "1. Verifica que los valores en las columnas `'order_hour_of_day'` y `'order_dow'` en la tabla orders sean razonables (es decir, `'order_hour_of_day'` oscile entre 0 y 23 y `'order_dow'` oscile entre 0 y 6).\n",
    "2. Crea un gráfico que muestre el número de personas que hacen pedidos dependiendo de la hora del día.\n",
    "3. Crea un gráfico que muestre qué día de la semana la gente hace sus compras.\n",
    "4. Crea un gráfico que muestre el tiempo que la gente espera hasta hacer su siguiente pedido, y comenta sobre los valores mínimos y máximos."
   ]
  },
  {
   "cell_type": "markdown",
   "id": "short-capability",
   "metadata": {
    "id": "short-capability"
   },
   "source": [
    "### [A1] Verifica que los valores sean sensibles"
   ]
  },
  {
   "cell_type": "code",
   "execution_count": 40,
   "id": "growing-fruit",
   "metadata": {
    "id": "growing-fruit"
   },
   "outputs": [
    {
     "name": "stdout",
     "output_type": "stream",
     "text": [
      "Verificando los maximos y minimos de las columnas \"order_hour_of_day\" y \"oder_dow\":\n",
      "\n",
      "- El valor maximo de la columna \"order_hour_of_day\" es 23 y el valor minimo es 0\n",
      "- El valor maximo de la columna \"order_dow\" es 6 y el valor minimo es 0\n"
     ]
    }
   ],
   "source": [
    "print('Verificando los maximos y minimos de las columnas \"order_hour_of_day\" y \"oder_dow\":')\n",
    "print()\n",
    "if((instacart_orders['order_hour_of_day'].max() <= 23) & (instacart_orders['order_hour_of_day'].min() >= 0)):\n",
    "    print('- El valor maximo de la columna \"order_hour_of_day\" es ' + str(instacart_orders['order_hour_of_day'].max()) + ' y el valor minimo es ' + str(instacart_orders['order_hour_of_day'].min()))\n",
    "\n",
    "if((instacart_orders['order_dow'].max() <= 6) & (instacart_orders['order_dow'].min() >= 0)):\n",
    "    print('- El valor maximo de la columna \"order_dow\" es ' + str(instacart_orders['order_dow'].max()) + ' y el valor minimo es ' + str(instacart_orders['order_dow'].min()))"
   ]
  },
  {
   "cell_type": "markdown",
   "id": "hmR2GNQ6lCsX",
   "metadata": {
    "id": "hmR2GNQ6lCsX"
   },
   "source": [
    "Escribe aquí tus conclusiones\n",
    "\n",
    "**Ambas columnas tienen los valores correctos para la información que estan entregando**"
   ]
  },
  {
   "cell_type": "markdown",
   "id": "b35a5b5c",
   "metadata": {},
   "source": [
    "<div class=\"alert alert-block alert-success\">\n",
    "\n",
    "<b>Comentario del revisor</b> <a class=\"tocSkip\"></a>\n",
    "\n",
    "Excelente.</div>"
   ]
  },
  {
   "cell_type": "markdown",
   "id": "a6743a70",
   "metadata": {
    "id": "a6743a70"
   },
   "source": [
    "### [A2] Para cada hora del día, ¿cuántas personas hacen órdenes?"
   ]
  },
  {
   "cell_type": "code",
   "execution_count": 41,
   "id": "a36cca27",
   "metadata": {
    "id": "a36cca27"
   },
   "outputs": [
    {
     "name": "stdout",
     "output_type": "stream",
     "text": [
      "Grafica de un histograma para ver la cantidad de pedidos por hora\n"
     ]
    },
    {
     "data": {
      "image/png": "[encoded data removed]",
      "text/plain": [
       "<Figure size 720x360 with 1 Axes>"
      ]
     },
     "metadata": {
      "needs_background": "light"
     },
     "output_type": "display_data"
    }
   ],
   "source": [
    "print('Grafica de un histograma para ver la cantidad de pedidos por hora')\n",
    "instacart_orders['order_hour_of_day'].plot(\n",
    "    kind = 'hist',\n",
    "    title = 'Cantidad de pedidos por hora',\n",
    "    figsize = [10,5],\n",
    "    xlim = [0,23],\n",
    "    bins = 24,\n",
    "    color = 'lightblue',\n",
    "    edgecolor = 'black'\n",
    ")\n",
    "plt.legend(['Pedidos'])\n",
    "plt.xlabel('Horas del día')\n",
    "plt.ylabel('Cantidad de pedidos')\n",
    "plt.show()"
   ]
  },
  {
   "cell_type": "markdown",
   "id": "11270eed",
   "metadata": {
    "id": "11270eed"
   },
   "source": [
    "Escribe aquí tus conclusiones\n",
    "\n",
    "**El histograma gráfica la frecuencia de cada hora en el DF, la cual es representativa de la cantidad de pedidos por hora que hacen los clientes en la aplicación, siendo entre las 10 a 15 horas la mayor cantidad de pedidos**"
   ]
  },
  {
   "cell_type": "markdown",
   "id": "218fe56f",
   "metadata": {},
   "source": [
    "<div class=\"alert alert-block alert-success\">\n",
    "\n",
    "<b>Comentario del revisor</b> <a class=\"tocSkip\"></a>\n",
    "\n",
    "Perfecto.</div>"
   ]
  },
  {
   "cell_type": "markdown",
   "id": "documented-command",
   "metadata": {
    "id": "documented-command"
   },
   "source": [
    "### [A3] ¿Qué día de la semana compran víveres las personas?"
   ]
  },
  {
   "cell_type": "markdown",
   "id": "58f25346",
   "metadata": {},
   "source": [
    "<div class=\"alert alert-block alert-danger\">\n",
    "\n",
    "<b>Comentario del revisor</b> <a class=\"tocSkip\"></a>\n",
    "\n",
    "Cuidado, no estas calculando bien la frecuencia. Para esto debes llamar a la columna  `order_dow`y utilizar un value counts, recorda usar el metodo sort_index para que te organice bien el posterior grafico.\n",
    "</div>\n",
    "\n",
    "\n",
    "<div class=\"alert alert-block alert-success\">\n",
    "\n",
    "<b>Comentario del revisor #2</b> <a class=\"tocSkip\"></a>\n",
    "\n",
    "Corregido, excelente\n",
    "</div>"
   ]
  },
  {
   "cell_type": "markdown",
   "id": "b29d7f91",
   "metadata": {},
   "source": [
    "<div class=\"alert alert-block alert-info\">\n",
    "<b>Respuesta del estudiante</b> <a class=\"tocSkip\"></a>\n",
    "\n",
    "Corrección de Gráfica, donde se aprecia la cantidad correcta de pedidos por dia de la semana en la plataforma, por ello, indica los dias que mas viveres compran las personas.\n",
    "</div>"
   ]
  },
  {
   "cell_type": "code",
   "execution_count": 42,
   "id": "69a1a387",
   "metadata": {},
   "outputs": [
    {
     "name": "stdout",
     "output_type": "stream",
     "text": [
      "Grafica de un histograma para ver la cantidad de pedidos por dia de semana\n"
     ]
    },
    {
     "data": {
      "image/png": "[encoded data removed]",
      "text/plain": [
       "<Figure size 720x360 with 1 Axes>"
      ]
     },
     "metadata": {
      "needs_background": "light"
     },
     "output_type": "display_data"
    }
   ],
   "source": [
    "print('Grafica de un histograma para ver la cantidad de pedidos por dia de semana')\n",
    "instacart_orders['order_dow'].value_counts().sort_index().plot(\n",
    "    kind = 'bar',\n",
    "    title = 'Cantidad de pedidos por dia de semana',\n",
    "    figsize = [10,5],\n",
    "    xlim = [0,6],\n",
    "    color = 'lightblue',\n",
    "    edgecolor = 'black'\n",
    ")\n",
    "plt.legend(['Pedidos'])\n",
    "plt.xlabel('Dias de la semana')\n",
    "plt.ylabel('Cantidad de pedidos')\n",
    "plt.show()"
   ]
  },
  {
   "cell_type": "markdown",
   "id": "34490743",
   "metadata": {},
   "source": [
    "<div class=\"alert alert-block alert-info\">\n",
    "<b>2da Respuesta del estudiante</b> <a class=\"tocSkip\"></a>\n",
    "\n",
    "El error cometido en el primer histograma, esta en la cantidad de bins, ingrese 6 bins, lo que agrupo los valores de frecuencia entre los dias, pero al ingresar 7, se ve la frecuencia correpondiente a cada dia, aunque comparando ambas graficas, la más clara, es la gráfica de barras.\n",
    "</div>"
   ]
  },
  {
   "cell_type": "code",
   "execution_count": 43,
   "id": "7a9620d4",
   "metadata": {},
   "outputs": [
    {
     "name": "stdout",
     "output_type": "stream",
     "text": [
      "Grafica de un histograma para ver la cantidad de pedidos por dia de semana\n"
     ]
    },
    {
     "data": {
      "image/png": "[encoded data removed]",
      "text/plain": [
       "<Figure size 720x360 with 1 Axes>"
      ]
     },
     "metadata": {
      "needs_background": "light"
     },
     "output_type": "display_data"
    }
   ],
   "source": [
    "print('Grafica de un histograma para ver la cantidad de pedidos por dia de semana')\n",
    "instacart_orders['order_dow'].plot(\n",
    "    kind = 'hist',\n",
    "    title = 'Cantidad de pedidos por dia de semana',\n",
    "    figsize = [10,5],\n",
    "    xlim = [0,6],\n",
    "    bins = 7,\n",
    "    color = 'lightblue',\n",
    "    edgecolor = 'black'\n",
    ")\n",
    "plt.legend(['Pedidos'])\n",
    "plt.xlabel('Dias de la semana')\n",
    "plt.ylabel('Cantidad de pedidos')\n",
    "plt.show()"
   ]
  },
  {
   "cell_type": "markdown",
   "id": "5449c07e",
   "metadata": {},
   "source": [
    "<div class=\"alert alert-block alert-info\">\n",
    "<b>Respuesta del estudiante</b> <a class=\"tocSkip\"></a>\n",
    "\n",
    "<b>Conlusiones</b> <a class=\"tocSkip\"></a>\n",
    "    \n",
    "Este histograma gráfica la frecuencia de pedidos por dia de la semana, donde es posible apreciar que todos los dias de la semana se generan aproximadamente más de 60.000 pedidos, pero los dias Domingos y Lunes es donde la plataforma genera más entregas, ya que los pedidos superan las 80.000 ordenes.\n",
    "\n",
    "</div>"
   ]
  },
  {
   "cell_type": "markdown",
   "id": "cutting-concert",
   "metadata": {
    "id": "cutting-concert"
   },
   "source": [
    "### [A4] ¿Cuánto tiempo esperan las personas hasta hacer otro pedido? Comenta sobre los valores mínimos y máximos."
   ]
  },
  {
   "cell_type": "markdown",
   "id": "20b1d955",
   "metadata": {},
   "source": [
    "<div class=\"alert alert-block alert-danger\">\n",
    "\n",
    "<b>Comentario del revisor</b> <a class=\"tocSkip\"></a>\n",
    "\n",
    "El grafico esta bien pero al imputar por la media en vez de dejar los nan te quedara una distribucion sesgada.\n",
    "</div>\n",
    "\n",
    "\n",
    "<div class=\"alert alert-block alert-success\">\n",
    "\n",
    "  <b>Comentario del revisor #2</b> <a class=\"tocSkip\"></a>\n",
    "\n",
    "  Corregido.\n",
    "</div>"
   ]
  },
  {
   "cell_type": "markdown",
   "id": "a31f9db9",
   "metadata": {},
   "source": [
    "<div class=\"alert alert-block alert-info\">\n",
    "<b>Respuesta del estudiante</b> <a class=\"tocSkip\"></a>\n",
    "\n",
    "    \n",
    "Gráfica de datos recalculada, sin sesgar datos.\n",
    "\n",
    "\n",
    "</div>"
   ]
  },
  {
   "cell_type": "code",
   "execution_count": 46,
   "id": "bad28266",
   "metadata": {},
   "outputs": [
    {
     "name": "stdout",
     "output_type": "stream",
     "text": [
      "Grafica de un histograma para ver la periodicidad de compras de los clientes\n"
     ]
    },
    {
     "data": {
      "image/png": "[encoded data removed]",
      "text/plain": [
       "<Figure size 720x360 with 1 Axes>"
      ]
     },
     "metadata": {
      "needs_background": "light"
     },
     "output_type": "display_data"
    },
    {
     "name": "stdout",
     "output_type": "stream",
     "text": [
      "El valor maximo de periodicidad de pedidos es:\n",
      "51337\n",
      "\n",
      "El valor minimo de periodicidad de pedidos es:\n",
      "2640\n"
     ]
    }
   ],
   "source": [
    "print('Grafica de un histograma para ver la periodicidad de compras de los clientes')\n",
    "instacart_orders['days_since_prior_order'].plot(\n",
    "    kind = 'hist',\n",
    "    title = 'Periodicidad de pedidos en en el mes',\n",
    "    figsize = [10,5],\n",
    "    bins = 31,\n",
    "    xlim = [0,30],\n",
    "    color = 'lightblue',\n",
    "    edgecolor = 'black'\n",
    ")\n",
    "plt.legend(['Pedidos'])\n",
    "plt.xlabel('Dias desde la ultima compra')\n",
    "plt.ylabel('Cantidad de pedidos')\n",
    "plt.show()\n",
    "\n",
    "print('El valor maximo de periodicidad de pedidos es:')\n",
    "print(instacart_orders['days_since_prior_order'].value_counts().max())\n",
    "print()\n",
    "print('El valor minimo de periodicidad de pedidos es:')\n",
    "print(instacart_orders['days_since_prior_order'].value_counts().min())"
   ]
  },
  {
   "cell_type": "markdown",
   "id": "discrete-vertex",
   "metadata": {
    "id": "discrete-vertex"
   },
   "source": [
    "Escribe aquí tus conclusiones\n",
    "\n",
    "**En este histograma se graficó la periodicidad con que los clientes hacen sus pedidos, donde se aprecia que la mayoria de clientes esperan 30 dias para hacer sus pedidos, y en una muy pequeña cantidad los clientes esperan 29 dias para realizar un nuevo pedido**\n",
    "\n",
    "**Si se analiza esta situación, puede deberse al dia de pago del salario de los clientes ya que la mayoria realizaria una compra mensual, y siendo el valor minimo de pedidos cada 29 dias, una dia antes del pago del salario a los clientes.**\n"
   ]
  },
  {
   "cell_type": "markdown",
   "id": "tight-staff",
   "metadata": {
    "id": "tight-staff"
   },
   "source": [
    "# [B] Intermedio (deben completarse todos para aprobar)\n",
    "\n",
    "1. ¿Existe alguna diferencia entre las distribuciones `'order_hour_of_day'` de los miércoles y los sábados? Traza gráficos de barra de `'order_hour_of_day'` para ambos días en la misma figura y describe las diferencias que observes.\n",
    "2. Grafica la distribución para el número de órdenes que hacen los clientes (es decir, cuántos clientes hicieron solo 1 pedido, cuántos hicieron 2, cuántos 3, y así sucesivamente...).\n",
    "3. ¿Cuáles son los 20 principales productos que se piden con más frecuencia (muestra su identificación y nombre)?"
   ]
  },
  {
   "cell_type": "markdown",
   "id": "packed-classic",
   "metadata": {
    "id": "packed-classic"
   },
   "source": [
    "### [B1] Diferencia entre miércoles y sábados para  `'order_hour_of_day'`. Traza gráficos de barra para los dos días y describe las diferencias que veas."
   ]
  },
  {
   "cell_type": "markdown",
   "id": "a9179386",
   "metadata": {},
   "source": [
    "<div class=\"alert alert-block alert-warning\">\n",
    "<b>Comentario del revisor</b> <a class=\"tocSkip\"></a>\n",
    "\n",
    "Una opcion para una mejor visualizacior seria concatenar ambas mascaras (Miercoles y Sabados) Y graficar en el mismo grafico (con un barplot) tanto los miercoles (con un color) como los sabados (con otro color). De esta manera la comparativa es mas legible y estetica.</div>"
   ]
  },
  {
   "cell_type": "markdown",
   "id": "4a8307c4",
   "metadata": {},
   "source": [
    "<div class=\"alert alert-block alert-info\">\n",
    "<b>Respuesta del estudiante</b> <a class=\"tocSkip\"></a>\n",
    "\n",
    "\n",
    "Gráfica de histogramas en conjunto para comparar y analizar.\n",
    "</div>\n",
    "\n",
    "\n",
    "<div class=\"alert alert-block alert-success\">\n",
    "\n",
    "<b>Comentario del revisor #2</b> <a class=\"tocSkip\"></a>\n",
    "\n",
    "Corregido, excelente\n",
    "</div>"
   ]
  },
  {
   "cell_type": "code",
   "execution_count": 47,
   "id": "e2aa84af",
   "metadata": {},
   "outputs": [
    {
     "name": "stdout",
     "output_type": "stream",
     "text": [
      "Grafica de histogramas para ver la cantidad de pedidos los dias Miércoles y Sábado\n"
     ]
    },
    {
     "data": {
      "image/png": "[encoded data removed]",
      "text/plain": [
       "<Figure size 1080x720 with 1 Axes>"
      ]
     },
     "metadata": {
      "needs_background": "light"
     },
     "output_type": "display_data"
    }
   ],
   "source": [
    "print('Grafica de histogramas para ver la cantidad de pedidos los dias Miércoles y Sábado')\n",
    "instacart_orders[instacart_orders['order_dow'] == 3]['order_hour_of_day'].plot(\n",
    "    kind = 'hist',\n",
    "    bins = 24,\n",
    "    color = 'blue',\n",
    "    edgecolor = 'black',\n",
    "    figsize = [15,10]\n",
    ")\n",
    "instacart_orders[instacart_orders['order_dow'] == 6]['order_hour_of_day'].plot(\n",
    "    kind = 'hist',\n",
    "    bins = 24,\n",
    "    alpha = 0.75,\n",
    "    color = 'lightblue',\n",
    "    edgecolor = 'black',\n",
    ")\n",
    "plt.title('Cantidad de pedidos por hora los dias Miércoles y Sábado')\n",
    "plt.xlabel('Horas del día')\n",
    "plt.ylabel('Cantidad de pedidos')\n",
    "plt.xlim([0,23])\n",
    "plt.legend(['Pedidos Miércoles','Pedidos Sábado'])\n",
    "plt.show()"
   ]
  },
  {
   "cell_type": "markdown",
   "id": "charitable-congo",
   "metadata": {
    "id": "charitable-congo"
   },
   "source": [
    "Escribe aquí tus conclusiones\n",
    "\n",
    "**Al comparar ambas graficas, la distribucion de los datos es bastante similar sobre todo en horario bajo de pedidos, para el horario alto de 10 a 15 horas, los dias Sábado se generan mas pedidos que los dias Miércoles**"
   ]
  },
  {
   "cell_type": "markdown",
   "id": "e3891143",
   "metadata": {
    "id": "e3891143"
   },
   "source": [
    "### [B2] ¿Cuál es la distribución para el número de pedidos por cliente?"
   ]
  },
  {
   "cell_type": "code",
   "execution_count": 48,
   "id": "9b7ddf89",
   "metadata": {},
   "outputs": [
    {
     "data": {
      "image/png": "[encoded data removed]",
      "text/plain": [
       "<Figure size 1080x720 with 1 Axes>"
      ]
     },
     "metadata": {
      "needs_background": "light"
     },
     "output_type": "display_data"
    }
   ],
   "source": [
    "instacart_orders.groupby('user_id')['order_number'].max().hist(\n",
    "    bins = 100,\n",
    "    color ='lightblue',\n",
    "    edgecolor = 'black',\n",
    "    figsize = [15,10],\n",
    "    grid = False\n",
    ")\n",
    "plt.title('Distribucion del numero de pedidos por cliente')\n",
    "plt.xlabel('Cantidad de Pedidos')\n",
    "plt.ylabel('Cantidad de Clientes')\n",
    "plt.xlim([1,100])\n",
    "plt.legend(['Pedidos'])\n",
    "plt.show()"
   ]
  },
  {
   "cell_type": "markdown",
   "id": "d2eff7d5",
   "metadata": {
    "id": "d2eff7d5"
   },
   "source": [
    "Escribe aquí tus conclusiones\n",
    "\n",
    "**La grafica muestra segun el numero maximo de pedidos por cliente, su distribución, donde se puede apreciar que la mayoria de los clientes han realizado 4 pedidos en la plataforma**"
   ]
  },
  {
   "cell_type": "markdown",
   "id": "7808abf6",
   "metadata": {},
   "source": [
    "<div class=\"alert alert-block alert-success\">\n",
    "<b>Comentario del revisor</b> <a class=\"tocSkip\"></a>\n",
    "\n",
    "Perfecto.</div>"
   ]
  },
  {
   "cell_type": "markdown",
   "id": "54a0319c",
   "metadata": {
    "id": "54a0319c"
   },
   "source": [
    "### [B3] ¿Cuáles son los 20 productos más populares (muestra su ID y nombre)?"
   ]
  },
  {
   "cell_type": "code",
   "execution_count": 49,
   "id": "exterior-arizona",
   "metadata": {
    "id": "exterior-arizona",
    "scrolled": false
   },
   "outputs": [
    {
     "name": "stdout",
     "output_type": "stream",
     "text": [
      "Listado de los 20 productos mas populares\n"
     ]
    },
    {
     "data": {
      "text/html": [
       "<div>\n",
       "<style scoped>\n",
       "    .dataframe tbody tr th:only-of-type {\n",
       "        vertical-align: middle;\n",
       "    }\n",
       "\n",
       "    .dataframe tbody tr th {\n",
       "        vertical-align: top;\n",
       "    }\n",
       "\n",
       "    .dataframe thead th {\n",
       "        text-align: right;\n",
       "    }\n",
       "</style>\n",
       "<table border=\"1\" class=\"dataframe\">\n",
       "  <thead>\n",
       "    <tr style=\"text-align: right;\">\n",
       "      <th></th>\n",
       "      <th>product_id</th>\n",
       "      <th>product_name</th>\n",
       "      <th>volume</th>\n",
       "    </tr>\n",
       "  </thead>\n",
       "  <tbody>\n",
       "    <tr>\n",
       "      <th>0</th>\n",
       "      <td>24852</td>\n",
       "      <td>Banana</td>\n",
       "      <td>66050</td>\n",
       "    </tr>\n",
       "    <tr>\n",
       "      <th>1</th>\n",
       "      <td>13176</td>\n",
       "      <td>Bag of Organic Bananas</td>\n",
       "      <td>53297</td>\n",
       "    </tr>\n",
       "    <tr>\n",
       "      <th>2</th>\n",
       "      <td>21137</td>\n",
       "      <td>Organic Strawberries</td>\n",
       "      <td>37039</td>\n",
       "    </tr>\n",
       "    <tr>\n",
       "      <th>3</th>\n",
       "      <td>21903</td>\n",
       "      <td>Organic Baby Spinach</td>\n",
       "      <td>33971</td>\n",
       "    </tr>\n",
       "    <tr>\n",
       "      <th>4</th>\n",
       "      <td>47209</td>\n",
       "      <td>Organic Hass Avocado</td>\n",
       "      <td>29773</td>\n",
       "    </tr>\n",
       "    <tr>\n",
       "      <th>5</th>\n",
       "      <td>47766</td>\n",
       "      <td>Organic Avocado</td>\n",
       "      <td>24689</td>\n",
       "    </tr>\n",
       "    <tr>\n",
       "      <th>6</th>\n",
       "      <td>47626</td>\n",
       "      <td>Large Lemon</td>\n",
       "      <td>21495</td>\n",
       "    </tr>\n",
       "    <tr>\n",
       "      <th>7</th>\n",
       "      <td>16797</td>\n",
       "      <td>Strawberries</td>\n",
       "      <td>20018</td>\n",
       "    </tr>\n",
       "    <tr>\n",
       "      <th>8</th>\n",
       "      <td>26209</td>\n",
       "      <td>Limes</td>\n",
       "      <td>19690</td>\n",
       "    </tr>\n",
       "    <tr>\n",
       "      <th>9</th>\n",
       "      <td>27845</td>\n",
       "      <td>Organic Whole Milk</td>\n",
       "      <td>19600</td>\n",
       "    </tr>\n",
       "    <tr>\n",
       "      <th>10</th>\n",
       "      <td>27966</td>\n",
       "      <td>Organic Raspberries</td>\n",
       "      <td>19197</td>\n",
       "    </tr>\n",
       "    <tr>\n",
       "      <th>11</th>\n",
       "      <td>22935</td>\n",
       "      <td>Organic Yellow Onion</td>\n",
       "      <td>15898</td>\n",
       "    </tr>\n",
       "    <tr>\n",
       "      <th>12</th>\n",
       "      <td>24964</td>\n",
       "      <td>Organic Garlic</td>\n",
       "      <td>15292</td>\n",
       "    </tr>\n",
       "    <tr>\n",
       "      <th>13</th>\n",
       "      <td>45007</td>\n",
       "      <td>Organic Zucchini</td>\n",
       "      <td>14584</td>\n",
       "    </tr>\n",
       "    <tr>\n",
       "      <th>14</th>\n",
       "      <td>39275</td>\n",
       "      <td>Organic Blueberries</td>\n",
       "      <td>13879</td>\n",
       "    </tr>\n",
       "    <tr>\n",
       "      <th>15</th>\n",
       "      <td>49683</td>\n",
       "      <td>Cucumber Kirby</td>\n",
       "      <td>13675</td>\n",
       "    </tr>\n",
       "    <tr>\n",
       "      <th>16</th>\n",
       "      <td>28204</td>\n",
       "      <td>Organic Fuji Apple</td>\n",
       "      <td>12544</td>\n",
       "    </tr>\n",
       "    <tr>\n",
       "      <th>17</th>\n",
       "      <td>5876</td>\n",
       "      <td>Organic Lemon</td>\n",
       "      <td>12232</td>\n",
       "    </tr>\n",
       "    <tr>\n",
       "      <th>18</th>\n",
       "      <td>8277</td>\n",
       "      <td>Apple Honeycrisp Organic</td>\n",
       "      <td>11993</td>\n",
       "    </tr>\n",
       "    <tr>\n",
       "      <th>19</th>\n",
       "      <td>40706</td>\n",
       "      <td>Organic Grape Tomatoes</td>\n",
       "      <td>11781</td>\n",
       "    </tr>\n",
       "  </tbody>\n",
       "</table>\n",
       "</div>"
      ],
      "text/plain": [
       "    product_id              product_name  volume\n",
       "0        24852                    Banana   66050\n",
       "1        13176    Bag of Organic Bananas   53297\n",
       "2        21137      Organic Strawberries   37039\n",
       "3        21903      Organic Baby Spinach   33971\n",
       "4        47209      Organic Hass Avocado   29773\n",
       "5        47766           Organic Avocado   24689\n",
       "6        47626               Large Lemon   21495\n",
       "7        16797              Strawberries   20018\n",
       "8        26209                     Limes   19690\n",
       "9        27845        Organic Whole Milk   19600\n",
       "10       27966       Organic Raspberries   19197\n",
       "11       22935      Organic Yellow Onion   15898\n",
       "12       24964            Organic Garlic   15292\n",
       "13       45007          Organic Zucchini   14584\n",
       "14       39275       Organic Blueberries   13879\n",
       "15       49683            Cucumber Kirby   13675\n",
       "16       28204        Organic Fuji Apple   12544\n",
       "17        5876             Organic Lemon   12232\n",
       "18        8277  Apple Honeycrisp Organic   11993\n",
       "19       40706    Organic Grape Tomatoes   11781"
      ]
     },
     "execution_count": 49,
     "metadata": {},
     "output_type": "execute_result"
    }
   ],
   "source": [
    "print('Listado de los 20 productos mas populares')\n",
    "merge_ordprod_prod = order_products.merge(products,on = 'product_id')\n",
    "products_pop = merge_ordprod_prod[['product_id','product_name']].value_counts().sort_values(ascending = False).head(20).reset_index()\n",
    "columna={0:'volume'}\n",
    "products_pop.rename(columna,axis=1,inplace = True)\n",
    "products_pop"
   ]
  },
  {
   "cell_type": "markdown",
   "id": "54429d4c",
   "metadata": {},
   "source": [
    "<div class=\"alert alert-block alert-warning\">\n",
    "<b>Comentario del revisor</b> <a class=\"tocSkip\"></a>\n",
    "\n",
    "Recorda que en este caso le agregaria valor graficar ese top 20 con un grafico de barras. Tener a mano el grafico hara mas amena y legible la experiencia del cliente.</div>"
   ]
  },
  {
   "cell_type": "markdown",
   "id": "936f6149",
   "metadata": {},
   "source": [
    "<div class=\"alert alert-block alert-info\">\n",
    "<b>Respuesta del estudiante</b> <a class=\"tocSkip\"></a>\n",
    "\n",
    "\n",
    "Gráfica de los 20 productos mas populares de la plataforma\n",
    "</div>"
   ]
  },
  {
   "cell_type": "code",
   "execution_count": 50,
   "id": "b51a72a2",
   "metadata": {},
   "outputs": [
    {
     "name": "stdout",
     "output_type": "stream",
     "text": [
      "Gráfica\n"
     ]
    },
    {
     "data": {
      "image/png": "[encoded data removed]",
      "text/plain": [
       "<Figure size 1080x720 with 1 Axes>"
      ]
     },
     "metadata": {
      "needs_background": "light"
     },
     "output_type": "display_data"
    }
   ],
   "source": [
    "print('Gráfica')\n",
    "products_pop.plot(\n",
    "    kind = 'bar',\n",
    "    title = 'Listado de los 20 productos mas populares',\n",
    "    x = 'product_name',\n",
    "    y = 'volume',\n",
    "    figsize = [15,10],\n",
    "    color = 'lightblue',\n",
    "    edgecolor = 'black',\n",
    "    ylabel = 'Volumen',\n",
    "    xlabel = 'Nombre de producto'\n",
    ")\n",
    "plt.legend(['Volumen'])\n",
    "plt.show()"
   ]
  },
  {
   "cell_type": "markdown",
   "id": "7df00f47",
   "metadata": {
    "id": "7df00f47"
   },
   "source": [
    "Escribe aquí tus conclusiones\n",
    "\n",
    "**Los productos mas populares de la plataforma son frutas, siendo el producto mas popular la banana, junto con la bolsa de bananas organicas y las frutillas (fresas) organicas**"
   ]
  },
  {
   "cell_type": "markdown",
   "id": "a199d326",
   "metadata": {},
   "source": [
    "<div class=\"alert alert-block alert-success\">\n",
    "<b>Comentario del revisor</b> <a class=\"tocSkip\"></a>\n",
    "\n",
    "Muy bien.</div>\n",
    "\n",
    "\n",
    "<div class=\"alert alert-block alert-success\">\n",
    "<b>Comentario del revisor</b> <a class=\"tocSkip\"></a>\n",
    "\n",
    "\n",
    "  Todos los ejercicios del punto [b] estan bien.</div>"
   ]
  },
  {
   "cell_type": "markdown",
   "id": "gross-theme",
   "metadata": {
    "id": "gross-theme"
   },
   "source": [
    "# [C] Difícil (deben completarse todos para aprobar)\n",
    "\n",
    "1. ¿Cuántos artículos suelen comprar las personas en un pedido? ¿Cómo es la distribución?\n",
    "2. ¿Cuáles son los 20 principales artículos que vuelven a pedirse con mayor frecuencia (muestra sus nombres e IDs de los productos)?\n",
    "3. Para cada producto, ¿cuál es la tasa de repetición del pedido (número de repeticiones de pedido/total de pedidos?\n",
    "4. Para cada cliente, ¿qué proporción de los productos que pidió ya los había pedido? Calcula la tasa de repetición de pedido para cada usuario en lugar de para cada producto.\n",
    "5. ¿Cuáles son los 20 principales artículos que la gente pone primero en sus carritos (muestra las IDs de los productos, sus nombres, y el número de veces en que fueron el primer artículo en añadirse al carrito)?"
   ]
  },
  {
   "cell_type": "markdown",
   "id": "romantic-deposit",
   "metadata": {
    "id": "romantic-deposit"
   },
   "source": [
    "### [C1] ¿Cuántos artículos compran normalmente las personas en un pedido? ¿Cómo es la distribución?"
   ]
  },
  {
   "cell_type": "markdown",
   "id": "e5ec9596",
   "metadata": {},
   "source": [
    "<div class=\"alert alert-block alert-danger\">\n",
    "<b>Comentario del revisor</b> <a class=\"tocSkip\"></a>\n",
    "\n",
    "Cuidado, la frecuencia no esta siendo bien calculada. Para hacerlo deberas crear una nueva variable y agrupar sobre `order_products`. Donde podes agrupar por `order_id` y aplicar un count, a su vez podes ordenar por `product_id`.\n",
    "\n",
    "crea una nueva variable y aplica a la que creaste Un value counts y luego ordenar el indice. Asi tendras bien calculada la frecuencia.\n",
    "\n",
    "Luego sobre esa variable realiza un histograma.</div>\n",
    "\n",
    "\n",
    "<div class=\"alert alert-block alert-success\">\n",
    "\n",
    "<b>Comentario del revisor #2</b> <a class=\"tocSkip\"></a>\n",
    "\n",
    "Corregido, excelente\n",
    "</div>"
   ]
  },
  {
   "cell_type": "markdown",
   "id": "2a25b2db",
   "metadata": {},
   "source": [
    "<div class=\"alert alert-block alert-info\">\n",
    "<b>Respuesta del estudiante</b> <a class=\"tocSkip\"></a>\n",
    "\n",
    "\n",
    "Recalculo de los datos, para obtener la cantidad de productos en cada orden de la plataforma, para luego graficar.\n",
    "</div>"
   ]
  },
  {
   "cell_type": "code",
   "execution_count": 51,
   "id": "1cc9d77b",
   "metadata": {},
   "outputs": [
    {
     "name": "stdout",
     "output_type": "stream",
     "text": [
      "          product_id  add_to_cart_order  reordered\n",
      "order_id                                          \n",
      "61355            127                127        127\n",
      "3308010          115                115        115\n",
      "2136777          108                108        108\n",
      "171934           104                104        104\n",
      "1959075           98                 98         98\n",
      "...              ...                ...        ...\n",
      "2231165            1                  1          1\n",
      "816908             1                  1          1\n",
      "2230951            1                  1          1\n",
      "112056             1                  1          1\n",
      "3421079            1                  1          1\n",
      "\n",
      "[450046 rows x 3 columns]\n"
     ]
    }
   ],
   "source": [
    "articles_order = order_products.groupby('order_id').count().sort_values(by='product_id',ascending=False)\n",
    "print(articles_order)"
   ]
  },
  {
   "cell_type": "code",
   "execution_count": 52,
   "id": "aaf622f1",
   "metadata": {
    "scrolled": true
   },
   "outputs": [
    {
     "data": {
      "image/png": "[encoded data removed]",
      "text/plain": [
       "<Figure size 1440x14400 with 1 Axes>"
      ]
     },
     "metadata": {
      "needs_background": "light"
     },
     "output_type": "display_data"
    }
   ],
   "source": [
    "articles_order['add_to_cart_order'].plot(\n",
    "    kind = 'hist',\n",
    "    bins = 127,\n",
    "    figsize = [20,200],\n",
    "    xlim = [0,128],\n",
    "    ylim = [0,31950],\n",
    "    color = 'lightblue',\n",
    "    edgecolor = 'black',\n",
    "    legend = ['articulos'],\n",
    "    xlabel = 'Cantidad de productos',\n",
    "    ylabel = 'Cantidad de ordenes',\n",
    ")\n",
    "plt.legend(['Articulos'])\n",
    "plt.show()"
   ]
  },
  {
   "cell_type": "code",
   "execution_count": 53,
   "id": "ffde7361",
   "metadata": {},
   "outputs": [
    {
     "name": "stdout",
     "output_type": "stream",
     "text": [
      "Obteniendo la moda del conjunto de datos, indica la cantidad de articulos que compran normalmente las personas\n"
     ]
    },
    {
     "data": {
      "text/plain": [
       "0    5\n",
       "dtype: int64"
      ]
     },
     "execution_count": 53,
     "metadata": {},
     "output_type": "execute_result"
    }
   ],
   "source": [
    "print('Obteniendo la moda del conjunto de datos, indica la cantidad de articulos que compran normalmente las personas')\n",
    "articles_order['add_to_cart_order'].mode()"
   ]
  },
  {
   "cell_type": "markdown",
   "id": "designed-mortality",
   "metadata": {
    "id": "designed-mortality"
   },
   "source": [
    "Escribe aquí tus conclusiones\n",
    "\n",
    "**La mayor cantidad de ordenes, aproximadamente 32 mil pedidos, tienen ingresados 5 articulos en la plataforma, luego la cantidad de ordenes decrece, en referencia a otra cantidad de articulos ingresada en cada orden.**"
   ]
  },
  {
   "cell_type": "markdown",
   "id": "5e6b5537",
   "metadata": {
    "id": "5e6b5537"
   },
   "source": [
    "### [C2] ¿Cuáles son los 20 principales artículos que vuelven a pedirse con mayor frecuencia (muestra sus nombres e IDs de los productos)?"
   ]
  },
  {
   "cell_type": "code",
   "execution_count": 54,
   "id": "9374e55a",
   "metadata": {
    "id": "9374e55a"
   },
   "outputs": [
    {
     "data": {
      "text/html": [
       "<div>\n",
       "<style scoped>\n",
       "    .dataframe tbody tr th:only-of-type {\n",
       "        vertical-align: middle;\n",
       "    }\n",
       "\n",
       "    .dataframe tbody tr th {\n",
       "        vertical-align: top;\n",
       "    }\n",
       "\n",
       "    .dataframe thead th {\n",
       "        text-align: right;\n",
       "    }\n",
       "</style>\n",
       "<table border=\"1\" class=\"dataframe\">\n",
       "  <thead>\n",
       "    <tr style=\"text-align: right;\">\n",
       "      <th></th>\n",
       "      <th>product_id</th>\n",
       "      <th>product_name</th>\n",
       "      <th>reordered</th>\n",
       "      <th>reordered_volume</th>\n",
       "    </tr>\n",
       "  </thead>\n",
       "  <tbody>\n",
       "    <tr>\n",
       "      <th>0</th>\n",
       "      <td>24852</td>\n",
       "      <td>Banana</td>\n",
       "      <td>1</td>\n",
       "      <td>55763</td>\n",
       "    </tr>\n",
       "    <tr>\n",
       "      <th>1</th>\n",
       "      <td>13176</td>\n",
       "      <td>Bag of Organic Bananas</td>\n",
       "      <td>1</td>\n",
       "      <td>44450</td>\n",
       "    </tr>\n",
       "    <tr>\n",
       "      <th>2</th>\n",
       "      <td>21137</td>\n",
       "      <td>Organic Strawberries</td>\n",
       "      <td>1</td>\n",
       "      <td>28639</td>\n",
       "    </tr>\n",
       "    <tr>\n",
       "      <th>3</th>\n",
       "      <td>21903</td>\n",
       "      <td>Organic Baby Spinach</td>\n",
       "      <td>1</td>\n",
       "      <td>26233</td>\n",
       "    </tr>\n",
       "    <tr>\n",
       "      <th>4</th>\n",
       "      <td>47209</td>\n",
       "      <td>Organic Hass Avocado</td>\n",
       "      <td>1</td>\n",
       "      <td>23629</td>\n",
       "    </tr>\n",
       "    <tr>\n",
       "      <th>5</th>\n",
       "      <td>47766</td>\n",
       "      <td>Organic Avocado</td>\n",
       "      <td>1</td>\n",
       "      <td>18743</td>\n",
       "    </tr>\n",
       "    <tr>\n",
       "      <th>6</th>\n",
       "      <td>27845</td>\n",
       "      <td>Organic Whole Milk</td>\n",
       "      <td>1</td>\n",
       "      <td>16251</td>\n",
       "    </tr>\n",
       "    <tr>\n",
       "      <th>7</th>\n",
       "      <td>47626</td>\n",
       "      <td>Large Lemon</td>\n",
       "      <td>1</td>\n",
       "      <td>15044</td>\n",
       "    </tr>\n",
       "    <tr>\n",
       "      <th>8</th>\n",
       "      <td>27966</td>\n",
       "      <td>Organic Raspberries</td>\n",
       "      <td>1</td>\n",
       "      <td>14748</td>\n",
       "    </tr>\n",
       "    <tr>\n",
       "      <th>9</th>\n",
       "      <td>16797</td>\n",
       "      <td>Strawberries</td>\n",
       "      <td>1</td>\n",
       "      <td>13945</td>\n",
       "    </tr>\n",
       "    <tr>\n",
       "      <th>10</th>\n",
       "      <td>26209</td>\n",
       "      <td>Limes</td>\n",
       "      <td>1</td>\n",
       "      <td>13327</td>\n",
       "    </tr>\n",
       "    <tr>\n",
       "      <th>11</th>\n",
       "      <td>22935</td>\n",
       "      <td>Organic Yellow Onion</td>\n",
       "      <td>1</td>\n",
       "      <td>11145</td>\n",
       "    </tr>\n",
       "    <tr>\n",
       "      <th>12</th>\n",
       "      <td>24964</td>\n",
       "      <td>Organic Garlic</td>\n",
       "      <td>1</td>\n",
       "      <td>10411</td>\n",
       "    </tr>\n",
       "    <tr>\n",
       "      <th>13</th>\n",
       "      <td>45007</td>\n",
       "      <td>Organic Zucchini</td>\n",
       "      <td>1</td>\n",
       "      <td>10076</td>\n",
       "    </tr>\n",
       "    <tr>\n",
       "      <th>14</th>\n",
       "      <td>49683</td>\n",
       "      <td>Cucumber Kirby</td>\n",
       "      <td>1</td>\n",
       "      <td>9538</td>\n",
       "    </tr>\n",
       "    <tr>\n",
       "      <th>15</th>\n",
       "      <td>28204</td>\n",
       "      <td>Organic Fuji Apple</td>\n",
       "      <td>1</td>\n",
       "      <td>8989</td>\n",
       "    </tr>\n",
       "    <tr>\n",
       "      <th>16</th>\n",
       "      <td>8277</td>\n",
       "      <td>Apple Honeycrisp Organic</td>\n",
       "      <td>1</td>\n",
       "      <td>8836</td>\n",
       "    </tr>\n",
       "    <tr>\n",
       "      <th>17</th>\n",
       "      <td>39275</td>\n",
       "      <td>Organic Blueberries</td>\n",
       "      <td>1</td>\n",
       "      <td>8799</td>\n",
       "    </tr>\n",
       "    <tr>\n",
       "      <th>18</th>\n",
       "      <td>5876</td>\n",
       "      <td>Organic Lemon</td>\n",
       "      <td>1</td>\n",
       "      <td>8412</td>\n",
       "    </tr>\n",
       "    <tr>\n",
       "      <th>19</th>\n",
       "      <td>49235</td>\n",
       "      <td>Organic Half &amp; Half</td>\n",
       "      <td>1</td>\n",
       "      <td>8389</td>\n",
       "    </tr>\n",
       "  </tbody>\n",
       "</table>\n",
       "</div>"
      ],
      "text/plain": [
       "    product_id              product_name  reordered  reordered_volume\n",
       "0        24852                    Banana          1             55763\n",
       "1        13176    Bag of Organic Bananas          1             44450\n",
       "2        21137      Organic Strawberries          1             28639\n",
       "3        21903      Organic Baby Spinach          1             26233\n",
       "4        47209      Organic Hass Avocado          1             23629\n",
       "5        47766           Organic Avocado          1             18743\n",
       "6        27845        Organic Whole Milk          1             16251\n",
       "7        47626               Large Lemon          1             15044\n",
       "8        27966       Organic Raspberries          1             14748\n",
       "9        16797              Strawberries          1             13945\n",
       "10       26209                     Limes          1             13327\n",
       "11       22935      Organic Yellow Onion          1             11145\n",
       "12       24964            Organic Garlic          1             10411\n",
       "13       45007          Organic Zucchini          1             10076\n",
       "14       49683            Cucumber Kirby          1              9538\n",
       "15       28204        Organic Fuji Apple          1              8989\n",
       "16        8277  Apple Honeycrisp Organic          1              8836\n",
       "17       39275       Organic Blueberries          1              8799\n",
       "18        5876             Organic Lemon          1              8412\n",
       "19       49235       Organic Half & Half          1              8389"
      ]
     },
     "execution_count": 54,
     "metadata": {},
     "output_type": "execute_result"
    }
   ],
   "source": [
    "reordered_products = merge_ordprod_prod[merge_ordprod_prod['reordered']  == 1][['product_id','product_name','reordered']].value_counts().sort_values(ascending = False).head(20).reset_index()\n",
    "columna2 = {0:'reordered_volume'}\n",
    "reordered_products.rename(columna2, axis = 1,inplace = True)\n",
    "reordered_products"
   ]
  },
  {
   "cell_type": "markdown",
   "id": "d339ed30",
   "metadata": {},
   "source": [
    "<div class=\"alert alert-block alert-warning\">\n",
    "<b>Comentario del revisor</b> <a class=\"tocSkip\"></a>\n",
    "\n",
    "Recorda que en este caso le agregaria valor graficar ese top 20 con un grafico de barras. Tener a mano el grafico hara mas amena y legible la experiencia del cliente.</div>\n",
    "\n",
    "\n",
    "<div class=\"alert alert-block alert-success\">\n",
    "\n",
    "<b>Comentario del revisor #2</b> <a class=\"tocSkip\"></a>\n",
    "\n",
    "Corregido, excelente\n",
    "</div>"
   ]
  },
  {
   "cell_type": "markdown",
   "id": "31d1af15",
   "metadata": {},
   "source": [
    "<div class=\"alert alert-block alert-info\">\n",
    "<b>Respuesta del estudiante</b> <a class=\"tocSkip\"></a>\n",
    "\n",
    "\n",
    "Gráfica de los 20 productos mas reordenados por los clientes.\n",
    "</div>"
   ]
  },
  {
   "cell_type": "code",
   "execution_count": 55,
   "id": "67d87761",
   "metadata": {},
   "outputs": [
    {
     "name": "stdout",
     "output_type": "stream",
     "text": [
      "Gráfica\n"
     ]
    },
    {
     "data": {
      "image/png": "[encoded data removed]",
      "text/plain": [
       "<Figure size 1080x720 with 1 Axes>"
      ]
     },
     "metadata": {
      "needs_background": "light"
     },
     "output_type": "display_data"
    }
   ],
   "source": [
    "print('Gráfica')\n",
    "reordered_products.plot(\n",
    "    kind = 'bar',\n",
    "    title = 'Listado de los 20 productos mas reordenados por los clientes',\n",
    "    x = 'product_name',\n",
    "    y = 'reordered_volume',\n",
    "    figsize = [15,10],\n",
    "    color = 'lightblue',\n",
    "    edgecolor = 'black',\n",
    "    ylabel = 'Cantidad de Ordenes',\n",
    "    xlabel = 'Nombre de producto'\n",
    ")\n",
    "plt.legend(['Volumen'])\n",
    "plt.show()"
   ]
  },
  {
   "cell_type": "markdown",
   "id": "80e70c74",
   "metadata": {
    "id": "80e70c74"
   },
   "source": [
    "Escribe aquí tus conclusiones\n",
    "\n",
    "**En esta tabla se puede ver que el producto que mas reordenan los clientes es la banana, seguido por la bolsa de bananas organicas y las frutillas (fresas) organicas, lo que concuerda con la tabla anterior de los productos mas vendidos**"
   ]
  },
  {
   "cell_type": "markdown",
   "id": "9d312b14",
   "metadata": {
    "id": "9d312b14"
   },
   "source": [
    "### [C3] Para cada producto, ¿cuál es la proporción de las veces que se pide y que se vuelve a pedir?"
   ]
  },
  {
   "cell_type": "markdown",
   "id": "5e8b3c10",
   "metadata": {},
   "source": [
    "<div class=\"alert alert-block alert-danger\">\n",
    "<b>Comentario del revisor</b> <a class=\"tocSkip\"></a>\n",
    "\n",
    "En este caso debemos combinar ambas tablas (order_products y products). Esto crea una nueva tabla con información combinada, como nombre del producto y si se volvió a pedir (de la tabla de pedidos).\n",
    "\n",
    "Luego, agrupamos (con un groupby) la información por product_id y product_name. En cada grupo, calculamos la media del campo reordered. Recuerda que este campo indica si un producto se volvió a pedir (1) o no (0). Entonces, el promedio nos revela la tasa de reorden para cada producto: qué porcentaje de veces se volvió a pedir en general.\n",
    "\n",
    "Por último,  pode ordenar la nueva tabla (reorder_rate_as_df) por product_id. Esto nos permite ver la tasa de reorden de cada producto, ordenados de mayor a menor.</div>\n",
    "\n",
    "\n",
    "<div class=\"alert alert-block alert-success\">\n",
    "\n",
    "<b>Comentario del revisor #2</b> <a class=\"tocSkip\"></a>\n",
    "\n",
    "Corregido.\n",
    "</div>"
   ]
  },
  {
   "cell_type": "markdown",
   "id": "42d43931",
   "metadata": {},
   "source": [
    "<div class=\"alert alert-block alert-info\">\n",
    "<b>Respuesta del estudiante</b> <a class=\"tocSkip\"></a>\n",
    "\n",
    "Recalculo para cada producto de su proporcion de veces que es pedido y se vuelve a pedir.\n",
    "</div>"
   ]
  },
  {
   "cell_type": "code",
   "execution_count": 56,
   "id": "c616465a",
   "metadata": {},
   "outputs": [],
   "source": [
    "ordpro_merge_pro= order_products.merge(products, on = 'product_id')"
   ]
  },
  {
   "cell_type": "code",
   "execution_count": 57,
   "id": "39974692",
   "metadata": {},
   "outputs": [],
   "source": [
    "reorder_rate = ordpro_merge_pro.groupby(['product_id','product_name']).mean()"
   ]
  },
  {
   "cell_type": "code",
   "execution_count": 64,
   "id": "7baa2595",
   "metadata": {},
   "outputs": [
    {
     "data": {
      "text/html": [
       "<div>\n",
       "<style scoped>\n",
       "    .dataframe tbody tr th:only-of-type {\n",
       "        vertical-align: middle;\n",
       "    }\n",
       "\n",
       "    .dataframe tbody tr th {\n",
       "        vertical-align: top;\n",
       "    }\n",
       "\n",
       "    .dataframe thead th {\n",
       "        text-align: right;\n",
       "    }\n",
       "</style>\n",
       "<table border=\"1\" class=\"dataframe\">\n",
       "  <thead>\n",
       "    <tr style=\"text-align: right;\">\n",
       "      <th></th>\n",
       "      <th></th>\n",
       "      <th>order_id</th>\n",
       "      <th>reordered</th>\n",
       "    </tr>\n",
       "    <tr>\n",
       "      <th>product_id</th>\n",
       "      <th>product_name</th>\n",
       "      <th></th>\n",
       "      <th></th>\n",
       "    </tr>\n",
       "  </thead>\n",
       "  <tbody>\n",
       "    <tr>\n",
       "      <th>14721</th>\n",
       "      <th>Bone Strength Take Care</th>\n",
       "      <td>9.386040e+05</td>\n",
       "      <td>1.0</td>\n",
       "    </tr>\n",
       "    <tr>\n",
       "      <th>20949</th>\n",
       "      <th>Vanilla Sandwich Cookies</th>\n",
       "      <td>1.909882e+06</td>\n",
       "      <td>1.0</td>\n",
       "    </tr>\n",
       "    <tr>\n",
       "      <th>6723</th>\n",
       "      <th>Palmiers- Petite</th>\n",
       "      <td>1.633126e+06</td>\n",
       "      <td>1.0</td>\n",
       "    </tr>\n",
       "    <tr>\n",
       "      <th>6732</th>\n",
       "      <th>Naturally Sparkling Mineral Water</th>\n",
       "      <td>1.564658e+06</td>\n",
       "      <td>1.0</td>\n",
       "    </tr>\n",
       "    <tr>\n",
       "      <th>45088</th>\n",
       "      <th>California Dill Pollen &amp; Garlic Goat Cheese &amp; Olive Oil Infusion</th>\n",
       "      <td>2.374782e+06</td>\n",
       "      <td>1.0</td>\n",
       "    </tr>\n",
       "    <tr>\n",
       "      <th>...</th>\n",
       "      <th>...</th>\n",
       "      <td>...</td>\n",
       "      <td>...</td>\n",
       "    </tr>\n",
       "    <tr>\n",
       "      <th>10485</th>\n",
       "      <th>Caramel Apple Pop</th>\n",
       "      <td>2.297779e+06</td>\n",
       "      <td>0.0</td>\n",
       "    </tr>\n",
       "    <tr>\n",
       "      <th>37690</th>\n",
       "      <th>Calypso Fresh 2X Concentrated ScentSations 166 Loads Liquid Laundry Detergent</th>\n",
       "      <td>2.995585e+05</td>\n",
       "      <td>0.0</td>\n",
       "    </tr>\n",
       "    <tr>\n",
       "      <th>10484</th>\n",
       "      <th>Avocado And Greens</th>\n",
       "      <td>2.421167e+06</td>\n",
       "      <td>0.0</td>\n",
       "    </tr>\n",
       "    <tr>\n",
       "      <th>10474</th>\n",
       "      <th>NuStevia White Stevia Powder</th>\n",
       "      <td>2.226797e+06</td>\n",
       "      <td>0.0</td>\n",
       "    </tr>\n",
       "    <tr>\n",
       "      <th>42984</th>\n",
       "      <th>Salsa For All Seasons Half Guacamole Half Roasted Salsa</th>\n",
       "      <td>4.705340e+05</td>\n",
       "      <td>0.0</td>\n",
       "    </tr>\n",
       "  </tbody>\n",
       "</table>\n",
       "<p>45573 rows × 2 columns</p>\n",
       "</div>"
      ],
      "text/plain": [
       "                                                                   order_id  \\\n",
       "product_id product_name                                                       \n",
       "14721      Bone Strength Take Care                             9.386040e+05   \n",
       "20949      Vanilla Sandwich Cookies                            1.909882e+06   \n",
       "6723       Palmiers- Petite                                    1.633126e+06   \n",
       "6732       Naturally Sparkling Mineral Water                   1.564658e+06   \n",
       "45088      California Dill Pollen & Garlic Goat Cheese & O...  2.374782e+06   \n",
       "...                                                                     ...   \n",
       "10485      Caramel Apple Pop                                   2.297779e+06   \n",
       "37690      Calypso Fresh 2X Concentrated ScentSations 166 ...  2.995585e+05   \n",
       "10484      Avocado And Greens                                  2.421167e+06   \n",
       "10474      NuStevia White Stevia Powder                        2.226797e+06   \n",
       "42984      Salsa For All Seasons Half Guacamole Half Roast...  4.705340e+05   \n",
       "\n",
       "                                                               reordered  \n",
       "product_id product_name                                                   \n",
       "14721      Bone Strength Take Care                                   1.0  \n",
       "20949      Vanilla Sandwich Cookies                                  1.0  \n",
       "6723       Palmiers- Petite                                          1.0  \n",
       "6732       Naturally Sparkling Mineral Water                         1.0  \n",
       "45088      California Dill Pollen & Garlic Goat Cheese & O...        1.0  \n",
       "...                                                                  ...  \n",
       "10485      Caramel Apple Pop                                         0.0  \n",
       "37690      Calypso Fresh 2X Concentrated ScentSations 166 ...        0.0  \n",
       "10484      Avocado And Greens                                        0.0  \n",
       "10474      NuStevia White Stevia Powder                              0.0  \n",
       "42984      Salsa For All Seasons Half Guacamole Half Roast...        0.0  \n",
       "\n",
       "[45573 rows x 2 columns]"
      ]
     },
     "execution_count": 64,
     "metadata": {},
     "output_type": "execute_result"
    }
   ],
   "source": [
    "reorder_rate.sort_values(by = 'reordered', ascending = False).drop(['add_to_cart_order','aisle_id','department_id'],axis = 1)"
   ]
  },
  {
   "cell_type": "markdown",
   "id": "I10dEIAyldcO",
   "metadata": {
    "id": "I10dEIAyldcO"
   },
   "source": [
    "Escribe aquí tus conclusiones\n",
    "\n",
    "**Esta tabla, en la misma columna 'reordered', entrega la proporción de que el producto se pida o se vuelve a pedir, por ello, los productos mas rotativos tienen una proporcion igual a 1 y para los menos vendidos su indicador es 0.**"
   ]
  },
  {
   "cell_type": "markdown",
   "id": "subject-boxing",
   "metadata": {
    "id": "subject-boxing"
   },
   "source": [
    "### [C4] Para cada cliente, ¿qué proporción de sus productos ya los había pedido?"
   ]
  },
  {
   "cell_type": "markdown",
   "id": "c024b08c",
   "metadata": {},
   "source": [
    "<div class=\"alert alert-block alert-danger\">\n",
    "<b>Comentario del revisor</b> <a class=\"tocSkip\"></a>\n",
    "\n",
    "No estamos logrando el resultado esperado.\n",
    "\n",
    "Primero, combinamos las tablas order_products y orders. Esto lo hacemos para que el registro de pedido tiene detalles tanto sobre los productos pedidos como sobre el usuario que realizó el pedido.\n",
    "\n",
    "Luego centrate en la columna reordered dentro de la tabla fusionada. La columna nos dicesi un producto fue reordenado (marcado como 1) o no (marcado como 0) dentro de ese pedido específico.\n",
    "\n",
    "Agrupa los datos por user_id (para analizar los pedidos de cada usuario por separado). Para cada grupo de usuarios, calculamos el valor promedio de la columna reordered. Y ahi tendras el porcentaje.\n",
    "\n",
    "Al final ordena la tabla para observar cuales son los productos con mayor frecuencia.</div>\n",
    "\n",
    "<div class=\"alert alert-block alert-success\">\n",
    "\n",
    "<b>Comentario del revisor #2</b> <a class=\"tocSkip\"></a>\n",
    "\n",
    "Corregido.\n",
    "</div>"
   ]
  },
  {
   "cell_type": "markdown",
   "id": "68e3d91b",
   "metadata": {},
   "source": [
    "<div class=\"alert alert-block alert-info\">\n",
    "<b>Respuesta del estudiante</b> <a class=\"tocSkip\"></a>\n",
    "\n",
    "Recalculo para cada cliente, de la proporcion que pide cada producto.\n",
    "</div>"
   ]
  },
  {
   "cell_type": "code",
   "execution_count": 65,
   "id": "e6b0dd31",
   "metadata": {},
   "outputs": [
    {
     "data": {
      "text/html": [
       "<div>\n",
       "<style scoped>\n",
       "    .dataframe tbody tr th:only-of-type {\n",
       "        vertical-align: middle;\n",
       "    }\n",
       "\n",
       "    .dataframe tbody tr th {\n",
       "        vertical-align: top;\n",
       "    }\n",
       "\n",
       "    .dataframe thead th {\n",
       "        text-align: right;\n",
       "    }\n",
       "</style>\n",
       "<table border=\"1\" class=\"dataframe\">\n",
       "  <thead>\n",
       "    <tr style=\"text-align: right;\">\n",
       "      <th></th>\n",
       "      <th>order_id</th>\n",
       "      <th>product_id</th>\n",
       "      <th>reordered</th>\n",
       "    </tr>\n",
       "    <tr>\n",
       "      <th>user_id</th>\n",
       "      <th></th>\n",
       "      <th></th>\n",
       "      <th></th>\n",
       "    </tr>\n",
       "  </thead>\n",
       "  <tbody>\n",
       "    <tr>\n",
       "      <th>137587</th>\n",
       "      <td>3348480.0</td>\n",
       "      <td>23114.000000</td>\n",
       "      <td>1.0</td>\n",
       "    </tr>\n",
       "    <tr>\n",
       "      <th>173474</th>\n",
       "      <td>2261129.0</td>\n",
       "      <td>3581.500000</td>\n",
       "      <td>1.0</td>\n",
       "    </tr>\n",
       "    <tr>\n",
       "      <th>13918</th>\n",
       "      <td>1305168.0</td>\n",
       "      <td>20541.750000</td>\n",
       "      <td>1.0</td>\n",
       "    </tr>\n",
       "    <tr>\n",
       "      <th>62300</th>\n",
       "      <td>1180485.0</td>\n",
       "      <td>19238.142857</td>\n",
       "      <td>1.0</td>\n",
       "    </tr>\n",
       "    <tr>\n",
       "      <th>62307</th>\n",
       "      <td>1399160.0</td>\n",
       "      <td>32553.000000</td>\n",
       "      <td>1.0</td>\n",
       "    </tr>\n",
       "    <tr>\n",
       "      <th>...</th>\n",
       "      <td>...</td>\n",
       "      <td>...</td>\n",
       "      <td>...</td>\n",
       "    </tr>\n",
       "    <tr>\n",
       "      <th>190953</th>\n",
       "      <td>3377043.0</td>\n",
       "      <td>24270.888889</td>\n",
       "      <td>0.0</td>\n",
       "    </tr>\n",
       "    <tr>\n",
       "      <th>119371</th>\n",
       "      <td>1941859.0</td>\n",
       "      <td>22543.900000</td>\n",
       "      <td>0.0</td>\n",
       "    </tr>\n",
       "    <tr>\n",
       "      <th>63173</th>\n",
       "      <td>2839346.0</td>\n",
       "      <td>23909.000000</td>\n",
       "      <td>0.0</td>\n",
       "    </tr>\n",
       "    <tr>\n",
       "      <th>63163</th>\n",
       "      <td>1199414.0</td>\n",
       "      <td>14342.333333</td>\n",
       "      <td>0.0</td>\n",
       "    </tr>\n",
       "    <tr>\n",
       "      <th>165726</th>\n",
       "      <td>3095830.0</td>\n",
       "      <td>23569.090909</td>\n",
       "      <td>0.0</td>\n",
       "    </tr>\n",
       "  </tbody>\n",
       "</table>\n",
       "<p>149626 rows × 3 columns</p>\n",
       "</div>"
      ],
      "text/plain": [
       "          order_id    product_id  reordered\n",
       "user_id                                    \n",
       "137587   3348480.0  23114.000000        1.0\n",
       "173474   2261129.0   3581.500000        1.0\n",
       "13918    1305168.0  20541.750000        1.0\n",
       "62300    1180485.0  19238.142857        1.0\n",
       "62307    1399160.0  32553.000000        1.0\n",
       "...            ...           ...        ...\n",
       "190953   3377043.0  24270.888889        0.0\n",
       "119371   1941859.0  22543.900000        0.0\n",
       "63173    2839346.0  23909.000000        0.0\n",
       "63163    1199414.0  14342.333333        0.0\n",
       "165726   3095830.0  23569.090909        0.0\n",
       "\n",
       "[149626 rows x 3 columns]"
      ]
     },
     "execution_count": 65,
     "metadata": {},
     "output_type": "execute_result"
    }
   ],
   "source": [
    "ordpro_merge_insord = order_products.merge(instacart_orders,on = 'order_id')\n",
    "ordpro_merge_insord.groupby('user_id').mean().sort_values(by='reordered',ascending=False).drop(['add_to_cart_order','order_hour_of_day','days_since_prior_order','order_dow','order_number'],axis = 1)"
   ]
  },
  {
   "cell_type": "markdown",
   "id": "BgJSvXDsleXz",
   "metadata": {
    "id": "BgJSvXDsleXz"
   },
   "source": [
    "Escribe aquí tus conclusiones\n",
    "\n",
    "**Esta tabla, en la misma columna 'reordered', entrega la proporción de que el cliente pide su productos, por ello, los clientes que compran regularmente los mismos productos, tienen una proporcion igual o cercana 1 y para los que compran regularmente productos diferentes su indicador es 0.**"
   ]
  },
  {
   "cell_type": "markdown",
   "id": "92d35137",
   "metadata": {
    "id": "92d35137"
   },
   "source": [
    "### [C5] ¿Cuáles son los 20 principales artículos que las personas ponen primero en sus carritos?"
   ]
  },
  {
   "cell_type": "code",
   "execution_count": 66,
   "id": "0ae57274",
   "metadata": {
    "id": "0ae57274",
    "scrolled": false
   },
   "outputs": [
    {
     "data": {
      "text/html": [
       "<div>\n",
       "<style scoped>\n",
       "    .dataframe tbody tr th:only-of-type {\n",
       "        vertical-align: middle;\n",
       "    }\n",
       "\n",
       "    .dataframe tbody tr th {\n",
       "        vertical-align: top;\n",
       "    }\n",
       "\n",
       "    .dataframe thead th {\n",
       "        text-align: right;\n",
       "    }\n",
       "</style>\n",
       "<table border=\"1\" class=\"dataframe\">\n",
       "  <thead>\n",
       "    <tr style=\"text-align: right;\">\n",
       "      <th></th>\n",
       "      <th>product_name</th>\n",
       "      <th>product_id</th>\n",
       "      <th>add_to_cart_order</th>\n",
       "    </tr>\n",
       "  </thead>\n",
       "  <tbody>\n",
       "    <tr>\n",
       "      <th>1922</th>\n",
       "      <td>Banana</td>\n",
       "      <td>386746824</td>\n",
       "      <td>15562</td>\n",
       "    </tr>\n",
       "    <tr>\n",
       "      <th>1807</th>\n",
       "      <td>Bag of Organic Bananas</td>\n",
       "      <td>145278576</td>\n",
       "      <td>11026</td>\n",
       "    </tr>\n",
       "    <tr>\n",
       "      <th>17495</th>\n",
       "      <td>Organic Whole Milk</td>\n",
       "      <td>121487735</td>\n",
       "      <td>4363</td>\n",
       "    </tr>\n",
       "    <tr>\n",
       "      <th>17137</th>\n",
       "      <td>Organic Strawberries</td>\n",
       "      <td>83406602</td>\n",
       "      <td>3946</td>\n",
       "    </tr>\n",
       "    <tr>\n",
       "      <th>16063</th>\n",
       "      <td>Organic Hass Avocado</td>\n",
       "      <td>160038510</td>\n",
       "      <td>3390</td>\n",
       "    </tr>\n",
       "    <tr>\n",
       "      <th>15109</th>\n",
       "      <td>Organic Baby Spinach</td>\n",
       "      <td>73068408</td>\n",
       "      <td>3336</td>\n",
       "    </tr>\n",
       "    <tr>\n",
       "      <th>15087</th>\n",
       "      <td>Organic Avocado</td>\n",
       "      <td>145399704</td>\n",
       "      <td>3044</td>\n",
       "    </tr>\n",
       "    <tr>\n",
       "      <th>22726</th>\n",
       "      <td>Spring Water</td>\n",
       "      <td>45925760</td>\n",
       "      <td>2336</td>\n",
       "    </tr>\n",
       "    <tr>\n",
       "      <th>22968</th>\n",
       "      <td>Strawberries</td>\n",
       "      <td>38767476</td>\n",
       "      <td>2308</td>\n",
       "    </tr>\n",
       "    <tr>\n",
       "      <th>16757</th>\n",
       "      <td>Organic Raspberries</td>\n",
       "      <td>56603184</td>\n",
       "      <td>2024</td>\n",
       "    </tr>\n",
       "    <tr>\n",
       "      <th>22472</th>\n",
       "      <td>Sparkling Water Grapefruit</td>\n",
       "      <td>85425648</td>\n",
       "      <td>1914</td>\n",
       "    </tr>\n",
       "    <tr>\n",
       "      <th>16046</th>\n",
       "      <td>Organic Half &amp; Half</td>\n",
       "      <td>88475295</td>\n",
       "      <td>1797</td>\n",
       "    </tr>\n",
       "    <tr>\n",
       "      <th>11727</th>\n",
       "      <td>Large Lemon</td>\n",
       "      <td>82726362</td>\n",
       "      <td>1737</td>\n",
       "    </tr>\n",
       "    <tr>\n",
       "      <th>22165</th>\n",
       "      <td>Soda</td>\n",
       "      <td>339668</td>\n",
       "      <td>1733</td>\n",
       "    </tr>\n",
       "    <tr>\n",
       "      <th>16838</th>\n",
       "      <td>Organic Reduced Fat Milk</td>\n",
       "      <td>54048533</td>\n",
       "      <td>1397</td>\n",
       "    </tr>\n",
       "    <tr>\n",
       "      <th>12264</th>\n",
       "      <td>Limes</td>\n",
       "      <td>35906330</td>\n",
       "      <td>1370</td>\n",
       "    </tr>\n",
       "    <tr>\n",
       "      <th>10191</th>\n",
       "      <td>Hass Avocados</td>\n",
       "      <td>16536940</td>\n",
       "      <td>1340</td>\n",
       "    </tr>\n",
       "    <tr>\n",
       "      <th>16837</th>\n",
       "      <td>Organic Reduced Fat 2% Milk</td>\n",
       "      <td>7578350</td>\n",
       "      <td>1310</td>\n",
       "    </tr>\n",
       "    <tr>\n",
       "      <th>10050</th>\n",
       "      <td>Half &amp; Half</td>\n",
       "      <td>35455574</td>\n",
       "      <td>1309</td>\n",
       "    </tr>\n",
       "    <tr>\n",
       "      <th>17553</th>\n",
       "      <td>Organic Yellow Onion</td>\n",
       "      <td>28577010</td>\n",
       "      <td>1246</td>\n",
       "    </tr>\n",
       "  </tbody>\n",
       "</table>\n",
       "</div>"
      ],
      "text/plain": [
       "                      product_name  product_id  add_to_cart_order\n",
       "1922                        Banana   386746824              15562\n",
       "1807        Bag of Organic Bananas   145278576              11026\n",
       "17495           Organic Whole Milk   121487735               4363\n",
       "17137         Organic Strawberries    83406602               3946\n",
       "16063         Organic Hass Avocado   160038510               3390\n",
       "15109         Organic Baby Spinach    73068408               3336\n",
       "15087              Organic Avocado   145399704               3044\n",
       "22726                 Spring Water    45925760               2336\n",
       "22968                 Strawberries    38767476               2308\n",
       "16757          Organic Raspberries    56603184               2024\n",
       "22472   Sparkling Water Grapefruit    85425648               1914\n",
       "16046          Organic Half & Half    88475295               1797\n",
       "11727                  Large Lemon    82726362               1737\n",
       "22165                         Soda      339668               1733\n",
       "16838     Organic Reduced Fat Milk    54048533               1397\n",
       "12264                        Limes    35906330               1370\n",
       "10191                Hass Avocados    16536940               1340\n",
       "16837  Organic Reduced Fat 2% Milk     7578350               1310\n",
       "10050                  Half & Half    35455574               1309\n",
       "17553         Organic Yellow Onion    28577010               1246"
      ]
     },
     "execution_count": 66,
     "metadata": {},
     "output_type": "execute_result"
    }
   ],
   "source": [
    "first_20_cart = merge_ordprod_prod[merge_ordprod_prod['add_to_cart_order'] == 1]\n",
    "first_20_cart = first_20_cart.groupby('product_name')[['product_id','add_to_cart_order']].sum().reset_index()\n",
    "first_20_cart.sort_values(by='add_to_cart_order',ascending=False, inplace = True)\n",
    "first_20_cart.head(20)"
   ]
  },
  {
   "cell_type": "markdown",
   "id": "2f688ae8",
   "metadata": {},
   "source": [
    "<div class=\"alert alert-block alert-warning\">\n",
    "<b>Comentario del revisor</b> <a class=\"tocSkip\"></a>\n",
    "\n",
    "Recorda que en este caso le agregaria valor graficar ese top 20 con un grafico de barras. Tener a mano el grafico hara mas amena y legible la experiencia del cliente.</div>"
   ]
  },
  {
   "cell_type": "code",
   "execution_count": 67,
   "id": "0023a114",
   "metadata": {},
   "outputs": [
    {
     "name": "stdout",
     "output_type": "stream",
     "text": [
      "Gráfica\n"
     ]
    },
    {
     "data": {
      "image/png": "[encoded data removed]",
      "text/plain": [
       "<Figure size 1080x720 with 1 Axes>"
      ]
     },
     "metadata": {
      "needs_background": "light"
     },
     "output_type": "display_data"
    }
   ],
   "source": [
    "print('Gráfica')\n",
    "first_20_cart.head(20).plot(\n",
    "    kind = 'bar',\n",
    "    title = 'Listado de los 20 productos mas reordenados por los clientes',\n",
    "    x = 'product_name',\n",
    "    y = 'add_to_cart_order',\n",
    "    figsize = [15,10],\n",
    "    color = 'lightblue',\n",
    "    edgecolor = 'black',\n",
    "    ylabel = 'Cantidad de Ordenes',\n",
    "    xlabel = 'Nombre de producto'\n",
    ")\n",
    "plt.legend(['Volumen'])\n",
    "plt.show()"
   ]
  },
  {
   "cell_type": "markdown",
   "id": "28ce9872",
   "metadata": {
    "id": "28ce9872"
   },
   "source": [
    "Escribe aquí tus conclusiones\n",
    "\n",
    "**En esta tabla se puede ver que el producto que primero colocan en su carro los clientes es la banana, seguido por la bolsa de bananas organicas y las frutillas (fresas) organicas, lo que concuerda con las tablas anteriores de los productos mas vendidos y los productos mas reordenados**"
   ]
  },
  {
   "cell_type": "markdown",
   "id": "uITbFCEoDosC",
   "metadata": {
    "id": "uITbFCEoDosC"
   },
   "source": [
    "### Conclusion general del proyecto:"
   ]
  },
  {
   "cell_type": "markdown",
   "id": "1b48e7a3",
   "metadata": {
    "id": "Nk-4GS7mDwqY"
   },
   "source": [
    "**Es un gran proyecto, donde se pudieorn analizar las caracteristicas de los clientes y productos del negocio, ya que en el caso de los clientes la mayoria de las compras son los dias sabado y entre las 10 y las 15 horas, ademas que la mayoria compra cada 30 dias, aparte en los productos las estrellas son las frutas, donde las bananas en cualquier formato (simple u organico) es lo que mas compran los clientes, seguidos por las frutillas (fresas).**\n",
    "\n",
    "**Por ultimo, este informe puede dar pie para realizar una inspeccion de inventario ya que hay varios productos con poca rotacion, ya que solo lo comprarn clientes nuevos, otros con alta rotacion ya que ambos tipos de clientes (nuevos y antiguos) lo compran, y por ultimo productos que deberian ser eliminados de la plataforma, ya que no generan pedidos, y cambiarlos por productos que si lo hagan**"
   ]
  },
  {
   "cell_type": "markdown",
   "id": "3e9d0943",
   "metadata": {},
   "source": [
    "<div class=\"alert alert-block alert-danger\">\n",
    "\n",
    "<b>Comentario del revisor</b> <a class=\"tocSkip\"></a>\n",
    "\n",
    "Recorda realizar una conclusion general. Esta debe contener todo lo que se hizo en el proyecto de forma enumerada o items.\n",
    "\n",
    "Desde la carga e importacion, pasando por los cambios realizado (Y el porque de esas decisiones). Agregando lo que se hizo en cada seccion a modo resumen y las conclusiones del  trabajo.\n",
    "\n",
    "Sirve como resumen de lo realizado en cada proyecto.</div>\n",
    "\n",
    "<div class=\"alert alert-block alert-success\">\n",
    "\n",
    "<b>Comentario del revisor #2</b> <a class=\"tocSkip\"></a>\n",
    "\n",
    "Corregido, perfecto.\n",
    "</div>"
   ]
  },
  {
   "cell_type": "markdown",
   "id": "892fcc2d",
   "metadata": {},
   "source": [
    "<div class=\"alert alert-block alert-info\">\n",
    "<b>Respuesta del estudiante</b> <a class=\"tocSkip\"></a>\n",
    "\n",
    "Conclusión general del proyecto\n",
    "</div>"
   ]
  },
  {
   "cell_type": "markdown",
   "id": "63b08417",
   "metadata": {},
   "source": [
    "**Conclusión General**\n",
    "\n",
    "En este gran proyecto, fueron varias las aristas que se abordaron y gestiones realizadas, para dar solución a las interrogantes de la empresa.\n",
    "\n",
    "En primera instancia se recibió la descripción general del proyecto, los archivos a utilizar, resumen de su contenido, y las cuestiones a resolver en este estudio. Por ello, primeramente se obtubieron las liberias de Python para procesar y analizar los datos de la empresa, para este caso, se uso Pandas y Matplotlib. \n",
    "\n",
    "Posteriormente, los archivos ('.csv'), fueron importados, y cargados sus datos, para un primer analisis descriptivo, mediante el metodo info() de Pandas, el cual nos entrega la siguiente información:\n",
    "\n",
    "\n",
    "                - Número de Filas y número de columnas.\n",
    "                - Tipo de dato de cada columna.\n",
    "                - Nombres de cada columna del archivo.\n",
    "                - Datos no nulos por columna (valores ausentes).\n",
    "                - Resumen de los tipos de datos usados por el DataFrame\n",
    "                - Memoria usada por el DataFrame\n",
    "\n",
    "\n",
    "Para el estudio, se obtuvo informacion relevante:\n",
    "\n",
    "\n",
    "    - instacart_orders: Total: 478967 filas y 6 columnas \n",
    "                        Tipo de dato: Numeros enteros y flotantes (decimales)\n",
    "                        Valores ausentes: 1 columna\n",
    "\n",
    "    - products: Total: 49694 filas y 4 columnas \n",
    "                Tipo de dato: Numeros enteros y object(texto)\n",
    "                Valores ausentes: 1 columna\n",
    "\n",
    "    - aisles: Total: 134 filas y 2 columnas \n",
    "              Tipo de dato: Numeros enteros y object(texto)\n",
    "              Valores ausentes: N/A\n",
    "                       \n",
    "    - departments: Total: 21 filas y 2 columnas \n",
    "                   Tipo de dato: Numeros enteros y object(texto)\n",
    "                   Valores ausentes: N/A\n",
    "\n",
    "    - order_products: Total: 4545007 filas  y6 columnas \n",
    "                      Tipo de dato: Numeros enteros y flotantes (decimales)\n",
    "                      Valores ausentes: 1 columna\n",
    "\n",
    "\n",
    "Luego,con la información anterior, se gestiono una limpieza de datos, para cada archivo, que consiste en encontrar y eliminar valores duplicados, mediante los metodos '.duplicated()' y '.drop_duplicates()', ademas de encontrar y reemplazar valores ausentes, con el metodo '.isna()', lo cual ambos procesos se realizaron con exito, donde se pudo extraer lo siguiente:\n",
    "\n",
    "\n",
    "Valores duplicados explicitos:\n",
    "\n",
    "\n",
    "    - instacart_orders: Duplicados: 15 filas\n",
    "    Proceso: Se eliminan filas duplicadas, ya que todos los ingresos son el mismo dia y a la misma hora, se sugiere\n",
    "    error de sistema.\n",
    "    \n",
    "    - products: Duplicados: 0 filas \n",
    "    Proceso: Se revisan duplicados por columna, en 'product_name' existen muchos duplicados pero cada uno tiene un\n",
    "    'product id' diferente. \n",
    "\n",
    "    - aisles: Duplicados: 0 filas \n",
    "    Proceso: se puede continuar con el analisis\n",
    "                       \n",
    "    - departments: Duplicados: 0 filas \n",
    "    Proceso: se puede continuar con el analisis\n",
    "    \n",
    "    - order_products: Duplicados_ 0 filas\n",
    "    Proceso: El DF no genera ninguna fila duplicada, pero cada columna por separado tienen muchos duplicados, ya \n",
    "    que el DF muestra todos los productos de cada pedido, con la secuencia de elección y si ya fue pedido \n",
    "    anteriormente o no.\n",
    "\n",
    "\n",
    "Valores Ausentes:\n",
    "\n",
    "\n",
    "    - products: Valores ausentes: 1258\n",
    "                Columna: 'product_name'\n",
    "    Proceso:Todos pertenecen al departamento y pasillo de perdidas (missing), ya sean productos rotos, mermados,\n",
    "    devoluciones, etc., por ello, se reemplazaron todos los valores ausente por desconocido ('unknown'), ya que \n",
    "    no es posible saber lo que realmente sucedio con esos productos.\n",
    "    \n",
    "    - instacart_orders: Valores ausentes: 28817\n",
    "                        Columna: 'days_since_prior_order'\n",
    "    Proceso: Todos corresponden a compras de clientes nuevos (primera compra), ya que el sistema lo registra como\n",
    "    valor nulo, por ello, se dejaran como NaN, ya que reemplazarlos por cualquier otro valor no tiene sentido, por\n",
    "    lo que no es representativo con la muestra y con el analisis del caso.\n",
    "\n",
    "    - order_products: Valores ausentes: 836\n",
    "                      Columna: 'add_to_cart_order'\n",
    "    Proceso: Todos corresponden a que el registro de compras maximo es de 64 productos por orden, ya que el valor\n",
    "    minimo de la columna es de 1 y el maximo de 64, por ello, se puede concluir que las ordenes que tienen valores\n",
    "    ausentes, tienen minimo 65 productos adheridos en la orden, finalmente se realizo el reemplazo de valores \n",
    "    ausentes por \"999\", por lo que el DF ya no tiene valores nulos\n",
    "   \n",
    "   \n",
    "Por último, se analizaron las interrogantes de la empresa, que abordaban 3 categorias: los clientes, las ordenes y los productos. A continuacion se presentan las conclusiones de cada una de las categorias.\n",
    "\n",
    "\n",
    "    - Clientes: 1. La mayor cantidad de pedidos se generan entre las 10 a 15 horas. \n",
    "                2. Todos los dias, los clientes generan más de 60.000 pedidos, pero los dias Domingos y Lunes es \n",
    "                   donde la plataforma genera más entregas, ya que los clientes superan las 80.000 ordenes.\n",
    "                3. La mayoria de llos clientes hacen sus pedidos cada 30 dias, y en una muy pequeña cantidad los\n",
    "                   clientes esperan 29 dias para realizar un nuevo pedido. al analizar esta situación, puede deberse\n",
    "                   al \n",
    "                   dia de pago del salario de los clientes ya que la mayoria realizaria una compra mensual, y siendo\n",
    "                   el valor minimo de pedidos cada 29 dias, una dia antes del pago del salario a los clientes.\n",
    "    \n",
    "    - Ordenes: 1. Las ordenes los fines de semana son mayores que en la semana, ya que se comprobo que los dias\n",
    "                  Sábado se generan mas pedidos que los dias Miércoles\n",
    "               2. La mayoria de los clientes han realizado 4 ordenes en la plataforma\n",
    "               3. La mayor cantidad de ordenes, aproximadamente 32 mil pedidos, tienen ingresados 5 articulos en la\n",
    "                  plataforma, luego la cantidad de ordenes decrece, en referencia a otra cantidad de articulos\n",
    "                  ingresada en cada orden.\n",
    "                  \n",
    "    - Productos: 1. Los productos más populares son las frutas, siendo mas popular la banana, junto con la bolsa de\n",
    "                    bananas organicas y las frutillas (fresas) orgánicas.\n",
    "                 2. El producto que mas reordenado por los clientes es la banana, seguido por la bolsa de bananas\n",
    "                    organicas y las frutillas (fresas) organicas, lo que concuerda los productos mas vendidos\n",
    "                 3. La proporcion de los productos mas reordenados es cercana o igual a 1, ya que son mas rotativos,\n",
    "                    los productos que son menos vendidos tiene indicador cercano o igual a 0.  \n",
    "                 4. La proporción de que el cliente pide sus productos, por ello, los clientes que compran \n",
    "                    regularmente los mismos productos, tienen una proporcion igual o cercana 1 y para los que\n",
    "                    compran regularmente productos diferentes su indicador es cercano o igual 0.\n",
    "                 5. El producto que primero colocan en su carro los clientes es la banana, seguido por la bolsa de\n",
    "                    bananas organicas y las frutillas (fresas) \n",
    "\n",
    "\n",
    "**Resumen**\n",
    "\n",
    "Es un gran proyecto, donde se pudieorn analizar las caracteristicas de los clientes, las ordenes y los productos del negocio, ya que en el caso de los clientes la mayoria de las compras son los dias sabado y entre las 10 y las 15 horas, ademas que la mayoria compra cada 30 dias, aparte en los productos las estrellas son las frutas, donde las bananas en cualquier formato (simple u organico) es lo que mas compran los clientes, seguidos por las frutillas (fresas).\n",
    "\n",
    "Por ultimo, este informe puede dar pie para realizar una inspeccion de inventario ya que hay varios productos con poca rotacion, ya que solo lo comprarn clientes nuevos, otros con alta rotacion ya que ambos tipos de clientes (nuevos y antiguos) lo compran, y por ultimo productos que deberian ser eliminados de la plataforma, ya que no generan pedidos, y cambiarlos por productos que si lo hagan"
   ]
  }
 ],
 "metadata": {
  "colab": {
   "provenance": []
  },
  "kernelspec": {
   "display_name": "Python 3 (ipykernel)",
   "language": "python",
   "name": "python3"
  },
  "language_info": {
   "codemirror_mode": {
    "name": "ipython",
    "version": 3
   },
   "file_extension": ".py",
   "mimetype": "text/x-python",
   "name": "python",
   "nbconvert_exporter": "python",
   "pygments_lexer": "ipython3",
   "version": "3.9.19"
  },
  "toc": {
   "base_numbering": 1,
   "nav_menu": {},
   "number_sections": true,
   "sideBar": true,
   "skip_h1_title": true,
   "title_cell": "Table of Contents",
   "title_sidebar": "Contents",
   "toc_cell": false,
   "toc_position": {},
   "toc_section_display": true,
   "toc_window_display": false
  },
  "vscode": {
   "interpreter": {
    "hash": "01a7be9ec63e704a62cefc5fe7a4756944464ee731be31632bdf42a4cb4688cf"
   }
  }
 },
 "nbformat": 4,
 "nbformat_minor": 5
}
