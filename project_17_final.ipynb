{
 "cells": [
  {
   "cell_type": "markdown",
   "id": "a94139b0",
   "metadata": {},
   "source": [
    "<h1><center><strong>Interconnect - Tasa de cancelación de clientes</strong></center></h1>"
   ]
  },
  {
   "cell_type": "markdown",
   "id": "243f9e17",
   "metadata": {},
   "source": [
    "## **1. Descripción del proyecto**"
   ]
  },
  {
   "cell_type": "markdown",
   "metadata": {},
   "source": [
    "### **1.1 Problema de negocio**"
   ]
  },
  {
   "cell_type": "markdown",
   "id": "87786d71",
   "metadata": {},
   "source": [
    "Al operador de telecomunicaciones Interconnect le gustaría poder pronosticar su tasa de cancelación de clientes. Si se descubre que un usuario o usuaria planea irse, se le ofrecerán códigos promocionales y opciones de planes especiales. El equipo de marketing de Interconnect ha recopilado algunos de los datos personales de sus clientes, incluyendo información sobre sus planes y contratos.\n",
    "\n",
    "**Servicios de Interconnect**\n",
    "\n",
    "Interconnect proporciona principalmente dos tipos de servicios:\n",
    "\n",
    "1. Comunicación por teléfono fijo. El teléfono se puede conectar a varias líneas de manera simultánea.\n",
    "2. Internet. La red se puede configurar a través de una línea telefónica (DSL, *línea de abonado digital*) o a través de un cable de fibra óptica.\n",
    "\n",
    "Algunos otros servicios que ofrece la empresa incluyen:\n",
    "\n",
    "- Seguridad en Internet: software antivirus (*ProtecciónDeDispositivo*) y un bloqueador de sitios web maliciosos (*SeguridadEnLínea*).\n",
    "- Una línea de soporte técnico (*SoporteTécnico*).\n",
    "- Almacenamiento de archivos en la nube y backup de datos (*BackupOnline*).\n",
    "- Streaming de TV (*StreamingTV*) y directorio de películas (*StreamingPelículas*)\n",
    "\n",
    "La clientela puede elegir entre un pago mensual o firmar un contrato de 1 o 2 años. Puede utilizar varios métodos de pago y recibir una factura electrónica después de una transacción."
   ]
  },
  {
   "cell_type": "markdown",
   "id": "11990be7",
   "metadata": {},
   "source": [
    "### **1.2 Objetivos**"
   ]
  },
  {
   "cell_type": "markdown",
   "id": "ccb18391",
   "metadata": {},
   "source": [
    "Este proyecto tiene tres objetivos principales:\n",
    "\n",
    "* Analizar los datos proporcionados, para identificar factores que pueden influir en la tasa de abandono de clientes.\n",
    "\n",
    "* Desarrollar modelos de machine learning que puedan predecir de forma efectiva la probabilidad de deserción de los clientes a los servicios de Interconnect.\n",
    "\n",
    "* Generar recomendaciones promocionales relevantes para mitigar el abandono de clientes y fomentar su fidelización."
   ]
  },
  {
   "cell_type": "markdown",
   "id": "1ee69745",
   "metadata": {},
   "source": [
    "### **1.3 Propuesta del proyecto**"
   ]
  },
  {
   "cell_type": "markdown",
   "id": "9b7b2390",
   "metadata": {},
   "source": [
    "Este proyecto se llevará a cabo en cuatro fases:\n",
    "\n",
    "* Preprocesamiento de datos: Mejorar la calidad de los datos para facilitar un análisis más efectivo.\n",
    "\n",
    "* Análisis exploratorio de datos: Investigar los factores que influyen en la tasa de abandono de clientes.\n",
    "\n",
    "* Modelado de machine learning: Desarrollar un modelo de aprendizaje automático capaz de predecir de manera precisa el abandono.\n",
    "\n",
    "* Informe final y recomendaciones: Resumir la implementación del proyecto y proponer estrategias promocionales basadas en los factores clave que contribuyen al abandono de clientes en los servicios de Interconnect."
   ]
  },
  {
   "cell_type": "markdown",
   "id": "cf604481",
   "metadata": {},
   "source": [
    "## **2. Preparación de los datos**"
   ]
  },
  {
   "cell_type": "markdown",
   "id": "80e7c938",
   "metadata": {},
   "source": [
    "### **2.1 Descripción de los datos**"
   ]
  },
  {
   "cell_type": "markdown",
   "id": "cb0d74a4",
   "metadata": {},
   "source": [
    "Los datos consisten en archivos obtenidos de diferentes fuentes y se pueden obtener en la ruta `datasets/final_provider/`.\n",
    "\n",
    "- `contract.csv` — información del contrato;\n",
    "- `personal.csv` — datos personales del cliente;\n",
    "- `internet.csv` — información sobre los servicios de Internet;\n",
    "- `phone.csv` — información sobre los servicios telefónicos.\n",
    "\n",
    "En cada archivo, la columna `customerID` (ID de cliente) contiene un código único asignado a cada cliente. La información del contrato es válida a partir del 1 de febrero de 2020."
   ]
  },
  {
   "cell_type": "markdown",
   "id": "a0a0f28f",
   "metadata": {},
   "source": [
    "### **2.2 Ambiente y Librerias**"
   ]
  },
  {
   "cell_type": "code",
   "execution_count": 180,
   "id": "e9233d79",
   "metadata": {},
   "outputs": [],
   "source": [
    "# Importar librerias requeridas\n",
    "\n",
    "import pandas as pd\n",
    "import numpy as np\n",
    "import matplotlib.pyplot as plt\n",
    "import seaborn as sns\n",
    "import re\n",
    "\n",
    "from sklearn.model_selection import train_test_split\n",
    "from boruta import BorutaPy\n",
    "from imblearn.over_sampling import SMOTENC\n",
    "from sklearn.preprocessing import StandardScaler\n",
    "from sklearn.metrics import roc_auc_score, f1_score, accuracy_score\n",
    "from sklearn.model_selection import cross_val_score, cross_val_predict, GridSearchCV, RandomizedSearchCV\n",
    "from scipy.stats import randint as sp_randInt\n",
    "from scipy.stats import uniform as sp_randFloat\n",
    "\n",
    "from sklearn.linear_model import LogisticRegression\n",
    "from sklearn.tree import DecisionTreeClassifier\n",
    "from sklearn.ensemble import RandomForestClassifier\n",
    "from lightgbm import LGBMClassifier\n",
    "from xgboost import XGBClassifier\n",
    "from catboost import CatBoostClassifier\n",
    "\n",
    "# Variable de aleatoriedad\n",
    "seed = 200"
   ]
  },
  {
   "cell_type": "markdown",
   "id": "79454008",
   "metadata": {},
   "source": [
    "### **2.3 Funciones**"
   ]
  },
  {
   "cell_type": "code",
   "execution_count": 181,
   "id": "ddf769bc",
   "metadata": {},
   "outputs": [],
   "source": [
    "\n",
    "# 1. Contexto general del conjunto de datos\n",
    "\n",
    "def info_data(data):\n",
    "    print('1. Tabla de datos')\n",
    "    display(data.sample(10))\n",
    "    print('='*100)\n",
    "    print()\n",
    "\n",
    "    print('2. Registros y variables')\n",
    "    print()\n",
    "    print('Registros: ', data.shape[0])\n",
    "    print()\n",
    "    print('Variables: ', data.shape[1])\n",
    "    print('='*100)\n",
    "    print()\n",
    "\n",
    "    print('3. Resumen general del dataset')\n",
    "    print(data.info())\n",
    "    print('='*100)\n",
    "    print()\n",
    "\n",
    "    print('4. Resumen estadistico del dataset')\n",
    "    print()\n",
    "    print(data.describe())\n",
    "    print('='*100)\n",
    "    print()\n",
    "\n",
    "    print('5. Valores duplicados por variable')\n",
    "    print()\n",
    "    print(data.duplicated().sum())\n",
    "    print('='*100)\n",
    "    print()\n",
    "\n",
    "    print('6. Valores ausentes por variable')\n",
    "    print()\n",
    "    print(data.isna().sum())\n",
    "    print('='*100)\n",
    "    print()\n",
    "\n",
    "\n",
    "# 2.Modifica formato nombre de columnas (snake_case)\n",
    "\n",
    "def camel_to_snake(string):\n",
    "    string = re.sub('(.)([A-Z][a-z]+)', r'\\1_\\2', string)\n",
    "    string = re.sub('(.)([0-9]+)', r'\\1_\\2', string)\n",
    "    return re.sub('([a-z0-9])([A-Z])', r'\\1_\\2', string).lower()\n",
    "\n",
    "\n",
    "# 3. Analiza distribución y elabora gráfico circular \n",
    "\n",
    "def analyze_column(column):\n",
    "    value_counts = data[column].value_counts()\n",
    "    percentages = (value_counts / len(data)) * 100\n",
    "    df = pd.DataFrame({'Cantidad de valores': value_counts, 'Porcentajes': percentages.map('{:.2f}%'.format)})\n",
    "    display(df)\n",
    "    plt.pie(value_counts, labels=value_counts.index, autopct='%.1f%%')\n",
    "    plt.title(f'Distribución de {column}') \n",
    "    plt.show()\n",
    "\n",
    "\n",
    "# 4. Define a function to calculate the churn rate and visualize it\n",
    "\n",
    "def analyze_churn_rate(column):\n",
    "\n",
    "    churn_rate = data.groupby(column, observed=True)['churn'].value_counts().unstack(fill_value=0)\n",
    "    churn_rate['churn_rate'] = (churn_rate[1] / churn_rate.sum(axis=1) * 100).round(2).astype(str) + '%'\n",
    "    churn_rate.plot(kind='bar', stacked=False)\n",
    "    plt.title('Tasa de abandono por ' + column)\n",
    "    plt.xlabel(column)\n",
    "    plt.ylabel('Cantidad')\n",
    "    plt.legend(title='Churn', loc='upper right')\n",
    "    plt.gca().set_xticklabels(churn_rate.index, rotation=45, ha='right')\n",
    "    plt.show()\n",
    "    return churn_rate\n",
    "\n",
    "\n",
    "# 5. Calcula las métricas AUC-ROC, F1-Score y Accuracy sin ajuste de hiperparámetros para evaluar los modelos\n",
    "\n",
    "def calculate_metrics(model, features_train, target_train, features_test, target_test, model_name):\n",
    "\n",
    "    proba_predictions_train = cross_val_predict(model, features_train, target_train, cv=5, method='predict_proba')\n",
    "    positive_probabilities_train = proba_predictions_train[:, 1]\n",
    "    auc_roc_train = roc_auc_score(target_train, positive_probabilities_train)\n",
    "    predictions_train = model.predict(features_train)\n",
    "    accuracy_train = accuracy_score(target_train, predictions_train)\n",
    "    f1_train = f1_score(target_train, predictions_train)\n",
    "    predictions_test = model.predict(features_test)\n",
    "    auc_roc_test = roc_auc_score(target_test, predictions_test)\n",
    "    accuracy_test = accuracy_score(target_test, predictions_test)\n",
    "    f1_test = f1_score(target_test, predictions_test)\n",
    "    results_df = pd.DataFrame({'Modelo': [model_name],\n",
    "                               'AUC-ROC Entrenamiento': [auc_roc_train],\n",
    "                               'AUC-ROC Prueba': [auc_roc_test],\n",
    "                               'F1-Score Entrenamiento': [f1_train],\n",
    "                               'F1-Score Prueba': [f1_test],\n",
    "                               'Accuracy Entrenamiento': [accuracy_train],\n",
    "                               'Accuracy Prueba': [accuracy_test]})    \n",
    "    return results_df\n",
    "\n",
    "\n",
    "# 6. Calcula las métricas AUC-ROC, F1-Score y Accuracy con ajuste de hiperparámetros para evaluar los modelos\n",
    "\n",
    "def hyperparam_tuning_calcule_metrics(model, param_distributions, features_train, target_train, features_test, target_test, model_name):\n",
    "    \n",
    "    random_search = RandomizedSearchCV(model, param_distributions=param_distributions, scoring='roc_auc', n_iter=10, cv=5, n_jobs=-1, random_state=seed)\n",
    "    random_search.fit(features_train, target_train)\n",
    "    best_model = random_search.best_estimator_\n",
    "    proba_predictions_train = best_model.predict_proba(features_train)\n",
    "    proba_predictions_test = best_model.predict_proba(features_test)\n",
    "    positive_probabilities_train = proba_predictions_train[:, 1]\n",
    "    positive_probabilities_test = proba_predictions_test[:, 1]\n",
    "    auc_roc_train = roc_auc_score(target_train, positive_probabilities_train)\n",
    "    auc_roc_test = roc_auc_score(target_test, positive_probabilities_test)\n",
    "    predictions_train = best_model.predict(features_train)\n",
    "    predictions_test = best_model.predict(features_test)\n",
    "    accuracy_train = accuracy_score(target_train, predictions_train)\n",
    "    accuracy_test = accuracy_score(target_test, predictions_test)\n",
    "    f1_train = f1_score(target_train, predictions_train)\n",
    "    f1_test = f1_score(target_test, predictions_test)\n",
    "    print(\"Mejores parámetros:\", random_search.best_params_)\n",
    "    results_df = pd.DataFrame({'Modelo': [model_name],\n",
    "                               'AUC-ROC Entrenamiento': [auc_roc_train],\n",
    "                               'AUC-ROC Prueba': [auc_roc_test],\n",
    "                               'F1-Score Entrenamiento': [f1_train],\n",
    "                               'F1-Score Prueba': [f1_test],\n",
    "                               'Accuracy Entrenamiento': [accuracy_train],\n",
    "                               'Accuracy Prueba': [accuracy_test]})\n",
    "    return results_df"
   ]
  },
  {
   "cell_type": "markdown",
   "id": "94bee349",
   "metadata": {},
   "source": [
    "### **2.4 Carga y lectura de datos**"
   ]
  },
  {
   "cell_type": "code",
   "execution_count": 182,
   "id": "34be8b30",
   "metadata": {},
   "outputs": [],
   "source": [
    "# Asignación de los conjuntos de datos en variables respectivas\n",
    "\n",
    "try:\n",
    "    contract, internet, personal, phone = pd.read_csv('files/datasets/input/contract.csv')\\\n",
    "                                        , pd.read_csv('files/datasets/input/internet.csv')\\\n",
    "                                        , pd.read_csv('files/datasets/input/personal.csv')\\\n",
    "                                        , pd.read_csv('files/datasets/input/phone.csv')\n",
    "\n",
    "except:\n",
    "    contract, internet, personal, phone = pd.read_csv('contract.csv')\\\n",
    "                                        , pd.read_csv('internet.csv')\\\n",
    "                                        , pd.read_csv('personal.csv')\\\n",
    "                                        , pd.read_csv('phone.csv')"
   ]
  },
  {
   "cell_type": "code",
   "execution_count": 183,
   "id": "c889f4c5",
   "metadata": {},
   "outputs": [
    {
     "name": "stdout",
     "output_type": "stream",
     "text": [
      "Datos de 'contract'\n"
     ]
    },
    {
     "data": {
      "text/html": [
       "<div>\n",
       "<style scoped>\n",
       "    .dataframe tbody tr th:only-of-type {\n",
       "        vertical-align: middle;\n",
       "    }\n",
       "\n",
       "    .dataframe tbody tr th {\n",
       "        vertical-align: top;\n",
       "    }\n",
       "\n",
       "    .dataframe thead th {\n",
       "        text-align: right;\n",
       "    }\n",
       "</style>\n",
       "<table border=\"1\" class=\"dataframe\">\n",
       "  <thead>\n",
       "    <tr style=\"text-align: right;\">\n",
       "      <th></th>\n",
       "      <th>customerID</th>\n",
       "      <th>BeginDate</th>\n",
       "      <th>EndDate</th>\n",
       "      <th>Type</th>\n",
       "      <th>PaperlessBilling</th>\n",
       "      <th>PaymentMethod</th>\n",
       "      <th>MonthlyCharges</th>\n",
       "      <th>TotalCharges</th>\n",
       "    </tr>\n",
       "  </thead>\n",
       "  <tbody>\n",
       "    <tr>\n",
       "      <th>0</th>\n",
       "      <td>7590-VHVEG</td>\n",
       "      <td>2020-01-01</td>\n",
       "      <td>No</td>\n",
       "      <td>Month-to-month</td>\n",
       "      <td>Yes</td>\n",
       "      <td>Electronic check</td>\n",
       "      <td>29.85</td>\n",
       "      <td>29.85</td>\n",
       "    </tr>\n",
       "    <tr>\n",
       "      <th>1</th>\n",
       "      <td>5575-GNVDE</td>\n",
       "      <td>2017-04-01</td>\n",
       "      <td>No</td>\n",
       "      <td>One year</td>\n",
       "      <td>No</td>\n",
       "      <td>Mailed check</td>\n",
       "      <td>56.95</td>\n",
       "      <td>1889.5</td>\n",
       "    </tr>\n",
       "    <tr>\n",
       "      <th>2</th>\n",
       "      <td>3668-QPYBK</td>\n",
       "      <td>2019-10-01</td>\n",
       "      <td>2019-12-01 00:00:00</td>\n",
       "      <td>Month-to-month</td>\n",
       "      <td>Yes</td>\n",
       "      <td>Mailed check</td>\n",
       "      <td>53.85</td>\n",
       "      <td>108.15</td>\n",
       "    </tr>\n",
       "    <tr>\n",
       "      <th>3</th>\n",
       "      <td>7795-CFOCW</td>\n",
       "      <td>2016-05-01</td>\n",
       "      <td>No</td>\n",
       "      <td>One year</td>\n",
       "      <td>No</td>\n",
       "      <td>Bank transfer (automatic)</td>\n",
       "      <td>42.30</td>\n",
       "      <td>1840.75</td>\n",
       "    </tr>\n",
       "    <tr>\n",
       "      <th>4</th>\n",
       "      <td>9237-HQITU</td>\n",
       "      <td>2019-09-01</td>\n",
       "      <td>2019-11-01 00:00:00</td>\n",
       "      <td>Month-to-month</td>\n",
       "      <td>Yes</td>\n",
       "      <td>Electronic check</td>\n",
       "      <td>70.70</td>\n",
       "      <td>151.65</td>\n",
       "    </tr>\n",
       "  </tbody>\n",
       "</table>\n",
       "</div>"
      ],
      "text/plain": [
       "   customerID   BeginDate              EndDate            Type  \\\n",
       "0  7590-VHVEG  2020-01-01                   No  Month-to-month   \n",
       "1  5575-GNVDE  2017-04-01                   No        One year   \n",
       "2  3668-QPYBK  2019-10-01  2019-12-01 00:00:00  Month-to-month   \n",
       "3  7795-CFOCW  2016-05-01                   No        One year   \n",
       "4  9237-HQITU  2019-09-01  2019-11-01 00:00:00  Month-to-month   \n",
       "\n",
       "  PaperlessBilling              PaymentMethod  MonthlyCharges TotalCharges  \n",
       "0              Yes           Electronic check           29.85        29.85  \n",
       "1               No               Mailed check           56.95       1889.5  \n",
       "2              Yes               Mailed check           53.85       108.15  \n",
       "3               No  Bank transfer (automatic)           42.30      1840.75  \n",
       "4              Yes           Electronic check           70.70       151.65  "
      ]
     },
     "metadata": {},
     "output_type": "display_data"
    },
    {
     "name": "stdout",
     "output_type": "stream",
     "text": [
      "\n",
      "Datos de 'internet'\n"
     ]
    },
    {
     "data": {
      "text/html": [
       "<div>\n",
       "<style scoped>\n",
       "    .dataframe tbody tr th:only-of-type {\n",
       "        vertical-align: middle;\n",
       "    }\n",
       "\n",
       "    .dataframe tbody tr th {\n",
       "        vertical-align: top;\n",
       "    }\n",
       "\n",
       "    .dataframe thead th {\n",
       "        text-align: right;\n",
       "    }\n",
       "</style>\n",
       "<table border=\"1\" class=\"dataframe\">\n",
       "  <thead>\n",
       "    <tr style=\"text-align: right;\">\n",
       "      <th></th>\n",
       "      <th>customerID</th>\n",
       "      <th>InternetService</th>\n",
       "      <th>OnlineSecurity</th>\n",
       "      <th>OnlineBackup</th>\n",
       "      <th>DeviceProtection</th>\n",
       "      <th>TechSupport</th>\n",
       "      <th>StreamingTV</th>\n",
       "      <th>StreamingMovies</th>\n",
       "    </tr>\n",
       "  </thead>\n",
       "  <tbody>\n",
       "    <tr>\n",
       "      <th>0</th>\n",
       "      <td>7590-VHVEG</td>\n",
       "      <td>DSL</td>\n",
       "      <td>No</td>\n",
       "      <td>Yes</td>\n",
       "      <td>No</td>\n",
       "      <td>No</td>\n",
       "      <td>No</td>\n",
       "      <td>No</td>\n",
       "    </tr>\n",
       "    <tr>\n",
       "      <th>1</th>\n",
       "      <td>5575-GNVDE</td>\n",
       "      <td>DSL</td>\n",
       "      <td>Yes</td>\n",
       "      <td>No</td>\n",
       "      <td>Yes</td>\n",
       "      <td>No</td>\n",
       "      <td>No</td>\n",
       "      <td>No</td>\n",
       "    </tr>\n",
       "    <tr>\n",
       "      <th>2</th>\n",
       "      <td>3668-QPYBK</td>\n",
       "      <td>DSL</td>\n",
       "      <td>Yes</td>\n",
       "      <td>Yes</td>\n",
       "      <td>No</td>\n",
       "      <td>No</td>\n",
       "      <td>No</td>\n",
       "      <td>No</td>\n",
       "    </tr>\n",
       "    <tr>\n",
       "      <th>3</th>\n",
       "      <td>7795-CFOCW</td>\n",
       "      <td>DSL</td>\n",
       "      <td>Yes</td>\n",
       "      <td>No</td>\n",
       "      <td>Yes</td>\n",
       "      <td>Yes</td>\n",
       "      <td>No</td>\n",
       "      <td>No</td>\n",
       "    </tr>\n",
       "    <tr>\n",
       "      <th>4</th>\n",
       "      <td>9237-HQITU</td>\n",
       "      <td>Fiber optic</td>\n",
       "      <td>No</td>\n",
       "      <td>No</td>\n",
       "      <td>No</td>\n",
       "      <td>No</td>\n",
       "      <td>No</td>\n",
       "      <td>No</td>\n",
       "    </tr>\n",
       "  </tbody>\n",
       "</table>\n",
       "</div>"
      ],
      "text/plain": [
       "   customerID InternetService OnlineSecurity OnlineBackup DeviceProtection  \\\n",
       "0  7590-VHVEG             DSL             No          Yes               No   \n",
       "1  5575-GNVDE             DSL            Yes           No              Yes   \n",
       "2  3668-QPYBK             DSL            Yes          Yes               No   \n",
       "3  7795-CFOCW             DSL            Yes           No              Yes   \n",
       "4  9237-HQITU     Fiber optic             No           No               No   \n",
       "\n",
       "  TechSupport StreamingTV StreamingMovies  \n",
       "0          No          No              No  \n",
       "1          No          No              No  \n",
       "2          No          No              No  \n",
       "3         Yes          No              No  \n",
       "4          No          No              No  "
      ]
     },
     "metadata": {},
     "output_type": "display_data"
    },
    {
     "name": "stdout",
     "output_type": "stream",
     "text": [
      "\n",
      "Datos de 'personal'\n"
     ]
    },
    {
     "data": {
      "text/html": [
       "<div>\n",
       "<style scoped>\n",
       "    .dataframe tbody tr th:only-of-type {\n",
       "        vertical-align: middle;\n",
       "    }\n",
       "\n",
       "    .dataframe tbody tr th {\n",
       "        vertical-align: top;\n",
       "    }\n",
       "\n",
       "    .dataframe thead th {\n",
       "        text-align: right;\n",
       "    }\n",
       "</style>\n",
       "<table border=\"1\" class=\"dataframe\">\n",
       "  <thead>\n",
       "    <tr style=\"text-align: right;\">\n",
       "      <th></th>\n",
       "      <th>customerID</th>\n",
       "      <th>gender</th>\n",
       "      <th>SeniorCitizen</th>\n",
       "      <th>Partner</th>\n",
       "      <th>Dependents</th>\n",
       "    </tr>\n",
       "  </thead>\n",
       "  <tbody>\n",
       "    <tr>\n",
       "      <th>0</th>\n",
       "      <td>7590-VHVEG</td>\n",
       "      <td>Female</td>\n",
       "      <td>0</td>\n",
       "      <td>Yes</td>\n",
       "      <td>No</td>\n",
       "    </tr>\n",
       "    <tr>\n",
       "      <th>1</th>\n",
       "      <td>5575-GNVDE</td>\n",
       "      <td>Male</td>\n",
       "      <td>0</td>\n",
       "      <td>No</td>\n",
       "      <td>No</td>\n",
       "    </tr>\n",
       "    <tr>\n",
       "      <th>2</th>\n",
       "      <td>3668-QPYBK</td>\n",
       "      <td>Male</td>\n",
       "      <td>0</td>\n",
       "      <td>No</td>\n",
       "      <td>No</td>\n",
       "    </tr>\n",
       "    <tr>\n",
       "      <th>3</th>\n",
       "      <td>7795-CFOCW</td>\n",
       "      <td>Male</td>\n",
       "      <td>0</td>\n",
       "      <td>No</td>\n",
       "      <td>No</td>\n",
       "    </tr>\n",
       "    <tr>\n",
       "      <th>4</th>\n",
       "      <td>9237-HQITU</td>\n",
       "      <td>Female</td>\n",
       "      <td>0</td>\n",
       "      <td>No</td>\n",
       "      <td>No</td>\n",
       "    </tr>\n",
       "  </tbody>\n",
       "</table>\n",
       "</div>"
      ],
      "text/plain": [
       "   customerID  gender  SeniorCitizen Partner Dependents\n",
       "0  7590-VHVEG  Female              0     Yes         No\n",
       "1  5575-GNVDE    Male              0      No         No\n",
       "2  3668-QPYBK    Male              0      No         No\n",
       "3  7795-CFOCW    Male              0      No         No\n",
       "4  9237-HQITU  Female              0      No         No"
      ]
     },
     "metadata": {},
     "output_type": "display_data"
    },
    {
     "name": "stdout",
     "output_type": "stream",
     "text": [
      "\n",
      "Datos de 'phone'\n"
     ]
    },
    {
     "data": {
      "text/html": [
       "<div>\n",
       "<style scoped>\n",
       "    .dataframe tbody tr th:only-of-type {\n",
       "        vertical-align: middle;\n",
       "    }\n",
       "\n",
       "    .dataframe tbody tr th {\n",
       "        vertical-align: top;\n",
       "    }\n",
       "\n",
       "    .dataframe thead th {\n",
       "        text-align: right;\n",
       "    }\n",
       "</style>\n",
       "<table border=\"1\" class=\"dataframe\">\n",
       "  <thead>\n",
       "    <tr style=\"text-align: right;\">\n",
       "      <th></th>\n",
       "      <th>customerID</th>\n",
       "      <th>MultipleLines</th>\n",
       "    </tr>\n",
       "  </thead>\n",
       "  <tbody>\n",
       "    <tr>\n",
       "      <th>0</th>\n",
       "      <td>5575-GNVDE</td>\n",
       "      <td>No</td>\n",
       "    </tr>\n",
       "    <tr>\n",
       "      <th>1</th>\n",
       "      <td>3668-QPYBK</td>\n",
       "      <td>No</td>\n",
       "    </tr>\n",
       "    <tr>\n",
       "      <th>2</th>\n",
       "      <td>9237-HQITU</td>\n",
       "      <td>No</td>\n",
       "    </tr>\n",
       "    <tr>\n",
       "      <th>3</th>\n",
       "      <td>9305-CDSKC</td>\n",
       "      <td>Yes</td>\n",
       "    </tr>\n",
       "    <tr>\n",
       "      <th>4</th>\n",
       "      <td>1452-KIOVK</td>\n",
       "      <td>Yes</td>\n",
       "    </tr>\n",
       "  </tbody>\n",
       "</table>\n",
       "</div>"
      ],
      "text/plain": [
       "   customerID MultipleLines\n",
       "0  5575-GNVDE            No\n",
       "1  3668-QPYBK            No\n",
       "2  9237-HQITU            No\n",
       "3  9305-CDSKC           Yes\n",
       "4  1452-KIOVK           Yes"
      ]
     },
     "metadata": {},
     "output_type": "display_data"
    },
    {
     "name": "stdout",
     "output_type": "stream",
     "text": [
      "\n"
     ]
    }
   ],
   "source": [
    "# Muestra de los datos\n",
    "\n",
    "datasets = {'contract': contract,\n",
    "            'internet': internet,\n",
    "            'personal': personal,\n",
    "            'phone': phone}\n",
    "\n",
    "\n",
    "for name, data in datasets.items():\n",
    "    print(f\"Datos de '{name}'\")\n",
    "    display(data.head())\n",
    "    print()"
   ]
  },
  {
   "cell_type": "code",
   "execution_count": 184,
   "id": "510b7a62",
   "metadata": {},
   "outputs": [
    {
     "name": "stdout",
     "output_type": "stream",
     "text": [
      "'contract' tiene 7043 filas y 8 columnas\n",
      "'internet' tiene 5517 filas y 8 columnas\n",
      "'personal' tiene 7043 filas y 5 columnas\n",
      "'phone' tiene 6361 filas y 2 columnas\n"
     ]
    }
   ],
   "source": [
    "# Verificar tamaño de cada conjunto de datos\n",
    "\n",
    "for name, data in datasets.items():\n",
    "    print(f\"'{name}' tiene {data.shape[0]} filas y {data.shape[1]} columnas\")\n",
    "    "
   ]
  },
  {
   "cell_type": "markdown",
   "id": "8c4a4336",
   "metadata": {},
   "source": [
    "Según la información obtenida, la columna `customerID` esta en todos los datasets, la cual, actúa como un identificador único establecido a cada cliente. Con el fin de sintetizar el análisis, se hara la unión de todos los datos en un solo conjunto de datos, mediante la columna `customerID`.\n",
    "\n",
    "Tambien es posible observar, que cada dataset tiene un tamaño diferente, siendo `contrato` y `personal` los que tienen más registros. Para conservar todos los datos, se utilizará el método de combinación merge, con el parámetro `how = 'outer'`."
   ]
  },
  {
   "cell_type": "code",
   "execution_count": 185,
   "id": "371eac4e",
   "metadata": {},
   "outputs": [
    {
     "name": "stdout",
     "output_type": "stream",
     "text": [
      "(7043, 20)\n",
      "\n",
      "   customerID   BeginDate              EndDate            Type  \\\n",
      "0  0002-ORFBO  2019-05-01                   No        One year   \n",
      "1  0003-MKNFE  2019-05-01                   No  Month-to-month   \n",
      "2  0004-TLHLJ  2019-09-01  2020-01-01 00:00:00  Month-to-month   \n",
      "3  0011-IGKFF  2018-12-01  2020-01-01 00:00:00  Month-to-month   \n",
      "4  0013-EXCHZ  2019-09-01  2019-12-01 00:00:00  Month-to-month   \n",
      "\n",
      "  PaperlessBilling     PaymentMethod  MonthlyCharges TotalCharges  gender  \\\n",
      "0              Yes      Mailed check            65.6        593.3  Female   \n",
      "1               No      Mailed check            59.9        542.4    Male   \n",
      "2              Yes  Electronic check            73.9       280.85    Male   \n",
      "3              Yes  Electronic check            98.0      1237.85    Male   \n",
      "4              Yes      Mailed check            83.9        267.4  Female   \n",
      "\n",
      "   SeniorCitizen Partner Dependents InternetService OnlineSecurity  \\\n",
      "0              0     Yes        Yes             DSL             No   \n",
      "1              0      No         No             DSL             No   \n",
      "2              0      No         No     Fiber optic             No   \n",
      "3              1     Yes         No     Fiber optic             No   \n",
      "4              1     Yes         No     Fiber optic             No   \n",
      "\n",
      "  OnlineBackup DeviceProtection TechSupport StreamingTV StreamingMovies  \\\n",
      "0          Yes               No         Yes         Yes              No   \n",
      "1           No               No          No          No             Yes   \n",
      "2           No              Yes          No          No              No   \n",
      "3          Yes              Yes          No         Yes             Yes   \n",
      "4           No               No         Yes         Yes              No   \n",
      "\n",
      "  MultipleLines  \n",
      "0            No  \n",
      "1           Yes  \n",
      "2            No  \n",
      "3            No  \n",
      "4            No  \n"
     ]
    }
   ],
   "source": [
    "# Combinar archivos en un solo conjunto de datos\n",
    "\n",
    "data = contract.merge(personal, on='customerID', how='outer')\\\n",
    "               .merge(internet, on='customerID', how='outer')\\\n",
    "               .merge(phone, on='customerID', how='outer')\n",
    "\n",
    "print(data.shape)\n",
    "print()\n",
    "print(data.head())"
   ]
  },
  {
   "cell_type": "markdown",
   "id": "46e23ca4",
   "metadata": {},
   "source": [
    "Reorganización final del conjunto de datos, orden y descripción de las columnas\n",
    "\n",
    "1. customerID: Identificador unico de cada cliente.\n",
    "2. BeginDate: Fecha de contratación del servicio.\n",
    "3. EndDate: Fecha de término del servicio.\n",
    "4. Type: Tipo de servicio (mensual, anual, bianual).\n",
    "5. PaperlessBilling: Facturación electrónica (yes/no).\n",
    "6. PaymentMethod: Método de pago que utiliza por el cliente.\n",
    "7. MonthlyCharges: Cargos mensuales por servicio.\n",
    "8. TotalCharges: Cargos totales por utilizar el servicio.\n",
    "9. gender: Género del cliente (Masculino/Femenino)\n",
    "10. SeniorCitizen: Cliente es adulto mayor (yes/no).\n",
    "11. Partner: Cliente tiene pareja/esposa (yes/no).\n",
    "12. Dependents: Cliente tiene hijos (yes/no).\n",
    "13. InternetService: Tipo de servicio de internet utilizado.\n",
    "14. OnlineSecurity: Servicio de seguridad en línea (yes/no).\n",
    "15. OnlineBackup: Servicio de respaldo en línea (yes/no).\n",
    "16. DeviceProtection: Servicio de protección de dispositivos (yes/no).\n",
    "17. TechSupport: Servicio de soporte técnico (yes/no).\n",
    "18. StreamingTV: Servicio de Streaming de televisión (yes/no).\n",
    "19. StreamingMovies: Servicio de Streaming de películas (yes/no).\n",
    "20. MultipleLines: Servicio de multiples líneas (yes/no)."
   ]
  },
  {
   "cell_type": "markdown",
   "id": "1dc2d2be",
   "metadata": {},
   "source": [
    "### **2.5 Información preliminar**"
   ]
  },
  {
   "cell_type": "code",
   "execution_count": 186,
   "id": "d580d285",
   "metadata": {},
   "outputs": [
    {
     "name": "stdout",
     "output_type": "stream",
     "text": [
      "1. Tabla de datos\n"
     ]
    },
    {
     "data": {
      "text/html": [
       "<div>\n",
       "<style scoped>\n",
       "    .dataframe tbody tr th:only-of-type {\n",
       "        vertical-align: middle;\n",
       "    }\n",
       "\n",
       "    .dataframe tbody tr th {\n",
       "        vertical-align: top;\n",
       "    }\n",
       "\n",
       "    .dataframe thead th {\n",
       "        text-align: right;\n",
       "    }\n",
       "</style>\n",
       "<table border=\"1\" class=\"dataframe\">\n",
       "  <thead>\n",
       "    <tr style=\"text-align: right;\">\n",
       "      <th></th>\n",
       "      <th>customerID</th>\n",
       "      <th>BeginDate</th>\n",
       "      <th>EndDate</th>\n",
       "      <th>Type</th>\n",
       "      <th>PaperlessBilling</th>\n",
       "      <th>PaymentMethod</th>\n",
       "      <th>MonthlyCharges</th>\n",
       "      <th>TotalCharges</th>\n",
       "      <th>gender</th>\n",
       "      <th>SeniorCitizen</th>\n",
       "      <th>Partner</th>\n",
       "      <th>Dependents</th>\n",
       "      <th>InternetService</th>\n",
       "      <th>OnlineSecurity</th>\n",
       "      <th>OnlineBackup</th>\n",
       "      <th>DeviceProtection</th>\n",
       "      <th>TechSupport</th>\n",
       "      <th>StreamingTV</th>\n",
       "      <th>StreamingMovies</th>\n",
       "      <th>MultipleLines</th>\n",
       "    </tr>\n",
       "  </thead>\n",
       "  <tbody>\n",
       "    <tr>\n",
       "      <th>3555</th>\n",
       "      <td>5038-ETMLM</td>\n",
       "      <td>2014-02-01</td>\n",
       "      <td>No</td>\n",
       "      <td>Two year</td>\n",
       "      <td>Yes</td>\n",
       "      <td>Bank transfer (automatic)</td>\n",
       "      <td>113.65</td>\n",
       "      <td>8182.75</td>\n",
       "      <td>Female</td>\n",
       "      <td>0</td>\n",
       "      <td>Yes</td>\n",
       "      <td>No</td>\n",
       "      <td>Fiber optic</td>\n",
       "      <td>Yes</td>\n",
       "      <td>Yes</td>\n",
       "      <td>Yes</td>\n",
       "      <td>Yes</td>\n",
       "      <td>Yes</td>\n",
       "      <td>Yes</td>\n",
       "      <td>Yes</td>\n",
       "    </tr>\n",
       "    <tr>\n",
       "      <th>6213</th>\n",
       "      <td>8782-LKFPK</td>\n",
       "      <td>2016-06-01</td>\n",
       "      <td>No</td>\n",
       "      <td>Month-to-month</td>\n",
       "      <td>Yes</td>\n",
       "      <td>Mailed check</td>\n",
       "      <td>90.40</td>\n",
       "      <td>4063</td>\n",
       "      <td>Male</td>\n",
       "      <td>0</td>\n",
       "      <td>No</td>\n",
       "      <td>No</td>\n",
       "      <td>Fiber optic</td>\n",
       "      <td>No</td>\n",
       "      <td>No</td>\n",
       "      <td>Yes</td>\n",
       "      <td>No</td>\n",
       "      <td>No</td>\n",
       "      <td>Yes</td>\n",
       "      <td>Yes</td>\n",
       "    </tr>\n",
       "    <tr>\n",
       "      <th>4578</th>\n",
       "      <td>6461-PPAXN</td>\n",
       "      <td>2017-03-01</td>\n",
       "      <td>No</td>\n",
       "      <td>One year</td>\n",
       "      <td>Yes</td>\n",
       "      <td>Bank transfer (automatic)</td>\n",
       "      <td>54.95</td>\n",
       "      <td>1916</td>\n",
       "      <td>Female</td>\n",
       "      <td>0</td>\n",
       "      <td>Yes</td>\n",
       "      <td>Yes</td>\n",
       "      <td>DSL</td>\n",
       "      <td>Yes</td>\n",
       "      <td>No</td>\n",
       "      <td>No</td>\n",
       "      <td>Yes</td>\n",
       "      <td>No</td>\n",
       "      <td>No</td>\n",
       "      <td>No</td>\n",
       "    </tr>\n",
       "    <tr>\n",
       "      <th>2777</th>\n",
       "      <td>3951-NJCVI</td>\n",
       "      <td>2016-08-01</td>\n",
       "      <td>No</td>\n",
       "      <td>Month-to-month</td>\n",
       "      <td>Yes</td>\n",
       "      <td>Electronic check</td>\n",
       "      <td>95.05</td>\n",
       "      <td>3944.5</td>\n",
       "      <td>Female</td>\n",
       "      <td>1</td>\n",
       "      <td>Yes</td>\n",
       "      <td>No</td>\n",
       "      <td>Fiber optic</td>\n",
       "      <td>No</td>\n",
       "      <td>No</td>\n",
       "      <td>No</td>\n",
       "      <td>No</td>\n",
       "      <td>Yes</td>\n",
       "      <td>Yes</td>\n",
       "      <td>Yes</td>\n",
       "    </tr>\n",
       "    <tr>\n",
       "      <th>6615</th>\n",
       "      <td>9399-APLBT</td>\n",
       "      <td>2019-11-01</td>\n",
       "      <td>2019-12-01 00:00:00</td>\n",
       "      <td>Month-to-month</td>\n",
       "      <td>Yes</td>\n",
       "      <td>Electronic check</td>\n",
       "      <td>74.70</td>\n",
       "      <td>74.7</td>\n",
       "      <td>Female</td>\n",
       "      <td>0</td>\n",
       "      <td>Yes</td>\n",
       "      <td>Yes</td>\n",
       "      <td>Fiber optic</td>\n",
       "      <td>No</td>\n",
       "      <td>Yes</td>\n",
       "      <td>No</td>\n",
       "      <td>No</td>\n",
       "      <td>No</td>\n",
       "      <td>No</td>\n",
       "      <td>No</td>\n",
       "    </tr>\n",
       "    <tr>\n",
       "      <th>4925</th>\n",
       "      <td>6927-WTFIV</td>\n",
       "      <td>2018-04-01</td>\n",
       "      <td>2019-12-01 00:00:00</td>\n",
       "      <td>Month-to-month</td>\n",
       "      <td>No</td>\n",
       "      <td>Credit card (automatic)</td>\n",
       "      <td>71.30</td>\n",
       "      <td>1389.2</td>\n",
       "      <td>Male</td>\n",
       "      <td>1</td>\n",
       "      <td>No</td>\n",
       "      <td>No</td>\n",
       "      <td>Fiber optic</td>\n",
       "      <td>No</td>\n",
       "      <td>No</td>\n",
       "      <td>No</td>\n",
       "      <td>No</td>\n",
       "      <td>No</td>\n",
       "      <td>No</td>\n",
       "      <td>No</td>\n",
       "    </tr>\n",
       "    <tr>\n",
       "      <th>3098</th>\n",
       "      <td>4443-EMBNA</td>\n",
       "      <td>2014-03-01</td>\n",
       "      <td>No</td>\n",
       "      <td>Two year</td>\n",
       "      <td>No</td>\n",
       "      <td>Bank transfer (automatic)</td>\n",
       "      <td>24.75</td>\n",
       "      <td>1836.9</td>\n",
       "      <td>Female</td>\n",
       "      <td>0</td>\n",
       "      <td>Yes</td>\n",
       "      <td>No</td>\n",
       "      <td>NaN</td>\n",
       "      <td>NaN</td>\n",
       "      <td>NaN</td>\n",
       "      <td>NaN</td>\n",
       "      <td>NaN</td>\n",
       "      <td>NaN</td>\n",
       "      <td>NaN</td>\n",
       "      <td>Yes</td>\n",
       "    </tr>\n",
       "    <tr>\n",
       "      <th>2133</th>\n",
       "      <td>3063-QFSZL</td>\n",
       "      <td>2019-10-01</td>\n",
       "      <td>2019-11-01 00:00:00</td>\n",
       "      <td>Month-to-month</td>\n",
       "      <td>Yes</td>\n",
       "      <td>Electronic check</td>\n",
       "      <td>55.40</td>\n",
       "      <td>55.4</td>\n",
       "      <td>Female</td>\n",
       "      <td>0</td>\n",
       "      <td>No</td>\n",
       "      <td>No</td>\n",
       "      <td>DSL</td>\n",
       "      <td>No</td>\n",
       "      <td>No</td>\n",
       "      <td>No</td>\n",
       "      <td>No</td>\n",
       "      <td>No</td>\n",
       "      <td>Yes</td>\n",
       "      <td>No</td>\n",
       "    </tr>\n",
       "    <tr>\n",
       "      <th>754</th>\n",
       "      <td>1098-KFQEC</td>\n",
       "      <td>2015-07-01</td>\n",
       "      <td>No</td>\n",
       "      <td>Two year</td>\n",
       "      <td>No</td>\n",
       "      <td>Credit card (automatic)</td>\n",
       "      <td>19.40</td>\n",
       "      <td>1083</td>\n",
       "      <td>Female</td>\n",
       "      <td>0</td>\n",
       "      <td>Yes</td>\n",
       "      <td>Yes</td>\n",
       "      <td>NaN</td>\n",
       "      <td>NaN</td>\n",
       "      <td>NaN</td>\n",
       "      <td>NaN</td>\n",
       "      <td>NaN</td>\n",
       "      <td>NaN</td>\n",
       "      <td>NaN</td>\n",
       "      <td>No</td>\n",
       "    </tr>\n",
       "    <tr>\n",
       "      <th>355</th>\n",
       "      <td>0520-FDVVT</td>\n",
       "      <td>2016-12-01</td>\n",
       "      <td>2019-11-01 00:00:00</td>\n",
       "      <td>One year</td>\n",
       "      <td>Yes</td>\n",
       "      <td>Bank transfer (automatic)</td>\n",
       "      <td>102.35</td>\n",
       "      <td>3626.1</td>\n",
       "      <td>Male</td>\n",
       "      <td>0</td>\n",
       "      <td>No</td>\n",
       "      <td>No</td>\n",
       "      <td>Fiber optic</td>\n",
       "      <td>No</td>\n",
       "      <td>Yes</td>\n",
       "      <td>Yes</td>\n",
       "      <td>No</td>\n",
       "      <td>Yes</td>\n",
       "      <td>Yes</td>\n",
       "      <td>No</td>\n",
       "    </tr>\n",
       "  </tbody>\n",
       "</table>\n",
       "</div>"
      ],
      "text/plain": [
       "      customerID   BeginDate              EndDate            Type  \\\n",
       "3555  5038-ETMLM  2014-02-01                   No        Two year   \n",
       "6213  8782-LKFPK  2016-06-01                   No  Month-to-month   \n",
       "4578  6461-PPAXN  2017-03-01                   No        One year   \n",
       "2777  3951-NJCVI  2016-08-01                   No  Month-to-month   \n",
       "6615  9399-APLBT  2019-11-01  2019-12-01 00:00:00  Month-to-month   \n",
       "4925  6927-WTFIV  2018-04-01  2019-12-01 00:00:00  Month-to-month   \n",
       "3098  4443-EMBNA  2014-03-01                   No        Two year   \n",
       "2133  3063-QFSZL  2019-10-01  2019-11-01 00:00:00  Month-to-month   \n",
       "754   1098-KFQEC  2015-07-01                   No        Two year   \n",
       "355   0520-FDVVT  2016-12-01  2019-11-01 00:00:00        One year   \n",
       "\n",
       "     PaperlessBilling              PaymentMethod  MonthlyCharges TotalCharges  \\\n",
       "3555              Yes  Bank transfer (automatic)          113.65      8182.75   \n",
       "6213              Yes               Mailed check           90.40         4063   \n",
       "4578              Yes  Bank transfer (automatic)           54.95         1916   \n",
       "2777              Yes           Electronic check           95.05       3944.5   \n",
       "6615              Yes           Electronic check           74.70         74.7   \n",
       "4925               No    Credit card (automatic)           71.30       1389.2   \n",
       "3098               No  Bank transfer (automatic)           24.75       1836.9   \n",
       "2133              Yes           Electronic check           55.40         55.4   \n",
       "754                No    Credit card (automatic)           19.40         1083   \n",
       "355               Yes  Bank transfer (automatic)          102.35       3626.1   \n",
       "\n",
       "      gender  SeniorCitizen Partner Dependents InternetService OnlineSecurity  \\\n",
       "3555  Female              0     Yes         No     Fiber optic            Yes   \n",
       "6213    Male              0      No         No     Fiber optic             No   \n",
       "4578  Female              0     Yes        Yes             DSL            Yes   \n",
       "2777  Female              1     Yes         No     Fiber optic             No   \n",
       "6615  Female              0     Yes        Yes     Fiber optic             No   \n",
       "4925    Male              1      No         No     Fiber optic             No   \n",
       "3098  Female              0     Yes         No             NaN            NaN   \n",
       "2133  Female              0      No         No             DSL             No   \n",
       "754   Female              0     Yes        Yes             NaN            NaN   \n",
       "355     Male              0      No         No     Fiber optic             No   \n",
       "\n",
       "     OnlineBackup DeviceProtection TechSupport StreamingTV StreamingMovies  \\\n",
       "3555          Yes              Yes         Yes         Yes             Yes   \n",
       "6213           No              Yes          No          No             Yes   \n",
       "4578           No               No         Yes          No              No   \n",
       "2777           No               No          No         Yes             Yes   \n",
       "6615          Yes               No          No          No              No   \n",
       "4925           No               No          No          No              No   \n",
       "3098          NaN              NaN         NaN         NaN             NaN   \n",
       "2133           No               No          No          No             Yes   \n",
       "754           NaN              NaN         NaN         NaN             NaN   \n",
       "355           Yes              Yes          No         Yes             Yes   \n",
       "\n",
       "     MultipleLines  \n",
       "3555           Yes  \n",
       "6213           Yes  \n",
       "4578            No  \n",
       "2777           Yes  \n",
       "6615            No  \n",
       "4925            No  \n",
       "3098           Yes  \n",
       "2133            No  \n",
       "754             No  \n",
       "355             No  "
      ]
     },
     "metadata": {},
     "output_type": "display_data"
    },
    {
     "name": "stdout",
     "output_type": "stream",
     "text": [
      "====================================================================================================\n",
      "\n",
      "2. Registros y variables\n",
      "\n",
      "Registros:  7043\n",
      "\n",
      "Variables:  20\n",
      "====================================================================================================\n",
      "\n",
      "3. Resumen general del dataset\n",
      "<class 'pandas.core.frame.DataFrame'>\n",
      "RangeIndex: 7043 entries, 0 to 7042\n",
      "Data columns (total 20 columns):\n",
      " #   Column            Non-Null Count  Dtype  \n",
      "---  ------            --------------  -----  \n",
      " 0   customerID        7043 non-null   object \n",
      " 1   BeginDate         7043 non-null   object \n",
      " 2   EndDate           7043 non-null   object \n",
      " 3   Type              7043 non-null   object \n",
      " 4   PaperlessBilling  7043 non-null   object \n",
      " 5   PaymentMethod     7043 non-null   object \n",
      " 6   MonthlyCharges    7043 non-null   float64\n",
      " 7   TotalCharges      7043 non-null   object \n",
      " 8   gender            7043 non-null   object \n",
      " 9   SeniorCitizen     7043 non-null   int64  \n",
      " 10  Partner           7043 non-null   object \n",
      " 11  Dependents        7043 non-null   object \n",
      " 12  InternetService   5517 non-null   object \n",
      " 13  OnlineSecurity    5517 non-null   object \n",
      " 14  OnlineBackup      5517 non-null   object \n",
      " 15  DeviceProtection  5517 non-null   object \n",
      " 16  TechSupport       5517 non-null   object \n",
      " 17  StreamingTV       5517 non-null   object \n",
      " 18  StreamingMovies   5517 non-null   object \n",
      " 19  MultipleLines     6361 non-null   object \n",
      "dtypes: float64(1), int64(1), object(18)\n",
      "memory usage: 1.1+ MB\n",
      "None\n",
      "====================================================================================================\n",
      "\n",
      "4. Resumen estadistico del dataset\n",
      "\n",
      "       MonthlyCharges  SeniorCitizen\n",
      "count     7043.000000    7043.000000\n",
      "mean        64.761692       0.162147\n",
      "std         30.090047       0.368612\n",
      "min         18.250000       0.000000\n",
      "25%         35.500000       0.000000\n",
      "50%         70.350000       0.000000\n",
      "75%         89.850000       0.000000\n",
      "max        118.750000       1.000000\n",
      "====================================================================================================\n",
      "\n",
      "5. Valores duplicados por variable\n",
      "\n",
      "0\n",
      "====================================================================================================\n",
      "\n",
      "6. Valores ausentes por variable\n",
      "\n",
      "customerID             0\n",
      "BeginDate              0\n",
      "EndDate                0\n",
      "Type                   0\n",
      "PaperlessBilling       0\n",
      "PaymentMethod          0\n",
      "MonthlyCharges         0\n",
      "TotalCharges           0\n",
      "gender                 0\n",
      "SeniorCitizen          0\n",
      "Partner                0\n",
      "Dependents             0\n",
      "InternetService     1526\n",
      "OnlineSecurity      1526\n",
      "OnlineBackup        1526\n",
      "DeviceProtection    1526\n",
      "TechSupport         1526\n",
      "StreamingTV         1526\n",
      "StreamingMovies     1526\n",
      "MultipleLines        682\n",
      "dtype: int64\n",
      "====================================================================================================\n",
      "\n"
     ]
    }
   ],
   "source": [
    "# Inspección del conjunto de datos\n",
    "\n",
    "info_data(data)"
   ]
  },
  {
   "cell_type": "markdown",
   "id": "f1a5ccd7",
   "metadata": {},
   "source": [
    "**Hallazgos**\n",
    "\n",
    "- El conjunto de datos final contiene 7043 observaciones y 20 variables.\n",
    "\n",
    "- Las tablas de `ìnternet` y `phone` tenian valores faltantes, los cuales se traspasaron al dataset final.\n",
    "\n",
    "- Estandarizar el formato de nombres de las columnas para mantener la coherencia de la tabla.\n",
    "\n",
    "- No existen valores duplicados en el conjunto de datos.\n",
    "\n",
    "- Gran parte de las variables del set de datos son tipo object, incluyendo `BeginDate` y `EndDate` que deben ser tipo datetime, y `TotalCharges`, que debe ser tipo float.\n",
    "\n",
    "- Solo existen 2 columnas numéricas, `SeniorCitizen` y `MonthlyCharges`.\n",
    "\n",
    "-  `MonthlyCharges` tiene una media de 64.76 dólares por mes, y una mediana de 70.35 dólares, lo que puede implicar presencia de valores atípicos(outliers).\n",
    "\n",
    "-  `SeniorCitizen` solo contiene valores 1 y 0, para indicear si el clientes es adulto mayor o no.\n",
    "\n",
    "-  Los valores ausentes estan presentes en 8 columnas, y corresponden a casi un 22% del total de registros, por ello, es necesario indagar y aplicar métodos y/o técnicas apropiadas para su tratamiento, con el fin de conservar la integridad de los datos.\n",
    "\n",
    "-  Las columnas se componen de datos de 'yes/no', deben ser representadas de manera uniforma como la columna `SeniorCitizen`.\n",
    "\n",
    "-  `TotalCharges` tiene tipo de dato erroneo, lo que impide ver sus valores en el análisis descriptivo.\n",
    "\n",
    "-  `EndDate` sera la colummna objetivo del modelo de machine learning del proyecto, la cual indica el estado del cliente, si sigue usando los servicios o los ha dado de baja.\n",
    "\n",
    "-  Al ser un modelo de clasificación, es necesario que la columna objetivo este representada por datos de valores binarios, por lo que es necesario transformar sus datos a valores de 0 y 1. \n",
    "\n",
    "\n",
    "\n",
    "\n",
    "En el siguiente apartado, se procedera a depurar el conjunto de datos.\n",
    "\n"
   ]
  },
  {
   "cell_type": "markdown",
   "id": "49c9d4c9",
   "metadata": {},
   "source": [
    "### **2.6 Pre-procesamiento de datos**"
   ]
  },
  {
   "cell_type": "markdown",
   "id": "81d609b3",
   "metadata": {},
   "source": [
    "#### **2.6.1 Estandarizar formato de nombre de columnas**"
   ]
  },
  {
   "cell_type": "code",
   "execution_count": 187,
   "id": "40b35ed5",
   "metadata": {},
   "outputs": [
    {
     "data": {
      "text/plain": [
       "Index(['customer_id', 'begin_date', 'end_date', 'type', 'paperless_billing',\n",
       "       'payment_method', 'monthly_charges', 'total_charges', 'gender',\n",
       "       'senior_citizen', 'partner', 'dependents', 'internet_service',\n",
       "       'online_security', 'online_backup', 'device_protection', 'tech_support',\n",
       "       'streaming_tv', 'streaming_movies', 'multiple_lines'],\n",
       "      dtype='object')"
      ]
     },
     "execution_count": 187,
     "metadata": {},
     "output_type": "execute_result"
    }
   ],
   "source": [
    "# Aplicación de función 'camel_to_snake' para estandarizar el formato\n",
    "# Verificar resultados\n",
    "\n",
    "new_cols = []\n",
    "for string in data.columns:\n",
    "    new_cols.append(camel_to_snake(string))\n",
    "\n",
    "data.columns = new_cols\n",
    "data.columns"
   ]
  },
  {
   "cell_type": "markdown",
   "id": "8e81d3fa",
   "metadata": {},
   "source": [
    "#### **2.6.2 Modificación de tipos de datos**"
   ]
  },
  {
   "cell_type": "markdown",
   "id": "4bcb89b8",
   "metadata": {},
   "source": [
    "Las columnas que requieren estos cambios son las siguientes:\n",
    "\n",
    "- `begin_date` y `end_date` que deben ser convertidas de tipo object a tipo datetime.\n",
    "- `total_charges` que será modificada de tipo object a tipo float.\n",
    "- Las columnas categóricas, con valores 'yes/no', serán modificadas a valores binarios, donde 'yes' será valorizado como 1, y 'no' como 0. Esto aplica para las columnas `partner`, `dependents`, `online_security`, `online_backup`, `device_protection`, `tech_support`, `streaming_tv`, `streaming_movies`,`multiple_lines`."
   ]
  },
  {
   "cell_type": "markdown",
   "id": "3014e21e",
   "metadata": {},
   "source": [
    "##### **2.6.2.1 Columnas `begin_date` y `end_date`**"
   ]
  },
  {
   "cell_type": "code",
   "execution_count": 188,
   "id": "9e9e8f1d",
   "metadata": {},
   "outputs": [
    {
     "name": "stdout",
     "output_type": "stream",
     "text": [
      "Datos únicos de la columna \"begin_date\"\n",
      "\n",
      "['2019-05-01' '2019-09-01' '2018-12-01' '2014-03-01' '2014-11-01'\n",
      " '2019-07-01' '2014-09-01' '2015-08-01' '2014-02-01' '2015-06-01'\n",
      " '2017-04-01' '2020-01-01' '2016-03-01' '2019-10-01' '2015-12-01'\n",
      " '2018-10-01' '2018-03-01' '2019-11-01' '2015-07-01' '2017-12-01'\n",
      " '2014-05-01' '2017-01-01' '2016-01-01' '2014-08-01' '2014-07-01'\n",
      " '2018-06-01' '2016-07-01' '2015-03-01' '2019-02-01' '2017-11-01'\n",
      " '2018-01-01' '2017-09-01' '2017-03-01' '2014-10-01' '2016-11-01'\n",
      " '2016-10-01' '2016-09-01' '2019-08-01' '2017-08-01' '2014-04-01'\n",
      " '2015-05-01' '2015-04-01' '2017-06-01' '2015-10-01' '2017-05-01'\n",
      " '2019-04-01' '2018-02-01' '2015-01-01' '2018-07-01' '2016-06-01'\n",
      " '2018-11-01' '2019-12-01' '2014-12-01' '2019-03-01' '2019-06-01'\n",
      " '2014-01-01' '2016-04-01' '2018-08-01' '2018-04-01' '2015-02-01'\n",
      " '2016-02-01' '2017-07-01' '2019-01-01' '2015-09-01' '2014-06-01'\n",
      " '2018-09-01' '2017-10-01' '2017-02-01' '2015-11-01' '2016-08-01'\n",
      " '2016-05-01' '2018-05-01' '2016-12-01' '2013-10-01' '2020-02-01'\n",
      " '2013-12-01' '2013-11-01']\n",
      "\n",
      "====================================================================================================\n",
      "\n",
      "Datos únicos de la columna \"end_date\"\n",
      "\n",
      "['No' '2020-01-01 00:00:00' '2019-12-01 00:00:00' '2019-11-01 00:00:00'\n",
      " '2019-10-01 00:00:00']\n"
     ]
    }
   ],
   "source": [
    "# Verificar valores unicos de la columna `begin_date` y `end_date`\n",
    "\n",
    "print('Datos únicos de la columna \"begin_date\"')\n",
    "print()\n",
    "print(data['begin_date'].unique())\n",
    "print()\n",
    "print('='*100)\n",
    "print()\n",
    "print('Datos únicos de la columna \"end_date\"')\n",
    "print()\n",
    "print(data['end_date'].unique())"
   ]
  },
  {
   "cell_type": "markdown",
   "id": "0944a391",
   "metadata": {},
   "source": [
    "Los datos de fecha en ambas columnas empiezan desde el día 01, la informacion horaria no es relevante, por ello, se extraera el mes y el año de dichas columnas.\n",
    "\n",
    "La columna `end_date`, contiene una cantidad considerablemente menor de valores, esta indica siel cliente sigue suscrito o ha abandonado el servicio.\n",
    "\n",
    "Finalmente, a partir de la columna `end_date` se agregara una columna llamada `churn`, la cual contendrá valores binarios, 0 y 1. El valor 0 senalará que el cliente continua activo, mientras que el valor 1, indicará que el cliente ha salido de la compañia. Los fundamentos que respaldan esta determinación, se basan es que la columna `end_date` tiene solo 5 valores únicos, los cuales corresponden a 4 meses distintos entre octubre de 2019 y enero de 2020, mientras que en la columna `begin_date` los registros de clientes comienzan en octubre de 2013 hasta febrero 2020. Por lo tanto, se procede a eliminar la columna `end_date` del conjunto de datos."
   ]
  },
  {
   "cell_type": "code",
   "execution_count": 189,
   "id": "c1e27fa7",
   "metadata": {},
   "outputs": [
    {
     "data": {
      "text/plain": [
       "0    2019-05\n",
       "1    2019-05\n",
       "2    2019-09\n",
       "3    2018-12\n",
       "4    2019-09\n",
       "Name: begin_date, dtype: period[M]"
      ]
     },
     "execution_count": 189,
     "metadata": {},
     "output_type": "execute_result"
    }
   ],
   "source": [
    "# Convierte columna `begin_date` a formato datetime\n",
    "# Extrae solo mes y año de la fecha\n",
    "# Verificar resultado\n",
    "\n",
    "data['begin_date'] = data['begin_date'].apply(pd.to_datetime).dt.to_period('M')\n",
    "data['begin_date'].head()"
   ]
  },
  {
   "cell_type": "code",
   "execution_count": 190,
   "id": "ffdf26e1",
   "metadata": {},
   "outputs": [
    {
     "data": {
      "text/plain": [
       "0    0\n",
       "1    0\n",
       "2    1\n",
       "3    1\n",
       "4    1\n",
       "Name: churn, dtype: int64"
      ]
     },
     "execution_count": 190,
     "metadata": {},
     "output_type": "execute_result"
    }
   ],
   "source": [
    "# Agregar columna `churn`\n",
    "# Eliminar columna `end_date`\n",
    "# Verificar resultado\n",
    "\n",
    "data['churn'] = data['end_date'].apply(lambda x : 0 if x == 'No' else 1)\n",
    "data.drop('end_date', axis=1, inplace=True)\n",
    "data['churn'].head()"
   ]
  },
  {
   "cell_type": "markdown",
   "id": "edcc4644",
   "metadata": {},
   "source": [
    "##### **2.6.2.2 Columna `total_charges`**"
   ]
  },
  {
   "cell_type": "code",
   "execution_count": 191,
   "id": "9eaac2f6",
   "metadata": {},
   "outputs": [
    {
     "data": {
      "text/plain": [
       "array(['593.3', '542.4', '280.85', ..., '742.9', '4627.65', '3707.6'],\n",
       "      shape=(6531,), dtype=object)"
      ]
     },
     "execution_count": 191,
     "metadata": {},
     "output_type": "execute_result"
    }
   ],
   "source": [
    "# Examinar los valores únicos de la columna `total_charges`\n",
    "\n",
    "data['total_charges'].unique()"
   ]
  },
  {
   "cell_type": "code",
   "execution_count": 192,
   "id": "a44efe56",
   "metadata": {},
   "outputs": [
    {
     "data": {
      "text/plain": [
       "0     593.30\n",
       "1     542.40\n",
       "2     280.85\n",
       "3    1237.85\n",
       "4     267.40\n",
       "Name: total_charges, dtype: float64"
      ]
     },
     "execution_count": 192,
     "metadata": {},
     "output_type": "execute_result"
    }
   ],
   "source": [
    "# Cambiar tipo de dato de la columna `total_charges` a numérico\n",
    "# Verificar resultado\n",
    "\n",
    "data['total_charges'] = pd.to_numeric(data['total_charges'], errors='coerce')\n",
    "data['total_charges'].head()"
   ]
  },
  {
   "cell_type": "markdown",
   "id": "a76749f7",
   "metadata": {},
   "source": [
    "##### **2.6.2.3 Columnas Categóricas**\n",
    "\n",
    "El conjunto de datos contiene varias columnas categóricas que solo contienen 'yes' y 'no', por lo que para simplificar el proceso de análisis, se han de modificar los valores categóricos(string) en valores binarios, donde 1 representará 'yes' y el 0 representará 'no'.\n",
    "\n",
    "Las columnas que requieren este proceso son: `partner`, `dependents`, `online_security`, `online_backup`, `device_protection`, `tech_support`, `streaming_tv`, `streaming_movies`,`multiple_lines`."
   ]
  },
  {
   "cell_type": "code",
   "execution_count": 193,
   "id": "fce0c9a1",
   "metadata": {},
   "outputs": [
    {
     "data": {
      "text/html": [
       "<div>\n",
       "<style scoped>\n",
       "    .dataframe tbody tr th:only-of-type {\n",
       "        vertical-align: middle;\n",
       "    }\n",
       "\n",
       "    .dataframe tbody tr th {\n",
       "        vertical-align: top;\n",
       "    }\n",
       "\n",
       "    .dataframe thead th {\n",
       "        text-align: right;\n",
       "    }\n",
       "</style>\n",
       "<table border=\"1\" class=\"dataframe\">\n",
       "  <thead>\n",
       "    <tr style=\"text-align: right;\">\n",
       "      <th></th>\n",
       "      <th>0</th>\n",
       "      <th>1</th>\n",
       "      <th>2</th>\n",
       "    </tr>\n",
       "  </thead>\n",
       "  <tbody>\n",
       "    <tr>\n",
       "      <th>online_security</th>\n",
       "      <td>No</td>\n",
       "      <td>Yes</td>\n",
       "      <td>NaN</td>\n",
       "    </tr>\n",
       "    <tr>\n",
       "      <th>online_backup</th>\n",
       "      <td>Yes</td>\n",
       "      <td>No</td>\n",
       "      <td>NaN</td>\n",
       "    </tr>\n",
       "    <tr>\n",
       "      <th>device_protection</th>\n",
       "      <td>No</td>\n",
       "      <td>Yes</td>\n",
       "      <td>NaN</td>\n",
       "    </tr>\n",
       "    <tr>\n",
       "      <th>tech_support</th>\n",
       "      <td>Yes</td>\n",
       "      <td>No</td>\n",
       "      <td>NaN</td>\n",
       "    </tr>\n",
       "    <tr>\n",
       "      <th>streaming_tv</th>\n",
       "      <td>Yes</td>\n",
       "      <td>No</td>\n",
       "      <td>NaN</td>\n",
       "    </tr>\n",
       "    <tr>\n",
       "      <th>streaming_movies</th>\n",
       "      <td>No</td>\n",
       "      <td>Yes</td>\n",
       "      <td>NaN</td>\n",
       "    </tr>\n",
       "    <tr>\n",
       "      <th>multiple_lines</th>\n",
       "      <td>No</td>\n",
       "      <td>Yes</td>\n",
       "      <td>NaN</td>\n",
       "    </tr>\n",
       "  </tbody>\n",
       "</table>\n",
       "</div>"
      ],
      "text/plain": [
       "                     0    1    2\n",
       "online_security     No  Yes  NaN\n",
       "online_backup      Yes   No  NaN\n",
       "device_protection   No  Yes  NaN\n",
       "tech_support       Yes   No  NaN\n",
       "streaming_tv       Yes   No  NaN\n",
       "streaming_movies    No  Yes  NaN\n",
       "multiple_lines      No  Yes  NaN"
      ]
     },
     "execution_count": 193,
     "metadata": {},
     "output_type": "execute_result"
    }
   ],
   "source": [
    "# Verificar valores únicos de cada columna, excluyendo `partner`, `dependents`, `paperless_billing`.\n",
    "\n",
    "values_unique = pd.DataFrame({\n",
    "    'online_security' : data['online_security'].unique(),\n",
    "    'online_backup' : data['online_backup'].unique(),\n",
    "    'device_protection' : data['device_protection'].unique(),\n",
    "    'tech_support' : data['tech_support'].unique(),\n",
    "    'streaming_tv' : data['streaming_tv'].unique(),\n",
    "    'streaming_movies' : data['streaming_movies'].unique(),\n",
    "    'multiple_lines' : data['multiple_lines'].unique()\n",
    "    })\n",
    "\n",
    "values_unique.T"
   ]
  },
  {
   "cell_type": "code",
   "execution_count": 194,
   "id": "ab72737b",
   "metadata": {},
   "outputs": [
    {
     "data": {
      "text/html": [
       "<div>\n",
       "<style scoped>\n",
       "    .dataframe tbody tr th:only-of-type {\n",
       "        vertical-align: middle;\n",
       "    }\n",
       "\n",
       "    .dataframe tbody tr th {\n",
       "        vertical-align: top;\n",
       "    }\n",
       "\n",
       "    .dataframe thead th {\n",
       "        text-align: right;\n",
       "    }\n",
       "</style>\n",
       "<table border=\"1\" class=\"dataframe\">\n",
       "  <thead>\n",
       "    <tr style=\"text-align: right;\">\n",
       "      <th></th>\n",
       "      <th>0</th>\n",
       "      <th>1</th>\n",
       "    </tr>\n",
       "  </thead>\n",
       "  <tbody>\n",
       "    <tr>\n",
       "      <th>partner</th>\n",
       "      <td>Yes</td>\n",
       "      <td>No</td>\n",
       "    </tr>\n",
       "    <tr>\n",
       "      <th>dependents</th>\n",
       "      <td>Yes</td>\n",
       "      <td>No</td>\n",
       "    </tr>\n",
       "    <tr>\n",
       "      <th>paperless_billing</th>\n",
       "      <td>Yes</td>\n",
       "      <td>No</td>\n",
       "    </tr>\n",
       "  </tbody>\n",
       "</table>\n",
       "</div>"
      ],
      "text/plain": [
       "                     0   1\n",
       "partner            Yes  No\n",
       "dependents         Yes  No\n",
       "paperless_billing  Yes  No"
      ]
     },
     "execution_count": 194,
     "metadata": {},
     "output_type": "execute_result"
    }
   ],
   "source": [
    "# Verificar valores únicos de las columnas `partner`, `dependents`, `paperless_billing`.\n",
    "\n",
    "values_unique_2 = pd.DataFrame({\n",
    "    'partner': data['partner'].unique(),\n",
    "    'dependents': data['dependents'].unique(),\n",
    "    'paperless_billing': data['paperless_billing'].unique()\n",
    "}).T\n",
    "\n",
    "values_unique_2"
   ]
  },
  {
   "cell_type": "markdown",
   "id": "28bf794a",
   "metadata": {},
   "source": [
    "Previamente, en el conjunto de datos original, se observó que los valores NaN correponden especificamente a los servicios de internet, por lo que solo tiene informacion de los clientes que han de utilizar dichos servicios. Por ello, los clientes que no usan servicios de internet, pueden ser tratados de forma equivalente al valor 'no'.\n",
    "\n",
    "Por último, para simplificar el análisis, todos los valores 'yes' serán 1, y los valores 'no' y/o 'NaN' serán 0, lo que facilitará el procesamiento de las columnas categóricas dentro del conjunto de datos."
   ]
  },
  {
   "cell_type": "code",
   "execution_count": 195,
   "id": "86189d29",
   "metadata": {},
   "outputs": [
    {
     "name": "stderr",
     "output_type": "stream",
     "text": [
      "C:\\Users\\jvida\\AppData\\Local\\Temp\\ipykernel_22736\\2255360716.py:16: FutureWarning: Downcasting behavior in `replace` is deprecated and will be removed in a future version. To retain the old behavior, explicitly call `result.infer_objects(copy=False)`. To opt-in to the future behavior, set `pd.set_option('future.no_silent_downcasting', True)`\n",
      "  data[cols_convert] = data[cols_convert].replace({'Yes': 1, 'No': 0, np.nan: 0})\n"
     ]
    },
    {
     "data": {
      "text/html": [
       "<div>\n",
       "<style scoped>\n",
       "    .dataframe tbody tr th:only-of-type {\n",
       "        vertical-align: middle;\n",
       "    }\n",
       "\n",
       "    .dataframe tbody tr th {\n",
       "        vertical-align: top;\n",
       "    }\n",
       "\n",
       "    .dataframe thead th {\n",
       "        text-align: right;\n",
       "    }\n",
       "</style>\n",
       "<table border=\"1\" class=\"dataframe\">\n",
       "  <thead>\n",
       "    <tr style=\"text-align: right;\">\n",
       "      <th></th>\n",
       "      <th>partner</th>\n",
       "      <th>dependents</th>\n",
       "      <th>online_security</th>\n",
       "      <th>online_backup</th>\n",
       "      <th>device_protection</th>\n",
       "      <th>tech_support</th>\n",
       "      <th>streaming_tv</th>\n",
       "      <th>streaming_movies</th>\n",
       "      <th>multiple_lines</th>\n",
       "      <th>paperless_billing</th>\n",
       "    </tr>\n",
       "  </thead>\n",
       "  <tbody>\n",
       "    <tr>\n",
       "      <th>0</th>\n",
       "      <td>1</td>\n",
       "      <td>1</td>\n",
       "      <td>0</td>\n",
       "      <td>1</td>\n",
       "      <td>0</td>\n",
       "      <td>1</td>\n",
       "      <td>1</td>\n",
       "      <td>0</td>\n",
       "      <td>0</td>\n",
       "      <td>1</td>\n",
       "    </tr>\n",
       "    <tr>\n",
       "      <th>1</th>\n",
       "      <td>0</td>\n",
       "      <td>0</td>\n",
       "      <td>0</td>\n",
       "      <td>0</td>\n",
       "      <td>0</td>\n",
       "      <td>0</td>\n",
       "      <td>0</td>\n",
       "      <td>1</td>\n",
       "      <td>1</td>\n",
       "      <td>0</td>\n",
       "    </tr>\n",
       "    <tr>\n",
       "      <th>2</th>\n",
       "      <td>0</td>\n",
       "      <td>0</td>\n",
       "      <td>0</td>\n",
       "      <td>0</td>\n",
       "      <td>1</td>\n",
       "      <td>0</td>\n",
       "      <td>0</td>\n",
       "      <td>0</td>\n",
       "      <td>0</td>\n",
       "      <td>1</td>\n",
       "    </tr>\n",
       "    <tr>\n",
       "      <th>3</th>\n",
       "      <td>1</td>\n",
       "      <td>0</td>\n",
       "      <td>0</td>\n",
       "      <td>1</td>\n",
       "      <td>1</td>\n",
       "      <td>0</td>\n",
       "      <td>1</td>\n",
       "      <td>1</td>\n",
       "      <td>0</td>\n",
       "      <td>1</td>\n",
       "    </tr>\n",
       "    <tr>\n",
       "      <th>4</th>\n",
       "      <td>1</td>\n",
       "      <td>0</td>\n",
       "      <td>0</td>\n",
       "      <td>0</td>\n",
       "      <td>0</td>\n",
       "      <td>1</td>\n",
       "      <td>1</td>\n",
       "      <td>0</td>\n",
       "      <td>0</td>\n",
       "      <td>1</td>\n",
       "    </tr>\n",
       "  </tbody>\n",
       "</table>\n",
       "</div>"
      ],
      "text/plain": [
       "   partner  dependents  online_security  online_backup  device_protection  \\\n",
       "0        1           1                0              1                  0   \n",
       "1        0           0                0              0                  0   \n",
       "2        0           0                0              0                  1   \n",
       "3        1           0                0              1                  1   \n",
       "4        1           0                0              0                  0   \n",
       "\n",
       "   tech_support  streaming_tv  streaming_movies  multiple_lines  \\\n",
       "0             1             1                 0               0   \n",
       "1             0             0                 1               1   \n",
       "2             0             0                 0               0   \n",
       "3             0             1                 1               0   \n",
       "4             1             1                 0               0   \n",
       "\n",
       "   paperless_billing  \n",
       "0                  1  \n",
       "1                  0  \n",
       "2                  1  \n",
       "3                  1  \n",
       "4                  1  "
      ]
     },
     "execution_count": 195,
     "metadata": {},
     "output_type": "execute_result"
    }
   ],
   "source": [
    "# Cambiar valor en columna categórica\n",
    "# Cambiar tipo de dato de object(string) a integer\n",
    "# Verificar resultado\n",
    "\n",
    "cols_convert = ['partner', \n",
    "               'dependents', \n",
    "               'online_security', \n",
    "               'online_backup',                    \n",
    "               'device_protection',                 \n",
    "               'tech_support',    \n",
    "               'streaming_tv', \n",
    "               'streaming_movies',                   \n",
    "               'multiple_lines',\n",
    "               'paperless_billing']\n",
    "\n",
    "data[cols_convert] = data[cols_convert].replace({'Yes': 1, 'No': 0, np.nan: 0})\n",
    "data[cols_convert] = data[cols_convert].astype(int)\n",
    "data[cols_convert].head()"
   ]
  },
  {
   "cell_type": "code",
   "execution_count": 196,
   "id": "79def562",
   "metadata": {},
   "outputs": [
    {
     "data": {
      "text/plain": [
       "customer_id             object\n",
       "begin_date           period[M]\n",
       "type                    object\n",
       "paperless_billing        int64\n",
       "payment_method          object\n",
       "monthly_charges        float64\n",
       "total_charges          float64\n",
       "gender                  object\n",
       "senior_citizen           int64\n",
       "partner                  int64\n",
       "dependents               int64\n",
       "internet_service        object\n",
       "online_security          int64\n",
       "online_backup            int64\n",
       "device_protection        int64\n",
       "tech_support             int64\n",
       "streaming_tv             int64\n",
       "streaming_movies         int64\n",
       "multiple_lines           int64\n",
       "churn                    int64\n",
       "dtype: object"
      ]
     },
     "execution_count": 196,
     "metadata": {},
     "output_type": "execute_result"
    }
   ],
   "source": [
    "# Verificar tipos de datos\n",
    "\n",
    "data.dtypes"
   ]
  },
  {
   "cell_type": "markdown",
   "id": "a3558ea6",
   "metadata": {},
   "source": [
    "#### **2.6.3 Tratamiento de valores ausentes**"
   ]
  },
  {
   "cell_type": "markdown",
   "id": "f1aed8c9",
   "metadata": {},
   "source": [
    "Gran parte de los valores ausentes del dataset fueron resueltos, en el punto anterior, durante los procesos de conversion de tipos de datos en las columnas y las transformacion de los registros 'yes/no' en valores binarios. A continuación en este punto se va a verificar si existen aún valores faltantes en el conjunto de datos. "
   ]
  },
  {
   "cell_type": "code",
   "execution_count": 197,
   "id": "f22be138",
   "metadata": {},
   "outputs": [
    {
     "data": {
      "text/plain": [
       "customer_id             0\n",
       "begin_date              0\n",
       "type                    0\n",
       "paperless_billing       0\n",
       "payment_method          0\n",
       "monthly_charges         0\n",
       "total_charges          11\n",
       "gender                  0\n",
       "senior_citizen          0\n",
       "partner                 0\n",
       "dependents              0\n",
       "internet_service     1526\n",
       "online_security         0\n",
       "online_backup           0\n",
       "device_protection       0\n",
       "tech_support            0\n",
       "streaming_tv            0\n",
       "streaming_movies        0\n",
       "multiple_lines          0\n",
       "churn                   0\n",
       "dtype: int64"
      ]
     },
     "execution_count": 197,
     "metadata": {},
     "output_type": "execute_result"
    }
   ],
   "source": [
    "# Verificar valores ausentes\n",
    "\n",
    "data.isna().sum()"
   ]
  },
  {
   "cell_type": "markdown",
   "id": "ea52427c",
   "metadata": {},
   "source": [
    "Solo quedaron dos columnas, individualizadamente `internet_service` y `total_charges`, preservan valores faltantes tras las etapas de preprocesamiento."
   ]
  },
  {
   "cell_type": "markdown",
   "id": "8052bee9",
   "metadata": {},
   "source": [
    "##### **2.6.3.1 Columna `internet_service`**"
   ]
  },
  {
   "cell_type": "code",
   "execution_count": 198,
   "id": "4a519990",
   "metadata": {},
   "outputs": [
    {
     "data": {
      "text/plain": [
       "array(['DSL', 'Fiber optic', nan], dtype=object)"
      ]
     },
     "execution_count": 198,
     "metadata": {},
     "output_type": "execute_result"
    }
   ],
   "source": [
    "# Verificar valores únicos\n",
    "\n",
    "data['internet_service'].unique()"
   ]
  },
  {
   "cell_type": "markdown",
   "id": "d5f13543",
   "metadata": {},
   "source": [
    "**Hallazgos**\n",
    "\n",
    "- La columna `internet_service` contiene solo 3 valores únicos: 'DSL', 'Fiber optic', y NaN.\n",
    "\n",
    "\n",
    "- Los valores NaN son consecuencia del proceso de combinación de los conjuntos de datos iniciales, por lo que se deduce que el valor NaN corresponde a clientes que no utilizan el servicio de internet.\n",
    "\n",
    "- Por último, el valor NaN será reemplazado por 'no internet'"
   ]
  },
  {
   "cell_type": "code",
   "execution_count": 199,
   "id": "9c4646ef",
   "metadata": {},
   "outputs": [
    {
     "data": {
      "text/plain": [
       "customer_id           0\n",
       "begin_date            0\n",
       "type                  0\n",
       "paperless_billing     0\n",
       "payment_method        0\n",
       "monthly_charges       0\n",
       "total_charges        11\n",
       "gender                0\n",
       "senior_citizen        0\n",
       "partner               0\n",
       "dependents            0\n",
       "internet_service      0\n",
       "online_security       0\n",
       "online_backup         0\n",
       "device_protection     0\n",
       "tech_support          0\n",
       "streaming_tv          0\n",
       "streaming_movies      0\n",
       "multiple_lines        0\n",
       "churn                 0\n",
       "dtype: int64"
      ]
     },
     "execution_count": 199,
     "metadata": {},
     "output_type": "execute_result"
    }
   ],
   "source": [
    "# Realizar reemplazo valores NaN por 'No internet'\n",
    "# Verificar resultado\n",
    "\n",
    "data['internet_service'] = data['internet_service'].fillna('No internet')\n",
    "data.isna().sum()"
   ]
  },
  {
   "cell_type": "markdown",
   "id": "588bd3ca",
   "metadata": {},
   "source": [
    "##### **2.6.3.2 Columna `total_charges`**"
   ]
  },
  {
   "cell_type": "code",
   "execution_count": 200,
   "id": "2607d70f",
   "metadata": {},
   "outputs": [
    {
     "name": "stdout",
     "output_type": "stream",
     "text": [
      "6530\n",
      "\n",
      "     customer_id begin_date      type  paperless_billing  \\\n",
      "945   1371-DWPAZ    2020-02  Two year                  0   \n",
      "1731  2520-SGTTA    2020-02  Two year                  0   \n",
      "1906  2775-SEFEE    2020-02  Two year                  1   \n",
      "2025  2923-ARZLG    2020-02  One year                  1   \n",
      "2176  3115-CZMZD    2020-02  Two year                  0   \n",
      "2250  3213-VVOLG    2020-02  Two year                  0   \n",
      "2855  4075-WKNIU    2020-02  Two year                  0   \n",
      "3052  4367-NUYAO    2020-02  Two year                  0   \n",
      "3118  4472-LVYGI    2020-02  Two year                  1   \n",
      "4054  5709-LVOEQ    2020-02  Two year                  0   \n",
      "5433  7644-OMVMY    2020-02  Two year                  0   \n",
      "\n",
      "                 payment_method  monthly_charges  total_charges  gender  \\\n",
      "945     Credit card (automatic)            56.05            NaN  Female   \n",
      "1731               Mailed check            20.00            NaN  Female   \n",
      "1906  Bank transfer (automatic)            61.90            NaN    Male   \n",
      "2025               Mailed check            19.70            NaN    Male   \n",
      "2176               Mailed check            20.25            NaN    Male   \n",
      "2250               Mailed check            25.35            NaN    Male   \n",
      "2855               Mailed check            73.35            NaN  Female   \n",
      "3052               Mailed check            25.75            NaN    Male   \n",
      "3118  Bank transfer (automatic)            52.55            NaN  Female   \n",
      "4054               Mailed check            80.85            NaN  Female   \n",
      "5433               Mailed check            19.85            NaN    Male   \n",
      "\n",
      "      senior_citizen  partner  dependents internet_service  online_security  \\\n",
      "945                0        1           1              DSL                1   \n",
      "1731               0        1           1      No internet                0   \n",
      "1906               0        0           1              DSL                1   \n",
      "2025               0        1           1      No internet                0   \n",
      "2176               0        0           1      No internet                0   \n",
      "2250               0        1           1      No internet                0   \n",
      "2855               0        1           1              DSL                0   \n",
      "3052               0        1           1      No internet                0   \n",
      "3118               0        1           1              DSL                1   \n",
      "4054               0        1           1              DSL                1   \n",
      "5433               0        1           1      No internet                0   \n",
      "\n",
      "      online_backup  device_protection  tech_support  streaming_tv  \\\n",
      "945               1                  1             1             1   \n",
      "1731              0                  0             0             0   \n",
      "1906              1                  0             1             0   \n",
      "2025              0                  0             0             0   \n",
      "2176              0                  0             0             0   \n",
      "2250              0                  0             0             0   \n",
      "2855              1                  1             1             1   \n",
      "3052              0                  0             0             0   \n",
      "3118              0                  1             1             1   \n",
      "4054              1                  1             0             1   \n",
      "5433              0                  0             0             0   \n",
      "\n",
      "      streaming_movies  multiple_lines  churn  \n",
      "945                  0               0      0  \n",
      "1731                 0               0      0  \n",
      "1906                 0               1      0  \n",
      "2025                 0               0      0  \n",
      "2176                 0               0      0  \n",
      "2250                 0               1      0  \n",
      "2855                 0               1      0  \n",
      "3052                 0               1      0  \n",
      "3118                 0               0      0  \n",
      "4054                 1               0      0  \n",
      "5433                 0               0      0  \n"
     ]
    }
   ],
   "source": [
    "# Verificar cantidad de valores únicos\n",
    "# Verificar los valores ausentes \n",
    "\n",
    "print(data['total_charges'].nunique())\n",
    "print()\n",
    "print(data[data['total_charges'].isnull()])"
   ]
  },
  {
   "cell_type": "markdown",
   "id": "9511fb1b",
   "metadata": {},
   "source": [
    "**Hallazgos**\n",
    "\n",
    "- Solo 11 observaciones tienen valores NaN.\n",
    "- Estos registros pueden ser eliminados, ya que no comprometen significativamente la calidad del conjunto de datos"
   ]
  },
  {
   "cell_type": "code",
   "execution_count": 201,
   "id": "868afbf3",
   "metadata": {},
   "outputs": [
    {
     "data": {
      "text/plain": [
       "customer_id          0\n",
       "begin_date           0\n",
       "type                 0\n",
       "paperless_billing    0\n",
       "payment_method       0\n",
       "monthly_charges      0\n",
       "total_charges        0\n",
       "gender               0\n",
       "senior_citizen       0\n",
       "partner              0\n",
       "dependents           0\n",
       "internet_service     0\n",
       "online_security      0\n",
       "online_backup        0\n",
       "device_protection    0\n",
       "tech_support         0\n",
       "streaming_tv         0\n",
       "streaming_movies     0\n",
       "multiple_lines       0\n",
       "churn                0\n",
       "dtype: int64"
      ]
     },
     "execution_count": 201,
     "metadata": {},
     "output_type": "execute_result"
    }
   ],
   "source": [
    "# Eliminar registros del set de datos\n",
    "# Verificar resultado\n",
    "\n",
    "data.dropna(subset=['total_charges'], inplace=True)\n",
    "data.isna().sum()"
   ]
  },
  {
   "cell_type": "markdown",
   "id": "6a2f4db9",
   "metadata": {},
   "source": [
    "Finalmente, todos lo datos han sido ajustados y los valores faltantes han sido resueltos."
   ]
  },
  {
   "cell_type": "markdown",
   "id": "8f537cf6",
   "metadata": {},
   "source": [
    "## **3. Análisis exploratorio de datos**"
   ]
  },
  {
   "cell_type": "markdown",
   "id": "3fad89a7",
   "metadata": {},
   "source": [
    "Con el conjunto de datos preparado para un análisis más profundo. En este capítulo, se llevara a cabo un análisis exploratorio de datos para indagar que factores influyen en la tasa de abandono de los clientes de Interconnect.\n",
    "\n",
    "El comienzo será explorar la correlación entre las diferentes características y la variable objetivo."
   ]
  },
  {
   "cell_type": "markdown",
   "id": "c2404401",
   "metadata": {},
   "source": [
    "### **3.1 Correlación Variables Númericas**"
   ]
  },
  {
   "cell_type": "code",
   "execution_count": 202,
   "id": "26a2bd6e",
   "metadata": {},
   "outputs": [
    {
     "data": {
      "text/plain": [
       "churn                1.000000\n",
       "monthly_charges      0.192858\n",
       "paperless_billing    0.191454\n",
       "senior_citizen       0.150541\n",
       "streaming_tv         0.063254\n",
       "streaming_movies     0.060860\n",
       "multiple_lines       0.040033\n",
       "device_protection   -0.066193\n",
       "online_backup       -0.082307\n",
       "partner             -0.149982\n",
       "dependents          -0.163128\n",
       "tech_support        -0.164716\n",
       "online_security     -0.171270\n",
       "total_charges       -0.199484\n",
       "Name: churn, dtype: float64"
      ]
     },
     "execution_count": 202,
     "metadata": {},
     "output_type": "execute_result"
    }
   ],
   "source": [
    "# Verificar la correlacion de todas las columnas con la variable objetivo\n",
    "\n",
    "data.select_dtypes(include='number').corr()['churn'].sort_values(ascending=False)"
   ]
  },
  {
   "cell_type": "markdown",
   "id": "ff90761e",
   "metadata": {},
   "source": [
    "**Hallazgos**\n",
    "\n",
    "En general, la correlación de la variable objetivo (`churn`) con el resto de las características es relativamente débil.\n",
    "\n",
    "**Correlacón Positiva**\n",
    "\n",
    "Ciertas columnas evidencian una correlacón positiva moderadamente alta con la variable objetivo, específicamente:\n",
    "\n",
    "- `monthly_chargess`, sugiere que cuotas mensuales más altas, se asocian a una mayor probabilidad de abandono.\n",
    "\n",
    "- `paperless_billing`, si el cliente utiliza la facturación sin papel, tiene mayor probabilidad de cancelar el servicio.\n",
    "\n",
    "- `senior_citizen`, de ser el cliente un adulto mayor, tiene mayor probabilidad de cancelación.\n",
    "\n",
    "**Correlación Negativa**\n",
    "\n",
    "Por otra parte, existen columnas que evidencian una correlación negativa moderadamente fuerte con la variable objetivo, específicamente:\n",
    "\n",
    "- `total_charges`, si tiene un valor bajo, aumenta la probabilidad de cancelación.\n",
    "\n",
    "- `online_security` y `tech_support`, clientes que no utilizan servicios de seguridad en linea y/o soporte técnico, tienden a abandonar más la compañia.\n",
    "\n",
    "- `partner` y `dependents`, si no tiene pareja/esposa, y tampoco tiene hijos o alguien dependiente, tiene una mayor posibilidad de anular los servicios.\n",
    "\n",
    "Por último, estos hallazgos implican una indagación y análisis más profundo. "
   ]
  },
  {
   "cell_type": "markdown",
   "id": "0f26a687",
   "metadata": {},
   "source": [
    "#### **3.1.1 Correlación Positiva**"
   ]
  },
  {
   "cell_type": "markdown",
   "id": "f92e0524",
   "metadata": {},
   "source": [
    "##### **3.1.1.1 Columna `monthly_charges`**"
   ]
  },
  {
   "cell_type": "code",
   "execution_count": 203,
   "id": "29373c4f",
   "metadata": {},
   "outputs": [
    {
     "data": {
      "image/png": "[encoded data removed]",
      "text/plain": [
       "<Figure size 1200x800 with 2 Axes>"
      ]
     },
     "metadata": {},
     "output_type": "display_data"
    }
   ],
   "source": [
    "# Visualizar la distribución de la columna\n",
    "\n",
    "plt.figure(figsize=(15, 10), dpi=80)\n",
    "\n",
    "# Histograma\n",
    "plt.subplot(2, 1, 1)\n",
    "plt.hist(data['monthly_charges'], bins=20, alpha=0.5, label='Distribución de la facturación mensual')\n",
    "plt.xlabel('Facturación mensual')\n",
    "plt.ylabel('Frecuencia')\n",
    "plt.legend(loc='upper right')\n",
    "\n",
    "# Boxplot\n",
    "plt.subplot(2, 1, 2)\n",
    "plt.boxplot(data['monthly_charges'], vert=False)\n",
    "plt.xlabel('Facturación Mensual')\n",
    "plt.ylabel('Valor')\n",
    "plt.title('Facturación mensual Boxplot')\n",
    "\n",
    "plt.tight_layout()\n",
    "plt.show()"
   ]
  },
  {
   "cell_type": "markdown",
   "id": "fb5e5323",
   "metadata": {},
   "source": [
    "**Hallazgos**\n",
    "\n",
    "- La distribución se concentra en los valores bajos, principalmente alrededor de los 20 dólares.\n",
    "\n",
    "- La distribución mejora para montos de facturación superiores a los 70 dólares."
   ]
  },
  {
   "cell_type": "code",
   "execution_count": 204,
   "id": "8bfa0e17",
   "metadata": {},
   "outputs": [
    {
     "data": {
      "text/html": [
       "<div>\n",
       "<style scoped>\n",
       "    .dataframe tbody tr th:only-of-type {\n",
       "        vertical-align: middle;\n",
       "    }\n",
       "\n",
       "    .dataframe tbody tr th {\n",
       "        vertical-align: top;\n",
       "    }\n",
       "\n",
       "    .dataframe thead th {\n",
       "        text-align: right;\n",
       "    }\n",
       "</style>\n",
       "<table border=\"1\" class=\"dataframe\">\n",
       "  <thead>\n",
       "    <tr style=\"text-align: right;\">\n",
       "      <th></th>\n",
       "      <th>Cantidad de valores</th>\n",
       "      <th>Porcentajes</th>\n",
       "    </tr>\n",
       "    <tr>\n",
       "      <th>charge_category</th>\n",
       "      <th></th>\n",
       "      <th></th>\n",
       "    </tr>\n",
       "  </thead>\n",
       "  <tbody>\n",
       "    <tr>\n",
       "      <th>mid_high</th>\n",
       "      <td>1845</td>\n",
       "      <td>26.24%</td>\n",
       "    </tr>\n",
       "    <tr>\n",
       "      <th>high</th>\n",
       "      <td>1744</td>\n",
       "      <td>24.80%</td>\n",
       "    </tr>\n",
       "    <tr>\n",
       "      <th>low</th>\n",
       "      <td>1647</td>\n",
       "      <td>23.42%</td>\n",
       "    </tr>\n",
       "    <tr>\n",
       "      <th>middle</th>\n",
       "      <td>1155</td>\n",
       "      <td>16.42%</td>\n",
       "    </tr>\n",
       "    <tr>\n",
       "      <th>mid_low</th>\n",
       "      <td>641</td>\n",
       "      <td>9.12%</td>\n",
       "    </tr>\n",
       "  </tbody>\n",
       "</table>\n",
       "</div>"
      ],
      "text/plain": [
       "                 Cantidad de valores Porcentajes\n",
       "charge_category                                 \n",
       "mid_high                        1845      26.24%\n",
       "high                            1744      24.80%\n",
       "low                             1647      23.42%\n",
       "middle                          1155      16.42%\n",
       "mid_low                          641       9.12%"
      ]
     },
     "metadata": {},
     "output_type": "display_data"
    },
    {
     "data": {
      "image/png": "[encoded data removed]",
      "text/plain": [
       "<Figure size 640x480 with 1 Axes>"
      ]
     },
     "metadata": {},
     "output_type": "display_data"
    }
   ],
   "source": [
    "# Crear columna 'charge_category', a partir de los valores de 'monthly_charges'\n",
    "# Calcular la distribución de valores de 'charge_category'\n",
    "\n",
    "data['charge_category'] = pd.cut(data['monthly_charges'], bins=[0, 30, 50, 70, 90, 120], labels=['low', 'mid_low', 'middle', 'mid_high', 'high'], right=False)\n",
    "analyze_column('charge_category')"
   ]
  },
  {
   "cell_type": "markdown",
   "id": "c1459c87",
   "metadata": {},
   "source": [
    "**Hallazgos:**\n",
    "\n",
    "- La distribución de los datos esta concentrada en las categórias `mid-high`, `high` y `low`, mientras las categorias `middle` y `mid-low` tienen relativamente una baja representación."
   ]
  },
  {
   "cell_type": "code",
   "execution_count": 205,
   "id": "e92080b5",
   "metadata": {},
   "outputs": [
    {
     "data": {
      "image/png": "[encoded data removed]",
      "text/plain": [
       "<Figure size 640x480 with 1 Axes>"
      ]
     },
     "metadata": {},
     "output_type": "display_data"
    },
    {
     "data": {
      "text/html": [
       "<div>\n",
       "<style scoped>\n",
       "    .dataframe tbody tr th:only-of-type {\n",
       "        vertical-align: middle;\n",
       "    }\n",
       "\n",
       "    .dataframe tbody tr th {\n",
       "        vertical-align: top;\n",
       "    }\n",
       "\n",
       "    .dataframe thead th {\n",
       "        text-align: right;\n",
       "    }\n",
       "</style>\n",
       "<table border=\"1\" class=\"dataframe\">\n",
       "  <thead>\n",
       "    <tr style=\"text-align: right;\">\n",
       "      <th>churn</th>\n",
       "      <th>0</th>\n",
       "      <th>1</th>\n",
       "      <th>churn_rate</th>\n",
       "    </tr>\n",
       "    <tr>\n",
       "      <th>charge_category</th>\n",
       "      <th></th>\n",
       "      <th></th>\n",
       "      <th></th>\n",
       "    </tr>\n",
       "  </thead>\n",
       "  <tbody>\n",
       "    <tr>\n",
       "      <th>low</th>\n",
       "      <td>1485</td>\n",
       "      <td>162</td>\n",
       "      <td>9.84%</td>\n",
       "    </tr>\n",
       "    <tr>\n",
       "      <th>mid_low</th>\n",
       "      <td>442</td>\n",
       "      <td>199</td>\n",
       "      <td>31.05%</td>\n",
       "    </tr>\n",
       "    <tr>\n",
       "      <th>middle</th>\n",
       "      <td>921</td>\n",
       "      <td>234</td>\n",
       "      <td>20.26%</td>\n",
       "    </tr>\n",
       "    <tr>\n",
       "      <th>mid_high</th>\n",
       "      <td>1144</td>\n",
       "      <td>701</td>\n",
       "      <td>37.99%</td>\n",
       "    </tr>\n",
       "    <tr>\n",
       "      <th>high</th>\n",
       "      <td>1171</td>\n",
       "      <td>573</td>\n",
       "      <td>32.86%</td>\n",
       "    </tr>\n",
       "  </tbody>\n",
       "</table>\n",
       "</div>"
      ],
      "text/plain": [
       "churn               0    1 churn_rate\n",
       "charge_category                      \n",
       "low              1485  162      9.84%\n",
       "mid_low           442  199     31.05%\n",
       "middle            921  234     20.26%\n",
       "mid_high         1144  701     37.99%\n",
       "high             1171  573     32.86%"
      ]
     },
     "execution_count": 205,
     "metadata": {},
     "output_type": "execute_result"
    }
   ],
   "source": [
    "# Calcular la Tasa de Abandono basada en la columna `charge_category` y mostrar su visualización\n",
    "\n",
    "monthly_charge_churn_rate = analyze_churn_rate('charge_category')\n",
    "monthly_charge_churn_rate"
   ]
  },
  {
   "cell_type": "markdown",
   "id": "7343e534",
   "metadata": {},
   "source": [
    "**Hallazgos**\n",
    "\n",
    "- Mediante el análisis de correlación, se deduce que un valor alto en `monthly_charges`, mayor probabilidad de cancelación.\n",
    "\n",
    "- El análisis mas detallado confirma esta hipótesis inicial, ya que las tasas de abandono son más altas, en los segmentos 'mid-high'(70-90 dólares) y 'high'(90-120 dólares) de facturación mensual, en comparacion con grupos que tiene una facturación más baja.\n",
    "\n",
    "**Recomendaciones**\n",
    "\n",
    "- Interconnect debe prestar mayor interes en los clientes con facturaciones altas, ya que son más propensos a dar de baja el servicio.\n",
    "\n",
    "- Incentivar los programas promocionales para que el objetivo de estos sean los segmentos 'mid-high' y 'high'."
   ]
  },
  {
   "cell_type": "markdown",
   "id": "5e2fb9f0",
   "metadata": {},
   "source": [
    "##### **3.1.1.2 Columna `paperless_billing`**"
   ]
  },
  {
   "cell_type": "markdown",
   "id": "a4be8108",
   "metadata": {},
   "source": [
    "Inicialmente se observó que los clientes con facturación sin papeles, representada por el valor 1 de la columna `paperless_billing`, tienden a tener mayor probabilidad de abandonar el sevicio. Se indagarán mas detalles de esta deducción."
   ]
  },
  {
   "cell_type": "code",
   "execution_count": 206,
   "id": "f071b536",
   "metadata": {},
   "outputs": [
    {
     "data": {
      "text/html": [
       "<div>\n",
       "<style scoped>\n",
       "    .dataframe tbody tr th:only-of-type {\n",
       "        vertical-align: middle;\n",
       "    }\n",
       "\n",
       "    .dataframe tbody tr th {\n",
       "        vertical-align: top;\n",
       "    }\n",
       "\n",
       "    .dataframe thead th {\n",
       "        text-align: right;\n",
       "    }\n",
       "</style>\n",
       "<table border=\"1\" class=\"dataframe\">\n",
       "  <thead>\n",
       "    <tr style=\"text-align: right;\">\n",
       "      <th></th>\n",
       "      <th>Cantidad de valores</th>\n",
       "      <th>Porcentajes</th>\n",
       "    </tr>\n",
       "    <tr>\n",
       "      <th>paperless_billing</th>\n",
       "      <th></th>\n",
       "      <th></th>\n",
       "    </tr>\n",
       "  </thead>\n",
       "  <tbody>\n",
       "    <tr>\n",
       "      <th>1</th>\n",
       "      <td>4168</td>\n",
       "      <td>59.27%</td>\n",
       "    </tr>\n",
       "    <tr>\n",
       "      <th>0</th>\n",
       "      <td>2864</td>\n",
       "      <td>40.73%</td>\n",
       "    </tr>\n",
       "  </tbody>\n",
       "</table>\n",
       "</div>"
      ],
      "text/plain": [
       "                   Cantidad de valores Porcentajes\n",
       "paperless_billing                                 \n",
       "1                                 4168      59.27%\n",
       "0                                 2864      40.73%"
      ]
     },
     "metadata": {},
     "output_type": "display_data"
    },
    {
     "data": {
      "image/png": "[encoded data removed]",
      "text/plain": [
       "<Figure size 640x480 with 1 Axes>"
      ]
     },
     "metadata": {},
     "output_type": "display_data"
    }
   ],
   "source": [
    "# Calcular la distribución de valores de 'paperless_billing'\n",
    "\n",
    "analyze_column('paperless_billing')"
   ]
  },
  {
   "cell_type": "markdown",
   "id": "97ce0fc8",
   "metadata": {},
   "source": [
    "Segun los datos, la mayoria de los clientes utiliza el método de facturación electrónica (sin papeles)."
   ]
  },
  {
   "cell_type": "code",
   "execution_count": 207,
   "id": "e8828275",
   "metadata": {},
   "outputs": [
    {
     "data": {
      "image/png": "[encoded data removed]",
      "text/plain": [
       "<Figure size 640x480 with 1 Axes>"
      ]
     },
     "metadata": {},
     "output_type": "display_data"
    },
    {
     "data": {
      "text/html": [
       "<div>\n",
       "<style scoped>\n",
       "    .dataframe tbody tr th:only-of-type {\n",
       "        vertical-align: middle;\n",
       "    }\n",
       "\n",
       "    .dataframe tbody tr th {\n",
       "        vertical-align: top;\n",
       "    }\n",
       "\n",
       "    .dataframe thead th {\n",
       "        text-align: right;\n",
       "    }\n",
       "</style>\n",
       "<table border=\"1\" class=\"dataframe\">\n",
       "  <thead>\n",
       "    <tr style=\"text-align: right;\">\n",
       "      <th>churn</th>\n",
       "      <th>0</th>\n",
       "      <th>1</th>\n",
       "      <th>churn_rate</th>\n",
       "    </tr>\n",
       "    <tr>\n",
       "      <th>paperless_billing</th>\n",
       "      <th></th>\n",
       "      <th></th>\n",
       "      <th></th>\n",
       "    </tr>\n",
       "  </thead>\n",
       "  <tbody>\n",
       "    <tr>\n",
       "      <th>0</th>\n",
       "      <td>2395</td>\n",
       "      <td>469</td>\n",
       "      <td>16.38%</td>\n",
       "    </tr>\n",
       "    <tr>\n",
       "      <th>1</th>\n",
       "      <td>2768</td>\n",
       "      <td>1400</td>\n",
       "      <td>33.59%</td>\n",
       "    </tr>\n",
       "  </tbody>\n",
       "</table>\n",
       "</div>"
      ],
      "text/plain": [
       "churn                 0     1 churn_rate\n",
       "paperless_billing                       \n",
       "0                  2395   469     16.38%\n",
       "1                  2768  1400     33.59%"
      ]
     },
     "execution_count": 207,
     "metadata": {},
     "output_type": "execute_result"
    }
   ],
   "source": [
    "# Calcular la Tasa de Abandono basada en la columna `paperless_billing` y mostrar su visualización\n",
    "\n",
    "paperless_churn_rate = analyze_churn_rate('paperless_billing')\n",
    "paperless_churn_rate"
   ]
  },
  {
   "cell_type": "markdown",
   "id": "36e1ee07",
   "metadata": {},
   "source": [
    "**Hallasgoz**\n",
    "\n",
    "- Los clientes que utilizan el método nde facturación sin papeles(valor 1) tienen evidentemente casi eldoble de probabilidad de anular los servicios, en comparación con los clientes que utilizan la facturación por papel(valor 0)\n",
    "\n",
    "**Insights**\n",
    "\n",
    "- Las facturas sin papel pueden ser más faciles de cancelar, ya que se procesan en línea, a través de la página web. \n",
    "\n",
    "- Las facturas físicas(recibos impresos), pueden crear una barrera para los clientes al tratar de abandonar el servicio, ya que es posible que requieran un proceso más burocratico que la cancelación en línea.\n",
    "\n",
    "**Recomendaciones**\n",
    "\n",
    "- Fomentar que los clientes cambien su método de facturación electrónica(sin papel) hacia la facturación física(con papel), puede que no sea prudente en la era digital, pero se puede utilizar como un disuasivo para aquellos que consideren cancelar el servicio.\n",
    "\n",
    "- Incentivar los programas promocionales para que el objetivo de estos sean los clientes de facturación electrónica, e incentivar su permanencia."
   ]
  },
  {
   "cell_type": "markdown",
   "id": "0597f846",
   "metadata": {},
   "source": [
    "##### **3.1.1.3 Columna `senior_citizen`**"
   ]
  },
  {
   "cell_type": "markdown",
   "id": "8e84d45d",
   "metadata": {},
   "source": [
    "Igual que ambos procesos anteriores, la correlación obtenida indica que los clientes de avanzada edad o con valor 1 en la columna `senior_citizen`, tienen mayor probabilidad de cambiar de compañia. Por ello, se ha de investigar, para confirmar esta hipótesis. "
   ]
  },
  {
   "cell_type": "code",
   "execution_count": 208,
   "id": "da4048db",
   "metadata": {},
   "outputs": [
    {
     "data": {
      "text/html": [
       "<div>\n",
       "<style scoped>\n",
       "    .dataframe tbody tr th:only-of-type {\n",
       "        vertical-align: middle;\n",
       "    }\n",
       "\n",
       "    .dataframe tbody tr th {\n",
       "        vertical-align: top;\n",
       "    }\n",
       "\n",
       "    .dataframe thead th {\n",
       "        text-align: right;\n",
       "    }\n",
       "</style>\n",
       "<table border=\"1\" class=\"dataframe\">\n",
       "  <thead>\n",
       "    <tr style=\"text-align: right;\">\n",
       "      <th></th>\n",
       "      <th>Cantidad de valores</th>\n",
       "      <th>Porcentajes</th>\n",
       "    </tr>\n",
       "    <tr>\n",
       "      <th>senior_citizen</th>\n",
       "      <th></th>\n",
       "      <th></th>\n",
       "    </tr>\n",
       "  </thead>\n",
       "  <tbody>\n",
       "    <tr>\n",
       "      <th>0</th>\n",
       "      <td>5890</td>\n",
       "      <td>83.76%</td>\n",
       "    </tr>\n",
       "    <tr>\n",
       "      <th>1</th>\n",
       "      <td>1142</td>\n",
       "      <td>16.24%</td>\n",
       "    </tr>\n",
       "  </tbody>\n",
       "</table>\n",
       "</div>"
      ],
      "text/plain": [
       "                Cantidad de valores Porcentajes\n",
       "senior_citizen                                 \n",
       "0                              5890      83.76%\n",
       "1                              1142      16.24%"
      ]
     },
     "metadata": {},
     "output_type": "display_data"
    },
    {
     "data": {
      "image/png": "[encoded data removed]",
      "text/plain": [
       "<Figure size 640x480 with 1 Axes>"
      ]
     },
     "metadata": {},
     "output_type": "display_data"
    }
   ],
   "source": [
    "# Calcular la distribución de valores de 'senior_citizen'\n",
    "\n",
    "analyze_column('senior_citizen')"
   ]
  },
  {
   "cell_type": "markdown",
   "id": "c2f1bf73",
   "metadata": {},
   "source": [
    "Solo el 16.24% de los clientes son clasificados como adultos mayores. Ahora, se examinará la tasa de abandono de estos clientes"
   ]
  },
  {
   "cell_type": "code",
   "execution_count": 209,
   "id": "a2b5a81d",
   "metadata": {},
   "outputs": [
    {
     "data": {
      "image/png": "[encoded data removed]",
      "text/plain": [
       "<Figure size 640x480 with 1 Axes>"
      ]
     },
     "metadata": {},
     "output_type": "display_data"
    },
    {
     "data": {
      "text/html": [
       "<div>\n",
       "<style scoped>\n",
       "    .dataframe tbody tr th:only-of-type {\n",
       "        vertical-align: middle;\n",
       "    }\n",
       "\n",
       "    .dataframe tbody tr th {\n",
       "        vertical-align: top;\n",
       "    }\n",
       "\n",
       "    .dataframe thead th {\n",
       "        text-align: right;\n",
       "    }\n",
       "</style>\n",
       "<table border=\"1\" class=\"dataframe\">\n",
       "  <thead>\n",
       "    <tr style=\"text-align: right;\">\n",
       "      <th>churn</th>\n",
       "      <th>0</th>\n",
       "      <th>1</th>\n",
       "      <th>churn_rate</th>\n",
       "    </tr>\n",
       "    <tr>\n",
       "      <th>senior_citizen</th>\n",
       "      <th></th>\n",
       "      <th></th>\n",
       "      <th></th>\n",
       "    </tr>\n",
       "  </thead>\n",
       "  <tbody>\n",
       "    <tr>\n",
       "      <th>0</th>\n",
       "      <td>4497</td>\n",
       "      <td>1393</td>\n",
       "      <td>23.65%</td>\n",
       "    </tr>\n",
       "    <tr>\n",
       "      <th>1</th>\n",
       "      <td>666</td>\n",
       "      <td>476</td>\n",
       "      <td>41.68%</td>\n",
       "    </tr>\n",
       "  </tbody>\n",
       "</table>\n",
       "</div>"
      ],
      "text/plain": [
       "churn              0     1 churn_rate\n",
       "senior_citizen                       \n",
       "0               4497  1393     23.65%\n",
       "1                666   476     41.68%"
      ]
     },
     "execution_count": 209,
     "metadata": {},
     "output_type": "execute_result"
    }
   ],
   "source": [
    "# Calcular la Tasa de Abandono basada en la columna `paperless_billing` y mostrar su visualización\n",
    "\n",
    "senior_citizen_churn_rate = analyze_churn_rate('senior_citizen')\n",
    "senior_citizen_churn_rate"
   ]
  },
  {
   "cell_type": "markdown",
   "id": "96c8802d",
   "metadata": {},
   "source": [
    "**Hallazgos**\n",
    "\n",
    "- En términos absolutos, hay más clientes no mayores (valor 0) que han abandonado el servicio, con un total de 1393 clientes.\n",
    "\n",
    "- Sin embargo, la tasa de cancelación entre los clientes mayores (valor 1) es significativamente más alta, alcanzando el 41.68%.\n",
    "\n",
    "- El número de clientes mayores que han dejado el servicio es en efecto \"solo\" 476, pero este número es cercano al de los clientes mayores que se han quedado, que son 666, por lo que la proporción de cancelación indica aproximadamente que de 2 clientes mayores, 1 abandona el servicio.\n",
    "\n",
    "- Esto indica que los clientes mayores tienen un mayor riesgo de cancelar el servicio.\n",
    "\n",
    "**Recomendaciones**\n",
    "\n",
    "- A pesar de que el número de clientes mayores es relativamente bajo, es fundamental poner atención a la proporción de cancelación y no pasarla por alto.\n",
    "\n",
    "- Incentivar los programas promocionales para que el objetivo de estos sean los clientes adultos mayores, que se adecuen y respondan a su necesidad, con el fin de conseguir su permanencia. "
   ]
  },
  {
   "cell_type": "markdown",
   "id": "9e3a8261",
   "metadata": {},
   "source": [
    "#### **3.1.2 Correlación Negativa**"
   ]
  },
  {
   "cell_type": "markdown",
   "id": "fc50683e",
   "metadata": {},
   "source": [
    "En esta sección se procederá a examinar las columnas que tienen una correlación negativa significativa con la variable objetivo('churn') como son: `total_charges`, `online_security`, `tech_support`, `partner` y `dependents`"
   ]
  },
  {
   "cell_type": "markdown",
   "id": "f6088d2d",
   "metadata": {},
   "source": [
    "##### **3.1.2.1 Columna `total_charges`**"
   ]
  },
  {
   "cell_type": "markdown",
   "id": "876ab8e6",
   "metadata": {},
   "source": [
    "A diferencia de la columna `monthly_charges`, en el análisis de correlación inicial, la columna `total_charges` muestra una correlación negativa con la variable objetivo. Esto indica que a medida que el valor de `total_charges` aumenta, las probabilidades de que el cliente abandone el servicio disminuyen. Se analizará de manera mas detallada la columna `total_charges`, de la misma forma que se desarrolló en la columna `monthly_charges`."
   ]
  },
  {
   "cell_type": "code",
   "execution_count": 210,
   "id": "5e170d91",
   "metadata": {},
   "outputs": [
    {
     "data": {
      "image/png": "[encoded data removed]",
      "text/plain": [
       "<Figure size 1200x800 with 2 Axes>"
      ]
     },
     "metadata": {},
     "output_type": "display_data"
    }
   ],
   "source": [
    "# Visualizar la distribución de la columna\n",
    "\n",
    "plt.figure(figsize=(15, 10), dpi=80)\n",
    "\n",
    "# Histograma\n",
    "plt.subplot(2, 1, 1)\n",
    "plt.hist(data['total_charges'], bins=20, alpha=0.5, label='Distribución de Facturación Total')\n",
    "plt.xlabel('Factura Total')\n",
    "plt.ylabel('Frecuencia')\n",
    "plt.legend(loc='upper right')\n",
    "\n",
    "# Boxplot\n",
    "plt.subplot(2, 1, 2)\n",
    "plt.boxplot(data['total_charges'], vert=False)\n",
    "plt.xlabel('Factura Total')\n",
    "plt.ylabel('Valor')\n",
    "plt.title('Factura Total Boxplot')\n",
    "\n",
    "plt.tight_layout()\n",
    "plt.show()"
   ]
  },
  {
   "cell_type": "markdown",
   "id": "a6e3a6cf",
   "metadata": {},
   "source": [
    "**Hallazgos**\n",
    "\n",
    "- La distribución de la columna esta sesgada a la derecha, lo que advierte que la mayoria de los clientes tiene una facturación total baja.\n",
    "\n",
    "- Gran parte de los clientes tiene un valor total de facturación inferior a los 1000 dólares.\n",
    "\n",
    "De forma similar, que el estudio anterior, se procede a crear una nueva columna con la agrupación de los datos basada en la columna `total_charges`."
   ]
  },
  {
   "cell_type": "code",
   "execution_count": 211,
   "id": "ec6839e7",
   "metadata": {},
   "outputs": [
    {
     "data": {
      "text/html": [
       "<div>\n",
       "<style scoped>\n",
       "    .dataframe tbody tr th:only-of-type {\n",
       "        vertical-align: middle;\n",
       "    }\n",
       "\n",
       "    .dataframe tbody tr th {\n",
       "        vertical-align: top;\n",
       "    }\n",
       "\n",
       "    .dataframe thead th {\n",
       "        text-align: right;\n",
       "    }\n",
       "</style>\n",
       "<table border=\"1\" class=\"dataframe\">\n",
       "  <thead>\n",
       "    <tr style=\"text-align: right;\">\n",
       "      <th></th>\n",
       "      <th>Cantidad de valores</th>\n",
       "      <th>Porcentajes</th>\n",
       "    </tr>\n",
       "    <tr>\n",
       "      <th>total_charge_category</th>\n",
       "      <th></th>\n",
       "      <th></th>\n",
       "    </tr>\n",
       "  </thead>\n",
       "  <tbody>\n",
       "    <tr>\n",
       "      <th>low</th>\n",
       "      <td>4176</td>\n",
       "      <td>59.39%</td>\n",
       "    </tr>\n",
       "    <tr>\n",
       "      <th>mid_low</th>\n",
       "      <td>1208</td>\n",
       "      <td>17.18%</td>\n",
       "    </tr>\n",
       "    <tr>\n",
       "      <th>middle</th>\n",
       "      <td>956</td>\n",
       "      <td>13.59%</td>\n",
       "    </tr>\n",
       "    <tr>\n",
       "      <th>mid_high</th>\n",
       "      <td>614</td>\n",
       "      <td>8.73%</td>\n",
       "    </tr>\n",
       "    <tr>\n",
       "      <th>high</th>\n",
       "      <td>78</td>\n",
       "      <td>1.11%</td>\n",
       "    </tr>\n",
       "  </tbody>\n",
       "</table>\n",
       "</div>"
      ],
      "text/plain": [
       "                       Cantidad de valores Porcentajes\n",
       "total_charge_category                                 \n",
       "low                                   4176      59.39%\n",
       "mid_low                               1208      17.18%\n",
       "middle                                 956      13.59%\n",
       "mid_high                               614       8.73%\n",
       "high                                    78       1.11%"
      ]
     },
     "metadata": {},
     "output_type": "display_data"
    },
    {
     "data": {
      "image/png": "[encoded data removed]",
      "text/plain": [
       "<Figure size 640x480 with 1 Axes>"
      ]
     },
     "metadata": {},
     "output_type": "display_data"
    }
   ],
   "source": [
    "# Crear columna 'total_charge_category', a partir de los valores de 'total_charges'\n",
    "# Calcular la distribución de valores de 'total_charge_category'\n",
    "\n",
    "data['total_charge_category'] = pd.cut(data['total_charges'], bins=[0, 2000, 4000, 6000, 8000, 10000], labels=['low', 'mid_low', 'middle', 'mid_high', 'high'], right=False)\n",
    "analyze_column('total_charge_category')"
   ]
  },
  {
   "cell_type": "markdown",
   "id": "c26caed0",
   "metadata": {},
   "source": [
    "El 59.4% de los clientes, estan en el segemento 'low', lo que indica una facturación total baja. Esto deduce, que casi el 60% de los clientes tiene mayor probabilidad de influir de forma negativa en la tasa de deserción de clientes."
   ]
  },
  {
   "cell_type": "code",
   "execution_count": 212,
   "id": "4d4bdd97",
   "metadata": {},
   "outputs": [
    {
     "data": {
      "image/png": "[encoded data removed]",
      "text/plain": [
       "<Figure size 640x480 with 1 Axes>"
      ]
     },
     "metadata": {},
     "output_type": "display_data"
    },
    {
     "data": {
      "text/html": [
       "<div>\n",
       "<style scoped>\n",
       "    .dataframe tbody tr th:only-of-type {\n",
       "        vertical-align: middle;\n",
       "    }\n",
       "\n",
       "    .dataframe tbody tr th {\n",
       "        vertical-align: top;\n",
       "    }\n",
       "\n",
       "    .dataframe thead th {\n",
       "        text-align: right;\n",
       "    }\n",
       "</style>\n",
       "<table border=\"1\" class=\"dataframe\">\n",
       "  <thead>\n",
       "    <tr style=\"text-align: right;\">\n",
       "      <th>churn</th>\n",
       "      <th>0</th>\n",
       "      <th>1</th>\n",
       "      <th>churn_rate</th>\n",
       "    </tr>\n",
       "    <tr>\n",
       "      <th>total_charge_category</th>\n",
       "      <th></th>\n",
       "      <th></th>\n",
       "      <th></th>\n",
       "    </tr>\n",
       "  </thead>\n",
       "  <tbody>\n",
       "    <tr>\n",
       "      <th>low</th>\n",
       "      <td>2837</td>\n",
       "      <td>1339</td>\n",
       "      <td>32.06%</td>\n",
       "    </tr>\n",
       "    <tr>\n",
       "      <th>mid_low</th>\n",
       "      <td>921</td>\n",
       "      <td>287</td>\n",
       "      <td>23.76%</td>\n",
       "    </tr>\n",
       "    <tr>\n",
       "      <th>middle</th>\n",
       "      <td>801</td>\n",
       "      <td>155</td>\n",
       "      <td>16.21%</td>\n",
       "    </tr>\n",
       "    <tr>\n",
       "      <th>mid_high</th>\n",
       "      <td>529</td>\n",
       "      <td>85</td>\n",
       "      <td>13.84%</td>\n",
       "    </tr>\n",
       "    <tr>\n",
       "      <th>high</th>\n",
       "      <td>75</td>\n",
       "      <td>3</td>\n",
       "      <td>3.85%</td>\n",
       "    </tr>\n",
       "  </tbody>\n",
       "</table>\n",
       "</div>"
      ],
      "text/plain": [
       "churn                     0     1 churn_rate\n",
       "total_charge_category                       \n",
       "low                    2837  1339     32.06%\n",
       "mid_low                 921   287     23.76%\n",
       "middle                  801   155     16.21%\n",
       "mid_high                529    85     13.84%\n",
       "high                     75     3      3.85%"
      ]
     },
     "execution_count": 212,
     "metadata": {},
     "output_type": "execute_result"
    }
   ],
   "source": [
    "# Calcular la Tasa de Abandono basada en la columna `total_charge_category` y mostrar su visualización\n",
    "\n",
    "total_charge_churn_rate = analyze_churn_rate('total_charge_category')\n",
    "total_charge_churn_rate"
   ]
  },
  {
   "cell_type": "markdown",
   "id": "03b3a6ae",
   "metadata": {},
   "source": [
    "**Hallazgos**\n",
    "\n",
    "- Al igual que el análisis preliminar, existe la correlación negativa estra `total_charges` y `churn`, que indica un mayor potencial de cancelación asociado a los valores bajos en la columna `total_charges`.\n",
    "\n",
    "- La tasa de pérdida de clientes, para clientes con valores de facturación total bajos o muy bajos( 0 - 2000 dólares) es más alto, en comparación con valores totales de facturación más altos.\n",
    "\n",
    "**Insights**\n",
    "\n",
    "- Los valores más altos, señalan una suscripción de myor duración, lo que refleja la fidelización del cliente.\n",
    "\n",
    "- Los clientes con valores de facturación total más altos, tienen probabilidades mas bajas de eliminar el servicio.\n",
    "\n",
    "**Recomendaciones**\n",
    "\n",
    "- Incentivar los programas promocionales para lograr fidelizar a los clientes que estan en el segmento de facturación total baja, con el objetivo de minimizar la tasa de cancelación que tiene la compañia. "
   ]
  },
  {
   "cell_type": "markdown",
   "id": "fb02d84c",
   "metadata": {},
   "source": [
    "##### **3.1.2.2 Columna `online_security`**"
   ]
  },
  {
   "cell_type": "markdown",
   "id": "4c03201d",
   "metadata": {},
   "source": [
    "Esta variable contiene valores binarios (0 y 1), donde el valor 0 indica que los clientes no utilizan el servicio de seguridad en línea y el valor 1 indica quien si lo utiliza."
   ]
  },
  {
   "cell_type": "code",
   "execution_count": 213,
   "id": "6f11e7fc",
   "metadata": {},
   "outputs": [
    {
     "data": {
      "text/html": [
       "<div>\n",
       "<style scoped>\n",
       "    .dataframe tbody tr th:only-of-type {\n",
       "        vertical-align: middle;\n",
       "    }\n",
       "\n",
       "    .dataframe tbody tr th {\n",
       "        vertical-align: top;\n",
       "    }\n",
       "\n",
       "    .dataframe thead th {\n",
       "        text-align: right;\n",
       "    }\n",
       "</style>\n",
       "<table border=\"1\" class=\"dataframe\">\n",
       "  <thead>\n",
       "    <tr style=\"text-align: right;\">\n",
       "      <th></th>\n",
       "      <th>Cantidad de valores</th>\n",
       "      <th>Porcentajes</th>\n",
       "    </tr>\n",
       "    <tr>\n",
       "      <th>online_security</th>\n",
       "      <th></th>\n",
       "      <th></th>\n",
       "    </tr>\n",
       "  </thead>\n",
       "  <tbody>\n",
       "    <tr>\n",
       "      <th>0</th>\n",
       "      <td>5017</td>\n",
       "      <td>71.35%</td>\n",
       "    </tr>\n",
       "    <tr>\n",
       "      <th>1</th>\n",
       "      <td>2015</td>\n",
       "      <td>28.65%</td>\n",
       "    </tr>\n",
       "  </tbody>\n",
       "</table>\n",
       "</div>"
      ],
      "text/plain": [
       "                 Cantidad de valores Porcentajes\n",
       "online_security                                 \n",
       "0                               5017      71.35%\n",
       "1                               2015      28.65%"
      ]
     },
     "metadata": {},
     "output_type": "display_data"
    },
    {
     "data": {
      "image/png": "[encoded data removed]",
      "text/plain": [
       "<Figure size 640x480 with 1 Axes>"
      ]
     },
     "metadata": {},
     "output_type": "display_data"
    }
   ],
   "source": [
    "# Calcular la distribución de valores de 'online_security'\n",
    "\n",
    "analyze_column('online_security')"
   ]
  },
  {
   "cell_type": "markdown",
   "id": "650dfe92",
   "metadata": {},
   "source": [
    "La mayoria de los clientes no usa el servicio de seguridad en línea"
   ]
  },
  {
   "cell_type": "code",
   "execution_count": 214,
   "id": "6023361c",
   "metadata": {},
   "outputs": [
    {
     "data": {
      "image/png": "[encoded data removed]",
      "text/plain": [
       "<Figure size 640x480 with 1 Axes>"
      ]
     },
     "metadata": {},
     "output_type": "display_data"
    },
    {
     "data": {
      "text/html": [
       "<div>\n",
       "<style scoped>\n",
       "    .dataframe tbody tr th:only-of-type {\n",
       "        vertical-align: middle;\n",
       "    }\n",
       "\n",
       "    .dataframe tbody tr th {\n",
       "        vertical-align: top;\n",
       "    }\n",
       "\n",
       "    .dataframe thead th {\n",
       "        text-align: right;\n",
       "    }\n",
       "</style>\n",
       "<table border=\"1\" class=\"dataframe\">\n",
       "  <thead>\n",
       "    <tr style=\"text-align: right;\">\n",
       "      <th>churn</th>\n",
       "      <th>0</th>\n",
       "      <th>1</th>\n",
       "      <th>churn_rate</th>\n",
       "    </tr>\n",
       "    <tr>\n",
       "      <th>online_security</th>\n",
       "      <th></th>\n",
       "      <th></th>\n",
       "      <th></th>\n",
       "    </tr>\n",
       "  </thead>\n",
       "  <tbody>\n",
       "    <tr>\n",
       "      <th>0</th>\n",
       "      <td>3443</td>\n",
       "      <td>1574</td>\n",
       "      <td>31.37%</td>\n",
       "    </tr>\n",
       "    <tr>\n",
       "      <th>1</th>\n",
       "      <td>1720</td>\n",
       "      <td>295</td>\n",
       "      <td>14.64%</td>\n",
       "    </tr>\n",
       "  </tbody>\n",
       "</table>\n",
       "</div>"
      ],
      "text/plain": [
       "churn               0     1 churn_rate\n",
       "online_security                       \n",
       "0                3443  1574     31.37%\n",
       "1                1720   295     14.64%"
      ]
     },
     "execution_count": 214,
     "metadata": {},
     "output_type": "execute_result"
    }
   ],
   "source": [
    "# Calcular la Tasa de Abandono basada en la columna `online_security` y mostrar su visualización\n",
    "\n",
    "online_security_churn_rate = analyze_churn_rate('online_security')\n",
    "online_security_churn_rate"
   ]
  },
  {
   "cell_type": "markdown",
   "id": "6e7d1353",
   "metadata": {},
   "source": [
    "**Hallazgos**\n",
    "\n",
    "- Los clientes que no utilizan el servicio de seguridad en línea estan significativamentes mas proclives a finalizar los servicios con la compañia\n",
    "\n",
    "- La cantidad de clientes que anularon sus servicios y no usanron el servicio de seguridad en línea (1574), es aproximadamente, los clientes que usaron el servicio y eligieron seguir con sus servicios(1720).\n",
    "\n",
    "- Si el cliente, usa el servicio de seguridad en línea o lo utilizó en algún periodo, es muy dificil que terminen su contrato.\n",
    "\n",
    "**Insights**\n",
    "\n",
    "- El servicio de seguridad en línea, tiene un desempeño muy relevante para el cliente, lo impacta positivamente en la tasa de cancelación.\n",
    "\n",
    "- Los clientes que adquieren este servicio tienden a tener mayor confianza y seguridad en la compañia, y en los servicios ofrecidos por esta, lo que reduce la posibilidad de término de contrato y de la misma manera, aumenta la permanencia de los clientes. \n",
    "\n",
    "- Este servicio permite el aumento de tasa de retención de clientes, ya que los clientes que usan el servicio asi lo demuestran. \n",
    "\n",
    "**Recomendaciones**\n",
    "\n",
    "- Resaltar y promover el servicio de seguridad en línea, con el fin de atraer más clientes, aumentar la tasa de retención y disminuir la tasa de cancelación."
   ]
  },
  {
   "cell_type": "markdown",
   "id": "b84d147a",
   "metadata": {},
   "source": [
    "##### **3.1.2.3 Columna `tech_support`**"
   ]
  },
  {
   "cell_type": "markdown",
   "id": "41b32236",
   "metadata": {},
   "source": [
    "Esta variabe tambien genera una correlación negativa con la columna `churn`.\n",
    "\n",
    "Se puede suponer, que los clientes que utilizan este servicio tienden a ser concientes de su confiabilidad , lo que puede influir en una menor tasa de cancelación. Se ha de examinar de forma más detallada, para ver su efecto en ls tasa de deserción de clientes."
   ]
  },
  {
   "cell_type": "code",
   "execution_count": 215,
   "id": "8ebed09f",
   "metadata": {},
   "outputs": [
    {
     "data": {
      "text/html": [
       "<div>\n",
       "<style scoped>\n",
       "    .dataframe tbody tr th:only-of-type {\n",
       "        vertical-align: middle;\n",
       "    }\n",
       "\n",
       "    .dataframe tbody tr th {\n",
       "        vertical-align: top;\n",
       "    }\n",
       "\n",
       "    .dataframe thead th {\n",
       "        text-align: right;\n",
       "    }\n",
       "</style>\n",
       "<table border=\"1\" class=\"dataframe\">\n",
       "  <thead>\n",
       "    <tr style=\"text-align: right;\">\n",
       "      <th></th>\n",
       "      <th>Cantidad de valores</th>\n",
       "      <th>Porcentajes</th>\n",
       "    </tr>\n",
       "    <tr>\n",
       "      <th>tech_support</th>\n",
       "      <th></th>\n",
       "      <th></th>\n",
       "    </tr>\n",
       "  </thead>\n",
       "  <tbody>\n",
       "    <tr>\n",
       "      <th>0</th>\n",
       "      <td>4992</td>\n",
       "      <td>70.99%</td>\n",
       "    </tr>\n",
       "    <tr>\n",
       "      <th>1</th>\n",
       "      <td>2040</td>\n",
       "      <td>29.01%</td>\n",
       "    </tr>\n",
       "  </tbody>\n",
       "</table>\n",
       "</div>"
      ],
      "text/plain": [
       "              Cantidad de valores Porcentajes\n",
       "tech_support                                 \n",
       "0                            4992      70.99%\n",
       "1                            2040      29.01%"
      ]
     },
     "metadata": {},
     "output_type": "display_data"
    },
    {
     "data": {
      "image/png": "[encoded data removed]",
      "text/plain": [
       "<Figure size 640x480 with 1 Axes>"
      ]
     },
     "metadata": {},
     "output_type": "display_data"
    }
   ],
   "source": [
    "# Analizar la ditribución de la columna\n",
    "\n",
    "analyze_column('tech_support')"
   ]
  },
  {
   "cell_type": "markdown",
   "id": "0e707e71",
   "metadata": {},
   "source": [
    "Gran parte de los clientes asociados a la empresa, no usan los servicios de soporte técnico."
   ]
  },
  {
   "cell_type": "code",
   "execution_count": 216,
   "id": "f372aa7f",
   "metadata": {},
   "outputs": [
    {
     "data": {
      "image/png": "[encoded data removed]",
      "text/plain": [
       "<Figure size 640x480 with 1 Axes>"
      ]
     },
     "metadata": {},
     "output_type": "display_data"
    },
    {
     "data": {
      "text/html": [
       "<div>\n",
       "<style scoped>\n",
       "    .dataframe tbody tr th:only-of-type {\n",
       "        vertical-align: middle;\n",
       "    }\n",
       "\n",
       "    .dataframe tbody tr th {\n",
       "        vertical-align: top;\n",
       "    }\n",
       "\n",
       "    .dataframe thead th {\n",
       "        text-align: right;\n",
       "    }\n",
       "</style>\n",
       "<table border=\"1\" class=\"dataframe\">\n",
       "  <thead>\n",
       "    <tr style=\"text-align: right;\">\n",
       "      <th>churn</th>\n",
       "      <th>0</th>\n",
       "      <th>1</th>\n",
       "      <th>churn_rate</th>\n",
       "    </tr>\n",
       "    <tr>\n",
       "      <th>tech_support</th>\n",
       "      <th></th>\n",
       "      <th></th>\n",
       "      <th></th>\n",
       "    </tr>\n",
       "  </thead>\n",
       "  <tbody>\n",
       "    <tr>\n",
       "      <th>0</th>\n",
       "      <td>3433</td>\n",
       "      <td>1559</td>\n",
       "      <td>31.23%</td>\n",
       "    </tr>\n",
       "    <tr>\n",
       "      <th>1</th>\n",
       "      <td>1730</td>\n",
       "      <td>310</td>\n",
       "      <td>15.2%</td>\n",
       "    </tr>\n",
       "  </tbody>\n",
       "</table>\n",
       "</div>"
      ],
      "text/plain": [
       "churn            0     1 churn_rate\n",
       "tech_support                       \n",
       "0             3433  1559     31.23%\n",
       "1             1730   310      15.2%"
      ]
     },
     "execution_count": 216,
     "metadata": {},
     "output_type": "execute_result"
    }
   ],
   "source": [
    "# Calcular la Tasa de Abandono basada en la columna `tech_support` y mostrar su visualización\n",
    "\n",
    "tech_support_churn_rate = analyze_churn_rate('tech_support')\n",
    "tech_support_churn_rate"
   ]
  },
  {
   "cell_type": "markdown",
   "id": "c4a0e058",
   "metadata": {},
   "source": [
    "**Hallazgos**\n",
    "\n",
    "- Los clientes que no usan el servicio de soporte técnico, tienen más probabilidad de cancelar su servicio, en comparacion a los que si lo han utilizado.\n",
    "\n",
    "- La cantidad de clientes que cancelaron sus servicios es aproximadamente equivalente con la cantidad de clientes que usan el servicio de soporte técnico y permanecen en la compañia.\n",
    "\n",
    "**Insights**\n",
    "\n",
    "- El servicio de soporte técnico puede desempeñar un papel fundamental en la retención de los clientes.\n",
    "\n",
    "- Los clientes al tener acceso a la asistencia técnica, tienen mas probabilidad de sentirse respaldados y satisfechos con los servicios contratados.\n",
    "\n",
    "**Recomendaciones**\n",
    "\n",
    "- Reforzar y promover el servicio de soporte técnico, para incentivar a los clientes el uso del servicio.\n",
    "\n",
    "- Con una asistencia técnica confiable, Interconnect puede cambiar la satisfacción del cliente y reducir las cancelaciones."
   ]
  },
  {
   "cell_type": "markdown",
   "id": "7db17826",
   "metadata": {},
   "source": [
    "##### **3.1.2.4 Columna `dependents`**"
   ]
  },
  {
   "cell_type": "markdown",
   "id": "cdb8f826",
   "metadata": {},
   "source": [
    "En esta sección, se investigará si los clientes que no tienen hijos o personas a su cargo tienden a finalizar su contrato con más facilidad."
   ]
  },
  {
   "cell_type": "code",
   "execution_count": 217,
   "id": "d02be197",
   "metadata": {},
   "outputs": [
    {
     "data": {
      "text/html": [
       "<div>\n",
       "<style scoped>\n",
       "    .dataframe tbody tr th:only-of-type {\n",
       "        vertical-align: middle;\n",
       "    }\n",
       "\n",
       "    .dataframe tbody tr th {\n",
       "        vertical-align: top;\n",
       "    }\n",
       "\n",
       "    .dataframe thead th {\n",
       "        text-align: right;\n",
       "    }\n",
       "</style>\n",
       "<table border=\"1\" class=\"dataframe\">\n",
       "  <thead>\n",
       "    <tr style=\"text-align: right;\">\n",
       "      <th></th>\n",
       "      <th>Cantidad de valores</th>\n",
       "      <th>Porcentajes</th>\n",
       "    </tr>\n",
       "    <tr>\n",
       "      <th>dependents</th>\n",
       "      <th></th>\n",
       "      <th></th>\n",
       "    </tr>\n",
       "  </thead>\n",
       "  <tbody>\n",
       "    <tr>\n",
       "      <th>0</th>\n",
       "      <td>4933</td>\n",
       "      <td>70.15%</td>\n",
       "    </tr>\n",
       "    <tr>\n",
       "      <th>1</th>\n",
       "      <td>2099</td>\n",
       "      <td>29.85%</td>\n",
       "    </tr>\n",
       "  </tbody>\n",
       "</table>\n",
       "</div>"
      ],
      "text/plain": [
       "            Cantidad de valores Porcentajes\n",
       "dependents                                 \n",
       "0                          4933      70.15%\n",
       "1                          2099      29.85%"
      ]
     },
     "metadata": {},
     "output_type": "display_data"
    },
    {
     "data": {
      "image/png": "[encoded data removed]",
      "text/plain": [
       "<Figure size 640x480 with 1 Axes>"
      ]
     },
     "metadata": {},
     "output_type": "display_data"
    }
   ],
   "source": [
    "# Analizar la distribución de la columna\n",
    "\n",
    "analyze_column('dependents')"
   ]
  },
  {
   "cell_type": "markdown",
   "id": "e3a34df4",
   "metadata": {},
   "source": [
    "La mayoria de los suscriptores no tienen hijos ni personas a su cargo."
   ]
  },
  {
   "cell_type": "code",
   "execution_count": 218,
   "id": "601334b2",
   "metadata": {},
   "outputs": [
    {
     "data": {
      "image/png": "[encoded data removed]",
      "text/plain": [
       "<Figure size 640x480 with 1 Axes>"
      ]
     },
     "metadata": {},
     "output_type": "display_data"
    },
    {
     "data": {
      "text/html": [
       "<div>\n",
       "<style scoped>\n",
       "    .dataframe tbody tr th:only-of-type {\n",
       "        vertical-align: middle;\n",
       "    }\n",
       "\n",
       "    .dataframe tbody tr th {\n",
       "        vertical-align: top;\n",
       "    }\n",
       "\n",
       "    .dataframe thead th {\n",
       "        text-align: right;\n",
       "    }\n",
       "</style>\n",
       "<table border=\"1\" class=\"dataframe\">\n",
       "  <thead>\n",
       "    <tr style=\"text-align: right;\">\n",
       "      <th>churn</th>\n",
       "      <th>0</th>\n",
       "      <th>1</th>\n",
       "      <th>churn_rate</th>\n",
       "    </tr>\n",
       "    <tr>\n",
       "      <th>dependents</th>\n",
       "      <th></th>\n",
       "      <th></th>\n",
       "      <th></th>\n",
       "    </tr>\n",
       "  </thead>\n",
       "  <tbody>\n",
       "    <tr>\n",
       "      <th>0</th>\n",
       "      <td>3390</td>\n",
       "      <td>1543</td>\n",
       "      <td>31.28%</td>\n",
       "    </tr>\n",
       "    <tr>\n",
       "      <th>1</th>\n",
       "      <td>1773</td>\n",
       "      <td>326</td>\n",
       "      <td>15.53%</td>\n",
       "    </tr>\n",
       "  </tbody>\n",
       "</table>\n",
       "</div>"
      ],
      "text/plain": [
       "churn          0     1 churn_rate\n",
       "dependents                       \n",
       "0           3390  1543     31.28%\n",
       "1           1773   326     15.53%"
      ]
     },
     "execution_count": 218,
     "metadata": {},
     "output_type": "execute_result"
    }
   ],
   "source": [
    "# Calcular la Tasa de Abandono basada en la columna `dependents` y mostrar su visualización\n",
    "\n",
    "dependents_churn_rate = analyze_churn_rate('dependents')\n",
    "dependents_churn_rate"
   ]
  },
  {
   "cell_type": "markdown",
   "id": "d7c2da55",
   "metadata": {},
   "source": [
    "**Halllazgos**\n",
    "\n",
    "- Los consumidores sin personas a su cargo tienden a tener una tasa de cancelación más alta, lo que sugiere que son más propensos a eliminar el servicio, en comparación con los que si tienen personas a su cargo.\n",
    "\n",
    "**Insights**\n",
    "\n",
    "- Los usuarios con personas a cargo puede que tengan más compromiso con el servicio debido a sus necesidades y preferencias familiares, lo que reduce la cancelación de la suscripción.\n",
    "\n",
    "**Recomendaciones**\n",
    "\n",
    "- Diseño de promociones y ofertas especiales orientadas a los consumidores con personas a su cargo, para reforzar la preferencia y la mantencion del servicio.\n",
    "\n",
    "- Indagar con los usuarios que no tienen personas a su cargo, mediante encuestas o retroalimentación de ellos, para asi comprender de mejor manera las razones de su abandono, con el fin de implementar entrategias que aborden sus necesidades y mitiguen el aumento de la tasa de cancelación."
   ]
  },
  {
   "cell_type": "markdown",
   "id": "baf8eddb",
   "metadata": {},
   "source": [
    "##### **3.1.2.5 Columna `partner`**"
   ]
  },
  {
   "cell_type": "markdown",
   "id": "3c9e219c",
   "metadata": {},
   "source": [
    "La última columna que muestra correlación negativa con la variable objetivo, los usuarios que tienen pareja tienden a continuar con el uso del servicio, mientras los que estan solteros tienen m ayor posibilidad de cancelar el servicio.\n",
    "\n",
    "Se examinará la tasa de cancelación en función de esta varible con el fin de obtener más información."
   ]
  },
  {
   "cell_type": "code",
   "execution_count": 219,
   "id": "8d211a31",
   "metadata": {},
   "outputs": [
    {
     "data": {
      "text/html": [
       "<div>\n",
       "<style scoped>\n",
       "    .dataframe tbody tr th:only-of-type {\n",
       "        vertical-align: middle;\n",
       "    }\n",
       "\n",
       "    .dataframe tbody tr th {\n",
       "        vertical-align: top;\n",
       "    }\n",
       "\n",
       "    .dataframe thead th {\n",
       "        text-align: right;\n",
       "    }\n",
       "</style>\n",
       "<table border=\"1\" class=\"dataframe\">\n",
       "  <thead>\n",
       "    <tr style=\"text-align: right;\">\n",
       "      <th></th>\n",
       "      <th>Cantidad de valores</th>\n",
       "      <th>Porcentajes</th>\n",
       "    </tr>\n",
       "    <tr>\n",
       "      <th>partner</th>\n",
       "      <th></th>\n",
       "      <th></th>\n",
       "    </tr>\n",
       "  </thead>\n",
       "  <tbody>\n",
       "    <tr>\n",
       "      <th>0</th>\n",
       "      <td>3639</td>\n",
       "      <td>51.75%</td>\n",
       "    </tr>\n",
       "    <tr>\n",
       "      <th>1</th>\n",
       "      <td>3393</td>\n",
       "      <td>48.25%</td>\n",
       "    </tr>\n",
       "  </tbody>\n",
       "</table>\n",
       "</div>"
      ],
      "text/plain": [
       "         Cantidad de valores Porcentajes\n",
       "partner                                 \n",
       "0                       3639      51.75%\n",
       "1                       3393      48.25%"
      ]
     },
     "metadata": {},
     "output_type": "display_data"
    },
    {
     "data": {
      "image/png": "[encoded data removed]",
      "text/plain": [
       "<Figure size 640x480 with 1 Axes>"
      ]
     },
     "metadata": {},
     "output_type": "display_data"
    }
   ],
   "source": [
    "# Analizar la distribución de la columna\n",
    "\n",
    "analyze_column('partner')"
   ]
  },
  {
   "cell_type": "markdown",
   "id": "19d53b67",
   "metadata": {},
   "source": [
    "El número de suscriptores con y sin pareja, esta relativamente balanceado."
   ]
  },
  {
   "cell_type": "code",
   "execution_count": 220,
   "id": "13dae8f0",
   "metadata": {},
   "outputs": [
    {
     "data": {
      "image/png": "[encoded data removed]",
      "text/plain": [
       "<Figure size 640x480 with 1 Axes>"
      ]
     },
     "metadata": {},
     "output_type": "display_data"
    },
    {
     "data": {
      "text/html": [
       "<div>\n",
       "<style scoped>\n",
       "    .dataframe tbody tr th:only-of-type {\n",
       "        vertical-align: middle;\n",
       "    }\n",
       "\n",
       "    .dataframe tbody tr th {\n",
       "        vertical-align: top;\n",
       "    }\n",
       "\n",
       "    .dataframe thead th {\n",
       "        text-align: right;\n",
       "    }\n",
       "</style>\n",
       "<table border=\"1\" class=\"dataframe\">\n",
       "  <thead>\n",
       "    <tr style=\"text-align: right;\">\n",
       "      <th>churn</th>\n",
       "      <th>0</th>\n",
       "      <th>1</th>\n",
       "      <th>churn_rate</th>\n",
       "    </tr>\n",
       "    <tr>\n",
       "      <th>partner</th>\n",
       "      <th></th>\n",
       "      <th></th>\n",
       "      <th></th>\n",
       "    </tr>\n",
       "  </thead>\n",
       "  <tbody>\n",
       "    <tr>\n",
       "      <th>0</th>\n",
       "      <td>2439</td>\n",
       "      <td>1200</td>\n",
       "      <td>32.98%</td>\n",
       "    </tr>\n",
       "    <tr>\n",
       "      <th>1</th>\n",
       "      <td>2724</td>\n",
       "      <td>669</td>\n",
       "      <td>19.72%</td>\n",
       "    </tr>\n",
       "  </tbody>\n",
       "</table>\n",
       "</div>"
      ],
      "text/plain": [
       "churn       0     1 churn_rate\n",
       "partner                       \n",
       "0        2439  1200     32.98%\n",
       "1        2724   669     19.72%"
      ]
     },
     "execution_count": 220,
     "metadata": {},
     "output_type": "execute_result"
    }
   ],
   "source": [
    "# Calcular la Tasa de Abandono basada en la columna `partner` y mostrar su visualización\n",
    "\n",
    "partner_churn_rate = analyze_churn_rate('partner')\n",
    "partner_churn_rate"
   ]
  },
  {
   "cell_type": "markdown",
   "id": "5666374d",
   "metadata": {},
   "source": [
    "**Hallazgos**\n",
    "\n",
    "- la tasa de cancelación de los usuarios que no tienene pareja es significativamente más alta, llegando un 32.98% en comparación de los que si tienen pareja, cuya tasa de abandono es de 19.72%.\n",
    "\n",
    "- La cantidad de usuarios que permanece en la compañia y no tiene pareja , es menor que aquellos que si tienen pareja.\n",
    "\n",
    "**Insights**\n",
    "\n",
    "- Tener pareja genera una reducción de la probabilidad de los usuarios que cancelan su suscripción.\n",
    "\n",
    "- Los clientes sin pareja, podrian tener experiencias o necesidades diferentes que los lleva a tener una mayor tasa de abandono.\n",
    "\n",
    "**Recomendaciones**\n",
    "\n",
    "- Diseñar promociones para y ofertas dirigidas al segmento de usuarios que no tienen pareja, con el fin de reducir la tasad e cancelación asociado a este segmento."
   ]
  },
  {
   "cell_type": "markdown",
   "metadata": {},
   "source": [
    "### **3.2 Correlación Variables Categóricas**"
   ]
  },
  {
   "cell_type": "markdown",
   "id": "2491d6fe",
   "metadata": {},
   "source": [
    "Acabado el análisis de las variables númericas, el enfoque de atención cambia hacia las variables categóricas, la cuales son las siguientes: `type`, `payment_method`, `internet_service` y `gender`"
   ]
  },
  {
   "cell_type": "markdown",
   "id": "2510bbd4",
   "metadata": {},
   "source": [
    "#### **3.2.1 Columna `type`**"
   ]
  },
  {
   "cell_type": "code",
   "execution_count": 221,
   "id": "26c5948c",
   "metadata": {},
   "outputs": [
    {
     "data": {
      "text/html": [
       "<div>\n",
       "<style scoped>\n",
       "    .dataframe tbody tr th:only-of-type {\n",
       "        vertical-align: middle;\n",
       "    }\n",
       "\n",
       "    .dataframe tbody tr th {\n",
       "        vertical-align: top;\n",
       "    }\n",
       "\n",
       "    .dataframe thead th {\n",
       "        text-align: right;\n",
       "    }\n",
       "</style>\n",
       "<table border=\"1\" class=\"dataframe\">\n",
       "  <thead>\n",
       "    <tr style=\"text-align: right;\">\n",
       "      <th></th>\n",
       "      <th>Cantidad de valores</th>\n",
       "      <th>Porcentajes</th>\n",
       "    </tr>\n",
       "    <tr>\n",
       "      <th>type</th>\n",
       "      <th></th>\n",
       "      <th></th>\n",
       "    </tr>\n",
       "  </thead>\n",
       "  <tbody>\n",
       "    <tr>\n",
       "      <th>Month-to-month</th>\n",
       "      <td>3875</td>\n",
       "      <td>55.11%</td>\n",
       "    </tr>\n",
       "    <tr>\n",
       "      <th>Two year</th>\n",
       "      <td>1685</td>\n",
       "      <td>23.96%</td>\n",
       "    </tr>\n",
       "    <tr>\n",
       "      <th>One year</th>\n",
       "      <td>1472</td>\n",
       "      <td>20.93%</td>\n",
       "    </tr>\n",
       "  </tbody>\n",
       "</table>\n",
       "</div>"
      ],
      "text/plain": [
       "                Cantidad de valores Porcentajes\n",
       "type                                           \n",
       "Month-to-month                 3875      55.11%\n",
       "Two year                       1685      23.96%\n",
       "One year                       1472      20.93%"
      ]
     },
     "metadata": {},
     "output_type": "display_data"
    },
    {
     "data": {
      "image/png": "[encoded data removed]",
      "text/plain": [
       "<Figure size 640x480 with 1 Axes>"
      ]
     },
     "metadata": {},
     "output_type": "display_data"
    }
   ],
   "source": [
    "# Analizar al distribución de la columna\n",
    "\n",
    "analyze_column('type')"
   ]
  },
  {
   "cell_type": "markdown",
   "id": "962b0a54",
   "metadata": {},
   "source": [
    "La mayoria de los suscriptores, alrededor del 55.1% prefiere pagar sus servicios de forma mensual."
   ]
  },
  {
   "cell_type": "code",
   "execution_count": 222,
   "id": "3bccffa0",
   "metadata": {},
   "outputs": [
    {
     "data": {
      "image/png": "[encoded data removed]",
      "text/plain": [
       "<Figure size 640x480 with 1 Axes>"
      ]
     },
     "metadata": {},
     "output_type": "display_data"
    },
    {
     "data": {
      "text/html": [
       "<div>\n",
       "<style scoped>\n",
       "    .dataframe tbody tr th:only-of-type {\n",
       "        vertical-align: middle;\n",
       "    }\n",
       "\n",
       "    .dataframe tbody tr th {\n",
       "        vertical-align: top;\n",
       "    }\n",
       "\n",
       "    .dataframe thead th {\n",
       "        text-align: right;\n",
       "    }\n",
       "</style>\n",
       "<table border=\"1\" class=\"dataframe\">\n",
       "  <thead>\n",
       "    <tr style=\"text-align: right;\">\n",
       "      <th>churn</th>\n",
       "      <th>0</th>\n",
       "      <th>1</th>\n",
       "      <th>churn_rate</th>\n",
       "    </tr>\n",
       "    <tr>\n",
       "      <th>type</th>\n",
       "      <th></th>\n",
       "      <th></th>\n",
       "      <th></th>\n",
       "    </tr>\n",
       "  </thead>\n",
       "  <tbody>\n",
       "    <tr>\n",
       "      <th>Month-to-month</th>\n",
       "      <td>2220</td>\n",
       "      <td>1655</td>\n",
       "      <td>42.71%</td>\n",
       "    </tr>\n",
       "    <tr>\n",
       "      <th>One year</th>\n",
       "      <td>1306</td>\n",
       "      <td>166</td>\n",
       "      <td>11.28%</td>\n",
       "    </tr>\n",
       "    <tr>\n",
       "      <th>Two year</th>\n",
       "      <td>1637</td>\n",
       "      <td>48</td>\n",
       "      <td>2.85%</td>\n",
       "    </tr>\n",
       "  </tbody>\n",
       "</table>\n",
       "</div>"
      ],
      "text/plain": [
       "churn              0     1 churn_rate\n",
       "type                                 \n",
       "Month-to-month  2220  1655     42.71%\n",
       "One year        1306   166     11.28%\n",
       "Two year        1637    48      2.85%"
      ]
     },
     "execution_count": 222,
     "metadata": {},
     "output_type": "execute_result"
    }
   ],
   "source": [
    "# Calcular la Tasa de Abandono basada en la columna `type` y mostrar su visualización\n",
    "\n",
    "type_churn_rate = analyze_churn_rate('type')\n",
    "type_churn_rate"
   ]
  },
  {
   "cell_type": "markdown",
   "id": "0fcc3319",
   "metadata": {},
   "source": [
    "**Hallazgos**\n",
    "\n",
    "- Los clientes de suscripción mensual son los mas vulnerables para abandonar el servicio, ya que su cancelación es más alta que otros tipos de suscripción. Esto indica, que este tipo de clientes pueden ser mas sensibles a cambios en los precios o en la calidad del servicio, esto los mantiene explorando otras opciones y/o cambio de proveedor.\n",
    "\n",
    "- Paralelamente, los clientes que optaron por las formas de pago mas extensas(anual o bienal), son clientes más fidelizados y tienen menor potencial de abandono del servicio, lo que deduce como mayor lealtad. Esta lealtad se puede atribuir a diversos factores como inventivos de precio, confianza por la calidad de servicio o un compromiso más fuerte con el uso de servicio a largo plazo.\n",
    "\n",
    "**Insights**\n",
    "\n",
    "- El tipo de suscripción desempeña un rol fundamental en la tasa de retención de clientes.\n",
    "\n",
    "- Ofrecer mayores beneficios e incentivos, para generear compromisos de suscripciones mas largos, puede ser una eficaz estrategia para aumentar la lealtad de los clientes y reducir la tasa de perdida de clientes.\n",
    "\n",
    "- Monitorear y abordar las necesidades y preocupaciones de los clientes con planes mensuales, lo que ayude a mejorar su satisfacción de los consumidores y dismunir la probabilidad de deserción.\n",
    "\n",
    "**Recomendaciones**\n",
    "\n",
    "- Aumentar las promociones e incentivos para las suscripciones más extensas, con el fin de animar a los suscriptores a usar el servicio de forma prologada y asi mejorar la contención.\n",
    "\n",
    "- Considerar ofrecer tarifas con descuento o características adicionales al servicio básico, para los clientes de contratos anuales o bienales. Abordar estos casos de forma proactiva puede ayudar aumentar la satisfacción del clientes y aminorar la tasa de de cancelación en el segmento."
   ]
  },
  {
   "cell_type": "markdown",
   "id": "dbbffee9",
   "metadata": {},
   "source": [
    "#### **3.2.2 Columna `payment_method`**"
   ]
  },
  {
   "cell_type": "code",
   "execution_count": 223,
   "id": "f3d4d1f6",
   "metadata": {},
   "outputs": [
    {
     "data": {
      "text/html": [
       "<div>\n",
       "<style scoped>\n",
       "    .dataframe tbody tr th:only-of-type {\n",
       "        vertical-align: middle;\n",
       "    }\n",
       "\n",
       "    .dataframe tbody tr th {\n",
       "        vertical-align: top;\n",
       "    }\n",
       "\n",
       "    .dataframe thead th {\n",
       "        text-align: right;\n",
       "    }\n",
       "</style>\n",
       "<table border=\"1\" class=\"dataframe\">\n",
       "  <thead>\n",
       "    <tr style=\"text-align: right;\">\n",
       "      <th></th>\n",
       "      <th>Cantidad de valores</th>\n",
       "      <th>Porcentajes</th>\n",
       "    </tr>\n",
       "    <tr>\n",
       "      <th>payment_method</th>\n",
       "      <th></th>\n",
       "      <th></th>\n",
       "    </tr>\n",
       "  </thead>\n",
       "  <tbody>\n",
       "    <tr>\n",
       "      <th>Electronic check</th>\n",
       "      <td>2365</td>\n",
       "      <td>33.63%</td>\n",
       "    </tr>\n",
       "    <tr>\n",
       "      <th>Mailed check</th>\n",
       "      <td>1604</td>\n",
       "      <td>22.81%</td>\n",
       "    </tr>\n",
       "    <tr>\n",
       "      <th>Bank transfer (automatic)</th>\n",
       "      <td>1542</td>\n",
       "      <td>21.93%</td>\n",
       "    </tr>\n",
       "    <tr>\n",
       "      <th>Credit card (automatic)</th>\n",
       "      <td>1521</td>\n",
       "      <td>21.63%</td>\n",
       "    </tr>\n",
       "  </tbody>\n",
       "</table>\n",
       "</div>"
      ],
      "text/plain": [
       "                           Cantidad de valores Porcentajes\n",
       "payment_method                                            \n",
       "Electronic check                          2365      33.63%\n",
       "Mailed check                              1604      22.81%\n",
       "Bank transfer (automatic)                 1542      21.93%\n",
       "Credit card (automatic)                   1521      21.63%"
      ]
     },
     "metadata": {},
     "output_type": "display_data"
    },
    {
     "data": {
      "image/png": "[encoded data removed]",
      "text/plain": [
       "<Figure size 640x480 with 1 Axes>"
      ]
     },
     "metadata": {},
     "output_type": "display_data"
    }
   ],
   "source": [
    "# Analizar al distribución de la columna\n",
    "\n",
    "analyze_column('payment_method')"
   ]
  },
  {
   "cell_type": "markdown",
   "id": "d73be1cb",
   "metadata": {},
   "source": [
    "La distribución de los consumidores basada en los métodos de pago es relativamente semejante, pero el método de 'cheque electrónico' tiene una participación mayor al resto."
   ]
  },
  {
   "cell_type": "code",
   "execution_count": 224,
   "id": "7f45bf70",
   "metadata": {},
   "outputs": [
    {
     "data": {
      "image/png": "[encoded data removed]",
      "text/plain": [
       "<Figure size 640x480 with 1 Axes>"
      ]
     },
     "metadata": {},
     "output_type": "display_data"
    },
    {
     "data": {
      "text/html": [
       "<div>\n",
       "<style scoped>\n",
       "    .dataframe tbody tr th:only-of-type {\n",
       "        vertical-align: middle;\n",
       "    }\n",
       "\n",
       "    .dataframe tbody tr th {\n",
       "        vertical-align: top;\n",
       "    }\n",
       "\n",
       "    .dataframe thead th {\n",
       "        text-align: right;\n",
       "    }\n",
       "</style>\n",
       "<table border=\"1\" class=\"dataframe\">\n",
       "  <thead>\n",
       "    <tr style=\"text-align: right;\">\n",
       "      <th>churn</th>\n",
       "      <th>0</th>\n",
       "      <th>1</th>\n",
       "      <th>churn_rate</th>\n",
       "    </tr>\n",
       "    <tr>\n",
       "      <th>payment_method</th>\n",
       "      <th></th>\n",
       "      <th></th>\n",
       "      <th></th>\n",
       "    </tr>\n",
       "  </thead>\n",
       "  <tbody>\n",
       "    <tr>\n",
       "      <th>Bank transfer (automatic)</th>\n",
       "      <td>1284</td>\n",
       "      <td>258</td>\n",
       "      <td>16.73%</td>\n",
       "    </tr>\n",
       "    <tr>\n",
       "      <th>Credit card (automatic)</th>\n",
       "      <td>1289</td>\n",
       "      <td>232</td>\n",
       "      <td>15.25%</td>\n",
       "    </tr>\n",
       "    <tr>\n",
       "      <th>Electronic check</th>\n",
       "      <td>1294</td>\n",
       "      <td>1071</td>\n",
       "      <td>45.29%</td>\n",
       "    </tr>\n",
       "    <tr>\n",
       "      <th>Mailed check</th>\n",
       "      <td>1296</td>\n",
       "      <td>308</td>\n",
       "      <td>19.2%</td>\n",
       "    </tr>\n",
       "  </tbody>\n",
       "</table>\n",
       "</div>"
      ],
      "text/plain": [
       "churn                         0     1 churn_rate\n",
       "payment_method                                  \n",
       "Bank transfer (automatic)  1284   258     16.73%\n",
       "Credit card (automatic)    1289   232     15.25%\n",
       "Electronic check           1294  1071     45.29%\n",
       "Mailed check               1296   308      19.2%"
      ]
     },
     "execution_count": 224,
     "metadata": {},
     "output_type": "execute_result"
    }
   ],
   "source": [
    "# Calcular la Tasa de Abandono basada en la columna `payment_method` y mostrar su visualización \n",
    "\n",
    "payment_method_churn_rate = analyze_churn_rate('payment_method')\n",
    "payment_method_churn_rate"
   ]
  },
  {
   "cell_type": "markdown",
   "id": "cdb472ca",
   "metadata": {},
   "source": [
    "**Hallazgos**\n",
    "\n",
    "- La tasa de abandono para el método de pago de 'cheque electrónico' es significativamente superior, que la de otros medios de pago.\n",
    "\n",
    "- La 'tarjeta de credito' es el que presenta menor riesgo de deserción.\n",
    "\n",
    "**Insights**\n",
    "\n",
    "- La alta tasa de cancelación de los clientes con 'cheque electrónico', puede señalar que estos consideran este medio de pago menos conveniente, comparado con otras opciones. Esto puede ocasionarse por factores como error en las transacciones, demoras en el procesamiento o temas relacionados a la seguridad.\n",
    "\n",
    "- Por otra parte, la 'tarjeta de crédito' sugiere que los consumidores con este medio pago pueden tener una situacion financiera más estable y se pueden legar a estar mas comprometidos con el uso del servicio. Los pagos con 'tarjeta de crédito' ofrecen facturación automática lo que puede generar una mayor impresión de seguridad, lo que fomenta la retención de clientes.\n",
    "\n",
    "**Recomendaciones**\n",
    "\n",
    "- Realizar esfuerzos para incentivar a los suscriptores a modificar su medio de pago, de 'cheque electrónico' por uno más confiable y conveniente. Esto puede incorporar descuentos o promociones para quienes paguen con 'tarjeta de crédito' u otros métodos de baja deserción.\n",
    "\n",
    "- Implementar incentivos promocionales , con el fin de fomentar el uso de las tarjetas de credito u otro medio de pago con menor riesgo de cancelación, para poder mejorar los niveles de retención. Por último, mejorar la experiencia general de pago para los usuarios de cheques electrónicos, abordando problemas y ofreciendo soporte, esto puede ayudar a reducir la tasa de abandono de este segmento."
   ]
  },
  {
   "cell_type": "markdown",
   "id": "f0469a68",
   "metadata": {},
   "source": [
    "#### **3.2.3 Columna `internet_service`**"
   ]
  },
  {
   "cell_type": "code",
   "execution_count": 225,
   "id": "cc560071",
   "metadata": {},
   "outputs": [
    {
     "data": {
      "text/html": [
       "<div>\n",
       "<style scoped>\n",
       "    .dataframe tbody tr th:only-of-type {\n",
       "        vertical-align: middle;\n",
       "    }\n",
       "\n",
       "    .dataframe tbody tr th {\n",
       "        vertical-align: top;\n",
       "    }\n",
       "\n",
       "    .dataframe thead th {\n",
       "        text-align: right;\n",
       "    }\n",
       "</style>\n",
       "<table border=\"1\" class=\"dataframe\">\n",
       "  <thead>\n",
       "    <tr style=\"text-align: right;\">\n",
       "      <th></th>\n",
       "      <th>Cantidad de valores</th>\n",
       "      <th>Porcentajes</th>\n",
       "    </tr>\n",
       "    <tr>\n",
       "      <th>internet_service</th>\n",
       "      <th></th>\n",
       "      <th></th>\n",
       "    </tr>\n",
       "  </thead>\n",
       "  <tbody>\n",
       "    <tr>\n",
       "      <th>Fiber optic</th>\n",
       "      <td>3096</td>\n",
       "      <td>44.03%</td>\n",
       "    </tr>\n",
       "    <tr>\n",
       "      <th>DSL</th>\n",
       "      <td>2416</td>\n",
       "      <td>34.36%</td>\n",
       "    </tr>\n",
       "    <tr>\n",
       "      <th>No internet</th>\n",
       "      <td>1520</td>\n",
       "      <td>21.62%</td>\n",
       "    </tr>\n",
       "  </tbody>\n",
       "</table>\n",
       "</div>"
      ],
      "text/plain": [
       "                  Cantidad de valores Porcentajes\n",
       "internet_service                                 \n",
       "Fiber optic                      3096      44.03%\n",
       "DSL                              2416      34.36%\n",
       "No internet                      1520      21.62%"
      ]
     },
     "metadata": {},
     "output_type": "display_data"
    },
    {
     "data": {
      "image/png": "[encoded data removed]",
      "text/plain": [
       "<Figure size 640x480 with 1 Axes>"
      ]
     },
     "metadata": {},
     "output_type": "display_data"
    }
   ],
   "source": [
    "# Analizar al distribución de la columna\n",
    "\n",
    "analyze_column('internet_service')"
   ]
  },
  {
   "cell_type": "markdown",
   "id": "7f8fdafd",
   "metadata": {},
   "source": [
    "La gran mayoria de los suscriptores que tienen servicio de internet, usan fibra óptica, mientras que un alto número de clientes no tienen contratado ningún servicio de internet. "
   ]
  },
  {
   "cell_type": "code",
   "execution_count": 226,
   "id": "b6b4ed1d",
   "metadata": {},
   "outputs": [
    {
     "data": {
      "image/png": "[encoded data removed]",
      "text/plain": [
       "<Figure size 640x480 with 1 Axes>"
      ]
     },
     "metadata": {},
     "output_type": "display_data"
    },
    {
     "data": {
      "text/html": [
       "<div>\n",
       "<style scoped>\n",
       "    .dataframe tbody tr th:only-of-type {\n",
       "        vertical-align: middle;\n",
       "    }\n",
       "\n",
       "    .dataframe tbody tr th {\n",
       "        vertical-align: top;\n",
       "    }\n",
       "\n",
       "    .dataframe thead th {\n",
       "        text-align: right;\n",
       "    }\n",
       "</style>\n",
       "<table border=\"1\" class=\"dataframe\">\n",
       "  <thead>\n",
       "    <tr style=\"text-align: right;\">\n",
       "      <th>churn</th>\n",
       "      <th>0</th>\n",
       "      <th>1</th>\n",
       "      <th>churn_rate</th>\n",
       "    </tr>\n",
       "    <tr>\n",
       "      <th>internet_service</th>\n",
       "      <th></th>\n",
       "      <th></th>\n",
       "      <th></th>\n",
       "    </tr>\n",
       "  </thead>\n",
       "  <tbody>\n",
       "    <tr>\n",
       "      <th>DSL</th>\n",
       "      <td>1957</td>\n",
       "      <td>459</td>\n",
       "      <td>19.0%</td>\n",
       "    </tr>\n",
       "    <tr>\n",
       "      <th>Fiber optic</th>\n",
       "      <td>1799</td>\n",
       "      <td>1297</td>\n",
       "      <td>41.89%</td>\n",
       "    </tr>\n",
       "    <tr>\n",
       "      <th>No internet</th>\n",
       "      <td>1407</td>\n",
       "      <td>113</td>\n",
       "      <td>7.43%</td>\n",
       "    </tr>\n",
       "  </tbody>\n",
       "</table>\n",
       "</div>"
      ],
      "text/plain": [
       "churn                0     1 churn_rate\n",
       "internet_service                       \n",
       "DSL               1957   459      19.0%\n",
       "Fiber optic       1799  1297     41.89%\n",
       "No internet       1407   113      7.43%"
      ]
     },
     "execution_count": 226,
     "metadata": {},
     "output_type": "execute_result"
    }
   ],
   "source": [
    "# Calcular la Tasa de Abandono basada en la columna `internet_service` y mostrar su visualización \n",
    "\n",
    "internet_service_churn_rate = analyze_churn_rate('internet_service')\n",
    "internet_service_churn_rate"
   ]
  },
  {
   "cell_type": "markdown",
   "id": "a958bcba",
   "metadata": {},
   "source": [
    "**Hallazgos**\n",
    "\n",
    "- La mayoría de los clientes(44%) utiliza el servicio de internet por fibra óptica, mientras que una cantidad significativa de se clientes no usa ningún tipo de servicio de internet.\n",
    "\n",
    "- Los suscriptores que usan fibra óptica tienen mayor potencial de abandonar el servicio, en comparación con aquellos que utilizan DSL o que no usan servicios de internet.\n",
    "\n",
    "**Insights**\n",
    "\n",
    "- La alta tasa de cancelación entre lso usuarios de internet, especialmente los de fibra óptica, puede atribuirse a factores como la calidad del servicio, velocidad de internet, los precios o la competencia de otros proveedores del servicio de internet.\n",
    "\n",
    "- Los clientes que no usan servicios de internet, pueden haber optado otros medios de comuniacación o simplemente no tener la necesidad de conectividad, lo que los hace menos propensos a cancelar.\n",
    "\n",
    "**Recomendaciones**\n",
    "\n",
    "- Realizar análisis exhaustivo de las razones detras de la alta tasa de cancelación entre los usuarios de fibra óptica. Esto puede incluir la recolección de comentarios de los clientes, la identificación de puntos problematicos y la implementación de mejoras necesarias para aumentar la satisfacción.\n",
    "\n",
    "- Ofrecer promociones atractivas o incentivos para retener a los clientes actuales de internet por fibra óptica y animarlos a retener el servicio.\n",
    "\n",
    "- Considerar la diversificación del servicio de internet, el ofrecimiento de DSL u otra altenativa de banda ancha, para adarptarse a las necesidades y/o preferencias de los clientes.\n",
    "\n",
    "- Los clientes que no utilizan servicios de internet, evaluar oportunidades de ofrecer paquetes básicos de internet u ofertas combinadas que mejoren la experiencia general del usuario."
   ]
  },
  {
   "cell_type": "markdown",
   "id": "e26384a0",
   "metadata": {},
   "source": [
    "#### **3.2.4 Columna `gender`**"
   ]
  },
  {
   "cell_type": "code",
   "execution_count": 227,
   "id": "1489f69e",
   "metadata": {},
   "outputs": [
    {
     "data": {
      "text/html": [
       "<div>\n",
       "<style scoped>\n",
       "    .dataframe tbody tr th:only-of-type {\n",
       "        vertical-align: middle;\n",
       "    }\n",
       "\n",
       "    .dataframe tbody tr th {\n",
       "        vertical-align: top;\n",
       "    }\n",
       "\n",
       "    .dataframe thead th {\n",
       "        text-align: right;\n",
       "    }\n",
       "</style>\n",
       "<table border=\"1\" class=\"dataframe\">\n",
       "  <thead>\n",
       "    <tr style=\"text-align: right;\">\n",
       "      <th></th>\n",
       "      <th>Cantidad de valores</th>\n",
       "      <th>Porcentajes</th>\n",
       "    </tr>\n",
       "    <tr>\n",
       "      <th>gender</th>\n",
       "      <th></th>\n",
       "      <th></th>\n",
       "    </tr>\n",
       "  </thead>\n",
       "  <tbody>\n",
       "    <tr>\n",
       "      <th>Male</th>\n",
       "      <td>3549</td>\n",
       "      <td>50.47%</td>\n",
       "    </tr>\n",
       "    <tr>\n",
       "      <th>Female</th>\n",
       "      <td>3483</td>\n",
       "      <td>49.53%</td>\n",
       "    </tr>\n",
       "  </tbody>\n",
       "</table>\n",
       "</div>"
      ],
      "text/plain": [
       "        Cantidad de valores Porcentajes\n",
       "gender                                 \n",
       "Male                   3549      50.47%\n",
       "Female                 3483      49.53%"
      ]
     },
     "metadata": {},
     "output_type": "display_data"
    },
    {
     "data": {
      "image/png": "[encoded data removed]",
      "text/plain": [
       "<Figure size 640x480 with 1 Axes>"
      ]
     },
     "metadata": {},
     "output_type": "display_data"
    }
   ],
   "source": [
    "# Analizar al distribución de la columna\n",
    "\n",
    "analyze_column('gender')"
   ]
  },
  {
   "cell_type": "markdown",
   "id": "0ed68261",
   "metadata": {},
   "source": [
    "La proporción entre clientes hombres y mujeres es relativamente balanceada."
   ]
  },
  {
   "cell_type": "code",
   "execution_count": 228,
   "id": "149fdceb",
   "metadata": {},
   "outputs": [
    {
     "data": {
      "image/png": "[encoded data removed]",
      "text/plain": [
       "<Figure size 640x480 with 1 Axes>"
      ]
     },
     "metadata": {},
     "output_type": "display_data"
    },
    {
     "data": {
      "text/html": [
       "<div>\n",
       "<style scoped>\n",
       "    .dataframe tbody tr th:only-of-type {\n",
       "        vertical-align: middle;\n",
       "    }\n",
       "\n",
       "    .dataframe tbody tr th {\n",
       "        vertical-align: top;\n",
       "    }\n",
       "\n",
       "    .dataframe thead th {\n",
       "        text-align: right;\n",
       "    }\n",
       "</style>\n",
       "<table border=\"1\" class=\"dataframe\">\n",
       "  <thead>\n",
       "    <tr style=\"text-align: right;\">\n",
       "      <th>churn</th>\n",
       "      <th>0</th>\n",
       "      <th>1</th>\n",
       "      <th>churn_rate</th>\n",
       "    </tr>\n",
       "    <tr>\n",
       "      <th>gender</th>\n",
       "      <th></th>\n",
       "      <th></th>\n",
       "      <th></th>\n",
       "    </tr>\n",
       "  </thead>\n",
       "  <tbody>\n",
       "    <tr>\n",
       "      <th>Female</th>\n",
       "      <td>2544</td>\n",
       "      <td>939</td>\n",
       "      <td>26.96%</td>\n",
       "    </tr>\n",
       "    <tr>\n",
       "      <th>Male</th>\n",
       "      <td>2619</td>\n",
       "      <td>930</td>\n",
       "      <td>26.2%</td>\n",
       "    </tr>\n",
       "  </tbody>\n",
       "</table>\n",
       "</div>"
      ],
      "text/plain": [
       "churn      0    1 churn_rate\n",
       "gender                      \n",
       "Female  2544  939     26.96%\n",
       "Male    2619  930      26.2%"
      ]
     },
     "execution_count": 228,
     "metadata": {},
     "output_type": "execute_result"
    }
   ],
   "source": [
    "# Calcular la Tasa de Abandono basada en la columna `gender` y mostrar su visualización \n",
    "\n",
    "gender_service_churn_rate = analyze_churn_rate('gender')\n",
    "gender_service_churn_rate"
   ]
  },
  {
   "cell_type": "markdown",
   "id": "79810151",
   "metadata": {},
   "source": [
    "**Hallazgos**\n",
    "\n",
    "- La tasa de cancelación para clientes hombre o mujeres es similar, lo quew sugiere que el sexo de los suscriptores no influyw significativamente en la probabilidad  de que los clientes abandonen el servicio.\n",
    "\n",
    "- No se observan diferencias notables en el comportamiento de diserción, entre clientes masculinos y femeninos.\n",
    "\n",
    "**Insights**\n",
    "\n",
    "- El análisis sugiere revisar otros factores mas alla del género, que desempeñen un papel más fundamental en la tasa de abandono de los clientes.  Es primordial enfocarse en estos otros factores para entender las razones detras de la pérdida de clientes.\n",
    "\n",
    "**Recomendaciones**\n",
    "\n",
    "- En el diseño de programas promocionales o estrategias de reducción de cancelación, se recomienda preferir otros factores más relevantes como el tipo de suscripción, el método de pago, la calidad del servicio de internet y la atención al cliente, ya que su impacto parece ser más significativo en la retención.\n",
    "\n",
    "- Independiente, que el género no sea una variable relevante para el proyecto, debido a su nula influencia en la tasa de abandono, es necesario seguir realizando investigaciones de mercado continuas y análisis de retroalimentación del cliente para reconocer posibles cambios en las preferencias o en los patrones de comportamientos de estos segmentos.\n"
   ]
  },
  {
   "cell_type": "markdown",
   "id": "61e467f6",
   "metadata": {},
   "source": [
    "### **3.3 Balance de clases**"
   ]
  },
  {
   "cell_type": "markdown",
   "id": "c7729c0d",
   "metadata": {},
   "source": [
    "Análisis del desbalance de los datos, reflejado en la variable objetivo, por lo que se estudia la frecuencia de las clases \"1\" y \"0\", empleando el metodo value_counts(), el cual entrega la cantidad de ocasiones, que suceden cada una de las clases, lo que proporciona informacion sobre la distribución de las clases, y permite dar coherencia al modelo."
   ]
  },
  {
   "cell_type": "code",
   "execution_count": 229,
   "id": "2fde635f",
   "metadata": {},
   "outputs": [
    {
     "name": "stdout",
     "output_type": "stream",
     "text": [
      "churn\n",
      "0    73.421502\n",
      "1    26.578498\n",
      "Name: proportion, dtype: float64\n"
     ]
    },
    {
     "data": {
      "image/png": "[encoded data removed]",
      "text/plain": [
       "<Figure size 640x480 with 1 Axes>"
      ]
     },
     "metadata": {},
     "output_type": "display_data"
    }
   ],
   "source": [
    "# Verificando desequilibrio de la variable objetivo\n",
    "\n",
    "class_frequency = data['churn'].value_counts(normalize=True)*100\n",
    "print(class_frequency)\n",
    "class_frequency.plot(kind='bar', title='Balance de clase: Variable objetivo');                                                                                                                                                                                                                                                                                        "
   ]
  },
  {
   "cell_type": "markdown",
   "id": "2bddc93a",
   "metadata": {},
   "source": [
    "El desbalance de los datos permite determinar que aproximadamente el 27% de los clientes se fugan de la compañia, y el 73% restante son clientes que estan fidelizados, esta materia se tratará más adelante en el proyecto."
   ]
  },
  {
   "cell_type": "markdown",
   "metadata": {},
   "source": [
    "### **3.4 Resumen de la Tasa de Abandono**"
   ]
  },
  {
   "cell_type": "markdown",
   "id": "27abbbb3",
   "metadata": {},
   "source": [
    "Se calculo la tasa de abandono para las características númericas con alta correlación con la variable objetivo, asi como para las variables categóricas. A continuación se resumen los resultados obtenidos."
   ]
  },
  {
   "cell_type": "code",
   "execution_count": 230,
   "id": "eeb98fa3",
   "metadata": {},
   "outputs": [
    {
     "data": {
      "text/html": [
       "<div>\n",
       "<style scoped>\n",
       "    .dataframe tbody tr th:only-of-type {\n",
       "        vertical-align: middle;\n",
       "    }\n",
       "\n",
       "    .dataframe tbody tr th {\n",
       "        vertical-align: top;\n",
       "    }\n",
       "\n",
       "    .dataframe thead th {\n",
       "        text-align: right;\n",
       "    }\n",
       "</style>\n",
       "<table border=\"1\" class=\"dataframe\">\n",
       "  <thead>\n",
       "    <tr style=\"text-align: right;\">\n",
       "      <th></th>\n",
       "      <th>0</th>\n",
       "      <th>1</th>\n",
       "    </tr>\n",
       "  </thead>\n",
       "  <tbody>\n",
       "    <tr>\n",
       "      <th>paperless_churn_rate</th>\n",
       "      <td>16.38%</td>\n",
       "      <td>33.59%</td>\n",
       "    </tr>\n",
       "    <tr>\n",
       "      <th>senior_citizen_churn_rate</th>\n",
       "      <td>23.65%</td>\n",
       "      <td>41.68%</td>\n",
       "    </tr>\n",
       "    <tr>\n",
       "      <th>online_security_churn_rate</th>\n",
       "      <td>31.37%</td>\n",
       "      <td>14.64%</td>\n",
       "    </tr>\n",
       "    <tr>\n",
       "      <th>tech_support_churn_rate</th>\n",
       "      <td>31.23%</td>\n",
       "      <td>15.2%</td>\n",
       "    </tr>\n",
       "    <tr>\n",
       "      <th>dependents_churn_rate</th>\n",
       "      <td>31.28%</td>\n",
       "      <td>15.53%</td>\n",
       "    </tr>\n",
       "    <tr>\n",
       "      <th>partner_churn_rate</th>\n",
       "      <td>32.98%</td>\n",
       "      <td>19.72%</td>\n",
       "    </tr>\n",
       "  </tbody>\n",
       "</table>\n",
       "</div>"
      ],
      "text/plain": [
       "                                 0       1\n",
       "paperless_churn_rate        16.38%  33.59%\n",
       "senior_citizen_churn_rate   23.65%  41.68%\n",
       "online_security_churn_rate  31.37%  14.64%\n",
       "tech_support_churn_rate     31.23%   15.2%\n",
       "dependents_churn_rate       31.28%  15.53%\n",
       "partner_churn_rate          32.98%  19.72%"
      ]
     },
     "execution_count": 230,
     "metadata": {},
     "output_type": "execute_result"
    }
   ],
   "source": [
    "# Combinación de los resultados de la tasa de abandono\n",
    "# Especificamente variables binarias (0 y 1) \n",
    "\n",
    "df_churn_rate = pd.concat([paperless_churn_rate['churn_rate'],\n",
    "                           senior_citizen_churn_rate['churn_rate'],\n",
    "                           online_security_churn_rate['churn_rate'],\n",
    "                           tech_support_churn_rate['churn_rate'],\n",
    "                           dependents_churn_rate['churn_rate'],\n",
    "                           partner_churn_rate['churn_rate']], \n",
    "                          axis=1, \n",
    "                          keys=['paperless_churn_rate',\n",
    "                                'senior_citizen_churn_rate',\n",
    "                                'online_security_churn_rate',\n",
    "                                'tech_support_churn_rate',\n",
    "                                'dependents_churn_rate',\n",
    "                                'partner_churn_rate'])\n",
    "\n",
    "df_churn_rate.T"
   ]
  },
  {
   "cell_type": "code",
   "execution_count": 231,
   "id": "24f0990e",
   "metadata": {},
   "outputs": [
    {
     "data": {
      "text/html": [
       "<div>\n",
       "<style scoped>\n",
       "    .dataframe tbody tr th:only-of-type {\n",
       "        vertical-align: middle;\n",
       "    }\n",
       "\n",
       "    .dataframe tbody tr th {\n",
       "        vertical-align: top;\n",
       "    }\n",
       "\n",
       "    .dataframe thead th {\n",
       "        text-align: right;\n",
       "    }\n",
       "</style>\n",
       "<table border=\"1\" class=\"dataframe\">\n",
       "  <thead>\n",
       "    <tr style=\"text-align: right;\">\n",
       "      <th></th>\n",
       "      <th>low</th>\n",
       "      <th>mid_low</th>\n",
       "      <th>middle</th>\n",
       "      <th>mid_high</th>\n",
       "      <th>high</th>\n",
       "    </tr>\n",
       "  </thead>\n",
       "  <tbody>\n",
       "    <tr>\n",
       "      <th>monthly_charge_churn_rate</th>\n",
       "      <td>9.84%</td>\n",
       "      <td>31.05%</td>\n",
       "      <td>20.26%</td>\n",
       "      <td>37.99%</td>\n",
       "      <td>32.86%</td>\n",
       "    </tr>\n",
       "    <tr>\n",
       "      <th>total_charge_churn_rate</th>\n",
       "      <td>32.06%</td>\n",
       "      <td>23.76%</td>\n",
       "      <td>16.21%</td>\n",
       "      <td>13.84%</td>\n",
       "      <td>3.85%</td>\n",
       "    </tr>\n",
       "  </tbody>\n",
       "</table>\n",
       "</div>"
      ],
      "text/plain": [
       "                              low mid_low  middle mid_high    high\n",
       "monthly_charge_churn_rate   9.84%  31.05%  20.26%   37.99%  32.86%\n",
       "total_charge_churn_rate    32.06%  23.76%  16.21%   13.84%   3.85%"
      ]
     },
     "execution_count": 231,
     "metadata": {},
     "output_type": "execute_result"
    }
   ],
   "source": [
    "# Combinación de los resultados de la tasa de abandono\n",
    "# Especificamente variables 'monthly_charges' y 'total_charge'\n",
    "\n",
    "df_churn_rate_2 = pd.concat([monthly_charge_churn_rate['churn_rate'],\n",
    "                             total_charge_churn_rate['churn_rate']], \n",
    "                            axis=1,\n",
    "                            keys=['monthly_charge_churn_rate',\n",
    "                                  'total_charge_churn_rate',])\n",
    "\n",
    "df_churn_rate_2.T"
   ]
  },
  {
   "cell_type": "code",
   "execution_count": 232,
   "id": "3795742e",
   "metadata": {},
   "outputs": [
    {
     "data": {
      "text/html": [
       "<div>\n",
       "<style scoped>\n",
       "    .dataframe tbody tr th:only-of-type {\n",
       "        vertical-align: middle;\n",
       "    }\n",
       "\n",
       "    .dataframe tbody tr th {\n",
       "        vertical-align: top;\n",
       "    }\n",
       "\n",
       "    .dataframe thead th {\n",
       "        text-align: right;\n",
       "    }\n",
       "</style>\n",
       "<table border=\"1\" class=\"dataframe\">\n",
       "  <thead>\n",
       "    <tr style=\"text-align: right;\">\n",
       "      <th></th>\n",
       "      <th>churn_rate</th>\n",
       "    </tr>\n",
       "    <tr>\n",
       "      <th>type</th>\n",
       "      <th></th>\n",
       "    </tr>\n",
       "  </thead>\n",
       "  <tbody>\n",
       "    <tr>\n",
       "      <th>Month-to-month</th>\n",
       "      <td>42.71%</td>\n",
       "    </tr>\n",
       "    <tr>\n",
       "      <th>One year</th>\n",
       "      <td>11.28%</td>\n",
       "    </tr>\n",
       "    <tr>\n",
       "      <th>Two year</th>\n",
       "      <td>2.85%</td>\n",
       "    </tr>\n",
       "  </tbody>\n",
       "</table>\n",
       "</div>"
      ],
      "text/plain": [
       "               churn_rate\n",
       "type                     \n",
       "Month-to-month     42.71%\n",
       "One year           11.28%\n",
       "Two year            2.85%"
      ]
     },
     "metadata": {},
     "output_type": "display_data"
    },
    {
     "data": {
      "text/html": [
       "<div>\n",
       "<style scoped>\n",
       "    .dataframe tbody tr th:only-of-type {\n",
       "        vertical-align: middle;\n",
       "    }\n",
       "\n",
       "    .dataframe tbody tr th {\n",
       "        vertical-align: top;\n",
       "    }\n",
       "\n",
       "    .dataframe thead th {\n",
       "        text-align: right;\n",
       "    }\n",
       "</style>\n",
       "<table border=\"1\" class=\"dataframe\">\n",
       "  <thead>\n",
       "    <tr style=\"text-align: right;\">\n",
       "      <th></th>\n",
       "      <th>churn_rate</th>\n",
       "    </tr>\n",
       "    <tr>\n",
       "      <th>payment_method</th>\n",
       "      <th></th>\n",
       "    </tr>\n",
       "  </thead>\n",
       "  <tbody>\n",
       "    <tr>\n",
       "      <th>Bank transfer (automatic)</th>\n",
       "      <td>16.73%</td>\n",
       "    </tr>\n",
       "    <tr>\n",
       "      <th>Credit card (automatic)</th>\n",
       "      <td>15.25%</td>\n",
       "    </tr>\n",
       "    <tr>\n",
       "      <th>Electronic check</th>\n",
       "      <td>45.29%</td>\n",
       "    </tr>\n",
       "    <tr>\n",
       "      <th>Mailed check</th>\n",
       "      <td>19.2%</td>\n",
       "    </tr>\n",
       "  </tbody>\n",
       "</table>\n",
       "</div>"
      ],
      "text/plain": [
       "                          churn_rate\n",
       "payment_method                      \n",
       "Bank transfer (automatic)     16.73%\n",
       "Credit card (automatic)       15.25%\n",
       "Electronic check              45.29%\n",
       "Mailed check                   19.2%"
      ]
     },
     "metadata": {},
     "output_type": "display_data"
    },
    {
     "data": {
      "text/html": [
       "<div>\n",
       "<style scoped>\n",
       "    .dataframe tbody tr th:only-of-type {\n",
       "        vertical-align: middle;\n",
       "    }\n",
       "\n",
       "    .dataframe tbody tr th {\n",
       "        vertical-align: top;\n",
       "    }\n",
       "\n",
       "    .dataframe thead th {\n",
       "        text-align: right;\n",
       "    }\n",
       "</style>\n",
       "<table border=\"1\" class=\"dataframe\">\n",
       "  <thead>\n",
       "    <tr style=\"text-align: right;\">\n",
       "      <th></th>\n",
       "      <th>churn_rate</th>\n",
       "    </tr>\n",
       "    <tr>\n",
       "      <th>internet_service</th>\n",
       "      <th></th>\n",
       "    </tr>\n",
       "  </thead>\n",
       "  <tbody>\n",
       "    <tr>\n",
       "      <th>DSL</th>\n",
       "      <td>19.0%</td>\n",
       "    </tr>\n",
       "    <tr>\n",
       "      <th>Fiber optic</th>\n",
       "      <td>41.89%</td>\n",
       "    </tr>\n",
       "    <tr>\n",
       "      <th>No internet</th>\n",
       "      <td>7.43%</td>\n",
       "    </tr>\n",
       "  </tbody>\n",
       "</table>\n",
       "</div>"
      ],
      "text/plain": [
       "                 churn_rate\n",
       "internet_service           \n",
       "DSL                   19.0%\n",
       "Fiber optic          41.89%\n",
       "No internet           7.43%"
      ]
     },
     "metadata": {},
     "output_type": "display_data"
    },
    {
     "data": {
      "text/html": [
       "<div>\n",
       "<style scoped>\n",
       "    .dataframe tbody tr th:only-of-type {\n",
       "        vertical-align: middle;\n",
       "    }\n",
       "\n",
       "    .dataframe tbody tr th {\n",
       "        vertical-align: top;\n",
       "    }\n",
       "\n",
       "    .dataframe thead th {\n",
       "        text-align: right;\n",
       "    }\n",
       "</style>\n",
       "<table border=\"1\" class=\"dataframe\">\n",
       "  <thead>\n",
       "    <tr style=\"text-align: right;\">\n",
       "      <th></th>\n",
       "      <th>churn_rate</th>\n",
       "    </tr>\n",
       "    <tr>\n",
       "      <th>gender</th>\n",
       "      <th></th>\n",
       "    </tr>\n",
       "  </thead>\n",
       "  <tbody>\n",
       "    <tr>\n",
       "      <th>Female</th>\n",
       "      <td>26.96%</td>\n",
       "    </tr>\n",
       "    <tr>\n",
       "      <th>Male</th>\n",
       "      <td>26.2%</td>\n",
       "    </tr>\n",
       "  </tbody>\n",
       "</table>\n",
       "</div>"
      ],
      "text/plain": [
       "       churn_rate\n",
       "gender           \n",
       "Female     26.96%\n",
       "Male        26.2%"
      ]
     },
     "metadata": {},
     "output_type": "display_data"
    }
   ],
   "source": [
    "# Muestra de resultados de la tasa de abandono de variables categóricas\n",
    "\n",
    "dfs = [type_churn_rate, payment_method_churn_rate, internet_service_churn_rate, gender_service_churn_rate]\n",
    "\n",
    "for df in dfs:\n",
    "    display(pd.DataFrame(df['churn_rate']))"
   ]
  },
  {
   "cell_type": "markdown",
   "id": "f0ff805e",
   "metadata": {},
   "source": [
    "### **3.5 Conclusión de resultados EDA**"
   ]
  },
  {
   "cell_type": "markdown",
   "id": "6c0d8a58",
   "metadata": {},
   "source": [
    "Se puede deducir,  que son varias las razones que influencian la cancelación del servicio, por ello, se aplicaran las siguientes determinaciones:\n",
    "\n",
    "- Enfocar el proyecto, en las variables con alta correlación en el riesgo de abandono, se descartan variables de baja correlación.\n",
    "\n",
    "- Varias características presentan la tasa de cancelación más alta(superior al 40%),como los clientes adultos mayores(41,68%), la suscripción mensual(42,71%), el método de pago por cheque electrónico(45,29%) y el servicio de internet por fibra óptica(41,89%), las cuales requieren un interes especial para mitigar el aumento de la tasa de deserción de clientes.\n",
    "\n",
    "- Los clientes con pareja/esposa, hijos o alguien dependiente, muestran menor deserción que los clientes solteros, sini hijos o sin alguien dependiente.\n",
    "\n",
    "- Los clientes que no utilizan servicios de seguridad o soporte técnico presentan un mayor riesgo de cancelación.\n",
    "\n",
    "- No se observa una diferencia significativa en la tasa de cancelación entre clientes hombres y muejeres.\n",
    "\n",
    "Mediante estos hallazgos la Interconnect puede diseñar estreategias especificas y desarrollar programas promocionales directos para reterner clientes, enfocandose en las categórias de alto riesgo."
   ]
  },
  {
   "cell_type": "markdown",
   "id": "500eefaf",
   "metadata": {},
   "source": [
    "## **4. Entrenamiento y prueba del modelo**"
   ]
  },
  {
   "cell_type": "markdown",
   "id": "154839aa",
   "metadata": {},
   "source": [
    "En esta sección, se procede a desarrollar varios modelos de machine learning, con el fin de realizar las predicciones de los datos. \n",
    "\n",
    "El objetivo, es lograr la puntuación más alta posible en el conjunto de prueba, utilizando principalmente la métrica AUC-ROC.\n",
    "\n",
    "Los criterios de evaluación para el modelado son los siguientes:\n",
    "\n",
    "- AUC-ROC < 0.75 — 0 SP\n",
    "\n",
    "- 0.75 ≤ AUC-ROC < 0.81 — 4 SP\n",
    "\n",
    "- 0.81 ≤ AUC-ROC < 0.85 — 4.5 SP\n",
    "\n",
    "- 0.85 ≤ AUC-ROC < 0.87 — 5 SP\n",
    "\n",
    "- 0.87 ≤ AUC-ROC < 0.88 — 5.5 SP\n",
    "\n",
    "- AUC-ROC ≥ 0.88 — 6 SP\n",
    "\n",
    "Para ello, se desarrollarán las siguientes etapas:\n",
    "\n",
    "- Preparar los datos para el modelado, lo que incluye la partición de los datos, la codificación OHE para las variables categóricas, aplicar Boruta(selección de características) y el escalado en los datos de entrenamiento y prueba.\n",
    "\n",
    "- Entrenar y evaluar distintos modelos de machine learning de clasificación, como Linear Regression, Decision Tree, Random Forest, XGBoost, LightGBM, CatBoost.\n",
    "\n",
    "- Realizar ajuste de hiperparámetros para obtener el mejor desempeño de los modelos.\n",
    "\n",
    "Con este procedimiento, se espera desarrollar el mejor modelo de machine learning, robusto y preciso, que pueda predecir de manera efectiva la deserción de clientes, permitiendo a Interconnect tomar medidas proactivas respecto a la retención de clientes. "
   ]
  },
  {
   "cell_type": "markdown",
   "metadata": {},
   "source": [
    "### **4.1 Preparación de datos**"
   ]
  },
  {
   "cell_type": "markdown",
   "id": "99ff7bdf",
   "metadata": {},
   "source": [
    "Revisar el conjunto de datos, versi cambio alguna variable o si se agregaron algunas nuevas. Posteriormente, identificar las acciones para preparar el set de datos para el modelado y mejorar el conjunto de características."
   ]
  },
  {
   "cell_type": "code",
   "execution_count": 233,
   "id": "1fae0fc3",
   "metadata": {},
   "outputs": [
    {
     "data": {
      "text/html": [
       "<div>\n",
       "<style scoped>\n",
       "    .dataframe tbody tr th:only-of-type {\n",
       "        vertical-align: middle;\n",
       "    }\n",
       "\n",
       "    .dataframe tbody tr th {\n",
       "        vertical-align: top;\n",
       "    }\n",
       "\n",
       "    .dataframe thead th {\n",
       "        text-align: right;\n",
       "    }\n",
       "</style>\n",
       "<table border=\"1\" class=\"dataframe\">\n",
       "  <thead>\n",
       "    <tr style=\"text-align: right;\">\n",
       "      <th></th>\n",
       "      <th>customer_id</th>\n",
       "      <th>begin_date</th>\n",
       "      <th>type</th>\n",
       "      <th>paperless_billing</th>\n",
       "      <th>payment_method</th>\n",
       "      <th>monthly_charges</th>\n",
       "      <th>total_charges</th>\n",
       "      <th>gender</th>\n",
       "      <th>senior_citizen</th>\n",
       "      <th>partner</th>\n",
       "      <th>...</th>\n",
       "      <th>online_security</th>\n",
       "      <th>online_backup</th>\n",
       "      <th>device_protection</th>\n",
       "      <th>tech_support</th>\n",
       "      <th>streaming_tv</th>\n",
       "      <th>streaming_movies</th>\n",
       "      <th>multiple_lines</th>\n",
       "      <th>churn</th>\n",
       "      <th>charge_category</th>\n",
       "      <th>total_charge_category</th>\n",
       "    </tr>\n",
       "  </thead>\n",
       "  <tbody>\n",
       "    <tr>\n",
       "      <th>5898</th>\n",
       "      <td>8295-KMENE</td>\n",
       "      <td>2015-03</td>\n",
       "      <td>Two year</td>\n",
       "      <td>1</td>\n",
       "      <td>Mailed check</td>\n",
       "      <td>76.45</td>\n",
       "      <td>4519.50</td>\n",
       "      <td>Female</td>\n",
       "      <td>0</td>\n",
       "      <td>1</td>\n",
       "      <td>...</td>\n",
       "      <td>1</td>\n",
       "      <td>0</td>\n",
       "      <td>1</td>\n",
       "      <td>1</td>\n",
       "      <td>1</td>\n",
       "      <td>0</td>\n",
       "      <td>1</td>\n",
       "      <td>0</td>\n",
       "      <td>mid_high</td>\n",
       "      <td>middle</td>\n",
       "    </tr>\n",
       "    <tr>\n",
       "      <th>2281</th>\n",
       "      <td>3258-ZKPAI</td>\n",
       "      <td>2014-02</td>\n",
       "      <td>Two year</td>\n",
       "      <td>1</td>\n",
       "      <td>Bank transfer (automatic)</td>\n",
       "      <td>116.60</td>\n",
       "      <td>8337.45</td>\n",
       "      <td>Male</td>\n",
       "      <td>0</td>\n",
       "      <td>1</td>\n",
       "      <td>...</td>\n",
       "      <td>1</td>\n",
       "      <td>1</td>\n",
       "      <td>1</td>\n",
       "      <td>1</td>\n",
       "      <td>1</td>\n",
       "      <td>1</td>\n",
       "      <td>1</td>\n",
       "      <td>0</td>\n",
       "      <td>high</td>\n",
       "      <td>high</td>\n",
       "    </tr>\n",
       "    <tr>\n",
       "      <th>2362</th>\n",
       "      <td>3387-PLKUI</td>\n",
       "      <td>2019-01</td>\n",
       "      <td>Month-to-month</td>\n",
       "      <td>0</td>\n",
       "      <td>Mailed check</td>\n",
       "      <td>18.80</td>\n",
       "      <td>251.25</td>\n",
       "      <td>Female</td>\n",
       "      <td>0</td>\n",
       "      <td>1</td>\n",
       "      <td>...</td>\n",
       "      <td>0</td>\n",
       "      <td>0</td>\n",
       "      <td>0</td>\n",
       "      <td>0</td>\n",
       "      <td>0</td>\n",
       "      <td>0</td>\n",
       "      <td>0</td>\n",
       "      <td>0</td>\n",
       "      <td>low</td>\n",
       "      <td>low</td>\n",
       "    </tr>\n",
       "    <tr>\n",
       "      <th>2264</th>\n",
       "      <td>3235-ETOOB</td>\n",
       "      <td>2019-04</td>\n",
       "      <td>Month-to-month</td>\n",
       "      <td>1</td>\n",
       "      <td>Electronic check</td>\n",
       "      <td>74.50</td>\n",
       "      <td>609.90</td>\n",
       "      <td>Male</td>\n",
       "      <td>0</td>\n",
       "      <td>1</td>\n",
       "      <td>...</td>\n",
       "      <td>1</td>\n",
       "      <td>0</td>\n",
       "      <td>0</td>\n",
       "      <td>0</td>\n",
       "      <td>0</td>\n",
       "      <td>0</td>\n",
       "      <td>0</td>\n",
       "      <td>1</td>\n",
       "      <td>mid_high</td>\n",
       "      <td>low</td>\n",
       "    </tr>\n",
       "    <tr>\n",
       "      <th>3364</th>\n",
       "      <td>4797-MIWUM</td>\n",
       "      <td>2019-07</td>\n",
       "      <td>Month-to-month</td>\n",
       "      <td>1</td>\n",
       "      <td>Bank transfer (automatic)</td>\n",
       "      <td>20.25</td>\n",
       "      <td>174.70</td>\n",
       "      <td>Male</td>\n",
       "      <td>0</td>\n",
       "      <td>1</td>\n",
       "      <td>...</td>\n",
       "      <td>0</td>\n",
       "      <td>0</td>\n",
       "      <td>0</td>\n",
       "      <td>0</td>\n",
       "      <td>0</td>\n",
       "      <td>0</td>\n",
       "      <td>0</td>\n",
       "      <td>0</td>\n",
       "      <td>low</td>\n",
       "      <td>low</td>\n",
       "    </tr>\n",
       "  </tbody>\n",
       "</table>\n",
       "<p>5 rows × 22 columns</p>\n",
       "</div>"
      ],
      "text/plain": [
       "     customer_id begin_date            type  paperless_billing  \\\n",
       "5898  8295-KMENE    2015-03        Two year                  1   \n",
       "2281  3258-ZKPAI    2014-02        Two year                  1   \n",
       "2362  3387-PLKUI    2019-01  Month-to-month                  0   \n",
       "2264  3235-ETOOB    2019-04  Month-to-month                  1   \n",
       "3364  4797-MIWUM    2019-07  Month-to-month                  1   \n",
       "\n",
       "                 payment_method  monthly_charges  total_charges  gender  \\\n",
       "5898               Mailed check            76.45        4519.50  Female   \n",
       "2281  Bank transfer (automatic)           116.60        8337.45    Male   \n",
       "2362               Mailed check            18.80         251.25  Female   \n",
       "2264           Electronic check            74.50         609.90    Male   \n",
       "3364  Bank transfer (automatic)            20.25         174.70    Male   \n",
       "\n",
       "      senior_citizen  partner  ...  online_security online_backup  \\\n",
       "5898               0        1  ...                1             0   \n",
       "2281               0        1  ...                1             1   \n",
       "2362               0        1  ...                0             0   \n",
       "2264               0        1  ...                1             0   \n",
       "3364               0        1  ...                0             0   \n",
       "\n",
       "      device_protection  tech_support  streaming_tv  streaming_movies  \\\n",
       "5898                  1             1             1                 0   \n",
       "2281                  1             1             1                 1   \n",
       "2362                  0             0             0                 0   \n",
       "2264                  0             0             0                 0   \n",
       "3364                  0             0             0                 0   \n",
       "\n",
       "      multiple_lines  churn  charge_category  total_charge_category  \n",
       "5898               1      0         mid_high                 middle  \n",
       "2281               1      0             high                   high  \n",
       "2362               0      0              low                    low  \n",
       "2264               0      1         mid_high                    low  \n",
       "3364               0      0              low                    low  \n",
       "\n",
       "[5 rows x 22 columns]"
      ]
     },
     "execution_count": 233,
     "metadata": {},
     "output_type": "execute_result"
    }
   ],
   "source": [
    "data.sample(5)"
   ]
  },
  {
   "cell_type": "code",
   "execution_count": 234,
   "id": "17adbc1e",
   "metadata": {},
   "outputs": [
    {
     "name": "stdout",
     "output_type": "stream",
     "text": [
      "<class 'pandas.core.frame.DataFrame'>\n",
      "Index: 7032 entries, 0 to 7042\n",
      "Data columns (total 22 columns):\n",
      " #   Column                 Non-Null Count  Dtype    \n",
      "---  ------                 --------------  -----    \n",
      " 0   customer_id            7032 non-null   object   \n",
      " 1   begin_date             7032 non-null   period[M]\n",
      " 2   type                   7032 non-null   object   \n",
      " 3   paperless_billing      7032 non-null   int64    \n",
      " 4   payment_method         7032 non-null   object   \n",
      " 5   monthly_charges        7032 non-null   float64  \n",
      " 6   total_charges          7032 non-null   float64  \n",
      " 7   gender                 7032 non-null   object   \n",
      " 8   senior_citizen         7032 non-null   int64    \n",
      " 9   partner                7032 non-null   int64    \n",
      " 10  dependents             7032 non-null   int64    \n",
      " 11  internet_service       7032 non-null   object   \n",
      " 12  online_security        7032 non-null   int64    \n",
      " 13  online_backup          7032 non-null   int64    \n",
      " 14  device_protection      7032 non-null   int64    \n",
      " 15  tech_support           7032 non-null   int64    \n",
      " 16  streaming_tv           7032 non-null   int64    \n",
      " 17  streaming_movies       7032 non-null   int64    \n",
      " 18  multiple_lines         7032 non-null   int64    \n",
      " 19  churn                  7032 non-null   int64    \n",
      " 20  charge_category        7032 non-null   category \n",
      " 21  total_charge_category  7032 non-null   category \n",
      "dtypes: category(2), float64(2), int64(12), object(5), period[M](1)\n",
      "memory usage: 1.1+ MB\n"
     ]
    }
   ],
   "source": [
    "data.info()"
   ]
  },
  {
   "cell_type": "markdown",
   "id": "91eef124",
   "metadata": {},
   "source": [
    "**Hallazgos**\n",
    "\n",
    "- `customer_id` no es necesaria para la creación del modelo, por lo que puede eliminarse del conjunto de datos.\n",
    "\n",
    "- `begin_date` esta en formato period[M]. para mejorar esta variable se dividirá en 2 columnas, mes y año, esto indicará de mejor forma la información temporal al modelo.\n",
    "\n",
    "- Para los modelos que no procesan variables categóricas de forma directa, se creará un nuevo conjunto de datos, al cual se le aplicará la técnica OHE(one-hot-encoding), la cual convierte todas las variables categóricas en representaciones númericas, esto permite que dichos modelo procesen de forma efectiva la información categórica.\n",
    "\n",
    "- `monthly_charges` y `total_charges` son variables con un rango amplio de valores, por ello se les aplicarán técnicas de escalado, con el fin de mejorar una la convergencia y tener mayor estabilidad en el entrenamiento del modelo.\n",
    "\n",
    "Implementar estas acciones permitirá elaborar un modelo de machine learnig robusto y preciso, que prediga efectivamente la deserción de clientes."
   ]
  },
  {
   "cell_type": "markdown",
   "id": "cb19318f",
   "metadata": {},
   "source": [
    "#### **4.1.1 Eliminación de variables innecesarias**"
   ]
  },
  {
   "cell_type": "code",
   "execution_count": 235,
   "id": "bb701d25",
   "metadata": {},
   "outputs": [],
   "source": [
    "# Removiendo `customer_id`\n",
    "\n",
    "data = data.drop('customer_id', axis=1)"
   ]
  },
  {
   "cell_type": "code",
   "execution_count": 236,
   "id": "0f768aab",
   "metadata": {},
   "outputs": [],
   "source": [
    "# Partición columna `begin_date` en 2 columnas, mes y año\n",
    "# Eliminar columna `begin_date` del conjunto de datos\n",
    "\n",
    "data['begin_date'] = data['begin_date'].astype(str)\n",
    "data[['year', 'month']] = data['begin_date'].str.split('-', expand=True)\n",
    "data['year'] = data['year'].astype(int)\n",
    "data['month'] = data['month'].astype(int)\n",
    "data = data.drop('begin_date', axis=1)"
   ]
  },
  {
   "cell_type": "markdown",
   "id": "b8c5e6ca",
   "metadata": {},
   "source": [
    "#### **4.1.2 Partición de datos**"
   ]
  },
  {
   "cell_type": "code",
   "execution_count": 237,
   "id": "2d2f493b",
   "metadata": {},
   "outputs": [
    {
     "name": "stdout",
     "output_type": "stream",
     "text": [
      "Caratrísticas entrenamiento: (5625, 21)\n",
      "Características prueba: (1407, 21)\n",
      "Objetivo entrenamiento: (5625,)\n",
      "Objetivo prueba: (1407,)\n"
     ]
    },
    {
     "data": {
      "text/plain": [
       "4675    1\n",
       "5475    0\n",
       "4523    0\n",
       "1746    1\n",
       "1575    1\n",
       "       ..\n",
       "2865    0\n",
       "5967    1\n",
       "784     0\n",
       "4723    0\n",
       "1820    0\n",
       "Name: paperless_billing, Length: 5625, dtype: int64"
      ]
     },
     "execution_count": 237,
     "metadata": {},
     "output_type": "execute_result"
    }
   ],
   "source": [
    "features = data.drop('churn', axis=1)\n",
    "target = data['churn']\n",
    "\n",
    "features_train, features_test, target_train, target_test = train_test_split(features, target, test_size = 0.2, random_state = seed)\n",
    "\n",
    "print(\"Caratrísticas entrenamiento:\", features_train.shape)\n",
    "print(\"Características prueba:\", features_test.shape)\n",
    "print(\"Objetivo entrenamiento:\", target_train.shape)\n",
    "print(\"Objetivo prueba:\", target_test.shape)\n",
    "\n",
    "features_train['paperless_billing']"
   ]
  },
  {
   "cell_type": "markdown",
   "metadata": {},
   "source": [
    "#### **4.1.3 Codificación de variables categóricas**"
   ]
  },
  {
   "cell_type": "code",
   "execution_count": 178,
   "id": "069742bb",
   "metadata": {},
   "outputs": [],
   "source": [
    "# Aplicando técnica OHE para 'features_train' y 'features_test'\n",
    "\n",
    "features_train = pd.get_dummies(features_train, drop_first=True).astype(int)\n",
    "features_test = pd.get_dummies(features_test, drop_first=True).astype(int)"
   ]
  },
  {
   "cell_type": "code",
   "execution_count": 179,
   "id": "d161e567",
   "metadata": {},
   "outputs": [
    {
     "data": {
      "text/plain": [
       "Index(['paperless_billing', 'monthly_charges', 'total_charges',\n",
       "       'senior_citizen', 'partner', 'dependents', 'online_security',\n",
       "       'online_backup', 'device_protection', 'tech_support', 'streaming_tv',\n",
       "       'streaming_movies', 'multiple_lines', 'year', 'month', 'type_One year',\n",
       "       'type_Two year', 'payment_method_Credit card (automatic)',\n",
       "       'payment_method_Electronic check', 'payment_method_Mailed check',\n",
       "       'gender_Male', 'internet_service_Fiber optic',\n",
       "       'internet_service_No internet', 'charge_category_mid_low',\n",
       "       'charge_category_middle', 'charge_category_mid_high',\n",
       "       'charge_category_high', 'total_charge_category_mid_low',\n",
       "       'total_charge_category_middle', 'total_charge_category_mid_high',\n",
       "       'total_charge_category_high'],\n",
       "      dtype='object')"
      ]
     },
     "execution_count": 179,
     "metadata": {},
     "output_type": "execute_result"
    }
   ],
   "source": [
    "features_train.columns\n",
    "\n",
    "monthlycharges', 'totalcharges', 'seniorcitizen', 'year', 'month',\n",
    "'type_One year', 'type_Two year', 'paperlessbilling_Yes',\n",
    "'paymentmethod_Credit card (automatic)',\n",
    "'paymentmethod_Electronic check', 'paymentmethod_Mailed check',\n",
    "'gender_Male', 'partner_Yes', 'dependents_Yes',\n",
    "'internetservice_Fiber optic', 'internetservice_No internet',\n",
    "'onlinesecurity_Yes', 'onlinebackup_Yes', 'deviceprotection_Yes',\n",
    "'techsupport_Yes', 'streamingtv_Yes', 'streamingmovies_Yes',\n",
    "'multiplelines_Yes', 'charge_category_mid_low',\n",
    "'charge_category_middle', 'charge_category_mid_high',\n",
    "'charge_category_high', 'total_charge_category_mid_low',\n",
    "'total_charge_category_middle', 'total_charge_category_mid_high',\n",
    "'total_charge_category_high'"
   ]
  },
  {
   "cell_type": "markdown",
   "id": "d282d5e8",
   "metadata": {},
   "source": [
    "#### **4.1.4 Boruta**"
   ]
  },
  {
   "cell_type": "markdown",
   "id": "22340fd4",
   "metadata": {},
   "source": [
    "Previo al escalado de variables y con el fin de identificar las variables relevantes para el modelado, se aplicará la técnica de selección de variables, 'Boruta'.\n",
    "\n",
    "Este método usa Random Forest para comparar las variables para comparar su real importancia, con esto se mantienen solo las variables que aportan información significativa al modelo, mejorando la efectividad y minimizando el sobreajuste."
   ]
  },
  {
   "cell_type": "code",
   "execution_count": 69,
   "id": "4e43fb67",
   "metadata": {},
   "outputs": [
    {
     "name": "stdout",
     "output_type": "stream",
     "text": [
      "Iteration: \t1 / 100\n",
      "Confirmed: \t0\n",
      "Tentative: \t25\n",
      "Rejected: \t0\n",
      "Iteration: \t2 / 100\n",
      "Confirmed: \t0\n",
      "Tentative: \t25\n",
      "Rejected: \t0\n",
      "Iteration: \t3 / 100\n",
      "Confirmed: \t0\n",
      "Tentative: \t25\n",
      "Rejected: \t0\n",
      "Iteration: \t4 / 100\n",
      "Confirmed: \t0\n",
      "Tentative: \t25\n",
      "Rejected: \t0\n",
      "Iteration: \t5 / 100\n",
      "Confirmed: \t0\n",
      "Tentative: \t25\n",
      "Rejected: \t0\n",
      "Iteration: \t6 / 100\n",
      "Confirmed: \t0\n",
      "Tentative: \t25\n",
      "Rejected: \t0\n",
      "Iteration: \t7 / 100\n",
      "Confirmed: \t0\n",
      "Tentative: \t25\n",
      "Rejected: \t0\n",
      "Iteration: \t8 / 100\n",
      "Confirmed: \t4\n",
      "Tentative: \t1\n",
      "Rejected: \t20\n",
      "Iteration: \t9 / 100\n",
      "Confirmed: \t4\n",
      "Tentative: \t1\n",
      "Rejected: \t20\n",
      "Iteration: \t10 / 100\n",
      "Confirmed: \t4\n",
      "Tentative: \t1\n",
      "Rejected: \t20\n",
      "Iteration: \t11 / 100\n",
      "Confirmed: \t4\n",
      "Tentative: \t1\n",
      "Rejected: \t20\n",
      "Iteration: \t12 / 100\n",
      "Confirmed: \t4\n",
      "Tentative: \t1\n",
      "Rejected: \t20\n",
      "Iteration: \t13 / 100\n",
      "Confirmed: \t4\n",
      "Tentative: \t1\n",
      "Rejected: \t20\n",
      "Iteration: \t14 / 100\n",
      "Confirmed: \t4\n",
      "Tentative: \t1\n",
      "Rejected: \t20\n",
      "Iteration: \t15 / 100\n",
      "Confirmed: \t4\n",
      "Tentative: \t1\n",
      "Rejected: \t20\n",
      "Iteration: \t16 / 100\n",
      "Confirmed: \t4\n",
      "Tentative: \t1\n",
      "Rejected: \t20\n",
      "Iteration: \t17 / 100\n",
      "Confirmed: \t4\n",
      "Tentative: \t1\n",
      "Rejected: \t20\n",
      "Iteration: \t18 / 100\n",
      "Confirmed: \t4\n",
      "Tentative: \t1\n",
      "Rejected: \t20\n",
      "Iteration: \t19 / 100\n",
      "Confirmed: \t4\n",
      "Tentative: \t0\n",
      "Rejected: \t21\n",
      "\n",
      "\n",
      "BorutaPy finished running.\n",
      "\n",
      "Iteration: \t20 / 100\n",
      "Confirmed: \t4\n",
      "Tentative: \t0\n",
      "Rejected: \t21\n",
      "\n",
      "Variables importantes del conjunto de datos\n",
      "['year', 'month', 'monthly_charges', 'total_charges']\n"
     ]
    }
   ],
   "source": [
    "boruta_rf = RandomForestClassifier(n_estimators=100, random_state=seed, n_jobs=-1, class_weight='balanced')\n",
    "boruta_selector = BorutaPy(estimator=boruta_rf, n_estimators='auto', verbose=2, random_state=seed)\n",
    "boruta_selector.fit(features_train.values, target_train.values)\n",
    "important_features = features_train.columns[boruta_selector.support_].tolist()\n",
    "\n",
    "print()\n",
    "print('Variables importantes del conjunto de datos')\n",
    "print(important_features)"
   ]
  },
  {
   "cell_type": "markdown",
   "id": "aad85188",
   "metadata": {},
   "source": [
    "Aplicada la técnica ''Boruta', es necesario hacer una análisis de los conjuntos de datos, ya que la selección de características, entrego como variables importantes 4 columnas, `monthly_charges`, `total_charges`, `year`, `month`, una reducción de dimensionalidad bastante drástica, ya que inicialmente son 31 variables que afectan al modelo.\n",
    "\n",
    "Por ello, se ha determinado generar una combinación de la información obtenida en el análisis exploratorio de datos y Boruta, ya que se estudiaron variables que si afectan al modelo, el cual 'Boruta' en este caso no las considero."
   ]
  },
  {
   "cell_type": "code",
   "execution_count": 128,
   "id": "23aaac69",
   "metadata": {},
   "outputs": [],
   "source": [
    "# Selección de variables (EDA)\n",
    "# Lista con variables finales\n",
    "# Filtrar conjuntos de datos por variables \n",
    "\n",
    "features_train.columns = features_train.columns.str.replace(' ', '_')\n",
    "features_test.columns = features_test.columns.str.replace(' ', '_')\n",
    "\n",
    "\n",
    "eda_features = ['paperless_billing','senior_citizen', 'partner', 'dependents', 'online_security','tech_support','type_One_year','type_Two_year', 'payment_method_Credit_card_(automatic)', 'payment_method_Electronic_check', 'payment_method_Mailed_check', 'internet_service_Fiber_optic', 'internet_service_No_internet', 'charge_category_mid_low', 'charge_category_middle', 'charge_category_mid_high', 'charge_category_high', 'total_charge_category_mid_low', 'total_charge_category_middle', 'total_charge_category_mid_high', 'total_charge_category_high']\n",
    "\n",
    "final_features = list(set(important_features+eda_features))\n",
    "\n",
    "features_train = features_train[final_features]\n",
    "features_test = features_test[final_features]"
   ]
  },
  {
   "cell_type": "markdown",
   "id": "d04cd4a6",
   "metadata": {},
   "source": [
    "'Boruta' permitió reducir la dimensionalidad del set de datos, seleccionando únicamente aquellas variables que aportan información significativa para la predicción, además se incorporaron variables adicionales provenientes del análisis exploratorio de datos, las cuales fueron estudiadas y comprabada su influencia en la variable objetivo, lo que complementa de forma robusta el dataset para el modelado, además de mejorar su eficiencia y precención del sobreajuste."
   ]
  },
  {
   "cell_type": "markdown",
   "id": "d063ecaa",
   "metadata": {},
   "source": [
    "#### **4.1.5 Escalado de características**"
   ]
  },
  {
   "cell_type": "code",
   "execution_count": 62,
   "id": "5653e9c1",
   "metadata": {},
   "outputs": [
    {
     "data": {
      "text/html": [
       "<div>\n",
       "<style scoped>\n",
       "    .dataframe tbody tr th:only-of-type {\n",
       "        vertical-align: middle;\n",
       "    }\n",
       "\n",
       "    .dataframe tbody tr th {\n",
       "        vertical-align: top;\n",
       "    }\n",
       "\n",
       "    .dataframe thead th {\n",
       "        text-align: right;\n",
       "    }\n",
       "</style>\n",
       "<table border=\"1\" class=\"dataframe\">\n",
       "  <thead>\n",
       "    <tr style=\"text-align: right;\">\n",
       "      <th></th>\n",
       "      <th>monthly_charges</th>\n",
       "      <th>total_charges</th>\n",
       "      <th>year</th>\n",
       "      <th>month</th>\n",
       "    </tr>\n",
       "  </thead>\n",
       "  <tbody>\n",
       "    <tr>\n",
       "      <th>4675</th>\n",
       "      <td>-0.712040</td>\n",
       "      <td>-0.033877</td>\n",
       "      <td>-0.960262</td>\n",
       "      <td>1.561536</td>\n",
       "    </tr>\n",
       "    <tr>\n",
       "      <th>5475</th>\n",
       "      <td>-1.510723</td>\n",
       "      <td>-0.417587</td>\n",
       "      <td>-1.472833</td>\n",
       "      <td>-0.682050</td>\n",
       "    </tr>\n",
       "    <tr>\n",
       "      <th>4523</th>\n",
       "      <td>0.452705</td>\n",
       "      <td>-0.976557</td>\n",
       "      <td>1.090022</td>\n",
       "      <td>1.000640</td>\n",
       "    </tr>\n",
       "    <tr>\n",
       "      <th>1746</th>\n",
       "      <td>0.652376</td>\n",
       "      <td>-0.928759</td>\n",
       "      <td>1.090022</td>\n",
       "      <td>1.561536</td>\n",
       "    </tr>\n",
       "    <tr>\n",
       "      <th>1575</th>\n",
       "      <td>0.186478</td>\n",
       "      <td>0.891986</td>\n",
       "      <td>-1.472833</td>\n",
       "      <td>1.561536</td>\n",
       "    </tr>\n",
       "  </tbody>\n",
       "</table>\n",
       "</div>"
      ],
      "text/plain": [
       "      monthly_charges  total_charges      year     month\n",
       "4675        -0.712040      -0.033877 -0.960262  1.561536\n",
       "5475        -1.510723      -0.417587 -1.472833 -0.682050\n",
       "4523         0.452705      -0.976557  1.090022  1.000640\n",
       "1746         0.652376      -0.928759  1.090022  1.561536\n",
       "1575         0.186478       0.891986 -1.472833  1.561536"
      ]
     },
     "execution_count": 62,
     "metadata": {},
     "output_type": "execute_result"
    }
   ],
   "source": [
    "# Escalado de variables númericas continuas en el conjunto features_train\n",
    "\n",
    "cols = ['monthly_charges', 'total_charges', 'year', 'month']\n",
    "scaler = StandardScaler().fit(features_train[cols])\n",
    "features_train[cols] = scaler.transform(features_train[cols])\n",
    "features_train[cols].head()"
   ]
  },
  {
   "cell_type": "code",
   "execution_count": 63,
   "id": "f2b55bb4",
   "metadata": {},
   "outputs": [
    {
     "data": {
      "text/html": [
       "<div>\n",
       "<style scoped>\n",
       "    .dataframe tbody tr th:only-of-type {\n",
       "        vertical-align: middle;\n",
       "    }\n",
       "\n",
       "    .dataframe tbody tr th {\n",
       "        vertical-align: top;\n",
       "    }\n",
       "\n",
       "    .dataframe thead th {\n",
       "        text-align: right;\n",
       "    }\n",
       "</style>\n",
       "<table border=\"1\" class=\"dataframe\">\n",
       "  <thead>\n",
       "    <tr style=\"text-align: right;\">\n",
       "      <th></th>\n",
       "      <th>monthly_charges</th>\n",
       "      <th>total_charges</th>\n",
       "      <th>year</th>\n",
       "      <th>month</th>\n",
       "    </tr>\n",
       "  </thead>\n",
       "  <tbody>\n",
       "    <tr>\n",
       "      <th>2122</th>\n",
       "      <td>-1.011546</td>\n",
       "      <td>-0.961067</td>\n",
       "      <td>1.090022</td>\n",
       "      <td>1.281088</td>\n",
       "    </tr>\n",
       "    <tr>\n",
       "      <th>3445</th>\n",
       "      <td>0.153199</td>\n",
       "      <td>0.027641</td>\n",
       "      <td>0.064880</td>\n",
       "      <td>-1.242947</td>\n",
       "    </tr>\n",
       "    <tr>\n",
       "      <th>6808</th>\n",
       "      <td>-0.512370</td>\n",
       "      <td>-0.989392</td>\n",
       "      <td>1.090022</td>\n",
       "      <td>1.561536</td>\n",
       "    </tr>\n",
       "    <tr>\n",
       "      <th>6852</th>\n",
       "      <td>-0.512370</td>\n",
       "      <td>-0.964165</td>\n",
       "      <td>1.090022</td>\n",
       "      <td>1.281088</td>\n",
       "    </tr>\n",
       "    <tr>\n",
       "      <th>1475</th>\n",
       "      <td>-1.510723</td>\n",
       "      <td>-0.434405</td>\n",
       "      <td>-1.472833</td>\n",
       "      <td>-0.121154</td>\n",
       "    </tr>\n",
       "  </tbody>\n",
       "</table>\n",
       "</div>"
      ],
      "text/plain": [
       "      monthly_charges  total_charges      year     month\n",
       "2122        -1.011546      -0.961067  1.090022  1.281088\n",
       "3445         0.153199       0.027641  0.064880 -1.242947\n",
       "6808        -0.512370      -0.989392  1.090022  1.561536\n",
       "6852        -0.512370      -0.964165  1.090022  1.281088\n",
       "1475        -1.510723      -0.434405 -1.472833 -0.121154"
      ]
     },
     "execution_count": 63,
     "metadata": {},
     "output_type": "execute_result"
    }
   ],
   "source": [
    "# Escalado de variables númericas continuas en el conjunto features_test\n",
    "\n",
    "features_test[cols] = scaler.transform(features_test[cols])\n",
    "features_test[cols].head()"
   ]
  },
  {
   "cell_type": "markdown",
   "id": "a71e1cbb",
   "metadata": {},
   "source": [
    "#### **4.1.6 Balance de clases**"
   ]
  },
  {
   "cell_type": "markdown",
   "id": "c2fac2e7",
   "metadata": {},
   "source": [
    "Como se observó al final del análisis exploratorio de datos, las clases de la variable objetivo están en desequilibrio, en este apartado se retomará la situación con el fin de resolver este problema.\n",
    "\n",
    "Para ello, se implementará la técnica SMOTENC, la cual se adapta al conjunto de datos, el cual tiene muchas variables binarias provenientes de variables categóricas. Esta técnica permite crear nuevas instancias respetando la naturaleza de las variables categóricas, esto mejora la calidad del balanceo y mantiene la integridad de las características."
   ]
  },
  {
   "cell_type": "code",
   "execution_count": 64,
   "id": "0dddf9c3",
   "metadata": {},
   "outputs": [
    {
     "name": "stdout",
     "output_type": "stream",
     "text": [
      "churn\n",
      "0    50.0\n",
      "1    50.0\n",
      "Name: proportion, dtype: float64\n"
     ]
    },
    {
     "data": {
      "image/png": "[encoded data removed]",
      "text/plain": [
       "<Figure size 640x480 with 1 Axes>"
      ]
     },
     "metadata": {},
     "output_type": "display_data"
    }
   ],
   "source": [
    "# Aplicar técnica SMOTENC\n",
    "# Verificar el balance de clases\n",
    "\n",
    "cat_features = [features_train.columns.get_loc(col) for col in eda_features]\n",
    "smote_nc = SMOTENC(categorical_features=cat_features, random_state=seed)\n",
    "features_train, target_train = smote_nc.fit_resample(features_train, target_train)\n",
    "\n",
    "target_class_frequency = target_train.value_counts(normalize=True)*100\n",
    "print(target_class_frequency)\n",
    "target_class_frequency.plot(kind='bar', title='Balance de clase: Variable objetivo');"
   ]
  },
  {
   "cell_type": "markdown",
   "id": "66f8584c",
   "metadata": {},
   "source": [
    "Los datos estan balanceados."
   ]
  },
  {
   "cell_type": "markdown",
   "id": "81ea85f6",
   "metadata": {},
   "source": [
    "### **4.2 Entrenamiento del modelo**"
   ]
  },
  {
   "cell_type": "markdown",
   "id": "2d9638b6",
   "metadata": {},
   "source": [
    "#### **4.2.1 Crear funciones de evaluación**"
   ]
  },
  {
   "cell_type": "markdown",
   "id": "19691d78",
   "metadata": {},
   "source": [
    "Las métricas que se van a utilizar para evaluar los modelos de machine learning son AUC-ROC, F1-Score y Accuracy. Para hacer más eficiente esta tarea se crearán 2 funciones, que a continuación se explica en detalle lo que realizan, pero por optimización del codigo estan al inicio del proyecto en el apartado de 'Funciones'.\n",
    "\n",
    "* Función calcule_metrics\n",
    "    \n",
    "    Esta función evalua los modelos implementados sin ajuste de hiperparámetros. Calcula la puntuación de AUC-ROC para el set de entrenamiento mediante validación cruzada, F1-Score y Accuracy evaluan las predicciones realizadas sobre 'features_train' sin validacdión cruzada. Luego se aplicaran los modelos al conjunto de prueba para calcular AUC-ROC, F1-Score y Accuracy.\n",
    "\n",
    "* Función hyperparam_tuning_calcule_metrics\n",
    "    \n",
    "    Esta función evalua los modelos implementados con el ajuste de hiperparámetos, con el fin de perfeccionar las puntuaciones de AUC-ROC. F1-Score y Accuracy. Por último, despues de ajustar el modelo, se utilizará para predecir sobre el conjunto de prueba y calcular las puntuaciones de las métricas mencionadas, basadas en el rendimiento del modelo ajustado. "
   ]
  },
  {
   "cell_type": "markdown",
   "id": "c5a42d9d",
   "metadata": {},
   "source": [
    "#### **4.2.2 Logistic Regression**"
   ]
  },
  {
   "cell_type": "code",
   "execution_count": 65,
   "id": "aeadc645",
   "metadata": {},
   "outputs": [
    {
     "name": "stdout",
     "output_type": "stream",
     "text": [
      "CPU times: total: 453 ms\n",
      "Wall time: 470 ms\n"
     ]
    },
    {
     "data": {
      "text/html": [
       "<div>\n",
       "<style scoped>\n",
       "    .dataframe tbody tr th:only-of-type {\n",
       "        vertical-align: middle;\n",
       "    }\n",
       "\n",
       "    .dataframe tbody tr th {\n",
       "        vertical-align: top;\n",
       "    }\n",
       "\n",
       "    .dataframe thead th {\n",
       "        text-align: right;\n",
       "    }\n",
       "</style>\n",
       "<table border=\"1\" class=\"dataframe\">\n",
       "  <thead>\n",
       "    <tr style=\"text-align: right;\">\n",
       "      <th></th>\n",
       "      <th>Modelo</th>\n",
       "      <th>AUC-ROC Entrenamiento</th>\n",
       "      <th>AUC-ROC Prueba</th>\n",
       "      <th>F1-Score Entrenamiento</th>\n",
       "      <th>F1-Score Prueba</th>\n",
       "      <th>Accuracy Entrenamiento</th>\n",
       "      <th>Accuracy Prueba</th>\n",
       "    </tr>\n",
       "  </thead>\n",
       "  <tbody>\n",
       "    <tr>\n",
       "      <th>0</th>\n",
       "      <td>Logistic Regression</td>\n",
       "      <td>0.86911</td>\n",
       "      <td>0.762649</td>\n",
       "      <td>0.801298</td>\n",
       "      <td>0.639911</td>\n",
       "      <td>0.793045</td>\n",
       "      <td>0.770434</td>\n",
       "    </tr>\n",
       "  </tbody>\n",
       "</table>\n",
       "</div>"
      ],
      "text/plain": [
       "                Modelo  AUC-ROC Entrenamiento  AUC-ROC Prueba  \\\n",
       "0  Logistic Regression                0.86911        0.762649   \n",
       "\n",
       "   F1-Score Entrenamiento  F1-Score Prueba  Accuracy Entrenamiento  \\\n",
       "0                0.801298         0.639911                0.793045   \n",
       "\n",
       "   Accuracy Prueba  \n",
       "0         0.770434  "
      ]
     },
     "execution_count": 65,
     "metadata": {},
     "output_type": "execute_result"
    }
   ],
   "source": [
    "%%time\n",
    "\n",
    "lr = LogisticRegression().fit(features_train, target_train)\n",
    "\n",
    "lr_score = calculate_metrics(lr, features_train, target_train, features_test, target_test, 'Logistic Regression')\n",
    "\n",
    "lr_score"
   ]
  },
  {
   "cell_type": "code",
   "execution_count": 66,
   "id": "7063d97c",
   "metadata": {},
   "outputs": [
    {
     "name": "stdout",
     "output_type": "stream",
     "text": [
      "Mejores parámetros: {'solver': 'liblinear', 'random_state': 200, 'penalty': 'l1', 'max_iter': 300, 'C': 10}\n",
      "CPU times: total: 984 ms\n",
      "Wall time: 6.46 s\n"
     ]
    },
    {
     "data": {
      "text/html": [
       "<div>\n",
       "<style scoped>\n",
       "    .dataframe tbody tr th:only-of-type {\n",
       "        vertical-align: middle;\n",
       "    }\n",
       "\n",
       "    .dataframe tbody tr th {\n",
       "        vertical-align: top;\n",
       "    }\n",
       "\n",
       "    .dataframe thead th {\n",
       "        text-align: right;\n",
       "    }\n",
       "</style>\n",
       "<table border=\"1\" class=\"dataframe\">\n",
       "  <thead>\n",
       "    <tr style=\"text-align: right;\">\n",
       "      <th></th>\n",
       "      <th>Modelo</th>\n",
       "      <th>AUC-ROC Entrenamiento</th>\n",
       "      <th>AUC-ROC Prueba</th>\n",
       "      <th>F1-Score Entrenamiento</th>\n",
       "      <th>F1-Score Prueba</th>\n",
       "      <th>Accuracy Entrenamiento</th>\n",
       "      <th>Accuracy Prueba</th>\n",
       "    </tr>\n",
       "  </thead>\n",
       "  <tbody>\n",
       "    <tr>\n",
       "      <th>0</th>\n",
       "      <td>Logistic Regression</td>\n",
       "      <td>0.874478</td>\n",
       "      <td>0.853061</td>\n",
       "      <td>0.802647</td>\n",
       "      <td>0.644295</td>\n",
       "      <td>0.794736</td>\n",
       "      <td>0.773987</td>\n",
       "    </tr>\n",
       "  </tbody>\n",
       "</table>\n",
       "</div>"
      ],
      "text/plain": [
       "                Modelo  AUC-ROC Entrenamiento  AUC-ROC Prueba  \\\n",
       "0  Logistic Regression               0.874478        0.853061   \n",
       "\n",
       "   F1-Score Entrenamiento  F1-Score Prueba  Accuracy Entrenamiento  \\\n",
       "0                0.802647         0.644295                0.794736   \n",
       "\n",
       "   Accuracy Prueba  \n",
       "0         0.773987  "
      ]
     },
     "execution_count": 66,
     "metadata": {},
     "output_type": "execute_result"
    }
   ],
   "source": [
    "%%time\n",
    "\n",
    "\n",
    "lr_hyper_tuning = LogisticRegression()\n",
    "param_distributions = {'C': [0.1, 1, 10],\n",
    "                       'penalty': ['l1', 'l2'],\n",
    "                       'solver': ['liblinear', 'saga'],\n",
    "                       'max_iter': [100, 200, 300],\n",
    "                       'random_state': [seed]}\n",
    "\n",
    "lr_hyper_tuning_score = hyperparam_tuning_calcule_metrics(lr_hyper_tuning, param_distributions, features_train, target_train, features_test, target_test, 'Logistic Regression')\n",
    "\n",
    "lr_hyper_tuning_score"
   ]
  },
  {
   "cell_type": "markdown",
   "id": "d82c16fc",
   "metadata": {},
   "source": [
    "Luego de aplicar los hiperparámetros al modelo de 'Logistic Regression', la puntuación de AUC-ROC en el conjunto de prueba, muestra que su desempeño mejoró notablemente, no asi el resto de las métricas que mantuvieron aproximadamente sus puntuaciones."
   ]
  },
  {
   "cell_type": "markdown",
   "id": "cf5ca06b",
   "metadata": {},
   "source": [
    "#### **4.2.3 Decision Tree Classifier**"
   ]
  },
  {
   "cell_type": "code",
   "execution_count": 67,
   "id": "67d2ab08",
   "metadata": {},
   "outputs": [
    {
     "name": "stdout",
     "output_type": "stream",
     "text": [
      "CPU times: total: 328 ms\n",
      "Wall time: 356 ms\n"
     ]
    },
    {
     "data": {
      "text/html": [
       "<div>\n",
       "<style scoped>\n",
       "    .dataframe tbody tr th:only-of-type {\n",
       "        vertical-align: middle;\n",
       "    }\n",
       "\n",
       "    .dataframe tbody tr th {\n",
       "        vertical-align: top;\n",
       "    }\n",
       "\n",
       "    .dataframe thead th {\n",
       "        text-align: right;\n",
       "    }\n",
       "</style>\n",
       "<table border=\"1\" class=\"dataframe\">\n",
       "  <thead>\n",
       "    <tr style=\"text-align: right;\">\n",
       "      <th></th>\n",
       "      <th>Modelo</th>\n",
       "      <th>AUC-ROC Entrenamiento</th>\n",
       "      <th>AUC-ROC Prueba</th>\n",
       "      <th>F1-Score Entrenamiento</th>\n",
       "      <th>F1-Score Prueba</th>\n",
       "      <th>Accuracy Entrenamiento</th>\n",
       "      <th>Accuracy Prueba</th>\n",
       "    </tr>\n",
       "  </thead>\n",
       "  <tbody>\n",
       "    <tr>\n",
       "      <th>0</th>\n",
       "      <td>Decision Tree Classifier</td>\n",
       "      <td>0.84738</td>\n",
       "      <td>0.785412</td>\n",
       "      <td>1.0</td>\n",
       "      <td>0.684343</td>\n",
       "      <td>1.0</td>\n",
       "      <td>0.822317</td>\n",
       "    </tr>\n",
       "  </tbody>\n",
       "</table>\n",
       "</div>"
      ],
      "text/plain": [
       "                     Modelo  AUC-ROC Entrenamiento  AUC-ROC Prueba  \\\n",
       "0  Decision Tree Classifier                0.84738        0.785412   \n",
       "\n",
       "   F1-Score Entrenamiento  F1-Score Prueba  Accuracy Entrenamiento  \\\n",
       "0                     1.0         0.684343                     1.0   \n",
       "\n",
       "   Accuracy Prueba  \n",
       "0         0.822317  "
      ]
     },
     "execution_count": 67,
     "metadata": {},
     "output_type": "execute_result"
    }
   ],
   "source": [
    "%%time\n",
    "\n",
    "dtc = DecisionTreeClassifier().fit(features_train, target_train)\n",
    "dtc_score = calculate_metrics(dtc, features_train, target_train, features_test, target_test, 'Decision Tree Classifier')\n",
    "\n",
    "dtc_score"
   ]
  },
  {
   "cell_type": "code",
   "execution_count": 68,
   "id": "5bd624b8",
   "metadata": {},
   "outputs": [
    {
     "name": "stdout",
     "output_type": "stream",
     "text": [
      "Mejores parámetros: {'random_state': 200, 'min_samples_split': 10, 'min_samples_leaf': 2, 'max_features': None, 'max_depth': 10, 'criterion': 'entropy'}\n",
      "CPU times: total: 594 ms\n",
      "Wall time: 796 ms\n"
     ]
    },
    {
     "data": {
      "text/html": [
       "<div>\n",
       "<style scoped>\n",
       "    .dataframe tbody tr th:only-of-type {\n",
       "        vertical-align: middle;\n",
       "    }\n",
       "\n",
       "    .dataframe tbody tr th {\n",
       "        vertical-align: top;\n",
       "    }\n",
       "\n",
       "    .dataframe thead th {\n",
       "        text-align: right;\n",
       "    }\n",
       "</style>\n",
       "<table border=\"1\" class=\"dataframe\">\n",
       "  <thead>\n",
       "    <tr style=\"text-align: right;\">\n",
       "      <th></th>\n",
       "      <th>Modelo</th>\n",
       "      <th>AUC-ROC Entrenamiento</th>\n",
       "      <th>AUC-ROC Prueba</th>\n",
       "      <th>F1-Score Entrenamiento</th>\n",
       "      <th>F1-Score Prueba</th>\n",
       "      <th>Accuracy Entrenamiento</th>\n",
       "      <th>Accuracy Prueba</th>\n",
       "    </tr>\n",
       "  </thead>\n",
       "  <tbody>\n",
       "    <tr>\n",
       "      <th>0</th>\n",
       "      <td>Decision Tree Classifier</td>\n",
       "      <td>0.94108</td>\n",
       "      <td>0.862136</td>\n",
       "      <td>0.854805</td>\n",
       "      <td>0.65122</td>\n",
       "      <td>0.856436</td>\n",
       "      <td>0.796731</td>\n",
       "    </tr>\n",
       "  </tbody>\n",
       "</table>\n",
       "</div>"
      ],
      "text/plain": [
       "                     Modelo  AUC-ROC Entrenamiento  AUC-ROC Prueba  \\\n",
       "0  Decision Tree Classifier                0.94108        0.862136   \n",
       "\n",
       "   F1-Score Entrenamiento  F1-Score Prueba  Accuracy Entrenamiento  \\\n",
       "0                0.854805          0.65122                0.856436   \n",
       "\n",
       "   Accuracy Prueba  \n",
       "0         0.796731  "
      ]
     },
     "execution_count": 68,
     "metadata": {},
     "output_type": "execute_result"
    }
   ],
   "source": [
    "%%time\n",
    "\n",
    "dtc_hyper_tuning = DecisionTreeClassifier()\n",
    "param_distributions = {'criterion': ['gini', 'entropy'],\n",
    "                       'max_depth': [None, 10, 20, 30],\n",
    "                       'min_samples_split': [2, 5, 10],\n",
    "                       'min_samples_leaf': [1, 2, 4],\n",
    "                       'max_features': ['sqrt', 'log2', None],\n",
    "                       'random_state': [seed]}\n",
    "\n",
    "dtc_hyper_tuning_score = hyperparam_tuning_calcule_metrics(dtc_hyper_tuning, param_distributions, features_train, target_train, features_test, target_test, 'Decision Tree Classifier')\n",
    "\n",
    "dtc_hyper_tuning_score"
   ]
  },
  {
   "cell_type": "markdown",
   "id": "ed2379eb",
   "metadata": {},
   "source": [
    "Las puntuaciones se superaron y los tiempo de ejecución son relativamente breves. \n",
    "\n",
    "El modelo sin ajuste de hiperparámetros tiene sobreajuste en las métricas F1-Score y Accuracy, como señala el puntaje 1 en el entrenamiento, por el contrario a los datos de prueba que es mucho menor. Finalmente al ajustar los hiperparámetros el modelo se volvió mas balanceado, generaliza mejor lo que lo hace mas realista."
   ]
  },
  {
   "cell_type": "markdown",
   "id": "bef8e06b",
   "metadata": {},
   "source": [
    "#### **4.2.4 Random Forest Classifier**"
   ]
  },
  {
   "cell_type": "code",
   "execution_count": 69,
   "id": "1e3096a2",
   "metadata": {},
   "outputs": [
    {
     "name": "stdout",
     "output_type": "stream",
     "text": [
      "CPU times: total: 6 s\n",
      "Wall time: 6.03 s\n"
     ]
    },
    {
     "data": {
      "text/html": [
       "<div>\n",
       "<style scoped>\n",
       "    .dataframe tbody tr th:only-of-type {\n",
       "        vertical-align: middle;\n",
       "    }\n",
       "\n",
       "    .dataframe tbody tr th {\n",
       "        vertical-align: top;\n",
       "    }\n",
       "\n",
       "    .dataframe thead th {\n",
       "        text-align: right;\n",
       "    }\n",
       "</style>\n",
       "<table border=\"1\" class=\"dataframe\">\n",
       "  <thead>\n",
       "    <tr style=\"text-align: right;\">\n",
       "      <th></th>\n",
       "      <th>Modelo</th>\n",
       "      <th>AUC-ROC Entrenamiento</th>\n",
       "      <th>AUC-ROC Prueba</th>\n",
       "      <th>F1-Score Entrenamiento</th>\n",
       "      <th>F1-Score Prueba</th>\n",
       "      <th>Accuracy Entrenamiento</th>\n",
       "      <th>Accuracy Prueba</th>\n",
       "    </tr>\n",
       "  </thead>\n",
       "  <tbody>\n",
       "    <tr>\n",
       "      <th>0</th>\n",
       "      <td>Random Forest Classifier</td>\n",
       "      <td>0.95192</td>\n",
       "      <td>0.785972</td>\n",
       "      <td>1.0</td>\n",
       "      <td>0.69344</td>\n",
       "      <td>1.0</td>\n",
       "      <td>0.837242</td>\n",
       "    </tr>\n",
       "  </tbody>\n",
       "</table>\n",
       "</div>"
      ],
      "text/plain": [
       "                     Modelo  AUC-ROC Entrenamiento  AUC-ROC Prueba  \\\n",
       "0  Random Forest Classifier                0.95192        0.785972   \n",
       "\n",
       "   F1-Score Entrenamiento  F1-Score Prueba  Accuracy Entrenamiento  \\\n",
       "0                     1.0          0.69344                     1.0   \n",
       "\n",
       "   Accuracy Prueba  \n",
       "0         0.837242  "
      ]
     },
     "execution_count": 69,
     "metadata": {},
     "output_type": "execute_result"
    }
   ],
   "source": [
    "%%time\n",
    "\n",
    "rfc = RandomForestClassifier().fit(features_train, target_train)\n",
    "rfc_score = calculate_metrics(rfc, features_train, target_train, features_test, target_test, 'Random Forest Classifier')\n",
    "\n",
    "rfc_score"
   ]
  },
  {
   "cell_type": "code",
   "execution_count": 70,
   "id": "f310161c",
   "metadata": {},
   "outputs": [
    {
     "name": "stdout",
     "output_type": "stream",
     "text": [
      "Mejores parámetros: {'random_state': 200, 'n_estimators': 300, 'min_samples_split': 5, 'min_samples_leaf': 1, 'max_features': 'sqrt', 'max_depth': 50, 'criterion': 'gini', 'bootstrap': False}\n",
      "CPU times: total: 5.92 s\n",
      "Wall time: 40.5 s\n"
     ]
    },
    {
     "data": {
      "text/html": [
       "<div>\n",
       "<style scoped>\n",
       "    .dataframe tbody tr th:only-of-type {\n",
       "        vertical-align: middle;\n",
       "    }\n",
       "\n",
       "    .dataframe tbody tr th {\n",
       "        vertical-align: top;\n",
       "    }\n",
       "\n",
       "    .dataframe thead th {\n",
       "        text-align: right;\n",
       "    }\n",
       "</style>\n",
       "<table border=\"1\" class=\"dataframe\">\n",
       "  <thead>\n",
       "    <tr style=\"text-align: right;\">\n",
       "      <th></th>\n",
       "      <th>Modelo</th>\n",
       "      <th>AUC-ROC Entrenamiento</th>\n",
       "      <th>AUC-ROC Prueba</th>\n",
       "      <th>F1-Score Entrenamiento</th>\n",
       "      <th>F1-Score Prueba</th>\n",
       "      <th>Accuracy Entrenamiento</th>\n",
       "      <th>Accuracy Prueba</th>\n",
       "    </tr>\n",
       "  </thead>\n",
       "  <tbody>\n",
       "    <tr>\n",
       "      <th>0</th>\n",
       "      <td>Random Forest Classifier</td>\n",
       "      <td>1.0</td>\n",
       "      <td>0.892126</td>\n",
       "      <td>0.999758</td>\n",
       "      <td>0.70137</td>\n",
       "      <td>0.999759</td>\n",
       "      <td>0.84506</td>\n",
       "    </tr>\n",
       "  </tbody>\n",
       "</table>\n",
       "</div>"
      ],
      "text/plain": [
       "                     Modelo  AUC-ROC Entrenamiento  AUC-ROC Prueba  \\\n",
       "0  Random Forest Classifier                    1.0        0.892126   \n",
       "\n",
       "   F1-Score Entrenamiento  F1-Score Prueba  Accuracy Entrenamiento  \\\n",
       "0                0.999758          0.70137                0.999759   \n",
       "\n",
       "   Accuracy Prueba  \n",
       "0          0.84506  "
      ]
     },
     "execution_count": 70,
     "metadata": {},
     "output_type": "execute_result"
    }
   ],
   "source": [
    "%%time\n",
    "\n",
    "rfc_hyper_tuning = RandomForestClassifier()\n",
    "param_distributions = {'n_estimators': [100, 200, 300, 400, 500],\n",
    "                       'criterion': ['gini', 'entropy'],\n",
    "                       'max_depth': [None, 10, 20, 30, 40, 50],\n",
    "                       'min_samples_split': [2, 5, 10],\n",
    "                       'min_samples_leaf': [1, 2, 4],\n",
    "                       'max_features': ['sqrt', 'log2'],\n",
    "                       'bootstrap': [True, False],\n",
    "                       'random_state': [seed]}\n",
    "\n",
    "rfc_hyper_tuning_score = hyperparam_tuning_calcule_metrics(rfc_hyper_tuning, param_distributions, features_train, target_train, features_test, target_test, 'Random Forest Classifier')\n",
    "\n",
    "rfc_hyper_tuning_score"
   ]
  },
  {
   "cell_type": "markdown",
   "id": "f019d928",
   "metadata": {},
   "source": [
    "El desempeño de este modelo, es mejor que los anteriores, sin embargo se evidencia sobreajuste en los datos de entrenamiento en todas las metricas, al implementar sin ajuste de hiperparámetros. El ajuste de hiperparámetros, mantiene la gran capacidad de aprender de los datos de entrenamiento, que para las métricas AUC-ROC y Accuracy, la baja de rendimiento con los datos de prueba es relativamente esperable, pero F1-Score cae demasiado, con datos nunca vistos."
   ]
  },
  {
   "cell_type": "markdown",
   "id": "fd52adaf",
   "metadata": {},
   "source": [
    "#### **4.2.5 XGBoost Classifier**"
   ]
  },
  {
   "cell_type": "code",
   "execution_count": 71,
   "id": "c39c4cfa",
   "metadata": {},
   "outputs": [
    {
     "name": "stdout",
     "output_type": "stream",
     "text": [
      "CPU times: total: 10.2 s\n",
      "Wall time: 1.97 s\n"
     ]
    },
    {
     "data": {
      "text/html": [
       "<div>\n",
       "<style scoped>\n",
       "    .dataframe tbody tr th:only-of-type {\n",
       "        vertical-align: middle;\n",
       "    }\n",
       "\n",
       "    .dataframe tbody tr th {\n",
       "        vertical-align: top;\n",
       "    }\n",
       "\n",
       "    .dataframe thead th {\n",
       "        text-align: right;\n",
       "    }\n",
       "</style>\n",
       "<table border=\"1\" class=\"dataframe\">\n",
       "  <thead>\n",
       "    <tr style=\"text-align: right;\">\n",
       "      <th></th>\n",
       "      <th>Modelo</th>\n",
       "      <th>AUC-ROC Entrenamiento</th>\n",
       "      <th>AUC-ROC Prueba</th>\n",
       "      <th>F1-Score Entrenamiento</th>\n",
       "      <th>F1-Score Prueba</th>\n",
       "      <th>Accuracy Entrenamiento</th>\n",
       "      <th>Accuracy Prueba</th>\n",
       "    </tr>\n",
       "  </thead>\n",
       "  <tbody>\n",
       "    <tr>\n",
       "      <th>0</th>\n",
       "      <td>XGBoost Classifier</td>\n",
       "      <td>0.969549</td>\n",
       "      <td>0.848096</td>\n",
       "      <td>0.983339</td>\n",
       "      <td>0.793388</td>\n",
       "      <td>0.983458</td>\n",
       "      <td>0.89339</td>\n",
       "    </tr>\n",
       "  </tbody>\n",
       "</table>\n",
       "</div>"
      ],
      "text/plain": [
       "               Modelo  AUC-ROC Entrenamiento  AUC-ROC Prueba  \\\n",
       "0  XGBoost Classifier               0.969549        0.848096   \n",
       "\n",
       "   F1-Score Entrenamiento  F1-Score Prueba  Accuracy Entrenamiento  \\\n",
       "0                0.983339         0.793388                0.983458   \n",
       "\n",
       "   Accuracy Prueba  \n",
       "0          0.89339  "
      ]
     },
     "execution_count": 71,
     "metadata": {},
     "output_type": "execute_result"
    }
   ],
   "source": [
    "%%time\n",
    "\n",
    "xgbc = XGBClassifier().fit(features_train, target_train)\n",
    "xgbc_score = calculate_metrics(xgbc, features_train, target_train, features_test, target_test, 'XGBoost Classifier')\n",
    "\n",
    "xgbc_score"
   ]
  },
  {
   "cell_type": "code",
   "execution_count": 72,
   "id": "a10e4a9c",
   "metadata": {},
   "outputs": [
    {
     "name": "stdout",
     "output_type": "stream",
     "text": [
      "Mejores parámetros: {'learning_rate': np.float64(0.5677350437652839), 'max_depth': 8, 'n_estimators': 617, 'random_state': 200, 'subsample': np.float64(0.958082993629526)}\n",
      "CPU times: total: 11.9 s\n",
      "Wall time: 15.8 s\n"
     ]
    },
    {
     "data": {
      "text/html": [
       "<div>\n",
       "<style scoped>\n",
       "    .dataframe tbody tr th:only-of-type {\n",
       "        vertical-align: middle;\n",
       "    }\n",
       "\n",
       "    .dataframe tbody tr th {\n",
       "        vertical-align: top;\n",
       "    }\n",
       "\n",
       "    .dataframe thead th {\n",
       "        text-align: right;\n",
       "    }\n",
       "</style>\n",
       "<table border=\"1\" class=\"dataframe\">\n",
       "  <thead>\n",
       "    <tr style=\"text-align: right;\">\n",
       "      <th></th>\n",
       "      <th>Modelo</th>\n",
       "      <th>AUC-ROC Entrenamiento</th>\n",
       "      <th>AUC-ROC Prueba</th>\n",
       "      <th>F1-Score Entrenamiento</th>\n",
       "      <th>F1-Score Prueba</th>\n",
       "      <th>Accuracy Entrenamiento</th>\n",
       "      <th>Accuracy Prueba</th>\n",
       "    </tr>\n",
       "  </thead>\n",
       "  <tbody>\n",
       "    <tr>\n",
       "      <th>0</th>\n",
       "      <td>XGBoost Classifier</td>\n",
       "      <td>1.0</td>\n",
       "      <td>0.94301</td>\n",
       "      <td>0.999879</td>\n",
       "      <td>0.825789</td>\n",
       "      <td>0.999879</td>\n",
       "      <td>0.909737</td>\n",
       "    </tr>\n",
       "  </tbody>\n",
       "</table>\n",
       "</div>"
      ],
      "text/plain": [
       "               Modelo  AUC-ROC Entrenamiento  AUC-ROC Prueba  \\\n",
       "0  XGBoost Classifier                    1.0         0.94301   \n",
       "\n",
       "   F1-Score Entrenamiento  F1-Score Prueba  Accuracy Entrenamiento  \\\n",
       "0                0.999879         0.825789                0.999879   \n",
       "\n",
       "   Accuracy Prueba  \n",
       "0         0.909737  "
      ]
     },
     "execution_count": 72,
     "metadata": {},
     "output_type": "execute_result"
    }
   ],
   "source": [
    "%%time\n",
    "\n",
    "xgbc_hyper_tuning = XGBClassifier()\n",
    "param_distributions = {'max_depth'    : sp_randInt(5, 50),\n",
    "                       'n_estimators' : sp_randInt(50, 800),    \n",
    "                       'learning_rate': sp_randFloat(),    \n",
    "                       'subsample'    : sp_randFloat(),\n",
    "                       'random_state' : [seed]}\n",
    "\n",
    "xgbc_hyper_tuning_score = hyperparam_tuning_calcule_metrics(xgbc_hyper_tuning, param_distributions, features_train, target_train, features_test, target_test, 'XGBoost Classifier')\n",
    "\n",
    "xgbc_hyper_tuning_score"
   ]
  },
  {
   "cell_type": "markdown",
   "id": "b3e6c0a9",
   "metadata": {},
   "source": [
    "El modelo XGBoost Classifier alcanza puntuaciones muy altas con los datos de entrenamiento, llegando al 1 con los datos de entrenamiento y con ajuste de hiperparámetros. El puntaje obtenido con los datos de prueba es muy alto superando el 0,88 que es el umbral minimo del criterio de evaluación 6 SP. Si bien existe una diferencia entre las puntuaciones de entrenamiento y prueba, es algo esperable."
   ]
  },
  {
   "cell_type": "markdown",
   "id": "d3f3bdc9",
   "metadata": {},
   "source": [
    "#### **4.2.6 LightGBM Classifier**"
   ]
  },
  {
   "cell_type": "code",
   "execution_count": 73,
   "id": "b82c471a",
   "metadata": {},
   "outputs": [
    {
     "name": "stdout",
     "output_type": "stream",
     "text": [
      "[LightGBM] [Info] Number of positive: 4141, number of negative: 4141\n",
      "[LightGBM] [Info] Auto-choosing row-wise multi-threading, the overhead of testing was 0.000536 seconds.\n",
      "You can set `force_row_wise=true` to remove the overhead.\n",
      "And if memory is not enough, you can set `force_col_wise=true`.\n",
      "[LightGBM] [Info] Total Bins 1059\n",
      "[LightGBM] [Info] Number of data points in the train set: 8282, number of used features: 25\n",
      "[LightGBM] [Info] [binary:BoostFromScore]: pavg=0.500000 -> initscore=0.000000\n",
      "[LightGBM] [Info] Number of positive: 3313, number of negative: 3312\n",
      "[LightGBM] [Info] Auto-choosing row-wise multi-threading, the overhead of testing was 0.000575 seconds.\n",
      "You can set `force_row_wise=true` to remove the overhead.\n",
      "And if memory is not enough, you can set `force_col_wise=true`.\n",
      "[LightGBM] [Info] Total Bins 1061\n",
      "[LightGBM] [Info] Number of data points in the train set: 6625, number of used features: 25\n",
      "[LightGBM] [Info] [binary:BoostFromScore]: pavg=0.500075 -> initscore=0.000302\n",
      "[LightGBM] [Info] Start training from score 0.000302\n",
      "[LightGBM] [Info] Number of positive: 3312, number of negative: 3313\n",
      "[LightGBM] [Info] Auto-choosing row-wise multi-threading, the overhead of testing was 0.000567 seconds.\n",
      "You can set `force_row_wise=true` to remove the overhead.\n",
      "And if memory is not enough, you can set `force_col_wise=true`.\n",
      "[LightGBM] [Info] Total Bins 1060\n",
      "[LightGBM] [Info] Number of data points in the train set: 6625, number of used features: 25\n",
      "[LightGBM] [Info] [binary:BoostFromScore]: pavg=0.499925 -> initscore=-0.000302\n",
      "[LightGBM] [Info] Start training from score -0.000302\n",
      "[LightGBM] [Info] Number of positive: 3313, number of negative: 3313\n",
      "[LightGBM] [Info] Auto-choosing row-wise multi-threading, the overhead of testing was 0.000570 seconds.\n",
      "You can set `force_row_wise=true` to remove the overhead.\n",
      "And if memory is not enough, you can set `force_col_wise=true`.\n",
      "[LightGBM] [Info] Total Bins 1056\n",
      "[LightGBM] [Info] Number of data points in the train set: 6626, number of used features: 25\n",
      "[LightGBM] [Info] [binary:BoostFromScore]: pavg=0.500000 -> initscore=0.000000\n",
      "[LightGBM] [Info] Number of positive: 3313, number of negative: 3313\n",
      "[LightGBM] [Info] Auto-choosing row-wise multi-threading, the overhead of testing was 0.000698 seconds.\n",
      "You can set `force_row_wise=true` to remove the overhead.\n",
      "And if memory is not enough, you can set `force_col_wise=true`.\n",
      "[LightGBM] [Info] Total Bins 1054\n",
      "[LightGBM] [Info] Number of data points in the train set: 6626, number of used features: 25\n",
      "[LightGBM] [Info] [binary:BoostFromScore]: pavg=0.500000 -> initscore=0.000000\n",
      "[LightGBM] [Info] Number of positive: 3313, number of negative: 3313\n",
      "[LightGBM] [Info] Auto-choosing row-wise multi-threading, the overhead of testing was 0.000611 seconds.\n",
      "You can set `force_row_wise=true` to remove the overhead.\n",
      "And if memory is not enough, you can set `force_col_wise=true`.\n",
      "[LightGBM] [Info] Total Bins 1055\n",
      "[LightGBM] [Info] Number of data points in the train set: 6626, number of used features: 25\n",
      "[LightGBM] [Info] [binary:BoostFromScore]: pavg=0.500000 -> initscore=0.000000\n",
      "CPU times: total: 4.05 s\n",
      "Wall time: 1.27 s\n"
     ]
    },
    {
     "data": {
      "text/html": [
       "<div>\n",
       "<style scoped>\n",
       "    .dataframe tbody tr th:only-of-type {\n",
       "        vertical-align: middle;\n",
       "    }\n",
       "\n",
       "    .dataframe tbody tr th {\n",
       "        vertical-align: top;\n",
       "    }\n",
       "\n",
       "    .dataframe thead th {\n",
       "        text-align: right;\n",
       "    }\n",
       "</style>\n",
       "<table border=\"1\" class=\"dataframe\">\n",
       "  <thead>\n",
       "    <tr style=\"text-align: right;\">\n",
       "      <th></th>\n",
       "      <th>Modelo</th>\n",
       "      <th>AUC-ROC Entrenamiento</th>\n",
       "      <th>AUC-ROC Prueba</th>\n",
       "      <th>F1-Score Entrenamiento</th>\n",
       "      <th>F1-Score Prueba</th>\n",
       "      <th>Accuracy Entrenamiento</th>\n",
       "      <th>Accuracy Prueba</th>\n",
       "    </tr>\n",
       "  </thead>\n",
       "  <tbody>\n",
       "    <tr>\n",
       "      <th>0</th>\n",
       "      <td>LightGBM Classifier</td>\n",
       "      <td>0.962952</td>\n",
       "      <td>0.831854</td>\n",
       "      <td>0.948185</td>\n",
       "      <td>0.770515</td>\n",
       "      <td>0.949167</td>\n",
       "      <td>0.882729</td>\n",
       "    </tr>\n",
       "  </tbody>\n",
       "</table>\n",
       "</div>"
      ],
      "text/plain": [
       "                Modelo  AUC-ROC Entrenamiento  AUC-ROC Prueba  \\\n",
       "0  LightGBM Classifier               0.962952        0.831854   \n",
       "\n",
       "   F1-Score Entrenamiento  F1-Score Prueba  Accuracy Entrenamiento  \\\n",
       "0                0.948185         0.770515                0.949167   \n",
       "\n",
       "   Accuracy Prueba  \n",
       "0         0.882729  "
      ]
     },
     "execution_count": 73,
     "metadata": {},
     "output_type": "execute_result"
    }
   ],
   "source": [
    "%%time\n",
    "\n",
    "lgbmc = LGBMClassifier().fit(features_train, target_train)\n",
    "lgbmc_score = calculate_metrics(lgbmc, features_train, target_train, features_test, target_test, 'LightGBM Classifier')\n",
    "\n",
    "lgbmc_score"
   ]
  },
  {
   "cell_type": "code",
   "execution_count": 74,
   "id": "d8dc9ac6",
   "metadata": {},
   "outputs": [
    {
     "name": "stdout",
     "output_type": "stream",
     "text": [
      "[LightGBM] [Info] Number of positive: 4141, number of negative: 4141\n",
      "[LightGBM] [Info] Auto-choosing row-wise multi-threading, the overhead of testing was 0.000965 seconds.\n",
      "You can set `force_row_wise=true` to remove the overhead.\n",
      "And if memory is not enough, you can set `force_col_wise=true`.\n",
      "[LightGBM] [Info] Total Bins 1059\n",
      "[LightGBM] [Info] Number of data points in the train set: 8282, number of used features: 25\n",
      "[LightGBM] [Info] [binary:BoostFromScore]: pavg=0.500000 -> initscore=0.000000\n",
      "[LightGBM] [Warning] No further splits with positive gain, best gain: -inf\n",
      "[LightGBM] [Warning] No further splits with positive gain, best gain: -inf\n",
      "[LightGBM] [Warning] No further splits with positive gain, best gain: -inf\n",
      "[LightGBM] [Warning] No further splits with positive gain, best gain: -inf\n",
      "[LightGBM] [Warning] No further splits with positive gain, best gain: -inf\n",
      "[LightGBM] [Warning] No further splits with positive gain, best gain: -inf\n",
      "[LightGBM] [Warning] No further splits with positive gain, best gain: -inf\n",
      "[LightGBM] [Warning] No further splits with positive gain, best gain: -inf\n",
      "[LightGBM] [Warning] No further splits with positive gain, best gain: -inf\n",
      "[LightGBM] [Warning] No further splits with positive gain, best gain: -inf\n",
      "[LightGBM] [Warning] No further splits with positive gain, best gain: -inf\n",
      "[LightGBM] [Warning] No further splits with positive gain, best gain: -inf\n",
      "[LightGBM] [Warning] No further splits with positive gain, best gain: -inf\n",
      "[LightGBM] [Warning] No further splits with positive gain, best gain: -inf\n",
      "[LightGBM] [Warning] No further splits with positive gain, best gain: -inf\n",
      "[LightGBM] [Warning] No further splits with positive gain, best gain: -inf\n",
      "[LightGBM] [Warning] No further splits with positive gain, best gain: -inf\n",
      "[LightGBM] [Warning] No further splits with positive gain, best gain: -inf\n",
      "[LightGBM] [Warning] No further splits with positive gain, best gain: -inf\n",
      "[LightGBM] [Warning] No further splits with positive gain, best gain: -inf\n",
      "[LightGBM] [Warning] No further splits with positive gain, best gain: -inf\n",
      "[LightGBM] [Warning] No further splits with positive gain, best gain: -inf\n",
      "[LightGBM] [Warning] No further splits with positive gain, best gain: -inf\n",
      "[LightGBM] [Warning] No further splits with positive gain, best gain: -inf\n",
      "[LightGBM] [Warning] No further splits with positive gain, best gain: -inf\n",
      "[LightGBM] [Warning] No further splits with positive gain, best gain: -inf\n",
      "[LightGBM] [Warning] No further splits with positive gain, best gain: -inf\n",
      "[LightGBM] [Warning] No further splits with positive gain, best gain: -inf\n",
      "[LightGBM] [Warning] No further splits with positive gain, best gain: -inf\n",
      "[LightGBM] [Warning] No further splits with positive gain, best gain: -inf\n",
      "[LightGBM] [Warning] No further splits with positive gain, best gain: -inf\n",
      "[LightGBM] [Warning] No further splits with positive gain, best gain: -inf\n",
      "[LightGBM] [Warning] No further splits with positive gain, best gain: -inf\n",
      "[LightGBM] [Warning] No further splits with positive gain, best gain: -inf\n",
      "[LightGBM] [Warning] No further splits with positive gain, best gain: -inf\n",
      "[LightGBM] [Warning] No further splits with positive gain, best gain: -inf\n",
      "[LightGBM] [Warning] No further splits with positive gain, best gain: -inf\n",
      "[LightGBM] [Warning] No further splits with positive gain, best gain: -inf\n",
      "[LightGBM] [Warning] No further splits with positive gain, best gain: -inf\n",
      "[LightGBM] [Warning] No further splits with positive gain, best gain: -inf\n",
      "[LightGBM] [Warning] No further splits with positive gain, best gain: -inf\n",
      "[LightGBM] [Warning] No further splits with positive gain, best gain: -inf\n",
      "[LightGBM] [Warning] No further splits with positive gain, best gain: -inf\n",
      "[LightGBM] [Warning] No further splits with positive gain, best gain: -inf\n",
      "[LightGBM] [Warning] No further splits with positive gain, best gain: -inf\n",
      "[LightGBM] [Warning] No further splits with positive gain, best gain: -inf\n",
      "[LightGBM] [Warning] No further splits with positive gain, best gain: -inf\n",
      "[LightGBM] [Warning] No further splits with positive gain, best gain: -inf\n",
      "[LightGBM] [Warning] No further splits with positive gain, best gain: -inf\n",
      "[LightGBM] [Warning] No further splits with positive gain, best gain: -inf\n",
      "[LightGBM] [Warning] No further splits with positive gain, best gain: -inf\n",
      "[LightGBM] [Warning] No further splits with positive gain, best gain: -inf\n",
      "[LightGBM] [Warning] No further splits with positive gain, best gain: -inf\n",
      "[LightGBM] [Warning] No further splits with positive gain, best gain: -inf\n",
      "[LightGBM] [Warning] No further splits with positive gain, best gain: -inf\n",
      "[LightGBM] [Warning] No further splits with positive gain, best gain: -inf\n",
      "[LightGBM] [Warning] No further splits with positive gain, best gain: -inf\n",
      "[LightGBM] [Warning] No further splits with positive gain, best gain: -inf\n",
      "[LightGBM] [Warning] No further splits with positive gain, best gain: -inf\n",
      "[LightGBM] [Warning] No further splits with positive gain, best gain: -inf\n",
      "[LightGBM] [Warning] No further splits with positive gain, best gain: -inf\n",
      "[LightGBM] [Warning] No further splits with positive gain, best gain: -inf\n",
      "[LightGBM] [Warning] No further splits with positive gain, best gain: -inf\n",
      "[LightGBM] [Warning] No further splits with positive gain, best gain: -inf\n",
      "[LightGBM] [Warning] No further splits with positive gain, best gain: -inf\n",
      "[LightGBM] [Warning] No further splits with positive gain, best gain: -inf\n",
      "[LightGBM] [Warning] No further splits with positive gain, best gain: -inf\n",
      "[LightGBM] [Warning] No further splits with positive gain, best gain: -inf\n",
      "[LightGBM] [Warning] No further splits with positive gain, best gain: -inf\n",
      "[LightGBM] [Warning] No further splits with positive gain, best gain: -inf\n",
      "[LightGBM] [Warning] No further splits with positive gain, best gain: -inf\n",
      "[LightGBM] [Warning] No further splits with positive gain, best gain: -inf\n",
      "[LightGBM] [Warning] No further splits with positive gain, best gain: -inf\n",
      "[LightGBM] [Warning] No further splits with positive gain, best gain: -inf\n",
      "[LightGBM] [Warning] No further splits with positive gain, best gain: -inf\n",
      "[LightGBM] [Warning] No further splits with positive gain, best gain: -inf\n",
      "[LightGBM] [Warning] No further splits with positive gain, best gain: -inf\n",
      "[LightGBM] [Warning] No further splits with positive gain, best gain: -inf\n",
      "[LightGBM] [Warning] No further splits with positive gain, best gain: -inf\n",
      "[LightGBM] [Warning] No further splits with positive gain, best gain: -inf\n",
      "[LightGBM] [Warning] No further splits with positive gain, best gain: -inf\n",
      "[LightGBM] [Warning] No further splits with positive gain, best gain: -inf\n",
      "[LightGBM] [Warning] No further splits with positive gain, best gain: -inf\n",
      "[LightGBM] [Warning] No further splits with positive gain, best gain: -inf\n",
      "[LightGBM] [Warning] No further splits with positive gain, best gain: -inf\n",
      "[LightGBM] [Warning] No further splits with positive gain, best gain: -inf\n",
      "[LightGBM] [Warning] No further splits with positive gain, best gain: -inf\n",
      "[LightGBM] [Warning] No further splits with positive gain, best gain: -inf\n",
      "[LightGBM] [Warning] No further splits with positive gain, best gain: -inf\n",
      "[LightGBM] [Warning] No further splits with positive gain, best gain: -inf\n",
      "[LightGBM] [Warning] No further splits with positive gain, best gain: -inf\n",
      "[LightGBM] [Warning] No further splits with positive gain, best gain: -inf\n",
      "[LightGBM] [Warning] No further splits with positive gain, best gain: -inf\n",
      "[LightGBM] [Warning] No further splits with positive gain, best gain: -inf\n",
      "[LightGBM] [Warning] No further splits with positive gain, best gain: -inf\n",
      "[LightGBM] [Warning] No further splits with positive gain, best gain: -inf\n",
      "[LightGBM] [Warning] No further splits with positive gain, best gain: -inf\n",
      "[LightGBM] [Warning] No further splits with positive gain, best gain: -inf\n",
      "[LightGBM] [Warning] No further splits with positive gain, best gain: -inf\n",
      "[LightGBM] [Warning] No further splits with positive gain, best gain: -inf\n",
      "[LightGBM] [Warning] No further splits with positive gain, best gain: -inf\n",
      "[LightGBM] [Warning] No further splits with positive gain, best gain: -inf\n",
      "[LightGBM] [Warning] No further splits with positive gain, best gain: -inf\n",
      "[LightGBM] [Warning] No further splits with positive gain, best gain: -inf\n",
      "[LightGBM] [Warning] No further splits with positive gain, best gain: -inf\n",
      "[LightGBM] [Warning] No further splits with positive gain, best gain: -inf\n",
      "[LightGBM] [Warning] No further splits with positive gain, best gain: -inf\n",
      "[LightGBM] [Warning] No further splits with positive gain, best gain: -inf\n",
      "[LightGBM] [Warning] No further splits with positive gain, best gain: -inf\n",
      "[LightGBM] [Warning] No further splits with positive gain, best gain: -inf\n",
      "[LightGBM] [Warning] No further splits with positive gain, best gain: -inf\n",
      "[LightGBM] [Warning] No further splits with positive gain, best gain: -inf\n",
      "[LightGBM] [Warning] No further splits with positive gain, best gain: -inf\n",
      "[LightGBM] [Warning] No further splits with positive gain, best gain: -inf\n",
      "[LightGBM] [Warning] No further splits with positive gain, best gain: -inf\n",
      "[LightGBM] [Warning] No further splits with positive gain, best gain: -inf\n",
      "[LightGBM] [Warning] No further splits with positive gain, best gain: -inf\n",
      "[LightGBM] [Warning] No further splits with positive gain, best gain: -inf\n",
      "[LightGBM] [Warning] No further splits with positive gain, best gain: -inf\n",
      "[LightGBM] [Warning] No further splits with positive gain, best gain: -inf\n",
      "[LightGBM] [Warning] No further splits with positive gain, best gain: -inf\n",
      "[LightGBM] [Warning] No further splits with positive gain, best gain: -inf\n",
      "[LightGBM] [Warning] No further splits with positive gain, best gain: -inf\n",
      "[LightGBM] [Warning] No further splits with positive gain, best gain: -inf\n",
      "[LightGBM] [Warning] No further splits with positive gain, best gain: -inf\n",
      "[LightGBM] [Warning] No further splits with positive gain, best gain: -inf\n",
      "[LightGBM] [Warning] No further splits with positive gain, best gain: -inf\n",
      "[LightGBM] [Warning] No further splits with positive gain, best gain: -inf\n",
      "[LightGBM] [Warning] No further splits with positive gain, best gain: -inf\n",
      "[LightGBM] [Warning] No further splits with positive gain, best gain: -inf\n",
      "[LightGBM] [Warning] No further splits with positive gain, best gain: -inf\n",
      "[LightGBM] [Warning] No further splits with positive gain, best gain: -inf\n",
      "[LightGBM] [Warning] No further splits with positive gain, best gain: -inf\n",
      "[LightGBM] [Warning] No further splits with positive gain, best gain: -inf\n",
      "[LightGBM] [Warning] No further splits with positive gain, best gain: -inf\n",
      "[LightGBM] [Warning] No further splits with positive gain, best gain: -inf\n",
      "[LightGBM] [Warning] No further splits with positive gain, best gain: -inf\n",
      "[LightGBM] [Warning] No further splits with positive gain, best gain: -inf\n",
      "[LightGBM] [Warning] No further splits with positive gain, best gain: -inf\n",
      "[LightGBM] [Warning] No further splits with positive gain, best gain: -inf\n",
      "[LightGBM] [Warning] No further splits with positive gain, best gain: -inf\n",
      "[LightGBM] [Warning] No further splits with positive gain, best gain: -inf\n",
      "[LightGBM] [Warning] No further splits with positive gain, best gain: -inf\n",
      "[LightGBM] [Warning] No further splits with positive gain, best gain: -inf\n",
      "[LightGBM] [Warning] No further splits with positive gain, best gain: -inf\n",
      "[LightGBM] [Warning] No further splits with positive gain, best gain: -inf\n",
      "[LightGBM] [Warning] No further splits with positive gain, best gain: -inf\n",
      "[LightGBM] [Warning] No further splits with positive gain, best gain: -inf\n",
      "[LightGBM] [Warning] No further splits with positive gain, best gain: -inf\n",
      "[LightGBM] [Warning] No further splits with positive gain, best gain: -inf\n",
      "[LightGBM] [Warning] No further splits with positive gain, best gain: -inf\n",
      "[LightGBM] [Warning] No further splits with positive gain, best gain: -inf\n",
      "[LightGBM] [Warning] No further splits with positive gain, best gain: -inf\n",
      "[LightGBM] [Warning] No further splits with positive gain, best gain: -inf\n",
      "[LightGBM] [Warning] No further splits with positive gain, best gain: -inf\n",
      "[LightGBM] [Warning] No further splits with positive gain, best gain: -inf\n",
      "[LightGBM] [Warning] No further splits with positive gain, best gain: -inf\n",
      "[LightGBM] [Warning] No further splits with positive gain, best gain: -inf\n",
      "[LightGBM] [Warning] No further splits with positive gain, best gain: -inf\n",
      "[LightGBM] [Warning] No further splits with positive gain, best gain: -inf\n",
      "[LightGBM] [Warning] No further splits with positive gain, best gain: -inf\n",
      "[LightGBM] [Warning] No further splits with positive gain, best gain: -inf\n",
      "[LightGBM] [Warning] No further splits with positive gain, best gain: -inf\n",
      "[LightGBM] [Warning] No further splits with positive gain, best gain: -inf\n",
      "[LightGBM] [Warning] No further splits with positive gain, best gain: -inf\n",
      "[LightGBM] [Warning] No further splits with positive gain, best gain: -inf\n",
      "[LightGBM] [Warning] No further splits with positive gain, best gain: -inf\n",
      "[LightGBM] [Warning] No further splits with positive gain, best gain: -inf\n",
      "[LightGBM] [Warning] No further splits with positive gain, best gain: -inf\n",
      "[LightGBM] [Warning] No further splits with positive gain, best gain: -inf\n",
      "[LightGBM] [Warning] No further splits with positive gain, best gain: -inf\n",
      "[LightGBM] [Warning] No further splits with positive gain, best gain: -inf\n",
      "[LightGBM] [Warning] No further splits with positive gain, best gain: -inf\n",
      "[LightGBM] [Warning] No further splits with positive gain, best gain: -inf\n",
      "[LightGBM] [Warning] No further splits with positive gain, best gain: -inf\n",
      "[LightGBM] [Warning] No further splits with positive gain, best gain: -inf\n",
      "[LightGBM] [Warning] No further splits with positive gain, best gain: -inf\n",
      "[LightGBM] [Warning] No further splits with positive gain, best gain: -inf\n",
      "[LightGBM] [Warning] No further splits with positive gain, best gain: -inf\n",
      "[LightGBM] [Warning] No further splits with positive gain, best gain: -inf\n",
      "[LightGBM] [Warning] No further splits with positive gain, best gain: -inf\n",
      "[LightGBM] [Warning] No further splits with positive gain, best gain: -inf\n",
      "[LightGBM] [Warning] No further splits with positive gain, best gain: -inf\n",
      "[LightGBM] [Warning] No further splits with positive gain, best gain: -inf\n",
      "[LightGBM] [Warning] No further splits with positive gain, best gain: -inf\n",
      "[LightGBM] [Warning] No further splits with positive gain, best gain: -inf\n",
      "[LightGBM] [Warning] No further splits with positive gain, best gain: -inf\n",
      "[LightGBM] [Warning] No further splits with positive gain, best gain: -inf\n",
      "[LightGBM] [Warning] No further splits with positive gain, best gain: -inf\n",
      "[LightGBM] [Warning] No further splits with positive gain, best gain: -inf\n",
      "[LightGBM] [Warning] No further splits with positive gain, best gain: -inf\n",
      "[LightGBM] [Warning] No further splits with positive gain, best gain: -inf\n",
      "[LightGBM] [Warning] No further splits with positive gain, best gain: -inf\n",
      "[LightGBM] [Warning] No further splits with positive gain, best gain: -inf\n",
      "[LightGBM] [Warning] No further splits with positive gain, best gain: -inf\n",
      "[LightGBM] [Warning] No further splits with positive gain, best gain: -inf\n",
      "[LightGBM] [Warning] No further splits with positive gain, best gain: -inf\n",
      "[LightGBM] [Warning] No further splits with positive gain, best gain: -inf\n",
      "[LightGBM] [Warning] No further splits with positive gain, best gain: -inf\n",
      "[LightGBM] [Warning] No further splits with positive gain, best gain: -inf\n",
      "[LightGBM] [Warning] No further splits with positive gain, best gain: -inf\n",
      "[LightGBM] [Warning] No further splits with positive gain, best gain: -inf\n",
      "[LightGBM] [Warning] No further splits with positive gain, best gain: -inf\n",
      "[LightGBM] [Warning] No further splits with positive gain, best gain: -inf\n",
      "[LightGBM] [Warning] No further splits with positive gain, best gain: -inf\n",
      "[LightGBM] [Warning] No further splits with positive gain, best gain: -inf\n",
      "[LightGBM] [Warning] No further splits with positive gain, best gain: -inf\n",
      "[LightGBM] [Warning] No further splits with positive gain, best gain: -inf\n",
      "[LightGBM] [Warning] No further splits with positive gain, best gain: -inf\n",
      "[LightGBM] [Warning] No further splits with positive gain, best gain: -inf\n",
      "[LightGBM] [Warning] No further splits with positive gain, best gain: -inf\n",
      "[LightGBM] [Warning] No further splits with positive gain, best gain: -inf\n",
      "[LightGBM] [Warning] No further splits with positive gain, best gain: -inf\n",
      "[LightGBM] [Warning] No further splits with positive gain, best gain: -inf\n",
      "[LightGBM] [Warning] No further splits with positive gain, best gain: -inf\n",
      "[LightGBM] [Warning] No further splits with positive gain, best gain: -inf\n",
      "[LightGBM] [Warning] No further splits with positive gain, best gain: -inf\n",
      "[LightGBM] [Warning] No further splits with positive gain, best gain: -inf\n",
      "[LightGBM] [Warning] No further splits with positive gain, best gain: -inf\n",
      "[LightGBM] [Warning] No further splits with positive gain, best gain: -inf\n",
      "[LightGBM] [Warning] No further splits with positive gain, best gain: -inf\n",
      "[LightGBM] [Warning] No further splits with positive gain, best gain: -inf\n",
      "[LightGBM] [Warning] No further splits with positive gain, best gain: -inf\n",
      "[LightGBM] [Warning] No further splits with positive gain, best gain: -inf\n",
      "[LightGBM] [Warning] No further splits with positive gain, best gain: -inf\n",
      "[LightGBM] [Warning] No further splits with positive gain, best gain: -inf\n",
      "[LightGBM] [Warning] No further splits with positive gain, best gain: -inf\n",
      "[LightGBM] [Warning] No further splits with positive gain, best gain: -inf\n",
      "[LightGBM] [Warning] No further splits with positive gain, best gain: -inf\n",
      "[LightGBM] [Warning] No further splits with positive gain, best gain: -inf\n",
      "[LightGBM] [Warning] No further splits with positive gain, best gain: -inf\n",
      "[LightGBM] [Warning] No further splits with positive gain, best gain: -inf\n",
      "[LightGBM] [Warning] No further splits with positive gain, best gain: -inf\n",
      "[LightGBM] [Warning] No further splits with positive gain, best gain: -inf\n",
      "[LightGBM] [Warning] No further splits with positive gain, best gain: -inf\n",
      "[LightGBM] [Warning] No further splits with positive gain, best gain: -inf\n",
      "[LightGBM] [Warning] No further splits with positive gain, best gain: -inf\n",
      "[LightGBM] [Warning] No further splits with positive gain, best gain: -inf\n",
      "[LightGBM] [Warning] No further splits with positive gain, best gain: -inf\n",
      "[LightGBM] [Warning] No further splits with positive gain, best gain: -inf\n",
      "[LightGBM] [Warning] No further splits with positive gain, best gain: -inf\n",
      "[LightGBM] [Warning] No further splits with positive gain, best gain: -inf\n",
      "[LightGBM] [Warning] No further splits with positive gain, best gain: -inf\n",
      "[LightGBM] [Warning] No further splits with positive gain, best gain: -inf\n",
      "[LightGBM] [Warning] No further splits with positive gain, best gain: -inf\n",
      "[LightGBM] [Warning] No further splits with positive gain, best gain: -inf\n",
      "[LightGBM] [Warning] No further splits with positive gain, best gain: -inf\n",
      "[LightGBM] [Warning] No further splits with positive gain, best gain: -inf\n",
      "[LightGBM] [Warning] No further splits with positive gain, best gain: -inf\n",
      "[LightGBM] [Warning] No further splits with positive gain, best gain: -inf\n",
      "[LightGBM] [Warning] No further splits with positive gain, best gain: -inf\n",
      "[LightGBM] [Warning] No further splits with positive gain, best gain: -inf\n",
      "[LightGBM] [Warning] No further splits with positive gain, best gain: -inf\n",
      "[LightGBM] [Warning] No further splits with positive gain, best gain: -inf\n",
      "[LightGBM] [Warning] No further splits with positive gain, best gain: -inf\n",
      "[LightGBM] [Warning] No further splits with positive gain, best gain: -inf\n",
      "[LightGBM] [Warning] No further splits with positive gain, best gain: -inf\n",
      "[LightGBM] [Warning] No further splits with positive gain, best gain: -inf\n",
      "[LightGBM] [Warning] No further splits with positive gain, best gain: -inf\n",
      "[LightGBM] [Warning] No further splits with positive gain, best gain: -inf\n",
      "[LightGBM] [Warning] No further splits with positive gain, best gain: -inf\n",
      "[LightGBM] [Warning] No further splits with positive gain, best gain: -inf\n",
      "[LightGBM] [Warning] No further splits with positive gain, best gain: -inf\n",
      "[LightGBM] [Warning] No further splits with positive gain, best gain: -inf\n",
      "[LightGBM] [Warning] No further splits with positive gain, best gain: -inf\n",
      "[LightGBM] [Warning] No further splits with positive gain, best gain: -inf\n",
      "[LightGBM] [Warning] No further splits with positive gain, best gain: -inf\n",
      "[LightGBM] [Warning] No further splits with positive gain, best gain: -inf\n",
      "[LightGBM] [Warning] No further splits with positive gain, best gain: -inf\n",
      "[LightGBM] [Warning] No further splits with positive gain, best gain: -inf\n",
      "[LightGBM] [Warning] No further splits with positive gain, best gain: -inf\n",
      "[LightGBM] [Warning] No further splits with positive gain, best gain: -inf\n",
      "[LightGBM] [Warning] No further splits with positive gain, best gain: -inf\n",
      "[LightGBM] [Warning] No further splits with positive gain, best gain: -inf\n",
      "[LightGBM] [Warning] No further splits with positive gain, best gain: -inf\n",
      "[LightGBM] [Warning] No further splits with positive gain, best gain: -inf\n",
      "[LightGBM] [Warning] No further splits with positive gain, best gain: -inf\n",
      "[LightGBM] [Warning] No further splits with positive gain, best gain: -inf\n",
      "[LightGBM] [Warning] No further splits with positive gain, best gain: -inf\n",
      "[LightGBM] [Warning] No further splits with positive gain, best gain: -inf\n",
      "[LightGBM] [Warning] No further splits with positive gain, best gain: -inf\n",
      "[LightGBM] [Warning] No further splits with positive gain, best gain: -inf\n",
      "[LightGBM] [Warning] No further splits with positive gain, best gain: -inf\n",
      "[LightGBM] [Warning] No further splits with positive gain, best gain: -inf\n",
      "[LightGBM] [Warning] No further splits with positive gain, best gain: -inf\n",
      "[LightGBM] [Warning] No further splits with positive gain, best gain: -inf\n",
      "[LightGBM] [Warning] No further splits with positive gain, best gain: -inf\n",
      "[LightGBM] [Warning] No further splits with positive gain, best gain: -inf\n",
      "[LightGBM] [Warning] No further splits with positive gain, best gain: -inf\n",
      "[LightGBM] [Warning] No further splits with positive gain, best gain: -inf\n",
      "[LightGBM] [Warning] No further splits with positive gain, best gain: -inf\n",
      "[LightGBM] [Warning] No further splits with positive gain, best gain: -inf\n",
      "[LightGBM] [Warning] No further splits with positive gain, best gain: -inf\n",
      "[LightGBM] [Warning] No further splits with positive gain, best gain: -inf\n",
      "[LightGBM] [Warning] No further splits with positive gain, best gain: -inf\n",
      "[LightGBM] [Warning] No further splits with positive gain, best gain: -inf\n",
      "[LightGBM] [Warning] No further splits with positive gain, best gain: -inf\n",
      "[LightGBM] [Warning] No further splits with positive gain, best gain: -inf\n",
      "[LightGBM] [Warning] No further splits with positive gain, best gain: -inf\n",
      "[LightGBM] [Warning] No further splits with positive gain, best gain: -inf\n",
      "[LightGBM] [Warning] No further splits with positive gain, best gain: -inf\n",
      "[LightGBM] [Warning] No further splits with positive gain, best gain: -inf\n",
      "[LightGBM] [Warning] No further splits with positive gain, best gain: -inf\n",
      "[LightGBM] [Warning] No further splits with positive gain, best gain: -inf\n",
      "[LightGBM] [Warning] No further splits with positive gain, best gain: -inf\n",
      "[LightGBM] [Warning] No further splits with positive gain, best gain: -inf\n",
      "[LightGBM] [Warning] No further splits with positive gain, best gain: -inf\n",
      "[LightGBM] [Warning] No further splits with positive gain, best gain: -inf\n",
      "[LightGBM] [Warning] No further splits with positive gain, best gain: -inf\n",
      "[LightGBM] [Warning] No further splits with positive gain, best gain: -inf\n",
      "[LightGBM] [Warning] No further splits with positive gain, best gain: -inf\n",
      "[LightGBM] [Warning] No further splits with positive gain, best gain: -inf\n",
      "[LightGBM] [Warning] No further splits with positive gain, best gain: -inf\n",
      "[LightGBM] [Warning] No further splits with positive gain, best gain: -inf\n",
      "[LightGBM] [Warning] No further splits with positive gain, best gain: -inf\n",
      "[LightGBM] [Warning] No further splits with positive gain, best gain: -inf\n",
      "[LightGBM] [Warning] No further splits with positive gain, best gain: -inf\n",
      "[LightGBM] [Warning] No further splits with positive gain, best gain: -inf\n",
      "[LightGBM] [Warning] No further splits with positive gain, best gain: -inf\n",
      "[LightGBM] [Warning] No further splits with positive gain, best gain: -inf\n",
      "[LightGBM] [Warning] No further splits with positive gain, best gain: -inf\n",
      "[LightGBM] [Warning] No further splits with positive gain, best gain: -inf\n",
      "[LightGBM] [Warning] No further splits with positive gain, best gain: -inf\n",
      "[LightGBM] [Warning] No further splits with positive gain, best gain: -inf\n",
      "[LightGBM] [Warning] No further splits with positive gain, best gain: -inf\n",
      "[LightGBM] [Warning] No further splits with positive gain, best gain: -inf\n",
      "[LightGBM] [Warning] No further splits with positive gain, best gain: -inf\n",
      "[LightGBM] [Warning] No further splits with positive gain, best gain: -inf\n",
      "[LightGBM] [Warning] No further splits with positive gain, best gain: -inf\n",
      "[LightGBM] [Warning] No further splits with positive gain, best gain: -inf\n",
      "[LightGBM] [Warning] No further splits with positive gain, best gain: -inf\n",
      "[LightGBM] [Warning] No further splits with positive gain, best gain: -inf\n",
      "[LightGBM] [Warning] No further splits with positive gain, best gain: -inf\n",
      "[LightGBM] [Warning] No further splits with positive gain, best gain: -inf\n",
      "[LightGBM] [Warning] No further splits with positive gain, best gain: -inf\n",
      "[LightGBM] [Warning] No further splits with positive gain, best gain: -inf\n",
      "[LightGBM] [Warning] No further splits with positive gain, best gain: -inf\n",
      "[LightGBM] [Warning] No further splits with positive gain, best gain: -inf\n",
      "[LightGBM] [Warning] No further splits with positive gain, best gain: -inf\n",
      "[LightGBM] [Warning] No further splits with positive gain, best gain: -inf\n",
      "[LightGBM] [Warning] No further splits with positive gain, best gain: -inf\n",
      "[LightGBM] [Warning] No further splits with positive gain, best gain: -inf\n",
      "[LightGBM] [Warning] No further splits with positive gain, best gain: -inf\n",
      "[LightGBM] [Warning] No further splits with positive gain, best gain: -inf\n",
      "[LightGBM] [Warning] No further splits with positive gain, best gain: -inf\n",
      "[LightGBM] [Warning] No further splits with positive gain, best gain: -inf\n",
      "[LightGBM] [Warning] No further splits with positive gain, best gain: -inf\n",
      "[LightGBM] [Warning] No further splits with positive gain, best gain: -inf\n",
      "[LightGBM] [Warning] No further splits with positive gain, best gain: -inf\n",
      "[LightGBM] [Warning] No further splits with positive gain, best gain: -inf\n",
      "[LightGBM] [Warning] No further splits with positive gain, best gain: -inf\n",
      "[LightGBM] [Warning] No further splits with positive gain, best gain: -inf\n",
      "[LightGBM] [Warning] No further splits with positive gain, best gain: -inf\n",
      "[LightGBM] [Warning] No further splits with positive gain, best gain: -inf\n",
      "[LightGBM] [Warning] No further splits with positive gain, best gain: -inf\n",
      "[LightGBM] [Warning] No further splits with positive gain, best gain: -inf\n",
      "[LightGBM] [Warning] No further splits with positive gain, best gain: -inf\n",
      "[LightGBM] [Warning] No further splits with positive gain, best gain: -inf\n",
      "[LightGBM] [Warning] No further splits with positive gain, best gain: -inf\n",
      "[LightGBM] [Warning] No further splits with positive gain, best gain: -inf\n",
      "[LightGBM] [Warning] No further splits with positive gain, best gain: -inf\n",
      "[LightGBM] [Warning] No further splits with positive gain, best gain: -inf\n",
      "[LightGBM] [Warning] No further splits with positive gain, best gain: -inf\n",
      "[LightGBM] [Warning] No further splits with positive gain, best gain: -inf\n",
      "[LightGBM] [Warning] No further splits with positive gain, best gain: -inf\n",
      "[LightGBM] [Warning] No further splits with positive gain, best gain: -inf\n",
      "[LightGBM] [Warning] No further splits with positive gain, best gain: -inf\n",
      "[LightGBM] [Warning] No further splits with positive gain, best gain: -inf\n",
      "[LightGBM] [Warning] No further splits with positive gain, best gain: -inf\n",
      "[LightGBM] [Warning] No further splits with positive gain, best gain: -inf\n",
      "[LightGBM] [Warning] No further splits with positive gain, best gain: -inf\n",
      "[LightGBM] [Warning] No further splits with positive gain, best gain: -inf\n",
      "[LightGBM] [Warning] No further splits with positive gain, best gain: -inf\n",
      "[LightGBM] [Warning] No further splits with positive gain, best gain: -inf\n",
      "[LightGBM] [Warning] No further splits with positive gain, best gain: -inf\n",
      "[LightGBM] [Warning] No further splits with positive gain, best gain: -inf\n",
      "[LightGBM] [Warning] No further splits with positive gain, best gain: -inf\n",
      "[LightGBM] [Warning] No further splits with positive gain, best gain: -inf\n",
      "[LightGBM] [Warning] No further splits with positive gain, best gain: -inf\n",
      "[LightGBM] [Warning] No further splits with positive gain, best gain: -inf\n",
      "[LightGBM] [Warning] No further splits with positive gain, best gain: -inf\n",
      "[LightGBM] [Warning] No further splits with positive gain, best gain: -inf\n",
      "[LightGBM] [Warning] No further splits with positive gain, best gain: -inf\n",
      "[LightGBM] [Warning] No further splits with positive gain, best gain: -inf\n",
      "[LightGBM] [Warning] No further splits with positive gain, best gain: -inf\n",
      "[LightGBM] [Warning] No further splits with positive gain, best gain: -inf\n",
      "[LightGBM] [Warning] No further splits with positive gain, best gain: -inf\n",
      "[LightGBM] [Warning] No further splits with positive gain, best gain: -inf\n",
      "[LightGBM] [Warning] No further splits with positive gain, best gain: -inf\n",
      "[LightGBM] [Warning] No further splits with positive gain, best gain: -inf\n",
      "[LightGBM] [Warning] No further splits with positive gain, best gain: -inf\n",
      "[LightGBM] [Warning] No further splits with positive gain, best gain: -inf\n",
      "[LightGBM] [Warning] No further splits with positive gain, best gain: -inf\n",
      "[LightGBM] [Warning] No further splits with positive gain, best gain: -inf\n",
      "[LightGBM] [Warning] No further splits with positive gain, best gain: -inf\n",
      "[LightGBM] [Warning] No further splits with positive gain, best gain: -inf\n",
      "[LightGBM] [Warning] No further splits with positive gain, best gain: -inf\n",
      "[LightGBM] [Warning] No further splits with positive gain, best gain: -inf\n",
      "[LightGBM] [Warning] No further splits with positive gain, best gain: -inf\n",
      "[LightGBM] [Warning] No further splits with positive gain, best gain: -inf\n",
      "[LightGBM] [Warning] No further splits with positive gain, best gain: -inf\n",
      "[LightGBM] [Warning] No further splits with positive gain, best gain: -inf\n",
      "[LightGBM] [Warning] No further splits with positive gain, best gain: -inf\n",
      "[LightGBM] [Warning] No further splits with positive gain, best gain: -inf\n",
      "[LightGBM] [Warning] No further splits with positive gain, best gain: -inf\n",
      "[LightGBM] [Warning] No further splits with positive gain, best gain: -inf\n",
      "[LightGBM] [Warning] No further splits with positive gain, best gain: -inf\n",
      "[LightGBM] [Warning] No further splits with positive gain, best gain: -inf\n",
      "[LightGBM] [Warning] No further splits with positive gain, best gain: -inf\n",
      "[LightGBM] [Warning] No further splits with positive gain, best gain: -inf\n",
      "[LightGBM] [Warning] No further splits with positive gain, best gain: -inf\n",
      "Mejores parámetros: {'learning_rate': np.float64(0.9476322568516703), 'max_depth': 21, 'n_estimators': 745, 'random_state': 200, 'subsample': np.float64(0.42830868492969476)}\n",
      "CPU times: total: 5.83 s\n",
      "Wall time: 28.8 s\n"
     ]
    },
    {
     "data": {
      "text/html": [
       "<div>\n",
       "<style scoped>\n",
       "    .dataframe tbody tr th:only-of-type {\n",
       "        vertical-align: middle;\n",
       "    }\n",
       "\n",
       "    .dataframe tbody tr th {\n",
       "        vertical-align: top;\n",
       "    }\n",
       "\n",
       "    .dataframe thead th {\n",
       "        text-align: right;\n",
       "    }\n",
       "</style>\n",
       "<table border=\"1\" class=\"dataframe\">\n",
       "  <thead>\n",
       "    <tr style=\"text-align: right;\">\n",
       "      <th></th>\n",
       "      <th>Modelo</th>\n",
       "      <th>AUC-ROC Entrenamiento</th>\n",
       "      <th>AUC-ROC Prueba</th>\n",
       "      <th>F1-Score Entrenamiento</th>\n",
       "      <th>F1-Score Prueba</th>\n",
       "      <th>Accuracy Entrenamiento</th>\n",
       "      <th>Accuracy Prueba</th>\n",
       "    </tr>\n",
       "  </thead>\n",
       "  <tbody>\n",
       "    <tr>\n",
       "      <th>0</th>\n",
       "      <td>LightGBM Classifier</td>\n",
       "      <td>1.0</td>\n",
       "      <td>0.942806</td>\n",
       "      <td>1.0</td>\n",
       "      <td>0.809917</td>\n",
       "      <td>1.0</td>\n",
       "      <td>0.901919</td>\n",
       "    </tr>\n",
       "  </tbody>\n",
       "</table>\n",
       "</div>"
      ],
      "text/plain": [
       "                Modelo  AUC-ROC Entrenamiento  AUC-ROC Prueba  \\\n",
       "0  LightGBM Classifier                    1.0        0.942806   \n",
       "\n",
       "   F1-Score Entrenamiento  F1-Score Prueba  Accuracy Entrenamiento  \\\n",
       "0                     1.0         0.809917                     1.0   \n",
       "\n",
       "   Accuracy Prueba  \n",
       "0         0.901919  "
      ]
     },
     "execution_count": 74,
     "metadata": {},
     "output_type": "execute_result"
    }
   ],
   "source": [
    "\n",
    "%%time\n",
    "\n",
    "lgbmc_hyper_tuning = LGBMClassifier()\n",
    "param_distributions = {'max_depth'    : sp_randInt(5, 50),    \n",
    "                       'n_estimators' : sp_randInt(50, 800),    \n",
    "                       'learning_rate': sp_randFloat(),    \n",
    "                       'subsample'    : sp_randFloat(),\n",
    "                       'random_state' : [seed]}\n",
    "\n",
    "lgbmc_hyper_tuning_score = hyperparam_tuning_calcule_metrics(lgbmc_hyper_tuning, param_distributions, features_train, target_train, features_test, target_test, 'LightGBM Classifier')\n",
    "\n",
    "lgbmc_hyper_tuning_score"
   ]
  },
  {
   "cell_type": "markdown",
   "id": "712f6da6",
   "metadata": {},
   "source": [
    "Al igual que el modelo anterior, LightGBM Classifier, alcanza el puntaje perfecto con el conjunto de entrenamiento, pero al exponerlo al conjunto de prueba su rendimiento no es superior al de XGBoost Classifier."
   ]
  },
  {
   "cell_type": "markdown",
   "id": "a8da9088",
   "metadata": {},
   "source": [
    "#### **4.2.7 CatBoost Classifier**"
   ]
  },
  {
   "cell_type": "code",
   "execution_count": 75,
   "id": "2fcf7a20",
   "metadata": {},
   "outputs": [
    {
     "name": "stdout",
     "output_type": "stream",
     "text": [
      "Learning rate set to 0.025408\n",
      "0:\tlearn: 0.6782392\ttotal: 136ms\tremaining: 2m 15s\n",
      "500:\tlearn: 0.2382230\ttotal: 3.04s\tremaining: 3.02s\n",
      "999:\tlearn: 0.1689118\ttotal: 6.06s\tremaining: 0us\n",
      "Learning rate set to 0.023098\n",
      "0:\tlearn: 0.6779783\ttotal: 5.35ms\tremaining: 5.34s\n",
      "500:\tlearn: 0.2073942\ttotal: 2.68s\tremaining: 2.67s\n",
      "999:\tlearn: 0.1364192\ttotal: 5.43s\tremaining: 0us\n",
      "Learning rate set to 0.023098\n",
      "0:\tlearn: 0.6790943\ttotal: 5.72ms\tremaining: 5.72s\n",
      "500:\tlearn: 0.2276874\ttotal: 2.72s\tremaining: 2.71s\n",
      "999:\tlearn: 0.1555485\ttotal: 5.43s\tremaining: 0us\n",
      "Learning rate set to 0.0231\n",
      "0:\tlearn: 0.6800642\ttotal: 6.61ms\tremaining: 6.6s\n",
      "500:\tlearn: 0.2681701\ttotal: 3.1s\tremaining: 3.08s\n",
      "999:\tlearn: 0.1913382\ttotal: 6.09s\tremaining: 0us\n",
      "Learning rate set to 0.0231\n",
      "0:\tlearn: 0.6800966\ttotal: 6.24ms\tremaining: 6.23s\n",
      "500:\tlearn: 0.2665488\ttotal: 2.73s\tremaining: 2.72s\n",
      "999:\tlearn: 0.1908171\ttotal: 5.61s\tremaining: 0us\n",
      "Learning rate set to 0.0231\n",
      "0:\tlearn: 0.6802394\ttotal: 7.9ms\tremaining: 7.89s\n",
      "500:\tlearn: 0.2654858\ttotal: 2.65s\tremaining: 2.64s\n",
      "999:\tlearn: 0.1905686\ttotal: 5.26s\tremaining: 0us\n",
      "CPU times: total: 3min 41s\n",
      "Wall time: 38.4 s\n"
     ]
    },
    {
     "data": {
      "text/html": [
       "<div>\n",
       "<style scoped>\n",
       "    .dataframe tbody tr th:only-of-type {\n",
       "        vertical-align: middle;\n",
       "    }\n",
       "\n",
       "    .dataframe tbody tr th {\n",
       "        vertical-align: top;\n",
       "    }\n",
       "\n",
       "    .dataframe thead th {\n",
       "        text-align: right;\n",
       "    }\n",
       "</style>\n",
       "<table border=\"1\" class=\"dataframe\">\n",
       "  <thead>\n",
       "    <tr style=\"text-align: right;\">\n",
       "      <th></th>\n",
       "      <th>Modelo</th>\n",
       "      <th>AUC-ROC Entrenamiento</th>\n",
       "      <th>AUC-ROC Prueba</th>\n",
       "      <th>F1-Score Entrenamiento</th>\n",
       "      <th>F1-Score Prueba</th>\n",
       "      <th>Accuracy Entrenamiento</th>\n",
       "      <th>Accuracy Prueba</th>\n",
       "    </tr>\n",
       "  </thead>\n",
       "  <tbody>\n",
       "    <tr>\n",
       "      <th>0</th>\n",
       "      <td>CatBoost Classifier</td>\n",
       "      <td>0.963584</td>\n",
       "      <td>0.839646</td>\n",
       "      <td>0.948413</td>\n",
       "      <td>0.78069</td>\n",
       "      <td>0.949167</td>\n",
       "      <td>0.886994</td>\n",
       "    </tr>\n",
       "  </tbody>\n",
       "</table>\n",
       "</div>"
      ],
      "text/plain": [
       "                Modelo  AUC-ROC Entrenamiento  AUC-ROC Prueba  \\\n",
       "0  CatBoost Classifier               0.963584        0.839646   \n",
       "\n",
       "   F1-Score Entrenamiento  F1-Score Prueba  Accuracy Entrenamiento  \\\n",
       "0                0.948413          0.78069                0.949167   \n",
       "\n",
       "   Accuracy Prueba  \n",
       "0         0.886994  "
      ]
     },
     "execution_count": 75,
     "metadata": {},
     "output_type": "execute_result"
    }
   ],
   "source": [
    "%%time\n",
    "\n",
    "cbc = CatBoostClassifier(verbose=500).fit(features_train, target_train)\n",
    "cbc_score = calculate_metrics(cbc, features_train, target_train, features_test, target_test, 'CatBoost Classifier')\n",
    "\n",
    "cbc_score"
   ]
  },
  {
   "cell_type": "code",
   "execution_count": 76,
   "id": "d82d8e18",
   "metadata": {},
   "outputs": [
    {
     "name": "stdout",
     "output_type": "stream",
     "text": [
      "0:\tlearn: 0.5317351\ttotal: 7.41ms\tremaining: 3.54s\n",
      "478:\tlearn: 0.0288707\ttotal: 2.34s\tremaining: 0us\n",
      "Mejores parámetros: {'learning_rate': np.float64(0.5173522229752766), 'max_depth': 5, 'n_estimators': 479, 'random_state': 200, 'subsample': np.float64(0.5183251337455184)}\n",
      "CPU times: total: 22.9 s\n",
      "Wall time: 9min 58s\n"
     ]
    },
    {
     "data": {
      "text/html": [
       "<div>\n",
       "<style scoped>\n",
       "    .dataframe tbody tr th:only-of-type {\n",
       "        vertical-align: middle;\n",
       "    }\n",
       "\n",
       "    .dataframe tbody tr th {\n",
       "        vertical-align: top;\n",
       "    }\n",
       "\n",
       "    .dataframe thead th {\n",
       "        text-align: right;\n",
       "    }\n",
       "</style>\n",
       "<table border=\"1\" class=\"dataframe\">\n",
       "  <thead>\n",
       "    <tr style=\"text-align: right;\">\n",
       "      <th></th>\n",
       "      <th>Modelo</th>\n",
       "      <th>AUC-ROC Entrenamiento</th>\n",
       "      <th>AUC-ROC Prueba</th>\n",
       "      <th>F1-Score Entrenamiento</th>\n",
       "      <th>F1-Score Prueba</th>\n",
       "      <th>Accuracy Entrenamiento</th>\n",
       "      <th>Accuracy Prueba</th>\n",
       "    </tr>\n",
       "  </thead>\n",
       "  <tbody>\n",
       "    <tr>\n",
       "      <th>0</th>\n",
       "      <td>CatBoost Classifier</td>\n",
       "      <td>0.99999</td>\n",
       "      <td>0.946387</td>\n",
       "      <td>0.999276</td>\n",
       "      <td>0.822888</td>\n",
       "      <td>0.999276</td>\n",
       "      <td>0.907605</td>\n",
       "    </tr>\n",
       "  </tbody>\n",
       "</table>\n",
       "</div>"
      ],
      "text/plain": [
       "                Modelo  AUC-ROC Entrenamiento  AUC-ROC Prueba  \\\n",
       "0  CatBoost Classifier                0.99999        0.946387   \n",
       "\n",
       "   F1-Score Entrenamiento  F1-Score Prueba  Accuracy Entrenamiento  \\\n",
       "0                0.999276         0.822888                0.999276   \n",
       "\n",
       "   Accuracy Prueba  \n",
       "0         0.907605  "
      ]
     },
     "execution_count": 76,
     "metadata": {},
     "output_type": "execute_result"
    }
   ],
   "source": [
    "%%time\n",
    "\n",
    "cbc_hyper_tuning = CatBoostClassifier(verbose=500)\n",
    "\n",
    "param_distributions = {'max_depth'    : sp_randInt(5, 15),    \n",
    "                       'n_estimators' : sp_randInt(50, 500),    \n",
    "                       'learning_rate': sp_randFloat(),    \n",
    "                       'subsample'    : sp_randFloat(),\n",
    "                       'random_state' : [seed]}\n",
    "\n",
    "cbc_hyper_tuning_score = hyperparam_tuning_calcule_metrics(cbc_hyper_tuning, param_distributions, features_train, target_train, features_test, target_test, 'CatBoost Classifier')\n",
    "\n",
    "cbc_hyper_tuning_score"
   ]
  },
  {
   "cell_type": "markdown",
   "id": "03a26d28",
   "metadata": {},
   "source": [
    "El modelo CatBoost Classifier, tambien tiene un desempeño competitivo, ya que con todas las métricas esta alrededor del valor 1, con los datos de entrenamiento y luego de ajustar hiperparámetros. La puntuación obtenida con el conjunto de prueba es destacadamente alto, lo que indica que el modelo generaliza bien los datos nuevos."
   ]
  },
  {
   "cell_type": "markdown",
   "id": "b5790c08",
   "metadata": {},
   "source": [
    "### **4.3 Conclusión del capítulo**"
   ]
  },
  {
   "cell_type": "markdown",
   "id": "3ff806a3",
   "metadata": {},
   "source": [
    "Finalmente, se llevo a cabo el entrenamiento y prueba de varios modelos, donde la mayoría a obtenido puntuaciones bastante altas, alcanzando el valor 1 con el conjunto de entrenamiento, especificamente los modelos que tenian ajuste de hiperparámetros, aun asi, es importante señalar que alcanzar un rendimiento perfecto con los datos de entrenamiento no garantiza un desempeño perfectos con los datos de prueba o datos no vistos.\n",
    "\n",
    "Los puntajes son alentadores, pero se debe considerar precavidamente el potencial de sobreajuste de los modelos, sobre todo en los modelos con puntaje perfecto en los conjuntos de entrenamiento. Para la selección del modelo final, es esencial priorizar el rendimiento en el conjunto de prueba, que es un mejor indicador de como el modelo procesa y generaliza los datos nuevos.\n",
    "\n",
    "A continuación, se muestra un resumen de los puntajes obtenidos para las tres métricas: AUC-ROC, F1-Score y Accuracy."
   ]
  },
  {
   "cell_type": "code",
   "execution_count": 77,
   "id": "c6ce102e",
   "metadata": {},
   "outputs": [
    {
     "data": {
      "text/html": [
       "<div>\n",
       "<style scoped>\n",
       "    .dataframe tbody tr th:only-of-type {\n",
       "        vertical-align: middle;\n",
       "    }\n",
       "\n",
       "    .dataframe tbody tr th {\n",
       "        vertical-align: top;\n",
       "    }\n",
       "\n",
       "    .dataframe thead th {\n",
       "        text-align: right;\n",
       "    }\n",
       "</style>\n",
       "<table border=\"1\" class=\"dataframe\">\n",
       "  <thead>\n",
       "    <tr style=\"text-align: right;\">\n",
       "      <th></th>\n",
       "      <th>Modelo</th>\n",
       "      <th>AUC-ROC Entrenamiento</th>\n",
       "      <th>AUC-ROC Prueba</th>\n",
       "      <th>F1-Score Entrenamiento</th>\n",
       "      <th>F1-Score Prueba</th>\n",
       "      <th>Accuracy Entrenamiento</th>\n",
       "      <th>Accuracy Prueba</th>\n",
       "    </tr>\n",
       "  </thead>\n",
       "  <tbody>\n",
       "    <tr>\n",
       "      <th>0</th>\n",
       "      <td>Logistic Regression</td>\n",
       "      <td>0.874478</td>\n",
       "      <td>0.853061</td>\n",
       "      <td>0.802647</td>\n",
       "      <td>0.644295</td>\n",
       "      <td>0.794736</td>\n",
       "      <td>0.773987</td>\n",
       "    </tr>\n",
       "    <tr>\n",
       "      <th>1</th>\n",
       "      <td>Decision Tree Classifier</td>\n",
       "      <td>0.941080</td>\n",
       "      <td>0.862136</td>\n",
       "      <td>0.854805</td>\n",
       "      <td>0.651220</td>\n",
       "      <td>0.856436</td>\n",
       "      <td>0.796731</td>\n",
       "    </tr>\n",
       "    <tr>\n",
       "      <th>2</th>\n",
       "      <td>Random Forest Classifier</td>\n",
       "      <td>1.000000</td>\n",
       "      <td>0.892126</td>\n",
       "      <td>0.999758</td>\n",
       "      <td>0.701370</td>\n",
       "      <td>0.999759</td>\n",
       "      <td>0.845060</td>\n",
       "    </tr>\n",
       "    <tr>\n",
       "      <th>3</th>\n",
       "      <td>XGBoost Classifier</td>\n",
       "      <td>1.000000</td>\n",
       "      <td>0.943010</td>\n",
       "      <td>0.999879</td>\n",
       "      <td>0.825789</td>\n",
       "      <td>0.999879</td>\n",
       "      <td>0.909737</td>\n",
       "    </tr>\n",
       "    <tr>\n",
       "      <th>4</th>\n",
       "      <td>LightGBM Classifier</td>\n",
       "      <td>1.000000</td>\n",
       "      <td>0.942806</td>\n",
       "      <td>1.000000</td>\n",
       "      <td>0.809917</td>\n",
       "      <td>1.000000</td>\n",
       "      <td>0.901919</td>\n",
       "    </tr>\n",
       "    <tr>\n",
       "      <th>5</th>\n",
       "      <td>CatBoost Classifier</td>\n",
       "      <td>0.999990</td>\n",
       "      <td>0.946387</td>\n",
       "      <td>0.999276</td>\n",
       "      <td>0.822888</td>\n",
       "      <td>0.999276</td>\n",
       "      <td>0.907605</td>\n",
       "    </tr>\n",
       "  </tbody>\n",
       "</table>\n",
       "</div>"
      ],
      "text/plain": [
       "                     Modelo  AUC-ROC Entrenamiento  AUC-ROC Prueba  \\\n",
       "0       Logistic Regression               0.874478        0.853061   \n",
       "1  Decision Tree Classifier               0.941080        0.862136   \n",
       "2  Random Forest Classifier               1.000000        0.892126   \n",
       "3        XGBoost Classifier               1.000000        0.943010   \n",
       "4       LightGBM Classifier               1.000000        0.942806   \n",
       "5       CatBoost Classifier               0.999990        0.946387   \n",
       "\n",
       "   F1-Score Entrenamiento  F1-Score Prueba  Accuracy Entrenamiento  \\\n",
       "0                0.802647         0.644295                0.794736   \n",
       "1                0.854805         0.651220                0.856436   \n",
       "2                0.999758         0.701370                0.999759   \n",
       "3                0.999879         0.825789                0.999879   \n",
       "4                1.000000         0.809917                1.000000   \n",
       "5                0.999276         0.822888                0.999276   \n",
       "\n",
       "   Accuracy Prueba  \n",
       "0         0.773987  \n",
       "1         0.796731  \n",
       "2         0.845060  \n",
       "3         0.909737  \n",
       "4         0.901919  \n",
       "5         0.907605  "
      ]
     },
     "execution_count": 77,
     "metadata": {},
     "output_type": "execute_result"
    }
   ],
   "source": [
    "# Dataframe con los resultados obtenidos de los diferentes modelos\n",
    "\n",
    "combined_scores = pd.concat([lr_hyper_tuning_score, dtc_hyper_tuning_score, rfc_hyper_tuning_score, xgbc_hyper_tuning_score, lgbmc_hyper_tuning_score, cbc_hyper_tuning_score], ignore_index=True)\n",
    "\n",
    "combined_scores"
   ]
  },
  {
   "cell_type": "markdown",
   "id": "b24e0e86",
   "metadata": {},
   "source": [
    "## **5. Conclusión general**"
   ]
  },
  {
   "cell_type": "markdown",
   "id": "9b17317f",
   "metadata": {},
   "source": [
    "En este proyecto, luego de diversas etapas, como el preprocesamiento, el analisis exploratorio, la selección e ingeniería de características y la codificación de datos, se fraccionaron los datos en conjuntos de entrenamiento y prueba, a los cuales, se les  tuvo que escalar las variables númericas con valores de rangos amplios y finalmente el balance de las clases de la variable objetivo, al implementar la técnica 'SMOTENC', todo esto, con el objetivo de tener un proceso de modelado efectivo.\n",
    "\n",
    "Los modelos ha usar en el proyecto, fueron entrenados y probados sin ajuste de hiperparámetros, los cuales alcanzaron altas puntuaciones sin modificaciones. Sin embargo, los modelos más complejos como **XGBoost Classifier**, **LightGBM Classifier** y **CatBoost Classifier** evidenciaron un rendimiento superior, obteniendo puntaciones perfectas en los conjuntos de entrenamiento, en las tres métricas, tras el ajuste de los hiperparámetros.\n",
    "\n",
    "El modelo **XGBoost Classifier**, entrenado y con ajuste de hiperparámetros, destaca como el modelo con mejor rendimiento entre todos. Su destacado puntaje en **AUC-ROC** de **0.9430**, en **F1-Score** de **0.8257(mejor puntuación)** y en **Accuracy** de **0.9097(mejor puntuación)** con el conjunto de prueba, lo manifiesta ser altamente efectivo para predecir el riesgo de fuga de los clientes.\n",
    "\n",
    "El modelo **CatBoost Classifier** tambien demostró un desempeño robusto, al obtener una puntuación en AUC-ROC ligeramente mayor en el conjunto de prueba comparado con **XGBoost Classifier**, pero descompensado por un F1-Score y Accuracy ligeramente inferior.\n",
    "\n",
    "Finalmente, ambos modelos revelan extraordinarias capacidades predictivas y pueden ser valorados como los candidatos primordiales para la selección final del modelo recomendado para predecir el riesgo de deserción de los clientes. Sus altas puntuaciones tanto en AUC-ROC, como en F1-Score y Accuracy, los convierten en herramientas sumamente valiosas para Interconnect a la hora de identificar clientes con alto riesgo de abandonar el servicio de la compañia, lo que les permite diseñar y promover estrategias especificas para aumentar la retención de clientes valiosos. "
   ]
  }
 ],
 "metadata": {
  "kernelspec": {
   "display_name": ".venv",
   "language": "python",
   "name": "python3"
  },
  "language_info": {
   "codemirror_mode": {
    "name": "ipython",
    "version": 3
   },
   "file_extension": ".py",
   "mimetype": "text/x-python",
   "name": "python",
   "nbconvert_exporter": "python",
   "pygments_lexer": "ipython3",
   "version": "3.13.1"
  }
 },
 "nbformat": 4,
 "nbformat_minor": 5
}
